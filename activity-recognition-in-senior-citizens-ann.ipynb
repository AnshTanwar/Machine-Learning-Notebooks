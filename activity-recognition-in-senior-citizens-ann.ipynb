{
 "cells": [
  {
   "cell_type": "markdown",
   "id": "983fc90f",
   "metadata": {
    "papermill": {
     "duration": 0.009001,
     "end_time": "2023-07-08T22:20:18.444905",
     "exception": false,
     "start_time": "2023-07-08T22:20:18.435904",
     "status": "completed"
    },
    "tags": []
   },
   "source": [
    "<div style=\"background-color:#fff1cc; padding: 20px;\">\n",
    "<h1 style=\" text-align:center; font-size:40px;\">Activity Recognition in Senior Citizens🧓👴👵</h1>\n",
    "</div>\n",
    "\n",
    "<p style=\"text-align:center; \">\n",
    "<img src=\"https://srcarecenter.com/wp-content/uploads/htypes.jpg\" style='width: 1200px;height: 400px;'>\n",
    "</p>\n"
   ]
  },
  {
   "cell_type": "markdown",
   "id": "c73880c7",
   "metadata": {
    "papermill": {
     "duration": 0.008545,
     "end_time": "2023-07-08T22:20:18.462255",
     "exception": false,
     "start_time": "2023-07-08T22:20:18.453710",
     "status": "completed"
    },
    "tags": []
   },
   "source": [
    "# Thanks for Visting this notebook and Using this dataset!😊\n",
    "<div class=\"alert alert-block alert-info\" style=\"font-size:20px; font-family:verdana;\">\n",
    "    In this notebook I have used basic ANNs to provide a baseline model and did their hyperparameter tuning.Feel free to fork or edit the notebook.If you liked the notebook and Dataset, consider upvoting them. It helps other people discover them.\n",
    "</div>\n",
    "\n",
    "**❗Make sure to run the cells from top to bottom with a GPU accelerator.**"
   ]
  },
  {
   "cell_type": "markdown",
   "id": "3727c8d5",
   "metadata": {
    "papermill": {
     "duration": 0.00825,
     "end_time": "2023-07-08T22:20:18.478970",
     "exception": false,
     "start_time": "2023-07-08T22:20:18.470720",
     "status": "completed"
    },
    "tags": []
   },
   "source": [
    "# About The Data\n",
    "<div style=\"background-color:#fff1cc; padding: 20px;\">\n",
    "The HAR70+ dataset contains recordings of 18 older adult participants wearing two 3-axial Axivity AX3 accelerometers for around 40 minutes in a semi-structured free-living setting. The participants' age was between 70 and 95 years. Five of the 18 subjects used walking aids during data recording. One sensor was attached to the right front thigh and the other to the lower back. The provided sampling rate is 50Hz. Video recordings of a chest-mounted camera were used to annotate the performed activities frame-by-frame.\n",
    "\n",
    "**Each subject's recordings are provided in a separate .csv file. One such .csv file contains the following columns:**\n",
    "\n",
    "timestamp: date and time of recorded sample\n",
    "> back_x: acceleration of back sensor in x-direction (down) in the unit g\n",
    "back_y: acceleration of back sensor in y-direction (left) in the unit g\n",
    "back_z: acceleration of back sensor in z-direction (forward) in the unit g\n",
    "thigh_x: acceleration of thigh sensor in x-direction (down) in the unit g\n",
    "thigh_y: acceleration of thigh sensor in y-direction (right) in the unit g\n",
    "thigh_z: acceleration of thigh sensor in z-direction (backward) in the unit g\n",
    "label: annotated activity code\n",
    "</div>"
   ]
  },
  {
   "cell_type": "markdown",
   "id": "ddcf5d3e",
   "metadata": {
    "papermill": {
     "duration": 0.007815,
     "end_time": "2023-07-08T22:20:18.494739",
     "exception": false,
     "start_time": "2023-07-08T22:20:18.486924",
     "status": "completed"
    },
    "tags": []
   },
   "source": [
    "## 📩 Importing The Modules"
   ]
  },
  {
   "cell_type": "code",
   "execution_count": 1,
   "id": "124af2c8",
   "metadata": {
    "execution": {
     "iopub.execute_input": "2023-07-08T22:20:18.513477Z",
     "iopub.status.busy": "2023-07-08T22:20:18.512722Z",
     "iopub.status.idle": "2023-07-08T22:20:28.788338Z",
     "shell.execute_reply": "2023-07-08T22:20:28.787217Z"
    },
    "papermill": {
     "duration": 10.287595,
     "end_time": "2023-07-08T22:20:28.790700",
     "exception": false,
     "start_time": "2023-07-08T22:20:18.503105",
     "status": "completed"
    },
    "tags": []
   },
   "outputs": [
    {
     "name": "stderr",
     "output_type": "stream",
     "text": [
      "/opt/conda/lib/python3.10/site-packages/tensorflow_io/python/ops/__init__.py:98: UserWarning: unable to load libtensorflow_io_plugins.so: unable to open file: libtensorflow_io_plugins.so, from paths: ['/opt/conda/lib/python3.10/site-packages/tensorflow_io/python/ops/libtensorflow_io_plugins.so']\n",
      "caused by: ['/opt/conda/lib/python3.10/site-packages/tensorflow_io/python/ops/libtensorflow_io_plugins.so: undefined symbol: _ZN3tsl6StatusC1EN10tensorflow5error4CodeESt17basic_string_viewIcSt11char_traitsIcEENS_14SourceLocationE']\n",
      "  warnings.warn(f\"unable to load libtensorflow_io_plugins.so: {e}\")\n",
      "/opt/conda/lib/python3.10/site-packages/tensorflow_io/python/ops/__init__.py:104: UserWarning: file system plugins are not loaded: unable to open file: libtensorflow_io.so, from paths: ['/opt/conda/lib/python3.10/site-packages/tensorflow_io/python/ops/libtensorflow_io.so']\n",
      "caused by: ['/opt/conda/lib/python3.10/site-packages/tensorflow_io/python/ops/libtensorflow_io.so: undefined symbol: _ZTVN10tensorflow13GcsFileSystemE']\n",
      "  warnings.warn(f\"file system plugins are not loaded: {e}\")\n",
      "/tmp/ipykernel_23/1942135322.py:13: DeprecationWarning: `import kerastuner` is deprecated, please use `import keras_tuner`.\n",
      "  from kerastuner.tuners import RandomSearch\n"
     ]
    }
   ],
   "source": [
    "import numpy as np \n",
    "import pandas as pd \n",
    "import matplotlib.pyplot as plt\n",
    "import seaborn as sns\n",
    "import numpy as np # linear algebra\n",
    "import pandas as pd # data processing, CSV file I/O (e.g. pd.read_csv)\n",
    "from sklearn.preprocessing import MinMaxScaler\n",
    "from sklearn.preprocessing import LabelEncoder\n",
    "import matplotlib.pyplot as plt\n",
    "import seaborn as sns\n",
    "from keras.models import Sequential\n",
    "from keras.layers import Dense,Dropout\n",
    "from kerastuner.tuners import RandomSearch\n",
    "from kerastuner.engine.hyperparameters import HyperParameters\n",
    "import os\n",
    "import warnings\n",
    "from tensorflow import keras\n",
    "from tensorflow.keras import layers\n",
    "from kerastuner.tuners import RandomSearch\n",
    "warnings.filterwarnings('ignore')"
   ]
  },
  {
   "cell_type": "markdown",
   "id": "f8a7b179",
   "metadata": {
    "papermill": {
     "duration": 0.008378,
     "end_time": "2023-07-08T22:20:28.807780",
     "exception": false,
     "start_time": "2023-07-08T22:20:28.799402",
     "status": "completed"
    },
    "tags": []
   },
   "source": [
    "## 📖 Reading The Data\n"
   ]
  },
  {
   "cell_type": "code",
   "execution_count": 2,
   "id": "e049f0fa",
   "metadata": {
    "execution": {
     "iopub.execute_input": "2023-07-08T22:20:28.826342Z",
     "iopub.status.busy": "2023-07-08T22:20:28.825789Z",
     "iopub.status.idle": "2023-07-08T22:20:29.449730Z",
     "shell.execute_reply": "2023-07-08T22:20:29.448674Z"
    },
    "papermill": {
     "duration": 0.636491,
     "end_time": "2023-07-08T22:20:29.452719",
     "exception": false,
     "start_time": "2023-07-08T22:20:28.816228",
     "status": "completed"
    },
    "tags": []
   },
   "outputs": [
    {
     "name": "stdout",
     "output_type": "stream",
     "text": [
      "                      timestamp    back_x    back_y    back_z   thigh_x  \\\n",
      "0       2021-03-24 14:42:03.839 -0.999023 -0.063477  0.140625 -0.980469   \n",
      "1       2021-03-24 14:42:03.859 -0.980225 -0.079346  0.140625 -0.961182   \n",
      "2       2021-03-24 14:42:03.880 -0.950195 -0.076416  0.140625 -0.949463   \n",
      "3       2021-03-24 14:42:03.900 -0.954834 -0.059082  0.140381 -0.957520   \n",
      "4       2021-03-24 14:42:03.920 -0.972412 -0.042969  0.142822 -0.977051   \n",
      "...                         ...       ...       ...       ...       ...   \n",
      "311575  2021-03-24 15:17:05.980 -0.760010 -0.068848 -0.203125 -0.796875   \n",
      "311576  2021-03-24 15:17:06.000 -0.736328 -0.068115 -0.203125 -0.769287   \n",
      "311577  2021-03-24 15:17:06.019 -0.736328 -0.079834 -0.203125 -0.763672   \n",
      "311578  2021-03-24 15:17:06.039 -0.762207 -0.078125 -0.205078 -0.763428   \n",
      "311579  2021-03-24 15:17:06.059 -0.799805 -0.078125 -0.196533 -0.770264   \n",
      "\n",
      "         thigh_y   thigh_z  label  \n",
      "0      -0.112061 -0.048096      6  \n",
      "1      -0.121582 -0.051758      6  \n",
      "2      -0.080566 -0.067139      6  \n",
      "3      -0.046143 -0.050781      6  \n",
      "4      -0.023682 -0.026611      6  \n",
      "...          ...       ...    ...  \n",
      "311575 -0.007812 -0.036865      6  \n",
      "311576  0.037354 -0.056641      6  \n",
      "311577  0.052490 -0.027588      6  \n",
      "311578  0.042236  0.022705      6  \n",
      "311579  0.013428  0.081543      6  \n",
      "\n",
      "[311580 rows x 8 columns]\n",
      "Shape of 1 dataframeis: (103860, 8)\n",
      "Shape ofconcat data is: (311580, 8)\n"
     ]
    }
   ],
   "source": [
    "#Using first 3 csv\n",
    "#The more data you will concat, more time your notebook will take to run.\n",
    "df_1 = pd.read_csv('/kaggle/input/adult-subjects-70-95-years-activity-recognition/501.csv')\n",
    "df_2 = pd.read_csv('/kaggle/input/adult-subjects-70-95-years-activity-recognition/501.csv')\n",
    "df_3 = pd.read_csv('/kaggle/input/adult-subjects-70-95-years-activity-recognition/501.csv')\n",
    "\n",
    "\n",
    "data = pd.concat([df_1,df_2,df_3], ignore_index=True, sort=False)\n",
    "print(data) # Print combined DataFrame\n",
    "\n",
    "print(f'Shape of 1 dataframeis: {df_1.shape}\\nShape ofconcat data is: {data.shape}')"
   ]
  },
  {
   "cell_type": "code",
   "execution_count": 3,
   "id": "efb61590",
   "metadata": {
    "execution": {
     "iopub.execute_input": "2023-07-08T22:20:29.472234Z",
     "iopub.status.busy": "2023-07-08T22:20:29.471948Z",
     "iopub.status.idle": "2023-07-08T22:20:29.488216Z",
     "shell.execute_reply": "2023-07-08T22:20:29.487112Z"
    },
    "papermill": {
     "duration": 0.028644,
     "end_time": "2023-07-08T22:20:29.490838",
     "exception": false,
     "start_time": "2023-07-08T22:20:29.462194",
     "status": "completed"
    },
    "tags": []
   },
   "outputs": [
    {
     "data": {
      "text/html": [
       "<div>\n",
       "<style scoped>\n",
       "    .dataframe tbody tr th:only-of-type {\n",
       "        vertical-align: middle;\n",
       "    }\n",
       "\n",
       "    .dataframe tbody tr th {\n",
       "        vertical-align: top;\n",
       "    }\n",
       "\n",
       "    .dataframe thead th {\n",
       "        text-align: right;\n",
       "    }\n",
       "</style>\n",
       "<table border=\"1\" class=\"dataframe\">\n",
       "  <thead>\n",
       "    <tr style=\"text-align: right;\">\n",
       "      <th></th>\n",
       "      <th>timestamp</th>\n",
       "      <th>back_x</th>\n",
       "      <th>back_y</th>\n",
       "      <th>back_z</th>\n",
       "      <th>thigh_x</th>\n",
       "      <th>thigh_y</th>\n",
       "      <th>thigh_z</th>\n",
       "      <th>label</th>\n",
       "    </tr>\n",
       "  </thead>\n",
       "  <tbody>\n",
       "    <tr>\n",
       "      <th>0</th>\n",
       "      <td>2021-03-24 14:42:03.839</td>\n",
       "      <td>-0.999023</td>\n",
       "      <td>-0.063477</td>\n",
       "      <td>0.140625</td>\n",
       "      <td>-0.980469</td>\n",
       "      <td>-0.112061</td>\n",
       "      <td>-0.048096</td>\n",
       "      <td>6</td>\n",
       "    </tr>\n",
       "    <tr>\n",
       "      <th>1</th>\n",
       "      <td>2021-03-24 14:42:03.859</td>\n",
       "      <td>-0.980225</td>\n",
       "      <td>-0.079346</td>\n",
       "      <td>0.140625</td>\n",
       "      <td>-0.961182</td>\n",
       "      <td>-0.121582</td>\n",
       "      <td>-0.051758</td>\n",
       "      <td>6</td>\n",
       "    </tr>\n",
       "    <tr>\n",
       "      <th>2</th>\n",
       "      <td>2021-03-24 14:42:03.880</td>\n",
       "      <td>-0.950195</td>\n",
       "      <td>-0.076416</td>\n",
       "      <td>0.140625</td>\n",
       "      <td>-0.949463</td>\n",
       "      <td>-0.080566</td>\n",
       "      <td>-0.067139</td>\n",
       "      <td>6</td>\n",
       "    </tr>\n",
       "    <tr>\n",
       "      <th>3</th>\n",
       "      <td>2021-03-24 14:42:03.900</td>\n",
       "      <td>-0.954834</td>\n",
       "      <td>-0.059082</td>\n",
       "      <td>0.140381</td>\n",
       "      <td>-0.957520</td>\n",
       "      <td>-0.046143</td>\n",
       "      <td>-0.050781</td>\n",
       "      <td>6</td>\n",
       "    </tr>\n",
       "    <tr>\n",
       "      <th>4</th>\n",
       "      <td>2021-03-24 14:42:03.920</td>\n",
       "      <td>-0.972412</td>\n",
       "      <td>-0.042969</td>\n",
       "      <td>0.142822</td>\n",
       "      <td>-0.977051</td>\n",
       "      <td>-0.023682</td>\n",
       "      <td>-0.026611</td>\n",
       "      <td>6</td>\n",
       "    </tr>\n",
       "  </tbody>\n",
       "</table>\n",
       "</div>"
      ],
      "text/plain": [
       "                 timestamp    back_x    back_y    back_z   thigh_x   thigh_y  \\\n",
       "0  2021-03-24 14:42:03.839 -0.999023 -0.063477  0.140625 -0.980469 -0.112061   \n",
       "1  2021-03-24 14:42:03.859 -0.980225 -0.079346  0.140625 -0.961182 -0.121582   \n",
       "2  2021-03-24 14:42:03.880 -0.950195 -0.076416  0.140625 -0.949463 -0.080566   \n",
       "3  2021-03-24 14:42:03.900 -0.954834 -0.059082  0.140381 -0.957520 -0.046143   \n",
       "4  2021-03-24 14:42:03.920 -0.972412 -0.042969  0.142822 -0.977051 -0.023682   \n",
       "\n",
       "    thigh_z  label  \n",
       "0 -0.048096      6  \n",
       "1 -0.051758      6  \n",
       "2 -0.067139      6  \n",
       "3 -0.050781      6  \n",
       "4 -0.026611      6  "
      ]
     },
     "execution_count": 3,
     "metadata": {},
     "output_type": "execute_result"
    }
   ],
   "source": [
    "data.head()"
   ]
  },
  {
   "cell_type": "markdown",
   "id": "a4e2beed",
   "metadata": {
    "papermill": {
     "duration": 0.008287,
     "end_time": "2023-07-08T22:20:29.508211",
     "exception": false,
     "start_time": "2023-07-08T22:20:29.499924",
     "status": "completed"
    },
    "tags": []
   },
   "source": [
    "## 📊 Some Analysis"
   ]
  },
  {
   "cell_type": "code",
   "execution_count": 4,
   "id": "4d7cd482",
   "metadata": {
    "execution": {
     "iopub.execute_input": "2023-07-08T22:20:29.526335Z",
     "iopub.status.busy": "2023-07-08T22:20:29.526039Z",
     "iopub.status.idle": "2023-07-08T22:20:29.531473Z",
     "shell.execute_reply": "2023-07-08T22:20:29.530568Z"
    },
    "papermill": {
     "duration": 0.016874,
     "end_time": "2023-07-08T22:20:29.533545",
     "exception": false,
     "start_time": "2023-07-08T22:20:29.516671",
     "status": "completed"
    },
    "tags": []
   },
   "outputs": [],
   "source": [
    "pd.set_option(\"display.max_columns\", None)\n"
   ]
  },
  {
   "cell_type": "code",
   "execution_count": 5,
   "id": "bb4f5ccd",
   "metadata": {
    "execution": {
     "iopub.execute_input": "2023-07-08T22:20:29.551972Z",
     "iopub.status.busy": "2023-07-08T22:20:29.551649Z",
     "iopub.status.idle": "2023-07-08T22:20:29.557522Z",
     "shell.execute_reply": "2023-07-08T22:20:29.556561Z"
    },
    "papermill": {
     "duration": 0.01775,
     "end_time": "2023-07-08T22:20:29.559952",
     "exception": false,
     "start_time": "2023-07-08T22:20:29.542202",
     "status": "completed"
    },
    "tags": []
   },
   "outputs": [
    {
     "data": {
      "text/plain": [
       "Index(['timestamp', 'back_x', 'back_y', 'back_z', 'thigh_x', 'thigh_y',\n",
       "       'thigh_z', 'label'],\n",
       "      dtype='object')"
      ]
     },
     "execution_count": 5,
     "metadata": {},
     "output_type": "execute_result"
    }
   ],
   "source": [
    "data.columns"
   ]
  },
  {
   "cell_type": "code",
   "execution_count": 6,
   "id": "56006c8d",
   "metadata": {
    "execution": {
     "iopub.execute_input": "2023-07-08T22:20:29.578810Z",
     "iopub.status.busy": "2023-07-08T22:20:29.578549Z",
     "iopub.status.idle": "2023-07-08T22:20:29.673285Z",
     "shell.execute_reply": "2023-07-08T22:20:29.672356Z"
    },
    "papermill": {
     "duration": 0.106182,
     "end_time": "2023-07-08T22:20:29.675379",
     "exception": false,
     "start_time": "2023-07-08T22:20:29.569197",
     "status": "completed"
    },
    "tags": []
   },
   "outputs": [
    {
     "data": {
      "text/html": [
       "<div>\n",
       "<style scoped>\n",
       "    .dataframe tbody tr th:only-of-type {\n",
       "        vertical-align: middle;\n",
       "    }\n",
       "\n",
       "    .dataframe tbody tr th {\n",
       "        vertical-align: top;\n",
       "    }\n",
       "\n",
       "    .dataframe thead th {\n",
       "        text-align: right;\n",
       "    }\n",
       "</style>\n",
       "<table border=\"1\" class=\"dataframe\">\n",
       "  <thead>\n",
       "    <tr style=\"text-align: right;\">\n",
       "      <th></th>\n",
       "      <th>back_x</th>\n",
       "      <th>back_y</th>\n",
       "      <th>back_z</th>\n",
       "      <th>thigh_x</th>\n",
       "      <th>thigh_y</th>\n",
       "      <th>thigh_z</th>\n",
       "      <th>label</th>\n",
       "    </tr>\n",
       "  </thead>\n",
       "  <tbody>\n",
       "    <tr>\n",
       "      <th>count</th>\n",
       "      <td>311580.000000</td>\n",
       "      <td>311580.000000</td>\n",
       "      <td>311580.000000</td>\n",
       "      <td>311580.000000</td>\n",
       "      <td>311580.000000</td>\n",
       "      <td>311580.000000</td>\n",
       "      <td>311580.000000</td>\n",
       "    </tr>\n",
       "    <tr>\n",
       "      <th>mean</th>\n",
       "      <td>-0.880883</td>\n",
       "      <td>-0.069506</td>\n",
       "      <td>-0.003201</td>\n",
       "      <td>-0.794307</td>\n",
       "      <td>-0.095594</td>\n",
       "      <td>-0.318354</td>\n",
       "      <td>3.237069</td>\n",
       "    </tr>\n",
       "    <tr>\n",
       "      <th>std</th>\n",
       "      <td>0.340988</td>\n",
       "      <td>0.128598</td>\n",
       "      <td>0.417654</td>\n",
       "      <td>0.599404</td>\n",
       "      <td>0.210590</td>\n",
       "      <td>0.547367</td>\n",
       "      <td>2.860091</td>\n",
       "    </tr>\n",
       "    <tr>\n",
       "      <th>min</th>\n",
       "      <td>-2.895264</td>\n",
       "      <td>-1.157471</td>\n",
       "      <td>-2.204834</td>\n",
       "      <td>-7.942139</td>\n",
       "      <td>-3.600830</td>\n",
       "      <td>-4.193604</td>\n",
       "      <td>1.000000</td>\n",
       "    </tr>\n",
       "    <tr>\n",
       "      <th>25%</th>\n",
       "      <td>-1.015625</td>\n",
       "      <td>-0.137939</td>\n",
       "      <td>-0.268066</td>\n",
       "      <td>-1.003174</td>\n",
       "      <td>-0.187256</td>\n",
       "      <td>-1.046875</td>\n",
       "      <td>1.000000</td>\n",
       "    </tr>\n",
       "    <tr>\n",
       "      <th>50%</th>\n",
       "      <td>-0.920898</td>\n",
       "      <td>-0.062500</td>\n",
       "      <td>-0.136963</td>\n",
       "      <td>-0.937500</td>\n",
       "      <td>-0.080322</td>\n",
       "      <td>-0.131348</td>\n",
       "      <td>1.000000</td>\n",
       "    </tr>\n",
       "    <tr>\n",
       "      <th>75%</th>\n",
       "      <td>-0.767517</td>\n",
       "      <td>-0.006836</td>\n",
       "      <td>0.234375</td>\n",
       "      <td>-0.203125</td>\n",
       "      <td>-0.015625</td>\n",
       "      <td>0.080078</td>\n",
       "      <td>6.000000</td>\n",
       "    </tr>\n",
       "    <tr>\n",
       "      <th>max</th>\n",
       "      <td>0.239746</td>\n",
       "      <td>0.893555</td>\n",
       "      <td>0.979004</td>\n",
       "      <td>1.159424</td>\n",
       "      <td>3.234863</td>\n",
       "      <td>1.861572</td>\n",
       "      <td>8.000000</td>\n",
       "    </tr>\n",
       "  </tbody>\n",
       "</table>\n",
       "</div>"
      ],
      "text/plain": [
       "              back_x         back_y         back_z        thigh_x  \\\n",
       "count  311580.000000  311580.000000  311580.000000  311580.000000   \n",
       "mean       -0.880883      -0.069506      -0.003201      -0.794307   \n",
       "std         0.340988       0.128598       0.417654       0.599404   \n",
       "min        -2.895264      -1.157471      -2.204834      -7.942139   \n",
       "25%        -1.015625      -0.137939      -0.268066      -1.003174   \n",
       "50%        -0.920898      -0.062500      -0.136963      -0.937500   \n",
       "75%        -0.767517      -0.006836       0.234375      -0.203125   \n",
       "max         0.239746       0.893555       0.979004       1.159424   \n",
       "\n",
       "             thigh_y        thigh_z          label  \n",
       "count  311580.000000  311580.000000  311580.000000  \n",
       "mean       -0.095594      -0.318354       3.237069  \n",
       "std         0.210590       0.547367       2.860091  \n",
       "min        -3.600830      -4.193604       1.000000  \n",
       "25%        -0.187256      -1.046875       1.000000  \n",
       "50%        -0.080322      -0.131348       1.000000  \n",
       "75%        -0.015625       0.080078       6.000000  \n",
       "max         3.234863       1.861572       8.000000  "
      ]
     },
     "execution_count": 6,
     "metadata": {},
     "output_type": "execute_result"
    }
   ],
   "source": [
    "data.describe()"
   ]
  },
  {
   "cell_type": "code",
   "execution_count": 7,
   "id": "809aa2a4",
   "metadata": {
    "execution": {
     "iopub.execute_input": "2023-07-08T22:20:29.697342Z",
     "iopub.status.busy": "2023-07-08T22:20:29.695681Z",
     "iopub.status.idle": "2023-07-08T22:20:29.708679Z",
     "shell.execute_reply": "2023-07-08T22:20:29.707581Z"
    },
    "papermill": {
     "duration": 0.025313,
     "end_time": "2023-07-08T22:20:29.710801",
     "exception": false,
     "start_time": "2023-07-08T22:20:29.685488",
     "status": "completed"
    },
    "tags": []
   },
   "outputs": [
    {
     "data": {
      "text/plain": [
       "array([6, 3, 1, 7, 8, 5, 4])"
      ]
     },
     "execution_count": 7,
     "metadata": {},
     "output_type": "execute_result"
    }
   ],
   "source": [
    "data['label'].unique()"
   ]
  },
  {
   "cell_type": "code",
   "execution_count": 8,
   "id": "b0542e58",
   "metadata": {
    "execution": {
     "iopub.execute_input": "2023-07-08T22:20:29.730746Z",
     "iopub.status.busy": "2023-07-08T22:20:29.729998Z",
     "iopub.status.idle": "2023-07-08T22:20:30.032710Z",
     "shell.execute_reply": "2023-07-08T22:20:30.031585Z"
    },
    "papermill": {
     "duration": 0.315014,
     "end_time": "2023-07-08T22:20:30.034972",
     "exception": false,
     "start_time": "2023-07-08T22:20:29.719958",
     "status": "completed"
    },
    "tags": []
   },
   "outputs": [
    {
     "data": {
      "text/plain": [
       "<Axes: >"
      ]
     },
     "execution_count": 8,
     "metadata": {},
     "output_type": "execute_result"
    },
    {
     "data": {
      "image/png": "[encoded data removed]",
      "text/plain": [
       "<Figure size 640x480 with 1 Axes>"
      ]
     },
     "metadata": {},
     "output_type": "display_data"
    }
   ],
   "source": [
    "data['label'].value_counts().sort_values().plot(kind = 'bar', color = ['orange'])\n"
   ]
  },
  {
   "cell_type": "markdown",
   "id": "ba860300",
   "metadata": {
    "papermill": {
     "duration": 0.009314,
     "end_time": "2023-07-08T22:20:30.054128",
     "exception": false,
     "start_time": "2023-07-08T22:20:30.044814",
     "status": "completed"
    },
    "tags": []
   },
   "source": [
    "<div style=\"background-color:#fff1cc; padding: 20px;\">\n",
    "<b>1: walking 3: shuffling 4: stairs (ascending) 5: stairs (descending) 6: standing 7: sitting 8: lying</b>\n",
    "</div>"
   ]
  },
  {
   "cell_type": "markdown",
   "id": "a964db3c",
   "metadata": {
    "papermill": {
     "duration": 0.009411,
     "end_time": "2023-07-08T22:20:30.073358",
     "exception": false,
     "start_time": "2023-07-08T22:20:30.063947",
     "status": "completed"
    },
    "tags": []
   },
   "source": [
    "## 📈Preparing Train And Test Data"
   ]
  },
  {
   "cell_type": "code",
   "execution_count": 9,
   "id": "021dfc1f",
   "metadata": {
    "execution": {
     "iopub.execute_input": "2023-07-08T22:20:30.093631Z",
     "iopub.status.busy": "2023-07-08T22:20:30.093293Z",
     "iopub.status.idle": "2023-07-08T22:20:30.108946Z",
     "shell.execute_reply": "2023-07-08T22:20:30.108015Z"
    },
    "papermill": {
     "duration": 0.028386,
     "end_time": "2023-07-08T22:20:30.111124",
     "exception": false,
     "start_time": "2023-07-08T22:20:30.082738",
     "status": "completed"
    },
    "tags": []
   },
   "outputs": [],
   "source": [
    "X = data.drop(['label','timestamp'], axis=1)\n",
    "y = pd.DataFrame(data['label'])\n",
    "\n"
   ]
  },
  {
   "cell_type": "code",
   "execution_count": 10,
   "id": "f43489b2",
   "metadata": {
    "execution": {
     "iopub.execute_input": "2023-07-08T22:20:30.134344Z",
     "iopub.status.busy": "2023-07-08T22:20:30.133479Z",
     "iopub.status.idle": "2023-07-08T22:20:30.147219Z",
     "shell.execute_reply": "2023-07-08T22:20:30.146157Z"
    },
    "papermill": {
     "duration": 0.027677,
     "end_time": "2023-07-08T22:20:30.149562",
     "exception": false,
     "start_time": "2023-07-08T22:20:30.121885",
     "status": "completed"
    },
    "tags": []
   },
   "outputs": [
    {
     "data": {
      "text/html": [
       "<div>\n",
       "<style scoped>\n",
       "    .dataframe tbody tr th:only-of-type {\n",
       "        vertical-align: middle;\n",
       "    }\n",
       "\n",
       "    .dataframe tbody tr th {\n",
       "        vertical-align: top;\n",
       "    }\n",
       "\n",
       "    .dataframe thead th {\n",
       "        text-align: right;\n",
       "    }\n",
       "</style>\n",
       "<table border=\"1\" class=\"dataframe\">\n",
       "  <thead>\n",
       "    <tr style=\"text-align: right;\">\n",
       "      <th></th>\n",
       "      <th>back_x</th>\n",
       "      <th>back_y</th>\n",
       "      <th>back_z</th>\n",
       "      <th>thigh_x</th>\n",
       "      <th>thigh_y</th>\n",
       "      <th>thigh_z</th>\n",
       "    </tr>\n",
       "  </thead>\n",
       "  <tbody>\n",
       "    <tr>\n",
       "      <th>0</th>\n",
       "      <td>-0.999023</td>\n",
       "      <td>-0.063477</td>\n",
       "      <td>0.140625</td>\n",
       "      <td>-0.980469</td>\n",
       "      <td>-0.112061</td>\n",
       "      <td>-0.048096</td>\n",
       "    </tr>\n",
       "    <tr>\n",
       "      <th>1</th>\n",
       "      <td>-0.980225</td>\n",
       "      <td>-0.079346</td>\n",
       "      <td>0.140625</td>\n",
       "      <td>-0.961182</td>\n",
       "      <td>-0.121582</td>\n",
       "      <td>-0.051758</td>\n",
       "    </tr>\n",
       "    <tr>\n",
       "      <th>2</th>\n",
       "      <td>-0.950195</td>\n",
       "      <td>-0.076416</td>\n",
       "      <td>0.140625</td>\n",
       "      <td>-0.949463</td>\n",
       "      <td>-0.080566</td>\n",
       "      <td>-0.067139</td>\n",
       "    </tr>\n",
       "    <tr>\n",
       "      <th>3</th>\n",
       "      <td>-0.954834</td>\n",
       "      <td>-0.059082</td>\n",
       "      <td>0.140381</td>\n",
       "      <td>-0.957520</td>\n",
       "      <td>-0.046143</td>\n",
       "      <td>-0.050781</td>\n",
       "    </tr>\n",
       "    <tr>\n",
       "      <th>4</th>\n",
       "      <td>-0.972412</td>\n",
       "      <td>-0.042969</td>\n",
       "      <td>0.142822</td>\n",
       "      <td>-0.977051</td>\n",
       "      <td>-0.023682</td>\n",
       "      <td>-0.026611</td>\n",
       "    </tr>\n",
       "  </tbody>\n",
       "</table>\n",
       "</div>"
      ],
      "text/plain": [
       "     back_x    back_y    back_z   thigh_x   thigh_y   thigh_z\n",
       "0 -0.999023 -0.063477  0.140625 -0.980469 -0.112061 -0.048096\n",
       "1 -0.980225 -0.079346  0.140625 -0.961182 -0.121582 -0.051758\n",
       "2 -0.950195 -0.076416  0.140625 -0.949463 -0.080566 -0.067139\n",
       "3 -0.954834 -0.059082  0.140381 -0.957520 -0.046143 -0.050781\n",
       "4 -0.972412 -0.042969  0.142822 -0.977051 -0.023682 -0.026611"
      ]
     },
     "execution_count": 10,
     "metadata": {},
     "output_type": "execute_result"
    }
   ],
   "source": [
    "X.head()"
   ]
  },
  {
   "cell_type": "code",
   "execution_count": 11,
   "id": "add964d6",
   "metadata": {
    "execution": {
     "iopub.execute_input": "2023-07-08T22:20:30.174281Z",
     "iopub.status.busy": "2023-07-08T22:20:30.173519Z",
     "iopub.status.idle": "2023-07-08T22:20:30.186198Z",
     "shell.execute_reply": "2023-07-08T22:20:30.185204Z"
    },
    "papermill": {
     "duration": 0.026759,
     "end_time": "2023-07-08T22:20:30.188477",
     "exception": false,
     "start_time": "2023-07-08T22:20:30.161718",
     "status": "completed"
    },
    "tags": []
   },
   "outputs": [
    {
     "data": {
      "text/html": [
       "<div>\n",
       "<style scoped>\n",
       "    .dataframe tbody tr th:only-of-type {\n",
       "        vertical-align: middle;\n",
       "    }\n",
       "\n",
       "    .dataframe tbody tr th {\n",
       "        vertical-align: top;\n",
       "    }\n",
       "\n",
       "    .dataframe thead th {\n",
       "        text-align: right;\n",
       "    }\n",
       "</style>\n",
       "<table border=\"1\" class=\"dataframe\">\n",
       "  <thead>\n",
       "    <tr style=\"text-align: right;\">\n",
       "      <th></th>\n",
       "      <th>label</th>\n",
       "    </tr>\n",
       "  </thead>\n",
       "  <tbody>\n",
       "    <tr>\n",
       "      <th>0</th>\n",
       "      <td>6</td>\n",
       "    </tr>\n",
       "    <tr>\n",
       "      <th>1</th>\n",
       "      <td>6</td>\n",
       "    </tr>\n",
       "    <tr>\n",
       "      <th>2</th>\n",
       "      <td>6</td>\n",
       "    </tr>\n",
       "    <tr>\n",
       "      <th>3</th>\n",
       "      <td>6</td>\n",
       "    </tr>\n",
       "    <tr>\n",
       "      <th>4</th>\n",
       "      <td>6</td>\n",
       "    </tr>\n",
       "  </tbody>\n",
       "</table>\n",
       "</div>"
      ],
      "text/plain": [
       "   label\n",
       "0      6\n",
       "1      6\n",
       "2      6\n",
       "3      6\n",
       "4      6"
      ]
     },
     "execution_count": 11,
     "metadata": {},
     "output_type": "execute_result"
    }
   ],
   "source": [
    "y.head()"
   ]
  },
  {
   "cell_type": "code",
   "execution_count": 12,
   "id": "8c0d198c",
   "metadata": {
    "execution": {
     "iopub.execute_input": "2023-07-08T22:20:30.210913Z",
     "iopub.status.busy": "2023-07-08T22:20:30.210198Z",
     "iopub.status.idle": "2023-07-08T22:20:30.258170Z",
     "shell.execute_reply": "2023-07-08T22:20:30.257064Z"
    },
    "papermill": {
     "duration": 0.061265,
     "end_time": "2023-07-08T22:20:30.260771",
     "exception": false,
     "start_time": "2023-07-08T22:20:30.199506",
     "status": "completed"
    },
    "tags": []
   },
   "outputs": [
    {
     "data": {
      "text/plain": [
       "((62316, 6), (62316, 1))"
      ]
     },
     "execution_count": 12,
     "metadata": {},
     "output_type": "execute_result"
    }
   ],
   "source": [
    "from sklearn.model_selection import train_test_split\n",
    "\n",
    "x_train, x_test, y_train, y_test = train_test_split(X, y, test_size=0.2, random_state=42)\n",
    "\n",
    "\n",
    "x_test.shape, y_test.shape"
   ]
  },
  {
   "cell_type": "code",
   "execution_count": 13,
   "id": "75780421",
   "metadata": {
    "execution": {
     "iopub.execute_input": "2023-07-08T22:20:30.282645Z",
     "iopub.status.busy": "2023-07-08T22:20:30.281981Z",
     "iopub.status.idle": "2023-07-08T22:20:30.288857Z",
     "shell.execute_reply": "2023-07-08T22:20:30.287947Z"
    },
    "papermill": {
     "duration": 0.019847,
     "end_time": "2023-07-08T22:20:30.290820",
     "exception": false,
     "start_time": "2023-07-08T22:20:30.270973",
     "status": "completed"
    },
    "tags": []
   },
   "outputs": [
    {
     "data": {
      "text/plain": [
       "((62316, 6), (62316, 1), (249264, 6), (249264, 1))"
      ]
     },
     "execution_count": 13,
     "metadata": {},
     "output_type": "execute_result"
    }
   ],
   "source": [
    "x_test.shape, y_test.shape, x_train.shape, y_train.shape"
   ]
  },
  {
   "cell_type": "code",
   "execution_count": 14,
   "id": "b71f7626",
   "metadata": {
    "execution": {
     "iopub.execute_input": "2023-07-08T22:20:30.312849Z",
     "iopub.status.busy": "2023-07-08T22:20:30.311995Z",
     "iopub.status.idle": "2023-07-08T22:20:30.330776Z",
     "shell.execute_reply": "2023-07-08T22:20:30.329875Z"
    },
    "papermill": {
     "duration": 0.032016,
     "end_time": "2023-07-08T22:20:30.332957",
     "exception": false,
     "start_time": "2023-07-08T22:20:30.300941",
     "status": "completed"
    },
    "tags": []
   },
   "outputs": [],
   "source": [
    "scaling_data = MinMaxScaler()\n",
    "x_train = scaling_data.fit_transform(x_train)\n",
    "x_test = scaling_data.transform(x_test)\n"
   ]
  },
  {
   "cell_type": "code",
   "execution_count": 15,
   "id": "6d522d01",
   "metadata": {
    "execution": {
     "iopub.execute_input": "2023-07-08T22:20:30.356370Z",
     "iopub.status.busy": "2023-07-08T22:20:30.355515Z",
     "iopub.status.idle": "2023-07-08T22:20:30.364787Z",
     "shell.execute_reply": "2023-07-08T22:20:30.363785Z"
    },
    "papermill": {
     "duration": 0.023499,
     "end_time": "2023-07-08T22:20:30.366887",
     "exception": false,
     "start_time": "2023-07-08T22:20:30.343388",
     "status": "completed"
    },
    "tags": []
   },
   "outputs": [
    {
     "data": {
      "text/plain": [
       "array([6, 1, 8, 3, 7, 5, 4])"
      ]
     },
     "execution_count": 15,
     "metadata": {},
     "output_type": "execute_result"
    }
   ],
   "source": [
    "y_train.label.unique()"
   ]
  },
  {
   "cell_type": "markdown",
   "id": "c360bf17",
   "metadata": {
    "papermill": {
     "duration": 0.010842,
     "end_time": "2023-07-08T22:20:30.388724",
     "exception": false,
     "start_time": "2023-07-08T22:20:30.377882",
     "status": "completed"
    },
    "tags": []
   },
   "source": [
    "## 🤖Creating A Base Model\n",
    "\n",
    "\n",
    "<div style=\"background-color:#fff1cc; padding: 20px;\">\n",
    "    \n",
    "* The code creates a sequential model with two dense layers and a dropout layer.\n",
    "    \n",
    "* The first dense layer has 64 units and uses the ReLU activation function.\n",
    "    \n",
    "* The dropout layer randomly sets 20% of the input units to 0 at each update during training time, which helps prevent overfitting.\n",
    "    \n",
    "* The second dense layer has 9 units and uses the softmax activation function.\n",
    "    \n",
    "* The model is compiled using the Adam optimizer, sparse categorical crossentropy loss function, and accuracy metric.\n",
    "    \n",
    "* The model is then trained on the training data (x_train and y_train) for 10 epochs with a batch size of 64.\n",
    "    \n",
    "* The validation data (x_test and y_test) is used to evaluate the model after each epoch.\n",
    "</div>\n",
    "\n",
    "\n"
   ]
  },
  {
   "cell_type": "code",
   "execution_count": 16,
   "id": "b43bfa9a",
   "metadata": {
    "execution": {
     "iopub.execute_input": "2023-07-08T22:20:30.412399Z",
     "iopub.status.busy": "2023-07-08T22:20:30.411554Z",
     "iopub.status.idle": "2023-07-08T22:22:57.154828Z",
     "shell.execute_reply": "2023-07-08T22:22:57.153814Z"
    },
    "papermill": {
     "duration": 146.757651,
     "end_time": "2023-07-08T22:22:57.157140",
     "exception": false,
     "start_time": "2023-07-08T22:20:30.399489",
     "status": "completed"
    },
    "tags": []
   },
   "outputs": [
    {
     "name": "stdout",
     "output_type": "stream",
     "text": [
      "Epoch 1/10\n",
      "3895/3895 [==============================] - 18s 3ms/step - loss: 0.6433 - accuracy: 0.7896 - val_loss: 0.3995 - val_accuracy: 0.8500\n",
      "Epoch 2/10\n",
      "3895/3895 [==============================] - 15s 4ms/step - loss: 0.3419 - accuracy: 0.8998 - val_loss: 0.2893 - val_accuracy: 0.9302\n",
      "Epoch 3/10\n",
      "3895/3895 [==============================] - 14s 4ms/step - loss: 0.2791 - accuracy: 0.9255 - val_loss: 0.2519 - val_accuracy: 0.9300\n",
      "Epoch 4/10\n",
      "3895/3895 [==============================] - 14s 4ms/step - loss: 0.2485 - accuracy: 0.9318 - val_loss: 0.2283 - val_accuracy: 0.9370\n",
      "Epoch 5/10\n",
      "3895/3895 [==============================] - 14s 4ms/step - loss: 0.2298 - accuracy: 0.9354 - val_loss: 0.2233 - val_accuracy: 0.9324\n",
      "Epoch 6/10\n",
      "3895/3895 [==============================] - 14s 4ms/step - loss: 0.2165 - accuracy: 0.9380 - val_loss: 0.1968 - val_accuracy: 0.9446\n",
      "Epoch 7/10\n",
      "3895/3895 [==============================] - 14s 4ms/step - loss: 0.2052 - accuracy: 0.9401 - val_loss: 0.1891 - val_accuracy: 0.9427\n",
      "Epoch 8/10\n",
      "3895/3895 [==============================] - 13s 3ms/step - loss: 0.1957 - accuracy: 0.9418 - val_loss: 0.1810 - val_accuracy: 0.9448\n",
      "Epoch 9/10\n",
      "3895/3895 [==============================] - 14s 4ms/step - loss: 0.1888 - accuracy: 0.9440 - val_loss: 0.1693 - val_accuracy: 0.9502\n",
      "Epoch 10/10\n",
      "3895/3895 [==============================] - 13s 3ms/step - loss: 0.1824 - accuracy: 0.9468 - val_loss: 0.1731 - val_accuracy: 0.9457\n"
     ]
    }
   ],
   "source": [
    "model = Sequential()\n",
    "model.add(Dense(units=64, input_dim=X.shape[1], activation='relu'))\n",
    "model.add(Dropout(0.2))\n",
    "model.add(Dense(units=9,kernel_initializer='normal',activation='softmax'))\n",
    "\n",
    "\n",
    "model.compile(optimizer='adam',loss='sparse_categorical_crossentropy',metrics=['accuracy'])\n",
    "\n",
    "history = model.fit(x_train, y_train, batch_size = 64, epochs= 10,validation_data = (x_test,y_test))"
   ]
  },
  {
   "cell_type": "markdown",
   "id": "598a1c20",
   "metadata": {
    "papermill": {
     "duration": 0.184617,
     "end_time": "2023-07-08T22:22:57.534602",
     "exception": false,
     "start_time": "2023-07-08T22:22:57.349985",
     "status": "completed"
    },
    "tags": []
   },
   "source": [
    "## 🎚️Hypertuning The Model\n",
    "\n",
    "<div style=\"background-color:#fff1cc; padding: 20px\" >\n",
    "            \n",
    "The code creates a RandomSearch object called tuner, which takes the build_model function as input along with other parameters such as the objective to optimize (val_accuracy), the maximum number of trials to run (max_trials), and the number of executions per trial (executions_per_trial).            \n",
    "    \n",
    "    \n",
    "\n",
    "</div>\n"
   ]
  },
  {
   "cell_type": "code",
   "execution_count": 17,
   "id": "b1c5d573",
   "metadata": {
    "execution": {
     "iopub.execute_input": "2023-07-08T22:22:57.903560Z",
     "iopub.status.busy": "2023-07-08T22:22:57.903189Z",
     "iopub.status.idle": "2023-07-08T22:22:57.930196Z",
     "shell.execute_reply": "2023-07-08T22:22:57.928828Z"
    },
    "papermill": {
     "duration": 0.21602,
     "end_time": "2023-07-08T22:22:57.932405",
     "exception": false,
     "start_time": "2023-07-08T22:22:57.716385",
     "status": "completed"
    },
    "tags": []
   },
   "outputs": [
    {
     "name": "stdout",
     "output_type": "stream",
     "text": [
      "Search space summary\n",
      "Default search space size: 5\n",
      "num_layers (Int)\n",
      "{'default': None, 'conditions': [], 'min_value': 2, 'max_value': 25, 'step': 1, 'sampling': 'linear'}\n",
      "units0 (Int)\n",
      "{'default': None, 'conditions': [], 'min_value': 32, 'max_value': 512, 'step': 32, 'sampling': 'linear'}\n",
      "initializer (Choice)\n",
      "{'default': 'uniform', 'conditions': [], 'values': ['uniform', 'normal'], 'ordered': False}\n",
      "activation (Choice)\n",
      "{'default': 'relu', 'conditions': [], 'values': ['relu', 'sigmoid', 'tanh'], 'ordered': False}\n",
      "units1 (Int)\n",
      "{'default': None, 'conditions': [], 'min_value': 32, 'max_value': 512, 'step': 32, 'sampling': 'linear'}\n"
     ]
    }
   ],
   "source": [
    "def build_model(hp):\n",
    "    model = keras.Sequential()\n",
    "    for i in range(hp.Int('num_layers', 2, 25)):\n",
    "        model.add(layers.Dense(units = hp.Int('units' + str(i), min_value=32, max_value=512, step=32),\n",
    "                               kernel_initializer= hp.Choice('initializer', ['uniform', 'normal']),\n",
    "                               activation= hp.Choice('activation', ['relu', 'sigmoid', 'tanh'])))\n",
    "    model.add(layers.Dense(6, kernel_initializer= hp.Choice('initializer', ['uniform', 'normal']), activation='softmax'))\n",
    "    model.add(\n",
    "            Dropout(0.2))\n",
    "    model.compile(\n",
    "        optimizer = 'adam',\n",
    "        loss='sparse_categorical_crossentropy',\n",
    "        metrics=['accuracy'])\n",
    "    return model\n",
    "\n",
    "\n",
    "tuner = RandomSearch(\n",
    "    build_model,\n",
    "    objective='val_accuracy',\n",
    "    max_trials= 5,\n",
    "    executions_per_trial=3,\n",
    "    directory='project', project_name = 'Human_activity_recognition')\n",
    "\n",
    "tuner.search_space_summary()\n"
   ]
  },
  {
   "cell_type": "code",
   "execution_count": 18,
   "id": "ea0cc074",
   "metadata": {
    "execution": {
     "iopub.execute_input": "2023-07-08T22:22:58.298674Z",
     "iopub.status.busy": "2023-07-08T22:22:58.297939Z",
     "iopub.status.idle": "2023-07-08T23:39:40.397999Z",
     "shell.execute_reply": "2023-07-08T23:39:40.397009Z"
    },
    "papermill": {
     "duration": 4603.524159,
     "end_time": "2023-07-08T23:39:41.638706",
     "exception": false,
     "start_time": "2023-07-08T22:22:58.114547",
     "status": "completed"
    },
    "tags": []
   },
   "outputs": [
    {
     "name": "stdout",
     "output_type": "stream",
     "text": [
      "Trial 5 Complete [00h 13m 05s]\n",
      "val_accuracy: 0.0\n",
      "\n",
      "Best val_accuracy So Far: 0.0\n",
      "Total elapsed time: 01h 16m 42s\n"
     ]
    }
   ],
   "source": [
    "tuner.search(x_train, y_train,\n",
    "             epochs= 5,\n",
    "             validation_data=(x_test, y_test))\n"
   ]
  },
  {
   "cell_type": "markdown",
   "id": "c5bb8a09",
   "metadata": {
    "papermill": {
     "duration": 0.184614,
     "end_time": "2023-07-08T23:39:42.002956",
     "exception": false,
     "start_time": "2023-07-08T23:39:41.818342",
     "status": "completed"
    },
    "tags": []
   },
   "source": [
    "# 💯 Results Summary"
   ]
  },
  {
   "cell_type": "code",
   "execution_count": 19,
   "id": "15ad8725",
   "metadata": {
    "execution": {
     "iopub.execute_input": "2023-07-08T23:39:42.362168Z",
     "iopub.status.busy": "2023-07-08T23:39:42.360177Z",
     "iopub.status.idle": "2023-07-08T23:39:42.369047Z",
     "shell.execute_reply": "2023-07-08T23:39:42.367708Z"
    },
    "papermill": {
     "duration": 0.190707,
     "end_time": "2023-07-08T23:39:42.371527",
     "exception": false,
     "start_time": "2023-07-08T23:39:42.180820",
     "status": "completed"
    },
    "tags": []
   },
   "outputs": [
    {
     "name": "stdout",
     "output_type": "stream",
     "text": [
      "Results summary\n",
      "Results in project/Human_activity_recognition\n",
      "Showing 10 best trials\n",
      "Objective(name=\"val_accuracy\", direction=\"max\")\n",
      "\n",
      "Trial 0 summary\n",
      "Hyperparameters:\n",
      "num_layers: 13\n",
      "units0: 32\n",
      "initializer: uniform\n",
      "activation: tanh\n",
      "units1: 352\n",
      "units2: 32\n",
      "units3: 32\n",
      "units4: 32\n",
      "units5: 32\n",
      "units6: 32\n",
      "units7: 32\n",
      "units8: 32\n",
      "units9: 32\n",
      "units10: 32\n",
      "units11: 32\n",
      "units12: 32\n",
      "Score: 0.0\n",
      "\n",
      "Trial 1 summary\n",
      "Hyperparameters:\n",
      "num_layers: 21\n",
      "units0: 320\n",
      "initializer: normal\n",
      "activation: relu\n",
      "units1: 384\n",
      "units2: 288\n",
      "units3: 224\n",
      "units4: 128\n",
      "units5: 224\n",
      "units6: 416\n",
      "units7: 224\n",
      "units8: 320\n",
      "units9: 320\n",
      "units10: 224\n",
      "units11: 192\n",
      "units12: 352\n",
      "units13: 32\n",
      "units14: 32\n",
      "units15: 32\n",
      "units16: 32\n",
      "units17: 32\n",
      "units18: 32\n",
      "units19: 32\n",
      "units20: 32\n",
      "Score: 0.0\n",
      "\n",
      "Trial 2 summary\n",
      "Hyperparameters:\n",
      "num_layers: 10\n",
      "units0: 288\n",
      "initializer: uniform\n",
      "activation: relu\n",
      "units1: 384\n",
      "units2: 320\n",
      "units3: 320\n",
      "units4: 256\n",
      "units5: 224\n",
      "units6: 384\n",
      "units7: 160\n",
      "units8: 352\n",
      "units9: 160\n",
      "units10: 96\n",
      "units11: 480\n",
      "units12: 192\n",
      "units13: 480\n",
      "units14: 512\n",
      "units15: 128\n",
      "units16: 160\n",
      "units17: 448\n",
      "units18: 224\n",
      "units19: 352\n",
      "units20: 192\n",
      "Score: 0.0\n",
      "\n",
      "Trial 3 summary\n",
      "Hyperparameters:\n",
      "num_layers: 19\n",
      "units0: 32\n",
      "initializer: normal\n",
      "activation: relu\n",
      "units1: 160\n",
      "units2: 416\n",
      "units3: 288\n",
      "units4: 512\n",
      "units5: 256\n",
      "units6: 288\n",
      "units7: 512\n",
      "units8: 288\n",
      "units9: 448\n",
      "units10: 160\n",
      "units11: 32\n",
      "units12: 320\n",
      "units13: 512\n",
      "units14: 64\n",
      "units15: 224\n",
      "units16: 256\n",
      "units17: 320\n",
      "units18: 64\n",
      "units19: 96\n",
      "units20: 288\n",
      "Score: 0.0\n",
      "\n",
      "Trial 4 summary\n",
      "Hyperparameters:\n",
      "num_layers: 11\n",
      "units0: 320\n",
      "initializer: uniform\n",
      "activation: tanh\n",
      "units1: 480\n",
      "units2: 288\n",
      "units3: 96\n",
      "units4: 32\n",
      "units5: 64\n",
      "units6: 352\n",
      "units7: 320\n",
      "units8: 64\n",
      "units9: 384\n",
      "units10: 160\n",
      "units11: 288\n",
      "units12: 96\n",
      "units13: 416\n",
      "units14: 320\n",
      "units15: 288\n",
      "units16: 96\n",
      "units17: 384\n",
      "units18: 416\n",
      "units19: 384\n",
      "units20: 224\n",
      "Score: 0.0\n"
     ]
    }
   ],
   "source": [
    "tuner.results_summary()\n"
   ]
  },
  {
   "cell_type": "code",
   "execution_count": 20,
   "id": "89362986",
   "metadata": {
    "execution": {
     "iopub.execute_input": "2023-07-08T23:39:42.738993Z",
     "iopub.status.busy": "2023-07-08T23:39:42.738616Z",
     "iopub.status.idle": "2023-07-09T00:22:26.413374Z",
     "shell.execute_reply": "2023-07-09T00:22:26.412331Z"
    },
    "papermill": {
     "duration": 2567.540087,
     "end_time": "2023-07-09T00:22:30.094190",
     "exception": false,
     "start_time": "2023-07-08T23:39:42.554103",
     "status": "completed"
    },
    "tags": []
   },
   "outputs": [
    {
     "name": "stdout",
     "output_type": "stream",
     "text": [
      "Epoch 1/51\n",
      "7790/7790 [==============================] - 55s 6ms/step - loss: nan - accuracy: 0.0996 - val_loss: nan - val_accuracy: 0.0000e+00\n",
      "Epoch 2/51\n",
      "7790/7790 [==============================] - 49s 6ms/step - loss: nan - accuracy: 0.0995 - val_loss: nan - val_accuracy: 0.0000e+00\n",
      "Epoch 3/51\n",
      "7790/7790 [==============================] - 48s 6ms/step - loss: nan - accuracy: 0.1002 - val_loss: nan - val_accuracy: 0.0000e+00\n",
      "Epoch 4/51\n",
      "7790/7790 [==============================] - 49s 6ms/step - loss: nan - accuracy: 0.1004 - val_loss: nan - val_accuracy: 0.0000e+00\n",
      "Epoch 5/51\n",
      "7790/7790 [==============================] - 49s 6ms/step - loss: nan - accuracy: 0.0990 - val_loss: nan - val_accuracy: 0.0000e+00\n",
      "Epoch 6/51\n",
      "7790/7790 [==============================] - 51s 7ms/step - loss: nan - accuracy: 0.0999 - val_loss: nan - val_accuracy: 0.0000e+00\n",
      "Epoch 7/51\n",
      "7790/7790 [==============================] - 50s 6ms/step - loss: nan - accuracy: 0.0989 - val_loss: nan - val_accuracy: 0.0000e+00\n",
      "Epoch 8/51\n",
      "7790/7790 [==============================] - 50s 6ms/step - loss: nan - accuracy: 0.1001 - val_loss: nan - val_accuracy: 0.0000e+00\n",
      "Epoch 9/51\n",
      "7790/7790 [==============================] - 50s 6ms/step - loss: nan - accuracy: 0.0992 - val_loss: nan - val_accuracy: 0.0000e+00\n",
      "Epoch 10/51\n",
      "7790/7790 [==============================] - 48s 6ms/step - loss: nan - accuracy: 0.0980 - val_loss: nan - val_accuracy: 0.0000e+00\n",
      "Epoch 11/51\n",
      "7790/7790 [==============================] - 50s 6ms/step - loss: nan - accuracy: 0.0990 - val_loss: nan - val_accuracy: 0.0000e+00\n",
      "Epoch 12/51\n",
      "7790/7790 [==============================] - 50s 6ms/step - loss: nan - accuracy: 0.0989 - val_loss: nan - val_accuracy: 0.0000e+00\n",
      "Epoch 13/51\n",
      "7790/7790 [==============================] - 50s 6ms/step - loss: nan - accuracy: 0.0993 - val_loss: nan - val_accuracy: 0.0000e+00\n",
      "Epoch 14/51\n",
      "7790/7790 [==============================] - 49s 6ms/step - loss: nan - accuracy: 0.0996 - val_loss: nan - val_accuracy: 0.0000e+00\n",
      "Epoch 15/51\n",
      "7790/7790 [==============================] - 50s 6ms/step - loss: nan - accuracy: 0.0990 - val_loss: nan - val_accuracy: 0.0000e+00\n",
      "Epoch 16/51\n",
      "7790/7790 [==============================] - 50s 6ms/step - loss: nan - accuracy: 0.0997 - val_loss: nan - val_accuracy: 0.0000e+00\n",
      "Epoch 17/51\n",
      "7790/7790 [==============================] - 49s 6ms/step - loss: nan - accuracy: 0.0990 - val_loss: nan - val_accuracy: 0.0000e+00\n",
      "Epoch 18/51\n",
      "7790/7790 [==============================] - 50s 6ms/step - loss: nan - accuracy: 0.0990 - val_loss: nan - val_accuracy: 0.0000e+00\n",
      "Epoch 19/51\n",
      "7790/7790 [==============================] - 49s 6ms/step - loss: nan - accuracy: 0.0987 - val_loss: nan - val_accuracy: 0.0000e+00\n",
      "Epoch 20/51\n",
      "7790/7790 [==============================] - 50s 6ms/step - loss: nan - accuracy: 0.0997 - val_loss: nan - val_accuracy: 0.0000e+00\n",
      "Epoch 21/51\n",
      "7790/7790 [==============================] - 49s 6ms/step - loss: nan - accuracy: 0.0996 - val_loss: nan - val_accuracy: 0.0000e+00\n",
      "Epoch 22/51\n",
      "7790/7790 [==============================] - 50s 6ms/step - loss: nan - accuracy: 0.1000 - val_loss: nan - val_accuracy: 0.0000e+00\n",
      "Epoch 23/51\n",
      "7790/7790 [==============================] - 49s 6ms/step - loss: nan - accuracy: 0.0981 - val_loss: nan - val_accuracy: 0.0000e+00\n",
      "Epoch 24/51\n",
      "7790/7790 [==============================] - 49s 6ms/step - loss: nan - accuracy: 0.0991 - val_loss: nan - val_accuracy: 0.0000e+00\n",
      "Epoch 25/51\n",
      "7790/7790 [==============================] - 51s 6ms/step - loss: nan - accuracy: 0.0995 - val_loss: nan - val_accuracy: 0.0000e+00\n",
      "Epoch 26/51\n",
      "7790/7790 [==============================] - 49s 6ms/step - loss: nan - accuracy: 0.0984 - val_loss: nan - val_accuracy: 0.0000e+00\n",
      "Epoch 27/51\n",
      "7790/7790 [==============================] - 50s 6ms/step - loss: nan - accuracy: 0.1001 - val_loss: nan - val_accuracy: 0.0000e+00\n",
      "Epoch 28/51\n",
      "7790/7790 [==============================] - 49s 6ms/step - loss: nan - accuracy: 0.0987 - val_loss: nan - val_accuracy: 0.0000e+00\n",
      "Epoch 29/51\n",
      "7790/7790 [==============================] - 52s 7ms/step - loss: nan - accuracy: 0.0991 - val_loss: nan - val_accuracy: 0.0000e+00\n",
      "Epoch 30/51\n",
      "7790/7790 [==============================] - 50s 6ms/step - loss: nan - accuracy: 0.0984 - val_loss: nan - val_accuracy: 0.0000e+00\n",
      "Epoch 31/51\n",
      "7790/7790 [==============================] - 50s 6ms/step - loss: nan - accuracy: 0.0998 - val_loss: nan - val_accuracy: 0.0000e+00\n",
      "Epoch 32/51\n",
      "7790/7790 [==============================] - 51s 7ms/step - loss: nan - accuracy: 0.0982 - val_loss: nan - val_accuracy: 0.0000e+00\n",
      "Epoch 33/51\n",
      "7790/7790 [==============================] - 51s 7ms/step - loss: nan - accuracy: 0.0985 - val_loss: nan - val_accuracy: 0.0000e+00\n",
      "Epoch 34/51\n",
      "7790/7790 [==============================] - 50s 6ms/step - loss: nan - accuracy: 0.0999 - val_loss: nan - val_accuracy: 0.0000e+00\n",
      "Epoch 35/51\n",
      "7790/7790 [==============================] - 51s 7ms/step - loss: nan - accuracy: 0.0996 - val_loss: nan - val_accuracy: 0.0000e+00\n",
      "Epoch 36/51\n",
      "7790/7790 [==============================] - 50s 6ms/step - loss: nan - accuracy: 0.0991 - val_loss: nan - val_accuracy: 0.0000e+00\n",
      "Epoch 37/51\n",
      "7790/7790 [==============================] - 51s 7ms/step - loss: nan - accuracy: 0.0979 - val_loss: nan - val_accuracy: 0.0000e+00\n",
      "Epoch 38/51\n",
      "7790/7790 [==============================] - 50s 6ms/step - loss: nan - accuracy: 0.0996 - val_loss: nan - val_accuracy: 0.0000e+00\n",
      "Epoch 39/51\n",
      "7790/7790 [==============================] - 49s 6ms/step - loss: nan - accuracy: 0.0989 - val_loss: nan - val_accuracy: 0.0000e+00\n",
      "Epoch 40/51\n",
      "7790/7790 [==============================] - 51s 7ms/step - loss: nan - accuracy: 0.0989 - val_loss: nan - val_accuracy: 0.0000e+00\n",
      "Epoch 41/51\n",
      "7790/7790 [==============================] - 50s 6ms/step - loss: nan - accuracy: 0.1000 - val_loss: nan - val_accuracy: 0.0000e+00\n",
      "Epoch 42/51\n",
      "7790/7790 [==============================] - 53s 7ms/step - loss: nan - accuracy: 0.1000 - val_loss: nan - val_accuracy: 0.0000e+00\n",
      "Epoch 43/51\n",
      "7790/7790 [==============================] - 50s 6ms/step - loss: nan - accuracy: 0.0994 - val_loss: nan - val_accuracy: 0.0000e+00\n",
      "Epoch 44/51\n",
      "7790/7790 [==============================] - 51s 7ms/step - loss: nan - accuracy: 0.0996 - val_loss: nan - val_accuracy: 0.0000e+00\n",
      "Epoch 45/51\n",
      "7790/7790 [==============================] - 50s 6ms/step - loss: nan - accuracy: 0.0983 - val_loss: nan - val_accuracy: 0.0000e+00\n",
      "Epoch 46/51\n",
      "7790/7790 [==============================] - 50s 6ms/step - loss: nan - accuracy: 0.0988 - val_loss: nan - val_accuracy: 0.0000e+00\n",
      "Epoch 47/51\n",
      "7790/7790 [==============================] - 52s 7ms/step - loss: nan - accuracy: 0.0999 - val_loss: nan - val_accuracy: 0.0000e+00\n",
      "Epoch 48/51\n",
      "7790/7790 [==============================] - 51s 7ms/step - loss: nan - accuracy: 0.0997 - val_loss: nan - val_accuracy: 0.0000e+00\n",
      "Epoch 49/51\n",
      "7790/7790 [==============================] - 52s 7ms/step - loss: nan - accuracy: 0.0994 - val_loss: nan - val_accuracy: 0.0000e+00\n",
      "Epoch 50/51\n",
      "7790/7790 [==============================] - 51s 7ms/step - loss: nan - accuracy: 0.0992 - val_loss: nan - val_accuracy: 0.0000e+00\n",
      "Epoch 51/51\n",
      "7790/7790 [==============================] - 50s 6ms/step - loss: nan - accuracy: 0.0993 - val_loss: nan - val_accuracy: 0.0000e+00\n"
     ]
    }
   ],
   "source": [
    "model=tuner.get_best_models(num_models=1)[0]\n",
    "history = model.fit(x_train,y_train, epochs=51, validation_data=(x_test,y_test))\n",
    "\n"
   ]
  },
  {
   "cell_type": "code",
   "execution_count": 21,
   "id": "f94d9dae",
   "metadata": {
    "execution": {
     "iopub.execute_input": "2023-07-09T00:22:37.634862Z",
     "iopub.status.busy": "2023-07-09T00:22:37.634490Z",
     "iopub.status.idle": "2023-07-09T00:26:01.740792Z",
     "shell.execute_reply": "2023-07-09T00:26:01.739523Z"
    },
    "papermill": {
     "duration": 207.933436,
     "end_time": "2023-07-09T00:26:01.743242",
     "exception": false,
     "start_time": "2023-07-09T00:22:33.809806",
     "status": "completed"
    },
    "tags": []
   },
   "outputs": [
    {
     "name": "stdout",
     "output_type": "stream",
     "text": [
      "Model: \"sequential\"\n",
      "_________________________________________________________________\n",
      " Layer (type)                Output Shape              Param #   \n",
      "=================================================================\n",
      " dense (Dense)               (None, 32)                224       \n",
      "                                                                 \n",
      " dense_1 (Dense)             (None, 352)               11616     \n",
      "                                                                 \n",
      " dense_2 (Dense)             (None, 32)                11296     \n",
      "                                                                 \n",
      " dense_3 (Dense)             (None, 32)                1056      \n",
      "                                                                 \n",
      " dense_4 (Dense)             (None, 32)                1056      \n",
      "                                                                 \n",
      " dense_5 (Dense)             (None, 32)                1056      \n",
      "                                                                 \n",
      " dense_6 (Dense)             (None, 32)                1056      \n",
      "                                                                 \n",
      " dense_7 (Dense)             (None, 32)                1056      \n",
      "                                                                 \n",
      " dense_8 (Dense)             (None, 32)                1056      \n",
      "                                                                 \n",
      " dense_9 (Dense)             (None, 32)                1056      \n",
      "                                                                 \n",
      " dense_10 (Dense)            (None, 32)                1056      \n",
      "                                                                 \n",
      " dense_11 (Dense)            (None, 32)                1056      \n",
      "                                                                 \n",
      " dense_12 (Dense)            (None, 32)                1056      \n",
      "                                                                 \n",
      " dense_13 (Dense)            (None, 6)                 198       \n",
      "                                                                 \n",
      " dropout (Dropout)           (None, 6)                 0         \n",
      "                                                                 \n",
      "=================================================================\n",
      "Total params: 33,894\n",
      "Trainable params: 33,894\n",
      "Non-trainable params: 0\n",
      "_________________________________________________________________\n",
      "Epoch 1/200\n",
      "7790/7790 [==============================] - 51s 7ms/step - loss: nan - accuracy: 0.0996 - val_loss: nan - val_accuracy: 0.0000e+00\n",
      "Epoch 2/200\n",
      "7790/7790 [==============================] - 51s 7ms/step - loss: nan - accuracy: 0.0989 - val_loss: nan - val_accuracy: 0.0000e+00\n",
      "Epoch 3/200\n",
      "7790/7790 [==============================] - 53s 7ms/step - loss: nan - accuracy: 0.0990 - val_loss: nan - val_accuracy: 0.0000e+00\n",
      "Epoch 4/200\n",
      "7790/7790 [==============================] - 49s 6ms/step - loss: nan - accuracy: 0.0988 - val_loss: nan - val_accuracy: 0.0000e+00\n"
     ]
    }
   ],
   "source": [
    "model.summary()\n",
    "import tensorflow as tf\n",
    "\n",
    "from tensorflow import keras\n",
    "\n",
    "Callback = tf.keras.callbacks.EarlyStopping(monitor='accuracy', patience=3)\n",
    "mo_fitt = model.fit(x_train,y_train, epochs=200, validation_data=(x_test,y_test), callbacks=Callback)"
   ]
  },
  {
   "cell_type": "code",
   "execution_count": 22,
   "id": "6e3e0d68",
   "metadata": {
    "execution": {
     "iopub.execute_input": "2023-07-09T00:26:10.259702Z",
     "iopub.status.busy": "2023-07-09T00:26:10.259308Z",
     "iopub.status.idle": "2023-07-09T00:26:10.264619Z",
     "shell.execute_reply": "2023-07-09T00:26:10.263727Z"
    },
    "papermill": {
     "duration": 3.957644,
     "end_time": "2023-07-09T00:26:10.266754",
     "exception": false,
     "start_time": "2023-07-09T00:26:06.309110",
     "status": "completed"
    },
    "tags": []
   },
   "outputs": [],
   "source": [
    "accuracy = mo_fitt.history['accuracy']\n",
    "loss = mo_fitt.history['loss']\n",
    "validation_loss = mo_fitt.history['val_loss']\n",
    "validation_accuracy = mo_fitt.history['val_accuracy']\n",
    "\n",
    "\n",
    "\n"
   ]
  },
  {
   "cell_type": "code",
   "execution_count": 23,
   "id": "20eaaeec",
   "metadata": {
    "execution": {
     "iopub.execute_input": "2023-07-09T00:26:18.216423Z",
     "iopub.status.busy": "2023-07-09T00:26:18.216052Z",
     "iopub.status.idle": "2023-07-09T00:26:18.222385Z",
     "shell.execute_reply": "2023-07-09T00:26:18.221365Z"
    },
    "papermill": {
     "duration": 3.953189,
     "end_time": "2023-07-09T00:26:18.225410",
     "exception": false,
     "start_time": "2023-07-09T00:26:14.272221",
     "status": "completed"
    },
    "tags": []
   },
   "outputs": [
    {
     "data": {
      "text/plain": [
       "<keras.engine.sequential.Sequential at 0x782eb02bbeb0>"
      ]
     },
     "execution_count": 23,
     "metadata": {},
     "output_type": "execute_result"
    }
   ],
   "source": [
    "model"
   ]
  },
  {
   "cell_type": "markdown",
   "id": "eb7905eb",
   "metadata": {
    "papermill": {
     "duration": 4.044791,
     "end_time": "2023-07-09T00:26:26.316817",
     "exception": false,
     "start_time": "2023-07-09T00:26:22.272026",
     "status": "completed"
    },
    "tags": []
   },
   "source": [
    "# <div style=\"background-color:#fff1cc; padding: 20px;\">As the author of dataset and this notebook I Thank you for viewing my work.If you like it, consider sharing it to others or give feedback to improve the notebook and Dataset 😊.\n",
    "\n",
    " </div>"
   ]
  },
  {
   "cell_type": "code",
   "execution_count": null,
   "id": "7f3320be",
   "metadata": {
    "papermill": {
     "duration": 3.990444,
     "end_time": "2023-07-09T00:26:34.260922",
     "exception": false,
     "start_time": "2023-07-09T00:26:30.270478",
     "status": "completed"
    },
    "tags": []
   },
   "outputs": [],
   "source": []
  }
 ],
 "metadata": {
  "kernelspec": {
   "display_name": "Python 3",
   "language": "python",
   "name": "python3"
  },
  "language_info": {
   "codemirror_mode": {
    "name": "ipython",
    "version": 3
   },
   "file_extension": ".py",
   "mimetype": "text/x-python",
   "name": "python",
   "nbconvert_exporter": "python",
   "pygments_lexer": "ipython3",
   "version": "3.10.10"
  },
  "papermill": {
   "default_parameters": {},
   "duration": 7594.592836,
   "end_time": "2023-07-09T00:26:41.758604",
   "environment_variables": {},
   "exception": null,
   "input_path": "__notebook__.ipynb",
   "output_path": "__notebook__.ipynb",
   "parameters": {},
   "start_time": "2023-07-08T22:20:07.165768",
   "version": "2.4.0"
  }
 },
 "nbformat": 4,
 "nbformat_minor": 5
}

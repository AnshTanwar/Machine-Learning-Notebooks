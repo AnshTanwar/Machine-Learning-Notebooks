{
 "cells": [
  {
   "cell_type": "code",
   "execution_count": 1,
   "id": "8da4a937",
   "metadata": {
    "_cell_guid": "b1076dfc-b9ad-4769-8c92-a6c4dae69d19",
    "_uuid": "8f2839f25d086af736a60e9eeb907d3b93b6e0e5",
    "execution": {
     "iopub.execute_input": "2024-04-12T14:39:13.825507Z",
     "iopub.status.busy": "2024-04-12T14:39:13.824546Z",
     "iopub.status.idle": "2024-04-12T14:39:15.028005Z",
     "shell.execute_reply": "2024-04-12T14:39:15.026045Z"
    },
    "papermill": {
     "duration": 1.215018,
     "end_time": "2024-04-12T14:39:15.031069",
     "exception": false,
     "start_time": "2024-04-12T14:39:13.816051",
     "status": "completed"
    },
    "tags": []
   },
   "outputs": [
    {
     "name": "stdout",
     "output_type": "stream",
     "text": [
      "/kaggle/input/caltech1/caltech1.csv\n",
      "/kaggle/input/merged-caltech-weather-traffic/merged_data_wt2.csv\n",
      "/kaggle/input/merged-caltech-weather-traffic/merged_data_wt.csv\n"
     ]
    }
   ],
   "source": [
    "# This Python 3 environment comes with many helpful analytics libraries installed\n",
    "# It is defined by the kaggle/python Docker image: https://github.com/kaggle/docker-python\n",
    "# For example, here's several helpful packages to load\n",
    "\n",
    "import numpy as np # linear algebra\n",
    "import pandas as pd # data processing, CSV file I/O (e.g. pd.read_csv)\n",
    "\n",
    "# Input data files are available in the read-only \"../input/\" directory\n",
    "# For example, running this (by clicking run or pressing Shift+Enter) will list all files under the input directory\n",
    "\n",
    "import os\n",
    "for dirname, _, filenames in os.walk('/kaggle/input'):\n",
    "    for filename in filenames:\n",
    "        print(os.path.join(dirname, filename))\n",
    "\n",
    "# You can write up to 20GB to the current directory (/kaggle/working/) that gets preserved as output when you create a version using \"Save & Run All\" \n",
    "# You can also write temporary files to /kaggle/temp/, but they won't be saved outside of the current session"
   ]
  },
  {
   "cell_type": "code",
   "execution_count": 2,
   "id": "8933e9a9",
   "metadata": {
    "execution": {
     "iopub.execute_input": "2024-04-12T14:39:15.047835Z",
     "iopub.status.busy": "2024-04-12T14:39:15.046229Z",
     "iopub.status.idle": "2024-04-12T14:39:16.768862Z",
     "shell.execute_reply": "2024-04-12T14:39:16.767454Z"
    },
    "papermill": {
     "duration": 1.734004,
     "end_time": "2024-04-12T14:39:16.771999",
     "exception": false,
     "start_time": "2024-04-12T14:39:15.037995",
     "status": "completed"
    },
    "tags": []
   },
   "outputs": [],
   "source": [
    "import pandas as pd\n",
    "import numpy as np\n",
    "import seaborn as sns\n",
    "import matplotlib.pyplot as plt"
   ]
  },
  {
   "cell_type": "code",
   "execution_count": 3,
   "id": "156259c3",
   "metadata": {
    "execution": {
     "iopub.execute_input": "2024-04-12T14:39:16.787592Z",
     "iopub.status.busy": "2024-04-12T14:39:16.786744Z",
     "iopub.status.idle": "2024-04-12T14:39:16.838343Z",
     "shell.execute_reply": "2024-04-12T14:39:16.836855Z"
    },
    "papermill": {
     "duration": 0.062962,
     "end_time": "2024-04-12T14:39:16.841643",
     "exception": false,
     "start_time": "2024-04-12T14:39:16.778681",
     "status": "completed"
    },
    "tags": []
   },
   "outputs": [],
   "source": [
    "df = pd.read_csv('/kaggle/input/merged-caltech-weather-traffic/merged_data_wt2.csv')\n"
   ]
  },
  {
   "cell_type": "code",
   "execution_count": 4,
   "id": "80a0f7ed",
   "metadata": {
    "execution": {
     "iopub.execute_input": "2024-04-12T14:39:16.856598Z",
     "iopub.status.busy": "2024-04-12T14:39:16.856168Z",
     "iopub.status.idle": "2024-04-12T14:39:16.865329Z",
     "shell.execute_reply": "2024-04-12T14:39:16.864193Z"
    },
    "papermill": {
     "duration": 0.019841,
     "end_time": "2024-04-12T14:39:16.868011",
     "exception": false,
     "start_time": "2024-04-12T14:39:16.848170",
     "status": "completed"
    },
    "tags": []
   },
   "outputs": [
    {
     "data": {
      "text/plain": [
       "Index(['Unnamed: 0', 'sessionID', 'stationID', 'spaceID', 'connectionTime',\n",
       "       'disconnectTime', 'kWhDelivered', 'doneChargingTime', 'timezone',\n",
       "       'userID', 'session_duration', 'Weekend', 'connectionDate', 'clouds',\n",
       "       'datetime', 'dewpt', 'max_uv', 'max_wind_spd', 'min_temp', 'precip',\n",
       "       'pres', 'revision_status', 'rh', 'slp', 'temp', 'wind_dir', 'wind_spd',\n",
       "       'Date', 'TrafficVolume', 'AverageSpeed'],\n",
       "      dtype='object')"
      ]
     },
     "execution_count": 4,
     "metadata": {},
     "output_type": "execute_result"
    }
   ],
   "source": [
    "df.columns"
   ]
  },
  {
   "cell_type": "code",
   "execution_count": 5,
   "id": "e9d5b770",
   "metadata": {
    "execution": {
     "iopub.execute_input": "2024-04-12T14:39:16.884593Z",
     "iopub.status.busy": "2024-04-12T14:39:16.883703Z",
     "iopub.status.idle": "2024-04-12T14:39:16.901117Z",
     "shell.execute_reply": "2024-04-12T14:39:16.900170Z"
    },
    "papermill": {
     "duration": 0.029356,
     "end_time": "2024-04-12T14:39:16.904192",
     "exception": false,
     "start_time": "2024-04-12T14:39:16.874836",
     "status": "completed"
    },
    "tags": []
   },
   "outputs": [],
   "source": [
    "df = df.drop(['Unnamed: 0','sessionID','connectionTime','disconnectTime','doneChargingTime','timezone','datetime','connectionDate', 'Date', 'revision_status'], axis=1)"
   ]
  },
  {
   "cell_type": "code",
   "execution_count": 6,
   "id": "1351b4d1",
   "metadata": {
    "execution": {
     "iopub.execute_input": "2024-04-12T14:39:16.920608Z",
     "iopub.status.busy": "2024-04-12T14:39:16.919933Z",
     "iopub.status.idle": "2024-04-12T14:39:16.926247Z",
     "shell.execute_reply": "2024-04-12T14:39:16.925118Z"
    },
    "papermill": {
     "duration": 0.017156,
     "end_time": "2024-04-12T14:39:16.928640",
     "exception": false,
     "start_time": "2024-04-12T14:39:16.911484",
     "status": "completed"
    },
    "tags": []
   },
   "outputs": [
    {
     "data": {
      "text/plain": [
       "(1945, 20)"
      ]
     },
     "execution_count": 6,
     "metadata": {},
     "output_type": "execute_result"
    }
   ],
   "source": [
    "df.shape"
   ]
  },
  {
   "cell_type": "code",
   "execution_count": 7,
   "id": "d74595b7",
   "metadata": {
    "execution": {
     "iopub.execute_input": "2024-04-12T14:39:16.945459Z",
     "iopub.status.busy": "2024-04-12T14:39:16.944744Z",
     "iopub.status.idle": "2024-04-12T14:39:16.950848Z",
     "shell.execute_reply": "2024-04-12T14:39:16.950061Z"
    },
    "papermill": {
     "duration": 0.017372,
     "end_time": "2024-04-12T14:39:16.953219",
     "exception": false,
     "start_time": "2024-04-12T14:39:16.935847",
     "status": "completed"
    },
    "tags": []
   },
   "outputs": [
    {
     "data": {
      "text/plain": [
       "Index(['stationID', 'spaceID', 'kWhDelivered', 'userID', 'session_duration',\n",
       "       'Weekend', 'clouds', 'dewpt', 'max_uv', 'max_wind_spd', 'min_temp',\n",
       "       'precip', 'pres', 'rh', 'slp', 'temp', 'wind_dir', 'wind_spd',\n",
       "       'TrafficVolume', 'AverageSpeed'],\n",
       "      dtype='object')"
      ]
     },
     "execution_count": 7,
     "metadata": {},
     "output_type": "execute_result"
    }
   ],
   "source": [
    "df.columns"
   ]
  },
  {
   "cell_type": "code",
   "execution_count": 8,
   "id": "25b4c9db",
   "metadata": {
    "execution": {
     "iopub.execute_input": "2024-04-12T14:39:16.970544Z",
     "iopub.status.busy": "2024-04-12T14:39:16.969826Z",
     "iopub.status.idle": "2024-04-12T14:39:17.003488Z",
     "shell.execute_reply": "2024-04-12T14:39:17.001699Z"
    },
    "papermill": {
     "duration": 0.045484,
     "end_time": "2024-04-12T14:39:17.006370",
     "exception": false,
     "start_time": "2024-04-12T14:39:16.960886",
     "status": "completed"
    },
    "tags": []
   },
   "outputs": [
    {
     "data": {
      "text/html": [
       "<div>\n",
       "<style scoped>\n",
       "    .dataframe tbody tr th:only-of-type {\n",
       "        vertical-align: middle;\n",
       "    }\n",
       "\n",
       "    .dataframe tbody tr th {\n",
       "        vertical-align: top;\n",
       "    }\n",
       "\n",
       "    .dataframe thead th {\n",
       "        text-align: right;\n",
       "    }\n",
       "</style>\n",
       "<table border=\"1\" class=\"dataframe\">\n",
       "  <thead>\n",
       "    <tr style=\"text-align: right;\">\n",
       "      <th></th>\n",
       "      <th>stationID</th>\n",
       "      <th>spaceID</th>\n",
       "      <th>kWhDelivered</th>\n",
       "      <th>userID</th>\n",
       "      <th>session_duration</th>\n",
       "      <th>Weekend</th>\n",
       "      <th>clouds</th>\n",
       "      <th>dewpt</th>\n",
       "      <th>max_uv</th>\n",
       "      <th>max_wind_spd</th>\n",
       "      <th>min_temp</th>\n",
       "      <th>precip</th>\n",
       "      <th>pres</th>\n",
       "      <th>rh</th>\n",
       "      <th>slp</th>\n",
       "      <th>temp</th>\n",
       "      <th>wind_dir</th>\n",
       "      <th>wind_spd</th>\n",
       "      <th>TrafficVolume</th>\n",
       "      <th>AverageSpeed</th>\n",
       "    </tr>\n",
       "  </thead>\n",
       "  <tbody>\n",
       "    <tr>\n",
       "      <th>0</th>\n",
       "      <td>2-39-131-30</td>\n",
       "      <td>CA-305</td>\n",
       "      <td>39.894</td>\n",
       "      <td>claimed</td>\n",
       "      <td>1049.750000</td>\n",
       "      <td>0</td>\n",
       "      <td>51</td>\n",
       "      <td>1.6</td>\n",
       "      <td>2.9</td>\n",
       "      <td>3.4</td>\n",
       "      <td>1.5</td>\n",
       "      <td>0.8</td>\n",
       "      <td>987</td>\n",
       "      <td>80.0</td>\n",
       "      <td>1011</td>\n",
       "      <td>5.0</td>\n",
       "      <td>172</td>\n",
       "      <td>1.4</td>\n",
       "      <td>175.16875</td>\n",
       "      <td>34.242583</td>\n",
       "    </tr>\n",
       "    <tr>\n",
       "      <th>1</th>\n",
       "      <td>2-39-88-24</td>\n",
       "      <td>CA-314</td>\n",
       "      <td>10.627</td>\n",
       "      <td>claimed</td>\n",
       "      <td>198.066667</td>\n",
       "      <td>0</td>\n",
       "      <td>51</td>\n",
       "      <td>1.6</td>\n",
       "      <td>2.9</td>\n",
       "      <td>3.4</td>\n",
       "      <td>1.5</td>\n",
       "      <td>0.8</td>\n",
       "      <td>987</td>\n",
       "      <td>80.0</td>\n",
       "      <td>1011</td>\n",
       "      <td>5.0</td>\n",
       "      <td>172</td>\n",
       "      <td>1.4</td>\n",
       "      <td>175.16875</td>\n",
       "      <td>34.242583</td>\n",
       "    </tr>\n",
       "    <tr>\n",
       "      <th>2</th>\n",
       "      <td>2-39-139-28</td>\n",
       "      <td>CA-303</td>\n",
       "      <td>30.479</td>\n",
       "      <td>claimed</td>\n",
       "      <td>288.916667</td>\n",
       "      <td>1</td>\n",
       "      <td>92</td>\n",
       "      <td>1.6</td>\n",
       "      <td>1.5</td>\n",
       "      <td>2.4</td>\n",
       "      <td>2.4</td>\n",
       "      <td>1.5</td>\n",
       "      <td>997</td>\n",
       "      <td>73.5</td>\n",
       "      <td>1021</td>\n",
       "      <td>6.3</td>\n",
       "      <td>53</td>\n",
       "      <td>1.6</td>\n",
       "      <td>175.16875</td>\n",
       "      <td>34.242583</td>\n",
       "    </tr>\n",
       "    <tr>\n",
       "      <th>3</th>\n",
       "      <td>2-39-89-25</td>\n",
       "      <td>CA-315</td>\n",
       "      <td>1.650</td>\n",
       "      <td>claimed</td>\n",
       "      <td>92.283333</td>\n",
       "      <td>1</td>\n",
       "      <td>92</td>\n",
       "      <td>1.6</td>\n",
       "      <td>1.5</td>\n",
       "      <td>2.4</td>\n",
       "      <td>2.4</td>\n",
       "      <td>1.5</td>\n",
       "      <td>997</td>\n",
       "      <td>73.5</td>\n",
       "      <td>1021</td>\n",
       "      <td>6.3</td>\n",
       "      <td>53</td>\n",
       "      <td>1.6</td>\n",
       "      <td>175.16875</td>\n",
       "      <td>34.242583</td>\n",
       "    </tr>\n",
       "    <tr>\n",
       "      <th>4</th>\n",
       "      <td>2-39-123-23</td>\n",
       "      <td>CA-313</td>\n",
       "      <td>7.049</td>\n",
       "      <td>claimed</td>\n",
       "      <td>127.866667</td>\n",
       "      <td>1</td>\n",
       "      <td>92</td>\n",
       "      <td>1.6</td>\n",
       "      <td>1.5</td>\n",
       "      <td>2.4</td>\n",
       "      <td>2.4</td>\n",
       "      <td>1.5</td>\n",
       "      <td>997</td>\n",
       "      <td>73.5</td>\n",
       "      <td>1021</td>\n",
       "      <td>6.3</td>\n",
       "      <td>53</td>\n",
       "      <td>1.6</td>\n",
       "      <td>175.16875</td>\n",
       "      <td>34.242583</td>\n",
       "    </tr>\n",
       "  </tbody>\n",
       "</table>\n",
       "</div>"
      ],
      "text/plain": [
       "     stationID spaceID  kWhDelivered   userID  session_duration  Weekend  \\\n",
       "0  2-39-131-30  CA-305        39.894  claimed       1049.750000        0   \n",
       "1   2-39-88-24  CA-314        10.627  claimed        198.066667        0   \n",
       "2  2-39-139-28  CA-303        30.479  claimed        288.916667        1   \n",
       "3   2-39-89-25  CA-315         1.650  claimed         92.283333        1   \n",
       "4  2-39-123-23  CA-313         7.049  claimed        127.866667        1   \n",
       "\n",
       "   clouds  dewpt  max_uv  max_wind_spd  min_temp  precip  pres    rh   slp  \\\n",
       "0      51    1.6     2.9           3.4       1.5     0.8   987  80.0  1011   \n",
       "1      51    1.6     2.9           3.4       1.5     0.8   987  80.0  1011   \n",
       "2      92    1.6     1.5           2.4       2.4     1.5   997  73.5  1021   \n",
       "3      92    1.6     1.5           2.4       2.4     1.5   997  73.5  1021   \n",
       "4      92    1.6     1.5           2.4       2.4     1.5   997  73.5  1021   \n",
       "\n",
       "   temp  wind_dir  wind_spd  TrafficVolume  AverageSpeed  \n",
       "0   5.0       172       1.4      175.16875     34.242583  \n",
       "1   5.0       172       1.4      175.16875     34.242583  \n",
       "2   6.3        53       1.6      175.16875     34.242583  \n",
       "3   6.3        53       1.6      175.16875     34.242583  \n",
       "4   6.3        53       1.6      175.16875     34.242583  "
      ]
     },
     "execution_count": 8,
     "metadata": {},
     "output_type": "execute_result"
    }
   ],
   "source": [
    "df.head()"
   ]
  },
  {
   "cell_type": "code",
   "execution_count": 9,
   "id": "e4d85b00",
   "metadata": {
    "execution": {
     "iopub.execute_input": "2024-04-12T14:39:17.024163Z",
     "iopub.status.busy": "2024-04-12T14:39:17.023757Z",
     "iopub.status.idle": "2024-04-12T14:39:17.031314Z",
     "shell.execute_reply": "2024-04-12T14:39:17.030060Z"
    },
    "papermill": {
     "duration": 0.020214,
     "end_time": "2024-04-12T14:39:17.034332",
     "exception": false,
     "start_time": "2024-04-12T14:39:17.014118",
     "status": "completed"
    },
    "tags": []
   },
   "outputs": [
    {
     "data": {
      "text/plain": [
       "Index(['stationID', 'spaceID', 'kWhDelivered', 'userID', 'session_duration',\n",
       "       'Weekend', 'clouds', 'dewpt', 'max_uv', 'max_wind_spd', 'min_temp',\n",
       "       'precip', 'pres', 'rh', 'slp', 'temp', 'wind_dir', 'wind_spd',\n",
       "       'TrafficVolume', 'AverageSpeed'],\n",
       "      dtype='object')"
      ]
     },
     "execution_count": 9,
     "metadata": {},
     "output_type": "execute_result"
    }
   ],
   "source": [
    "df.columns"
   ]
  },
  {
   "cell_type": "code",
   "execution_count": 10,
   "id": "0ba874e0",
   "metadata": {
    "execution": {
     "iopub.execute_input": "2024-04-12T14:39:17.053571Z",
     "iopub.status.busy": "2024-04-12T14:39:17.052024Z",
     "iopub.status.idle": "2024-04-12T14:39:17.058278Z",
     "shell.execute_reply": "2024-04-12T14:39:17.056995Z"
    },
    "papermill": {
     "duration": 0.018618,
     "end_time": "2024-04-12T14:39:17.060986",
     "exception": false,
     "start_time": "2024-04-12T14:39:17.042368",
     "status": "completed"
    },
    "tags": []
   },
   "outputs": [],
   "source": [
    "data = df"
   ]
  },
  {
   "cell_type": "code",
   "execution_count": 11,
   "id": "2fb1981b",
   "metadata": {
    "execution": {
     "iopub.execute_input": "2024-04-12T14:39:17.079682Z",
     "iopub.status.busy": "2024-04-12T14:39:17.079230Z",
     "iopub.status.idle": "2024-04-12T14:39:17.101070Z",
     "shell.execute_reply": "2024-04-12T14:39:17.099905Z"
    },
    "papermill": {
     "duration": 0.034419,
     "end_time": "2024-04-12T14:39:17.103825",
     "exception": false,
     "start_time": "2024-04-12T14:39:17.069406",
     "status": "completed"
    },
    "tags": []
   },
   "outputs": [
    {
     "name": "stdout",
     "output_type": "stream",
     "text": [
      "Unique values in stationID: ['2-39-131-30' '2-39-88-24' '2-39-139-28' '2-39-89-25' '2-39-123-23'\n",
      " '2-39-129-17' '2-39-91-437' '2-39-127-19' '2-39-79-377' '2-39-79-382'\n",
      " '2-39-78-366' '2-39-126-560' '2-39-95-27' '2-39-79-379' '2-39-79-378'\n",
      " '2-39-78-360' '2-39-92-442' '2-39-79-381' '2-39-78-361' '2-39-78-362'\n",
      " '2-39-91-441' '2-39-78-363' '2-39-95-444' '2-39-90-26' '2-39-124-22'\n",
      " '2-39-88-438' '2-39-78-364' '2-39-79-380' '2-39-138-29' '2-39-78-367'\n",
      " '2-39-130-31' '2-39-131-565' '2-39-128-18' '2-39-78-365' '2-39-79-383'\n",
      " '2-39-92-436' '2-39-79-376' '2-39-90-440' '2-39-126-20' '2-39-125-21'\n",
      " '2-39-127-561' '2-39-123-557' '2-39-124-558' '2-39-128-562' '2-39-89-439'\n",
      " '2-39-129-563' '2-39-83-386' '2-39-130-564' '2-39-82-384' '2-39-138-566']\n",
      "Unique values in spaceID: ['CA-305' 'CA-314' 'CA-303' 'CA-315' 'CA-313' 'CA-307' 'CA-317' 'CA-309'\n",
      " 'CA-325' 'CA-491' 'CA-323' 'CA-506' 'CA-319' 'CA-327' 'CA-326' 'CA-322'\n",
      " 'CA-498' 'CA-490' 'CA-493' 'CA-496' 'CA-499' 'CA-320' 'CA-497' 'CA-316'\n",
      " 'CA-312' 'CA-502' 'CA-495' 'CA-489' 'CA-304' 'CA-494' 'CA-306' 'CA-511'\n",
      " 'CA-308' 'CA-321' 'CA-492' 'CA-318' 'CA-324' 'CA-500' 'CA-310' 'CA-311'\n",
      " 'CA-507' 'CA-503' 'CA-504' 'CA-508' 'CA-501' 'CA-509' 'CA-212' 'CA-510'\n",
      " 'CA-213' 'CA-512']\n",
      "Unique values in userID: ['claimed' 'unclaimed']\n",
      "Categorical Columns: ['userID', 'Weekend']\n",
      "Non-Categorical Columns: ['stationID', 'spaceID', 'kWhDelivered', 'session_duration', 'clouds', 'dewpt', 'max_uv', 'max_wind_spd', 'min_temp', 'precip', 'pres', 'rh', 'slp', 'temp', 'wind_dir', 'wind_spd', 'TrafficVolume', 'AverageSpeed']\n"
     ]
    }
   ],
   "source": [
    "# Identify categorical columns based on data types\n",
    "data_types = data.dtypes\n",
    "categorical_columns = data_types[data_types == 'object'].index.tolist()\n",
    "\n",
    "# Check unique values in categorical columns to confirm if they are indeed categorical\n",
    "for column in categorical_columns:\n",
    "    unique_values = data[column].unique()\n",
    "    print(f\"Unique values in {column}: {unique_values}\")\n",
    "\n",
    "# You can also set a threshold to determine if a column is categorical based on the number of unique values\n",
    "threshold_unique_values = 10  # Adjust threshold as needed\n",
    "categorical_columns = [column for column in data.columns if len(data[column].unique()) <= threshold_unique_values]\n",
    "\n",
    "# Print the identified categorical columns\n",
    "print(\"Categorical Columns:\", categorical_columns)\n",
    "\n",
    "# Non-categorical columns\n",
    "non_categorical_columns = [column for column in data.columns if column not in categorical_columns]\n",
    "print(\"Non-Categorical Columns:\", non_categorical_columns)"
   ]
  },
  {
   "cell_type": "code",
   "execution_count": 12,
   "id": "6579000c",
   "metadata": {
    "execution": {
     "iopub.execute_input": "2024-04-12T14:39:17.123273Z",
     "iopub.status.busy": "2024-04-12T14:39:17.122611Z",
     "iopub.status.idle": "2024-04-12T14:39:17.142612Z",
     "shell.execute_reply": "2024-04-12T14:39:17.141466Z"
    },
    "papermill": {
     "duration": 0.033601,
     "end_time": "2024-04-12T14:39:17.145630",
     "exception": false,
     "start_time": "2024-04-12T14:39:17.112029",
     "status": "completed"
    },
    "tags": []
   },
   "outputs": [],
   "source": [
    "import pandas as pd\n",
    "\n",
    "# Assuming 'data' is your DataFrame\n",
    "# List of categorical columns\n",
    "categorical_columns = ['spaceID', 'userID','stationID']\n",
    "\n",
    "# Apply one-hot encoding for each categorical column\n",
    "for column in categorical_columns:\n",
    "    # Convert the column to one-hot encoded representation\n",
    "    one_hot_encoded = pd.get_dummies(data[column], prefix=column)\n",
    "    # Concatenate the one-hot encoded columns to the original dataframe\n",
    "    data = pd.concat([data, one_hot_encoded], axis=1)\n",
    "    # Drop the original categorical column from the dataframe\n",
    "    data.drop(column, axis=1, inplace=True)\n"
   ]
  },
  {
   "cell_type": "code",
   "execution_count": 13,
   "id": "730a09cb",
   "metadata": {
    "execution": {
     "iopub.execute_input": "2024-04-12T14:39:17.165217Z",
     "iopub.status.busy": "2024-04-12T14:39:17.164751Z",
     "iopub.status.idle": "2024-04-12T14:39:18.330704Z",
     "shell.execute_reply": "2024-04-12T14:39:18.328837Z"
    },
    "papermill": {
     "duration": 1.181828,
     "end_time": "2024-04-12T14:39:18.336556",
     "exception": false,
     "start_time": "2024-04-12T14:39:17.154728",
     "status": "completed"
    },
    "tags": []
   },
   "outputs": [],
   "source": [
    "import pandas as pd\n",
    "from sklearn.model_selection import train_test_split\n",
    "from sklearn.preprocessing import StandardScaler\n",
    "from sklearn.impute import SimpleImputer\n",
    "from sklearn.ensemble import IsolationForest\n",
    "from sklearn.decomposition import PCA\n",
    "from sklearn.feature_selection import SelectFromModel\n",
    "from sklearn.ensemble import RandomForestRegressor\n",
    "from xgboost import XGBRegressor\n",
    "   \n",
    "imputer = SimpleImputer(strategy='mean')\n",
    "data_imputed = imputer.fit_transform(data)\n",
    "data_imputed = pd.DataFrame(data_imputed, columns=data.columns)\n",
    "\n",
    "data_imputed = data_imputed.drop(['session_duration'], axis=1)\n",
    "\n",
    "scaler = StandardScaler()\n",
    "data_scaled = scaler.fit_transform(data_imputed)\n",
    "\n",
    "\n",
    "pca = PCA(n_components=15)  \n",
    "data_pca = pca.fit_transform(data_scaled)\n",
    "\n"
   ]
  },
  {
   "cell_type": "code",
   "execution_count": 14,
   "id": "785bc3d6",
   "metadata": {
    "execution": {
     "iopub.execute_input": "2024-04-12T14:39:18.398403Z",
     "iopub.status.busy": "2024-04-12T14:39:18.397615Z",
     "iopub.status.idle": "2024-04-12T14:39:18.534682Z",
     "shell.execute_reply": "2024-04-12T14:39:18.533069Z"
    },
    "papermill": {
     "duration": 0.185889,
     "end_time": "2024-04-12T14:39:18.545926",
     "exception": false,
     "start_time": "2024-04-12T14:39:18.360037",
     "status": "completed"
    },
    "tags": []
   },
   "outputs": [],
   "source": [
    "import pandas as pd\n",
    "from sklearn.model_selection import train_test_split\n",
    "from sklearn.preprocessing import StandardScaler\n",
    "from sklearn.impute import SimpleImputer\n",
    "from sklearn.ensemble import RandomForestRegressor\n",
    "from sklearn.decomposition import PCA\n",
    "\n",
    "# Assuming 'data' contains your dataset\n",
    "\n",
    "# Impute missing values\n",
    "imputer = SimpleImputer(strategy='mean')\n",
    "data_imputed = pd.DataFrame(imputer.fit_transform(data), columns=data.columns)\n",
    "\n",
    "# Drop target variable before PCA\n",
    "X = data_imputed.drop(['session_duration'], axis=1)\n",
    "\n",
    "# Scale data\n",
    "scaler = StandardScaler()\n",
    "X_scaled = scaler.fit_transform(X)\n",
    "\n",
    "# Perform PCA\n",
    "pca = PCA(n_components=15)\n",
    "X_pca = pca.fit_transform(X_scaled)\n",
    "\n",
    "# Define target variable\n",
    "y = data_imputed['session_duration']\n",
    "\n",
    "# Split data into training and testing sets\n",
    "X_train, X_test, y_train, y_test = train_test_split(X_pca, y, test_size=0.2)"
   ]
  },
  {
   "cell_type": "code",
   "execution_count": 15,
   "id": "11a75e3d",
   "metadata": {
    "execution": {
     "iopub.execute_input": "2024-04-12T14:39:18.616940Z",
     "iopub.status.busy": "2024-04-12T14:39:18.613840Z",
     "iopub.status.idle": "2024-04-12T14:39:18.624830Z",
     "shell.execute_reply": "2024-04-12T14:39:18.623594Z"
    },
    "papermill": {
     "duration": 0.076663,
     "end_time": "2024-04-12T14:39:18.639338",
     "exception": false,
     "start_time": "2024-04-12T14:39:18.562675",
     "status": "completed"
    },
    "tags": []
   },
   "outputs": [],
   "source": [
    "# #X = data.drop(columns=['session_duration'])\n",
    "# X = data_pca\n",
    "# y = data['session_duration']"
   ]
  },
  {
   "cell_type": "code",
   "execution_count": 16,
   "id": "045e2895",
   "metadata": {
    "execution": {
     "iopub.execute_input": "2024-04-12T14:39:18.664798Z",
     "iopub.status.busy": "2024-04-12T14:39:18.664245Z",
     "iopub.status.idle": "2024-04-12T14:39:45.790743Z",
     "shell.execute_reply": "2024-04-12T14:39:45.789646Z"
    },
    "papermill": {
     "duration": 27.14435,
     "end_time": "2024-04-12T14:39:45.794947",
     "exception": false,
     "start_time": "2024-04-12T14:39:18.650597",
     "status": "completed"
    },
    "tags": []
   },
   "outputs": [
    {
     "name": "stdout",
     "output_type": "stream",
     "text": [
      "[LightGBM] [Info] Auto-choosing col-wise multi-threading, the overhead of testing was 0.002030 seconds.\n",
      "You can set `force_col_wise=true` to remove the overhead.\n",
      "[LightGBM] [Info] Total Bins 3825\n",
      "[LightGBM] [Info] Number of data points in the train set: 1556, number of used features: 15\n",
      "[LightGBM] [Info] Start training from score 340.720491\n",
      "Random Forest Metrics:\n",
      "RMSE: 222.8952712567215\n",
      "MAE: 164.61356478317555\n",
      "\n",
      "XGBoost Metrics:\n",
      "RMSE: 262.44812982101126\n",
      "MAE: 172.87854866609675\n",
      "\n",
      "LightGBM Metrics:\n",
      "RMSE: 219.68690012189904\n",
      "MAE: 160.66413806610225\n",
      "\n",
      "SVM Metrics:\n",
      "RMSE: 241.6033847485097\n",
      "MAE: 181.63518105280272\n"
     ]
    }
   ],
   "source": [
    "from sklearn.model_selection import train_test_split\n",
    "from sklearn.ensemble import RandomForestRegressor\n",
    "from xgboost import XGBRegressor\n",
    "from lightgbm import LGBMRegressor\n",
    "from sklearn.svm import SVR\n",
    "from catboost import CatBoostRegressor\n",
    "from sklearn.metrics import mean_squared_error, mean_absolute_error\n",
    "import numpy as np\n",
    "\n",
    "# Split the data into training and testing sets\n",
    "#X_train, X_test, y_train, y_test = train_test_split(X, y, test_size=0.5)\n",
    "\n",
    "# Machine Learning Model - Random Forest\n",
    "rf_model = RandomForestRegressor(n_estimators=1000, max_depth=10)\n",
    "rf_model.fit(X_train, y_train)\n",
    "rf_score = rf_model.score(X_test, y_test)\n",
    "\n",
    "# Machine Learning Model - XGBoost\n",
    "xgb_model = XGBRegressor(n_estimators=1000, max_depth=10, learning_rate=0.1)\n",
    "xgb_model.fit(X_train, y_train)\n",
    "xgb_score = xgb_model.score(X_test, y_test)\n",
    "\n",
    "# Machine Learning Model - LightGBM\n",
    "lgbm_model = LGBMRegressor()\n",
    "lgbm_model.fit(X_train, y_train)\n",
    "lgbm_score = lgbm_model.score(X_test, y_test)\n",
    "\n",
    "# Machine Learning Model - SVM\n",
    "svm_model = SVR()\n",
    "svm_model.fit(X_train, y_train)\n",
    "svm_score = svm_model.score(X_test, y_test)\n",
    "\n",
    "\n",
    "# Predictions\n",
    "rf_predictions = rf_model.predict(X_test)\n",
    "xgb_predictions = xgb_model.predict(X_test)\n",
    "lgbm_predictions = lgbm_model.predict(X_test)\n",
    "svm_predictions = svm_model.predict(X_test)\n",
    "\n",
    "\n",
    "# Calculate RMSE and MAE for Random Forest\n",
    "rf_rmse = np.sqrt(mean_squared_error(y_test, rf_predictions))\n",
    "rf_mae = mean_absolute_error(y_test, rf_predictions)\n",
    "\n",
    "# Calculate RMSE and MAE for XGBoost\n",
    "xgb_rmse = np.sqrt(mean_squared_error(y_test, xgb_predictions))\n",
    "xgb_mae = mean_absolute_error(y_test, xgb_predictions)\n",
    "\n",
    "# Calculate RMSE and MAE for LightGBM\n",
    "lgbm_rmse = np.sqrt(mean_squared_error(y_test, lgbm_predictions))\n",
    "lgbm_mae = mean_absolute_error(y_test, lgbm_predictions)\n",
    "\n",
    "# Calculate RMSE and MAE for SVM\n",
    "svm_rmse = np.sqrt(mean_squared_error(y_test, svm_predictions))\n",
    "svm_mae = mean_absolute_error(y_test, svm_predictions)\n",
    "\n",
    "\n",
    "\n",
    "# Print the evaluation metrics\n",
    "print(\"Random Forest Metrics:\")\n",
    "print(\"RMSE:\", rf_rmse)\n",
    "print(\"MAE:\", rf_mae)\n",
    "print(\"\\nXGBoost Metrics:\")\n",
    "print(\"RMSE:\", xgb_rmse)\n",
    "print(\"MAE:\", xgb_mae)\n",
    "print(\"\\nLightGBM Metrics:\")\n",
    "print(\"RMSE:\", lgbm_rmse)\n",
    "print(\"MAE:\", lgbm_mae)\n",
    "print(\"\\nSVM Metrics:\")\n",
    "print(\"RMSE:\", svm_rmse)\n",
    "print(\"MAE:\", svm_mae)\n",
    "\n"
   ]
  },
  {
   "cell_type": "code",
   "execution_count": null,
   "id": "22dd7a6d",
   "metadata": {
    "papermill": {
     "duration": 0.012426,
     "end_time": "2024-04-12T14:39:45.821545",
     "exception": false,
     "start_time": "2024-04-12T14:39:45.809119",
     "status": "completed"
    },
    "tags": []
   },
   "outputs": [],
   "source": []
  },
  {
   "cell_type": "code",
   "execution_count": null,
   "id": "8cae72dd",
   "metadata": {
    "papermill": {
     "duration": 0.012476,
     "end_time": "2024-04-12T14:39:45.847024",
     "exception": false,
     "start_time": "2024-04-12T14:39:45.834548",
     "status": "completed"
    },
    "tags": []
   },
   "outputs": [],
   "source": []
  },
  {
   "cell_type": "code",
   "execution_count": 17,
   "id": "255c1ffa",
   "metadata": {
    "execution": {
     "iopub.execute_input": "2024-04-12T14:39:45.875223Z",
     "iopub.status.busy": "2024-04-12T14:39:45.874104Z",
     "iopub.status.idle": "2024-04-12T14:39:45.882292Z",
     "shell.execute_reply": "2024-04-12T14:39:45.881166Z"
    },
    "papermill": {
     "duration": 0.025047,
     "end_time": "2024-04-12T14:39:45.885449",
     "exception": false,
     "start_time": "2024-04-12T14:39:45.860402",
     "status": "completed"
    },
    "tags": []
   },
   "outputs": [],
   "source": [
    "# # Feature Selection\n",
    "# model = RandomForestRegressor()\n",
    "# model.fit(data_pca, data_imputed['session_duration'])  # Replace 'target_column' with your target variable\n",
    "# feature_importances = model.feature_importances_\n",
    "# selector = SelectFromModel(model, prefit=True)\n",
    "# selected_features = selector.transform(data_imputeda)\n",
    "\n",
    "# # Split the data into training and testing sets\n",
    "# X_train, X_test, y_train, y_test = train_test_split(selected_features, data_imputed['session_duration'], test_size=0.2)\n",
    "\n",
    "# # Machine Learning Model - Random Forest\n",
    "# rf_model = RandomForestRegressor()\n",
    "# rf_model.fit(X_train, y_train)\n",
    "# rf_score = rf_model.score(X_test, y_test)\n",
    "\n",
    "# # Machine Learning Model - XGBoost\n",
    "# xgb_model = XGBRegressor()\n",
    "# xgb_model.fit(X_train, y_train)\n",
    "# xgb_score = xgb_model.score(X_test, y_test)\n",
    "\n",
    "# # print(\"Random Forest Score:\", rf_score)\n",
    "# # print(\"XGBoost Score:\", xgb_score)\n",
    "# from sklearn.metrics import mean_squared_error, mean_absolute_error\n",
    "# import numpy as np\n",
    "\n",
    "# # Predictions\n",
    "# rf_predictions = rf_model.predict(X_test)\n",
    "# xgb_predictions = xgb_model.predict(X_test)\n",
    "\n",
    "# # Calculate RMSE and MAE for Random Forest\n",
    "# rf_rmse = np.sqrt(mean_squared_error(y_test, rf_predictions))\n",
    "# rf_mae = mean_absolute_error(y_test, rf_predictions)\n",
    "\n",
    "# # Calculate RMSE and MAE for XGBoost\n",
    "# xgb_rmse = np.sqrt(mean_squared_error(y_test, xgb_predictions))\n",
    "# xgb_mae = mean_absolute_error(y_test, xgb_predictions)\n",
    "\n",
    "# # Print the evaluation metrics\n",
    "# print(\"Random Forest Metrics:\")\n",
    "# print(\"RMSE:\", rf_rmse)\n",
    "# print(\"MAE:\", rf_mae)\n",
    "# print(\"\\nXGBoost Metrics:\")\n",
    "# print(\"RMSE:\", xgb_rmse)\n",
    "# print(\"MAE:\", xgb_mae)\n",
    "\n"
   ]
  }
 ],
 "metadata": {
  "kaggle": {
   "accelerator": "none",
   "dataSources": [
    {
     "datasetId": 4696377,
     "sourceId": 7979644,
     "sourceType": "datasetVersion"
    },
    {
     "datasetId": 4779117,
     "sourceId": 8100492,
     "sourceType": "datasetVersion"
    }
   ],
   "dockerImageVersionId": 30673,
   "isGpuEnabled": false,
   "isInternetEnabled": true,
   "language": "python",
   "sourceType": "notebook"
  },
  "kernelspec": {
   "display_name": "Python 3",
   "language": "python",
   "name": "python3"
  },
  "language_info": {
   "codemirror_mode": {
    "name": "ipython",
    "version": 3
   },
   "file_extension": ".py",
   "mimetype": "text/x-python",
   "name": "python",
   "nbconvert_exporter": "python",
   "pygments_lexer": "ipython3",
   "version": "3.10.13"
  },
  "papermill": {
   "default_parameters": {},
   "duration": 36.29516,
   "end_time": "2024-04-12T14:39:46.819622",
   "environment_variables": {},
   "exception": null,
   "input_path": "__notebook__.ipynb",
   "output_path": "__notebook__.ipynb",
   "parameters": {},
   "start_time": "2024-04-12T14:39:10.524462",
   "version": "2.5.0"
  }
 },
 "nbformat": 4,
 "nbformat_minor": 5
}

{
 "cells": [
  {
   "cell_type": "code",
   "execution_count": 1,
   "id": "005f25e9",
   "metadata": {
    "_cell_guid": "b1076dfc-b9ad-4769-8c92-a6c4dae69d19",
    "_uuid": "8f2839f25d086af736a60e9eeb907d3b93b6e0e5",
    "execution": {
     "iopub.execute_input": "2024-04-12T17:41:34.188068Z",
     "iopub.status.busy": "2024-04-12T17:41:34.187722Z",
     "iopub.status.idle": "2024-04-12T17:41:35.003737Z",
     "shell.execute_reply": "2024-04-12T17:41:35.002583Z"
    },
    "papermill": {
     "duration": 0.825697,
     "end_time": "2024-04-12T17:41:35.006241",
     "exception": false,
     "start_time": "2024-04-12T17:41:34.180544",
     "status": "completed"
    },
    "tags": []
   },
   "outputs": [
    {
     "name": "stdout",
     "output_type": "stream",
     "text": [
      "/kaggle/input/caltech1/caltech1.csv\n",
      "/kaggle/input/hourly-traffic-combined-caltech/hourly_traffic_caltech1.csv\n",
      "/kaggle/input/merged-caltech-weather-traffic/merged_data_wt2.csv\n",
      "/kaggle/input/merged-caltech-weather-traffic/merged_data_wt.csv\n"
     ]
    }
   ],
   "source": [
    "# This Python 3 environment comes with many helpful analytics libraries installed\n",
    "# It is defined by the kaggle/python Docker image: https://github.com/kaggle/docker-python\n",
    "# For example, here's several helpful packages to load\n",
    "\n",
    "import numpy as np # linear algebra\n",
    "import pandas as pd # data processing, CSV file I/O (e.g. pd.read_csv)\n",
    "\n",
    "# Input data files are available in the read-only \"../input/\" directory\n",
    "# For example, running this (by clicking run or pressing Shift+Enter) will list all files under the input directory\n",
    "\n",
    "import os\n",
    "for dirname, _, filenames in os.walk('/kaggle/input'):\n",
    "    for filename in filenames:\n",
    "        print(os.path.join(dirname, filename))\n",
    "\n",
    "# You can write up to 20GB to the current directory (/kaggle/working/) that gets preserved as output when you create a version using \"Save & Run All\" \n",
    "# You can also write temporary files to /kaggle/temp/, but they won't be saved outside of the current session"
   ]
  },
  {
   "cell_type": "code",
   "execution_count": 2,
   "id": "71c557be",
   "metadata": {
    "execution": {
     "iopub.execute_input": "2024-04-12T17:41:35.019995Z",
     "iopub.status.busy": "2024-04-12T17:41:35.019059Z",
     "iopub.status.idle": "2024-04-12T17:41:36.222744Z",
     "shell.execute_reply": "2024-04-12T17:41:36.221789Z"
    },
    "papermill": {
     "duration": 1.212782,
     "end_time": "2024-04-12T17:41:36.225147",
     "exception": false,
     "start_time": "2024-04-12T17:41:35.012365",
     "status": "completed"
    },
    "tags": []
   },
   "outputs": [],
   "source": [
    "import pandas as pd\n",
    "import numpy as np\n",
    "import seaborn as sns\n",
    "import matplotlib.pyplot as plt"
   ]
  },
  {
   "cell_type": "code",
   "execution_count": 3,
   "id": "9a085d43",
   "metadata": {
    "execution": {
     "iopub.execute_input": "2024-04-12T17:41:36.237227Z",
     "iopub.status.busy": "2024-04-12T17:41:36.236443Z",
     "iopub.status.idle": "2024-04-12T17:41:36.922235Z",
     "shell.execute_reply": "2024-04-12T17:41:36.921276Z"
    },
    "papermill": {
     "duration": 0.694312,
     "end_time": "2024-04-12T17:41:36.924727",
     "exception": false,
     "start_time": "2024-04-12T17:41:36.230415",
     "status": "completed"
    },
    "tags": []
   },
   "outputs": [
    {
     "name": "stderr",
     "output_type": "stream",
     "text": [
      "/tmp/ipykernel_26/1687947547.py:1: DtypeWarning: Columns (3,4,5,6,7,10,11,13,14,15,18,20,39) have mixed types. Specify dtype option on import or set low_memory=False.\n",
      "  df = pd.read_csv('/kaggle/input/hourly-traffic-combined-caltech/hourly_traffic_caltech1.csv')\n"
     ]
    }
   ],
   "source": [
    "df = pd.read_csv('/kaggle/input/hourly-traffic-combined-caltech/hourly_traffic_caltech1.csv')\n"
   ]
  },
  {
   "cell_type": "code",
   "execution_count": 4,
   "id": "a6ff3d08",
   "metadata": {
    "execution": {
     "iopub.execute_input": "2024-04-12T17:41:36.936586Z",
     "iopub.status.busy": "2024-04-12T17:41:36.936258Z",
     "iopub.status.idle": "2024-04-12T17:41:36.943310Z",
     "shell.execute_reply": "2024-04-12T17:41:36.942468Z"
    },
    "papermill": {
     "duration": 0.015176,
     "end_time": "2024-04-12T17:41:36.945267",
     "exception": false,
     "start_time": "2024-04-12T17:41:36.930091",
     "status": "completed"
    },
    "tags": []
   },
   "outputs": [
    {
     "data": {
      "text/plain": [
       "Index(['Unnamed: 0.2', 'Unnamed: 0.1', 'Unnamed: 0', '_id', 'userInputs',\n",
       "       'sessionID', 'stationID', 'spaceID', 'siteID', 'clusterID',\n",
       "       'connectionTime', 'disconnectTime', 'kWhDelivered', 'doneChargingTime',\n",
       "       'timezone', 'userID', 'session_duration', 'Weekend', 'connectionDate',\n",
       "       'clouds', 'datetime', 'dewpt', 'dhi', 'dni', 'ghi', 'max_dhi',\n",
       "       'max_dni', 'max_ghi', 'max_temp', 'max_temp_ts', 'max_uv',\n",
       "       'max_wind_dir', 'max_wind_spd', 'max_wind_spd_ts', 'min_temp',\n",
       "       'min_temp_ts', 'precip', 'precip_gpm', 'pres', 'revision_status', 'rh',\n",
       "       'slp', 'snow', 'snow_depth', 'solar_rad', 't_dhi', 't_dni', 't_ghi',\n",
       "       't_solar_rad', 'temp', 'ts', 'wind_dir', 'wind_gust_spd', 'wind_spd',\n",
       "       'Date', 'Hour', 'TrafficVolume', 'AverageSpeed',\n",
       "       'TrafficVolume_squared', 'AverageSpeed_squared'],\n",
       "      dtype='object')"
      ]
     },
     "execution_count": 4,
     "metadata": {},
     "output_type": "execute_result"
    }
   ],
   "source": [
    "df.columns"
   ]
  },
  {
   "cell_type": "code",
   "execution_count": 5,
   "id": "1176920a",
   "metadata": {
    "execution": {
     "iopub.execute_input": "2024-04-12T17:41:36.957057Z",
     "iopub.status.busy": "2024-04-12T17:41:36.956818Z",
     "iopub.status.idle": "2024-04-12T17:41:37.020450Z",
     "shell.execute_reply": "2024-04-12T17:41:37.019725Z"
    },
    "papermill": {
     "duration": 0.071942,
     "end_time": "2024-04-12T17:41:37.022563",
     "exception": false,
     "start_time": "2024-04-12T17:41:36.950621",
     "status": "completed"
    },
    "tags": []
   },
   "outputs": [],
   "source": [
    "import pandas as pd\n",
    "from pandas.tseries.holiday import USFederalHolidayCalendar\n",
    "from datetime import datetime\n",
    "\n",
    "# Assuming 'df' is your DataFrame with the Date column\n",
    "df['Date'] = pd.to_datetime(df['Date'])\n",
    "\n",
    "# Day of the Week\n",
    "df['Day_of_Week'] = df['Date'].dt.day_name()\n",
    "\n",
    "# Month\n",
    "df['Month'] = df['Date'].dt.month\n",
    "\n",
    "# Day of the Month\n",
    "df['Day_of_Month'] = df['Date'].dt.day\n",
    "\n",
    "# Public Holidays\n",
    "cal = USFederalHolidayCalendar()\n",
    "holidays = cal.holidays(start=df['Date'].min(), end=df['Date'].max())\n",
    "df['Public_Holiday'] = df['Date'].isin(holidays)\n",
    "\n"
   ]
  },
  {
   "cell_type": "code",
   "execution_count": 6,
   "id": "0929fa19",
   "metadata": {
    "execution": {
     "iopub.execute_input": "2024-04-12T17:41:37.034662Z",
     "iopub.status.busy": "2024-04-12T17:41:37.034387Z",
     "iopub.status.idle": "2024-04-12T17:41:37.049020Z",
     "shell.execute_reply": "2024-04-12T17:41:37.048362Z"
    },
    "papermill": {
     "duration": 0.022799,
     "end_time": "2024-04-12T17:41:37.050891",
     "exception": false,
     "start_time": "2024-04-12T17:41:37.028092",
     "status": "completed"
    },
    "tags": []
   },
   "outputs": [],
   "source": [
    "df = df.drop(['Unnamed: 0','sessionID','connectionTime','disconnectTime','doneChargingTime',\n",
    "              'timezone','datetime','connectionDate', 'Date', 'snow', 'snow_depth', 'solar_rad', 't_dhi',\n",
    "       't_dni', 't_ghi', 't_solar_rad','revision_status', 'userID','stationID','spaceID',\n",
    "              'Unnamed: 0.2', 'Unnamed: 0.1', '_id', 'wind_gust_spd', 'wind_spd','userInputs', 'siteID','dhi', 'dni', 'ghi', \n",
    "              'max_dhi', 'max_dni', 'max_ghi','clusterID','ts', 'wind_dir', 'Hour', 'TrafficVolume',\n",
    "       'AverageSpeed', 'Day_of_Week', 'Month', 'Day_of_Month','precip_gpm','precip_gpm','max_wind_spd_ts','max_temp_ts','min_temp_ts', 'precip', 'pres', 'rh', 'slp','max_wind_dir'], axis=1)"
   ]
  },
  {
   "cell_type": "code",
   "execution_count": 7,
   "id": "94ce2a22",
   "metadata": {
    "execution": {
     "iopub.execute_input": "2024-04-12T17:41:37.063089Z",
     "iopub.status.busy": "2024-04-12T17:41:37.062473Z",
     "iopub.status.idle": "2024-04-12T17:41:37.067782Z",
     "shell.execute_reply": "2024-04-12T17:41:37.066959Z"
    },
    "papermill": {
     "duration": 0.013463,
     "end_time": "2024-04-12T17:41:37.069744",
     "exception": false,
     "start_time": "2024-04-12T17:41:37.056281",
     "status": "completed"
    },
    "tags": []
   },
   "outputs": [
    {
     "data": {
      "text/plain": [
       "(35551, 13)"
      ]
     },
     "execution_count": 7,
     "metadata": {},
     "output_type": "execute_result"
    }
   ],
   "source": [
    "df.shape"
   ]
  },
  {
   "cell_type": "code",
   "execution_count": 8,
   "id": "567119e5",
   "metadata": {
    "execution": {
     "iopub.execute_input": "2024-04-12T17:41:37.081827Z",
     "iopub.status.busy": "2024-04-12T17:41:37.081589Z",
     "iopub.status.idle": "2024-04-12T17:41:37.086882Z",
     "shell.execute_reply": "2024-04-12T17:41:37.086040Z"
    },
    "papermill": {
     "duration": 0.013552,
     "end_time": "2024-04-12T17:41:37.088818",
     "exception": false,
     "start_time": "2024-04-12T17:41:37.075266",
     "status": "completed"
    },
    "tags": []
   },
   "outputs": [
    {
     "data": {
      "text/plain": [
       "Index(['kWhDelivered', 'session_duration', 'Weekend', 'clouds', 'dewpt',\n",
       "       'max_temp', 'max_uv', 'max_wind_spd', 'min_temp', 'temp',\n",
       "       'TrafficVolume_squared', 'AverageSpeed_squared', 'Public_Holiday'],\n",
       "      dtype='object')"
      ]
     },
     "execution_count": 8,
     "metadata": {},
     "output_type": "execute_result"
    }
   ],
   "source": [
    "df.columns"
   ]
  },
  {
   "cell_type": "code",
   "execution_count": 9,
   "id": "017770a5",
   "metadata": {
    "execution": {
     "iopub.execute_input": "2024-04-12T17:41:37.101734Z",
     "iopub.status.busy": "2024-04-12T17:41:37.101485Z",
     "iopub.status.idle": "2024-04-12T17:41:37.123384Z",
     "shell.execute_reply": "2024-04-12T17:41:37.122558Z"
    },
    "papermill": {
     "duration": 0.030415,
     "end_time": "2024-04-12T17:41:37.125296",
     "exception": false,
     "start_time": "2024-04-12T17:41:37.094881",
     "status": "completed"
    },
    "tags": []
   },
   "outputs": [
    {
     "data": {
      "text/html": [
       "<div>\n",
       "<style scoped>\n",
       "    .dataframe tbody tr th:only-of-type {\n",
       "        vertical-align: middle;\n",
       "    }\n",
       "\n",
       "    .dataframe tbody tr th {\n",
       "        vertical-align: top;\n",
       "    }\n",
       "\n",
       "    .dataframe thead th {\n",
       "        text-align: right;\n",
       "    }\n",
       "</style>\n",
       "<table border=\"1\" class=\"dataframe\">\n",
       "  <thead>\n",
       "    <tr style=\"text-align: right;\">\n",
       "      <th></th>\n",
       "      <th>kWhDelivered</th>\n",
       "      <th>session_duration</th>\n",
       "      <th>Weekend</th>\n",
       "      <th>clouds</th>\n",
       "      <th>dewpt</th>\n",
       "      <th>max_temp</th>\n",
       "      <th>max_uv</th>\n",
       "      <th>max_wind_spd</th>\n",
       "      <th>min_temp</th>\n",
       "      <th>temp</th>\n",
       "      <th>TrafficVolume_squared</th>\n",
       "      <th>AverageSpeed_squared</th>\n",
       "      <th>Public_Holiday</th>\n",
       "    </tr>\n",
       "  </thead>\n",
       "  <tbody>\n",
       "    <tr>\n",
       "      <th>0</th>\n",
       "      <td>7.932</td>\n",
       "      <td>132.100000</td>\n",
       "      <td>0.0</td>\n",
       "      <td>21.0</td>\n",
       "      <td>1.7</td>\n",
       "      <td>24.4</td>\n",
       "      <td>10.1</td>\n",
       "      <td>3.0</td>\n",
       "      <td>11.7</td>\n",
       "      <td>17.6</td>\n",
       "      <td>0.508912</td>\n",
       "      <td>-0.910798</td>\n",
       "      <td>False</td>\n",
       "    </tr>\n",
       "    <tr>\n",
       "      <th>1</th>\n",
       "      <td>10.013</td>\n",
       "      <td>671.100000</td>\n",
       "      <td>0.0</td>\n",
       "      <td>21.0</td>\n",
       "      <td>1.7</td>\n",
       "      <td>24.4</td>\n",
       "      <td>10.1</td>\n",
       "      <td>3.0</td>\n",
       "      <td>11.7</td>\n",
       "      <td>17.6</td>\n",
       "      <td>0.870303</td>\n",
       "      <td>-1.117011</td>\n",
       "      <td>False</td>\n",
       "    </tr>\n",
       "    <tr>\n",
       "      <th>2</th>\n",
       "      <td>5.257</td>\n",
       "      <td>558.916667</td>\n",
       "      <td>0.0</td>\n",
       "      <td>21.0</td>\n",
       "      <td>1.7</td>\n",
       "      <td>24.4</td>\n",
       "      <td>10.1</td>\n",
       "      <td>3.0</td>\n",
       "      <td>11.7</td>\n",
       "      <td>17.6</td>\n",
       "      <td>0.870303</td>\n",
       "      <td>-1.117011</td>\n",
       "      <td>False</td>\n",
       "    </tr>\n",
       "    <tr>\n",
       "      <th>3</th>\n",
       "      <td>5.177</td>\n",
       "      <td>558.466667</td>\n",
       "      <td>0.0</td>\n",
       "      <td>21.0</td>\n",
       "      <td>1.7</td>\n",
       "      <td>24.4</td>\n",
       "      <td>10.1</td>\n",
       "      <td>3.0</td>\n",
       "      <td>11.7</td>\n",
       "      <td>17.6</td>\n",
       "      <td>0.795654</td>\n",
       "      <td>-1.028007</td>\n",
       "      <td>False</td>\n",
       "    </tr>\n",
       "    <tr>\n",
       "      <th>4</th>\n",
       "      <td>10.119</td>\n",
       "      <td>502.633333</td>\n",
       "      <td>0.0</td>\n",
       "      <td>21.0</td>\n",
       "      <td>1.7</td>\n",
       "      <td>24.4</td>\n",
       "      <td>10.1</td>\n",
       "      <td>3.0</td>\n",
       "      <td>11.7</td>\n",
       "      <td>17.6</td>\n",
       "      <td>0.795654</td>\n",
       "      <td>-1.028007</td>\n",
       "      <td>False</td>\n",
       "    </tr>\n",
       "  </tbody>\n",
       "</table>\n",
       "</div>"
      ],
      "text/plain": [
       "   kWhDelivered  session_duration  Weekend  clouds  dewpt  max_temp  max_uv  \\\n",
       "0         7.932        132.100000      0.0    21.0    1.7      24.4    10.1   \n",
       "1        10.013        671.100000      0.0    21.0    1.7      24.4    10.1   \n",
       "2         5.257        558.916667      0.0    21.0    1.7      24.4    10.1   \n",
       "3         5.177        558.466667      0.0    21.0    1.7      24.4    10.1   \n",
       "4        10.119        502.633333      0.0    21.0    1.7      24.4    10.1   \n",
       "\n",
       "   max_wind_spd  min_temp  temp  TrafficVolume_squared  AverageSpeed_squared  \\\n",
       "0           3.0      11.7  17.6               0.508912             -0.910798   \n",
       "1           3.0      11.7  17.6               0.870303             -1.117011   \n",
       "2           3.0      11.7  17.6               0.870303             -1.117011   \n",
       "3           3.0      11.7  17.6               0.795654             -1.028007   \n",
       "4           3.0      11.7  17.6               0.795654             -1.028007   \n",
       "\n",
       "   Public_Holiday  \n",
       "0           False  \n",
       "1           False  \n",
       "2           False  \n",
       "3           False  \n",
       "4           False  "
      ]
     },
     "execution_count": 9,
     "metadata": {},
     "output_type": "execute_result"
    }
   ],
   "source": [
    "df.head()"
   ]
  },
  {
   "cell_type": "code",
   "execution_count": 10,
   "id": "ec46b5d7",
   "metadata": {
    "execution": {
     "iopub.execute_input": "2024-04-12T17:41:37.139539Z",
     "iopub.status.busy": "2024-04-12T17:41:37.139272Z",
     "iopub.status.idle": "2024-04-12T17:41:37.142952Z",
     "shell.execute_reply": "2024-04-12T17:41:37.142161Z"
    },
    "papermill": {
     "duration": 0.013511,
     "end_time": "2024-04-12T17:41:37.144883",
     "exception": false,
     "start_time": "2024-04-12T17:41:37.131372",
     "status": "completed"
    },
    "tags": []
   },
   "outputs": [],
   "source": [
    "data = df"
   ]
  },
  {
   "cell_type": "code",
   "execution_count": 11,
   "id": "34a33850",
   "metadata": {
    "execution": {
     "iopub.execute_input": "2024-04-12T17:41:37.158497Z",
     "iopub.status.busy": "2024-04-12T17:41:37.157849Z",
     "iopub.status.idle": "2024-04-12T17:41:37.173867Z",
     "shell.execute_reply": "2024-04-12T17:41:37.172999Z"
    },
    "papermill": {
     "duration": 0.024697,
     "end_time": "2024-04-12T17:41:37.175673",
     "exception": false,
     "start_time": "2024-04-12T17:41:37.150976",
     "status": "completed"
    },
    "tags": []
   },
   "outputs": [
    {
     "name": "stdout",
     "output_type": "stream",
     "text": [
      "Categorical Columns: ['Weekend', 'Public_Holiday']\n",
      "Non-Categorical Columns: ['kWhDelivered', 'session_duration', 'clouds', 'dewpt', 'max_temp', 'max_uv', 'max_wind_spd', 'min_temp', 'temp', 'TrafficVolume_squared', 'AverageSpeed_squared']\n"
     ]
    }
   ],
   "source": [
    "# Identify categorical columns based on data types\n",
    "data_types = data.dtypes\n",
    "categorical_columns = data_types[data_types == 'object'].index.tolist()\n",
    "\n",
    "# Check unique values in categorical columns to confirm if they are indeed categorical\n",
    "for column in categorical_columns:\n",
    "    unique_values = data[column].unique()\n",
    "    print(f\"Unique values in {column}: {unique_values}\")\n",
    "\n",
    "# You can also set a threshold to determine if a column is categorical based on the number of unique values\n",
    "threshold_unique_values = 10  # Adjust threshold as needed\n",
    "categorical_columns = [column for column in data.columns if len(data[column].unique()) <= threshold_unique_values]\n",
    "\n",
    "# Print the identified categorical columns\n",
    "print(\"Categorical Columns:\", categorical_columns)\n",
    "\n",
    "# Non-categorical columns\n",
    "non_categorical_columns = [column for column in data.columns if column not in categorical_columns]\n",
    "print(\"Non-Categorical Columns:\", non_categorical_columns)"
   ]
  },
  {
   "cell_type": "code",
   "execution_count": 12,
   "id": "b9e60003",
   "metadata": {
    "execution": {
     "iopub.execute_input": "2024-04-12T17:41:37.189284Z",
     "iopub.status.busy": "2024-04-12T17:41:37.189028Z",
     "iopub.status.idle": "2024-04-12T17:41:37.197572Z",
     "shell.execute_reply": "2024-04-12T17:41:37.196689Z"
    },
    "papermill": {
     "duration": 0.017369,
     "end_time": "2024-04-12T17:41:37.199436",
     "exception": false,
     "start_time": "2024-04-12T17:41:37.182067",
     "status": "completed"
    },
    "tags": []
   },
   "outputs": [],
   "source": [
    "import pandas as pd\n",
    "\n",
    "# Assuming 'data' is your DataFrame\n",
    "# List of categorical columns\n",
    "categorical_columns = ['Public_Holiday']\n",
    "\n",
    "# Apply one-hot encoding for each categorical column\n",
    "for column in categorical_columns:\n",
    "    # Convert the column to one-hot encoded representation\n",
    "    one_hot_encoded = pd.get_dummies(data[column], prefix=column)\n",
    "    # Concatenate the one-hot encoded columns to the original dataframe\n",
    "    data = pd.concat([data, one_hot_encoded], axis=1)\n",
    "    # Drop the original categorical column from the dataframe\n",
    "    data.drop(column, axis=1, inplace=True)\n"
   ]
  },
  {
   "cell_type": "code",
   "execution_count": 13,
   "id": "d65c0282",
   "metadata": {
    "execution": {
     "iopub.execute_input": "2024-04-12T17:41:37.212996Z",
     "iopub.status.busy": "2024-04-12T17:41:37.212737Z",
     "iopub.status.idle": "2024-04-12T17:41:37.227518Z",
     "shell.execute_reply": "2024-04-12T17:41:37.226687Z"
    },
    "papermill": {
     "duration": 0.023615,
     "end_time": "2024-04-12T17:41:37.229346",
     "exception": false,
     "start_time": "2024-04-12T17:41:37.205731",
     "status": "completed"
    },
    "tags": []
   },
   "outputs": [
    {
     "data": {
      "text/plain": [
       "<bound method DataFrame.dropna of        kWhDelivered  session_duration  Weekend  clouds  dewpt  max_temp  \\\n",
       "0             7.932        132.100000      0.0    21.0    1.7      24.4   \n",
       "1            10.013        671.100000      0.0    21.0    1.7      24.4   \n",
       "2             5.257        558.916667      0.0    21.0    1.7      24.4   \n",
       "3             5.177        558.466667      0.0    21.0    1.7      24.4   \n",
       "4            10.119        502.633333      0.0    21.0    1.7      24.4   \n",
       "...             ...               ...      ...     ...    ...       ...   \n",
       "35546         0.000          0.000000      0.0     0.0    0.0       0.0   \n",
       "35547         0.000          0.000000      0.0     0.0    0.0       0.0   \n",
       "35548         0.000          0.000000      0.0     0.0    0.0       0.0   \n",
       "35549         0.000          0.000000      0.0     0.0    0.0       0.0   \n",
       "35550         0.000          0.000000      0.0     0.0    0.0       0.0   \n",
       "\n",
       "       max_uv  max_wind_spd  min_temp  temp  TrafficVolume_squared  \\\n",
       "0        10.1           3.0      11.7  17.6               0.508912   \n",
       "1        10.1           3.0      11.7  17.6               0.870303   \n",
       "2        10.1           3.0      11.7  17.6               0.870303   \n",
       "3        10.1           3.0      11.7  17.6               0.795654   \n",
       "4        10.1           3.0      11.7  17.6               0.795654   \n",
       "...       ...           ...       ...   ...                    ...   \n",
       "35546     0.0           0.0       0.0   0.0              -1.312573   \n",
       "35547     0.0           0.0       0.0   0.0              -0.845387   \n",
       "35548     0.0           0.0       0.0   0.0              -0.557110   \n",
       "35549     0.0           0.0       0.0   0.0              -0.184721   \n",
       "35550     0.0           0.0       0.0   0.0               0.113117   \n",
       "\n",
       "       AverageSpeed_squared  Public_Holiday_False  Public_Holiday_True  \n",
       "0                 -0.910798                  True                False  \n",
       "1                 -1.117011                  True                False  \n",
       "2                 -1.117011                  True                False  \n",
       "3                 -1.028007                  True                False  \n",
       "4                 -1.028007                  True                False  \n",
       "...                     ...                   ...                  ...  \n",
       "35546              0.797479                  True                False  \n",
       "35547              0.910986                  True                False  \n",
       "35548              0.162672                  True                False  \n",
       "35549             -0.242648                  True                False  \n",
       "35550             -0.722137                  True                False  \n",
       "\n",
       "[35551 rows x 14 columns]>"
      ]
     },
     "execution_count": 13,
     "metadata": {},
     "output_type": "execute_result"
    }
   ],
   "source": [
    "data.dropna"
   ]
  },
  {
   "cell_type": "code",
   "execution_count": 14,
   "id": "783b09b0",
   "metadata": {
    "execution": {
     "iopub.execute_input": "2024-04-12T17:41:37.243935Z",
     "iopub.status.busy": "2024-04-12T17:41:37.243676Z",
     "iopub.status.idle": "2024-04-12T17:41:37.908339Z",
     "shell.execute_reply": "2024-04-12T17:41:37.907458Z"
    },
    "papermill": {
     "duration": 0.674536,
     "end_time": "2024-04-12T17:41:37.910860",
     "exception": false,
     "start_time": "2024-04-12T17:41:37.236324",
     "status": "completed"
    },
    "tags": []
   },
   "outputs": [],
   "source": [
    "import pandas as pd\n",
    "from sklearn.model_selection import train_test_split\n",
    "from sklearn.preprocessing import StandardScaler\n",
    "from sklearn.impute import SimpleImputer\n",
    "from sklearn.ensemble import IsolationForest\n",
    "from sklearn.decomposition import PCA\n",
    "from sklearn.feature_selection import SelectFromModel\n",
    "from sklearn.ensemble import RandomForestRegressor\n",
    "from xgboost import XGBRegressor\n",
    "   \n",
    "# imputer = SimpleImputer(strategy='mean')\n",
    "# data_imputed = imputer.fit_transform(data)\n",
    "# data_imputed = pd.DataFrame(data_imputed, columns=data.columns)\n",
    "\n",
    "# data_imputed = data_imputed.drop(['session_duration'], axis=1)\n",
    "\n",
    "# scaler = StandardScaler()\n",
    "# data_scaled = scaler.fit_transform(data_imputed)\n",
    "\n",
    "\n",
    "# pca = PCA(n_components=5)  \n",
    "# data_pca = pca.fit_transform(data_scaled)\n",
    "\n"
   ]
  },
  {
   "cell_type": "code",
   "execution_count": 15,
   "id": "86c9c3b9",
   "metadata": {
    "execution": {
     "iopub.execute_input": "2024-04-12T17:41:37.928097Z",
     "iopub.status.busy": "2024-04-12T17:41:37.927591Z",
     "iopub.status.idle": "2024-04-12T17:41:38.193049Z",
     "shell.execute_reply": "2024-04-12T17:41:38.191392Z"
    },
    "papermill": {
     "duration": 0.278612,
     "end_time": "2024-04-12T17:41:38.197467",
     "exception": false,
     "start_time": "2024-04-12T17:41:37.918855",
     "status": "completed"
    },
    "tags": []
   },
   "outputs": [],
   "source": [
    "import pandas as pd\n",
    "from sklearn.model_selection import train_test_split\n",
    "from sklearn.preprocessing import StandardScaler\n",
    "from sklearn.impute import SimpleImputer\n",
    "from sklearn.ensemble import RandomForestRegressor\n",
    "from sklearn.decomposition import PCA\n",
    "\n",
    "# Assuming 'data' contains your dataset\n",
    "\n",
    "# Impute missing values\n",
    "imputer = SimpleImputer(strategy='mean')\n",
    "data_imputed = pd.DataFrame(imputer.fit_transform(data), columns=data.columns)\n",
    "\n",
    "# Drop target variable before PCA\n",
    "X = data_imputed.drop(['session_duration'], axis=1)\n",
    "\n",
    "# Scale data\n",
    "scaler = StandardScaler()\n",
    "X_scaled = scaler.fit_transform(X)\n",
    "\n",
    "# Perform PCA\n",
    "pca = PCA(n_components=5)\n",
    "X_pca = pca.fit_transform(X_scaled)\n",
    "\n",
    "# Define target variable\n",
    "y = data_imputed['session_duration']\n",
    "\n",
    "# Split data into training and testing sets\n",
    "X_train, X_test, y_train, y_test = train_test_split(X_scaled, y, test_size=0.2)"
   ]
  },
  {
   "cell_type": "code",
   "execution_count": 16,
   "id": "3ba416d8",
   "metadata": {
    "execution": {
     "iopub.execute_input": "2024-04-12T17:41:38.257942Z",
     "iopub.status.busy": "2024-04-12T17:41:38.257159Z",
     "iopub.status.idle": "2024-04-12T17:41:38.262919Z",
     "shell.execute_reply": "2024-04-12T17:41:38.261866Z"
    },
    "papermill": {
     "duration": 0.044328,
     "end_time": "2024-04-12T17:41:38.268712",
     "exception": false,
     "start_time": "2024-04-12T17:41:38.224384",
     "status": "completed"
    },
    "tags": []
   },
   "outputs": [],
   "source": [
    "# #X = data.drop(columns=['session_duration'])\n",
    "# X = data_pca\n",
    "# y = data['session_duration']"
   ]
  },
  {
   "cell_type": "code",
   "execution_count": 17,
   "id": "51e15bc6",
   "metadata": {
    "execution": {
     "iopub.execute_input": "2024-04-12T17:41:38.296804Z",
     "iopub.status.busy": "2024-04-12T17:41:38.296502Z",
     "iopub.status.idle": "2024-04-12T17:43:19.028439Z",
     "shell.execute_reply": "2024-04-12T17:43:19.027331Z"
    },
    "papermill": {
     "duration": 100.750749,
     "end_time": "2024-04-12T17:43:19.038152",
     "exception": false,
     "start_time": "2024-04-12T17:41:38.287403",
     "status": "completed"
    },
    "tags": []
   },
   "outputs": [
    {
     "name": "stderr",
     "output_type": "stream",
     "text": [
      "/opt/conda/lib/python3.10/site-packages/dask/dataframe/_pyarrow_compat.py:23: UserWarning: You are using pyarrow version 11.0.0 which is known to be insecure. See https://www.cve.org/CVERecord?id=CVE-2023-47248 for further details. Please upgrade to pyarrow>=14.0.1 or install pyarrow-hotfix to patch your current version.\n",
      "  warnings.warn(\n"
     ]
    },
    {
     "name": "stdout",
     "output_type": "stream",
     "text": [
      "[LightGBM] [Info] Auto-choosing col-wise multi-threading, the overhead of testing was 0.003980 seconds.\n",
      "You can set `force_col_wise=true` to remove the overhead.\n",
      "[LightGBM] [Info] Total Bins 1819\n",
      "[LightGBM] [Info] Number of data points in the train set: 28440, number of used features: 13\n",
      "[LightGBM] [Info] Start training from score 300.926502\n",
      "Random Forest Metrics:\n",
      "RMSE: 288.38675782679996\n",
      "MAE: 140.8032634554837\n",
      "\n",
      "XGBoost Metrics:\n",
      "RMSE: 289.10850649336885\n",
      "MAE: 139.69442129951892\n",
      "\n",
      "LightGBM Metrics:\n",
      "RMSE: 272.4695476079528\n",
      "MAE: 133.33809273686975\n",
      "\n",
      "SVM Metrics:\n",
      "RMSE: 286.8949211405039\n",
      "MAE: 134.93707125907895\n"
     ]
    }
   ],
   "source": [
    "from sklearn.model_selection import train_test_split\n",
    "from sklearn.ensemble import RandomForestRegressor\n",
    "from xgboost import XGBRegressor\n",
    "from lightgbm import LGBMRegressor\n",
    "from sklearn.svm import SVR\n",
    "from catboost import CatBoostRegressor\n",
    "from sklearn.metrics import mean_squared_error, mean_absolute_error\n",
    "import numpy as np\n",
    "\n",
    "# Split the data into training and testing sets\n",
    "#X_train, X_test, y_train, y_test = train_test_split(X, y, test_size=0.5)\n",
    "\n",
    "# Machine Learning Model - Random Forest\n",
    "rf_model = RandomForestRegressor()\n",
    "rf_model.fit(X_train, y_train)\n",
    "rf_score = rf_model.score(X_test, y_test)\n",
    "\n",
    "# Machine Learning Model - XGBoost\n",
    "xgb_model = XGBRegressor()\n",
    "xgb_model.fit(X_train, y_train)\n",
    "xgb_score = xgb_model.score(X_test, y_test)\n",
    "\n",
    "# Machine Learning Model - LightGBM\n",
    "lgbm_model = LGBMRegressor()\n",
    "lgbm_model.fit(X_train, y_train)\n",
    "lgbm_score = lgbm_model.score(X_test, y_test)\n",
    "\n",
    "# Machine Learning Model - SVM\n",
    "svm_model = SVR()\n",
    "svm_model.fit(X_train, y_train)\n",
    "svm_score = svm_model.score(X_test, y_test)\n",
    "\n",
    "\n",
    "# Predictions\n",
    "rf_predictions = rf_model.predict(X_test)\n",
    "xgb_predictions = xgb_model.predict(X_test)\n",
    "lgbm_predictions = lgbm_model.predict(X_test)\n",
    "svm_predictions = svm_model.predict(X_test)\n",
    "\n",
    "\n",
    "# Calculate RMSE and MAE for Random Forest\n",
    "rf_rmse = np.sqrt(mean_squared_error(y_test, rf_predictions))\n",
    "rf_mae = mean_absolute_error(y_test, rf_predictions)\n",
    "\n",
    "# Calculate RMSE and MAE for XGBoost\n",
    "xgb_rmse = np.sqrt(mean_squared_error(y_test, xgb_predictions))\n",
    "xgb_mae = mean_absolute_error(y_test, xgb_predictions)\n",
    "\n",
    "# Calculate RMSE and MAE for LightGBM\n",
    "lgbm_rmse = np.sqrt(mean_squared_error(y_test, lgbm_predictions))\n",
    "lgbm_mae = mean_absolute_error(y_test, lgbm_predictions)\n",
    "\n",
    "# Calculate RMSE and MAE for SVM\n",
    "svm_rmse = np.sqrt(mean_squared_error(y_test, svm_predictions))\n",
    "svm_mae = mean_absolute_error(y_test, svm_predictions)\n",
    "\n",
    "\n",
    "\n",
    "# Print the evaluation metrics\n",
    "print(\"Random Forest Metrics:\")\n",
    "print(\"RMSE:\", rf_rmse)\n",
    "print(\"MAE:\", rf_mae)\n",
    "print(\"\\nXGBoost Metrics:\")\n",
    "print(\"RMSE:\", xgb_rmse)\n",
    "print(\"MAE:\", xgb_mae)\n",
    "print(\"\\nLightGBM Metrics:\")\n",
    "print(\"RMSE:\", lgbm_rmse)\n",
    "print(\"MAE:\", lgbm_mae)\n",
    "print(\"\\nSVM Metrics:\")\n",
    "print(\"RMSE:\", svm_rmse)\n",
    "print(\"MAE:\", svm_mae)\n",
    "\n"
   ]
  },
  {
   "cell_type": "code",
   "execution_count": null,
   "id": "2902754e",
   "metadata": {
    "papermill": {
     "duration": 0.007055,
     "end_time": "2024-04-12T17:43:19.052378",
     "exception": false,
     "start_time": "2024-04-12T17:43:19.045323",
     "status": "completed"
    },
    "tags": []
   },
   "outputs": [],
   "source": []
  },
  {
   "cell_type": "code",
   "execution_count": null,
   "id": "a9be12bf",
   "metadata": {
    "papermill": {
     "duration": 0.006864,
     "end_time": "2024-04-12T17:43:19.066299",
     "exception": false,
     "start_time": "2024-04-12T17:43:19.059435",
     "status": "completed"
    },
    "tags": []
   },
   "outputs": [],
   "source": []
  },
  {
   "cell_type": "code",
   "execution_count": 18,
   "id": "5f6edb8f",
   "metadata": {
    "execution": {
     "iopub.execute_input": "2024-04-12T17:43:19.082062Z",
     "iopub.status.busy": "2024-04-12T17:43:19.081722Z",
     "iopub.status.idle": "2024-04-12T17:43:19.087307Z",
     "shell.execute_reply": "2024-04-12T17:43:19.086395Z"
    },
    "papermill": {
     "duration": 0.015679,
     "end_time": "2024-04-12T17:43:19.089142",
     "exception": false,
     "start_time": "2024-04-12T17:43:19.073463",
     "status": "completed"
    },
    "tags": []
   },
   "outputs": [],
   "source": [
    "# # Feature Selection\n",
    "# model = RandomForestRegressor()\n",
    "# model.fit(data_pca, data_imputed['session_duration'])  # Replace 'target_column' with your target variable\n",
    "# feature_importances = model.feature_importances_\n",
    "# selector = SelectFromModel(model, prefit=True)\n",
    "# selected_features = selector.transform(data_imputeda)\n",
    "\n",
    "# # Split the data into training and testing sets\n",
    "# X_train, X_test, y_train, y_test = train_test_split(selected_features, data_imputed['session_duration'], test_size=0.2)\n",
    "\n",
    "# # Machine Learning Model - Random Forest\n",
    "# rf_model = RandomForestRegressor()\n",
    "# rf_model.fit(X_train, y_train)\n",
    "# rf_score = rf_model.score(X_test, y_test)\n",
    "\n",
    "# # Machine Learning Model - XGBoost\n",
    "# xgb_model = XGBRegressor()\n",
    "# xgb_model.fit(X_train, y_train)\n",
    "# xgb_score = xgb_model.score(X_test, y_test)\n",
    "\n",
    "# # print(\"Random Forest Score:\", rf_score)\n",
    "# # print(\"XGBoost Score:\", xgb_score)\n",
    "# from sklearn.metrics import mean_squared_error, mean_absolute_error\n",
    "# import numpy as np\n",
    "\n",
    "# # Predictions\n",
    "# rf_predictions = rf_model.predict(X_test)\n",
    "# xgb_predictions = xgb_model.predict(X_test)\n",
    "\n",
    "# # Calculate RMSE and MAE for Random Forest\n",
    "# rf_rmse = np.sqrt(mean_squared_error(y_test, rf_predictions))\n",
    "# rf_mae = mean_absolute_error(y_test, rf_predictions)\n",
    "\n",
    "# # Calculate RMSE and MAE for XGBoost\n",
    "# xgb_rmse = np.sqrt(mean_squared_error(y_test, xgb_predictions))\n",
    "# xgb_mae = mean_absolute_error(y_test, xgb_predictions)\n",
    "\n",
    "# # Print the evaluation metrics\n",
    "# print(\"Random Forest Metrics:\")\n",
    "# print(\"RMSE:\", rf_rmse)\n",
    "# print(\"MAE:\", rf_mae)\n",
    "# print(\"\\nXGBoost Metrics:\")\n",
    "# print(\"RMSE:\", xgb_rmse)\n",
    "# print(\"MAE:\", xgb_mae)\n",
    "\n"
   ]
  }
 ],
 "metadata": {
  "kaggle": {
   "accelerator": "gpu",
   "dataSources": [
    {
     "datasetId": 4696377,
     "sourceId": 7979644,
     "sourceType": "datasetVersion"
    },
    {
     "datasetId": 4779117,
     "sourceId": 8100492,
     "sourceType": "datasetVersion"
    },
    {
     "datasetId": 4784929,
     "sourceId": 8102191,
     "sourceType": "datasetVersion"
    }
   ],
   "dockerImageVersionId": 30673,
   "isGpuEnabled": true,
   "isInternetEnabled": true,
   "language": "python",
   "sourceType": "notebook"
  },
  "kernelspec": {
   "display_name": "Python 3",
   "language": "python",
   "name": "python3"
  },
  "language_info": {
   "codemirror_mode": {
    "name": "ipython",
    "version": 3
   },
   "file_extension": ".py",
   "mimetype": "text/x-python",
   "name": "python",
   "nbconvert_exporter": "python",
   "pygments_lexer": "ipython3",
   "version": "3.10.13"
  },
  "papermill": {
   "default_parameters": {},
   "duration": 108.416789,
   "end_time": "2024-04-12T17:43:19.815964",
   "environment_variables": {},
   "exception": null,
   "input_path": "__notebook__.ipynb",
   "output_path": "__notebook__.ipynb",
   "parameters": {},
   "start_time": "2024-04-12T17:41:31.399175",
   "version": "2.5.0"
  }
 },
 "nbformat": 4,
 "nbformat_minor": 5
}

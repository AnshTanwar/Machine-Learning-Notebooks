{
 "cells": [
  {
   "cell_type": "code",
   "execution_count": 1,
   "id": "64a2faaa",
   "metadata": {
    "_cell_guid": "b1076dfc-b9ad-4769-8c92-a6c4dae69d19",
    "_uuid": "8f2839f25d086af736a60e9eeb907d3b93b6e0e5",
    "execution": {
     "iopub.execute_input": "2024-04-12T14:41:45.910210Z",
     "iopub.status.busy": "2024-04-12T14:41:45.908979Z",
     "iopub.status.idle": "2024-04-12T14:41:46.852106Z",
     "shell.execute_reply": "2024-04-12T14:41:46.850876Z"
    },
    "papermill": {
     "duration": 0.951986,
     "end_time": "2024-04-12T14:41:46.854540",
     "exception": false,
     "start_time": "2024-04-12T14:41:45.902554",
     "status": "completed"
    },
    "tags": []
   },
   "outputs": [
    {
     "name": "stdout",
     "output_type": "stream",
     "text": [
      "/kaggle/input/merged-caltech-weather-traffic/merged_data_wt2.csv\n",
      "/kaggle/input/merged-caltech-weather-traffic/merged_data_wt.csv\n",
      "/kaggle/input/caltech1/caltech1.csv\n"
     ]
    }
   ],
   "source": [
    "# This Python 3 environment comes with many helpful analytics libraries installed\n",
    "# It is defined by the kaggle/python Docker image: https://github.com/kaggle/docker-python\n",
    "# For example, here's several helpful packages to load\n",
    "\n",
    "import numpy as np # linear algebra\n",
    "import pandas as pd # data processing, CSV file I/O (e.g. pd.read_csv)\n",
    "\n",
    "# Input data files are available in the read-only \"../input/\" directory\n",
    "# For example, running this (by clicking run or pressing Shift+Enter) will list all files under the input directory\n",
    "\n",
    "import os\n",
    "for dirname, _, filenames in os.walk('/kaggle/input'):\n",
    "    for filename in filenames:\n",
    "        print(os.path.join(dirname, filename))\n",
    "\n",
    "# You can write up to 20GB to the current directory (/kaggle/working/) that gets preserved as output when you create a version using \"Save & Run All\" \n",
    "# You can also write temporary files to /kaggle/temp/, but they won't be saved outside of the current session"
   ]
  },
  {
   "cell_type": "code",
   "execution_count": 2,
   "id": "b90a7e0a",
   "metadata": {
    "execution": {
     "iopub.execute_input": "2024-04-12T14:41:46.865923Z",
     "iopub.status.busy": "2024-04-12T14:41:46.865381Z",
     "iopub.status.idle": "2024-04-12T14:41:48.353749Z",
     "shell.execute_reply": "2024-04-12T14:41:48.352882Z"
    },
    "papermill": {
     "duration": 1.496661,
     "end_time": "2024-04-12T14:41:48.356235",
     "exception": false,
     "start_time": "2024-04-12T14:41:46.859574",
     "status": "completed"
    },
    "tags": []
   },
   "outputs": [],
   "source": [
    "import pandas as pd\n",
    "import numpy as np\n",
    "import seaborn as sns\n",
    "import matplotlib.pyplot as plt"
   ]
  },
  {
   "cell_type": "code",
   "execution_count": 3,
   "id": "640bb8c9",
   "metadata": {
    "execution": {
     "iopub.execute_input": "2024-04-12T14:41:48.367698Z",
     "iopub.status.busy": "2024-04-12T14:41:48.366808Z",
     "iopub.status.idle": "2024-04-12T14:41:48.403219Z",
     "shell.execute_reply": "2024-04-12T14:41:48.401969Z"
    },
    "papermill": {
     "duration": 0.044936,
     "end_time": "2024-04-12T14:41:48.405731",
     "exception": false,
     "start_time": "2024-04-12T14:41:48.360795",
     "status": "completed"
    },
    "tags": []
   },
   "outputs": [],
   "source": [
    "df = pd.read_csv('/kaggle/input/merged-caltech-weather-traffic/merged_data_wt2.csv')\n"
   ]
  },
  {
   "cell_type": "code",
   "execution_count": 4,
   "id": "373fd120",
   "metadata": {
    "execution": {
     "iopub.execute_input": "2024-04-12T14:41:48.416338Z",
     "iopub.status.busy": "2024-04-12T14:41:48.415915Z",
     "iopub.status.idle": "2024-04-12T14:41:48.424275Z",
     "shell.execute_reply": "2024-04-12T14:41:48.423103Z"
    },
    "papermill": {
     "duration": 0.016547,
     "end_time": "2024-04-12T14:41:48.426821",
     "exception": false,
     "start_time": "2024-04-12T14:41:48.410274",
     "status": "completed"
    },
    "tags": []
   },
   "outputs": [
    {
     "data": {
      "text/plain": [
       "Index(['Unnamed: 0', 'sessionID', 'stationID', 'spaceID', 'connectionTime',\n",
       "       'disconnectTime', 'kWhDelivered', 'doneChargingTime', 'timezone',\n",
       "       'userID', 'session_duration', 'Weekend', 'connectionDate', 'clouds',\n",
       "       'datetime', 'dewpt', 'max_uv', 'max_wind_spd', 'min_temp', 'precip',\n",
       "       'pres', 'revision_status', 'rh', 'slp', 'temp', 'wind_dir', 'wind_spd',\n",
       "       'Date', 'TrafficVolume', 'AverageSpeed'],\n",
       "      dtype='object')"
      ]
     },
     "execution_count": 4,
     "metadata": {},
     "output_type": "execute_result"
    }
   ],
   "source": [
    "df.columns"
   ]
  },
  {
   "cell_type": "code",
   "execution_count": 5,
   "id": "6a7e2d37",
   "metadata": {
    "execution": {
     "iopub.execute_input": "2024-04-12T14:41:48.438774Z",
     "iopub.status.busy": "2024-04-12T14:41:48.437672Z",
     "iopub.status.idle": "2024-04-12T14:41:48.451024Z",
     "shell.execute_reply": "2024-04-12T14:41:48.449775Z"
    },
    "papermill": {
     "duration": 0.021978,
     "end_time": "2024-04-12T14:41:48.453573",
     "exception": false,
     "start_time": "2024-04-12T14:41:48.431595",
     "status": "completed"
    },
    "tags": []
   },
   "outputs": [],
   "source": [
    "df = df.drop(['Unnamed: 0','sessionID','connectionTime','disconnectTime','doneChargingTime','timezone','datetime','connectionDate', 'Date', 'revision_status', 'userID','stationID'], axis=1)"
   ]
  },
  {
   "cell_type": "code",
   "execution_count": 6,
   "id": "8db93ca6",
   "metadata": {
    "execution": {
     "iopub.execute_input": "2024-04-12T14:41:48.465544Z",
     "iopub.status.busy": "2024-04-12T14:41:48.464895Z",
     "iopub.status.idle": "2024-04-12T14:41:48.471114Z",
     "shell.execute_reply": "2024-04-12T14:41:48.470070Z"
    },
    "papermill": {
     "duration": 0.015172,
     "end_time": "2024-04-12T14:41:48.473703",
     "exception": false,
     "start_time": "2024-04-12T14:41:48.458531",
     "status": "completed"
    },
    "tags": []
   },
   "outputs": [
    {
     "data": {
      "text/plain": [
       "(1945, 18)"
      ]
     },
     "execution_count": 6,
     "metadata": {},
     "output_type": "execute_result"
    }
   ],
   "source": [
    "df.shape"
   ]
  },
  {
   "cell_type": "code",
   "execution_count": 7,
   "id": "1b3f6cfc",
   "metadata": {
    "execution": {
     "iopub.execute_input": "2024-04-12T14:41:48.486226Z",
     "iopub.status.busy": "2024-04-12T14:41:48.485853Z",
     "iopub.status.idle": "2024-04-12T14:41:48.492785Z",
     "shell.execute_reply": "2024-04-12T14:41:48.491575Z"
    },
    "papermill": {
     "duration": 0.015418,
     "end_time": "2024-04-12T14:41:48.495012",
     "exception": false,
     "start_time": "2024-04-12T14:41:48.479594",
     "status": "completed"
    },
    "tags": []
   },
   "outputs": [
    {
     "data": {
      "text/plain": [
       "Index(['spaceID', 'kWhDelivered', 'session_duration', 'Weekend', 'clouds',\n",
       "       'dewpt', 'max_uv', 'max_wind_spd', 'min_temp', 'precip', 'pres', 'rh',\n",
       "       'slp', 'temp', 'wind_dir', 'wind_spd', 'TrafficVolume', 'AverageSpeed'],\n",
       "      dtype='object')"
      ]
     },
     "execution_count": 7,
     "metadata": {},
     "output_type": "execute_result"
    }
   ],
   "source": [
    "df.columns"
   ]
  },
  {
   "cell_type": "code",
   "execution_count": 8,
   "id": "2467a3f4",
   "metadata": {
    "execution": {
     "iopub.execute_input": "2024-04-12T14:41:48.507056Z",
     "iopub.status.busy": "2024-04-12T14:41:48.506496Z",
     "iopub.status.idle": "2024-04-12T14:41:48.534380Z",
     "shell.execute_reply": "2024-04-12T14:41:48.533148Z"
    },
    "papermill": {
     "duration": 0.036699,
     "end_time": "2024-04-12T14:41:48.536743",
     "exception": false,
     "start_time": "2024-04-12T14:41:48.500044",
     "status": "completed"
    },
    "tags": []
   },
   "outputs": [
    {
     "data": {
      "text/html": [
       "<div>\n",
       "<style scoped>\n",
       "    .dataframe tbody tr th:only-of-type {\n",
       "        vertical-align: middle;\n",
       "    }\n",
       "\n",
       "    .dataframe tbody tr th {\n",
       "        vertical-align: top;\n",
       "    }\n",
       "\n",
       "    .dataframe thead th {\n",
       "        text-align: right;\n",
       "    }\n",
       "</style>\n",
       "<table border=\"1\" class=\"dataframe\">\n",
       "  <thead>\n",
       "    <tr style=\"text-align: right;\">\n",
       "      <th></th>\n",
       "      <th>spaceID</th>\n",
       "      <th>kWhDelivered</th>\n",
       "      <th>session_duration</th>\n",
       "      <th>Weekend</th>\n",
       "      <th>clouds</th>\n",
       "      <th>dewpt</th>\n",
       "      <th>max_uv</th>\n",
       "      <th>max_wind_spd</th>\n",
       "      <th>min_temp</th>\n",
       "      <th>precip</th>\n",
       "      <th>pres</th>\n",
       "      <th>rh</th>\n",
       "      <th>slp</th>\n",
       "      <th>temp</th>\n",
       "      <th>wind_dir</th>\n",
       "      <th>wind_spd</th>\n",
       "      <th>TrafficVolume</th>\n",
       "      <th>AverageSpeed</th>\n",
       "    </tr>\n",
       "  </thead>\n",
       "  <tbody>\n",
       "    <tr>\n",
       "      <th>0</th>\n",
       "      <td>CA-305</td>\n",
       "      <td>39.894</td>\n",
       "      <td>1049.750000</td>\n",
       "      <td>0</td>\n",
       "      <td>51</td>\n",
       "      <td>1.6</td>\n",
       "      <td>2.9</td>\n",
       "      <td>3.4</td>\n",
       "      <td>1.5</td>\n",
       "      <td>0.8</td>\n",
       "      <td>987</td>\n",
       "      <td>80.0</td>\n",
       "      <td>1011</td>\n",
       "      <td>5.0</td>\n",
       "      <td>172</td>\n",
       "      <td>1.4</td>\n",
       "      <td>175.16875</td>\n",
       "      <td>34.242583</td>\n",
       "    </tr>\n",
       "    <tr>\n",
       "      <th>1</th>\n",
       "      <td>CA-314</td>\n",
       "      <td>10.627</td>\n",
       "      <td>198.066667</td>\n",
       "      <td>0</td>\n",
       "      <td>51</td>\n",
       "      <td>1.6</td>\n",
       "      <td>2.9</td>\n",
       "      <td>3.4</td>\n",
       "      <td>1.5</td>\n",
       "      <td>0.8</td>\n",
       "      <td>987</td>\n",
       "      <td>80.0</td>\n",
       "      <td>1011</td>\n",
       "      <td>5.0</td>\n",
       "      <td>172</td>\n",
       "      <td>1.4</td>\n",
       "      <td>175.16875</td>\n",
       "      <td>34.242583</td>\n",
       "    </tr>\n",
       "    <tr>\n",
       "      <th>2</th>\n",
       "      <td>CA-303</td>\n",
       "      <td>30.479</td>\n",
       "      <td>288.916667</td>\n",
       "      <td>1</td>\n",
       "      <td>92</td>\n",
       "      <td>1.6</td>\n",
       "      <td>1.5</td>\n",
       "      <td>2.4</td>\n",
       "      <td>2.4</td>\n",
       "      <td>1.5</td>\n",
       "      <td>997</td>\n",
       "      <td>73.5</td>\n",
       "      <td>1021</td>\n",
       "      <td>6.3</td>\n",
       "      <td>53</td>\n",
       "      <td>1.6</td>\n",
       "      <td>175.16875</td>\n",
       "      <td>34.242583</td>\n",
       "    </tr>\n",
       "    <tr>\n",
       "      <th>3</th>\n",
       "      <td>CA-315</td>\n",
       "      <td>1.650</td>\n",
       "      <td>92.283333</td>\n",
       "      <td>1</td>\n",
       "      <td>92</td>\n",
       "      <td>1.6</td>\n",
       "      <td>1.5</td>\n",
       "      <td>2.4</td>\n",
       "      <td>2.4</td>\n",
       "      <td>1.5</td>\n",
       "      <td>997</td>\n",
       "      <td>73.5</td>\n",
       "      <td>1021</td>\n",
       "      <td>6.3</td>\n",
       "      <td>53</td>\n",
       "      <td>1.6</td>\n",
       "      <td>175.16875</td>\n",
       "      <td>34.242583</td>\n",
       "    </tr>\n",
       "    <tr>\n",
       "      <th>4</th>\n",
       "      <td>CA-313</td>\n",
       "      <td>7.049</td>\n",
       "      <td>127.866667</td>\n",
       "      <td>1</td>\n",
       "      <td>92</td>\n",
       "      <td>1.6</td>\n",
       "      <td>1.5</td>\n",
       "      <td>2.4</td>\n",
       "      <td>2.4</td>\n",
       "      <td>1.5</td>\n",
       "      <td>997</td>\n",
       "      <td>73.5</td>\n",
       "      <td>1021</td>\n",
       "      <td>6.3</td>\n",
       "      <td>53</td>\n",
       "      <td>1.6</td>\n",
       "      <td>175.16875</td>\n",
       "      <td>34.242583</td>\n",
       "    </tr>\n",
       "  </tbody>\n",
       "</table>\n",
       "</div>"
      ],
      "text/plain": [
       "  spaceID  kWhDelivered  session_duration  Weekend  clouds  dewpt  max_uv  \\\n",
       "0  CA-305        39.894       1049.750000        0      51    1.6     2.9   \n",
       "1  CA-314        10.627        198.066667        0      51    1.6     2.9   \n",
       "2  CA-303        30.479        288.916667        1      92    1.6     1.5   \n",
       "3  CA-315         1.650         92.283333        1      92    1.6     1.5   \n",
       "4  CA-313         7.049        127.866667        1      92    1.6     1.5   \n",
       "\n",
       "   max_wind_spd  min_temp  precip  pres    rh   slp  temp  wind_dir  wind_spd  \\\n",
       "0           3.4       1.5     0.8   987  80.0  1011   5.0       172       1.4   \n",
       "1           3.4       1.5     0.8   987  80.0  1011   5.0       172       1.4   \n",
       "2           2.4       2.4     1.5   997  73.5  1021   6.3        53       1.6   \n",
       "3           2.4       2.4     1.5   997  73.5  1021   6.3        53       1.6   \n",
       "4           2.4       2.4     1.5   997  73.5  1021   6.3        53       1.6   \n",
       "\n",
       "   TrafficVolume  AverageSpeed  \n",
       "0      175.16875     34.242583  \n",
       "1      175.16875     34.242583  \n",
       "2      175.16875     34.242583  \n",
       "3      175.16875     34.242583  \n",
       "4      175.16875     34.242583  "
      ]
     },
     "execution_count": 8,
     "metadata": {},
     "output_type": "execute_result"
    }
   ],
   "source": [
    "df.head()"
   ]
  },
  {
   "cell_type": "code",
   "execution_count": 9,
   "id": "d63e1077",
   "metadata": {
    "execution": {
     "iopub.execute_input": "2024-04-12T14:41:48.550093Z",
     "iopub.status.busy": "2024-04-12T14:41:48.548953Z",
     "iopub.status.idle": "2024-04-12T14:41:48.556252Z",
     "shell.execute_reply": "2024-04-12T14:41:48.555311Z"
    },
    "papermill": {
     "duration": 0.016196,
     "end_time": "2024-04-12T14:41:48.558395",
     "exception": false,
     "start_time": "2024-04-12T14:41:48.542199",
     "status": "completed"
    },
    "tags": []
   },
   "outputs": [
    {
     "data": {
      "text/plain": [
       "Index(['spaceID', 'kWhDelivered', 'session_duration', 'Weekend', 'clouds',\n",
       "       'dewpt', 'max_uv', 'max_wind_spd', 'min_temp', 'precip', 'pres', 'rh',\n",
       "       'slp', 'temp', 'wind_dir', 'wind_spd', 'TrafficVolume', 'AverageSpeed'],\n",
       "      dtype='object')"
      ]
     },
     "execution_count": 9,
     "metadata": {},
     "output_type": "execute_result"
    }
   ],
   "source": [
    "df.columns"
   ]
  },
  {
   "cell_type": "code",
   "execution_count": 10,
   "id": "07685ecf",
   "metadata": {
    "execution": {
     "iopub.execute_input": "2024-04-12T14:41:48.571878Z",
     "iopub.status.busy": "2024-04-12T14:41:48.571007Z",
     "iopub.status.idle": "2024-04-12T14:41:48.576275Z",
     "shell.execute_reply": "2024-04-12T14:41:48.575103Z"
    },
    "papermill": {
     "duration": 0.014598,
     "end_time": "2024-04-12T14:41:48.578590",
     "exception": false,
     "start_time": "2024-04-12T14:41:48.563992",
     "status": "completed"
    },
    "tags": []
   },
   "outputs": [],
   "source": [
    "data = df"
   ]
  },
  {
   "cell_type": "code",
   "execution_count": 11,
   "id": "c618692e",
   "metadata": {
    "execution": {
     "iopub.execute_input": "2024-04-12T14:41:48.591474Z",
     "iopub.status.busy": "2024-04-12T14:41:48.591117Z",
     "iopub.status.idle": "2024-04-12T14:41:48.610605Z",
     "shell.execute_reply": "2024-04-12T14:41:48.609382Z"
    },
    "papermill": {
     "duration": 0.028698,
     "end_time": "2024-04-12T14:41:48.612998",
     "exception": false,
     "start_time": "2024-04-12T14:41:48.584300",
     "status": "completed"
    },
    "tags": []
   },
   "outputs": [
    {
     "name": "stdout",
     "output_type": "stream",
     "text": [
      "Unique values in spaceID: ['CA-305' 'CA-314' 'CA-303' 'CA-315' 'CA-313' 'CA-307' 'CA-317' 'CA-309'\n",
      " 'CA-325' 'CA-491' 'CA-323' 'CA-506' 'CA-319' 'CA-327' 'CA-326' 'CA-322'\n",
      " 'CA-498' 'CA-490' 'CA-493' 'CA-496' 'CA-499' 'CA-320' 'CA-497' 'CA-316'\n",
      " 'CA-312' 'CA-502' 'CA-495' 'CA-489' 'CA-304' 'CA-494' 'CA-306' 'CA-511'\n",
      " 'CA-308' 'CA-321' 'CA-492' 'CA-318' 'CA-324' 'CA-500' 'CA-310' 'CA-311'\n",
      " 'CA-507' 'CA-503' 'CA-504' 'CA-508' 'CA-501' 'CA-509' 'CA-212' 'CA-510'\n",
      " 'CA-213' 'CA-512']\n",
      "Categorical Columns: ['Weekend']\n",
      "Non-Categorical Columns: ['spaceID', 'kWhDelivered', 'session_duration', 'clouds', 'dewpt', 'max_uv', 'max_wind_spd', 'min_temp', 'precip', 'pres', 'rh', 'slp', 'temp', 'wind_dir', 'wind_spd', 'TrafficVolume', 'AverageSpeed']\n"
     ]
    }
   ],
   "source": [
    "# Identify categorical columns based on data types\n",
    "data_types = data.dtypes\n",
    "categorical_columns = data_types[data_types == 'object'].index.tolist()\n",
    "\n",
    "# Check unique values in categorical columns to confirm if they are indeed categorical\n",
    "for column in categorical_columns:\n",
    "    unique_values = data[column].unique()\n",
    "    print(f\"Unique values in {column}: {unique_values}\")\n",
    "\n",
    "# You can also set a threshold to determine if a column is categorical based on the number of unique values\n",
    "threshold_unique_values = 10  # Adjust threshold as needed\n",
    "categorical_columns = [column for column in data.columns if len(data[column].unique()) <= threshold_unique_values]\n",
    "\n",
    "# Print the identified categorical columns\n",
    "print(\"Categorical Columns:\", categorical_columns)\n",
    "\n",
    "# Non-categorical columns\n",
    "non_categorical_columns = [column for column in data.columns if column not in categorical_columns]\n",
    "print(\"Non-Categorical Columns:\", non_categorical_columns)"
   ]
  },
  {
   "cell_type": "code",
   "execution_count": 12,
   "id": "f6829388",
   "metadata": {
    "execution": {
     "iopub.execute_input": "2024-04-12T14:41:48.626233Z",
     "iopub.status.busy": "2024-04-12T14:41:48.625861Z",
     "iopub.status.idle": "2024-04-12T14:41:48.637701Z",
     "shell.execute_reply": "2024-04-12T14:41:48.636347Z"
    },
    "papermill": {
     "duration": 0.021464,
     "end_time": "2024-04-12T14:41:48.640074",
     "exception": false,
     "start_time": "2024-04-12T14:41:48.618610",
     "status": "completed"
    },
    "tags": []
   },
   "outputs": [],
   "source": [
    "import pandas as pd\n",
    "\n",
    "# Assuming 'data' is your DataFrame\n",
    "# List of categorical columns\n",
    "categorical_columns = ['spaceID']\n",
    "\n",
    "# Apply one-hot encoding for each categorical column\n",
    "for column in categorical_columns:\n",
    "    # Convert the column to one-hot encoded representation\n",
    "    one_hot_encoded = pd.get_dummies(data[column], prefix=column)\n",
    "    # Concatenate the one-hot encoded columns to the original dataframe\n",
    "    data = pd.concat([data, one_hot_encoded], axis=1)\n",
    "    # Drop the original categorical column from the dataframe\n",
    "    data.drop(column, axis=1, inplace=True)\n"
   ]
  },
  {
   "cell_type": "code",
   "execution_count": 13,
   "id": "f595b0a8",
   "metadata": {
    "execution": {
     "iopub.execute_input": "2024-04-12T14:41:48.653411Z",
     "iopub.status.busy": "2024-04-12T14:41:48.653020Z",
     "iopub.status.idle": "2024-04-12T14:41:49.597268Z",
     "shell.execute_reply": "2024-04-12T14:41:49.596099Z"
    },
    "papermill": {
     "duration": 0.955186,
     "end_time": "2024-04-12T14:41:49.601007",
     "exception": false,
     "start_time": "2024-04-12T14:41:48.645821",
     "status": "completed"
    },
    "tags": []
   },
   "outputs": [],
   "source": [
    "import pandas as pd\n",
    "from sklearn.model_selection import train_test_split\n",
    "from sklearn.preprocessing import StandardScaler\n",
    "from sklearn.impute import SimpleImputer\n",
    "from sklearn.ensemble import IsolationForest\n",
    "from sklearn.decomposition import PCA\n",
    "from sklearn.feature_selection import SelectFromModel\n",
    "from sklearn.ensemble import RandomForestRegressor\n",
    "from xgboost import XGBRegressor\n",
    "   \n",
    "imputer = SimpleImputer(strategy='mean')\n",
    "data_imputed = imputer.fit_transform(data)\n",
    "data_imputed = pd.DataFrame(data_imputed, columns=data.columns)\n",
    "\n",
    "data_imputed = data_imputed.drop(['session_duration'], axis=1)\n",
    "\n",
    "scaler = StandardScaler()\n",
    "data_scaled = scaler.fit_transform(data_imputed)\n",
    "\n",
    "\n",
    "pca = PCA(n_components=15)  \n",
    "data_pca = pca.fit_transform(data_scaled)\n",
    "\n"
   ]
  },
  {
   "cell_type": "code",
   "execution_count": 14,
   "id": "cc657a9b",
   "metadata": {
    "execution": {
     "iopub.execute_input": "2024-04-12T14:41:49.632605Z",
     "iopub.status.busy": "2024-04-12T14:41:49.632039Z",
     "iopub.status.idle": "2024-04-12T14:41:49.741084Z",
     "shell.execute_reply": "2024-04-12T14:41:49.739784Z"
    },
    "papermill": {
     "duration": 0.132857,
     "end_time": "2024-04-12T14:41:49.745256",
     "exception": false,
     "start_time": "2024-04-12T14:41:49.612399",
     "status": "completed"
    },
    "tags": []
   },
   "outputs": [],
   "source": [
    "import pandas as pd\n",
    "from sklearn.model_selection import train_test_split\n",
    "from sklearn.preprocessing import StandardScaler\n",
    "from sklearn.impute import SimpleImputer\n",
    "from sklearn.ensemble import RandomForestRegressor\n",
    "from sklearn.decomposition import PCA\n",
    "\n",
    "# Assuming 'data' contains your dataset\n",
    "\n",
    "# Impute missing values\n",
    "imputer = SimpleImputer(strategy='mean')\n",
    "data_imputed = pd.DataFrame(imputer.fit_transform(data), columns=data.columns)\n",
    "\n",
    "# Drop target variable before PCA\n",
    "X = data_imputed.drop(['session_duration'], axis=1)\n",
    "\n",
    "# Scale data\n",
    "scaler = StandardScaler()\n",
    "X_scaled = scaler.fit_transform(X)\n",
    "\n",
    "# Perform PCA\n",
    "pca = PCA(n_components=15)\n",
    "X_pca = pca.fit_transform(X_scaled)\n",
    "\n",
    "# Define target variable\n",
    "y = data_imputed['session_duration']\n",
    "\n",
    "# Split data into training and testing sets\n",
    "X_train, X_test, y_train, y_test = train_test_split(X_pca, y, test_size=0.2)"
   ]
  },
  {
   "cell_type": "code",
   "execution_count": 15,
   "id": "c7757db5",
   "metadata": {
    "execution": {
     "iopub.execute_input": "2024-04-12T14:41:49.778523Z",
     "iopub.status.busy": "2024-04-12T14:41:49.777956Z",
     "iopub.status.idle": "2024-04-12T14:41:49.783305Z",
     "shell.execute_reply": "2024-04-12T14:41:49.782099Z"
    },
    "papermill": {
     "duration": 0.033474,
     "end_time": "2024-04-12T14:41:49.790885",
     "exception": false,
     "start_time": "2024-04-12T14:41:49.757411",
     "status": "completed"
    },
    "tags": []
   },
   "outputs": [],
   "source": [
    "# #X = data.drop(columns=['session_duration'])\n",
    "# X = data_pca\n",
    "# y = data['session_duration']"
   ]
  },
  {
   "cell_type": "code",
   "execution_count": 16,
   "id": "4c09d18a",
   "metadata": {
    "execution": {
     "iopub.execute_input": "2024-04-12T14:41:49.832143Z",
     "iopub.status.busy": "2024-04-12T14:41:49.831598Z",
     "iopub.status.idle": "2024-04-12T14:41:54.531684Z",
     "shell.execute_reply": "2024-04-12T14:41:54.530778Z"
    },
    "papermill": {
     "duration": 4.720867,
     "end_time": "2024-04-12T14:41:54.534504",
     "exception": false,
     "start_time": "2024-04-12T14:41:49.813637",
     "status": "completed"
    },
    "tags": []
   },
   "outputs": [
    {
     "name": "stdout",
     "output_type": "stream",
     "text": [
      "[LightGBM] [Info] Auto-choosing col-wise multi-threading, the overhead of testing was 0.001696 seconds.\n",
      "You can set `force_col_wise=true` to remove the overhead.\n",
      "[LightGBM] [Info] Total Bins 3825\n",
      "[LightGBM] [Info] Number of data points in the train set: 1556, number of used features: 15\n",
      "[LightGBM] [Info] Start training from score 336.813314\n",
      "Random Forest Metrics:\n",
      "RMSE: 237.1108610006193\n",
      "MAE: 160.15136332476436\n",
      "\n",
      "XGBoost Metrics:\n",
      "RMSE: 249.48800787861916\n",
      "MAE: 165.57880328193932\n",
      "\n",
      "LightGBM Metrics:\n",
      "RMSE: 234.2655621715345\n",
      "MAE: 156.88890658958243\n",
      "\n",
      "SVM Metrics:\n",
      "RMSE: 251.52507531906366\n",
      "MAE: 176.18875801443252\n"
     ]
    }
   ],
   "source": [
    "from sklearn.model_selection import train_test_split\n",
    "from sklearn.ensemble import RandomForestRegressor\n",
    "from xgboost import XGBRegressor\n",
    "from lightgbm import LGBMRegressor\n",
    "from sklearn.svm import SVR\n",
    "from catboost import CatBoostRegressor\n",
    "from sklearn.metrics import mean_squared_error, mean_absolute_error\n",
    "import numpy as np\n",
    "\n",
    "# Split the data into training and testing sets\n",
    "#X_train, X_test, y_train, y_test = train_test_split(X, y, test_size=0.5)\n",
    "\n",
    "# Machine Learning Model - Random Forest\n",
    "rf_model = RandomForestRegressor()\n",
    "rf_model.fit(X_train, y_train)\n",
    "rf_score = rf_model.score(X_test, y_test)\n",
    "\n",
    "# Machine Learning Model - XGBoost\n",
    "xgb_model = XGBRegressor()\n",
    "xgb_model.fit(X_train, y_train)\n",
    "xgb_score = xgb_model.score(X_test, y_test)\n",
    "\n",
    "# Machine Learning Model - LightGBM\n",
    "lgbm_model = LGBMRegressor()\n",
    "lgbm_model.fit(X_train, y_train)\n",
    "lgbm_score = lgbm_model.score(X_test, y_test)\n",
    "\n",
    "# Machine Learning Model - SVM\n",
    "svm_model = SVR()\n",
    "svm_model.fit(X_train, y_train)\n",
    "svm_score = svm_model.score(X_test, y_test)\n",
    "\n",
    "\n",
    "# Predictions\n",
    "rf_predictions = rf_model.predict(X_test)\n",
    "xgb_predictions = xgb_model.predict(X_test)\n",
    "lgbm_predictions = lgbm_model.predict(X_test)\n",
    "svm_predictions = svm_model.predict(X_test)\n",
    "\n",
    "\n",
    "# Calculate RMSE and MAE for Random Forest\n",
    "rf_rmse = np.sqrt(mean_squared_error(y_test, rf_predictions))\n",
    "rf_mae = mean_absolute_error(y_test, rf_predictions)\n",
    "\n",
    "# Calculate RMSE and MAE for XGBoost\n",
    "xgb_rmse = np.sqrt(mean_squared_error(y_test, xgb_predictions))\n",
    "xgb_mae = mean_absolute_error(y_test, xgb_predictions)\n",
    "\n",
    "# Calculate RMSE and MAE for LightGBM\n",
    "lgbm_rmse = np.sqrt(mean_squared_error(y_test, lgbm_predictions))\n",
    "lgbm_mae = mean_absolute_error(y_test, lgbm_predictions)\n",
    "\n",
    "# Calculate RMSE and MAE for SVM\n",
    "svm_rmse = np.sqrt(mean_squared_error(y_test, svm_predictions))\n",
    "svm_mae = mean_absolute_error(y_test, svm_predictions)\n",
    "\n",
    "\n",
    "\n",
    "# Print the evaluation metrics\n",
    "print(\"Random Forest Metrics:\")\n",
    "print(\"RMSE:\", rf_rmse)\n",
    "print(\"MAE:\", rf_mae)\n",
    "print(\"\\nXGBoost Metrics:\")\n",
    "print(\"RMSE:\", xgb_rmse)\n",
    "print(\"MAE:\", xgb_mae)\n",
    "print(\"\\nLightGBM Metrics:\")\n",
    "print(\"RMSE:\", lgbm_rmse)\n",
    "print(\"MAE:\", lgbm_mae)\n",
    "print(\"\\nSVM Metrics:\")\n",
    "print(\"RMSE:\", svm_rmse)\n",
    "print(\"MAE:\", svm_mae)\n",
    "\n"
   ]
  },
  {
   "cell_type": "code",
   "execution_count": null,
   "id": "ba72301a",
   "metadata": {
    "papermill": {
     "duration": 0.006782,
     "end_time": "2024-04-12T14:41:54.550673",
     "exception": false,
     "start_time": "2024-04-12T14:41:54.543891",
     "status": "completed"
    },
    "tags": []
   },
   "outputs": [],
   "source": []
  },
  {
   "cell_type": "code",
   "execution_count": null,
   "id": "b4aeb897",
   "metadata": {
    "papermill": {
     "duration": 0.005545,
     "end_time": "2024-04-12T14:41:54.562116",
     "exception": false,
     "start_time": "2024-04-12T14:41:54.556571",
     "status": "completed"
    },
    "tags": []
   },
   "outputs": [],
   "source": []
  },
  {
   "cell_type": "code",
   "execution_count": 17,
   "id": "cb5094b0",
   "metadata": {
    "execution": {
     "iopub.execute_input": "2024-04-12T14:41:54.575549Z",
     "iopub.status.busy": "2024-04-12T14:41:54.574982Z",
     "iopub.status.idle": "2024-04-12T14:41:54.580972Z",
     "shell.execute_reply": "2024-04-12T14:41:54.579887Z"
    },
    "papermill": {
     "duration": 0.015767,
     "end_time": "2024-04-12T14:41:54.583671",
     "exception": false,
     "start_time": "2024-04-12T14:41:54.567904",
     "status": "completed"
    },
    "tags": []
   },
   "outputs": [],
   "source": [
    "# # Feature Selection\n",
    "# model = RandomForestRegressor()\n",
    "# model.fit(data_pca, data_imputed['session_duration'])  # Replace 'target_column' with your target variable\n",
    "# feature_importances = model.feature_importances_\n",
    "# selector = SelectFromModel(model, prefit=True)\n",
    "# selected_features = selector.transform(data_imputeda)\n",
    "\n",
    "# # Split the data into training and testing sets\n",
    "# X_train, X_test, y_train, y_test = train_test_split(selected_features, data_imputed['session_duration'], test_size=0.2)\n",
    "\n",
    "# # Machine Learning Model - Random Forest\n",
    "# rf_model = RandomForestRegressor()\n",
    "# rf_model.fit(X_train, y_train)\n",
    "# rf_score = rf_model.score(X_test, y_test)\n",
    "\n",
    "# # Machine Learning Model - XGBoost\n",
    "# xgb_model = XGBRegressor()\n",
    "# xgb_model.fit(X_train, y_train)\n",
    "# xgb_score = xgb_model.score(X_test, y_test)\n",
    "\n",
    "# # print(\"Random Forest Score:\", rf_score)\n",
    "# # print(\"XGBoost Score:\", xgb_score)\n",
    "# from sklearn.metrics import mean_squared_error, mean_absolute_error\n",
    "# import numpy as np\n",
    "\n",
    "# # Predictions\n",
    "# rf_predictions = rf_model.predict(X_test)\n",
    "# xgb_predictions = xgb_model.predict(X_test)\n",
    "\n",
    "# # Calculate RMSE and MAE for Random Forest\n",
    "# rf_rmse = np.sqrt(mean_squared_error(y_test, rf_predictions))\n",
    "# rf_mae = mean_absolute_error(y_test, rf_predictions)\n",
    "\n",
    "# # Calculate RMSE and MAE for XGBoost\n",
    "# xgb_rmse = np.sqrt(mean_squared_error(y_test, xgb_predictions))\n",
    "# xgb_mae = mean_absolute_error(y_test, xgb_predictions)\n",
    "\n",
    "# # Print the evaluation metrics\n",
    "# print(\"Random Forest Metrics:\")\n",
    "# print(\"RMSE:\", rf_rmse)\n",
    "# print(\"MAE:\", rf_mae)\n",
    "# print(\"\\nXGBoost Metrics:\")\n",
    "# print(\"RMSE:\", xgb_rmse)\n",
    "# print(\"MAE:\", xgb_mae)\n",
    "\n"
   ]
  }
 ],
 "metadata": {
  "kaggle": {
   "accelerator": "none",
   "dataSources": [
    {
     "datasetId": 4696377,
     "sourceId": 7979644,
     "sourceType": "datasetVersion"
    },
    {
     "datasetId": 4779117,
     "sourceId": 8100492,
     "sourceType": "datasetVersion"
    }
   ],
   "dockerImageVersionId": 30673,
   "isGpuEnabled": false,
   "isInternetEnabled": true,
   "language": "python",
   "sourceType": "notebook"
  },
  "kernelspec": {
   "display_name": "Python 3",
   "language": "python",
   "name": "python3"
  },
  "language_info": {
   "codemirror_mode": {
    "name": "ipython",
    "version": 3
   },
   "file_extension": ".py",
   "mimetype": "text/x-python",
   "name": "python",
   "nbconvert_exporter": "python",
   "pygments_lexer": "ipython3",
   "version": "3.10.13"
  },
  "papermill": {
   "default_parameters": {},
   "duration": 12.550358,
   "end_time": "2024-04-12T14:41:55.416181",
   "environment_variables": {},
   "exception": null,
   "input_path": "__notebook__.ipynb",
   "output_path": "__notebook__.ipynb",
   "parameters": {},
   "start_time": "2024-04-12T14:41:42.865823",
   "version": "2.5.0"
  }
 },
 "nbformat": 4,
 "nbformat_minor": 5
}

{
 "cells": [
  {
   "cell_type": "code",
   "execution_count": 1,
   "id": "ee039d73",
   "metadata": {
    "_cell_guid": "b1076dfc-b9ad-4769-8c92-a6c4dae69d19",
    "_uuid": "8f2839f25d086af736a60e9eeb907d3b93b6e0e5",
    "execution": {
     "iopub.execute_input": "2024-04-12T14:35:25.997995Z",
     "iopub.status.busy": "2024-04-12T14:35:25.996637Z",
     "iopub.status.idle": "2024-04-12T14:35:27.129541Z",
     "shell.execute_reply": "2024-04-12T14:35:27.128159Z"
    },
    "papermill": {
     "duration": 1.145001,
     "end_time": "2024-04-12T14:35:27.132810",
     "exception": false,
     "start_time": "2024-04-12T14:35:25.987809",
     "status": "completed"
    },
    "tags": []
   },
   "outputs": [
    {
     "name": "stdout",
     "output_type": "stream",
     "text": [
      "/kaggle/input/merged-caltech-weather-traffic/merged_data_wt2.csv\n",
      "/kaggle/input/merged-caltech-weather-traffic/merged_data_wt.csv\n",
      "/kaggle/input/caltech1/caltech1.csv\n"
     ]
    }
   ],
   "source": [
    "# This Python 3 environment comes with many helpful analytics libraries installed\n",
    "# It is defined by the kaggle/python Docker image: https://github.com/kaggle/docker-python\n",
    "# For example, here's several helpful packages to load\n",
    "\n",
    "import numpy as np # linear algebra\n",
    "import pandas as pd # data processing, CSV file I/O (e.g. pd.read_csv)\n",
    "\n",
    "# Input data files are available in the read-only \"../input/\" directory\n",
    "# For example, running this (by clicking run or pressing Shift+Enter) will list all files under the input directory\n",
    "\n",
    "import os\n",
    "for dirname, _, filenames in os.walk('/kaggle/input'):\n",
    "    for filename in filenames:\n",
    "        print(os.path.join(dirname, filename))\n",
    "\n",
    "# You can write up to 20GB to the current directory (/kaggle/working/) that gets preserved as output when you create a version using \"Save & Run All\" \n",
    "# You can also write temporary files to /kaggle/temp/, but they won't be saved outside of the current session"
   ]
  },
  {
   "cell_type": "code",
   "execution_count": 2,
   "id": "fe51ec94",
   "metadata": {
    "execution": {
     "iopub.execute_input": "2024-04-12T14:35:27.148635Z",
     "iopub.status.busy": "2024-04-12T14:35:27.147995Z",
     "iopub.status.idle": "2024-04-12T14:35:28.831563Z",
     "shell.execute_reply": "2024-04-12T14:35:28.829800Z"
    },
    "papermill": {
     "duration": 1.695239,
     "end_time": "2024-04-12T14:35:28.834972",
     "exception": false,
     "start_time": "2024-04-12T14:35:27.139733",
     "status": "completed"
    },
    "tags": []
   },
   "outputs": [],
   "source": [
    "import pandas as pd\n",
    "import numpy as np\n",
    "import seaborn as sns\n",
    "import matplotlib.pyplot as plt"
   ]
  },
  {
   "cell_type": "code",
   "execution_count": 3,
   "id": "96232632",
   "metadata": {
    "execution": {
     "iopub.execute_input": "2024-04-12T14:35:28.851012Z",
     "iopub.status.busy": "2024-04-12T14:35:28.849780Z",
     "iopub.status.idle": "2024-04-12T14:35:28.896404Z",
     "shell.execute_reply": "2024-04-12T14:35:28.895398Z"
    },
    "papermill": {
     "duration": 0.057996,
     "end_time": "2024-04-12T14:35:28.899485",
     "exception": false,
     "start_time": "2024-04-12T14:35:28.841489",
     "status": "completed"
    },
    "tags": []
   },
   "outputs": [],
   "source": [
    "df = pd.read_csv('/kaggle/input/merged-caltech-weather-traffic/merged_data_wt2.csv')\n"
   ]
  },
  {
   "cell_type": "code",
   "execution_count": 4,
   "id": "6562893b",
   "metadata": {
    "execution": {
     "iopub.execute_input": "2024-04-12T14:35:28.916532Z",
     "iopub.status.busy": "2024-04-12T14:35:28.915409Z",
     "iopub.status.idle": "2024-04-12T14:35:28.925088Z",
     "shell.execute_reply": "2024-04-12T14:35:28.923674Z"
    },
    "papermill": {
     "duration": 0.021662,
     "end_time": "2024-04-12T14:35:28.928243",
     "exception": false,
     "start_time": "2024-04-12T14:35:28.906581",
     "status": "completed"
    },
    "tags": []
   },
   "outputs": [
    {
     "data": {
      "text/plain": [
       "Index(['Unnamed: 0', 'sessionID', 'stationID', 'spaceID', 'connectionTime',\n",
       "       'disconnectTime', 'kWhDelivered', 'doneChargingTime', 'timezone',\n",
       "       'userID', 'session_duration', 'Weekend', 'connectionDate', 'clouds',\n",
       "       'datetime', 'dewpt', 'max_uv', 'max_wind_spd', 'min_temp', 'precip',\n",
       "       'pres', 'revision_status', 'rh', 'slp', 'temp', 'wind_dir', 'wind_spd',\n",
       "       'Date', 'TrafficVolume', 'AverageSpeed'],\n",
       "      dtype='object')"
      ]
     },
     "execution_count": 4,
     "metadata": {},
     "output_type": "execute_result"
    }
   ],
   "source": [
    "df.columns"
   ]
  },
  {
   "cell_type": "code",
   "execution_count": 5,
   "id": "b46b4026",
   "metadata": {
    "execution": {
     "iopub.execute_input": "2024-04-12T14:35:28.945019Z",
     "iopub.status.busy": "2024-04-12T14:35:28.944561Z",
     "iopub.status.idle": "2024-04-12T14:35:28.958352Z",
     "shell.execute_reply": "2024-04-12T14:35:28.957100Z"
    },
    "papermill": {
     "duration": 0.026219,
     "end_time": "2024-04-12T14:35:28.961470",
     "exception": false,
     "start_time": "2024-04-12T14:35:28.935251",
     "status": "completed"
    },
    "tags": []
   },
   "outputs": [],
   "source": [
    "df = df.drop(['Unnamed: 0','sessionID','connectionTime', 'spaceID', 'userID','disconnectTime','doneChargingTime','timezone','datetime','connectionDate', 'Date', 'revision_status','stationID'], axis=1)"
   ]
  },
  {
   "cell_type": "code",
   "execution_count": 6,
   "id": "2a52b5b8",
   "metadata": {
    "execution": {
     "iopub.execute_input": "2024-04-12T14:35:28.977635Z",
     "iopub.status.busy": "2024-04-12T14:35:28.977161Z",
     "iopub.status.idle": "2024-04-12T14:35:28.984160Z",
     "shell.execute_reply": "2024-04-12T14:35:28.982871Z"
    },
    "papermill": {
     "duration": 0.018209,
     "end_time": "2024-04-12T14:35:28.986673",
     "exception": false,
     "start_time": "2024-04-12T14:35:28.968464",
     "status": "completed"
    },
    "tags": []
   },
   "outputs": [
    {
     "data": {
      "text/plain": [
       "(1945, 17)"
      ]
     },
     "execution_count": 6,
     "metadata": {},
     "output_type": "execute_result"
    }
   ],
   "source": [
    "df.shape"
   ]
  },
  {
   "cell_type": "code",
   "execution_count": 7,
   "id": "fbf40172",
   "metadata": {
    "execution": {
     "iopub.execute_input": "2024-04-12T14:35:29.003937Z",
     "iopub.status.busy": "2024-04-12T14:35:29.003421Z",
     "iopub.status.idle": "2024-04-12T14:35:29.012271Z",
     "shell.execute_reply": "2024-04-12T14:35:29.010884Z"
    },
    "papermill": {
     "duration": 0.021243,
     "end_time": "2024-04-12T14:35:29.015143",
     "exception": false,
     "start_time": "2024-04-12T14:35:28.993900",
     "status": "completed"
    },
    "tags": []
   },
   "outputs": [
    {
     "data": {
      "text/plain": [
       "Index(['kWhDelivered', 'session_duration', 'Weekend', 'clouds', 'dewpt',\n",
       "       'max_uv', 'max_wind_spd', 'min_temp', 'precip', 'pres', 'rh', 'slp',\n",
       "       'temp', 'wind_dir', 'wind_spd', 'TrafficVolume', 'AverageSpeed'],\n",
       "      dtype='object')"
      ]
     },
     "execution_count": 7,
     "metadata": {},
     "output_type": "execute_result"
    }
   ],
   "source": [
    "df.columns"
   ]
  },
  {
   "cell_type": "code",
   "execution_count": 8,
   "id": "dd2d5b72",
   "metadata": {
    "execution": {
     "iopub.execute_input": "2024-04-12T14:35:29.032353Z",
     "iopub.status.busy": "2024-04-12T14:35:29.031823Z",
     "iopub.status.idle": "2024-04-12T14:35:29.065727Z",
     "shell.execute_reply": "2024-04-12T14:35:29.064377Z"
    },
    "papermill": {
     "duration": 0.047104,
     "end_time": "2024-04-12T14:35:29.069696",
     "exception": false,
     "start_time": "2024-04-12T14:35:29.022592",
     "status": "completed"
    },
    "tags": []
   },
   "outputs": [
    {
     "data": {
      "text/html": [
       "<div>\n",
       "<style scoped>\n",
       "    .dataframe tbody tr th:only-of-type {\n",
       "        vertical-align: middle;\n",
       "    }\n",
       "\n",
       "    .dataframe tbody tr th {\n",
       "        vertical-align: top;\n",
       "    }\n",
       "\n",
       "    .dataframe thead th {\n",
       "        text-align: right;\n",
       "    }\n",
       "</style>\n",
       "<table border=\"1\" class=\"dataframe\">\n",
       "  <thead>\n",
       "    <tr style=\"text-align: right;\">\n",
       "      <th></th>\n",
       "      <th>kWhDelivered</th>\n",
       "      <th>session_duration</th>\n",
       "      <th>Weekend</th>\n",
       "      <th>clouds</th>\n",
       "      <th>dewpt</th>\n",
       "      <th>max_uv</th>\n",
       "      <th>max_wind_spd</th>\n",
       "      <th>min_temp</th>\n",
       "      <th>precip</th>\n",
       "      <th>pres</th>\n",
       "      <th>rh</th>\n",
       "      <th>slp</th>\n",
       "      <th>temp</th>\n",
       "      <th>wind_dir</th>\n",
       "      <th>wind_spd</th>\n",
       "      <th>TrafficVolume</th>\n",
       "      <th>AverageSpeed</th>\n",
       "    </tr>\n",
       "  </thead>\n",
       "  <tbody>\n",
       "    <tr>\n",
       "      <th>0</th>\n",
       "      <td>39.894</td>\n",
       "      <td>1049.750000</td>\n",
       "      <td>0</td>\n",
       "      <td>51</td>\n",
       "      <td>1.6</td>\n",
       "      <td>2.9</td>\n",
       "      <td>3.4</td>\n",
       "      <td>1.5</td>\n",
       "      <td>0.8</td>\n",
       "      <td>987</td>\n",
       "      <td>80.0</td>\n",
       "      <td>1011</td>\n",
       "      <td>5.0</td>\n",
       "      <td>172</td>\n",
       "      <td>1.4</td>\n",
       "      <td>175.16875</td>\n",
       "      <td>34.242583</td>\n",
       "    </tr>\n",
       "    <tr>\n",
       "      <th>1</th>\n",
       "      <td>10.627</td>\n",
       "      <td>198.066667</td>\n",
       "      <td>0</td>\n",
       "      <td>51</td>\n",
       "      <td>1.6</td>\n",
       "      <td>2.9</td>\n",
       "      <td>3.4</td>\n",
       "      <td>1.5</td>\n",
       "      <td>0.8</td>\n",
       "      <td>987</td>\n",
       "      <td>80.0</td>\n",
       "      <td>1011</td>\n",
       "      <td>5.0</td>\n",
       "      <td>172</td>\n",
       "      <td>1.4</td>\n",
       "      <td>175.16875</td>\n",
       "      <td>34.242583</td>\n",
       "    </tr>\n",
       "    <tr>\n",
       "      <th>2</th>\n",
       "      <td>30.479</td>\n",
       "      <td>288.916667</td>\n",
       "      <td>1</td>\n",
       "      <td>92</td>\n",
       "      <td>1.6</td>\n",
       "      <td>1.5</td>\n",
       "      <td>2.4</td>\n",
       "      <td>2.4</td>\n",
       "      <td>1.5</td>\n",
       "      <td>997</td>\n",
       "      <td>73.5</td>\n",
       "      <td>1021</td>\n",
       "      <td>6.3</td>\n",
       "      <td>53</td>\n",
       "      <td>1.6</td>\n",
       "      <td>175.16875</td>\n",
       "      <td>34.242583</td>\n",
       "    </tr>\n",
       "    <tr>\n",
       "      <th>3</th>\n",
       "      <td>1.650</td>\n",
       "      <td>92.283333</td>\n",
       "      <td>1</td>\n",
       "      <td>92</td>\n",
       "      <td>1.6</td>\n",
       "      <td>1.5</td>\n",
       "      <td>2.4</td>\n",
       "      <td>2.4</td>\n",
       "      <td>1.5</td>\n",
       "      <td>997</td>\n",
       "      <td>73.5</td>\n",
       "      <td>1021</td>\n",
       "      <td>6.3</td>\n",
       "      <td>53</td>\n",
       "      <td>1.6</td>\n",
       "      <td>175.16875</td>\n",
       "      <td>34.242583</td>\n",
       "    </tr>\n",
       "    <tr>\n",
       "      <th>4</th>\n",
       "      <td>7.049</td>\n",
       "      <td>127.866667</td>\n",
       "      <td>1</td>\n",
       "      <td>92</td>\n",
       "      <td>1.6</td>\n",
       "      <td>1.5</td>\n",
       "      <td>2.4</td>\n",
       "      <td>2.4</td>\n",
       "      <td>1.5</td>\n",
       "      <td>997</td>\n",
       "      <td>73.5</td>\n",
       "      <td>1021</td>\n",
       "      <td>6.3</td>\n",
       "      <td>53</td>\n",
       "      <td>1.6</td>\n",
       "      <td>175.16875</td>\n",
       "      <td>34.242583</td>\n",
       "    </tr>\n",
       "  </tbody>\n",
       "</table>\n",
       "</div>"
      ],
      "text/plain": [
       "   kWhDelivered  session_duration  Weekend  clouds  dewpt  max_uv  \\\n",
       "0        39.894       1049.750000        0      51    1.6     2.9   \n",
       "1        10.627        198.066667        0      51    1.6     2.9   \n",
       "2        30.479        288.916667        1      92    1.6     1.5   \n",
       "3         1.650         92.283333        1      92    1.6     1.5   \n",
       "4         7.049        127.866667        1      92    1.6     1.5   \n",
       "\n",
       "   max_wind_spd  min_temp  precip  pres    rh   slp  temp  wind_dir  wind_spd  \\\n",
       "0           3.4       1.5     0.8   987  80.0  1011   5.0       172       1.4   \n",
       "1           3.4       1.5     0.8   987  80.0  1011   5.0       172       1.4   \n",
       "2           2.4       2.4     1.5   997  73.5  1021   6.3        53       1.6   \n",
       "3           2.4       2.4     1.5   997  73.5  1021   6.3        53       1.6   \n",
       "4           2.4       2.4     1.5   997  73.5  1021   6.3        53       1.6   \n",
       "\n",
       "   TrafficVolume  AverageSpeed  \n",
       "0      175.16875     34.242583  \n",
       "1      175.16875     34.242583  \n",
       "2      175.16875     34.242583  \n",
       "3      175.16875     34.242583  \n",
       "4      175.16875     34.242583  "
      ]
     },
     "execution_count": 8,
     "metadata": {},
     "output_type": "execute_result"
    }
   ],
   "source": [
    "df.head()"
   ]
  },
  {
   "cell_type": "code",
   "execution_count": 9,
   "id": "f5acf21c",
   "metadata": {
    "execution": {
     "iopub.execute_input": "2024-04-12T14:35:29.090755Z",
     "iopub.status.busy": "2024-04-12T14:35:29.089803Z",
     "iopub.status.idle": "2024-04-12T14:35:29.098712Z",
     "shell.execute_reply": "2024-04-12T14:35:29.096904Z"
    },
    "papermill": {
     "duration": 0.022695,
     "end_time": "2024-04-12T14:35:29.101685",
     "exception": false,
     "start_time": "2024-04-12T14:35:29.078990",
     "status": "completed"
    },
    "tags": []
   },
   "outputs": [
    {
     "data": {
      "text/plain": [
       "Index(['kWhDelivered', 'session_duration', 'Weekend', 'clouds', 'dewpt',\n",
       "       'max_uv', 'max_wind_spd', 'min_temp', 'precip', 'pres', 'rh', 'slp',\n",
       "       'temp', 'wind_dir', 'wind_spd', 'TrafficVolume', 'AverageSpeed'],\n",
       "      dtype='object')"
      ]
     },
     "execution_count": 9,
     "metadata": {},
     "output_type": "execute_result"
    }
   ],
   "source": [
    "df.columns"
   ]
  },
  {
   "cell_type": "code",
   "execution_count": 10,
   "id": "ff6edcb3",
   "metadata": {
    "execution": {
     "iopub.execute_input": "2024-04-12T14:35:29.121747Z",
     "iopub.status.busy": "2024-04-12T14:35:29.120870Z",
     "iopub.status.idle": "2024-04-12T14:35:29.127215Z",
     "shell.execute_reply": "2024-04-12T14:35:29.125659Z"
    },
    "papermill": {
     "duration": 0.019801,
     "end_time": "2024-04-12T14:35:29.130286",
     "exception": false,
     "start_time": "2024-04-12T14:35:29.110485",
     "status": "completed"
    },
    "tags": []
   },
   "outputs": [],
   "source": [
    "data = df"
   ]
  },
  {
   "cell_type": "code",
   "execution_count": 11,
   "id": "2a8f78d7",
   "metadata": {
    "execution": {
     "iopub.execute_input": "2024-04-12T14:35:29.149170Z",
     "iopub.status.busy": "2024-04-12T14:35:29.148654Z",
     "iopub.status.idle": "2024-04-12T14:35:29.167775Z",
     "shell.execute_reply": "2024-04-12T14:35:29.166406Z"
    },
    "papermill": {
     "duration": 0.032348,
     "end_time": "2024-04-12T14:35:29.170981",
     "exception": false,
     "start_time": "2024-04-12T14:35:29.138633",
     "status": "completed"
    },
    "tags": []
   },
   "outputs": [
    {
     "name": "stdout",
     "output_type": "stream",
     "text": [
      "Categorical Columns: ['Weekend']\n",
      "Non-Categorical Columns: ['kWhDelivered', 'session_duration', 'clouds', 'dewpt', 'max_uv', 'max_wind_spd', 'min_temp', 'precip', 'pres', 'rh', 'slp', 'temp', 'wind_dir', 'wind_spd', 'TrafficVolume', 'AverageSpeed']\n"
     ]
    }
   ],
   "source": [
    "# Identify categorical columns based on data types\n",
    "data_types = data.dtypes\n",
    "categorical_columns = data_types[data_types == 'object'].index.tolist()\n",
    "\n",
    "# Check unique values in categorical columns to confirm if they are indeed categorical\n",
    "for column in categorical_columns:\n",
    "    unique_values = data[column].unique()\n",
    "    print(f\"Unique values in {column}: {unique_values}\")\n",
    "\n",
    "# You can also set a threshold to determine if a column is categorical based on the number of unique values\n",
    "threshold_unique_values = 10  # Adjust threshold as needed\n",
    "categorical_columns = [column for column in data.columns if len(data[column].unique()) <= threshold_unique_values]\n",
    "\n",
    "# Print the identified categorical columns\n",
    "print(\"Categorical Columns:\", categorical_columns)\n",
    "\n",
    "# Non-categorical columns\n",
    "non_categorical_columns = [column for column in data.columns if column not in categorical_columns]\n",
    "print(\"Non-Categorical Columns:\", non_categorical_columns)"
   ]
  },
  {
   "cell_type": "code",
   "execution_count": 12,
   "id": "944cd19c",
   "metadata": {
    "execution": {
     "iopub.execute_input": "2024-04-12T14:35:29.189885Z",
     "iopub.status.busy": "2024-04-12T14:35:29.189432Z",
     "iopub.status.idle": "2024-04-12T14:35:29.195348Z",
     "shell.execute_reply": "2024-04-12T14:35:29.194055Z"
    },
    "papermill": {
     "duration": 0.018582,
     "end_time": "2024-04-12T14:35:29.198016",
     "exception": false,
     "start_time": "2024-04-12T14:35:29.179434",
     "status": "completed"
    },
    "tags": []
   },
   "outputs": [],
   "source": [
    "# import pandas as pd\n",
    "\n",
    "# # Assuming 'data' is your DataFrame\n",
    "# # List of categorical columns\n",
    "# categorical_columns = ['spaceID', 'userID']\n",
    "\n",
    "# # Apply one-hot encoding for each categorical column\n",
    "# for column in categorical_columns:\n",
    "#     # Convert the column to one-hot encoded representation\n",
    "#     one_hot_encoded = pd.get_dummies(data[column], prefix=column)\n",
    "#     # Concatenate the one-hot encoded columns to the original dataframe\n",
    "#     data = pd.concat([data, one_hot_encoded], axis=1)\n",
    "#     # Drop the original categorical column from the dataframe\n",
    "#     data.drop(column, axis=1, inplace=True)\n"
   ]
  },
  {
   "cell_type": "code",
   "execution_count": 13,
   "id": "95a2cebe",
   "metadata": {
    "execution": {
     "iopub.execute_input": "2024-04-12T14:35:29.217013Z",
     "iopub.status.busy": "2024-04-12T14:35:29.216555Z",
     "iopub.status.idle": "2024-04-12T14:35:30.323608Z",
     "shell.execute_reply": "2024-04-12T14:35:30.321720Z"
    },
    "papermill": {
     "duration": 1.123148,
     "end_time": "2024-04-12T14:35:30.329587",
     "exception": false,
     "start_time": "2024-04-12T14:35:29.206439",
     "status": "completed"
    },
    "tags": []
   },
   "outputs": [],
   "source": [
    "import pandas as pd\n",
    "from sklearn.model_selection import train_test_split\n",
    "from sklearn.preprocessing import StandardScaler\n",
    "from sklearn.impute import SimpleImputer\n",
    "from sklearn.ensemble import IsolationForest\n",
    "from sklearn.decomposition import PCA\n",
    "from sklearn.feature_selection import SelectFromModel\n",
    "from sklearn.ensemble import RandomForestRegressor\n",
    "from xgboost import XGBRegressor\n",
    "   \n",
    "imputer = SimpleImputer(strategy='mean')\n",
    "data_imputed = imputer.fit_transform(data)\n",
    "data_imputed = pd.DataFrame(data_imputed, columns=data.columns)\n",
    "\n",
    "data_imputed = data_imputed.drop(['session_duration'], axis=1)\n",
    "\n",
    "scaler = StandardScaler()\n",
    "data_scaled = scaler.fit_transform(data_imputed)\n",
    "\n",
    "\n",
    "pca = PCA(n_components=15)  \n",
    "data_pca = pca.fit_transform(data_scaled)\n",
    "\n"
   ]
  },
  {
   "cell_type": "code",
   "execution_count": 14,
   "id": "3b5000a9",
   "metadata": {
    "execution": {
     "iopub.execute_input": "2024-04-12T14:35:30.370858Z",
     "iopub.status.busy": "2024-04-12T14:35:30.369271Z",
     "iopub.status.idle": "2024-04-12T14:35:30.415062Z",
     "shell.execute_reply": "2024-04-12T14:35:30.413411Z"
    },
    "papermill": {
     "duration": 0.072386,
     "end_time": "2024-04-12T14:35:30.420753",
     "exception": false,
     "start_time": "2024-04-12T14:35:30.348367",
     "status": "completed"
    },
    "tags": []
   },
   "outputs": [],
   "source": [
    "import pandas as pd\n",
    "from sklearn.model_selection import train_test_split\n",
    "from sklearn.preprocessing import StandardScaler\n",
    "from sklearn.impute import SimpleImputer\n",
    "from sklearn.ensemble import RandomForestRegressor\n",
    "from sklearn.decomposition import PCA\n",
    "\n",
    "# Assuming 'data' contains your dataset\n",
    "\n",
    "# Impute missing values\n",
    "imputer = SimpleImputer(strategy='mean')\n",
    "data_imputed = pd.DataFrame(imputer.fit_transform(data), columns=data.columns)\n",
    "\n",
    "# Drop target variable before PCA\n",
    "X = data_imputed.drop(['session_duration'], axis=1)\n",
    "\n",
    "# Scale data\n",
    "scaler = StandardScaler()\n",
    "X_scaled = scaler.fit_transform(X)\n",
    "\n",
    "# Perform PCA\n",
    "pca = PCA(n_components=15)\n",
    "X_pca = pca.fit_transform(X_scaled)\n",
    "\n",
    "# Define target variable\n",
    "y = data_imputed['session_duration']\n",
    "\n",
    "# Split data into training and testing sets\n",
    "X_train, X_test, y_train, y_test = train_test_split(X_pca, y, test_size=0.2)"
   ]
  },
  {
   "cell_type": "code",
   "execution_count": 15,
   "id": "40bff599",
   "metadata": {
    "execution": {
     "iopub.execute_input": "2024-04-12T14:35:30.468527Z",
     "iopub.status.busy": "2024-04-12T14:35:30.467804Z",
     "iopub.status.idle": "2024-04-12T14:35:30.478827Z",
     "shell.execute_reply": "2024-04-12T14:35:30.477291Z"
    },
    "papermill": {
     "duration": 0.041833,
     "end_time": "2024-04-12T14:35:30.483750",
     "exception": false,
     "start_time": "2024-04-12T14:35:30.441917",
     "status": "completed"
    },
    "tags": []
   },
   "outputs": [],
   "source": [
    "# #X = data.drop(columns=['session_duration'])\n",
    "# X = data_pca\n",
    "# y = data['session_duration']"
   ]
  },
  {
   "cell_type": "code",
   "execution_count": 16,
   "id": "3e446487",
   "metadata": {
    "execution": {
     "iopub.execute_input": "2024-04-12T14:35:30.520202Z",
     "iopub.status.busy": "2024-04-12T14:35:30.519534Z",
     "iopub.status.idle": "2024-04-12T14:35:35.459460Z",
     "shell.execute_reply": "2024-04-12T14:35:35.458221Z"
    },
    "papermill": {
     "duration": 4.962285,
     "end_time": "2024-04-12T14:35:35.463001",
     "exception": false,
     "start_time": "2024-04-12T14:35:30.500716",
     "status": "completed"
    },
    "tags": []
   },
   "outputs": [
    {
     "name": "stdout",
     "output_type": "stream",
     "text": [
      "[LightGBM] [Info] Auto-choosing col-wise multi-threading, the overhead of testing was 0.001906 seconds.\n",
      "You can set `force_col_wise=true` to remove the overhead.\n",
      "[LightGBM] [Info] Total Bins 3825\n",
      "[LightGBM] [Info] Number of data points in the train set: 1556, number of used features: 15\n",
      "[LightGBM] [Info] Start training from score 336.777024\n",
      "Random Forest Metrics:\n",
      "RMSE: 237.27898342857137\n",
      "MAE: 174.07185304198802\n",
      "\n",
      "XGBoost Metrics:\n",
      "RMSE: 244.29276983257319\n",
      "MAE: 175.75918199768816\n",
      "\n",
      "LightGBM Metrics:\n",
      "RMSE: 223.69974249618048\n",
      "MAE: 163.9009217451401\n",
      "\n",
      "SVM Metrics:\n",
      "RMSE: 225.58836737902635\n",
      "MAE: 178.91893198169618\n"
     ]
    }
   ],
   "source": [
    "from sklearn.model_selection import train_test_split\n",
    "from sklearn.ensemble import RandomForestRegressor\n",
    "from xgboost import XGBRegressor\n",
    "from lightgbm import LGBMRegressor\n",
    "from sklearn.svm import SVR\n",
    "from catboost import CatBoostRegressor\n",
    "from sklearn.metrics import mean_squared_error, mean_absolute_error\n",
    "import numpy as np\n",
    "\n",
    "# Split the data into training and testing sets\n",
    "#X_train, X_test, y_train, y_test = train_test_split(X, y, test_size=0.5)\n",
    "\n",
    "# Machine Learning Model - Random Forest\n",
    "rf_model = RandomForestRegressor()\n",
    "rf_model.fit(X_train, y_train)\n",
    "rf_score = rf_model.score(X_test, y_test)\n",
    "\n",
    "# Machine Learning Model - XGBoost\n",
    "xgb_model = XGBRegressor()\n",
    "xgb_model.fit(X_train, y_train)\n",
    "xgb_score = xgb_model.score(X_test, y_test)\n",
    "\n",
    "# Machine Learning Model - LightGBM\n",
    "lgbm_model = LGBMRegressor()\n",
    "lgbm_model.fit(X_train, y_train)\n",
    "lgbm_score = lgbm_model.score(X_test, y_test)\n",
    "\n",
    "# Machine Learning Model - SVM\n",
    "svm_model = SVR()\n",
    "svm_model.fit(X_train, y_train)\n",
    "svm_score = svm_model.score(X_test, y_test)\n",
    "\n",
    "\n",
    "# Predictions\n",
    "rf_predictions = rf_model.predict(X_test)\n",
    "xgb_predictions = xgb_model.predict(X_test)\n",
    "lgbm_predictions = lgbm_model.predict(X_test)\n",
    "svm_predictions = svm_model.predict(X_test)\n",
    "\n",
    "\n",
    "# Calculate RMSE and MAE for Random Forest\n",
    "rf_rmse = np.sqrt(mean_squared_error(y_test, rf_predictions))\n",
    "rf_mae = mean_absolute_error(y_test, rf_predictions)\n",
    "\n",
    "# Calculate RMSE and MAE for XGBoost\n",
    "xgb_rmse = np.sqrt(mean_squared_error(y_test, xgb_predictions))\n",
    "xgb_mae = mean_absolute_error(y_test, xgb_predictions)\n",
    "\n",
    "# Calculate RMSE and MAE for LightGBM\n",
    "lgbm_rmse = np.sqrt(mean_squared_error(y_test, lgbm_predictions))\n",
    "lgbm_mae = mean_absolute_error(y_test, lgbm_predictions)\n",
    "\n",
    "# Calculate RMSE and MAE for SVM\n",
    "svm_rmse = np.sqrt(mean_squared_error(y_test, svm_predictions))\n",
    "svm_mae = mean_absolute_error(y_test, svm_predictions)\n",
    "\n",
    "\n",
    "\n",
    "# Print the evaluation metrics\n",
    "print(\"Random Forest Metrics:\")\n",
    "print(\"RMSE:\", rf_rmse)\n",
    "print(\"MAE:\", rf_mae)\n",
    "print(\"\\nXGBoost Metrics:\")\n",
    "print(\"RMSE:\", xgb_rmse)\n",
    "print(\"MAE:\", xgb_mae)\n",
    "print(\"\\nLightGBM Metrics:\")\n",
    "print(\"RMSE:\", lgbm_rmse)\n",
    "print(\"MAE:\", lgbm_mae)\n",
    "print(\"\\nSVM Metrics:\")\n",
    "print(\"RMSE:\", svm_rmse)\n",
    "print(\"MAE:\", svm_mae)\n",
    "\n"
   ]
  },
  {
   "cell_type": "code",
   "execution_count": null,
   "id": "82a3dc29",
   "metadata": {
    "papermill": {
     "duration": 0.008468,
     "end_time": "2024-04-12T14:35:35.480407",
     "exception": false,
     "start_time": "2024-04-12T14:35:35.471939",
     "status": "completed"
    },
    "tags": []
   },
   "outputs": [],
   "source": []
  },
  {
   "cell_type": "code",
   "execution_count": null,
   "id": "3cf28f53",
   "metadata": {
    "papermill": {
     "duration": 0.008841,
     "end_time": "2024-04-12T14:35:35.498849",
     "exception": false,
     "start_time": "2024-04-12T14:35:35.490008",
     "status": "completed"
    },
    "tags": []
   },
   "outputs": [],
   "source": []
  },
  {
   "cell_type": "code",
   "execution_count": 17,
   "id": "6e27a4d2",
   "metadata": {
    "execution": {
     "iopub.execute_input": "2024-04-12T14:35:35.518969Z",
     "iopub.status.busy": "2024-04-12T14:35:35.518227Z",
     "iopub.status.idle": "2024-04-12T14:35:35.525277Z",
     "shell.execute_reply": "2024-04-12T14:35:35.524142Z"
    },
    "papermill": {
     "duration": 0.020148,
     "end_time": "2024-04-12T14:35:35.527699",
     "exception": false,
     "start_time": "2024-04-12T14:35:35.507551",
     "status": "completed"
    },
    "tags": []
   },
   "outputs": [],
   "source": [
    "# # Feature Selection\n",
    "# model = RandomForestRegressor()\n",
    "# model.fit(data_pca, data_imputed['session_duration'])  # Replace 'target_column' with your target variable\n",
    "# feature_importances = model.feature_importances_\n",
    "# selector = SelectFromModel(model, prefit=True)\n",
    "# selected_features = selector.transform(data_imputeda)\n",
    "\n",
    "# # Split the data into training and testing sets\n",
    "# X_train, X_test, y_train, y_test = train_test_split(selected_features, data_imputed['session_duration'], test_size=0.2)\n",
    "\n",
    "# # Machine Learning Model - Random Forest\n",
    "# rf_model = RandomForestRegressor()\n",
    "# rf_model.fit(X_train, y_train)\n",
    "# rf_score = rf_model.score(X_test, y_test)\n",
    "\n",
    "# # Machine Learning Model - XGBoost\n",
    "# xgb_model = XGBRegressor()\n",
    "# xgb_model.fit(X_train, y_train)\n",
    "# xgb_score = xgb_model.score(X_test, y_test)\n",
    "\n",
    "# # print(\"Random Forest Score:\", rf_score)\n",
    "# # print(\"XGBoost Score:\", xgb_score)\n",
    "# from sklearn.metrics import mean_squared_error, mean_absolute_error\n",
    "# import numpy as np\n",
    "\n",
    "# # Predictions\n",
    "# rf_predictions = rf_model.predict(X_test)\n",
    "# xgb_predictions = xgb_model.predict(X_test)\n",
    "\n",
    "# # Calculate RMSE and MAE for Random Forest\n",
    "# rf_rmse = np.sqrt(mean_squared_error(y_test, rf_predictions))\n",
    "# rf_mae = mean_absolute_error(y_test, rf_predictions)\n",
    "\n",
    "# # Calculate RMSE and MAE for XGBoost\n",
    "# xgb_rmse = np.sqrt(mean_squared_error(y_test, xgb_predictions))\n",
    "# xgb_mae = mean_absolute_error(y_test, xgb_predictions)\n",
    "\n",
    "# # Print the evaluation metrics\n",
    "# print(\"Random Forest Metrics:\")\n",
    "# print(\"RMSE:\", rf_rmse)\n",
    "# print(\"MAE:\", rf_mae)\n",
    "# print(\"\\nXGBoost Metrics:\")\n",
    "# print(\"RMSE:\", xgb_rmse)\n",
    "# print(\"MAE:\", xgb_mae)\n",
    "\n"
   ]
  }
 ],
 "metadata": {
  "kaggle": {
   "accelerator": "none",
   "dataSources": [
    {
     "datasetId": 4696377,
     "sourceId": 7979644,
     "sourceType": "datasetVersion"
    },
    {
     "datasetId": 4779117,
     "sourceId": 8100492,
     "sourceType": "datasetVersion"
    }
   ],
   "dockerImageVersionId": 30673,
   "isGpuEnabled": false,
   "isInternetEnabled": true,
   "language": "python",
   "sourceType": "notebook"
  },
  "kernelspec": {
   "display_name": "Python 3",
   "language": "python",
   "name": "python3"
  },
  "language_info": {
   "codemirror_mode": {
    "name": "ipython",
    "version": 3
   },
   "file_extension": ".py",
   "mimetype": "text/x-python",
   "name": "python",
   "nbconvert_exporter": "python",
   "pygments_lexer": "ipython3",
   "version": "3.10.13"
  },
  "papermill": {
   "default_parameters": {},
   "duration": 14.178617,
   "end_time": "2024-04-12T14:35:36.661327",
   "environment_variables": {},
   "exception": null,
   "input_path": "__notebook__.ipynb",
   "output_path": "__notebook__.ipynb",
   "parameters": {},
   "start_time": "2024-04-12T14:35:22.482710",
   "version": "2.5.0"
  }
 },
 "nbformat": 4,
 "nbformat_minor": 5
}

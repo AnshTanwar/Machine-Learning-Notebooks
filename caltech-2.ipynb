{
 "cells": [
  {
   "cell_type": "code",
   "execution_count": 1,
   "id": "dc7df20a",
   "metadata": {
    "_cell_guid": "b1076dfc-b9ad-4769-8c92-a6c4dae69d19",
    "_uuid": "8f2839f25d086af736a60e9eeb907d3b93b6e0e5",
    "execution": {
     "iopub.execute_input": "2024-04-12T14:34:17.851783Z",
     "iopub.status.busy": "2024-04-12T14:34:17.851321Z",
     "iopub.status.idle": "2024-04-12T14:34:18.927992Z",
     "shell.execute_reply": "2024-04-12T14:34:18.926622Z"
    },
    "papermill": {
     "duration": 1.086278,
     "end_time": "2024-04-12T14:34:18.930699",
     "exception": false,
     "start_time": "2024-04-12T14:34:17.844421",
     "status": "completed"
    },
    "tags": []
   },
   "outputs": [
    {
     "name": "stdout",
     "output_type": "stream",
     "text": [
      "/kaggle/input/merged-caltech-weather-traffic/merged_data_wt2.csv\n",
      "/kaggle/input/merged-caltech-weather-traffic/merged_data_wt.csv\n",
      "/kaggle/input/caltech1/caltech1.csv\n"
     ]
    }
   ],
   "source": [
    "# This Python 3 environment comes with many helpful analytics libraries installed\n",
    "# It is defined by the kaggle/python Docker image: https://github.com/kaggle/docker-python\n",
    "# For example, here's several helpful packages to load\n",
    "\n",
    "import numpy as np # linear algebra\n",
    "import pandas as pd # data processing, CSV file I/O (e.g. pd.read_csv)\n",
    "\n",
    "# Input data files are available in the read-only \"../input/\" directory\n",
    "# For example, running this (by clicking run or pressing Shift+Enter) will list all files under the input directory\n",
    "\n",
    "import os\n",
    "for dirname, _, filenames in os.walk('/kaggle/input'):\n",
    "    for filename in filenames:\n",
    "        print(os.path.join(dirname, filename))\n",
    "\n",
    "# You can write up to 20GB to the current directory (/kaggle/working/) that gets preserved as output when you create a version using \"Save & Run All\" \n",
    "# You can also write temporary files to /kaggle/temp/, but they won't be saved outside of the current session"
   ]
  },
  {
   "cell_type": "code",
   "execution_count": 2,
   "id": "0bdd418c",
   "metadata": {
    "execution": {
     "iopub.execute_input": "2024-04-12T14:34:18.942871Z",
     "iopub.status.busy": "2024-04-12T14:34:18.941439Z",
     "iopub.status.idle": "2024-04-12T14:34:20.636732Z",
     "shell.execute_reply": "2024-04-12T14:34:20.635723Z"
    },
    "papermill": {
     "duration": 1.703816,
     "end_time": "2024-04-12T14:34:20.639311",
     "exception": false,
     "start_time": "2024-04-12T14:34:18.935495",
     "status": "completed"
    },
    "tags": []
   },
   "outputs": [],
   "source": [
    "import pandas as pd\n",
    "import numpy as np\n",
    "import seaborn as sns\n",
    "import matplotlib.pyplot as plt"
   ]
  },
  {
   "cell_type": "code",
   "execution_count": 3,
   "id": "93aa7565",
   "metadata": {
    "execution": {
     "iopub.execute_input": "2024-04-12T14:34:20.650106Z",
     "iopub.status.busy": "2024-04-12T14:34:20.649711Z",
     "iopub.status.idle": "2024-04-12T14:34:20.693808Z",
     "shell.execute_reply": "2024-04-12T14:34:20.692610Z"
    },
    "papermill": {
     "duration": 0.05237,
     "end_time": "2024-04-12T14:34:20.696271",
     "exception": false,
     "start_time": "2024-04-12T14:34:20.643901",
     "status": "completed"
    },
    "tags": []
   },
   "outputs": [],
   "source": [
    "df = pd.read_csv('/kaggle/input/merged-caltech-weather-traffic/merged_data_wt2.csv')\n"
   ]
  },
  {
   "cell_type": "code",
   "execution_count": 4,
   "id": "e3216c63",
   "metadata": {
    "execution": {
     "iopub.execute_input": "2024-04-12T14:34:20.707282Z",
     "iopub.status.busy": "2024-04-12T14:34:20.706895Z",
     "iopub.status.idle": "2024-04-12T14:34:20.715357Z",
     "shell.execute_reply": "2024-04-12T14:34:20.714130Z"
    },
    "papermill": {
     "duration": 0.016747,
     "end_time": "2024-04-12T14:34:20.717697",
     "exception": false,
     "start_time": "2024-04-12T14:34:20.700950",
     "status": "completed"
    },
    "tags": []
   },
   "outputs": [
    {
     "data": {
      "text/plain": [
       "Index(['Unnamed: 0', 'sessionID', 'stationID', 'spaceID', 'connectionTime',\n",
       "       'disconnectTime', 'kWhDelivered', 'doneChargingTime', 'timezone',\n",
       "       'userID', 'session_duration', 'Weekend', 'connectionDate', 'clouds',\n",
       "       'datetime', 'dewpt', 'max_uv', 'max_wind_spd', 'min_temp', 'precip',\n",
       "       'pres', 'revision_status', 'rh', 'slp', 'temp', 'wind_dir', 'wind_spd',\n",
       "       'Date', 'TrafficVolume', 'AverageSpeed'],\n",
       "      dtype='object')"
      ]
     },
     "execution_count": 4,
     "metadata": {},
     "output_type": "execute_result"
    }
   ],
   "source": [
    "df.columns"
   ]
  },
  {
   "cell_type": "code",
   "execution_count": 5,
   "id": "e84cb97f",
   "metadata": {
    "execution": {
     "iopub.execute_input": "2024-04-12T14:34:20.729044Z",
     "iopub.status.busy": "2024-04-12T14:34:20.728643Z",
     "iopub.status.idle": "2024-04-12T14:34:20.747341Z",
     "shell.execute_reply": "2024-04-12T14:34:20.745916Z"
    },
    "papermill": {
     "duration": 0.0275,
     "end_time": "2024-04-12T14:34:20.749975",
     "exception": false,
     "start_time": "2024-04-12T14:34:20.722475",
     "status": "completed"
    },
    "tags": []
   },
   "outputs": [],
   "source": [
    "df = df.drop(['Unnamed: 0','sessionID','connectionTime', 'disconnectTime','doneChargingTime','timezone','datetime','connectionDate', 'Date', 'revision_status','stationID'], axis=1)"
   ]
  },
  {
   "cell_type": "code",
   "execution_count": 6,
   "id": "f9e15c75",
   "metadata": {
    "execution": {
     "iopub.execute_input": "2024-04-12T14:34:20.761447Z",
     "iopub.status.busy": "2024-04-12T14:34:20.761033Z",
     "iopub.status.idle": "2024-04-12T14:34:20.767639Z",
     "shell.execute_reply": "2024-04-12T14:34:20.766475Z"
    },
    "papermill": {
     "duration": 0.015446,
     "end_time": "2024-04-12T14:34:20.770295",
     "exception": false,
     "start_time": "2024-04-12T14:34:20.754849",
     "status": "completed"
    },
    "tags": []
   },
   "outputs": [
    {
     "data": {
      "text/plain": [
       "(1945, 19)"
      ]
     },
     "execution_count": 6,
     "metadata": {},
     "output_type": "execute_result"
    }
   ],
   "source": [
    "df.shape"
   ]
  },
  {
   "cell_type": "code",
   "execution_count": 7,
   "id": "36bbcaab",
   "metadata": {
    "execution": {
     "iopub.execute_input": "2024-04-12T14:34:20.783263Z",
     "iopub.status.busy": "2024-04-12T14:34:20.782850Z",
     "iopub.status.idle": "2024-04-12T14:34:20.790275Z",
     "shell.execute_reply": "2024-04-12T14:34:20.788859Z"
    },
    "papermill": {
     "duration": 0.017332,
     "end_time": "2024-04-12T14:34:20.792777",
     "exception": false,
     "start_time": "2024-04-12T14:34:20.775445",
     "status": "completed"
    },
    "tags": []
   },
   "outputs": [
    {
     "data": {
      "text/plain": [
       "Index(['spaceID', 'kWhDelivered', 'userID', 'session_duration', 'Weekend',\n",
       "       'clouds', 'dewpt', 'max_uv', 'max_wind_spd', 'min_temp', 'precip',\n",
       "       'pres', 'rh', 'slp', 'temp', 'wind_dir', 'wind_spd', 'TrafficVolume',\n",
       "       'AverageSpeed'],\n",
       "      dtype='object')"
      ]
     },
     "execution_count": 7,
     "metadata": {},
     "output_type": "execute_result"
    }
   ],
   "source": [
    "df.columns"
   ]
  },
  {
   "cell_type": "code",
   "execution_count": 8,
   "id": "2e7a1b46",
   "metadata": {
    "execution": {
     "iopub.execute_input": "2024-04-12T14:34:20.805309Z",
     "iopub.status.busy": "2024-04-12T14:34:20.804915Z",
     "iopub.status.idle": "2024-04-12T14:34:20.837322Z",
     "shell.execute_reply": "2024-04-12T14:34:20.835748Z"
    },
    "papermill": {
     "duration": 0.041756,
     "end_time": "2024-04-12T14:34:20.840043",
     "exception": false,
     "start_time": "2024-04-12T14:34:20.798287",
     "status": "completed"
    },
    "tags": []
   },
   "outputs": [
    {
     "data": {
      "text/html": [
       "<div>\n",
       "<style scoped>\n",
       "    .dataframe tbody tr th:only-of-type {\n",
       "        vertical-align: middle;\n",
       "    }\n",
       "\n",
       "    .dataframe tbody tr th {\n",
       "        vertical-align: top;\n",
       "    }\n",
       "\n",
       "    .dataframe thead th {\n",
       "        text-align: right;\n",
       "    }\n",
       "</style>\n",
       "<table border=\"1\" class=\"dataframe\">\n",
       "  <thead>\n",
       "    <tr style=\"text-align: right;\">\n",
       "      <th></th>\n",
       "      <th>spaceID</th>\n",
       "      <th>kWhDelivered</th>\n",
       "      <th>userID</th>\n",
       "      <th>session_duration</th>\n",
       "      <th>Weekend</th>\n",
       "      <th>clouds</th>\n",
       "      <th>dewpt</th>\n",
       "      <th>max_uv</th>\n",
       "      <th>max_wind_spd</th>\n",
       "      <th>min_temp</th>\n",
       "      <th>precip</th>\n",
       "      <th>pres</th>\n",
       "      <th>rh</th>\n",
       "      <th>slp</th>\n",
       "      <th>temp</th>\n",
       "      <th>wind_dir</th>\n",
       "      <th>wind_spd</th>\n",
       "      <th>TrafficVolume</th>\n",
       "      <th>AverageSpeed</th>\n",
       "    </tr>\n",
       "  </thead>\n",
       "  <tbody>\n",
       "    <tr>\n",
       "      <th>0</th>\n",
       "      <td>CA-305</td>\n",
       "      <td>39.894</td>\n",
       "      <td>claimed</td>\n",
       "      <td>1049.750000</td>\n",
       "      <td>0</td>\n",
       "      <td>51</td>\n",
       "      <td>1.6</td>\n",
       "      <td>2.9</td>\n",
       "      <td>3.4</td>\n",
       "      <td>1.5</td>\n",
       "      <td>0.8</td>\n",
       "      <td>987</td>\n",
       "      <td>80.0</td>\n",
       "      <td>1011</td>\n",
       "      <td>5.0</td>\n",
       "      <td>172</td>\n",
       "      <td>1.4</td>\n",
       "      <td>175.16875</td>\n",
       "      <td>34.242583</td>\n",
       "    </tr>\n",
       "    <tr>\n",
       "      <th>1</th>\n",
       "      <td>CA-314</td>\n",
       "      <td>10.627</td>\n",
       "      <td>claimed</td>\n",
       "      <td>198.066667</td>\n",
       "      <td>0</td>\n",
       "      <td>51</td>\n",
       "      <td>1.6</td>\n",
       "      <td>2.9</td>\n",
       "      <td>3.4</td>\n",
       "      <td>1.5</td>\n",
       "      <td>0.8</td>\n",
       "      <td>987</td>\n",
       "      <td>80.0</td>\n",
       "      <td>1011</td>\n",
       "      <td>5.0</td>\n",
       "      <td>172</td>\n",
       "      <td>1.4</td>\n",
       "      <td>175.16875</td>\n",
       "      <td>34.242583</td>\n",
       "    </tr>\n",
       "    <tr>\n",
       "      <th>2</th>\n",
       "      <td>CA-303</td>\n",
       "      <td>30.479</td>\n",
       "      <td>claimed</td>\n",
       "      <td>288.916667</td>\n",
       "      <td>1</td>\n",
       "      <td>92</td>\n",
       "      <td>1.6</td>\n",
       "      <td>1.5</td>\n",
       "      <td>2.4</td>\n",
       "      <td>2.4</td>\n",
       "      <td>1.5</td>\n",
       "      <td>997</td>\n",
       "      <td>73.5</td>\n",
       "      <td>1021</td>\n",
       "      <td>6.3</td>\n",
       "      <td>53</td>\n",
       "      <td>1.6</td>\n",
       "      <td>175.16875</td>\n",
       "      <td>34.242583</td>\n",
       "    </tr>\n",
       "    <tr>\n",
       "      <th>3</th>\n",
       "      <td>CA-315</td>\n",
       "      <td>1.650</td>\n",
       "      <td>claimed</td>\n",
       "      <td>92.283333</td>\n",
       "      <td>1</td>\n",
       "      <td>92</td>\n",
       "      <td>1.6</td>\n",
       "      <td>1.5</td>\n",
       "      <td>2.4</td>\n",
       "      <td>2.4</td>\n",
       "      <td>1.5</td>\n",
       "      <td>997</td>\n",
       "      <td>73.5</td>\n",
       "      <td>1021</td>\n",
       "      <td>6.3</td>\n",
       "      <td>53</td>\n",
       "      <td>1.6</td>\n",
       "      <td>175.16875</td>\n",
       "      <td>34.242583</td>\n",
       "    </tr>\n",
       "    <tr>\n",
       "      <th>4</th>\n",
       "      <td>CA-313</td>\n",
       "      <td>7.049</td>\n",
       "      <td>claimed</td>\n",
       "      <td>127.866667</td>\n",
       "      <td>1</td>\n",
       "      <td>92</td>\n",
       "      <td>1.6</td>\n",
       "      <td>1.5</td>\n",
       "      <td>2.4</td>\n",
       "      <td>2.4</td>\n",
       "      <td>1.5</td>\n",
       "      <td>997</td>\n",
       "      <td>73.5</td>\n",
       "      <td>1021</td>\n",
       "      <td>6.3</td>\n",
       "      <td>53</td>\n",
       "      <td>1.6</td>\n",
       "      <td>175.16875</td>\n",
       "      <td>34.242583</td>\n",
       "    </tr>\n",
       "  </tbody>\n",
       "</table>\n",
       "</div>"
      ],
      "text/plain": [
       "  spaceID  kWhDelivered   userID  session_duration  Weekend  clouds  dewpt  \\\n",
       "0  CA-305        39.894  claimed       1049.750000        0      51    1.6   \n",
       "1  CA-314        10.627  claimed        198.066667        0      51    1.6   \n",
       "2  CA-303        30.479  claimed        288.916667        1      92    1.6   \n",
       "3  CA-315         1.650  claimed         92.283333        1      92    1.6   \n",
       "4  CA-313         7.049  claimed        127.866667        1      92    1.6   \n",
       "\n",
       "   max_uv  max_wind_spd  min_temp  precip  pres    rh   slp  temp  wind_dir  \\\n",
       "0     2.9           3.4       1.5     0.8   987  80.0  1011   5.0       172   \n",
       "1     2.9           3.4       1.5     0.8   987  80.0  1011   5.0       172   \n",
       "2     1.5           2.4       2.4     1.5   997  73.5  1021   6.3        53   \n",
       "3     1.5           2.4       2.4     1.5   997  73.5  1021   6.3        53   \n",
       "4     1.5           2.4       2.4     1.5   997  73.5  1021   6.3        53   \n",
       "\n",
       "   wind_spd  TrafficVolume  AverageSpeed  \n",
       "0       1.4      175.16875     34.242583  \n",
       "1       1.4      175.16875     34.242583  \n",
       "2       1.6      175.16875     34.242583  \n",
       "3       1.6      175.16875     34.242583  \n",
       "4       1.6      175.16875     34.242583  "
      ]
     },
     "execution_count": 8,
     "metadata": {},
     "output_type": "execute_result"
    }
   ],
   "source": [
    "df.head()"
   ]
  },
  {
   "cell_type": "code",
   "execution_count": 9,
   "id": "8cd659a2",
   "metadata": {
    "execution": {
     "iopub.execute_input": "2024-04-12T14:34:20.854471Z",
     "iopub.status.busy": "2024-04-12T14:34:20.854063Z",
     "iopub.status.idle": "2024-04-12T14:34:20.862859Z",
     "shell.execute_reply": "2024-04-12T14:34:20.860829Z"
    },
    "papermill": {
     "duration": 0.019866,
     "end_time": "2024-04-12T14:34:20.865879",
     "exception": false,
     "start_time": "2024-04-12T14:34:20.846013",
     "status": "completed"
    },
    "tags": []
   },
   "outputs": [
    {
     "data": {
      "text/plain": [
       "Index(['spaceID', 'kWhDelivered', 'userID', 'session_duration', 'Weekend',\n",
       "       'clouds', 'dewpt', 'max_uv', 'max_wind_spd', 'min_temp', 'precip',\n",
       "       'pres', 'rh', 'slp', 'temp', 'wind_dir', 'wind_spd', 'TrafficVolume',\n",
       "       'AverageSpeed'],\n",
       "      dtype='object')"
      ]
     },
     "execution_count": 9,
     "metadata": {},
     "output_type": "execute_result"
    }
   ],
   "source": [
    "df.columns"
   ]
  },
  {
   "cell_type": "code",
   "execution_count": 10,
   "id": "5abb96ad",
   "metadata": {
    "execution": {
     "iopub.execute_input": "2024-04-12T14:34:20.879667Z",
     "iopub.status.busy": "2024-04-12T14:34:20.879230Z",
     "iopub.status.idle": "2024-04-12T14:34:20.884700Z",
     "shell.execute_reply": "2024-04-12T14:34:20.883655Z"
    },
    "papermill": {
     "duration": 0.016038,
     "end_time": "2024-04-12T14:34:20.887486",
     "exception": false,
     "start_time": "2024-04-12T14:34:20.871448",
     "status": "completed"
    },
    "tags": []
   },
   "outputs": [],
   "source": [
    "data = df"
   ]
  },
  {
   "cell_type": "code",
   "execution_count": 11,
   "id": "0a9eda28",
   "metadata": {
    "execution": {
     "iopub.execute_input": "2024-04-12T14:34:20.901425Z",
     "iopub.status.busy": "2024-04-12T14:34:20.901066Z",
     "iopub.status.idle": "2024-04-12T14:34:20.920848Z",
     "shell.execute_reply": "2024-04-12T14:34:20.919196Z"
    },
    "papermill": {
     "duration": 0.029649,
     "end_time": "2024-04-12T14:34:20.923468",
     "exception": false,
     "start_time": "2024-04-12T14:34:20.893819",
     "status": "completed"
    },
    "tags": []
   },
   "outputs": [
    {
     "name": "stdout",
     "output_type": "stream",
     "text": [
      "Unique values in spaceID: ['CA-305' 'CA-314' 'CA-303' 'CA-315' 'CA-313' 'CA-307' 'CA-317' 'CA-309'\n",
      " 'CA-325' 'CA-491' 'CA-323' 'CA-506' 'CA-319' 'CA-327' 'CA-326' 'CA-322'\n",
      " 'CA-498' 'CA-490' 'CA-493' 'CA-496' 'CA-499' 'CA-320' 'CA-497' 'CA-316'\n",
      " 'CA-312' 'CA-502' 'CA-495' 'CA-489' 'CA-304' 'CA-494' 'CA-306' 'CA-511'\n",
      " 'CA-308' 'CA-321' 'CA-492' 'CA-318' 'CA-324' 'CA-500' 'CA-310' 'CA-311'\n",
      " 'CA-507' 'CA-503' 'CA-504' 'CA-508' 'CA-501' 'CA-509' 'CA-212' 'CA-510'\n",
      " 'CA-213' 'CA-512']\n",
      "Unique values in userID: ['claimed' 'unclaimed']\n",
      "Categorical Columns: ['userID', 'Weekend']\n",
      "Non-Categorical Columns: ['spaceID', 'kWhDelivered', 'session_duration', 'clouds', 'dewpt', 'max_uv', 'max_wind_spd', 'min_temp', 'precip', 'pres', 'rh', 'slp', 'temp', 'wind_dir', 'wind_spd', 'TrafficVolume', 'AverageSpeed']\n"
     ]
    }
   ],
   "source": [
    "# Identify categorical columns based on data types\n",
    "data_types = data.dtypes\n",
    "categorical_columns = data_types[data_types == 'object'].index.tolist()\n",
    "\n",
    "# Check unique values in categorical columns to confirm if they are indeed categorical\n",
    "for column in categorical_columns:\n",
    "    unique_values = data[column].unique()\n",
    "    print(f\"Unique values in {column}: {unique_values}\")\n",
    "\n",
    "# You can also set a threshold to determine if a column is categorical based on the number of unique values\n",
    "threshold_unique_values = 10  # Adjust threshold as needed\n",
    "categorical_columns = [column for column in data.columns if len(data[column].unique()) <= threshold_unique_values]\n",
    "\n",
    "# Print the identified categorical columns\n",
    "print(\"Categorical Columns:\", categorical_columns)\n",
    "\n",
    "# Non-categorical columns\n",
    "non_categorical_columns = [column for column in data.columns if column not in categorical_columns]\n",
    "print(\"Non-Categorical Columns:\", non_categorical_columns)"
   ]
  },
  {
   "cell_type": "code",
   "execution_count": 12,
   "id": "18c04859",
   "metadata": {
    "execution": {
     "iopub.execute_input": "2024-04-12T14:34:20.938083Z",
     "iopub.status.busy": "2024-04-12T14:34:20.937686Z",
     "iopub.status.idle": "2024-04-12T14:34:20.953813Z",
     "shell.execute_reply": "2024-04-12T14:34:20.952378Z"
    },
    "papermill": {
     "duration": 0.027125,
     "end_time": "2024-04-12T14:34:20.956350",
     "exception": false,
     "start_time": "2024-04-12T14:34:20.929225",
     "status": "completed"
    },
    "tags": []
   },
   "outputs": [],
   "source": [
    "import pandas as pd\n",
    "\n",
    "# Assuming 'data' is your DataFrame\n",
    "# List of categorical columns\n",
    "categorical_columns = ['spaceID', 'userID']\n",
    "\n",
    "# Apply one-hot encoding for each categorical column\n",
    "for column in categorical_columns:\n",
    "    # Convert the column to one-hot encoded representation\n",
    "    one_hot_encoded = pd.get_dummies(data[column], prefix=column)\n",
    "    # Concatenate the one-hot encoded columns to the original dataframe\n",
    "    data = pd.concat([data, one_hot_encoded], axis=1)\n",
    "    # Drop the original categorical column from the dataframe\n",
    "    data.drop(column, axis=1, inplace=True)\n"
   ]
  },
  {
   "cell_type": "code",
   "execution_count": 13,
   "id": "da9b95e4",
   "metadata": {
    "execution": {
     "iopub.execute_input": "2024-04-12T14:34:20.969932Z",
     "iopub.status.busy": "2024-04-12T14:34:20.969529Z",
     "iopub.status.idle": "2024-04-12T14:34:22.096724Z",
     "shell.execute_reply": "2024-04-12T14:34:22.095445Z"
    },
    "papermill": {
     "duration": 1.138533,
     "end_time": "2024-04-12T14:34:22.100781",
     "exception": false,
     "start_time": "2024-04-12T14:34:20.962248",
     "status": "completed"
    },
    "tags": []
   },
   "outputs": [],
   "source": [
    "import pandas as pd\n",
    "from sklearn.model_selection import train_test_split\n",
    "from sklearn.preprocessing import StandardScaler\n",
    "from sklearn.impute import SimpleImputer\n",
    "from sklearn.ensemble import IsolationForest\n",
    "from sklearn.decomposition import PCA\n",
    "from sklearn.feature_selection import SelectFromModel\n",
    "from sklearn.ensemble import RandomForestRegressor\n",
    "from xgboost import XGBRegressor\n",
    "   \n",
    "imputer = SimpleImputer(strategy='mean')\n",
    "data_imputed = imputer.fit_transform(data)\n",
    "data_imputed = pd.DataFrame(data_imputed, columns=data.columns)\n",
    "\n",
    "data_imputed = data_imputed.drop(['session_duration'], axis=1)\n",
    "\n",
    "scaler = StandardScaler()\n",
    "data_scaled = scaler.fit_transform(data_imputed)\n",
    "\n",
    "\n",
    "pca = PCA(n_components=15)  \n",
    "data_pca = pca.fit_transform(data_scaled)\n",
    "\n"
   ]
  },
  {
   "cell_type": "code",
   "execution_count": 14,
   "id": "a6a6181e",
   "metadata": {
    "execution": {
     "iopub.execute_input": "2024-04-12T14:34:22.145599Z",
     "iopub.status.busy": "2024-04-12T14:34:22.144881Z",
     "iopub.status.idle": "2024-04-12T14:34:22.289829Z",
     "shell.execute_reply": "2024-04-12T14:34:22.287968Z"
    },
    "papermill": {
     "duration": 0.175846,
     "end_time": "2024-04-12T14:34:22.293351",
     "exception": false,
     "start_time": "2024-04-12T14:34:22.117505",
     "status": "completed"
    },
    "tags": []
   },
   "outputs": [],
   "source": [
    "import pandas as pd\n",
    "from sklearn.model_selection import train_test_split\n",
    "from sklearn.preprocessing import StandardScaler\n",
    "from sklearn.impute import SimpleImputer\n",
    "from sklearn.ensemble import RandomForestRegressor\n",
    "from sklearn.decomposition import PCA\n",
    "\n",
    "# Assuming 'data' contains your dataset\n",
    "\n",
    "# Impute missing values\n",
    "imputer = SimpleImputer(strategy='mean')\n",
    "data_imputed = pd.DataFrame(imputer.fit_transform(data), columns=data.columns)\n",
    "\n",
    "# Drop target variable before PCA\n",
    "X = data_imputed.drop(['session_duration'], axis=1)\n",
    "\n",
    "# Scale data\n",
    "scaler = StandardScaler()\n",
    "X_scaled = scaler.fit_transform(X)\n",
    "\n",
    "# Perform PCA\n",
    "pca = PCA(n_components=15)\n",
    "X_pca = pca.fit_transform(X_scaled)\n",
    "\n",
    "# Define target variable\n",
    "y = data_imputed['session_duration']\n",
    "\n",
    "# Split data into training and testing sets\n",
    "X_train, X_test, y_train, y_test = train_test_split(X_pca, y, test_size=0.2)"
   ]
  },
  {
   "cell_type": "code",
   "execution_count": 15,
   "id": "3b73b6b0",
   "metadata": {
    "execution": {
     "iopub.execute_input": "2024-04-12T14:34:22.330919Z",
     "iopub.status.busy": "2024-04-12T14:34:22.330235Z",
     "iopub.status.idle": "2024-04-12T14:34:22.335616Z",
     "shell.execute_reply": "2024-04-12T14:34:22.334490Z"
    },
    "papermill": {
     "duration": 0.032014,
     "end_time": "2024-04-12T14:34:22.338318",
     "exception": false,
     "start_time": "2024-04-12T14:34:22.306304",
     "status": "completed"
    },
    "tags": []
   },
   "outputs": [],
   "source": [
    "# #X = data.drop(columns=['session_duration'])\n",
    "# X = data_pca\n",
    "# y = data['session_duration']"
   ]
  },
  {
   "cell_type": "code",
   "execution_count": 16,
   "id": "55b063f8",
   "metadata": {
    "execution": {
     "iopub.execute_input": "2024-04-12T14:34:22.380374Z",
     "iopub.status.busy": "2024-04-12T14:34:22.379883Z",
     "iopub.status.idle": "2024-04-12T14:34:27.430687Z",
     "shell.execute_reply": "2024-04-12T14:34:27.427568Z"
    },
    "papermill": {
     "duration": 5.078887,
     "end_time": "2024-04-12T14:34:27.433643",
     "exception": false,
     "start_time": "2024-04-12T14:34:22.354756",
     "status": "completed"
    },
    "tags": []
   },
   "outputs": [
    {
     "name": "stdout",
     "output_type": "stream",
     "text": [
      "[LightGBM] [Info] Auto-choosing col-wise multi-threading, the overhead of testing was 0.002280 seconds.\n",
      "You can set `force_col_wise=true` to remove the overhead.\n",
      "[LightGBM] [Info] Total Bins 3825\n",
      "[LightGBM] [Info] Number of data points in the train set: 1556, number of used features: 15\n",
      "[LightGBM] [Info] Start training from score 339.313604\n",
      "Random Forest Metrics:\n",
      "RMSE: 192.23047248407653\n",
      "MAE: 151.453205655527\n",
      "\n",
      "XGBoost Metrics:\n",
      "RMSE: 229.1723128821439\n",
      "MAE: 164.08729269598527\n",
      "\n",
      "LightGBM Metrics:\n",
      "RMSE: 202.1451583756145\n",
      "MAE: 150.91465263241037\n",
      "\n",
      "SVM Metrics:\n",
      "RMSE: 216.12070786208037\n",
      "MAE: 174.83886908342322\n"
     ]
    }
   ],
   "source": [
    "from sklearn.model_selection import train_test_split\n",
    "from sklearn.ensemble import RandomForestRegressor\n",
    "from xgboost import XGBRegressor\n",
    "from lightgbm import LGBMRegressor\n",
    "from sklearn.svm import SVR\n",
    "from catboost import CatBoostRegressor\n",
    "from sklearn.metrics import mean_squared_error, mean_absolute_error\n",
    "import numpy as np\n",
    "\n",
    "# Split the data into training and testing sets\n",
    "#X_train, X_test, y_train, y_test = train_test_split(X, y, test_size=0.5)\n",
    "\n",
    "# Machine Learning Model - Random Forest\n",
    "rf_model = RandomForestRegressor()\n",
    "rf_model.fit(X_train, y_train)\n",
    "rf_score = rf_model.score(X_test, y_test)\n",
    "\n",
    "# Machine Learning Model - XGBoost\n",
    "xgb_model = XGBRegressor()\n",
    "xgb_model.fit(X_train, y_train)\n",
    "xgb_score = xgb_model.score(X_test, y_test)\n",
    "\n",
    "# Machine Learning Model - LightGBM\n",
    "lgbm_model = LGBMRegressor()\n",
    "lgbm_model.fit(X_train, y_train)\n",
    "lgbm_score = lgbm_model.score(X_test, y_test)\n",
    "\n",
    "# Machine Learning Model - SVM\n",
    "svm_model = SVR()\n",
    "svm_model.fit(X_train, y_train)\n",
    "svm_score = svm_model.score(X_test, y_test)\n",
    "\n",
    "\n",
    "# Predictions\n",
    "rf_predictions = rf_model.predict(X_test)\n",
    "xgb_predictions = xgb_model.predict(X_test)\n",
    "lgbm_predictions = lgbm_model.predict(X_test)\n",
    "svm_predictions = svm_model.predict(X_test)\n",
    "\n",
    "\n",
    "# Calculate RMSE and MAE for Random Forest\n",
    "rf_rmse = np.sqrt(mean_squared_error(y_test, rf_predictions))\n",
    "rf_mae = mean_absolute_error(y_test, rf_predictions)\n",
    "\n",
    "# Calculate RMSE and MAE for XGBoost\n",
    "xgb_rmse = np.sqrt(mean_squared_error(y_test, xgb_predictions))\n",
    "xgb_mae = mean_absolute_error(y_test, xgb_predictions)\n",
    "\n",
    "# Calculate RMSE and MAE for LightGBM\n",
    "lgbm_rmse = np.sqrt(mean_squared_error(y_test, lgbm_predictions))\n",
    "lgbm_mae = mean_absolute_error(y_test, lgbm_predictions)\n",
    "\n",
    "# Calculate RMSE and MAE for SVM\n",
    "svm_rmse = np.sqrt(mean_squared_error(y_test, svm_predictions))\n",
    "svm_mae = mean_absolute_error(y_test, svm_predictions)\n",
    "\n",
    "\n",
    "\n",
    "# Print the evaluation metrics\n",
    "print(\"Random Forest Metrics:\")\n",
    "print(\"RMSE:\", rf_rmse)\n",
    "print(\"MAE:\", rf_mae)\n",
    "print(\"\\nXGBoost Metrics:\")\n",
    "print(\"RMSE:\", xgb_rmse)\n",
    "print(\"MAE:\", xgb_mae)\n",
    "print(\"\\nLightGBM Metrics:\")\n",
    "print(\"RMSE:\", lgbm_rmse)\n",
    "print(\"MAE:\", lgbm_mae)\n",
    "print(\"\\nSVM Metrics:\")\n",
    "print(\"RMSE:\", svm_rmse)\n",
    "print(\"MAE:\", svm_mae)\n",
    "\n"
   ]
  },
  {
   "cell_type": "code",
   "execution_count": null,
   "id": "9f839ee3",
   "metadata": {
    "papermill": {
     "duration": 0.00601,
     "end_time": "2024-04-12T14:34:27.446584",
     "exception": false,
     "start_time": "2024-04-12T14:34:27.440574",
     "status": "completed"
    },
    "tags": []
   },
   "outputs": [],
   "source": []
  },
  {
   "cell_type": "code",
   "execution_count": null,
   "id": "86b9d211",
   "metadata": {
    "papermill": {
     "duration": 0.005922,
     "end_time": "2024-04-12T14:34:27.458643",
     "exception": false,
     "start_time": "2024-04-12T14:34:27.452721",
     "status": "completed"
    },
    "tags": []
   },
   "outputs": [],
   "source": []
  },
  {
   "cell_type": "code",
   "execution_count": 17,
   "id": "ce9ddce5",
   "metadata": {
    "execution": {
     "iopub.execute_input": "2024-04-12T14:34:27.473426Z",
     "iopub.status.busy": "2024-04-12T14:34:27.472595Z",
     "iopub.status.idle": "2024-04-12T14:34:27.478809Z",
     "shell.execute_reply": "2024-04-12T14:34:27.477643Z"
    },
    "papermill": {
     "duration": 0.016143,
     "end_time": "2024-04-12T14:34:27.481084",
     "exception": false,
     "start_time": "2024-04-12T14:34:27.464941",
     "status": "completed"
    },
    "tags": []
   },
   "outputs": [],
   "source": [
    "# # Feature Selection\n",
    "# model = RandomForestRegressor()\n",
    "# model.fit(data_pca, data_imputed['session_duration'])  # Replace 'target_column' with your target variable\n",
    "# feature_importances = model.feature_importances_\n",
    "# selector = SelectFromModel(model, prefit=True)\n",
    "# selected_features = selector.transform(data_imputeda)\n",
    "\n",
    "# # Split the data into training and testing sets\n",
    "# X_train, X_test, y_train, y_test = train_test_split(selected_features, data_imputed['session_duration'], test_size=0.2)\n",
    "\n",
    "# # Machine Learning Model - Random Forest\n",
    "# rf_model = RandomForestRegressor()\n",
    "# rf_model.fit(X_train, y_train)\n",
    "# rf_score = rf_model.score(X_test, y_test)\n",
    "\n",
    "# # Machine Learning Model - XGBoost\n",
    "# xgb_model = XGBRegressor()\n",
    "# xgb_model.fit(X_train, y_train)\n",
    "# xgb_score = xgb_model.score(X_test, y_test)\n",
    "\n",
    "# # print(\"Random Forest Score:\", rf_score)\n",
    "# # print(\"XGBoost Score:\", xgb_score)\n",
    "# from sklearn.metrics import mean_squared_error, mean_absolute_error\n",
    "# import numpy as np\n",
    "\n",
    "# # Predictions\n",
    "# rf_predictions = rf_model.predict(X_test)\n",
    "# xgb_predictions = xgb_model.predict(X_test)\n",
    "\n",
    "# # Calculate RMSE and MAE for Random Forest\n",
    "# rf_rmse = np.sqrt(mean_squared_error(y_test, rf_predictions))\n",
    "# rf_mae = mean_absolute_error(y_test, rf_predictions)\n",
    "\n",
    "# # Calculate RMSE and MAE for XGBoost\n",
    "# xgb_rmse = np.sqrt(mean_squared_error(y_test, xgb_predictions))\n",
    "# xgb_mae = mean_absolute_error(y_test, xgb_predictions)\n",
    "\n",
    "# # Print the evaluation metrics\n",
    "# print(\"Random Forest Metrics:\")\n",
    "# print(\"RMSE:\", rf_rmse)\n",
    "# print(\"MAE:\", rf_mae)\n",
    "# print(\"\\nXGBoost Metrics:\")\n",
    "# print(\"RMSE:\", xgb_rmse)\n",
    "# print(\"MAE:\", xgb_mae)\n",
    "\n"
   ]
  }
 ],
 "metadata": {
  "kaggle": {
   "accelerator": "none",
   "dataSources": [
    {
     "datasetId": 4696377,
     "sourceId": 7979644,
     "sourceType": "datasetVersion"
    },
    {
     "datasetId": 4779117,
     "sourceId": 8100492,
     "sourceType": "datasetVersion"
    }
   ],
   "dockerImageVersionId": 30673,
   "isGpuEnabled": false,
   "isInternetEnabled": true,
   "language": "python",
   "sourceType": "notebook"
  },
  "kernelspec": {
   "display_name": "Python 3",
   "language": "python",
   "name": "python3"
  },
  "language_info": {
   "codemirror_mode": {
    "name": "ipython",
    "version": 3
   },
   "file_extension": ".py",
   "mimetype": "text/x-python",
   "name": "python",
   "nbconvert_exporter": "python",
   "pygments_lexer": "ipython3",
   "version": "3.10.13"
  },
  "papermill": {
   "default_parameters": {},
   "duration": 13.723276,
   "end_time": "2024-04-12T14:34:28.514943",
   "environment_variables": {},
   "exception": null,
   "input_path": "__notebook__.ipynb",
   "output_path": "__notebook__.ipynb",
   "parameters": {},
   "start_time": "2024-04-12T14:34:14.791667",
   "version": "2.5.0"
  }
 },
 "nbformat": 4,
 "nbformat_minor": 5
}

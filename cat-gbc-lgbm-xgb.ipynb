{
 "cells": [
  {
   "cell_type": "code",
   "execution_count": 1,
   "id": "37aa133e",
   "metadata": {
    "execution": {
     "iopub.execute_input": "2023-07-04T07:23:09.911852Z",
     "iopub.status.busy": "2023-07-04T07:23:09.911018Z",
     "iopub.status.idle": "2023-07-04T07:23:22.039054Z",
     "shell.execute_reply": "2023-07-04T07:23:22.037779Z"
    },
    "papermill": {
     "duration": 12.137217,
     "end_time": "2023-07-04T07:23:22.042140",
     "exception": false,
     "start_time": "2023-07-04T07:23:09.904923",
     "status": "completed"
    },
    "tags": []
   },
   "outputs": [
    {
     "name": "stdout",
     "output_type": "stream",
     "text": [
      "Collecting iterative-stratification\r\n",
      "  Downloading iterative_stratification-0.1.7-py3-none-any.whl (8.5 kB)\r\n",
      "Requirement already satisfied: numpy in /opt/conda/lib/python3.10/site-packages (from iterative-stratification) (1.23.5)\r\n",
      "Requirement already satisfied: scipy in /opt/conda/lib/python3.10/site-packages (from iterative-stratification) (1.10.1)\r\n",
      "Requirement already satisfied: scikit-learn in /opt/conda/lib/python3.10/site-packages (from iterative-stratification) (1.2.2)\r\n",
      "Requirement already satisfied: joblib>=1.1.1 in /opt/conda/lib/python3.10/site-packages (from scikit-learn->iterative-stratification) (1.2.0)\r\n",
      "Requirement already satisfied: threadpoolctl>=2.0.0 in /opt/conda/lib/python3.10/site-packages (from scikit-learn->iterative-stratification) (3.1.0)\r\n",
      "Installing collected packages: iterative-stratification\r\n",
      "Successfully installed iterative-stratification-0.1.7\r\n",
      "\u001b[33mWARNING: Running pip as the 'root' user can result in broken permissions and conflicting behaviour with the system package manager. It is recommended to use a virtual environment instead: https://pip.pypa.io/warnings/venv\u001b[0m\u001b[33m\r\n",
      "\u001b[0m"
     ]
    }
   ],
   "source": [
    "!pip install iterative-stratification"
   ]
  },
  {
   "cell_type": "code",
   "execution_count": 2,
   "id": "e4fd7805",
   "metadata": {
    "execution": {
     "iopub.execute_input": "2023-07-04T07:23:22.053063Z",
     "iopub.status.busy": "2023-07-04T07:23:22.052342Z",
     "iopub.status.idle": "2023-07-04T07:23:26.006420Z",
     "shell.execute_reply": "2023-07-04T07:23:26.005249Z"
    },
    "papermill": {
     "duration": 3.962475,
     "end_time": "2023-07-04T07:23:26.009183",
     "exception": false,
     "start_time": "2023-07-04T07:23:22.046708",
     "status": "completed"
    },
    "tags": []
   },
   "outputs": [],
   "source": [
    "import optuna\n",
    "from optuna.samplers import TPESampler\n",
    "\n",
    "from sklearn.preprocessing import StandardScaler\n",
    "from sklearn.metrics import roc_auc_score, roc_curve, confusion_matrix, classification_report\n",
    "from sklearn.model_selection import StratifiedKFold,train_test_split\n",
    "from sklearn.pipeline import Pipeline\n",
    "\n",
    "# Models\n",
    "from xgboost import XGBClassifier\n",
    "from sklearn.multioutput import MultiOutputClassifier\n",
    "from iterstrat.ml_stratifiers import MultilabelStratifiedKFold, RepeatedMultilabelStratifiedKFold\n",
    "from lightgbm import LGBMClassifier\n",
    "from catboost import CatBoostClassifier\n",
    "from sklearn.ensemble import RandomForestClassifier, HistGradientBoostingClassifier, GradientBoostingClassifier"
   ]
  },
  {
   "cell_type": "code",
   "execution_count": 3,
   "id": "19ce9582",
   "metadata": {
    "execution": {
     "iopub.execute_input": "2023-07-04T07:23:26.019585Z",
     "iopub.status.busy": "2023-07-04T07:23:26.018944Z",
     "iopub.status.idle": "2023-07-04T07:23:26.518584Z",
     "shell.execute_reply": "2023-07-04T07:23:26.517564Z"
    },
    "papermill": {
     "duration": 0.5076,
     "end_time": "2023-07-04T07:23:26.521170",
     "exception": false,
     "start_time": "2023-07-04T07:23:26.013570",
     "status": "completed"
    },
    "tags": []
   },
   "outputs": [],
   "source": [
    "import warnings\n",
    "warnings.filterwarnings(\"ignore\")\n",
    "import os\n",
    "import pandas as pd\n",
    "import numpy as np\n",
    "file_names = []\n",
    "directory = '/kaggle/input'  \n",
    "\n",
    "for dirpath, dirnames, filenames in os.walk(directory):\n",
    "    for filename in filenames:\n",
    "        file_path = os.path.join(dirpath, filename)\n",
    "        file_name = os.path.splitext(os.path.basename(file_path))[0]\n",
    "        globals()[file_name] = pd.read_csv(file_path)\n",
    "        #print(file_name)\n",
    "         \n",
    "train.drop(columns=[\"id\"],inplace=True)\n",
    "test.drop(columns=[\"id\"],inplace=True)\n",
    "mixed_desc.drop(columns=[\"CIDs\"],inplace=True)\n",
    "col=\"EC1_EC2_EC3_EC4_EC5_EC6\"\n",
    "\n",
    "mixed_desc[col.split(\"_\")]= mixed_desc[col].str.split('_', expand=True).astype(int)\n",
    "mixed_desc.drop(col, axis=1, inplace=True)\n",
    "\n",
    "original = mixed_desc[train.columns]\n",
    "\n",
    "train = pd.concat([train,original]).reset_index(drop=True)\n",
    "train.drop(columns=col.split(\"_\")[2:],inplace=True)\n",
    "\n",
    "\n"
   ]
  },
  {
   "cell_type": "code",
   "execution_count": 4,
   "id": "0fcca5e9",
   "metadata": {
    "execution": {
     "iopub.execute_input": "2023-07-04T07:23:26.533037Z",
     "iopub.status.busy": "2023-07-04T07:23:26.532674Z",
     "iopub.status.idle": "2023-07-04T07:23:26.569101Z",
     "shell.execute_reply": "2023-07-04T07:23:26.568038Z"
    },
    "papermill": {
     "duration": 0.045289,
     "end_time": "2023-07-04T07:23:26.571584",
     "exception": false,
     "start_time": "2023-07-04T07:23:26.526295",
     "status": "completed"
    },
    "tags": []
   },
   "outputs": [
    {
     "data": {
      "text/html": [
       "<div>\n",
       "<style scoped>\n",
       "    .dataframe tbody tr th:only-of-type {\n",
       "        vertical-align: middle;\n",
       "    }\n",
       "\n",
       "    .dataframe tbody tr th {\n",
       "        vertical-align: top;\n",
       "    }\n",
       "\n",
       "    .dataframe thead th {\n",
       "        text-align: right;\n",
       "    }\n",
       "</style>\n",
       "<table border=\"1\" class=\"dataframe\">\n",
       "  <thead>\n",
       "    <tr style=\"text-align: right;\">\n",
       "      <th></th>\n",
       "      <th>BertzCT</th>\n",
       "      <th>Chi1</th>\n",
       "      <th>Chi1n</th>\n",
       "      <th>Chi1v</th>\n",
       "      <th>Chi2n</th>\n",
       "      <th>Chi2v</th>\n",
       "      <th>Chi3v</th>\n",
       "      <th>Chi4n</th>\n",
       "      <th>EState_VSA1</th>\n",
       "      <th>EState_VSA2</th>\n",
       "      <th>...</th>\n",
       "      <th>PEOE_VSA7</th>\n",
       "      <th>PEOE_VSA8</th>\n",
       "      <th>SMR_VSA10</th>\n",
       "      <th>SMR_VSA5</th>\n",
       "      <th>SlogP_VSA3</th>\n",
       "      <th>VSA_EState9</th>\n",
       "      <th>fr_COO</th>\n",
       "      <th>fr_COO2</th>\n",
       "      <th>EC1</th>\n",
       "      <th>EC2</th>\n",
       "    </tr>\n",
       "  </thead>\n",
       "  <tbody>\n",
       "    <tr>\n",
       "      <th>0</th>\n",
       "      <td>323.390782</td>\n",
       "      <td>9.879918</td>\n",
       "      <td>5.875576</td>\n",
       "      <td>5.875576</td>\n",
       "      <td>4.304757</td>\n",
       "      <td>4.304757</td>\n",
       "      <td>2.754513</td>\n",
       "      <td>1.749203</td>\n",
       "      <td>0.000000</td>\n",
       "      <td>11.938294</td>\n",
       "      <td>...</td>\n",
       "      <td>0.000000</td>\n",
       "      <td>0.000000</td>\n",
       "      <td>17.744066</td>\n",
       "      <td>0.000000</td>\n",
       "      <td>4.794537</td>\n",
       "      <td>35.527357</td>\n",
       "      <td>0</td>\n",
       "      <td>0</td>\n",
       "      <td>1</td>\n",
       "      <td>1</td>\n",
       "    </tr>\n",
       "    <tr>\n",
       "      <th>1</th>\n",
       "      <td>273.723798</td>\n",
       "      <td>7.259037</td>\n",
       "      <td>4.441467</td>\n",
       "      <td>5.834958</td>\n",
       "      <td>3.285046</td>\n",
       "      <td>4.485235</td>\n",
       "      <td>2.201375</td>\n",
       "      <td>1.289775</td>\n",
       "      <td>45.135471</td>\n",
       "      <td>0.000000</td>\n",
       "      <td>...</td>\n",
       "      <td>0.000000</td>\n",
       "      <td>0.000000</td>\n",
       "      <td>7.822697</td>\n",
       "      <td>30.705892</td>\n",
       "      <td>13.825658</td>\n",
       "      <td>44.707310</td>\n",
       "      <td>0</td>\n",
       "      <td>0</td>\n",
       "      <td>0</td>\n",
       "      <td>1</td>\n",
       "    </tr>\n",
       "    <tr>\n",
       "      <th>2</th>\n",
       "      <td>521.643822</td>\n",
       "      <td>10.911303</td>\n",
       "      <td>8.527859</td>\n",
       "      <td>11.050864</td>\n",
       "      <td>6.665291</td>\n",
       "      <td>9.519706</td>\n",
       "      <td>5.824822</td>\n",
       "      <td>1.770579</td>\n",
       "      <td>15.645394</td>\n",
       "      <td>6.606882</td>\n",
       "      <td>...</td>\n",
       "      <td>53.378235</td>\n",
       "      <td>0.000000</td>\n",
       "      <td>15.645394</td>\n",
       "      <td>73.143616</td>\n",
       "      <td>17.964475</td>\n",
       "      <td>45.660120</td>\n",
       "      <td>0</td>\n",
       "      <td>0</td>\n",
       "      <td>1</td>\n",
       "      <td>1</td>\n",
       "    </tr>\n",
       "    <tr>\n",
       "      <th>3</th>\n",
       "      <td>567.431166</td>\n",
       "      <td>12.453343</td>\n",
       "      <td>7.089119</td>\n",
       "      <td>12.833709</td>\n",
       "      <td>6.478023</td>\n",
       "      <td>10.978151</td>\n",
       "      <td>7.914542</td>\n",
       "      <td>3.067181</td>\n",
       "      <td>95.639554</td>\n",
       "      <td>0.000000</td>\n",
       "      <td>...</td>\n",
       "      <td>0.000000</td>\n",
       "      <td>6.420822</td>\n",
       "      <td>15.645394</td>\n",
       "      <td>62.107304</td>\n",
       "      <td>31.961948</td>\n",
       "      <td>87.509997</td>\n",
       "      <td>0</td>\n",
       "      <td>0</td>\n",
       "      <td>1</td>\n",
       "      <td>1</td>\n",
       "    </tr>\n",
       "    <tr>\n",
       "      <th>4</th>\n",
       "      <td>112.770735</td>\n",
       "      <td>4.414719</td>\n",
       "      <td>2.866236</td>\n",
       "      <td>2.866236</td>\n",
       "      <td>1.875634</td>\n",
       "      <td>1.875634</td>\n",
       "      <td>1.036450</td>\n",
       "      <td>0.727664</td>\n",
       "      <td>17.980451</td>\n",
       "      <td>12.841643</td>\n",
       "      <td>...</td>\n",
       "      <td>19.386400</td>\n",
       "      <td>0.000000</td>\n",
       "      <td>11.938611</td>\n",
       "      <td>18.883484</td>\n",
       "      <td>9.589074</td>\n",
       "      <td>33.333333</td>\n",
       "      <td>2</td>\n",
       "      <td>2</td>\n",
       "      <td>1</td>\n",
       "      <td>0</td>\n",
       "    </tr>\n",
       "  </tbody>\n",
       "</table>\n",
       "<p>5 rows × 33 columns</p>\n",
       "</div>"
      ],
      "text/plain": [
       "      BertzCT       Chi1     Chi1n      Chi1v     Chi2n      Chi2v     Chi3v  \\\n",
       "0  323.390782   9.879918  5.875576   5.875576  4.304757   4.304757  2.754513   \n",
       "1  273.723798   7.259037  4.441467   5.834958  3.285046   4.485235  2.201375   \n",
       "2  521.643822  10.911303  8.527859  11.050864  6.665291   9.519706  5.824822   \n",
       "3  567.431166  12.453343  7.089119  12.833709  6.478023  10.978151  7.914542   \n",
       "4  112.770735   4.414719  2.866236   2.866236  1.875634   1.875634  1.036450   \n",
       "\n",
       "      Chi4n  EState_VSA1  EState_VSA2  ...  PEOE_VSA7  PEOE_VSA8  SMR_VSA10  \\\n",
       "0  1.749203     0.000000    11.938294  ...   0.000000   0.000000  17.744066   \n",
       "1  1.289775    45.135471     0.000000  ...   0.000000   0.000000   7.822697   \n",
       "2  1.770579    15.645394     6.606882  ...  53.378235   0.000000  15.645394   \n",
       "3  3.067181    95.639554     0.000000  ...   0.000000   6.420822  15.645394   \n",
       "4  0.727664    17.980451    12.841643  ...  19.386400   0.000000  11.938611   \n",
       "\n",
       "    SMR_VSA5  SlogP_VSA3  VSA_EState9  fr_COO  fr_COO2  EC1  EC2  \n",
       "0   0.000000    4.794537    35.527357       0        0    1    1  \n",
       "1  30.705892   13.825658    44.707310       0        0    0    1  \n",
       "2  73.143616   17.964475    45.660120       0        0    1    1  \n",
       "3  62.107304   31.961948    87.509997       0        0    1    1  \n",
       "4  18.883484    9.589074    33.333333       2        2    1    0  \n",
       "\n",
       "[5 rows x 33 columns]"
      ]
     },
     "execution_count": 4,
     "metadata": {},
     "output_type": "execute_result"
    }
   ],
   "source": [
    "train.head()"
   ]
  },
  {
   "cell_type": "code",
   "execution_count": 5,
   "id": "43d02911",
   "metadata": {
    "execution": {
     "iopub.execute_input": "2023-07-04T07:23:26.582657Z",
     "iopub.status.busy": "2023-07-04T07:23:26.582260Z",
     "iopub.status.idle": "2023-07-04T07:23:26.588783Z",
     "shell.execute_reply": "2023-07-04T07:23:26.587762Z"
    },
    "papermill": {
     "duration": 0.01483,
     "end_time": "2023-07-04T07:23:26.591018",
     "exception": false,
     "start_time": "2023-07-04T07:23:26.576188",
     "status": "completed"
    },
    "tags": []
   },
   "outputs": [],
   "source": [
    "def generate_features(train, test, cat_cols, num_cols):\n",
    "    \n",
    "    df = pd.concat([train, test], axis = 0, copy = False)\n",
    "    \n",
    "    for c in cat_cols + num_cols:\n",
    "        \n",
    "        df[f'count_{c}'] = df.groupby(c)[c].transform('count')\n",
    "        \n",
    "    for c in cat_cols:\n",
    "        for n in num_cols:\n",
    "                df[f'mean_{n}_per_{c}'] = df.groupby(c)[n].transform('mean')\n",
    "            \n",
    "    return df.iloc[:len(train),:], df.iloc[len(train):, :]"
   ]
  },
  {
   "cell_type": "code",
   "execution_count": 6,
   "id": "d8416afd",
   "metadata": {
    "execution": {
     "iopub.execute_input": "2023-07-04T07:23:26.602199Z",
     "iopub.status.busy": "2023-07-04T07:23:26.601829Z",
     "iopub.status.idle": "2023-07-04T07:23:26.607647Z",
     "shell.execute_reply": "2023-07-04T07:23:26.606619Z"
    },
    "papermill": {
     "duration": 0.013993,
     "end_time": "2023-07-04T07:23:26.609724",
     "exception": false,
     "start_time": "2023-07-04T07:23:26.595731",
     "status": "completed"
    },
    "tags": []
   },
   "outputs": [],
   "source": [
    "target_cols = ['EC1', 'EC2']\n",
    "cols_to_drop = ['id']\n",
    "\n",
    "features = [c for c in train.columns if c not in target_cols + cols_to_drop]\n",
    "\n",
    "cat_cols = ['EState_VSA2','HallKierAlpha','NumHeteroatoms','PEOE_VSA10','PEOE_VSA14','PEOE_VSA6',\n",
    "            'PEOE_VSA7','PEOE_VSA8', 'SMR_VSA10','SMR_VSA5','SlogP_VSA3','fr_COO','fr_COO2']\n",
    "\n",
    "num_cols = [c for c in features if c not in cat_cols]"
   ]
  },
  {
   "cell_type": "code",
   "execution_count": 7,
   "id": "70dc87ca",
   "metadata": {
    "execution": {
     "iopub.execute_input": "2023-07-04T07:23:26.620668Z",
     "iopub.status.busy": "2023-07-04T07:23:26.620261Z",
     "iopub.status.idle": "2023-07-04T07:23:26.633333Z",
     "shell.execute_reply": "2023-07-04T07:23:26.632261Z"
    },
    "papermill": {
     "duration": 0.021226,
     "end_time": "2023-07-04T07:23:26.635530",
     "exception": false,
     "start_time": "2023-07-04T07:23:26.614304",
     "status": "completed"
    },
    "tags": []
   },
   "outputs": [],
   "source": [
    "X_train = train[features]\n",
    "Y_train = train[target_cols]\n",
    "X_test = test[features]"
   ]
  },
  {
   "cell_type": "code",
   "execution_count": 8,
   "id": "be2606fa",
   "metadata": {
    "execution": {
     "iopub.execute_input": "2023-07-04T07:23:26.647814Z",
     "iopub.status.busy": "2023-07-04T07:23:26.647396Z",
     "iopub.status.idle": "2023-07-04T07:23:27.222274Z",
     "shell.execute_reply": "2023-07-04T07:23:27.221378Z"
    },
    "papermill": {
     "duration": 0.583192,
     "end_time": "2023-07-04T07:23:27.224826",
     "exception": false,
     "start_time": "2023-07-04T07:23:26.641634",
     "status": "completed"
    },
    "tags": []
   },
   "outputs": [],
   "source": [
    "X_train, X_test = generate_features(X_train, X_test, cat_cols, num_cols)"
   ]
  },
  {
   "cell_type": "code",
   "execution_count": 9,
   "id": "41ea0441",
   "metadata": {
    "execution": {
     "iopub.execute_input": "2023-07-04T07:23:27.237319Z",
     "iopub.status.busy": "2023-07-04T07:23:27.236929Z",
     "iopub.status.idle": "2023-07-04T07:30:22.204948Z",
     "shell.execute_reply": "2023-07-04T07:30:22.203787Z"
    },
    "papermill": {
     "duration": 414.97724,
     "end_time": "2023-07-04T07:30:22.207413",
     "exception": false,
     "start_time": "2023-07-04T07:23:27.230173",
     "status": "completed"
    },
    "tags": []
   },
   "outputs": [
    {
     "name": "stdout",
     "output_type": "stream",
     "text": [
      "Starting fold: 0\n",
      "overall_train_loss 0.9757272683173904\n",
      "overall_valid_loss 0.6930149502497583\n",
      "Starting fold: 1\n",
      "overall_train_loss 0.9760149298054044\n",
      "overall_valid_loss 0.6922902441255746\n",
      "Starting fold: 2\n",
      "overall_train_loss 0.9758875404016103\n",
      "overall_valid_loss 0.6764456039524097\n",
      "Starting fold: 3\n",
      "overall_train_loss 0.9759512327686974\n",
      "overall_valid_loss 0.6854850398265779\n",
      "Starting fold: 4\n",
      "overall_train_loss 0.9755510145107673\n",
      "overall_valid_loss 0.6872175255302643\n",
      "over_train 0.9758263971607739\n",
      "over_valid 0.686890672736917\n"
     ]
    }
   ],
   "source": [
    "y  = Y_train\n",
    "X  = X_train\n",
    "from xgboost import XGBClassifier\n",
    "from lightgbm import LGBMClassifier\n",
    "from catboost import CatBoostClassifier\n",
    "from sklearn.multioutput import MultiOutputClassifier\n",
    "from sklearn.pipeline import Pipeline\n",
    "from sklearn.metrics import roc_auc_score\n",
    "#from sklearn.model_selection import RepeatedMultilabelStratifiedKFold\n",
    "import numpy as np\n",
    "\n",
    "# XGBoost classifier parameters\n",
    "xgb_params = {'n_estimators': 100,\n",
    "              'tree_method': 'hist',\n",
    "              'max_depth': 4,\n",
    "              'min_child_weight': 1,\n",
    "              'gamma': 2.5705812096617772e-05,\n",
    "              'learning_rate': 0.07132617944894756,\n",
    "              'colsample_bytree': 0.11664298814833247,\n",
    "              'colsample_bynode': 0.9912092923877247,\n",
    "              'colsample_bylevel': 0.29178614622079735,\n",
    "              'subsample': 0.7395301853144935,\n",
    "              'random_state': 42\n",
    "              }\n",
    "\n",
    "# LightGBM classifier parameters\n",
    "lgbm_params = {'n_estimators': 200,\n",
    " 'boosting_type': 'gbdt',\n",
    " 'max_depth': 10,\n",
    " 'min_child_samples': 15,\n",
    " 'subsample': 0.5182995486972547,\n",
    " 'learning_rate': 0.027352422199502537,\n",
    " 'colsample_bytree': 0.2257179878033366,\n",
    " 'colsample_bynode': 0.7098194984886731,\n",
    " 'random_state': 84315}\n",
    "\n",
    "catboost_params = {\n",
    "    'iterations': 1000,\n",
    "    'learning_rate': 0.05,\n",
    "    'depth': 8,\n",
    "    'l2_leaf_reg': 3,\n",
    "    'border_count': 32,\n",
    "    'random_strength': 1,\n",
    "    'bagging_temperature': 1,\n",
    "    'random_seed': 42,\n",
    "    'verbose': 0\n",
    "}\n",
    "\n",
    "\n",
    "# Define the classifiers\n",
    "xgb_classifier = MultiOutputClassifier(XGBClassifier(**xgb_params))\n",
    "lgbm_classifier = MultiOutputClassifier(LGBMClassifier(**lgbm_params))\n",
    "catboost_classifier = MultiOutputClassifier(CatBoostClassifier(**catboost_params))\n",
    "\n",
    "# Create the pipelines\n",
    "xgb_clf = Pipeline([('classifier', xgb_classifier)])\n",
    "lgbm_clf = Pipeline([('classifier', lgbm_classifier)])\n",
    "catboost_clf = Pipeline([('classifier', catboost_classifier)])\n",
    "\n",
    "# Initialize variables\n",
    "oof_preds_xgb = np.zeros(y.shape)\n",
    "oof_preds_lgbm = np.zeros(y.shape)\n",
    "oof_preds_catboost = np.zeros(y.shape)\n",
    "\n",
    "test_preds_xgb = np.zeros((test.shape[0], y.shape[1]))\n",
    "test_preds_lgbm = np.zeros((test.shape[0], y.shape[1]))\n",
    "test_preds_catboost = np.zeros((test.shape[0], y.shape[1]))\n",
    "\n",
    "oof_losses_xgb = []\n",
    "oof_losses_lgbm = []\n",
    "oof_losses_catboost = []\n",
    "\n",
    "n_splits = 5\n",
    "kf = RepeatedMultilabelStratifiedKFold(n_splits=n_splits, n_repeats=1, random_state=42)\n",
    "\n",
    "train_losses_xgb = []\n",
    "train_losses_lgbm = []\n",
    "train_losses_catboost = []\n",
    "\n",
    "over_train=[]\n",
    "over_valid=[]\n",
    "# Loop over folds\n",
    "for fn, (trn_idx, val_idx) in enumerate(kf.split(X, y)):\n",
    "    print('Starting fold:', fn)\n",
    "    X_train, X_val = X.iloc[trn_idx], X.iloc[val_idx]\n",
    "    y_train, y_val = y.iloc[trn_idx], y.iloc[val_idx]\n",
    "\n",
    "    # Train and predict with XGBoost classifier\n",
    "    xgb_clf.fit(X_train, y_train)\n",
    "    train_preds_xgb = xgb_clf.predict_proba(X_train)\n",
    "    train_preds_xgb = np.array(train_preds_xgb)[:, :, 1].T\n",
    "    #train_loss_xgb = roc_auc_score(np.ravel(y_train), np.ravel(train_preds_xgb))\n",
    "    #train_losses_xgb.append(train_loss_xgb)\n",
    "\n",
    "    val_preds_xgb = xgb_clf.predict_proba(X_val)\n",
    "    val_preds_xgb = np.array(val_preds_xgb)[:, :, 1].T\n",
    "    oof_preds_xgb[val_idx] = val_preds_xgb\n",
    "    loss_xgb = roc_auc_score(np.ravel(y_val), np.ravel(val_preds_xgb))\n",
    "    oof_losses_xgb.append(loss_xgb)\n",
    "    preds_xgb = xgb_clf.predict_proba(X_test)\n",
    "    preds_xgb = np.array(preds_xgb)[:, :, 1].T\n",
    "    test_preds_xgb += preds_xgb / n_splits\n",
    "\n",
    "    \n",
    "####################################################################\n",
    "    # Train and predict with LightGBM classifier\n",
    "    lgbm_clf.fit(X_train, y_train)\n",
    "    train_preds_lgbm = lgbm_clf.predict_proba(X_train)\n",
    "    train_preds_lgbm = np.array(train_preds_lgbm)[:, :, 1].T\n",
    "    #train_loss_lgbm = roc_auc_score(np.ravel(y_train), np.ravel(train_preds_lgbm))\n",
    "    #train_losses_lgbm.append(train_loss_lgbm)\n",
    "\n",
    "    val_preds_lgbm = lgbm_clf.predict_proba(X_val)\n",
    "    val_preds_lgbm = np.array(val_preds_lgbm)[:, :, 1].T\n",
    "    oof_preds_lgbm[val_idx] = val_preds_lgbm\n",
    "\n",
    "    loss_lgbm = roc_auc_score(np.ravel(y_val), np.ravel(val_preds_lgbm))\n",
    "    oof_losses_lgbm.append(loss_lgbm)\n",
    "    preds_lgbm = lgbm_clf.predict_proba(X_test)\n",
    "    preds_lgbm = np.array(preds_lgbm)[:, :, 1].T\n",
    "    test_preds_lgbm += preds_lgbm / n_splits\n",
    "#########################################################################\n",
    "    # Train and predict with CatBoost classifier\n",
    "    catboost_clf.fit(X_train, y_train)\n",
    "    train_preds_catboost = catboost_clf.predict_proba(X_train)\n",
    "    train_preds_catboost = np.array(train_preds_catboost)[:, :, 1].T\n",
    "\n",
    "    val_preds_catboost = catboost_clf.predict_proba(X_val)\n",
    "    val_preds_catboost = np.array(val_preds_catboost)[:, :, 1].T\n",
    "    oof_preds_catboost[val_idx] = val_preds_catboost\n",
    "    loss_catboost = roc_auc_score(np.ravel(y_val), np.ravel(val_preds_catboost))\n",
    "    oof_losses_catboost.append(loss_catboost)\n",
    "    preds_catboost = catboost_clf.predict_proba(X_test)\n",
    "    preds_catboost = np.array(preds_catboost)[:, :, 1].T\n",
    "    test_preds_catboost += preds_catboost / n_splits\n",
    "\n",
    "\n",
    "\n",
    "#########################################################################\n",
    "    \n",
    "    overall_train_preds = (train_preds_xgb + train_preds_lgbm + train_preds_catboost) / 3\n",
    "    overall_train_loss = roc_auc_score(np.ravel(y_train), np.ravel(overall_train_preds))\n",
    "    overall_valid_preds = (val_preds_xgb + val_preds_lgbm + val_preds_catboost) / 3\n",
    "    overall_valid_loss = roc_auc_score(np.ravel(y_val), np.ravel(overall_valid_preds))\n",
    "    over_train.append(overall_train_loss)\n",
    "    over_valid.append(overall_valid_loss)\n",
    "    print(\"overall_train_loss\", overall_train_loss)\n",
    "    print(\"overall_valid_loss\", overall_valid_loss)\n",
    "\n",
    "print(\"over_train\", np.mean(over_train))\n",
    "print(\"over_valid\", np.mean(over_valid))\n"
   ]
  },
  {
   "cell_type": "code",
   "execution_count": 10,
   "id": "1ddfce78",
   "metadata": {
    "execution": {
     "iopub.execute_input": "2023-07-04T07:30:22.219037Z",
     "iopub.status.busy": "2023-07-04T07:30:22.218675Z",
     "iopub.status.idle": "2023-07-04T07:30:22.228667Z",
     "shell.execute_reply": "2023-07-04T07:30:22.227730Z"
    },
    "papermill": {
     "duration": 0.018701,
     "end_time": "2023-07-04T07:30:22.231112",
     "exception": false,
     "start_time": "2023-07-04T07:30:22.212411",
     "status": "completed"
    },
    "tags": []
   },
   "outputs": [],
   "source": [
    "sample_submission.iloc[:,1:] = test_preds_xgb*0.5 + test_preds_lgbm*0.3 + test_preds_catboost*0.2"
   ]
  },
  {
   "cell_type": "code",
   "execution_count": 11,
   "id": "c8bf9a6f",
   "metadata": {
    "execution": {
     "iopub.execute_input": "2023-07-04T07:30:22.243118Z",
     "iopub.status.busy": "2023-07-04T07:30:22.242268Z",
     "iopub.status.idle": "2023-07-04T07:30:22.292662Z",
     "shell.execute_reply": "2023-07-04T07:30:22.291639Z"
    },
    "papermill": {
     "duration": 0.059117,
     "end_time": "2023-07-04T07:30:22.295332",
     "exception": false,
     "start_time": "2023-07-04T07:30:22.236215",
     "status": "completed"
    },
    "tags": []
   },
   "outputs": [],
   "source": [
    "sample_submission.to_csv(\"submission.csv\",index=False)\n",
    "\n"
   ]
  },
  {
   "cell_type": "code",
   "execution_count": 12,
   "id": "80a3cc69",
   "metadata": {
    "execution": {
     "iopub.execute_input": "2023-07-04T07:30:22.306835Z",
     "iopub.status.busy": "2023-07-04T07:30:22.306472Z",
     "iopub.status.idle": "2023-07-04T07:30:22.313314Z",
     "shell.execute_reply": "2023-07-04T07:30:22.312263Z"
    },
    "papermill": {
     "duration": 0.015144,
     "end_time": "2023-07-04T07:30:22.315506",
     "exception": false,
     "start_time": "2023-07-04T07:30:22.300362",
     "status": "completed"
    },
    "tags": []
   },
   "outputs": [
    {
     "data": {
      "text/html": [
       "<a href='submission.csv' target='_blank'>submission.csv</a><br>"
      ],
      "text/plain": [
       "/kaggle/working/submission.csv"
      ]
     },
     "execution_count": 12,
     "metadata": {},
     "output_type": "execute_result"
    }
   ],
   "source": [
    "from IPython.display import FileLink\n",
    "\n",
    "# Create a download link for the submission.csv file\n",
    "FileLink('submission.csv')\n"
   ]
  },
  {
   "cell_type": "code",
   "execution_count": null,
   "id": "feeb9f3c",
   "metadata": {
    "papermill": {
     "duration": 0.005177,
     "end_time": "2023-07-04T07:30:22.325670",
     "exception": false,
     "start_time": "2023-07-04T07:30:22.320493",
     "status": "completed"
    },
    "tags": []
   },
   "outputs": [],
   "source": []
  }
 ],
 "metadata": {
  "kernelspec": {
   "display_name": "Python 3",
   "language": "python",
   "name": "python3"
  },
  "language_info": {
   "codemirror_mode": {
    "name": "ipython",
    "version": 3
   },
   "file_extension": ".py",
   "mimetype": "text/x-python",
   "name": "python",
   "nbconvert_exporter": "python",
   "pygments_lexer": "ipython3",
   "version": "3.10.10"
  },
  "papermill": {
   "default_parameters": {},
   "duration": 443.639014,
   "end_time": "2023-07-04T07:30:23.554425",
   "environment_variables": {},
   "exception": null,
   "input_path": "__notebook__.ipynb",
   "output_path": "__notebook__.ipynb",
   "parameters": {},
   "start_time": "2023-07-04T07:22:59.915411",
   "version": "2.4.0"
  }
 },
 "nbformat": 4,
 "nbformat_minor": 5
}

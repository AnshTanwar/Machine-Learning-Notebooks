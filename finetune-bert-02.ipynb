{
 "cells": [
  {
   "cell_type": "code",
   "execution_count": 1,
   "id": "4959b725",
   "metadata": {
    "_cell_guid": "b1076dfc-b9ad-4769-8c92-a6c4dae69d19",
    "_uuid": "8f2839f25d086af736a60e9eeb907d3b93b6e0e5",
    "execution": {
     "iopub.execute_input": "2024-06-04T12:17:49.485667Z",
     "iopub.status.busy": "2024-06-04T12:17:49.485404Z",
     "iopub.status.idle": "2024-06-04T12:17:50.262054Z",
     "shell.execute_reply": "2024-06-04T12:17:50.261153Z"
    },
    "papermill": {
     "duration": 0.796531,
     "end_time": "2024-06-04T12:17:50.264616",
     "exception": false,
     "start_time": "2024-06-04T12:17:49.468085",
     "status": "completed"
    },
    "tags": []
   },
   "outputs": [
    {
     "name": "stdout",
     "output_type": "stream",
     "text": [
      "/kaggle/input/crypto-regulations-yirifi/mappingtoBERT_6.csv\n",
      "/kaggle/input/crypto-regulations-yirifi/mappingtoBERT_5.csv\n",
      "/kaggle/input/crypto-regulations-yirifi/output_improved.csv\n",
      "/kaggle/input/crypto-regulations-yirifi/master_data_gpt4o_improved_latest.csv\n",
      "/kaggle/input/crypto-regulations-yirifi/CSV_data_gpt_4o/CSV_data_gpt_4o/18.csv\n",
      "/kaggle/input/crypto-regulations-yirifi/CSV_data_gpt_4o/CSV_data_gpt_4o/20.csv\n",
      "/kaggle/input/crypto-regulations-yirifi/CSV_data_gpt_4o/CSV_data_gpt_4o/1.csv\n",
      "/kaggle/input/crypto-regulations-yirifi/CSV_data_gpt_4o/CSV_data_gpt_4o/24.csv\n",
      "/kaggle/input/crypto-regulations-yirifi/CSV_data_gpt_4o/CSV_data_gpt_4o/11.csv\n",
      "/kaggle/input/crypto-regulations-yirifi/CSV_data_gpt_4o/CSV_data_gpt_4o/30.csv\n",
      "/kaggle/input/crypto-regulations-yirifi/CSV_data_gpt_4o/CSV_data_gpt_4o/17.csv\n",
      "/kaggle/input/crypto-regulations-yirifi/CSV_data_gpt_4o/CSV_data_gpt_4o/16.csv\n",
      "/kaggle/input/crypto-regulations-yirifi/CSV_data_gpt_4o/CSV_data_gpt_4o/3.csv\n",
      "/kaggle/input/crypto-regulations-yirifi/CSV_data_gpt_4o/CSV_data_gpt_4o/31.csv\n",
      "/kaggle/input/crypto-regulations-yirifi/CSV_data_gpt_4o/CSV_data_gpt_4o/19.csv\n",
      "/kaggle/input/crypto-regulations-yirifi/CSV_data_gpt_4o/CSV_data_gpt_4o/5.csv\n",
      "/kaggle/input/crypto-regulations-yirifi/CSV_data_gpt_4o/CSV_data_gpt_4o/2.csv\n",
      "/kaggle/input/crypto-regulations-yirifi/CSV_data_gpt_4o/CSV_data_gpt_4o/26.csv\n",
      "/kaggle/input/crypto-regulations-yirifi/CSV_data_gpt_4o/CSV_data_gpt_4o/28.csv\n",
      "/kaggle/input/crypto-regulations-yirifi/CSV_data_gpt_4o/CSV_data_gpt_4o/13.csv\n",
      "/kaggle/input/crypto-regulations-yirifi/CSV_data_gpt_4o/CSV_data_gpt_4o/23.csv\n",
      "/kaggle/input/crypto-regulations-yirifi/CSV_data_gpt_4o/CSV_data_gpt_4o/14.csv\n",
      "/kaggle/input/crypto-regulations-yirifi/CSV_data_gpt_4o/CSV_data_gpt_4o/4.csv\n",
      "/kaggle/input/crypto-regulations-yirifi/CSV_data_gpt_4o/CSV_data_gpt_4o/22.csv\n",
      "/kaggle/input/crypto-regulations-yirifi/CSV_data_gpt_4o/CSV_data_gpt_4o/8.csv\n",
      "/kaggle/input/crypto-regulations-yirifi/CSV_data_gpt_4o/CSV_data_gpt_4o/12.csv\n",
      "/kaggle/input/crypto-regulations-yirifi/CSV_data_gpt_4o/CSV_data_gpt_4o/9.csv\n",
      "/kaggle/input/crypto-regulations-yirifi/CSV_data_gpt_4o/CSV_data_gpt_4o/7.csv\n",
      "/kaggle/input/crypto-regulations-yirifi/CSV_data_gpt_4o/CSV_data_gpt_4o/15.csv\n",
      "/kaggle/input/crypto-regulations-yirifi/CSV_data_gpt_4o/CSV_data_gpt_4o/6.csv\n",
      "/kaggle/input/crypto-regulations-yirifi/CSV_data_gpt_4o/CSV_data_gpt_4o/10.csv\n",
      "/kaggle/input/crypto-regulations-yirifi/CSV_data_gpt_4o/CSV_data_gpt_4o/25.csv\n",
      "/kaggle/input/crypto-regulations-yirifi/CSV_data_gpt_4o/CSV_data_gpt_4o/29.csv\n",
      "/kaggle/input/crypto-regulations-yirifi/CSV_data_gpt_4o/CSV_data_gpt_4o/21.csv\n",
      "/kaggle/input/crypto-regulations-yirifi/CSV_data_gpt_4o/CSV_data_gpt_4o/32.csv\n",
      "/kaggle/input/crypto-regulations-yirifi/CSV_data_gpt_4o/CSV_data_gpt_4o/27.csv\n",
      "/kaggle/input/crypto-regulations-yirifi/csv_data/csv_data/18.csv\n",
      "/kaggle/input/crypto-regulations-yirifi/csv_data/csv_data/20.csv\n",
      "/kaggle/input/crypto-regulations-yirifi/csv_data/csv_data/1.csv\n",
      "/kaggle/input/crypto-regulations-yirifi/csv_data/csv_data/24.csv\n",
      "/kaggle/input/crypto-regulations-yirifi/csv_data/csv_data/11.csv\n",
      "/kaggle/input/crypto-regulations-yirifi/csv_data/csv_data/30.csv\n",
      "/kaggle/input/crypto-regulations-yirifi/csv_data/csv_data/17.csv\n",
      "/kaggle/input/crypto-regulations-yirifi/csv_data/csv_data/16.csv\n",
      "/kaggle/input/crypto-regulations-yirifi/csv_data/csv_data/3.csv\n",
      "/kaggle/input/crypto-regulations-yirifi/csv_data/csv_data/31.csv\n",
      "/kaggle/input/crypto-regulations-yirifi/csv_data/csv_data/19.csv\n",
      "/kaggle/input/crypto-regulations-yirifi/csv_data/csv_data/5.csv\n",
      "/kaggle/input/crypto-regulations-yirifi/csv_data/csv_data/2.csv\n",
      "/kaggle/input/crypto-regulations-yirifi/csv_data/csv_data/26.csv\n",
      "/kaggle/input/crypto-regulations-yirifi/csv_data/csv_data/28.csv\n",
      "/kaggle/input/crypto-regulations-yirifi/csv_data/csv_data/13.csv\n",
      "/kaggle/input/crypto-regulations-yirifi/csv_data/csv_data/23.csv\n",
      "/kaggle/input/crypto-regulations-yirifi/csv_data/csv_data/14.csv\n",
      "/kaggle/input/crypto-regulations-yirifi/csv_data/csv_data/4.csv\n",
      "/kaggle/input/crypto-regulations-yirifi/csv_data/csv_data/22.csv\n",
      "/kaggle/input/crypto-regulations-yirifi/csv_data/csv_data/8.csv\n",
      "/kaggle/input/crypto-regulations-yirifi/csv_data/csv_data/12.csv\n",
      "/kaggle/input/crypto-regulations-yirifi/csv_data/csv_data/9.csv\n",
      "/kaggle/input/crypto-regulations-yirifi/csv_data/csv_data/7.csv\n",
      "/kaggle/input/crypto-regulations-yirifi/csv_data/csv_data/15.csv\n",
      "/kaggle/input/crypto-regulations-yirifi/csv_data/csv_data/6.csv\n",
      "/kaggle/input/crypto-regulations-yirifi/csv_data/csv_data/10.csv\n",
      "/kaggle/input/crypto-regulations-yirifi/csv_data/csv_data/25.csv\n",
      "/kaggle/input/crypto-regulations-yirifi/csv_data/csv_data/29.csv\n",
      "/kaggle/input/crypto-regulations-yirifi/csv_data/csv_data/21.csv\n",
      "/kaggle/input/crypto-regulations-yirifi/csv_data/csv_data/32.csv\n",
      "/kaggle/input/crypto-regulations-yirifi/csv_data/csv_data/27.csv\n",
      "/kaggle/input/crypto-regulations-yirifi/CSV_data_improved/CSV_data_improved/18.csv\n",
      "/kaggle/input/crypto-regulations-yirifi/CSV_data_improved/CSV_data_improved/20.csv\n",
      "/kaggle/input/crypto-regulations-yirifi/CSV_data_improved/CSV_data_improved/1.csv\n",
      "/kaggle/input/crypto-regulations-yirifi/CSV_data_improved/CSV_data_improved/24.csv\n",
      "/kaggle/input/crypto-regulations-yirifi/CSV_data_improved/CSV_data_improved/11.csv\n",
      "/kaggle/input/crypto-regulations-yirifi/CSV_data_improved/CSV_data_improved/30.csv\n",
      "/kaggle/input/crypto-regulations-yirifi/CSV_data_improved/CSV_data_improved/17.csv\n",
      "/kaggle/input/crypto-regulations-yirifi/CSV_data_improved/CSV_data_improved/16.csv\n",
      "/kaggle/input/crypto-regulations-yirifi/CSV_data_improved/CSV_data_improved/3.csv\n",
      "/kaggle/input/crypto-regulations-yirifi/CSV_data_improved/CSV_data_improved/31.csv\n",
      "/kaggle/input/crypto-regulations-yirifi/CSV_data_improved/CSV_data_improved/19.csv\n",
      "/kaggle/input/crypto-regulations-yirifi/CSV_data_improved/CSV_data_improved/5.csv\n",
      "/kaggle/input/crypto-regulations-yirifi/CSV_data_improved/CSV_data_improved/2.csv\n",
      "/kaggle/input/crypto-regulations-yirifi/CSV_data_improved/CSV_data_improved/26.csv\n",
      "/kaggle/input/crypto-regulations-yirifi/CSV_data_improved/CSV_data_improved/28.csv\n",
      "/kaggle/input/crypto-regulations-yirifi/CSV_data_improved/CSV_data_improved/13.csv\n",
      "/kaggle/input/crypto-regulations-yirifi/CSV_data_improved/CSV_data_improved/23.csv\n",
      "/kaggle/input/crypto-regulations-yirifi/CSV_data_improved/CSV_data_improved/14.csv\n",
      "/kaggle/input/crypto-regulations-yirifi/CSV_data_improved/CSV_data_improved/4.csv\n",
      "/kaggle/input/crypto-regulations-yirifi/CSV_data_improved/CSV_data_improved/22.csv\n",
      "/kaggle/input/crypto-regulations-yirifi/CSV_data_improved/CSV_data_improved/8.csv\n",
      "/kaggle/input/crypto-regulations-yirifi/CSV_data_improved/CSV_data_improved/12.csv\n",
      "/kaggle/input/crypto-regulations-yirifi/CSV_data_improved/CSV_data_improved/9.csv\n",
      "/kaggle/input/crypto-regulations-yirifi/CSV_data_improved/CSV_data_improved/7.csv\n",
      "/kaggle/input/crypto-regulations-yirifi/CSV_data_improved/CSV_data_improved/15.csv\n",
      "/kaggle/input/crypto-regulations-yirifi/CSV_data_improved/CSV_data_improved/6.csv\n",
      "/kaggle/input/crypto-regulations-yirifi/CSV_data_improved/CSV_data_improved/10.csv\n",
      "/kaggle/input/crypto-regulations-yirifi/CSV_data_improved/CSV_data_improved/25.csv\n",
      "/kaggle/input/crypto-regulations-yirifi/CSV_data_improved/CSV_data_improved/29.csv\n",
      "/kaggle/input/crypto-regulations-yirifi/CSV_data_improved/CSV_data_improved/21.csv\n",
      "/kaggle/input/crypto-regulations-yirifi/CSV_data_improved/CSV_data_improved/32.csv\n",
      "/kaggle/input/crypto-regulations-yirifi/CSV_data_improved/CSV_data_improved/27.csv\n"
     ]
    }
   ],
   "source": [
    "# This Python 3 environment comes with many helpful analytics libraries installed\n",
    "# It is defined by the kaggle/python Docker image: https://github.com/kaggle/docker-python\n",
    "# For example, here's several helpful packages to load\n",
    "\n",
    "import numpy as np # linear algebra\n",
    "import pandas as pd # data processing, CSV file I/O (e.g. pd.read_csv)\n",
    "\n",
    "# Input data files are available in the read-only \"../input/\" directory\n",
    "# For example, running this (by clicking run or pressing Shift+Enter) will list all files under the input directory\n",
    "\n",
    "import os\n",
    "for dirname, _, filenames in os.walk('/kaggle/input'):\n",
    "    for filename in filenames:\n",
    "        print(os.path.join(dirname, filename))\n",
    "\n",
    "# You can write up to 20GB to the current directory (/kaggle/working/) that gets preserved as output when you create a version using \"Save & Run All\" \n",
    "# You can also write temporary files to /kaggle/temp/, but they won't be saved outside of the current session"
   ]
  },
  {
   "cell_type": "markdown",
   "id": "bcce0985",
   "metadata": {
    "papermill": {
     "duration": 0.015864,
     "end_time": "2024-06-04T12:17:50.297268",
     "exception": false,
     "start_time": "2024-06-04T12:17:50.281404",
     "status": "completed"
    },
    "tags": []
   },
   "source": [
    "# Data import and cleaning up the data"
   ]
  },
  {
   "cell_type": "code",
   "execution_count": 2,
   "id": "3166176c",
   "metadata": {
    "execution": {
     "iopub.execute_input": "2024-06-04T12:17:50.331283Z",
     "iopub.status.busy": "2024-06-04T12:17:50.330855Z",
     "iopub.status.idle": "2024-06-04T12:17:50.417294Z",
     "shell.execute_reply": "2024-06-04T12:17:50.416437Z"
    },
    "papermill": {
     "duration": 0.105227,
     "end_time": "2024-06-04T12:17:50.419374",
     "exception": false,
     "start_time": "2024-06-04T12:17:50.314147",
     "status": "completed"
    },
    "tags": []
   },
   "outputs": [],
   "source": [
    "df = pd.read_csv(\"/kaggle/input/crypto-regulations-yirifi/mappingtoBERT_6.csv\")"
   ]
  },
  {
   "cell_type": "code",
   "execution_count": 3,
   "id": "3be2bf34",
   "metadata": {
    "execution": {
     "iopub.execute_input": "2024-06-04T12:17:50.452590Z",
     "iopub.status.busy": "2024-06-04T12:17:50.452292Z",
     "iopub.status.idle": "2024-06-04T12:17:50.458628Z",
     "shell.execute_reply": "2024-06-04T12:17:50.457807Z"
    },
    "papermill": {
     "duration": 0.025106,
     "end_time": "2024-06-04T12:17:50.460613",
     "exception": false,
     "start_time": "2024-06-04T12:17:50.435507",
     "status": "completed"
    },
    "tags": []
   },
   "outputs": [
    {
     "data": {
      "text/plain": [
       "(5965, 4)"
      ]
     },
     "execution_count": 3,
     "metadata": {},
     "output_type": "execute_result"
    }
   ],
   "source": [
    "df.shape"
   ]
  },
  {
   "cell_type": "code",
   "execution_count": 4,
   "id": "63a17987",
   "metadata": {
    "execution": {
     "iopub.execute_input": "2024-06-04T12:17:50.493623Z",
     "iopub.status.busy": "2024-06-04T12:17:50.493378Z",
     "iopub.status.idle": "2024-06-04T12:17:50.510152Z",
     "shell.execute_reply": "2024-06-04T12:17:50.509249Z"
    },
    "papermill": {
     "duration": 0.035593,
     "end_time": "2024-06-04T12:17:50.512150",
     "exception": false,
     "start_time": "2024-06-04T12:17:50.476557",
     "status": "completed"
    },
    "tags": []
   },
   "outputs": [
    {
     "data": {
      "text/html": [
       "<div>\n",
       "<style scoped>\n",
       "    .dataframe tbody tr th:only-of-type {\n",
       "        vertical-align: middle;\n",
       "    }\n",
       "\n",
       "    .dataframe tbody tr th {\n",
       "        vertical-align: top;\n",
       "    }\n",
       "\n",
       "    .dataframe thead th {\n",
       "        text-align: right;\n",
       "    }\n",
       "</style>\n",
       "<table border=\"1\" class=\"dataframe\">\n",
       "  <thead>\n",
       "    <tr style=\"text-align: right;\">\n",
       "      <th></th>\n",
       "      <th>Unnamed: 0</th>\n",
       "      <th>Content</th>\n",
       "      <th>Concepts</th>\n",
       "      <th>bert_concepts</th>\n",
       "    </tr>\n",
       "  </thead>\n",
       "  <tbody>\n",
       "    <tr>\n",
       "      <th>5955</th>\n",
       "      <td>5955</td>\n",
       "      <td>Content|ÄúRegulationsÄù|means the Virtual As...</td>\n",
       "      <td>amended, related activities, 2023, supplemente...</td>\n",
       "      <td>regulations, virtual assets</td>\n",
       "    </tr>\n",
       "    <tr>\n",
       "      <th>5956</th>\n",
       "      <td>5956</td>\n",
       "      <td>Content|ÄúReserve AssetsÄù|has the meaning a...</td>\n",
       "      <td>frva rules, reserve assets, rule i.a.5</td>\n",
       "      <td>rules</td>\n",
       "    </tr>\n",
       "    <tr>\n",
       "      <th>5957</th>\n",
       "      <td>5957</td>\n",
       "      <td>Content|ÄúSenior ManagementÄù|has the meanin...</td>\n",
       "      <td>company rulebook, senior management</td>\n",
       "      <td>rulebook</td>\n",
       "    </tr>\n",
       "    <tr>\n",
       "      <th>5958</th>\n",
       "      <td>5958</td>\n",
       "      <td>Content|ÄúSignificant FRVA IssuerÄù|means a ...</td>\n",
       "      <td>rule i.c.1, vara, frva rules, vasp, significan...</td>\n",
       "      <td>rules, vasp</td>\n",
       "    </tr>\n",
       "    <tr>\n",
       "      <th>5959</th>\n",
       "      <td>5959</td>\n",
       "      <td>Content|ÄúTechnology and Information\\nRuleboo...</td>\n",
       "      <td>amended, information, vara, technology, regula...</td>\n",
       "      <td>regulations, rulebook</td>\n",
       "    </tr>\n",
       "    <tr>\n",
       "      <th>5960</th>\n",
       "      <td>5960</td>\n",
       "      <td>Content|ÄúVA Issuance RulebookÄù|means the V...</td>\n",
       "      <td>amended, supplemented, vara, virtual asset iss...</td>\n",
       "      <td>regulations, virtual assets, rulebook</td>\n",
       "    </tr>\n",
       "    <tr>\n",
       "      <th>5961</th>\n",
       "      <td>5961</td>\n",
       "      <td>Content|ÄúVARAÄù|means the Dubai Virtual Ass...</td>\n",
       "      <td>vara, dubai, regulatory authority, virtual assets</td>\n",
       "      <td>authority, virtual assets, regulator</td>\n",
       "    </tr>\n",
       "    <tr>\n",
       "      <th>5962</th>\n",
       "      <td>5962</td>\n",
       "      <td>Content|ÄúVirtual AssetÄù or ÄúVAÄù|has th...</td>\n",
       "      <td>dubai va law, va, regulatory, compliance, virt...</td>\n",
       "      <td>compliance, virtual assets, regulator</td>\n",
       "    </tr>\n",
       "    <tr>\n",
       "      <th>5963</th>\n",
       "      <td>5963</td>\n",
       "      <td>Content|ÄúWhitepaperÄù|has the meaning ascri...</td>\n",
       "      <td>bank, whitepaper, regulatory compliance, compl...</td>\n",
       "      <td>compliance, virtual assets, rulebook, regulator</td>\n",
       "    </tr>\n",
       "    <tr>\n",
       "      <th>5964</th>\n",
       "      <td>5964</td>\n",
       "      <td>Content|ÄúWorking DayÄù|means any day which ...</td>\n",
       "      <td>public holiday, weekend, bank, hong kong, regu...</td>\n",
       "      <td>compliance, virtual assets, regulator</td>\n",
       "    </tr>\n",
       "  </tbody>\n",
       "</table>\n",
       "</div>"
      ],
      "text/plain": [
       "      Unnamed: 0                                            Content  \\\n",
       "5955        5955  Content|ÄúRegulationsÄù|means the Virtual As...   \n",
       "5956        5956  Content|ÄúReserve AssetsÄù|has the meaning a...   \n",
       "5957        5957  Content|ÄúSenior ManagementÄù|has the meanin...   \n",
       "5958        5958  Content|ÄúSignificant FRVA IssuerÄù|means a ...   \n",
       "5959        5959  Content|ÄúTechnology and Information\\nRuleboo...   \n",
       "5960        5960  Content|ÄúVA Issuance RulebookÄù|means the V...   \n",
       "5961        5961  Content|ÄúVARAÄù|means the Dubai Virtual Ass...   \n",
       "5962        5962  Content|ÄúVirtual AssetÄù or ÄúVAÄù|has th...   \n",
       "5963        5963  Content|ÄúWhitepaperÄù|has the meaning ascri...   \n",
       "5964        5964  Content|ÄúWorking DayÄù|means any day which ...   \n",
       "\n",
       "                                               Concepts  \\\n",
       "5955  amended, related activities, 2023, supplemente...   \n",
       "5956             frva rules, reserve assets, rule i.a.5   \n",
       "5957                company rulebook, senior management   \n",
       "5958  rule i.c.1, vara, frva rules, vasp, significan...   \n",
       "5959  amended, information, vara, technology, regula...   \n",
       "5960  amended, supplemented, vara, virtual asset iss...   \n",
       "5961  vara, dubai, regulatory authority, virtual assets   \n",
       "5962  dubai va law, va, regulatory, compliance, virt...   \n",
       "5963  bank, whitepaper, regulatory compliance, compl...   \n",
       "5964  public holiday, weekend, bank, hong kong, regu...   \n",
       "\n",
       "                                        bert_concepts  \n",
       "5955                      regulations, virtual assets  \n",
       "5956                                            rules  \n",
       "5957                                         rulebook  \n",
       "5958                                      rules, vasp  \n",
       "5959                            regulations, rulebook  \n",
       "5960            regulations, virtual assets, rulebook  \n",
       "5961             authority, virtual assets, regulator  \n",
       "5962            compliance, virtual assets, regulator  \n",
       "5963  compliance, virtual assets, rulebook, regulator  \n",
       "5964            compliance, virtual assets, regulator  "
      ]
     },
     "execution_count": 4,
     "metadata": {},
     "output_type": "execute_result"
    }
   ],
   "source": [
    "df.tail(10)"
   ]
  },
  {
   "cell_type": "code",
   "execution_count": 5,
   "id": "777cd6fc",
   "metadata": {
    "execution": {
     "iopub.execute_input": "2024-06-04T12:17:50.547121Z",
     "iopub.status.busy": "2024-06-04T12:17:50.546821Z",
     "iopub.status.idle": "2024-06-04T12:17:50.633096Z",
     "shell.execute_reply": "2024-06-04T12:17:50.632137Z"
    },
    "papermill": {
     "duration": 0.105651,
     "end_time": "2024-06-04T12:17:50.635024",
     "exception": false,
     "start_time": "2024-06-04T12:17:50.529373",
     "status": "completed"
    },
    "tags": []
   },
   "outputs": [
    {
     "name": "stdout",
     "output_type": "stream",
     "text": [
      "Number of rows with URLs: 22\n",
      "Number of rows with user references: 12\n",
      "Number of rows with hashtags: 0\n",
      "Number of rows with non-alphanumeric characters: 5913\n"
     ]
    }
   ],
   "source": [
    "import re\n",
    "# Function to check for URLs\n",
    "def contains_url(text):\n",
    "    text = str(text)\n",
    "    return bool(re.search(r'http\\S+|www\\S+|https\\S+', text))\n",
    "\n",
    "# Function to check for user references (@user)\n",
    "def contains_user_reference(text):\n",
    "    text = str(text)\n",
    "    return bool(re.search(r'\\@\\w+', text))\n",
    "\n",
    "# Function to check for hashtags\n",
    "def contains_hashtag(text):\n",
    "    text = str(text)\n",
    "    return bool(re.search(r'\\#\\w+', text))\n",
    "\n",
    "# Function to check for non-alphanumeric characters\n",
    "def contains_non_alphanumeric(text):\n",
    "    text = str(text)\n",
    "    return bool(re.search(r'[^a-zA-Z0-9\\s]', text))\n",
    "\n",
    "# Apply the functions to the DataFrame\n",
    "df['contains_url'] = df['Content'].apply(contains_url)\n",
    "df['contains_user_reference'] = df['Content'].apply(contains_user_reference)\n",
    "df['contains_hashtag'] = df['Content'].apply(contains_hashtag)\n",
    "df['contains_non_alphanumeric'] = df['Content'].apply(contains_non_alphanumeric)\n",
    "\n",
    "# Check rows that match each condition\n",
    "url_count = df['contains_url'].sum()\n",
    "user_reference_count = df['contains_user_reference'].sum()\n",
    "hashtag_count = df['contains_hashtag'].sum()\n",
    "non_alphanumeric_count = df['contains_non_alphanumeric'].sum()\n",
    "\n",
    "# Print results\n",
    "print(f\"Number of rows with URLs: {url_count}\")\n",
    "print(f\"Number of rows with user references: {user_reference_count}\")\n",
    "print(f\"Number of rows with hashtags: {hashtag_count}\")\n",
    "print(f\"Number of rows with non-alphanumeric characters: {non_alphanumeric_count}\")\n",
    "\n"
   ]
  },
  {
   "cell_type": "code",
   "execution_count": 6,
   "id": "fd39a70d",
   "metadata": {
    "execution": {
     "iopub.execute_input": "2024-06-04T12:17:50.669165Z",
     "iopub.status.busy": "2024-06-04T12:17:50.668486Z",
     "iopub.status.idle": "2024-06-04T12:17:50.680658Z",
     "shell.execute_reply": "2024-06-04T12:17:50.679768Z"
    },
    "papermill": {
     "duration": 0.031261,
     "end_time": "2024-06-04T12:17:50.682515",
     "exception": false,
     "start_time": "2024-06-04T12:17:50.651254",
     "status": "completed"
    },
    "tags": []
   },
   "outputs": [
    {
     "data": {
      "text/html": [
       "<div>\n",
       "<style scoped>\n",
       "    .dataframe tbody tr th:only-of-type {\n",
       "        vertical-align: middle;\n",
       "    }\n",
       "\n",
       "    .dataframe tbody tr th {\n",
       "        vertical-align: top;\n",
       "    }\n",
       "\n",
       "    .dataframe thead th {\n",
       "        text-align: right;\n",
       "    }\n",
       "</style>\n",
       "<table border=\"1\" class=\"dataframe\">\n",
       "  <thead>\n",
       "    <tr style=\"text-align: right;\">\n",
       "      <th></th>\n",
       "      <th>Unnamed: 0</th>\n",
       "      <th>Content</th>\n",
       "      <th>Concepts</th>\n",
       "      <th>bert_concepts</th>\n",
       "      <th>contains_url</th>\n",
       "      <th>contains_user_reference</th>\n",
       "      <th>contains_hashtag</th>\n",
       "      <th>contains_non_alphanumeric</th>\n",
       "    </tr>\n",
       "  </thead>\n",
       "  <tbody>\n",
       "    <tr>\n",
       "      <th>5960</th>\n",
       "      <td>5960</td>\n",
       "      <td>Content|ÄúVA Issuance RulebookÄù|means the V...</td>\n",
       "      <td>amended, supplemented, vara, virtual asset iss...</td>\n",
       "      <td>regulations, virtual assets, rulebook</td>\n",
       "      <td>False</td>\n",
       "      <td>False</td>\n",
       "      <td>False</td>\n",
       "      <td>True</td>\n",
       "    </tr>\n",
       "    <tr>\n",
       "      <th>5961</th>\n",
       "      <td>5961</td>\n",
       "      <td>Content|ÄúVARAÄù|means the Dubai Virtual Ass...</td>\n",
       "      <td>vara, dubai, regulatory authority, virtual assets</td>\n",
       "      <td>authority, virtual assets, regulator</td>\n",
       "      <td>False</td>\n",
       "      <td>False</td>\n",
       "      <td>False</td>\n",
       "      <td>True</td>\n",
       "    </tr>\n",
       "    <tr>\n",
       "      <th>5962</th>\n",
       "      <td>5962</td>\n",
       "      <td>Content|ÄúVirtual AssetÄù or ÄúVAÄù|has th...</td>\n",
       "      <td>dubai va law, va, regulatory, compliance, virt...</td>\n",
       "      <td>compliance, virtual assets, regulator</td>\n",
       "      <td>False</td>\n",
       "      <td>False</td>\n",
       "      <td>False</td>\n",
       "      <td>True</td>\n",
       "    </tr>\n",
       "    <tr>\n",
       "      <th>5963</th>\n",
       "      <td>5963</td>\n",
       "      <td>Content|ÄúWhitepaperÄù|has the meaning ascri...</td>\n",
       "      <td>bank, whitepaper, regulatory compliance, compl...</td>\n",
       "      <td>compliance, virtual assets, rulebook, regulator</td>\n",
       "      <td>False</td>\n",
       "      <td>False</td>\n",
       "      <td>False</td>\n",
       "      <td>True</td>\n",
       "    </tr>\n",
       "    <tr>\n",
       "      <th>5964</th>\n",
       "      <td>5964</td>\n",
       "      <td>Content|ÄúWorking DayÄù|means any day which ...</td>\n",
       "      <td>public holiday, weekend, bank, hong kong, regu...</td>\n",
       "      <td>compliance, virtual assets, regulator</td>\n",
       "      <td>False</td>\n",
       "      <td>False</td>\n",
       "      <td>False</td>\n",
       "      <td>True</td>\n",
       "    </tr>\n",
       "  </tbody>\n",
       "</table>\n",
       "</div>"
      ],
      "text/plain": [
       "      Unnamed: 0                                            Content  \\\n",
       "5960        5960  Content|ÄúVA Issuance RulebookÄù|means the V...   \n",
       "5961        5961  Content|ÄúVARAÄù|means the Dubai Virtual Ass...   \n",
       "5962        5962  Content|ÄúVirtual AssetÄù or ÄúVAÄù|has th...   \n",
       "5963        5963  Content|ÄúWhitepaperÄù|has the meaning ascri...   \n",
       "5964        5964  Content|ÄúWorking DayÄù|means any day which ...   \n",
       "\n",
       "                                               Concepts  \\\n",
       "5960  amended, supplemented, vara, virtual asset iss...   \n",
       "5961  vara, dubai, regulatory authority, virtual assets   \n",
       "5962  dubai va law, va, regulatory, compliance, virt...   \n",
       "5963  bank, whitepaper, regulatory compliance, compl...   \n",
       "5964  public holiday, weekend, bank, hong kong, regu...   \n",
       "\n",
       "                                        bert_concepts  contains_url  \\\n",
       "5960            regulations, virtual assets, rulebook         False   \n",
       "5961             authority, virtual assets, regulator         False   \n",
       "5962            compliance, virtual assets, regulator         False   \n",
       "5963  compliance, virtual assets, rulebook, regulator         False   \n",
       "5964            compliance, virtual assets, regulator         False   \n",
       "\n",
       "      contains_user_reference  contains_hashtag  contains_non_alphanumeric  \n",
       "5960                    False             False                       True  \n",
       "5961                    False             False                       True  \n",
       "5962                    False             False                       True  \n",
       "5963                    False             False                       True  \n",
       "5964                    False             False                       True  "
      ]
     },
     "execution_count": 6,
     "metadata": {},
     "output_type": "execute_result"
    }
   ],
   "source": [
    "df.tail(5)"
   ]
  },
  {
   "cell_type": "code",
   "execution_count": 7,
   "id": "8eed9d1a",
   "metadata": {
    "execution": {
     "iopub.execute_input": "2024-06-04T12:17:50.716573Z",
     "iopub.status.busy": "2024-06-04T12:17:50.716336Z",
     "iopub.status.idle": "2024-06-04T12:17:50.723565Z",
     "shell.execute_reply": "2024-06-04T12:17:50.722704Z"
    },
    "papermill": {
     "duration": 0.026377,
     "end_time": "2024-06-04T12:17:50.725497",
     "exception": false,
     "start_time": "2024-06-04T12:17:50.699120",
     "status": "completed"
    },
    "tags": []
   },
   "outputs": [],
   "source": [
    "df = df[[\"Content\",\"bert_concepts\"]]"
   ]
  },
  {
   "cell_type": "code",
   "execution_count": 8,
   "id": "98093a7a",
   "metadata": {
    "execution": {
     "iopub.execute_input": "2024-06-04T12:17:50.759441Z",
     "iopub.status.busy": "2024-06-04T12:17:50.759181Z",
     "iopub.status.idle": "2024-06-04T12:17:51.106272Z",
     "shell.execute_reply": "2024-06-04T12:17:51.105192Z"
    },
    "papermill": {
     "duration": 0.366526,
     "end_time": "2024-06-04T12:17:51.108609",
     "exception": false,
     "start_time": "2024-06-04T12:17:50.742083",
     "status": "completed"
    },
    "tags": []
   },
   "outputs": [],
   "source": [
    "import re\n",
    "import string\n",
    "\n",
    "def preprocess_text(text):\n",
    "    text = str(text)    \n",
    "    text = re.sub(r'<[^>]+>', '', text) # Remove HTML tags\n",
    "    text = text.lower()\n",
    "    text = re.sub(r'http\\S+|www\\S+|https\\S+', '', text, flags=re.MULTILINE)# Remove URLs\n",
    "    text = re.sub(r'\\@\\w+|\\#','', text) # Remove user @ references and hashtags\n",
    "    text = text.translate(str.maketrans('', '', string.punctuation)) # Remove punctuation    \n",
    "    text = re.sub(r'[^a-zA-Z0-9\\s]', ' ', text) # Remove non-alphanumeric character    \n",
    "    text = re.sub(r'\\s+', ' ', text).strip() # Remove extra whitespace(only single white space is left)\n",
    "    \n",
    "    return text\n",
    "\n",
    "df['Content'] = df['Content'].apply(preprocess_text) # Applying the preprocess_text function\n"
   ]
  },
  {
   "cell_type": "code",
   "execution_count": 9,
   "id": "5633fee4",
   "metadata": {
    "execution": {
     "iopub.execute_input": "2024-06-04T12:17:51.146604Z",
     "iopub.status.busy": "2024-06-04T12:17:51.146276Z",
     "iopub.status.idle": "2024-06-04T12:17:51.156413Z",
     "shell.execute_reply": "2024-06-04T12:17:51.155546Z"
    },
    "papermill": {
     "duration": 0.02994,
     "end_time": "2024-06-04T12:17:51.158264",
     "exception": false,
     "start_time": "2024-06-04T12:17:51.128324",
     "status": "completed"
    },
    "tags": []
   },
   "outputs": [
    {
     "data": {
      "text/html": [
       "<div>\n",
       "<style scoped>\n",
       "    .dataframe tbody tr th:only-of-type {\n",
       "        vertical-align: middle;\n",
       "    }\n",
       "\n",
       "    .dataframe tbody tr th {\n",
       "        vertical-align: top;\n",
       "    }\n",
       "\n",
       "    .dataframe thead th {\n",
       "        text-align: right;\n",
       "    }\n",
       "</style>\n",
       "<table border=\"1\" class=\"dataframe\">\n",
       "  <thead>\n",
       "    <tr style=\"text-align: right;\">\n",
       "      <th></th>\n",
       "      <th>Content</th>\n",
       "      <th>bert_concepts</th>\n",
       "    </tr>\n",
       "  </thead>\n",
       "  <tbody>\n",
       "    <tr>\n",
       "      <th>5960</th>\n",
       "      <td>content va issuance rulebook means the virtual...</td>\n",
       "      <td>regulations, virtual assets, rulebook</td>\n",
       "    </tr>\n",
       "    <tr>\n",
       "      <th>5961</th>\n",
       "      <td>content vara means the dubai virtual assets re...</td>\n",
       "      <td>authority, virtual assets, regulator</td>\n",
       "    </tr>\n",
       "    <tr>\n",
       "      <th>5962</th>\n",
       "      <td>content virtual asset or va has the meaning as...</td>\n",
       "      <td>compliance, virtual assets, regulator</td>\n",
       "    </tr>\n",
       "    <tr>\n",
       "      <th>5963</th>\n",
       "      <td>content whitepaper has the meaning ascribed to...</td>\n",
       "      <td>compliance, virtual assets, rulebook, regulator</td>\n",
       "    </tr>\n",
       "    <tr>\n",
       "      <th>5964</th>\n",
       "      <td>content working day means any day which is not...</td>\n",
       "      <td>compliance, virtual assets, regulator</td>\n",
       "    </tr>\n",
       "  </tbody>\n",
       "</table>\n",
       "</div>"
      ],
      "text/plain": [
       "                                                Content  \\\n",
       "5960  content va issuance rulebook means the virtual...   \n",
       "5961  content vara means the dubai virtual assets re...   \n",
       "5962  content virtual asset or va has the meaning as...   \n",
       "5963  content whitepaper has the meaning ascribed to...   \n",
       "5964  content working day means any day which is not...   \n",
       "\n",
       "                                        bert_concepts  \n",
       "5960            regulations, virtual assets, rulebook  \n",
       "5961             authority, virtual assets, regulator  \n",
       "5962            compliance, virtual assets, regulator  \n",
       "5963  compliance, virtual assets, rulebook, regulator  \n",
       "5964            compliance, virtual assets, regulator  "
      ]
     },
     "execution_count": 9,
     "metadata": {},
     "output_type": "execute_result"
    }
   ],
   "source": [
    "df.tail(5)"
   ]
  },
  {
   "cell_type": "code",
   "execution_count": null,
   "id": "17ef7ee8",
   "metadata": {
    "papermill": {
     "duration": 0.019274,
     "end_time": "2024-06-04T12:17:51.194564",
     "exception": false,
     "start_time": "2024-06-04T12:17:51.175290",
     "status": "completed"
    },
    "tags": []
   },
   "outputs": [],
   "source": []
  },
  {
   "cell_type": "code",
   "execution_count": 10,
   "id": "067c2660",
   "metadata": {
    "execution": {
     "iopub.execute_input": "2024-06-04T12:17:51.235114Z",
     "iopub.status.busy": "2024-06-04T12:17:51.234803Z",
     "iopub.status.idle": "2024-06-04T12:17:51.240872Z",
     "shell.execute_reply": "2024-06-04T12:17:51.239934Z"
    },
    "papermill": {
     "duration": 0.02876,
     "end_time": "2024-06-04T12:17:51.243184",
     "exception": false,
     "start_time": "2024-06-04T12:17:51.214424",
     "status": "completed"
    },
    "tags": []
   },
   "outputs": [
    {
     "data": {
      "text/plain": [
       "(5965, 2)"
      ]
     },
     "execution_count": 10,
     "metadata": {},
     "output_type": "execute_result"
    }
   ],
   "source": [
    "df.shape"
   ]
  },
  {
   "cell_type": "code",
   "execution_count": 11,
   "id": "97078884",
   "metadata": {
    "execution": {
     "iopub.execute_input": "2024-06-04T12:17:51.283167Z",
     "iopub.status.busy": "2024-06-04T12:17:51.282847Z",
     "iopub.status.idle": "2024-06-04T12:17:51.288702Z",
     "shell.execute_reply": "2024-06-04T12:17:51.287769Z"
    },
    "papermill": {
     "duration": 0.02833,
     "end_time": "2024-06-04T12:17:51.290911",
     "exception": false,
     "start_time": "2024-06-04T12:17:51.262581",
     "status": "completed"
    },
    "tags": []
   },
   "outputs": [
    {
     "name": "stdout",
     "output_type": "stream",
     "text": [
      "Number of rows with NaN in bert_concepts: 580\n"
     ]
    }
   ],
   "source": [
    "missing_values_count = df['bert_concepts'].isnull().sum()\n",
    "print(\"Number of rows with NaN in bert_concepts:\", missing_values_count)"
   ]
  },
  {
   "cell_type": "markdown",
   "id": "27a929c6",
   "metadata": {
    "papermill": {
     "duration": 0.018496,
     "end_time": "2024-06-04T12:17:51.327827",
     "exception": false,
     "start_time": "2024-06-04T12:17:51.309331",
     "status": "completed"
    },
    "tags": []
   },
   "source": [
    "## Remove rows with no bert_concepts"
   ]
  },
  {
   "cell_type": "code",
   "execution_count": 12,
   "id": "b2a369fa",
   "metadata": {
    "execution": {
     "iopub.execute_input": "2024-06-04T12:17:51.366040Z",
     "iopub.status.busy": "2024-06-04T12:17:51.365746Z",
     "iopub.status.idle": "2024-06-04T12:17:51.374435Z",
     "shell.execute_reply": "2024-06-04T12:17:51.373592Z"
    },
    "papermill": {
     "duration": 0.03009,
     "end_time": "2024-06-04T12:17:51.376500",
     "exception": false,
     "start_time": "2024-06-04T12:17:51.346410",
     "status": "completed"
    },
    "tags": []
   },
   "outputs": [],
   "source": [
    "df = df.dropna(subset=['bert_concepts'])"
   ]
  },
  {
   "cell_type": "code",
   "execution_count": 13,
   "id": "fe3abb47",
   "metadata": {
    "execution": {
     "iopub.execute_input": "2024-06-04T12:17:51.415732Z",
     "iopub.status.busy": "2024-06-04T12:17:51.414989Z",
     "iopub.status.idle": "2024-06-04T12:17:51.420864Z",
     "shell.execute_reply": "2024-06-04T12:17:51.419935Z"
    },
    "papermill": {
     "duration": 0.02645,
     "end_time": "2024-06-04T12:17:51.422903",
     "exception": false,
     "start_time": "2024-06-04T12:17:51.396453",
     "status": "completed"
    },
    "tags": []
   },
   "outputs": [
    {
     "data": {
      "text/plain": [
       "(5385, 2)"
      ]
     },
     "execution_count": 13,
     "metadata": {},
     "output_type": "execute_result"
    }
   ],
   "source": [
    "df.shape"
   ]
  },
  {
   "cell_type": "markdown",
   "id": "7f807c85",
   "metadata": {
    "papermill": {
     "duration": 0.017874,
     "end_time": "2024-06-04T12:17:51.458973",
     "exception": false,
     "start_time": "2024-06-04T12:17:51.441099",
     "status": "completed"
    },
    "tags": []
   },
   "source": [
    "# Converting to Bert Data Format"
   ]
  },
  {
   "cell_type": "code",
   "execution_count": 14,
   "id": "65fb6591",
   "metadata": {
    "execution": {
     "iopub.execute_input": "2024-06-04T12:17:51.495427Z",
     "iopub.status.busy": "2024-06-04T12:17:51.495029Z",
     "iopub.status.idle": "2024-06-04T12:17:53.618447Z",
     "shell.execute_reply": "2024-06-04T12:17:53.617670Z"
    },
    "papermill": {
     "duration": 2.14427,
     "end_time": "2024-06-04T12:17:53.620757",
     "exception": false,
     "start_time": "2024-06-04T12:17:51.476487",
     "status": "completed"
    },
    "tags": []
   },
   "outputs": [],
   "source": [
    "import pandas as pd\n",
    "import re\n",
    "from sklearn.model_selection import train_test_split\n",
    "from datasets import Dataset, DatasetDict"
   ]
  },
  {
   "cell_type": "code",
   "execution_count": 15,
   "id": "b712265d",
   "metadata": {
    "execution": {
     "iopub.execute_input": "2024-06-04T12:17:53.656908Z",
     "iopub.status.busy": "2024-06-04T12:17:53.656470Z",
     "iopub.status.idle": "2024-06-04T12:17:53.662272Z",
     "shell.execute_reply": "2024-06-04T12:17:53.661427Z"
    },
    "papermill": {
     "duration": 0.025822,
     "end_time": "2024-06-04T12:17:53.664102",
     "exception": false,
     "start_time": "2024-06-04T12:17:53.638280",
     "status": "completed"
    },
    "tags": []
   },
   "outputs": [
    {
     "data": {
      "text/plain": [
       "Index(['Content', 'bert_concepts'], dtype='object')"
      ]
     },
     "execution_count": 15,
     "metadata": {},
     "output_type": "execute_result"
    }
   ],
   "source": [
    "df.columns"
   ]
  },
  {
   "cell_type": "code",
   "execution_count": 16,
   "id": "3f68b760",
   "metadata": {
    "execution": {
     "iopub.execute_input": "2024-06-04T12:17:53.699603Z",
     "iopub.status.busy": "2024-06-04T12:17:53.699365Z",
     "iopub.status.idle": "2024-06-04T12:17:53.711320Z",
     "shell.execute_reply": "2024-06-04T12:17:53.710470Z"
    },
    "papermill": {
     "duration": 0.031817,
     "end_time": "2024-06-04T12:17:53.713113",
     "exception": false,
     "start_time": "2024-06-04T12:17:53.681296",
     "status": "completed"
    },
    "tags": []
   },
   "outputs": [],
   "source": [
    "\n",
    "df['bert_concepts'] = df['bert_concepts'].apply(lambda x: x.split(', ')) # make list of words\n",
    "all_concepts = set(concept for row in df['bert_concepts'] for concept in row) # Create a list of all unique concepts\n"
   ]
  },
  {
   "cell_type": "code",
   "execution_count": 17,
   "id": "c2ac6f5b",
   "metadata": {
    "execution": {
     "iopub.execute_input": "2024-06-04T12:17:53.789206Z",
     "iopub.status.busy": "2024-06-04T12:17:53.788557Z",
     "iopub.status.idle": "2024-06-04T12:17:53.795207Z",
     "shell.execute_reply": "2024-06-04T12:17:53.794365Z"
    },
    "papermill": {
     "duration": 0.066832,
     "end_time": "2024-06-04T12:17:53.797138",
     "exception": false,
     "start_time": "2024-06-04T12:17:53.730306",
     "status": "completed"
    },
    "tags": []
   },
   "outputs": [
    {
     "data": {
      "text/plain": [
       "{'aml',\n",
       " 'anti-bribery',\n",
       " 'audit',\n",
       " 'authority',\n",
       " 'beneficiary information',\n",
       " 'cdd',\n",
       " 'cft',\n",
       " 'circular',\n",
       " 'client',\n",
       " 'code of conduct',\n",
       " 'compliance',\n",
       " 'conduct',\n",
       " 'controls',\n",
       " 'criminal',\n",
       " 'disclosure',\n",
       " 'dlt',\n",
       " 'due diligence',\n",
       " 'entities',\n",
       " 'guideline',\n",
       " 'identity',\n",
       " 'insider dealing',\n",
       " 'investor',\n",
       " 'investor protection',\n",
       " 'kyc',\n",
       " 'legal',\n",
       " 'legislation',\n",
       " 'license',\n",
       " 'monitoring',\n",
       " 'operator',\n",
       " 'oversight',\n",
       " 'pep',\n",
       " 'person',\n",
       " 'policies',\n",
       " 'policy',\n",
       " 'record keeping',\n",
       " 'regulations',\n",
       " 'regulator',\n",
       " 'reporting',\n",
       " 'requirements',\n",
       " 'risk assessment',\n",
       " 'risk management',\n",
       " 'risks',\n",
       " 'rulebook',\n",
       " 'rules',\n",
       " 'safeguard',\n",
       " 'sanctions',\n",
       " 'screening',\n",
       " 'suspicious transactions',\n",
       " 'transaction',\n",
       " 'transactions',\n",
       " 'transfer',\n",
       " 'travel rule',\n",
       " 'vasp',\n",
       " 'vasps',\n",
       " 'virtual assets'}"
      ]
     },
     "execution_count": 17,
     "metadata": {},
     "output_type": "execute_result"
    }
   ],
   "source": [
    "all_concepts"
   ]
  },
  {
   "cell_type": "code",
   "execution_count": 18,
   "id": "096bc984",
   "metadata": {
    "execution": {
     "iopub.execute_input": "2024-06-04T12:17:53.833140Z",
     "iopub.status.busy": "2024-06-04T12:17:53.832818Z",
     "iopub.status.idle": "2024-06-04T12:17:55.578702Z",
     "shell.execute_reply": "2024-06-04T12:17:55.577870Z"
    },
    "papermill": {
     "duration": 1.766551,
     "end_time": "2024-06-04T12:17:55.581079",
     "exception": false,
     "start_time": "2024-06-04T12:17:53.814528",
     "status": "completed"
    },
    "tags": []
   },
   "outputs": [],
   "source": [
    "# One-hot encode each concept for each row\n",
    "one_hot_encoded_rows = []\n",
    "for index, row in df.iterrows():\n",
    "    one_hot_row = {'Content': row['Content']}\n",
    "    for concept in all_concepts:\n",
    "        one_hot_row[concept] = True if concept in row['bert_concepts'] else False\n",
    "    one_hot_encoded_rows.append(one_hot_row)\n"
   ]
  },
  {
   "cell_type": "code",
   "execution_count": 19,
   "id": "8e919529",
   "metadata": {
    "execution": {
     "iopub.execute_input": "2024-06-04T12:17:55.618316Z",
     "iopub.status.busy": "2024-06-04T12:17:55.618014Z",
     "iopub.status.idle": "2024-06-04T12:17:55.627122Z",
     "shell.execute_reply": "2024-06-04T12:17:55.626368Z"
    },
    "papermill": {
     "duration": 0.0291,
     "end_time": "2024-06-04T12:17:55.628875",
     "exception": false,
     "start_time": "2024-06-04T12:17:55.599775",
     "status": "completed"
    },
    "tags": []
   },
   "outputs": [
    {
     "data": {
      "text/plain": [
       "[{'Content': 'the new licensing regime for centralised virtual asset trading platforms under the antimoney laundering and counterterrorist financing ordinance cap 615 amlo will come into effect on 1 june 2023 under the new regime centralised virtual asset trading platforms operating in hong kong will need to apply to the securities and futures commission sfc for a licence under the securities and futures ordinance cap 571 sfo andor the amlo dual licence arrangement',\n",
       "  'aml': True,\n",
       "  'person': False,\n",
       "  'compliance': True,\n",
       "  'travel rule': False,\n",
       "  'virtual assets': True,\n",
       "  'cft': True,\n",
       "  'screening': False,\n",
       "  'legal': False,\n",
       "  'policies': False,\n",
       "  'operator': False,\n",
       "  'circular': False,\n",
       "  'investor protection': False,\n",
       "  'vasp': False,\n",
       "  'license': True,\n",
       "  'record keeping': False,\n",
       "  'dlt': False,\n",
       "  'audit': False,\n",
       "  'risk management': False,\n",
       "  'kyc': False,\n",
       "  'risk assessment': False,\n",
       "  'regulator': True,\n",
       "  'regulations': False,\n",
       "  'requirements': False,\n",
       "  'due diligence': False,\n",
       "  'authority': False,\n",
       "  'rules': False,\n",
       "  'criminal': False,\n",
       "  'client': False,\n",
       "  'transaction': False,\n",
       "  'cdd': False,\n",
       "  'anti-bribery': False,\n",
       "  'oversight': False,\n",
       "  'investor': False,\n",
       "  'vasps': False,\n",
       "  'insider dealing': False,\n",
       "  'policy': False,\n",
       "  'guideline': False,\n",
       "  'legislation': False,\n",
       "  'identity': False,\n",
       "  'controls': False,\n",
       "  'beneficiary information': False,\n",
       "  'pep': False,\n",
       "  'risks': False,\n",
       "  'sanctions': False,\n",
       "  'entities': False,\n",
       "  'safeguard': False,\n",
       "  'reporting': False,\n",
       "  'disclosure': False,\n",
       "  'code of conduct': False,\n",
       "  'suspicious transactions': False,\n",
       "  'transactions': False,\n",
       "  'conduct': False,\n",
       "  'monitoring': False,\n",
       "  'transfer': False,\n",
       "  'rulebook': False},\n",
       " {'Content': 'the sfc is issuing this circular to highlight the following documents and information which assist licence applicants and provide guidance on the new regulatory requirements they also set out the ongoing notification requirements for licensed virtual asset trading platforms',\n",
       "  'aml': False,\n",
       "  'person': False,\n",
       "  'compliance': False,\n",
       "  'travel rule': False,\n",
       "  'virtual assets': True,\n",
       "  'cft': False,\n",
       "  'screening': False,\n",
       "  'legal': False,\n",
       "  'policies': False,\n",
       "  'operator': False,\n",
       "  'circular': True,\n",
       "  'investor protection': False,\n",
       "  'vasp': False,\n",
       "  'license': True,\n",
       "  'record keeping': False,\n",
       "  'dlt': False,\n",
       "  'audit': False,\n",
       "  'risk management': False,\n",
       "  'kyc': False,\n",
       "  'risk assessment': False,\n",
       "  'regulator': True,\n",
       "  'regulations': False,\n",
       "  'requirements': True,\n",
       "  'due diligence': False,\n",
       "  'authority': False,\n",
       "  'rules': False,\n",
       "  'criminal': False,\n",
       "  'client': False,\n",
       "  'transaction': False,\n",
       "  'cdd': False,\n",
       "  'anti-bribery': False,\n",
       "  'oversight': False,\n",
       "  'investor': False,\n",
       "  'vasps': False,\n",
       "  'insider dealing': False,\n",
       "  'policy': False,\n",
       "  'guideline': False,\n",
       "  'legislation': False,\n",
       "  'identity': False,\n",
       "  'controls': False,\n",
       "  'beneficiary information': False,\n",
       "  'pep': False,\n",
       "  'risks': False,\n",
       "  'sanctions': False,\n",
       "  'entities': False,\n",
       "  'safeguard': False,\n",
       "  'reporting': False,\n",
       "  'disclosure': False,\n",
       "  'code of conduct': False,\n",
       "  'suspicious transactions': False,\n",
       "  'transactions': False,\n",
       "  'conduct': False,\n",
       "  'monitoring': False,\n",
       "  'transfer': False,\n",
       "  'rulebook': False}]"
      ]
     },
     "execution_count": 19,
     "metadata": {},
     "output_type": "execute_result"
    }
   ],
   "source": [
    "one_hot_encoded_rows[:2]"
   ]
  },
  {
   "cell_type": "code",
   "execution_count": 20,
   "id": "6cc51c86",
   "metadata": {
    "execution": {
     "iopub.execute_input": "2024-06-04T12:17:55.665284Z",
     "iopub.status.busy": "2024-06-04T12:17:55.665025Z",
     "iopub.status.idle": "2024-06-04T12:17:55.726535Z",
     "shell.execute_reply": "2024-06-04T12:17:55.725864Z"
    },
    "papermill": {
     "duration": 0.081569,
     "end_time": "2024-06-04T12:17:55.728311",
     "exception": false,
     "start_time": "2024-06-04T12:17:55.646742",
     "status": "completed"
    },
    "tags": []
   },
   "outputs": [],
   "source": [
    "df = pd.DataFrame(one_hot_encoded_rows)"
   ]
  },
  {
   "cell_type": "code",
   "execution_count": 21,
   "id": "d4de4d87",
   "metadata": {
    "execution": {
     "iopub.execute_input": "2024-06-04T12:17:55.764708Z",
     "iopub.status.busy": "2024-06-04T12:17:55.764458Z",
     "iopub.status.idle": "2024-06-04T12:17:55.783854Z",
     "shell.execute_reply": "2024-06-04T12:17:55.783010Z"
    },
    "papermill": {
     "duration": 0.039772,
     "end_time": "2024-06-04T12:17:55.785769",
     "exception": false,
     "start_time": "2024-06-04T12:17:55.745997",
     "status": "completed"
    },
    "tags": []
   },
   "outputs": [
    {
     "data": {
      "text/html": [
       "<div>\n",
       "<style scoped>\n",
       "    .dataframe tbody tr th:only-of-type {\n",
       "        vertical-align: middle;\n",
       "    }\n",
       "\n",
       "    .dataframe tbody tr th {\n",
       "        vertical-align: top;\n",
       "    }\n",
       "\n",
       "    .dataframe thead th {\n",
       "        text-align: right;\n",
       "    }\n",
       "</style>\n",
       "<table border=\"1\" class=\"dataframe\">\n",
       "  <thead>\n",
       "    <tr style=\"text-align: right;\">\n",
       "      <th></th>\n",
       "      <th>Content</th>\n",
       "      <th>aml</th>\n",
       "      <th>person</th>\n",
       "      <th>compliance</th>\n",
       "      <th>travel rule</th>\n",
       "      <th>virtual assets</th>\n",
       "      <th>cft</th>\n",
       "      <th>screening</th>\n",
       "      <th>legal</th>\n",
       "      <th>policies</th>\n",
       "      <th>...</th>\n",
       "      <th>safeguard</th>\n",
       "      <th>reporting</th>\n",
       "      <th>disclosure</th>\n",
       "      <th>code of conduct</th>\n",
       "      <th>suspicious transactions</th>\n",
       "      <th>transactions</th>\n",
       "      <th>conduct</th>\n",
       "      <th>monitoring</th>\n",
       "      <th>transfer</th>\n",
       "      <th>rulebook</th>\n",
       "    </tr>\n",
       "  </thead>\n",
       "  <tbody>\n",
       "    <tr>\n",
       "      <th>0</th>\n",
       "      <td>the new licensing regime for centralised virtu...</td>\n",
       "      <td>True</td>\n",
       "      <td>False</td>\n",
       "      <td>True</td>\n",
       "      <td>False</td>\n",
       "      <td>True</td>\n",
       "      <td>True</td>\n",
       "      <td>False</td>\n",
       "      <td>False</td>\n",
       "      <td>False</td>\n",
       "      <td>...</td>\n",
       "      <td>False</td>\n",
       "      <td>False</td>\n",
       "      <td>False</td>\n",
       "      <td>False</td>\n",
       "      <td>False</td>\n",
       "      <td>False</td>\n",
       "      <td>False</td>\n",
       "      <td>False</td>\n",
       "      <td>False</td>\n",
       "      <td>False</td>\n",
       "    </tr>\n",
       "    <tr>\n",
       "      <th>1</th>\n",
       "      <td>the sfc is issuing this circular to highlight ...</td>\n",
       "      <td>False</td>\n",
       "      <td>False</td>\n",
       "      <td>False</td>\n",
       "      <td>False</td>\n",
       "      <td>True</td>\n",
       "      <td>False</td>\n",
       "      <td>False</td>\n",
       "      <td>False</td>\n",
       "      <td>False</td>\n",
       "      <td>...</td>\n",
       "      <td>False</td>\n",
       "      <td>False</td>\n",
       "      <td>False</td>\n",
       "      <td>False</td>\n",
       "      <td>False</td>\n",
       "      <td>False</td>\n",
       "      <td>False</td>\n",
       "      <td>False</td>\n",
       "      <td>False</td>\n",
       "      <td>False</td>\n",
       "    </tr>\n",
       "    <tr>\n",
       "      <th>2</th>\n",
       "      <td>the sfc has published the following guidelines...</td>\n",
       "      <td>False</td>\n",
       "      <td>False</td>\n",
       "      <td>False</td>\n",
       "      <td>False</td>\n",
       "      <td>True</td>\n",
       "      <td>False</td>\n",
       "      <td>False</td>\n",
       "      <td>False</td>\n",
       "      <td>False</td>\n",
       "      <td>...</td>\n",
       "      <td>False</td>\n",
       "      <td>False</td>\n",
       "      <td>False</td>\n",
       "      <td>False</td>\n",
       "      <td>False</td>\n",
       "      <td>False</td>\n",
       "      <td>False</td>\n",
       "      <td>False</td>\n",
       "      <td>False</td>\n",
       "      <td>False</td>\n",
       "    </tr>\n",
       "  </tbody>\n",
       "</table>\n",
       "<p>3 rows × 56 columns</p>\n",
       "</div>"
      ],
      "text/plain": [
       "                                             Content    aml  person  \\\n",
       "0  the new licensing regime for centralised virtu...   True   False   \n",
       "1  the sfc is issuing this circular to highlight ...  False   False   \n",
       "2  the sfc has published the following guidelines...  False   False   \n",
       "\n",
       "   compliance  travel rule  virtual assets    cft  screening  legal  policies  \\\n",
       "0        True        False            True   True      False  False     False   \n",
       "1       False        False            True  False      False  False     False   \n",
       "2       False        False            True  False      False  False     False   \n",
       "\n",
       "   ...  safeguard  reporting  disclosure  code of conduct  \\\n",
       "0  ...      False      False       False            False   \n",
       "1  ...      False      False       False            False   \n",
       "2  ...      False      False       False            False   \n",
       "\n",
       "   suspicious transactions  transactions  conduct  monitoring  transfer  \\\n",
       "0                    False         False    False       False     False   \n",
       "1                    False         False    False       False     False   \n",
       "2                    False         False    False       False     False   \n",
       "\n",
       "   rulebook  \n",
       "0     False  \n",
       "1     False  \n",
       "2     False  \n",
       "\n",
       "[3 rows x 56 columns]"
      ]
     },
     "execution_count": 21,
     "metadata": {},
     "output_type": "execute_result"
    }
   ],
   "source": [
    "df.head(3)"
   ]
  },
  {
   "cell_type": "code",
   "execution_count": 22,
   "id": "028e9932",
   "metadata": {
    "execution": {
     "iopub.execute_input": "2024-06-04T12:17:55.823414Z",
     "iopub.status.busy": "2024-06-04T12:17:55.822857Z",
     "iopub.status.idle": "2024-06-04T12:17:55.826664Z",
     "shell.execute_reply": "2024-06-04T12:17:55.825802Z"
    },
    "papermill": {
     "duration": 0.024408,
     "end_time": "2024-06-04T12:17:55.828495",
     "exception": false,
     "start_time": "2024-06-04T12:17:55.804087",
     "status": "completed"
    },
    "tags": []
   },
   "outputs": [],
   "source": [
    "import pandas as pd\n",
    "from datasets import Dataset"
   ]
  },
  {
   "cell_type": "code",
   "execution_count": 23,
   "id": "b385c69d",
   "metadata": {
    "execution": {
     "iopub.execute_input": "2024-06-04T12:17:55.865533Z",
     "iopub.status.busy": "2024-06-04T12:17:55.864870Z",
     "iopub.status.idle": "2024-06-04T12:17:56.058786Z",
     "shell.execute_reply": "2024-06-04T12:17:56.058019Z"
    },
    "papermill": {
     "duration": 0.214694,
     "end_time": "2024-06-04T12:17:56.060960",
     "exception": false,
     "start_time": "2024-06-04T12:17:55.846266",
     "status": "completed"
    },
    "tags": []
   },
   "outputs": [],
   "source": [
    "#Splitting DataFrame into train, test, and validation sets\n",
    "train_df, test_valid_df = train_test_split(df, test_size=0.3, random_state=42)\n",
    "test_df, validation_df = train_test_split(test_valid_df, test_size=0.33, random_state=42)\n",
    "\n",
    "# Convert DataFrames to Hugging Face Datasets\n",
    "train_dataset = Dataset.from_pandas(train_df)\n",
    "test_dataset = Dataset.from_pandas(test_df)\n",
    "validation_dataset = Dataset.from_pandas(validation_df)\n",
    "\n",
    "# Create DatasetDict\n",
    "dataset = DatasetDict({\n",
    "    \"train\": train_dataset,\n",
    "    \"test\": test_dataset,\n",
    "    \"validation\": validation_dataset\n",
    "})\n",
    "\n",
    "\n"
   ]
  },
  {
   "cell_type": "code",
   "execution_count": 24,
   "id": "e038c467",
   "metadata": {
    "execution": {
     "iopub.execute_input": "2024-06-04T12:17:56.098683Z",
     "iopub.status.busy": "2024-06-04T12:17:56.098385Z",
     "iopub.status.idle": "2024-06-04T12:17:56.104012Z",
     "shell.execute_reply": "2024-06-04T12:17:56.103065Z"
    },
    "papermill": {
     "duration": 0.026514,
     "end_time": "2024-06-04T12:17:56.105987",
     "exception": false,
     "start_time": "2024-06-04T12:17:56.079473",
     "status": "completed"
    },
    "tags": []
   },
   "outputs": [
    {
     "data": {
      "text/plain": [
       "DatasetDict({\n",
       "    train: Dataset({\n",
       "        features: ['Content', 'aml', 'person', 'compliance', 'travel rule', 'virtual assets', 'cft', 'screening', 'legal', 'policies', 'operator', 'circular', 'investor protection', 'vasp', 'license', 'record keeping', 'dlt', 'audit', 'risk management', 'kyc', 'risk assessment', 'regulator', 'regulations', 'requirements', 'due diligence', 'authority', 'rules', 'criminal', 'client', 'transaction', 'cdd', 'anti-bribery', 'oversight', 'investor', 'vasps', 'insider dealing', 'policy', 'guideline', 'legislation', 'identity', 'controls', 'beneficiary information', 'pep', 'risks', 'sanctions', 'entities', 'safeguard', 'reporting', 'disclosure', 'code of conduct', 'suspicious transactions', 'transactions', 'conduct', 'monitoring', 'transfer', 'rulebook', '__index_level_0__'],\n",
       "        num_rows: 3769\n",
       "    })\n",
       "    test: Dataset({\n",
       "        features: ['Content', 'aml', 'person', 'compliance', 'travel rule', 'virtual assets', 'cft', 'screening', 'legal', 'policies', 'operator', 'circular', 'investor protection', 'vasp', 'license', 'record keeping', 'dlt', 'audit', 'risk management', 'kyc', 'risk assessment', 'regulator', 'regulations', 'requirements', 'due diligence', 'authority', 'rules', 'criminal', 'client', 'transaction', 'cdd', 'anti-bribery', 'oversight', 'investor', 'vasps', 'insider dealing', 'policy', 'guideline', 'legislation', 'identity', 'controls', 'beneficiary information', 'pep', 'risks', 'sanctions', 'entities', 'safeguard', 'reporting', 'disclosure', 'code of conduct', 'suspicious transactions', 'transactions', 'conduct', 'monitoring', 'transfer', 'rulebook', '__index_level_0__'],\n",
       "        num_rows: 1082\n",
       "    })\n",
       "    validation: Dataset({\n",
       "        features: ['Content', 'aml', 'person', 'compliance', 'travel rule', 'virtual assets', 'cft', 'screening', 'legal', 'policies', 'operator', 'circular', 'investor protection', 'vasp', 'license', 'record keeping', 'dlt', 'audit', 'risk management', 'kyc', 'risk assessment', 'regulator', 'regulations', 'requirements', 'due diligence', 'authority', 'rules', 'criminal', 'client', 'transaction', 'cdd', 'anti-bribery', 'oversight', 'investor', 'vasps', 'insider dealing', 'policy', 'guideline', 'legislation', 'identity', 'controls', 'beneficiary information', 'pep', 'risks', 'sanctions', 'entities', 'safeguard', 'reporting', 'disclosure', 'code of conduct', 'suspicious transactions', 'transactions', 'conduct', 'monitoring', 'transfer', 'rulebook', '__index_level_0__'],\n",
       "        num_rows: 534\n",
       "    })\n",
       "})"
      ]
     },
     "execution_count": 24,
     "metadata": {},
     "output_type": "execute_result"
    }
   ],
   "source": [
    "dataset"
   ]
  },
  {
   "cell_type": "code",
   "execution_count": 25,
   "id": "ffcc683e",
   "metadata": {
    "execution": {
     "iopub.execute_input": "2024-06-04T12:17:56.143628Z",
     "iopub.status.busy": "2024-06-04T12:17:56.143361Z",
     "iopub.status.idle": "2024-06-04T12:17:58.396709Z",
     "shell.execute_reply": "2024-06-04T12:17:58.395827Z"
    },
    "papermill": {
     "duration": 2.274682,
     "end_time": "2024-06-04T12:17:58.398923",
     "exception": false,
     "start_time": "2024-06-04T12:17:56.124241",
     "status": "completed"
    },
    "tags": []
   },
   "outputs": [
    {
     "data": {
      "text/plain": [
       "[{'Content': 'a shall not by itself render that person liable to any judicial or other proceedings but in any proceedings under the sfo andor the amlo before any court these guidelines shall be admissible in evidence and if any provision set out in these guidelines appears to the court to be relevant to any question arising in the proceedings it shall be taken into account in determining the question and',\n",
       "  'aml': True,\n",
       "  'person': False,\n",
       "  'compliance': False,\n",
       "  'travel rule': False,\n",
       "  'virtual assets': False,\n",
       "  'cft': False,\n",
       "  'screening': False,\n",
       "  'legal': False,\n",
       "  'policies': False,\n",
       "  'operator': False,\n",
       "  'circular': False,\n",
       "  'investor protection': False,\n",
       "  'vasp': False,\n",
       "  'license': False,\n",
       "  'record keeping': False,\n",
       "  'dlt': False,\n",
       "  'audit': False,\n",
       "  'risk management': False,\n",
       "  'kyc': False,\n",
       "  'risk assessment': False,\n",
       "  'regulator': False,\n",
       "  'regulations': False,\n",
       "  'requirements': False,\n",
       "  'due diligence': False,\n",
       "  'authority': False,\n",
       "  'rules': False,\n",
       "  'criminal': False,\n",
       "  'client': False,\n",
       "  'transaction': False,\n",
       "  'cdd': False,\n",
       "  'anti-bribery': False,\n",
       "  'oversight': False,\n",
       "  'investor': False,\n",
       "  'vasps': False,\n",
       "  'insider dealing': False,\n",
       "  'policy': False,\n",
       "  'guideline': True,\n",
       "  'legislation': False,\n",
       "  'identity': False,\n",
       "  'controls': False,\n",
       "  'beneficiary information': False,\n",
       "  'pep': False,\n",
       "  'risks': False,\n",
       "  'sanctions': False,\n",
       "  'entities': False,\n",
       "  'safeguard': False,\n",
       "  'reporting': False,\n",
       "  'disclosure': False,\n",
       "  'code of conduct': False,\n",
       "  'suspicious transactions': False,\n",
       "  'transactions': False,\n",
       "  'conduct': False,\n",
       "  'monitoring': False,\n",
       "  'transfer': False,\n",
       "  'rulebook': False,\n",
       "  '__index_level_0__': 4768},\n",
       " {'Content': 'as mentioned transactions in the securities sector may prove attractive to money launderers due to the liquidity of the reference markets the combination of the ability to readily liquidate investment portfolios procured with both licit and illicit proceeds the ability to conceal the source of the illicit proceeds the availability of a vast array of possible investment mediums and the ease with which transfers can be effected between them offers money launderers attractive ways to effectively integrate criminal proceeds into the general economy',\n",
       "  'aml': True,\n",
       "  'person': False,\n",
       "  'compliance': False,\n",
       "  'travel rule': False,\n",
       "  'virtual assets': True,\n",
       "  'cft': False,\n",
       "  'screening': False,\n",
       "  'legal': False,\n",
       "  'policies': False,\n",
       "  'operator': False,\n",
       "  'circular': False,\n",
       "  'investor protection': False,\n",
       "  'vasp': False,\n",
       "  'license': False,\n",
       "  'record keeping': False,\n",
       "  'dlt': False,\n",
       "  'audit': False,\n",
       "  'risk management': False,\n",
       "  'kyc': False,\n",
       "  'risk assessment': False,\n",
       "  'regulator': False,\n",
       "  'regulations': False,\n",
       "  'requirements': False,\n",
       "  'due diligence': False,\n",
       "  'authority': False,\n",
       "  'rules': False,\n",
       "  'criminal': True,\n",
       "  'client': False,\n",
       "  'transaction': False,\n",
       "  'cdd': False,\n",
       "  'anti-bribery': False,\n",
       "  'oversight': False,\n",
       "  'investor': False,\n",
       "  'vasps': False,\n",
       "  'insider dealing': False,\n",
       "  'policy': False,\n",
       "  'guideline': False,\n",
       "  'legislation': False,\n",
       "  'identity': False,\n",
       "  'controls': False,\n",
       "  'beneficiary information': False,\n",
       "  'pep': False,\n",
       "  'risks': False,\n",
       "  'sanctions': False,\n",
       "  'entities': False,\n",
       "  'safeguard': False,\n",
       "  'reporting': False,\n",
       "  'disclosure': False,\n",
       "  'code of conduct': False,\n",
       "  'suspicious transactions': False,\n",
       "  'transactions': False,\n",
       "  'conduct': False,\n",
       "  'monitoring': False,\n",
       "  'transfer': True,\n",
       "  'rulebook': False,\n",
       "  '__index_level_0__': 2053}]"
      ]
     },
     "execution_count": 25,
     "metadata": {},
     "output_type": "execute_result"
    }
   ],
   "source": [
    "[i for i in dataset['train']][:2]"
   ]
  },
  {
   "cell_type": "markdown",
   "id": "1ca702e7",
   "metadata": {
    "papermill": {
     "duration": 0.018263,
     "end_time": "2024-06-04T12:17:58.436104",
     "exception": false,
     "start_time": "2024-06-04T12:17:58.417841",
     "status": "completed"
    },
    "tags": []
   },
   "source": [
    "# Data Ready Now Training"
   ]
  },
  {
   "cell_type": "code",
   "execution_count": 26,
   "id": "7818b838",
   "metadata": {
    "execution": {
     "iopub.execute_input": "2024-06-04T12:17:58.473736Z",
     "iopub.status.busy": "2024-06-04T12:17:58.473455Z",
     "iopub.status.idle": "2024-06-04T12:18:01.455158Z",
     "shell.execute_reply": "2024-06-04T12:18:01.453931Z"
    },
    "papermill": {
     "duration": 3.003137,
     "end_time": "2024-06-04T12:18:01.457458",
     "exception": false,
     "start_time": "2024-06-04T12:17:58.454321",
     "status": "completed"
    },
    "tags": []
   },
   "outputs": [
    {
     "name": "stdout",
     "output_type": "stream",
     "text": [
      "\u001b[31mERROR: Could not install packages due to an OSError: [Errno 2] No such file or directory: '/opt/conda/lib/python3.10/site-packages/aiohttp-3.9.1.dist-info/METADATA'\r\n",
      "\u001b[0m\u001b[31m\r\n",
      "\u001b[0m"
     ]
    }
   ],
   "source": [
    "!pip install -q transformers datasets"
   ]
  },
  {
   "cell_type": "markdown",
   "id": "1243099b",
   "metadata": {
    "papermill": {
     "duration": 0.019549,
     "end_time": "2024-06-04T12:18:01.496314",
     "exception": false,
     "start_time": "2024-06-04T12:18:01.476765",
     "status": "completed"
    },
    "tags": []
   },
   "source": [
    "Add a linear layer on top of the base model, which is used to produce a tensor of shape (batch_size, num_labels), indicating the unnormalized scores for a number of labels for every example in the batch."
   ]
  },
  {
   "cell_type": "markdown",
   "id": "22f5163f",
   "metadata": {
    "papermill": {
     "duration": 0.018124,
     "end_time": "2024-06-04T12:18:01.532753",
     "exception": false,
     "start_time": "2024-06-04T12:18:01.514629",
     "status": "completed"
    },
    "tags": []
   },
   "source": [
    "### List containing all the labels"
   ]
  },
  {
   "cell_type": "code",
   "execution_count": 27,
   "id": "9847fd64",
   "metadata": {
    "execution": {
     "iopub.execute_input": "2024-06-04T12:18:01.570998Z",
     "iopub.status.busy": "2024-06-04T12:18:01.570649Z",
     "iopub.status.idle": "2024-06-04T12:18:01.580916Z",
     "shell.execute_reply": "2024-06-04T12:18:01.580064Z"
    },
    "papermill": {
     "duration": 0.031599,
     "end_time": "2024-06-04T12:18:01.582737",
     "exception": false,
     "start_time": "2024-06-04T12:18:01.551138",
     "status": "completed"
    },
    "tags": []
   },
   "outputs": [
    {
     "data": {
      "text/plain": [
       "['aml',\n",
       " 'person',\n",
       " 'compliance',\n",
       " 'travel rule',\n",
       " 'virtual assets',\n",
       " 'cft',\n",
       " 'screening',\n",
       " 'legal',\n",
       " 'policies',\n",
       " 'operator',\n",
       " 'circular',\n",
       " 'investor protection',\n",
       " 'vasp',\n",
       " 'license',\n",
       " 'record keeping',\n",
       " 'dlt',\n",
       " 'audit',\n",
       " 'risk management',\n",
       " 'kyc',\n",
       " 'risk assessment',\n",
       " 'regulator',\n",
       " 'regulations',\n",
       " 'requirements',\n",
       " 'due diligence',\n",
       " 'authority',\n",
       " 'rules',\n",
       " 'criminal',\n",
       " 'client',\n",
       " 'transaction',\n",
       " 'cdd',\n",
       " 'anti-bribery',\n",
       " 'oversight',\n",
       " 'investor',\n",
       " 'vasps',\n",
       " 'insider dealing',\n",
       " 'policy',\n",
       " 'guideline',\n",
       " 'legislation',\n",
       " 'identity',\n",
       " 'controls',\n",
       " 'beneficiary information',\n",
       " 'pep',\n",
       " 'risks',\n",
       " 'sanctions',\n",
       " 'entities',\n",
       " 'safeguard',\n",
       " 'reporting',\n",
       " 'disclosure',\n",
       " 'code of conduct',\n",
       " 'suspicious transactions',\n",
       " 'transactions',\n",
       " 'conduct',\n",
       " 'monitoring',\n",
       " 'transfer',\n",
       " 'rulebook']"
      ]
     },
     "execution_count": 27,
     "metadata": {},
     "output_type": "execute_result"
    }
   ],
   "source": [
    "labels = [label for label in dataset['train'].features.keys() if label not in ['Content','__index_level_0__']]\n",
    "#Create 2 dictionaries that map labels to integers and back.\n",
    "id2label = {idx:label for idx, label in enumerate(labels)}\n",
    "label2id = {label:idx for idx, label in enumerate(labels)}\n",
    "labels"
   ]
  },
  {
   "cell_type": "code",
   "execution_count": 28,
   "id": "ab90327e",
   "metadata": {
    "execution": {
     "iopub.execute_input": "2024-06-04T12:18:01.621305Z",
     "iopub.status.busy": "2024-06-04T12:18:01.621004Z",
     "iopub.status.idle": "2024-06-04T12:18:01.627895Z",
     "shell.execute_reply": "2024-06-04T12:18:01.627065Z"
    },
    "papermill": {
     "duration": 0.0285,
     "end_time": "2024-06-04T12:18:01.629794",
     "exception": false,
     "start_time": "2024-06-04T12:18:01.601294",
     "status": "completed"
    },
    "tags": []
   },
   "outputs": [
    {
     "data": {
      "text/plain": [
       "{0: 'aml',\n",
       " 1: 'person',\n",
       " 2: 'compliance',\n",
       " 3: 'travel rule',\n",
       " 4: 'virtual assets',\n",
       " 5: 'cft',\n",
       " 6: 'screening',\n",
       " 7: 'legal',\n",
       " 8: 'policies',\n",
       " 9: 'operator',\n",
       " 10: 'circular',\n",
       " 11: 'investor protection',\n",
       " 12: 'vasp',\n",
       " 13: 'license',\n",
       " 14: 'record keeping',\n",
       " 15: 'dlt',\n",
       " 16: 'audit',\n",
       " 17: 'risk management',\n",
       " 18: 'kyc',\n",
       " 19: 'risk assessment',\n",
       " 20: 'regulator',\n",
       " 21: 'regulations',\n",
       " 22: 'requirements',\n",
       " 23: 'due diligence',\n",
       " 24: 'authority',\n",
       " 25: 'rules',\n",
       " 26: 'criminal',\n",
       " 27: 'client',\n",
       " 28: 'transaction',\n",
       " 29: 'cdd',\n",
       " 30: 'anti-bribery',\n",
       " 31: 'oversight',\n",
       " 32: 'investor',\n",
       " 33: 'vasps',\n",
       " 34: 'insider dealing',\n",
       " 35: 'policy',\n",
       " 36: 'guideline',\n",
       " 37: 'legislation',\n",
       " 38: 'identity',\n",
       " 39: 'controls',\n",
       " 40: 'beneficiary information',\n",
       " 41: 'pep',\n",
       " 42: 'risks',\n",
       " 43: 'sanctions',\n",
       " 44: 'entities',\n",
       " 45: 'safeguard',\n",
       " 46: 'reporting',\n",
       " 47: 'disclosure',\n",
       " 48: 'code of conduct',\n",
       " 49: 'suspicious transactions',\n",
       " 50: 'transactions',\n",
       " 51: 'conduct',\n",
       " 52: 'monitoring',\n",
       " 53: 'transfer',\n",
       " 54: 'rulebook'}"
      ]
     },
     "execution_count": 28,
     "metadata": {},
     "output_type": "execute_result"
    }
   ],
   "source": [
    "id2label"
   ]
  },
  {
   "cell_type": "code",
   "execution_count": null,
   "id": "7237f838",
   "metadata": {
    "papermill": {
     "duration": 0.018472,
     "end_time": "2024-06-04T12:18:01.666809",
     "exception": false,
     "start_time": "2024-06-04T12:18:01.648337",
     "status": "completed"
    },
    "tags": []
   },
   "outputs": [],
   "source": []
  },
  {
   "cell_type": "markdown",
   "id": "8d7d7337",
   "metadata": {
    "papermill": {
     "duration": 0.018361,
     "end_time": "2024-06-04T12:18:01.703767",
     "exception": false,
     "start_time": "2024-06-04T12:18:01.685406",
     "status": "completed"
    },
    "tags": []
   },
   "source": [
    "# Tokenization"
   ]
  },
  {
   "cell_type": "markdown",
   "id": "42d9b459",
   "metadata": {
    "papermill": {
     "duration": 0.020982,
     "end_time": "2024-06-04T12:18:01.743298",
     "exception": false,
     "start_time": "2024-06-04T12:18:01.722316",
     "status": "completed"
    },
    "tags": []
   },
   "source": [
    "### As models like BERT don't expect text as direct input, but rather input_ids, etc., we tokenize the text using the tokenizer. We will use AutoTokenizer API, which will automatically load the appropriate tokenizer based on the checkpoint on the hub.\n",
    "\n",
    "### What's a bit tricky is that we also need to provide labels to the model. For multi-label text classification, this is a matrix of shape (batch_size, num_labels). Also important: this should be a tensor of floats rather than integers, otherwise PyTorch' BCEWithLogitsLoss (which the model will use) will complain"
   ]
  },
  {
   "cell_type": "code",
   "execution_count": 29,
   "id": "6b7a52e1",
   "metadata": {
    "execution": {
     "iopub.execute_input": "2024-06-04T12:18:01.789189Z",
     "iopub.status.busy": "2024-06-04T12:18:01.788439Z",
     "iopub.status.idle": "2024-06-04T12:18:07.204405Z",
     "shell.execute_reply": "2024-06-04T12:18:07.203384Z"
    },
    "papermill": {
     "duration": 5.441365,
     "end_time": "2024-06-04T12:18:07.206569",
     "exception": false,
     "start_time": "2024-06-04T12:18:01.765204",
     "status": "completed"
    },
    "tags": []
   },
   "outputs": [
    {
     "data": {
      "application/vnd.jupyter.widget-view+json": {
       "model_id": "27b8fdd0ee104be09f2c38cd2ce35ae8",
       "version_major": 2,
       "version_minor": 0
      },
      "text/plain": [
       "tokenizer_config.json:   0%|          | 0.00/252 [00:00<?, ?B/s]"
      ]
     },
     "metadata": {},
     "output_type": "display_data"
    },
    {
     "name": "stderr",
     "output_type": "stream",
     "text": [
      "/opt/conda/lib/python3.10/site-packages/huggingface_hub/file_download.py:1132: FutureWarning: `resume_download` is deprecated and will be removed in version 1.0.0. Downloads always resume when possible. If you want to force a new download, use `force_download=True`.\n",
      "  warnings.warn(\n"
     ]
    },
    {
     "data": {
      "application/vnd.jupyter.widget-view+json": {
       "model_id": "7894ef6ec2b7492f8ca85148565c6b9b",
       "version_major": 2,
       "version_minor": 0
      },
      "text/plain": [
       "config.json:   0%|          | 0.00/758 [00:00<?, ?B/s]"
      ]
     },
     "metadata": {},
     "output_type": "display_data"
    },
    {
     "data": {
      "application/vnd.jupyter.widget-view+json": {
       "model_id": "954bdf9626b84c288c5a1a60773b2dbc",
       "version_major": 2,
       "version_minor": 0
      },
      "text/plain": [
       "vocab.txt:   0%|          | 0.00/232k [00:00<?, ?B/s]"
      ]
     },
     "metadata": {},
     "output_type": "display_data"
    },
    {
     "data": {
      "application/vnd.jupyter.widget-view+json": {
       "model_id": "4af58d7cdec24d968dc48d239aa85599",
       "version_major": 2,
       "version_minor": 0
      },
      "text/plain": [
       "special_tokens_map.json:   0%|          | 0.00/112 [00:00<?, ?B/s]"
      ]
     },
     "metadata": {},
     "output_type": "display_data"
    }
   ],
   "source": [
    "from transformers import AutoTokenizer\n",
    "import numpy as np\n",
    "\n",
    "tokenizer = AutoTokenizer.from_pretrained(\"ProsusAI/finbert\")\n",
    "\n",
    "def preprocess_data(examples, max_length=128):\n",
    "  # take a batch of texts\n",
    "  text = examples['Content']\n",
    "  batch_size = len(text)\n",
    "  # encode them\n",
    "  encoding = tokenizer(text, padding=\"max_length\", truncation=True, max_length=max_length)\n",
    "  # add labels\n",
    "  labels_batch = {k: examples[k] for k in examples.keys() if k in labels}\n",
    "  # create numpy array of shape (batch_size, num_labels)\n",
    "  labels_matrix = np.zeros((len(text), len(labels)))\n",
    "  # fill numpy array\n",
    "  for idx, label in enumerate(labels):\n",
    "    labels_matrix[:, idx] = labels_batch[label]\n",
    "\n",
    "  encoding[\"labels\"] = labels_matrix.tolist()\n",
    "  \n",
    "  return encoding"
   ]
  },
  {
   "cell_type": "code",
   "execution_count": 30,
   "id": "a97ea826",
   "metadata": {
    "execution": {
     "iopub.execute_input": "2024-06-04T12:18:07.248794Z",
     "iopub.status.busy": "2024-06-04T12:18:07.248322Z",
     "iopub.status.idle": "2024-06-04T12:18:08.545918Z",
     "shell.execute_reply": "2024-06-04T12:18:08.544811Z"
    },
    "papermill": {
     "duration": 1.321391,
     "end_time": "2024-06-04T12:18:08.548637",
     "exception": false,
     "start_time": "2024-06-04T12:18:07.227246",
     "status": "completed"
    },
    "tags": []
   },
   "outputs": [
    {
     "data": {
      "application/vnd.jupyter.widget-view+json": {
       "model_id": "009a66d6b2f4454882d279dacfdcf583",
       "version_major": 2,
       "version_minor": 0
      },
      "text/plain": [
       "Map:   0%|          | 0/3769 [00:00<?, ? examples/s]"
      ]
     },
     "metadata": {},
     "output_type": "display_data"
    },
    {
     "data": {
      "application/vnd.jupyter.widget-view+json": {
       "model_id": "77239c85b7aa4dd583464745ac858824",
       "version_major": 2,
       "version_minor": 0
      },
      "text/plain": [
       "Map:   0%|          | 0/1082 [00:00<?, ? examples/s]"
      ]
     },
     "metadata": {},
     "output_type": "display_data"
    },
    {
     "data": {
      "application/vnd.jupyter.widget-view+json": {
       "model_id": "70b77d24e4064691aba15413a9529442",
       "version_major": 2,
       "version_minor": 0
      },
      "text/plain": [
       "Map:   0%|          | 0/534 [00:00<?, ? examples/s]"
      ]
     },
     "metadata": {},
     "output_type": "display_data"
    }
   ],
   "source": [
    "encoded_dataset = dataset.map(preprocess_data, batched=True, remove_columns=dataset['train'].column_names)"
   ]
  },
  {
   "cell_type": "code",
   "execution_count": 31,
   "id": "e941b6a7",
   "metadata": {
    "execution": {
     "iopub.execute_input": "2024-06-04T12:18:08.592342Z",
     "iopub.status.busy": "2024-06-04T12:18:08.591355Z",
     "iopub.status.idle": "2024-06-04T12:18:08.598477Z",
     "shell.execute_reply": "2024-06-04T12:18:08.597537Z"
    },
    "papermill": {
     "duration": 0.030755,
     "end_time": "2024-06-04T12:18:08.600460",
     "exception": false,
     "start_time": "2024-06-04T12:18:08.569705",
     "status": "completed"
    },
    "tags": []
   },
   "outputs": [
    {
     "data": {
      "text/plain": [
       "DatasetDict({\n",
       "    train: Dataset({\n",
       "        features: ['input_ids', 'token_type_ids', 'attention_mask', 'labels'],\n",
       "        num_rows: 3769\n",
       "    })\n",
       "    test: Dataset({\n",
       "        features: ['input_ids', 'token_type_ids', 'attention_mask', 'labels'],\n",
       "        num_rows: 1082\n",
       "    })\n",
       "    validation: Dataset({\n",
       "        features: ['input_ids', 'token_type_ids', 'attention_mask', 'labels'],\n",
       "        num_rows: 534\n",
       "    })\n",
       "})"
      ]
     },
     "execution_count": 31,
     "metadata": {},
     "output_type": "execute_result"
    }
   ],
   "source": [
    "encoded_dataset"
   ]
  },
  {
   "cell_type": "code",
   "execution_count": 32,
   "id": "e9791b4b",
   "metadata": {
    "execution": {
     "iopub.execute_input": "2024-06-04T12:18:08.649811Z",
     "iopub.status.busy": "2024-06-04T12:18:08.649499Z",
     "iopub.status.idle": "2024-06-04T12:18:08.655642Z",
     "shell.execute_reply": "2024-06-04T12:18:08.654685Z"
    },
    "papermill": {
     "duration": 0.034015,
     "end_time": "2024-06-04T12:18:08.657964",
     "exception": false,
     "start_time": "2024-06-04T12:18:08.623949",
     "status": "completed"
    },
    "tags": []
   },
   "outputs": [
    {
     "data": {
      "text/plain": [
       "Dataset({\n",
       "    features: ['input_ids', 'token_type_ids', 'attention_mask', 'labels'],\n",
       "    num_rows: 3769\n",
       "})"
      ]
     },
     "execution_count": 32,
     "metadata": {},
     "output_type": "execute_result"
    }
   ],
   "source": [
    "encoded_dataset['train']"
   ]
  },
  {
   "cell_type": "code",
   "execution_count": 33,
   "id": "56a2d723",
   "metadata": {
    "execution": {
     "iopub.execute_input": "2024-06-04T12:18:08.704134Z",
     "iopub.status.busy": "2024-06-04T12:18:08.703764Z",
     "iopub.status.idle": "2024-06-04T12:18:19.297424Z",
     "shell.execute_reply": "2024-06-04T12:18:19.296503Z"
    },
    "papermill": {
     "duration": 10.617372,
     "end_time": "2024-06-04T12:18:19.299553",
     "exception": false,
     "start_time": "2024-06-04T12:18:08.682181",
     "status": "completed"
    },
    "tags": []
   },
   "outputs": [
    {
     "name": "stderr",
     "output_type": "stream",
     "text": [
      "2024-06-04 12:18:10.433349: E external/local_xla/xla/stream_executor/cuda/cuda_dnn.cc:9261] Unable to register cuDNN factory: Attempting to register factory for plugin cuDNN when one has already been registered\n",
      "2024-06-04 12:18:10.433450: E external/local_xla/xla/stream_executor/cuda/cuda_fft.cc:607] Unable to register cuFFT factory: Attempting to register factory for plugin cuFFT when one has already been registered\n",
      "2024-06-04 12:18:10.550093: E external/local_xla/xla/stream_executor/cuda/cuda_blas.cc:1515] Unable to register cuBLAS factory: Attempting to register factory for plugin cuBLAS when one has already been registered\n"
     ]
    },
    {
     "data": {
      "text/plain": [
       "'[CLS] a shall not by itself render that person liable to any judicial or other proceedings but in any proceedings under the sfo andor the amlo before any court these guidelines shall be admissible in evidence and if any provision set out in these guidelines appears to the court to be relevant to any question arising in the proceedings it shall be taken into account in determining the question and [SEP] [PAD] [PAD] [PAD] [PAD] [PAD] [PAD] [PAD] [PAD] [PAD] [PAD] [PAD] [PAD] [PAD] [PAD] [PAD] [PAD] [PAD] [PAD] [PAD] [PAD] [PAD] [PAD] [PAD] [PAD] [PAD] [PAD] [PAD] [PAD] [PAD] [PAD] [PAD] [PAD] [PAD] [PAD] [PAD] [PAD] [PAD] [PAD] [PAD] [PAD] [PAD] [PAD] [PAD] [PAD] [PAD] [PAD] [PAD] [PAD] [PAD] [PAD] [PAD] [PAD] [PAD]'"
      ]
     },
     "execution_count": 33,
     "metadata": {},
     "output_type": "execute_result"
    }
   ],
   "source": [
    "example = encoded_dataset['train'][0]\n",
    "tokenizer.decode(example['input_ids'])"
   ]
  },
  {
   "cell_type": "code",
   "execution_count": 34,
   "id": "b009a02b",
   "metadata": {
    "execution": {
     "iopub.execute_input": "2024-06-04T12:18:19.342206Z",
     "iopub.status.busy": "2024-06-04T12:18:19.341623Z",
     "iopub.status.idle": "2024-06-04T12:18:19.345769Z",
     "shell.execute_reply": "2024-06-04T12:18:19.344783Z"
    },
    "papermill": {
     "duration": 0.027383,
     "end_time": "2024-06-04T12:18:19.347703",
     "exception": false,
     "start_time": "2024-06-04T12:18:19.320320",
     "status": "completed"
    },
    "tags": []
   },
   "outputs": [],
   "source": [
    "#example['labels']"
   ]
  },
  {
   "cell_type": "code",
   "execution_count": 35,
   "id": "d37d78ce",
   "metadata": {
    "execution": {
     "iopub.execute_input": "2024-06-04T12:18:19.390263Z",
     "iopub.status.busy": "2024-06-04T12:18:19.389992Z",
     "iopub.status.idle": "2024-06-04T12:18:19.395761Z",
     "shell.execute_reply": "2024-06-04T12:18:19.394845Z"
    },
    "papermill": {
     "duration": 0.028955,
     "end_time": "2024-06-04T12:18:19.397696",
     "exception": false,
     "start_time": "2024-06-04T12:18:19.368741",
     "status": "completed"
    },
    "tags": []
   },
   "outputs": [],
   "source": [
    "#use id to label dictionary\n",
    "[id2label[idx] for idx, label in enumerate(example['labels']) if label == 1.0]\n",
    "encoded_dataset.set_format(\"torch\") "
   ]
  },
  {
   "cell_type": "markdown",
   "id": "8e6c181d",
   "metadata": {
    "papermill": {
     "duration": 0.020247,
     "end_time": "2024-06-04T12:18:19.438841",
     "exception": false,
     "start_time": "2024-06-04T12:18:19.418594",
     "status": "completed"
    },
    "tags": []
   },
   "source": [
    "### Here we define a model that includes a pre-trained base (i.e. the weights from bert-base-uncased) are loaded, with a random initialized classification head (linear layer) on top. One should fine-tune this head, together with the pre-trained base on a labeled dataset.\n",
    "\n",
    "### We set the problem_type to be \"multi_label_classification\", as this will make sure the appropriate loss function is used (namely BCEWithLogitsLoss). We also make sure the output layer has len(labels) output neurons, and we set the id2label and label2id mappings"
   ]
  },
  {
   "cell_type": "code",
   "execution_count": 36,
   "id": "4b568595",
   "metadata": {
    "execution": {
     "iopub.execute_input": "2024-06-04T12:18:19.480497Z",
     "iopub.status.busy": "2024-06-04T12:18:19.480248Z",
     "iopub.status.idle": "2024-06-04T12:18:24.398634Z",
     "shell.execute_reply": "2024-06-04T12:18:24.397671Z"
    },
    "papermill": {
     "duration": 4.941706,
     "end_time": "2024-06-04T12:18:24.400787",
     "exception": false,
     "start_time": "2024-06-04T12:18:19.459081",
     "status": "completed"
    },
    "tags": []
   },
   "outputs": [
    {
     "data": {
      "application/vnd.jupyter.widget-view+json": {
       "model_id": "abca324efddc4b51b9d2da195c060164",
       "version_major": 2,
       "version_minor": 0
      },
      "text/plain": [
       "pytorch_model.bin:   0%|          | 0.00/438M [00:00<?, ?B/s]"
      ]
     },
     "metadata": {},
     "output_type": "display_data"
    },
    {
     "name": "stderr",
     "output_type": "stream",
     "text": [
      "/opt/conda/lib/python3.10/site-packages/torch/_utils.py:831: UserWarning: TypedStorage is deprecated. It will be removed in the future and UntypedStorage will be the only storage class. This should only matter to you if you are using storages directly.  To access UntypedStorage directly, use tensor.untyped_storage() instead of tensor.storage()\n",
      "  return self.fget.__get__(instance, owner)()\n",
      "Some weights of BertForSequenceClassification were not initialized from the model checkpoint at ProsusAI/finbert and are newly initialized because the shapes did not match:\n",
      "- classifier.weight: found shape torch.Size([3, 768]) in the checkpoint and torch.Size([55, 768]) in the model instantiated\n",
      "- classifier.bias: found shape torch.Size([3]) in the checkpoint and torch.Size([55]) in the model instantiated\n",
      "You should probably TRAIN this model on a down-stream task to be able to use it for predictions and inference.\n"
     ]
    }
   ],
   "source": [
    "from transformers import AutoModelForSequenceClassification\n",
    "\n",
    "model = AutoModelForSequenceClassification.from_pretrained(\"ProsusAI/finbert\", \n",
    "                                                           problem_type=\"multi_label_classification\", \n",
    "                                                           num_labels=len(labels),\n",
    "                                                           id2label=id2label,\n",
    "                                                           label2id=label2id,\n",
    "                                                          ignore_mismatched_sizes=True )"
   ]
  },
  {
   "cell_type": "code",
   "execution_count": 37,
   "id": "8ef8d396",
   "metadata": {
    "execution": {
     "iopub.execute_input": "2024-06-04T12:18:24.445228Z",
     "iopub.status.busy": "2024-06-04T12:18:24.444867Z",
     "iopub.status.idle": "2024-06-04T12:18:24.448991Z",
     "shell.execute_reply": "2024-06-04T12:18:24.448071Z"
    },
    "papermill": {
     "duration": 0.028688,
     "end_time": "2024-06-04T12:18:24.450871",
     "exception": false,
     "start_time": "2024-06-04T12:18:24.422183",
     "status": "completed"
    },
    "tags": []
   },
   "outputs": [],
   "source": [
    "batch_size = 8\n",
    "metric_name = \"f1\""
   ]
  },
  {
   "cell_type": "code",
   "execution_count": 38,
   "id": "1fcb02db",
   "metadata": {
    "execution": {
     "iopub.execute_input": "2024-06-04T12:18:24.494137Z",
     "iopub.status.busy": "2024-06-04T12:18:24.493834Z",
     "iopub.status.idle": "2024-06-04T12:18:24.648608Z",
     "shell.execute_reply": "2024-06-04T12:18:24.647816Z"
    },
    "papermill": {
     "duration": 0.17882,
     "end_time": "2024-06-04T12:18:24.650737",
     "exception": false,
     "start_time": "2024-06-04T12:18:24.471917",
     "status": "completed"
    },
    "tags": []
   },
   "outputs": [
    {
     "name": "stderr",
     "output_type": "stream",
     "text": [
      "/opt/conda/lib/python3.10/site-packages/transformers/training_args.py:1474: FutureWarning: `evaluation_strategy` is deprecated and will be removed in version 4.46 of 🤗 Transformers. Use `eval_strategy` instead\n",
      "  warnings.warn(\n"
     ]
    }
   ],
   "source": [
    "from transformers import TrainingArguments, Trainer\n",
    "\n",
    "args = TrainingArguments(\n",
    "    f\"bert-finetuned-sem_eval-english\",\n",
    "    evaluation_strategy = \"epoch\",\n",
    "    save_strategy = \"epoch\",\n",
    "    learning_rate=2e-5,\n",
    "    per_device_train_batch_size=batch_size,\n",
    "    per_device_eval_batch_size=batch_size,\n",
    "    num_train_epochs=10,\n",
    "    weight_decay=0.01,\n",
    "    load_best_model_at_end=True,\n",
    "    metric_for_best_model=metric_name\n",
    ")"
   ]
  },
  {
   "cell_type": "markdown",
   "id": "327e0ae8",
   "metadata": {
    "papermill": {
     "duration": 0.021159,
     "end_time": "2024-06-04T12:18:24.693398",
     "exception": false,
     "start_time": "2024-06-04T12:18:24.672239",
     "status": "completed"
    },
    "tags": []
   },
   "source": [
    "we need to define a compute_metrics function, that returns a dictionary with the desired metric values.\n",
    "\n",
    "source: https://jesusleal.io/2021/04/21/Longformer-multilabel-classification/"
   ]
  },
  {
   "cell_type": "code",
   "execution_count": 39,
   "id": "58ab6ad1",
   "metadata": {
    "execution": {
     "iopub.execute_input": "2024-06-04T12:18:24.737012Z",
     "iopub.status.busy": "2024-06-04T12:18:24.736703Z",
     "iopub.status.idle": "2024-06-04T12:18:24.744787Z",
     "shell.execute_reply": "2024-06-04T12:18:24.744037Z"
    },
    "papermill": {
     "duration": 0.032124,
     "end_time": "2024-06-04T12:18:24.746681",
     "exception": false,
     "start_time": "2024-06-04T12:18:24.714557",
     "status": "completed"
    },
    "tags": []
   },
   "outputs": [],
   "source": [
    "from sklearn.metrics import f1_score, roc_auc_score, accuracy_score\n",
    "from transformers import EvalPrediction\n",
    "import torch\n",
    "    \n",
    "\n",
    "def multi_label_metrics(predictions, labels, threshold=0.5):\n",
    "    # first, apply sigmoid on predictions which are of shape (batch_size, num_labels)\n",
    "    sigmoid = torch.nn.Sigmoid()\n",
    "    probs = sigmoid(torch.Tensor(predictions))\n",
    "    # next, use threshold to turn them into integer predictions\n",
    "    y_pred = np.zeros(probs.shape)\n",
    "    y_pred[np.where(probs >= threshold)] = 1\n",
    "    # finally, compute metrics\n",
    "    y_true = labels\n",
    "    f1_micro_average = f1_score(y_true=y_true, y_pred=y_pred, average='micro')\n",
    "    roc_auc = roc_auc_score(y_true, y_pred, average = 'micro')\n",
    "    accuracy = accuracy_score(y_true, y_pred)\n",
    "    # return as dictionary\n",
    "    metrics = {'f1': f1_micro_average,\n",
    "               'roc_auc': roc_auc,\n",
    "               'accuracy': accuracy}\n",
    "    return metrics\n",
    "\n",
    "def compute_metrics(p: EvalPrediction):\n",
    "    preds = p.predictions[0] if isinstance(p.predictions, tuple) else p.predictions\n",
    "    result = multi_label_metrics(predictions=preds,labels=p.label_ids)\n",
    "    return result\n",
    "  \n",
    "   \n"
   ]
  },
  {
   "cell_type": "code",
   "execution_count": 40,
   "id": "2a3aab89",
   "metadata": {
    "execution": {
     "iopub.execute_input": "2024-06-04T12:18:24.789799Z",
     "iopub.status.busy": "2024-06-04T12:18:24.789527Z",
     "iopub.status.idle": "2024-06-04T12:18:24.805523Z",
     "shell.execute_reply": "2024-06-04T12:18:24.804682Z"
    },
    "papermill": {
     "duration": 0.039678,
     "end_time": "2024-06-04T12:18:24.807373",
     "exception": false,
     "start_time": "2024-06-04T12:18:24.767695",
     "status": "completed"
    },
    "tags": []
   },
   "outputs": [
    {
     "data": {
      "text/plain": [
       "'torch.FloatTensor'"
      ]
     },
     "execution_count": 40,
     "metadata": {},
     "output_type": "execute_result"
    }
   ],
   "source": [
    "encoded_dataset['train'][0]['labels'].type()"
   ]
  },
  {
   "cell_type": "code",
   "execution_count": 41,
   "id": "e4d51eb9",
   "metadata": {
    "execution": {
     "iopub.execute_input": "2024-06-04T12:18:24.850985Z",
     "iopub.status.busy": "2024-06-04T12:18:24.850708Z",
     "iopub.status.idle": "2024-06-04T12:18:24.867872Z",
     "shell.execute_reply": "2024-06-04T12:18:24.867067Z"
    },
    "papermill": {
     "duration": 0.041026,
     "end_time": "2024-06-04T12:18:24.869779",
     "exception": false,
     "start_time": "2024-06-04T12:18:24.828753",
     "status": "completed"
    },
    "tags": []
   },
   "outputs": [
    {
     "data": {
      "text/plain": [
       "tensor([  101,  1037,  4618,  2025,  2011,  2993, 17552,  2008,  2711, 20090,\n",
       "         2000,  2151,  8268,  2030,  2060,  8931,  2021,  1999,  2151,  8931,\n",
       "         2104,  1996, 16420,  2080,  1998,  2953,  1996,  2572,  4135,  2077,\n",
       "         2151,  2457,  2122, 11594,  4618,  2022,  4748, 26770,  1999,  3350,\n",
       "         1998,  2065,  2151,  9347,  2275,  2041,  1999,  2122, 11594,  3544,\n",
       "         2000,  1996,  2457,  2000,  2022,  7882,  2000,  2151,  3160, 17707,\n",
       "         1999,  1996,  8931,  2009,  4618,  2022,  2579,  2046,  4070,  1999,\n",
       "        12515,  1996,  3160,  1998,   102,     0,     0,     0,     0,     0,\n",
       "            0,     0,     0,     0,     0,     0,     0,     0,     0,     0,\n",
       "            0,     0,     0,     0,     0,     0,     0,     0,     0,     0,\n",
       "            0,     0,     0,     0,     0,     0,     0,     0,     0,     0,\n",
       "            0,     0,     0,     0,     0,     0,     0,     0,     0,     0,\n",
       "            0,     0,     0,     0,     0,     0,     0,     0])"
      ]
     },
     "execution_count": 41,
     "metadata": {},
     "output_type": "execute_result"
    }
   ],
   "source": [
    "encoded_dataset['train']['input_ids'][0]"
   ]
  },
  {
   "cell_type": "code",
   "execution_count": 42,
   "id": "485d3bd9",
   "metadata": {
    "execution": {
     "iopub.execute_input": "2024-06-04T12:18:24.914207Z",
     "iopub.status.busy": "2024-06-04T12:18:24.913932Z",
     "iopub.status.idle": "2024-06-04T12:18:24.917501Z",
     "shell.execute_reply": "2024-06-04T12:18:24.916695Z"
    },
    "papermill": {
     "duration": 0.027647,
     "end_time": "2024-06-04T12:18:24.919400",
     "exception": false,
     "start_time": "2024-06-04T12:18:24.891753",
     "status": "completed"
    },
    "tags": []
   },
   "outputs": [],
   "source": [
    "# #forward pass\n",
    "# #, attention_mask=attention_mask\n",
    "# outputs = model(input_ids=encoded_dataset['train']['input_ids'][0].unsqueeze(0), labels=encoded_dataset['train'][0]['labels'].unsqueeze(0))\n",
    "# outputs"
   ]
  },
  {
   "cell_type": "code",
   "execution_count": 43,
   "id": "732f8a5c",
   "metadata": {
    "execution": {
     "iopub.execute_input": "2024-06-04T12:18:24.963870Z",
     "iopub.status.busy": "2024-06-04T12:18:24.963612Z",
     "iopub.status.idle": "2024-06-04T12:18:24.967284Z",
     "shell.execute_reply": "2024-06-04T12:18:24.966490Z"
    },
    "papermill": {
     "duration": 0.027777,
     "end_time": "2024-06-04T12:18:24.969170",
     "exception": false,
     "start_time": "2024-06-04T12:18:24.941393",
     "status": "completed"
    },
    "tags": []
   },
   "outputs": [],
   "source": [
    "from transformers import AutoModelForSequenceClassification, Trainer"
   ]
  },
  {
   "cell_type": "code",
   "execution_count": 44,
   "id": "4cc716e1",
   "metadata": {
    "execution": {
     "iopub.execute_input": "2024-06-04T12:18:25.012631Z",
     "iopub.status.busy": "2024-06-04T12:18:25.012372Z",
     "iopub.status.idle": "2024-06-04T12:18:25.170886Z",
     "shell.execute_reply": "2024-06-04T12:18:25.170015Z"
    },
    "papermill": {
     "duration": 0.182815,
     "end_time": "2024-06-04T12:18:25.173179",
     "exception": false,
     "start_time": "2024-06-04T12:18:24.990364",
     "status": "completed"
    },
    "tags": []
   },
   "outputs": [],
   "source": [
    "\n",
    "from kaggle_secrets import UserSecretsClient\n",
    "user_secrets = UserSecretsClient()\n",
    "secret_value_0 = user_secrets.get_secret(\"WANDB_API_KEY\")\n"
   ]
  },
  {
   "cell_type": "code",
   "execution_count": 45,
   "id": "8c429863",
   "metadata": {
    "execution": {
     "iopub.execute_input": "2024-06-04T12:18:25.219612Z",
     "iopub.status.busy": "2024-06-04T12:18:25.218842Z",
     "iopub.status.idle": "2024-06-04T12:18:25.222983Z",
     "shell.execute_reply": "2024-06-04T12:18:25.222127Z"
    },
    "papermill": {
     "duration": 0.029109,
     "end_time": "2024-06-04T12:18:25.224893",
     "exception": false,
     "start_time": "2024-06-04T12:18:25.195784",
     "status": "completed"
    },
    "tags": []
   },
   "outputs": [],
   "source": [
    "import os\n",
    "os.environ['WANDB_API_KEY'] =\"313a57558bcaee784e68d1654f7915a0b463a341\""
   ]
  },
  {
   "cell_type": "code",
   "execution_count": 46,
   "id": "21681768",
   "metadata": {
    "execution": {
     "iopub.execute_input": "2024-06-04T12:18:25.269297Z",
     "iopub.status.busy": "2024-06-04T12:18:25.269044Z",
     "iopub.status.idle": "2024-06-04T12:18:26.175827Z",
     "shell.execute_reply": "2024-06-04T12:18:26.175066Z"
    },
    "papermill": {
     "duration": 0.931376,
     "end_time": "2024-06-04T12:18:26.178119",
     "exception": false,
     "start_time": "2024-06-04T12:18:25.246743",
     "status": "completed"
    },
    "tags": []
   },
   "outputs": [],
   "source": [
    "trainer = Trainer(\n",
    "    model,\n",
    "    args,\n",
    "    train_dataset=encoded_dataset[\"train\"],\n",
    "    eval_dataset=encoded_dataset[\"validation\"],\n",
    "    tokenizer=tokenizer,\n",
    "    compute_metrics=compute_metrics,\n",
    "\n",
    ")"
   ]
  },
  {
   "cell_type": "code",
   "execution_count": 47,
   "id": "12f6431a",
   "metadata": {
    "execution": {
     "iopub.execute_input": "2024-06-04T12:18:26.223167Z",
     "iopub.status.busy": "2024-06-04T12:18:26.222857Z",
     "iopub.status.idle": "2024-06-04T12:29:42.701485Z",
     "shell.execute_reply": "2024-06-04T12:29:42.700584Z"
    },
    "papermill": {
     "duration": 676.507618,
     "end_time": "2024-06-04T12:29:42.708317",
     "exception": false,
     "start_time": "2024-06-04T12:18:26.200699",
     "status": "completed"
    },
    "tags": []
   },
   "outputs": [
    {
     "name": "stderr",
     "output_type": "stream",
     "text": [
      "\u001b[34m\u001b[1mwandb\u001b[0m: \u001b[33mWARNING\u001b[0m The `run_name` is currently set to the same value as `TrainingArguments.output_dir`. If this was not intended, please specify a different run name by setting the `TrainingArguments.run_name` parameter.\n",
      "\u001b[34m\u001b[1mwandb\u001b[0m: Currently logged in as: \u001b[33manshtanwar007\u001b[0m (\u001b[33manshta\u001b[0m). Use \u001b[1m`wandb login --relogin`\u001b[0m to force relogin\n",
      "\u001b[34m\u001b[1mwandb\u001b[0m: Tracking run with wandb version 0.17.0\n",
      "\u001b[34m\u001b[1mwandb\u001b[0m: Run data is saved locally in \u001b[35m\u001b[1m/kaggle/working/wandb/run-20240604_121827-gq01q27q\u001b[0m\n",
      "\u001b[34m\u001b[1mwandb\u001b[0m: Run \u001b[1m`wandb offline`\u001b[0m to turn off syncing.\n",
      "\u001b[34m\u001b[1mwandb\u001b[0m: Syncing run \u001b[33mbert-finetuned-sem_eval-english\u001b[0m\n",
      "\u001b[34m\u001b[1mwandb\u001b[0m: ⭐️ View project at \u001b[34m\u001b[4mhttps://wandb.ai/anshta/huggingface\u001b[0m\n",
      "\u001b[34m\u001b[1mwandb\u001b[0m: 🚀 View run at \u001b[34m\u001b[4mhttps://wandb.ai/anshta/huggingface/runs/gq01q27q\u001b[0m\n"
     ]
    },
    {
     "data": {
      "text/html": [
       "\n",
       "    <div>\n",
       "      \n",
       "      <progress value='4720' max='4720' style='width:300px; height:20px; vertical-align: middle;'></progress>\n",
       "      [4720/4720 10:57, Epoch 10/10]\n",
       "    </div>\n",
       "    <table border=\"1\" class=\"dataframe\">\n",
       "  <thead>\n",
       " <tr style=\"text-align: left;\">\n",
       "      <th>Epoch</th>\n",
       "      <th>Training Loss</th>\n",
       "      <th>Validation Loss</th>\n",
       "      <th>F1</th>\n",
       "      <th>Roc Auc</th>\n",
       "      <th>Accuracy</th>\n",
       "    </tr>\n",
       "  </thead>\n",
       "  <tbody>\n",
       "    <tr>\n",
       "      <td>1</td>\n",
       "      <td>No log</td>\n",
       "      <td>0.179901</td>\n",
       "      <td>0.097587</td>\n",
       "      <td>0.525628</td>\n",
       "      <td>0.007491</td>\n",
       "    </tr>\n",
       "    <tr>\n",
       "      <td>2</td>\n",
       "      <td>0.237900</td>\n",
       "      <td>0.146963</td>\n",
       "      <td>0.447535</td>\n",
       "      <td>0.646231</td>\n",
       "      <td>0.119850</td>\n",
       "    </tr>\n",
       "    <tr>\n",
       "      <td>3</td>\n",
       "      <td>0.153100</td>\n",
       "      <td>0.128063</td>\n",
       "      <td>0.567053</td>\n",
       "      <td>0.707905</td>\n",
       "      <td>0.164794</td>\n",
       "    </tr>\n",
       "    <tr>\n",
       "      <td>4</td>\n",
       "      <td>0.125700</td>\n",
       "      <td>0.116805</td>\n",
       "      <td>0.633041</td>\n",
       "      <td>0.738366</td>\n",
       "      <td>0.217228</td>\n",
       "    </tr>\n",
       "    <tr>\n",
       "      <td>5</td>\n",
       "      <td>0.109400</td>\n",
       "      <td>0.109375</td>\n",
       "      <td>0.674362</td>\n",
       "      <td>0.765015</td>\n",
       "      <td>0.260300</td>\n",
       "    </tr>\n",
       "    <tr>\n",
       "      <td>6</td>\n",
       "      <td>0.097400</td>\n",
       "      <td>0.103716</td>\n",
       "      <td>0.715139</td>\n",
       "      <td>0.795539</td>\n",
       "      <td>0.292135</td>\n",
       "    </tr>\n",
       "    <tr>\n",
       "      <td>7</td>\n",
       "      <td>0.087700</td>\n",
       "      <td>0.101314</td>\n",
       "      <td>0.724357</td>\n",
       "      <td>0.797947</td>\n",
       "      <td>0.312734</td>\n",
       "    </tr>\n",
       "    <tr>\n",
       "      <td>8</td>\n",
       "      <td>0.079100</td>\n",
       "      <td>0.098101</td>\n",
       "      <td>0.741031</td>\n",
       "      <td>0.811946</td>\n",
       "      <td>0.337079</td>\n",
       "    </tr>\n",
       "    <tr>\n",
       "      <td>9</td>\n",
       "      <td>0.074400</td>\n",
       "      <td>0.096299</td>\n",
       "      <td>0.747501</td>\n",
       "      <td>0.818089</td>\n",
       "      <td>0.329588</td>\n",
       "    </tr>\n",
       "    <tr>\n",
       "      <td>10</td>\n",
       "      <td>0.073100</td>\n",
       "      <td>0.096161</td>\n",
       "      <td>0.746027</td>\n",
       "      <td>0.815763</td>\n",
       "      <td>0.329588</td>\n",
       "    </tr>\n",
       "  </tbody>\n",
       "</table><p>"
      ],
      "text/plain": [
       "<IPython.core.display.HTML object>"
      ]
     },
     "metadata": {},
     "output_type": "display_data"
    },
    {
     "data": {
      "text/plain": [
       "TrainOutput(global_step=4720, training_loss=0.11328453573129944, metrics={'train_runtime': 676.1629, 'train_samples_per_second': 55.741, 'train_steps_per_second': 6.981, 'total_flos': 2480343667991040.0, 'train_loss': 0.11328453573129944, 'epoch': 10.0})"
      ]
     },
     "execution_count": 47,
     "metadata": {},
     "output_type": "execute_result"
    }
   ],
   "source": [
    "trainer.train()"
   ]
  },
  {
   "cell_type": "code",
   "execution_count": 48,
   "id": "7a6d6aa8",
   "metadata": {
    "execution": {
     "iopub.execute_input": "2024-06-04T12:29:42.755202Z",
     "iopub.status.busy": "2024-06-04T12:29:42.754858Z",
     "iopub.status.idle": "2024-06-04T12:29:45.127020Z",
     "shell.execute_reply": "2024-06-04T12:29:45.125994Z"
    },
    "papermill": {
     "duration": 2.397947,
     "end_time": "2024-06-04T12:29:45.129192",
     "exception": false,
     "start_time": "2024-06-04T12:29:42.731245",
     "status": "completed"
    },
    "tags": []
   },
   "outputs": [
    {
     "data": {
      "text/html": [
       "\n",
       "    <div>\n",
       "      \n",
       "      <progress value='67' max='67' style='width:300px; height:20px; vertical-align: middle;'></progress>\n",
       "      [67/67 00:02]\n",
       "    </div>\n",
       "    "
      ],
      "text/plain": [
       "<IPython.core.display.HTML object>"
      ]
     },
     "metadata": {},
     "output_type": "display_data"
    },
    {
     "data": {
      "text/plain": [
       "{'eval_loss': 0.09629946202039719,\n",
       " 'eval_f1': 0.7475008061915511,\n",
       " 'eval_roc_auc': 0.8180890284045047,\n",
       " 'eval_accuracy': 0.3295880149812734,\n",
       " 'eval_runtime': 2.3609,\n",
       " 'eval_samples_per_second': 226.187,\n",
       " 'eval_steps_per_second': 28.379,\n",
       " 'epoch': 10.0}"
      ]
     },
     "execution_count": 48,
     "metadata": {},
     "output_type": "execute_result"
    }
   ],
   "source": [
    "trainer.evaluate()"
   ]
  },
  {
   "cell_type": "markdown",
   "id": "51252930",
   "metadata": {
    "papermill": {
     "duration": 0.023195,
     "end_time": "2024-06-04T12:29:45.177972",
     "exception": false,
     "start_time": "2024-06-04T12:29:45.154777",
     "status": "completed"
    },
    "tags": []
   },
   "source": [
    "# Inference\n",
    "add Codeadd Markdown\n",
    "The logits that come out of the model are of shape (batch_size, num_labels). As we are only forwarding a single sentence through the model, the batch_size equals 1.\n",
    "\n",
    "The logits is a tensor that contains the (unnormalized) scores for every individual label.\n",
    "\n",
    "The logits that come out of the model are of shape (batch_size, num_labels). As we are only forwarding a single sentence through the model, the batch_size equals 1.\n",
    "\n",
    "The logits is a tensor that contains the (unnormalized) scores for every individual label."
   ]
  },
  {
   "cell_type": "code",
   "execution_count": 49,
   "id": "ac8f3dc5",
   "metadata": {
    "execution": {
     "iopub.execute_input": "2024-06-04T12:29:45.225741Z",
     "iopub.status.busy": "2024-06-04T12:29:45.224840Z",
     "iopub.status.idle": "2024-06-04T12:29:45.232462Z",
     "shell.execute_reply": "2024-06-04T12:29:45.231588Z"
    },
    "papermill": {
     "duration": 0.033532,
     "end_time": "2024-06-04T12:29:45.234479",
     "exception": false,
     "start_time": "2024-06-04T12:29:45.200947",
     "status": "completed"
    },
    "tags": []
   },
   "outputs": [],
   "source": [
    "def get_answer(text):\n",
    "    \n",
    "    encoding = tokenizer(text, return_tensors=\"pt\")\n",
    "    encoding = {k: v.to(trainer.model.device) for k,v in encoding.items()}\n",
    "    outputs = trainer.model(**encoding)\n",
    "    logits = outputs.logits\n",
    "    print(logits.shape)\n",
    "    \n",
    "    # apply sigmoid + threshold\n",
    "    sigmoid = torch.nn.Sigmoid()\n",
    "    probs = sigmoid(logits.squeeze().cpu())\n",
    "    print(probs)\n",
    "    predictions = np.zeros(probs.shape)\n",
    "    predictions[np.where(probs >= 0.5)] = 1\n",
    "    print(predictions)\n",
    "    predicted_labels = [id2label[idx] for idx, label in enumerate(predictions) if label == 1.0]\n",
    "    print()\n",
    "    return predicted_labels\n"
   ]
  },
  {
   "cell_type": "code",
   "execution_count": 50,
   "id": "0a24ef0f",
   "metadata": {
    "execution": {
     "iopub.execute_input": "2024-06-04T12:29:45.280847Z",
     "iopub.status.busy": "2024-06-04T12:29:45.280309Z",
     "iopub.status.idle": "2024-06-04T12:29:45.314034Z",
     "shell.execute_reply": "2024-06-04T12:29:45.313111Z"
    },
    "papermill": {
     "duration": 0.058935,
     "end_time": "2024-06-04T12:29:45.315877",
     "exception": false,
     "start_time": "2024-06-04T12:29:45.256942",
     "status": "completed"
    },
    "tags": []
   },
   "outputs": [
    {
     "name": "stdout",
     "output_type": "stream",
     "text": [
      "torch.Size([1, 55])\n",
      "tensor([0.9304, 0.0673, 0.1663, 0.0108, 0.6874, 0.5929, 0.0162, 0.0396, 0.0292,\n",
      "        0.0560, 0.0117, 0.0087, 0.0224, 0.7957, 0.0072, 0.0089, 0.0333, 0.0061,\n",
      "        0.0066, 0.0165, 0.2600, 0.0296, 0.0891, 0.0149, 0.0511, 0.0288, 0.0229,\n",
      "        0.0176, 0.0261, 0.0389, 0.0074, 0.0099, 0.0172, 0.0184, 0.0044, 0.0136,\n",
      "        0.1858, 0.0121, 0.0192, 0.0237, 0.0174, 0.0158, 0.0218, 0.0127, 0.0350,\n",
      "        0.0079, 0.0410, 0.0127, 0.0034, 0.0062, 0.0149, 0.0310, 0.0283, 0.0285,\n",
      "        0.0057], grad_fn=<SigmoidBackward0>)\n",
      "[1. 0. 0. 0. 1. 1. 0. 0. 0. 0. 0. 0. 0. 1. 0. 0. 0. 0. 0. 0. 0. 0. 0. 0.\n",
      " 0. 0. 0. 0. 0. 0. 0. 0. 0. 0. 0. 0. 0. 0. 0. 0. 0. 0. 0. 0. 0. 0. 0. 0.\n",
      " 0. 0. 0. 0. 0. 0. 0.]\n",
      "\n"
     ]
    },
    {
     "data": {
      "text/plain": [
       "['aml', 'virtual assets', 'cft', 'license']"
      ]
     },
     "execution_count": 50,
     "metadata": {},
     "output_type": "execute_result"
    }
   ],
   "source": [
    "text = \"The new licensing regime for centralised virtual asset trading platforms under the Anti-MoneyLaundering and Counter-Terrorist Financing Ordinance (Cap. 615) (AMLO) will come intoeffect on 1 June 2023. Under the new regime, centralised virtual asset trading platformsoperating in Hong Kong will need to apply to the Securities and Futures Commission (SFC)for a licence under the Securities and Futures Ordinance (Cap 571) (SFO) and/or the AMLO(Dual Licence Arrangement)\"\n",
    "get_answer(text)"
   ]
  },
  {
   "cell_type": "markdown",
   "id": "5aa30ea8",
   "metadata": {
    "papermill": {
     "duration": 0.022515,
     "end_time": "2024-06-04T12:29:45.361478",
     "exception": false,
     "start_time": "2024-06-04T12:29:45.338963",
     "status": "completed"
    },
    "tags": []
   },
   "source": [
    "# Probability"
   ]
  },
  {
   "cell_type": "code",
   "execution_count": 51,
   "id": "521a4670",
   "metadata": {
    "execution": {
     "iopub.execute_input": "2024-06-04T12:29:45.408550Z",
     "iopub.status.busy": "2024-06-04T12:29:45.407788Z",
     "iopub.status.idle": "2024-06-04T12:29:45.411603Z",
     "shell.execute_reply": "2024-06-04T12:29:45.410799Z"
    },
    "papermill": {
     "duration": 0.029157,
     "end_time": "2024-06-04T12:29:45.413442",
     "exception": false,
     "start_time": "2024-06-04T12:29:45.384285",
     "status": "completed"
    },
    "tags": []
   },
   "outputs": [],
   "source": [
    "# outputs = trainer.model(**encoding)\n",
    "# logits = outputs.logits\n",
    "# logits.shape"
   ]
  },
  {
   "cell_type": "markdown",
   "id": "f5031024",
   "metadata": {
    "papermill": {
     "duration": 0.022739,
     "end_time": "2024-06-04T12:29:45.458943",
     "exception": false,
     "start_time": "2024-06-04T12:29:45.436204",
     "status": "completed"
    },
    "tags": []
   },
   "source": [
    "The logits that come out of the model are of shape (batch_size, num_labels). As we are only forwarding a single sentence through the model, the batch_size equals 1.\n",
    "\n",
    "The logits is a tensor that contains the (unnormalized) scores for every individual label\n",
    "\n",
    "To turn them into actual predicted labels, we first apply a sigmoid function independently to every score, such that every score is turned into a number between 0 and 1, that can be interpreted as a \"probability\" for how certain the model is that a given class belongs to the input text.\n",
    "\n",
    "Next, we use a threshold (typically, 0.5) to turn every probability into either a 1 (which means, we predict the label for the given example) or a 0 (which means, we don't predict the label for the given example)"
   ]
  },
  {
   "cell_type": "code",
   "execution_count": 52,
   "id": "4ddef7d2",
   "metadata": {
    "execution": {
     "iopub.execute_input": "2024-06-04T12:29:45.505967Z",
     "iopub.status.busy": "2024-06-04T12:29:45.505232Z",
     "iopub.status.idle": "2024-06-04T12:29:45.509271Z",
     "shell.execute_reply": "2024-06-04T12:29:45.508421Z"
    },
    "papermill": {
     "duration": 0.029589,
     "end_time": "2024-06-04T12:29:45.511060",
     "exception": false,
     "start_time": "2024-06-04T12:29:45.481471",
     "status": "completed"
    },
    "tags": []
   },
   "outputs": [],
   "source": [
    "# # apply sigmoid + threshold\n",
    "# sigmoid = torch.nn.Sigmoid()\n",
    "# probs = sigmoid(logits.squeeze().cpu())\n",
    "# predictions = np.zeros(probs.shape)\n",
    "# predictions[np.where(probs >= 0.5)] = 1\n",
    "# # turn predicted id's into actual label names\n",
    "# predicted_labels = [id2label[idx] for idx, label in enumerate(predictions) if label == 1.0]\n",
    "# print(predicted_labels)"
   ]
  },
  {
   "cell_type": "code",
   "execution_count": null,
   "id": "c5ae768d",
   "metadata": {
    "papermill": {
     "duration": 0.023832,
     "end_time": "2024-06-04T12:29:45.557581",
     "exception": false,
     "start_time": "2024-06-04T12:29:45.533749",
     "status": "completed"
    },
    "tags": []
   },
   "outputs": [],
   "source": []
  }
 ],
 "metadata": {
  "kaggle": {
   "accelerator": "gpu",
   "dataSources": [
    {
     "datasetId": 5092991,
     "sourceId": 8600001,
     "sourceType": "datasetVersion"
    }
   ],
   "dockerImageVersionId": 30715,
   "isGpuEnabled": true,
   "isInternetEnabled": true,
   "language": "python",
   "sourceType": "notebook"
  },
  "kernelspec": {
   "display_name": "Python 3",
   "language": "python",
   "name": "python3"
  },
  "language_info": {
   "codemirror_mode": {
    "name": "ipython",
    "version": 3
   },
   "file_extension": ".py",
   "mimetype": "text/x-python",
   "name": "python",
   "nbconvert_exporter": "python",
   "pygments_lexer": "ipython3",
   "version": "3.10.13"
  },
  "papermill": {
   "default_parameters": {},
   "duration": 721.545531,
   "end_time": "2024-06-04T12:29:48.303676",
   "environment_variables": {},
   "exception": null,
   "input_path": "__notebook__.ipynb",
   "output_path": "__notebook__.ipynb",
   "parameters": {},
   "start_time": "2024-06-04T12:17:46.758145",
   "version": "2.5.0"
  },
  "widgets": {
   "application/vnd.jupyter.widget-state+json": {
    "state": {
     "000c4f7c29f74a74b69904177dfc75e3": {
      "model_module": "@jupyter-widgets/controls",
      "model_module_version": "1.5.0",
      "model_name": "HTMLModel",
      "state": {
       "_dom_classes": [],
       "_model_module": "@jupyter-widgets/controls",
       "_model_module_version": "1.5.0",
       "_model_name": "HTMLModel",
       "_view_count": null,
       "_view_module": "@jupyter-widgets/controls",
       "_view_module_version": "1.5.0",
       "_view_name": "HTMLView",
       "description": "",
       "description_tooltip": null,
       "layout": "IPY_MODEL_6fbe2b730e2e4bb3bc4400b6c159fc83",
       "placeholder": "​",
       "style": "IPY_MODEL_4463d90e8666422cb10b8e040980c58b",
       "value": "vocab.txt: 100%"
      }
     },
     "00543aed33d641cda409ae172303ca5b": {
      "model_module": "@jupyter-widgets/controls",
      "model_module_version": "1.5.0",
      "model_name": "HTMLModel",
      "state": {
       "_dom_classes": [],
       "_model_module": "@jupyter-widgets/controls",
       "_model_module_version": "1.5.0",
       "_model_name": "HTMLModel",
       "_view_count": null,
       "_view_module": "@jupyter-widgets/controls",
       "_view_module_version": "1.5.0",
       "_view_name": "HTMLView",
       "description": "",
       "description_tooltip": null,
       "layout": "IPY_MODEL_0130780d54204946befd4f0e565f22b5",
       "placeholder": "​",
       "style": "IPY_MODEL_dbf847fd371d430e928d959b255e3e9e",
       "value": " 252/252 [00:00&lt;00:00, 21.8kB/s]"
      }
     },
     "009a66d6b2f4454882d279dacfdcf583": {
      "model_module": "@jupyter-widgets/controls",
      "model_module_version": "1.5.0",
      "model_name": "HBoxModel",
      "state": {
       "_dom_classes": [],
       "_model_module": "@jupyter-widgets/controls",
       "_model_module_version": "1.5.0",
       "_model_name": "HBoxModel",
       "_view_count": null,
       "_view_module": "@jupyter-widgets/controls",
       "_view_module_version": "1.5.0",
       "_view_name": "HBoxView",
       "box_style": "",
       "children": [
        "IPY_MODEL_7b7cae92b718411693af98b64d2669bd",
        "IPY_MODEL_6f6accb5116c4cc6aaa619825e869eba",
        "IPY_MODEL_beefe1b56c104317a931a4e802cbbc57"
       ],
       "layout": "IPY_MODEL_5143b3f04b454b93a7ff9a6f0ad51a58"
      }
     },
     "0110730e4ce34facb25e37d3ab97b880": {
      "model_module": "@jupyter-widgets/base",
      "model_module_version": "1.2.0",
      "model_name": "LayoutModel",
      "state": {
       "_model_module": "@jupyter-widgets/base",
       "_model_module_version": "1.2.0",
       "_model_name": "LayoutModel",
       "_view_count": null,
       "_view_module": "@jupyter-widgets/base",
       "_view_module_version": "1.2.0",
       "_view_name": "LayoutView",
       "align_content": null,
       "align_items": null,
       "align_self": null,
       "border": null,
       "bottom": null,
       "display": null,
       "flex": null,
       "flex_flow": null,
       "grid_area": null,
       "grid_auto_columns": null,
       "grid_auto_flow": null,
       "grid_auto_rows": null,
       "grid_column": null,
       "grid_gap": null,
       "grid_row": null,
       "grid_template_areas": null,
       "grid_template_columns": null,
       "grid_template_rows": null,
       "height": null,
       "justify_content": null,
       "justify_items": null,
       "left": null,
       "margin": null,
       "max_height": null,
       "max_width": null,
       "min_height": null,
       "min_width": null,
       "object_fit": null,
       "object_position": null,
       "order": null,
       "overflow": null,
       "overflow_x": null,
       "overflow_y": null,
       "padding": null,
       "right": null,
       "top": null,
       "visibility": null,
       "width": null
      }
     },
     "0130780d54204946befd4f0e565f22b5": {
      "model_module": "@jupyter-widgets/base",
      "model_module_version": "1.2.0",
      "model_name": "LayoutModel",
      "state": {
       "_model_module": "@jupyter-widgets/base",
       "_model_module_version": "1.2.0",
       "_model_name": "LayoutModel",
       "_view_count": null,
       "_view_module": "@jupyter-widgets/base",
       "_view_module_version": "1.2.0",
       "_view_name": "LayoutView",
       "align_content": null,
       "align_items": null,
       "align_self": null,
       "border": null,
       "bottom": null,
       "display": null,
       "flex": null,
       "flex_flow": null,
       "grid_area": null,
       "grid_auto_columns": null,
       "grid_auto_flow": null,
       "grid_auto_rows": null,
       "grid_column": null,
       "grid_gap": null,
       "grid_row": null,
       "grid_template_areas": null,
       "grid_template_columns": null,
       "grid_template_rows": null,
       "height": null,
       "justify_content": null,
       "justify_items": null,
       "left": null,
       "margin": null,
       "max_height": null,
       "max_width": null,
       "min_height": null,
       "min_width": null,
       "object_fit": null,
       "object_position": null,
       "order": null,
       "overflow": null,
       "overflow_x": null,
       "overflow_y": null,
       "padding": null,
       "right": null,
       "top": null,
       "visibility": null,
       "width": null
      }
     },
     "05e52a272fa24b96ab14b60184596ea1": {
      "model_module": "@jupyter-widgets/controls",
      "model_module_version": "1.5.0",
      "model_name": "HTMLModel",
      "state": {
       "_dom_classes": [],
       "_model_module": "@jupyter-widgets/controls",
       "_model_module_version": "1.5.0",
       "_model_name": "HTMLModel",
       "_view_count": null,
       "_view_module": "@jupyter-widgets/controls",
       "_view_module_version": "1.5.0",
       "_view_name": "HTMLView",
       "description": "",
       "description_tooltip": null,
       "layout": "IPY_MODEL_4708703ba166461ba59f45e5d4ee49f5",
       "placeholder": "​",
       "style": "IPY_MODEL_f1a299fc233943039333fc218f5ec165",
       "value": " 1082/1082 [00:00&lt;00:00, 4104.56 examples/s]"
      }
     },
     "0705758d8dcf4e17812271dcaca87425": {
      "model_module": "@jupyter-widgets/controls",
      "model_module_version": "1.5.0",
      "model_name": "FloatProgressModel",
      "state": {
       "_dom_classes": [],
       "_model_module": "@jupyter-widgets/controls",
       "_model_module_version": "1.5.0",
       "_model_name": "FloatProgressModel",
       "_view_count": null,
       "_view_module": "@jupyter-widgets/controls",
       "_view_module_version": "1.5.0",
       "_view_name": "ProgressView",
       "bar_style": "success",
       "description": "",
       "description_tooltip": null,
       "layout": "IPY_MODEL_09a566627cbd4d41ad41f857270a0788",
       "max": 231508.0,
       "min": 0.0,
       "orientation": "horizontal",
       "style": "IPY_MODEL_5d5b9d1e5e58427fbfd53f51da2e206d",
       "value": 231508.0
      }
     },
     "09a566627cbd4d41ad41f857270a0788": {
      "model_module": "@jupyter-widgets/base",
      "model_module_version": "1.2.0",
      "model_name": "LayoutModel",
      "state": {
       "_model_module": "@jupyter-widgets/base",
       "_model_module_version": "1.2.0",
       "_model_name": "LayoutModel",
       "_view_count": null,
       "_view_module": "@jupyter-widgets/base",
       "_view_module_version": "1.2.0",
       "_view_name": "LayoutView",
       "align_content": null,
       "align_items": null,
       "align_self": null,
       "border": null,
       "bottom": null,
       "display": null,
       "flex": null,
       "flex_flow": null,
       "grid_area": null,
       "grid_auto_columns": null,
       "grid_auto_flow": null,
       "grid_auto_rows": null,
       "grid_column": null,
       "grid_gap": null,
       "grid_row": null,
       "grid_template_areas": null,
       "grid_template_columns": null,
       "grid_template_rows": null,
       "height": null,
       "justify_content": null,
       "justify_items": null,
       "left": null,
       "margin": null,
       "max_height": null,
       "max_width": null,
       "min_height": null,
       "min_width": null,
       "object_fit": null,
       "object_position": null,
       "order": null,
       "overflow": null,
       "overflow_x": null,
       "overflow_y": null,
       "padding": null,
       "right": null,
       "top": null,
       "visibility": null,
       "width": null
      }
     },
     "09b1b050c1ad432aaf2f190594060d5d": {
      "model_module": "@jupyter-widgets/base",
      "model_module_version": "1.2.0",
      "model_name": "LayoutModel",
      "state": {
       "_model_module": "@jupyter-widgets/base",
       "_model_module_version": "1.2.0",
       "_model_name": "LayoutModel",
       "_view_count": null,
       "_view_module": "@jupyter-widgets/base",
       "_view_module_version": "1.2.0",
       "_view_name": "LayoutView",
       "align_content": null,
       "align_items": null,
       "align_self": null,
       "border": null,
       "bottom": null,
       "display": null,
       "flex": null,
       "flex_flow": null,
       "grid_area": null,
       "grid_auto_columns": null,
       "grid_auto_flow": null,
       "grid_auto_rows": null,
       "grid_column": null,
       "grid_gap": null,
       "grid_row": null,
       "grid_template_areas": null,
       "grid_template_columns": null,
       "grid_template_rows": null,
       "height": null,
       "justify_content": null,
       "justify_items": null,
       "left": null,
       "margin": null,
       "max_height": null,
       "max_width": null,
       "min_height": null,
       "min_width": null,
       "object_fit": null,
       "object_position": null,
       "order": null,
       "overflow": null,
       "overflow_x": null,
       "overflow_y": null,
       "padding": null,
       "right": null,
       "top": null,
       "visibility": null,
       "width": null
      }
     },
     "0c7fd1f46245438b9eb975f7ed535c02": {
      "model_module": "@jupyter-widgets/controls",
      "model_module_version": "1.5.0",
      "model_name": "HTMLModel",
      "state": {
       "_dom_classes": [],
       "_model_module": "@jupyter-widgets/controls",
       "_model_module_version": "1.5.0",
       "_model_name": "HTMLModel",
       "_view_count": null,
       "_view_module": "@jupyter-widgets/controls",
       "_view_module_version": "1.5.0",
       "_view_name": "HTMLView",
       "description": "",
       "description_tooltip": null,
       "layout": "IPY_MODEL_7f54524243d046aa8c6ac68c6219f052",
       "placeholder": "​",
       "style": "IPY_MODEL_3c1a0ec710424d1694b6d5cf44deec40",
       "value": "pytorch_model.bin: 100%"
      }
     },
     "0f3920218e6847deab73f4abe0c1ecc7": {
      "model_module": "@jupyter-widgets/controls",
      "model_module_version": "1.5.0",
      "model_name": "HTMLModel",
      "state": {
       "_dom_classes": [],
       "_model_module": "@jupyter-widgets/controls",
       "_model_module_version": "1.5.0",
       "_model_name": "HTMLModel",
       "_view_count": null,
       "_view_module": "@jupyter-widgets/controls",
       "_view_module_version": "1.5.0",
       "_view_name": "HTMLView",
       "description": "",
       "description_tooltip": null,
       "layout": "IPY_MODEL_4dd7b2b4a30040f29cf21af0a58e3caf",
       "placeholder": "​",
       "style": "IPY_MODEL_3e2f77586cc24637b8752127171d50d4",
       "value": " 758/758 [00:00&lt;00:00, 68.0kB/s]"
      }
     },
     "1759803ba3f14c279e51c0929c75e3c2": {
      "model_module": "@jupyter-widgets/controls",
      "model_module_version": "1.5.0",
      "model_name": "DescriptionStyleModel",
      "state": {
       "_model_module": "@jupyter-widgets/controls",
       "_model_module_version": "1.5.0",
       "_model_name": "DescriptionStyleModel",
       "_view_count": null,
       "_view_module": "@jupyter-widgets/base",
       "_view_module_version": "1.2.0",
       "_view_name": "StyleView",
       "description_width": ""
      }
     },
     "18be6e33cb0240cfb195375289100849": {
      "model_module": "@jupyter-widgets/controls",
      "model_module_version": "1.5.0",
      "model_name": "DescriptionStyleModel",
      "state": {
       "_model_module": "@jupyter-widgets/controls",
       "_model_module_version": "1.5.0",
       "_model_name": "DescriptionStyleModel",
       "_view_count": null,
       "_view_module": "@jupyter-widgets/base",
       "_view_module_version": "1.2.0",
       "_view_name": "StyleView",
       "description_width": ""
      }
     },
     "1ae4719d8bd34df086419f5de6c99554": {
      "model_module": "@jupyter-widgets/base",
      "model_module_version": "1.2.0",
      "model_name": "LayoutModel",
      "state": {
       "_model_module": "@jupyter-widgets/base",
       "_model_module_version": "1.2.0",
       "_model_name": "LayoutModel",
       "_view_count": null,
       "_view_module": "@jupyter-widgets/base",
       "_view_module_version": "1.2.0",
       "_view_name": "LayoutView",
       "align_content": null,
       "align_items": null,
       "align_self": null,
       "border": null,
       "bottom": null,
       "display": null,
       "flex": null,
       "flex_flow": null,
       "grid_area": null,
       "grid_auto_columns": null,
       "grid_auto_flow": null,
       "grid_auto_rows": null,
       "grid_column": null,
       "grid_gap": null,
       "grid_row": null,
       "grid_template_areas": null,
       "grid_template_columns": null,
       "grid_template_rows": null,
       "height": null,
       "justify_content": null,
       "justify_items": null,
       "left": null,
       "margin": null,
       "max_height": null,
       "max_width": null,
       "min_height": null,
       "min_width": null,
       "object_fit": null,
       "object_position": null,
       "order": null,
       "overflow": null,
       "overflow_x": null,
       "overflow_y": null,
       "padding": null,
       "right": null,
       "top": null,
       "visibility": null,
       "width": null
      }
     },
     "1ca10a568fdc4060ad6eb3f7c1dd2c7b": {
      "model_module": "@jupyter-widgets/base",
      "model_module_version": "1.2.0",
      "model_name": "LayoutModel",
      "state": {
       "_model_module": "@jupyter-widgets/base",
       "_model_module_version": "1.2.0",
       "_model_name": "LayoutModel",
       "_view_count": null,
       "_view_module": "@jupyter-widgets/base",
       "_view_module_version": "1.2.0",
       "_view_name": "LayoutView",
       "align_content": null,
       "align_items": null,
       "align_self": null,
       "border": null,
       "bottom": null,
       "display": null,
       "flex": null,
       "flex_flow": null,
       "grid_area": null,
       "grid_auto_columns": null,
       "grid_auto_flow": null,
       "grid_auto_rows": null,
       "grid_column": null,
       "grid_gap": null,
       "grid_row": null,
       "grid_template_areas": null,
       "grid_template_columns": null,
       "grid_template_rows": null,
       "height": null,
       "justify_content": null,
       "justify_items": null,
       "left": null,
       "margin": null,
       "max_height": null,
       "max_width": null,
       "min_height": null,
       "min_width": null,
       "object_fit": null,
       "object_position": null,
       "order": null,
       "overflow": null,
       "overflow_x": null,
       "overflow_y": null,
       "padding": null,
       "right": null,
       "top": null,
       "visibility": null,
       "width": null
      }
     },
     "24aa6361834644b586566463ebbc0c6f": {
      "model_module": "@jupyter-widgets/controls",
      "model_module_version": "1.5.0",
      "model_name": "HTMLModel",
      "state": {
       "_dom_classes": [],
       "_model_module": "@jupyter-widgets/controls",
       "_model_module_version": "1.5.0",
       "_model_name": "HTMLModel",
       "_view_count": null,
       "_view_module": "@jupyter-widgets/controls",
       "_view_module_version": "1.5.0",
       "_view_name": "HTMLView",
       "description": "",
       "description_tooltip": null,
       "layout": "IPY_MODEL_98f19569f22b4891b02ede855dca29be",
       "placeholder": "​",
       "style": "IPY_MODEL_e87d33f5b146484887e9c883e6be74f6",
       "value": "special_tokens_map.json: 100%"
      }
     },
     "26572900e534436eb9efc76c02818432": {
      "model_module": "@jupyter-widgets/base",
      "model_module_version": "1.2.0",
      "model_name": "LayoutModel",
      "state": {
       "_model_module": "@jupyter-widgets/base",
       "_model_module_version": "1.2.0",
       "_model_name": "LayoutModel",
       "_view_count": null,
       "_view_module": "@jupyter-widgets/base",
       "_view_module_version": "1.2.0",
       "_view_name": "LayoutView",
       "align_content": null,
       "align_items": null,
       "align_self": null,
       "border": null,
       "bottom": null,
       "display": null,
       "flex": null,
       "flex_flow": null,
       "grid_area": null,
       "grid_auto_columns": null,
       "grid_auto_flow": null,
       "grid_auto_rows": null,
       "grid_column": null,
       "grid_gap": null,
       "grid_row": null,
       "grid_template_areas": null,
       "grid_template_columns": null,
       "grid_template_rows": null,
       "height": null,
       "justify_content": null,
       "justify_items": null,
       "left": null,
       "margin": null,
       "max_height": null,
       "max_width": null,
       "min_height": null,
       "min_width": null,
       "object_fit": null,
       "object_position": null,
       "order": null,
       "overflow": null,
       "overflow_x": null,
       "overflow_y": null,
       "padding": null,
       "right": null,
       "top": null,
       "visibility": null,
       "width": null
      }
     },
     "26dfc42141c940ef80c1b934055e7261": {
      "model_module": "@jupyter-widgets/controls",
      "model_module_version": "1.5.0",
      "model_name": "HTMLModel",
      "state": {
       "_dom_classes": [],
       "_model_module": "@jupyter-widgets/controls",
       "_model_module_version": "1.5.0",
       "_model_name": "HTMLModel",
       "_view_count": null,
       "_view_module": "@jupyter-widgets/controls",
       "_view_module_version": "1.5.0",
       "_view_name": "HTMLView",
       "description": "",
       "description_tooltip": null,
       "layout": "IPY_MODEL_e893563b9ae04b72a1e3ef79d20d85a8",
       "placeholder": "​",
       "style": "IPY_MODEL_404b9dd231da447ca3ca3dd321d72c8c",
       "value": " 112/112 [00:00&lt;00:00, 9.72kB/s]"
      }
     },
     "27912b2345cc42a3be00d55c1a4fdb6c": {
      "model_module": "@jupyter-widgets/base",
      "model_module_version": "1.2.0",
      "model_name": "LayoutModel",
      "state": {
       "_model_module": "@jupyter-widgets/base",
       "_model_module_version": "1.2.0",
       "_model_name": "LayoutModel",
       "_view_count": null,
       "_view_module": "@jupyter-widgets/base",
       "_view_module_version": "1.2.0",
       "_view_name": "LayoutView",
       "align_content": null,
       "align_items": null,
       "align_self": null,
       "border": null,
       "bottom": null,
       "display": null,
       "flex": null,
       "flex_flow": null,
       "grid_area": null,
       "grid_auto_columns": null,
       "grid_auto_flow": null,
       "grid_auto_rows": null,
       "grid_column": null,
       "grid_gap": null,
       "grid_row": null,
       "grid_template_areas": null,
       "grid_template_columns": null,
       "grid_template_rows": null,
       "height": null,
       "justify_content": null,
       "justify_items": null,
       "left": null,
       "margin": null,
       "max_height": null,
       "max_width": null,
       "min_height": null,
       "min_width": null,
       "object_fit": null,
       "object_position": null,
       "order": null,
       "overflow": null,
       "overflow_x": null,
       "overflow_y": null,
       "padding": null,
       "right": null,
       "top": null,
       "visibility": null,
       "width": null
      }
     },
     "27b8fdd0ee104be09f2c38cd2ce35ae8": {
      "model_module": "@jupyter-widgets/controls",
      "model_module_version": "1.5.0",
      "model_name": "HBoxModel",
      "state": {
       "_dom_classes": [],
       "_model_module": "@jupyter-widgets/controls",
       "_model_module_version": "1.5.0",
       "_model_name": "HBoxModel",
       "_view_count": null,
       "_view_module": "@jupyter-widgets/controls",
       "_view_module_version": "1.5.0",
       "_view_name": "HBoxView",
       "box_style": "",
       "children": [
        "IPY_MODEL_e69c621d88864a5183cceb825e91a3bc",
        "IPY_MODEL_ca75d3d758344d6f8a6f12e748280f10",
        "IPY_MODEL_00543aed33d641cda409ae172303ca5b"
       ],
       "layout": "IPY_MODEL_fb73c16e50654b07a00f063a5be6d5e5"
      }
     },
     "313b37608002423097f5c93182c13238": {
      "model_module": "@jupyter-widgets/base",
      "model_module_version": "1.2.0",
      "model_name": "LayoutModel",
      "state": {
       "_model_module": "@jupyter-widgets/base",
       "_model_module_version": "1.2.0",
       "_model_name": "LayoutModel",
       "_view_count": null,
       "_view_module": "@jupyter-widgets/base",
       "_view_module_version": "1.2.0",
       "_view_name": "LayoutView",
       "align_content": null,
       "align_items": null,
       "align_self": null,
       "border": null,
       "bottom": null,
       "display": null,
       "flex": null,
       "flex_flow": null,
       "grid_area": null,
       "grid_auto_columns": null,
       "grid_auto_flow": null,
       "grid_auto_rows": null,
       "grid_column": null,
       "grid_gap": null,
       "grid_row": null,
       "grid_template_areas": null,
       "grid_template_columns": null,
       "grid_template_rows": null,
       "height": null,
       "justify_content": null,
       "justify_items": null,
       "left": null,
       "margin": null,
       "max_height": null,
       "max_width": null,
       "min_height": null,
       "min_width": null,
       "object_fit": null,
       "object_position": null,
       "order": null,
       "overflow": null,
       "overflow_x": null,
       "overflow_y": null,
       "padding": null,
       "right": null,
       "top": null,
       "visibility": null,
       "width": null
      }
     },
     "37e455217dec480e95807bbeed2e21e6": {
      "model_module": "@jupyter-widgets/controls",
      "model_module_version": "1.5.0",
      "model_name": "FloatProgressModel",
      "state": {
       "_dom_classes": [],
       "_model_module": "@jupyter-widgets/controls",
       "_model_module_version": "1.5.0",
       "_model_name": "FloatProgressModel",
       "_view_count": null,
       "_view_module": "@jupyter-widgets/controls",
       "_view_module_version": "1.5.0",
       "_view_name": "ProgressView",
       "bar_style": "success",
       "description": "",
       "description_tooltip": null,
       "layout": "IPY_MODEL_0110730e4ce34facb25e37d3ab97b880",
       "max": 112.0,
       "min": 0.0,
       "orientation": "horizontal",
       "style": "IPY_MODEL_79e6927702f64b9e8721e8b73079a89a",
       "value": 112.0
      }
     },
     "3c1a0ec710424d1694b6d5cf44deec40": {
      "model_module": "@jupyter-widgets/controls",
      "model_module_version": "1.5.0",
      "model_name": "DescriptionStyleModel",
      "state": {
       "_model_module": "@jupyter-widgets/controls",
       "_model_module_version": "1.5.0",
       "_model_name": "DescriptionStyleModel",
       "_view_count": null,
       "_view_module": "@jupyter-widgets/base",
       "_view_module_version": "1.2.0",
       "_view_name": "StyleView",
       "description_width": ""
      }
     },
     "3e2f77586cc24637b8752127171d50d4": {
      "model_module": "@jupyter-widgets/controls",
      "model_module_version": "1.5.0",
      "model_name": "DescriptionStyleModel",
      "state": {
       "_model_module": "@jupyter-widgets/controls",
       "_model_module_version": "1.5.0",
       "_model_name": "DescriptionStyleModel",
       "_view_count": null,
       "_view_module": "@jupyter-widgets/base",
       "_view_module_version": "1.2.0",
       "_view_name": "StyleView",
       "description_width": ""
      }
     },
     "4023fa1db3d94d058f10923813f2515f": {
      "model_module": "@jupyter-widgets/controls",
      "model_module_version": "1.5.0",
      "model_name": "HTMLModel",
      "state": {
       "_dom_classes": [],
       "_model_module": "@jupyter-widgets/controls",
       "_model_module_version": "1.5.0",
       "_model_name": "HTMLModel",
       "_view_count": null,
       "_view_module": "@jupyter-widgets/controls",
       "_view_module_version": "1.5.0",
       "_view_name": "HTMLView",
       "description": "",
       "description_tooltip": null,
       "layout": "IPY_MODEL_9efd83068f97444b9f998e4f6dc02f53",
       "placeholder": "​",
       "style": "IPY_MODEL_fb268da7b6da4610905c3f8717e52eb5",
       "value": " 232k/232k [00:00&lt;00:00, 3.64MB/s]"
      }
     },
     "404b9dd231da447ca3ca3dd321d72c8c": {
      "model_module": "@jupyter-widgets/controls",
      "model_module_version": "1.5.0",
      "model_name": "DescriptionStyleModel",
      "state": {
       "_model_module": "@jupyter-widgets/controls",
       "_model_module_version": "1.5.0",
       "_model_name": "DescriptionStyleModel",
       "_view_count": null,
       "_view_module": "@jupyter-widgets/base",
       "_view_module_version": "1.2.0",
       "_view_name": "StyleView",
       "description_width": ""
      }
     },
     "416685b868cf4c71a26bffe28d4829b8": {
      "model_module": "@jupyter-widgets/base",
      "model_module_version": "1.2.0",
      "model_name": "LayoutModel",
      "state": {
       "_model_module": "@jupyter-widgets/base",
       "_model_module_version": "1.2.0",
       "_model_name": "LayoutModel",
       "_view_count": null,
       "_view_module": "@jupyter-widgets/base",
       "_view_module_version": "1.2.0",
       "_view_name": "LayoutView",
       "align_content": null,
       "align_items": null,
       "align_self": null,
       "border": null,
       "bottom": null,
       "display": null,
       "flex": null,
       "flex_flow": null,
       "grid_area": null,
       "grid_auto_columns": null,
       "grid_auto_flow": null,
       "grid_auto_rows": null,
       "grid_column": null,
       "grid_gap": null,
       "grid_row": null,
       "grid_template_areas": null,
       "grid_template_columns": null,
       "grid_template_rows": null,
       "height": null,
       "justify_content": null,
       "justify_items": null,
       "left": null,
       "margin": null,
       "max_height": null,
       "max_width": null,
       "min_height": null,
       "min_width": null,
       "object_fit": null,
       "object_position": null,
       "order": null,
       "overflow": null,
       "overflow_x": null,
       "overflow_y": null,
       "padding": null,
       "right": null,
       "top": null,
       "visibility": null,
       "width": null
      }
     },
     "4463d90e8666422cb10b8e040980c58b": {
      "model_module": "@jupyter-widgets/controls",
      "model_module_version": "1.5.0",
      "model_name": "DescriptionStyleModel",
      "state": {
       "_model_module": "@jupyter-widgets/controls",
       "_model_module_version": "1.5.0",
       "_model_name": "DescriptionStyleModel",
       "_view_count": null,
       "_view_module": "@jupyter-widgets/base",
       "_view_module_version": "1.2.0",
       "_view_name": "StyleView",
       "description_width": ""
      }
     },
     "46a77c91ede941c2861aa2a934ea15f0": {
      "model_module": "@jupyter-widgets/base",
      "model_module_version": "1.2.0",
      "model_name": "LayoutModel",
      "state": {
       "_model_module": "@jupyter-widgets/base",
       "_model_module_version": "1.2.0",
       "_model_name": "LayoutModel",
       "_view_count": null,
       "_view_module": "@jupyter-widgets/base",
       "_view_module_version": "1.2.0",
       "_view_name": "LayoutView",
       "align_content": null,
       "align_items": null,
       "align_self": null,
       "border": null,
       "bottom": null,
       "display": null,
       "flex": null,
       "flex_flow": null,
       "grid_area": null,
       "grid_auto_columns": null,
       "grid_auto_flow": null,
       "grid_auto_rows": null,
       "grid_column": null,
       "grid_gap": null,
       "grid_row": null,
       "grid_template_areas": null,
       "grid_template_columns": null,
       "grid_template_rows": null,
       "height": null,
       "justify_content": null,
       "justify_items": null,
       "left": null,
       "margin": null,
       "max_height": null,
       "max_width": null,
       "min_height": null,
       "min_width": null,
       "object_fit": null,
       "object_position": null,
       "order": null,
       "overflow": null,
       "overflow_x": null,
       "overflow_y": null,
       "padding": null,
       "right": null,
       "top": null,
       "visibility": null,
       "width": null
      }
     },
     "4708703ba166461ba59f45e5d4ee49f5": {
      "model_module": "@jupyter-widgets/base",
      "model_module_version": "1.2.0",
      "model_name": "LayoutModel",
      "state": {
       "_model_module": "@jupyter-widgets/base",
       "_model_module_version": "1.2.0",
       "_model_name": "LayoutModel",
       "_view_count": null,
       "_view_module": "@jupyter-widgets/base",
       "_view_module_version": "1.2.0",
       "_view_name": "LayoutView",
       "align_content": null,
       "align_items": null,
       "align_self": null,
       "border": null,
       "bottom": null,
       "display": null,
       "flex": null,
       "flex_flow": null,
       "grid_area": null,
       "grid_auto_columns": null,
       "grid_auto_flow": null,
       "grid_auto_rows": null,
       "grid_column": null,
       "grid_gap": null,
       "grid_row": null,
       "grid_template_areas": null,
       "grid_template_columns": null,
       "grid_template_rows": null,
       "height": null,
       "justify_content": null,
       "justify_items": null,
       "left": null,
       "margin": null,
       "max_height": null,
       "max_width": null,
       "min_height": null,
       "min_width": null,
       "object_fit": null,
       "object_position": null,
       "order": null,
       "overflow": null,
       "overflow_x": null,
       "overflow_y": null,
       "padding": null,
       "right": null,
       "top": null,
       "visibility": null,
       "width": null
      }
     },
     "48a90defb54e43ec95c1a82f1d1796e9": {
      "model_module": "@jupyter-widgets/controls",
      "model_module_version": "1.5.0",
      "model_name": "DescriptionStyleModel",
      "state": {
       "_model_module": "@jupyter-widgets/controls",
       "_model_module_version": "1.5.0",
       "_model_name": "DescriptionStyleModel",
       "_view_count": null,
       "_view_module": "@jupyter-widgets/base",
       "_view_module_version": "1.2.0",
       "_view_name": "StyleView",
       "description_width": ""
      }
     },
     "4af58d7cdec24d968dc48d239aa85599": {
      "model_module": "@jupyter-widgets/controls",
      "model_module_version": "1.5.0",
      "model_name": "HBoxModel",
      "state": {
       "_dom_classes": [],
       "_model_module": "@jupyter-widgets/controls",
       "_model_module_version": "1.5.0",
       "_model_name": "HBoxModel",
       "_view_count": null,
       "_view_module": "@jupyter-widgets/controls",
       "_view_module_version": "1.5.0",
       "_view_name": "HBoxView",
       "box_style": "",
       "children": [
        "IPY_MODEL_24aa6361834644b586566463ebbc0c6f",
        "IPY_MODEL_37e455217dec480e95807bbeed2e21e6",
        "IPY_MODEL_26dfc42141c940ef80c1b934055e7261"
       ],
       "layout": "IPY_MODEL_bdfd1b84ba5d4727baf87010b9a9f312"
      }
     },
     "4dd7b2b4a30040f29cf21af0a58e3caf": {
      "model_module": "@jupyter-widgets/base",
      "model_module_version": "1.2.0",
      "model_name": "LayoutModel",
      "state": {
       "_model_module": "@jupyter-widgets/base",
       "_model_module_version": "1.2.0",
       "_model_name": "LayoutModel",
       "_view_count": null,
       "_view_module": "@jupyter-widgets/base",
       "_view_module_version": "1.2.0",
       "_view_name": "LayoutView",
       "align_content": null,
       "align_items": null,
       "align_self": null,
       "border": null,
       "bottom": null,
       "display": null,
       "flex": null,
       "flex_flow": null,
       "grid_area": null,
       "grid_auto_columns": null,
       "grid_auto_flow": null,
       "grid_auto_rows": null,
       "grid_column": null,
       "grid_gap": null,
       "grid_row": null,
       "grid_template_areas": null,
       "grid_template_columns": null,
       "grid_template_rows": null,
       "height": null,
       "justify_content": null,
       "justify_items": null,
       "left": null,
       "margin": null,
       "max_height": null,
       "max_width": null,
       "min_height": null,
       "min_width": null,
       "object_fit": null,
       "object_position": null,
       "order": null,
       "overflow": null,
       "overflow_x": null,
       "overflow_y": null,
       "padding": null,
       "right": null,
       "top": null,
       "visibility": null,
       "width": null
      }
     },
     "501eef099e054451818369d6da2abbea": {
      "model_module": "@jupyter-widgets/base",
      "model_module_version": "1.2.0",
      "model_name": "LayoutModel",
      "state": {
       "_model_module": "@jupyter-widgets/base",
       "_model_module_version": "1.2.0",
       "_model_name": "LayoutModel",
       "_view_count": null,
       "_view_module": "@jupyter-widgets/base",
       "_view_module_version": "1.2.0",
       "_view_name": "LayoutView",
       "align_content": null,
       "align_items": null,
       "align_self": null,
       "border": null,
       "bottom": null,
       "display": null,
       "flex": null,
       "flex_flow": null,
       "grid_area": null,
       "grid_auto_columns": null,
       "grid_auto_flow": null,
       "grid_auto_rows": null,
       "grid_column": null,
       "grid_gap": null,
       "grid_row": null,
       "grid_template_areas": null,
       "grid_template_columns": null,
       "grid_template_rows": null,
       "height": null,
       "justify_content": null,
       "justify_items": null,
       "left": null,
       "margin": null,
       "max_height": null,
       "max_width": null,
       "min_height": null,
       "min_width": null,
       "object_fit": null,
       "object_position": null,
       "order": null,
       "overflow": null,
       "overflow_x": null,
       "overflow_y": null,
       "padding": null,
       "right": null,
       "top": null,
       "visibility": null,
       "width": null
      }
     },
     "50f03c5efa944218bb5c67fa33420dd3": {
      "model_module": "@jupyter-widgets/controls",
      "model_module_version": "1.5.0",
      "model_name": "ProgressStyleModel",
      "state": {
       "_model_module": "@jupyter-widgets/controls",
       "_model_module_version": "1.5.0",
       "_model_name": "ProgressStyleModel",
       "_view_count": null,
       "_view_module": "@jupyter-widgets/base",
       "_view_module_version": "1.2.0",
       "_view_name": "StyleView",
       "bar_color": null,
       "description_width": ""
      }
     },
     "5143b3f04b454b93a7ff9a6f0ad51a58": {
      "model_module": "@jupyter-widgets/base",
      "model_module_version": "1.2.0",
      "model_name": "LayoutModel",
      "state": {
       "_model_module": "@jupyter-widgets/base",
       "_model_module_version": "1.2.0",
       "_model_name": "LayoutModel",
       "_view_count": null,
       "_view_module": "@jupyter-widgets/base",
       "_view_module_version": "1.2.0",
       "_view_name": "LayoutView",
       "align_content": null,
       "align_items": null,
       "align_self": null,
       "border": null,
       "bottom": null,
       "display": null,
       "flex": null,
       "flex_flow": null,
       "grid_area": null,
       "grid_auto_columns": null,
       "grid_auto_flow": null,
       "grid_auto_rows": null,
       "grid_column": null,
       "grid_gap": null,
       "grid_row": null,
       "grid_template_areas": null,
       "grid_template_columns": null,
       "grid_template_rows": null,
       "height": null,
       "justify_content": null,
       "justify_items": null,
       "left": null,
       "margin": null,
       "max_height": null,
       "max_width": null,
       "min_height": null,
       "min_width": null,
       "object_fit": null,
       "object_position": null,
       "order": null,
       "overflow": null,
       "overflow_x": null,
       "overflow_y": null,
       "padding": null,
       "right": null,
       "top": null,
       "visibility": null,
       "width": null
      }
     },
     "5229b1e168b34308ade5bb493c4ec784": {
      "model_module": "@jupyter-widgets/base",
      "model_module_version": "1.2.0",
      "model_name": "LayoutModel",
      "state": {
       "_model_module": "@jupyter-widgets/base",
       "_model_module_version": "1.2.0",
       "_model_name": "LayoutModel",
       "_view_count": null,
       "_view_module": "@jupyter-widgets/base",
       "_view_module_version": "1.2.0",
       "_view_name": "LayoutView",
       "align_content": null,
       "align_items": null,
       "align_self": null,
       "border": null,
       "bottom": null,
       "display": null,
       "flex": null,
       "flex_flow": null,
       "grid_area": null,
       "grid_auto_columns": null,
       "grid_auto_flow": null,
       "grid_auto_rows": null,
       "grid_column": null,
       "grid_gap": null,
       "grid_row": null,
       "grid_template_areas": null,
       "grid_template_columns": null,
       "grid_template_rows": null,
       "height": null,
       "justify_content": null,
       "justify_items": null,
       "left": null,
       "margin": null,
       "max_height": null,
       "max_width": null,
       "min_height": null,
       "min_width": null,
       "object_fit": null,
       "object_position": null,
       "order": null,
       "overflow": null,
       "overflow_x": null,
       "overflow_y": null,
       "padding": null,
       "right": null,
       "top": null,
       "visibility": null,
       "width": null
      }
     },
     "5390e53a8a13443d9d92a31b6ca3f242": {
      "model_module": "@jupyter-widgets/controls",
      "model_module_version": "1.5.0",
      "model_name": "ProgressStyleModel",
      "state": {
       "_model_module": "@jupyter-widgets/controls",
       "_model_module_version": "1.5.0",
       "_model_name": "ProgressStyleModel",
       "_view_count": null,
       "_view_module": "@jupyter-widgets/base",
       "_view_module_version": "1.2.0",
       "_view_name": "StyleView",
       "bar_color": null,
       "description_width": ""
      }
     },
     "5d366756abb4482581347420a0a3e05e": {
      "model_module": "@jupyter-widgets/controls",
      "model_module_version": "1.5.0",
      "model_name": "HTMLModel",
      "state": {
       "_dom_classes": [],
       "_model_module": "@jupyter-widgets/controls",
       "_model_module_version": "1.5.0",
       "_model_name": "HTMLModel",
       "_view_count": null,
       "_view_module": "@jupyter-widgets/controls",
       "_view_module_version": "1.5.0",
       "_view_name": "HTMLView",
       "description": "",
       "description_tooltip": null,
       "layout": "IPY_MODEL_313b37608002423097f5c93182c13238",
       "placeholder": "​",
       "style": "IPY_MODEL_18be6e33cb0240cfb195375289100849",
       "value": "Map: 100%"
      }
     },
     "5d5b9d1e5e58427fbfd53f51da2e206d": {
      "model_module": "@jupyter-widgets/controls",
      "model_module_version": "1.5.0",
      "model_name": "ProgressStyleModel",
      "state": {
       "_model_module": "@jupyter-widgets/controls",
       "_model_module_version": "1.5.0",
       "_model_name": "ProgressStyleModel",
       "_view_count": null,
       "_view_module": "@jupyter-widgets/base",
       "_view_module_version": "1.2.0",
       "_view_name": "StyleView",
       "bar_color": null,
       "description_width": ""
      }
     },
     "6467a5956bfb459d962704f571f89e6e": {
      "model_module": "@jupyter-widgets/controls",
      "model_module_version": "1.5.0",
      "model_name": "ProgressStyleModel",
      "state": {
       "_model_module": "@jupyter-widgets/controls",
       "_model_module_version": "1.5.0",
       "_model_name": "ProgressStyleModel",
       "_view_count": null,
       "_view_module": "@jupyter-widgets/base",
       "_view_module_version": "1.2.0",
       "_view_name": "StyleView",
       "bar_color": null,
       "description_width": ""
      }
     },
     "6f6accb5116c4cc6aaa619825e869eba": {
      "model_module": "@jupyter-widgets/controls",
      "model_module_version": "1.5.0",
      "model_name": "FloatProgressModel",
      "state": {
       "_dom_classes": [],
       "_model_module": "@jupyter-widgets/controls",
       "_model_module_version": "1.5.0",
       "_model_name": "FloatProgressModel",
       "_view_count": null,
       "_view_module": "@jupyter-widgets/controls",
       "_view_module_version": "1.5.0",
       "_view_name": "ProgressView",
       "bar_style": "success",
       "description": "",
       "description_tooltip": null,
       "layout": "IPY_MODEL_416685b868cf4c71a26bffe28d4829b8",
       "max": 3769.0,
       "min": 0.0,
       "orientation": "horizontal",
       "style": "IPY_MODEL_5390e53a8a13443d9d92a31b6ca3f242",
       "value": 3769.0
      }
     },
     "6fbe2b730e2e4bb3bc4400b6c159fc83": {
      "model_module": "@jupyter-widgets/base",
      "model_module_version": "1.2.0",
      "model_name": "LayoutModel",
      "state": {
       "_model_module": "@jupyter-widgets/base",
       "_model_module_version": "1.2.0",
       "_model_name": "LayoutModel",
       "_view_count": null,
       "_view_module": "@jupyter-widgets/base",
       "_view_module_version": "1.2.0",
       "_view_name": "LayoutView",
       "align_content": null,
       "align_items": null,
       "align_self": null,
       "border": null,
       "bottom": null,
       "display": null,
       "flex": null,
       "flex_flow": null,
       "grid_area": null,
       "grid_auto_columns": null,
       "grid_auto_flow": null,
       "grid_auto_rows": null,
       "grid_column": null,
       "grid_gap": null,
       "grid_row": null,
       "grid_template_areas": null,
       "grid_template_columns": null,
       "grid_template_rows": null,
       "height": null,
       "justify_content": null,
       "justify_items": null,
       "left": null,
       "margin": null,
       "max_height": null,
       "max_width": null,
       "min_height": null,
       "min_width": null,
       "object_fit": null,
       "object_position": null,
       "order": null,
       "overflow": null,
       "overflow_x": null,
       "overflow_y": null,
       "padding": null,
       "right": null,
       "top": null,
       "visibility": null,
       "width": null
      }
     },
     "70b0c950ea3c4238bdbfdfcc441f6eef": {
      "model_module": "@jupyter-widgets/controls",
      "model_module_version": "1.5.0",
      "model_name": "DescriptionStyleModel",
      "state": {
       "_model_module": "@jupyter-widgets/controls",
       "_model_module_version": "1.5.0",
       "_model_name": "DescriptionStyleModel",
       "_view_count": null,
       "_view_module": "@jupyter-widgets/base",
       "_view_module_version": "1.2.0",
       "_view_name": "StyleView",
       "description_width": ""
      }
     },
     "70b77d24e4064691aba15413a9529442": {
      "model_module": "@jupyter-widgets/controls",
      "model_module_version": "1.5.0",
      "model_name": "HBoxModel",
      "state": {
       "_dom_classes": [],
       "_model_module": "@jupyter-widgets/controls",
       "_model_module_version": "1.5.0",
       "_model_name": "HBoxModel",
       "_view_count": null,
       "_view_module": "@jupyter-widgets/controls",
       "_view_module_version": "1.5.0",
       "_view_name": "HBoxView",
       "box_style": "",
       "children": [
        "IPY_MODEL_c5843385373d4e87a0cf3b4ee6148020",
        "IPY_MODEL_bcf89e9a76c94305aa872dd60d4562d8",
        "IPY_MODEL_97b03f49ff744f3d8fc4ff0c6a1c017f"
       ],
       "layout": "IPY_MODEL_1ca10a568fdc4060ad6eb3f7c1dd2c7b"
      }
     },
     "75d327841d8a470e8b34e252663a9541": {
      "model_module": "@jupyter-widgets/base",
      "model_module_version": "1.2.0",
      "model_name": "LayoutModel",
      "state": {
       "_model_module": "@jupyter-widgets/base",
       "_model_module_version": "1.2.0",
       "_model_name": "LayoutModel",
       "_view_count": null,
       "_view_module": "@jupyter-widgets/base",
       "_view_module_version": "1.2.0",
       "_view_name": "LayoutView",
       "align_content": null,
       "align_items": null,
       "align_self": null,
       "border": null,
       "bottom": null,
       "display": null,
       "flex": null,
       "flex_flow": null,
       "grid_area": null,
       "grid_auto_columns": null,
       "grid_auto_flow": null,
       "grid_auto_rows": null,
       "grid_column": null,
       "grid_gap": null,
       "grid_row": null,
       "grid_template_areas": null,
       "grid_template_columns": null,
       "grid_template_rows": null,
       "height": null,
       "justify_content": null,
       "justify_items": null,
       "left": null,
       "margin": null,
       "max_height": null,
       "max_width": null,
       "min_height": null,
       "min_width": null,
       "object_fit": null,
       "object_position": null,
       "order": null,
       "overflow": null,
       "overflow_x": null,
       "overflow_y": null,
       "padding": null,
       "right": null,
       "top": null,
       "visibility": null,
       "width": null
      }
     },
     "7717951195f14c83b5badef1091823e2": {
      "model_module": "@jupyter-widgets/controls",
      "model_module_version": "1.5.0",
      "model_name": "DescriptionStyleModel",
      "state": {
       "_model_module": "@jupyter-widgets/controls",
       "_model_module_version": "1.5.0",
       "_model_name": "DescriptionStyleModel",
       "_view_count": null,
       "_view_module": "@jupyter-widgets/base",
       "_view_module_version": "1.2.0",
       "_view_name": "StyleView",
       "description_width": ""
      }
     },
     "77239c85b7aa4dd583464745ac858824": {
      "model_module": "@jupyter-widgets/controls",
      "model_module_version": "1.5.0",
      "model_name": "HBoxModel",
      "state": {
       "_dom_classes": [],
       "_model_module": "@jupyter-widgets/controls",
       "_model_module_version": "1.5.0",
       "_model_name": "HBoxModel",
       "_view_count": null,
       "_view_module": "@jupyter-widgets/controls",
       "_view_module_version": "1.5.0",
       "_view_name": "HBoxView",
       "box_style": "",
       "children": [
        "IPY_MODEL_5d366756abb4482581347420a0a3e05e",
        "IPY_MODEL_b586ab8bfe564cd2a8cbfe33fe542335",
        "IPY_MODEL_05e52a272fa24b96ab14b60184596ea1"
       ],
       "layout": "IPY_MODEL_e0dfe03a0e624d9896382b67dfd93fe4"
      }
     },
     "7894ef6ec2b7492f8ca85148565c6b9b": {
      "model_module": "@jupyter-widgets/controls",
      "model_module_version": "1.5.0",
      "model_name": "HBoxModel",
      "state": {
       "_dom_classes": [],
       "_model_module": "@jupyter-widgets/controls",
       "_model_module_version": "1.5.0",
       "_model_name": "HBoxModel",
       "_view_count": null,
       "_view_module": "@jupyter-widgets/controls",
       "_view_module_version": "1.5.0",
       "_view_name": "HBoxView",
       "box_style": "",
       "children": [
        "IPY_MODEL_b0fa94c274154819b8474ea10d3585b1",
        "IPY_MODEL_c360733f74794e4f92bd92a228ea4d61",
        "IPY_MODEL_0f3920218e6847deab73f4abe0c1ecc7"
       ],
       "layout": "IPY_MODEL_e4878b03e342427aa717fa9c41f66832"
      }
     },
     "79e6927702f64b9e8721e8b73079a89a": {
      "model_module": "@jupyter-widgets/controls",
      "model_module_version": "1.5.0",
      "model_name": "ProgressStyleModel",
      "state": {
       "_model_module": "@jupyter-widgets/controls",
       "_model_module_version": "1.5.0",
       "_model_name": "ProgressStyleModel",
       "_view_count": null,
       "_view_module": "@jupyter-widgets/base",
       "_view_module_version": "1.2.0",
       "_view_name": "StyleView",
       "bar_color": null,
       "description_width": ""
      }
     },
     "7b7cae92b718411693af98b64d2669bd": {
      "model_module": "@jupyter-widgets/controls",
      "model_module_version": "1.5.0",
      "model_name": "HTMLModel",
      "state": {
       "_dom_classes": [],
       "_model_module": "@jupyter-widgets/controls",
       "_model_module_version": "1.5.0",
       "_model_name": "HTMLModel",
       "_view_count": null,
       "_view_module": "@jupyter-widgets/controls",
       "_view_module_version": "1.5.0",
       "_view_name": "HTMLView",
       "description": "",
       "description_tooltip": null,
       "layout": "IPY_MODEL_5229b1e168b34308ade5bb493c4ec784",
       "placeholder": "​",
       "style": "IPY_MODEL_70b0c950ea3c4238bdbfdfcc441f6eef",
       "value": "Map: 100%"
      }
     },
     "7f54524243d046aa8c6ac68c6219f052": {
      "model_module": "@jupyter-widgets/base",
      "model_module_version": "1.2.0",
      "model_name": "LayoutModel",
      "state": {
       "_model_module": "@jupyter-widgets/base",
       "_model_module_version": "1.2.0",
       "_model_name": "LayoutModel",
       "_view_count": null,
       "_view_module": "@jupyter-widgets/base",
       "_view_module_version": "1.2.0",
       "_view_name": "LayoutView",
       "align_content": null,
       "align_items": null,
       "align_self": null,
       "border": null,
       "bottom": null,
       "display": null,
       "flex": null,
       "flex_flow": null,
       "grid_area": null,
       "grid_auto_columns": null,
       "grid_auto_flow": null,
       "grid_auto_rows": null,
       "grid_column": null,
       "grid_gap": null,
       "grid_row": null,
       "grid_template_areas": null,
       "grid_template_columns": null,
       "grid_template_rows": null,
       "height": null,
       "justify_content": null,
       "justify_items": null,
       "left": null,
       "margin": null,
       "max_height": null,
       "max_width": null,
       "min_height": null,
       "min_width": null,
       "object_fit": null,
       "object_position": null,
       "order": null,
       "overflow": null,
       "overflow_x": null,
       "overflow_y": null,
       "padding": null,
       "right": null,
       "top": null,
       "visibility": null,
       "width": null
      }
     },
     "83e675bacb3d4f79957b3f8773ac0599": {
      "model_module": "@jupyter-widgets/controls",
      "model_module_version": "1.5.0",
      "model_name": "FloatProgressModel",
      "state": {
       "_dom_classes": [],
       "_model_module": "@jupyter-widgets/controls",
       "_model_module_version": "1.5.0",
       "_model_name": "FloatProgressModel",
       "_view_count": null,
       "_view_module": "@jupyter-widgets/controls",
       "_view_module_version": "1.5.0",
       "_view_name": "ProgressView",
       "bar_style": "success",
       "description": "",
       "description_tooltip": null,
       "layout": "IPY_MODEL_fcd21bd4b3854ae5b4f66edc905a312e",
       "max": 437992753.0,
       "min": 0.0,
       "orientation": "horizontal",
       "style": "IPY_MODEL_e694de4157324c179fbbea355f81ca4e",
       "value": 437992753.0
      }
     },
     "954bdf9626b84c288c5a1a60773b2dbc": {
      "model_module": "@jupyter-widgets/controls",
      "model_module_version": "1.5.0",
      "model_name": "HBoxModel",
      "state": {
       "_dom_classes": [],
       "_model_module": "@jupyter-widgets/controls",
       "_model_module_version": "1.5.0",
       "_model_name": "HBoxModel",
       "_view_count": null,
       "_view_module": "@jupyter-widgets/controls",
       "_view_module_version": "1.5.0",
       "_view_name": "HBoxView",
       "box_style": "",
       "children": [
        "IPY_MODEL_000c4f7c29f74a74b69904177dfc75e3",
        "IPY_MODEL_0705758d8dcf4e17812271dcaca87425",
        "IPY_MODEL_4023fa1db3d94d058f10923813f2515f"
       ],
       "layout": "IPY_MODEL_ac8a30d963794be2a914660154f06a78"
      }
     },
     "97b03f49ff744f3d8fc4ff0c6a1c017f": {
      "model_module": "@jupyter-widgets/controls",
      "model_module_version": "1.5.0",
      "model_name": "HTMLModel",
      "state": {
       "_dom_classes": [],
       "_model_module": "@jupyter-widgets/controls",
       "_model_module_version": "1.5.0",
       "_model_name": "HTMLModel",
       "_view_count": null,
       "_view_module": "@jupyter-widgets/controls",
       "_view_module_version": "1.5.0",
       "_view_name": "HTMLView",
       "description": "",
       "description_tooltip": null,
       "layout": "IPY_MODEL_afd9072e68c6470592d744c89ebbe9c0",
       "placeholder": "​",
       "style": "IPY_MODEL_48a90defb54e43ec95c1a82f1d1796e9",
       "value": " 534/534 [00:00&lt;00:00, 3482.66 examples/s]"
      }
     },
     "98f19569f22b4891b02ede855dca29be": {
      "model_module": "@jupyter-widgets/base",
      "model_module_version": "1.2.0",
      "model_name": "LayoutModel",
      "state": {
       "_model_module": "@jupyter-widgets/base",
       "_model_module_version": "1.2.0",
       "_model_name": "LayoutModel",
       "_view_count": null,
       "_view_module": "@jupyter-widgets/base",
       "_view_module_version": "1.2.0",
       "_view_name": "LayoutView",
       "align_content": null,
       "align_items": null,
       "align_self": null,
       "border": null,
       "bottom": null,
       "display": null,
       "flex": null,
       "flex_flow": null,
       "grid_area": null,
       "grid_auto_columns": null,
       "grid_auto_flow": null,
       "grid_auto_rows": null,
       "grid_column": null,
       "grid_gap": null,
       "grid_row": null,
       "grid_template_areas": null,
       "grid_template_columns": null,
       "grid_template_rows": null,
       "height": null,
       "justify_content": null,
       "justify_items": null,
       "left": null,
       "margin": null,
       "max_height": null,
       "max_width": null,
       "min_height": null,
       "min_width": null,
       "object_fit": null,
       "object_position": null,
       "order": null,
       "overflow": null,
       "overflow_x": null,
       "overflow_y": null,
       "padding": null,
       "right": null,
       "top": null,
       "visibility": null,
       "width": null
      }
     },
     "9efd83068f97444b9f998e4f6dc02f53": {
      "model_module": "@jupyter-widgets/base",
      "model_module_version": "1.2.0",
      "model_name": "LayoutModel",
      "state": {
       "_model_module": "@jupyter-widgets/base",
       "_model_module_version": "1.2.0",
       "_model_name": "LayoutModel",
       "_view_count": null,
       "_view_module": "@jupyter-widgets/base",
       "_view_module_version": "1.2.0",
       "_view_name": "LayoutView",
       "align_content": null,
       "align_items": null,
       "align_self": null,
       "border": null,
       "bottom": null,
       "display": null,
       "flex": null,
       "flex_flow": null,
       "grid_area": null,
       "grid_auto_columns": null,
       "grid_auto_flow": null,
       "grid_auto_rows": null,
       "grid_column": null,
       "grid_gap": null,
       "grid_row": null,
       "grid_template_areas": null,
       "grid_template_columns": null,
       "grid_template_rows": null,
       "height": null,
       "justify_content": null,
       "justify_items": null,
       "left": null,
       "margin": null,
       "max_height": null,
       "max_width": null,
       "min_height": null,
       "min_width": null,
       "object_fit": null,
       "object_position": null,
       "order": null,
       "overflow": null,
       "overflow_x": null,
       "overflow_y": null,
       "padding": null,
       "right": null,
       "top": null,
       "visibility": null,
       "width": null
      }
     },
     "9f4f7130a11f49bcb807b4eef6263785": {
      "model_module": "@jupyter-widgets/controls",
      "model_module_version": "1.5.0",
      "model_name": "ProgressStyleModel",
      "state": {
       "_model_module": "@jupyter-widgets/controls",
       "_model_module_version": "1.5.0",
       "_model_name": "ProgressStyleModel",
       "_view_count": null,
       "_view_module": "@jupyter-widgets/base",
       "_view_module_version": "1.2.0",
       "_view_name": "StyleView",
       "bar_color": null,
       "description_width": ""
      }
     },
     "a036b82805404ae8abcd3a45cbe13340": {
      "model_module": "@jupyter-widgets/controls",
      "model_module_version": "1.5.0",
      "model_name": "DescriptionStyleModel",
      "state": {
       "_model_module": "@jupyter-widgets/controls",
       "_model_module_version": "1.5.0",
       "_model_name": "DescriptionStyleModel",
       "_view_count": null,
       "_view_module": "@jupyter-widgets/base",
       "_view_module_version": "1.2.0",
       "_view_name": "StyleView",
       "description_width": ""
      }
     },
     "abca324efddc4b51b9d2da195c060164": {
      "model_module": "@jupyter-widgets/controls",
      "model_module_version": "1.5.0",
      "model_name": "HBoxModel",
      "state": {
       "_dom_classes": [],
       "_model_module": "@jupyter-widgets/controls",
       "_model_module_version": "1.5.0",
       "_model_name": "HBoxModel",
       "_view_count": null,
       "_view_module": "@jupyter-widgets/controls",
       "_view_module_version": "1.5.0",
       "_view_name": "HBoxView",
       "box_style": "",
       "children": [
        "IPY_MODEL_0c7fd1f46245438b9eb975f7ed535c02",
        "IPY_MODEL_83e675bacb3d4f79957b3f8773ac0599",
        "IPY_MODEL_e6b763dcd2294123b1eb2bb58ca446a1"
       ],
       "layout": "IPY_MODEL_1ae4719d8bd34df086419f5de6c99554"
      }
     },
     "ac8a30d963794be2a914660154f06a78": {
      "model_module": "@jupyter-widgets/base",
      "model_module_version": "1.2.0",
      "model_name": "LayoutModel",
      "state": {
       "_model_module": "@jupyter-widgets/base",
       "_model_module_version": "1.2.0",
       "_model_name": "LayoutModel",
       "_view_count": null,
       "_view_module": "@jupyter-widgets/base",
       "_view_module_version": "1.2.0",
       "_view_name": "LayoutView",
       "align_content": null,
       "align_items": null,
       "align_self": null,
       "border": null,
       "bottom": null,
       "display": null,
       "flex": null,
       "flex_flow": null,
       "grid_area": null,
       "grid_auto_columns": null,
       "grid_auto_flow": null,
       "grid_auto_rows": null,
       "grid_column": null,
       "grid_gap": null,
       "grid_row": null,
       "grid_template_areas": null,
       "grid_template_columns": null,
       "grid_template_rows": null,
       "height": null,
       "justify_content": null,
       "justify_items": null,
       "left": null,
       "margin": null,
       "max_height": null,
       "max_width": null,
       "min_height": null,
       "min_width": null,
       "object_fit": null,
       "object_position": null,
       "order": null,
       "overflow": null,
       "overflow_x": null,
       "overflow_y": null,
       "padding": null,
       "right": null,
       "top": null,
       "visibility": null,
       "width": null
      }
     },
     "afd9072e68c6470592d744c89ebbe9c0": {
      "model_module": "@jupyter-widgets/base",
      "model_module_version": "1.2.0",
      "model_name": "LayoutModel",
      "state": {
       "_model_module": "@jupyter-widgets/base",
       "_model_module_version": "1.2.0",
       "_model_name": "LayoutModel",
       "_view_count": null,
       "_view_module": "@jupyter-widgets/base",
       "_view_module_version": "1.2.0",
       "_view_name": "LayoutView",
       "align_content": null,
       "align_items": null,
       "align_self": null,
       "border": null,
       "bottom": null,
       "display": null,
       "flex": null,
       "flex_flow": null,
       "grid_area": null,
       "grid_auto_columns": null,
       "grid_auto_flow": null,
       "grid_auto_rows": null,
       "grid_column": null,
       "grid_gap": null,
       "grid_row": null,
       "grid_template_areas": null,
       "grid_template_columns": null,
       "grid_template_rows": null,
       "height": null,
       "justify_content": null,
       "justify_items": null,
       "left": null,
       "margin": null,
       "max_height": null,
       "max_width": null,
       "min_height": null,
       "min_width": null,
       "object_fit": null,
       "object_position": null,
       "order": null,
       "overflow": null,
       "overflow_x": null,
       "overflow_y": null,
       "padding": null,
       "right": null,
       "top": null,
       "visibility": null,
       "width": null
      }
     },
     "b0fa94c274154819b8474ea10d3585b1": {
      "model_module": "@jupyter-widgets/controls",
      "model_module_version": "1.5.0",
      "model_name": "HTMLModel",
      "state": {
       "_dom_classes": [],
       "_model_module": "@jupyter-widgets/controls",
       "_model_module_version": "1.5.0",
       "_model_name": "HTMLModel",
       "_view_count": null,
       "_view_module": "@jupyter-widgets/controls",
       "_view_module_version": "1.5.0",
       "_view_name": "HTMLView",
       "description": "",
       "description_tooltip": null,
       "layout": "IPY_MODEL_75d327841d8a470e8b34e252663a9541",
       "placeholder": "​",
       "style": "IPY_MODEL_1759803ba3f14c279e51c0929c75e3c2",
       "value": "config.json: 100%"
      }
     },
     "b586ab8bfe564cd2a8cbfe33fe542335": {
      "model_module": "@jupyter-widgets/controls",
      "model_module_version": "1.5.0",
      "model_name": "FloatProgressModel",
      "state": {
       "_dom_classes": [],
       "_model_module": "@jupyter-widgets/controls",
       "_model_module_version": "1.5.0",
       "_model_name": "FloatProgressModel",
       "_view_count": null,
       "_view_module": "@jupyter-widgets/controls",
       "_view_module_version": "1.5.0",
       "_view_name": "ProgressView",
       "bar_style": "success",
       "description": "",
       "description_tooltip": null,
       "layout": "IPY_MODEL_09b1b050c1ad432aaf2f190594060d5d",
       "max": 1082.0,
       "min": 0.0,
       "orientation": "horizontal",
       "style": "IPY_MODEL_9f4f7130a11f49bcb807b4eef6263785",
       "value": 1082.0
      }
     },
     "bb2886f4da174fbeb5dd81818feaf9ab": {
      "model_module": "@jupyter-widgets/base",
      "model_module_version": "1.2.0",
      "model_name": "LayoutModel",
      "state": {
       "_model_module": "@jupyter-widgets/base",
       "_model_module_version": "1.2.0",
       "_model_name": "LayoutModel",
       "_view_count": null,
       "_view_module": "@jupyter-widgets/base",
       "_view_module_version": "1.2.0",
       "_view_name": "LayoutView",
       "align_content": null,
       "align_items": null,
       "align_self": null,
       "border": null,
       "bottom": null,
       "display": null,
       "flex": null,
       "flex_flow": null,
       "grid_area": null,
       "grid_auto_columns": null,
       "grid_auto_flow": null,
       "grid_auto_rows": null,
       "grid_column": null,
       "grid_gap": null,
       "grid_row": null,
       "grid_template_areas": null,
       "grid_template_columns": null,
       "grid_template_rows": null,
       "height": null,
       "justify_content": null,
       "justify_items": null,
       "left": null,
       "margin": null,
       "max_height": null,
       "max_width": null,
       "min_height": null,
       "min_width": null,
       "object_fit": null,
       "object_position": null,
       "order": null,
       "overflow": null,
       "overflow_x": null,
       "overflow_y": null,
       "padding": null,
       "right": null,
       "top": null,
       "visibility": null,
       "width": null
      }
     },
     "bcf89e9a76c94305aa872dd60d4562d8": {
      "model_module": "@jupyter-widgets/controls",
      "model_module_version": "1.5.0",
      "model_name": "FloatProgressModel",
      "state": {
       "_dom_classes": [],
       "_model_module": "@jupyter-widgets/controls",
       "_model_module_version": "1.5.0",
       "_model_name": "FloatProgressModel",
       "_view_count": null,
       "_view_module": "@jupyter-widgets/controls",
       "_view_module_version": "1.5.0",
       "_view_name": "ProgressView",
       "bar_style": "success",
       "description": "",
       "description_tooltip": null,
       "layout": "IPY_MODEL_fe5e533d8e204b0fb37eb650cd796a06",
       "max": 534.0,
       "min": 0.0,
       "orientation": "horizontal",
       "style": "IPY_MODEL_50f03c5efa944218bb5c67fa33420dd3",
       "value": 534.0
      }
     },
     "bdfd1b84ba5d4727baf87010b9a9f312": {
      "model_module": "@jupyter-widgets/base",
      "model_module_version": "1.2.0",
      "model_name": "LayoutModel",
      "state": {
       "_model_module": "@jupyter-widgets/base",
       "_model_module_version": "1.2.0",
       "_model_name": "LayoutModel",
       "_view_count": null,
       "_view_module": "@jupyter-widgets/base",
       "_view_module_version": "1.2.0",
       "_view_name": "LayoutView",
       "align_content": null,
       "align_items": null,
       "align_self": null,
       "border": null,
       "bottom": null,
       "display": null,
       "flex": null,
       "flex_flow": null,
       "grid_area": null,
       "grid_auto_columns": null,
       "grid_auto_flow": null,
       "grid_auto_rows": null,
       "grid_column": null,
       "grid_gap": null,
       "grid_row": null,
       "grid_template_areas": null,
       "grid_template_columns": null,
       "grid_template_rows": null,
       "height": null,
       "justify_content": null,
       "justify_items": null,
       "left": null,
       "margin": null,
       "max_height": null,
       "max_width": null,
       "min_height": null,
       "min_width": null,
       "object_fit": null,
       "object_position": null,
       "order": null,
       "overflow": null,
       "overflow_x": null,
       "overflow_y": null,
       "padding": null,
       "right": null,
       "top": null,
       "visibility": null,
       "width": null
      }
     },
     "beefe1b56c104317a931a4e802cbbc57": {
      "model_module": "@jupyter-widgets/controls",
      "model_module_version": "1.5.0",
      "model_name": "HTMLModel",
      "state": {
       "_dom_classes": [],
       "_model_module": "@jupyter-widgets/controls",
       "_model_module_version": "1.5.0",
       "_model_name": "HTMLModel",
       "_view_count": null,
       "_view_module": "@jupyter-widgets/controls",
       "_view_module_version": "1.5.0",
       "_view_name": "HTMLView",
       "description": "",
       "description_tooltip": null,
       "layout": "IPY_MODEL_501eef099e054451818369d6da2abbea",
       "placeholder": "​",
       "style": "IPY_MODEL_a036b82805404ae8abcd3a45cbe13340",
       "value": " 3769/3769 [00:00&lt;00:00, 4741.33 examples/s]"
      }
     },
     "c360733f74794e4f92bd92a228ea4d61": {
      "model_module": "@jupyter-widgets/controls",
      "model_module_version": "1.5.0",
      "model_name": "FloatProgressModel",
      "state": {
       "_dom_classes": [],
       "_model_module": "@jupyter-widgets/controls",
       "_model_module_version": "1.5.0",
       "_model_name": "FloatProgressModel",
       "_view_count": null,
       "_view_module": "@jupyter-widgets/controls",
       "_view_module_version": "1.5.0",
       "_view_name": "ProgressView",
       "bar_style": "success",
       "description": "",
       "description_tooltip": null,
       "layout": "IPY_MODEL_26572900e534436eb9efc76c02818432",
       "max": 758.0,
       "min": 0.0,
       "orientation": "horizontal",
       "style": "IPY_MODEL_f3f2e7c1994d487fbecf033357c1e30e",
       "value": 758.0
      }
     },
     "c5843385373d4e87a0cf3b4ee6148020": {
      "model_module": "@jupyter-widgets/controls",
      "model_module_version": "1.5.0",
      "model_name": "HTMLModel",
      "state": {
       "_dom_classes": [],
       "_model_module": "@jupyter-widgets/controls",
       "_model_module_version": "1.5.0",
       "_model_name": "HTMLModel",
       "_view_count": null,
       "_view_module": "@jupyter-widgets/controls",
       "_view_module_version": "1.5.0",
       "_view_name": "HTMLView",
       "description": "",
       "description_tooltip": null,
       "layout": "IPY_MODEL_bb2886f4da174fbeb5dd81818feaf9ab",
       "placeholder": "​",
       "style": "IPY_MODEL_f13932e4187c4f7ea81622ce105221a0",
       "value": "Map: 100%"
      }
     },
     "ca75d3d758344d6f8a6f12e748280f10": {
      "model_module": "@jupyter-widgets/controls",
      "model_module_version": "1.5.0",
      "model_name": "FloatProgressModel",
      "state": {
       "_dom_classes": [],
       "_model_module": "@jupyter-widgets/controls",
       "_model_module_version": "1.5.0",
       "_model_name": "FloatProgressModel",
       "_view_count": null,
       "_view_module": "@jupyter-widgets/controls",
       "_view_module_version": "1.5.0",
       "_view_name": "ProgressView",
       "bar_style": "success",
       "description": "",
       "description_tooltip": null,
       "layout": "IPY_MODEL_fa73747e9c3b47619698d8650e704a47",
       "max": 252.0,
       "min": 0.0,
       "orientation": "horizontal",
       "style": "IPY_MODEL_6467a5956bfb459d962704f571f89e6e",
       "value": 252.0
      }
     },
     "dbf847fd371d430e928d959b255e3e9e": {
      "model_module": "@jupyter-widgets/controls",
      "model_module_version": "1.5.0",
      "model_name": "DescriptionStyleModel",
      "state": {
       "_model_module": "@jupyter-widgets/controls",
       "_model_module_version": "1.5.0",
       "_model_name": "DescriptionStyleModel",
       "_view_count": null,
       "_view_module": "@jupyter-widgets/base",
       "_view_module_version": "1.2.0",
       "_view_name": "StyleView",
       "description_width": ""
      }
     },
     "e0dfe03a0e624d9896382b67dfd93fe4": {
      "model_module": "@jupyter-widgets/base",
      "model_module_version": "1.2.0",
      "model_name": "LayoutModel",
      "state": {
       "_model_module": "@jupyter-widgets/base",
       "_model_module_version": "1.2.0",
       "_model_name": "LayoutModel",
       "_view_count": null,
       "_view_module": "@jupyter-widgets/base",
       "_view_module_version": "1.2.0",
       "_view_name": "LayoutView",
       "align_content": null,
       "align_items": null,
       "align_self": null,
       "border": null,
       "bottom": null,
       "display": null,
       "flex": null,
       "flex_flow": null,
       "grid_area": null,
       "grid_auto_columns": null,
       "grid_auto_flow": null,
       "grid_auto_rows": null,
       "grid_column": null,
       "grid_gap": null,
       "grid_row": null,
       "grid_template_areas": null,
       "grid_template_columns": null,
       "grid_template_rows": null,
       "height": null,
       "justify_content": null,
       "justify_items": null,
       "left": null,
       "margin": null,
       "max_height": null,
       "max_width": null,
       "min_height": null,
       "min_width": null,
       "object_fit": null,
       "object_position": null,
       "order": null,
       "overflow": null,
       "overflow_x": null,
       "overflow_y": null,
       "padding": null,
       "right": null,
       "top": null,
       "visibility": null,
       "width": null
      }
     },
     "e4878b03e342427aa717fa9c41f66832": {
      "model_module": "@jupyter-widgets/base",
      "model_module_version": "1.2.0",
      "model_name": "LayoutModel",
      "state": {
       "_model_module": "@jupyter-widgets/base",
       "_model_module_version": "1.2.0",
       "_model_name": "LayoutModel",
       "_view_count": null,
       "_view_module": "@jupyter-widgets/base",
       "_view_module_version": "1.2.0",
       "_view_name": "LayoutView",
       "align_content": null,
       "align_items": null,
       "align_self": null,
       "border": null,
       "bottom": null,
       "display": null,
       "flex": null,
       "flex_flow": null,
       "grid_area": null,
       "grid_auto_columns": null,
       "grid_auto_flow": null,
       "grid_auto_rows": null,
       "grid_column": null,
       "grid_gap": null,
       "grid_row": null,
       "grid_template_areas": null,
       "grid_template_columns": null,
       "grid_template_rows": null,
       "height": null,
       "justify_content": null,
       "justify_items": null,
       "left": null,
       "margin": null,
       "max_height": null,
       "max_width": null,
       "min_height": null,
       "min_width": null,
       "object_fit": null,
       "object_position": null,
       "order": null,
       "overflow": null,
       "overflow_x": null,
       "overflow_y": null,
       "padding": null,
       "right": null,
       "top": null,
       "visibility": null,
       "width": null
      }
     },
     "e694de4157324c179fbbea355f81ca4e": {
      "model_module": "@jupyter-widgets/controls",
      "model_module_version": "1.5.0",
      "model_name": "ProgressStyleModel",
      "state": {
       "_model_module": "@jupyter-widgets/controls",
       "_model_module_version": "1.5.0",
       "_model_name": "ProgressStyleModel",
       "_view_count": null,
       "_view_module": "@jupyter-widgets/base",
       "_view_module_version": "1.2.0",
       "_view_name": "StyleView",
       "bar_color": null,
       "description_width": ""
      }
     },
     "e69c621d88864a5183cceb825e91a3bc": {
      "model_module": "@jupyter-widgets/controls",
      "model_module_version": "1.5.0",
      "model_name": "HTMLModel",
      "state": {
       "_dom_classes": [],
       "_model_module": "@jupyter-widgets/controls",
       "_model_module_version": "1.5.0",
       "_model_name": "HTMLModel",
       "_view_count": null,
       "_view_module": "@jupyter-widgets/controls",
       "_view_module_version": "1.5.0",
       "_view_name": "HTMLView",
       "description": "",
       "description_tooltip": null,
       "layout": "IPY_MODEL_46a77c91ede941c2861aa2a934ea15f0",
       "placeholder": "​",
       "style": "IPY_MODEL_fb6ef39934eb411aacf7c32496ac2970",
       "value": "tokenizer_config.json: 100%"
      }
     },
     "e6b763dcd2294123b1eb2bb58ca446a1": {
      "model_module": "@jupyter-widgets/controls",
      "model_module_version": "1.5.0",
      "model_name": "HTMLModel",
      "state": {
       "_dom_classes": [],
       "_model_module": "@jupyter-widgets/controls",
       "_model_module_version": "1.5.0",
       "_model_name": "HTMLModel",
       "_view_count": null,
       "_view_module": "@jupyter-widgets/controls",
       "_view_module_version": "1.5.0",
       "_view_name": "HTMLView",
       "description": "",
       "description_tooltip": null,
       "layout": "IPY_MODEL_27912b2345cc42a3be00d55c1a4fdb6c",
       "placeholder": "​",
       "style": "IPY_MODEL_7717951195f14c83b5badef1091823e2",
       "value": " 438M/438M [00:01&lt;00:00, 332MB/s]"
      }
     },
     "e87d33f5b146484887e9c883e6be74f6": {
      "model_module": "@jupyter-widgets/controls",
      "model_module_version": "1.5.0",
      "model_name": "DescriptionStyleModel",
      "state": {
       "_model_module": "@jupyter-widgets/controls",
       "_model_module_version": "1.5.0",
       "_model_name": "DescriptionStyleModel",
       "_view_count": null,
       "_view_module": "@jupyter-widgets/base",
       "_view_module_version": "1.2.0",
       "_view_name": "StyleView",
       "description_width": ""
      }
     },
     "e893563b9ae04b72a1e3ef79d20d85a8": {
      "model_module": "@jupyter-widgets/base",
      "model_module_version": "1.2.0",
      "model_name": "LayoutModel",
      "state": {
       "_model_module": "@jupyter-widgets/base",
       "_model_module_version": "1.2.0",
       "_model_name": "LayoutModel",
       "_view_count": null,
       "_view_module": "@jupyter-widgets/base",
       "_view_module_version": "1.2.0",
       "_view_name": "LayoutView",
       "align_content": null,
       "align_items": null,
       "align_self": null,
       "border": null,
       "bottom": null,
       "display": null,
       "flex": null,
       "flex_flow": null,
       "grid_area": null,
       "grid_auto_columns": null,
       "grid_auto_flow": null,
       "grid_auto_rows": null,
       "grid_column": null,
       "grid_gap": null,
       "grid_row": null,
       "grid_template_areas": null,
       "grid_template_columns": null,
       "grid_template_rows": null,
       "height": null,
       "justify_content": null,
       "justify_items": null,
       "left": null,
       "margin": null,
       "max_height": null,
       "max_width": null,
       "min_height": null,
       "min_width": null,
       "object_fit": null,
       "object_position": null,
       "order": null,
       "overflow": null,
       "overflow_x": null,
       "overflow_y": null,
       "padding": null,
       "right": null,
       "top": null,
       "visibility": null,
       "width": null
      }
     },
     "f13932e4187c4f7ea81622ce105221a0": {
      "model_module": "@jupyter-widgets/controls",
      "model_module_version": "1.5.0",
      "model_name": "DescriptionStyleModel",
      "state": {
       "_model_module": "@jupyter-widgets/controls",
       "_model_module_version": "1.5.0",
       "_model_name": "DescriptionStyleModel",
       "_view_count": null,
       "_view_module": "@jupyter-widgets/base",
       "_view_module_version": "1.2.0",
       "_view_name": "StyleView",
       "description_width": ""
      }
     },
     "f1a299fc233943039333fc218f5ec165": {
      "model_module": "@jupyter-widgets/controls",
      "model_module_version": "1.5.0",
      "model_name": "DescriptionStyleModel",
      "state": {
       "_model_module": "@jupyter-widgets/controls",
       "_model_module_version": "1.5.0",
       "_model_name": "DescriptionStyleModel",
       "_view_count": null,
       "_view_module": "@jupyter-widgets/base",
       "_view_module_version": "1.2.0",
       "_view_name": "StyleView",
       "description_width": ""
      }
     },
     "f3f2e7c1994d487fbecf033357c1e30e": {
      "model_module": "@jupyter-widgets/controls",
      "model_module_version": "1.5.0",
      "model_name": "ProgressStyleModel",
      "state": {
       "_model_module": "@jupyter-widgets/controls",
       "_model_module_version": "1.5.0",
       "_model_name": "ProgressStyleModel",
       "_view_count": null,
       "_view_module": "@jupyter-widgets/base",
       "_view_module_version": "1.2.0",
       "_view_name": "StyleView",
       "bar_color": null,
       "description_width": ""
      }
     },
     "fa73747e9c3b47619698d8650e704a47": {
      "model_module": "@jupyter-widgets/base",
      "model_module_version": "1.2.0",
      "model_name": "LayoutModel",
      "state": {
       "_model_module": "@jupyter-widgets/base",
       "_model_module_version": "1.2.0",
       "_model_name": "LayoutModel",
       "_view_count": null,
       "_view_module": "@jupyter-widgets/base",
       "_view_module_version": "1.2.0",
       "_view_name": "LayoutView",
       "align_content": null,
       "align_items": null,
       "align_self": null,
       "border": null,
       "bottom": null,
       "display": null,
       "flex": null,
       "flex_flow": null,
       "grid_area": null,
       "grid_auto_columns": null,
       "grid_auto_flow": null,
       "grid_auto_rows": null,
       "grid_column": null,
       "grid_gap": null,
       "grid_row": null,
       "grid_template_areas": null,
       "grid_template_columns": null,
       "grid_template_rows": null,
       "height": null,
       "justify_content": null,
       "justify_items": null,
       "left": null,
       "margin": null,
       "max_height": null,
       "max_width": null,
       "min_height": null,
       "min_width": null,
       "object_fit": null,
       "object_position": null,
       "order": null,
       "overflow": null,
       "overflow_x": null,
       "overflow_y": null,
       "padding": null,
       "right": null,
       "top": null,
       "visibility": null,
       "width": null
      }
     },
     "fb268da7b6da4610905c3f8717e52eb5": {
      "model_module": "@jupyter-widgets/controls",
      "model_module_version": "1.5.0",
      "model_name": "DescriptionStyleModel",
      "state": {
       "_model_module": "@jupyter-widgets/controls",
       "_model_module_version": "1.5.0",
       "_model_name": "DescriptionStyleModel",
       "_view_count": null,
       "_view_module": "@jupyter-widgets/base",
       "_view_module_version": "1.2.0",
       "_view_name": "StyleView",
       "description_width": ""
      }
     },
     "fb6ef39934eb411aacf7c32496ac2970": {
      "model_module": "@jupyter-widgets/controls",
      "model_module_version": "1.5.0",
      "model_name": "DescriptionStyleModel",
      "state": {
       "_model_module": "@jupyter-widgets/controls",
       "_model_module_version": "1.5.0",
       "_model_name": "DescriptionStyleModel",
       "_view_count": null,
       "_view_module": "@jupyter-widgets/base",
       "_view_module_version": "1.2.0",
       "_view_name": "StyleView",
       "description_width": ""
      }
     },
     "fb73c16e50654b07a00f063a5be6d5e5": {
      "model_module": "@jupyter-widgets/base",
      "model_module_version": "1.2.0",
      "model_name": "LayoutModel",
      "state": {
       "_model_module": "@jupyter-widgets/base",
       "_model_module_version": "1.2.0",
       "_model_name": "LayoutModel",
       "_view_count": null,
       "_view_module": "@jupyter-widgets/base",
       "_view_module_version": "1.2.0",
       "_view_name": "LayoutView",
       "align_content": null,
       "align_items": null,
       "align_self": null,
       "border": null,
       "bottom": null,
       "display": null,
       "flex": null,
       "flex_flow": null,
       "grid_area": null,
       "grid_auto_columns": null,
       "grid_auto_flow": null,
       "grid_auto_rows": null,
       "grid_column": null,
       "grid_gap": null,
       "grid_row": null,
       "grid_template_areas": null,
       "grid_template_columns": null,
       "grid_template_rows": null,
       "height": null,
       "justify_content": null,
       "justify_items": null,
       "left": null,
       "margin": null,
       "max_height": null,
       "max_width": null,
       "min_height": null,
       "min_width": null,
       "object_fit": null,
       "object_position": null,
       "order": null,
       "overflow": null,
       "overflow_x": null,
       "overflow_y": null,
       "padding": null,
       "right": null,
       "top": null,
       "visibility": null,
       "width": null
      }
     },
     "fcd21bd4b3854ae5b4f66edc905a312e": {
      "model_module": "@jupyter-widgets/base",
      "model_module_version": "1.2.0",
      "model_name": "LayoutModel",
      "state": {
       "_model_module": "@jupyter-widgets/base",
       "_model_module_version": "1.2.0",
       "_model_name": "LayoutModel",
       "_view_count": null,
       "_view_module": "@jupyter-widgets/base",
       "_view_module_version": "1.2.0",
       "_view_name": "LayoutView",
       "align_content": null,
       "align_items": null,
       "align_self": null,
       "border": null,
       "bottom": null,
       "display": null,
       "flex": null,
       "flex_flow": null,
       "grid_area": null,
       "grid_auto_columns": null,
       "grid_auto_flow": null,
       "grid_auto_rows": null,
       "grid_column": null,
       "grid_gap": null,
       "grid_row": null,
       "grid_template_areas": null,
       "grid_template_columns": null,
       "grid_template_rows": null,
       "height": null,
       "justify_content": null,
       "justify_items": null,
       "left": null,
       "margin": null,
       "max_height": null,
       "max_width": null,
       "min_height": null,
       "min_width": null,
       "object_fit": null,
       "object_position": null,
       "order": null,
       "overflow": null,
       "overflow_x": null,
       "overflow_y": null,
       "padding": null,
       "right": null,
       "top": null,
       "visibility": null,
       "width": null
      }
     },
     "fe5e533d8e204b0fb37eb650cd796a06": {
      "model_module": "@jupyter-widgets/base",
      "model_module_version": "1.2.0",
      "model_name": "LayoutModel",
      "state": {
       "_model_module": "@jupyter-widgets/base",
       "_model_module_version": "1.2.0",
       "_model_name": "LayoutModel",
       "_view_count": null,
       "_view_module": "@jupyter-widgets/base",
       "_view_module_version": "1.2.0",
       "_view_name": "LayoutView",
       "align_content": null,
       "align_items": null,
       "align_self": null,
       "border": null,
       "bottom": null,
       "display": null,
       "flex": null,
       "flex_flow": null,
       "grid_area": null,
       "grid_auto_columns": null,
       "grid_auto_flow": null,
       "grid_auto_rows": null,
       "grid_column": null,
       "grid_gap": null,
       "grid_row": null,
       "grid_template_areas": null,
       "grid_template_columns": null,
       "grid_template_rows": null,
       "height": null,
       "justify_content": null,
       "justify_items": null,
       "left": null,
       "margin": null,
       "max_height": null,
       "max_width": null,
       "min_height": null,
       "min_width": null,
       "object_fit": null,
       "object_position": null,
       "order": null,
       "overflow": null,
       "overflow_x": null,
       "overflow_y": null,
       "padding": null,
       "right": null,
       "top": null,
       "visibility": null,
       "width": null
      }
     }
    },
    "version_major": 2,
    "version_minor": 0
   }
  }
 },
 "nbformat": 4,
 "nbformat_minor": 5
}

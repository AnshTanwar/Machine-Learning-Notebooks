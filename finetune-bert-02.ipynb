{
 "cells": [
  {
   "cell_type": "code",
   "execution_count": 1,
   "id": "d04c0730",
   "metadata": {
    "_cell_guid": "b1076dfc-b9ad-4769-8c92-a6c4dae69d19",
    "_uuid": "8f2839f25d086af736a60e9eeb907d3b93b6e0e5",
    "execution": {
     "iopub.execute_input": "2024-06-05T19:04:14.516289Z",
     "iopub.status.busy": "2024-06-05T19:04:14.515893Z",
     "iopub.status.idle": "2024-06-05T19:04:15.289609Z",
     "shell.execute_reply": "2024-06-05T19:04:15.288628Z"
    },
    "papermill": {
     "duration": 0.797472,
     "end_time": "2024-06-05T19:04:15.292186",
     "exception": false,
     "start_time": "2024-06-05T19:04:14.494714",
     "status": "completed"
    },
    "tags": []
   },
   "outputs": [
    {
     "name": "stdout",
     "output_type": "stream",
     "text": [
      "/kaggle/input/crypto-regulations-yirifi/mappingtoBERT_6.csv\n",
      "/kaggle/input/crypto-regulations-yirifi/mappingtoBERT_5.csv\n",
      "/kaggle/input/crypto-regulations-yirifi/output_improved.csv\n",
      "/kaggle/input/crypto-regulations-yirifi/master_data_gpt4o_improved_latest.csv\n",
      "/kaggle/input/crypto-regulations-yirifi/CSV_data_gpt_4o/CSV_data_gpt_4o/18.csv\n",
      "/kaggle/input/crypto-regulations-yirifi/CSV_data_gpt_4o/CSV_data_gpt_4o/20.csv\n",
      "/kaggle/input/crypto-regulations-yirifi/CSV_data_gpt_4o/CSV_data_gpt_4o/1.csv\n",
      "/kaggle/input/crypto-regulations-yirifi/CSV_data_gpt_4o/CSV_data_gpt_4o/24.csv\n",
      "/kaggle/input/crypto-regulations-yirifi/CSV_data_gpt_4o/CSV_data_gpt_4o/11.csv\n",
      "/kaggle/input/crypto-regulations-yirifi/CSV_data_gpt_4o/CSV_data_gpt_4o/30.csv\n",
      "/kaggle/input/crypto-regulations-yirifi/CSV_data_gpt_4o/CSV_data_gpt_4o/17.csv\n",
      "/kaggle/input/crypto-regulations-yirifi/CSV_data_gpt_4o/CSV_data_gpt_4o/16.csv\n",
      "/kaggle/input/crypto-regulations-yirifi/CSV_data_gpt_4o/CSV_data_gpt_4o/3.csv\n",
      "/kaggle/input/crypto-regulations-yirifi/CSV_data_gpt_4o/CSV_data_gpt_4o/31.csv\n",
      "/kaggle/input/crypto-regulations-yirifi/CSV_data_gpt_4o/CSV_data_gpt_4o/19.csv\n",
      "/kaggle/input/crypto-regulations-yirifi/CSV_data_gpt_4o/CSV_data_gpt_4o/5.csv\n",
      "/kaggle/input/crypto-regulations-yirifi/CSV_data_gpt_4o/CSV_data_gpt_4o/2.csv\n",
      "/kaggle/input/crypto-regulations-yirifi/CSV_data_gpt_4o/CSV_data_gpt_4o/26.csv\n",
      "/kaggle/input/crypto-regulations-yirifi/CSV_data_gpt_4o/CSV_data_gpt_4o/28.csv\n",
      "/kaggle/input/crypto-regulations-yirifi/CSV_data_gpt_4o/CSV_data_gpt_4o/13.csv\n",
      "/kaggle/input/crypto-regulations-yirifi/CSV_data_gpt_4o/CSV_data_gpt_4o/23.csv\n",
      "/kaggle/input/crypto-regulations-yirifi/CSV_data_gpt_4o/CSV_data_gpt_4o/14.csv\n",
      "/kaggle/input/crypto-regulations-yirifi/CSV_data_gpt_4o/CSV_data_gpt_4o/4.csv\n",
      "/kaggle/input/crypto-regulations-yirifi/CSV_data_gpt_4o/CSV_data_gpt_4o/22.csv\n",
      "/kaggle/input/crypto-regulations-yirifi/CSV_data_gpt_4o/CSV_data_gpt_4o/8.csv\n",
      "/kaggle/input/crypto-regulations-yirifi/CSV_data_gpt_4o/CSV_data_gpt_4o/12.csv\n",
      "/kaggle/input/crypto-regulations-yirifi/CSV_data_gpt_4o/CSV_data_gpt_4o/9.csv\n",
      "/kaggle/input/crypto-regulations-yirifi/CSV_data_gpt_4o/CSV_data_gpt_4o/7.csv\n",
      "/kaggle/input/crypto-regulations-yirifi/CSV_data_gpt_4o/CSV_data_gpt_4o/15.csv\n",
      "/kaggle/input/crypto-regulations-yirifi/CSV_data_gpt_4o/CSV_data_gpt_4o/6.csv\n",
      "/kaggle/input/crypto-regulations-yirifi/CSV_data_gpt_4o/CSV_data_gpt_4o/10.csv\n",
      "/kaggle/input/crypto-regulations-yirifi/CSV_data_gpt_4o/CSV_data_gpt_4o/25.csv\n",
      "/kaggle/input/crypto-regulations-yirifi/CSV_data_gpt_4o/CSV_data_gpt_4o/29.csv\n",
      "/kaggle/input/crypto-regulations-yirifi/CSV_data_gpt_4o/CSV_data_gpt_4o/21.csv\n",
      "/kaggle/input/crypto-regulations-yirifi/CSV_data_gpt_4o/CSV_data_gpt_4o/32.csv\n",
      "/kaggle/input/crypto-regulations-yirifi/CSV_data_gpt_4o/CSV_data_gpt_4o/27.csv\n",
      "/kaggle/input/crypto-regulations-yirifi/csv_data/csv_data/18.csv\n",
      "/kaggle/input/crypto-regulations-yirifi/csv_data/csv_data/20.csv\n",
      "/kaggle/input/crypto-regulations-yirifi/csv_data/csv_data/1.csv\n",
      "/kaggle/input/crypto-regulations-yirifi/csv_data/csv_data/24.csv\n",
      "/kaggle/input/crypto-regulations-yirifi/csv_data/csv_data/11.csv\n",
      "/kaggle/input/crypto-regulations-yirifi/csv_data/csv_data/30.csv\n",
      "/kaggle/input/crypto-regulations-yirifi/csv_data/csv_data/17.csv\n",
      "/kaggle/input/crypto-regulations-yirifi/csv_data/csv_data/16.csv\n",
      "/kaggle/input/crypto-regulations-yirifi/csv_data/csv_data/3.csv\n",
      "/kaggle/input/crypto-regulations-yirifi/csv_data/csv_data/31.csv\n",
      "/kaggle/input/crypto-regulations-yirifi/csv_data/csv_data/19.csv\n",
      "/kaggle/input/crypto-regulations-yirifi/csv_data/csv_data/5.csv\n",
      "/kaggle/input/crypto-regulations-yirifi/csv_data/csv_data/2.csv\n",
      "/kaggle/input/crypto-regulations-yirifi/csv_data/csv_data/26.csv\n",
      "/kaggle/input/crypto-regulations-yirifi/csv_data/csv_data/28.csv\n",
      "/kaggle/input/crypto-regulations-yirifi/csv_data/csv_data/13.csv\n",
      "/kaggle/input/crypto-regulations-yirifi/csv_data/csv_data/23.csv\n",
      "/kaggle/input/crypto-regulations-yirifi/csv_data/csv_data/14.csv\n",
      "/kaggle/input/crypto-regulations-yirifi/csv_data/csv_data/4.csv\n",
      "/kaggle/input/crypto-regulations-yirifi/csv_data/csv_data/22.csv\n",
      "/kaggle/input/crypto-regulations-yirifi/csv_data/csv_data/8.csv\n",
      "/kaggle/input/crypto-regulations-yirifi/csv_data/csv_data/12.csv\n",
      "/kaggle/input/crypto-regulations-yirifi/csv_data/csv_data/9.csv\n",
      "/kaggle/input/crypto-regulations-yirifi/csv_data/csv_data/7.csv\n",
      "/kaggle/input/crypto-regulations-yirifi/csv_data/csv_data/15.csv\n",
      "/kaggle/input/crypto-regulations-yirifi/csv_data/csv_data/6.csv\n",
      "/kaggle/input/crypto-regulations-yirifi/csv_data/csv_data/10.csv\n",
      "/kaggle/input/crypto-regulations-yirifi/csv_data/csv_data/25.csv\n",
      "/kaggle/input/crypto-regulations-yirifi/csv_data/csv_data/29.csv\n",
      "/kaggle/input/crypto-regulations-yirifi/csv_data/csv_data/21.csv\n",
      "/kaggle/input/crypto-regulations-yirifi/csv_data/csv_data/32.csv\n",
      "/kaggle/input/crypto-regulations-yirifi/csv_data/csv_data/27.csv\n",
      "/kaggle/input/crypto-regulations-yirifi/CSV_data_improved/CSV_data_improved/18.csv\n",
      "/kaggle/input/crypto-regulations-yirifi/CSV_data_improved/CSV_data_improved/20.csv\n",
      "/kaggle/input/crypto-regulations-yirifi/CSV_data_improved/CSV_data_improved/1.csv\n",
      "/kaggle/input/crypto-regulations-yirifi/CSV_data_improved/CSV_data_improved/24.csv\n",
      "/kaggle/input/crypto-regulations-yirifi/CSV_data_improved/CSV_data_improved/11.csv\n",
      "/kaggle/input/crypto-regulations-yirifi/CSV_data_improved/CSV_data_improved/30.csv\n",
      "/kaggle/input/crypto-regulations-yirifi/CSV_data_improved/CSV_data_improved/17.csv\n",
      "/kaggle/input/crypto-regulations-yirifi/CSV_data_improved/CSV_data_improved/16.csv\n",
      "/kaggle/input/crypto-regulations-yirifi/CSV_data_improved/CSV_data_improved/3.csv\n",
      "/kaggle/input/crypto-regulations-yirifi/CSV_data_improved/CSV_data_improved/31.csv\n",
      "/kaggle/input/crypto-regulations-yirifi/CSV_data_improved/CSV_data_improved/19.csv\n",
      "/kaggle/input/crypto-regulations-yirifi/CSV_data_improved/CSV_data_improved/5.csv\n",
      "/kaggle/input/crypto-regulations-yirifi/CSV_data_improved/CSV_data_improved/2.csv\n",
      "/kaggle/input/crypto-regulations-yirifi/CSV_data_improved/CSV_data_improved/26.csv\n",
      "/kaggle/input/crypto-regulations-yirifi/CSV_data_improved/CSV_data_improved/28.csv\n",
      "/kaggle/input/crypto-regulations-yirifi/CSV_data_improved/CSV_data_improved/13.csv\n",
      "/kaggle/input/crypto-regulations-yirifi/CSV_data_improved/CSV_data_improved/23.csv\n",
      "/kaggle/input/crypto-regulations-yirifi/CSV_data_improved/CSV_data_improved/14.csv\n",
      "/kaggle/input/crypto-regulations-yirifi/CSV_data_improved/CSV_data_improved/4.csv\n",
      "/kaggle/input/crypto-regulations-yirifi/CSV_data_improved/CSV_data_improved/22.csv\n",
      "/kaggle/input/crypto-regulations-yirifi/CSV_data_improved/CSV_data_improved/8.csv\n",
      "/kaggle/input/crypto-regulations-yirifi/CSV_data_improved/CSV_data_improved/12.csv\n",
      "/kaggle/input/crypto-regulations-yirifi/CSV_data_improved/CSV_data_improved/9.csv\n",
      "/kaggle/input/crypto-regulations-yirifi/CSV_data_improved/CSV_data_improved/7.csv\n",
      "/kaggle/input/crypto-regulations-yirifi/CSV_data_improved/CSV_data_improved/15.csv\n",
      "/kaggle/input/crypto-regulations-yirifi/CSV_data_improved/CSV_data_improved/6.csv\n",
      "/kaggle/input/crypto-regulations-yirifi/CSV_data_improved/CSV_data_improved/10.csv\n",
      "/kaggle/input/crypto-regulations-yirifi/CSV_data_improved/CSV_data_improved/25.csv\n",
      "/kaggle/input/crypto-regulations-yirifi/CSV_data_improved/CSV_data_improved/29.csv\n",
      "/kaggle/input/crypto-regulations-yirifi/CSV_data_improved/CSV_data_improved/21.csv\n",
      "/kaggle/input/crypto-regulations-yirifi/CSV_data_improved/CSV_data_improved/32.csv\n",
      "/kaggle/input/crypto-regulations-yirifi/CSV_data_improved/CSV_data_improved/27.csv\n"
     ]
    }
   ],
   "source": [
    "# This Python 3 environment comes with many helpful analytics libraries installed\n",
    "# It is defined by the kaggle/python Docker image: https://github.com/kaggle/docker-python\n",
    "# For example, here's several helpful packages to load\n",
    "\n",
    "import numpy as np # linear algebra\n",
    "import pandas as pd # data processing, CSV file I/O (e.g. pd.read_csv)\n",
    "\n",
    "# Input data files are available in the read-only \"../input/\" directory\n",
    "# For example, running this (by clicking run or pressing Shift+Enter) will list all files under the input directory\n",
    "\n",
    "import os\n",
    "for dirname, _, filenames in os.walk('/kaggle/input'):\n",
    "    for filename in filenames:\n",
    "        print(os.path.join(dirname, filename))\n",
    "\n",
    "# You can write up to 20GB to the current directory (/kaggle/working/) that gets preserved as output when you create a version using \"Save & Run All\" \n",
    "# You can also write temporary files to /kaggle/temp/, but they won't be saved outside of the current session"
   ]
  },
  {
   "cell_type": "markdown",
   "id": "4befc528",
   "metadata": {
    "papermill": {
     "duration": 0.019205,
     "end_time": "2024-06-05T19:04:15.330035",
     "exception": false,
     "start_time": "2024-06-05T19:04:15.310830",
     "status": "completed"
    },
    "tags": []
   },
   "source": [
    "# Data import and cleaning up the data"
   ]
  },
  {
   "cell_type": "code",
   "execution_count": 2,
   "id": "84c7f7f8",
   "metadata": {
    "execution": {
     "iopub.execute_input": "2024-06-05T19:04:15.368165Z",
     "iopub.status.busy": "2024-06-05T19:04:15.367786Z",
     "iopub.status.idle": "2024-06-05T19:04:15.466800Z",
     "shell.execute_reply": "2024-06-05T19:04:15.465732Z"
    },
    "papermill": {
     "duration": 0.120633,
     "end_time": "2024-06-05T19:04:15.468961",
     "exception": false,
     "start_time": "2024-06-05T19:04:15.348328",
     "status": "completed"
    },
    "tags": []
   },
   "outputs": [],
   "source": [
    "df = pd.read_csv(\"/kaggle/input/crypto-regulations-yirifi/mappingtoBERT_6.csv\")"
   ]
  },
  {
   "cell_type": "code",
   "execution_count": 3,
   "id": "fa80d981",
   "metadata": {
    "execution": {
     "iopub.execute_input": "2024-06-05T19:04:15.507114Z",
     "iopub.status.busy": "2024-06-05T19:04:15.506846Z",
     "iopub.status.idle": "2024-06-05T19:04:15.527323Z",
     "shell.execute_reply": "2024-06-05T19:04:15.526476Z"
    },
    "papermill": {
     "duration": 0.042082,
     "end_time": "2024-06-05T19:04:15.529713",
     "exception": false,
     "start_time": "2024-06-05T19:04:15.487631",
     "status": "completed"
    },
    "tags": []
   },
   "outputs": [
    {
     "data": {
      "text/plain": [
       "(5965, 4)"
      ]
     },
     "execution_count": 3,
     "metadata": {},
     "output_type": "execute_result"
    }
   ],
   "source": [
    "df.shape"
   ]
  },
  {
   "cell_type": "code",
   "execution_count": 4,
   "id": "d734c932",
   "metadata": {
    "execution": {
     "iopub.execute_input": "2024-06-05T19:04:15.568077Z",
     "iopub.status.busy": "2024-06-05T19:04:15.567818Z",
     "iopub.status.idle": "2024-06-05T19:04:15.585681Z",
     "shell.execute_reply": "2024-06-05T19:04:15.584812Z"
    },
    "papermill": {
     "duration": 0.039142,
     "end_time": "2024-06-05T19:04:15.587750",
     "exception": false,
     "start_time": "2024-06-05T19:04:15.548608",
     "status": "completed"
    },
    "tags": []
   },
   "outputs": [
    {
     "data": {
      "text/html": [
       "<div>\n",
       "<style scoped>\n",
       "    .dataframe tbody tr th:only-of-type {\n",
       "        vertical-align: middle;\n",
       "    }\n",
       "\n",
       "    .dataframe tbody tr th {\n",
       "        vertical-align: top;\n",
       "    }\n",
       "\n",
       "    .dataframe thead th {\n",
       "        text-align: right;\n",
       "    }\n",
       "</style>\n",
       "<table border=\"1\" class=\"dataframe\">\n",
       "  <thead>\n",
       "    <tr style=\"text-align: right;\">\n",
       "      <th></th>\n",
       "      <th>Unnamed: 0</th>\n",
       "      <th>Content</th>\n",
       "      <th>Concepts</th>\n",
       "      <th>bert_concepts</th>\n",
       "    </tr>\n",
       "  </thead>\n",
       "  <tbody>\n",
       "    <tr>\n",
       "      <th>5955</th>\n",
       "      <td>5955</td>\n",
       "      <td>Content|ÄúRegulationsÄù|means the Virtual As...</td>\n",
       "      <td>amended, related activities, 2023, supplemente...</td>\n",
       "      <td>regulations, virtual assets</td>\n",
       "    </tr>\n",
       "    <tr>\n",
       "      <th>5956</th>\n",
       "      <td>5956</td>\n",
       "      <td>Content|ÄúReserve AssetsÄù|has the meaning a...</td>\n",
       "      <td>frva rules, reserve assets, rule i.a.5</td>\n",
       "      <td>rules</td>\n",
       "    </tr>\n",
       "    <tr>\n",
       "      <th>5957</th>\n",
       "      <td>5957</td>\n",
       "      <td>Content|ÄúSenior ManagementÄù|has the meanin...</td>\n",
       "      <td>company rulebook, senior management</td>\n",
       "      <td>rulebook</td>\n",
       "    </tr>\n",
       "    <tr>\n",
       "      <th>5958</th>\n",
       "      <td>5958</td>\n",
       "      <td>Content|ÄúSignificant FRVA IssuerÄù|means a ...</td>\n",
       "      <td>rule i.c.1, vara, frva rules, vasp, significan...</td>\n",
       "      <td>rules, vasp</td>\n",
       "    </tr>\n",
       "    <tr>\n",
       "      <th>5959</th>\n",
       "      <td>5959</td>\n",
       "      <td>Content|ÄúTechnology and Information\\nRuleboo...</td>\n",
       "      <td>amended, information, vara, technology, regula...</td>\n",
       "      <td>regulations, rulebook</td>\n",
       "    </tr>\n",
       "    <tr>\n",
       "      <th>5960</th>\n",
       "      <td>5960</td>\n",
       "      <td>Content|ÄúVA Issuance RulebookÄù|means the V...</td>\n",
       "      <td>amended, supplemented, vara, virtual asset iss...</td>\n",
       "      <td>regulations, virtual assets, rulebook</td>\n",
       "    </tr>\n",
       "    <tr>\n",
       "      <th>5961</th>\n",
       "      <td>5961</td>\n",
       "      <td>Content|ÄúVARAÄù|means the Dubai Virtual Ass...</td>\n",
       "      <td>vara, dubai, regulatory authority, virtual assets</td>\n",
       "      <td>authority, virtual assets, regulator</td>\n",
       "    </tr>\n",
       "    <tr>\n",
       "      <th>5962</th>\n",
       "      <td>5962</td>\n",
       "      <td>Content|ÄúVirtual AssetÄù or ÄúVAÄù|has th...</td>\n",
       "      <td>dubai va law, va, regulatory, compliance, virt...</td>\n",
       "      <td>compliance, virtual assets, regulator</td>\n",
       "    </tr>\n",
       "    <tr>\n",
       "      <th>5963</th>\n",
       "      <td>5963</td>\n",
       "      <td>Content|ÄúWhitepaperÄù|has the meaning ascri...</td>\n",
       "      <td>bank, whitepaper, regulatory compliance, compl...</td>\n",
       "      <td>compliance, virtual assets, rulebook, regulator</td>\n",
       "    </tr>\n",
       "    <tr>\n",
       "      <th>5964</th>\n",
       "      <td>5964</td>\n",
       "      <td>Content|ÄúWorking DayÄù|means any day which ...</td>\n",
       "      <td>public holiday, weekend, bank, hong kong, regu...</td>\n",
       "      <td>compliance, virtual assets, regulator</td>\n",
       "    </tr>\n",
       "  </tbody>\n",
       "</table>\n",
       "</div>"
      ],
      "text/plain": [
       "      Unnamed: 0                                            Content  \\\n",
       "5955        5955  Content|ÄúRegulationsÄù|means the Virtual As...   \n",
       "5956        5956  Content|ÄúReserve AssetsÄù|has the meaning a...   \n",
       "5957        5957  Content|ÄúSenior ManagementÄù|has the meanin...   \n",
       "5958        5958  Content|ÄúSignificant FRVA IssuerÄù|means a ...   \n",
       "5959        5959  Content|ÄúTechnology and Information\\nRuleboo...   \n",
       "5960        5960  Content|ÄúVA Issuance RulebookÄù|means the V...   \n",
       "5961        5961  Content|ÄúVARAÄù|means the Dubai Virtual Ass...   \n",
       "5962        5962  Content|ÄúVirtual AssetÄù or ÄúVAÄù|has th...   \n",
       "5963        5963  Content|ÄúWhitepaperÄù|has the meaning ascri...   \n",
       "5964        5964  Content|ÄúWorking DayÄù|means any day which ...   \n",
       "\n",
       "                                               Concepts  \\\n",
       "5955  amended, related activities, 2023, supplemente...   \n",
       "5956             frva rules, reserve assets, rule i.a.5   \n",
       "5957                company rulebook, senior management   \n",
       "5958  rule i.c.1, vara, frva rules, vasp, significan...   \n",
       "5959  amended, information, vara, technology, regula...   \n",
       "5960  amended, supplemented, vara, virtual asset iss...   \n",
       "5961  vara, dubai, regulatory authority, virtual assets   \n",
       "5962  dubai va law, va, regulatory, compliance, virt...   \n",
       "5963  bank, whitepaper, regulatory compliance, compl...   \n",
       "5964  public holiday, weekend, bank, hong kong, regu...   \n",
       "\n",
       "                                        bert_concepts  \n",
       "5955                      regulations, virtual assets  \n",
       "5956                                            rules  \n",
       "5957                                         rulebook  \n",
       "5958                                      rules, vasp  \n",
       "5959                            regulations, rulebook  \n",
       "5960            regulations, virtual assets, rulebook  \n",
       "5961             authority, virtual assets, regulator  \n",
       "5962            compliance, virtual assets, regulator  \n",
       "5963  compliance, virtual assets, rulebook, regulator  \n",
       "5964            compliance, virtual assets, regulator  "
      ]
     },
     "execution_count": 4,
     "metadata": {},
     "output_type": "execute_result"
    }
   ],
   "source": [
    "df.tail(10)"
   ]
  },
  {
   "cell_type": "code",
   "execution_count": 5,
   "id": "82bf2d83",
   "metadata": {
    "execution": {
     "iopub.execute_input": "2024-06-05T19:04:15.626525Z",
     "iopub.status.busy": "2024-06-05T19:04:15.626243Z",
     "iopub.status.idle": "2024-06-05T19:04:15.712057Z",
     "shell.execute_reply": "2024-06-05T19:04:15.711172Z"
    },
    "papermill": {
     "duration": 0.107259,
     "end_time": "2024-06-05T19:04:15.713937",
     "exception": false,
     "start_time": "2024-06-05T19:04:15.606678",
     "status": "completed"
    },
    "tags": []
   },
   "outputs": [
    {
     "name": "stdout",
     "output_type": "stream",
     "text": [
      "Number of rows with URLs: 22\n",
      "Number of rows with user references: 12\n",
      "Number of rows with hashtags: 0\n",
      "Number of rows with non-alphanumeric characters: 5913\n"
     ]
    }
   ],
   "source": [
    "import re\n",
    "# Function to check for URLs\n",
    "def contains_url(text):\n",
    "    text = str(text)\n",
    "    return bool(re.search(r'http\\S+|www\\S+|https\\S+', text))\n",
    "\n",
    "# Function to check for user references (@user)\n",
    "def contains_user_reference(text):\n",
    "    text = str(text)\n",
    "    return bool(re.search(r'\\@\\w+', text))\n",
    "\n",
    "# Function to check for hashtags\n",
    "def contains_hashtag(text):\n",
    "    text = str(text)\n",
    "    return bool(re.search(r'\\#\\w+', text))\n",
    "\n",
    "# Function to check for non-alphanumeric characters\n",
    "def contains_non_alphanumeric(text):\n",
    "    text = str(text)\n",
    "    return bool(re.search(r'[^a-zA-Z0-9\\s]', text))\n",
    "\n",
    "# Apply the functions to the DataFrame\n",
    "df['contains_url'] = df['Content'].apply(contains_url)\n",
    "df['contains_user_reference'] = df['Content'].apply(contains_user_reference)\n",
    "df['contains_hashtag'] = df['Content'].apply(contains_hashtag)\n",
    "df['contains_non_alphanumeric'] = df['Content'].apply(contains_non_alphanumeric)\n",
    "\n",
    "# Check rows that match each condition\n",
    "url_count = df['contains_url'].sum()\n",
    "user_reference_count = df['contains_user_reference'].sum()\n",
    "hashtag_count = df['contains_hashtag'].sum()\n",
    "non_alphanumeric_count = df['contains_non_alphanumeric'].sum()\n",
    "\n",
    "# Print results\n",
    "print(f\"Number of rows with URLs: {url_count}\")\n",
    "print(f\"Number of rows with user references: {user_reference_count}\")\n",
    "print(f\"Number of rows with hashtags: {hashtag_count}\")\n",
    "print(f\"Number of rows with non-alphanumeric characters: {non_alphanumeric_count}\")\n",
    "\n"
   ]
  },
  {
   "cell_type": "code",
   "execution_count": 6,
   "id": "b6e3b1e8",
   "metadata": {
    "execution": {
     "iopub.execute_input": "2024-06-05T19:04:15.752823Z",
     "iopub.status.busy": "2024-06-05T19:04:15.752555Z",
     "iopub.status.idle": "2024-06-05T19:04:15.764146Z",
     "shell.execute_reply": "2024-06-05T19:04:15.763306Z"
    },
    "papermill": {
     "duration": 0.033399,
     "end_time": "2024-06-05T19:04:15.766262",
     "exception": false,
     "start_time": "2024-06-05T19:04:15.732863",
     "status": "completed"
    },
    "tags": []
   },
   "outputs": [
    {
     "data": {
      "text/html": [
       "<div>\n",
       "<style scoped>\n",
       "    .dataframe tbody tr th:only-of-type {\n",
       "        vertical-align: middle;\n",
       "    }\n",
       "\n",
       "    .dataframe tbody tr th {\n",
       "        vertical-align: top;\n",
       "    }\n",
       "\n",
       "    .dataframe thead th {\n",
       "        text-align: right;\n",
       "    }\n",
       "</style>\n",
       "<table border=\"1\" class=\"dataframe\">\n",
       "  <thead>\n",
       "    <tr style=\"text-align: right;\">\n",
       "      <th></th>\n",
       "      <th>Unnamed: 0</th>\n",
       "      <th>Content</th>\n",
       "      <th>Concepts</th>\n",
       "      <th>bert_concepts</th>\n",
       "      <th>contains_url</th>\n",
       "      <th>contains_user_reference</th>\n",
       "      <th>contains_hashtag</th>\n",
       "      <th>contains_non_alphanumeric</th>\n",
       "    </tr>\n",
       "  </thead>\n",
       "  <tbody>\n",
       "    <tr>\n",
       "      <th>5960</th>\n",
       "      <td>5960</td>\n",
       "      <td>Content|ÄúVA Issuance RulebookÄù|means the V...</td>\n",
       "      <td>amended, supplemented, vara, virtual asset iss...</td>\n",
       "      <td>regulations, virtual assets, rulebook</td>\n",
       "      <td>False</td>\n",
       "      <td>False</td>\n",
       "      <td>False</td>\n",
       "      <td>True</td>\n",
       "    </tr>\n",
       "    <tr>\n",
       "      <th>5961</th>\n",
       "      <td>5961</td>\n",
       "      <td>Content|ÄúVARAÄù|means the Dubai Virtual Ass...</td>\n",
       "      <td>vara, dubai, regulatory authority, virtual assets</td>\n",
       "      <td>authority, virtual assets, regulator</td>\n",
       "      <td>False</td>\n",
       "      <td>False</td>\n",
       "      <td>False</td>\n",
       "      <td>True</td>\n",
       "    </tr>\n",
       "    <tr>\n",
       "      <th>5962</th>\n",
       "      <td>5962</td>\n",
       "      <td>Content|ÄúVirtual AssetÄù or ÄúVAÄù|has th...</td>\n",
       "      <td>dubai va law, va, regulatory, compliance, virt...</td>\n",
       "      <td>compliance, virtual assets, regulator</td>\n",
       "      <td>False</td>\n",
       "      <td>False</td>\n",
       "      <td>False</td>\n",
       "      <td>True</td>\n",
       "    </tr>\n",
       "    <tr>\n",
       "      <th>5963</th>\n",
       "      <td>5963</td>\n",
       "      <td>Content|ÄúWhitepaperÄù|has the meaning ascri...</td>\n",
       "      <td>bank, whitepaper, regulatory compliance, compl...</td>\n",
       "      <td>compliance, virtual assets, rulebook, regulator</td>\n",
       "      <td>False</td>\n",
       "      <td>False</td>\n",
       "      <td>False</td>\n",
       "      <td>True</td>\n",
       "    </tr>\n",
       "    <tr>\n",
       "      <th>5964</th>\n",
       "      <td>5964</td>\n",
       "      <td>Content|ÄúWorking DayÄù|means any day which ...</td>\n",
       "      <td>public holiday, weekend, bank, hong kong, regu...</td>\n",
       "      <td>compliance, virtual assets, regulator</td>\n",
       "      <td>False</td>\n",
       "      <td>False</td>\n",
       "      <td>False</td>\n",
       "      <td>True</td>\n",
       "    </tr>\n",
       "  </tbody>\n",
       "</table>\n",
       "</div>"
      ],
      "text/plain": [
       "      Unnamed: 0                                            Content  \\\n",
       "5960        5960  Content|ÄúVA Issuance RulebookÄù|means the V...   \n",
       "5961        5961  Content|ÄúVARAÄù|means the Dubai Virtual Ass...   \n",
       "5962        5962  Content|ÄúVirtual AssetÄù or ÄúVAÄù|has th...   \n",
       "5963        5963  Content|ÄúWhitepaperÄù|has the meaning ascri...   \n",
       "5964        5964  Content|ÄúWorking DayÄù|means any day which ...   \n",
       "\n",
       "                                               Concepts  \\\n",
       "5960  amended, supplemented, vara, virtual asset iss...   \n",
       "5961  vara, dubai, regulatory authority, virtual assets   \n",
       "5962  dubai va law, va, regulatory, compliance, virt...   \n",
       "5963  bank, whitepaper, regulatory compliance, compl...   \n",
       "5964  public holiday, weekend, bank, hong kong, regu...   \n",
       "\n",
       "                                        bert_concepts  contains_url  \\\n",
       "5960            regulations, virtual assets, rulebook         False   \n",
       "5961             authority, virtual assets, regulator         False   \n",
       "5962            compliance, virtual assets, regulator         False   \n",
       "5963  compliance, virtual assets, rulebook, regulator         False   \n",
       "5964            compliance, virtual assets, regulator         False   \n",
       "\n",
       "      contains_user_reference  contains_hashtag  contains_non_alphanumeric  \n",
       "5960                    False             False                       True  \n",
       "5961                    False             False                       True  \n",
       "5962                    False             False                       True  \n",
       "5963                    False             False                       True  \n",
       "5964                    False             False                       True  "
      ]
     },
     "execution_count": 6,
     "metadata": {},
     "output_type": "execute_result"
    }
   ],
   "source": [
    "df.tail(5)"
   ]
  },
  {
   "cell_type": "code",
   "execution_count": 7,
   "id": "618c5482",
   "metadata": {
    "execution": {
     "iopub.execute_input": "2024-06-05T19:04:15.805180Z",
     "iopub.status.busy": "2024-06-05T19:04:15.804922Z",
     "iopub.status.idle": "2024-06-05T19:04:15.813321Z",
     "shell.execute_reply": "2024-06-05T19:04:15.812500Z"
    },
    "papermill": {
     "duration": 0.029935,
     "end_time": "2024-06-05T19:04:15.815246",
     "exception": false,
     "start_time": "2024-06-05T19:04:15.785311",
     "status": "completed"
    },
    "tags": []
   },
   "outputs": [],
   "source": [
    "df = df[[\"Content\",\"bert_concepts\"]]"
   ]
  },
  {
   "cell_type": "code",
   "execution_count": 8,
   "id": "7bc793a0",
   "metadata": {
    "execution": {
     "iopub.execute_input": "2024-06-05T19:04:15.854514Z",
     "iopub.status.busy": "2024-06-05T19:04:15.853972Z",
     "iopub.status.idle": "2024-06-05T19:04:16.198485Z",
     "shell.execute_reply": "2024-06-05T19:04:16.197753Z"
    },
    "papermill": {
     "duration": 0.366411,
     "end_time": "2024-06-05T19:04:16.200672",
     "exception": false,
     "start_time": "2024-06-05T19:04:15.834261",
     "status": "completed"
    },
    "tags": []
   },
   "outputs": [],
   "source": [
    "import re\n",
    "import string\n",
    "\n",
    "def preprocess_text(text):\n",
    "    text = str(text)    \n",
    "    text = re.sub(r'<[^>]+>', '', text) # Remove HTML tags\n",
    "    text = text.lower()\n",
    "    text = re.sub(r'http\\S+|www\\S+|https\\S+', '', text, flags=re.MULTILINE)# Remove URLs\n",
    "    text = re.sub(r'\\@\\w+|\\#','', text) # Remove user @ references and hashtags\n",
    "    text = text.translate(str.maketrans('', '', string.punctuation)) # Remove punctuation    \n",
    "    text = re.sub(r'[^a-zA-Z0-9\\s]', ' ', text) # Remove non-alphanumeric character    \n",
    "    text = re.sub(r'\\s+', ' ', text).strip() # Remove extra whitespace(only single white space is left)\n",
    "    \n",
    "    return text\n",
    "\n",
    "df['Content'] = df['Content'].apply(preprocess_text) # Applying the preprocess_text function\n"
   ]
  },
  {
   "cell_type": "code",
   "execution_count": 9,
   "id": "554a54a4",
   "metadata": {
    "execution": {
     "iopub.execute_input": "2024-06-05T19:04:16.240975Z",
     "iopub.status.busy": "2024-06-05T19:04:16.240696Z",
     "iopub.status.idle": "2024-06-05T19:04:16.249102Z",
     "shell.execute_reply": "2024-06-05T19:04:16.248203Z"
    },
    "papermill": {
     "duration": 0.030819,
     "end_time": "2024-06-05T19:04:16.251109",
     "exception": false,
     "start_time": "2024-06-05T19:04:16.220290",
     "status": "completed"
    },
    "tags": []
   },
   "outputs": [
    {
     "data": {
      "text/html": [
       "<div>\n",
       "<style scoped>\n",
       "    .dataframe tbody tr th:only-of-type {\n",
       "        vertical-align: middle;\n",
       "    }\n",
       "\n",
       "    .dataframe tbody tr th {\n",
       "        vertical-align: top;\n",
       "    }\n",
       "\n",
       "    .dataframe thead th {\n",
       "        text-align: right;\n",
       "    }\n",
       "</style>\n",
       "<table border=\"1\" class=\"dataframe\">\n",
       "  <thead>\n",
       "    <tr style=\"text-align: right;\">\n",
       "      <th></th>\n",
       "      <th>Content</th>\n",
       "      <th>bert_concepts</th>\n",
       "    </tr>\n",
       "  </thead>\n",
       "  <tbody>\n",
       "    <tr>\n",
       "      <th>5960</th>\n",
       "      <td>content va issuance rulebook means the virtual...</td>\n",
       "      <td>regulations, virtual assets, rulebook</td>\n",
       "    </tr>\n",
       "    <tr>\n",
       "      <th>5961</th>\n",
       "      <td>content vara means the dubai virtual assets re...</td>\n",
       "      <td>authority, virtual assets, regulator</td>\n",
       "    </tr>\n",
       "    <tr>\n",
       "      <th>5962</th>\n",
       "      <td>content virtual asset or va has the meaning as...</td>\n",
       "      <td>compliance, virtual assets, regulator</td>\n",
       "    </tr>\n",
       "    <tr>\n",
       "      <th>5963</th>\n",
       "      <td>content whitepaper has the meaning ascribed to...</td>\n",
       "      <td>compliance, virtual assets, rulebook, regulator</td>\n",
       "    </tr>\n",
       "    <tr>\n",
       "      <th>5964</th>\n",
       "      <td>content working day means any day which is not...</td>\n",
       "      <td>compliance, virtual assets, regulator</td>\n",
       "    </tr>\n",
       "  </tbody>\n",
       "</table>\n",
       "</div>"
      ],
      "text/plain": [
       "                                                Content  \\\n",
       "5960  content va issuance rulebook means the virtual...   \n",
       "5961  content vara means the dubai virtual assets re...   \n",
       "5962  content virtual asset or va has the meaning as...   \n",
       "5963  content whitepaper has the meaning ascribed to...   \n",
       "5964  content working day means any day which is not...   \n",
       "\n",
       "                                        bert_concepts  \n",
       "5960            regulations, virtual assets, rulebook  \n",
       "5961             authority, virtual assets, regulator  \n",
       "5962            compliance, virtual assets, regulator  \n",
       "5963  compliance, virtual assets, rulebook, regulator  \n",
       "5964            compliance, virtual assets, regulator  "
      ]
     },
     "execution_count": 9,
     "metadata": {},
     "output_type": "execute_result"
    }
   ],
   "source": [
    "df.tail(5)"
   ]
  },
  {
   "cell_type": "markdown",
   "id": "d0d53706",
   "metadata": {
    "papermill": {
     "duration": 0.019126,
     "end_time": "2024-06-05T19:04:16.289510",
     "exception": false,
     "start_time": "2024-06-05T19:04:16.270384",
     "status": "completed"
    },
    "tags": []
   },
   "source": [
    "# taking out 10 random samples for analysis"
   ]
  },
  {
   "cell_type": "code",
   "execution_count": null,
   "id": "74a4d73c",
   "metadata": {
    "papermill": {
     "duration": 0.018981,
     "end_time": "2024-06-05T19:04:16.327546",
     "exception": false,
     "start_time": "2024-06-05T19:04:16.308565",
     "status": "completed"
    },
    "tags": []
   },
   "outputs": [],
   "source": []
  },
  {
   "cell_type": "code",
   "execution_count": 10,
   "id": "69d9b7e8",
   "metadata": {
    "execution": {
     "iopub.execute_input": "2024-06-05T19:04:16.367437Z",
     "iopub.status.busy": "2024-06-05T19:04:16.366701Z",
     "iopub.status.idle": "2024-06-05T19:04:16.372206Z",
     "shell.execute_reply": "2024-06-05T19:04:16.371382Z"
    },
    "papermill": {
     "duration": 0.027244,
     "end_time": "2024-06-05T19:04:16.374118",
     "exception": false,
     "start_time": "2024-06-05T19:04:16.346874",
     "status": "completed"
    },
    "tags": []
   },
   "outputs": [
    {
     "data": {
      "text/plain": [
       "(5965, 2)"
      ]
     },
     "execution_count": 10,
     "metadata": {},
     "output_type": "execute_result"
    }
   ],
   "source": [
    "df.shape"
   ]
  },
  {
   "cell_type": "code",
   "execution_count": 11,
   "id": "dff28fcf",
   "metadata": {
    "execution": {
     "iopub.execute_input": "2024-06-05T19:04:16.413828Z",
     "iopub.status.busy": "2024-06-05T19:04:16.413586Z",
     "iopub.status.idle": "2024-06-05T19:04:16.419125Z",
     "shell.execute_reply": "2024-06-05T19:04:16.418132Z"
    },
    "papermill": {
     "duration": 0.027552,
     "end_time": "2024-06-05T19:04:16.420996",
     "exception": false,
     "start_time": "2024-06-05T19:04:16.393444",
     "status": "completed"
    },
    "tags": []
   },
   "outputs": [
    {
     "name": "stdout",
     "output_type": "stream",
     "text": [
      "Number of rows with NaN in bert_concepts: 580\n"
     ]
    }
   ],
   "source": [
    "missing_values_count = df['bert_concepts'].isnull().sum()\n",
    "print(\"Number of rows with NaN in bert_concepts:\", missing_values_count)"
   ]
  },
  {
   "cell_type": "markdown",
   "id": "f8a23597",
   "metadata": {
    "papermill": {
     "duration": 0.01932,
     "end_time": "2024-06-05T19:04:16.460505",
     "exception": false,
     "start_time": "2024-06-05T19:04:16.441185",
     "status": "completed"
    },
    "tags": []
   },
   "source": [
    "## Remove rows with no bert_concepts"
   ]
  },
  {
   "cell_type": "code",
   "execution_count": 12,
   "id": "a1618f5e",
   "metadata": {
    "execution": {
     "iopub.execute_input": "2024-06-05T19:04:16.500634Z",
     "iopub.status.busy": "2024-06-05T19:04:16.500102Z",
     "iopub.status.idle": "2024-06-05T19:04:16.507846Z",
     "shell.execute_reply": "2024-06-05T19:04:16.507113Z"
    },
    "papermill": {
     "duration": 0.029782,
     "end_time": "2024-06-05T19:04:16.509713",
     "exception": false,
     "start_time": "2024-06-05T19:04:16.479931",
     "status": "completed"
    },
    "tags": []
   },
   "outputs": [],
   "source": [
    "df = df.dropna(subset=['bert_concepts'])"
   ]
  },
  {
   "cell_type": "code",
   "execution_count": 13,
   "id": "496c42b0",
   "metadata": {
    "execution": {
     "iopub.execute_input": "2024-06-05T19:04:16.549797Z",
     "iopub.status.busy": "2024-06-05T19:04:16.549556Z",
     "iopub.status.idle": "2024-06-05T19:04:16.554796Z",
     "shell.execute_reply": "2024-06-05T19:04:16.553922Z"
    },
    "papermill": {
     "duration": 0.027354,
     "end_time": "2024-06-05T19:04:16.556583",
     "exception": false,
     "start_time": "2024-06-05T19:04:16.529229",
     "status": "completed"
    },
    "tags": []
   },
   "outputs": [
    {
     "data": {
      "text/plain": [
       "(5385, 2)"
      ]
     },
     "execution_count": 13,
     "metadata": {},
     "output_type": "execute_result"
    }
   ],
   "source": [
    "df.shape"
   ]
  },
  {
   "cell_type": "markdown",
   "id": "49c45dd9",
   "metadata": {
    "papermill": {
     "duration": 0.019276,
     "end_time": "2024-06-05T19:04:16.595240",
     "exception": false,
     "start_time": "2024-06-05T19:04:16.575964",
     "status": "completed"
    },
    "tags": []
   },
   "source": [
    "# Converting to Bert Data Format"
   ]
  },
  {
   "cell_type": "code",
   "execution_count": 14,
   "id": "120a8e26",
   "metadata": {
    "execution": {
     "iopub.execute_input": "2024-06-05T19:04:16.673800Z",
     "iopub.status.busy": "2024-06-05T19:04:16.673147Z",
     "iopub.status.idle": "2024-06-05T19:04:18.762056Z",
     "shell.execute_reply": "2024-06-05T19:04:18.761156Z"
    },
    "papermill": {
     "duration": 2.111837,
     "end_time": "2024-06-05T19:04:18.764431",
     "exception": false,
     "start_time": "2024-06-05T19:04:16.652594",
     "status": "completed"
    },
    "tags": []
   },
   "outputs": [],
   "source": [
    "import pandas as pd\n",
    "import re\n",
    "from sklearn.model_selection import train_test_split\n",
    "from datasets import Dataset, DatasetDict"
   ]
  },
  {
   "cell_type": "code",
   "execution_count": 15,
   "id": "1639982f",
   "metadata": {
    "execution": {
     "iopub.execute_input": "2024-06-05T19:04:18.806276Z",
     "iopub.status.busy": "2024-06-05T19:04:18.805369Z",
     "iopub.status.idle": "2024-06-05T19:04:18.811253Z",
     "shell.execute_reply": "2024-06-05T19:04:18.810519Z"
    },
    "papermill": {
     "duration": 0.028299,
     "end_time": "2024-06-05T19:04:18.813198",
     "exception": false,
     "start_time": "2024-06-05T19:04:18.784899",
     "status": "completed"
    },
    "tags": []
   },
   "outputs": [
    {
     "data": {
      "text/plain": [
       "Index(['Content', 'bert_concepts'], dtype='object')"
      ]
     },
     "execution_count": 15,
     "metadata": {},
     "output_type": "execute_result"
    }
   ],
   "source": [
    "df.columns"
   ]
  },
  {
   "cell_type": "code",
   "execution_count": 16,
   "id": "7c9f9fb9",
   "metadata": {
    "execution": {
     "iopub.execute_input": "2024-06-05T19:04:18.854061Z",
     "iopub.status.busy": "2024-06-05T19:04:18.853335Z",
     "iopub.status.idle": "2024-06-05T19:04:18.865852Z",
     "shell.execute_reply": "2024-06-05T19:04:18.864964Z"
    },
    "papermill": {
     "duration": 0.035047,
     "end_time": "2024-06-05T19:04:18.867803",
     "exception": false,
     "start_time": "2024-06-05T19:04:18.832756",
     "status": "completed"
    },
    "tags": []
   },
   "outputs": [],
   "source": [
    "\n",
    "df['bert_concepts'] = df['bert_concepts'].apply(lambda x: x.split(', ')) # make list of words\n",
    "all_concepts = set(concept for row in df['bert_concepts'] for concept in row) # Create a list of all unique concepts\n"
   ]
  },
  {
   "cell_type": "code",
   "execution_count": 17,
   "id": "fbcbc518",
   "metadata": {
    "execution": {
     "iopub.execute_input": "2024-06-05T19:04:18.924155Z",
     "iopub.status.busy": "2024-06-05T19:04:18.923840Z",
     "iopub.status.idle": "2024-06-05T19:04:18.927885Z",
     "shell.execute_reply": "2024-06-05T19:04:18.926941Z"
    },
    "papermill": {
     "duration": 0.036429,
     "end_time": "2024-06-05T19:04:18.930200",
     "exception": false,
     "start_time": "2024-06-05T19:04:18.893771",
     "status": "completed"
    },
    "tags": []
   },
   "outputs": [],
   "source": [
    "#all_concepts"
   ]
  },
  {
   "cell_type": "code",
   "execution_count": 18,
   "id": "d75f3569",
   "metadata": {
    "execution": {
     "iopub.execute_input": "2024-06-05T19:04:18.973970Z",
     "iopub.status.busy": "2024-06-05T19:04:18.973344Z",
     "iopub.status.idle": "2024-06-05T19:04:20.678391Z",
     "shell.execute_reply": "2024-06-05T19:04:20.677632Z"
    },
    "papermill": {
     "duration": 1.728752,
     "end_time": "2024-06-05T19:04:20.680625",
     "exception": false,
     "start_time": "2024-06-05T19:04:18.951873",
     "status": "completed"
    },
    "tags": []
   },
   "outputs": [],
   "source": [
    "# One-hot encode each concept for each row\n",
    "one_hot_encoded_rows = []\n",
    "for index, row in df.iterrows():\n",
    "    one_hot_row = {'Content': row['Content']}\n",
    "    for concept in all_concepts:\n",
    "        one_hot_row[concept] = 1 if concept in row['bert_concepts'] else 0\n",
    "    one_hot_encoded_rows.append(one_hot_row)\n"
   ]
  },
  {
   "cell_type": "code",
   "execution_count": 19,
   "id": "efea4f92",
   "metadata": {
    "execution": {
     "iopub.execute_input": "2024-06-05T19:04:20.723671Z",
     "iopub.status.busy": "2024-06-05T19:04:20.722837Z",
     "iopub.status.idle": "2024-06-05T19:04:20.726907Z",
     "shell.execute_reply": "2024-06-05T19:04:20.726029Z"
    },
    "papermill": {
     "duration": 0.027907,
     "end_time": "2024-06-05T19:04:20.728880",
     "exception": false,
     "start_time": "2024-06-05T19:04:20.700973",
     "status": "completed"
    },
    "tags": []
   },
   "outputs": [],
   "source": [
    "#one_hot_encoded_rows[:2]"
   ]
  },
  {
   "cell_type": "code",
   "execution_count": 20,
   "id": "0ed74315",
   "metadata": {
    "execution": {
     "iopub.execute_input": "2024-06-05T19:04:20.769748Z",
     "iopub.status.busy": "2024-06-05T19:04:20.769425Z",
     "iopub.status.idle": "2024-06-05T19:04:20.932858Z",
     "shell.execute_reply": "2024-06-05T19:04:20.931906Z"
    },
    "papermill": {
     "duration": 0.185972,
     "end_time": "2024-06-05T19:04:20.934791",
     "exception": false,
     "start_time": "2024-06-05T19:04:20.748819",
     "status": "completed"
    },
    "tags": []
   },
   "outputs": [],
   "source": [
    "df = pd.DataFrame(one_hot_encoded_rows)"
   ]
  },
  {
   "cell_type": "code",
   "execution_count": 21,
   "id": "bb784d61",
   "metadata": {
    "execution": {
     "iopub.execute_input": "2024-06-05T19:04:20.976532Z",
     "iopub.status.busy": "2024-06-05T19:04:20.976181Z",
     "iopub.status.idle": "2024-06-05T19:04:20.992346Z",
     "shell.execute_reply": "2024-06-05T19:04:20.991503Z"
    },
    "papermill": {
     "duration": 0.039214,
     "end_time": "2024-06-05T19:04:20.994337",
     "exception": false,
     "start_time": "2024-06-05T19:04:20.955123",
     "status": "completed"
    },
    "tags": []
   },
   "outputs": [
    {
     "data": {
      "text/html": [
       "<div>\n",
       "<style scoped>\n",
       "    .dataframe tbody tr th:only-of-type {\n",
       "        vertical-align: middle;\n",
       "    }\n",
       "\n",
       "    .dataframe tbody tr th {\n",
       "        vertical-align: top;\n",
       "    }\n",
       "\n",
       "    .dataframe thead th {\n",
       "        text-align: right;\n",
       "    }\n",
       "</style>\n",
       "<table border=\"1\" class=\"dataframe\">\n",
       "  <thead>\n",
       "    <tr style=\"text-align: right;\">\n",
       "      <th></th>\n",
       "      <th>Content</th>\n",
       "      <th>anti-bribery</th>\n",
       "      <th>entities</th>\n",
       "      <th>vasp</th>\n",
       "      <th>virtual assets</th>\n",
       "      <th>oversight</th>\n",
       "      <th>beneficiary information</th>\n",
       "      <th>kyc</th>\n",
       "      <th>travel rule</th>\n",
       "      <th>insider dealing</th>\n",
       "      <th>...</th>\n",
       "      <th>aml</th>\n",
       "      <th>operator</th>\n",
       "      <th>cdd</th>\n",
       "      <th>regulations</th>\n",
       "      <th>suspicious transactions</th>\n",
       "      <th>monitoring</th>\n",
       "      <th>disclosure</th>\n",
       "      <th>controls</th>\n",
       "      <th>screening</th>\n",
       "      <th>investor protection</th>\n",
       "    </tr>\n",
       "  </thead>\n",
       "  <tbody>\n",
       "    <tr>\n",
       "      <th>0</th>\n",
       "      <td>the new licensing regime for centralised virtu...</td>\n",
       "      <td>0</td>\n",
       "      <td>0</td>\n",
       "      <td>0</td>\n",
       "      <td>1</td>\n",
       "      <td>0</td>\n",
       "      <td>0</td>\n",
       "      <td>0</td>\n",
       "      <td>0</td>\n",
       "      <td>0</td>\n",
       "      <td>...</td>\n",
       "      <td>1</td>\n",
       "      <td>0</td>\n",
       "      <td>0</td>\n",
       "      <td>0</td>\n",
       "      <td>0</td>\n",
       "      <td>0</td>\n",
       "      <td>0</td>\n",
       "      <td>0</td>\n",
       "      <td>0</td>\n",
       "      <td>0</td>\n",
       "    </tr>\n",
       "    <tr>\n",
       "      <th>1</th>\n",
       "      <td>the sfc is issuing this circular to highlight ...</td>\n",
       "      <td>0</td>\n",
       "      <td>0</td>\n",
       "      <td>0</td>\n",
       "      <td>1</td>\n",
       "      <td>0</td>\n",
       "      <td>0</td>\n",
       "      <td>0</td>\n",
       "      <td>0</td>\n",
       "      <td>0</td>\n",
       "      <td>...</td>\n",
       "      <td>0</td>\n",
       "      <td>0</td>\n",
       "      <td>0</td>\n",
       "      <td>0</td>\n",
       "      <td>0</td>\n",
       "      <td>0</td>\n",
       "      <td>0</td>\n",
       "      <td>0</td>\n",
       "      <td>0</td>\n",
       "      <td>0</td>\n",
       "    </tr>\n",
       "    <tr>\n",
       "      <th>2</th>\n",
       "      <td>the sfc has published the following guidelines...</td>\n",
       "      <td>0</td>\n",
       "      <td>0</td>\n",
       "      <td>0</td>\n",
       "      <td>1</td>\n",
       "      <td>0</td>\n",
       "      <td>0</td>\n",
       "      <td>0</td>\n",
       "      <td>0</td>\n",
       "      <td>0</td>\n",
       "      <td>...</td>\n",
       "      <td>0</td>\n",
       "      <td>0</td>\n",
       "      <td>0</td>\n",
       "      <td>0</td>\n",
       "      <td>0</td>\n",
       "      <td>0</td>\n",
       "      <td>0</td>\n",
       "      <td>0</td>\n",
       "      <td>0</td>\n",
       "      <td>0</td>\n",
       "    </tr>\n",
       "  </tbody>\n",
       "</table>\n",
       "<p>3 rows × 56 columns</p>\n",
       "</div>"
      ],
      "text/plain": [
       "                                             Content  anti-bribery  entities  \\\n",
       "0  the new licensing regime for centralised virtu...             0         0   \n",
       "1  the sfc is issuing this circular to highlight ...             0         0   \n",
       "2  the sfc has published the following guidelines...             0         0   \n",
       "\n",
       "   vasp  virtual assets  oversight  beneficiary information  kyc  travel rule  \\\n",
       "0     0               1          0                        0    0            0   \n",
       "1     0               1          0                        0    0            0   \n",
       "2     0               1          0                        0    0            0   \n",
       "\n",
       "   insider dealing  ...  aml  operator  cdd  regulations  \\\n",
       "0                0  ...    1         0    0            0   \n",
       "1                0  ...    0         0    0            0   \n",
       "2                0  ...    0         0    0            0   \n",
       "\n",
       "   suspicious transactions  monitoring  disclosure  controls  screening  \\\n",
       "0                        0           0           0         0          0   \n",
       "1                        0           0           0         0          0   \n",
       "2                        0           0           0         0          0   \n",
       "\n",
       "   investor protection  \n",
       "0                    0  \n",
       "1                    0  \n",
       "2                    0  \n",
       "\n",
       "[3 rows x 56 columns]"
      ]
     },
     "execution_count": 21,
     "metadata": {},
     "output_type": "execute_result"
    }
   ],
   "source": [
    "df.head(3)"
   ]
  },
  {
   "cell_type": "code",
   "execution_count": 22,
   "id": "df097687",
   "metadata": {
    "execution": {
     "iopub.execute_input": "2024-06-05T19:04:21.036091Z",
     "iopub.status.busy": "2024-06-05T19:04:21.035844Z",
     "iopub.status.idle": "2024-06-05T19:04:21.045619Z",
     "shell.execute_reply": "2024-06-05T19:04:21.044918Z"
    },
    "papermill": {
     "duration": 0.032602,
     "end_time": "2024-06-05T19:04:21.047607",
     "exception": false,
     "start_time": "2024-06-05T19:04:21.015005",
     "status": "completed"
    },
    "tags": []
   },
   "outputs": [],
   "source": [
    "testing_df = df.sample(n=10, random_state=42)\n",
    "df = df.drop(testing_df.index)"
   ]
  },
  {
   "cell_type": "markdown",
   "id": "bdfd116e",
   "metadata": {
    "papermill": {
     "duration": 0.020052,
     "end_time": "2024-06-05T19:04:21.087765",
     "exception": false,
     "start_time": "2024-06-05T19:04:21.067713",
     "status": "completed"
    },
    "tags": []
   },
   "source": [
    "# Class/Label Distribution"
   ]
  },
  {
   "cell_type": "code",
   "execution_count": 23,
   "id": "813f0758",
   "metadata": {
    "execution": {
     "iopub.execute_input": "2024-06-05T19:04:21.129243Z",
     "iopub.status.busy": "2024-06-05T19:04:21.128961Z",
     "iopub.status.idle": "2024-06-05T19:04:21.170694Z",
     "shell.execute_reply": "2024-06-05T19:04:21.169732Z"
    },
    "papermill": {
     "duration": 0.064462,
     "end_time": "2024-06-05T19:04:21.172546",
     "exception": false,
     "start_time": "2024-06-05T19:04:21.108084",
     "status": "completed"
    },
    "tags": []
   },
   "outputs": [
    {
     "data": {
      "text/html": [
       "<div>\n",
       "<style scoped>\n",
       "    .dataframe tbody tr th:only-of-type {\n",
       "        vertical-align: middle;\n",
       "    }\n",
       "\n",
       "    .dataframe tbody tr th {\n",
       "        vertical-align: top;\n",
       "    }\n",
       "\n",
       "    .dataframe thead th {\n",
       "        text-align: right;\n",
       "    }\n",
       "</style>\n",
       "<table border=\"1\" class=\"dataframe\">\n",
       "  <thead>\n",
       "    <tr style=\"text-align: right;\">\n",
       "      <th></th>\n",
       "      <th>Label</th>\n",
       "      <th>0s</th>\n",
       "      <th>1s</th>\n",
       "    </tr>\n",
       "  </thead>\n",
       "  <tbody>\n",
       "    <tr>\n",
       "      <th>3</th>\n",
       "      <td>virtual assets</td>\n",
       "      <td>3148</td>\n",
       "      <td>2227</td>\n",
       "    </tr>\n",
       "    <tr>\n",
       "      <th>13</th>\n",
       "      <td>compliance</td>\n",
       "      <td>3778</td>\n",
       "      <td>1597</td>\n",
       "    </tr>\n",
       "    <tr>\n",
       "      <th>34</th>\n",
       "      <td>regulator</td>\n",
       "      <td>3799</td>\n",
       "      <td>1576</td>\n",
       "    </tr>\n",
       "    <tr>\n",
       "      <th>31</th>\n",
       "      <td>client</td>\n",
       "      <td>4087</td>\n",
       "      <td>1288</td>\n",
       "    </tr>\n",
       "    <tr>\n",
       "      <th>26</th>\n",
       "      <td>risks</td>\n",
       "      <td>4553</td>\n",
       "      <td>822</td>\n",
       "    </tr>\n",
       "    <tr>\n",
       "      <th>45</th>\n",
       "      <td>aml</td>\n",
       "      <td>4649</td>\n",
       "      <td>726</td>\n",
       "    </tr>\n",
       "    <tr>\n",
       "      <th>2</th>\n",
       "      <td>vasp</td>\n",
       "      <td>4727</td>\n",
       "      <td>648</td>\n",
       "    </tr>\n",
       "    <tr>\n",
       "      <th>38</th>\n",
       "      <td>license</td>\n",
       "      <td>4740</td>\n",
       "      <td>635</td>\n",
       "    </tr>\n",
       "    <tr>\n",
       "      <th>46</th>\n",
       "      <td>operator</td>\n",
       "      <td>4786</td>\n",
       "      <td>589</td>\n",
       "    </tr>\n",
       "    <tr>\n",
       "      <th>35</th>\n",
       "      <td>requirements</td>\n",
       "      <td>4832</td>\n",
       "      <td>543</td>\n",
       "    </tr>\n",
       "    <tr>\n",
       "      <th>22</th>\n",
       "      <td>transaction</td>\n",
       "      <td>4853</td>\n",
       "      <td>522</td>\n",
       "    </tr>\n",
       "    <tr>\n",
       "      <th>10</th>\n",
       "      <td>person</td>\n",
       "      <td>4868</td>\n",
       "      <td>507</td>\n",
       "    </tr>\n",
       "    <tr>\n",
       "      <th>48</th>\n",
       "      <td>regulations</td>\n",
       "      <td>4952</td>\n",
       "      <td>423</td>\n",
       "    </tr>\n",
       "    <tr>\n",
       "      <th>9</th>\n",
       "      <td>cft</td>\n",
       "      <td>4989</td>\n",
       "      <td>386</td>\n",
       "    </tr>\n",
       "    <tr>\n",
       "      <th>20</th>\n",
       "      <td>rulebook</td>\n",
       "      <td>4991</td>\n",
       "      <td>384</td>\n",
       "    </tr>\n",
       "    <tr>\n",
       "      <th>39</th>\n",
       "      <td>vasps</td>\n",
       "      <td>5012</td>\n",
       "      <td>363</td>\n",
       "    </tr>\n",
       "    <tr>\n",
       "      <th>30</th>\n",
       "      <td>transactions</td>\n",
       "      <td>5057</td>\n",
       "      <td>318</td>\n",
       "    </tr>\n",
       "    <tr>\n",
       "      <th>17</th>\n",
       "      <td>transfer</td>\n",
       "      <td>5085</td>\n",
       "      <td>290</td>\n",
       "    </tr>\n",
       "    <tr>\n",
       "      <th>36</th>\n",
       "      <td>guideline</td>\n",
       "      <td>5122</td>\n",
       "      <td>253</td>\n",
       "    </tr>\n",
       "    <tr>\n",
       "      <th>29</th>\n",
       "      <td>reporting</td>\n",
       "      <td>5136</td>\n",
       "      <td>239</td>\n",
       "    </tr>\n",
       "    <tr>\n",
       "      <th>41</th>\n",
       "      <td>policies</td>\n",
       "      <td>5169</td>\n",
       "      <td>206</td>\n",
       "    </tr>\n",
       "    <tr>\n",
       "      <th>44</th>\n",
       "      <td>legal</td>\n",
       "      <td>5175</td>\n",
       "      <td>200</td>\n",
       "    </tr>\n",
       "    <tr>\n",
       "      <th>40</th>\n",
       "      <td>rules</td>\n",
       "      <td>5180</td>\n",
       "      <td>195</td>\n",
       "    </tr>\n",
       "    <tr>\n",
       "      <th>47</th>\n",
       "      <td>cdd</td>\n",
       "      <td>5180</td>\n",
       "      <td>195</td>\n",
       "    </tr>\n",
       "    <tr>\n",
       "      <th>52</th>\n",
       "      <td>controls</td>\n",
       "      <td>5185</td>\n",
       "      <td>190</td>\n",
       "    </tr>\n",
       "    <tr>\n",
       "      <th>28</th>\n",
       "      <td>conduct</td>\n",
       "      <td>5187</td>\n",
       "      <td>188</td>\n",
       "    </tr>\n",
       "    <tr>\n",
       "      <th>43</th>\n",
       "      <td>risk management</td>\n",
       "      <td>5213</td>\n",
       "      <td>162</td>\n",
       "    </tr>\n",
       "    <tr>\n",
       "      <th>16</th>\n",
       "      <td>audit</td>\n",
       "      <td>5232</td>\n",
       "      <td>143</td>\n",
       "    </tr>\n",
       "    <tr>\n",
       "      <th>12</th>\n",
       "      <td>investor</td>\n",
       "      <td>5234</td>\n",
       "      <td>141</td>\n",
       "    </tr>\n",
       "    <tr>\n",
       "      <th>50</th>\n",
       "      <td>monitoring</td>\n",
       "      <td>5234</td>\n",
       "      <td>141</td>\n",
       "    </tr>\n",
       "    <tr>\n",
       "      <th>14</th>\n",
       "      <td>authority</td>\n",
       "      <td>5239</td>\n",
       "      <td>136</td>\n",
       "    </tr>\n",
       "    <tr>\n",
       "      <th>42</th>\n",
       "      <td>due diligence</td>\n",
       "      <td>5249</td>\n",
       "      <td>126</td>\n",
       "    </tr>\n",
       "    <tr>\n",
       "      <th>37</th>\n",
       "      <td>identity</td>\n",
       "      <td>5257</td>\n",
       "      <td>118</td>\n",
       "    </tr>\n",
       "    <tr>\n",
       "      <th>5</th>\n",
       "      <td>beneficiary information</td>\n",
       "      <td>5264</td>\n",
       "      <td>111</td>\n",
       "    </tr>\n",
       "    <tr>\n",
       "      <th>51</th>\n",
       "      <td>disclosure</td>\n",
       "      <td>5281</td>\n",
       "      <td>94</td>\n",
       "    </tr>\n",
       "    <tr>\n",
       "      <th>1</th>\n",
       "      <td>entities</td>\n",
       "      <td>5283</td>\n",
       "      <td>92</td>\n",
       "    </tr>\n",
       "    <tr>\n",
       "      <th>15</th>\n",
       "      <td>risk assessment</td>\n",
       "      <td>5284</td>\n",
       "      <td>91</td>\n",
       "    </tr>\n",
       "    <tr>\n",
       "      <th>19</th>\n",
       "      <td>pep</td>\n",
       "      <td>5313</td>\n",
       "      <td>62</td>\n",
       "    </tr>\n",
       "    <tr>\n",
       "      <th>18</th>\n",
       "      <td>sanctions</td>\n",
       "      <td>5320</td>\n",
       "      <td>55</td>\n",
       "    </tr>\n",
       "    <tr>\n",
       "      <th>23</th>\n",
       "      <td>criminal</td>\n",
       "      <td>5321</td>\n",
       "      <td>54</td>\n",
       "    </tr>\n",
       "    <tr>\n",
       "      <th>49</th>\n",
       "      <td>suspicious transactions</td>\n",
       "      <td>5322</td>\n",
       "      <td>53</td>\n",
       "    </tr>\n",
       "    <tr>\n",
       "      <th>11</th>\n",
       "      <td>circular</td>\n",
       "      <td>5324</td>\n",
       "      <td>51</td>\n",
       "    </tr>\n",
       "    <tr>\n",
       "      <th>33</th>\n",
       "      <td>policy</td>\n",
       "      <td>5327</td>\n",
       "      <td>48</td>\n",
       "    </tr>\n",
       "    <tr>\n",
       "      <th>24</th>\n",
       "      <td>dlt</td>\n",
       "      <td>5330</td>\n",
       "      <td>45</td>\n",
       "    </tr>\n",
       "    <tr>\n",
       "      <th>53</th>\n",
       "      <td>screening</td>\n",
       "      <td>5334</td>\n",
       "      <td>41</td>\n",
       "    </tr>\n",
       "    <tr>\n",
       "      <th>32</th>\n",
       "      <td>safeguard</td>\n",
       "      <td>5336</td>\n",
       "      <td>39</td>\n",
       "    </tr>\n",
       "    <tr>\n",
       "      <th>21</th>\n",
       "      <td>legislation</td>\n",
       "      <td>5339</td>\n",
       "      <td>36</td>\n",
       "    </tr>\n",
       "    <tr>\n",
       "      <th>4</th>\n",
       "      <td>oversight</td>\n",
       "      <td>5352</td>\n",
       "      <td>23</td>\n",
       "    </tr>\n",
       "    <tr>\n",
       "      <th>54</th>\n",
       "      <td>investor protection</td>\n",
       "      <td>5355</td>\n",
       "      <td>20</td>\n",
       "    </tr>\n",
       "    <tr>\n",
       "      <th>27</th>\n",
       "      <td>record keeping</td>\n",
       "      <td>5359</td>\n",
       "      <td>16</td>\n",
       "    </tr>\n",
       "    <tr>\n",
       "      <th>6</th>\n",
       "      <td>kyc</td>\n",
       "      <td>5361</td>\n",
       "      <td>14</td>\n",
       "    </tr>\n",
       "    <tr>\n",
       "      <th>0</th>\n",
       "      <td>anti-bribery</td>\n",
       "      <td>5361</td>\n",
       "      <td>14</td>\n",
       "    </tr>\n",
       "    <tr>\n",
       "      <th>7</th>\n",
       "      <td>travel rule</td>\n",
       "      <td>5361</td>\n",
       "      <td>14</td>\n",
       "    </tr>\n",
       "    <tr>\n",
       "      <th>8</th>\n",
       "      <td>insider dealing</td>\n",
       "      <td>5362</td>\n",
       "      <td>13</td>\n",
       "    </tr>\n",
       "    <tr>\n",
       "      <th>25</th>\n",
       "      <td>code of conduct</td>\n",
       "      <td>5362</td>\n",
       "      <td>13</td>\n",
       "    </tr>\n",
       "  </tbody>\n",
       "</table>\n",
       "</div>"
      ],
      "text/plain": [
       "                      Label    0s    1s\n",
       "3            virtual assets  3148  2227\n",
       "13               compliance  3778  1597\n",
       "34                regulator  3799  1576\n",
       "31                   client  4087  1288\n",
       "26                    risks  4553   822\n",
       "45                      aml  4649   726\n",
       "2                      vasp  4727   648\n",
       "38                  license  4740   635\n",
       "46                 operator  4786   589\n",
       "35             requirements  4832   543\n",
       "22              transaction  4853   522\n",
       "10                   person  4868   507\n",
       "48              regulations  4952   423\n",
       "9                       cft  4989   386\n",
       "20                 rulebook  4991   384\n",
       "39                    vasps  5012   363\n",
       "30             transactions  5057   318\n",
       "17                 transfer  5085   290\n",
       "36                guideline  5122   253\n",
       "29                reporting  5136   239\n",
       "41                 policies  5169   206\n",
       "44                    legal  5175   200\n",
       "40                    rules  5180   195\n",
       "47                      cdd  5180   195\n",
       "52                 controls  5185   190\n",
       "28                  conduct  5187   188\n",
       "43          risk management  5213   162\n",
       "16                    audit  5232   143\n",
       "12                 investor  5234   141\n",
       "50               monitoring  5234   141\n",
       "14                authority  5239   136\n",
       "42            due diligence  5249   126\n",
       "37                 identity  5257   118\n",
       "5   beneficiary information  5264   111\n",
       "51               disclosure  5281    94\n",
       "1                  entities  5283    92\n",
       "15          risk assessment  5284    91\n",
       "19                      pep  5313    62\n",
       "18                sanctions  5320    55\n",
       "23                 criminal  5321    54\n",
       "49  suspicious transactions  5322    53\n",
       "11                 circular  5324    51\n",
       "33                   policy  5327    48\n",
       "24                      dlt  5330    45\n",
       "53                screening  5334    41\n",
       "32                safeguard  5336    39\n",
       "21              legislation  5339    36\n",
       "4                 oversight  5352    23\n",
       "54      investor protection  5355    20\n",
       "27           record keeping  5359    16\n",
       "6                       kyc  5361    14\n",
       "0              anti-bribery  5361    14\n",
       "7               travel rule  5361    14\n",
       "8           insider dealing  5362    13\n",
       "25          code of conduct  5362    13"
      ]
     },
     "execution_count": 23,
     "metadata": {},
     "output_type": "execute_result"
    }
   ],
   "source": [
    "import pandas as pd\n",
    "l1 = list(df.columns)[1:]\n",
    "summary_list = []\n",
    "for i in l1:\n",
    "    label_counts = df[i].value_counts()\n",
    "    summary_list.append({\n",
    "        'Label': i,\n",
    "        '0s': label_counts.get(0, 0),\n",
    "        '1s': label_counts.get(1, 0)\n",
    "    })\n",
    "\n",
    "\n",
    "summary_df = pd.DataFrame(summary_list)\n",
    "summary_df_sorted = summary_df.sort_values(by='1s', ascending=False)\n",
    "summary_df_sorted\n"
   ]
  },
  {
   "cell_type": "markdown",
   "id": "43489438",
   "metadata": {
    "papermill": {
     "duration": 0.020416,
     "end_time": "2024-06-05T19:04:21.213388",
     "exception": false,
     "start_time": "2024-06-05T19:04:21.192972",
     "status": "completed"
    },
    "tags": []
   },
   "source": [
    "# Apply oversmapling of Minorty classes\n"
   ]
  },
  {
   "cell_type": "code",
   "execution_count": null,
   "id": "bba637a4",
   "metadata": {
    "papermill": {
     "duration": 0.020436,
     "end_time": "2024-06-05T19:04:21.254314",
     "exception": false,
     "start_time": "2024-06-05T19:04:21.233878",
     "status": "completed"
    },
    "tags": []
   },
   "outputs": [],
   "source": []
  },
  {
   "cell_type": "code",
   "execution_count": 24,
   "id": "6a891dff",
   "metadata": {
    "execution": {
     "iopub.execute_input": "2024-06-05T19:04:21.297232Z",
     "iopub.status.busy": "2024-06-05T19:04:21.296916Z",
     "iopub.status.idle": "2024-06-05T19:04:41.942053Z",
     "shell.execute_reply": "2024-06-05T19:04:41.941093Z"
    },
    "papermill": {
     "duration": 20.669078,
     "end_time": "2024-06-05T19:04:41.944244",
     "exception": false,
     "start_time": "2024-06-05T19:04:21.275166",
     "status": "completed"
    },
    "tags": []
   },
   "outputs": [
    {
     "name": "stdout",
     "output_type": "stream",
     "text": [
      "Collecting git+https://github.com/phiyodr/multilabel-oversampling\r\n",
      "  Cloning https://github.com/phiyodr/multilabel-oversampling to /tmp/pip-req-build-qvz8mdeg\r\n",
      "  Running command git clone --filter=blob:none --quiet https://github.com/phiyodr/multilabel-oversampling /tmp/pip-req-build-qvz8mdeg\r\n",
      "  Resolved https://github.com/phiyodr/multilabel-oversampling to commit 5fa066171b8df7ef369fe4f0c674f9576a106b0e\r\n",
      "  Preparing metadata (setup.py) ... \u001b[?25l-\b \bdone\r\n",
      "\u001b[?25hRequirement already satisfied: numpy in /opt/conda/lib/python3.10/site-packages (from multilabel-oversampling==0.1.3) (1.26.4)\r\n",
      "Requirement already satisfied: scikit-learn in /opt/conda/lib/python3.10/site-packages (from multilabel-oversampling==0.1.3) (1.2.2)\r\n",
      "Requirement already satisfied: pandas in /opt/conda/lib/python3.10/site-packages (from multilabel-oversampling==0.1.3) (2.2.1)\r\n",
      "Requirement already satisfied: seaborn in /opt/conda/lib/python3.10/site-packages (from multilabel-oversampling==0.1.3) (0.12.2)\r\n",
      "Requirement already satisfied: tqdm in /opt/conda/lib/python3.10/site-packages (from multilabel-oversampling==0.1.3) (4.66.4)\r\n",
      "Requirement already satisfied: matplotlib in /opt/conda/lib/python3.10/site-packages (from multilabel-oversampling==0.1.3) (3.7.5)\r\n",
      "Requirement already satisfied: contourpy>=1.0.1 in /opt/conda/lib/python3.10/site-packages (from matplotlib->multilabel-oversampling==0.1.3) (1.2.0)\r\n",
      "Requirement already satisfied: cycler>=0.10 in /opt/conda/lib/python3.10/site-packages (from matplotlib->multilabel-oversampling==0.1.3) (0.12.1)\r\n",
      "Requirement already satisfied: fonttools>=4.22.0 in /opt/conda/lib/python3.10/site-packages (from matplotlib->multilabel-oversampling==0.1.3) (4.47.0)\r\n",
      "Requirement already satisfied: kiwisolver>=1.0.1 in /opt/conda/lib/python3.10/site-packages (from matplotlib->multilabel-oversampling==0.1.3) (1.4.5)\r\n",
      "Requirement already satisfied: packaging>=20.0 in /opt/conda/lib/python3.10/site-packages (from matplotlib->multilabel-oversampling==0.1.3) (21.3)\r\n",
      "Requirement already satisfied: pillow>=6.2.0 in /opt/conda/lib/python3.10/site-packages (from matplotlib->multilabel-oversampling==0.1.3) (9.5.0)\r\n",
      "Requirement already satisfied: pyparsing>=2.3.1 in /opt/conda/lib/python3.10/site-packages (from matplotlib->multilabel-oversampling==0.1.3) (3.1.1)\r\n",
      "Requirement already satisfied: python-dateutil>=2.7 in /opt/conda/lib/python3.10/site-packages (from matplotlib->multilabel-oversampling==0.1.3) (2.9.0.post0)\r\n",
      "Requirement already satisfied: pytz>=2020.1 in /opt/conda/lib/python3.10/site-packages (from pandas->multilabel-oversampling==0.1.3) (2023.3.post1)\r\n",
      "Requirement already satisfied: tzdata>=2022.7 in /opt/conda/lib/python3.10/site-packages (from pandas->multilabel-oversampling==0.1.3) (2023.4)\r\n",
      "Requirement already satisfied: scipy>=1.3.2 in /opt/conda/lib/python3.10/site-packages (from scikit-learn->multilabel-oversampling==0.1.3) (1.11.4)\r\n",
      "Requirement already satisfied: joblib>=1.1.1 in /opt/conda/lib/python3.10/site-packages (from scikit-learn->multilabel-oversampling==0.1.3) (1.4.2)\r\n",
      "Requirement already satisfied: threadpoolctl>=2.0.0 in /opt/conda/lib/python3.10/site-packages (from scikit-learn->multilabel-oversampling==0.1.3) (3.2.0)\r\n",
      "Requirement already satisfied: six>=1.5 in /opt/conda/lib/python3.10/site-packages (from python-dateutil>=2.7->matplotlib->multilabel-oversampling==0.1.3) (1.16.0)\r\n",
      "Building wheels for collected packages: multilabel-oversampling\r\n",
      "  Building wheel for multilabel-oversampling (setup.py) ... \u001b[?25l-\b \b\\\b \bdone\r\n",
      "\u001b[?25h  Created wheel for multilabel-oversampling: filename=multilabel_oversampling-0.1.3-py3-none-any.whl size=6225 sha256=31d022044cac0e2d5f2d828445631c47b7428401815de6ecb461a90ba2f75465\r\n",
      "  Stored in directory: /tmp/pip-ephem-wheel-cache-q1p651a8/wheels/2a/ba/2b/c3f093556ca8b37e8714e4748090daa11b45128ccb614665de\r\n",
      "Successfully built multilabel-oversampling\r\n",
      "\u001b[33mWARNING: Error parsing requirements for aiohttp: [Errno 2] No such file or directory: '/opt/conda/lib/python3.10/site-packages/aiohttp-3.9.1.dist-info/METADATA'\u001b[0m\u001b[33m\r\n",
      "\u001b[0mInstalling collected packages: multilabel-oversampling\r\n",
      "Successfully installed multilabel-oversampling-0.1.3\r\n"
     ]
    }
   ],
   "source": [
    "!pip install git+https://github.com/phiyodr/multilabel-oversampling"
   ]
  },
  {
   "cell_type": "code",
   "execution_count": 25,
   "id": "d5a10c28",
   "metadata": {
    "execution": {
     "iopub.execute_input": "2024-06-05T19:04:41.991356Z",
     "iopub.status.busy": "2024-06-05T19:04:41.990953Z",
     "iopub.status.idle": "2024-06-05T19:07:27.356335Z",
     "shell.execute_reply": "2024-06-05T19:07:27.355216Z"
    },
    "papermill": {
     "duration": 165.392071,
     "end_time": "2024-06-05T19:07:27.358790",
     "exception": false,
     "start_time": "2024-06-05T19:04:41.966719",
     "status": "completed"
    },
    "tags": []
   },
   "outputs": [
    {
     "name": "stdout",
     "output_type": "stream",
     "text": [
      "Start the upsampling process.\n"
     ]
    },
    {
     "name": "stderr",
     "output_type": "stream",
     "text": [
      "Iteration: 100%|██████████| 4000/4000 [02:45<00:00, 24.20it/s]\n"
     ]
    }
   ],
   "source": [
    "import multilabel_oversampling as mo\n",
    "\n",
    "mo.seed_everything(20)\n",
    "df = df # difficult fake dataset with very high dependency of y1 and y2\n",
    "ml_oversampler = mo.MultilabelOversampler(number_of_adds = 4000, number_of_tries=200,details=False, plot=False)\n",
    "l1 = list(df.columns)[1:]\n",
    "df_new = ml_oversampler.fit(df,target_list=l1)\n",
    "#>Start the upsampling process.\n",
    "#>Iteration:  11%|████████████████                                        | 11/100 [00:00<00:01, 48.43it/s]\n",
    "#>Iter 11: No improvement after 100 tries.\n",
    "#>Sampling done.\n",
    "#>\n",
    "#>Dataset size original: 20; Upsampled dataset size: 31\n",
    "#>Original target distribution:  {'y1': 16, 'y2': 12, 'y3': 4, 'y4': 4}\n",
    "#>Upsampled target distribution: {'y1': 19, 'y2': 12, 'y3': 15, 'y4': 15}\n",
    "\n",
    "#ml_oversampler.plot_all_tries()"
   ]
  },
  {
   "cell_type": "code",
   "execution_count": 26,
   "id": "5dba9d1f",
   "metadata": {
    "execution": {
     "iopub.execute_input": "2024-06-05T19:07:27.570681Z",
     "iopub.status.busy": "2024-06-05T19:07:27.570276Z",
     "iopub.status.idle": "2024-06-05T19:07:27.574316Z",
     "shell.execute_reply": "2024-06-05T19:07:27.573475Z"
    },
    "papermill": {
     "duration": 0.108312,
     "end_time": "2024-06-05T19:07:27.576199",
     "exception": false,
     "start_time": "2024-06-05T19:07:27.467887",
     "status": "completed"
    },
    "tags": []
   },
   "outputs": [],
   "source": [
    "#ml_oversampler.plot_results()"
   ]
  },
  {
   "cell_type": "code",
   "execution_count": 27,
   "id": "bf248c0f",
   "metadata": {
    "execution": {
     "iopub.execute_input": "2024-06-05T19:07:27.781070Z",
     "iopub.status.busy": "2024-06-05T19:07:27.780793Z",
     "iopub.status.idle": "2024-06-05T19:07:27.784896Z",
     "shell.execute_reply": "2024-06-05T19:07:27.784041Z"
    },
    "papermill": {
     "duration": 0.107554,
     "end_time": "2024-06-05T19:07:27.786832",
     "exception": false,
     "start_time": "2024-06-05T19:07:27.679278",
     "status": "completed"
    },
    "tags": []
   },
   "outputs": [],
   "source": [
    "#change df to oversampled one\n",
    "df = df_new"
   ]
  },
  {
   "cell_type": "code",
   "execution_count": 28,
   "id": "f9cf8a32",
   "metadata": {
    "execution": {
     "iopub.execute_input": "2024-06-05T19:07:27.989725Z",
     "iopub.status.busy": "2024-06-05T19:07:27.989434Z",
     "iopub.status.idle": "2024-06-05T19:07:27.993572Z",
     "shell.execute_reply": "2024-06-05T19:07:27.992740Z"
    },
    "papermill": {
     "duration": 0.107771,
     "end_time": "2024-06-05T19:07:27.995431",
     "exception": false,
     "start_time": "2024-06-05T19:07:27.887660",
     "status": "completed"
    },
    "tags": []
   },
   "outputs": [],
   "source": [
    "# from sklearn.feature_extraction.text import TfidfVectorizer\n",
    "# from imblearn.over_sampling import SMOTE\n",
    "# from sklearn.multiclass import OneVsRestClassifier\n",
    "# from sklearn.linear_model import LogisticRegression\n",
    "# from sklearn.metrics import classification_report\n",
    "\n",
    "# df = df_new[0]\n",
    "\n",
    "# X = df['Content']\n",
    "# y = df.drop(columns=['Content'])\n",
    "\n",
    "# # Split the data into training and testing sets\n",
    "# X_train, X_test, y_train, y_test = train_test_split(X, y, test_size=0.2, random_state=42)\n",
    "\n",
    "\n",
    "# vectorizer = TfidfVectorizer(max_features=5000)\n",
    "# X_train_vec = vectorizer.fit_transform(X_train)\n",
    "# X_test_vec = vectorizer.transform(X_test)\n",
    "\n",
    "\n"
   ]
  },
  {
   "cell_type": "code",
   "execution_count": 29,
   "id": "8fd44bf5",
   "metadata": {
    "execution": {
     "iopub.execute_input": "2024-06-05T19:07:28.200329Z",
     "iopub.status.busy": "2024-06-05T19:07:28.199514Z",
     "iopub.status.idle": "2024-06-05T19:07:28.203929Z",
     "shell.execute_reply": "2024-06-05T19:07:28.203048Z"
    },
    "papermill": {
     "duration": 0.108669,
     "end_time": "2024-06-05T19:07:28.205785",
     "exception": false,
     "start_time": "2024-06-05T19:07:28.097116",
     "status": "completed"
    },
    "tags": []
   },
   "outputs": [],
   "source": [
    "# from sklearn.multiclass import OneVsRestClassifier\n",
    "# from sklearn.linear_model import LogisticRegression\n",
    "# from sklearn.metrics import classification_report\n",
    "\n",
    "# # Train the classifier\n",
    "# classifier = OneVsRestClassifier(LogisticRegression(solver='liblinear'))\n",
    "# classifier.fit(X_train_vec, y_train)\n",
    "\n",
    "# # Predict on the test set\n",
    "# y_pred = classifier.predict(X_test_vec)\n",
    "\n",
    "# # Evaluate the classifier\n",
    "# print(classification_report(y_test, y_pred, target_names=y.columns))\n"
   ]
  },
  {
   "cell_type": "code",
   "execution_count": null,
   "id": "761971a5",
   "metadata": {
    "papermill": {
     "duration": 0.101342,
     "end_time": "2024-06-05T19:07:28.409925",
     "exception": false,
     "start_time": "2024-06-05T19:07:28.308583",
     "status": "completed"
    },
    "tags": []
   },
   "outputs": [],
   "source": []
  },
  {
   "cell_type": "code",
   "execution_count": 30,
   "id": "fcb2c647",
   "metadata": {
    "execution": {
     "iopub.execute_input": "2024-06-05T19:07:28.616297Z",
     "iopub.status.busy": "2024-06-05T19:07:28.615666Z",
     "iopub.status.idle": "2024-06-05T19:07:28.619866Z",
     "shell.execute_reply": "2024-06-05T19:07:28.618963Z"
    },
    "papermill": {
     "duration": 0.110154,
     "end_time": "2024-06-05T19:07:28.621692",
     "exception": false,
     "start_time": "2024-06-05T19:07:28.511538",
     "status": "completed"
    },
    "tags": []
   },
   "outputs": [],
   "source": [
    "import pandas as pd\n",
    "from datasets import Dataset"
   ]
  },
  {
   "cell_type": "code",
   "execution_count": 31,
   "id": "157a2333",
   "metadata": {
    "execution": {
     "iopub.execute_input": "2024-06-05T19:07:28.824732Z",
     "iopub.status.busy": "2024-06-05T19:07:28.824392Z",
     "iopub.status.idle": "2024-06-05T19:07:29.065010Z",
     "shell.execute_reply": "2024-06-05T19:07:29.064251Z"
    },
    "papermill": {
     "duration": 0.344638,
     "end_time": "2024-06-05T19:07:29.067156",
     "exception": false,
     "start_time": "2024-06-05T19:07:28.722518",
     "status": "completed"
    },
    "tags": []
   },
   "outputs": [],
   "source": [
    "#Splitting DataFrame into train, test, and validation sets\n",
    "train_df, test_valid_df = train_test_split(df, test_size=0.3, random_state=42)\n",
    "test_df, validation_df = train_test_split(test_valid_df, test_size=0.33, random_state=42)\n",
    "\n",
    "# Convert DataFrames to Hugging Face Datasets\n",
    "train_dataset = Dataset.from_pandas(train_df)\n",
    "test_dataset = Dataset.from_pandas(test_df)\n",
    "validation_dataset = Dataset.from_pandas(validation_df)\n",
    "\n",
    "# Create DatasetDict\n",
    "dataset = DatasetDict({\n",
    "    \"train\": train_dataset,\n",
    "    \"test\": test_dataset,\n",
    "    \"validation\": validation_dataset\n",
    "})\n",
    "\n",
    "\n"
   ]
  },
  {
   "cell_type": "code",
   "execution_count": 32,
   "id": "6e2e7c5c",
   "metadata": {
    "execution": {
     "iopub.execute_input": "2024-06-05T19:07:29.273568Z",
     "iopub.status.busy": "2024-06-05T19:07:29.273214Z",
     "iopub.status.idle": "2024-06-05T19:07:29.279531Z",
     "shell.execute_reply": "2024-06-05T19:07:29.278656Z"
    },
    "papermill": {
     "duration": 0.111169,
     "end_time": "2024-06-05T19:07:29.281361",
     "exception": false,
     "start_time": "2024-06-05T19:07:29.170192",
     "status": "completed"
    },
    "tags": []
   },
   "outputs": [
    {
     "data": {
      "text/plain": [
       "DatasetDict({\n",
       "    train: Dataset({\n",
       "        features: ['Content', 'anti-bribery', 'entities', 'vasp', 'virtual assets', 'oversight', 'beneficiary information', 'kyc', 'travel rule', 'insider dealing', 'cft', 'person', 'circular', 'investor', 'compliance', 'authority', 'risk assessment', 'audit', 'transfer', 'sanctions', 'pep', 'rulebook', 'legislation', 'transaction', 'criminal', 'dlt', 'code of conduct', 'risks', 'record keeping', 'conduct', 'reporting', 'transactions', 'client', 'safeguard', 'policy', 'regulator', 'requirements', 'guideline', 'identity', 'license', 'vasps', 'rules', 'policies', 'due diligence', 'risk management', 'legal', 'aml', 'operator', 'cdd', 'regulations', 'suspicious transactions', 'monitoring', 'disclosure', 'controls', 'screening', 'investor protection', '__index_level_0__'],\n",
       "        num_rows: 6562\n",
       "    })\n",
       "    test: Dataset({\n",
       "        features: ['Content', 'anti-bribery', 'entities', 'vasp', 'virtual assets', 'oversight', 'beneficiary information', 'kyc', 'travel rule', 'insider dealing', 'cft', 'person', 'circular', 'investor', 'compliance', 'authority', 'risk assessment', 'audit', 'transfer', 'sanctions', 'pep', 'rulebook', 'legislation', 'transaction', 'criminal', 'dlt', 'code of conduct', 'risks', 'record keeping', 'conduct', 'reporting', 'transactions', 'client', 'safeguard', 'policy', 'regulator', 'requirements', 'guideline', 'identity', 'license', 'vasps', 'rules', 'policies', 'due diligence', 'risk management', 'legal', 'aml', 'operator', 'cdd', 'regulations', 'suspicious transactions', 'monitoring', 'disclosure', 'controls', 'screening', 'investor protection', '__index_level_0__'],\n",
       "        num_rows: 1884\n",
       "    })\n",
       "    validation: Dataset({\n",
       "        features: ['Content', 'anti-bribery', 'entities', 'vasp', 'virtual assets', 'oversight', 'beneficiary information', 'kyc', 'travel rule', 'insider dealing', 'cft', 'person', 'circular', 'investor', 'compliance', 'authority', 'risk assessment', 'audit', 'transfer', 'sanctions', 'pep', 'rulebook', 'legislation', 'transaction', 'criminal', 'dlt', 'code of conduct', 'risks', 'record keeping', 'conduct', 'reporting', 'transactions', 'client', 'safeguard', 'policy', 'regulator', 'requirements', 'guideline', 'identity', 'license', 'vasps', 'rules', 'policies', 'due diligence', 'risk management', 'legal', 'aml', 'operator', 'cdd', 'regulations', 'suspicious transactions', 'monitoring', 'disclosure', 'controls', 'screening', 'investor protection', '__index_level_0__'],\n",
       "        num_rows: 929\n",
       "    })\n",
       "})"
      ]
     },
     "execution_count": 32,
     "metadata": {},
     "output_type": "execute_result"
    }
   ],
   "source": [
    "dataset"
   ]
  },
  {
   "cell_type": "code",
   "execution_count": 33,
   "id": "d7a512a5",
   "metadata": {
    "execution": {
     "iopub.execute_input": "2024-06-05T19:07:29.487675Z",
     "iopub.status.busy": "2024-06-05T19:07:29.487165Z",
     "iopub.status.idle": "2024-06-05T19:07:33.428610Z",
     "shell.execute_reply": "2024-06-05T19:07:33.427702Z"
    },
    "papermill": {
     "duration": 4.047215,
     "end_time": "2024-06-05T19:07:33.430651",
     "exception": false,
     "start_time": "2024-06-05T19:07:29.383436",
     "status": "completed"
    },
    "tags": []
   },
   "outputs": [
    {
     "data": {
      "text/plain": [
       "[{'Content': 'international organisations referred to in paragraph 41121 are entities established by formal political agreements between their member states that have the status of international treaties their existence is recognised by law in their member countries and they are not treated as resident institutional units of the countries in which they are located examples of international organisations include the un and affiliated international organisations such as the international maritime organization regional international organisations such as the council of europe institutions of the european union the organization for security and cooperation in europe and the organization of american states military international organisations such as the north atlantic treaty organization and economic organisations such as the world trade organization and the association of southeast asian nations etc',\n",
       "  'anti-bribery': 0,\n",
       "  'entities': 1,\n",
       "  'vasp': 0,\n",
       "  'virtual assets': 0,\n",
       "  'oversight': 0,\n",
       "  'beneficiary information': 0,\n",
       "  'kyc': 0,\n",
       "  'travel rule': 0,\n",
       "  'insider dealing': 0,\n",
       "  'cft': 0,\n",
       "  'person': 0,\n",
       "  'circular': 0,\n",
       "  'investor': 0,\n",
       "  'compliance': 0,\n",
       "  'authority': 0,\n",
       "  'risk assessment': 0,\n",
       "  'audit': 0,\n",
       "  'transfer': 0,\n",
       "  'sanctions': 0,\n",
       "  'pep': 0,\n",
       "  'rulebook': 0,\n",
       "  'legislation': 0,\n",
       "  'transaction': 0,\n",
       "  'criminal': 0,\n",
       "  'dlt': 0,\n",
       "  'code of conduct': 0,\n",
       "  'risks': 0,\n",
       "  'record keeping': 0,\n",
       "  'conduct': 0,\n",
       "  'reporting': 0,\n",
       "  'transactions': 0,\n",
       "  'client': 0,\n",
       "  'safeguard': 0,\n",
       "  'policy': 0,\n",
       "  'regulator': 0,\n",
       "  'requirements': 0,\n",
       "  'guideline': 0,\n",
       "  'identity': 0,\n",
       "  'license': 0,\n",
       "  'vasps': 0,\n",
       "  'rules': 0,\n",
       "  'policies': 0,\n",
       "  'due diligence': 0,\n",
       "  'risk management': 0,\n",
       "  'legal': 0,\n",
       "  'aml': 0,\n",
       "  'operator': 0,\n",
       "  'cdd': 0,\n",
       "  'regulations': 0,\n",
       "  'suspicious transactions': 0,\n",
       "  'monitoring': 0,\n",
       "  'disclosure': 0,\n",
       "  'controls': 0,\n",
       "  'screening': 0,\n",
       "  'investor protection': 0,\n",
       "  '__index_level_0__': 2391},\n",
       " {'Content': 'content rulebook has the meaning ascribed to it in the regulations',\n",
       "  'anti-bribery': 0,\n",
       "  'entities': 0,\n",
       "  'vasp': 0,\n",
       "  'virtual assets': 1,\n",
       "  'oversight': 0,\n",
       "  'beneficiary information': 0,\n",
       "  'kyc': 0,\n",
       "  'travel rule': 0,\n",
       "  'insider dealing': 0,\n",
       "  'cft': 0,\n",
       "  'person': 0,\n",
       "  'circular': 0,\n",
       "  'investor': 0,\n",
       "  'compliance': 1,\n",
       "  'authority': 0,\n",
       "  'risk assessment': 0,\n",
       "  'audit': 0,\n",
       "  'transfer': 0,\n",
       "  'sanctions': 0,\n",
       "  'pep': 0,\n",
       "  'rulebook': 1,\n",
       "  'legislation': 0,\n",
       "  'transaction': 0,\n",
       "  'criminal': 0,\n",
       "  'dlt': 0,\n",
       "  'code of conduct': 0,\n",
       "  'risks': 0,\n",
       "  'record keeping': 0,\n",
       "  'conduct': 0,\n",
       "  'reporting': 0,\n",
       "  'transactions': 0,\n",
       "  'client': 0,\n",
       "  'safeguard': 0,\n",
       "  'policy': 0,\n",
       "  'regulator': 1,\n",
       "  'requirements': 0,\n",
       "  'guideline': 0,\n",
       "  'identity': 0,\n",
       "  'license': 0,\n",
       "  'vasps': 0,\n",
       "  'rules': 0,\n",
       "  'policies': 0,\n",
       "  'due diligence': 0,\n",
       "  'risk management': 0,\n",
       "  'legal': 0,\n",
       "  'aml': 0,\n",
       "  'operator': 0,\n",
       "  'cdd': 0,\n",
       "  'regulations': 1,\n",
       "  'suspicious transactions': 0,\n",
       "  'monitoring': 0,\n",
       "  'disclosure': 0,\n",
       "  'controls': 0,\n",
       "  'screening': 0,\n",
       "  'investor protection': 0,\n",
       "  '__index_level_0__': 3584}]"
      ]
     },
     "execution_count": 33,
     "metadata": {},
     "output_type": "execute_result"
    }
   ],
   "source": [
    "[i for i in dataset['train']][:2]"
   ]
  },
  {
   "cell_type": "markdown",
   "id": "21cfd93f",
   "metadata": {
    "papermill": {
     "duration": 0.102305,
     "end_time": "2024-06-05T19:07:33.635284",
     "exception": false,
     "start_time": "2024-06-05T19:07:33.532979",
     "status": "completed"
    },
    "tags": []
   },
   "source": [
    "# Data Ready Now Training"
   ]
  },
  {
   "cell_type": "code",
   "execution_count": 34,
   "id": "133091a3",
   "metadata": {
    "execution": {
     "iopub.execute_input": "2024-06-05T19:07:33.839662Z",
     "iopub.status.busy": "2024-06-05T19:07:33.838819Z",
     "iopub.status.idle": "2024-06-05T19:07:36.479144Z",
     "shell.execute_reply": "2024-06-05T19:07:36.478144Z"
    },
    "papermill": {
     "duration": 2.745271,
     "end_time": "2024-06-05T19:07:36.481532",
     "exception": false,
     "start_time": "2024-06-05T19:07:33.736261",
     "status": "completed"
    },
    "tags": []
   },
   "outputs": [
    {
     "name": "stdout",
     "output_type": "stream",
     "text": [
      "\u001b[31mERROR: Could not install packages due to an OSError: [Errno 2] No such file or directory: '/opt/conda/lib/python3.10/site-packages/aiohttp-3.9.1.dist-info/METADATA'\r\n",
      "\u001b[0m\u001b[31m\r\n",
      "\u001b[0m"
     ]
    }
   ],
   "source": [
    "!pip install -q transformers datasets"
   ]
  },
  {
   "cell_type": "markdown",
   "id": "c9e559d4",
   "metadata": {
    "papermill": {
     "duration": 0.102887,
     "end_time": "2024-06-05T19:07:36.687378",
     "exception": false,
     "start_time": "2024-06-05T19:07:36.584491",
     "status": "completed"
    },
    "tags": []
   },
   "source": [
    "Add a linear layer on top of the base model, which is used to produce a tensor of shape (batch_size, num_labels), indicating the unnormalized scores for a number of labels for every example in the batch."
   ]
  },
  {
   "cell_type": "markdown",
   "id": "13e9492b",
   "metadata": {
    "papermill": {
     "duration": 0.105537,
     "end_time": "2024-06-05T19:07:36.894245",
     "exception": false,
     "start_time": "2024-06-05T19:07:36.788708",
     "status": "completed"
    },
    "tags": []
   },
   "source": [
    "### List containing all the labels"
   ]
  },
  {
   "cell_type": "code",
   "execution_count": 35,
   "id": "d1f196d4",
   "metadata": {
    "execution": {
     "iopub.execute_input": "2024-06-05T19:07:37.114868Z",
     "iopub.status.busy": "2024-06-05T19:07:37.114126Z",
     "iopub.status.idle": "2024-06-05T19:07:37.124909Z",
     "shell.execute_reply": "2024-06-05T19:07:37.124065Z"
    },
    "papermill": {
     "duration": 0.115055,
     "end_time": "2024-06-05T19:07:37.126893",
     "exception": false,
     "start_time": "2024-06-05T19:07:37.011838",
     "status": "completed"
    },
    "tags": []
   },
   "outputs": [
    {
     "data": {
      "text/plain": [
       "['anti-bribery',\n",
       " 'entities',\n",
       " 'vasp',\n",
       " 'virtual assets',\n",
       " 'oversight',\n",
       " 'beneficiary information',\n",
       " 'kyc',\n",
       " 'travel rule',\n",
       " 'insider dealing',\n",
       " 'cft',\n",
       " 'person',\n",
       " 'circular',\n",
       " 'investor',\n",
       " 'compliance',\n",
       " 'authority',\n",
       " 'risk assessment',\n",
       " 'audit',\n",
       " 'transfer',\n",
       " 'sanctions',\n",
       " 'pep',\n",
       " 'rulebook',\n",
       " 'legislation',\n",
       " 'transaction',\n",
       " 'criminal',\n",
       " 'dlt',\n",
       " 'code of conduct',\n",
       " 'risks',\n",
       " 'record keeping',\n",
       " 'conduct',\n",
       " 'reporting',\n",
       " 'transactions',\n",
       " 'client',\n",
       " 'safeguard',\n",
       " 'policy',\n",
       " 'regulator',\n",
       " 'requirements',\n",
       " 'guideline',\n",
       " 'identity',\n",
       " 'license',\n",
       " 'vasps',\n",
       " 'rules',\n",
       " 'policies',\n",
       " 'due diligence',\n",
       " 'risk management',\n",
       " 'legal',\n",
       " 'aml',\n",
       " 'operator',\n",
       " 'cdd',\n",
       " 'regulations',\n",
       " 'suspicious transactions',\n",
       " 'monitoring',\n",
       " 'disclosure',\n",
       " 'controls',\n",
       " 'screening',\n",
       " 'investor protection']"
      ]
     },
     "execution_count": 35,
     "metadata": {},
     "output_type": "execute_result"
    }
   ],
   "source": [
    "labels = [label for label in dataset['train'].features.keys() if label not in ['Content','__index_level_0__']]\n",
    "#Create 2 dictionaries that map labels to integers and back.\n",
    "id2label = {idx:label for idx, label in enumerate(labels)}\n",
    "label2id = {label:idx for idx, label in enumerate(labels)}\n",
    "labels"
   ]
  },
  {
   "cell_type": "code",
   "execution_count": 36,
   "id": "98c500c6",
   "metadata": {
    "execution": {
     "iopub.execute_input": "2024-06-05T19:07:37.331032Z",
     "iopub.status.busy": "2024-06-05T19:07:37.330471Z",
     "iopub.status.idle": "2024-06-05T19:07:37.337803Z",
     "shell.execute_reply": "2024-06-05T19:07:37.336982Z"
    },
    "papermill": {
     "duration": 0.111714,
     "end_time": "2024-06-05T19:07:37.339715",
     "exception": false,
     "start_time": "2024-06-05T19:07:37.228001",
     "status": "completed"
    },
    "tags": []
   },
   "outputs": [
    {
     "data": {
      "text/plain": [
       "{0: 'anti-bribery',\n",
       " 1: 'entities',\n",
       " 2: 'vasp',\n",
       " 3: 'virtual assets',\n",
       " 4: 'oversight',\n",
       " 5: 'beneficiary information',\n",
       " 6: 'kyc',\n",
       " 7: 'travel rule',\n",
       " 8: 'insider dealing',\n",
       " 9: 'cft',\n",
       " 10: 'person',\n",
       " 11: 'circular',\n",
       " 12: 'investor',\n",
       " 13: 'compliance',\n",
       " 14: 'authority',\n",
       " 15: 'risk assessment',\n",
       " 16: 'audit',\n",
       " 17: 'transfer',\n",
       " 18: 'sanctions',\n",
       " 19: 'pep',\n",
       " 20: 'rulebook',\n",
       " 21: 'legislation',\n",
       " 22: 'transaction',\n",
       " 23: 'criminal',\n",
       " 24: 'dlt',\n",
       " 25: 'code of conduct',\n",
       " 26: 'risks',\n",
       " 27: 'record keeping',\n",
       " 28: 'conduct',\n",
       " 29: 'reporting',\n",
       " 30: 'transactions',\n",
       " 31: 'client',\n",
       " 32: 'safeguard',\n",
       " 33: 'policy',\n",
       " 34: 'regulator',\n",
       " 35: 'requirements',\n",
       " 36: 'guideline',\n",
       " 37: 'identity',\n",
       " 38: 'license',\n",
       " 39: 'vasps',\n",
       " 40: 'rules',\n",
       " 41: 'policies',\n",
       " 42: 'due diligence',\n",
       " 43: 'risk management',\n",
       " 44: 'legal',\n",
       " 45: 'aml',\n",
       " 46: 'operator',\n",
       " 47: 'cdd',\n",
       " 48: 'regulations',\n",
       " 49: 'suspicious transactions',\n",
       " 50: 'monitoring',\n",
       " 51: 'disclosure',\n",
       " 52: 'controls',\n",
       " 53: 'screening',\n",
       " 54: 'investor protection'}"
      ]
     },
     "execution_count": 36,
     "metadata": {},
     "output_type": "execute_result"
    }
   ],
   "source": [
    "id2label"
   ]
  },
  {
   "cell_type": "code",
   "execution_count": null,
   "id": "641c50ca",
   "metadata": {
    "papermill": {
     "duration": 0.102027,
     "end_time": "2024-06-05T19:07:37.543626",
     "exception": false,
     "start_time": "2024-06-05T19:07:37.441599",
     "status": "completed"
    },
    "tags": []
   },
   "outputs": [],
   "source": []
  },
  {
   "cell_type": "markdown",
   "id": "1116974b",
   "metadata": {
    "papermill": {
     "duration": 0.100976,
     "end_time": "2024-06-05T19:07:37.748812",
     "exception": false,
     "start_time": "2024-06-05T19:07:37.647836",
     "status": "completed"
    },
    "tags": []
   },
   "source": [
    "# Tokenization"
   ]
  },
  {
   "cell_type": "markdown",
   "id": "0aa73284",
   "metadata": {
    "papermill": {
     "duration": 0.101901,
     "end_time": "2024-06-05T19:07:37.951665",
     "exception": false,
     "start_time": "2024-06-05T19:07:37.849764",
     "status": "completed"
    },
    "tags": []
   },
   "source": [
    "### As models like BERT don't expect text as direct input, but rather input_ids, etc., we tokenize the text using the tokenizer. We will use AutoTokenizer API, which will automatically load the appropriate tokenizer based on the checkpoint on the hub.\n",
    "\n",
    "### What's a bit tricky is that we also need to provide labels to the model. For multi-label text classification, this is a matrix of shape (batch_size, num_labels). Also important: this should be a tensor of floats rather than integers, otherwise PyTorch' BCEWithLogitsLoss (which the model will use) will complain"
   ]
  },
  {
   "cell_type": "code",
   "execution_count": 37,
   "id": "0f19b6bf",
   "metadata": {
    "execution": {
     "iopub.execute_input": "2024-06-05T19:07:38.159024Z",
     "iopub.status.busy": "2024-06-05T19:07:38.158319Z",
     "iopub.status.idle": "2024-06-05T19:07:43.616733Z",
     "shell.execute_reply": "2024-06-05T19:07:43.615813Z"
    },
    "papermill": {
     "duration": 5.563907,
     "end_time": "2024-06-05T19:07:43.618767",
     "exception": false,
     "start_time": "2024-06-05T19:07:38.054860",
     "status": "completed"
    },
    "tags": []
   },
   "outputs": [
    {
     "data": {
      "application/vnd.jupyter.widget-view+json": {
       "model_id": "f6d0d114d12047bcae73789aec4f9063",
       "version_major": 2,
       "version_minor": 0
      },
      "text/plain": [
       "tokenizer_config.json:   0%|          | 0.00/252 [00:00<?, ?B/s]"
      ]
     },
     "metadata": {},
     "output_type": "display_data"
    },
    {
     "name": "stderr",
     "output_type": "stream",
     "text": [
      "/opt/conda/lib/python3.10/site-packages/huggingface_hub/file_download.py:1132: FutureWarning: `resume_download` is deprecated and will be removed in version 1.0.0. Downloads always resume when possible. If you want to force a new download, use `force_download=True`.\n",
      "  warnings.warn(\n"
     ]
    },
    {
     "data": {
      "application/vnd.jupyter.widget-view+json": {
       "model_id": "cc2966222eec47d4a5fadf63e95d47e4",
       "version_major": 2,
       "version_minor": 0
      },
      "text/plain": [
       "config.json:   0%|          | 0.00/758 [00:00<?, ?B/s]"
      ]
     },
     "metadata": {},
     "output_type": "display_data"
    },
    {
     "data": {
      "application/vnd.jupyter.widget-view+json": {
       "model_id": "dbe40b23867842a0a04764a101869a43",
       "version_major": 2,
       "version_minor": 0
      },
      "text/plain": [
       "vocab.txt:   0%|          | 0.00/232k [00:00<?, ?B/s]"
      ]
     },
     "metadata": {},
     "output_type": "display_data"
    },
    {
     "data": {
      "application/vnd.jupyter.widget-view+json": {
       "model_id": "4a19e615910e42168c369d45f5f8620e",
       "version_major": 2,
       "version_minor": 0
      },
      "text/plain": [
       "special_tokens_map.json:   0%|          | 0.00/112 [00:00<?, ?B/s]"
      ]
     },
     "metadata": {},
     "output_type": "display_data"
    }
   ],
   "source": [
    "from transformers import AutoTokenizer\n",
    "import numpy as np\n",
    "\n",
    "tokenizer = AutoTokenizer.from_pretrained(\"ProsusAI/finbert\")\n",
    "\n",
    "def preprocess_data(examples, max_length=128):\n",
    "  # take a batch of texts\n",
    "  text = examples['Content']\n",
    "  batch_size = len(text)\n",
    "  # encode them\n",
    "  encoding = tokenizer(text, padding=\"max_length\", truncation=True, max_length=max_length)\n",
    "  # add labels\n",
    "  labels_batch = {k: examples[k] for k in examples.keys() if k in labels}\n",
    "  # create numpy array of shape (batch_size, num_labels)\n",
    "  labels_matrix = np.zeros((len(text), len(labels)))\n",
    "  # fill numpy array\n",
    "  for idx, label in enumerate(labels):\n",
    "    labels_matrix[:, idx] = labels_batch[label]\n",
    "\n",
    "  encoding[\"labels\"] = labels_matrix.tolist()\n",
    "  \n",
    "  return encoding"
   ]
  },
  {
   "cell_type": "code",
   "execution_count": 38,
   "id": "1b421201",
   "metadata": {
    "execution": {
     "iopub.execute_input": "2024-06-05T19:07:43.831712Z",
     "iopub.status.busy": "2024-06-05T19:07:43.830680Z",
     "iopub.status.idle": "2024-06-05T19:07:45.974729Z",
     "shell.execute_reply": "2024-06-05T19:07:45.973967Z"
    },
    "papermill": {
     "duration": 2.25107,
     "end_time": "2024-06-05T19:07:45.976666",
     "exception": false,
     "start_time": "2024-06-05T19:07:43.725596",
     "status": "completed"
    },
    "tags": []
   },
   "outputs": [
    {
     "data": {
      "application/vnd.jupyter.widget-view+json": {
       "model_id": "1f919203c39a4becadae13f78cac861c",
       "version_major": 2,
       "version_minor": 0
      },
      "text/plain": [
       "Map:   0%|          | 0/6562 [00:00<?, ? examples/s]"
      ]
     },
     "metadata": {},
     "output_type": "display_data"
    },
    {
     "data": {
      "application/vnd.jupyter.widget-view+json": {
       "model_id": "a30af8bce5054ca49b69245b7b7a4147",
       "version_major": 2,
       "version_minor": 0
      },
      "text/plain": [
       "Map:   0%|          | 0/1884 [00:00<?, ? examples/s]"
      ]
     },
     "metadata": {},
     "output_type": "display_data"
    },
    {
     "data": {
      "application/vnd.jupyter.widget-view+json": {
       "model_id": "003ab93adb3c41acad7e26b07925146b",
       "version_major": 2,
       "version_minor": 0
      },
      "text/plain": [
       "Map:   0%|          | 0/929 [00:00<?, ? examples/s]"
      ]
     },
     "metadata": {},
     "output_type": "display_data"
    }
   ],
   "source": [
    "encoded_dataset = dataset.map(preprocess_data, batched=True, remove_columns=dataset['train'].column_names)"
   ]
  },
  {
   "cell_type": "code",
   "execution_count": 39,
   "id": "31412fe8",
   "metadata": {
    "execution": {
     "iopub.execute_input": "2024-06-05T19:07:46.228779Z",
     "iopub.status.busy": "2024-06-05T19:07:46.228379Z",
     "iopub.status.idle": "2024-06-05T19:07:46.234411Z",
     "shell.execute_reply": "2024-06-05T19:07:46.233602Z"
    },
    "papermill": {
     "duration": 0.112055,
     "end_time": "2024-06-05T19:07:46.236296",
     "exception": false,
     "start_time": "2024-06-05T19:07:46.124241",
     "status": "completed"
    },
    "tags": []
   },
   "outputs": [
    {
     "data": {
      "text/plain": [
       "DatasetDict({\n",
       "    train: Dataset({\n",
       "        features: ['input_ids', 'token_type_ids', 'attention_mask', 'labels'],\n",
       "        num_rows: 6562\n",
       "    })\n",
       "    test: Dataset({\n",
       "        features: ['input_ids', 'token_type_ids', 'attention_mask', 'labels'],\n",
       "        num_rows: 1884\n",
       "    })\n",
       "    validation: Dataset({\n",
       "        features: ['input_ids', 'token_type_ids', 'attention_mask', 'labels'],\n",
       "        num_rows: 929\n",
       "    })\n",
       "})"
      ]
     },
     "execution_count": 39,
     "metadata": {},
     "output_type": "execute_result"
    }
   ],
   "source": [
    "encoded_dataset"
   ]
  },
  {
   "cell_type": "code",
   "execution_count": 40,
   "id": "f8d02533",
   "metadata": {
    "execution": {
     "iopub.execute_input": "2024-06-05T19:07:46.443815Z",
     "iopub.status.busy": "2024-06-05T19:07:46.443527Z",
     "iopub.status.idle": "2024-06-05T19:07:46.449356Z",
     "shell.execute_reply": "2024-06-05T19:07:46.448397Z"
    },
    "papermill": {
     "duration": 0.111812,
     "end_time": "2024-06-05T19:07:46.451572",
     "exception": false,
     "start_time": "2024-06-05T19:07:46.339760",
     "status": "completed"
    },
    "tags": []
   },
   "outputs": [
    {
     "data": {
      "text/plain": [
       "Dataset({\n",
       "    features: ['input_ids', 'token_type_ids', 'attention_mask', 'labels'],\n",
       "    num_rows: 6562\n",
       "})"
      ]
     },
     "execution_count": 40,
     "metadata": {},
     "output_type": "execute_result"
    }
   ],
   "source": [
    "encoded_dataset['train']"
   ]
  },
  {
   "cell_type": "code",
   "execution_count": 41,
   "id": "f6d590be",
   "metadata": {
    "execution": {
     "iopub.execute_input": "2024-06-05T19:07:46.659687Z",
     "iopub.status.busy": "2024-06-05T19:07:46.659005Z",
     "iopub.status.idle": "2024-06-05T19:07:57.503339Z",
     "shell.execute_reply": "2024-06-05T19:07:57.502426Z"
    },
    "papermill": {
     "duration": 10.949642,
     "end_time": "2024-06-05T19:07:57.505260",
     "exception": false,
     "start_time": "2024-06-05T19:07:46.555618",
     "status": "completed"
    },
    "tags": []
   },
   "outputs": [
    {
     "name": "stderr",
     "output_type": "stream",
     "text": [
      "2024-06-05 19:07:48.385195: E external/local_xla/xla/stream_executor/cuda/cuda_dnn.cc:9261] Unable to register cuDNN factory: Attempting to register factory for plugin cuDNN when one has already been registered\n",
      "2024-06-05 19:07:48.385316: E external/local_xla/xla/stream_executor/cuda/cuda_fft.cc:607] Unable to register cuFFT factory: Attempting to register factory for plugin cuFFT when one has already been registered\n",
      "2024-06-05 19:07:48.522147: E external/local_xla/xla/stream_executor/cuda/cuda_blas.cc:1515] Unable to register cuBLAS factory: Attempting to register factory for plugin cuBLAS when one has already been registered\n"
     ]
    },
    {
     "data": {
      "text/plain": [
       "'[CLS] international organisations referred to in paragraph 41121 are entities established by formal political agreements between their member states that have the status of international treaties their existence is recognised by law in their member countries and they are not treated as resident institutional units of the countries in which they are located examples of international organisations include the un and affiliated international organisations such as the international maritime organization regional international organisations such as the council of europe institutions of the european union the organization for security and cooperation in europe and the organization of american states military international organisations such as the north atlantic treaty organization and economic organisations such as the world trade organization and the association of southeast asian nations etc [SEP] [PAD]'"
      ]
     },
     "execution_count": 41,
     "metadata": {},
     "output_type": "execute_result"
    }
   ],
   "source": [
    "example = encoded_dataset['train'][0]\n",
    "tokenizer.decode(example['input_ids'])"
   ]
  },
  {
   "cell_type": "code",
   "execution_count": 42,
   "id": "e2fd9194",
   "metadata": {
    "execution": {
     "iopub.execute_input": "2024-06-05T19:07:57.716051Z",
     "iopub.status.busy": "2024-06-05T19:07:57.714976Z",
     "iopub.status.idle": "2024-06-05T19:07:57.719955Z",
     "shell.execute_reply": "2024-06-05T19:07:57.719052Z"
    },
    "papermill": {
     "duration": 0.111912,
     "end_time": "2024-06-05T19:07:57.721768",
     "exception": false,
     "start_time": "2024-06-05T19:07:57.609856",
     "status": "completed"
    },
    "tags": []
   },
   "outputs": [],
   "source": [
    "#example['labels']"
   ]
  },
  {
   "cell_type": "code",
   "execution_count": 43,
   "id": "5fcd6222",
   "metadata": {
    "execution": {
     "iopub.execute_input": "2024-06-05T19:07:57.929344Z",
     "iopub.status.busy": "2024-06-05T19:07:57.929047Z",
     "iopub.status.idle": "2024-06-05T19:07:57.934861Z",
     "shell.execute_reply": "2024-06-05T19:07:57.934054Z"
    },
    "papermill": {
     "duration": 0.111262,
     "end_time": "2024-06-05T19:07:57.936617",
     "exception": false,
     "start_time": "2024-06-05T19:07:57.825355",
     "status": "completed"
    },
    "tags": []
   },
   "outputs": [],
   "source": [
    "#use id to label dictionary\n",
    "[id2label[idx] for idx, label in enumerate(example['labels']) if label == 1.0]\n",
    "encoded_dataset.set_format(\"torch\") "
   ]
  },
  {
   "cell_type": "markdown",
   "id": "bdb88075",
   "metadata": {
    "papermill": {
     "duration": 0.103404,
     "end_time": "2024-06-05T19:07:58.143886",
     "exception": false,
     "start_time": "2024-06-05T19:07:58.040482",
     "status": "completed"
    },
    "tags": []
   },
   "source": [
    "### Here we define a model that includes a pre-trained base (i.e. the weights from bert-base-uncased) are loaded, with a random initialized classification head (linear layer) on top. One should fine-tune this head, together with the pre-trained base on a labeled dataset.\n",
    "\n",
    "### We set the problem_type to be \"multi_label_classification\", as this will make sure the appropriate loss function is used (namely BCEWithLogitsLoss). We also make sure the output layer has len(labels) output neurons, and we set the id2label and label2id mappings"
   ]
  },
  {
   "cell_type": "code",
   "execution_count": 44,
   "id": "9955a465",
   "metadata": {
    "execution": {
     "iopub.execute_input": "2024-06-05T19:07:58.352200Z",
     "iopub.status.busy": "2024-06-05T19:07:58.351421Z",
     "iopub.status.idle": "2024-06-05T19:08:03.167295Z",
     "shell.execute_reply": "2024-06-05T19:08:03.166496Z"
    },
    "papermill": {
     "duration": 4.922382,
     "end_time": "2024-06-05T19:08:03.169325",
     "exception": false,
     "start_time": "2024-06-05T19:07:58.246943",
     "status": "completed"
    },
    "tags": []
   },
   "outputs": [
    {
     "data": {
      "application/vnd.jupyter.widget-view+json": {
       "model_id": "649309a40780461e8dfbcb6f367e8b68",
       "version_major": 2,
       "version_minor": 0
      },
      "text/plain": [
       "pytorch_model.bin:   0%|          | 0.00/438M [00:00<?, ?B/s]"
      ]
     },
     "metadata": {},
     "output_type": "display_data"
    },
    {
     "name": "stderr",
     "output_type": "stream",
     "text": [
      "/opt/conda/lib/python3.10/site-packages/torch/_utils.py:831: UserWarning: TypedStorage is deprecated. It will be removed in the future and UntypedStorage will be the only storage class. This should only matter to you if you are using storages directly.  To access UntypedStorage directly, use tensor.untyped_storage() instead of tensor.storage()\n",
      "  return self.fget.__get__(instance, owner)()\n",
      "Some weights of BertForSequenceClassification were not initialized from the model checkpoint at ProsusAI/finbert and are newly initialized because the shapes did not match:\n",
      "- classifier.weight: found shape torch.Size([3, 768]) in the checkpoint and torch.Size([55, 768]) in the model instantiated\n",
      "- classifier.bias: found shape torch.Size([3]) in the checkpoint and torch.Size([55]) in the model instantiated\n",
      "You should probably TRAIN this model on a down-stream task to be able to use it for predictions and inference.\n"
     ]
    }
   ],
   "source": [
    "from transformers import AutoModelForSequenceClassification\n",
    "\n",
    "model = AutoModelForSequenceClassification.from_pretrained(\"ProsusAI/finbert\", \n",
    "                                                           problem_type=\"multi_label_classification\", \n",
    "                                                           num_labels=len(labels),\n",
    "                                                           id2label=id2label,\n",
    "                                                           label2id=label2id,\n",
    "                                                          ignore_mismatched_sizes=True )"
   ]
  },
  {
   "cell_type": "code",
   "execution_count": 45,
   "id": "ace0259d",
   "metadata": {
    "execution": {
     "iopub.execute_input": "2024-06-05T19:08:03.379866Z",
     "iopub.status.busy": "2024-06-05T19:08:03.379005Z",
     "iopub.status.idle": "2024-06-05T19:08:03.383207Z",
     "shell.execute_reply": "2024-06-05T19:08:03.382372Z"
    },
    "papermill": {
     "duration": 0.111319,
     "end_time": "2024-06-05T19:08:03.385191",
     "exception": false,
     "start_time": "2024-06-05T19:08:03.273872",
     "status": "completed"
    },
    "tags": []
   },
   "outputs": [],
   "source": [
    "batch_size = 16\n",
    "metric_name = \"f1\""
   ]
  },
  {
   "cell_type": "code",
   "execution_count": 46,
   "id": "c7aab2bc",
   "metadata": {
    "execution": {
     "iopub.execute_input": "2024-06-05T19:08:03.595263Z",
     "iopub.status.busy": "2024-06-05T19:08:03.594668Z",
     "iopub.status.idle": "2024-06-05T19:08:03.748739Z",
     "shell.execute_reply": "2024-06-05T19:08:03.747659Z"
    },
    "papermill": {
     "duration": 0.261812,
     "end_time": "2024-06-05T19:08:03.750923",
     "exception": false,
     "start_time": "2024-06-05T19:08:03.489111",
     "status": "completed"
    },
    "tags": []
   },
   "outputs": [
    {
     "name": "stderr",
     "output_type": "stream",
     "text": [
      "/opt/conda/lib/python3.10/site-packages/transformers/training_args.py:1474: FutureWarning: `evaluation_strategy` is deprecated and will be removed in version 4.46 of 🤗 Transformers. Use `eval_strategy` instead\n",
      "  warnings.warn(\n"
     ]
    }
   ],
   "source": [
    "from transformers import TrainingArguments, Trainer\n",
    "\n",
    "args = TrainingArguments(\n",
    "    f\"bert-finetuned-sem_eval-english\",\n",
    "    evaluation_strategy = \"epoch\",\n",
    "    save_strategy = \"epoch\",\n",
    "    learning_rate=1e-4,\n",
    "    per_device_train_batch_size=batch_size,\n",
    "    per_device_eval_batch_size=batch_size,\n",
    "    num_train_epochs=15,\n",
    "    weight_decay=0.01,\n",
    "    load_best_model_at_end=True,\n",
    "    metric_for_best_model=metric_name\n",
    ")"
   ]
  },
  {
   "cell_type": "markdown",
   "id": "93bfe14c",
   "metadata": {
    "papermill": {
     "duration": 0.104613,
     "end_time": "2024-06-05T19:08:03.960544",
     "exception": false,
     "start_time": "2024-06-05T19:08:03.855931",
     "status": "completed"
    },
    "tags": []
   },
   "source": [
    "we need to define a compute_metrics function, that returns a dictionary with the desired metric values.\n",
    "\n",
    "source: https://jesusleal.io/2021/04/21/Longformer-multilabel-classification/"
   ]
  },
  {
   "cell_type": "markdown",
   "id": "5a76c71a",
   "metadata": {
    "papermill": {
     "duration": 0.134511,
     "end_time": "2024-06-05T19:08:04.214079",
     "exception": false,
     "start_time": "2024-06-05T19:08:04.079568",
     "status": "completed"
    },
    "tags": []
   },
   "source": [
    "# 1. F1 Score\n",
    "The F1 score is the harmonic mean of precision and recall. It provides a single metric that balances both the precision and recall, making it useful for evaluating models where you need to balance the two, especially in the presence of imbalanced classes.\n",
    "\n",
    "Precision: The ratio of true positive predictions to the total number of positive predictions (true positives + false positives). It measures the accuracy of the positive predictions.\n",
    "Recall: The ratio of true positive predictions to the total number of actual positives (true positives + false negatives). It measures the ability to capture all relevant instances.\n",
    "The formula for the F1 score is:\n",
    "F1 score\n",
    "=\n",
    "2\n",
    "×\n",
    "(\n",
    "Precision\n",
    "×\n",
    "Recall\n",
    "Precision\n",
    "+\n",
    "Recall\n",
    ")\n",
    "F1 score=2×( \n",
    "Precision+Recall\n",
    "Precision×Recall\n",
    "​\n",
    " )\n",
    "\n",
    "# 2. ROC AUC Score\n",
    "The ROC AUC (Receiver Operating Characteristic Area Under Curve) score is a metric used to evaluate the performance of a binary classifier. It measures the ability of the classifier to distinguish between classes.\n",
    "\n",
    "ROC Curve: A plot of the true positive rate (recall) against the false positive rate (1-specificity) at various threshold settings.\n",
    "AUC: The area under the ROC curve. A higher AUC indicates better performance, with a score of 1 representing a perfect classifier and a score of 0.5 representing a random classifier.\n",
    "\n",
    "# 3. Accuracy Score\n",
    "Accuracy is the ratio of correctly predicted instances to the total instances. It is the most intuitive performance measure, but it can be misleading when dealing with imbalanced datasets.\n",
    "\n",
    "The formula for accuracy is:\n",
    "Accuracy\n",
    "=\n",
    "Number of Correct Predictions\n",
    "Total Number of Predictions\n",
    "Accuracy= \n",
    "Total Number of Predictions\n",
    "Number of Correct Predictions\n",
    "\n"
   ]
  },
  {
   "cell_type": "code",
   "execution_count": 47,
   "id": "fc42d220",
   "metadata": {
    "execution": {
     "iopub.execute_input": "2024-06-05T19:08:04.427706Z",
     "iopub.status.busy": "2024-06-05T19:08:04.426970Z",
     "iopub.status.idle": "2024-06-05T19:08:04.435586Z",
     "shell.execute_reply": "2024-06-05T19:08:04.434800Z"
    },
    "papermill": {
     "duration": 0.115804,
     "end_time": "2024-06-05T19:08:04.437413",
     "exception": false,
     "start_time": "2024-06-05T19:08:04.321609",
     "status": "completed"
    },
    "tags": []
   },
   "outputs": [],
   "source": [
    "from sklearn.metrics import f1_score, roc_auc_score, accuracy_score\n",
    "from transformers import EvalPrediction\n",
    "import torch\n",
    "    \n",
    "\n",
    "def multi_label_metrics(predictions, labels, threshold=0.5):\n",
    "    # first, apply sigmoid on predictions which are of shape (batch_size, num_labels)\n",
    "    sigmoid = torch.nn.Sigmoid()\n",
    "    probs = sigmoid(torch.Tensor(predictions))\n",
    "    # next, use threshold to turn them into integer predictions\n",
    "    y_pred = np.zeros(probs.shape)\n",
    "    y_pred[np.where(probs >= threshold)] = 1\n",
    "    # finally, compute metrics\n",
    "    y_true = labels\n",
    "    f1_micro_average = f1_score(y_true=y_true, y_pred=y_pred, average='micro')\n",
    "    roc_auc = roc_auc_score(y_true, y_pred, average = 'micro')\n",
    "    accuracy = accuracy_score(y_true, y_pred)\n",
    "    # return as dictionary\n",
    "    metrics = {'f1': f1_micro_average,\n",
    "               'roc_auc': roc_auc,\n",
    "               'accuracy': accuracy}\n",
    "    return metrics\n",
    "\n",
    "def compute_metrics(p: EvalPrediction):\n",
    "    preds = p.predictions[0] if isinstance(p.predictions, tuple) else p.predictions\n",
    "    result = multi_label_metrics(predictions=preds,labels=p.label_ids)\n",
    "    return result\n",
    "  \n",
    "   \n"
   ]
  },
  {
   "cell_type": "code",
   "execution_count": 48,
   "id": "f52304b5",
   "metadata": {
    "execution": {
     "iopub.execute_input": "2024-06-05T19:08:04.648223Z",
     "iopub.status.busy": "2024-06-05T19:08:04.647426Z",
     "iopub.status.idle": "2024-06-05T19:08:04.661601Z",
     "shell.execute_reply": "2024-06-05T19:08:04.660766Z"
    },
    "papermill": {
     "duration": 0.121206,
     "end_time": "2024-06-05T19:08:04.663539",
     "exception": false,
     "start_time": "2024-06-05T19:08:04.542333",
     "status": "completed"
    },
    "tags": []
   },
   "outputs": [
    {
     "data": {
      "text/plain": [
       "'torch.FloatTensor'"
      ]
     },
     "execution_count": 48,
     "metadata": {},
     "output_type": "execute_result"
    }
   ],
   "source": [
    "encoded_dataset['train'][0]['labels'].type()"
   ]
  },
  {
   "cell_type": "code",
   "execution_count": 49,
   "id": "806142ce",
   "metadata": {
    "execution": {
     "iopub.execute_input": "2024-06-05T19:08:04.877145Z",
     "iopub.status.busy": "2024-06-05T19:08:04.876331Z",
     "iopub.status.idle": "2024-06-05T19:08:04.899964Z",
     "shell.execute_reply": "2024-06-05T19:08:04.899118Z"
    },
    "papermill": {
     "duration": 0.131522,
     "end_time": "2024-06-05T19:08:04.901840",
     "exception": false,
     "start_time": "2024-06-05T19:08:04.770318",
     "status": "completed"
    },
    "tags": []
   },
   "outputs": [
    {
     "data": {
      "text/plain": [
       "tensor([  101,  2248,  8593,  3615,  2000,  1999, 20423, 27517, 17465,  2024,\n",
       "        11422,  2511,  2011,  5337,  2576, 10540,  2090,  2037,  2266,  2163,\n",
       "         2008,  2031,  1996,  3570,  1997,  2248, 16013,  2037,  4598,  2003,\n",
       "         7843,  2011,  2375,  1999,  2037,  2266,  3032,  1998,  2027,  2024,\n",
       "         2025,  5845,  2004,  6319, 12148,  3197,  1997,  1996,  3032,  1999,\n",
       "         2029,  2027,  2024,  2284,  4973,  1997,  2248,  8593,  2421,  1996,\n",
       "         4895,  1998,  6989,  2248,  8593,  2107,  2004,  1996,  2248,  7803,\n",
       "         3029,  3164,  2248,  8593,  2107,  2004,  1996,  2473,  1997,  2885,\n",
       "         4896,  1997,  1996,  2647,  2586,  1996,  3029,  2005,  3036,  1998,\n",
       "         6792,  1999,  2885,  1998,  1996,  3029,  1997,  2137,  2163,  2510,\n",
       "         2248,  8593,  2107,  2004,  1996,  2167,  4448,  5036,  3029,  1998,\n",
       "         3171,  8593,  2107,  2004,  1996,  2088,  3119,  3029,  1998,  1996,\n",
       "         2523,  1997,  4643,  4004,  3741,  4385,   102,     0])"
      ]
     },
     "execution_count": 49,
     "metadata": {},
     "output_type": "execute_result"
    }
   ],
   "source": [
    "encoded_dataset['train']['input_ids'][0]"
   ]
  },
  {
   "cell_type": "code",
   "execution_count": 50,
   "id": "4d8e823b",
   "metadata": {
    "execution": {
     "iopub.execute_input": "2024-06-05T19:08:05.114006Z",
     "iopub.status.busy": "2024-06-05T19:08:05.113708Z",
     "iopub.status.idle": "2024-06-05T19:08:05.117555Z",
     "shell.execute_reply": "2024-06-05T19:08:05.116715Z"
    },
    "papermill": {
     "duration": 0.112115,
     "end_time": "2024-06-05T19:08:05.119485",
     "exception": false,
     "start_time": "2024-06-05T19:08:05.007370",
     "status": "completed"
    },
    "tags": []
   },
   "outputs": [],
   "source": [
    "# #forward pass\n",
    "# #, attention_mask=attention_mask\n",
    "# outputs = model(input_ids=encoded_dataset['train']['input_ids'][0].unsqueeze(0), labels=encoded_dataset['train'][0]['labels'].unsqueeze(0))\n",
    "# outputs"
   ]
  },
  {
   "cell_type": "code",
   "execution_count": 51,
   "id": "7be08a97",
   "metadata": {
    "execution": {
     "iopub.execute_input": "2024-06-05T19:08:05.330437Z",
     "iopub.status.busy": "2024-06-05T19:08:05.329761Z",
     "iopub.status.idle": "2024-06-05T19:08:05.333778Z",
     "shell.execute_reply": "2024-06-05T19:08:05.332931Z"
    },
    "papermill": {
     "duration": 0.111488,
     "end_time": "2024-06-05T19:08:05.335696",
     "exception": false,
     "start_time": "2024-06-05T19:08:05.224208",
     "status": "completed"
    },
    "tags": []
   },
   "outputs": [],
   "source": [
    "from transformers import AutoModelForSequenceClassification, Trainer"
   ]
  },
  {
   "cell_type": "code",
   "execution_count": 52,
   "id": "5ce2b8ec",
   "metadata": {
    "execution": {
     "iopub.execute_input": "2024-06-05T19:08:05.546943Z",
     "iopub.status.busy": "2024-06-05T19:08:05.546352Z",
     "iopub.status.idle": "2024-06-05T19:08:05.783140Z",
     "shell.execute_reply": "2024-06-05T19:08:05.782366Z"
    },
    "papermill": {
     "duration": 0.344451,
     "end_time": "2024-06-05T19:08:05.785097",
     "exception": false,
     "start_time": "2024-06-05T19:08:05.440646",
     "status": "completed"
    },
    "tags": []
   },
   "outputs": [],
   "source": [
    "\n",
    "from kaggle_secrets import UserSecretsClient\n",
    "user_secrets = UserSecretsClient()\n",
    "secret_value_0 = user_secrets.get_secret(\"WANDB_API_KEY\")\n"
   ]
  },
  {
   "cell_type": "code",
   "execution_count": 53,
   "id": "e5c1e099",
   "metadata": {
    "execution": {
     "iopub.execute_input": "2024-06-05T19:08:05.997904Z",
     "iopub.status.busy": "2024-06-05T19:08:05.997087Z",
     "iopub.status.idle": "2024-06-05T19:08:06.001554Z",
     "shell.execute_reply": "2024-06-05T19:08:06.000697Z"
    },
    "papermill": {
     "duration": 0.112272,
     "end_time": "2024-06-05T19:08:06.003395",
     "exception": false,
     "start_time": "2024-06-05T19:08:05.891123",
     "status": "completed"
    },
    "tags": []
   },
   "outputs": [],
   "source": [
    "import os\n",
    "os.environ['WANDB_API_KEY'] =\"313a57558bcaee784e68d1654f7915a0b463a341\""
   ]
  },
  {
   "cell_type": "code",
   "execution_count": 54,
   "id": "1f240f3b",
   "metadata": {
    "execution": {
     "iopub.execute_input": "2024-06-05T19:08:06.217481Z",
     "iopub.status.busy": "2024-06-05T19:08:06.216613Z",
     "iopub.status.idle": "2024-06-05T19:08:07.140783Z",
     "shell.execute_reply": "2024-06-05T19:08:07.139823Z"
    },
    "papermill": {
     "duration": 1.033359,
     "end_time": "2024-06-05T19:08:07.143344",
     "exception": false,
     "start_time": "2024-06-05T19:08:06.109985",
     "status": "completed"
    },
    "tags": []
   },
   "outputs": [],
   "source": [
    "trainer = Trainer(\n",
    "    model,\n",
    "    args,\n",
    "    train_dataset=encoded_dataset[\"train\"],\n",
    "    eval_dataset=encoded_dataset[\"validation\"],\n",
    "    tokenizer=tokenizer,\n",
    "    compute_metrics=compute_metrics,\n",
    "\n",
    ")"
   ]
  },
  {
   "cell_type": "code",
   "execution_count": 55,
   "id": "3354ec99",
   "metadata": {
    "execution": {
     "iopub.execute_input": "2024-06-05T19:08:07.364285Z",
     "iopub.status.busy": "2024-06-05T19:08:07.363680Z",
     "iopub.status.idle": "2024-06-05T19:31:38.502524Z",
     "shell.execute_reply": "2024-06-05T19:31:38.501500Z"
    },
    "papermill": {
     "duration": 1411.248017,
     "end_time": "2024-06-05T19:31:38.504806",
     "exception": false,
     "start_time": "2024-06-05T19:08:07.256789",
     "status": "completed"
    },
    "tags": []
   },
   "outputs": [
    {
     "name": "stderr",
     "output_type": "stream",
     "text": [
      "\u001b[34m\u001b[1mwandb\u001b[0m: \u001b[33mWARNING\u001b[0m The `run_name` is currently set to the same value as `TrainingArguments.output_dir`. If this was not intended, please specify a different run name by setting the `TrainingArguments.run_name` parameter.\n",
      "\u001b[34m\u001b[1mwandb\u001b[0m: Currently logged in as: \u001b[33manshtanwar007\u001b[0m (\u001b[33manshta\u001b[0m). Use \u001b[1m`wandb login --relogin`\u001b[0m to force relogin\n",
      "\u001b[34m\u001b[1mwandb\u001b[0m: Tracking run with wandb version 0.17.0\n",
      "\u001b[34m\u001b[1mwandb\u001b[0m: Run data is saved locally in \u001b[35m\u001b[1m/kaggle/working/wandb/run-20240605_190808-ts0o5a33\u001b[0m\n",
      "\u001b[34m\u001b[1mwandb\u001b[0m: Run \u001b[1m`wandb offline`\u001b[0m to turn off syncing.\n",
      "\u001b[34m\u001b[1mwandb\u001b[0m: Syncing run \u001b[33mbert-finetuned-sem_eval-english\u001b[0m\n",
      "\u001b[34m\u001b[1mwandb\u001b[0m: ⭐️ View project at \u001b[34m\u001b[4mhttps://wandb.ai/anshta/huggingface\u001b[0m\n",
      "\u001b[34m\u001b[1mwandb\u001b[0m: 🚀 View run at \u001b[34m\u001b[4mhttps://wandb.ai/anshta/huggingface/runs/ts0o5a33\u001b[0m\n"
     ]
    },
    {
     "data": {
      "text/html": [
       "\n",
       "    <div>\n",
       "      \n",
       "      <progress value='6165' max='6165' style='width:300px; height:20px; vertical-align: middle;'></progress>\n",
       "      [6165/6165 23:12, Epoch 15/15]\n",
       "    </div>\n",
       "    <table border=\"1\" class=\"dataframe\">\n",
       "  <thead>\n",
       " <tr style=\"text-align: left;\">\n",
       "      <th>Epoch</th>\n",
       "      <th>Training Loss</th>\n",
       "      <th>Validation Loss</th>\n",
       "      <th>F1</th>\n",
       "      <th>Roc Auc</th>\n",
       "      <th>Accuracy</th>\n",
       "    </tr>\n",
       "  </thead>\n",
       "  <tbody>\n",
       "    <tr>\n",
       "      <td>1</td>\n",
       "      <td>No log</td>\n",
       "      <td>0.124187</td>\n",
       "      <td>0.368590</td>\n",
       "      <td>0.615589</td>\n",
       "      <td>0.050592</td>\n",
       "    </tr>\n",
       "    <tr>\n",
       "      <td>2</td>\n",
       "      <td>0.165100</td>\n",
       "      <td>0.065525</td>\n",
       "      <td>0.765750</td>\n",
       "      <td>0.817816</td>\n",
       "      <td>0.477933</td>\n",
       "    </tr>\n",
       "    <tr>\n",
       "      <td>3</td>\n",
       "      <td>0.076400</td>\n",
       "      <td>0.048691</td>\n",
       "      <td>0.853637</td>\n",
       "      <td>0.886083</td>\n",
       "      <td>0.639397</td>\n",
       "    </tr>\n",
       "    <tr>\n",
       "      <td>4</td>\n",
       "      <td>0.046000</td>\n",
       "      <td>0.038975</td>\n",
       "      <td>0.883761</td>\n",
       "      <td>0.909809</td>\n",
       "      <td>0.696448</td>\n",
       "    </tr>\n",
       "    <tr>\n",
       "      <td>5</td>\n",
       "      <td>0.031100</td>\n",
       "      <td>0.037184</td>\n",
       "      <td>0.890195</td>\n",
       "      <td>0.927207</td>\n",
       "      <td>0.729817</td>\n",
       "    </tr>\n",
       "    <tr>\n",
       "      <td>6</td>\n",
       "      <td>0.031100</td>\n",
       "      <td>0.033232</td>\n",
       "      <td>0.909782</td>\n",
       "      <td>0.934533</td>\n",
       "      <td>0.768568</td>\n",
       "    </tr>\n",
       "    <tr>\n",
       "      <td>7</td>\n",
       "      <td>0.022700</td>\n",
       "      <td>0.031175</td>\n",
       "      <td>0.911282</td>\n",
       "      <td>0.942215</td>\n",
       "      <td>0.769645</td>\n",
       "    </tr>\n",
       "    <tr>\n",
       "      <td>8</td>\n",
       "      <td>0.016000</td>\n",
       "      <td>0.031765</td>\n",
       "      <td>0.909280</td>\n",
       "      <td>0.940586</td>\n",
       "      <td>0.765339</td>\n",
       "    </tr>\n",
       "    <tr>\n",
       "      <td>9</td>\n",
       "      <td>0.012500</td>\n",
       "      <td>0.033298</td>\n",
       "      <td>0.916336</td>\n",
       "      <td>0.943059</td>\n",
       "      <td>0.780409</td>\n",
       "    </tr>\n",
       "    <tr>\n",
       "      <td>10</td>\n",
       "      <td>0.010000</td>\n",
       "      <td>0.031563</td>\n",
       "      <td>0.917701</td>\n",
       "      <td>0.947507</td>\n",
       "      <td>0.780409</td>\n",
       "    </tr>\n",
       "    <tr>\n",
       "      <td>11</td>\n",
       "      <td>0.008000</td>\n",
       "      <td>0.032378</td>\n",
       "      <td>0.915563</td>\n",
       "      <td>0.946060</td>\n",
       "      <td>0.782562</td>\n",
       "    </tr>\n",
       "    <tr>\n",
       "      <td>12</td>\n",
       "      <td>0.008000</td>\n",
       "      <td>0.032280</td>\n",
       "      <td>0.919702</td>\n",
       "      <td>0.948186</td>\n",
       "      <td>0.785791</td>\n",
       "    </tr>\n",
       "    <tr>\n",
       "      <td>13</td>\n",
       "      <td>0.006700</td>\n",
       "      <td>0.032007</td>\n",
       "      <td>0.918430</td>\n",
       "      <td>0.950590</td>\n",
       "      <td>0.781485</td>\n",
       "    </tr>\n",
       "    <tr>\n",
       "      <td>14</td>\n",
       "      <td>0.006000</td>\n",
       "      <td>0.032335</td>\n",
       "      <td>0.919621</td>\n",
       "      <td>0.949894</td>\n",
       "      <td>0.785791</td>\n",
       "    </tr>\n",
       "    <tr>\n",
       "      <td>15</td>\n",
       "      <td>0.005300</td>\n",
       "      <td>0.032360</td>\n",
       "      <td>0.918729</td>\n",
       "      <td>0.949085</td>\n",
       "      <td>0.783638</td>\n",
       "    </tr>\n",
       "  </tbody>\n",
       "</table><p>"
      ],
      "text/plain": [
       "<IPython.core.display.HTML object>"
      ]
     },
     "metadata": {},
     "output_type": "display_data"
    },
    {
     "data": {
      "text/plain": [
       "TrainOutput(global_step=6165, training_loss=0.033051062771100294, metrics={'train_runtime': 1410.8169, 'train_samples_per_second': 69.768, 'train_steps_per_second': 4.37, 'total_flos': 6477586289210880.0, 'train_loss': 0.033051062771100294, 'epoch': 15.0})"
      ]
     },
     "execution_count": 55,
     "metadata": {},
     "output_type": "execute_result"
    }
   ],
   "source": [
    "trainer.train()"
   ]
  },
  {
   "cell_type": "code",
   "execution_count": 56,
   "id": "a3874161",
   "metadata": {
    "execution": {
     "iopub.execute_input": "2024-06-05T19:31:38.732337Z",
     "iopub.status.busy": "2024-06-05T19:31:38.731393Z",
     "iopub.status.idle": "2024-06-05T19:31:42.399221Z",
     "shell.execute_reply": "2024-06-05T19:31:42.398248Z"
    },
    "papermill": {
     "duration": 3.783515,
     "end_time": "2024-06-05T19:31:42.401122",
     "exception": false,
     "start_time": "2024-06-05T19:31:38.617607",
     "status": "completed"
    },
    "tags": []
   },
   "outputs": [
    {
     "data": {
      "text/html": [
       "\n",
       "    <div>\n",
       "      \n",
       "      <progress value='59' max='59' style='width:300px; height:20px; vertical-align: middle;'></progress>\n",
       "      [59/59 00:03]\n",
       "    </div>\n",
       "    "
      ],
      "text/plain": [
       "<IPython.core.display.HTML object>"
      ]
     },
     "metadata": {},
     "output_type": "display_data"
    },
    {
     "data": {
      "text/plain": [
       "{'eval_loss': 0.0322800874710083,\n",
       " 'eval_f1': 0.9197019867549667,\n",
       " 'eval_roc_auc': 0.9481862049594313,\n",
       " 'eval_accuracy': 0.7857911733046287,\n",
       " 'eval_runtime': 3.6562,\n",
       " 'eval_samples_per_second': 254.092,\n",
       " 'eval_steps_per_second': 16.137,\n",
       " 'epoch': 15.0}"
      ]
     },
     "execution_count": 56,
     "metadata": {},
     "output_type": "execute_result"
    }
   ],
   "source": [
    "trainer.evaluate()"
   ]
  },
  {
   "cell_type": "markdown",
   "id": "4b0909cc",
   "metadata": {
    "papermill": {
     "duration": 0.112714,
     "end_time": "2024-06-05T19:31:42.629193",
     "exception": false,
     "start_time": "2024-06-05T19:31:42.516479",
     "status": "completed"
    },
    "tags": []
   },
   "source": [
    "# Inference\n",
    "add Codeadd Markdown\n",
    "The logits that come out of the model are of shape (batch_size, num_labels). As we are only forwarding a single sentence through the model, the batch_size equals 1.\n",
    "\n",
    "The logits is a tensor that contains the (unnormalized) scores for every individual label.\n",
    "\n",
    "The logits that come out of the model are of shape (batch_size, num_labels). As we are only forwarding a single sentence through the model, the batch_size equals 1.\n",
    "\n",
    "The logits is a tensor that contains the (unnormalized) scores for every individual label."
   ]
  },
  {
   "cell_type": "code",
   "execution_count": 57,
   "id": "416a779b",
   "metadata": {
    "execution": {
     "iopub.execute_input": "2024-06-05T19:31:42.865933Z",
     "iopub.status.busy": "2024-06-05T19:31:42.865233Z",
     "iopub.status.idle": "2024-06-05T19:31:42.872941Z",
     "shell.execute_reply": "2024-06-05T19:31:42.871940Z"
    },
    "papermill": {
     "duration": 0.123119,
     "end_time": "2024-06-05T19:31:42.874805",
     "exception": false,
     "start_time": "2024-06-05T19:31:42.751686",
     "status": "completed"
    },
    "tags": []
   },
   "outputs": [],
   "source": [
    "def get_answer(text):\n",
    "    \n",
    "    encoding = tokenizer(text, return_tensors=\"pt\")\n",
    "    encoding = {k: v.to(trainer.model.device) for k,v in encoding.items()}\n",
    "    outputs = trainer.model(**encoding)\n",
    "    logits = outputs.logits\n",
    "    #print(logits.shape)\n",
    "    \n",
    "    # apply sigmoid + threshold\n",
    "    sigmoid = torch.nn.Sigmoid()\n",
    "    probs = sigmoid(logits.squeeze().cpu())\n",
    "    #print(probs)\n",
    "    predictions = np.zeros(probs.shape)\n",
    "    predictions[np.where(probs >= 0.3)] = 1\n",
    "    #print(predictions)\n",
    "    #predicted_labels = [id2label[idx] for idx, label in enumerate(predictions) if label == 1.0]\n",
    "    predicted_labels = {id2label[idx]: prob.item() for idx, prob in enumerate(probs) if predictions[idx] == 1}\n",
    "    \n",
    "    print()\n",
    "    return predicted_labels\n"
   ]
  },
  {
   "cell_type": "code",
   "execution_count": 58,
   "id": "a7640b8a",
   "metadata": {
    "execution": {
     "iopub.execute_input": "2024-06-05T19:31:43.106738Z",
     "iopub.status.busy": "2024-06-05T19:31:43.106366Z",
     "iopub.status.idle": "2024-06-05T19:31:43.126393Z",
     "shell.execute_reply": "2024-06-05T19:31:43.125504Z"
    },
    "papermill": {
     "duration": 0.1371,
     "end_time": "2024-06-05T19:31:43.128387",
     "exception": false,
     "start_time": "2024-06-05T19:31:42.991287",
     "status": "completed"
    },
    "tags": []
   },
   "outputs": [
    {
     "name": "stdout",
     "output_type": "stream",
     "text": [
      "\n"
     ]
    },
    {
     "data": {
      "text/plain": [
       "{'virtual assets': 0.9694579243659973,\n",
       " 'cft': 0.9922364354133606,\n",
       " 'license': 0.9404940605163574,\n",
       " 'aml': 0.9971023201942444}"
      ]
     },
     "execution_count": 58,
     "metadata": {},
     "output_type": "execute_result"
    }
   ],
   "source": [
    "text = \"The new licensing regime for centralised virtual asset trading platforms under the Anti-MoneyLaundering and Counter-Terrorist Financing Ordinance (Cap. 615) (AMLO) will come intoeffect on 1 June 2023. Under the new regime, centralised virtual asset trading platformsoperating in Hong Kong will need to apply to the Securities and Futures Commission (SFC)for a licence under the Securities and Futures Ordinance (Cap 571) (SFO) and/or the AMLO(Dual Licence Arrangement)\"\n",
    "get_answer(text)"
   ]
  },
  {
   "cell_type": "code",
   "execution_count": 59,
   "id": "92000055",
   "metadata": {
    "execution": {
     "iopub.execute_input": "2024-06-05T19:31:43.350506Z",
     "iopub.status.busy": "2024-06-05T19:31:43.350128Z",
     "iopub.status.idle": "2024-06-05T19:31:43.371397Z",
     "shell.execute_reply": "2024-06-05T19:31:43.370490Z"
    },
    "papermill": {
     "duration": 0.13384,
     "end_time": "2024-06-05T19:31:43.373301",
     "exception": false,
     "start_time": "2024-06-05T19:31:43.239461",
     "status": "completed"
    },
    "tags": []
   },
   "outputs": [
    {
     "data": {
      "text/html": [
       "<div>\n",
       "<style scoped>\n",
       "    .dataframe tbody tr th:only-of-type {\n",
       "        vertical-align: middle;\n",
       "    }\n",
       "\n",
       "    .dataframe tbody tr th {\n",
       "        vertical-align: top;\n",
       "    }\n",
       "\n",
       "    .dataframe thead th {\n",
       "        text-align: right;\n",
       "    }\n",
       "</style>\n",
       "<table border=\"1\" class=\"dataframe\">\n",
       "  <thead>\n",
       "    <tr style=\"text-align: right;\">\n",
       "      <th></th>\n",
       "      <th>Content</th>\n",
       "      <th>anti-bribery</th>\n",
       "      <th>entities</th>\n",
       "      <th>vasp</th>\n",
       "      <th>virtual assets</th>\n",
       "      <th>oversight</th>\n",
       "      <th>beneficiary information</th>\n",
       "      <th>kyc</th>\n",
       "      <th>travel rule</th>\n",
       "      <th>insider dealing</th>\n",
       "      <th>...</th>\n",
       "      <th>aml</th>\n",
       "      <th>operator</th>\n",
       "      <th>cdd</th>\n",
       "      <th>regulations</th>\n",
       "      <th>suspicious transactions</th>\n",
       "      <th>monitoring</th>\n",
       "      <th>disclosure</th>\n",
       "      <th>controls</th>\n",
       "      <th>screening</th>\n",
       "      <th>investor protection</th>\n",
       "    </tr>\n",
       "  </thead>\n",
       "  <tbody>\n",
       "    <tr>\n",
       "      <th>3999</th>\n",
       "      <td>2 vasps shall ensure that all members of the b...</td>\n",
       "      <td>1</td>\n",
       "      <td>0</td>\n",
       "      <td>1</td>\n",
       "      <td>0</td>\n",
       "      <td>0</td>\n",
       "      <td>0</td>\n",
       "      <td>0</td>\n",
       "      <td>0</td>\n",
       "      <td>0</td>\n",
       "      <td>...</td>\n",
       "      <td>0</td>\n",
       "      <td>0</td>\n",
       "      <td>0</td>\n",
       "      <td>0</td>\n",
       "      <td>0</td>\n",
       "      <td>0</td>\n",
       "      <td>0</td>\n",
       "      <td>0</td>\n",
       "      <td>0</td>\n",
       "      <td>0</td>\n",
       "    </tr>\n",
       "    <tr>\n",
       "      <th>1718</th>\n",
       "      <td>b experience in the virtual assets sector incl...</td>\n",
       "      <td>0</td>\n",
       "      <td>1</td>\n",
       "      <td>0</td>\n",
       "      <td>1</td>\n",
       "      <td>0</td>\n",
       "      <td>0</td>\n",
       "      <td>0</td>\n",
       "      <td>0</td>\n",
       "      <td>0</td>\n",
       "      <td>...</td>\n",
       "      <td>0</td>\n",
       "      <td>0</td>\n",
       "      <td>0</td>\n",
       "      <td>1</td>\n",
       "      <td>0</td>\n",
       "      <td>0</td>\n",
       "      <td>0</td>\n",
       "      <td>0</td>\n",
       "      <td>0</td>\n",
       "      <td>0</td>\n",
       "    </tr>\n",
       "    <tr>\n",
       "      <th>1907</th>\n",
       "      <td>3 prior to agreeing a sale to any client or in...</td>\n",
       "      <td>0</td>\n",
       "      <td>0</td>\n",
       "      <td>1</td>\n",
       "      <td>1</td>\n",
       "      <td>0</td>\n",
       "      <td>0</td>\n",
       "      <td>0</td>\n",
       "      <td>0</td>\n",
       "      <td>0</td>\n",
       "      <td>...</td>\n",
       "      <td>0</td>\n",
       "      <td>0</td>\n",
       "      <td>0</td>\n",
       "      <td>0</td>\n",
       "      <td>0</td>\n",
       "      <td>0</td>\n",
       "      <td>0</td>\n",
       "      <td>0</td>\n",
       "      <td>0</td>\n",
       "      <td>0</td>\n",
       "    </tr>\n",
       "    <tr>\n",
       "      <th>3129</th>\n",
       "      <td>d obtaining a similar or comparable document t...</td>\n",
       "      <td>0</td>\n",
       "      <td>0</td>\n",
       "      <td>0</td>\n",
       "      <td>0</td>\n",
       "      <td>0</td>\n",
       "      <td>0</td>\n",
       "      <td>0</td>\n",
       "      <td>0</td>\n",
       "      <td>0</td>\n",
       "      <td>...</td>\n",
       "      <td>0</td>\n",
       "      <td>0</td>\n",
       "      <td>0</td>\n",
       "      <td>0</td>\n",
       "      <td>0</td>\n",
       "      <td>0</td>\n",
       "      <td>0</td>\n",
       "      <td>0</td>\n",
       "      <td>0</td>\n",
       "      <td>0</td>\n",
       "    </tr>\n",
       "    <tr>\n",
       "      <th>248</th>\n",
       "      <td>content dwtca means the dubai world trade cent...</td>\n",
       "      <td>0</td>\n",
       "      <td>0</td>\n",
       "      <td>0</td>\n",
       "      <td>1</td>\n",
       "      <td>0</td>\n",
       "      <td>0</td>\n",
       "      <td>0</td>\n",
       "      <td>0</td>\n",
       "      <td>0</td>\n",
       "      <td>...</td>\n",
       "      <td>0</td>\n",
       "      <td>0</td>\n",
       "      <td>0</td>\n",
       "      <td>0</td>\n",
       "      <td>0</td>\n",
       "      <td>0</td>\n",
       "      <td>0</td>\n",
       "      <td>0</td>\n",
       "      <td>0</td>\n",
       "      <td>0</td>\n",
       "    </tr>\n",
       "    <tr>\n",
       "      <th>2932</th>\n",
       "      <td>diligence measures in relation to its amlcft c...</td>\n",
       "      <td>0</td>\n",
       "      <td>0</td>\n",
       "      <td>0</td>\n",
       "      <td>0</td>\n",
       "      <td>0</td>\n",
       "      <td>0</td>\n",
       "      <td>0</td>\n",
       "      <td>1</td>\n",
       "      <td>0</td>\n",
       "      <td>...</td>\n",
       "      <td>1</td>\n",
       "      <td>0</td>\n",
       "      <td>0</td>\n",
       "      <td>0</td>\n",
       "      <td>0</td>\n",
       "      <td>0</td>\n",
       "      <td>0</td>\n",
       "      <td>1</td>\n",
       "      <td>0</td>\n",
       "      <td>0</td>\n",
       "    </tr>\n",
       "    <tr>\n",
       "      <th>2521</th>\n",
       "      <td>b at least one fulltime employee of the corpor...</td>\n",
       "      <td>0</td>\n",
       "      <td>0</td>\n",
       "      <td>0</td>\n",
       "      <td>1</td>\n",
       "      <td>0</td>\n",
       "      <td>0</td>\n",
       "      <td>0</td>\n",
       "      <td>0</td>\n",
       "      <td>0</td>\n",
       "      <td>...</td>\n",
       "      <td>0</td>\n",
       "      <td>0</td>\n",
       "      <td>0</td>\n",
       "      <td>0</td>\n",
       "      <td>0</td>\n",
       "      <td>0</td>\n",
       "      <td>0</td>\n",
       "      <td>0</td>\n",
       "      <td>0</td>\n",
       "      <td>0</td>\n",
       "    </tr>\n",
       "    <tr>\n",
       "      <th>3123</th>\n",
       "      <td>the types of funds it transacts for these fund...</td>\n",
       "      <td>0</td>\n",
       "      <td>0</td>\n",
       "      <td>0</td>\n",
       "      <td>0</td>\n",
       "      <td>0</td>\n",
       "      <td>0</td>\n",
       "      <td>0</td>\n",
       "      <td>0</td>\n",
       "      <td>0</td>\n",
       "      <td>...</td>\n",
       "      <td>1</td>\n",
       "      <td>0</td>\n",
       "      <td>0</td>\n",
       "      <td>0</td>\n",
       "      <td>0</td>\n",
       "      <td>0</td>\n",
       "      <td>0</td>\n",
       "      <td>1</td>\n",
       "      <td>0</td>\n",
       "      <td>0</td>\n",
       "    </tr>\n",
       "    <tr>\n",
       "      <th>3626</th>\n",
       "      <td>if within the 21day period the regulated perso...</td>\n",
       "      <td>0</td>\n",
       "      <td>0</td>\n",
       "      <td>0</td>\n",
       "      <td>0</td>\n",
       "      <td>0</td>\n",
       "      <td>0</td>\n",
       "      <td>0</td>\n",
       "      <td>0</td>\n",
       "      <td>0</td>\n",
       "      <td>...</td>\n",
       "      <td>0</td>\n",
       "      <td>0</td>\n",
       "      <td>0</td>\n",
       "      <td>0</td>\n",
       "      <td>0</td>\n",
       "      <td>0</td>\n",
       "      <td>0</td>\n",
       "      <td>0</td>\n",
       "      <td>0</td>\n",
       "      <td>0</td>\n",
       "    </tr>\n",
       "    <tr>\n",
       "      <th>3873</th>\n",
       "      <td>a deposits or withdrawals including those whic...</td>\n",
       "      <td>0</td>\n",
       "      <td>0</td>\n",
       "      <td>0</td>\n",
       "      <td>0</td>\n",
       "      <td>0</td>\n",
       "      <td>0</td>\n",
       "      <td>0</td>\n",
       "      <td>1</td>\n",
       "      <td>0</td>\n",
       "      <td>...</td>\n",
       "      <td>0</td>\n",
       "      <td>0</td>\n",
       "      <td>0</td>\n",
       "      <td>0</td>\n",
       "      <td>0</td>\n",
       "      <td>0</td>\n",
       "      <td>0</td>\n",
       "      <td>0</td>\n",
       "      <td>0</td>\n",
       "      <td>0</td>\n",
       "    </tr>\n",
       "  </tbody>\n",
       "</table>\n",
       "<p>10 rows × 56 columns</p>\n",
       "</div>"
      ],
      "text/plain": [
       "                                                Content  anti-bribery  \\\n",
       "3999  2 vasps shall ensure that all members of the b...             1   \n",
       "1718  b experience in the virtual assets sector incl...             0   \n",
       "1907  3 prior to agreeing a sale to any client or in...             0   \n",
       "3129  d obtaining a similar or comparable document t...             0   \n",
       "248   content dwtca means the dubai world trade cent...             0   \n",
       "2932  diligence measures in relation to its amlcft c...             0   \n",
       "2521  b at least one fulltime employee of the corpor...             0   \n",
       "3123  the types of funds it transacts for these fund...             0   \n",
       "3626  if within the 21day period the regulated perso...             0   \n",
       "3873  a deposits or withdrawals including those whic...             0   \n",
       "\n",
       "      entities  vasp  virtual assets  oversight  beneficiary information  kyc  \\\n",
       "3999         0     1               0          0                        0    0   \n",
       "1718         1     0               1          0                        0    0   \n",
       "1907         0     1               1          0                        0    0   \n",
       "3129         0     0               0          0                        0    0   \n",
       "248          0     0               1          0                        0    0   \n",
       "2932         0     0               0          0                        0    0   \n",
       "2521         0     0               1          0                        0    0   \n",
       "3123         0     0               0          0                        0    0   \n",
       "3626         0     0               0          0                        0    0   \n",
       "3873         0     0               0          0                        0    0   \n",
       "\n",
       "      travel rule  insider dealing  ...  aml  operator  cdd  regulations  \\\n",
       "3999            0                0  ...    0         0    0            0   \n",
       "1718            0                0  ...    0         0    0            1   \n",
       "1907            0                0  ...    0         0    0            0   \n",
       "3129            0                0  ...    0         0    0            0   \n",
       "248             0                0  ...    0         0    0            0   \n",
       "2932            1                0  ...    1         0    0            0   \n",
       "2521            0                0  ...    0         0    0            0   \n",
       "3123            0                0  ...    1         0    0            0   \n",
       "3626            0                0  ...    0         0    0            0   \n",
       "3873            1                0  ...    0         0    0            0   \n",
       "\n",
       "      suspicious transactions  monitoring  disclosure  controls  screening  \\\n",
       "3999                        0           0           0         0          0   \n",
       "1718                        0           0           0         0          0   \n",
       "1907                        0           0           0         0          0   \n",
       "3129                        0           0           0         0          0   \n",
       "248                         0           0           0         0          0   \n",
       "2932                        0           0           0         1          0   \n",
       "2521                        0           0           0         0          0   \n",
       "3123                        0           0           0         1          0   \n",
       "3626                        0           0           0         0          0   \n",
       "3873                        0           0           0         0          0   \n",
       "\n",
       "      investor protection  \n",
       "3999                    0  \n",
       "1718                    0  \n",
       "1907                    0  \n",
       "3129                    0  \n",
       "248                     0  \n",
       "2932                    0  \n",
       "2521                    0  \n",
       "3123                    0  \n",
       "3626                    0  \n",
       "3873                    0  \n",
       "\n",
       "[10 rows x 56 columns]"
      ]
     },
     "execution_count": 59,
     "metadata": {},
     "output_type": "execute_result"
    }
   ],
   "source": [
    "testing_df"
   ]
  },
  {
   "cell_type": "code",
   "execution_count": 60,
   "id": "03f9757f",
   "metadata": {
    "execution": {
     "iopub.execute_input": "2024-06-05T19:31:43.596075Z",
     "iopub.status.busy": "2024-06-05T19:31:43.595706Z",
     "iopub.status.idle": "2024-06-05T19:31:43.736755Z",
     "shell.execute_reply": "2024-06-05T19:31:43.735818Z"
    },
    "papermill": {
     "duration": 0.254668,
     "end_time": "2024-06-05T19:31:43.739170",
     "exception": false,
     "start_time": "2024-06-05T19:31:43.484502",
     "status": "completed"
    },
    "tags": []
   },
   "outputs": [
    {
     "name": "stdout",
     "output_type": "stream",
     "text": [
      "\n",
      "2 vasps shall ensure that all members of the board and staff to have full access at all times to the most uptodate antibribery and corruption policy and will be informed of any changes to such policy \n",
      "\n",
      "Predicted Labels: {'anti-bribery': 0.9522165656089783, 'vasp': 0.997760534286499, 'policy': 0.9961841702461243, 'vasps': 0.9532378315925598}\n",
      "Actual Labels: ['anti-bribery', 'vasp', 'policy', 'vasps']\n",
      "________________________________________________________________________________\n",
      "\n",
      "b experience in the virtual assets sector including but not limited to handson working experience acquired through their employment by entities carrying out activities similar to va activities outside of the emirate c whether they have a good understanding of the vara regulatory framework including but not limited to the regulations rules and directives governing the provision of va management and investment services and d industry standards as may be applicable to the virtual assets sector from time to time \n",
      "\n",
      "Predicted Labels: {'entities': 0.920994758605957, 'virtual assets': 0.9785827398300171, 'regulator': 0.8435398936271667, 'rules': 0.9061000347137451, 'regulations': 0.9725849032402039}\n",
      "Actual Labels: ['entities', 'virtual assets', 'regulator', 'rules', 'regulations']\n",
      "________________________________________________________________________________\n",
      "\n",
      "3 prior to agreeing a sale to any client or investor of newly issued virtual assets vasps shall disclose to that counterparty and obtain consent from the issuer allowing the vasp to disclose to the counterparty \n",
      "\n",
      "Predicted Labels: {'vasp': 0.9990670084953308, 'virtual assets': 0.958818793296814, 'investor': 0.7319628000259399, 'client': 0.9721087217330933, 'vasps': 0.9905868172645569, 'disclosure': 0.5572695732116699}\n",
      "Actual Labels: ['vasp', 'virtual assets', 'investor', 'compliance', 'client', 'regulator', 'vasps']\n",
      "________________________________________________________________________________\n",
      "\n",
      "d obtaining a similar or comparable document to a company search report or a certificate of incumbency certified by a professional person in the relevant jurisdiction \n",
      "\n",
      "Predicted Labels: {'person': 0.9815056920051575, 'reporting': 0.9744676351547241}\n",
      "Actual Labels: ['person', 'reporting']\n",
      "________________________________________________________________________________\n",
      "\n",
      "content dwtca means the dubai world trade centre authority \n",
      "\n",
      "Predicted Labels: {'virtual assets': 0.9837260842323303, 'compliance': 0.34117552638053894, 'authority': 0.9748215079307556, 'regulator': 0.9594672918319702}\n",
      "Actual Labels: ['virtual assets', 'compliance', 'authority', 'regulator']\n",
      "________________________________________________________________________________\n",
      "\n",
      "diligence measures in relation to its amlcft controls an fi should assess whether the va transfer counterparty can comply with the travel rule taking into account relevant factors such as \n",
      "\n",
      "Predicted Labels: {'travel rule': 0.5511061549186707, 'cft': 0.9721070528030396, 'transfer': 0.9939268231391907, 'due diligence': 0.4874451160430908, 'aml': 0.961753785610199, 'controls': 0.7878432273864746}\n",
      "Actual Labels: ['travel rule', 'cft', 'transfer', 'aml', 'controls']\n",
      "________________________________________________________________________________\n",
      "\n",
      "b at least one fulltime employee of the corporation performs duties related to financial services businesses at those premises \n",
      "\n",
      "Predicted Labels: {'compliance': 0.89750736951828, 'regulator': 0.9951510429382324}\n",
      "Actual Labels: ['virtual assets', 'compliance', 'regulator']\n",
      "________________________________________________________________________________\n",
      "\n",
      "the types of funds it transacts for these funds investor bases in their entirety and the jurisdictions where these funds are offered the reputation of the delegating asset management company eg whether it has or had been subject to any targeted sanctions mltf investigations or regulatory actions and its amlcft controls obtaining senior management approval and understanding respective amlcft responsibilities clearly \n",
      "\n",
      "Predicted Labels: {'cft': 0.9952453970909119, 'investor': 0.9274225234985352, 'sanctions': 0.652463972568512, 'regulator': 0.7637913227081299, 'aml': 0.9937586784362793, 'controls': 0.7543376684188843}\n",
      "Actual Labels: ['cft', 'investor', 'sanctions', 'regulator', 'aml', 'controls']\n",
      "________________________________________________________________________________\n",
      "\n",
      "if within the 21day period the regulated person applies for a review of the decision the decision will not take effect until the review tribunal makes a determination however the sfc s decision will take immediate effect if the regulated person withdraws the application \n",
      "\n",
      "Predicted Labels: {'virtual assets': 0.991125762462616, 'person': 0.9845257997512817, 'compliance': 0.9719638824462891, 'regulator': 0.9669919610023499}\n",
      "Actual Labels: ['person']\n",
      "________________________________________________________________________________\n",
      "\n",
      "a deposits or withdrawals including those which are compliant with the travel rule and those which are not \n",
      "\n",
      "Predicted Labels: {'compliance': 0.9651198983192444}\n",
      "Actual Labels: ['travel rule', 'compliance']\n",
      "________________________________________________________________________________\n"
     ]
    }
   ],
   "source": [
    "for index, row in testing_df.iterrows():\n",
    "\n",
    "    text = row['Content']\n",
    "    predictions = get_answer(text)\n",
    "    actual_labels = testing_df.columns[1:][row[1:] == 1].tolist()\n",
    "    \n",
    "    print(text,'\\n')    \n",
    "    print(f\"Predicted Labels: {predictions}\")\n",
    "    print(f\"Actual Labels: {actual_labels}\")\n",
    "    print(\"________________________________________________________________________________\")"
   ]
  },
  {
   "cell_type": "markdown",
   "id": "0f07a139",
   "metadata": {
    "papermill": {
     "duration": 0.167724,
     "end_time": "2024-06-05T19:31:44.019257",
     "exception": false,
     "start_time": "2024-06-05T19:31:43.851533",
     "status": "completed"
    },
    "tags": []
   },
   "source": [
    "# Probability"
   ]
  },
  {
   "cell_type": "code",
   "execution_count": 61,
   "id": "6360d9f1",
   "metadata": {
    "execution": {
     "iopub.execute_input": "2024-06-05T19:31:44.246344Z",
     "iopub.status.busy": "2024-06-05T19:31:44.245975Z",
     "iopub.status.idle": "2024-06-05T19:31:44.250078Z",
     "shell.execute_reply": "2024-06-05T19:31:44.249179Z"
    },
    "papermill": {
     "duration": 0.120309,
     "end_time": "2024-06-05T19:31:44.251985",
     "exception": false,
     "start_time": "2024-06-05T19:31:44.131676",
     "status": "completed"
    },
    "tags": []
   },
   "outputs": [],
   "source": [
    "# outputs = trainer.model(**encoding)\n",
    "# logits = outputs.logits\n",
    "# logits.shape"
   ]
  },
  {
   "cell_type": "markdown",
   "id": "4e5e223e",
   "metadata": {
    "papermill": {
     "duration": 0.112484,
     "end_time": "2024-06-05T19:31:44.477314",
     "exception": false,
     "start_time": "2024-06-05T19:31:44.364830",
     "status": "completed"
    },
    "tags": []
   },
   "source": [
    "The logits that come out of the model are of shape (batch_size, num_labels). As we are only forwarding a single sentence through the model, the batch_size equals 1.\n",
    "\n",
    "The logits is a tensor that contains the (unnormalized) scores for every individual label\n",
    "\n",
    "To turn them into actual predicted labels, we first apply a sigmoid function independently to every score, such that every score is turned into a number between 0 and 1, that can be interpreted as a \"probability\" for how certain the model is that a given class belongs to the input text.\n",
    "\n",
    "Next, we use a threshold (typically, 0.5) to turn every probability into either a 1 (which means, we predict the label for the given example) or a 0 (which means, we don't predict the label for the given example)"
   ]
  },
  {
   "cell_type": "code",
   "execution_count": 62,
   "id": "a5edf6b6",
   "metadata": {
    "execution": {
     "iopub.execute_input": "2024-06-05T19:31:44.701483Z",
     "iopub.status.busy": "2024-06-05T19:31:44.700770Z",
     "iopub.status.idle": "2024-06-05T19:31:44.704919Z",
     "shell.execute_reply": "2024-06-05T19:31:44.704036Z"
    },
    "papermill": {
     "duration": 0.117684,
     "end_time": "2024-06-05T19:31:44.706775",
     "exception": false,
     "start_time": "2024-06-05T19:31:44.589091",
     "status": "completed"
    },
    "tags": []
   },
   "outputs": [],
   "source": [
    "# # apply sigmoid + threshold\n",
    "# sigmoid = torch.nn.Sigmoid()\n",
    "# probs = sigmoid(logits.squeeze().cpu())\n",
    "# predictions = np.zeros(probs.shape)\n",
    "# predictions[np.where(probs >= 0.5)] = 1\n",
    "# # turn predicted id's into actual label names\n",
    "# predicted_labels = [id2label[idx] for idx, label in enumerate(predictions) if label == 1.0]\n",
    "# print(predicted_labels)"
   ]
  },
  {
   "cell_type": "code",
   "execution_count": null,
   "id": "187c6fd2",
   "metadata": {
    "papermill": {
     "duration": 0.108403,
     "end_time": "2024-06-05T19:31:44.925193",
     "exception": false,
     "start_time": "2024-06-05T19:31:44.816790",
     "status": "completed"
    },
    "tags": []
   },
   "outputs": [],
   "source": []
  }
 ],
 "metadata": {
  "kaggle": {
   "accelerator": "gpu",
   "dataSources": [
    {
     "datasetId": 5092991,
     "sourceId": 8600001,
     "sourceType": "datasetVersion"
    }
   ],
   "dockerImageVersionId": 30715,
   "isGpuEnabled": true,
   "isInternetEnabled": true,
   "language": "python",
   "sourceType": "notebook"
  },
  "kernelspec": {
   "display_name": "Python 3",
   "language": "python",
   "name": "python3"
  },
  "language_info": {
   "codemirror_mode": {
    "name": "ipython",
    "version": 3
   },
   "file_extension": ".py",
   "mimetype": "text/x-python",
   "name": "python",
   "nbconvert_exporter": "python",
   "pygments_lexer": "ipython3",
   "version": "3.10.13"
  },
  "papermill": {
   "default_parameters": {},
   "duration": 1656.018949,
   "end_time": "2024-06-05T19:31:47.760859",
   "environment_variables": {},
   "exception": null,
   "input_path": "__notebook__.ipynb",
   "output_path": "__notebook__.ipynb",
   "parameters": {},
   "start_time": "2024-06-05T19:04:11.741910",
   "version": "2.5.0"
  },
  "widgets": {
   "application/vnd.jupyter.widget-state+json": {
    "state": {
     "003ab93adb3c41acad7e26b07925146b": {
      "model_module": "@jupyter-widgets/controls",
      "model_module_version": "1.5.0",
      "model_name": "HBoxModel",
      "state": {
       "_dom_classes": [],
       "_model_module": "@jupyter-widgets/controls",
       "_model_module_version": "1.5.0",
       "_model_name": "HBoxModel",
       "_view_count": null,
       "_view_module": "@jupyter-widgets/controls",
       "_view_module_version": "1.5.0",
       "_view_name": "HBoxView",
       "box_style": "",
       "children": [
        "IPY_MODEL_414ee1f8908c492aa24d7dd877945ae6",
        "IPY_MODEL_4e93237cea914de780ae4d1570cdb534",
        "IPY_MODEL_8ed4fb705bee491f9bce444c37294515"
       ],
       "layout": "IPY_MODEL_44fcb005525c474e80ed3c4e1f9af31c"
      }
     },
     "04f2ecd428374875a2e0ec640b0620c4": {
      "model_module": "@jupyter-widgets/controls",
      "model_module_version": "1.5.0",
      "model_name": "ProgressStyleModel",
      "state": {
       "_model_module": "@jupyter-widgets/controls",
       "_model_module_version": "1.5.0",
       "_model_name": "ProgressStyleModel",
       "_view_count": null,
       "_view_module": "@jupyter-widgets/base",
       "_view_module_version": "1.2.0",
       "_view_name": "StyleView",
       "bar_color": null,
       "description_width": ""
      }
     },
     "0831e3f6b4cd4163a1823062839a910f": {
      "model_module": "@jupyter-widgets/base",
      "model_module_version": "1.2.0",
      "model_name": "LayoutModel",
      "state": {
       "_model_module": "@jupyter-widgets/base",
       "_model_module_version": "1.2.0",
       "_model_name": "LayoutModel",
       "_view_count": null,
       "_view_module": "@jupyter-widgets/base",
       "_view_module_version": "1.2.0",
       "_view_name": "LayoutView",
       "align_content": null,
       "align_items": null,
       "align_self": null,
       "border": null,
       "bottom": null,
       "display": null,
       "flex": null,
       "flex_flow": null,
       "grid_area": null,
       "grid_auto_columns": null,
       "grid_auto_flow": null,
       "grid_auto_rows": null,
       "grid_column": null,
       "grid_gap": null,
       "grid_row": null,
       "grid_template_areas": null,
       "grid_template_columns": null,
       "grid_template_rows": null,
       "height": null,
       "justify_content": null,
       "justify_items": null,
       "left": null,
       "margin": null,
       "max_height": null,
       "max_width": null,
       "min_height": null,
       "min_width": null,
       "object_fit": null,
       "object_position": null,
       "order": null,
       "overflow": null,
       "overflow_x": null,
       "overflow_y": null,
       "padding": null,
       "right": null,
       "top": null,
       "visibility": null,
       "width": null
      }
     },
     "0bae1ab67e974bb4b8f4c16266cc0a52": {
      "model_module": "@jupyter-widgets/controls",
      "model_module_version": "1.5.0",
      "model_name": "DescriptionStyleModel",
      "state": {
       "_model_module": "@jupyter-widgets/controls",
       "_model_module_version": "1.5.0",
       "_model_name": "DescriptionStyleModel",
       "_view_count": null,
       "_view_module": "@jupyter-widgets/base",
       "_view_module_version": "1.2.0",
       "_view_name": "StyleView",
       "description_width": ""
      }
     },
     "0e7b3fc7019d47b6aa0dd246dee86157": {
      "model_module": "@jupyter-widgets/base",
      "model_module_version": "1.2.0",
      "model_name": "LayoutModel",
      "state": {
       "_model_module": "@jupyter-widgets/base",
       "_model_module_version": "1.2.0",
       "_model_name": "LayoutModel",
       "_view_count": null,
       "_view_module": "@jupyter-widgets/base",
       "_view_module_version": "1.2.0",
       "_view_name": "LayoutView",
       "align_content": null,
       "align_items": null,
       "align_self": null,
       "border": null,
       "bottom": null,
       "display": null,
       "flex": null,
       "flex_flow": null,
       "grid_area": null,
       "grid_auto_columns": null,
       "grid_auto_flow": null,
       "grid_auto_rows": null,
       "grid_column": null,
       "grid_gap": null,
       "grid_row": null,
       "grid_template_areas": null,
       "grid_template_columns": null,
       "grid_template_rows": null,
       "height": null,
       "justify_content": null,
       "justify_items": null,
       "left": null,
       "margin": null,
       "max_height": null,
       "max_width": null,
       "min_height": null,
       "min_width": null,
       "object_fit": null,
       "object_position": null,
       "order": null,
       "overflow": null,
       "overflow_x": null,
       "overflow_y": null,
       "padding": null,
       "right": null,
       "top": null,
       "visibility": null,
       "width": null
      }
     },
     "185963c37edb4453bb8b6074cd241683": {
      "model_module": "@jupyter-widgets/base",
      "model_module_version": "1.2.0",
      "model_name": "LayoutModel",
      "state": {
       "_model_module": "@jupyter-widgets/base",
       "_model_module_version": "1.2.0",
       "_model_name": "LayoutModel",
       "_view_count": null,
       "_view_module": "@jupyter-widgets/base",
       "_view_module_version": "1.2.0",
       "_view_name": "LayoutView",
       "align_content": null,
       "align_items": null,
       "align_self": null,
       "border": null,
       "bottom": null,
       "display": null,
       "flex": null,
       "flex_flow": null,
       "grid_area": null,
       "grid_auto_columns": null,
       "grid_auto_flow": null,
       "grid_auto_rows": null,
       "grid_column": null,
       "grid_gap": null,
       "grid_row": null,
       "grid_template_areas": null,
       "grid_template_columns": null,
       "grid_template_rows": null,
       "height": null,
       "justify_content": null,
       "justify_items": null,
       "left": null,
       "margin": null,
       "max_height": null,
       "max_width": null,
       "min_height": null,
       "min_width": null,
       "object_fit": null,
       "object_position": null,
       "order": null,
       "overflow": null,
       "overflow_x": null,
       "overflow_y": null,
       "padding": null,
       "right": null,
       "top": null,
       "visibility": null,
       "width": null
      }
     },
     "192c16ee2fb34bf89a693f5e5a02d9bb": {
      "model_module": "@jupyter-widgets/base",
      "model_module_version": "1.2.0",
      "model_name": "LayoutModel",
      "state": {
       "_model_module": "@jupyter-widgets/base",
       "_model_module_version": "1.2.0",
       "_model_name": "LayoutModel",
       "_view_count": null,
       "_view_module": "@jupyter-widgets/base",
       "_view_module_version": "1.2.0",
       "_view_name": "LayoutView",
       "align_content": null,
       "align_items": null,
       "align_self": null,
       "border": null,
       "bottom": null,
       "display": null,
       "flex": null,
       "flex_flow": null,
       "grid_area": null,
       "grid_auto_columns": null,
       "grid_auto_flow": null,
       "grid_auto_rows": null,
       "grid_column": null,
       "grid_gap": null,
       "grid_row": null,
       "grid_template_areas": null,
       "grid_template_columns": null,
       "grid_template_rows": null,
       "height": null,
       "justify_content": null,
       "justify_items": null,
       "left": null,
       "margin": null,
       "max_height": null,
       "max_width": null,
       "min_height": null,
       "min_width": null,
       "object_fit": null,
       "object_position": null,
       "order": null,
       "overflow": null,
       "overflow_x": null,
       "overflow_y": null,
       "padding": null,
       "right": null,
       "top": null,
       "visibility": null,
       "width": null
      }
     },
     "1a76589c03174164a075780459ffaecc": {
      "model_module": "@jupyter-widgets/controls",
      "model_module_version": "1.5.0",
      "model_name": "DescriptionStyleModel",
      "state": {
       "_model_module": "@jupyter-widgets/controls",
       "_model_module_version": "1.5.0",
       "_model_name": "DescriptionStyleModel",
       "_view_count": null,
       "_view_module": "@jupyter-widgets/base",
       "_view_module_version": "1.2.0",
       "_view_name": "StyleView",
       "description_width": ""
      }
     },
     "1b95281b3ead4bf69d38153b0a8f5428": {
      "model_module": "@jupyter-widgets/controls",
      "model_module_version": "1.5.0",
      "model_name": "FloatProgressModel",
      "state": {
       "_dom_classes": [],
       "_model_module": "@jupyter-widgets/controls",
       "_model_module_version": "1.5.0",
       "_model_name": "FloatProgressModel",
       "_view_count": null,
       "_view_module": "@jupyter-widgets/controls",
       "_view_module_version": "1.5.0",
       "_view_name": "ProgressView",
       "bar_style": "success",
       "description": "",
       "description_tooltip": null,
       "layout": "IPY_MODEL_f56be812766c4104a22077b3f9c00ff6",
       "max": 112.0,
       "min": 0.0,
       "orientation": "horizontal",
       "style": "IPY_MODEL_e8703c4234d04811bd4ee455e3e1bb26",
       "value": 112.0
      }
     },
     "1bfa4b403ea14fae9a5b418f69dac7a9": {
      "model_module": "@jupyter-widgets/base",
      "model_module_version": "1.2.0",
      "model_name": "LayoutModel",
      "state": {
       "_model_module": "@jupyter-widgets/base",
       "_model_module_version": "1.2.0",
       "_model_name": "LayoutModel",
       "_view_count": null,
       "_view_module": "@jupyter-widgets/base",
       "_view_module_version": "1.2.0",
       "_view_name": "LayoutView",
       "align_content": null,
       "align_items": null,
       "align_self": null,
       "border": null,
       "bottom": null,
       "display": null,
       "flex": null,
       "flex_flow": null,
       "grid_area": null,
       "grid_auto_columns": null,
       "grid_auto_flow": null,
       "grid_auto_rows": null,
       "grid_column": null,
       "grid_gap": null,
       "grid_row": null,
       "grid_template_areas": null,
       "grid_template_columns": null,
       "grid_template_rows": null,
       "height": null,
       "justify_content": null,
       "justify_items": null,
       "left": null,
       "margin": null,
       "max_height": null,
       "max_width": null,
       "min_height": null,
       "min_width": null,
       "object_fit": null,
       "object_position": null,
       "order": null,
       "overflow": null,
       "overflow_x": null,
       "overflow_y": null,
       "padding": null,
       "right": null,
       "top": null,
       "visibility": null,
       "width": null
      }
     },
     "1f919203c39a4becadae13f78cac861c": {
      "model_module": "@jupyter-widgets/controls",
      "model_module_version": "1.5.0",
      "model_name": "HBoxModel",
      "state": {
       "_dom_classes": [],
       "_model_module": "@jupyter-widgets/controls",
       "_model_module_version": "1.5.0",
       "_model_name": "HBoxModel",
       "_view_count": null,
       "_view_module": "@jupyter-widgets/controls",
       "_view_module_version": "1.5.0",
       "_view_name": "HBoxView",
       "box_style": "",
       "children": [
        "IPY_MODEL_c616bb2d53da4c24a1f0a525eb113bf9",
        "IPY_MODEL_5b9ad908216f487d88848e07869d3154",
        "IPY_MODEL_5fcf790b3d904070939737d5127d67aa"
       ],
       "layout": "IPY_MODEL_aab4076bedf64b5fba78e7379011176a"
      }
     },
     "1fea3ade6a804be18b7f62002fc25091": {
      "model_module": "@jupyter-widgets/controls",
      "model_module_version": "1.5.0",
      "model_name": "FloatProgressModel",
      "state": {
       "_dom_classes": [],
       "_model_module": "@jupyter-widgets/controls",
       "_model_module_version": "1.5.0",
       "_model_name": "FloatProgressModel",
       "_view_count": null,
       "_view_module": "@jupyter-widgets/controls",
       "_view_module_version": "1.5.0",
       "_view_name": "ProgressView",
       "bar_style": "success",
       "description": "",
       "description_tooltip": null,
       "layout": "IPY_MODEL_4c282fa305ba42a8a0bdba40f0ecf102",
       "max": 437992753.0,
       "min": 0.0,
       "orientation": "horizontal",
       "style": "IPY_MODEL_c9cc44a8ca3b4c3bae078f82732ccd0a",
       "value": 437992753.0
      }
     },
     "2129c7134e3d4cecb79db3620da10bac": {
      "model_module": "@jupyter-widgets/controls",
      "model_module_version": "1.5.0",
      "model_name": "DescriptionStyleModel",
      "state": {
       "_model_module": "@jupyter-widgets/controls",
       "_model_module_version": "1.5.0",
       "_model_name": "DescriptionStyleModel",
       "_view_count": null,
       "_view_module": "@jupyter-widgets/base",
       "_view_module_version": "1.2.0",
       "_view_name": "StyleView",
       "description_width": ""
      }
     },
     "23280c3fd7d74da1883941b7e125d689": {
      "model_module": "@jupyter-widgets/controls",
      "model_module_version": "1.5.0",
      "model_name": "FloatProgressModel",
      "state": {
       "_dom_classes": [],
       "_model_module": "@jupyter-widgets/controls",
       "_model_module_version": "1.5.0",
       "_model_name": "FloatProgressModel",
       "_view_count": null,
       "_view_module": "@jupyter-widgets/controls",
       "_view_module_version": "1.5.0",
       "_view_name": "ProgressView",
       "bar_style": "success",
       "description": "",
       "description_tooltip": null,
       "layout": "IPY_MODEL_575d41dff22c48d3b3703fd882f9f7c3",
       "max": 1884.0,
       "min": 0.0,
       "orientation": "horizontal",
       "style": "IPY_MODEL_d98174c2b6304671908f6fadfe044797",
       "value": 1884.0
      }
     },
     "232c6282bd004af68ac793112924e76d": {
      "model_module": "@jupyter-widgets/controls",
      "model_module_version": "1.5.0",
      "model_name": "HTMLModel",
      "state": {
       "_dom_classes": [],
       "_model_module": "@jupyter-widgets/controls",
       "_model_module_version": "1.5.0",
       "_model_name": "HTMLModel",
       "_view_count": null,
       "_view_module": "@jupyter-widgets/controls",
       "_view_module_version": "1.5.0",
       "_view_name": "HTMLView",
       "description": "",
       "description_tooltip": null,
       "layout": "IPY_MODEL_3a24245f93c54df4b9f73421a248c875",
       "placeholder": "​",
       "style": "IPY_MODEL_0bae1ab67e974bb4b8f4c16266cc0a52",
       "value": " 112/112 [00:00&lt;00:00, 8.61kB/s]"
      }
     },
     "2578fa479b6b48faa127aed59e69318f": {
      "model_module": "@jupyter-widgets/base",
      "model_module_version": "1.2.0",
      "model_name": "LayoutModel",
      "state": {
       "_model_module": "@jupyter-widgets/base",
       "_model_module_version": "1.2.0",
       "_model_name": "LayoutModel",
       "_view_count": null,
       "_view_module": "@jupyter-widgets/base",
       "_view_module_version": "1.2.0",
       "_view_name": "LayoutView",
       "align_content": null,
       "align_items": null,
       "align_self": null,
       "border": null,
       "bottom": null,
       "display": null,
       "flex": null,
       "flex_flow": null,
       "grid_area": null,
       "grid_auto_columns": null,
       "grid_auto_flow": null,
       "grid_auto_rows": null,
       "grid_column": null,
       "grid_gap": null,
       "grid_row": null,
       "grid_template_areas": null,
       "grid_template_columns": null,
       "grid_template_rows": null,
       "height": null,
       "justify_content": null,
       "justify_items": null,
       "left": null,
       "margin": null,
       "max_height": null,
       "max_width": null,
       "min_height": null,
       "min_width": null,
       "object_fit": null,
       "object_position": null,
       "order": null,
       "overflow": null,
       "overflow_x": null,
       "overflow_y": null,
       "padding": null,
       "right": null,
       "top": null,
       "visibility": null,
       "width": null
      }
     },
     "275be1c201674a05b90eccf39b4fcb79": {
      "model_module": "@jupyter-widgets/base",
      "model_module_version": "1.2.0",
      "model_name": "LayoutModel",
      "state": {
       "_model_module": "@jupyter-widgets/base",
       "_model_module_version": "1.2.0",
       "_model_name": "LayoutModel",
       "_view_count": null,
       "_view_module": "@jupyter-widgets/base",
       "_view_module_version": "1.2.0",
       "_view_name": "LayoutView",
       "align_content": null,
       "align_items": null,
       "align_self": null,
       "border": null,
       "bottom": null,
       "display": null,
       "flex": null,
       "flex_flow": null,
       "grid_area": null,
       "grid_auto_columns": null,
       "grid_auto_flow": null,
       "grid_auto_rows": null,
       "grid_column": null,
       "grid_gap": null,
       "grid_row": null,
       "grid_template_areas": null,
       "grid_template_columns": null,
       "grid_template_rows": null,
       "height": null,
       "justify_content": null,
       "justify_items": null,
       "left": null,
       "margin": null,
       "max_height": null,
       "max_width": null,
       "min_height": null,
       "min_width": null,
       "object_fit": null,
       "object_position": null,
       "order": null,
       "overflow": null,
       "overflow_x": null,
       "overflow_y": null,
       "padding": null,
       "right": null,
       "top": null,
       "visibility": null,
       "width": null
      }
     },
     "2926968673e14fcaa35f68df1dfc9cdd": {
      "model_module": "@jupyter-widgets/controls",
      "model_module_version": "1.5.0",
      "model_name": "DescriptionStyleModel",
      "state": {
       "_model_module": "@jupyter-widgets/controls",
       "_model_module_version": "1.5.0",
       "_model_name": "DescriptionStyleModel",
       "_view_count": null,
       "_view_module": "@jupyter-widgets/base",
       "_view_module_version": "1.2.0",
       "_view_name": "StyleView",
       "description_width": ""
      }
     },
     "2a3ea28bd0c74501b69aacb006837909": {
      "model_module": "@jupyter-widgets/controls",
      "model_module_version": "1.5.0",
      "model_name": "HTMLModel",
      "state": {
       "_dom_classes": [],
       "_model_module": "@jupyter-widgets/controls",
       "_model_module_version": "1.5.0",
       "_model_name": "HTMLModel",
       "_view_count": null,
       "_view_module": "@jupyter-widgets/controls",
       "_view_module_version": "1.5.0",
       "_view_name": "HTMLView",
       "description": "",
       "description_tooltip": null,
       "layout": "IPY_MODEL_fa75c678087f417c8639166b633b7703",
       "placeholder": "​",
       "style": "IPY_MODEL_53220c6085cb4b469442e3f8d00774b2",
       "value": "tokenizer_config.json: 100%"
      }
     },
     "2ac96187347e4a0ca6e88f618f1638ae": {
      "model_module": "@jupyter-widgets/controls",
      "model_module_version": "1.5.0",
      "model_name": "HTMLModel",
      "state": {
       "_dom_classes": [],
       "_model_module": "@jupyter-widgets/controls",
       "_model_module_version": "1.5.0",
       "_model_name": "HTMLModel",
       "_view_count": null,
       "_view_module": "@jupyter-widgets/controls",
       "_view_module_version": "1.5.0",
       "_view_name": "HTMLView",
       "description": "",
       "description_tooltip": null,
       "layout": "IPY_MODEL_c346f97ef582409fa77f68db13fd6a84",
       "placeholder": "​",
       "style": "IPY_MODEL_1a76589c03174164a075780459ffaecc",
       "value": " 438M/438M [00:01&lt;00:00, 304MB/s]"
      }
     },
     "2e73e7435759458b9b36295d8aa9bd3f": {
      "model_module": "@jupyter-widgets/controls",
      "model_module_version": "1.5.0",
      "model_name": "DescriptionStyleModel",
      "state": {
       "_model_module": "@jupyter-widgets/controls",
       "_model_module_version": "1.5.0",
       "_model_name": "DescriptionStyleModel",
       "_view_count": null,
       "_view_module": "@jupyter-widgets/base",
       "_view_module_version": "1.2.0",
       "_view_name": "StyleView",
       "description_width": ""
      }
     },
     "3792bdae72d840d69d96a9e078ffc478": {
      "model_module": "@jupyter-widgets/controls",
      "model_module_version": "1.5.0",
      "model_name": "DescriptionStyleModel",
      "state": {
       "_model_module": "@jupyter-widgets/controls",
       "_model_module_version": "1.5.0",
       "_model_name": "DescriptionStyleModel",
       "_view_count": null,
       "_view_module": "@jupyter-widgets/base",
       "_view_module_version": "1.2.0",
       "_view_name": "StyleView",
       "description_width": ""
      }
     },
     "3a24245f93c54df4b9f73421a248c875": {
      "model_module": "@jupyter-widgets/base",
      "model_module_version": "1.2.0",
      "model_name": "LayoutModel",
      "state": {
       "_model_module": "@jupyter-widgets/base",
       "_model_module_version": "1.2.0",
       "_model_name": "LayoutModel",
       "_view_count": null,
       "_view_module": "@jupyter-widgets/base",
       "_view_module_version": "1.2.0",
       "_view_name": "LayoutView",
       "align_content": null,
       "align_items": null,
       "align_self": null,
       "border": null,
       "bottom": null,
       "display": null,
       "flex": null,
       "flex_flow": null,
       "grid_area": null,
       "grid_auto_columns": null,
       "grid_auto_flow": null,
       "grid_auto_rows": null,
       "grid_column": null,
       "grid_gap": null,
       "grid_row": null,
       "grid_template_areas": null,
       "grid_template_columns": null,
       "grid_template_rows": null,
       "height": null,
       "justify_content": null,
       "justify_items": null,
       "left": null,
       "margin": null,
       "max_height": null,
       "max_width": null,
       "min_height": null,
       "min_width": null,
       "object_fit": null,
       "object_position": null,
       "order": null,
       "overflow": null,
       "overflow_x": null,
       "overflow_y": null,
       "padding": null,
       "right": null,
       "top": null,
       "visibility": null,
       "width": null
      }
     },
     "414ee1f8908c492aa24d7dd877945ae6": {
      "model_module": "@jupyter-widgets/controls",
      "model_module_version": "1.5.0",
      "model_name": "HTMLModel",
      "state": {
       "_dom_classes": [],
       "_model_module": "@jupyter-widgets/controls",
       "_model_module_version": "1.5.0",
       "_model_name": "HTMLModel",
       "_view_count": null,
       "_view_module": "@jupyter-widgets/controls",
       "_view_module_version": "1.5.0",
       "_view_name": "HTMLView",
       "description": "",
       "description_tooltip": null,
       "layout": "IPY_MODEL_0831e3f6b4cd4163a1823062839a910f",
       "placeholder": "​",
       "style": "IPY_MODEL_700f848d47bf4cc4a551cff42c440a5e",
       "value": "Map: 100%"
      }
     },
     "44fcb005525c474e80ed3c4e1f9af31c": {
      "model_module": "@jupyter-widgets/base",
      "model_module_version": "1.2.0",
      "model_name": "LayoutModel",
      "state": {
       "_model_module": "@jupyter-widgets/base",
       "_model_module_version": "1.2.0",
       "_model_name": "LayoutModel",
       "_view_count": null,
       "_view_module": "@jupyter-widgets/base",
       "_view_module_version": "1.2.0",
       "_view_name": "LayoutView",
       "align_content": null,
       "align_items": null,
       "align_self": null,
       "border": null,
       "bottom": null,
       "display": null,
       "flex": null,
       "flex_flow": null,
       "grid_area": null,
       "grid_auto_columns": null,
       "grid_auto_flow": null,
       "grid_auto_rows": null,
       "grid_column": null,
       "grid_gap": null,
       "grid_row": null,
       "grid_template_areas": null,
       "grid_template_columns": null,
       "grid_template_rows": null,
       "height": null,
       "justify_content": null,
       "justify_items": null,
       "left": null,
       "margin": null,
       "max_height": null,
       "max_width": null,
       "min_height": null,
       "min_width": null,
       "object_fit": null,
       "object_position": null,
       "order": null,
       "overflow": null,
       "overflow_x": null,
       "overflow_y": null,
       "padding": null,
       "right": null,
       "top": null,
       "visibility": null,
       "width": null
      }
     },
     "4821ccb3019a4455acdb15df535bea5a": {
      "model_module": "@jupyter-widgets/base",
      "model_module_version": "1.2.0",
      "model_name": "LayoutModel",
      "state": {
       "_model_module": "@jupyter-widgets/base",
       "_model_module_version": "1.2.0",
       "_model_name": "LayoutModel",
       "_view_count": null,
       "_view_module": "@jupyter-widgets/base",
       "_view_module_version": "1.2.0",
       "_view_name": "LayoutView",
       "align_content": null,
       "align_items": null,
       "align_self": null,
       "border": null,
       "bottom": null,
       "display": null,
       "flex": null,
       "flex_flow": null,
       "grid_area": null,
       "grid_auto_columns": null,
       "grid_auto_flow": null,
       "grid_auto_rows": null,
       "grid_column": null,
       "grid_gap": null,
       "grid_row": null,
       "grid_template_areas": null,
       "grid_template_columns": null,
       "grid_template_rows": null,
       "height": null,
       "justify_content": null,
       "justify_items": null,
       "left": null,
       "margin": null,
       "max_height": null,
       "max_width": null,
       "min_height": null,
       "min_width": null,
       "object_fit": null,
       "object_position": null,
       "order": null,
       "overflow": null,
       "overflow_x": null,
       "overflow_y": null,
       "padding": null,
       "right": null,
       "top": null,
       "visibility": null,
       "width": null
      }
     },
     "48cf0a2e91c64745a0d30052e5a686c9": {
      "model_module": "@jupyter-widgets/base",
      "model_module_version": "1.2.0",
      "model_name": "LayoutModel",
      "state": {
       "_model_module": "@jupyter-widgets/base",
       "_model_module_version": "1.2.0",
       "_model_name": "LayoutModel",
       "_view_count": null,
       "_view_module": "@jupyter-widgets/base",
       "_view_module_version": "1.2.0",
       "_view_name": "LayoutView",
       "align_content": null,
       "align_items": null,
       "align_self": null,
       "border": null,
       "bottom": null,
       "display": null,
       "flex": null,
       "flex_flow": null,
       "grid_area": null,
       "grid_auto_columns": null,
       "grid_auto_flow": null,
       "grid_auto_rows": null,
       "grid_column": null,
       "grid_gap": null,
       "grid_row": null,
       "grid_template_areas": null,
       "grid_template_columns": null,
       "grid_template_rows": null,
       "height": null,
       "justify_content": null,
       "justify_items": null,
       "left": null,
       "margin": null,
       "max_height": null,
       "max_width": null,
       "min_height": null,
       "min_width": null,
       "object_fit": null,
       "object_position": null,
       "order": null,
       "overflow": null,
       "overflow_x": null,
       "overflow_y": null,
       "padding": null,
       "right": null,
       "top": null,
       "visibility": null,
       "width": null
      }
     },
     "491fcf55dc6e484291f0727339b77047": {
      "model_module": "@jupyter-widgets/controls",
      "model_module_version": "1.5.0",
      "model_name": "ProgressStyleModel",
      "state": {
       "_model_module": "@jupyter-widgets/controls",
       "_model_module_version": "1.5.0",
       "_model_name": "ProgressStyleModel",
       "_view_count": null,
       "_view_module": "@jupyter-widgets/base",
       "_view_module_version": "1.2.0",
       "_view_name": "StyleView",
       "bar_color": null,
       "description_width": ""
      }
     },
     "4a19e615910e42168c369d45f5f8620e": {
      "model_module": "@jupyter-widgets/controls",
      "model_module_version": "1.5.0",
      "model_name": "HBoxModel",
      "state": {
       "_dom_classes": [],
       "_model_module": "@jupyter-widgets/controls",
       "_model_module_version": "1.5.0",
       "_model_name": "HBoxModel",
       "_view_count": null,
       "_view_module": "@jupyter-widgets/controls",
       "_view_module_version": "1.5.0",
       "_view_name": "HBoxView",
       "box_style": "",
       "children": [
        "IPY_MODEL_d932b41c9db04ac9afbb9eed4fca8546",
        "IPY_MODEL_1b95281b3ead4bf69d38153b0a8f5428",
        "IPY_MODEL_232c6282bd004af68ac793112924e76d"
       ],
       "layout": "IPY_MODEL_edbbb931d37f4c5fa67b2e860db1a33f"
      }
     },
     "4c282fa305ba42a8a0bdba40f0ecf102": {
      "model_module": "@jupyter-widgets/base",
      "model_module_version": "1.2.0",
      "model_name": "LayoutModel",
      "state": {
       "_model_module": "@jupyter-widgets/base",
       "_model_module_version": "1.2.0",
       "_model_name": "LayoutModel",
       "_view_count": null,
       "_view_module": "@jupyter-widgets/base",
       "_view_module_version": "1.2.0",
       "_view_name": "LayoutView",
       "align_content": null,
       "align_items": null,
       "align_self": null,
       "border": null,
       "bottom": null,
       "display": null,
       "flex": null,
       "flex_flow": null,
       "grid_area": null,
       "grid_auto_columns": null,
       "grid_auto_flow": null,
       "grid_auto_rows": null,
       "grid_column": null,
       "grid_gap": null,
       "grid_row": null,
       "grid_template_areas": null,
       "grid_template_columns": null,
       "grid_template_rows": null,
       "height": null,
       "justify_content": null,
       "justify_items": null,
       "left": null,
       "margin": null,
       "max_height": null,
       "max_width": null,
       "min_height": null,
       "min_width": null,
       "object_fit": null,
       "object_position": null,
       "order": null,
       "overflow": null,
       "overflow_x": null,
       "overflow_y": null,
       "padding": null,
       "right": null,
       "top": null,
       "visibility": null,
       "width": null
      }
     },
     "4d41b6e8f0f246d383bdeac0770c3937": {
      "model_module": "@jupyter-widgets/base",
      "model_module_version": "1.2.0",
      "model_name": "LayoutModel",
      "state": {
       "_model_module": "@jupyter-widgets/base",
       "_model_module_version": "1.2.0",
       "_model_name": "LayoutModel",
       "_view_count": null,
       "_view_module": "@jupyter-widgets/base",
       "_view_module_version": "1.2.0",
       "_view_name": "LayoutView",
       "align_content": null,
       "align_items": null,
       "align_self": null,
       "border": null,
       "bottom": null,
       "display": null,
       "flex": null,
       "flex_flow": null,
       "grid_area": null,
       "grid_auto_columns": null,
       "grid_auto_flow": null,
       "grid_auto_rows": null,
       "grid_column": null,
       "grid_gap": null,
       "grid_row": null,
       "grid_template_areas": null,
       "grid_template_columns": null,
       "grid_template_rows": null,
       "height": null,
       "justify_content": null,
       "justify_items": null,
       "left": null,
       "margin": null,
       "max_height": null,
       "max_width": null,
       "min_height": null,
       "min_width": null,
       "object_fit": null,
       "object_position": null,
       "order": null,
       "overflow": null,
       "overflow_x": null,
       "overflow_y": null,
       "padding": null,
       "right": null,
       "top": null,
       "visibility": null,
       "width": null
      }
     },
     "4e6428e73f4945848aeafe7984a0ec80": {
      "model_module": "@jupyter-widgets/controls",
      "model_module_version": "1.5.0",
      "model_name": "HTMLModel",
      "state": {
       "_dom_classes": [],
       "_model_module": "@jupyter-widgets/controls",
       "_model_module_version": "1.5.0",
       "_model_name": "HTMLModel",
       "_view_count": null,
       "_view_module": "@jupyter-widgets/controls",
       "_view_module_version": "1.5.0",
       "_view_name": "HTMLView",
       "description": "",
       "description_tooltip": null,
       "layout": "IPY_MODEL_48cf0a2e91c64745a0d30052e5a686c9",
       "placeholder": "​",
       "style": "IPY_MODEL_2129c7134e3d4cecb79db3620da10bac",
       "value": "Map: 100%"
      }
     },
     "4e93237cea914de780ae4d1570cdb534": {
      "model_module": "@jupyter-widgets/controls",
      "model_module_version": "1.5.0",
      "model_name": "FloatProgressModel",
      "state": {
       "_dom_classes": [],
       "_model_module": "@jupyter-widgets/controls",
       "_model_module_version": "1.5.0",
       "_model_name": "FloatProgressModel",
       "_view_count": null,
       "_view_module": "@jupyter-widgets/controls",
       "_view_module_version": "1.5.0",
       "_view_name": "ProgressView",
       "bar_style": "success",
       "description": "",
       "description_tooltip": null,
       "layout": "IPY_MODEL_c187110a3d8740539056de4c702cafc5",
       "max": 929.0,
       "min": 0.0,
       "orientation": "horizontal",
       "style": "IPY_MODEL_9af579eedc74469f9a9ec1b82aa141d1",
       "value": 929.0
      }
     },
     "4e9ee95601ea41fdafeb5f15f8557752": {
      "model_module": "@jupyter-widgets/controls",
      "model_module_version": "1.5.0",
      "model_name": "HTMLModel",
      "state": {
       "_dom_classes": [],
       "_model_module": "@jupyter-widgets/controls",
       "_model_module_version": "1.5.0",
       "_model_name": "HTMLModel",
       "_view_count": null,
       "_view_module": "@jupyter-widgets/controls",
       "_view_module_version": "1.5.0",
       "_view_name": "HTMLView",
       "description": "",
       "description_tooltip": null,
       "layout": "IPY_MODEL_773f526814034c45b0ccee8dd6139ce6",
       "placeholder": "​",
       "style": "IPY_MODEL_d6519df4a77d4cd58ffe6ecab5c8aa6d",
       "value": "vocab.txt: 100%"
      }
     },
     "53220c6085cb4b469442e3f8d00774b2": {
      "model_module": "@jupyter-widgets/controls",
      "model_module_version": "1.5.0",
      "model_name": "DescriptionStyleModel",
      "state": {
       "_model_module": "@jupyter-widgets/controls",
       "_model_module_version": "1.5.0",
       "_model_name": "DescriptionStyleModel",
       "_view_count": null,
       "_view_module": "@jupyter-widgets/base",
       "_view_module_version": "1.2.0",
       "_view_name": "StyleView",
       "description_width": ""
      }
     },
     "53a267ec1bdf4a58879fa9bce09b879b": {
      "model_module": "@jupyter-widgets/base",
      "model_module_version": "1.2.0",
      "model_name": "LayoutModel",
      "state": {
       "_model_module": "@jupyter-widgets/base",
       "_model_module_version": "1.2.0",
       "_model_name": "LayoutModel",
       "_view_count": null,
       "_view_module": "@jupyter-widgets/base",
       "_view_module_version": "1.2.0",
       "_view_name": "LayoutView",
       "align_content": null,
       "align_items": null,
       "align_self": null,
       "border": null,
       "bottom": null,
       "display": null,
       "flex": null,
       "flex_flow": null,
       "grid_area": null,
       "grid_auto_columns": null,
       "grid_auto_flow": null,
       "grid_auto_rows": null,
       "grid_column": null,
       "grid_gap": null,
       "grid_row": null,
       "grid_template_areas": null,
       "grid_template_columns": null,
       "grid_template_rows": null,
       "height": null,
       "justify_content": null,
       "justify_items": null,
       "left": null,
       "margin": null,
       "max_height": null,
       "max_width": null,
       "min_height": null,
       "min_width": null,
       "object_fit": null,
       "object_position": null,
       "order": null,
       "overflow": null,
       "overflow_x": null,
       "overflow_y": null,
       "padding": null,
       "right": null,
       "top": null,
       "visibility": null,
       "width": null
      }
     },
     "575d41dff22c48d3b3703fd882f9f7c3": {
      "model_module": "@jupyter-widgets/base",
      "model_module_version": "1.2.0",
      "model_name": "LayoutModel",
      "state": {
       "_model_module": "@jupyter-widgets/base",
       "_model_module_version": "1.2.0",
       "_model_name": "LayoutModel",
       "_view_count": null,
       "_view_module": "@jupyter-widgets/base",
       "_view_module_version": "1.2.0",
       "_view_name": "LayoutView",
       "align_content": null,
       "align_items": null,
       "align_self": null,
       "border": null,
       "bottom": null,
       "display": null,
       "flex": null,
       "flex_flow": null,
       "grid_area": null,
       "grid_auto_columns": null,
       "grid_auto_flow": null,
       "grid_auto_rows": null,
       "grid_column": null,
       "grid_gap": null,
       "grid_row": null,
       "grid_template_areas": null,
       "grid_template_columns": null,
       "grid_template_rows": null,
       "height": null,
       "justify_content": null,
       "justify_items": null,
       "left": null,
       "margin": null,
       "max_height": null,
       "max_width": null,
       "min_height": null,
       "min_width": null,
       "object_fit": null,
       "object_position": null,
       "order": null,
       "overflow": null,
       "overflow_x": null,
       "overflow_y": null,
       "padding": null,
       "right": null,
       "top": null,
       "visibility": null,
       "width": null
      }
     },
     "5b9ad908216f487d88848e07869d3154": {
      "model_module": "@jupyter-widgets/controls",
      "model_module_version": "1.5.0",
      "model_name": "FloatProgressModel",
      "state": {
       "_dom_classes": [],
       "_model_module": "@jupyter-widgets/controls",
       "_model_module_version": "1.5.0",
       "_model_name": "FloatProgressModel",
       "_view_count": null,
       "_view_module": "@jupyter-widgets/controls",
       "_view_module_version": "1.5.0",
       "_view_name": "ProgressView",
       "bar_style": "success",
       "description": "",
       "description_tooltip": null,
       "layout": "IPY_MODEL_bea37df75521499b91945b3f1b353129",
       "max": 6562.0,
       "min": 0.0,
       "orientation": "horizontal",
       "style": "IPY_MODEL_7be233f876f8483dae22c3e1b2349b2e",
       "value": 6562.0
      }
     },
     "5fcf790b3d904070939737d5127d67aa": {
      "model_module": "@jupyter-widgets/controls",
      "model_module_version": "1.5.0",
      "model_name": "HTMLModel",
      "state": {
       "_dom_classes": [],
       "_model_module": "@jupyter-widgets/controls",
       "_model_module_version": "1.5.0",
       "_model_name": "HTMLModel",
       "_view_count": null,
       "_view_module": "@jupyter-widgets/controls",
       "_view_module_version": "1.5.0",
       "_view_name": "HTMLView",
       "description": "",
       "description_tooltip": null,
       "layout": "IPY_MODEL_53a267ec1bdf4a58879fa9bce09b879b",
       "placeholder": "​",
       "style": "IPY_MODEL_d7f869018a554179bf76b5397fc38752",
       "value": " 6562/6562 [00:01&lt;00:00, 4509.69 examples/s]"
      }
     },
     "6063f1558a8442bc9a2e6690c71acc80": {
      "model_module": "@jupyter-widgets/base",
      "model_module_version": "1.2.0",
      "model_name": "LayoutModel",
      "state": {
       "_model_module": "@jupyter-widgets/base",
       "_model_module_version": "1.2.0",
       "_model_name": "LayoutModel",
       "_view_count": null,
       "_view_module": "@jupyter-widgets/base",
       "_view_module_version": "1.2.0",
       "_view_name": "LayoutView",
       "align_content": null,
       "align_items": null,
       "align_self": null,
       "border": null,
       "bottom": null,
       "display": null,
       "flex": null,
       "flex_flow": null,
       "grid_area": null,
       "grid_auto_columns": null,
       "grid_auto_flow": null,
       "grid_auto_rows": null,
       "grid_column": null,
       "grid_gap": null,
       "grid_row": null,
       "grid_template_areas": null,
       "grid_template_columns": null,
       "grid_template_rows": null,
       "height": null,
       "justify_content": null,
       "justify_items": null,
       "left": null,
       "margin": null,
       "max_height": null,
       "max_width": null,
       "min_height": null,
       "min_width": null,
       "object_fit": null,
       "object_position": null,
       "order": null,
       "overflow": null,
       "overflow_x": null,
       "overflow_y": null,
       "padding": null,
       "right": null,
       "top": null,
       "visibility": null,
       "width": null
      }
     },
     "649309a40780461e8dfbcb6f367e8b68": {
      "model_module": "@jupyter-widgets/controls",
      "model_module_version": "1.5.0",
      "model_name": "HBoxModel",
      "state": {
       "_dom_classes": [],
       "_model_module": "@jupyter-widgets/controls",
       "_model_module_version": "1.5.0",
       "_model_name": "HBoxModel",
       "_view_count": null,
       "_view_module": "@jupyter-widgets/controls",
       "_view_module_version": "1.5.0",
       "_view_name": "HBoxView",
       "box_style": "",
       "children": [
        "IPY_MODEL_eeebd0c6c5e349768fadf1d71b97dd2c",
        "IPY_MODEL_1fea3ade6a804be18b7f62002fc25091",
        "IPY_MODEL_2ac96187347e4a0ca6e88f618f1638ae"
       ],
       "layout": "IPY_MODEL_a51d36e4a96d469f92a880b8f104aaff"
      }
     },
     "64d28be99be949fa8a193a6b26bed9c2": {
      "model_module": "@jupyter-widgets/controls",
      "model_module_version": "1.5.0",
      "model_name": "DescriptionStyleModel",
      "state": {
       "_model_module": "@jupyter-widgets/controls",
       "_model_module_version": "1.5.0",
       "_model_name": "DescriptionStyleModel",
       "_view_count": null,
       "_view_module": "@jupyter-widgets/base",
       "_view_module_version": "1.2.0",
       "_view_name": "StyleView",
       "description_width": ""
      }
     },
     "69259d8a41884a1ebf275da29fdfb028": {
      "model_module": "@jupyter-widgets/controls",
      "model_module_version": "1.5.0",
      "model_name": "HTMLModel",
      "state": {
       "_dom_classes": [],
       "_model_module": "@jupyter-widgets/controls",
       "_model_module_version": "1.5.0",
       "_model_name": "HTMLModel",
       "_view_count": null,
       "_view_module": "@jupyter-widgets/controls",
       "_view_module_version": "1.5.0",
       "_view_name": "HTMLView",
       "description": "",
       "description_tooltip": null,
       "layout": "IPY_MODEL_6063f1558a8442bc9a2e6690c71acc80",
       "placeholder": "​",
       "style": "IPY_MODEL_64d28be99be949fa8a193a6b26bed9c2",
       "value": " 232k/232k [00:00&lt;00:00, 6.63MB/s]"
      }
     },
     "700f848d47bf4cc4a551cff42c440a5e": {
      "model_module": "@jupyter-widgets/controls",
      "model_module_version": "1.5.0",
      "model_name": "DescriptionStyleModel",
      "state": {
       "_model_module": "@jupyter-widgets/controls",
       "_model_module_version": "1.5.0",
       "_model_name": "DescriptionStyleModel",
       "_view_count": null,
       "_view_module": "@jupyter-widgets/base",
       "_view_module_version": "1.2.0",
       "_view_name": "StyleView",
       "description_width": ""
      }
     },
     "71d5614eeda94c03b0a6bd6bb7128a62": {
      "model_module": "@jupyter-widgets/controls",
      "model_module_version": "1.5.0",
      "model_name": "DescriptionStyleModel",
      "state": {
       "_model_module": "@jupyter-widgets/controls",
       "_model_module_version": "1.5.0",
       "_model_name": "DescriptionStyleModel",
       "_view_count": null,
       "_view_module": "@jupyter-widgets/base",
       "_view_module_version": "1.2.0",
       "_view_name": "StyleView",
       "description_width": ""
      }
     },
     "756665560b794072bea9305242337c04": {
      "model_module": "@jupyter-widgets/controls",
      "model_module_version": "1.5.0",
      "model_name": "DescriptionStyleModel",
      "state": {
       "_model_module": "@jupyter-widgets/controls",
       "_model_module_version": "1.5.0",
       "_model_name": "DescriptionStyleModel",
       "_view_count": null,
       "_view_module": "@jupyter-widgets/base",
       "_view_module_version": "1.2.0",
       "_view_name": "StyleView",
       "description_width": ""
      }
     },
     "773f526814034c45b0ccee8dd6139ce6": {
      "model_module": "@jupyter-widgets/base",
      "model_module_version": "1.2.0",
      "model_name": "LayoutModel",
      "state": {
       "_model_module": "@jupyter-widgets/base",
       "_model_module_version": "1.2.0",
       "_model_name": "LayoutModel",
       "_view_count": null,
       "_view_module": "@jupyter-widgets/base",
       "_view_module_version": "1.2.0",
       "_view_name": "LayoutView",
       "align_content": null,
       "align_items": null,
       "align_self": null,
       "border": null,
       "bottom": null,
       "display": null,
       "flex": null,
       "flex_flow": null,
       "grid_area": null,
       "grid_auto_columns": null,
       "grid_auto_flow": null,
       "grid_auto_rows": null,
       "grid_column": null,
       "grid_gap": null,
       "grid_row": null,
       "grid_template_areas": null,
       "grid_template_columns": null,
       "grid_template_rows": null,
       "height": null,
       "justify_content": null,
       "justify_items": null,
       "left": null,
       "margin": null,
       "max_height": null,
       "max_width": null,
       "min_height": null,
       "min_width": null,
       "object_fit": null,
       "object_position": null,
       "order": null,
       "overflow": null,
       "overflow_x": null,
       "overflow_y": null,
       "padding": null,
       "right": null,
       "top": null,
       "visibility": null,
       "width": null
      }
     },
     "7be233f876f8483dae22c3e1b2349b2e": {
      "model_module": "@jupyter-widgets/controls",
      "model_module_version": "1.5.0",
      "model_name": "ProgressStyleModel",
      "state": {
       "_model_module": "@jupyter-widgets/controls",
       "_model_module_version": "1.5.0",
       "_model_name": "ProgressStyleModel",
       "_view_count": null,
       "_view_module": "@jupyter-widgets/base",
       "_view_module_version": "1.2.0",
       "_view_name": "StyleView",
       "bar_color": null,
       "description_width": ""
      }
     },
     "847dd10d78ee4f3a99b867057646f84a": {
      "model_module": "@jupyter-widgets/controls",
      "model_module_version": "1.5.0",
      "model_name": "HTMLModel",
      "state": {
       "_dom_classes": [],
       "_model_module": "@jupyter-widgets/controls",
       "_model_module_version": "1.5.0",
       "_model_name": "HTMLModel",
       "_view_count": null,
       "_view_module": "@jupyter-widgets/controls",
       "_view_module_version": "1.5.0",
       "_view_name": "HTMLView",
       "description": "",
       "description_tooltip": null,
       "layout": "IPY_MODEL_c4a97497dd7541feb22afe6d08859dbb",
       "placeholder": "​",
       "style": "IPY_MODEL_2e73e7435759458b9b36295d8aa9bd3f",
       "value": "config.json: 100%"
      }
     },
     "8680c462c46943acaba192faf767262a": {
      "model_module": "@jupyter-widgets/controls",
      "model_module_version": "1.5.0",
      "model_name": "DescriptionStyleModel",
      "state": {
       "_model_module": "@jupyter-widgets/controls",
       "_model_module_version": "1.5.0",
       "_model_name": "DescriptionStyleModel",
       "_view_count": null,
       "_view_module": "@jupyter-widgets/base",
       "_view_module_version": "1.2.0",
       "_view_name": "StyleView",
       "description_width": ""
      }
     },
     "8bf7e919f397432389a0b8b4478d8e76": {
      "model_module": "@jupyter-widgets/controls",
      "model_module_version": "1.5.0",
      "model_name": "HTMLModel",
      "state": {
       "_dom_classes": [],
       "_model_module": "@jupyter-widgets/controls",
       "_model_module_version": "1.5.0",
       "_model_name": "HTMLModel",
       "_view_count": null,
       "_view_module": "@jupyter-widgets/controls",
       "_view_module_version": "1.5.0",
       "_view_name": "HTMLView",
       "description": "",
       "description_tooltip": null,
       "layout": "IPY_MODEL_4821ccb3019a4455acdb15df535bea5a",
       "placeholder": "​",
       "style": "IPY_MODEL_3792bdae72d840d69d96a9e078ffc478",
       "value": " 758/758 [00:00&lt;00:00, 69.6kB/s]"
      }
     },
     "8ed4fb705bee491f9bce444c37294515": {
      "model_module": "@jupyter-widgets/controls",
      "model_module_version": "1.5.0",
      "model_name": "HTMLModel",
      "state": {
       "_dom_classes": [],
       "_model_module": "@jupyter-widgets/controls",
       "_model_module_version": "1.5.0",
       "_model_name": "HTMLModel",
       "_view_count": null,
       "_view_module": "@jupyter-widgets/controls",
       "_view_module_version": "1.5.0",
       "_view_name": "HTMLView",
       "description": "",
       "description_tooltip": null,
       "layout": "IPY_MODEL_942307b24ce14b398dfad1c34178d890",
       "placeholder": "​",
       "style": "IPY_MODEL_f993aa21970f406b84327c24ca250473",
       "value": " 929/929 [00:00&lt;00:00, 4406.46 examples/s]"
      }
     },
     "8eee0e9d0b4f43b482e3a002edd4f491": {
      "model_module": "@jupyter-widgets/base",
      "model_module_version": "1.2.0",
      "model_name": "LayoutModel",
      "state": {
       "_model_module": "@jupyter-widgets/base",
       "_model_module_version": "1.2.0",
       "_model_name": "LayoutModel",
       "_view_count": null,
       "_view_module": "@jupyter-widgets/base",
       "_view_module_version": "1.2.0",
       "_view_name": "LayoutView",
       "align_content": null,
       "align_items": null,
       "align_self": null,
       "border": null,
       "bottom": null,
       "display": null,
       "flex": null,
       "flex_flow": null,
       "grid_area": null,
       "grid_auto_columns": null,
       "grid_auto_flow": null,
       "grid_auto_rows": null,
       "grid_column": null,
       "grid_gap": null,
       "grid_row": null,
       "grid_template_areas": null,
       "grid_template_columns": null,
       "grid_template_rows": null,
       "height": null,
       "justify_content": null,
       "justify_items": null,
       "left": null,
       "margin": null,
       "max_height": null,
       "max_width": null,
       "min_height": null,
       "min_width": null,
       "object_fit": null,
       "object_position": null,
       "order": null,
       "overflow": null,
       "overflow_x": null,
       "overflow_y": null,
       "padding": null,
       "right": null,
       "top": null,
       "visibility": null,
       "width": null
      }
     },
     "91a6b44f4cf4433495f3188c8b4de1d0": {
      "model_module": "@jupyter-widgets/controls",
      "model_module_version": "1.5.0",
      "model_name": "FloatProgressModel",
      "state": {
       "_dom_classes": [],
       "_model_module": "@jupyter-widgets/controls",
       "_model_module_version": "1.5.0",
       "_model_name": "FloatProgressModel",
       "_view_count": null,
       "_view_module": "@jupyter-widgets/controls",
       "_view_module_version": "1.5.0",
       "_view_name": "ProgressView",
       "bar_style": "success",
       "description": "",
       "description_tooltip": null,
       "layout": "IPY_MODEL_192c16ee2fb34bf89a693f5e5a02d9bb",
       "max": 252.0,
       "min": 0.0,
       "orientation": "horizontal",
       "style": "IPY_MODEL_491fcf55dc6e484291f0727339b77047",
       "value": 252.0
      }
     },
     "942307b24ce14b398dfad1c34178d890": {
      "model_module": "@jupyter-widgets/base",
      "model_module_version": "1.2.0",
      "model_name": "LayoutModel",
      "state": {
       "_model_module": "@jupyter-widgets/base",
       "_model_module_version": "1.2.0",
       "_model_name": "LayoutModel",
       "_view_count": null,
       "_view_module": "@jupyter-widgets/base",
       "_view_module_version": "1.2.0",
       "_view_name": "LayoutView",
       "align_content": null,
       "align_items": null,
       "align_self": null,
       "border": null,
       "bottom": null,
       "display": null,
       "flex": null,
       "flex_flow": null,
       "grid_area": null,
       "grid_auto_columns": null,
       "grid_auto_flow": null,
       "grid_auto_rows": null,
       "grid_column": null,
       "grid_gap": null,
       "grid_row": null,
       "grid_template_areas": null,
       "grid_template_columns": null,
       "grid_template_rows": null,
       "height": null,
       "justify_content": null,
       "justify_items": null,
       "left": null,
       "margin": null,
       "max_height": null,
       "max_width": null,
       "min_height": null,
       "min_width": null,
       "object_fit": null,
       "object_position": null,
       "order": null,
       "overflow": null,
       "overflow_x": null,
       "overflow_y": null,
       "padding": null,
       "right": null,
       "top": null,
       "visibility": null,
       "width": null
      }
     },
     "9af579eedc74469f9a9ec1b82aa141d1": {
      "model_module": "@jupyter-widgets/controls",
      "model_module_version": "1.5.0",
      "model_name": "ProgressStyleModel",
      "state": {
       "_model_module": "@jupyter-widgets/controls",
       "_model_module_version": "1.5.0",
       "_model_name": "ProgressStyleModel",
       "_view_count": null,
       "_view_module": "@jupyter-widgets/base",
       "_view_module_version": "1.2.0",
       "_view_name": "StyleView",
       "bar_color": null,
       "description_width": ""
      }
     },
     "9f0ec56be85e4a589fd130bd3aa49607": {
      "model_module": "@jupyter-widgets/controls",
      "model_module_version": "1.5.0",
      "model_name": "FloatProgressModel",
      "state": {
       "_dom_classes": [],
       "_model_module": "@jupyter-widgets/controls",
       "_model_module_version": "1.5.0",
       "_model_name": "FloatProgressModel",
       "_view_count": null,
       "_view_module": "@jupyter-widgets/controls",
       "_view_module_version": "1.5.0",
       "_view_name": "ProgressView",
       "bar_style": "success",
       "description": "",
       "description_tooltip": null,
       "layout": "IPY_MODEL_185963c37edb4453bb8b6074cd241683",
       "max": 231508.0,
       "min": 0.0,
       "orientation": "horizontal",
       "style": "IPY_MODEL_f355fe9ac6ca4c909e6e049e7dd69e23",
       "value": 231508.0
      }
     },
     "a30af8bce5054ca49b69245b7b7a4147": {
      "model_module": "@jupyter-widgets/controls",
      "model_module_version": "1.5.0",
      "model_name": "HBoxModel",
      "state": {
       "_dom_classes": [],
       "_model_module": "@jupyter-widgets/controls",
       "_model_module_version": "1.5.0",
       "_model_name": "HBoxModel",
       "_view_count": null,
       "_view_module": "@jupyter-widgets/controls",
       "_view_module_version": "1.5.0",
       "_view_name": "HBoxView",
       "box_style": "",
       "children": [
        "IPY_MODEL_4e6428e73f4945848aeafe7984a0ec80",
        "IPY_MODEL_23280c3fd7d74da1883941b7e125d689",
        "IPY_MODEL_c2294b4e48f14026a8983cad480742e2"
       ],
       "layout": "IPY_MODEL_0e7b3fc7019d47b6aa0dd246dee86157"
      }
     },
     "a51d36e4a96d469f92a880b8f104aaff": {
      "model_module": "@jupyter-widgets/base",
      "model_module_version": "1.2.0",
      "model_name": "LayoutModel",
      "state": {
       "_model_module": "@jupyter-widgets/base",
       "_model_module_version": "1.2.0",
       "_model_name": "LayoutModel",
       "_view_count": null,
       "_view_module": "@jupyter-widgets/base",
       "_view_module_version": "1.2.0",
       "_view_name": "LayoutView",
       "align_content": null,
       "align_items": null,
       "align_self": null,
       "border": null,
       "bottom": null,
       "display": null,
       "flex": null,
       "flex_flow": null,
       "grid_area": null,
       "grid_auto_columns": null,
       "grid_auto_flow": null,
       "grid_auto_rows": null,
       "grid_column": null,
       "grid_gap": null,
       "grid_row": null,
       "grid_template_areas": null,
       "grid_template_columns": null,
       "grid_template_rows": null,
       "height": null,
       "justify_content": null,
       "justify_items": null,
       "left": null,
       "margin": null,
       "max_height": null,
       "max_width": null,
       "min_height": null,
       "min_width": null,
       "object_fit": null,
       "object_position": null,
       "order": null,
       "overflow": null,
       "overflow_x": null,
       "overflow_y": null,
       "padding": null,
       "right": null,
       "top": null,
       "visibility": null,
       "width": null
      }
     },
     "a7befd1872f343fca6aba774cf815fee": {
      "model_module": "@jupyter-widgets/controls",
      "model_module_version": "1.5.0",
      "model_name": "FloatProgressModel",
      "state": {
       "_dom_classes": [],
       "_model_module": "@jupyter-widgets/controls",
       "_model_module_version": "1.5.0",
       "_model_name": "FloatProgressModel",
       "_view_count": null,
       "_view_module": "@jupyter-widgets/controls",
       "_view_module_version": "1.5.0",
       "_view_name": "ProgressView",
       "bar_style": "success",
       "description": "",
       "description_tooltip": null,
       "layout": "IPY_MODEL_4d41b6e8f0f246d383bdeac0770c3937",
       "max": 758.0,
       "min": 0.0,
       "orientation": "horizontal",
       "style": "IPY_MODEL_04f2ecd428374875a2e0ec640b0620c4",
       "value": 758.0
      }
     },
     "aab4076bedf64b5fba78e7379011176a": {
      "model_module": "@jupyter-widgets/base",
      "model_module_version": "1.2.0",
      "model_name": "LayoutModel",
      "state": {
       "_model_module": "@jupyter-widgets/base",
       "_model_module_version": "1.2.0",
       "_model_name": "LayoutModel",
       "_view_count": null,
       "_view_module": "@jupyter-widgets/base",
       "_view_module_version": "1.2.0",
       "_view_name": "LayoutView",
       "align_content": null,
       "align_items": null,
       "align_self": null,
       "border": null,
       "bottom": null,
       "display": null,
       "flex": null,
       "flex_flow": null,
       "grid_area": null,
       "grid_auto_columns": null,
       "grid_auto_flow": null,
       "grid_auto_rows": null,
       "grid_column": null,
       "grid_gap": null,
       "grid_row": null,
       "grid_template_areas": null,
       "grid_template_columns": null,
       "grid_template_rows": null,
       "height": null,
       "justify_content": null,
       "justify_items": null,
       "left": null,
       "margin": null,
       "max_height": null,
       "max_width": null,
       "min_height": null,
       "min_width": null,
       "object_fit": null,
       "object_position": null,
       "order": null,
       "overflow": null,
       "overflow_x": null,
       "overflow_y": null,
       "padding": null,
       "right": null,
       "top": null,
       "visibility": null,
       "width": null
      }
     },
     "ae2189be385148d7b41455ada2a18426": {
      "model_module": "@jupyter-widgets/controls",
      "model_module_version": "1.5.0",
      "model_name": "DescriptionStyleModel",
      "state": {
       "_model_module": "@jupyter-widgets/controls",
       "_model_module_version": "1.5.0",
       "_model_name": "DescriptionStyleModel",
       "_view_count": null,
       "_view_module": "@jupyter-widgets/base",
       "_view_module_version": "1.2.0",
       "_view_name": "StyleView",
       "description_width": ""
      }
     },
     "bd2821e4ac184bd3bc043f339ea4b1d9": {
      "model_module": "@jupyter-widgets/base",
      "model_module_version": "1.2.0",
      "model_name": "LayoutModel",
      "state": {
       "_model_module": "@jupyter-widgets/base",
       "_model_module_version": "1.2.0",
       "_model_name": "LayoutModel",
       "_view_count": null,
       "_view_module": "@jupyter-widgets/base",
       "_view_module_version": "1.2.0",
       "_view_name": "LayoutView",
       "align_content": null,
       "align_items": null,
       "align_self": null,
       "border": null,
       "bottom": null,
       "display": null,
       "flex": null,
       "flex_flow": null,
       "grid_area": null,
       "grid_auto_columns": null,
       "grid_auto_flow": null,
       "grid_auto_rows": null,
       "grid_column": null,
       "grid_gap": null,
       "grid_row": null,
       "grid_template_areas": null,
       "grid_template_columns": null,
       "grid_template_rows": null,
       "height": null,
       "justify_content": null,
       "justify_items": null,
       "left": null,
       "margin": null,
       "max_height": null,
       "max_width": null,
       "min_height": null,
       "min_width": null,
       "object_fit": null,
       "object_position": null,
       "order": null,
       "overflow": null,
       "overflow_x": null,
       "overflow_y": null,
       "padding": null,
       "right": null,
       "top": null,
       "visibility": null,
       "width": null
      }
     },
     "bea37df75521499b91945b3f1b353129": {
      "model_module": "@jupyter-widgets/base",
      "model_module_version": "1.2.0",
      "model_name": "LayoutModel",
      "state": {
       "_model_module": "@jupyter-widgets/base",
       "_model_module_version": "1.2.0",
       "_model_name": "LayoutModel",
       "_view_count": null,
       "_view_module": "@jupyter-widgets/base",
       "_view_module_version": "1.2.0",
       "_view_name": "LayoutView",
       "align_content": null,
       "align_items": null,
       "align_self": null,
       "border": null,
       "bottom": null,
       "display": null,
       "flex": null,
       "flex_flow": null,
       "grid_area": null,
       "grid_auto_columns": null,
       "grid_auto_flow": null,
       "grid_auto_rows": null,
       "grid_column": null,
       "grid_gap": null,
       "grid_row": null,
       "grid_template_areas": null,
       "grid_template_columns": null,
       "grid_template_rows": null,
       "height": null,
       "justify_content": null,
       "justify_items": null,
       "left": null,
       "margin": null,
       "max_height": null,
       "max_width": null,
       "min_height": null,
       "min_width": null,
       "object_fit": null,
       "object_position": null,
       "order": null,
       "overflow": null,
       "overflow_x": null,
       "overflow_y": null,
       "padding": null,
       "right": null,
       "top": null,
       "visibility": null,
       "width": null
      }
     },
     "c187110a3d8740539056de4c702cafc5": {
      "model_module": "@jupyter-widgets/base",
      "model_module_version": "1.2.0",
      "model_name": "LayoutModel",
      "state": {
       "_model_module": "@jupyter-widgets/base",
       "_model_module_version": "1.2.0",
       "_model_name": "LayoutModel",
       "_view_count": null,
       "_view_module": "@jupyter-widgets/base",
       "_view_module_version": "1.2.0",
       "_view_name": "LayoutView",
       "align_content": null,
       "align_items": null,
       "align_self": null,
       "border": null,
       "bottom": null,
       "display": null,
       "flex": null,
       "flex_flow": null,
       "grid_area": null,
       "grid_auto_columns": null,
       "grid_auto_flow": null,
       "grid_auto_rows": null,
       "grid_column": null,
       "grid_gap": null,
       "grid_row": null,
       "grid_template_areas": null,
       "grid_template_columns": null,
       "grid_template_rows": null,
       "height": null,
       "justify_content": null,
       "justify_items": null,
       "left": null,
       "margin": null,
       "max_height": null,
       "max_width": null,
       "min_height": null,
       "min_width": null,
       "object_fit": null,
       "object_position": null,
       "order": null,
       "overflow": null,
       "overflow_x": null,
       "overflow_y": null,
       "padding": null,
       "right": null,
       "top": null,
       "visibility": null,
       "width": null
      }
     },
     "c2294b4e48f14026a8983cad480742e2": {
      "model_module": "@jupyter-widgets/controls",
      "model_module_version": "1.5.0",
      "model_name": "HTMLModel",
      "state": {
       "_dom_classes": [],
       "_model_module": "@jupyter-widgets/controls",
       "_model_module_version": "1.5.0",
       "_model_name": "HTMLModel",
       "_view_count": null,
       "_view_module": "@jupyter-widgets/controls",
       "_view_module_version": "1.5.0",
       "_view_name": "HTMLView",
       "description": "",
       "description_tooltip": null,
       "layout": "IPY_MODEL_edcd5e8589654d179c0a5bed31712743",
       "placeholder": "​",
       "style": "IPY_MODEL_71d5614eeda94c03b0a6bd6bb7128a62",
       "value": " 1884/1884 [00:00&lt;00:00, 4347.33 examples/s]"
      }
     },
     "c346f97ef582409fa77f68db13fd6a84": {
      "model_module": "@jupyter-widgets/base",
      "model_module_version": "1.2.0",
      "model_name": "LayoutModel",
      "state": {
       "_model_module": "@jupyter-widgets/base",
       "_model_module_version": "1.2.0",
       "_model_name": "LayoutModel",
       "_view_count": null,
       "_view_module": "@jupyter-widgets/base",
       "_view_module_version": "1.2.0",
       "_view_name": "LayoutView",
       "align_content": null,
       "align_items": null,
       "align_self": null,
       "border": null,
       "bottom": null,
       "display": null,
       "flex": null,
       "flex_flow": null,
       "grid_area": null,
       "grid_auto_columns": null,
       "grid_auto_flow": null,
       "grid_auto_rows": null,
       "grid_column": null,
       "grid_gap": null,
       "grid_row": null,
       "grid_template_areas": null,
       "grid_template_columns": null,
       "grid_template_rows": null,
       "height": null,
       "justify_content": null,
       "justify_items": null,
       "left": null,
       "margin": null,
       "max_height": null,
       "max_width": null,
       "min_height": null,
       "min_width": null,
       "object_fit": null,
       "object_position": null,
       "order": null,
       "overflow": null,
       "overflow_x": null,
       "overflow_y": null,
       "padding": null,
       "right": null,
       "top": null,
       "visibility": null,
       "width": null
      }
     },
     "c4a97497dd7541feb22afe6d08859dbb": {
      "model_module": "@jupyter-widgets/base",
      "model_module_version": "1.2.0",
      "model_name": "LayoutModel",
      "state": {
       "_model_module": "@jupyter-widgets/base",
       "_model_module_version": "1.2.0",
       "_model_name": "LayoutModel",
       "_view_count": null,
       "_view_module": "@jupyter-widgets/base",
       "_view_module_version": "1.2.0",
       "_view_name": "LayoutView",
       "align_content": null,
       "align_items": null,
       "align_self": null,
       "border": null,
       "bottom": null,
       "display": null,
       "flex": null,
       "flex_flow": null,
       "grid_area": null,
       "grid_auto_columns": null,
       "grid_auto_flow": null,
       "grid_auto_rows": null,
       "grid_column": null,
       "grid_gap": null,
       "grid_row": null,
       "grid_template_areas": null,
       "grid_template_columns": null,
       "grid_template_rows": null,
       "height": null,
       "justify_content": null,
       "justify_items": null,
       "left": null,
       "margin": null,
       "max_height": null,
       "max_width": null,
       "min_height": null,
       "min_width": null,
       "object_fit": null,
       "object_position": null,
       "order": null,
       "overflow": null,
       "overflow_x": null,
       "overflow_y": null,
       "padding": null,
       "right": null,
       "top": null,
       "visibility": null,
       "width": null
      }
     },
     "c616bb2d53da4c24a1f0a525eb113bf9": {
      "model_module": "@jupyter-widgets/controls",
      "model_module_version": "1.5.0",
      "model_name": "HTMLModel",
      "state": {
       "_dom_classes": [],
       "_model_module": "@jupyter-widgets/controls",
       "_model_module_version": "1.5.0",
       "_model_name": "HTMLModel",
       "_view_count": null,
       "_view_module": "@jupyter-widgets/controls",
       "_view_module_version": "1.5.0",
       "_view_name": "HTMLView",
       "description": "",
       "description_tooltip": null,
       "layout": "IPY_MODEL_2578fa479b6b48faa127aed59e69318f",
       "placeholder": "​",
       "style": "IPY_MODEL_ae2189be385148d7b41455ada2a18426",
       "value": "Map: 100%"
      }
     },
     "c9cc44a8ca3b4c3bae078f82732ccd0a": {
      "model_module": "@jupyter-widgets/controls",
      "model_module_version": "1.5.0",
      "model_name": "ProgressStyleModel",
      "state": {
       "_model_module": "@jupyter-widgets/controls",
       "_model_module_version": "1.5.0",
       "_model_name": "ProgressStyleModel",
       "_view_count": null,
       "_view_module": "@jupyter-widgets/base",
       "_view_module_version": "1.2.0",
       "_view_name": "StyleView",
       "bar_color": null,
       "description_width": ""
      }
     },
     "caae092f7e854b00a1718bc30a13602a": {
      "model_module": "@jupyter-widgets/base",
      "model_module_version": "1.2.0",
      "model_name": "LayoutModel",
      "state": {
       "_model_module": "@jupyter-widgets/base",
       "_model_module_version": "1.2.0",
       "_model_name": "LayoutModel",
       "_view_count": null,
       "_view_module": "@jupyter-widgets/base",
       "_view_module_version": "1.2.0",
       "_view_name": "LayoutView",
       "align_content": null,
       "align_items": null,
       "align_self": null,
       "border": null,
       "bottom": null,
       "display": null,
       "flex": null,
       "flex_flow": null,
       "grid_area": null,
       "grid_auto_columns": null,
       "grid_auto_flow": null,
       "grid_auto_rows": null,
       "grid_column": null,
       "grid_gap": null,
       "grid_row": null,
       "grid_template_areas": null,
       "grid_template_columns": null,
       "grid_template_rows": null,
       "height": null,
       "justify_content": null,
       "justify_items": null,
       "left": null,
       "margin": null,
       "max_height": null,
       "max_width": null,
       "min_height": null,
       "min_width": null,
       "object_fit": null,
       "object_position": null,
       "order": null,
       "overflow": null,
       "overflow_x": null,
       "overflow_y": null,
       "padding": null,
       "right": null,
       "top": null,
       "visibility": null,
       "width": null
      }
     },
     "cc2966222eec47d4a5fadf63e95d47e4": {
      "model_module": "@jupyter-widgets/controls",
      "model_module_version": "1.5.0",
      "model_name": "HBoxModel",
      "state": {
       "_dom_classes": [],
       "_model_module": "@jupyter-widgets/controls",
       "_model_module_version": "1.5.0",
       "_model_name": "HBoxModel",
       "_view_count": null,
       "_view_module": "@jupyter-widgets/controls",
       "_view_module_version": "1.5.0",
       "_view_name": "HBoxView",
       "box_style": "",
       "children": [
        "IPY_MODEL_847dd10d78ee4f3a99b867057646f84a",
        "IPY_MODEL_a7befd1872f343fca6aba774cf815fee",
        "IPY_MODEL_8bf7e919f397432389a0b8b4478d8e76"
       ],
       "layout": "IPY_MODEL_caae092f7e854b00a1718bc30a13602a"
      }
     },
     "d6519df4a77d4cd58ffe6ecab5c8aa6d": {
      "model_module": "@jupyter-widgets/controls",
      "model_module_version": "1.5.0",
      "model_name": "DescriptionStyleModel",
      "state": {
       "_model_module": "@jupyter-widgets/controls",
       "_model_module_version": "1.5.0",
       "_model_name": "DescriptionStyleModel",
       "_view_count": null,
       "_view_module": "@jupyter-widgets/base",
       "_view_module_version": "1.2.0",
       "_view_name": "StyleView",
       "description_width": ""
      }
     },
     "d7f869018a554179bf76b5397fc38752": {
      "model_module": "@jupyter-widgets/controls",
      "model_module_version": "1.5.0",
      "model_name": "DescriptionStyleModel",
      "state": {
       "_model_module": "@jupyter-widgets/controls",
       "_model_module_version": "1.5.0",
       "_model_name": "DescriptionStyleModel",
       "_view_count": null,
       "_view_module": "@jupyter-widgets/base",
       "_view_module_version": "1.2.0",
       "_view_name": "StyleView",
       "description_width": ""
      }
     },
     "d932b41c9db04ac9afbb9eed4fca8546": {
      "model_module": "@jupyter-widgets/controls",
      "model_module_version": "1.5.0",
      "model_name": "HTMLModel",
      "state": {
       "_dom_classes": [],
       "_model_module": "@jupyter-widgets/controls",
       "_model_module_version": "1.5.0",
       "_model_name": "HTMLModel",
       "_view_count": null,
       "_view_module": "@jupyter-widgets/controls",
       "_view_module_version": "1.5.0",
       "_view_name": "HTMLView",
       "description": "",
       "description_tooltip": null,
       "layout": "IPY_MODEL_8eee0e9d0b4f43b482e3a002edd4f491",
       "placeholder": "​",
       "style": "IPY_MODEL_2926968673e14fcaa35f68df1dfc9cdd",
       "value": "special_tokens_map.json: 100%"
      }
     },
     "d98174c2b6304671908f6fadfe044797": {
      "model_module": "@jupyter-widgets/controls",
      "model_module_version": "1.5.0",
      "model_name": "ProgressStyleModel",
      "state": {
       "_model_module": "@jupyter-widgets/controls",
       "_model_module_version": "1.5.0",
       "_model_name": "ProgressStyleModel",
       "_view_count": null,
       "_view_module": "@jupyter-widgets/base",
       "_view_module_version": "1.2.0",
       "_view_name": "StyleView",
       "bar_color": null,
       "description_width": ""
      }
     },
     "dbe40b23867842a0a04764a101869a43": {
      "model_module": "@jupyter-widgets/controls",
      "model_module_version": "1.5.0",
      "model_name": "HBoxModel",
      "state": {
       "_dom_classes": [],
       "_model_module": "@jupyter-widgets/controls",
       "_model_module_version": "1.5.0",
       "_model_name": "HBoxModel",
       "_view_count": null,
       "_view_module": "@jupyter-widgets/controls",
       "_view_module_version": "1.5.0",
       "_view_name": "HBoxView",
       "box_style": "",
       "children": [
        "IPY_MODEL_4e9ee95601ea41fdafeb5f15f8557752",
        "IPY_MODEL_9f0ec56be85e4a589fd130bd3aa49607",
        "IPY_MODEL_69259d8a41884a1ebf275da29fdfb028"
       ],
       "layout": "IPY_MODEL_275be1c201674a05b90eccf39b4fcb79"
      }
     },
     "de022065e2fa4350bcd1c728a679473c": {
      "model_module": "@jupyter-widgets/base",
      "model_module_version": "1.2.0",
      "model_name": "LayoutModel",
      "state": {
       "_model_module": "@jupyter-widgets/base",
       "_model_module_version": "1.2.0",
       "_model_name": "LayoutModel",
       "_view_count": null,
       "_view_module": "@jupyter-widgets/base",
       "_view_module_version": "1.2.0",
       "_view_name": "LayoutView",
       "align_content": null,
       "align_items": null,
       "align_self": null,
       "border": null,
       "bottom": null,
       "display": null,
       "flex": null,
       "flex_flow": null,
       "grid_area": null,
       "grid_auto_columns": null,
       "grid_auto_flow": null,
       "grid_auto_rows": null,
       "grid_column": null,
       "grid_gap": null,
       "grid_row": null,
       "grid_template_areas": null,
       "grid_template_columns": null,
       "grid_template_rows": null,
       "height": null,
       "justify_content": null,
       "justify_items": null,
       "left": null,
       "margin": null,
       "max_height": null,
       "max_width": null,
       "min_height": null,
       "min_width": null,
       "object_fit": null,
       "object_position": null,
       "order": null,
       "overflow": null,
       "overflow_x": null,
       "overflow_y": null,
       "padding": null,
       "right": null,
       "top": null,
       "visibility": null,
       "width": null
      }
     },
     "e8703c4234d04811bd4ee455e3e1bb26": {
      "model_module": "@jupyter-widgets/controls",
      "model_module_version": "1.5.0",
      "model_name": "ProgressStyleModel",
      "state": {
       "_model_module": "@jupyter-widgets/controls",
       "_model_module_version": "1.5.0",
       "_model_name": "ProgressStyleModel",
       "_view_count": null,
       "_view_module": "@jupyter-widgets/base",
       "_view_module_version": "1.2.0",
       "_view_name": "StyleView",
       "bar_color": null,
       "description_width": ""
      }
     },
     "edbbb931d37f4c5fa67b2e860db1a33f": {
      "model_module": "@jupyter-widgets/base",
      "model_module_version": "1.2.0",
      "model_name": "LayoutModel",
      "state": {
       "_model_module": "@jupyter-widgets/base",
       "_model_module_version": "1.2.0",
       "_model_name": "LayoutModel",
       "_view_count": null,
       "_view_module": "@jupyter-widgets/base",
       "_view_module_version": "1.2.0",
       "_view_name": "LayoutView",
       "align_content": null,
       "align_items": null,
       "align_self": null,
       "border": null,
       "bottom": null,
       "display": null,
       "flex": null,
       "flex_flow": null,
       "grid_area": null,
       "grid_auto_columns": null,
       "grid_auto_flow": null,
       "grid_auto_rows": null,
       "grid_column": null,
       "grid_gap": null,
       "grid_row": null,
       "grid_template_areas": null,
       "grid_template_columns": null,
       "grid_template_rows": null,
       "height": null,
       "justify_content": null,
       "justify_items": null,
       "left": null,
       "margin": null,
       "max_height": null,
       "max_width": null,
       "min_height": null,
       "min_width": null,
       "object_fit": null,
       "object_position": null,
       "order": null,
       "overflow": null,
       "overflow_x": null,
       "overflow_y": null,
       "padding": null,
       "right": null,
       "top": null,
       "visibility": null,
       "width": null
      }
     },
     "edcd5e8589654d179c0a5bed31712743": {
      "model_module": "@jupyter-widgets/base",
      "model_module_version": "1.2.0",
      "model_name": "LayoutModel",
      "state": {
       "_model_module": "@jupyter-widgets/base",
       "_model_module_version": "1.2.0",
       "_model_name": "LayoutModel",
       "_view_count": null,
       "_view_module": "@jupyter-widgets/base",
       "_view_module_version": "1.2.0",
       "_view_name": "LayoutView",
       "align_content": null,
       "align_items": null,
       "align_self": null,
       "border": null,
       "bottom": null,
       "display": null,
       "flex": null,
       "flex_flow": null,
       "grid_area": null,
       "grid_auto_columns": null,
       "grid_auto_flow": null,
       "grid_auto_rows": null,
       "grid_column": null,
       "grid_gap": null,
       "grid_row": null,
       "grid_template_areas": null,
       "grid_template_columns": null,
       "grid_template_rows": null,
       "height": null,
       "justify_content": null,
       "justify_items": null,
       "left": null,
       "margin": null,
       "max_height": null,
       "max_width": null,
       "min_height": null,
       "min_width": null,
       "object_fit": null,
       "object_position": null,
       "order": null,
       "overflow": null,
       "overflow_x": null,
       "overflow_y": null,
       "padding": null,
       "right": null,
       "top": null,
       "visibility": null,
       "width": null
      }
     },
     "eeebd0c6c5e349768fadf1d71b97dd2c": {
      "model_module": "@jupyter-widgets/controls",
      "model_module_version": "1.5.0",
      "model_name": "HTMLModel",
      "state": {
       "_dom_classes": [],
       "_model_module": "@jupyter-widgets/controls",
       "_model_module_version": "1.5.0",
       "_model_name": "HTMLModel",
       "_view_count": null,
       "_view_module": "@jupyter-widgets/controls",
       "_view_module_version": "1.5.0",
       "_view_name": "HTMLView",
       "description": "",
       "description_tooltip": null,
       "layout": "IPY_MODEL_bd2821e4ac184bd3bc043f339ea4b1d9",
       "placeholder": "​",
       "style": "IPY_MODEL_756665560b794072bea9305242337c04",
       "value": "pytorch_model.bin: 100%"
      }
     },
     "f355fe9ac6ca4c909e6e049e7dd69e23": {
      "model_module": "@jupyter-widgets/controls",
      "model_module_version": "1.5.0",
      "model_name": "ProgressStyleModel",
      "state": {
       "_model_module": "@jupyter-widgets/controls",
       "_model_module_version": "1.5.0",
       "_model_name": "ProgressStyleModel",
       "_view_count": null,
       "_view_module": "@jupyter-widgets/base",
       "_view_module_version": "1.2.0",
       "_view_name": "StyleView",
       "bar_color": null,
       "description_width": ""
      }
     },
     "f56be812766c4104a22077b3f9c00ff6": {
      "model_module": "@jupyter-widgets/base",
      "model_module_version": "1.2.0",
      "model_name": "LayoutModel",
      "state": {
       "_model_module": "@jupyter-widgets/base",
       "_model_module_version": "1.2.0",
       "_model_name": "LayoutModel",
       "_view_count": null,
       "_view_module": "@jupyter-widgets/base",
       "_view_module_version": "1.2.0",
       "_view_name": "LayoutView",
       "align_content": null,
       "align_items": null,
       "align_self": null,
       "border": null,
       "bottom": null,
       "display": null,
       "flex": null,
       "flex_flow": null,
       "grid_area": null,
       "grid_auto_columns": null,
       "grid_auto_flow": null,
       "grid_auto_rows": null,
       "grid_column": null,
       "grid_gap": null,
       "grid_row": null,
       "grid_template_areas": null,
       "grid_template_columns": null,
       "grid_template_rows": null,
       "height": null,
       "justify_content": null,
       "justify_items": null,
       "left": null,
       "margin": null,
       "max_height": null,
       "max_width": null,
       "min_height": null,
       "min_width": null,
       "object_fit": null,
       "object_position": null,
       "order": null,
       "overflow": null,
       "overflow_x": null,
       "overflow_y": null,
       "padding": null,
       "right": null,
       "top": null,
       "visibility": null,
       "width": null
      }
     },
     "f6d0d114d12047bcae73789aec4f9063": {
      "model_module": "@jupyter-widgets/controls",
      "model_module_version": "1.5.0",
      "model_name": "HBoxModel",
      "state": {
       "_dom_classes": [],
       "_model_module": "@jupyter-widgets/controls",
       "_model_module_version": "1.5.0",
       "_model_name": "HBoxModel",
       "_view_count": null,
       "_view_module": "@jupyter-widgets/controls",
       "_view_module_version": "1.5.0",
       "_view_name": "HBoxView",
       "box_style": "",
       "children": [
        "IPY_MODEL_2a3ea28bd0c74501b69aacb006837909",
        "IPY_MODEL_91a6b44f4cf4433495f3188c8b4de1d0",
        "IPY_MODEL_fae8178fc05c47a0acb8da1afaf7547a"
       ],
       "layout": "IPY_MODEL_1bfa4b403ea14fae9a5b418f69dac7a9"
      }
     },
     "f993aa21970f406b84327c24ca250473": {
      "model_module": "@jupyter-widgets/controls",
      "model_module_version": "1.5.0",
      "model_name": "DescriptionStyleModel",
      "state": {
       "_model_module": "@jupyter-widgets/controls",
       "_model_module_version": "1.5.0",
       "_model_name": "DescriptionStyleModel",
       "_view_count": null,
       "_view_module": "@jupyter-widgets/base",
       "_view_module_version": "1.2.0",
       "_view_name": "StyleView",
       "description_width": ""
      }
     },
     "fa75c678087f417c8639166b633b7703": {
      "model_module": "@jupyter-widgets/base",
      "model_module_version": "1.2.0",
      "model_name": "LayoutModel",
      "state": {
       "_model_module": "@jupyter-widgets/base",
       "_model_module_version": "1.2.0",
       "_model_name": "LayoutModel",
       "_view_count": null,
       "_view_module": "@jupyter-widgets/base",
       "_view_module_version": "1.2.0",
       "_view_name": "LayoutView",
       "align_content": null,
       "align_items": null,
       "align_self": null,
       "border": null,
       "bottom": null,
       "display": null,
       "flex": null,
       "flex_flow": null,
       "grid_area": null,
       "grid_auto_columns": null,
       "grid_auto_flow": null,
       "grid_auto_rows": null,
       "grid_column": null,
       "grid_gap": null,
       "grid_row": null,
       "grid_template_areas": null,
       "grid_template_columns": null,
       "grid_template_rows": null,
       "height": null,
       "justify_content": null,
       "justify_items": null,
       "left": null,
       "margin": null,
       "max_height": null,
       "max_width": null,
       "min_height": null,
       "min_width": null,
       "object_fit": null,
       "object_position": null,
       "order": null,
       "overflow": null,
       "overflow_x": null,
       "overflow_y": null,
       "padding": null,
       "right": null,
       "top": null,
       "visibility": null,
       "width": null
      }
     },
     "fae8178fc05c47a0acb8da1afaf7547a": {
      "model_module": "@jupyter-widgets/controls",
      "model_module_version": "1.5.0",
      "model_name": "HTMLModel",
      "state": {
       "_dom_classes": [],
       "_model_module": "@jupyter-widgets/controls",
       "_model_module_version": "1.5.0",
       "_model_name": "HTMLModel",
       "_view_count": null,
       "_view_module": "@jupyter-widgets/controls",
       "_view_module_version": "1.5.0",
       "_view_name": "HTMLView",
       "description": "",
       "description_tooltip": null,
       "layout": "IPY_MODEL_de022065e2fa4350bcd1c728a679473c",
       "placeholder": "​",
       "style": "IPY_MODEL_8680c462c46943acaba192faf767262a",
       "value": " 252/252 [00:00&lt;00:00, 20.6kB/s]"
      }
     }
    },
    "version_major": 2,
    "version_minor": 0
   }
  }
 },
 "nbformat": 4,
 "nbformat_minor": 5
}

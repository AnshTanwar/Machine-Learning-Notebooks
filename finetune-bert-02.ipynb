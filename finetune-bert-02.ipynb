{
 "cells": [
  {
   "cell_type": "code",
   "execution_count": 1,
   "id": "f915527d",
   "metadata": {
    "_cell_guid": "b1076dfc-b9ad-4769-8c92-a6c4dae69d19",
    "_uuid": "8f2839f25d086af736a60e9eeb907d3b93b6e0e5",
    "execution": {
     "iopub.execute_input": "2024-06-05T05:39:01.489175Z",
     "iopub.status.busy": "2024-06-05T05:39:01.488838Z",
     "iopub.status.idle": "2024-06-05T05:39:02.202115Z",
     "shell.execute_reply": "2024-06-05T05:39:02.201161Z"
    },
    "papermill": {
     "duration": 0.733575,
     "end_time": "2024-06-05T05:39:02.204664",
     "exception": false,
     "start_time": "2024-06-05T05:39:01.471089",
     "status": "completed"
    },
    "tags": []
   },
   "outputs": [
    {
     "name": "stdout",
     "output_type": "stream",
     "text": [
      "/kaggle/input/crypto-regulations-yirifi/mappingtoBERT_6.csv\n",
      "/kaggle/input/crypto-regulations-yirifi/mappingtoBERT_5.csv\n",
      "/kaggle/input/crypto-regulations-yirifi/output_improved.csv\n",
      "/kaggle/input/crypto-regulations-yirifi/master_data_gpt4o_improved_latest.csv\n",
      "/kaggle/input/crypto-regulations-yirifi/CSV_data_gpt_4o/CSV_data_gpt_4o/18.csv\n",
      "/kaggle/input/crypto-regulations-yirifi/CSV_data_gpt_4o/CSV_data_gpt_4o/20.csv\n",
      "/kaggle/input/crypto-regulations-yirifi/CSV_data_gpt_4o/CSV_data_gpt_4o/1.csv\n",
      "/kaggle/input/crypto-regulations-yirifi/CSV_data_gpt_4o/CSV_data_gpt_4o/24.csv\n",
      "/kaggle/input/crypto-regulations-yirifi/CSV_data_gpt_4o/CSV_data_gpt_4o/11.csv\n",
      "/kaggle/input/crypto-regulations-yirifi/CSV_data_gpt_4o/CSV_data_gpt_4o/30.csv\n",
      "/kaggle/input/crypto-regulations-yirifi/CSV_data_gpt_4o/CSV_data_gpt_4o/17.csv\n",
      "/kaggle/input/crypto-regulations-yirifi/CSV_data_gpt_4o/CSV_data_gpt_4o/16.csv\n",
      "/kaggle/input/crypto-regulations-yirifi/CSV_data_gpt_4o/CSV_data_gpt_4o/3.csv\n",
      "/kaggle/input/crypto-regulations-yirifi/CSV_data_gpt_4o/CSV_data_gpt_4o/31.csv\n",
      "/kaggle/input/crypto-regulations-yirifi/CSV_data_gpt_4o/CSV_data_gpt_4o/19.csv\n",
      "/kaggle/input/crypto-regulations-yirifi/CSV_data_gpt_4o/CSV_data_gpt_4o/5.csv\n",
      "/kaggle/input/crypto-regulations-yirifi/CSV_data_gpt_4o/CSV_data_gpt_4o/2.csv\n",
      "/kaggle/input/crypto-regulations-yirifi/CSV_data_gpt_4o/CSV_data_gpt_4o/26.csv\n",
      "/kaggle/input/crypto-regulations-yirifi/CSV_data_gpt_4o/CSV_data_gpt_4o/28.csv\n",
      "/kaggle/input/crypto-regulations-yirifi/CSV_data_gpt_4o/CSV_data_gpt_4o/13.csv\n",
      "/kaggle/input/crypto-regulations-yirifi/CSV_data_gpt_4o/CSV_data_gpt_4o/23.csv\n",
      "/kaggle/input/crypto-regulations-yirifi/CSV_data_gpt_4o/CSV_data_gpt_4o/14.csv\n",
      "/kaggle/input/crypto-regulations-yirifi/CSV_data_gpt_4o/CSV_data_gpt_4o/4.csv\n",
      "/kaggle/input/crypto-regulations-yirifi/CSV_data_gpt_4o/CSV_data_gpt_4o/22.csv\n",
      "/kaggle/input/crypto-regulations-yirifi/CSV_data_gpt_4o/CSV_data_gpt_4o/8.csv\n",
      "/kaggle/input/crypto-regulations-yirifi/CSV_data_gpt_4o/CSV_data_gpt_4o/12.csv\n",
      "/kaggle/input/crypto-regulations-yirifi/CSV_data_gpt_4o/CSV_data_gpt_4o/9.csv\n",
      "/kaggle/input/crypto-regulations-yirifi/CSV_data_gpt_4o/CSV_data_gpt_4o/7.csv\n",
      "/kaggle/input/crypto-regulations-yirifi/CSV_data_gpt_4o/CSV_data_gpt_4o/15.csv\n",
      "/kaggle/input/crypto-regulations-yirifi/CSV_data_gpt_4o/CSV_data_gpt_4o/6.csv\n",
      "/kaggle/input/crypto-regulations-yirifi/CSV_data_gpt_4o/CSV_data_gpt_4o/10.csv\n",
      "/kaggle/input/crypto-regulations-yirifi/CSV_data_gpt_4o/CSV_data_gpt_4o/25.csv\n",
      "/kaggle/input/crypto-regulations-yirifi/CSV_data_gpt_4o/CSV_data_gpt_4o/29.csv\n",
      "/kaggle/input/crypto-regulations-yirifi/CSV_data_gpt_4o/CSV_data_gpt_4o/21.csv\n",
      "/kaggle/input/crypto-regulations-yirifi/CSV_data_gpt_4o/CSV_data_gpt_4o/32.csv\n",
      "/kaggle/input/crypto-regulations-yirifi/CSV_data_gpt_4o/CSV_data_gpt_4o/27.csv\n",
      "/kaggle/input/crypto-regulations-yirifi/csv_data/csv_data/18.csv\n",
      "/kaggle/input/crypto-regulations-yirifi/csv_data/csv_data/20.csv\n",
      "/kaggle/input/crypto-regulations-yirifi/csv_data/csv_data/1.csv\n",
      "/kaggle/input/crypto-regulations-yirifi/csv_data/csv_data/24.csv\n",
      "/kaggle/input/crypto-regulations-yirifi/csv_data/csv_data/11.csv\n",
      "/kaggle/input/crypto-regulations-yirifi/csv_data/csv_data/30.csv\n",
      "/kaggle/input/crypto-regulations-yirifi/csv_data/csv_data/17.csv\n",
      "/kaggle/input/crypto-regulations-yirifi/csv_data/csv_data/16.csv\n",
      "/kaggle/input/crypto-regulations-yirifi/csv_data/csv_data/3.csv\n",
      "/kaggle/input/crypto-regulations-yirifi/csv_data/csv_data/31.csv\n",
      "/kaggle/input/crypto-regulations-yirifi/csv_data/csv_data/19.csv\n",
      "/kaggle/input/crypto-regulations-yirifi/csv_data/csv_data/5.csv\n",
      "/kaggle/input/crypto-regulations-yirifi/csv_data/csv_data/2.csv\n",
      "/kaggle/input/crypto-regulations-yirifi/csv_data/csv_data/26.csv\n",
      "/kaggle/input/crypto-regulations-yirifi/csv_data/csv_data/28.csv\n",
      "/kaggle/input/crypto-regulations-yirifi/csv_data/csv_data/13.csv\n",
      "/kaggle/input/crypto-regulations-yirifi/csv_data/csv_data/23.csv\n",
      "/kaggle/input/crypto-regulations-yirifi/csv_data/csv_data/14.csv\n",
      "/kaggle/input/crypto-regulations-yirifi/csv_data/csv_data/4.csv\n",
      "/kaggle/input/crypto-regulations-yirifi/csv_data/csv_data/22.csv\n",
      "/kaggle/input/crypto-regulations-yirifi/csv_data/csv_data/8.csv\n",
      "/kaggle/input/crypto-regulations-yirifi/csv_data/csv_data/12.csv\n",
      "/kaggle/input/crypto-regulations-yirifi/csv_data/csv_data/9.csv\n",
      "/kaggle/input/crypto-regulations-yirifi/csv_data/csv_data/7.csv\n",
      "/kaggle/input/crypto-regulations-yirifi/csv_data/csv_data/15.csv\n",
      "/kaggle/input/crypto-regulations-yirifi/csv_data/csv_data/6.csv\n",
      "/kaggle/input/crypto-regulations-yirifi/csv_data/csv_data/10.csv\n",
      "/kaggle/input/crypto-regulations-yirifi/csv_data/csv_data/25.csv\n",
      "/kaggle/input/crypto-regulations-yirifi/csv_data/csv_data/29.csv\n",
      "/kaggle/input/crypto-regulations-yirifi/csv_data/csv_data/21.csv\n",
      "/kaggle/input/crypto-regulations-yirifi/csv_data/csv_data/32.csv\n",
      "/kaggle/input/crypto-regulations-yirifi/csv_data/csv_data/27.csv\n",
      "/kaggle/input/crypto-regulations-yirifi/CSV_data_improved/CSV_data_improved/18.csv\n",
      "/kaggle/input/crypto-regulations-yirifi/CSV_data_improved/CSV_data_improved/20.csv\n",
      "/kaggle/input/crypto-regulations-yirifi/CSV_data_improved/CSV_data_improved/1.csv\n",
      "/kaggle/input/crypto-regulations-yirifi/CSV_data_improved/CSV_data_improved/24.csv\n",
      "/kaggle/input/crypto-regulations-yirifi/CSV_data_improved/CSV_data_improved/11.csv\n",
      "/kaggle/input/crypto-regulations-yirifi/CSV_data_improved/CSV_data_improved/30.csv\n",
      "/kaggle/input/crypto-regulations-yirifi/CSV_data_improved/CSV_data_improved/17.csv\n",
      "/kaggle/input/crypto-regulations-yirifi/CSV_data_improved/CSV_data_improved/16.csv\n",
      "/kaggle/input/crypto-regulations-yirifi/CSV_data_improved/CSV_data_improved/3.csv\n",
      "/kaggle/input/crypto-regulations-yirifi/CSV_data_improved/CSV_data_improved/31.csv\n",
      "/kaggle/input/crypto-regulations-yirifi/CSV_data_improved/CSV_data_improved/19.csv\n",
      "/kaggle/input/crypto-regulations-yirifi/CSV_data_improved/CSV_data_improved/5.csv\n",
      "/kaggle/input/crypto-regulations-yirifi/CSV_data_improved/CSV_data_improved/2.csv\n",
      "/kaggle/input/crypto-regulations-yirifi/CSV_data_improved/CSV_data_improved/26.csv\n",
      "/kaggle/input/crypto-regulations-yirifi/CSV_data_improved/CSV_data_improved/28.csv\n",
      "/kaggle/input/crypto-regulations-yirifi/CSV_data_improved/CSV_data_improved/13.csv\n",
      "/kaggle/input/crypto-regulations-yirifi/CSV_data_improved/CSV_data_improved/23.csv\n",
      "/kaggle/input/crypto-regulations-yirifi/CSV_data_improved/CSV_data_improved/14.csv\n",
      "/kaggle/input/crypto-regulations-yirifi/CSV_data_improved/CSV_data_improved/4.csv\n",
      "/kaggle/input/crypto-regulations-yirifi/CSV_data_improved/CSV_data_improved/22.csv\n",
      "/kaggle/input/crypto-regulations-yirifi/CSV_data_improved/CSV_data_improved/8.csv\n",
      "/kaggle/input/crypto-regulations-yirifi/CSV_data_improved/CSV_data_improved/12.csv\n",
      "/kaggle/input/crypto-regulations-yirifi/CSV_data_improved/CSV_data_improved/9.csv\n",
      "/kaggle/input/crypto-regulations-yirifi/CSV_data_improved/CSV_data_improved/7.csv\n",
      "/kaggle/input/crypto-regulations-yirifi/CSV_data_improved/CSV_data_improved/15.csv\n",
      "/kaggle/input/crypto-regulations-yirifi/CSV_data_improved/CSV_data_improved/6.csv\n",
      "/kaggle/input/crypto-regulations-yirifi/CSV_data_improved/CSV_data_improved/10.csv\n",
      "/kaggle/input/crypto-regulations-yirifi/CSV_data_improved/CSV_data_improved/25.csv\n",
      "/kaggle/input/crypto-regulations-yirifi/CSV_data_improved/CSV_data_improved/29.csv\n",
      "/kaggle/input/crypto-regulations-yirifi/CSV_data_improved/CSV_data_improved/21.csv\n",
      "/kaggle/input/crypto-regulations-yirifi/CSV_data_improved/CSV_data_improved/32.csv\n",
      "/kaggle/input/crypto-regulations-yirifi/CSV_data_improved/CSV_data_improved/27.csv\n"
     ]
    }
   ],
   "source": [
    "# This Python 3 environment comes with many helpful analytics libraries installed\n",
    "# It is defined by the kaggle/python Docker image: https://github.com/kaggle/docker-python\n",
    "# For example, here's several helpful packages to load\n",
    "\n",
    "import numpy as np # linear algebra\n",
    "import pandas as pd # data processing, CSV file I/O (e.g. pd.read_csv)\n",
    "\n",
    "# Input data files are available in the read-only \"../input/\" directory\n",
    "# For example, running this (by clicking run or pressing Shift+Enter) will list all files under the input directory\n",
    "\n",
    "import os\n",
    "for dirname, _, filenames in os.walk('/kaggle/input'):\n",
    "    for filename in filenames:\n",
    "        print(os.path.join(dirname, filename))\n",
    "\n",
    "# You can write up to 20GB to the current directory (/kaggle/working/) that gets preserved as output when you create a version using \"Save & Run All\" \n",
    "# You can also write temporary files to /kaggle/temp/, but they won't be saved outside of the current session"
   ]
  },
  {
   "cell_type": "markdown",
   "id": "a6f8cf2f",
   "metadata": {
    "papermill": {
     "duration": 0.015743,
     "end_time": "2024-06-05T05:39:02.236866",
     "exception": false,
     "start_time": "2024-06-05T05:39:02.221123",
     "status": "completed"
    },
    "tags": []
   },
   "source": [
    "# Data import and cleaning up the data"
   ]
  },
  {
   "cell_type": "code",
   "execution_count": 2,
   "id": "5c46b92a",
   "metadata": {
    "execution": {
     "iopub.execute_input": "2024-06-05T05:39:02.271413Z",
     "iopub.status.busy": "2024-06-05T05:39:02.271008Z",
     "iopub.status.idle": "2024-06-05T05:39:02.343187Z",
     "shell.execute_reply": "2024-06-05T05:39:02.342432Z"
    },
    "papermill": {
     "duration": 0.09156,
     "end_time": "2024-06-05T05:39:02.345342",
     "exception": false,
     "start_time": "2024-06-05T05:39:02.253782",
     "status": "completed"
    },
    "tags": []
   },
   "outputs": [],
   "source": [
    "df = pd.read_csv(\"/kaggle/input/crypto-regulations-yirifi/mappingtoBERT_6.csv\")"
   ]
  },
  {
   "cell_type": "code",
   "execution_count": 3,
   "id": "155f3f32",
   "metadata": {
    "execution": {
     "iopub.execute_input": "2024-06-05T05:39:02.379751Z",
     "iopub.status.busy": "2024-06-05T05:39:02.379445Z",
     "iopub.status.idle": "2024-06-05T05:39:02.385831Z",
     "shell.execute_reply": "2024-06-05T05:39:02.384968Z"
    },
    "papermill": {
     "duration": 0.025785,
     "end_time": "2024-06-05T05:39:02.387947",
     "exception": false,
     "start_time": "2024-06-05T05:39:02.362162",
     "status": "completed"
    },
    "tags": []
   },
   "outputs": [
    {
     "data": {
      "text/plain": [
       "(5965, 4)"
      ]
     },
     "execution_count": 3,
     "metadata": {},
     "output_type": "execute_result"
    }
   ],
   "source": [
    "df.shape"
   ]
  },
  {
   "cell_type": "code",
   "execution_count": 4,
   "id": "a9cc9ed0",
   "metadata": {
    "execution": {
     "iopub.execute_input": "2024-06-05T05:39:02.421372Z",
     "iopub.status.busy": "2024-06-05T05:39:02.421102Z",
     "iopub.status.idle": "2024-06-05T05:39:02.437724Z",
     "shell.execute_reply": "2024-06-05T05:39:02.436744Z"
    },
    "papermill": {
     "duration": 0.035629,
     "end_time": "2024-06-05T05:39:02.439562",
     "exception": false,
     "start_time": "2024-06-05T05:39:02.403933",
     "status": "completed"
    },
    "tags": []
   },
   "outputs": [
    {
     "data": {
      "text/html": [
       "<div>\n",
       "<style scoped>\n",
       "    .dataframe tbody tr th:only-of-type {\n",
       "        vertical-align: middle;\n",
       "    }\n",
       "\n",
       "    .dataframe tbody tr th {\n",
       "        vertical-align: top;\n",
       "    }\n",
       "\n",
       "    .dataframe thead th {\n",
       "        text-align: right;\n",
       "    }\n",
       "</style>\n",
       "<table border=\"1\" class=\"dataframe\">\n",
       "  <thead>\n",
       "    <tr style=\"text-align: right;\">\n",
       "      <th></th>\n",
       "      <th>Unnamed: 0</th>\n",
       "      <th>Content</th>\n",
       "      <th>Concepts</th>\n",
       "      <th>bert_concepts</th>\n",
       "    </tr>\n",
       "  </thead>\n",
       "  <tbody>\n",
       "    <tr>\n",
       "      <th>5955</th>\n",
       "      <td>5955</td>\n",
       "      <td>Content|ÄúRegulationsÄù|means the Virtual As...</td>\n",
       "      <td>amended, related activities, 2023, supplemente...</td>\n",
       "      <td>regulations, virtual assets</td>\n",
       "    </tr>\n",
       "    <tr>\n",
       "      <th>5956</th>\n",
       "      <td>5956</td>\n",
       "      <td>Content|ÄúReserve AssetsÄù|has the meaning a...</td>\n",
       "      <td>frva rules, reserve assets, rule i.a.5</td>\n",
       "      <td>rules</td>\n",
       "    </tr>\n",
       "    <tr>\n",
       "      <th>5957</th>\n",
       "      <td>5957</td>\n",
       "      <td>Content|ÄúSenior ManagementÄù|has the meanin...</td>\n",
       "      <td>company rulebook, senior management</td>\n",
       "      <td>rulebook</td>\n",
       "    </tr>\n",
       "    <tr>\n",
       "      <th>5958</th>\n",
       "      <td>5958</td>\n",
       "      <td>Content|ÄúSignificant FRVA IssuerÄù|means a ...</td>\n",
       "      <td>rule i.c.1, vara, frva rules, vasp, significan...</td>\n",
       "      <td>rules, vasp</td>\n",
       "    </tr>\n",
       "    <tr>\n",
       "      <th>5959</th>\n",
       "      <td>5959</td>\n",
       "      <td>Content|ÄúTechnology and Information\\nRuleboo...</td>\n",
       "      <td>amended, information, vara, technology, regula...</td>\n",
       "      <td>regulations, rulebook</td>\n",
       "    </tr>\n",
       "    <tr>\n",
       "      <th>5960</th>\n",
       "      <td>5960</td>\n",
       "      <td>Content|ÄúVA Issuance RulebookÄù|means the V...</td>\n",
       "      <td>amended, supplemented, vara, virtual asset iss...</td>\n",
       "      <td>regulations, virtual assets, rulebook</td>\n",
       "    </tr>\n",
       "    <tr>\n",
       "      <th>5961</th>\n",
       "      <td>5961</td>\n",
       "      <td>Content|ÄúVARAÄù|means the Dubai Virtual Ass...</td>\n",
       "      <td>vara, dubai, regulatory authority, virtual assets</td>\n",
       "      <td>authority, virtual assets, regulator</td>\n",
       "    </tr>\n",
       "    <tr>\n",
       "      <th>5962</th>\n",
       "      <td>5962</td>\n",
       "      <td>Content|ÄúVirtual AssetÄù or ÄúVAÄù|has th...</td>\n",
       "      <td>dubai va law, va, regulatory, compliance, virt...</td>\n",
       "      <td>compliance, virtual assets, regulator</td>\n",
       "    </tr>\n",
       "    <tr>\n",
       "      <th>5963</th>\n",
       "      <td>5963</td>\n",
       "      <td>Content|ÄúWhitepaperÄù|has the meaning ascri...</td>\n",
       "      <td>bank, whitepaper, regulatory compliance, compl...</td>\n",
       "      <td>compliance, virtual assets, rulebook, regulator</td>\n",
       "    </tr>\n",
       "    <tr>\n",
       "      <th>5964</th>\n",
       "      <td>5964</td>\n",
       "      <td>Content|ÄúWorking DayÄù|means any day which ...</td>\n",
       "      <td>public holiday, weekend, bank, hong kong, regu...</td>\n",
       "      <td>compliance, virtual assets, regulator</td>\n",
       "    </tr>\n",
       "  </tbody>\n",
       "</table>\n",
       "</div>"
      ],
      "text/plain": [
       "      Unnamed: 0                                            Content  \\\n",
       "5955        5955  Content|ÄúRegulationsÄù|means the Virtual As...   \n",
       "5956        5956  Content|ÄúReserve AssetsÄù|has the meaning a...   \n",
       "5957        5957  Content|ÄúSenior ManagementÄù|has the meanin...   \n",
       "5958        5958  Content|ÄúSignificant FRVA IssuerÄù|means a ...   \n",
       "5959        5959  Content|ÄúTechnology and Information\\nRuleboo...   \n",
       "5960        5960  Content|ÄúVA Issuance RulebookÄù|means the V...   \n",
       "5961        5961  Content|ÄúVARAÄù|means the Dubai Virtual Ass...   \n",
       "5962        5962  Content|ÄúVirtual AssetÄù or ÄúVAÄù|has th...   \n",
       "5963        5963  Content|ÄúWhitepaperÄù|has the meaning ascri...   \n",
       "5964        5964  Content|ÄúWorking DayÄù|means any day which ...   \n",
       "\n",
       "                                               Concepts  \\\n",
       "5955  amended, related activities, 2023, supplemente...   \n",
       "5956             frva rules, reserve assets, rule i.a.5   \n",
       "5957                company rulebook, senior management   \n",
       "5958  rule i.c.1, vara, frva rules, vasp, significan...   \n",
       "5959  amended, information, vara, technology, regula...   \n",
       "5960  amended, supplemented, vara, virtual asset iss...   \n",
       "5961  vara, dubai, regulatory authority, virtual assets   \n",
       "5962  dubai va law, va, regulatory, compliance, virt...   \n",
       "5963  bank, whitepaper, regulatory compliance, compl...   \n",
       "5964  public holiday, weekend, bank, hong kong, regu...   \n",
       "\n",
       "                                        bert_concepts  \n",
       "5955                      regulations, virtual assets  \n",
       "5956                                            rules  \n",
       "5957                                         rulebook  \n",
       "5958                                      rules, vasp  \n",
       "5959                            regulations, rulebook  \n",
       "5960            regulations, virtual assets, rulebook  \n",
       "5961             authority, virtual assets, regulator  \n",
       "5962            compliance, virtual assets, regulator  \n",
       "5963  compliance, virtual assets, rulebook, regulator  \n",
       "5964            compliance, virtual assets, regulator  "
      ]
     },
     "execution_count": 4,
     "metadata": {},
     "output_type": "execute_result"
    }
   ],
   "source": [
    "df.tail(10)"
   ]
  },
  {
   "cell_type": "code",
   "execution_count": 5,
   "id": "6989402c",
   "metadata": {
    "execution": {
     "iopub.execute_input": "2024-06-05T05:39:02.475161Z",
     "iopub.status.busy": "2024-06-05T05:39:02.474892Z",
     "iopub.status.idle": "2024-06-05T05:39:02.562304Z",
     "shell.execute_reply": "2024-06-05T05:39:02.561227Z"
    },
    "papermill": {
     "duration": 0.106867,
     "end_time": "2024-06-05T05:39:02.564286",
     "exception": false,
     "start_time": "2024-06-05T05:39:02.457419",
     "status": "completed"
    },
    "tags": []
   },
   "outputs": [
    {
     "name": "stdout",
     "output_type": "stream",
     "text": [
      "Number of rows with URLs: 22\n",
      "Number of rows with user references: 12\n",
      "Number of rows with hashtags: 0\n",
      "Number of rows with non-alphanumeric characters: 5913\n"
     ]
    }
   ],
   "source": [
    "import re\n",
    "# Function to check for URLs\n",
    "def contains_url(text):\n",
    "    text = str(text)\n",
    "    return bool(re.search(r'http\\S+|www\\S+|https\\S+', text))\n",
    "\n",
    "# Function to check for user references (@user)\n",
    "def contains_user_reference(text):\n",
    "    text = str(text)\n",
    "    return bool(re.search(r'\\@\\w+', text))\n",
    "\n",
    "# Function to check for hashtags\n",
    "def contains_hashtag(text):\n",
    "    text = str(text)\n",
    "    return bool(re.search(r'\\#\\w+', text))\n",
    "\n",
    "# Function to check for non-alphanumeric characters\n",
    "def contains_non_alphanumeric(text):\n",
    "    text = str(text)\n",
    "    return bool(re.search(r'[^a-zA-Z0-9\\s]', text))\n",
    "\n",
    "# Apply the functions to the DataFrame\n",
    "df['contains_url'] = df['Content'].apply(contains_url)\n",
    "df['contains_user_reference'] = df['Content'].apply(contains_user_reference)\n",
    "df['contains_hashtag'] = df['Content'].apply(contains_hashtag)\n",
    "df['contains_non_alphanumeric'] = df['Content'].apply(contains_non_alphanumeric)\n",
    "\n",
    "# Check rows that match each condition\n",
    "url_count = df['contains_url'].sum()\n",
    "user_reference_count = df['contains_user_reference'].sum()\n",
    "hashtag_count = df['contains_hashtag'].sum()\n",
    "non_alphanumeric_count = df['contains_non_alphanumeric'].sum()\n",
    "\n",
    "# Print results\n",
    "print(f\"Number of rows with URLs: {url_count}\")\n",
    "print(f\"Number of rows with user references: {user_reference_count}\")\n",
    "print(f\"Number of rows with hashtags: {hashtag_count}\")\n",
    "print(f\"Number of rows with non-alphanumeric characters: {non_alphanumeric_count}\")\n",
    "\n"
   ]
  },
  {
   "cell_type": "code",
   "execution_count": 6,
   "id": "4646eac0",
   "metadata": {
    "execution": {
     "iopub.execute_input": "2024-06-05T05:39:02.599179Z",
     "iopub.status.busy": "2024-06-05T05:39:02.598920Z",
     "iopub.status.idle": "2024-06-05T05:39:02.611042Z",
     "shell.execute_reply": "2024-06-05T05:39:02.610217Z"
    },
    "papermill": {
     "duration": 0.03176,
     "end_time": "2024-06-05T05:39:02.612997",
     "exception": false,
     "start_time": "2024-06-05T05:39:02.581237",
     "status": "completed"
    },
    "tags": []
   },
   "outputs": [
    {
     "data": {
      "text/html": [
       "<div>\n",
       "<style scoped>\n",
       "    .dataframe tbody tr th:only-of-type {\n",
       "        vertical-align: middle;\n",
       "    }\n",
       "\n",
       "    .dataframe tbody tr th {\n",
       "        vertical-align: top;\n",
       "    }\n",
       "\n",
       "    .dataframe thead th {\n",
       "        text-align: right;\n",
       "    }\n",
       "</style>\n",
       "<table border=\"1\" class=\"dataframe\">\n",
       "  <thead>\n",
       "    <tr style=\"text-align: right;\">\n",
       "      <th></th>\n",
       "      <th>Unnamed: 0</th>\n",
       "      <th>Content</th>\n",
       "      <th>Concepts</th>\n",
       "      <th>bert_concepts</th>\n",
       "      <th>contains_url</th>\n",
       "      <th>contains_user_reference</th>\n",
       "      <th>contains_hashtag</th>\n",
       "      <th>contains_non_alphanumeric</th>\n",
       "    </tr>\n",
       "  </thead>\n",
       "  <tbody>\n",
       "    <tr>\n",
       "      <th>5960</th>\n",
       "      <td>5960</td>\n",
       "      <td>Content|ÄúVA Issuance RulebookÄù|means the V...</td>\n",
       "      <td>amended, supplemented, vara, virtual asset iss...</td>\n",
       "      <td>regulations, virtual assets, rulebook</td>\n",
       "      <td>False</td>\n",
       "      <td>False</td>\n",
       "      <td>False</td>\n",
       "      <td>True</td>\n",
       "    </tr>\n",
       "    <tr>\n",
       "      <th>5961</th>\n",
       "      <td>5961</td>\n",
       "      <td>Content|ÄúVARAÄù|means the Dubai Virtual Ass...</td>\n",
       "      <td>vara, dubai, regulatory authority, virtual assets</td>\n",
       "      <td>authority, virtual assets, regulator</td>\n",
       "      <td>False</td>\n",
       "      <td>False</td>\n",
       "      <td>False</td>\n",
       "      <td>True</td>\n",
       "    </tr>\n",
       "    <tr>\n",
       "      <th>5962</th>\n",
       "      <td>5962</td>\n",
       "      <td>Content|ÄúVirtual AssetÄù or ÄúVAÄù|has th...</td>\n",
       "      <td>dubai va law, va, regulatory, compliance, virt...</td>\n",
       "      <td>compliance, virtual assets, regulator</td>\n",
       "      <td>False</td>\n",
       "      <td>False</td>\n",
       "      <td>False</td>\n",
       "      <td>True</td>\n",
       "    </tr>\n",
       "    <tr>\n",
       "      <th>5963</th>\n",
       "      <td>5963</td>\n",
       "      <td>Content|ÄúWhitepaperÄù|has the meaning ascri...</td>\n",
       "      <td>bank, whitepaper, regulatory compliance, compl...</td>\n",
       "      <td>compliance, virtual assets, rulebook, regulator</td>\n",
       "      <td>False</td>\n",
       "      <td>False</td>\n",
       "      <td>False</td>\n",
       "      <td>True</td>\n",
       "    </tr>\n",
       "    <tr>\n",
       "      <th>5964</th>\n",
       "      <td>5964</td>\n",
       "      <td>Content|ÄúWorking DayÄù|means any day which ...</td>\n",
       "      <td>public holiday, weekend, bank, hong kong, regu...</td>\n",
       "      <td>compliance, virtual assets, regulator</td>\n",
       "      <td>False</td>\n",
       "      <td>False</td>\n",
       "      <td>False</td>\n",
       "      <td>True</td>\n",
       "    </tr>\n",
       "  </tbody>\n",
       "</table>\n",
       "</div>"
      ],
      "text/plain": [
       "      Unnamed: 0                                            Content  \\\n",
       "5960        5960  Content|ÄúVA Issuance RulebookÄù|means the V...   \n",
       "5961        5961  Content|ÄúVARAÄù|means the Dubai Virtual Ass...   \n",
       "5962        5962  Content|ÄúVirtual AssetÄù or ÄúVAÄù|has th...   \n",
       "5963        5963  Content|ÄúWhitepaperÄù|has the meaning ascri...   \n",
       "5964        5964  Content|ÄúWorking DayÄù|means any day which ...   \n",
       "\n",
       "                                               Concepts  \\\n",
       "5960  amended, supplemented, vara, virtual asset iss...   \n",
       "5961  vara, dubai, regulatory authority, virtual assets   \n",
       "5962  dubai va law, va, regulatory, compliance, virt...   \n",
       "5963  bank, whitepaper, regulatory compliance, compl...   \n",
       "5964  public holiday, weekend, bank, hong kong, regu...   \n",
       "\n",
       "                                        bert_concepts  contains_url  \\\n",
       "5960            regulations, virtual assets, rulebook         False   \n",
       "5961             authority, virtual assets, regulator         False   \n",
       "5962            compliance, virtual assets, regulator         False   \n",
       "5963  compliance, virtual assets, rulebook, regulator         False   \n",
       "5964            compliance, virtual assets, regulator         False   \n",
       "\n",
       "      contains_user_reference  contains_hashtag  contains_non_alphanumeric  \n",
       "5960                    False             False                       True  \n",
       "5961                    False             False                       True  \n",
       "5962                    False             False                       True  \n",
       "5963                    False             False                       True  \n",
       "5964                    False             False                       True  "
      ]
     },
     "execution_count": 6,
     "metadata": {},
     "output_type": "execute_result"
    }
   ],
   "source": [
    "df.tail(5)"
   ]
  },
  {
   "cell_type": "code",
   "execution_count": 7,
   "id": "0c6e6043",
   "metadata": {
    "execution": {
     "iopub.execute_input": "2024-06-05T05:39:02.647918Z",
     "iopub.status.busy": "2024-06-05T05:39:02.647404Z",
     "iopub.status.idle": "2024-06-05T05:39:02.654833Z",
     "shell.execute_reply": "2024-06-05T05:39:02.654038Z"
    },
    "papermill": {
     "duration": 0.027005,
     "end_time": "2024-06-05T05:39:02.656934",
     "exception": false,
     "start_time": "2024-06-05T05:39:02.629929",
     "status": "completed"
    },
    "tags": []
   },
   "outputs": [],
   "source": [
    "df = df[[\"Content\",\"bert_concepts\"]]"
   ]
  },
  {
   "cell_type": "code",
   "execution_count": 8,
   "id": "422731a4",
   "metadata": {
    "execution": {
     "iopub.execute_input": "2024-06-05T05:39:02.692492Z",
     "iopub.status.busy": "2024-06-05T05:39:02.692188Z",
     "iopub.status.idle": "2024-06-05T05:39:03.100778Z",
     "shell.execute_reply": "2024-06-05T05:39:03.099793Z"
    },
    "papermill": {
     "duration": 0.429449,
     "end_time": "2024-06-05T05:39:03.103235",
     "exception": false,
     "start_time": "2024-06-05T05:39:02.673786",
     "status": "completed"
    },
    "tags": []
   },
   "outputs": [],
   "source": [
    "import re\n",
    "import string\n",
    "\n",
    "def preprocess_text(text):\n",
    "    text = str(text)    \n",
    "    text = re.sub(r'<[^>]+>', '', text) # Remove HTML tags\n",
    "    text = text.lower()\n",
    "    text = re.sub(r'http\\S+|www\\S+|https\\S+', '', text, flags=re.MULTILINE)# Remove URLs\n",
    "    text = re.sub(r'\\@\\w+|\\#','', text) # Remove user @ references and hashtags\n",
    "    text = text.translate(str.maketrans('', '', string.punctuation)) # Remove punctuation    \n",
    "    text = re.sub(r'[^a-zA-Z0-9\\s]', ' ', text) # Remove non-alphanumeric character    \n",
    "    text = re.sub(r'\\s+', ' ', text).strip() # Remove extra whitespace(only single white space is left)\n",
    "    \n",
    "    return text\n",
    "\n",
    "df['Content'] = df['Content'].apply(preprocess_text) # Applying the preprocess_text function\n"
   ]
  },
  {
   "cell_type": "code",
   "execution_count": 9,
   "id": "b113dd35",
   "metadata": {
    "execution": {
     "iopub.execute_input": "2024-06-05T05:39:03.146352Z",
     "iopub.status.busy": "2024-06-05T05:39:03.146031Z",
     "iopub.status.idle": "2024-06-05T05:39:03.155573Z",
     "shell.execute_reply": "2024-06-05T05:39:03.154613Z"
    },
    "papermill": {
     "duration": 0.034946,
     "end_time": "2024-06-05T05:39:03.157783",
     "exception": false,
     "start_time": "2024-06-05T05:39:03.122837",
     "status": "completed"
    },
    "tags": []
   },
   "outputs": [
    {
     "data": {
      "text/html": [
       "<div>\n",
       "<style scoped>\n",
       "    .dataframe tbody tr th:only-of-type {\n",
       "        vertical-align: middle;\n",
       "    }\n",
       "\n",
       "    .dataframe tbody tr th {\n",
       "        vertical-align: top;\n",
       "    }\n",
       "\n",
       "    .dataframe thead th {\n",
       "        text-align: right;\n",
       "    }\n",
       "</style>\n",
       "<table border=\"1\" class=\"dataframe\">\n",
       "  <thead>\n",
       "    <tr style=\"text-align: right;\">\n",
       "      <th></th>\n",
       "      <th>Content</th>\n",
       "      <th>bert_concepts</th>\n",
       "    </tr>\n",
       "  </thead>\n",
       "  <tbody>\n",
       "    <tr>\n",
       "      <th>5960</th>\n",
       "      <td>content va issuance rulebook means the virtual...</td>\n",
       "      <td>regulations, virtual assets, rulebook</td>\n",
       "    </tr>\n",
       "    <tr>\n",
       "      <th>5961</th>\n",
       "      <td>content vara means the dubai virtual assets re...</td>\n",
       "      <td>authority, virtual assets, regulator</td>\n",
       "    </tr>\n",
       "    <tr>\n",
       "      <th>5962</th>\n",
       "      <td>content virtual asset or va has the meaning as...</td>\n",
       "      <td>compliance, virtual assets, regulator</td>\n",
       "    </tr>\n",
       "    <tr>\n",
       "      <th>5963</th>\n",
       "      <td>content whitepaper has the meaning ascribed to...</td>\n",
       "      <td>compliance, virtual assets, rulebook, regulator</td>\n",
       "    </tr>\n",
       "    <tr>\n",
       "      <th>5964</th>\n",
       "      <td>content working day means any day which is not...</td>\n",
       "      <td>compliance, virtual assets, regulator</td>\n",
       "    </tr>\n",
       "  </tbody>\n",
       "</table>\n",
       "</div>"
      ],
      "text/plain": [
       "                                                Content  \\\n",
       "5960  content va issuance rulebook means the virtual...   \n",
       "5961  content vara means the dubai virtual assets re...   \n",
       "5962  content virtual asset or va has the meaning as...   \n",
       "5963  content whitepaper has the meaning ascribed to...   \n",
       "5964  content working day means any day which is not...   \n",
       "\n",
       "                                        bert_concepts  \n",
       "5960            regulations, virtual assets, rulebook  \n",
       "5961             authority, virtual assets, regulator  \n",
       "5962            compliance, virtual assets, regulator  \n",
       "5963  compliance, virtual assets, rulebook, regulator  \n",
       "5964            compliance, virtual assets, regulator  "
      ]
     },
     "execution_count": 9,
     "metadata": {},
     "output_type": "execute_result"
    }
   ],
   "source": [
    "df.tail(5)"
   ]
  },
  {
   "cell_type": "code",
   "execution_count": null,
   "id": "694dd963",
   "metadata": {
    "papermill": {
     "duration": 0.016915,
     "end_time": "2024-06-05T05:39:03.192350",
     "exception": false,
     "start_time": "2024-06-05T05:39:03.175435",
     "status": "completed"
    },
    "tags": []
   },
   "outputs": [],
   "source": []
  },
  {
   "cell_type": "code",
   "execution_count": 10,
   "id": "9976c7fa",
   "metadata": {
    "execution": {
     "iopub.execute_input": "2024-06-05T05:39:03.227983Z",
     "iopub.status.busy": "2024-06-05T05:39:03.227666Z",
     "iopub.status.idle": "2024-06-05T05:39:03.233419Z",
     "shell.execute_reply": "2024-06-05T05:39:03.232556Z"
    },
    "papermill": {
     "duration": 0.025932,
     "end_time": "2024-06-05T05:39:03.235340",
     "exception": false,
     "start_time": "2024-06-05T05:39:03.209408",
     "status": "completed"
    },
    "tags": []
   },
   "outputs": [
    {
     "data": {
      "text/plain": [
       "(5965, 2)"
      ]
     },
     "execution_count": 10,
     "metadata": {},
     "output_type": "execute_result"
    }
   ],
   "source": [
    "df.shape"
   ]
  },
  {
   "cell_type": "code",
   "execution_count": 11,
   "id": "7d71f66f",
   "metadata": {
    "execution": {
     "iopub.execute_input": "2024-06-05T05:39:03.272135Z",
     "iopub.status.busy": "2024-06-05T05:39:03.271487Z",
     "iopub.status.idle": "2024-06-05T05:39:03.278070Z",
     "shell.execute_reply": "2024-06-05T05:39:03.277047Z"
    },
    "papermill": {
     "duration": 0.027395,
     "end_time": "2024-06-05T05:39:03.280214",
     "exception": false,
     "start_time": "2024-06-05T05:39:03.252819",
     "status": "completed"
    },
    "tags": []
   },
   "outputs": [
    {
     "name": "stdout",
     "output_type": "stream",
     "text": [
      "Number of rows with NaN in bert_concepts: 580\n"
     ]
    }
   ],
   "source": [
    "missing_values_count = df['bert_concepts'].isnull().sum()\n",
    "print(\"Number of rows with NaN in bert_concepts:\", missing_values_count)"
   ]
  },
  {
   "cell_type": "markdown",
   "id": "d0c0a887",
   "metadata": {
    "papermill": {
     "duration": 0.017295,
     "end_time": "2024-06-05T05:39:03.315166",
     "exception": false,
     "start_time": "2024-06-05T05:39:03.297871",
     "status": "completed"
    },
    "tags": []
   },
   "source": [
    "## Remove rows with no bert_concepts"
   ]
  },
  {
   "cell_type": "code",
   "execution_count": 12,
   "id": "6e20c44f",
   "metadata": {
    "execution": {
     "iopub.execute_input": "2024-06-05T05:39:03.351695Z",
     "iopub.status.busy": "2024-06-05T05:39:03.351362Z",
     "iopub.status.idle": "2024-06-05T05:39:03.361077Z",
     "shell.execute_reply": "2024-06-05T05:39:03.360214Z"
    },
    "papermill": {
     "duration": 0.030433,
     "end_time": "2024-06-05T05:39:03.362958",
     "exception": false,
     "start_time": "2024-06-05T05:39:03.332525",
     "status": "completed"
    },
    "tags": []
   },
   "outputs": [],
   "source": [
    "df = df.dropna(subset=['bert_concepts'])"
   ]
  },
  {
   "cell_type": "code",
   "execution_count": 13,
   "id": "40b30b91",
   "metadata": {
    "execution": {
     "iopub.execute_input": "2024-06-05T05:39:03.399126Z",
     "iopub.status.busy": "2024-06-05T05:39:03.398742Z",
     "iopub.status.idle": "2024-06-05T05:39:03.404833Z",
     "shell.execute_reply": "2024-06-05T05:39:03.403891Z"
    },
    "papermill": {
     "duration": 0.026314,
     "end_time": "2024-06-05T05:39:03.406750",
     "exception": false,
     "start_time": "2024-06-05T05:39:03.380436",
     "status": "completed"
    },
    "tags": []
   },
   "outputs": [
    {
     "data": {
      "text/plain": [
       "(5385, 2)"
      ]
     },
     "execution_count": 13,
     "metadata": {},
     "output_type": "execute_result"
    }
   ],
   "source": [
    "df.shape"
   ]
  },
  {
   "cell_type": "markdown",
   "id": "56b759ff",
   "metadata": {
    "papermill": {
     "duration": 0.01782,
     "end_time": "2024-06-05T05:39:03.442450",
     "exception": false,
     "start_time": "2024-06-05T05:39:03.424630",
     "status": "completed"
    },
    "tags": []
   },
   "source": [
    "# Converting to Bert Data Format"
   ]
  },
  {
   "cell_type": "code",
   "execution_count": 14,
   "id": "90d8004f",
   "metadata": {
    "execution": {
     "iopub.execute_input": "2024-06-05T05:39:03.480211Z",
     "iopub.status.busy": "2024-06-05T05:39:03.479830Z",
     "iopub.status.idle": "2024-06-05T05:39:05.503363Z",
     "shell.execute_reply": "2024-06-05T05:39:05.502595Z"
    },
    "papermill": {
     "duration": 2.044878,
     "end_time": "2024-06-05T05:39:05.505668",
     "exception": false,
     "start_time": "2024-06-05T05:39:03.460790",
     "status": "completed"
    },
    "tags": []
   },
   "outputs": [],
   "source": [
    "import pandas as pd\n",
    "import re\n",
    "from sklearn.model_selection import train_test_split\n",
    "from datasets import Dataset, DatasetDict"
   ]
  },
  {
   "cell_type": "code",
   "execution_count": 15,
   "id": "163cc78d",
   "metadata": {
    "execution": {
     "iopub.execute_input": "2024-06-05T05:39:05.542984Z",
     "iopub.status.busy": "2024-06-05T05:39:05.542487Z",
     "iopub.status.idle": "2024-06-05T05:39:05.548779Z",
     "shell.execute_reply": "2024-06-05T05:39:05.547897Z"
    },
    "papermill": {
     "duration": 0.026795,
     "end_time": "2024-06-05T05:39:05.550636",
     "exception": false,
     "start_time": "2024-06-05T05:39:05.523841",
     "status": "completed"
    },
    "tags": []
   },
   "outputs": [
    {
     "data": {
      "text/plain": [
       "Index(['Content', 'bert_concepts'], dtype='object')"
      ]
     },
     "execution_count": 15,
     "metadata": {},
     "output_type": "execute_result"
    }
   ],
   "source": [
    "df.columns"
   ]
  },
  {
   "cell_type": "code",
   "execution_count": 16,
   "id": "18a37873",
   "metadata": {
    "execution": {
     "iopub.execute_input": "2024-06-05T05:39:05.586293Z",
     "iopub.status.busy": "2024-06-05T05:39:05.586013Z",
     "iopub.status.idle": "2024-06-05T05:39:05.598467Z",
     "shell.execute_reply": "2024-06-05T05:39:05.597591Z"
    },
    "papermill": {
     "duration": 0.032473,
     "end_time": "2024-06-05T05:39:05.600417",
     "exception": false,
     "start_time": "2024-06-05T05:39:05.567944",
     "status": "completed"
    },
    "tags": []
   },
   "outputs": [],
   "source": [
    "\n",
    "df['bert_concepts'] = df['bert_concepts'].apply(lambda x: x.split(', ')) # make list of words\n",
    "all_concepts = set(concept for row in df['bert_concepts'] for concept in row) # Create a list of all unique concepts\n"
   ]
  },
  {
   "cell_type": "code",
   "execution_count": 17,
   "id": "ae052f9a",
   "metadata": {
    "execution": {
     "iopub.execute_input": "2024-06-05T05:39:05.677764Z",
     "iopub.status.busy": "2024-06-05T05:39:05.677105Z",
     "iopub.status.idle": "2024-06-05T05:39:05.683691Z",
     "shell.execute_reply": "2024-06-05T05:39:05.682828Z"
    },
    "papermill": {
     "duration": 0.067672,
     "end_time": "2024-06-05T05:39:05.685531",
     "exception": false,
     "start_time": "2024-06-05T05:39:05.617859",
     "status": "completed"
    },
    "tags": []
   },
   "outputs": [
    {
     "data": {
      "text/plain": [
       "{'aml',\n",
       " 'anti-bribery',\n",
       " 'audit',\n",
       " 'authority',\n",
       " 'beneficiary information',\n",
       " 'cdd',\n",
       " 'cft',\n",
       " 'circular',\n",
       " 'client',\n",
       " 'code of conduct',\n",
       " 'compliance',\n",
       " 'conduct',\n",
       " 'controls',\n",
       " 'criminal',\n",
       " 'disclosure',\n",
       " 'dlt',\n",
       " 'due diligence',\n",
       " 'entities',\n",
       " 'guideline',\n",
       " 'identity',\n",
       " 'insider dealing',\n",
       " 'investor',\n",
       " 'investor protection',\n",
       " 'kyc',\n",
       " 'legal',\n",
       " 'legislation',\n",
       " 'license',\n",
       " 'monitoring',\n",
       " 'operator',\n",
       " 'oversight',\n",
       " 'pep',\n",
       " 'person',\n",
       " 'policies',\n",
       " 'policy',\n",
       " 'record keeping',\n",
       " 'regulations',\n",
       " 'regulator',\n",
       " 'reporting',\n",
       " 'requirements',\n",
       " 'risk assessment',\n",
       " 'risk management',\n",
       " 'risks',\n",
       " 'rulebook',\n",
       " 'rules',\n",
       " 'safeguard',\n",
       " 'sanctions',\n",
       " 'screening',\n",
       " 'suspicious transactions',\n",
       " 'transaction',\n",
       " 'transactions',\n",
       " 'transfer',\n",
       " 'travel rule',\n",
       " 'vasp',\n",
       " 'vasps',\n",
       " 'virtual assets'}"
      ]
     },
     "execution_count": 17,
     "metadata": {},
     "output_type": "execute_result"
    }
   ],
   "source": [
    "all_concepts"
   ]
  },
  {
   "cell_type": "code",
   "execution_count": 18,
   "id": "f0ab0bb4",
   "metadata": {
    "execution": {
     "iopub.execute_input": "2024-06-05T05:39:05.722365Z",
     "iopub.status.busy": "2024-06-05T05:39:05.722094Z",
     "iopub.status.idle": "2024-06-05T05:39:07.508805Z",
     "shell.execute_reply": "2024-06-05T05:39:07.507787Z"
    },
    "papermill": {
     "duration": 1.807946,
     "end_time": "2024-06-05T05:39:07.511117",
     "exception": false,
     "start_time": "2024-06-05T05:39:05.703171",
     "status": "completed"
    },
    "tags": []
   },
   "outputs": [],
   "source": [
    "# One-hot encode each concept for each row\n",
    "one_hot_encoded_rows = []\n",
    "for index, row in df.iterrows():\n",
    "    one_hot_row = {'Content': row['Content']}\n",
    "    for concept in all_concepts:\n",
    "        one_hot_row[concept] = True if concept in row['bert_concepts'] else False\n",
    "    one_hot_encoded_rows.append(one_hot_row)\n"
   ]
  },
  {
   "cell_type": "code",
   "execution_count": 19,
   "id": "a78a871a",
   "metadata": {
    "execution": {
     "iopub.execute_input": "2024-06-05T05:39:07.548430Z",
     "iopub.status.busy": "2024-06-05T05:39:07.548079Z",
     "iopub.status.idle": "2024-06-05T05:39:07.557124Z",
     "shell.execute_reply": "2024-06-05T05:39:07.556219Z"
    },
    "papermill": {
     "duration": 0.029778,
     "end_time": "2024-06-05T05:39:07.559221",
     "exception": false,
     "start_time": "2024-06-05T05:39:07.529443",
     "status": "completed"
    },
    "tags": []
   },
   "outputs": [
    {
     "data": {
      "text/plain": [
       "[{'Content': 'the new licensing regime for centralised virtual asset trading platforms under the antimoney laundering and counterterrorist financing ordinance cap 615 amlo will come into effect on 1 june 2023 under the new regime centralised virtual asset trading platforms operating in hong kong will need to apply to the securities and futures commission sfc for a licence under the securities and futures ordinance cap 571 sfo andor the amlo dual licence arrangement',\n",
       "  'aml': True,\n",
       "  'risk assessment': False,\n",
       "  'pep': False,\n",
       "  'guideline': False,\n",
       "  'cdd': False,\n",
       "  'safeguard': False,\n",
       "  'investor': False,\n",
       "  'risks': False,\n",
       "  'rules': False,\n",
       "  'controls': False,\n",
       "  'risk management': False,\n",
       "  'rulebook': False,\n",
       "  'beneficiary information': False,\n",
       "  'operator': False,\n",
       "  'due diligence': False,\n",
       "  'audit': False,\n",
       "  'vasp': False,\n",
       "  'kyc': False,\n",
       "  'oversight': False,\n",
       "  'transaction': False,\n",
       "  'cft': True,\n",
       "  'virtual assets': True,\n",
       "  'requirements': False,\n",
       "  'monitoring': False,\n",
       "  'anti-bribery': False,\n",
       "  'policy': False,\n",
       "  'compliance': True,\n",
       "  'legal': False,\n",
       "  'record keeping': False,\n",
       "  'client': False,\n",
       "  'suspicious transactions': False,\n",
       "  'entities': False,\n",
       "  'person': False,\n",
       "  'travel rule': False,\n",
       "  'insider dealing': False,\n",
       "  'regulator': True,\n",
       "  'screening': False,\n",
       "  'authority': False,\n",
       "  'disclosure': False,\n",
       "  'sanctions': False,\n",
       "  'dlt': False,\n",
       "  'legislation': False,\n",
       "  'license': True,\n",
       "  'investor protection': False,\n",
       "  'identity': False,\n",
       "  'regulations': False,\n",
       "  'policies': False,\n",
       "  'criminal': False,\n",
       "  'transactions': False,\n",
       "  'code of conduct': False,\n",
       "  'reporting': False,\n",
       "  'circular': False,\n",
       "  'vasps': False,\n",
       "  'transfer': False,\n",
       "  'conduct': False},\n",
       " {'Content': 'the sfc is issuing this circular to highlight the following documents and information which assist licence applicants and provide guidance on the new regulatory requirements they also set out the ongoing notification requirements for licensed virtual asset trading platforms',\n",
       "  'aml': False,\n",
       "  'risk assessment': False,\n",
       "  'pep': False,\n",
       "  'guideline': False,\n",
       "  'cdd': False,\n",
       "  'safeguard': False,\n",
       "  'investor': False,\n",
       "  'risks': False,\n",
       "  'rules': False,\n",
       "  'controls': False,\n",
       "  'risk management': False,\n",
       "  'rulebook': False,\n",
       "  'beneficiary information': False,\n",
       "  'operator': False,\n",
       "  'due diligence': False,\n",
       "  'audit': False,\n",
       "  'vasp': False,\n",
       "  'kyc': False,\n",
       "  'oversight': False,\n",
       "  'transaction': False,\n",
       "  'cft': False,\n",
       "  'virtual assets': True,\n",
       "  'requirements': True,\n",
       "  'monitoring': False,\n",
       "  'anti-bribery': False,\n",
       "  'policy': False,\n",
       "  'compliance': False,\n",
       "  'legal': False,\n",
       "  'record keeping': False,\n",
       "  'client': False,\n",
       "  'suspicious transactions': False,\n",
       "  'entities': False,\n",
       "  'person': False,\n",
       "  'travel rule': False,\n",
       "  'insider dealing': False,\n",
       "  'regulator': True,\n",
       "  'screening': False,\n",
       "  'authority': False,\n",
       "  'disclosure': False,\n",
       "  'sanctions': False,\n",
       "  'dlt': False,\n",
       "  'legislation': False,\n",
       "  'license': True,\n",
       "  'investor protection': False,\n",
       "  'identity': False,\n",
       "  'regulations': False,\n",
       "  'policies': False,\n",
       "  'criminal': False,\n",
       "  'transactions': False,\n",
       "  'code of conduct': False,\n",
       "  'reporting': False,\n",
       "  'circular': True,\n",
       "  'vasps': False,\n",
       "  'transfer': False,\n",
       "  'conduct': False}]"
      ]
     },
     "execution_count": 19,
     "metadata": {},
     "output_type": "execute_result"
    }
   ],
   "source": [
    "one_hot_encoded_rows[:2]"
   ]
  },
  {
   "cell_type": "code",
   "execution_count": 20,
   "id": "13f3df01",
   "metadata": {
    "execution": {
     "iopub.execute_input": "2024-06-05T05:39:07.596256Z",
     "iopub.status.busy": "2024-06-05T05:39:07.595987Z",
     "iopub.status.idle": "2024-06-05T05:39:07.661154Z",
     "shell.execute_reply": "2024-06-05T05:39:07.660433Z"
    },
    "papermill": {
     "duration": 0.086049,
     "end_time": "2024-06-05T05:39:07.663132",
     "exception": false,
     "start_time": "2024-06-05T05:39:07.577083",
     "status": "completed"
    },
    "tags": []
   },
   "outputs": [],
   "source": [
    "df = pd.DataFrame(one_hot_encoded_rows)"
   ]
  },
  {
   "cell_type": "code",
   "execution_count": 21,
   "id": "4852baec",
   "metadata": {
    "execution": {
     "iopub.execute_input": "2024-06-05T05:39:07.700711Z",
     "iopub.status.busy": "2024-06-05T05:39:07.700451Z",
     "iopub.status.idle": "2024-06-05T05:39:07.719711Z",
     "shell.execute_reply": "2024-06-05T05:39:07.718685Z"
    },
    "papermill": {
     "duration": 0.041162,
     "end_time": "2024-06-05T05:39:07.722574",
     "exception": false,
     "start_time": "2024-06-05T05:39:07.681412",
     "status": "completed"
    },
    "tags": []
   },
   "outputs": [
    {
     "data": {
      "text/html": [
       "<div>\n",
       "<style scoped>\n",
       "    .dataframe tbody tr th:only-of-type {\n",
       "        vertical-align: middle;\n",
       "    }\n",
       "\n",
       "    .dataframe tbody tr th {\n",
       "        vertical-align: top;\n",
       "    }\n",
       "\n",
       "    .dataframe thead th {\n",
       "        text-align: right;\n",
       "    }\n",
       "</style>\n",
       "<table border=\"1\" class=\"dataframe\">\n",
       "  <thead>\n",
       "    <tr style=\"text-align: right;\">\n",
       "      <th></th>\n",
       "      <th>Content</th>\n",
       "      <th>aml</th>\n",
       "      <th>risk assessment</th>\n",
       "      <th>pep</th>\n",
       "      <th>guideline</th>\n",
       "      <th>cdd</th>\n",
       "      <th>safeguard</th>\n",
       "      <th>investor</th>\n",
       "      <th>risks</th>\n",
       "      <th>rules</th>\n",
       "      <th>...</th>\n",
       "      <th>regulations</th>\n",
       "      <th>policies</th>\n",
       "      <th>criminal</th>\n",
       "      <th>transactions</th>\n",
       "      <th>code of conduct</th>\n",
       "      <th>reporting</th>\n",
       "      <th>circular</th>\n",
       "      <th>vasps</th>\n",
       "      <th>transfer</th>\n",
       "      <th>conduct</th>\n",
       "    </tr>\n",
       "  </thead>\n",
       "  <tbody>\n",
       "    <tr>\n",
       "      <th>0</th>\n",
       "      <td>the new licensing regime for centralised virtu...</td>\n",
       "      <td>True</td>\n",
       "      <td>False</td>\n",
       "      <td>False</td>\n",
       "      <td>False</td>\n",
       "      <td>False</td>\n",
       "      <td>False</td>\n",
       "      <td>False</td>\n",
       "      <td>False</td>\n",
       "      <td>False</td>\n",
       "      <td>...</td>\n",
       "      <td>False</td>\n",
       "      <td>False</td>\n",
       "      <td>False</td>\n",
       "      <td>False</td>\n",
       "      <td>False</td>\n",
       "      <td>False</td>\n",
       "      <td>False</td>\n",
       "      <td>False</td>\n",
       "      <td>False</td>\n",
       "      <td>False</td>\n",
       "    </tr>\n",
       "    <tr>\n",
       "      <th>1</th>\n",
       "      <td>the sfc is issuing this circular to highlight ...</td>\n",
       "      <td>False</td>\n",
       "      <td>False</td>\n",
       "      <td>False</td>\n",
       "      <td>False</td>\n",
       "      <td>False</td>\n",
       "      <td>False</td>\n",
       "      <td>False</td>\n",
       "      <td>False</td>\n",
       "      <td>False</td>\n",
       "      <td>...</td>\n",
       "      <td>False</td>\n",
       "      <td>False</td>\n",
       "      <td>False</td>\n",
       "      <td>False</td>\n",
       "      <td>False</td>\n",
       "      <td>False</td>\n",
       "      <td>True</td>\n",
       "      <td>False</td>\n",
       "      <td>False</td>\n",
       "      <td>False</td>\n",
       "    </tr>\n",
       "    <tr>\n",
       "      <th>2</th>\n",
       "      <td>the sfc has published the following guidelines...</td>\n",
       "      <td>False</td>\n",
       "      <td>False</td>\n",
       "      <td>False</td>\n",
       "      <td>True</td>\n",
       "      <td>False</td>\n",
       "      <td>False</td>\n",
       "      <td>False</td>\n",
       "      <td>False</td>\n",
       "      <td>False</td>\n",
       "      <td>...</td>\n",
       "      <td>False</td>\n",
       "      <td>False</td>\n",
       "      <td>False</td>\n",
       "      <td>False</td>\n",
       "      <td>False</td>\n",
       "      <td>False</td>\n",
       "      <td>False</td>\n",
       "      <td>False</td>\n",
       "      <td>False</td>\n",
       "      <td>False</td>\n",
       "    </tr>\n",
       "  </tbody>\n",
       "</table>\n",
       "<p>3 rows × 56 columns</p>\n",
       "</div>"
      ],
      "text/plain": [
       "                                             Content    aml  risk assessment  \\\n",
       "0  the new licensing regime for centralised virtu...   True            False   \n",
       "1  the sfc is issuing this circular to highlight ...  False            False   \n",
       "2  the sfc has published the following guidelines...  False            False   \n",
       "\n",
       "     pep  guideline    cdd  safeguard  investor  risks  rules  ...  \\\n",
       "0  False      False  False      False     False  False  False  ...   \n",
       "1  False      False  False      False     False  False  False  ...   \n",
       "2  False       True  False      False     False  False  False  ...   \n",
       "\n",
       "   regulations  policies  criminal  transactions  code of conduct  reporting  \\\n",
       "0        False     False     False         False            False      False   \n",
       "1        False     False     False         False            False      False   \n",
       "2        False     False     False         False            False      False   \n",
       "\n",
       "   circular  vasps  transfer  conduct  \n",
       "0     False  False     False    False  \n",
       "1      True  False     False    False  \n",
       "2     False  False     False    False  \n",
       "\n",
       "[3 rows x 56 columns]"
      ]
     },
     "execution_count": 21,
     "metadata": {},
     "output_type": "execute_result"
    }
   ],
   "source": [
    "df.head(3)"
   ]
  },
  {
   "cell_type": "code",
   "execution_count": 22,
   "id": "9020051e",
   "metadata": {
    "execution": {
     "iopub.execute_input": "2024-06-05T05:39:07.768399Z",
     "iopub.status.busy": "2024-06-05T05:39:07.768078Z",
     "iopub.status.idle": "2024-06-05T05:39:07.772471Z",
     "shell.execute_reply": "2024-06-05T05:39:07.771524Z"
    },
    "papermill": {
     "duration": 0.028726,
     "end_time": "2024-06-05T05:39:07.774605",
     "exception": false,
     "start_time": "2024-06-05T05:39:07.745879",
     "status": "completed"
    },
    "tags": []
   },
   "outputs": [],
   "source": [
    "import pandas as pd\n",
    "from datasets import Dataset"
   ]
  },
  {
   "cell_type": "code",
   "execution_count": 23,
   "id": "2630f87a",
   "metadata": {
    "execution": {
     "iopub.execute_input": "2024-06-05T05:39:07.818551Z",
     "iopub.status.busy": "2024-06-05T05:39:07.818269Z",
     "iopub.status.idle": "2024-06-05T05:39:08.017965Z",
     "shell.execute_reply": "2024-06-05T05:39:08.017131Z"
    },
    "papermill": {
     "duration": 0.224033,
     "end_time": "2024-06-05T05:39:08.020165",
     "exception": false,
     "start_time": "2024-06-05T05:39:07.796132",
     "status": "completed"
    },
    "tags": []
   },
   "outputs": [],
   "source": [
    "#Splitting DataFrame into train, test, and validation sets\n",
    "train_df, test_valid_df = train_test_split(df, test_size=0.3, random_state=42)\n",
    "test_df, validation_df = train_test_split(test_valid_df, test_size=0.33, random_state=42)\n",
    "\n",
    "# Convert DataFrames to Hugging Face Datasets\n",
    "train_dataset = Dataset.from_pandas(train_df)\n",
    "test_dataset = Dataset.from_pandas(test_df)\n",
    "validation_dataset = Dataset.from_pandas(validation_df)\n",
    "\n",
    "# Create DatasetDict\n",
    "dataset = DatasetDict({\n",
    "    \"train\": train_dataset,\n",
    "    \"test\": test_dataset,\n",
    "    \"validation\": validation_dataset\n",
    "})\n",
    "\n",
    "\n"
   ]
  },
  {
   "cell_type": "code",
   "execution_count": 24,
   "id": "6cbff9e3",
   "metadata": {
    "execution": {
     "iopub.execute_input": "2024-06-05T05:39:08.058840Z",
     "iopub.status.busy": "2024-06-05T05:39:08.058570Z",
     "iopub.status.idle": "2024-06-05T05:39:08.064414Z",
     "shell.execute_reply": "2024-06-05T05:39:08.063579Z"
    },
    "papermill": {
     "duration": 0.02723,
     "end_time": "2024-06-05T05:39:08.066330",
     "exception": false,
     "start_time": "2024-06-05T05:39:08.039100",
     "status": "completed"
    },
    "tags": []
   },
   "outputs": [
    {
     "data": {
      "text/plain": [
       "DatasetDict({\n",
       "    train: Dataset({\n",
       "        features: ['Content', 'aml', 'risk assessment', 'pep', 'guideline', 'cdd', 'safeguard', 'investor', 'risks', 'rules', 'controls', 'risk management', 'rulebook', 'beneficiary information', 'operator', 'due diligence', 'audit', 'vasp', 'kyc', 'oversight', 'transaction', 'cft', 'virtual assets', 'requirements', 'monitoring', 'anti-bribery', 'policy', 'compliance', 'legal', 'record keeping', 'client', 'suspicious transactions', 'entities', 'person', 'travel rule', 'insider dealing', 'regulator', 'screening', 'authority', 'disclosure', 'sanctions', 'dlt', 'legislation', 'license', 'investor protection', 'identity', 'regulations', 'policies', 'criminal', 'transactions', 'code of conduct', 'reporting', 'circular', 'vasps', 'transfer', 'conduct', '__index_level_0__'],\n",
       "        num_rows: 3769\n",
       "    })\n",
       "    test: Dataset({\n",
       "        features: ['Content', 'aml', 'risk assessment', 'pep', 'guideline', 'cdd', 'safeguard', 'investor', 'risks', 'rules', 'controls', 'risk management', 'rulebook', 'beneficiary information', 'operator', 'due diligence', 'audit', 'vasp', 'kyc', 'oversight', 'transaction', 'cft', 'virtual assets', 'requirements', 'monitoring', 'anti-bribery', 'policy', 'compliance', 'legal', 'record keeping', 'client', 'suspicious transactions', 'entities', 'person', 'travel rule', 'insider dealing', 'regulator', 'screening', 'authority', 'disclosure', 'sanctions', 'dlt', 'legislation', 'license', 'investor protection', 'identity', 'regulations', 'policies', 'criminal', 'transactions', 'code of conduct', 'reporting', 'circular', 'vasps', 'transfer', 'conduct', '__index_level_0__'],\n",
       "        num_rows: 1082\n",
       "    })\n",
       "    validation: Dataset({\n",
       "        features: ['Content', 'aml', 'risk assessment', 'pep', 'guideline', 'cdd', 'safeguard', 'investor', 'risks', 'rules', 'controls', 'risk management', 'rulebook', 'beneficiary information', 'operator', 'due diligence', 'audit', 'vasp', 'kyc', 'oversight', 'transaction', 'cft', 'virtual assets', 'requirements', 'monitoring', 'anti-bribery', 'policy', 'compliance', 'legal', 'record keeping', 'client', 'suspicious transactions', 'entities', 'person', 'travel rule', 'insider dealing', 'regulator', 'screening', 'authority', 'disclosure', 'sanctions', 'dlt', 'legislation', 'license', 'investor protection', 'identity', 'regulations', 'policies', 'criminal', 'transactions', 'code of conduct', 'reporting', 'circular', 'vasps', 'transfer', 'conduct', '__index_level_0__'],\n",
       "        num_rows: 534\n",
       "    })\n",
       "})"
      ]
     },
     "execution_count": 24,
     "metadata": {},
     "output_type": "execute_result"
    }
   ],
   "source": [
    "dataset"
   ]
  },
  {
   "cell_type": "code",
   "execution_count": 25,
   "id": "1b5444be",
   "metadata": {
    "execution": {
     "iopub.execute_input": "2024-06-05T05:39:08.105982Z",
     "iopub.status.busy": "2024-06-05T05:39:08.105364Z",
     "iopub.status.idle": "2024-06-05T05:39:10.475783Z",
     "shell.execute_reply": "2024-06-05T05:39:10.474854Z"
    },
    "papermill": {
     "duration": 2.392622,
     "end_time": "2024-06-05T05:39:10.478019",
     "exception": false,
     "start_time": "2024-06-05T05:39:08.085397",
     "status": "completed"
    },
    "tags": []
   },
   "outputs": [
    {
     "data": {
      "text/plain": [
       "[{'Content': 'a shall not by itself render that person liable to any judicial or other proceedings but in any proceedings under the sfo andor the amlo before any court these guidelines shall be admissible in evidence and if any provision set out in these guidelines appears to the court to be relevant to any question arising in the proceedings it shall be taken into account in determining the question and',\n",
       "  'aml': True,\n",
       "  'risk assessment': False,\n",
       "  'pep': False,\n",
       "  'guideline': True,\n",
       "  'cdd': False,\n",
       "  'safeguard': False,\n",
       "  'investor': False,\n",
       "  'risks': False,\n",
       "  'rules': False,\n",
       "  'controls': False,\n",
       "  'risk management': False,\n",
       "  'rulebook': False,\n",
       "  'beneficiary information': False,\n",
       "  'operator': False,\n",
       "  'due diligence': False,\n",
       "  'audit': False,\n",
       "  'vasp': False,\n",
       "  'kyc': False,\n",
       "  'oversight': False,\n",
       "  'transaction': False,\n",
       "  'cft': False,\n",
       "  'virtual assets': False,\n",
       "  'requirements': False,\n",
       "  'monitoring': False,\n",
       "  'anti-bribery': False,\n",
       "  'policy': False,\n",
       "  'compliance': False,\n",
       "  'legal': False,\n",
       "  'record keeping': False,\n",
       "  'client': False,\n",
       "  'suspicious transactions': False,\n",
       "  'entities': False,\n",
       "  'person': False,\n",
       "  'travel rule': False,\n",
       "  'insider dealing': False,\n",
       "  'regulator': False,\n",
       "  'screening': False,\n",
       "  'authority': False,\n",
       "  'disclosure': False,\n",
       "  'sanctions': False,\n",
       "  'dlt': False,\n",
       "  'legislation': False,\n",
       "  'license': False,\n",
       "  'investor protection': False,\n",
       "  'identity': False,\n",
       "  'regulations': False,\n",
       "  'policies': False,\n",
       "  'criminal': False,\n",
       "  'transactions': False,\n",
       "  'code of conduct': False,\n",
       "  'reporting': False,\n",
       "  'circular': False,\n",
       "  'vasps': False,\n",
       "  'transfer': False,\n",
       "  'conduct': False,\n",
       "  '__index_level_0__': 4768},\n",
       " {'Content': 'as mentioned transactions in the securities sector may prove attractive to money launderers due to the liquidity of the reference markets the combination of the ability to readily liquidate investment portfolios procured with both licit and illicit proceeds the ability to conceal the source of the illicit proceeds the availability of a vast array of possible investment mediums and the ease with which transfers can be effected between them offers money launderers attractive ways to effectively integrate criminal proceeds into the general economy',\n",
       "  'aml': True,\n",
       "  'risk assessment': False,\n",
       "  'pep': False,\n",
       "  'guideline': False,\n",
       "  'cdd': False,\n",
       "  'safeguard': False,\n",
       "  'investor': False,\n",
       "  'risks': False,\n",
       "  'rules': False,\n",
       "  'controls': False,\n",
       "  'risk management': False,\n",
       "  'rulebook': False,\n",
       "  'beneficiary information': False,\n",
       "  'operator': False,\n",
       "  'due diligence': False,\n",
       "  'audit': False,\n",
       "  'vasp': False,\n",
       "  'kyc': False,\n",
       "  'oversight': False,\n",
       "  'transaction': False,\n",
       "  'cft': False,\n",
       "  'virtual assets': True,\n",
       "  'requirements': False,\n",
       "  'monitoring': False,\n",
       "  'anti-bribery': False,\n",
       "  'policy': False,\n",
       "  'compliance': False,\n",
       "  'legal': False,\n",
       "  'record keeping': False,\n",
       "  'client': False,\n",
       "  'suspicious transactions': False,\n",
       "  'entities': False,\n",
       "  'person': False,\n",
       "  'travel rule': False,\n",
       "  'insider dealing': False,\n",
       "  'regulator': False,\n",
       "  'screening': False,\n",
       "  'authority': False,\n",
       "  'disclosure': False,\n",
       "  'sanctions': False,\n",
       "  'dlt': False,\n",
       "  'legislation': False,\n",
       "  'license': False,\n",
       "  'investor protection': False,\n",
       "  'identity': False,\n",
       "  'regulations': False,\n",
       "  'policies': False,\n",
       "  'criminal': True,\n",
       "  'transactions': False,\n",
       "  'code of conduct': False,\n",
       "  'reporting': False,\n",
       "  'circular': False,\n",
       "  'vasps': False,\n",
       "  'transfer': True,\n",
       "  'conduct': False,\n",
       "  '__index_level_0__': 2053}]"
      ]
     },
     "execution_count": 25,
     "metadata": {},
     "output_type": "execute_result"
    }
   ],
   "source": [
    "[i for i in dataset['train']][:2]"
   ]
  },
  {
   "cell_type": "markdown",
   "id": "c069d610",
   "metadata": {
    "papermill": {
     "duration": 0.018757,
     "end_time": "2024-06-05T05:39:10.515761",
     "exception": false,
     "start_time": "2024-06-05T05:39:10.497004",
     "status": "completed"
    },
    "tags": []
   },
   "source": [
    "# Data Ready Now Training"
   ]
  },
  {
   "cell_type": "code",
   "execution_count": 26,
   "id": "1aa499dd",
   "metadata": {
    "execution": {
     "iopub.execute_input": "2024-06-05T05:39:10.554753Z",
     "iopub.status.busy": "2024-06-05T05:39:10.554204Z",
     "iopub.status.idle": "2024-06-05T05:39:13.615517Z",
     "shell.execute_reply": "2024-06-05T05:39:13.614383Z"
    },
    "papermill": {
     "duration": 3.083473,
     "end_time": "2024-06-05T05:39:13.617962",
     "exception": false,
     "start_time": "2024-06-05T05:39:10.534489",
     "status": "completed"
    },
    "tags": []
   },
   "outputs": [
    {
     "name": "stdout",
     "output_type": "stream",
     "text": [
      "\u001b[31mERROR: Could not install packages due to an OSError: [Errno 2] No such file or directory: '/opt/conda/lib/python3.10/site-packages/aiohttp-3.9.1.dist-info/METADATA'\r\n",
      "\u001b[0m\u001b[31m\r\n",
      "\u001b[0m"
     ]
    }
   ],
   "source": [
    "!pip install -q transformers datasets"
   ]
  },
  {
   "cell_type": "markdown",
   "id": "e1f209bc",
   "metadata": {
    "papermill": {
     "duration": 0.018514,
     "end_time": "2024-06-05T05:39:13.655552",
     "exception": false,
     "start_time": "2024-06-05T05:39:13.637038",
     "status": "completed"
    },
    "tags": []
   },
   "source": [
    "Add a linear layer on top of the base model, which is used to produce a tensor of shape (batch_size, num_labels), indicating the unnormalized scores for a number of labels for every example in the batch."
   ]
  },
  {
   "cell_type": "markdown",
   "id": "49ba8da1",
   "metadata": {
    "papermill": {
     "duration": 0.018502,
     "end_time": "2024-06-05T05:39:13.692719",
     "exception": false,
     "start_time": "2024-06-05T05:39:13.674217",
     "status": "completed"
    },
    "tags": []
   },
   "source": [
    "### List containing all the labels"
   ]
  },
  {
   "cell_type": "code",
   "execution_count": 27,
   "id": "2d743f22",
   "metadata": {
    "execution": {
     "iopub.execute_input": "2024-06-05T05:39:13.731723Z",
     "iopub.status.busy": "2024-06-05T05:39:13.731374Z",
     "iopub.status.idle": "2024-06-05T05:39:13.742253Z",
     "shell.execute_reply": "2024-06-05T05:39:13.741393Z"
    },
    "papermill": {
     "duration": 0.032728,
     "end_time": "2024-06-05T05:39:13.744091",
     "exception": false,
     "start_time": "2024-06-05T05:39:13.711363",
     "status": "completed"
    },
    "tags": []
   },
   "outputs": [
    {
     "data": {
      "text/plain": [
       "['aml',\n",
       " 'risk assessment',\n",
       " 'pep',\n",
       " 'guideline',\n",
       " 'cdd',\n",
       " 'safeguard',\n",
       " 'investor',\n",
       " 'risks',\n",
       " 'rules',\n",
       " 'controls',\n",
       " 'risk management',\n",
       " 'rulebook',\n",
       " 'beneficiary information',\n",
       " 'operator',\n",
       " 'due diligence',\n",
       " 'audit',\n",
       " 'vasp',\n",
       " 'kyc',\n",
       " 'oversight',\n",
       " 'transaction',\n",
       " 'cft',\n",
       " 'virtual assets',\n",
       " 'requirements',\n",
       " 'monitoring',\n",
       " 'anti-bribery',\n",
       " 'policy',\n",
       " 'compliance',\n",
       " 'legal',\n",
       " 'record keeping',\n",
       " 'client',\n",
       " 'suspicious transactions',\n",
       " 'entities',\n",
       " 'person',\n",
       " 'travel rule',\n",
       " 'insider dealing',\n",
       " 'regulator',\n",
       " 'screening',\n",
       " 'authority',\n",
       " 'disclosure',\n",
       " 'sanctions',\n",
       " 'dlt',\n",
       " 'legislation',\n",
       " 'license',\n",
       " 'investor protection',\n",
       " 'identity',\n",
       " 'regulations',\n",
       " 'policies',\n",
       " 'criminal',\n",
       " 'transactions',\n",
       " 'code of conduct',\n",
       " 'reporting',\n",
       " 'circular',\n",
       " 'vasps',\n",
       " 'transfer',\n",
       " 'conduct']"
      ]
     },
     "execution_count": 27,
     "metadata": {},
     "output_type": "execute_result"
    }
   ],
   "source": [
    "labels = [label for label in dataset['train'].features.keys() if label not in ['Content','__index_level_0__']]\n",
    "#Create 2 dictionaries that map labels to integers and back.\n",
    "id2label = {idx:label for idx, label in enumerate(labels)}\n",
    "label2id = {label:idx for idx, label in enumerate(labels)}\n",
    "labels"
   ]
  },
  {
   "cell_type": "code",
   "execution_count": 28,
   "id": "f02396d6",
   "metadata": {
    "execution": {
     "iopub.execute_input": "2024-06-05T05:39:13.782962Z",
     "iopub.status.busy": "2024-06-05T05:39:13.782640Z",
     "iopub.status.idle": "2024-06-05T05:39:13.789989Z",
     "shell.execute_reply": "2024-06-05T05:39:13.789160Z"
    },
    "papermill": {
     "duration": 0.029098,
     "end_time": "2024-06-05T05:39:13.791926",
     "exception": false,
     "start_time": "2024-06-05T05:39:13.762828",
     "status": "completed"
    },
    "tags": []
   },
   "outputs": [
    {
     "data": {
      "text/plain": [
       "{0: 'aml',\n",
       " 1: 'risk assessment',\n",
       " 2: 'pep',\n",
       " 3: 'guideline',\n",
       " 4: 'cdd',\n",
       " 5: 'safeguard',\n",
       " 6: 'investor',\n",
       " 7: 'risks',\n",
       " 8: 'rules',\n",
       " 9: 'controls',\n",
       " 10: 'risk management',\n",
       " 11: 'rulebook',\n",
       " 12: 'beneficiary information',\n",
       " 13: 'operator',\n",
       " 14: 'due diligence',\n",
       " 15: 'audit',\n",
       " 16: 'vasp',\n",
       " 17: 'kyc',\n",
       " 18: 'oversight',\n",
       " 19: 'transaction',\n",
       " 20: 'cft',\n",
       " 21: 'virtual assets',\n",
       " 22: 'requirements',\n",
       " 23: 'monitoring',\n",
       " 24: 'anti-bribery',\n",
       " 25: 'policy',\n",
       " 26: 'compliance',\n",
       " 27: 'legal',\n",
       " 28: 'record keeping',\n",
       " 29: 'client',\n",
       " 30: 'suspicious transactions',\n",
       " 31: 'entities',\n",
       " 32: 'person',\n",
       " 33: 'travel rule',\n",
       " 34: 'insider dealing',\n",
       " 35: 'regulator',\n",
       " 36: 'screening',\n",
       " 37: 'authority',\n",
       " 38: 'disclosure',\n",
       " 39: 'sanctions',\n",
       " 40: 'dlt',\n",
       " 41: 'legislation',\n",
       " 42: 'license',\n",
       " 43: 'investor protection',\n",
       " 44: 'identity',\n",
       " 45: 'regulations',\n",
       " 46: 'policies',\n",
       " 47: 'criminal',\n",
       " 48: 'transactions',\n",
       " 49: 'code of conduct',\n",
       " 50: 'reporting',\n",
       " 51: 'circular',\n",
       " 52: 'vasps',\n",
       " 53: 'transfer',\n",
       " 54: 'conduct'}"
      ]
     },
     "execution_count": 28,
     "metadata": {},
     "output_type": "execute_result"
    }
   ],
   "source": [
    "id2label"
   ]
  },
  {
   "cell_type": "code",
   "execution_count": null,
   "id": "9269c133",
   "metadata": {
    "papermill": {
     "duration": 0.018785,
     "end_time": "2024-06-05T05:39:13.829476",
     "exception": false,
     "start_time": "2024-06-05T05:39:13.810691",
     "status": "completed"
    },
    "tags": []
   },
   "outputs": [],
   "source": []
  },
  {
   "cell_type": "markdown",
   "id": "1c2ebe7f",
   "metadata": {
    "papermill": {
     "duration": 0.018873,
     "end_time": "2024-06-05T05:39:13.867469",
     "exception": false,
     "start_time": "2024-06-05T05:39:13.848596",
     "status": "completed"
    },
    "tags": []
   },
   "source": [
    "# Tokenization"
   ]
  },
  {
   "cell_type": "markdown",
   "id": "cc963146",
   "metadata": {
    "papermill": {
     "duration": 0.019184,
     "end_time": "2024-06-05T05:39:13.905658",
     "exception": false,
     "start_time": "2024-06-05T05:39:13.886474",
     "status": "completed"
    },
    "tags": []
   },
   "source": [
    "### As models like BERT don't expect text as direct input, but rather input_ids, etc., we tokenize the text using the tokenizer. We will use AutoTokenizer API, which will automatically load the appropriate tokenizer based on the checkpoint on the hub.\n",
    "\n",
    "### What's a bit tricky is that we also need to provide labels to the model. For multi-label text classification, this is a matrix of shape (batch_size, num_labels). Also important: this should be a tensor of floats rather than integers, otherwise PyTorch' BCEWithLogitsLoss (which the model will use) will complain"
   ]
  },
  {
   "cell_type": "code",
   "execution_count": 29,
   "id": "702de953",
   "metadata": {
    "execution": {
     "iopub.execute_input": "2024-06-05T05:39:13.945107Z",
     "iopub.status.busy": "2024-06-05T05:39:13.944774Z",
     "iopub.status.idle": "2024-06-05T05:39:19.153843Z",
     "shell.execute_reply": "2024-06-05T05:39:19.152934Z"
    },
    "papermill": {
     "duration": 5.231747,
     "end_time": "2024-06-05T05:39:19.156374",
     "exception": false,
     "start_time": "2024-06-05T05:39:13.924627",
     "status": "completed"
    },
    "tags": []
   },
   "outputs": [
    {
     "data": {
      "application/vnd.jupyter.widget-view+json": {
       "model_id": "58158b840eee413fa7f3b7b85a02cae6",
       "version_major": 2,
       "version_minor": 0
      },
      "text/plain": [
       "tokenizer_config.json:   0%|          | 0.00/252 [00:00<?, ?B/s]"
      ]
     },
     "metadata": {},
     "output_type": "display_data"
    },
    {
     "name": "stderr",
     "output_type": "stream",
     "text": [
      "/opt/conda/lib/python3.10/site-packages/huggingface_hub/file_download.py:1132: FutureWarning: `resume_download` is deprecated and will be removed in version 1.0.0. Downloads always resume when possible. If you want to force a new download, use `force_download=True`.\n",
      "  warnings.warn(\n"
     ]
    },
    {
     "data": {
      "application/vnd.jupyter.widget-view+json": {
       "model_id": "a2b35a45452f4237afb3ed1f712d4e86",
       "version_major": 2,
       "version_minor": 0
      },
      "text/plain": [
       "config.json:   0%|          | 0.00/758 [00:00<?, ?B/s]"
      ]
     },
     "metadata": {},
     "output_type": "display_data"
    },
    {
     "data": {
      "application/vnd.jupyter.widget-view+json": {
       "model_id": "c5a27d9b76fd45e5bbcd6826499ee93a",
       "version_major": 2,
       "version_minor": 0
      },
      "text/plain": [
       "vocab.txt:   0%|          | 0.00/232k [00:00<?, ?B/s]"
      ]
     },
     "metadata": {},
     "output_type": "display_data"
    },
    {
     "data": {
      "application/vnd.jupyter.widget-view+json": {
       "model_id": "ac18e9d5b9a8489796e9ab186fcbc11b",
       "version_major": 2,
       "version_minor": 0
      },
      "text/plain": [
       "special_tokens_map.json:   0%|          | 0.00/112 [00:00<?, ?B/s]"
      ]
     },
     "metadata": {},
     "output_type": "display_data"
    }
   ],
   "source": [
    "from transformers import AutoTokenizer\n",
    "import numpy as np\n",
    "\n",
    "tokenizer = AutoTokenizer.from_pretrained(\"ProsusAI/finbert\")\n",
    "\n",
    "def preprocess_data(examples, max_length=128):\n",
    "  # take a batch of texts\n",
    "  text = examples['Content']\n",
    "  batch_size = len(text)\n",
    "  # encode them\n",
    "  encoding = tokenizer(text, padding=\"max_length\", truncation=True, max_length=max_length)\n",
    "  # add labels\n",
    "  labels_batch = {k: examples[k] for k in examples.keys() if k in labels}\n",
    "  # create numpy array of shape (batch_size, num_labels)\n",
    "  labels_matrix = np.zeros((len(text), len(labels)))\n",
    "  # fill numpy array\n",
    "  for idx, label in enumerate(labels):\n",
    "    labels_matrix[:, idx] = labels_batch[label]\n",
    "\n",
    "  encoding[\"labels\"] = labels_matrix.tolist()\n",
    "  \n",
    "  return encoding"
   ]
  },
  {
   "cell_type": "code",
   "execution_count": 30,
   "id": "36a8f67f",
   "metadata": {
    "execution": {
     "iopub.execute_input": "2024-06-05T05:39:19.205830Z",
     "iopub.status.busy": "2024-06-05T05:39:19.204693Z",
     "iopub.status.idle": "2024-06-05T05:39:20.494128Z",
     "shell.execute_reply": "2024-06-05T05:39:20.493231Z"
    },
    "papermill": {
     "duration": 1.315871,
     "end_time": "2024-06-05T05:39:20.496051",
     "exception": false,
     "start_time": "2024-06-05T05:39:19.180180",
     "status": "completed"
    },
    "tags": []
   },
   "outputs": [
    {
     "data": {
      "application/vnd.jupyter.widget-view+json": {
       "model_id": "2724ea11930c45e699e774bbac078937",
       "version_major": 2,
       "version_minor": 0
      },
      "text/plain": [
       "Map:   0%|          | 0/3769 [00:00<?, ? examples/s]"
      ]
     },
     "metadata": {},
     "output_type": "display_data"
    },
    {
     "data": {
      "application/vnd.jupyter.widget-view+json": {
       "model_id": "19d34cfc6b8b4f9eb4c12808855eba9a",
       "version_major": 2,
       "version_minor": 0
      },
      "text/plain": [
       "Map:   0%|          | 0/1082 [00:00<?, ? examples/s]"
      ]
     },
     "metadata": {},
     "output_type": "display_data"
    },
    {
     "data": {
      "application/vnd.jupyter.widget-view+json": {
       "model_id": "792e349cf1b94358a39c0010c5259318",
       "version_major": 2,
       "version_minor": 0
      },
      "text/plain": [
       "Map:   0%|          | 0/534 [00:00<?, ? examples/s]"
      ]
     },
     "metadata": {},
     "output_type": "display_data"
    }
   ],
   "source": [
    "encoded_dataset = dataset.map(preprocess_data, batched=True, remove_columns=dataset['train'].column_names)"
   ]
  },
  {
   "cell_type": "code",
   "execution_count": 31,
   "id": "9de9ee4c",
   "metadata": {
    "execution": {
     "iopub.execute_input": "2024-06-05T05:39:20.539125Z",
     "iopub.status.busy": "2024-06-05T05:39:20.538788Z",
     "iopub.status.idle": "2024-06-05T05:39:20.544555Z",
     "shell.execute_reply": "2024-06-05T05:39:20.543581Z"
    },
    "papermill": {
     "duration": 0.029277,
     "end_time": "2024-06-05T05:39:20.546544",
     "exception": false,
     "start_time": "2024-06-05T05:39:20.517267",
     "status": "completed"
    },
    "tags": []
   },
   "outputs": [
    {
     "data": {
      "text/plain": [
       "DatasetDict({\n",
       "    train: Dataset({\n",
       "        features: ['input_ids', 'token_type_ids', 'attention_mask', 'labels'],\n",
       "        num_rows: 3769\n",
       "    })\n",
       "    test: Dataset({\n",
       "        features: ['input_ids', 'token_type_ids', 'attention_mask', 'labels'],\n",
       "        num_rows: 1082\n",
       "    })\n",
       "    validation: Dataset({\n",
       "        features: ['input_ids', 'token_type_ids', 'attention_mask', 'labels'],\n",
       "        num_rows: 534\n",
       "    })\n",
       "})"
      ]
     },
     "execution_count": 31,
     "metadata": {},
     "output_type": "execute_result"
    }
   ],
   "source": [
    "encoded_dataset"
   ]
  },
  {
   "cell_type": "code",
   "execution_count": 32,
   "id": "c278f4b8",
   "metadata": {
    "execution": {
     "iopub.execute_input": "2024-06-05T05:39:20.588776Z",
     "iopub.status.busy": "2024-06-05T05:39:20.588478Z",
     "iopub.status.idle": "2024-06-05T05:39:20.593943Z",
     "shell.execute_reply": "2024-06-05T05:39:20.593089Z"
    },
    "papermill": {
     "duration": 0.028702,
     "end_time": "2024-06-05T05:39:20.595893",
     "exception": false,
     "start_time": "2024-06-05T05:39:20.567191",
     "status": "completed"
    },
    "tags": []
   },
   "outputs": [
    {
     "data": {
      "text/plain": [
       "Dataset({\n",
       "    features: ['input_ids', 'token_type_ids', 'attention_mask', 'labels'],\n",
       "    num_rows: 3769\n",
       "})"
      ]
     },
     "execution_count": 32,
     "metadata": {},
     "output_type": "execute_result"
    }
   ],
   "source": [
    "encoded_dataset['train']"
   ]
  },
  {
   "cell_type": "code",
   "execution_count": 33,
   "id": "2d9bd2d5",
   "metadata": {
    "execution": {
     "iopub.execute_input": "2024-06-05T05:39:20.638199Z",
     "iopub.status.busy": "2024-06-05T05:39:20.637808Z",
     "iopub.status.idle": "2024-06-05T05:39:30.967411Z",
     "shell.execute_reply": "2024-06-05T05:39:30.966517Z"
    },
    "papermill": {
     "duration": 10.353355,
     "end_time": "2024-06-05T05:39:30.969764",
     "exception": false,
     "start_time": "2024-06-05T05:39:20.616409",
     "status": "completed"
    },
    "tags": []
   },
   "outputs": [
    {
     "name": "stderr",
     "output_type": "stream",
     "text": [
      "2024-06-05 05:39:22.157748: E external/local_xla/xla/stream_executor/cuda/cuda_dnn.cc:9261] Unable to register cuDNN factory: Attempting to register factory for plugin cuDNN when one has already been registered\n",
      "2024-06-05 05:39:22.157868: E external/local_xla/xla/stream_executor/cuda/cuda_fft.cc:607] Unable to register cuFFT factory: Attempting to register factory for plugin cuFFT when one has already been registered\n",
      "2024-06-05 05:39:22.259335: E external/local_xla/xla/stream_executor/cuda/cuda_blas.cc:1515] Unable to register cuBLAS factory: Attempting to register factory for plugin cuBLAS when one has already been registered\n"
     ]
    },
    {
     "data": {
      "text/plain": [
       "'[CLS] a shall not by itself render that person liable to any judicial or other proceedings but in any proceedings under the sfo andor the amlo before any court these guidelines shall be admissible in evidence and if any provision set out in these guidelines appears to the court to be relevant to any question arising in the proceedings it shall be taken into account in determining the question and [SEP] [PAD] [PAD] [PAD] [PAD] [PAD] [PAD] [PAD] [PAD] [PAD] [PAD] [PAD] [PAD] [PAD] [PAD] [PAD] [PAD] [PAD] [PAD] [PAD] [PAD] [PAD] [PAD] [PAD] [PAD] [PAD] [PAD] [PAD] [PAD] [PAD] [PAD] [PAD] [PAD] [PAD] [PAD] [PAD] [PAD] [PAD] [PAD] [PAD] [PAD] [PAD] [PAD] [PAD] [PAD] [PAD] [PAD] [PAD] [PAD] [PAD] [PAD] [PAD] [PAD] [PAD]'"
      ]
     },
     "execution_count": 33,
     "metadata": {},
     "output_type": "execute_result"
    }
   ],
   "source": [
    "example = encoded_dataset['train'][0]\n",
    "tokenizer.decode(example['input_ids'])"
   ]
  },
  {
   "cell_type": "code",
   "execution_count": 34,
   "id": "140642f3",
   "metadata": {
    "execution": {
     "iopub.execute_input": "2024-06-05T05:39:31.013878Z",
     "iopub.status.busy": "2024-06-05T05:39:31.013295Z",
     "iopub.status.idle": "2024-06-05T05:39:31.017338Z",
     "shell.execute_reply": "2024-06-05T05:39:31.016537Z"
    },
    "papermill": {
     "duration": 0.02775,
     "end_time": "2024-06-05T05:39:31.019325",
     "exception": false,
     "start_time": "2024-06-05T05:39:30.991575",
     "status": "completed"
    },
    "tags": []
   },
   "outputs": [],
   "source": [
    "#example['labels']"
   ]
  },
  {
   "cell_type": "code",
   "execution_count": 35,
   "id": "45cbde59",
   "metadata": {
    "execution": {
     "iopub.execute_input": "2024-06-05T05:39:31.068240Z",
     "iopub.status.busy": "2024-06-05T05:39:31.067415Z",
     "iopub.status.idle": "2024-06-05T05:39:31.073818Z",
     "shell.execute_reply": "2024-06-05T05:39:31.072909Z"
    },
    "papermill": {
     "duration": 0.034303,
     "end_time": "2024-06-05T05:39:31.076029",
     "exception": false,
     "start_time": "2024-06-05T05:39:31.041726",
     "status": "completed"
    },
    "tags": []
   },
   "outputs": [],
   "source": [
    "#use id to label dictionary\n",
    "[id2label[idx] for idx, label in enumerate(example['labels']) if label == 1.0]\n",
    "encoded_dataset.set_format(\"torch\") "
   ]
  },
  {
   "cell_type": "markdown",
   "id": "e61777f5",
   "metadata": {
    "papermill": {
     "duration": 0.023987,
     "end_time": "2024-06-05T05:39:31.124372",
     "exception": false,
     "start_time": "2024-06-05T05:39:31.100385",
     "status": "completed"
    },
    "tags": []
   },
   "source": [
    "### Here we define a model that includes a pre-trained base (i.e. the weights from bert-base-uncased) are loaded, with a random initialized classification head (linear layer) on top. One should fine-tune this head, together with the pre-trained base on a labeled dataset.\n",
    "\n",
    "### We set the problem_type to be \"multi_label_classification\", as this will make sure the appropriate loss function is used (namely BCEWithLogitsLoss). We also make sure the output layer has len(labels) output neurons, and we set the id2label and label2id mappings"
   ]
  },
  {
   "cell_type": "code",
   "execution_count": 36,
   "id": "51fc2d42",
   "metadata": {
    "execution": {
     "iopub.execute_input": "2024-06-05T05:39:31.174479Z",
     "iopub.status.busy": "2024-06-05T05:39:31.173683Z",
     "iopub.status.idle": "2024-06-05T05:39:36.486649Z",
     "shell.execute_reply": "2024-06-05T05:39:36.485881Z"
    },
    "papermill": {
     "duration": 5.34092,
     "end_time": "2024-06-05T05:39:36.488871",
     "exception": false,
     "start_time": "2024-06-05T05:39:31.147951",
     "status": "completed"
    },
    "tags": []
   },
   "outputs": [
    {
     "data": {
      "application/vnd.jupyter.widget-view+json": {
       "model_id": "353f13284c4c470d91b031dea9fbdc62",
       "version_major": 2,
       "version_minor": 0
      },
      "text/plain": [
       "pytorch_model.bin:   0%|          | 0.00/438M [00:00<?, ?B/s]"
      ]
     },
     "metadata": {},
     "output_type": "display_data"
    },
    {
     "name": "stderr",
     "output_type": "stream",
     "text": [
      "/opt/conda/lib/python3.10/site-packages/torch/_utils.py:831: UserWarning: TypedStorage is deprecated. It will be removed in the future and UntypedStorage will be the only storage class. This should only matter to you if you are using storages directly.  To access UntypedStorage directly, use tensor.untyped_storage() instead of tensor.storage()\n",
      "  return self.fget.__get__(instance, owner)()\n",
      "Some weights of BertForSequenceClassification were not initialized from the model checkpoint at ProsusAI/finbert and are newly initialized because the shapes did not match:\n",
      "- classifier.weight: found shape torch.Size([3, 768]) in the checkpoint and torch.Size([55, 768]) in the model instantiated\n",
      "- classifier.bias: found shape torch.Size([3]) in the checkpoint and torch.Size([55]) in the model instantiated\n",
      "You should probably TRAIN this model on a down-stream task to be able to use it for predictions and inference.\n"
     ]
    }
   ],
   "source": [
    "from transformers import AutoModelForSequenceClassification\n",
    "\n",
    "model = AutoModelForSequenceClassification.from_pretrained(\"ProsusAI/finbert\", \n",
    "                                                           problem_type=\"multi_label_classification\", \n",
    "                                                           num_labels=len(labels),\n",
    "                                                           id2label=id2label,\n",
    "                                                           label2id=label2id,\n",
    "                                                          ignore_mismatched_sizes=True )"
   ]
  },
  {
   "cell_type": "code",
   "execution_count": 37,
   "id": "4e5767d4",
   "metadata": {
    "execution": {
     "iopub.execute_input": "2024-06-05T05:39:36.534079Z",
     "iopub.status.busy": "2024-06-05T05:39:36.533429Z",
     "iopub.status.idle": "2024-06-05T05:39:36.537451Z",
     "shell.execute_reply": "2024-06-05T05:39:36.536586Z"
    },
    "papermill": {
     "duration": 0.02876,
     "end_time": "2024-06-05T05:39:36.539422",
     "exception": false,
     "start_time": "2024-06-05T05:39:36.510662",
     "status": "completed"
    },
    "tags": []
   },
   "outputs": [],
   "source": [
    "batch_size = 16\n",
    "metric_name = \"f1\""
   ]
  },
  {
   "cell_type": "code",
   "execution_count": 38,
   "id": "e9664a09",
   "metadata": {
    "execution": {
     "iopub.execute_input": "2024-06-05T05:39:36.584144Z",
     "iopub.status.busy": "2024-06-05T05:39:36.583456Z",
     "iopub.status.idle": "2024-06-05T05:39:36.741201Z",
     "shell.execute_reply": "2024-06-05T05:39:36.740212Z"
    },
    "papermill": {
     "duration": 0.182809,
     "end_time": "2024-06-05T05:39:36.743728",
     "exception": false,
     "start_time": "2024-06-05T05:39:36.560919",
     "status": "completed"
    },
    "tags": []
   },
   "outputs": [
    {
     "name": "stderr",
     "output_type": "stream",
     "text": [
      "/opt/conda/lib/python3.10/site-packages/transformers/training_args.py:1474: FutureWarning: `evaluation_strategy` is deprecated and will be removed in version 4.46 of 🤗 Transformers. Use `eval_strategy` instead\n",
      "  warnings.warn(\n"
     ]
    }
   ],
   "source": [
    "from transformers import TrainingArguments, Trainer\n",
    "\n",
    "args = TrainingArguments(\n",
    "    f\"bert-finetuned-sem_eval-english\",\n",
    "    evaluation_strategy = \"epoch\",\n",
    "    save_strategy = \"epoch\",\n",
    "    learning_rate=1e-4,\n",
    "    per_device_train_batch_size=batch_size,\n",
    "    per_device_eval_batch_size=batch_size,\n",
    "    num_train_epochs=10,\n",
    "    weight_decay=0.01,\n",
    "    load_best_model_at_end=True,\n",
    "    metric_for_best_model=metric_name\n",
    ")"
   ]
  },
  {
   "cell_type": "markdown",
   "id": "7cef1913",
   "metadata": {
    "papermill": {
     "duration": 0.021374,
     "end_time": "2024-06-05T05:39:36.790690",
     "exception": false,
     "start_time": "2024-06-05T05:39:36.769316",
     "status": "completed"
    },
    "tags": []
   },
   "source": [
    "we need to define a compute_metrics function, that returns a dictionary with the desired metric values.\n",
    "\n",
    "source: https://jesusleal.io/2021/04/21/Longformer-multilabel-classification/"
   ]
  },
  {
   "cell_type": "code",
   "execution_count": 39,
   "id": "8db0dde9",
   "metadata": {
    "execution": {
     "iopub.execute_input": "2024-06-05T05:39:36.834895Z",
     "iopub.status.busy": "2024-06-05T05:39:36.834211Z",
     "iopub.status.idle": "2024-06-05T05:39:36.842337Z",
     "shell.execute_reply": "2024-06-05T05:39:36.841451Z"
    },
    "papermill": {
     "duration": 0.032305,
     "end_time": "2024-06-05T05:39:36.844247",
     "exception": false,
     "start_time": "2024-06-05T05:39:36.811942",
     "status": "completed"
    },
    "tags": []
   },
   "outputs": [],
   "source": [
    "from sklearn.metrics import f1_score, roc_auc_score, accuracy_score\n",
    "from transformers import EvalPrediction\n",
    "import torch\n",
    "    \n",
    "\n",
    "def multi_label_metrics(predictions, labels, threshold=0.5):\n",
    "    # first, apply sigmoid on predictions which are of shape (batch_size, num_labels)\n",
    "    sigmoid = torch.nn.Sigmoid()\n",
    "    probs = sigmoid(torch.Tensor(predictions))\n",
    "    # next, use threshold to turn them into integer predictions\n",
    "    y_pred = np.zeros(probs.shape)\n",
    "    y_pred[np.where(probs >= threshold)] = 1\n",
    "    # finally, compute metrics\n",
    "    y_true = labels\n",
    "    f1_micro_average = f1_score(y_true=y_true, y_pred=y_pred, average='micro')\n",
    "    roc_auc = roc_auc_score(y_true, y_pred, average = 'micro')\n",
    "    accuracy = accuracy_score(y_true, y_pred)\n",
    "    # return as dictionary\n",
    "    metrics = {'f1': f1_micro_average,\n",
    "               'roc_auc': roc_auc,\n",
    "               'accuracy': accuracy}\n",
    "    return metrics\n",
    "\n",
    "def compute_metrics(p: EvalPrediction):\n",
    "    preds = p.predictions[0] if isinstance(p.predictions, tuple) else p.predictions\n",
    "    result = multi_label_metrics(predictions=preds,labels=p.label_ids)\n",
    "    return result\n",
    "  \n",
    "   \n"
   ]
  },
  {
   "cell_type": "code",
   "execution_count": 40,
   "id": "f91f03fb",
   "metadata": {
    "execution": {
     "iopub.execute_input": "2024-06-05T05:39:36.893554Z",
     "iopub.status.busy": "2024-06-05T05:39:36.893060Z",
     "iopub.status.idle": "2024-06-05T05:39:36.910701Z",
     "shell.execute_reply": "2024-06-05T05:39:36.909514Z"
    },
    "papermill": {
     "duration": 0.047529,
     "end_time": "2024-06-05T05:39:36.913105",
     "exception": false,
     "start_time": "2024-06-05T05:39:36.865576",
     "status": "completed"
    },
    "tags": []
   },
   "outputs": [
    {
     "data": {
      "text/plain": [
       "'torch.FloatTensor'"
      ]
     },
     "execution_count": 40,
     "metadata": {},
     "output_type": "execute_result"
    }
   ],
   "source": [
    "encoded_dataset['train'][0]['labels'].type()"
   ]
  },
  {
   "cell_type": "code",
   "execution_count": 41,
   "id": "3cc4bd91",
   "metadata": {
    "execution": {
     "iopub.execute_input": "2024-06-05T05:39:36.985200Z",
     "iopub.status.busy": "2024-06-05T05:39:36.984089Z",
     "iopub.status.idle": "2024-06-05T05:39:37.004871Z",
     "shell.execute_reply": "2024-06-05T05:39:37.003812Z"
    },
    "papermill": {
     "duration": 0.057798,
     "end_time": "2024-06-05T05:39:37.007546",
     "exception": false,
     "start_time": "2024-06-05T05:39:36.949748",
     "status": "completed"
    },
    "tags": []
   },
   "outputs": [
    {
     "data": {
      "text/plain": [
       "tensor([  101,  1037,  4618,  2025,  2011,  2993, 17552,  2008,  2711, 20090,\n",
       "         2000,  2151,  8268,  2030,  2060,  8931,  2021,  1999,  2151,  8931,\n",
       "         2104,  1996, 16420,  2080,  1998,  2953,  1996,  2572,  4135,  2077,\n",
       "         2151,  2457,  2122, 11594,  4618,  2022,  4748, 26770,  1999,  3350,\n",
       "         1998,  2065,  2151,  9347,  2275,  2041,  1999,  2122, 11594,  3544,\n",
       "         2000,  1996,  2457,  2000,  2022,  7882,  2000,  2151,  3160, 17707,\n",
       "         1999,  1996,  8931,  2009,  4618,  2022,  2579,  2046,  4070,  1999,\n",
       "        12515,  1996,  3160,  1998,   102,     0,     0,     0,     0,     0,\n",
       "            0,     0,     0,     0,     0,     0,     0,     0,     0,     0,\n",
       "            0,     0,     0,     0,     0,     0,     0,     0,     0,     0,\n",
       "            0,     0,     0,     0,     0,     0,     0,     0,     0,     0,\n",
       "            0,     0,     0,     0,     0,     0,     0,     0,     0,     0,\n",
       "            0,     0,     0,     0,     0,     0,     0,     0])"
      ]
     },
     "execution_count": 41,
     "metadata": {},
     "output_type": "execute_result"
    }
   ],
   "source": [
    "encoded_dataset['train']['input_ids'][0]"
   ]
  },
  {
   "cell_type": "code",
   "execution_count": 42,
   "id": "8c9695c8",
   "metadata": {
    "execution": {
     "iopub.execute_input": "2024-06-05T05:39:37.065726Z",
     "iopub.status.busy": "2024-06-05T05:39:37.065418Z",
     "iopub.status.idle": "2024-06-05T05:39:37.069468Z",
     "shell.execute_reply": "2024-06-05T05:39:37.068532Z"
    },
    "papermill": {
     "duration": 0.033623,
     "end_time": "2024-06-05T05:39:37.071516",
     "exception": false,
     "start_time": "2024-06-05T05:39:37.037893",
     "status": "completed"
    },
    "tags": []
   },
   "outputs": [],
   "source": [
    "# #forward pass\n",
    "# #, attention_mask=attention_mask\n",
    "# outputs = model(input_ids=encoded_dataset['train']['input_ids'][0].unsqueeze(0), labels=encoded_dataset['train'][0]['labels'].unsqueeze(0))\n",
    "# outputs"
   ]
  },
  {
   "cell_type": "code",
   "execution_count": 43,
   "id": "89fc7052",
   "metadata": {
    "execution": {
     "iopub.execute_input": "2024-06-05T05:39:37.115887Z",
     "iopub.status.busy": "2024-06-05T05:39:37.115583Z",
     "iopub.status.idle": "2024-06-05T05:39:37.119562Z",
     "shell.execute_reply": "2024-06-05T05:39:37.118629Z"
    },
    "papermill": {
     "duration": 0.028467,
     "end_time": "2024-06-05T05:39:37.121727",
     "exception": false,
     "start_time": "2024-06-05T05:39:37.093260",
     "status": "completed"
    },
    "tags": []
   },
   "outputs": [],
   "source": [
    "from transformers import AutoModelForSequenceClassification, Trainer"
   ]
  },
  {
   "cell_type": "code",
   "execution_count": 44,
   "id": "e7312a6c",
   "metadata": {
    "execution": {
     "iopub.execute_input": "2024-06-05T05:39:37.166979Z",
     "iopub.status.busy": "2024-06-05T05:39:37.166697Z",
     "iopub.status.idle": "2024-06-05T05:39:37.299243Z",
     "shell.execute_reply": "2024-06-05T05:39:37.298476Z"
    },
    "papermill": {
     "duration": 0.157594,
     "end_time": "2024-06-05T05:39:37.301429",
     "exception": false,
     "start_time": "2024-06-05T05:39:37.143835",
     "status": "completed"
    },
    "tags": []
   },
   "outputs": [],
   "source": [
    "\n",
    "from kaggle_secrets import UserSecretsClient\n",
    "user_secrets = UserSecretsClient()\n",
    "secret_value_0 = user_secrets.get_secret(\"WANDB_API_KEY\")\n"
   ]
  },
  {
   "cell_type": "code",
   "execution_count": 45,
   "id": "f51349eb",
   "metadata": {
    "execution": {
     "iopub.execute_input": "2024-06-05T05:39:37.346113Z",
     "iopub.status.busy": "2024-06-05T05:39:37.345814Z",
     "iopub.status.idle": "2024-06-05T05:39:37.350012Z",
     "shell.execute_reply": "2024-06-05T05:39:37.349077Z"
    },
    "papermill": {
     "duration": 0.028505,
     "end_time": "2024-06-05T05:39:37.351864",
     "exception": false,
     "start_time": "2024-06-05T05:39:37.323359",
     "status": "completed"
    },
    "tags": []
   },
   "outputs": [],
   "source": [
    "import os\n",
    "os.environ['WANDB_API_KEY'] =\"313a57558bcaee784e68d1654f7915a0b463a341\""
   ]
  },
  {
   "cell_type": "code",
   "execution_count": 46,
   "id": "a59de8bc",
   "metadata": {
    "execution": {
     "iopub.execute_input": "2024-06-05T05:39:37.396568Z",
     "iopub.status.busy": "2024-06-05T05:39:37.396094Z",
     "iopub.status.idle": "2024-06-05T05:39:38.316921Z",
     "shell.execute_reply": "2024-06-05T05:39:38.316167Z"
    },
    "papermill": {
     "duration": 0.945753,
     "end_time": "2024-06-05T05:39:38.319228",
     "exception": false,
     "start_time": "2024-06-05T05:39:37.373475",
     "status": "completed"
    },
    "tags": []
   },
   "outputs": [],
   "source": [
    "trainer = Trainer(\n",
    "    model,\n",
    "    args,\n",
    "    train_dataset=encoded_dataset[\"train\"],\n",
    "    eval_dataset=encoded_dataset[\"validation\"],\n",
    "    tokenizer=tokenizer,\n",
    "    compute_metrics=compute_metrics,\n",
    "\n",
    ")"
   ]
  },
  {
   "cell_type": "code",
   "execution_count": 47,
   "id": "7b0b7930",
   "metadata": {
    "execution": {
     "iopub.execute_input": "2024-06-05T05:39:38.367805Z",
     "iopub.status.busy": "2024-06-05T05:39:38.367479Z",
     "iopub.status.idle": "2024-06-05T05:48:58.741842Z",
     "shell.execute_reply": "2024-06-05T05:48:58.740535Z"
    },
    "papermill": {
     "duration": 560.400459,
     "end_time": "2024-06-05T05:48:58.744123",
     "exception": false,
     "start_time": "2024-06-05T05:39:38.343664",
     "status": "completed"
    },
    "tags": []
   },
   "outputs": [
    {
     "name": "stderr",
     "output_type": "stream",
     "text": [
      "\u001b[34m\u001b[1mwandb\u001b[0m: \u001b[33mWARNING\u001b[0m The `run_name` is currently set to the same value as `TrainingArguments.output_dir`. If this was not intended, please specify a different run name by setting the `TrainingArguments.run_name` parameter.\n",
      "\u001b[34m\u001b[1mwandb\u001b[0m: Currently logged in as: \u001b[33manshtanwar007\u001b[0m (\u001b[33manshta\u001b[0m). Use \u001b[1m`wandb login --relogin`\u001b[0m to force relogin\n",
      "\u001b[34m\u001b[1mwandb\u001b[0m: Tracking run with wandb version 0.17.0\n",
      "\u001b[34m\u001b[1mwandb\u001b[0m: Run data is saved locally in \u001b[35m\u001b[1m/kaggle/working/wandb/run-20240605_053939-w33fq9as\u001b[0m\n",
      "\u001b[34m\u001b[1mwandb\u001b[0m: Run \u001b[1m`wandb offline`\u001b[0m to turn off syncing.\n",
      "\u001b[34m\u001b[1mwandb\u001b[0m: Syncing run \u001b[33mbert-finetuned-sem_eval-english\u001b[0m\n",
      "\u001b[34m\u001b[1mwandb\u001b[0m: ⭐️ View project at \u001b[34m\u001b[4mhttps://wandb.ai/anshta/huggingface\u001b[0m\n",
      "\u001b[34m\u001b[1mwandb\u001b[0m: 🚀 View run at \u001b[34m\u001b[4mhttps://wandb.ai/anshta/huggingface/runs/w33fq9as\u001b[0m\n"
     ]
    },
    {
     "data": {
      "text/html": [
       "\n",
       "    <div>\n",
       "      \n",
       "      <progress value='2360' max='2360' style='width:300px; height:20px; vertical-align: middle;'></progress>\n",
       "      [2360/2360 09:01, Epoch 10/10]\n",
       "    </div>\n",
       "    <table border=\"1\" class=\"dataframe\">\n",
       "  <thead>\n",
       " <tr style=\"text-align: left;\">\n",
       "      <th>Epoch</th>\n",
       "      <th>Training Loss</th>\n",
       "      <th>Validation Loss</th>\n",
       "      <th>F1</th>\n",
       "      <th>Roc Auc</th>\n",
       "      <th>Accuracy</th>\n",
       "    </tr>\n",
       "  </thead>\n",
       "  <tbody>\n",
       "    <tr>\n",
       "      <td>1</td>\n",
       "      <td>No log</td>\n",
       "      <td>0.163322</td>\n",
       "      <td>0.212269</td>\n",
       "      <td>0.559780</td>\n",
       "      <td>0.029963</td>\n",
       "    </tr>\n",
       "    <tr>\n",
       "      <td>2</td>\n",
       "      <td>No log</td>\n",
       "      <td>0.116686</td>\n",
       "      <td>0.624273</td>\n",
       "      <td>0.736013</td>\n",
       "      <td>0.234082</td>\n",
       "    </tr>\n",
       "    <tr>\n",
       "      <td>3</td>\n",
       "      <td>0.164000</td>\n",
       "      <td>0.097586</td>\n",
       "      <td>0.719275</td>\n",
       "      <td>0.794388</td>\n",
       "      <td>0.320225</td>\n",
       "    </tr>\n",
       "    <tr>\n",
       "      <td>4</td>\n",
       "      <td>0.164000</td>\n",
       "      <td>0.086796</td>\n",
       "      <td>0.772971</td>\n",
       "      <td>0.836047</td>\n",
       "      <td>0.378277</td>\n",
       "    </tr>\n",
       "    <tr>\n",
       "      <td>5</td>\n",
       "      <td>0.084800</td>\n",
       "      <td>0.079270</td>\n",
       "      <td>0.808318</td>\n",
       "      <td>0.867786</td>\n",
       "      <td>0.413858</td>\n",
       "    </tr>\n",
       "    <tr>\n",
       "      <td>6</td>\n",
       "      <td>0.084800</td>\n",
       "      <td>0.073624</td>\n",
       "      <td>0.822487</td>\n",
       "      <td>0.870076</td>\n",
       "      <td>0.466292</td>\n",
       "    </tr>\n",
       "    <tr>\n",
       "      <td>7</td>\n",
       "      <td>0.054800</td>\n",
       "      <td>0.071131</td>\n",
       "      <td>0.830336</td>\n",
       "      <td>0.880426</td>\n",
       "      <td>0.471910</td>\n",
       "    </tr>\n",
       "    <tr>\n",
       "      <td>8</td>\n",
       "      <td>0.054800</td>\n",
       "      <td>0.067516</td>\n",
       "      <td>0.838222</td>\n",
       "      <td>0.881247</td>\n",
       "      <td>0.501873</td>\n",
       "    </tr>\n",
       "    <tr>\n",
       "      <td>9</td>\n",
       "      <td>0.036500</td>\n",
       "      <td>0.066098</td>\n",
       "      <td>0.839858</td>\n",
       "      <td>0.888908</td>\n",
       "      <td>0.501873</td>\n",
       "    </tr>\n",
       "    <tr>\n",
       "      <td>10</td>\n",
       "      <td>0.036500</td>\n",
       "      <td>0.065660</td>\n",
       "      <td>0.843301</td>\n",
       "      <td>0.887648</td>\n",
       "      <td>0.509363</td>\n",
       "    </tr>\n",
       "  </tbody>\n",
       "</table><p>"
      ],
      "text/plain": [
       "<IPython.core.display.HTML object>"
      ]
     },
     "metadata": {},
     "output_type": "display_data"
    },
    {
     "data": {
      "text/plain": [
       "TrainOutput(global_step=2360, training_loss=0.07678174487615036, metrics={'train_runtime': 560.0372, 'train_samples_per_second': 67.299, 'train_steps_per_second': 4.214, 'total_flos': 2480343667991040.0, 'train_loss': 0.07678174487615036, 'epoch': 10.0})"
      ]
     },
     "execution_count": 47,
     "metadata": {},
     "output_type": "execute_result"
    }
   ],
   "source": [
    "trainer.train()"
   ]
  },
  {
   "cell_type": "code",
   "execution_count": 48,
   "id": "ad7774ea",
   "metadata": {
    "execution": {
     "iopub.execute_input": "2024-06-05T05:48:58.813469Z",
     "iopub.status.busy": "2024-06-05T05:48:58.813120Z",
     "iopub.status.idle": "2024-06-05T05:49:00.917037Z",
     "shell.execute_reply": "2024-06-05T05:49:00.916008Z"
    },
    "papermill": {
     "duration": 2.138907,
     "end_time": "2024-06-05T05:49:00.919023",
     "exception": false,
     "start_time": "2024-06-05T05:48:58.780116",
     "status": "completed"
    },
    "tags": []
   },
   "outputs": [
    {
     "data": {
      "text/html": [
       "\n",
       "    <div>\n",
       "      \n",
       "      <progress value='34' max='34' style='width:300px; height:20px; vertical-align: middle;'></progress>\n",
       "      [34/34 00:02]\n",
       "    </div>\n",
       "    "
      ],
      "text/plain": [
       "<IPython.core.display.HTML object>"
      ]
     },
     "metadata": {},
     "output_type": "display_data"
    },
    {
     "data": {
      "text/plain": [
       "{'eval_loss': 0.06565950065851212,\n",
       " 'eval_f1': 0.8433014354066986,\n",
       " 'eval_roc_auc': 0.887647872567913,\n",
       " 'eval_accuracy': 0.5093632958801498,\n",
       " 'eval_runtime': 2.0921,\n",
       " 'eval_samples_per_second': 255.246,\n",
       " 'eval_steps_per_second': 16.252,\n",
       " 'epoch': 10.0}"
      ]
     },
     "execution_count": 48,
     "metadata": {},
     "output_type": "execute_result"
    }
   ],
   "source": [
    "trainer.evaluate()"
   ]
  },
  {
   "cell_type": "markdown",
   "id": "c6c2625a",
   "metadata": {
    "papermill": {
     "duration": 0.026322,
     "end_time": "2024-06-05T05:49:00.969255",
     "exception": false,
     "start_time": "2024-06-05T05:49:00.942933",
     "status": "completed"
    },
    "tags": []
   },
   "source": [
    "# Inference\n",
    "add Codeadd Markdown\n",
    "The logits that come out of the model are of shape (batch_size, num_labels). As we are only forwarding a single sentence through the model, the batch_size equals 1.\n",
    "\n",
    "The logits is a tensor that contains the (unnormalized) scores for every individual label.\n",
    "\n",
    "The logits that come out of the model are of shape (batch_size, num_labels). As we are only forwarding a single sentence through the model, the batch_size equals 1.\n",
    "\n",
    "The logits is a tensor that contains the (unnormalized) scores for every individual label."
   ]
  },
  {
   "cell_type": "code",
   "execution_count": 49,
   "id": "f36ddeb1",
   "metadata": {
    "execution": {
     "iopub.execute_input": "2024-06-05T05:49:01.024365Z",
     "iopub.status.busy": "2024-06-05T05:49:01.023976Z",
     "iopub.status.idle": "2024-06-05T05:49:01.032266Z",
     "shell.execute_reply": "2024-06-05T05:49:01.031294Z"
    },
    "papermill": {
     "duration": 0.038329,
     "end_time": "2024-06-05T05:49:01.034454",
     "exception": false,
     "start_time": "2024-06-05T05:49:00.996125",
     "status": "completed"
    },
    "tags": []
   },
   "outputs": [],
   "source": [
    "def get_answer(text):\n",
    "    \n",
    "    encoding = tokenizer(text, return_tensors=\"pt\")\n",
    "    encoding = {k: v.to(trainer.model.device) for k,v in encoding.items()}\n",
    "    outputs = trainer.model(**encoding)\n",
    "    logits = outputs.logits\n",
    "    print(logits.shape)\n",
    "    \n",
    "    # apply sigmoid + threshold\n",
    "    sigmoid = torch.nn.Sigmoid()\n",
    "    probs = sigmoid(logits.squeeze().cpu())\n",
    "    print(probs)\n",
    "    predictions = np.zeros(probs.shape)\n",
    "    predictions[np.where(probs >= 0.5)] = 1\n",
    "    print(predictions)\n",
    "    predicted_labels = [id2label[idx] for idx, label in enumerate(predictions) if label == 1.0]\n",
    "    print()\n",
    "    return predicted_labels\n"
   ]
  },
  {
   "cell_type": "code",
   "execution_count": 50,
   "id": "b6f27e08",
   "metadata": {
    "execution": {
     "iopub.execute_input": "2024-06-05T05:49:01.089282Z",
     "iopub.status.busy": "2024-06-05T05:49:01.088963Z",
     "iopub.status.idle": "2024-06-05T05:49:01.150670Z",
     "shell.execute_reply": "2024-06-05T05:49:01.149687Z"
    },
    "papermill": {
     "duration": 0.09167,
     "end_time": "2024-06-05T05:49:01.152688",
     "exception": false,
     "start_time": "2024-06-05T05:49:01.061018",
     "status": "completed"
    },
    "tags": []
   },
   "outputs": [
    {
     "name": "stdout",
     "output_type": "stream",
     "text": [
      "torch.Size([1, 55])\n",
      "tensor([9.6622e-01, 3.4193e-03, 2.7562e-03, 1.7319e-02, 5.7333e-03, 1.2401e-03,\n",
      "        3.0574e-03, 9.1360e-03, 1.1772e-03, 1.1237e-02, 2.2286e-03, 8.0466e-03,\n",
      "        2.5631e-03, 6.5643e-03, 3.1895e-03, 9.2980e-03, 9.1631e-03, 1.7199e-03,\n",
      "        4.0282e-03, 1.2256e-02, 9.2701e-01, 8.5780e-01, 2.4207e-02, 4.9440e-03,\n",
      "        7.1264e-04, 2.8362e-03, 2.6223e-01, 7.8264e-03, 3.0170e-03, 7.0105e-03,\n",
      "        3.0059e-03, 4.7555e-03, 1.5372e-02, 4.1225e-03, 1.1744e-03, 2.4192e-01,\n",
      "        4.8003e-03, 1.2486e-02, 1.3660e-03, 5.5396e-03, 2.7550e-03, 1.5538e-02,\n",
      "        9.1066e-01, 1.5853e-03, 3.0067e-03, 3.1349e-02, 9.5839e-03, 7.9737e-03,\n",
      "        6.5611e-03, 1.7143e-03, 7.2883e-03, 1.9865e-03, 7.0699e-03, 1.0437e-02,\n",
      "        2.9655e-03], grad_fn=<SigmoidBackward0>)\n",
      "[1. 0. 0. 0. 0. 0. 0. 0. 0. 0. 0. 0. 0. 0. 0. 0. 0. 0. 0. 0. 1. 1. 0. 0.\n",
      " 0. 0. 0. 0. 0. 0. 0. 0. 0. 0. 0. 0. 0. 0. 0. 0. 0. 0. 1. 0. 0. 0. 0. 0.\n",
      " 0. 0. 0. 0. 0. 0. 0.]\n",
      "\n"
     ]
    },
    {
     "data": {
      "text/plain": [
       "['aml', 'cft', 'virtual assets', 'license']"
      ]
     },
     "execution_count": 50,
     "metadata": {},
     "output_type": "execute_result"
    }
   ],
   "source": [
    "text = \"The new licensing regime for centralised virtual asset trading platforms under the Anti-MoneyLaundering and Counter-Terrorist Financing Ordinance (Cap. 615) (AMLO) will come intoeffect on 1 June 2023. Under the new regime, centralised virtual asset trading platformsoperating in Hong Kong will need to apply to the Securities and Futures Commission (SFC)for a licence under the Securities and Futures Ordinance (Cap 571) (SFO) and/or the AMLO(Dual Licence Arrangement)\"\n",
    "get_answer(text)"
   ]
  },
  {
   "cell_type": "markdown",
   "id": "f623298f",
   "metadata": {
    "papermill": {
     "duration": 0.026288,
     "end_time": "2024-06-05T05:49:01.202435",
     "exception": false,
     "start_time": "2024-06-05T05:49:01.176147",
     "status": "completed"
    },
    "tags": []
   },
   "source": [
    "# Probability"
   ]
  },
  {
   "cell_type": "code",
   "execution_count": 51,
   "id": "e3498918",
   "metadata": {
    "execution": {
     "iopub.execute_input": "2024-06-05T05:49:01.255877Z",
     "iopub.status.busy": "2024-06-05T05:49:01.255545Z",
     "iopub.status.idle": "2024-06-05T05:49:01.259266Z",
     "shell.execute_reply": "2024-06-05T05:49:01.258408Z"
    },
    "papermill": {
     "duration": 0.031481,
     "end_time": "2024-06-05T05:49:01.261197",
     "exception": false,
     "start_time": "2024-06-05T05:49:01.229716",
     "status": "completed"
    },
    "tags": []
   },
   "outputs": [],
   "source": [
    "# outputs = trainer.model(**encoding)\n",
    "# logits = outputs.logits\n",
    "# logits.shape"
   ]
  },
  {
   "cell_type": "markdown",
   "id": "63c6efaa",
   "metadata": {
    "papermill": {
     "duration": 0.02308,
     "end_time": "2024-06-05T05:49:01.307263",
     "exception": false,
     "start_time": "2024-06-05T05:49:01.284183",
     "status": "completed"
    },
    "tags": []
   },
   "source": [
    "The logits that come out of the model are of shape (batch_size, num_labels). As we are only forwarding a single sentence through the model, the batch_size equals 1.\n",
    "\n",
    "The logits is a tensor that contains the (unnormalized) scores for every individual label\n",
    "\n",
    "To turn them into actual predicted labels, we first apply a sigmoid function independently to every score, such that every score is turned into a number between 0 and 1, that can be interpreted as a \"probability\" for how certain the model is that a given class belongs to the input text.\n",
    "\n",
    "Next, we use a threshold (typically, 0.5) to turn every probability into either a 1 (which means, we predict the label for the given example) or a 0 (which means, we don't predict the label for the given example)"
   ]
  },
  {
   "cell_type": "code",
   "execution_count": 52,
   "id": "bac86a54",
   "metadata": {
    "execution": {
     "iopub.execute_input": "2024-06-05T05:49:01.355218Z",
     "iopub.status.busy": "2024-06-05T05:49:01.354926Z",
     "iopub.status.idle": "2024-06-05T05:49:01.358883Z",
     "shell.execute_reply": "2024-06-05T05:49:01.358058Z"
    },
    "papermill": {
     "duration": 0.030471,
     "end_time": "2024-06-05T05:49:01.360796",
     "exception": false,
     "start_time": "2024-06-05T05:49:01.330325",
     "status": "completed"
    },
    "tags": []
   },
   "outputs": [],
   "source": [
    "# # apply sigmoid + threshold\n",
    "# sigmoid = torch.nn.Sigmoid()\n",
    "# probs = sigmoid(logits.squeeze().cpu())\n",
    "# predictions = np.zeros(probs.shape)\n",
    "# predictions[np.where(probs >= 0.5)] = 1\n",
    "# # turn predicted id's into actual label names\n",
    "# predicted_labels = [id2label[idx] for idx, label in enumerate(predictions) if label == 1.0]\n",
    "# print(predicted_labels)"
   ]
  },
  {
   "cell_type": "code",
   "execution_count": null,
   "id": "8a13575e",
   "metadata": {
    "papermill": {
     "duration": 0.023017,
     "end_time": "2024-06-05T05:49:01.406762",
     "exception": false,
     "start_time": "2024-06-05T05:49:01.383745",
     "status": "completed"
    },
    "tags": []
   },
   "outputs": [],
   "source": []
  }
 ],
 "metadata": {
  "kaggle": {
   "accelerator": "gpu",
   "dataSources": [
    {
     "datasetId": 5092991,
     "sourceId": 8600001,
     "sourceType": "datasetVersion"
    }
   ],
   "dockerImageVersionId": 30715,
   "isGpuEnabled": true,
   "isInternetEnabled": true,
   "language": "python",
   "sourceType": "notebook"
  },
  "kernelspec": {
   "display_name": "Python 3",
   "language": "python",
   "name": "python3"
  },
  "language_info": {
   "codemirror_mode": {
    "name": "ipython",
    "version": 3
   },
   "file_extension": ".py",
   "mimetype": "text/x-python",
   "name": "python",
   "nbconvert_exporter": "python",
   "pygments_lexer": "ipython3",
   "version": "3.10.13"
  },
  "papermill": {
   "default_parameters": {},
   "duration": 605.454627,
   "end_time": "2024-06-05T05:49:04.152599",
   "environment_variables": {},
   "exception": null,
   "input_path": "__notebook__.ipynb",
   "output_path": "__notebook__.ipynb",
   "parameters": {},
   "start_time": "2024-06-05T05:38:58.697972",
   "version": "2.5.0"
  },
  "widgets": {
   "application/vnd.jupyter.widget-state+json": {
    "state": {
     "0080f4ae575547318d09aa37b237f5b2": {
      "model_module": "@jupyter-widgets/controls",
      "model_module_version": "1.5.0",
      "model_name": "DescriptionStyleModel",
      "state": {
       "_model_module": "@jupyter-widgets/controls",
       "_model_module_version": "1.5.0",
       "_model_name": "DescriptionStyleModel",
       "_view_count": null,
       "_view_module": "@jupyter-widgets/base",
       "_view_module_version": "1.2.0",
       "_view_name": "StyleView",
       "description_width": ""
      }
     },
     "0331b5f86ced4326876b75604013be2d": {
      "model_module": "@jupyter-widgets/controls",
      "model_module_version": "1.5.0",
      "model_name": "DescriptionStyleModel",
      "state": {
       "_model_module": "@jupyter-widgets/controls",
       "_model_module_version": "1.5.0",
       "_model_name": "DescriptionStyleModel",
       "_view_count": null,
       "_view_module": "@jupyter-widgets/base",
       "_view_module_version": "1.2.0",
       "_view_name": "StyleView",
       "description_width": ""
      }
     },
     "048610acdeaa40c2bf8838286083dda5": {
      "model_module": "@jupyter-widgets/controls",
      "model_module_version": "1.5.0",
      "model_name": "HTMLModel",
      "state": {
       "_dom_classes": [],
       "_model_module": "@jupyter-widgets/controls",
       "_model_module_version": "1.5.0",
       "_model_name": "HTMLModel",
       "_view_count": null,
       "_view_module": "@jupyter-widgets/controls",
       "_view_module_version": "1.5.0",
       "_view_name": "HTMLView",
       "description": "",
       "description_tooltip": null,
       "layout": "IPY_MODEL_6b4dc6434e254d8ea9674a123ff881d2",
       "placeholder": "​",
       "style": "IPY_MODEL_49fe1d16e5c944e2888b7ec0c48e3c98",
       "value": "pytorch_model.bin: 100%"
      }
     },
     "06d554dbf14d4002b9d90ebef4234b83": {
      "model_module": "@jupyter-widgets/controls",
      "model_module_version": "1.5.0",
      "model_name": "FloatProgressModel",
      "state": {
       "_dom_classes": [],
       "_model_module": "@jupyter-widgets/controls",
       "_model_module_version": "1.5.0",
       "_model_name": "FloatProgressModel",
       "_view_count": null,
       "_view_module": "@jupyter-widgets/controls",
       "_view_module_version": "1.5.0",
       "_view_name": "ProgressView",
       "bar_style": "success",
       "description": "",
       "description_tooltip": null,
       "layout": "IPY_MODEL_8889888de7bc4ea6981533b0e16cdd41",
       "max": 252.0,
       "min": 0.0,
       "orientation": "horizontal",
       "style": "IPY_MODEL_e257f63e5b524c508021762a6206a362",
       "value": 252.0
      }
     },
     "1219f4d11ecd4625b26d85ba5960ffd8": {
      "model_module": "@jupyter-widgets/controls",
      "model_module_version": "1.5.0",
      "model_name": "HTMLModel",
      "state": {
       "_dom_classes": [],
       "_model_module": "@jupyter-widgets/controls",
       "_model_module_version": "1.5.0",
       "_model_name": "HTMLModel",
       "_view_count": null,
       "_view_module": "@jupyter-widgets/controls",
       "_view_module_version": "1.5.0",
       "_view_name": "HTMLView",
       "description": "",
       "description_tooltip": null,
       "layout": "IPY_MODEL_2ce1fba52dd2449aa3bbf8b6316cd97c",
       "placeholder": "​",
       "style": "IPY_MODEL_bca34246d83645ac8ab7b374c84f2f02",
       "value": " 3769/3769 [00:00&lt;00:00, 4441.55 examples/s]"
      }
     },
     "12f2438498984218a6885eea58f5e5bd": {
      "model_module": "@jupyter-widgets/controls",
      "model_module_version": "1.5.0",
      "model_name": "HTMLModel",
      "state": {
       "_dom_classes": [],
       "_model_module": "@jupyter-widgets/controls",
       "_model_module_version": "1.5.0",
       "_model_name": "HTMLModel",
       "_view_count": null,
       "_view_module": "@jupyter-widgets/controls",
       "_view_module_version": "1.5.0",
       "_view_name": "HTMLView",
       "description": "",
       "description_tooltip": null,
       "layout": "IPY_MODEL_92856029cd0247edb20b6201940c56f9",
       "placeholder": "​",
       "style": "IPY_MODEL_4839eb47a8ce4a5b9073737feb6302bc",
       "value": "config.json: 100%"
      }
     },
     "15d87051e97345acb155f4baa5762efc": {
      "model_module": "@jupyter-widgets/base",
      "model_module_version": "1.2.0",
      "model_name": "LayoutModel",
      "state": {
       "_model_module": "@jupyter-widgets/base",
       "_model_module_version": "1.2.0",
       "_model_name": "LayoutModel",
       "_view_count": null,
       "_view_module": "@jupyter-widgets/base",
       "_view_module_version": "1.2.0",
       "_view_name": "LayoutView",
       "align_content": null,
       "align_items": null,
       "align_self": null,
       "border": null,
       "bottom": null,
       "display": null,
       "flex": null,
       "flex_flow": null,
       "grid_area": null,
       "grid_auto_columns": null,
       "grid_auto_flow": null,
       "grid_auto_rows": null,
       "grid_column": null,
       "grid_gap": null,
       "grid_row": null,
       "grid_template_areas": null,
       "grid_template_columns": null,
       "grid_template_rows": null,
       "height": null,
       "justify_content": null,
       "justify_items": null,
       "left": null,
       "margin": null,
       "max_height": null,
       "max_width": null,
       "min_height": null,
       "min_width": null,
       "object_fit": null,
       "object_position": null,
       "order": null,
       "overflow": null,
       "overflow_x": null,
       "overflow_y": null,
       "padding": null,
       "right": null,
       "top": null,
       "visibility": null,
       "width": null
      }
     },
     "18811c3b07b747f9849ad14ca57214f8": {
      "model_module": "@jupyter-widgets/controls",
      "model_module_version": "1.5.0",
      "model_name": "ProgressStyleModel",
      "state": {
       "_model_module": "@jupyter-widgets/controls",
       "_model_module_version": "1.5.0",
       "_model_name": "ProgressStyleModel",
       "_view_count": null,
       "_view_module": "@jupyter-widgets/base",
       "_view_module_version": "1.2.0",
       "_view_name": "StyleView",
       "bar_color": null,
       "description_width": ""
      }
     },
     "1899b5dfdeae44e6805b846ec17be985": {
      "model_module": "@jupyter-widgets/base",
      "model_module_version": "1.2.0",
      "model_name": "LayoutModel",
      "state": {
       "_model_module": "@jupyter-widgets/base",
       "_model_module_version": "1.2.0",
       "_model_name": "LayoutModel",
       "_view_count": null,
       "_view_module": "@jupyter-widgets/base",
       "_view_module_version": "1.2.0",
       "_view_name": "LayoutView",
       "align_content": null,
       "align_items": null,
       "align_self": null,
       "border": null,
       "bottom": null,
       "display": null,
       "flex": null,
       "flex_flow": null,
       "grid_area": null,
       "grid_auto_columns": null,
       "grid_auto_flow": null,
       "grid_auto_rows": null,
       "grid_column": null,
       "grid_gap": null,
       "grid_row": null,
       "grid_template_areas": null,
       "grid_template_columns": null,
       "grid_template_rows": null,
       "height": null,
       "justify_content": null,
       "justify_items": null,
       "left": null,
       "margin": null,
       "max_height": null,
       "max_width": null,
       "min_height": null,
       "min_width": null,
       "object_fit": null,
       "object_position": null,
       "order": null,
       "overflow": null,
       "overflow_x": null,
       "overflow_y": null,
       "padding": null,
       "right": null,
       "top": null,
       "visibility": null,
       "width": null
      }
     },
     "19d34cfc6b8b4f9eb4c12808855eba9a": {
      "model_module": "@jupyter-widgets/controls",
      "model_module_version": "1.5.0",
      "model_name": "HBoxModel",
      "state": {
       "_dom_classes": [],
       "_model_module": "@jupyter-widgets/controls",
       "_model_module_version": "1.5.0",
       "_model_name": "HBoxModel",
       "_view_count": null,
       "_view_module": "@jupyter-widgets/controls",
       "_view_module_version": "1.5.0",
       "_view_name": "HBoxView",
       "box_style": "",
       "children": [
        "IPY_MODEL_7c25463e13b447e88bcdcb95c812d072",
        "IPY_MODEL_b43671cc489a484e96ed47cbd28b5c6b",
        "IPY_MODEL_1dcadab7f5c645e0a7f411e577856e79"
       ],
       "layout": "IPY_MODEL_411b7402e7e1408f8839b9f2d2d2763c"
      }
     },
     "1dcadab7f5c645e0a7f411e577856e79": {
      "model_module": "@jupyter-widgets/controls",
      "model_module_version": "1.5.0",
      "model_name": "HTMLModel",
      "state": {
       "_dom_classes": [],
       "_model_module": "@jupyter-widgets/controls",
       "_model_module_version": "1.5.0",
       "_model_name": "HTMLModel",
       "_view_count": null,
       "_view_module": "@jupyter-widgets/controls",
       "_view_module_version": "1.5.0",
       "_view_name": "HTMLView",
       "description": "",
       "description_tooltip": null,
       "layout": "IPY_MODEL_c73583e1f429421291061d66ca8aced2",
       "placeholder": "​",
       "style": "IPY_MODEL_9f9f3184ef154e81af028856b75cd97b",
       "value": " 1082/1082 [00:00&lt;00:00, 4488.19 examples/s]"
      }
     },
     "2724ea11930c45e699e774bbac078937": {
      "model_module": "@jupyter-widgets/controls",
      "model_module_version": "1.5.0",
      "model_name": "HBoxModel",
      "state": {
       "_dom_classes": [],
       "_model_module": "@jupyter-widgets/controls",
       "_model_module_version": "1.5.0",
       "_model_name": "HBoxModel",
       "_view_count": null,
       "_view_module": "@jupyter-widgets/controls",
       "_view_module_version": "1.5.0",
       "_view_name": "HBoxView",
       "box_style": "",
       "children": [
        "IPY_MODEL_55c78dccab414e44b9129478fe9bcfab",
        "IPY_MODEL_5557284f38794eab8ee69a49c00ab0fe",
        "IPY_MODEL_1219f4d11ecd4625b26d85ba5960ffd8"
       ],
       "layout": "IPY_MODEL_4989b38badb544809af612156aa8f339"
      }
     },
     "2ce1fba52dd2449aa3bbf8b6316cd97c": {
      "model_module": "@jupyter-widgets/base",
      "model_module_version": "1.2.0",
      "model_name": "LayoutModel",
      "state": {
       "_model_module": "@jupyter-widgets/base",
       "_model_module_version": "1.2.0",
       "_model_name": "LayoutModel",
       "_view_count": null,
       "_view_module": "@jupyter-widgets/base",
       "_view_module_version": "1.2.0",
       "_view_name": "LayoutView",
       "align_content": null,
       "align_items": null,
       "align_self": null,
       "border": null,
       "bottom": null,
       "display": null,
       "flex": null,
       "flex_flow": null,
       "grid_area": null,
       "grid_auto_columns": null,
       "grid_auto_flow": null,
       "grid_auto_rows": null,
       "grid_column": null,
       "grid_gap": null,
       "grid_row": null,
       "grid_template_areas": null,
       "grid_template_columns": null,
       "grid_template_rows": null,
       "height": null,
       "justify_content": null,
       "justify_items": null,
       "left": null,
       "margin": null,
       "max_height": null,
       "max_width": null,
       "min_height": null,
       "min_width": null,
       "object_fit": null,
       "object_position": null,
       "order": null,
       "overflow": null,
       "overflow_x": null,
       "overflow_y": null,
       "padding": null,
       "right": null,
       "top": null,
       "visibility": null,
       "width": null
      }
     },
     "319170463a274153b2ad1abc2f05946e": {
      "model_module": "@jupyter-widgets/controls",
      "model_module_version": "1.5.0",
      "model_name": "ProgressStyleModel",
      "state": {
       "_model_module": "@jupyter-widgets/controls",
       "_model_module_version": "1.5.0",
       "_model_name": "ProgressStyleModel",
       "_view_count": null,
       "_view_module": "@jupyter-widgets/base",
       "_view_module_version": "1.2.0",
       "_view_name": "StyleView",
       "bar_color": null,
       "description_width": ""
      }
     },
     "31b2b28583444fafb6724e3aa68579ce": {
      "model_module": "@jupyter-widgets/controls",
      "model_module_version": "1.5.0",
      "model_name": "HTMLModel",
      "state": {
       "_dom_classes": [],
       "_model_module": "@jupyter-widgets/controls",
       "_model_module_version": "1.5.0",
       "_model_name": "HTMLModel",
       "_view_count": null,
       "_view_module": "@jupyter-widgets/controls",
       "_view_module_version": "1.5.0",
       "_view_name": "HTMLView",
       "description": "",
       "description_tooltip": null,
       "layout": "IPY_MODEL_e510502ff4a84cd0b25804bf33647407",
       "placeholder": "​",
       "style": "IPY_MODEL_32c7aab421af4e19a8b74122855cb83e",
       "value": "Map: 100%"
      }
     },
     "32c7aab421af4e19a8b74122855cb83e": {
      "model_module": "@jupyter-widgets/controls",
      "model_module_version": "1.5.0",
      "model_name": "DescriptionStyleModel",
      "state": {
       "_model_module": "@jupyter-widgets/controls",
       "_model_module_version": "1.5.0",
       "_model_name": "DescriptionStyleModel",
       "_view_count": null,
       "_view_module": "@jupyter-widgets/base",
       "_view_module_version": "1.2.0",
       "_view_name": "StyleView",
       "description_width": ""
      }
     },
     "353f13284c4c470d91b031dea9fbdc62": {
      "model_module": "@jupyter-widgets/controls",
      "model_module_version": "1.5.0",
      "model_name": "HBoxModel",
      "state": {
       "_dom_classes": [],
       "_model_module": "@jupyter-widgets/controls",
       "_model_module_version": "1.5.0",
       "_model_name": "HBoxModel",
       "_view_count": null,
       "_view_module": "@jupyter-widgets/controls",
       "_view_module_version": "1.5.0",
       "_view_name": "HBoxView",
       "box_style": "",
       "children": [
        "IPY_MODEL_048610acdeaa40c2bf8838286083dda5",
        "IPY_MODEL_d808b755390b44cb92a59ca919127ede",
        "IPY_MODEL_64574141493d40ebbb2db17991991cc0"
       ],
       "layout": "IPY_MODEL_fa999cf4e740465e94a125f81c3589df"
      }
     },
     "397d2e9a78cc40f39628ff920c1a81c7": {
      "model_module": "@jupyter-widgets/base",
      "model_module_version": "1.2.0",
      "model_name": "LayoutModel",
      "state": {
       "_model_module": "@jupyter-widgets/base",
       "_model_module_version": "1.2.0",
       "_model_name": "LayoutModel",
       "_view_count": null,
       "_view_module": "@jupyter-widgets/base",
       "_view_module_version": "1.2.0",
       "_view_name": "LayoutView",
       "align_content": null,
       "align_items": null,
       "align_self": null,
       "border": null,
       "bottom": null,
       "display": null,
       "flex": null,
       "flex_flow": null,
       "grid_area": null,
       "grid_auto_columns": null,
       "grid_auto_flow": null,
       "grid_auto_rows": null,
       "grid_column": null,
       "grid_gap": null,
       "grid_row": null,
       "grid_template_areas": null,
       "grid_template_columns": null,
       "grid_template_rows": null,
       "height": null,
       "justify_content": null,
       "justify_items": null,
       "left": null,
       "margin": null,
       "max_height": null,
       "max_width": null,
       "min_height": null,
       "min_width": null,
       "object_fit": null,
       "object_position": null,
       "order": null,
       "overflow": null,
       "overflow_x": null,
       "overflow_y": null,
       "padding": null,
       "right": null,
       "top": null,
       "visibility": null,
       "width": null
      }
     },
     "3b87a0f3d6d04d4c99445eba3dd4ed6f": {
      "model_module": "@jupyter-widgets/controls",
      "model_module_version": "1.5.0",
      "model_name": "HTMLModel",
      "state": {
       "_dom_classes": [],
       "_model_module": "@jupyter-widgets/controls",
       "_model_module_version": "1.5.0",
       "_model_name": "HTMLModel",
       "_view_count": null,
       "_view_module": "@jupyter-widgets/controls",
       "_view_module_version": "1.5.0",
       "_view_name": "HTMLView",
       "description": "",
       "description_tooltip": null,
       "layout": "IPY_MODEL_e9de3127bceb499bbd51d5d4614e9cc1",
       "placeholder": "​",
       "style": "IPY_MODEL_0080f4ae575547318d09aa37b237f5b2",
       "value": "special_tokens_map.json: 100%"
      }
     },
     "411b7402e7e1408f8839b9f2d2d2763c": {
      "model_module": "@jupyter-widgets/base",
      "model_module_version": "1.2.0",
      "model_name": "LayoutModel",
      "state": {
       "_model_module": "@jupyter-widgets/base",
       "_model_module_version": "1.2.0",
       "_model_name": "LayoutModel",
       "_view_count": null,
       "_view_module": "@jupyter-widgets/base",
       "_view_module_version": "1.2.0",
       "_view_name": "LayoutView",
       "align_content": null,
       "align_items": null,
       "align_self": null,
       "border": null,
       "bottom": null,
       "display": null,
       "flex": null,
       "flex_flow": null,
       "grid_area": null,
       "grid_auto_columns": null,
       "grid_auto_flow": null,
       "grid_auto_rows": null,
       "grid_column": null,
       "grid_gap": null,
       "grid_row": null,
       "grid_template_areas": null,
       "grid_template_columns": null,
       "grid_template_rows": null,
       "height": null,
       "justify_content": null,
       "justify_items": null,
       "left": null,
       "margin": null,
       "max_height": null,
       "max_width": null,
       "min_height": null,
       "min_width": null,
       "object_fit": null,
       "object_position": null,
       "order": null,
       "overflow": null,
       "overflow_x": null,
       "overflow_y": null,
       "padding": null,
       "right": null,
       "top": null,
       "visibility": null,
       "width": null
      }
     },
     "4839eb47a8ce4a5b9073737feb6302bc": {
      "model_module": "@jupyter-widgets/controls",
      "model_module_version": "1.5.0",
      "model_name": "DescriptionStyleModel",
      "state": {
       "_model_module": "@jupyter-widgets/controls",
       "_model_module_version": "1.5.0",
       "_model_name": "DescriptionStyleModel",
       "_view_count": null,
       "_view_module": "@jupyter-widgets/base",
       "_view_module_version": "1.2.0",
       "_view_name": "StyleView",
       "description_width": ""
      }
     },
     "4989b38badb544809af612156aa8f339": {
      "model_module": "@jupyter-widgets/base",
      "model_module_version": "1.2.0",
      "model_name": "LayoutModel",
      "state": {
       "_model_module": "@jupyter-widgets/base",
       "_model_module_version": "1.2.0",
       "_model_name": "LayoutModel",
       "_view_count": null,
       "_view_module": "@jupyter-widgets/base",
       "_view_module_version": "1.2.0",
       "_view_name": "LayoutView",
       "align_content": null,
       "align_items": null,
       "align_self": null,
       "border": null,
       "bottom": null,
       "display": null,
       "flex": null,
       "flex_flow": null,
       "grid_area": null,
       "grid_auto_columns": null,
       "grid_auto_flow": null,
       "grid_auto_rows": null,
       "grid_column": null,
       "grid_gap": null,
       "grid_row": null,
       "grid_template_areas": null,
       "grid_template_columns": null,
       "grid_template_rows": null,
       "height": null,
       "justify_content": null,
       "justify_items": null,
       "left": null,
       "margin": null,
       "max_height": null,
       "max_width": null,
       "min_height": null,
       "min_width": null,
       "object_fit": null,
       "object_position": null,
       "order": null,
       "overflow": null,
       "overflow_x": null,
       "overflow_y": null,
       "padding": null,
       "right": null,
       "top": null,
       "visibility": null,
       "width": null
      }
     },
     "4994dfd61ee74c4cbdfb9d27bfc718f1": {
      "model_module": "@jupyter-widgets/controls",
      "model_module_version": "1.5.0",
      "model_name": "DescriptionStyleModel",
      "state": {
       "_model_module": "@jupyter-widgets/controls",
       "_model_module_version": "1.5.0",
       "_model_name": "DescriptionStyleModel",
       "_view_count": null,
       "_view_module": "@jupyter-widgets/base",
       "_view_module_version": "1.2.0",
       "_view_name": "StyleView",
       "description_width": ""
      }
     },
     "49fe1d16e5c944e2888b7ec0c48e3c98": {
      "model_module": "@jupyter-widgets/controls",
      "model_module_version": "1.5.0",
      "model_name": "DescriptionStyleModel",
      "state": {
       "_model_module": "@jupyter-widgets/controls",
       "_model_module_version": "1.5.0",
       "_model_name": "DescriptionStyleModel",
       "_view_count": null,
       "_view_module": "@jupyter-widgets/base",
       "_view_module_version": "1.2.0",
       "_view_name": "StyleView",
       "description_width": ""
      }
     },
     "4a8e04836fa6484baa75dd009b8cf6f5": {
      "model_module": "@jupyter-widgets/base",
      "model_module_version": "1.2.0",
      "model_name": "LayoutModel",
      "state": {
       "_model_module": "@jupyter-widgets/base",
       "_model_module_version": "1.2.0",
       "_model_name": "LayoutModel",
       "_view_count": null,
       "_view_module": "@jupyter-widgets/base",
       "_view_module_version": "1.2.0",
       "_view_name": "LayoutView",
       "align_content": null,
       "align_items": null,
       "align_self": null,
       "border": null,
       "bottom": null,
       "display": null,
       "flex": null,
       "flex_flow": null,
       "grid_area": null,
       "grid_auto_columns": null,
       "grid_auto_flow": null,
       "grid_auto_rows": null,
       "grid_column": null,
       "grid_gap": null,
       "grid_row": null,
       "grid_template_areas": null,
       "grid_template_columns": null,
       "grid_template_rows": null,
       "height": null,
       "justify_content": null,
       "justify_items": null,
       "left": null,
       "margin": null,
       "max_height": null,
       "max_width": null,
       "min_height": null,
       "min_width": null,
       "object_fit": null,
       "object_position": null,
       "order": null,
       "overflow": null,
       "overflow_x": null,
       "overflow_y": null,
       "padding": null,
       "right": null,
       "top": null,
       "visibility": null,
       "width": null
      }
     },
     "5075af9b12f1413fa0c86205ad819f68": {
      "model_module": "@jupyter-widgets/base",
      "model_module_version": "1.2.0",
      "model_name": "LayoutModel",
      "state": {
       "_model_module": "@jupyter-widgets/base",
       "_model_module_version": "1.2.0",
       "_model_name": "LayoutModel",
       "_view_count": null,
       "_view_module": "@jupyter-widgets/base",
       "_view_module_version": "1.2.0",
       "_view_name": "LayoutView",
       "align_content": null,
       "align_items": null,
       "align_self": null,
       "border": null,
       "bottom": null,
       "display": null,
       "flex": null,
       "flex_flow": null,
       "grid_area": null,
       "grid_auto_columns": null,
       "grid_auto_flow": null,
       "grid_auto_rows": null,
       "grid_column": null,
       "grid_gap": null,
       "grid_row": null,
       "grid_template_areas": null,
       "grid_template_columns": null,
       "grid_template_rows": null,
       "height": null,
       "justify_content": null,
       "justify_items": null,
       "left": null,
       "margin": null,
       "max_height": null,
       "max_width": null,
       "min_height": null,
       "min_width": null,
       "object_fit": null,
       "object_position": null,
       "order": null,
       "overflow": null,
       "overflow_x": null,
       "overflow_y": null,
       "padding": null,
       "right": null,
       "top": null,
       "visibility": null,
       "width": null
      }
     },
     "5557284f38794eab8ee69a49c00ab0fe": {
      "model_module": "@jupyter-widgets/controls",
      "model_module_version": "1.5.0",
      "model_name": "FloatProgressModel",
      "state": {
       "_dom_classes": [],
       "_model_module": "@jupyter-widgets/controls",
       "_model_module_version": "1.5.0",
       "_model_name": "FloatProgressModel",
       "_view_count": null,
       "_view_module": "@jupyter-widgets/controls",
       "_view_module_version": "1.5.0",
       "_view_name": "ProgressView",
       "bar_style": "success",
       "description": "",
       "description_tooltip": null,
       "layout": "IPY_MODEL_5075af9b12f1413fa0c86205ad819f68",
       "max": 3769.0,
       "min": 0.0,
       "orientation": "horizontal",
       "style": "IPY_MODEL_689e7aabdca34a3894742a410bd5e9a1",
       "value": 3769.0
      }
     },
     "55c78dccab414e44b9129478fe9bcfab": {
      "model_module": "@jupyter-widgets/controls",
      "model_module_version": "1.5.0",
      "model_name": "HTMLModel",
      "state": {
       "_dom_classes": [],
       "_model_module": "@jupyter-widgets/controls",
       "_model_module_version": "1.5.0",
       "_model_name": "HTMLModel",
       "_view_count": null,
       "_view_module": "@jupyter-widgets/controls",
       "_view_module_version": "1.5.0",
       "_view_name": "HTMLView",
       "description": "",
       "description_tooltip": null,
       "layout": "IPY_MODEL_a846130b78864400983fdd26115afbe3",
       "placeholder": "​",
       "style": "IPY_MODEL_b00684b55c564384ab4ed7bb4dc351ac",
       "value": "Map: 100%"
      }
     },
     "58158b840eee413fa7f3b7b85a02cae6": {
      "model_module": "@jupyter-widgets/controls",
      "model_module_version": "1.5.0",
      "model_name": "HBoxModel",
      "state": {
       "_dom_classes": [],
       "_model_module": "@jupyter-widgets/controls",
       "_model_module_version": "1.5.0",
       "_model_name": "HBoxModel",
       "_view_count": null,
       "_view_module": "@jupyter-widgets/controls",
       "_view_module_version": "1.5.0",
       "_view_name": "HBoxView",
       "box_style": "",
       "children": [
        "IPY_MODEL_5da1d186addd4d9c86cad4c5de423963",
        "IPY_MODEL_06d554dbf14d4002b9d90ebef4234b83",
        "IPY_MODEL_9755685ba6344237a4ddcc25e0a67766"
       ],
       "layout": "IPY_MODEL_d106546f59ce403ca556c27fdcf445ad"
      }
     },
     "59d306a5e6f74f65825f6f23ddfea454": {
      "model_module": "@jupyter-widgets/controls",
      "model_module_version": "1.5.0",
      "model_name": "FloatProgressModel",
      "state": {
       "_dom_classes": [],
       "_model_module": "@jupyter-widgets/controls",
       "_model_module_version": "1.5.0",
       "_model_name": "FloatProgressModel",
       "_view_count": null,
       "_view_module": "@jupyter-widgets/controls",
       "_view_module_version": "1.5.0",
       "_view_name": "ProgressView",
       "bar_style": "success",
       "description": "",
       "description_tooltip": null,
       "layout": "IPY_MODEL_f9c4a8bbe28c464a81fde7d1df12988c",
       "max": 112.0,
       "min": 0.0,
       "orientation": "horizontal",
       "style": "IPY_MODEL_8bb6a0e6f82a4210b55acfe0eb990fa7",
       "value": 112.0
      }
     },
     "5da1d186addd4d9c86cad4c5de423963": {
      "model_module": "@jupyter-widgets/controls",
      "model_module_version": "1.5.0",
      "model_name": "HTMLModel",
      "state": {
       "_dom_classes": [],
       "_model_module": "@jupyter-widgets/controls",
       "_model_module_version": "1.5.0",
       "_model_name": "HTMLModel",
       "_view_count": null,
       "_view_module": "@jupyter-widgets/controls",
       "_view_module_version": "1.5.0",
       "_view_name": "HTMLView",
       "description": "",
       "description_tooltip": null,
       "layout": "IPY_MODEL_1899b5dfdeae44e6805b846ec17be985",
       "placeholder": "​",
       "style": "IPY_MODEL_4994dfd61ee74c4cbdfb9d27bfc718f1",
       "value": "tokenizer_config.json: 100%"
      }
     },
     "5f0d63252f5f4309a9058f892f3323a2": {
      "model_module": "@jupyter-widgets/base",
      "model_module_version": "1.2.0",
      "model_name": "LayoutModel",
      "state": {
       "_model_module": "@jupyter-widgets/base",
       "_model_module_version": "1.2.0",
       "_model_name": "LayoutModel",
       "_view_count": null,
       "_view_module": "@jupyter-widgets/base",
       "_view_module_version": "1.2.0",
       "_view_name": "LayoutView",
       "align_content": null,
       "align_items": null,
       "align_self": null,
       "border": null,
       "bottom": null,
       "display": null,
       "flex": null,
       "flex_flow": null,
       "grid_area": null,
       "grid_auto_columns": null,
       "grid_auto_flow": null,
       "grid_auto_rows": null,
       "grid_column": null,
       "grid_gap": null,
       "grid_row": null,
       "grid_template_areas": null,
       "grid_template_columns": null,
       "grid_template_rows": null,
       "height": null,
       "justify_content": null,
       "justify_items": null,
       "left": null,
       "margin": null,
       "max_height": null,
       "max_width": null,
       "min_height": null,
       "min_width": null,
       "object_fit": null,
       "object_position": null,
       "order": null,
       "overflow": null,
       "overflow_x": null,
       "overflow_y": null,
       "padding": null,
       "right": null,
       "top": null,
       "visibility": null,
       "width": null
      }
     },
     "64574141493d40ebbb2db17991991cc0": {
      "model_module": "@jupyter-widgets/controls",
      "model_module_version": "1.5.0",
      "model_name": "HTMLModel",
      "state": {
       "_dom_classes": [],
       "_model_module": "@jupyter-widgets/controls",
       "_model_module_version": "1.5.0",
       "_model_name": "HTMLModel",
       "_view_count": null,
       "_view_module": "@jupyter-widgets/controls",
       "_view_module_version": "1.5.0",
       "_view_name": "HTMLView",
       "description": "",
       "description_tooltip": null,
       "layout": "IPY_MODEL_f20e4f2ced3441e8ab22aa48341885f6",
       "placeholder": "​",
       "style": "IPY_MODEL_df33c949329840a6a3423862ea595727",
       "value": " 438M/438M [00:01&lt;00:00, 289MB/s]"
      }
     },
     "665a195c98224e6aa3525a0e74df0347": {
      "model_module": "@jupyter-widgets/base",
      "model_module_version": "1.2.0",
      "model_name": "LayoutModel",
      "state": {
       "_model_module": "@jupyter-widgets/base",
       "_model_module_version": "1.2.0",
       "_model_name": "LayoutModel",
       "_view_count": null,
       "_view_module": "@jupyter-widgets/base",
       "_view_module_version": "1.2.0",
       "_view_name": "LayoutView",
       "align_content": null,
       "align_items": null,
       "align_self": null,
       "border": null,
       "bottom": null,
       "display": null,
       "flex": null,
       "flex_flow": null,
       "grid_area": null,
       "grid_auto_columns": null,
       "grid_auto_flow": null,
       "grid_auto_rows": null,
       "grid_column": null,
       "grid_gap": null,
       "grid_row": null,
       "grid_template_areas": null,
       "grid_template_columns": null,
       "grid_template_rows": null,
       "height": null,
       "justify_content": null,
       "justify_items": null,
       "left": null,
       "margin": null,
       "max_height": null,
       "max_width": null,
       "min_height": null,
       "min_width": null,
       "object_fit": null,
       "object_position": null,
       "order": null,
       "overflow": null,
       "overflow_x": null,
       "overflow_y": null,
       "padding": null,
       "right": null,
       "top": null,
       "visibility": null,
       "width": null
      }
     },
     "689e7aabdca34a3894742a410bd5e9a1": {
      "model_module": "@jupyter-widgets/controls",
      "model_module_version": "1.5.0",
      "model_name": "ProgressStyleModel",
      "state": {
       "_model_module": "@jupyter-widgets/controls",
       "_model_module_version": "1.5.0",
       "_model_name": "ProgressStyleModel",
       "_view_count": null,
       "_view_module": "@jupyter-widgets/base",
       "_view_module_version": "1.2.0",
       "_view_name": "StyleView",
       "bar_color": null,
       "description_width": ""
      }
     },
     "6b4dc6434e254d8ea9674a123ff881d2": {
      "model_module": "@jupyter-widgets/base",
      "model_module_version": "1.2.0",
      "model_name": "LayoutModel",
      "state": {
       "_model_module": "@jupyter-widgets/base",
       "_model_module_version": "1.2.0",
       "_model_name": "LayoutModel",
       "_view_count": null,
       "_view_module": "@jupyter-widgets/base",
       "_view_module_version": "1.2.0",
       "_view_name": "LayoutView",
       "align_content": null,
       "align_items": null,
       "align_self": null,
       "border": null,
       "bottom": null,
       "display": null,
       "flex": null,
       "flex_flow": null,
       "grid_area": null,
       "grid_auto_columns": null,
       "grid_auto_flow": null,
       "grid_auto_rows": null,
       "grid_column": null,
       "grid_gap": null,
       "grid_row": null,
       "grid_template_areas": null,
       "grid_template_columns": null,
       "grid_template_rows": null,
       "height": null,
       "justify_content": null,
       "justify_items": null,
       "left": null,
       "margin": null,
       "max_height": null,
       "max_width": null,
       "min_height": null,
       "min_width": null,
       "object_fit": null,
       "object_position": null,
       "order": null,
       "overflow": null,
       "overflow_x": null,
       "overflow_y": null,
       "padding": null,
       "right": null,
       "top": null,
       "visibility": null,
       "width": null
      }
     },
     "704abb36fa42498f935278a42ea2ee44": {
      "model_module": "@jupyter-widgets/base",
      "model_module_version": "1.2.0",
      "model_name": "LayoutModel",
      "state": {
       "_model_module": "@jupyter-widgets/base",
       "_model_module_version": "1.2.0",
       "_model_name": "LayoutModel",
       "_view_count": null,
       "_view_module": "@jupyter-widgets/base",
       "_view_module_version": "1.2.0",
       "_view_name": "LayoutView",
       "align_content": null,
       "align_items": null,
       "align_self": null,
       "border": null,
       "bottom": null,
       "display": null,
       "flex": null,
       "flex_flow": null,
       "grid_area": null,
       "grid_auto_columns": null,
       "grid_auto_flow": null,
       "grid_auto_rows": null,
       "grid_column": null,
       "grid_gap": null,
       "grid_row": null,
       "grid_template_areas": null,
       "grid_template_columns": null,
       "grid_template_rows": null,
       "height": null,
       "justify_content": null,
       "justify_items": null,
       "left": null,
       "margin": null,
       "max_height": null,
       "max_width": null,
       "min_height": null,
       "min_width": null,
       "object_fit": null,
       "object_position": null,
       "order": null,
       "overflow": null,
       "overflow_x": null,
       "overflow_y": null,
       "padding": null,
       "right": null,
       "top": null,
       "visibility": null,
       "width": null
      }
     },
     "78fd407cf5684d8e8b41cdf822b23a46": {
      "model_module": "@jupyter-widgets/controls",
      "model_module_version": "1.5.0",
      "model_name": "ProgressStyleModel",
      "state": {
       "_model_module": "@jupyter-widgets/controls",
       "_model_module_version": "1.5.0",
       "_model_name": "ProgressStyleModel",
       "_view_count": null,
       "_view_module": "@jupyter-widgets/base",
       "_view_module_version": "1.2.0",
       "_view_name": "StyleView",
       "bar_color": null,
       "description_width": ""
      }
     },
     "792e349cf1b94358a39c0010c5259318": {
      "model_module": "@jupyter-widgets/controls",
      "model_module_version": "1.5.0",
      "model_name": "HBoxModel",
      "state": {
       "_dom_classes": [],
       "_model_module": "@jupyter-widgets/controls",
       "_model_module_version": "1.5.0",
       "_model_name": "HBoxModel",
       "_view_count": null,
       "_view_module": "@jupyter-widgets/controls",
       "_view_module_version": "1.5.0",
       "_view_name": "HBoxView",
       "box_style": "",
       "children": [
        "IPY_MODEL_31b2b28583444fafb6724e3aa68579ce",
        "IPY_MODEL_807786ce7c574ad1a30ba546065ac86d",
        "IPY_MODEL_b97274b887a14e5c8f52b9a25c282c69"
       ],
       "layout": "IPY_MODEL_5f0d63252f5f4309a9058f892f3323a2"
      }
     },
     "7c25463e13b447e88bcdcb95c812d072": {
      "model_module": "@jupyter-widgets/controls",
      "model_module_version": "1.5.0",
      "model_name": "HTMLModel",
      "state": {
       "_dom_classes": [],
       "_model_module": "@jupyter-widgets/controls",
       "_model_module_version": "1.5.0",
       "_model_name": "HTMLModel",
       "_view_count": null,
       "_view_module": "@jupyter-widgets/controls",
       "_view_module_version": "1.5.0",
       "_view_name": "HTMLView",
       "description": "",
       "description_tooltip": null,
       "layout": "IPY_MODEL_665a195c98224e6aa3525a0e74df0347",
       "placeholder": "​",
       "style": "IPY_MODEL_ed554b616e2e4dff88554b514d67555d",
       "value": "Map: 100%"
      }
     },
     "7c72780ee7c04a13bbb0355d7a1b958e": {
      "model_module": "@jupyter-widgets/controls",
      "model_module_version": "1.5.0",
      "model_name": "DescriptionStyleModel",
      "state": {
       "_model_module": "@jupyter-widgets/controls",
       "_model_module_version": "1.5.0",
       "_model_name": "DescriptionStyleModel",
       "_view_count": null,
       "_view_module": "@jupyter-widgets/base",
       "_view_module_version": "1.2.0",
       "_view_name": "StyleView",
       "description_width": ""
      }
     },
     "7db2d638e3594d71acd9678a9df0e84d": {
      "model_module": "@jupyter-widgets/controls",
      "model_module_version": "1.5.0",
      "model_name": "FloatProgressModel",
      "state": {
       "_dom_classes": [],
       "_model_module": "@jupyter-widgets/controls",
       "_model_module_version": "1.5.0",
       "_model_name": "FloatProgressModel",
       "_view_count": null,
       "_view_module": "@jupyter-widgets/controls",
       "_view_module_version": "1.5.0",
       "_view_name": "ProgressView",
       "bar_style": "success",
       "description": "",
       "description_tooltip": null,
       "layout": "IPY_MODEL_704abb36fa42498f935278a42ea2ee44",
       "max": 758.0,
       "min": 0.0,
       "orientation": "horizontal",
       "style": "IPY_MODEL_7f4ab0bcf1374a6199f405930d363289",
       "value": 758.0
      }
     },
     "7f4ab0bcf1374a6199f405930d363289": {
      "model_module": "@jupyter-widgets/controls",
      "model_module_version": "1.5.0",
      "model_name": "ProgressStyleModel",
      "state": {
       "_model_module": "@jupyter-widgets/controls",
       "_model_module_version": "1.5.0",
       "_model_name": "ProgressStyleModel",
       "_view_count": null,
       "_view_module": "@jupyter-widgets/base",
       "_view_module_version": "1.2.0",
       "_view_name": "StyleView",
       "bar_color": null,
       "description_width": ""
      }
     },
     "807786ce7c574ad1a30ba546065ac86d": {
      "model_module": "@jupyter-widgets/controls",
      "model_module_version": "1.5.0",
      "model_name": "FloatProgressModel",
      "state": {
       "_dom_classes": [],
       "_model_module": "@jupyter-widgets/controls",
       "_model_module_version": "1.5.0",
       "_model_name": "FloatProgressModel",
       "_view_count": null,
       "_view_module": "@jupyter-widgets/controls",
       "_view_module_version": "1.5.0",
       "_view_name": "ProgressView",
       "bar_style": "success",
       "description": "",
       "description_tooltip": null,
       "layout": "IPY_MODEL_f1f0b37cf7d04b4a8cca74992f746c8b",
       "max": 534.0,
       "min": 0.0,
       "orientation": "horizontal",
       "style": "IPY_MODEL_78fd407cf5684d8e8b41cdf822b23a46",
       "value": 534.0
      }
     },
     "84ee56cf1f344af582b3e7bac8ef060c": {
      "model_module": "@jupyter-widgets/controls",
      "model_module_version": "1.5.0",
      "model_name": "HTMLModel",
      "state": {
       "_dom_classes": [],
       "_model_module": "@jupyter-widgets/controls",
       "_model_module_version": "1.5.0",
       "_model_name": "HTMLModel",
       "_view_count": null,
       "_view_module": "@jupyter-widgets/controls",
       "_view_module_version": "1.5.0",
       "_view_name": "HTMLView",
       "description": "",
       "description_tooltip": null,
       "layout": "IPY_MODEL_fe9596e11b8646f9bace99a31c2b12b3",
       "placeholder": "​",
       "style": "IPY_MODEL_7c72780ee7c04a13bbb0355d7a1b958e",
       "value": " 232k/232k [00:00&lt;00:00, 6.75MB/s]"
      }
     },
     "8889888de7bc4ea6981533b0e16cdd41": {
      "model_module": "@jupyter-widgets/base",
      "model_module_version": "1.2.0",
      "model_name": "LayoutModel",
      "state": {
       "_model_module": "@jupyter-widgets/base",
       "_model_module_version": "1.2.0",
       "_model_name": "LayoutModel",
       "_view_count": null,
       "_view_module": "@jupyter-widgets/base",
       "_view_module_version": "1.2.0",
       "_view_name": "LayoutView",
       "align_content": null,
       "align_items": null,
       "align_self": null,
       "border": null,
       "bottom": null,
       "display": null,
       "flex": null,
       "flex_flow": null,
       "grid_area": null,
       "grid_auto_columns": null,
       "grid_auto_flow": null,
       "grid_auto_rows": null,
       "grid_column": null,
       "grid_gap": null,
       "grid_row": null,
       "grid_template_areas": null,
       "grid_template_columns": null,
       "grid_template_rows": null,
       "height": null,
       "justify_content": null,
       "justify_items": null,
       "left": null,
       "margin": null,
       "max_height": null,
       "max_width": null,
       "min_height": null,
       "min_width": null,
       "object_fit": null,
       "object_position": null,
       "order": null,
       "overflow": null,
       "overflow_x": null,
       "overflow_y": null,
       "padding": null,
       "right": null,
       "top": null,
       "visibility": null,
       "width": null
      }
     },
     "8bb6a0e6f82a4210b55acfe0eb990fa7": {
      "model_module": "@jupyter-widgets/controls",
      "model_module_version": "1.5.0",
      "model_name": "ProgressStyleModel",
      "state": {
       "_model_module": "@jupyter-widgets/controls",
       "_model_module_version": "1.5.0",
       "_model_name": "ProgressStyleModel",
       "_view_count": null,
       "_view_module": "@jupyter-widgets/base",
       "_view_module_version": "1.2.0",
       "_view_name": "StyleView",
       "bar_color": null,
       "description_width": ""
      }
     },
     "9015e0b40aba4b0d860d4d42feb19f95": {
      "model_module": "@jupyter-widgets/controls",
      "model_module_version": "1.5.0",
      "model_name": "DescriptionStyleModel",
      "state": {
       "_model_module": "@jupyter-widgets/controls",
       "_model_module_version": "1.5.0",
       "_model_name": "DescriptionStyleModel",
       "_view_count": null,
       "_view_module": "@jupyter-widgets/base",
       "_view_module_version": "1.2.0",
       "_view_name": "StyleView",
       "description_width": ""
      }
     },
     "917ac59c93c54491908a9ee4be7f275d": {
      "model_module": "@jupyter-widgets/base",
      "model_module_version": "1.2.0",
      "model_name": "LayoutModel",
      "state": {
       "_model_module": "@jupyter-widgets/base",
       "_model_module_version": "1.2.0",
       "_model_name": "LayoutModel",
       "_view_count": null,
       "_view_module": "@jupyter-widgets/base",
       "_view_module_version": "1.2.0",
       "_view_name": "LayoutView",
       "align_content": null,
       "align_items": null,
       "align_self": null,
       "border": null,
       "bottom": null,
       "display": null,
       "flex": null,
       "flex_flow": null,
       "grid_area": null,
       "grid_auto_columns": null,
       "grid_auto_flow": null,
       "grid_auto_rows": null,
       "grid_column": null,
       "grid_gap": null,
       "grid_row": null,
       "grid_template_areas": null,
       "grid_template_columns": null,
       "grid_template_rows": null,
       "height": null,
       "justify_content": null,
       "justify_items": null,
       "left": null,
       "margin": null,
       "max_height": null,
       "max_width": null,
       "min_height": null,
       "min_width": null,
       "object_fit": null,
       "object_position": null,
       "order": null,
       "overflow": null,
       "overflow_x": null,
       "overflow_y": null,
       "padding": null,
       "right": null,
       "top": null,
       "visibility": null,
       "width": null
      }
     },
     "92856029cd0247edb20b6201940c56f9": {
      "model_module": "@jupyter-widgets/base",
      "model_module_version": "1.2.0",
      "model_name": "LayoutModel",
      "state": {
       "_model_module": "@jupyter-widgets/base",
       "_model_module_version": "1.2.0",
       "_model_name": "LayoutModel",
       "_view_count": null,
       "_view_module": "@jupyter-widgets/base",
       "_view_module_version": "1.2.0",
       "_view_name": "LayoutView",
       "align_content": null,
       "align_items": null,
       "align_self": null,
       "border": null,
       "bottom": null,
       "display": null,
       "flex": null,
       "flex_flow": null,
       "grid_area": null,
       "grid_auto_columns": null,
       "grid_auto_flow": null,
       "grid_auto_rows": null,
       "grid_column": null,
       "grid_gap": null,
       "grid_row": null,
       "grid_template_areas": null,
       "grid_template_columns": null,
       "grid_template_rows": null,
       "height": null,
       "justify_content": null,
       "justify_items": null,
       "left": null,
       "margin": null,
       "max_height": null,
       "max_width": null,
       "min_height": null,
       "min_width": null,
       "object_fit": null,
       "object_position": null,
       "order": null,
       "overflow": null,
       "overflow_x": null,
       "overflow_y": null,
       "padding": null,
       "right": null,
       "top": null,
       "visibility": null,
       "width": null
      }
     },
     "92b1be1e3b1847ef99482b3cb2cc39a4": {
      "model_module": "@jupyter-widgets/controls",
      "model_module_version": "1.5.0",
      "model_name": "HTMLModel",
      "state": {
       "_dom_classes": [],
       "_model_module": "@jupyter-widgets/controls",
       "_model_module_version": "1.5.0",
       "_model_name": "HTMLModel",
       "_view_count": null,
       "_view_module": "@jupyter-widgets/controls",
       "_view_module_version": "1.5.0",
       "_view_name": "HTMLView",
       "description": "",
       "description_tooltip": null,
       "layout": "IPY_MODEL_c0f4596d6a364f8fbca96704dca55bb0",
       "placeholder": "​",
       "style": "IPY_MODEL_9015e0b40aba4b0d860d4d42feb19f95",
       "value": " 758/758 [00:00&lt;00:00, 64.4kB/s]"
      }
     },
     "942e60c2331049d2a97e4b05787b7a41": {
      "model_module": "@jupyter-widgets/base",
      "model_module_version": "1.2.0",
      "model_name": "LayoutModel",
      "state": {
       "_model_module": "@jupyter-widgets/base",
       "_model_module_version": "1.2.0",
       "_model_name": "LayoutModel",
       "_view_count": null,
       "_view_module": "@jupyter-widgets/base",
       "_view_module_version": "1.2.0",
       "_view_name": "LayoutView",
       "align_content": null,
       "align_items": null,
       "align_self": null,
       "border": null,
       "bottom": null,
       "display": null,
       "flex": null,
       "flex_flow": null,
       "grid_area": null,
       "grid_auto_columns": null,
       "grid_auto_flow": null,
       "grid_auto_rows": null,
       "grid_column": null,
       "grid_gap": null,
       "grid_row": null,
       "grid_template_areas": null,
       "grid_template_columns": null,
       "grid_template_rows": null,
       "height": null,
       "justify_content": null,
       "justify_items": null,
       "left": null,
       "margin": null,
       "max_height": null,
       "max_width": null,
       "min_height": null,
       "min_width": null,
       "object_fit": null,
       "object_position": null,
       "order": null,
       "overflow": null,
       "overflow_x": null,
       "overflow_y": null,
       "padding": null,
       "right": null,
       "top": null,
       "visibility": null,
       "width": null
      }
     },
     "9755685ba6344237a4ddcc25e0a67766": {
      "model_module": "@jupyter-widgets/controls",
      "model_module_version": "1.5.0",
      "model_name": "HTMLModel",
      "state": {
       "_dom_classes": [],
       "_model_module": "@jupyter-widgets/controls",
       "_model_module_version": "1.5.0",
       "_model_name": "HTMLModel",
       "_view_count": null,
       "_view_module": "@jupyter-widgets/controls",
       "_view_module_version": "1.5.0",
       "_view_name": "HTMLView",
       "description": "",
       "description_tooltip": null,
       "layout": "IPY_MODEL_15d87051e97345acb155f4baa5762efc",
       "placeholder": "​",
       "style": "IPY_MODEL_d97bd7e6cce141eeaa4c85a2264cab51",
       "value": " 252/252 [00:00&lt;00:00, 20.8kB/s]"
      }
     },
     "9f9f3184ef154e81af028856b75cd97b": {
      "model_module": "@jupyter-widgets/controls",
      "model_module_version": "1.5.0",
      "model_name": "DescriptionStyleModel",
      "state": {
       "_model_module": "@jupyter-widgets/controls",
       "_model_module_version": "1.5.0",
       "_model_name": "DescriptionStyleModel",
       "_view_count": null,
       "_view_module": "@jupyter-widgets/base",
       "_view_module_version": "1.2.0",
       "_view_name": "StyleView",
       "description_width": ""
      }
     },
     "a2b35a45452f4237afb3ed1f712d4e86": {
      "model_module": "@jupyter-widgets/controls",
      "model_module_version": "1.5.0",
      "model_name": "HBoxModel",
      "state": {
       "_dom_classes": [],
       "_model_module": "@jupyter-widgets/controls",
       "_model_module_version": "1.5.0",
       "_model_name": "HBoxModel",
       "_view_count": null,
       "_view_module": "@jupyter-widgets/controls",
       "_view_module_version": "1.5.0",
       "_view_name": "HBoxView",
       "box_style": "",
       "children": [
        "IPY_MODEL_12f2438498984218a6885eea58f5e5bd",
        "IPY_MODEL_7db2d638e3594d71acd9678a9df0e84d",
        "IPY_MODEL_92b1be1e3b1847ef99482b3cb2cc39a4"
       ],
       "layout": "IPY_MODEL_397d2e9a78cc40f39628ff920c1a81c7"
      }
     },
     "a57988ffda2d45d9b3eab43e5b9c13de": {
      "model_module": "@jupyter-widgets/controls",
      "model_module_version": "1.5.0",
      "model_name": "DescriptionStyleModel",
      "state": {
       "_model_module": "@jupyter-widgets/controls",
       "_model_module_version": "1.5.0",
       "_model_name": "DescriptionStyleModel",
       "_view_count": null,
       "_view_module": "@jupyter-widgets/base",
       "_view_module_version": "1.2.0",
       "_view_name": "StyleView",
       "description_width": ""
      }
     },
     "a67b19a074374419a0f0dcad312b63d6": {
      "model_module": "@jupyter-widgets/controls",
      "model_module_version": "1.5.0",
      "model_name": "FloatProgressModel",
      "state": {
       "_dom_classes": [],
       "_model_module": "@jupyter-widgets/controls",
       "_model_module_version": "1.5.0",
       "_model_name": "FloatProgressModel",
       "_view_count": null,
       "_view_module": "@jupyter-widgets/controls",
       "_view_module_version": "1.5.0",
       "_view_name": "ProgressView",
       "bar_style": "success",
       "description": "",
       "description_tooltip": null,
       "layout": "IPY_MODEL_fcd7c042530549a2b205b3c5a17ffb62",
       "max": 231508.0,
       "min": 0.0,
       "orientation": "horizontal",
       "style": "IPY_MODEL_18811c3b07b747f9849ad14ca57214f8",
       "value": 231508.0
      }
     },
     "a846130b78864400983fdd26115afbe3": {
      "model_module": "@jupyter-widgets/base",
      "model_module_version": "1.2.0",
      "model_name": "LayoutModel",
      "state": {
       "_model_module": "@jupyter-widgets/base",
       "_model_module_version": "1.2.0",
       "_model_name": "LayoutModel",
       "_view_count": null,
       "_view_module": "@jupyter-widgets/base",
       "_view_module_version": "1.2.0",
       "_view_name": "LayoutView",
       "align_content": null,
       "align_items": null,
       "align_self": null,
       "border": null,
       "bottom": null,
       "display": null,
       "flex": null,
       "flex_flow": null,
       "grid_area": null,
       "grid_auto_columns": null,
       "grid_auto_flow": null,
       "grid_auto_rows": null,
       "grid_column": null,
       "grid_gap": null,
       "grid_row": null,
       "grid_template_areas": null,
       "grid_template_columns": null,
       "grid_template_rows": null,
       "height": null,
       "justify_content": null,
       "justify_items": null,
       "left": null,
       "margin": null,
       "max_height": null,
       "max_width": null,
       "min_height": null,
       "min_width": null,
       "object_fit": null,
       "object_position": null,
       "order": null,
       "overflow": null,
       "overflow_x": null,
       "overflow_y": null,
       "padding": null,
       "right": null,
       "top": null,
       "visibility": null,
       "width": null
      }
     },
     "aaf583914a3748239992b770567face5": {
      "model_module": "@jupyter-widgets/controls",
      "model_module_version": "1.5.0",
      "model_name": "ProgressStyleModel",
      "state": {
       "_model_module": "@jupyter-widgets/controls",
       "_model_module_version": "1.5.0",
       "_model_name": "ProgressStyleModel",
       "_view_count": null,
       "_view_module": "@jupyter-widgets/base",
       "_view_module_version": "1.2.0",
       "_view_name": "StyleView",
       "bar_color": null,
       "description_width": ""
      }
     },
     "ac18e9d5b9a8489796e9ab186fcbc11b": {
      "model_module": "@jupyter-widgets/controls",
      "model_module_version": "1.5.0",
      "model_name": "HBoxModel",
      "state": {
       "_dom_classes": [],
       "_model_module": "@jupyter-widgets/controls",
       "_model_module_version": "1.5.0",
       "_model_name": "HBoxModel",
       "_view_count": null,
       "_view_module": "@jupyter-widgets/controls",
       "_view_module_version": "1.5.0",
       "_view_name": "HBoxView",
       "box_style": "",
       "children": [
        "IPY_MODEL_3b87a0f3d6d04d4c99445eba3dd4ed6f",
        "IPY_MODEL_59d306a5e6f74f65825f6f23ddfea454",
        "IPY_MODEL_c7ad429d1ada4dc986c2b489f413954b"
       ],
       "layout": "IPY_MODEL_917ac59c93c54491908a9ee4be7f275d"
      }
     },
     "b00684b55c564384ab4ed7bb4dc351ac": {
      "model_module": "@jupyter-widgets/controls",
      "model_module_version": "1.5.0",
      "model_name": "DescriptionStyleModel",
      "state": {
       "_model_module": "@jupyter-widgets/controls",
       "_model_module_version": "1.5.0",
       "_model_name": "DescriptionStyleModel",
       "_view_count": null,
       "_view_module": "@jupyter-widgets/base",
       "_view_module_version": "1.2.0",
       "_view_name": "StyleView",
       "description_width": ""
      }
     },
     "b43671cc489a484e96ed47cbd28b5c6b": {
      "model_module": "@jupyter-widgets/controls",
      "model_module_version": "1.5.0",
      "model_name": "FloatProgressModel",
      "state": {
       "_dom_classes": [],
       "_model_module": "@jupyter-widgets/controls",
       "_model_module_version": "1.5.0",
       "_model_name": "FloatProgressModel",
       "_view_count": null,
       "_view_module": "@jupyter-widgets/controls",
       "_view_module_version": "1.5.0",
       "_view_name": "ProgressView",
       "bar_style": "success",
       "description": "",
       "description_tooltip": null,
       "layout": "IPY_MODEL_f797a1e4a9fe423cbaa942c8827989ac",
       "max": 1082.0,
       "min": 0.0,
       "orientation": "horizontal",
       "style": "IPY_MODEL_aaf583914a3748239992b770567face5",
       "value": 1082.0
      }
     },
     "b446dec8f95e4e8ab8c5bb1917d329b8": {
      "model_module": "@jupyter-widgets/base",
      "model_module_version": "1.2.0",
      "model_name": "LayoutModel",
      "state": {
       "_model_module": "@jupyter-widgets/base",
       "_model_module_version": "1.2.0",
       "_model_name": "LayoutModel",
       "_view_count": null,
       "_view_module": "@jupyter-widgets/base",
       "_view_module_version": "1.2.0",
       "_view_name": "LayoutView",
       "align_content": null,
       "align_items": null,
       "align_self": null,
       "border": null,
       "bottom": null,
       "display": null,
       "flex": null,
       "flex_flow": null,
       "grid_area": null,
       "grid_auto_columns": null,
       "grid_auto_flow": null,
       "grid_auto_rows": null,
       "grid_column": null,
       "grid_gap": null,
       "grid_row": null,
       "grid_template_areas": null,
       "grid_template_columns": null,
       "grid_template_rows": null,
       "height": null,
       "justify_content": null,
       "justify_items": null,
       "left": null,
       "margin": null,
       "max_height": null,
       "max_width": null,
       "min_height": null,
       "min_width": null,
       "object_fit": null,
       "object_position": null,
       "order": null,
       "overflow": null,
       "overflow_x": null,
       "overflow_y": null,
       "padding": null,
       "right": null,
       "top": null,
       "visibility": null,
       "width": null
      }
     },
     "b97274b887a14e5c8f52b9a25c282c69": {
      "model_module": "@jupyter-widgets/controls",
      "model_module_version": "1.5.0",
      "model_name": "HTMLModel",
      "state": {
       "_dom_classes": [],
       "_model_module": "@jupyter-widgets/controls",
       "_model_module_version": "1.5.0",
       "_model_name": "HTMLModel",
       "_view_count": null,
       "_view_module": "@jupyter-widgets/controls",
       "_view_module_version": "1.5.0",
       "_view_name": "HTMLView",
       "description": "",
       "description_tooltip": null,
       "layout": "IPY_MODEL_4a8e04836fa6484baa75dd009b8cf6f5",
       "placeholder": "​",
       "style": "IPY_MODEL_e66a77ec9c294b5abf9a4550f08d3284",
       "value": " 534/534 [00:00&lt;00:00, 4115.78 examples/s]"
      }
     },
     "bca34246d83645ac8ab7b374c84f2f02": {
      "model_module": "@jupyter-widgets/controls",
      "model_module_version": "1.5.0",
      "model_name": "DescriptionStyleModel",
      "state": {
       "_model_module": "@jupyter-widgets/controls",
       "_model_module_version": "1.5.0",
       "_model_name": "DescriptionStyleModel",
       "_view_count": null,
       "_view_module": "@jupyter-widgets/base",
       "_view_module_version": "1.2.0",
       "_view_name": "StyleView",
       "description_width": ""
      }
     },
     "c0f4596d6a364f8fbca96704dca55bb0": {
      "model_module": "@jupyter-widgets/base",
      "model_module_version": "1.2.0",
      "model_name": "LayoutModel",
      "state": {
       "_model_module": "@jupyter-widgets/base",
       "_model_module_version": "1.2.0",
       "_model_name": "LayoutModel",
       "_view_count": null,
       "_view_module": "@jupyter-widgets/base",
       "_view_module_version": "1.2.0",
       "_view_name": "LayoutView",
       "align_content": null,
       "align_items": null,
       "align_self": null,
       "border": null,
       "bottom": null,
       "display": null,
       "flex": null,
       "flex_flow": null,
       "grid_area": null,
       "grid_auto_columns": null,
       "grid_auto_flow": null,
       "grid_auto_rows": null,
       "grid_column": null,
       "grid_gap": null,
       "grid_row": null,
       "grid_template_areas": null,
       "grid_template_columns": null,
       "grid_template_rows": null,
       "height": null,
       "justify_content": null,
       "justify_items": null,
       "left": null,
       "margin": null,
       "max_height": null,
       "max_width": null,
       "min_height": null,
       "min_width": null,
       "object_fit": null,
       "object_position": null,
       "order": null,
       "overflow": null,
       "overflow_x": null,
       "overflow_y": null,
       "padding": null,
       "right": null,
       "top": null,
       "visibility": null,
       "width": null
      }
     },
     "c5a27d9b76fd45e5bbcd6826499ee93a": {
      "model_module": "@jupyter-widgets/controls",
      "model_module_version": "1.5.0",
      "model_name": "HBoxModel",
      "state": {
       "_dom_classes": [],
       "_model_module": "@jupyter-widgets/controls",
       "_model_module_version": "1.5.0",
       "_model_name": "HBoxModel",
       "_view_count": null,
       "_view_module": "@jupyter-widgets/controls",
       "_view_module_version": "1.5.0",
       "_view_name": "HBoxView",
       "box_style": "",
       "children": [
        "IPY_MODEL_f0f1015eca4547259b37d8dcd51eaebd",
        "IPY_MODEL_a67b19a074374419a0f0dcad312b63d6",
        "IPY_MODEL_84ee56cf1f344af582b3e7bac8ef060c"
       ],
       "layout": "IPY_MODEL_942e60c2331049d2a97e4b05787b7a41"
      }
     },
     "c73583e1f429421291061d66ca8aced2": {
      "model_module": "@jupyter-widgets/base",
      "model_module_version": "1.2.0",
      "model_name": "LayoutModel",
      "state": {
       "_model_module": "@jupyter-widgets/base",
       "_model_module_version": "1.2.0",
       "_model_name": "LayoutModel",
       "_view_count": null,
       "_view_module": "@jupyter-widgets/base",
       "_view_module_version": "1.2.0",
       "_view_name": "LayoutView",
       "align_content": null,
       "align_items": null,
       "align_self": null,
       "border": null,
       "bottom": null,
       "display": null,
       "flex": null,
       "flex_flow": null,
       "grid_area": null,
       "grid_auto_columns": null,
       "grid_auto_flow": null,
       "grid_auto_rows": null,
       "grid_column": null,
       "grid_gap": null,
       "grid_row": null,
       "grid_template_areas": null,
       "grid_template_columns": null,
       "grid_template_rows": null,
       "height": null,
       "justify_content": null,
       "justify_items": null,
       "left": null,
       "margin": null,
       "max_height": null,
       "max_width": null,
       "min_height": null,
       "min_width": null,
       "object_fit": null,
       "object_position": null,
       "order": null,
       "overflow": null,
       "overflow_x": null,
       "overflow_y": null,
       "padding": null,
       "right": null,
       "top": null,
       "visibility": null,
       "width": null
      }
     },
     "c7ad429d1ada4dc986c2b489f413954b": {
      "model_module": "@jupyter-widgets/controls",
      "model_module_version": "1.5.0",
      "model_name": "HTMLModel",
      "state": {
       "_dom_classes": [],
       "_model_module": "@jupyter-widgets/controls",
       "_model_module_version": "1.5.0",
       "_model_name": "HTMLModel",
       "_view_count": null,
       "_view_module": "@jupyter-widgets/controls",
       "_view_module_version": "1.5.0",
       "_view_name": "HTMLView",
       "description": "",
       "description_tooltip": null,
       "layout": "IPY_MODEL_b446dec8f95e4e8ab8c5bb1917d329b8",
       "placeholder": "​",
       "style": "IPY_MODEL_a57988ffda2d45d9b3eab43e5b9c13de",
       "value": " 112/112 [00:00&lt;00:00, 10.9kB/s]"
      }
     },
     "cce0ef1a9ae542298a36dff1162b42bb": {
      "model_module": "@jupyter-widgets/base",
      "model_module_version": "1.2.0",
      "model_name": "LayoutModel",
      "state": {
       "_model_module": "@jupyter-widgets/base",
       "_model_module_version": "1.2.0",
       "_model_name": "LayoutModel",
       "_view_count": null,
       "_view_module": "@jupyter-widgets/base",
       "_view_module_version": "1.2.0",
       "_view_name": "LayoutView",
       "align_content": null,
       "align_items": null,
       "align_self": null,
       "border": null,
       "bottom": null,
       "display": null,
       "flex": null,
       "flex_flow": null,
       "grid_area": null,
       "grid_auto_columns": null,
       "grid_auto_flow": null,
       "grid_auto_rows": null,
       "grid_column": null,
       "grid_gap": null,
       "grid_row": null,
       "grid_template_areas": null,
       "grid_template_columns": null,
       "grid_template_rows": null,
       "height": null,
       "justify_content": null,
       "justify_items": null,
       "left": null,
       "margin": null,
       "max_height": null,
       "max_width": null,
       "min_height": null,
       "min_width": null,
       "object_fit": null,
       "object_position": null,
       "order": null,
       "overflow": null,
       "overflow_x": null,
       "overflow_y": null,
       "padding": null,
       "right": null,
       "top": null,
       "visibility": null,
       "width": null
      }
     },
     "d106546f59ce403ca556c27fdcf445ad": {
      "model_module": "@jupyter-widgets/base",
      "model_module_version": "1.2.0",
      "model_name": "LayoutModel",
      "state": {
       "_model_module": "@jupyter-widgets/base",
       "_model_module_version": "1.2.0",
       "_model_name": "LayoutModel",
       "_view_count": null,
       "_view_module": "@jupyter-widgets/base",
       "_view_module_version": "1.2.0",
       "_view_name": "LayoutView",
       "align_content": null,
       "align_items": null,
       "align_self": null,
       "border": null,
       "bottom": null,
       "display": null,
       "flex": null,
       "flex_flow": null,
       "grid_area": null,
       "grid_auto_columns": null,
       "grid_auto_flow": null,
       "grid_auto_rows": null,
       "grid_column": null,
       "grid_gap": null,
       "grid_row": null,
       "grid_template_areas": null,
       "grid_template_columns": null,
       "grid_template_rows": null,
       "height": null,
       "justify_content": null,
       "justify_items": null,
       "left": null,
       "margin": null,
       "max_height": null,
       "max_width": null,
       "min_height": null,
       "min_width": null,
       "object_fit": null,
       "object_position": null,
       "order": null,
       "overflow": null,
       "overflow_x": null,
       "overflow_y": null,
       "padding": null,
       "right": null,
       "top": null,
       "visibility": null,
       "width": null
      }
     },
     "d808b755390b44cb92a59ca919127ede": {
      "model_module": "@jupyter-widgets/controls",
      "model_module_version": "1.5.0",
      "model_name": "FloatProgressModel",
      "state": {
       "_dom_classes": [],
       "_model_module": "@jupyter-widgets/controls",
       "_model_module_version": "1.5.0",
       "_model_name": "FloatProgressModel",
       "_view_count": null,
       "_view_module": "@jupyter-widgets/controls",
       "_view_module_version": "1.5.0",
       "_view_name": "ProgressView",
       "bar_style": "success",
       "description": "",
       "description_tooltip": null,
       "layout": "IPY_MODEL_ed40d00bc4a24d358571357de5e5b4b0",
       "max": 437992753.0,
       "min": 0.0,
       "orientation": "horizontal",
       "style": "IPY_MODEL_319170463a274153b2ad1abc2f05946e",
       "value": 437992753.0
      }
     },
     "d97bd7e6cce141eeaa4c85a2264cab51": {
      "model_module": "@jupyter-widgets/controls",
      "model_module_version": "1.5.0",
      "model_name": "DescriptionStyleModel",
      "state": {
       "_model_module": "@jupyter-widgets/controls",
       "_model_module_version": "1.5.0",
       "_model_name": "DescriptionStyleModel",
       "_view_count": null,
       "_view_module": "@jupyter-widgets/base",
       "_view_module_version": "1.2.0",
       "_view_name": "StyleView",
       "description_width": ""
      }
     },
     "df33c949329840a6a3423862ea595727": {
      "model_module": "@jupyter-widgets/controls",
      "model_module_version": "1.5.0",
      "model_name": "DescriptionStyleModel",
      "state": {
       "_model_module": "@jupyter-widgets/controls",
       "_model_module_version": "1.5.0",
       "_model_name": "DescriptionStyleModel",
       "_view_count": null,
       "_view_module": "@jupyter-widgets/base",
       "_view_module_version": "1.2.0",
       "_view_name": "StyleView",
       "description_width": ""
      }
     },
     "e257f63e5b524c508021762a6206a362": {
      "model_module": "@jupyter-widgets/controls",
      "model_module_version": "1.5.0",
      "model_name": "ProgressStyleModel",
      "state": {
       "_model_module": "@jupyter-widgets/controls",
       "_model_module_version": "1.5.0",
       "_model_name": "ProgressStyleModel",
       "_view_count": null,
       "_view_module": "@jupyter-widgets/base",
       "_view_module_version": "1.2.0",
       "_view_name": "StyleView",
       "bar_color": null,
       "description_width": ""
      }
     },
     "e510502ff4a84cd0b25804bf33647407": {
      "model_module": "@jupyter-widgets/base",
      "model_module_version": "1.2.0",
      "model_name": "LayoutModel",
      "state": {
       "_model_module": "@jupyter-widgets/base",
       "_model_module_version": "1.2.0",
       "_model_name": "LayoutModel",
       "_view_count": null,
       "_view_module": "@jupyter-widgets/base",
       "_view_module_version": "1.2.0",
       "_view_name": "LayoutView",
       "align_content": null,
       "align_items": null,
       "align_self": null,
       "border": null,
       "bottom": null,
       "display": null,
       "flex": null,
       "flex_flow": null,
       "grid_area": null,
       "grid_auto_columns": null,
       "grid_auto_flow": null,
       "grid_auto_rows": null,
       "grid_column": null,
       "grid_gap": null,
       "grid_row": null,
       "grid_template_areas": null,
       "grid_template_columns": null,
       "grid_template_rows": null,
       "height": null,
       "justify_content": null,
       "justify_items": null,
       "left": null,
       "margin": null,
       "max_height": null,
       "max_width": null,
       "min_height": null,
       "min_width": null,
       "object_fit": null,
       "object_position": null,
       "order": null,
       "overflow": null,
       "overflow_x": null,
       "overflow_y": null,
       "padding": null,
       "right": null,
       "top": null,
       "visibility": null,
       "width": null
      }
     },
     "e66a77ec9c294b5abf9a4550f08d3284": {
      "model_module": "@jupyter-widgets/controls",
      "model_module_version": "1.5.0",
      "model_name": "DescriptionStyleModel",
      "state": {
       "_model_module": "@jupyter-widgets/controls",
       "_model_module_version": "1.5.0",
       "_model_name": "DescriptionStyleModel",
       "_view_count": null,
       "_view_module": "@jupyter-widgets/base",
       "_view_module_version": "1.2.0",
       "_view_name": "StyleView",
       "description_width": ""
      }
     },
     "e9de3127bceb499bbd51d5d4614e9cc1": {
      "model_module": "@jupyter-widgets/base",
      "model_module_version": "1.2.0",
      "model_name": "LayoutModel",
      "state": {
       "_model_module": "@jupyter-widgets/base",
       "_model_module_version": "1.2.0",
       "_model_name": "LayoutModel",
       "_view_count": null,
       "_view_module": "@jupyter-widgets/base",
       "_view_module_version": "1.2.0",
       "_view_name": "LayoutView",
       "align_content": null,
       "align_items": null,
       "align_self": null,
       "border": null,
       "bottom": null,
       "display": null,
       "flex": null,
       "flex_flow": null,
       "grid_area": null,
       "grid_auto_columns": null,
       "grid_auto_flow": null,
       "grid_auto_rows": null,
       "grid_column": null,
       "grid_gap": null,
       "grid_row": null,
       "grid_template_areas": null,
       "grid_template_columns": null,
       "grid_template_rows": null,
       "height": null,
       "justify_content": null,
       "justify_items": null,
       "left": null,
       "margin": null,
       "max_height": null,
       "max_width": null,
       "min_height": null,
       "min_width": null,
       "object_fit": null,
       "object_position": null,
       "order": null,
       "overflow": null,
       "overflow_x": null,
       "overflow_y": null,
       "padding": null,
       "right": null,
       "top": null,
       "visibility": null,
       "width": null
      }
     },
     "ed40d00bc4a24d358571357de5e5b4b0": {
      "model_module": "@jupyter-widgets/base",
      "model_module_version": "1.2.0",
      "model_name": "LayoutModel",
      "state": {
       "_model_module": "@jupyter-widgets/base",
       "_model_module_version": "1.2.0",
       "_model_name": "LayoutModel",
       "_view_count": null,
       "_view_module": "@jupyter-widgets/base",
       "_view_module_version": "1.2.0",
       "_view_name": "LayoutView",
       "align_content": null,
       "align_items": null,
       "align_self": null,
       "border": null,
       "bottom": null,
       "display": null,
       "flex": null,
       "flex_flow": null,
       "grid_area": null,
       "grid_auto_columns": null,
       "grid_auto_flow": null,
       "grid_auto_rows": null,
       "grid_column": null,
       "grid_gap": null,
       "grid_row": null,
       "grid_template_areas": null,
       "grid_template_columns": null,
       "grid_template_rows": null,
       "height": null,
       "justify_content": null,
       "justify_items": null,
       "left": null,
       "margin": null,
       "max_height": null,
       "max_width": null,
       "min_height": null,
       "min_width": null,
       "object_fit": null,
       "object_position": null,
       "order": null,
       "overflow": null,
       "overflow_x": null,
       "overflow_y": null,
       "padding": null,
       "right": null,
       "top": null,
       "visibility": null,
       "width": null
      }
     },
     "ed554b616e2e4dff88554b514d67555d": {
      "model_module": "@jupyter-widgets/controls",
      "model_module_version": "1.5.0",
      "model_name": "DescriptionStyleModel",
      "state": {
       "_model_module": "@jupyter-widgets/controls",
       "_model_module_version": "1.5.0",
       "_model_name": "DescriptionStyleModel",
       "_view_count": null,
       "_view_module": "@jupyter-widgets/base",
       "_view_module_version": "1.2.0",
       "_view_name": "StyleView",
       "description_width": ""
      }
     },
     "f0f1015eca4547259b37d8dcd51eaebd": {
      "model_module": "@jupyter-widgets/controls",
      "model_module_version": "1.5.0",
      "model_name": "HTMLModel",
      "state": {
       "_dom_classes": [],
       "_model_module": "@jupyter-widgets/controls",
       "_model_module_version": "1.5.0",
       "_model_name": "HTMLModel",
       "_view_count": null,
       "_view_module": "@jupyter-widgets/controls",
       "_view_module_version": "1.5.0",
       "_view_name": "HTMLView",
       "description": "",
       "description_tooltip": null,
       "layout": "IPY_MODEL_cce0ef1a9ae542298a36dff1162b42bb",
       "placeholder": "​",
       "style": "IPY_MODEL_0331b5f86ced4326876b75604013be2d",
       "value": "vocab.txt: 100%"
      }
     },
     "f1f0b37cf7d04b4a8cca74992f746c8b": {
      "model_module": "@jupyter-widgets/base",
      "model_module_version": "1.2.0",
      "model_name": "LayoutModel",
      "state": {
       "_model_module": "@jupyter-widgets/base",
       "_model_module_version": "1.2.0",
       "_model_name": "LayoutModel",
       "_view_count": null,
       "_view_module": "@jupyter-widgets/base",
       "_view_module_version": "1.2.0",
       "_view_name": "LayoutView",
       "align_content": null,
       "align_items": null,
       "align_self": null,
       "border": null,
       "bottom": null,
       "display": null,
       "flex": null,
       "flex_flow": null,
       "grid_area": null,
       "grid_auto_columns": null,
       "grid_auto_flow": null,
       "grid_auto_rows": null,
       "grid_column": null,
       "grid_gap": null,
       "grid_row": null,
       "grid_template_areas": null,
       "grid_template_columns": null,
       "grid_template_rows": null,
       "height": null,
       "justify_content": null,
       "justify_items": null,
       "left": null,
       "margin": null,
       "max_height": null,
       "max_width": null,
       "min_height": null,
       "min_width": null,
       "object_fit": null,
       "object_position": null,
       "order": null,
       "overflow": null,
       "overflow_x": null,
       "overflow_y": null,
       "padding": null,
       "right": null,
       "top": null,
       "visibility": null,
       "width": null
      }
     },
     "f20e4f2ced3441e8ab22aa48341885f6": {
      "model_module": "@jupyter-widgets/base",
      "model_module_version": "1.2.0",
      "model_name": "LayoutModel",
      "state": {
       "_model_module": "@jupyter-widgets/base",
       "_model_module_version": "1.2.0",
       "_model_name": "LayoutModel",
       "_view_count": null,
       "_view_module": "@jupyter-widgets/base",
       "_view_module_version": "1.2.0",
       "_view_name": "LayoutView",
       "align_content": null,
       "align_items": null,
       "align_self": null,
       "border": null,
       "bottom": null,
       "display": null,
       "flex": null,
       "flex_flow": null,
       "grid_area": null,
       "grid_auto_columns": null,
       "grid_auto_flow": null,
       "grid_auto_rows": null,
       "grid_column": null,
       "grid_gap": null,
       "grid_row": null,
       "grid_template_areas": null,
       "grid_template_columns": null,
       "grid_template_rows": null,
       "height": null,
       "justify_content": null,
       "justify_items": null,
       "left": null,
       "margin": null,
       "max_height": null,
       "max_width": null,
       "min_height": null,
       "min_width": null,
       "object_fit": null,
       "object_position": null,
       "order": null,
       "overflow": null,
       "overflow_x": null,
       "overflow_y": null,
       "padding": null,
       "right": null,
       "top": null,
       "visibility": null,
       "width": null
      }
     },
     "f797a1e4a9fe423cbaa942c8827989ac": {
      "model_module": "@jupyter-widgets/base",
      "model_module_version": "1.2.0",
      "model_name": "LayoutModel",
      "state": {
       "_model_module": "@jupyter-widgets/base",
       "_model_module_version": "1.2.0",
       "_model_name": "LayoutModel",
       "_view_count": null,
       "_view_module": "@jupyter-widgets/base",
       "_view_module_version": "1.2.0",
       "_view_name": "LayoutView",
       "align_content": null,
       "align_items": null,
       "align_self": null,
       "border": null,
       "bottom": null,
       "display": null,
       "flex": null,
       "flex_flow": null,
       "grid_area": null,
       "grid_auto_columns": null,
       "grid_auto_flow": null,
       "grid_auto_rows": null,
       "grid_column": null,
       "grid_gap": null,
       "grid_row": null,
       "grid_template_areas": null,
       "grid_template_columns": null,
       "grid_template_rows": null,
       "height": null,
       "justify_content": null,
       "justify_items": null,
       "left": null,
       "margin": null,
       "max_height": null,
       "max_width": null,
       "min_height": null,
       "min_width": null,
       "object_fit": null,
       "object_position": null,
       "order": null,
       "overflow": null,
       "overflow_x": null,
       "overflow_y": null,
       "padding": null,
       "right": null,
       "top": null,
       "visibility": null,
       "width": null
      }
     },
     "f9c4a8bbe28c464a81fde7d1df12988c": {
      "model_module": "@jupyter-widgets/base",
      "model_module_version": "1.2.0",
      "model_name": "LayoutModel",
      "state": {
       "_model_module": "@jupyter-widgets/base",
       "_model_module_version": "1.2.0",
       "_model_name": "LayoutModel",
       "_view_count": null,
       "_view_module": "@jupyter-widgets/base",
       "_view_module_version": "1.2.0",
       "_view_name": "LayoutView",
       "align_content": null,
       "align_items": null,
       "align_self": null,
       "border": null,
       "bottom": null,
       "display": null,
       "flex": null,
       "flex_flow": null,
       "grid_area": null,
       "grid_auto_columns": null,
       "grid_auto_flow": null,
       "grid_auto_rows": null,
       "grid_column": null,
       "grid_gap": null,
       "grid_row": null,
       "grid_template_areas": null,
       "grid_template_columns": null,
       "grid_template_rows": null,
       "height": null,
       "justify_content": null,
       "justify_items": null,
       "left": null,
       "margin": null,
       "max_height": null,
       "max_width": null,
       "min_height": null,
       "min_width": null,
       "object_fit": null,
       "object_position": null,
       "order": null,
       "overflow": null,
       "overflow_x": null,
       "overflow_y": null,
       "padding": null,
       "right": null,
       "top": null,
       "visibility": null,
       "width": null
      }
     },
     "fa999cf4e740465e94a125f81c3589df": {
      "model_module": "@jupyter-widgets/base",
      "model_module_version": "1.2.0",
      "model_name": "LayoutModel",
      "state": {
       "_model_module": "@jupyter-widgets/base",
       "_model_module_version": "1.2.0",
       "_model_name": "LayoutModel",
       "_view_count": null,
       "_view_module": "@jupyter-widgets/base",
       "_view_module_version": "1.2.0",
       "_view_name": "LayoutView",
       "align_content": null,
       "align_items": null,
       "align_self": null,
       "border": null,
       "bottom": null,
       "display": null,
       "flex": null,
       "flex_flow": null,
       "grid_area": null,
       "grid_auto_columns": null,
       "grid_auto_flow": null,
       "grid_auto_rows": null,
       "grid_column": null,
       "grid_gap": null,
       "grid_row": null,
       "grid_template_areas": null,
       "grid_template_columns": null,
       "grid_template_rows": null,
       "height": null,
       "justify_content": null,
       "justify_items": null,
       "left": null,
       "margin": null,
       "max_height": null,
       "max_width": null,
       "min_height": null,
       "min_width": null,
       "object_fit": null,
       "object_position": null,
       "order": null,
       "overflow": null,
       "overflow_x": null,
       "overflow_y": null,
       "padding": null,
       "right": null,
       "top": null,
       "visibility": null,
       "width": null
      }
     },
     "fcd7c042530549a2b205b3c5a17ffb62": {
      "model_module": "@jupyter-widgets/base",
      "model_module_version": "1.2.0",
      "model_name": "LayoutModel",
      "state": {
       "_model_module": "@jupyter-widgets/base",
       "_model_module_version": "1.2.0",
       "_model_name": "LayoutModel",
       "_view_count": null,
       "_view_module": "@jupyter-widgets/base",
       "_view_module_version": "1.2.0",
       "_view_name": "LayoutView",
       "align_content": null,
       "align_items": null,
       "align_self": null,
       "border": null,
       "bottom": null,
       "display": null,
       "flex": null,
       "flex_flow": null,
       "grid_area": null,
       "grid_auto_columns": null,
       "grid_auto_flow": null,
       "grid_auto_rows": null,
       "grid_column": null,
       "grid_gap": null,
       "grid_row": null,
       "grid_template_areas": null,
       "grid_template_columns": null,
       "grid_template_rows": null,
       "height": null,
       "justify_content": null,
       "justify_items": null,
       "left": null,
       "margin": null,
       "max_height": null,
       "max_width": null,
       "min_height": null,
       "min_width": null,
       "object_fit": null,
       "object_position": null,
       "order": null,
       "overflow": null,
       "overflow_x": null,
       "overflow_y": null,
       "padding": null,
       "right": null,
       "top": null,
       "visibility": null,
       "width": null
      }
     },
     "fe9596e11b8646f9bace99a31c2b12b3": {
      "model_module": "@jupyter-widgets/base",
      "model_module_version": "1.2.0",
      "model_name": "LayoutModel",
      "state": {
       "_model_module": "@jupyter-widgets/base",
       "_model_module_version": "1.2.0",
       "_model_name": "LayoutModel",
       "_view_count": null,
       "_view_module": "@jupyter-widgets/base",
       "_view_module_version": "1.2.0",
       "_view_name": "LayoutView",
       "align_content": null,
       "align_items": null,
       "align_self": null,
       "border": null,
       "bottom": null,
       "display": null,
       "flex": null,
       "flex_flow": null,
       "grid_area": null,
       "grid_auto_columns": null,
       "grid_auto_flow": null,
       "grid_auto_rows": null,
       "grid_column": null,
       "grid_gap": null,
       "grid_row": null,
       "grid_template_areas": null,
       "grid_template_columns": null,
       "grid_template_rows": null,
       "height": null,
       "justify_content": null,
       "justify_items": null,
       "left": null,
       "margin": null,
       "max_height": null,
       "max_width": null,
       "min_height": null,
       "min_width": null,
       "object_fit": null,
       "object_position": null,
       "order": null,
       "overflow": null,
       "overflow_x": null,
       "overflow_y": null,
       "padding": null,
       "right": null,
       "top": null,
       "visibility": null,
       "width": null
      }
     }
    },
    "version_major": 2,
    "version_minor": 0
   }
  }
 },
 "nbformat": 4,
 "nbformat_minor": 5
}

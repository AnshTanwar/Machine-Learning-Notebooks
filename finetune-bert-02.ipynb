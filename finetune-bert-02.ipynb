{
 "cells": [
  {
   "cell_type": "code",
   "execution_count": 1,
   "id": "4abc97f9",
   "metadata": {
    "_cell_guid": "b1076dfc-b9ad-4769-8c92-a6c4dae69d19",
    "_uuid": "8f2839f25d086af736a60e9eeb907d3b93b6e0e5",
    "execution": {
     "iopub.execute_input": "2024-06-05T05:38:50.900429Z",
     "iopub.status.busy": "2024-06-05T05:38:50.899927Z",
     "iopub.status.idle": "2024-06-05T05:38:51.690012Z",
     "shell.execute_reply": "2024-06-05T05:38:51.689098Z"
    },
    "papermill": {
     "duration": 0.810762,
     "end_time": "2024-06-05T05:38:51.692489",
     "exception": false,
     "start_time": "2024-06-05T05:38:50.881727",
     "status": "completed"
    },
    "tags": []
   },
   "outputs": [
    {
     "name": "stdout",
     "output_type": "stream",
     "text": [
      "/kaggle/input/crypto-regulations-yirifi/mappingtoBERT_6.csv\n",
      "/kaggle/input/crypto-regulations-yirifi/mappingtoBERT_5.csv\n",
      "/kaggle/input/crypto-regulations-yirifi/output_improved.csv\n",
      "/kaggle/input/crypto-regulations-yirifi/master_data_gpt4o_improved_latest.csv\n",
      "/kaggle/input/crypto-regulations-yirifi/CSV_data_gpt_4o/CSV_data_gpt_4o/18.csv\n",
      "/kaggle/input/crypto-regulations-yirifi/CSV_data_gpt_4o/CSV_data_gpt_4o/20.csv\n",
      "/kaggle/input/crypto-regulations-yirifi/CSV_data_gpt_4o/CSV_data_gpt_4o/1.csv\n",
      "/kaggle/input/crypto-regulations-yirifi/CSV_data_gpt_4o/CSV_data_gpt_4o/24.csv\n",
      "/kaggle/input/crypto-regulations-yirifi/CSV_data_gpt_4o/CSV_data_gpt_4o/11.csv\n",
      "/kaggle/input/crypto-regulations-yirifi/CSV_data_gpt_4o/CSV_data_gpt_4o/30.csv\n",
      "/kaggle/input/crypto-regulations-yirifi/CSV_data_gpt_4o/CSV_data_gpt_4o/17.csv\n",
      "/kaggle/input/crypto-regulations-yirifi/CSV_data_gpt_4o/CSV_data_gpt_4o/16.csv\n",
      "/kaggle/input/crypto-regulations-yirifi/CSV_data_gpt_4o/CSV_data_gpt_4o/3.csv\n",
      "/kaggle/input/crypto-regulations-yirifi/CSV_data_gpt_4o/CSV_data_gpt_4o/31.csv\n",
      "/kaggle/input/crypto-regulations-yirifi/CSV_data_gpt_4o/CSV_data_gpt_4o/19.csv\n",
      "/kaggle/input/crypto-regulations-yirifi/CSV_data_gpt_4o/CSV_data_gpt_4o/5.csv\n",
      "/kaggle/input/crypto-regulations-yirifi/CSV_data_gpt_4o/CSV_data_gpt_4o/2.csv\n",
      "/kaggle/input/crypto-regulations-yirifi/CSV_data_gpt_4o/CSV_data_gpt_4o/26.csv\n",
      "/kaggle/input/crypto-regulations-yirifi/CSV_data_gpt_4o/CSV_data_gpt_4o/28.csv\n",
      "/kaggle/input/crypto-regulations-yirifi/CSV_data_gpt_4o/CSV_data_gpt_4o/13.csv\n",
      "/kaggle/input/crypto-regulations-yirifi/CSV_data_gpt_4o/CSV_data_gpt_4o/23.csv\n",
      "/kaggle/input/crypto-regulations-yirifi/CSV_data_gpt_4o/CSV_data_gpt_4o/14.csv\n",
      "/kaggle/input/crypto-regulations-yirifi/CSV_data_gpt_4o/CSV_data_gpt_4o/4.csv\n",
      "/kaggle/input/crypto-regulations-yirifi/CSV_data_gpt_4o/CSV_data_gpt_4o/22.csv\n",
      "/kaggle/input/crypto-regulations-yirifi/CSV_data_gpt_4o/CSV_data_gpt_4o/8.csv\n",
      "/kaggle/input/crypto-regulations-yirifi/CSV_data_gpt_4o/CSV_data_gpt_4o/12.csv\n",
      "/kaggle/input/crypto-regulations-yirifi/CSV_data_gpt_4o/CSV_data_gpt_4o/9.csv\n",
      "/kaggle/input/crypto-regulations-yirifi/CSV_data_gpt_4o/CSV_data_gpt_4o/7.csv\n",
      "/kaggle/input/crypto-regulations-yirifi/CSV_data_gpt_4o/CSV_data_gpt_4o/15.csv\n",
      "/kaggle/input/crypto-regulations-yirifi/CSV_data_gpt_4o/CSV_data_gpt_4o/6.csv\n",
      "/kaggle/input/crypto-regulations-yirifi/CSV_data_gpt_4o/CSV_data_gpt_4o/10.csv\n",
      "/kaggle/input/crypto-regulations-yirifi/CSV_data_gpt_4o/CSV_data_gpt_4o/25.csv\n",
      "/kaggle/input/crypto-regulations-yirifi/CSV_data_gpt_4o/CSV_data_gpt_4o/29.csv\n",
      "/kaggle/input/crypto-regulations-yirifi/CSV_data_gpt_4o/CSV_data_gpt_4o/21.csv\n",
      "/kaggle/input/crypto-regulations-yirifi/CSV_data_gpt_4o/CSV_data_gpt_4o/32.csv\n",
      "/kaggle/input/crypto-regulations-yirifi/CSV_data_gpt_4o/CSV_data_gpt_4o/27.csv\n",
      "/kaggle/input/crypto-regulations-yirifi/csv_data/csv_data/18.csv\n",
      "/kaggle/input/crypto-regulations-yirifi/csv_data/csv_data/20.csv\n",
      "/kaggle/input/crypto-regulations-yirifi/csv_data/csv_data/1.csv\n",
      "/kaggle/input/crypto-regulations-yirifi/csv_data/csv_data/24.csv\n",
      "/kaggle/input/crypto-regulations-yirifi/csv_data/csv_data/11.csv\n",
      "/kaggle/input/crypto-regulations-yirifi/csv_data/csv_data/30.csv\n",
      "/kaggle/input/crypto-regulations-yirifi/csv_data/csv_data/17.csv\n",
      "/kaggle/input/crypto-regulations-yirifi/csv_data/csv_data/16.csv\n",
      "/kaggle/input/crypto-regulations-yirifi/csv_data/csv_data/3.csv\n",
      "/kaggle/input/crypto-regulations-yirifi/csv_data/csv_data/31.csv\n",
      "/kaggle/input/crypto-regulations-yirifi/csv_data/csv_data/19.csv\n",
      "/kaggle/input/crypto-regulations-yirifi/csv_data/csv_data/5.csv\n",
      "/kaggle/input/crypto-regulations-yirifi/csv_data/csv_data/2.csv\n",
      "/kaggle/input/crypto-regulations-yirifi/csv_data/csv_data/26.csv\n",
      "/kaggle/input/crypto-regulations-yirifi/csv_data/csv_data/28.csv\n",
      "/kaggle/input/crypto-regulations-yirifi/csv_data/csv_data/13.csv\n",
      "/kaggle/input/crypto-regulations-yirifi/csv_data/csv_data/23.csv\n",
      "/kaggle/input/crypto-regulations-yirifi/csv_data/csv_data/14.csv\n",
      "/kaggle/input/crypto-regulations-yirifi/csv_data/csv_data/4.csv\n",
      "/kaggle/input/crypto-regulations-yirifi/csv_data/csv_data/22.csv\n",
      "/kaggle/input/crypto-regulations-yirifi/csv_data/csv_data/8.csv\n",
      "/kaggle/input/crypto-regulations-yirifi/csv_data/csv_data/12.csv\n",
      "/kaggle/input/crypto-regulations-yirifi/csv_data/csv_data/9.csv\n",
      "/kaggle/input/crypto-regulations-yirifi/csv_data/csv_data/7.csv\n",
      "/kaggle/input/crypto-regulations-yirifi/csv_data/csv_data/15.csv\n",
      "/kaggle/input/crypto-regulations-yirifi/csv_data/csv_data/6.csv\n",
      "/kaggle/input/crypto-regulations-yirifi/csv_data/csv_data/10.csv\n",
      "/kaggle/input/crypto-regulations-yirifi/csv_data/csv_data/25.csv\n",
      "/kaggle/input/crypto-regulations-yirifi/csv_data/csv_data/29.csv\n",
      "/kaggle/input/crypto-regulations-yirifi/csv_data/csv_data/21.csv\n",
      "/kaggle/input/crypto-regulations-yirifi/csv_data/csv_data/32.csv\n",
      "/kaggle/input/crypto-regulations-yirifi/csv_data/csv_data/27.csv\n",
      "/kaggle/input/crypto-regulations-yirifi/CSV_data_improved/CSV_data_improved/18.csv\n",
      "/kaggle/input/crypto-regulations-yirifi/CSV_data_improved/CSV_data_improved/20.csv\n",
      "/kaggle/input/crypto-regulations-yirifi/CSV_data_improved/CSV_data_improved/1.csv\n",
      "/kaggle/input/crypto-regulations-yirifi/CSV_data_improved/CSV_data_improved/24.csv\n",
      "/kaggle/input/crypto-regulations-yirifi/CSV_data_improved/CSV_data_improved/11.csv\n",
      "/kaggle/input/crypto-regulations-yirifi/CSV_data_improved/CSV_data_improved/30.csv\n",
      "/kaggle/input/crypto-regulations-yirifi/CSV_data_improved/CSV_data_improved/17.csv\n",
      "/kaggle/input/crypto-regulations-yirifi/CSV_data_improved/CSV_data_improved/16.csv\n",
      "/kaggle/input/crypto-regulations-yirifi/CSV_data_improved/CSV_data_improved/3.csv\n",
      "/kaggle/input/crypto-regulations-yirifi/CSV_data_improved/CSV_data_improved/31.csv\n",
      "/kaggle/input/crypto-regulations-yirifi/CSV_data_improved/CSV_data_improved/19.csv\n",
      "/kaggle/input/crypto-regulations-yirifi/CSV_data_improved/CSV_data_improved/5.csv\n",
      "/kaggle/input/crypto-regulations-yirifi/CSV_data_improved/CSV_data_improved/2.csv\n",
      "/kaggle/input/crypto-regulations-yirifi/CSV_data_improved/CSV_data_improved/26.csv\n",
      "/kaggle/input/crypto-regulations-yirifi/CSV_data_improved/CSV_data_improved/28.csv\n",
      "/kaggle/input/crypto-regulations-yirifi/CSV_data_improved/CSV_data_improved/13.csv\n",
      "/kaggle/input/crypto-regulations-yirifi/CSV_data_improved/CSV_data_improved/23.csv\n",
      "/kaggle/input/crypto-regulations-yirifi/CSV_data_improved/CSV_data_improved/14.csv\n",
      "/kaggle/input/crypto-regulations-yirifi/CSV_data_improved/CSV_data_improved/4.csv\n",
      "/kaggle/input/crypto-regulations-yirifi/CSV_data_improved/CSV_data_improved/22.csv\n",
      "/kaggle/input/crypto-regulations-yirifi/CSV_data_improved/CSV_data_improved/8.csv\n",
      "/kaggle/input/crypto-regulations-yirifi/CSV_data_improved/CSV_data_improved/12.csv\n",
      "/kaggle/input/crypto-regulations-yirifi/CSV_data_improved/CSV_data_improved/9.csv\n",
      "/kaggle/input/crypto-regulations-yirifi/CSV_data_improved/CSV_data_improved/7.csv\n",
      "/kaggle/input/crypto-regulations-yirifi/CSV_data_improved/CSV_data_improved/15.csv\n",
      "/kaggle/input/crypto-regulations-yirifi/CSV_data_improved/CSV_data_improved/6.csv\n",
      "/kaggle/input/crypto-regulations-yirifi/CSV_data_improved/CSV_data_improved/10.csv\n",
      "/kaggle/input/crypto-regulations-yirifi/CSV_data_improved/CSV_data_improved/25.csv\n",
      "/kaggle/input/crypto-regulations-yirifi/CSV_data_improved/CSV_data_improved/29.csv\n",
      "/kaggle/input/crypto-regulations-yirifi/CSV_data_improved/CSV_data_improved/21.csv\n",
      "/kaggle/input/crypto-regulations-yirifi/CSV_data_improved/CSV_data_improved/32.csv\n",
      "/kaggle/input/crypto-regulations-yirifi/CSV_data_improved/CSV_data_improved/27.csv\n"
     ]
    }
   ],
   "source": [
    "# This Python 3 environment comes with many helpful analytics libraries installed\n",
    "# It is defined by the kaggle/python Docker image: https://github.com/kaggle/docker-python\n",
    "# For example, here's several helpful packages to load\n",
    "\n",
    "import numpy as np # linear algebra\n",
    "import pandas as pd # data processing, CSV file I/O (e.g. pd.read_csv)\n",
    "\n",
    "# Input data files are available in the read-only \"../input/\" directory\n",
    "# For example, running this (by clicking run or pressing Shift+Enter) will list all files under the input directory\n",
    "\n",
    "import os\n",
    "for dirname, _, filenames in os.walk('/kaggle/input'):\n",
    "    for filename in filenames:\n",
    "        print(os.path.join(dirname, filename))\n",
    "\n",
    "# You can write up to 20GB to the current directory (/kaggle/working/) that gets preserved as output when you create a version using \"Save & Run All\" \n",
    "# You can also write temporary files to /kaggle/temp/, but they won't be saved outside of the current session"
   ]
  },
  {
   "cell_type": "markdown",
   "id": "b0979c44",
   "metadata": {
    "papermill": {
     "duration": 0.015686,
     "end_time": "2024-06-05T05:38:51.724648",
     "exception": false,
     "start_time": "2024-06-05T05:38:51.708962",
     "status": "completed"
    },
    "tags": []
   },
   "source": [
    "# Data import and cleaning up the data"
   ]
  },
  {
   "cell_type": "code",
   "execution_count": 2,
   "id": "64dcad6d",
   "metadata": {
    "execution": {
     "iopub.execute_input": "2024-06-05T05:38:51.759616Z",
     "iopub.status.busy": "2024-06-05T05:38:51.758636Z",
     "iopub.status.idle": "2024-06-05T05:38:51.833267Z",
     "shell.execute_reply": "2024-06-05T05:38:51.832444Z"
    },
    "papermill": {
     "duration": 0.094117,
     "end_time": "2024-06-05T05:38:51.835602",
     "exception": false,
     "start_time": "2024-06-05T05:38:51.741485",
     "status": "completed"
    },
    "tags": []
   },
   "outputs": [],
   "source": [
    "df = pd.read_csv(\"/kaggle/input/crypto-regulations-yirifi/mappingtoBERT_6.csv\")"
   ]
  },
  {
   "cell_type": "code",
   "execution_count": 3,
   "id": "113047ff",
   "metadata": {
    "execution": {
     "iopub.execute_input": "2024-06-05T05:38:51.870408Z",
     "iopub.status.busy": "2024-06-05T05:38:51.869792Z",
     "iopub.status.idle": "2024-06-05T05:38:51.875944Z",
     "shell.execute_reply": "2024-06-05T05:38:51.875132Z"
    },
    "papermill": {
     "duration": 0.025721,
     "end_time": "2024-06-05T05:38:51.877978",
     "exception": false,
     "start_time": "2024-06-05T05:38:51.852257",
     "status": "completed"
    },
    "tags": []
   },
   "outputs": [
    {
     "data": {
      "text/plain": [
       "(5965, 4)"
      ]
     },
     "execution_count": 3,
     "metadata": {},
     "output_type": "execute_result"
    }
   ],
   "source": [
    "df.shape"
   ]
  },
  {
   "cell_type": "code",
   "execution_count": 4,
   "id": "d1d866a3",
   "metadata": {
    "execution": {
     "iopub.execute_input": "2024-06-05T05:38:51.912523Z",
     "iopub.status.busy": "2024-06-05T05:38:51.911719Z",
     "iopub.status.idle": "2024-06-05T05:38:51.929818Z",
     "shell.execute_reply": "2024-06-05T05:38:51.928667Z"
    },
    "papermill": {
     "duration": 0.037142,
     "end_time": "2024-06-05T05:38:51.931792",
     "exception": false,
     "start_time": "2024-06-05T05:38:51.894650",
     "status": "completed"
    },
    "tags": []
   },
   "outputs": [
    {
     "data": {
      "text/html": [
       "<div>\n",
       "<style scoped>\n",
       "    .dataframe tbody tr th:only-of-type {\n",
       "        vertical-align: middle;\n",
       "    }\n",
       "\n",
       "    .dataframe tbody tr th {\n",
       "        vertical-align: top;\n",
       "    }\n",
       "\n",
       "    .dataframe thead th {\n",
       "        text-align: right;\n",
       "    }\n",
       "</style>\n",
       "<table border=\"1\" class=\"dataframe\">\n",
       "  <thead>\n",
       "    <tr style=\"text-align: right;\">\n",
       "      <th></th>\n",
       "      <th>Unnamed: 0</th>\n",
       "      <th>Content</th>\n",
       "      <th>Concepts</th>\n",
       "      <th>bert_concepts</th>\n",
       "    </tr>\n",
       "  </thead>\n",
       "  <tbody>\n",
       "    <tr>\n",
       "      <th>5955</th>\n",
       "      <td>5955</td>\n",
       "      <td>Content|ÄúRegulationsÄù|means the Virtual As...</td>\n",
       "      <td>amended, related activities, 2023, supplemente...</td>\n",
       "      <td>regulations, virtual assets</td>\n",
       "    </tr>\n",
       "    <tr>\n",
       "      <th>5956</th>\n",
       "      <td>5956</td>\n",
       "      <td>Content|ÄúReserve AssetsÄù|has the meaning a...</td>\n",
       "      <td>frva rules, reserve assets, rule i.a.5</td>\n",
       "      <td>rules</td>\n",
       "    </tr>\n",
       "    <tr>\n",
       "      <th>5957</th>\n",
       "      <td>5957</td>\n",
       "      <td>Content|ÄúSenior ManagementÄù|has the meanin...</td>\n",
       "      <td>company rulebook, senior management</td>\n",
       "      <td>rulebook</td>\n",
       "    </tr>\n",
       "    <tr>\n",
       "      <th>5958</th>\n",
       "      <td>5958</td>\n",
       "      <td>Content|ÄúSignificant FRVA IssuerÄù|means a ...</td>\n",
       "      <td>rule i.c.1, vara, frva rules, vasp, significan...</td>\n",
       "      <td>rules, vasp</td>\n",
       "    </tr>\n",
       "    <tr>\n",
       "      <th>5959</th>\n",
       "      <td>5959</td>\n",
       "      <td>Content|ÄúTechnology and Information\\nRuleboo...</td>\n",
       "      <td>amended, information, vara, technology, regula...</td>\n",
       "      <td>regulations, rulebook</td>\n",
       "    </tr>\n",
       "    <tr>\n",
       "      <th>5960</th>\n",
       "      <td>5960</td>\n",
       "      <td>Content|ÄúVA Issuance RulebookÄù|means the V...</td>\n",
       "      <td>amended, supplemented, vara, virtual asset iss...</td>\n",
       "      <td>regulations, virtual assets, rulebook</td>\n",
       "    </tr>\n",
       "    <tr>\n",
       "      <th>5961</th>\n",
       "      <td>5961</td>\n",
       "      <td>Content|ÄúVARAÄù|means the Dubai Virtual Ass...</td>\n",
       "      <td>vara, dubai, regulatory authority, virtual assets</td>\n",
       "      <td>authority, virtual assets, regulator</td>\n",
       "    </tr>\n",
       "    <tr>\n",
       "      <th>5962</th>\n",
       "      <td>5962</td>\n",
       "      <td>Content|ÄúVirtual AssetÄù or ÄúVAÄù|has th...</td>\n",
       "      <td>dubai va law, va, regulatory, compliance, virt...</td>\n",
       "      <td>compliance, virtual assets, regulator</td>\n",
       "    </tr>\n",
       "    <tr>\n",
       "      <th>5963</th>\n",
       "      <td>5963</td>\n",
       "      <td>Content|ÄúWhitepaperÄù|has the meaning ascri...</td>\n",
       "      <td>bank, whitepaper, regulatory compliance, compl...</td>\n",
       "      <td>compliance, virtual assets, rulebook, regulator</td>\n",
       "    </tr>\n",
       "    <tr>\n",
       "      <th>5964</th>\n",
       "      <td>5964</td>\n",
       "      <td>Content|ÄúWorking DayÄù|means any day which ...</td>\n",
       "      <td>public holiday, weekend, bank, hong kong, regu...</td>\n",
       "      <td>compliance, virtual assets, regulator</td>\n",
       "    </tr>\n",
       "  </tbody>\n",
       "</table>\n",
       "</div>"
      ],
      "text/plain": [
       "      Unnamed: 0                                            Content  \\\n",
       "5955        5955  Content|ÄúRegulationsÄù|means the Virtual As...   \n",
       "5956        5956  Content|ÄúReserve AssetsÄù|has the meaning a...   \n",
       "5957        5957  Content|ÄúSenior ManagementÄù|has the meanin...   \n",
       "5958        5958  Content|ÄúSignificant FRVA IssuerÄù|means a ...   \n",
       "5959        5959  Content|ÄúTechnology and Information\\nRuleboo...   \n",
       "5960        5960  Content|ÄúVA Issuance RulebookÄù|means the V...   \n",
       "5961        5961  Content|ÄúVARAÄù|means the Dubai Virtual Ass...   \n",
       "5962        5962  Content|ÄúVirtual AssetÄù or ÄúVAÄù|has th...   \n",
       "5963        5963  Content|ÄúWhitepaperÄù|has the meaning ascri...   \n",
       "5964        5964  Content|ÄúWorking DayÄù|means any day which ...   \n",
       "\n",
       "                                               Concepts  \\\n",
       "5955  amended, related activities, 2023, supplemente...   \n",
       "5956             frva rules, reserve assets, rule i.a.5   \n",
       "5957                company rulebook, senior management   \n",
       "5958  rule i.c.1, vara, frva rules, vasp, significan...   \n",
       "5959  amended, information, vara, technology, regula...   \n",
       "5960  amended, supplemented, vara, virtual asset iss...   \n",
       "5961  vara, dubai, regulatory authority, virtual assets   \n",
       "5962  dubai va law, va, regulatory, compliance, virt...   \n",
       "5963  bank, whitepaper, regulatory compliance, compl...   \n",
       "5964  public holiday, weekend, bank, hong kong, regu...   \n",
       "\n",
       "                                        bert_concepts  \n",
       "5955                      regulations, virtual assets  \n",
       "5956                                            rules  \n",
       "5957                                         rulebook  \n",
       "5958                                      rules, vasp  \n",
       "5959                            regulations, rulebook  \n",
       "5960            regulations, virtual assets, rulebook  \n",
       "5961             authority, virtual assets, regulator  \n",
       "5962            compliance, virtual assets, regulator  \n",
       "5963  compliance, virtual assets, rulebook, regulator  \n",
       "5964            compliance, virtual assets, regulator  "
      ]
     },
     "execution_count": 4,
     "metadata": {},
     "output_type": "execute_result"
    }
   ],
   "source": [
    "df.tail(10)"
   ]
  },
  {
   "cell_type": "code",
   "execution_count": 5,
   "id": "58379046",
   "metadata": {
    "execution": {
     "iopub.execute_input": "2024-06-05T05:38:51.966620Z",
     "iopub.status.busy": "2024-06-05T05:38:51.966030Z",
     "iopub.status.idle": "2024-06-05T05:38:52.056762Z",
     "shell.execute_reply": "2024-06-05T05:38:52.055729Z"
    },
    "papermill": {
     "duration": 0.110327,
     "end_time": "2024-06-05T05:38:52.058753",
     "exception": false,
     "start_time": "2024-06-05T05:38:51.948426",
     "status": "completed"
    },
    "tags": []
   },
   "outputs": [
    {
     "name": "stdout",
     "output_type": "stream",
     "text": [
      "Number of rows with URLs: 22\n",
      "Number of rows with user references: 12\n",
      "Number of rows with hashtags: 0\n",
      "Number of rows with non-alphanumeric characters: 5913\n"
     ]
    }
   ],
   "source": [
    "import re\n",
    "# Function to check for URLs\n",
    "def contains_url(text):\n",
    "    text = str(text)\n",
    "    return bool(re.search(r'http\\S+|www\\S+|https\\S+', text))\n",
    "\n",
    "# Function to check for user references (@user)\n",
    "def contains_user_reference(text):\n",
    "    text = str(text)\n",
    "    return bool(re.search(r'\\@\\w+', text))\n",
    "\n",
    "# Function to check for hashtags\n",
    "def contains_hashtag(text):\n",
    "    text = str(text)\n",
    "    return bool(re.search(r'\\#\\w+', text))\n",
    "\n",
    "# Function to check for non-alphanumeric characters\n",
    "def contains_non_alphanumeric(text):\n",
    "    text = str(text)\n",
    "    return bool(re.search(r'[^a-zA-Z0-9\\s]', text))\n",
    "\n",
    "# Apply the functions to the DataFrame\n",
    "df['contains_url'] = df['Content'].apply(contains_url)\n",
    "df['contains_user_reference'] = df['Content'].apply(contains_user_reference)\n",
    "df['contains_hashtag'] = df['Content'].apply(contains_hashtag)\n",
    "df['contains_non_alphanumeric'] = df['Content'].apply(contains_non_alphanumeric)\n",
    "\n",
    "# Check rows that match each condition\n",
    "url_count = df['contains_url'].sum()\n",
    "user_reference_count = df['contains_user_reference'].sum()\n",
    "hashtag_count = df['contains_hashtag'].sum()\n",
    "non_alphanumeric_count = df['contains_non_alphanumeric'].sum()\n",
    "\n",
    "# Print results\n",
    "print(f\"Number of rows with URLs: {url_count}\")\n",
    "print(f\"Number of rows with user references: {user_reference_count}\")\n",
    "print(f\"Number of rows with hashtags: {hashtag_count}\")\n",
    "print(f\"Number of rows with non-alphanumeric characters: {non_alphanumeric_count}\")\n",
    "\n"
   ]
  },
  {
   "cell_type": "code",
   "execution_count": 6,
   "id": "a3972c23",
   "metadata": {
    "execution": {
     "iopub.execute_input": "2024-06-05T05:38:52.094088Z",
     "iopub.status.busy": "2024-06-05T05:38:52.093508Z",
     "iopub.status.idle": "2024-06-05T05:38:52.106654Z",
     "shell.execute_reply": "2024-06-05T05:38:52.105776Z"
    },
    "papermill": {
     "duration": 0.033203,
     "end_time": "2024-06-05T05:38:52.108659",
     "exception": false,
     "start_time": "2024-06-05T05:38:52.075456",
     "status": "completed"
    },
    "tags": []
   },
   "outputs": [
    {
     "data": {
      "text/html": [
       "<div>\n",
       "<style scoped>\n",
       "    .dataframe tbody tr th:only-of-type {\n",
       "        vertical-align: middle;\n",
       "    }\n",
       "\n",
       "    .dataframe tbody tr th {\n",
       "        vertical-align: top;\n",
       "    }\n",
       "\n",
       "    .dataframe thead th {\n",
       "        text-align: right;\n",
       "    }\n",
       "</style>\n",
       "<table border=\"1\" class=\"dataframe\">\n",
       "  <thead>\n",
       "    <tr style=\"text-align: right;\">\n",
       "      <th></th>\n",
       "      <th>Unnamed: 0</th>\n",
       "      <th>Content</th>\n",
       "      <th>Concepts</th>\n",
       "      <th>bert_concepts</th>\n",
       "      <th>contains_url</th>\n",
       "      <th>contains_user_reference</th>\n",
       "      <th>contains_hashtag</th>\n",
       "      <th>contains_non_alphanumeric</th>\n",
       "    </tr>\n",
       "  </thead>\n",
       "  <tbody>\n",
       "    <tr>\n",
       "      <th>5960</th>\n",
       "      <td>5960</td>\n",
       "      <td>Content|ÄúVA Issuance RulebookÄù|means the V...</td>\n",
       "      <td>amended, supplemented, vara, virtual asset iss...</td>\n",
       "      <td>regulations, virtual assets, rulebook</td>\n",
       "      <td>False</td>\n",
       "      <td>False</td>\n",
       "      <td>False</td>\n",
       "      <td>True</td>\n",
       "    </tr>\n",
       "    <tr>\n",
       "      <th>5961</th>\n",
       "      <td>5961</td>\n",
       "      <td>Content|ÄúVARAÄù|means the Dubai Virtual Ass...</td>\n",
       "      <td>vara, dubai, regulatory authority, virtual assets</td>\n",
       "      <td>authority, virtual assets, regulator</td>\n",
       "      <td>False</td>\n",
       "      <td>False</td>\n",
       "      <td>False</td>\n",
       "      <td>True</td>\n",
       "    </tr>\n",
       "    <tr>\n",
       "      <th>5962</th>\n",
       "      <td>5962</td>\n",
       "      <td>Content|ÄúVirtual AssetÄù or ÄúVAÄù|has th...</td>\n",
       "      <td>dubai va law, va, regulatory, compliance, virt...</td>\n",
       "      <td>compliance, virtual assets, regulator</td>\n",
       "      <td>False</td>\n",
       "      <td>False</td>\n",
       "      <td>False</td>\n",
       "      <td>True</td>\n",
       "    </tr>\n",
       "    <tr>\n",
       "      <th>5963</th>\n",
       "      <td>5963</td>\n",
       "      <td>Content|ÄúWhitepaperÄù|has the meaning ascri...</td>\n",
       "      <td>bank, whitepaper, regulatory compliance, compl...</td>\n",
       "      <td>compliance, virtual assets, rulebook, regulator</td>\n",
       "      <td>False</td>\n",
       "      <td>False</td>\n",
       "      <td>False</td>\n",
       "      <td>True</td>\n",
       "    </tr>\n",
       "    <tr>\n",
       "      <th>5964</th>\n",
       "      <td>5964</td>\n",
       "      <td>Content|ÄúWorking DayÄù|means any day which ...</td>\n",
       "      <td>public holiday, weekend, bank, hong kong, regu...</td>\n",
       "      <td>compliance, virtual assets, regulator</td>\n",
       "      <td>False</td>\n",
       "      <td>False</td>\n",
       "      <td>False</td>\n",
       "      <td>True</td>\n",
       "    </tr>\n",
       "  </tbody>\n",
       "</table>\n",
       "</div>"
      ],
      "text/plain": [
       "      Unnamed: 0                                            Content  \\\n",
       "5960        5960  Content|ÄúVA Issuance RulebookÄù|means the V...   \n",
       "5961        5961  Content|ÄúVARAÄù|means the Dubai Virtual Ass...   \n",
       "5962        5962  Content|ÄúVirtual AssetÄù or ÄúVAÄù|has th...   \n",
       "5963        5963  Content|ÄúWhitepaperÄù|has the meaning ascri...   \n",
       "5964        5964  Content|ÄúWorking DayÄù|means any day which ...   \n",
       "\n",
       "                                               Concepts  \\\n",
       "5960  amended, supplemented, vara, virtual asset iss...   \n",
       "5961  vara, dubai, regulatory authority, virtual assets   \n",
       "5962  dubai va law, va, regulatory, compliance, virt...   \n",
       "5963  bank, whitepaper, regulatory compliance, compl...   \n",
       "5964  public holiday, weekend, bank, hong kong, regu...   \n",
       "\n",
       "                                        bert_concepts  contains_url  \\\n",
       "5960            regulations, virtual assets, rulebook         False   \n",
       "5961             authority, virtual assets, regulator         False   \n",
       "5962            compliance, virtual assets, regulator         False   \n",
       "5963  compliance, virtual assets, rulebook, regulator         False   \n",
       "5964            compliance, virtual assets, regulator         False   \n",
       "\n",
       "      contains_user_reference  contains_hashtag  contains_non_alphanumeric  \n",
       "5960                    False             False                       True  \n",
       "5961                    False             False                       True  \n",
       "5962                    False             False                       True  \n",
       "5963                    False             False                       True  \n",
       "5964                    False             False                       True  "
      ]
     },
     "execution_count": 6,
     "metadata": {},
     "output_type": "execute_result"
    }
   ],
   "source": [
    "df.tail(5)"
   ]
  },
  {
   "cell_type": "code",
   "execution_count": 7,
   "id": "d6baa855",
   "metadata": {
    "execution": {
     "iopub.execute_input": "2024-06-05T05:38:52.144682Z",
     "iopub.status.busy": "2024-06-05T05:38:52.144062Z",
     "iopub.status.idle": "2024-06-05T05:38:52.152754Z",
     "shell.execute_reply": "2024-06-05T05:38:52.151753Z"
    },
    "papermill": {
     "duration": 0.02868,
     "end_time": "2024-06-05T05:38:52.154658",
     "exception": false,
     "start_time": "2024-06-05T05:38:52.125978",
     "status": "completed"
    },
    "tags": []
   },
   "outputs": [],
   "source": [
    "df = df[[\"Content\",\"bert_concepts\"]]"
   ]
  },
  {
   "cell_type": "code",
   "execution_count": 8,
   "id": "3c675d25",
   "metadata": {
    "execution": {
     "iopub.execute_input": "2024-06-05T05:38:52.190681Z",
     "iopub.status.busy": "2024-06-05T05:38:52.189913Z",
     "iopub.status.idle": "2024-06-05T05:38:52.543709Z",
     "shell.execute_reply": "2024-06-05T05:38:52.542701Z"
    },
    "papermill": {
     "duration": 0.374313,
     "end_time": "2024-06-05T05:38:52.546046",
     "exception": false,
     "start_time": "2024-06-05T05:38:52.171733",
     "status": "completed"
    },
    "tags": []
   },
   "outputs": [],
   "source": [
    "import re\n",
    "import string\n",
    "\n",
    "def preprocess_text(text):\n",
    "    text = str(text)    \n",
    "    text = re.sub(r'<[^>]+>', '', text) # Remove HTML tags\n",
    "    text = text.lower()\n",
    "    text = re.sub(r'http\\S+|www\\S+|https\\S+', '', text, flags=re.MULTILINE)# Remove URLs\n",
    "    text = re.sub(r'\\@\\w+|\\#','', text) # Remove user @ references and hashtags\n",
    "    text = text.translate(str.maketrans('', '', string.punctuation)) # Remove punctuation    \n",
    "    text = re.sub(r'[^a-zA-Z0-9\\s]', ' ', text) # Remove non-alphanumeric character    \n",
    "    text = re.sub(r'\\s+', ' ', text).strip() # Remove extra whitespace(only single white space is left)\n",
    "    \n",
    "    return text\n",
    "\n",
    "df['Content'] = df['Content'].apply(preprocess_text) # Applying the preprocess_text function\n"
   ]
  },
  {
   "cell_type": "code",
   "execution_count": 9,
   "id": "bb5802d7",
   "metadata": {
    "execution": {
     "iopub.execute_input": "2024-06-05T05:38:52.583475Z",
     "iopub.status.busy": "2024-06-05T05:38:52.582864Z",
     "iopub.status.idle": "2024-06-05T05:38:52.591776Z",
     "shell.execute_reply": "2024-06-05T05:38:52.590910Z"
    },
    "papermill": {
     "duration": 0.029129,
     "end_time": "2024-06-05T05:38:52.593821",
     "exception": false,
     "start_time": "2024-06-05T05:38:52.564692",
     "status": "completed"
    },
    "tags": []
   },
   "outputs": [
    {
     "data": {
      "text/html": [
       "<div>\n",
       "<style scoped>\n",
       "    .dataframe tbody tr th:only-of-type {\n",
       "        vertical-align: middle;\n",
       "    }\n",
       "\n",
       "    .dataframe tbody tr th {\n",
       "        vertical-align: top;\n",
       "    }\n",
       "\n",
       "    .dataframe thead th {\n",
       "        text-align: right;\n",
       "    }\n",
       "</style>\n",
       "<table border=\"1\" class=\"dataframe\">\n",
       "  <thead>\n",
       "    <tr style=\"text-align: right;\">\n",
       "      <th></th>\n",
       "      <th>Content</th>\n",
       "      <th>bert_concepts</th>\n",
       "    </tr>\n",
       "  </thead>\n",
       "  <tbody>\n",
       "    <tr>\n",
       "      <th>5960</th>\n",
       "      <td>content va issuance rulebook means the virtual...</td>\n",
       "      <td>regulations, virtual assets, rulebook</td>\n",
       "    </tr>\n",
       "    <tr>\n",
       "      <th>5961</th>\n",
       "      <td>content vara means the dubai virtual assets re...</td>\n",
       "      <td>authority, virtual assets, regulator</td>\n",
       "    </tr>\n",
       "    <tr>\n",
       "      <th>5962</th>\n",
       "      <td>content virtual asset or va has the meaning as...</td>\n",
       "      <td>compliance, virtual assets, regulator</td>\n",
       "    </tr>\n",
       "    <tr>\n",
       "      <th>5963</th>\n",
       "      <td>content whitepaper has the meaning ascribed to...</td>\n",
       "      <td>compliance, virtual assets, rulebook, regulator</td>\n",
       "    </tr>\n",
       "    <tr>\n",
       "      <th>5964</th>\n",
       "      <td>content working day means any day which is not...</td>\n",
       "      <td>compliance, virtual assets, regulator</td>\n",
       "    </tr>\n",
       "  </tbody>\n",
       "</table>\n",
       "</div>"
      ],
      "text/plain": [
       "                                                Content  \\\n",
       "5960  content va issuance rulebook means the virtual...   \n",
       "5961  content vara means the dubai virtual assets re...   \n",
       "5962  content virtual asset or va has the meaning as...   \n",
       "5963  content whitepaper has the meaning ascribed to...   \n",
       "5964  content working day means any day which is not...   \n",
       "\n",
       "                                        bert_concepts  \n",
       "5960            regulations, virtual assets, rulebook  \n",
       "5961             authority, virtual assets, regulator  \n",
       "5962            compliance, virtual assets, regulator  \n",
       "5963  compliance, virtual assets, rulebook, regulator  \n",
       "5964            compliance, virtual assets, regulator  "
      ]
     },
     "execution_count": 9,
     "metadata": {},
     "output_type": "execute_result"
    }
   ],
   "source": [
    "df.tail(5)"
   ]
  },
  {
   "cell_type": "code",
   "execution_count": null,
   "id": "1268847a",
   "metadata": {
    "papermill": {
     "duration": 0.016773,
     "end_time": "2024-06-05T05:38:52.627602",
     "exception": false,
     "start_time": "2024-06-05T05:38:52.610829",
     "status": "completed"
    },
    "tags": []
   },
   "outputs": [],
   "source": []
  },
  {
   "cell_type": "code",
   "execution_count": 10,
   "id": "4b0c0419",
   "metadata": {
    "execution": {
     "iopub.execute_input": "2024-06-05T05:38:52.663267Z",
     "iopub.status.busy": "2024-06-05T05:38:52.662944Z",
     "iopub.status.idle": "2024-06-05T05:38:52.668578Z",
     "shell.execute_reply": "2024-06-05T05:38:52.667754Z"
    },
    "papermill": {
     "duration": 0.02544,
     "end_time": "2024-06-05T05:38:52.670463",
     "exception": false,
     "start_time": "2024-06-05T05:38:52.645023",
     "status": "completed"
    },
    "tags": []
   },
   "outputs": [
    {
     "data": {
      "text/plain": [
       "(5965, 2)"
      ]
     },
     "execution_count": 10,
     "metadata": {},
     "output_type": "execute_result"
    }
   ],
   "source": [
    "df.shape"
   ]
  },
  {
   "cell_type": "code",
   "execution_count": 11,
   "id": "e5967eeb",
   "metadata": {
    "execution": {
     "iopub.execute_input": "2024-06-05T05:38:52.706451Z",
     "iopub.status.busy": "2024-06-05T05:38:52.705734Z",
     "iopub.status.idle": "2024-06-05T05:38:52.711693Z",
     "shell.execute_reply": "2024-06-05T05:38:52.710818Z"
    },
    "papermill": {
     "duration": 0.02619,
     "end_time": "2024-06-05T05:38:52.713725",
     "exception": false,
     "start_time": "2024-06-05T05:38:52.687535",
     "status": "completed"
    },
    "tags": []
   },
   "outputs": [
    {
     "name": "stdout",
     "output_type": "stream",
     "text": [
      "Number of rows with NaN in bert_concepts: 580\n"
     ]
    }
   ],
   "source": [
    "missing_values_count = df['bert_concepts'].isnull().sum()\n",
    "print(\"Number of rows with NaN in bert_concepts:\", missing_values_count)"
   ]
  },
  {
   "cell_type": "markdown",
   "id": "68fb5a0c",
   "metadata": {
    "papermill": {
     "duration": 0.016902,
     "end_time": "2024-06-05T05:38:52.747533",
     "exception": false,
     "start_time": "2024-06-05T05:38:52.730631",
     "status": "completed"
    },
    "tags": []
   },
   "source": [
    "## Remove rows with no bert_concepts"
   ]
  },
  {
   "cell_type": "code",
   "execution_count": 12,
   "id": "1e1c6816",
   "metadata": {
    "execution": {
     "iopub.execute_input": "2024-06-05T05:38:52.783082Z",
     "iopub.status.busy": "2024-06-05T05:38:52.782470Z",
     "iopub.status.idle": "2024-06-05T05:38:52.790941Z",
     "shell.execute_reply": "2024-06-05T05:38:52.790204Z"
    },
    "papermill": {
     "duration": 0.028322,
     "end_time": "2024-06-05T05:38:52.792740",
     "exception": false,
     "start_time": "2024-06-05T05:38:52.764418",
     "status": "completed"
    },
    "tags": []
   },
   "outputs": [],
   "source": [
    "df = df.dropna(subset=['bert_concepts'])"
   ]
  },
  {
   "cell_type": "code",
   "execution_count": 13,
   "id": "7ff2dab0",
   "metadata": {
    "execution": {
     "iopub.execute_input": "2024-06-05T05:38:52.829134Z",
     "iopub.status.busy": "2024-06-05T05:38:52.828474Z",
     "iopub.status.idle": "2024-06-05T05:38:52.834055Z",
     "shell.execute_reply": "2024-06-05T05:38:52.833158Z"
    },
    "papermill": {
     "duration": 0.025506,
     "end_time": "2024-06-05T05:38:52.835914",
     "exception": false,
     "start_time": "2024-06-05T05:38:52.810408",
     "status": "completed"
    },
    "tags": []
   },
   "outputs": [
    {
     "data": {
      "text/plain": [
       "(5385, 2)"
      ]
     },
     "execution_count": 13,
     "metadata": {},
     "output_type": "execute_result"
    }
   ],
   "source": [
    "df.shape"
   ]
  },
  {
   "cell_type": "markdown",
   "id": "646590a7",
   "metadata": {
    "papermill": {
     "duration": 0.017374,
     "end_time": "2024-06-05T05:38:52.870532",
     "exception": false,
     "start_time": "2024-06-05T05:38:52.853158",
     "status": "completed"
    },
    "tags": []
   },
   "source": [
    "# Converting to Bert Data Format"
   ]
  },
  {
   "cell_type": "code",
   "execution_count": 14,
   "id": "4cbbdef3",
   "metadata": {
    "execution": {
     "iopub.execute_input": "2024-06-05T05:38:52.906351Z",
     "iopub.status.busy": "2024-06-05T05:38:52.906035Z",
     "iopub.status.idle": "2024-06-05T05:38:55.015516Z",
     "shell.execute_reply": "2024-06-05T05:38:55.014390Z"
    },
    "papermill": {
     "duration": 2.130193,
     "end_time": "2024-06-05T05:38:55.017970",
     "exception": false,
     "start_time": "2024-06-05T05:38:52.887777",
     "status": "completed"
    },
    "tags": []
   },
   "outputs": [],
   "source": [
    "import pandas as pd\n",
    "import re\n",
    "from sklearn.model_selection import train_test_split\n",
    "from datasets import Dataset, DatasetDict"
   ]
  },
  {
   "cell_type": "code",
   "execution_count": 15,
   "id": "2567f390",
   "metadata": {
    "execution": {
     "iopub.execute_input": "2024-06-05T05:38:55.055010Z",
     "iopub.status.busy": "2024-06-05T05:38:55.054061Z",
     "iopub.status.idle": "2024-06-05T05:38:55.060236Z",
     "shell.execute_reply": "2024-06-05T05:38:55.059382Z"
    },
    "papermill": {
     "duration": 0.026404,
     "end_time": "2024-06-05T05:38:55.062096",
     "exception": false,
     "start_time": "2024-06-05T05:38:55.035692",
     "status": "completed"
    },
    "tags": []
   },
   "outputs": [
    {
     "data": {
      "text/plain": [
       "Index(['Content', 'bert_concepts'], dtype='object')"
      ]
     },
     "execution_count": 15,
     "metadata": {},
     "output_type": "execute_result"
    }
   ],
   "source": [
    "df.columns"
   ]
  },
  {
   "cell_type": "code",
   "execution_count": 16,
   "id": "810ab1a8",
   "metadata": {
    "execution": {
     "iopub.execute_input": "2024-06-05T05:38:55.098047Z",
     "iopub.status.busy": "2024-06-05T05:38:55.097749Z",
     "iopub.status.idle": "2024-06-05T05:38:55.110156Z",
     "shell.execute_reply": "2024-06-05T05:38:55.109276Z"
    },
    "papermill": {
     "duration": 0.032711,
     "end_time": "2024-06-05T05:38:55.112017",
     "exception": false,
     "start_time": "2024-06-05T05:38:55.079306",
     "status": "completed"
    },
    "tags": []
   },
   "outputs": [],
   "source": [
    "\n",
    "df['bert_concepts'] = df['bert_concepts'].apply(lambda x: x.split(', ')) # make list of words\n",
    "all_concepts = set(concept for row in df['bert_concepts'] for concept in row) # Create a list of all unique concepts\n"
   ]
  },
  {
   "cell_type": "code",
   "execution_count": 17,
   "id": "16b388e0",
   "metadata": {
    "execution": {
     "iopub.execute_input": "2024-06-05T05:38:55.193179Z",
     "iopub.status.busy": "2024-06-05T05:38:55.192828Z",
     "iopub.status.idle": "2024-06-05T05:38:55.199677Z",
     "shell.execute_reply": "2024-06-05T05:38:55.198863Z"
    },
    "papermill": {
     "duration": 0.07219,
     "end_time": "2024-06-05T05:38:55.201577",
     "exception": false,
     "start_time": "2024-06-05T05:38:55.129387",
     "status": "completed"
    },
    "tags": []
   },
   "outputs": [
    {
     "data": {
      "text/plain": [
       "{'aml',\n",
       " 'anti-bribery',\n",
       " 'audit',\n",
       " 'authority',\n",
       " 'beneficiary information',\n",
       " 'cdd',\n",
       " 'cft',\n",
       " 'circular',\n",
       " 'client',\n",
       " 'code of conduct',\n",
       " 'compliance',\n",
       " 'conduct',\n",
       " 'controls',\n",
       " 'criminal',\n",
       " 'disclosure',\n",
       " 'dlt',\n",
       " 'due diligence',\n",
       " 'entities',\n",
       " 'guideline',\n",
       " 'identity',\n",
       " 'insider dealing',\n",
       " 'investor',\n",
       " 'investor protection',\n",
       " 'kyc',\n",
       " 'legal',\n",
       " 'legislation',\n",
       " 'license',\n",
       " 'monitoring',\n",
       " 'operator',\n",
       " 'oversight',\n",
       " 'pep',\n",
       " 'person',\n",
       " 'policies',\n",
       " 'policy',\n",
       " 'record keeping',\n",
       " 'regulations',\n",
       " 'regulator',\n",
       " 'reporting',\n",
       " 'requirements',\n",
       " 'risk assessment',\n",
       " 'risk management',\n",
       " 'risks',\n",
       " 'rulebook',\n",
       " 'rules',\n",
       " 'safeguard',\n",
       " 'sanctions',\n",
       " 'screening',\n",
       " 'suspicious transactions',\n",
       " 'transaction',\n",
       " 'transactions',\n",
       " 'transfer',\n",
       " 'travel rule',\n",
       " 'vasp',\n",
       " 'vasps',\n",
       " 'virtual assets'}"
      ]
     },
     "execution_count": 17,
     "metadata": {},
     "output_type": "execute_result"
    }
   ],
   "source": [
    "all_concepts"
   ]
  },
  {
   "cell_type": "code",
   "execution_count": 18,
   "id": "b6b13b15",
   "metadata": {
    "execution": {
     "iopub.execute_input": "2024-06-05T05:38:55.238196Z",
     "iopub.status.busy": "2024-06-05T05:38:55.237935Z",
     "iopub.status.idle": "2024-06-05T05:38:56.955133Z",
     "shell.execute_reply": "2024-06-05T05:38:56.954184Z"
    },
    "papermill": {
     "duration": 1.738175,
     "end_time": "2024-06-05T05:38:56.957519",
     "exception": false,
     "start_time": "2024-06-05T05:38:55.219344",
     "status": "completed"
    },
    "tags": []
   },
   "outputs": [],
   "source": [
    "# One-hot encode each concept for each row\n",
    "one_hot_encoded_rows = []\n",
    "for index, row in df.iterrows():\n",
    "    one_hot_row = {'Content': row['Content']}\n",
    "    for concept in all_concepts:\n",
    "        one_hot_row[concept] = True if concept in row['bert_concepts'] else False\n",
    "    one_hot_encoded_rows.append(one_hot_row)\n"
   ]
  },
  {
   "cell_type": "code",
   "execution_count": 19,
   "id": "0212ea65",
   "metadata": {
    "execution": {
     "iopub.execute_input": "2024-06-05T05:38:56.994757Z",
     "iopub.status.busy": "2024-06-05T05:38:56.994418Z",
     "iopub.status.idle": "2024-06-05T05:38:57.003792Z",
     "shell.execute_reply": "2024-06-05T05:38:57.002906Z"
    },
    "papermill": {
     "duration": 0.03022,
     "end_time": "2024-06-05T05:38:57.005850",
     "exception": false,
     "start_time": "2024-06-05T05:38:56.975630",
     "status": "completed"
    },
    "tags": []
   },
   "outputs": [
    {
     "data": {
      "text/plain": [
       "[{'Content': 'the new licensing regime for centralised virtual asset trading platforms under the antimoney laundering and counterterrorist financing ordinance cap 615 amlo will come into effect on 1 june 2023 under the new regime centralised virtual asset trading platforms operating in hong kong will need to apply to the securities and futures commission sfc for a licence under the securities and futures ordinance cap 571 sfo andor the amlo dual licence arrangement',\n",
       "  'authority': False,\n",
       "  'beneficiary information': False,\n",
       "  'monitoring': False,\n",
       "  'cft': True,\n",
       "  'disclosure': False,\n",
       "  'policy': False,\n",
       "  'regulator': True,\n",
       "  'person': False,\n",
       "  'due diligence': False,\n",
       "  'vasps': False,\n",
       "  'rules': False,\n",
       "  'compliance': True,\n",
       "  'controls': False,\n",
       "  'oversight': False,\n",
       "  'legislation': False,\n",
       "  'dlt': False,\n",
       "  'circular': False,\n",
       "  'transaction': False,\n",
       "  'client': False,\n",
       "  'requirements': False,\n",
       "  'reporting': False,\n",
       "  'aml': True,\n",
       "  'virtual assets': True,\n",
       "  'investor': False,\n",
       "  'identity': False,\n",
       "  'legal': False,\n",
       "  'rulebook': False,\n",
       "  'code of conduct': False,\n",
       "  'anti-bribery': False,\n",
       "  'entities': False,\n",
       "  'guideline': False,\n",
       "  'risks': False,\n",
       "  'vasp': False,\n",
       "  'regulations': False,\n",
       "  'safeguard': False,\n",
       "  'sanctions': False,\n",
       "  'risk management': False,\n",
       "  'insider dealing': False,\n",
       "  'record keeping': False,\n",
       "  'audit': False,\n",
       "  'suspicious transactions': False,\n",
       "  'cdd': False,\n",
       "  'travel rule': False,\n",
       "  'investor protection': False,\n",
       "  'risk assessment': False,\n",
       "  'transactions': False,\n",
       "  'operator': False,\n",
       "  'pep': False,\n",
       "  'screening': False,\n",
       "  'policies': False,\n",
       "  'conduct': False,\n",
       "  'license': True,\n",
       "  'transfer': False,\n",
       "  'criminal': False,\n",
       "  'kyc': False},\n",
       " {'Content': 'the sfc is issuing this circular to highlight the following documents and information which assist licence applicants and provide guidance on the new regulatory requirements they also set out the ongoing notification requirements for licensed virtual asset trading platforms',\n",
       "  'authority': False,\n",
       "  'beneficiary information': False,\n",
       "  'monitoring': False,\n",
       "  'cft': False,\n",
       "  'disclosure': False,\n",
       "  'policy': False,\n",
       "  'regulator': True,\n",
       "  'person': False,\n",
       "  'due diligence': False,\n",
       "  'vasps': False,\n",
       "  'rules': False,\n",
       "  'compliance': False,\n",
       "  'controls': False,\n",
       "  'oversight': False,\n",
       "  'legislation': False,\n",
       "  'dlt': False,\n",
       "  'circular': True,\n",
       "  'transaction': False,\n",
       "  'client': False,\n",
       "  'requirements': True,\n",
       "  'reporting': False,\n",
       "  'aml': False,\n",
       "  'virtual assets': True,\n",
       "  'investor': False,\n",
       "  'identity': False,\n",
       "  'legal': False,\n",
       "  'rulebook': False,\n",
       "  'code of conduct': False,\n",
       "  'anti-bribery': False,\n",
       "  'entities': False,\n",
       "  'guideline': False,\n",
       "  'risks': False,\n",
       "  'vasp': False,\n",
       "  'regulations': False,\n",
       "  'safeguard': False,\n",
       "  'sanctions': False,\n",
       "  'risk management': False,\n",
       "  'insider dealing': False,\n",
       "  'record keeping': False,\n",
       "  'audit': False,\n",
       "  'suspicious transactions': False,\n",
       "  'cdd': False,\n",
       "  'travel rule': False,\n",
       "  'investor protection': False,\n",
       "  'risk assessment': False,\n",
       "  'transactions': False,\n",
       "  'operator': False,\n",
       "  'pep': False,\n",
       "  'screening': False,\n",
       "  'policies': False,\n",
       "  'conduct': False,\n",
       "  'license': True,\n",
       "  'transfer': False,\n",
       "  'criminal': False,\n",
       "  'kyc': False}]"
      ]
     },
     "execution_count": 19,
     "metadata": {},
     "output_type": "execute_result"
    }
   ],
   "source": [
    "one_hot_encoded_rows[:2]"
   ]
  },
  {
   "cell_type": "code",
   "execution_count": 20,
   "id": "c221d833",
   "metadata": {
    "execution": {
     "iopub.execute_input": "2024-06-05T05:38:57.043514Z",
     "iopub.status.busy": "2024-06-05T05:38:57.042909Z",
     "iopub.status.idle": "2024-06-05T05:38:57.106355Z",
     "shell.execute_reply": "2024-06-05T05:38:57.105609Z"
    },
    "papermill": {
     "duration": 0.084292,
     "end_time": "2024-06-05T05:38:57.108288",
     "exception": false,
     "start_time": "2024-06-05T05:38:57.023996",
     "status": "completed"
    },
    "tags": []
   },
   "outputs": [],
   "source": [
    "df = pd.DataFrame(one_hot_encoded_rows)"
   ]
  },
  {
   "cell_type": "code",
   "execution_count": 21,
   "id": "91b6a04c",
   "metadata": {
    "execution": {
     "iopub.execute_input": "2024-06-05T05:38:57.146302Z",
     "iopub.status.busy": "2024-06-05T05:38:57.145981Z",
     "iopub.status.idle": "2024-06-05T05:38:57.165925Z",
     "shell.execute_reply": "2024-06-05T05:38:57.165035Z"
    },
    "papermill": {
     "duration": 0.041391,
     "end_time": "2024-06-05T05:38:57.167864",
     "exception": false,
     "start_time": "2024-06-05T05:38:57.126473",
     "status": "completed"
    },
    "tags": []
   },
   "outputs": [
    {
     "data": {
      "text/html": [
       "<div>\n",
       "<style scoped>\n",
       "    .dataframe tbody tr th:only-of-type {\n",
       "        vertical-align: middle;\n",
       "    }\n",
       "\n",
       "    .dataframe tbody tr th {\n",
       "        vertical-align: top;\n",
       "    }\n",
       "\n",
       "    .dataframe thead th {\n",
       "        text-align: right;\n",
       "    }\n",
       "</style>\n",
       "<table border=\"1\" class=\"dataframe\">\n",
       "  <thead>\n",
       "    <tr style=\"text-align: right;\">\n",
       "      <th></th>\n",
       "      <th>Content</th>\n",
       "      <th>authority</th>\n",
       "      <th>beneficiary information</th>\n",
       "      <th>monitoring</th>\n",
       "      <th>cft</th>\n",
       "      <th>disclosure</th>\n",
       "      <th>policy</th>\n",
       "      <th>regulator</th>\n",
       "      <th>person</th>\n",
       "      <th>due diligence</th>\n",
       "      <th>...</th>\n",
       "      <th>transactions</th>\n",
       "      <th>operator</th>\n",
       "      <th>pep</th>\n",
       "      <th>screening</th>\n",
       "      <th>policies</th>\n",
       "      <th>conduct</th>\n",
       "      <th>license</th>\n",
       "      <th>transfer</th>\n",
       "      <th>criminal</th>\n",
       "      <th>kyc</th>\n",
       "    </tr>\n",
       "  </thead>\n",
       "  <tbody>\n",
       "    <tr>\n",
       "      <th>0</th>\n",
       "      <td>the new licensing regime for centralised virtu...</td>\n",
       "      <td>False</td>\n",
       "      <td>False</td>\n",
       "      <td>False</td>\n",
       "      <td>True</td>\n",
       "      <td>False</td>\n",
       "      <td>False</td>\n",
       "      <td>True</td>\n",
       "      <td>False</td>\n",
       "      <td>False</td>\n",
       "      <td>...</td>\n",
       "      <td>False</td>\n",
       "      <td>False</td>\n",
       "      <td>False</td>\n",
       "      <td>False</td>\n",
       "      <td>False</td>\n",
       "      <td>False</td>\n",
       "      <td>True</td>\n",
       "      <td>False</td>\n",
       "      <td>False</td>\n",
       "      <td>False</td>\n",
       "    </tr>\n",
       "    <tr>\n",
       "      <th>1</th>\n",
       "      <td>the sfc is issuing this circular to highlight ...</td>\n",
       "      <td>False</td>\n",
       "      <td>False</td>\n",
       "      <td>False</td>\n",
       "      <td>False</td>\n",
       "      <td>False</td>\n",
       "      <td>False</td>\n",
       "      <td>True</td>\n",
       "      <td>False</td>\n",
       "      <td>False</td>\n",
       "      <td>...</td>\n",
       "      <td>False</td>\n",
       "      <td>False</td>\n",
       "      <td>False</td>\n",
       "      <td>False</td>\n",
       "      <td>False</td>\n",
       "      <td>False</td>\n",
       "      <td>True</td>\n",
       "      <td>False</td>\n",
       "      <td>False</td>\n",
       "      <td>False</td>\n",
       "    </tr>\n",
       "    <tr>\n",
       "      <th>2</th>\n",
       "      <td>the sfc has published the following guidelines...</td>\n",
       "      <td>False</td>\n",
       "      <td>False</td>\n",
       "      <td>False</td>\n",
       "      <td>False</td>\n",
       "      <td>False</td>\n",
       "      <td>False</td>\n",
       "      <td>True</td>\n",
       "      <td>False</td>\n",
       "      <td>False</td>\n",
       "      <td>...</td>\n",
       "      <td>False</td>\n",
       "      <td>False</td>\n",
       "      <td>False</td>\n",
       "      <td>False</td>\n",
       "      <td>False</td>\n",
       "      <td>False</td>\n",
       "      <td>True</td>\n",
       "      <td>False</td>\n",
       "      <td>False</td>\n",
       "      <td>False</td>\n",
       "    </tr>\n",
       "  </tbody>\n",
       "</table>\n",
       "<p>3 rows × 56 columns</p>\n",
       "</div>"
      ],
      "text/plain": [
       "                                             Content  authority  \\\n",
       "0  the new licensing regime for centralised virtu...      False   \n",
       "1  the sfc is issuing this circular to highlight ...      False   \n",
       "2  the sfc has published the following guidelines...      False   \n",
       "\n",
       "   beneficiary information  monitoring    cft  disclosure  policy  regulator  \\\n",
       "0                    False       False   True       False   False       True   \n",
       "1                    False       False  False       False   False       True   \n",
       "2                    False       False  False       False   False       True   \n",
       "\n",
       "   person  due diligence  ...  transactions  operator    pep  screening  \\\n",
       "0   False          False  ...         False     False  False      False   \n",
       "1   False          False  ...         False     False  False      False   \n",
       "2   False          False  ...         False     False  False      False   \n",
       "\n",
       "   policies  conduct  license  transfer  criminal    kyc  \n",
       "0     False    False     True     False     False  False  \n",
       "1     False    False     True     False     False  False  \n",
       "2     False    False     True     False     False  False  \n",
       "\n",
       "[3 rows x 56 columns]"
      ]
     },
     "execution_count": 21,
     "metadata": {},
     "output_type": "execute_result"
    }
   ],
   "source": [
    "df.head(3)"
   ]
  },
  {
   "cell_type": "code",
   "execution_count": 22,
   "id": "c01c7f94",
   "metadata": {
    "execution": {
     "iopub.execute_input": "2024-06-05T05:38:57.205840Z",
     "iopub.status.busy": "2024-06-05T05:38:57.205571Z",
     "iopub.status.idle": "2024-06-05T05:38:57.209494Z",
     "shell.execute_reply": "2024-06-05T05:38:57.208708Z"
    },
    "papermill": {
     "duration": 0.025012,
     "end_time": "2024-06-05T05:38:57.211348",
     "exception": false,
     "start_time": "2024-06-05T05:38:57.186336",
     "status": "completed"
    },
    "tags": []
   },
   "outputs": [],
   "source": [
    "import pandas as pd\n",
    "from datasets import Dataset"
   ]
  },
  {
   "cell_type": "code",
   "execution_count": 23,
   "id": "2e5656e9",
   "metadata": {
    "execution": {
     "iopub.execute_input": "2024-06-05T05:38:57.249646Z",
     "iopub.status.busy": "2024-06-05T05:38:57.249364Z",
     "iopub.status.idle": "2024-06-05T05:38:57.446117Z",
     "shell.execute_reply": "2024-06-05T05:38:57.445371Z"
    },
    "papermill": {
     "duration": 0.218733,
     "end_time": "2024-06-05T05:38:57.448446",
     "exception": false,
     "start_time": "2024-06-05T05:38:57.229713",
     "status": "completed"
    },
    "tags": []
   },
   "outputs": [],
   "source": [
    "#Splitting DataFrame into train, test, and validation sets\n",
    "train_df, test_valid_df = train_test_split(df, test_size=0.3, random_state=42)\n",
    "test_df, validation_df = train_test_split(test_valid_df, test_size=0.33, random_state=42)\n",
    "\n",
    "# Convert DataFrames to Hugging Face Datasets\n",
    "train_dataset = Dataset.from_pandas(train_df)\n",
    "test_dataset = Dataset.from_pandas(test_df)\n",
    "validation_dataset = Dataset.from_pandas(validation_df)\n",
    "\n",
    "# Create DatasetDict\n",
    "dataset = DatasetDict({\n",
    "    \"train\": train_dataset,\n",
    "    \"test\": test_dataset,\n",
    "    \"validation\": validation_dataset\n",
    "})\n",
    "\n",
    "\n"
   ]
  },
  {
   "cell_type": "code",
   "execution_count": 24,
   "id": "202a5a9f",
   "metadata": {
    "execution": {
     "iopub.execute_input": "2024-06-05T05:38:57.487144Z",
     "iopub.status.busy": "2024-06-05T05:38:57.486433Z",
     "iopub.status.idle": "2024-06-05T05:38:57.492275Z",
     "shell.execute_reply": "2024-06-05T05:38:57.491377Z"
    },
    "papermill": {
     "duration": 0.027242,
     "end_time": "2024-06-05T05:38:57.494233",
     "exception": false,
     "start_time": "2024-06-05T05:38:57.466991",
     "status": "completed"
    },
    "tags": []
   },
   "outputs": [
    {
     "data": {
      "text/plain": [
       "DatasetDict({\n",
       "    train: Dataset({\n",
       "        features: ['Content', 'authority', 'beneficiary information', 'monitoring', 'cft', 'disclosure', 'policy', 'regulator', 'person', 'due diligence', 'vasps', 'rules', 'compliance', 'controls', 'oversight', 'legislation', 'dlt', 'circular', 'transaction', 'client', 'requirements', 'reporting', 'aml', 'virtual assets', 'investor', 'identity', 'legal', 'rulebook', 'code of conduct', 'anti-bribery', 'entities', 'guideline', 'risks', 'vasp', 'regulations', 'safeguard', 'sanctions', 'risk management', 'insider dealing', 'record keeping', 'audit', 'suspicious transactions', 'cdd', 'travel rule', 'investor protection', 'risk assessment', 'transactions', 'operator', 'pep', 'screening', 'policies', 'conduct', 'license', 'transfer', 'criminal', 'kyc', '__index_level_0__'],\n",
       "        num_rows: 3769\n",
       "    })\n",
       "    test: Dataset({\n",
       "        features: ['Content', 'authority', 'beneficiary information', 'monitoring', 'cft', 'disclosure', 'policy', 'regulator', 'person', 'due diligence', 'vasps', 'rules', 'compliance', 'controls', 'oversight', 'legislation', 'dlt', 'circular', 'transaction', 'client', 'requirements', 'reporting', 'aml', 'virtual assets', 'investor', 'identity', 'legal', 'rulebook', 'code of conduct', 'anti-bribery', 'entities', 'guideline', 'risks', 'vasp', 'regulations', 'safeguard', 'sanctions', 'risk management', 'insider dealing', 'record keeping', 'audit', 'suspicious transactions', 'cdd', 'travel rule', 'investor protection', 'risk assessment', 'transactions', 'operator', 'pep', 'screening', 'policies', 'conduct', 'license', 'transfer', 'criminal', 'kyc', '__index_level_0__'],\n",
       "        num_rows: 1082\n",
       "    })\n",
       "    validation: Dataset({\n",
       "        features: ['Content', 'authority', 'beneficiary information', 'monitoring', 'cft', 'disclosure', 'policy', 'regulator', 'person', 'due diligence', 'vasps', 'rules', 'compliance', 'controls', 'oversight', 'legislation', 'dlt', 'circular', 'transaction', 'client', 'requirements', 'reporting', 'aml', 'virtual assets', 'investor', 'identity', 'legal', 'rulebook', 'code of conduct', 'anti-bribery', 'entities', 'guideline', 'risks', 'vasp', 'regulations', 'safeguard', 'sanctions', 'risk management', 'insider dealing', 'record keeping', 'audit', 'suspicious transactions', 'cdd', 'travel rule', 'investor protection', 'risk assessment', 'transactions', 'operator', 'pep', 'screening', 'policies', 'conduct', 'license', 'transfer', 'criminal', 'kyc', '__index_level_0__'],\n",
       "        num_rows: 534\n",
       "    })\n",
       "})"
      ]
     },
     "execution_count": 24,
     "metadata": {},
     "output_type": "execute_result"
    }
   ],
   "source": [
    "dataset"
   ]
  },
  {
   "cell_type": "code",
   "execution_count": 25,
   "id": "754765f9",
   "metadata": {
    "execution": {
     "iopub.execute_input": "2024-06-05T05:38:57.532451Z",
     "iopub.status.busy": "2024-06-05T05:38:57.531702Z",
     "iopub.status.idle": "2024-06-05T05:38:59.823531Z",
     "shell.execute_reply": "2024-06-05T05:38:59.822605Z"
    },
    "papermill": {
     "duration": 2.313136,
     "end_time": "2024-06-05T05:38:59.825633",
     "exception": false,
     "start_time": "2024-06-05T05:38:57.512497",
     "status": "completed"
    },
    "tags": []
   },
   "outputs": [
    {
     "data": {
      "text/plain": [
       "[{'Content': 'a shall not by itself render that person liable to any judicial or other proceedings but in any proceedings under the sfo andor the amlo before any court these guidelines shall be admissible in evidence and if any provision set out in these guidelines appears to the court to be relevant to any question arising in the proceedings it shall be taken into account in determining the question and',\n",
       "  'authority': False,\n",
       "  'beneficiary information': False,\n",
       "  'monitoring': False,\n",
       "  'cft': False,\n",
       "  'disclosure': False,\n",
       "  'policy': False,\n",
       "  'regulator': False,\n",
       "  'person': False,\n",
       "  'due diligence': False,\n",
       "  'vasps': False,\n",
       "  'rules': False,\n",
       "  'compliance': False,\n",
       "  'controls': False,\n",
       "  'oversight': False,\n",
       "  'legislation': False,\n",
       "  'dlt': False,\n",
       "  'circular': False,\n",
       "  'transaction': False,\n",
       "  'client': False,\n",
       "  'requirements': False,\n",
       "  'reporting': False,\n",
       "  'aml': True,\n",
       "  'virtual assets': False,\n",
       "  'investor': False,\n",
       "  'identity': False,\n",
       "  'legal': False,\n",
       "  'rulebook': False,\n",
       "  'code of conduct': False,\n",
       "  'anti-bribery': False,\n",
       "  'entities': False,\n",
       "  'guideline': True,\n",
       "  'risks': False,\n",
       "  'vasp': False,\n",
       "  'regulations': False,\n",
       "  'safeguard': False,\n",
       "  'sanctions': False,\n",
       "  'risk management': False,\n",
       "  'insider dealing': False,\n",
       "  'record keeping': False,\n",
       "  'audit': False,\n",
       "  'suspicious transactions': False,\n",
       "  'cdd': False,\n",
       "  'travel rule': False,\n",
       "  'investor protection': False,\n",
       "  'risk assessment': False,\n",
       "  'transactions': False,\n",
       "  'operator': False,\n",
       "  'pep': False,\n",
       "  'screening': False,\n",
       "  'policies': False,\n",
       "  'conduct': False,\n",
       "  'license': False,\n",
       "  'transfer': False,\n",
       "  'criminal': False,\n",
       "  'kyc': False,\n",
       "  '__index_level_0__': 4768},\n",
       " {'Content': 'as mentioned transactions in the securities sector may prove attractive to money launderers due to the liquidity of the reference markets the combination of the ability to readily liquidate investment portfolios procured with both licit and illicit proceeds the ability to conceal the source of the illicit proceeds the availability of a vast array of possible investment mediums and the ease with which transfers can be effected between them offers money launderers attractive ways to effectively integrate criminal proceeds into the general economy',\n",
       "  'authority': False,\n",
       "  'beneficiary information': False,\n",
       "  'monitoring': False,\n",
       "  'cft': False,\n",
       "  'disclosure': False,\n",
       "  'policy': False,\n",
       "  'regulator': False,\n",
       "  'person': False,\n",
       "  'due diligence': False,\n",
       "  'vasps': False,\n",
       "  'rules': False,\n",
       "  'compliance': False,\n",
       "  'controls': False,\n",
       "  'oversight': False,\n",
       "  'legislation': False,\n",
       "  'dlt': False,\n",
       "  'circular': False,\n",
       "  'transaction': False,\n",
       "  'client': False,\n",
       "  'requirements': False,\n",
       "  'reporting': False,\n",
       "  'aml': True,\n",
       "  'virtual assets': True,\n",
       "  'investor': False,\n",
       "  'identity': False,\n",
       "  'legal': False,\n",
       "  'rulebook': False,\n",
       "  'code of conduct': False,\n",
       "  'anti-bribery': False,\n",
       "  'entities': False,\n",
       "  'guideline': False,\n",
       "  'risks': False,\n",
       "  'vasp': False,\n",
       "  'regulations': False,\n",
       "  'safeguard': False,\n",
       "  'sanctions': False,\n",
       "  'risk management': False,\n",
       "  'insider dealing': False,\n",
       "  'record keeping': False,\n",
       "  'audit': False,\n",
       "  'suspicious transactions': False,\n",
       "  'cdd': False,\n",
       "  'travel rule': False,\n",
       "  'investor protection': False,\n",
       "  'risk assessment': False,\n",
       "  'transactions': False,\n",
       "  'operator': False,\n",
       "  'pep': False,\n",
       "  'screening': False,\n",
       "  'policies': False,\n",
       "  'conduct': False,\n",
       "  'license': False,\n",
       "  'transfer': True,\n",
       "  'criminal': True,\n",
       "  'kyc': False,\n",
       "  '__index_level_0__': 2053}]"
      ]
     },
     "execution_count": 25,
     "metadata": {},
     "output_type": "execute_result"
    }
   ],
   "source": [
    "[i for i in dataset['train']][:2]"
   ]
  },
  {
   "cell_type": "markdown",
   "id": "adadbc5c",
   "metadata": {
    "papermill": {
     "duration": 0.018624,
     "end_time": "2024-06-05T05:38:59.863047",
     "exception": false,
     "start_time": "2024-06-05T05:38:59.844423",
     "status": "completed"
    },
    "tags": []
   },
   "source": [
    "# Data Ready Now Training"
   ]
  },
  {
   "cell_type": "code",
   "execution_count": 26,
   "id": "80ed4d84",
   "metadata": {
    "execution": {
     "iopub.execute_input": "2024-06-05T05:38:59.901952Z",
     "iopub.status.busy": "2024-06-05T05:38:59.901510Z",
     "iopub.status.idle": "2024-06-05T05:39:02.931155Z",
     "shell.execute_reply": "2024-06-05T05:39:02.930134Z"
    },
    "papermill": {
     "duration": 3.05199,
     "end_time": "2024-06-05T05:39:02.933574",
     "exception": false,
     "start_time": "2024-06-05T05:38:59.881584",
     "status": "completed"
    },
    "tags": []
   },
   "outputs": [
    {
     "name": "stdout",
     "output_type": "stream",
     "text": [
      "\u001b[31mERROR: Could not install packages due to an OSError: [Errno 2] No such file or directory: '/opt/conda/lib/python3.10/site-packages/aiohttp-3.9.1.dist-info/METADATA'\r\n",
      "\u001b[0m\u001b[31m\r\n",
      "\u001b[0m"
     ]
    }
   ],
   "source": [
    "!pip install -q transformers datasets"
   ]
  },
  {
   "cell_type": "markdown",
   "id": "d421eb8e",
   "metadata": {
    "papermill": {
     "duration": 0.019348,
     "end_time": "2024-06-05T05:39:02.972627",
     "exception": false,
     "start_time": "2024-06-05T05:39:02.953279",
     "status": "completed"
    },
    "tags": []
   },
   "source": [
    "Add a linear layer on top of the base model, which is used to produce a tensor of shape (batch_size, num_labels), indicating the unnormalized scores for a number of labels for every example in the batch."
   ]
  },
  {
   "cell_type": "markdown",
   "id": "78ec1f1a",
   "metadata": {
    "papermill": {
     "duration": 0.018652,
     "end_time": "2024-06-05T05:39:03.009997",
     "exception": false,
     "start_time": "2024-06-05T05:39:02.991345",
     "status": "completed"
    },
    "tags": []
   },
   "source": [
    "### List containing all the labels"
   ]
  },
  {
   "cell_type": "code",
   "execution_count": 27,
   "id": "a5cfcb40",
   "metadata": {
    "execution": {
     "iopub.execute_input": "2024-06-05T05:39:03.050622Z",
     "iopub.status.busy": "2024-06-05T05:39:03.049703Z",
     "iopub.status.idle": "2024-06-05T05:39:03.060417Z",
     "shell.execute_reply": "2024-06-05T05:39:03.059524Z"
    },
    "papermill": {
     "duration": 0.033469,
     "end_time": "2024-06-05T05:39:03.062537",
     "exception": false,
     "start_time": "2024-06-05T05:39:03.029068",
     "status": "completed"
    },
    "tags": []
   },
   "outputs": [
    {
     "data": {
      "text/plain": [
       "['authority',\n",
       " 'beneficiary information',\n",
       " 'monitoring',\n",
       " 'cft',\n",
       " 'disclosure',\n",
       " 'policy',\n",
       " 'regulator',\n",
       " 'person',\n",
       " 'due diligence',\n",
       " 'vasps',\n",
       " 'rules',\n",
       " 'compliance',\n",
       " 'controls',\n",
       " 'oversight',\n",
       " 'legislation',\n",
       " 'dlt',\n",
       " 'circular',\n",
       " 'transaction',\n",
       " 'client',\n",
       " 'requirements',\n",
       " 'reporting',\n",
       " 'aml',\n",
       " 'virtual assets',\n",
       " 'investor',\n",
       " 'identity',\n",
       " 'legal',\n",
       " 'rulebook',\n",
       " 'code of conduct',\n",
       " 'anti-bribery',\n",
       " 'entities',\n",
       " 'guideline',\n",
       " 'risks',\n",
       " 'vasp',\n",
       " 'regulations',\n",
       " 'safeguard',\n",
       " 'sanctions',\n",
       " 'risk management',\n",
       " 'insider dealing',\n",
       " 'record keeping',\n",
       " 'audit',\n",
       " 'suspicious transactions',\n",
       " 'cdd',\n",
       " 'travel rule',\n",
       " 'investor protection',\n",
       " 'risk assessment',\n",
       " 'transactions',\n",
       " 'operator',\n",
       " 'pep',\n",
       " 'screening',\n",
       " 'policies',\n",
       " 'conduct',\n",
       " 'license',\n",
       " 'transfer',\n",
       " 'criminal',\n",
       " 'kyc']"
      ]
     },
     "execution_count": 27,
     "metadata": {},
     "output_type": "execute_result"
    }
   ],
   "source": [
    "labels = [label for label in dataset['train'].features.keys() if label not in ['Content','__index_level_0__']]\n",
    "#Create 2 dictionaries that map labels to integers and back.\n",
    "id2label = {idx:label for idx, label in enumerate(labels)}\n",
    "label2id = {label:idx for idx, label in enumerate(labels)}\n",
    "labels"
   ]
  },
  {
   "cell_type": "code",
   "execution_count": 28,
   "id": "b722d72f",
   "metadata": {
    "execution": {
     "iopub.execute_input": "2024-06-05T05:39:03.102572Z",
     "iopub.status.busy": "2024-06-05T05:39:03.101932Z",
     "iopub.status.idle": "2024-06-05T05:39:03.109665Z",
     "shell.execute_reply": "2024-06-05T05:39:03.108772Z"
    },
    "papermill": {
     "duration": 0.029927,
     "end_time": "2024-06-05T05:39:03.111553",
     "exception": false,
     "start_time": "2024-06-05T05:39:03.081626",
     "status": "completed"
    },
    "tags": []
   },
   "outputs": [
    {
     "data": {
      "text/plain": [
       "{0: 'authority',\n",
       " 1: 'beneficiary information',\n",
       " 2: 'monitoring',\n",
       " 3: 'cft',\n",
       " 4: 'disclosure',\n",
       " 5: 'policy',\n",
       " 6: 'regulator',\n",
       " 7: 'person',\n",
       " 8: 'due diligence',\n",
       " 9: 'vasps',\n",
       " 10: 'rules',\n",
       " 11: 'compliance',\n",
       " 12: 'controls',\n",
       " 13: 'oversight',\n",
       " 14: 'legislation',\n",
       " 15: 'dlt',\n",
       " 16: 'circular',\n",
       " 17: 'transaction',\n",
       " 18: 'client',\n",
       " 19: 'requirements',\n",
       " 20: 'reporting',\n",
       " 21: 'aml',\n",
       " 22: 'virtual assets',\n",
       " 23: 'investor',\n",
       " 24: 'identity',\n",
       " 25: 'legal',\n",
       " 26: 'rulebook',\n",
       " 27: 'code of conduct',\n",
       " 28: 'anti-bribery',\n",
       " 29: 'entities',\n",
       " 30: 'guideline',\n",
       " 31: 'risks',\n",
       " 32: 'vasp',\n",
       " 33: 'regulations',\n",
       " 34: 'safeguard',\n",
       " 35: 'sanctions',\n",
       " 36: 'risk management',\n",
       " 37: 'insider dealing',\n",
       " 38: 'record keeping',\n",
       " 39: 'audit',\n",
       " 40: 'suspicious transactions',\n",
       " 41: 'cdd',\n",
       " 42: 'travel rule',\n",
       " 43: 'investor protection',\n",
       " 44: 'risk assessment',\n",
       " 45: 'transactions',\n",
       " 46: 'operator',\n",
       " 47: 'pep',\n",
       " 48: 'screening',\n",
       " 49: 'policies',\n",
       " 50: 'conduct',\n",
       " 51: 'license',\n",
       " 52: 'transfer',\n",
       " 53: 'criminal',\n",
       " 54: 'kyc'}"
      ]
     },
     "execution_count": 28,
     "metadata": {},
     "output_type": "execute_result"
    }
   ],
   "source": [
    "id2label"
   ]
  },
  {
   "cell_type": "code",
   "execution_count": null,
   "id": "d5be16dc",
   "metadata": {
    "papermill": {
     "duration": 0.019588,
     "end_time": "2024-06-05T05:39:03.151139",
     "exception": false,
     "start_time": "2024-06-05T05:39:03.131551",
     "status": "completed"
    },
    "tags": []
   },
   "outputs": [],
   "source": []
  },
  {
   "cell_type": "markdown",
   "id": "01c1e5b4",
   "metadata": {
    "papermill": {
     "duration": 0.018752,
     "end_time": "2024-06-05T05:39:03.189024",
     "exception": false,
     "start_time": "2024-06-05T05:39:03.170272",
     "status": "completed"
    },
    "tags": []
   },
   "source": [
    "# Tokenization"
   ]
  },
  {
   "cell_type": "markdown",
   "id": "131f7ac3",
   "metadata": {
    "papermill": {
     "duration": 0.019175,
     "end_time": "2024-06-05T05:39:03.226937",
     "exception": false,
     "start_time": "2024-06-05T05:39:03.207762",
     "status": "completed"
    },
    "tags": []
   },
   "source": [
    "### As models like BERT don't expect text as direct input, but rather input_ids, etc., we tokenize the text using the tokenizer. We will use AutoTokenizer API, which will automatically load the appropriate tokenizer based on the checkpoint on the hub.\n",
    "\n",
    "### What's a bit tricky is that we also need to provide labels to the model. For multi-label text classification, this is a matrix of shape (batch_size, num_labels). Also important: this should be a tensor of floats rather than integers, otherwise PyTorch' BCEWithLogitsLoss (which the model will use) will complain"
   ]
  },
  {
   "cell_type": "code",
   "execution_count": 29,
   "id": "93e971a9",
   "metadata": {
    "execution": {
     "iopub.execute_input": "2024-06-05T05:39:03.267121Z",
     "iopub.status.busy": "2024-06-05T05:39:03.266755Z",
     "iopub.status.idle": "2024-06-05T05:39:08.933635Z",
     "shell.execute_reply": "2024-06-05T05:39:08.932688Z"
    },
    "papermill": {
     "duration": 5.689986,
     "end_time": "2024-06-05T05:39:08.935912",
     "exception": false,
     "start_time": "2024-06-05T05:39:03.245926",
     "status": "completed"
    },
    "tags": []
   },
   "outputs": [
    {
     "data": {
      "application/vnd.jupyter.widget-view+json": {
       "model_id": "8ac3e742b2a640aaa4b998719c9c6a54",
       "version_major": 2,
       "version_minor": 0
      },
      "text/plain": [
       "tokenizer_config.json:   0%|          | 0.00/252 [00:00<?, ?B/s]"
      ]
     },
     "metadata": {},
     "output_type": "display_data"
    },
    {
     "name": "stderr",
     "output_type": "stream",
     "text": [
      "/opt/conda/lib/python3.10/site-packages/huggingface_hub/file_download.py:1132: FutureWarning: `resume_download` is deprecated and will be removed in version 1.0.0. Downloads always resume when possible. If you want to force a new download, use `force_download=True`.\n",
      "  warnings.warn(\n"
     ]
    },
    {
     "data": {
      "application/vnd.jupyter.widget-view+json": {
       "model_id": "7415594b6376441a906ae502a1638fdd",
       "version_major": 2,
       "version_minor": 0
      },
      "text/plain": [
       "config.json:   0%|          | 0.00/758 [00:00<?, ?B/s]"
      ]
     },
     "metadata": {},
     "output_type": "display_data"
    },
    {
     "data": {
      "application/vnd.jupyter.widget-view+json": {
       "model_id": "049f817d8f6646faacfb25003f9a6899",
       "version_major": 2,
       "version_minor": 0
      },
      "text/plain": [
       "vocab.txt:   0%|          | 0.00/232k [00:00<?, ?B/s]"
      ]
     },
     "metadata": {},
     "output_type": "display_data"
    },
    {
     "data": {
      "application/vnd.jupyter.widget-view+json": {
       "model_id": "0c5cc6088bca4ec0a04fea1905aded7c",
       "version_major": 2,
       "version_minor": 0
      },
      "text/plain": [
       "special_tokens_map.json:   0%|          | 0.00/112 [00:00<?, ?B/s]"
      ]
     },
     "metadata": {},
     "output_type": "display_data"
    }
   ],
   "source": [
    "from transformers import AutoTokenizer\n",
    "import numpy as np\n",
    "\n",
    "tokenizer = AutoTokenizer.from_pretrained(\"ProsusAI/finbert\")\n",
    "\n",
    "def preprocess_data(examples, max_length=128):\n",
    "  # take a batch of texts\n",
    "  text = examples['Content']\n",
    "  batch_size = len(text)\n",
    "  # encode them\n",
    "  encoding = tokenizer(text, padding=\"max_length\", truncation=True, max_length=max_length)\n",
    "  # add labels\n",
    "  labels_batch = {k: examples[k] for k in examples.keys() if k in labels}\n",
    "  # create numpy array of shape (batch_size, num_labels)\n",
    "  labels_matrix = np.zeros((len(text), len(labels)))\n",
    "  # fill numpy array\n",
    "  for idx, label in enumerate(labels):\n",
    "    labels_matrix[:, idx] = labels_batch[label]\n",
    "\n",
    "  encoding[\"labels\"] = labels_matrix.tolist()\n",
    "  \n",
    "  return encoding"
   ]
  },
  {
   "cell_type": "code",
   "execution_count": 30,
   "id": "27adabb7",
   "metadata": {
    "execution": {
     "iopub.execute_input": "2024-06-05T05:39:08.977052Z",
     "iopub.status.busy": "2024-06-05T05:39:08.976583Z",
     "iopub.status.idle": "2024-06-05T05:39:10.214792Z",
     "shell.execute_reply": "2024-06-05T05:39:10.213809Z"
    },
    "papermill": {
     "duration": 1.261515,
     "end_time": "2024-06-05T05:39:10.217395",
     "exception": false,
     "start_time": "2024-06-05T05:39:08.955880",
     "status": "completed"
    },
    "tags": []
   },
   "outputs": [
    {
     "data": {
      "application/vnd.jupyter.widget-view+json": {
       "model_id": "ae69332507c446d8a723fbe307709970",
       "version_major": 2,
       "version_minor": 0
      },
      "text/plain": [
       "Map:   0%|          | 0/3769 [00:00<?, ? examples/s]"
      ]
     },
     "metadata": {},
     "output_type": "display_data"
    },
    {
     "data": {
      "application/vnd.jupyter.widget-view+json": {
       "model_id": "652e360de43a463fa621d0da2b20f09e",
       "version_major": 2,
       "version_minor": 0
      },
      "text/plain": [
       "Map:   0%|          | 0/1082 [00:00<?, ? examples/s]"
      ]
     },
     "metadata": {},
     "output_type": "display_data"
    },
    {
     "data": {
      "application/vnd.jupyter.widget-view+json": {
       "model_id": "f431360d16f14836adc4d2251824ff84",
       "version_major": 2,
       "version_minor": 0
      },
      "text/plain": [
       "Map:   0%|          | 0/534 [00:00<?, ? examples/s]"
      ]
     },
     "metadata": {},
     "output_type": "display_data"
    }
   ],
   "source": [
    "encoded_dataset = dataset.map(preprocess_data, batched=True, remove_columns=dataset['train'].column_names)"
   ]
  },
  {
   "cell_type": "code",
   "execution_count": 31,
   "id": "4473aff7",
   "metadata": {
    "execution": {
     "iopub.execute_input": "2024-06-05T05:39:10.259802Z",
     "iopub.status.busy": "2024-06-05T05:39:10.259500Z",
     "iopub.status.idle": "2024-06-05T05:39:10.265261Z",
     "shell.execute_reply": "2024-06-05T05:39:10.264422Z"
    },
    "papermill": {
     "duration": 0.029294,
     "end_time": "2024-06-05T05:39:10.267315",
     "exception": false,
     "start_time": "2024-06-05T05:39:10.238021",
     "status": "completed"
    },
    "tags": []
   },
   "outputs": [
    {
     "data": {
      "text/plain": [
       "DatasetDict({\n",
       "    train: Dataset({\n",
       "        features: ['input_ids', 'token_type_ids', 'attention_mask', 'labels'],\n",
       "        num_rows: 3769\n",
       "    })\n",
       "    test: Dataset({\n",
       "        features: ['input_ids', 'token_type_ids', 'attention_mask', 'labels'],\n",
       "        num_rows: 1082\n",
       "    })\n",
       "    validation: Dataset({\n",
       "        features: ['input_ids', 'token_type_ids', 'attention_mask', 'labels'],\n",
       "        num_rows: 534\n",
       "    })\n",
       "})"
      ]
     },
     "execution_count": 31,
     "metadata": {},
     "output_type": "execute_result"
    }
   ],
   "source": [
    "encoded_dataset"
   ]
  },
  {
   "cell_type": "code",
   "execution_count": 32,
   "id": "ea4ff551",
   "metadata": {
    "execution": {
     "iopub.execute_input": "2024-06-05T05:39:10.308813Z",
     "iopub.status.busy": "2024-06-05T05:39:10.308558Z",
     "iopub.status.idle": "2024-06-05T05:39:10.313956Z",
     "shell.execute_reply": "2024-06-05T05:39:10.313118Z"
    },
    "papermill": {
     "duration": 0.028433,
     "end_time": "2024-06-05T05:39:10.315974",
     "exception": false,
     "start_time": "2024-06-05T05:39:10.287541",
     "status": "completed"
    },
    "tags": []
   },
   "outputs": [
    {
     "data": {
      "text/plain": [
       "Dataset({\n",
       "    features: ['input_ids', 'token_type_ids', 'attention_mask', 'labels'],\n",
       "    num_rows: 3769\n",
       "})"
      ]
     },
     "execution_count": 32,
     "metadata": {},
     "output_type": "execute_result"
    }
   ],
   "source": [
    "encoded_dataset['train']"
   ]
  },
  {
   "cell_type": "code",
   "execution_count": 33,
   "id": "c8e1ace6",
   "metadata": {
    "execution": {
     "iopub.execute_input": "2024-06-05T05:39:10.357341Z",
     "iopub.status.busy": "2024-06-05T05:39:10.357058Z",
     "iopub.status.idle": "2024-06-05T05:39:20.900141Z",
     "shell.execute_reply": "2024-06-05T05:39:20.899155Z"
    },
    "papermill": {
     "duration": 10.566199,
     "end_time": "2024-06-05T05:39:20.902378",
     "exception": false,
     "start_time": "2024-06-05T05:39:10.336179",
     "status": "completed"
    },
    "tags": []
   },
   "outputs": [
    {
     "name": "stderr",
     "output_type": "stream",
     "text": [
      "2024-06-05 05:39:12.021498: E external/local_xla/xla/stream_executor/cuda/cuda_dnn.cc:9261] Unable to register cuDNN factory: Attempting to register factory for plugin cuDNN when one has already been registered\n",
      "2024-06-05 05:39:12.021598: E external/local_xla/xla/stream_executor/cuda/cuda_fft.cc:607] Unable to register cuFFT factory: Attempting to register factory for plugin cuFFT when one has already been registered\n",
      "2024-06-05 05:39:12.144633: E external/local_xla/xla/stream_executor/cuda/cuda_blas.cc:1515] Unable to register cuBLAS factory: Attempting to register factory for plugin cuBLAS when one has already been registered\n"
     ]
    },
    {
     "data": {
      "text/plain": [
       "'[CLS] a shall not by itself render that person liable to any judicial or other proceedings but in any proceedings under the sfo andor the amlo before any court these guidelines shall be admissible in evidence and if any provision set out in these guidelines appears to the court to be relevant to any question arising in the proceedings it shall be taken into account in determining the question and [SEP] [PAD] [PAD] [PAD] [PAD] [PAD] [PAD] [PAD] [PAD] [PAD] [PAD] [PAD] [PAD] [PAD] [PAD] [PAD] [PAD] [PAD] [PAD] [PAD] [PAD] [PAD] [PAD] [PAD] [PAD] [PAD] [PAD] [PAD] [PAD] [PAD] [PAD] [PAD] [PAD] [PAD] [PAD] [PAD] [PAD] [PAD] [PAD] [PAD] [PAD] [PAD] [PAD] [PAD] [PAD] [PAD] [PAD] [PAD] [PAD] [PAD] [PAD] [PAD] [PAD] [PAD]'"
      ]
     },
     "execution_count": 33,
     "metadata": {},
     "output_type": "execute_result"
    }
   ],
   "source": [
    "example = encoded_dataset['train'][0]\n",
    "tokenizer.decode(example['input_ids'])"
   ]
  },
  {
   "cell_type": "code",
   "execution_count": 34,
   "id": "c5c0cb51",
   "metadata": {
    "execution": {
     "iopub.execute_input": "2024-06-05T05:39:20.945530Z",
     "iopub.status.busy": "2024-06-05T05:39:20.944928Z",
     "iopub.status.idle": "2024-06-05T05:39:20.949165Z",
     "shell.execute_reply": "2024-06-05T05:39:20.948235Z"
    },
    "papermill": {
     "duration": 0.027757,
     "end_time": "2024-06-05T05:39:20.951119",
     "exception": false,
     "start_time": "2024-06-05T05:39:20.923362",
     "status": "completed"
    },
    "tags": []
   },
   "outputs": [],
   "source": [
    "#example['labels']"
   ]
  },
  {
   "cell_type": "code",
   "execution_count": 35,
   "id": "90e9f152",
   "metadata": {
    "execution": {
     "iopub.execute_input": "2024-06-05T05:39:20.993491Z",
     "iopub.status.busy": "2024-06-05T05:39:20.993182Z",
     "iopub.status.idle": "2024-06-05T05:39:20.999110Z",
     "shell.execute_reply": "2024-06-05T05:39:20.998271Z"
    },
    "papermill": {
     "duration": 0.029246,
     "end_time": "2024-06-05T05:39:21.000993",
     "exception": false,
     "start_time": "2024-06-05T05:39:20.971747",
     "status": "completed"
    },
    "tags": []
   },
   "outputs": [],
   "source": [
    "#use id to label dictionary\n",
    "[id2label[idx] for idx, label in enumerate(example['labels']) if label == 1.0]\n",
    "encoded_dataset.set_format(\"torch\") "
   ]
  },
  {
   "cell_type": "markdown",
   "id": "d09aa150",
   "metadata": {
    "papermill": {
     "duration": 0.020932,
     "end_time": "2024-06-05T05:39:21.042385",
     "exception": false,
     "start_time": "2024-06-05T05:39:21.021453",
     "status": "completed"
    },
    "tags": []
   },
   "source": [
    "### Here we define a model that includes a pre-trained base (i.e. the weights from bert-base-uncased) are loaded, with a random initialized classification head (linear layer) on top. One should fine-tune this head, together with the pre-trained base on a labeled dataset.\n",
    "\n",
    "### We set the problem_type to be \"multi_label_classification\", as this will make sure the appropriate loss function is used (namely BCEWithLogitsLoss). We also make sure the output layer has len(labels) output neurons, and we set the id2label and label2id mappings"
   ]
  },
  {
   "cell_type": "code",
   "execution_count": 36,
   "id": "b1e4e121",
   "metadata": {
    "execution": {
     "iopub.execute_input": "2024-06-05T05:39:21.084839Z",
     "iopub.status.busy": "2024-06-05T05:39:21.084025Z",
     "iopub.status.idle": "2024-06-05T05:39:26.476976Z",
     "shell.execute_reply": "2024-06-05T05:39:26.476174Z"
    },
    "papermill": {
     "duration": 5.416568,
     "end_time": "2024-06-05T05:39:26.479258",
     "exception": false,
     "start_time": "2024-06-05T05:39:21.062690",
     "status": "completed"
    },
    "tags": []
   },
   "outputs": [
    {
     "data": {
      "application/vnd.jupyter.widget-view+json": {
       "model_id": "0fd58d3b863c4050993c61788d3855f0",
       "version_major": 2,
       "version_minor": 0
      },
      "text/plain": [
       "pytorch_model.bin:   0%|          | 0.00/438M [00:00<?, ?B/s]"
      ]
     },
     "metadata": {},
     "output_type": "display_data"
    },
    {
     "name": "stderr",
     "output_type": "stream",
     "text": [
      "/opt/conda/lib/python3.10/site-packages/torch/_utils.py:831: UserWarning: TypedStorage is deprecated. It will be removed in the future and UntypedStorage will be the only storage class. This should only matter to you if you are using storages directly.  To access UntypedStorage directly, use tensor.untyped_storage() instead of tensor.storage()\n",
      "  return self.fget.__get__(instance, owner)()\n",
      "Some weights of BertForSequenceClassification were not initialized from the model checkpoint at ProsusAI/finbert and are newly initialized because the shapes did not match:\n",
      "- classifier.weight: found shape torch.Size([3, 768]) in the checkpoint and torch.Size([55, 768]) in the model instantiated\n",
      "- classifier.bias: found shape torch.Size([3]) in the checkpoint and torch.Size([55]) in the model instantiated\n",
      "You should probably TRAIN this model on a down-stream task to be able to use it for predictions and inference.\n"
     ]
    }
   ],
   "source": [
    "from transformers import AutoModelForSequenceClassification\n",
    "\n",
    "model = AutoModelForSequenceClassification.from_pretrained(\"ProsusAI/finbert\", \n",
    "                                                           problem_type=\"multi_label_classification\", \n",
    "                                                           num_labels=len(labels),\n",
    "                                                           id2label=id2label,\n",
    "                                                           label2id=label2id,\n",
    "                                                          ignore_mismatched_sizes=True )"
   ]
  },
  {
   "cell_type": "code",
   "execution_count": 37,
   "id": "064927e2",
   "metadata": {
    "execution": {
     "iopub.execute_input": "2024-06-05T05:39:26.523305Z",
     "iopub.status.busy": "2024-06-05T05:39:26.522983Z",
     "iopub.status.idle": "2024-06-05T05:39:26.527056Z",
     "shell.execute_reply": "2024-06-05T05:39:26.526175Z"
    },
    "papermill": {
     "duration": 0.028197,
     "end_time": "2024-06-05T05:39:26.529004",
     "exception": false,
     "start_time": "2024-06-05T05:39:26.500807",
     "status": "completed"
    },
    "tags": []
   },
   "outputs": [],
   "source": [
    "batch_size = 16\n",
    "metric_name = \"f1\""
   ]
  },
  {
   "cell_type": "code",
   "execution_count": 38,
   "id": "36b8949b",
   "metadata": {
    "execution": {
     "iopub.execute_input": "2024-06-05T05:39:26.572499Z",
     "iopub.status.busy": "2024-06-05T05:39:26.571758Z",
     "iopub.status.idle": "2024-06-05T05:39:26.727062Z",
     "shell.execute_reply": "2024-06-05T05:39:26.726342Z"
    },
    "papermill": {
     "duration": 0.178973,
     "end_time": "2024-06-05T05:39:26.729074",
     "exception": false,
     "start_time": "2024-06-05T05:39:26.550101",
     "status": "completed"
    },
    "tags": []
   },
   "outputs": [
    {
     "name": "stderr",
     "output_type": "stream",
     "text": [
      "/opt/conda/lib/python3.10/site-packages/transformers/training_args.py:1474: FutureWarning: `evaluation_strategy` is deprecated and will be removed in version 4.46 of 🤗 Transformers. Use `eval_strategy` instead\n",
      "  warnings.warn(\n"
     ]
    }
   ],
   "source": [
    "from transformers import TrainingArguments, Trainer\n",
    "\n",
    "args = TrainingArguments(\n",
    "    f\"bert-finetuned-sem_eval-english\",\n",
    "    evaluation_strategy = \"epoch\",\n",
    "    save_strategy = \"epoch\",\n",
    "    learning_rate=1e-4,\n",
    "    per_device_train_batch_size=batch_size,\n",
    "    per_device_eval_batch_size=batch_size,\n",
    "    num_train_epochs=15,\n",
    "    weight_decay=0.01,\n",
    "    load_best_model_at_end=True,\n",
    "    metric_for_best_model=metric_name\n",
    ")"
   ]
  },
  {
   "cell_type": "markdown",
   "id": "66388905",
   "metadata": {
    "papermill": {
     "duration": 0.020848,
     "end_time": "2024-06-05T05:39:26.772069",
     "exception": false,
     "start_time": "2024-06-05T05:39:26.751221",
     "status": "completed"
    },
    "tags": []
   },
   "source": [
    "we need to define a compute_metrics function, that returns a dictionary with the desired metric values.\n",
    "\n",
    "source: https://jesusleal.io/2021/04/21/Longformer-multilabel-classification/"
   ]
  },
  {
   "cell_type": "code",
   "execution_count": 39,
   "id": "928d3344",
   "metadata": {
    "execution": {
     "iopub.execute_input": "2024-06-05T05:39:26.816005Z",
     "iopub.status.busy": "2024-06-05T05:39:26.815717Z",
     "iopub.status.idle": "2024-06-05T05:39:26.823760Z",
     "shell.execute_reply": "2024-06-05T05:39:26.822934Z"
    },
    "papermill": {
     "duration": 0.032274,
     "end_time": "2024-06-05T05:39:26.825780",
     "exception": false,
     "start_time": "2024-06-05T05:39:26.793506",
     "status": "completed"
    },
    "tags": []
   },
   "outputs": [],
   "source": [
    "from sklearn.metrics import f1_score, roc_auc_score, accuracy_score\n",
    "from transformers import EvalPrediction\n",
    "import torch\n",
    "    \n",
    "\n",
    "def multi_label_metrics(predictions, labels, threshold=0.5):\n",
    "    # first, apply sigmoid on predictions which are of shape (batch_size, num_labels)\n",
    "    sigmoid = torch.nn.Sigmoid()\n",
    "    probs = sigmoid(torch.Tensor(predictions))\n",
    "    # next, use threshold to turn them into integer predictions\n",
    "    y_pred = np.zeros(probs.shape)\n",
    "    y_pred[np.where(probs >= threshold)] = 1\n",
    "    # finally, compute metrics\n",
    "    y_true = labels\n",
    "    f1_micro_average = f1_score(y_true=y_true, y_pred=y_pred, average='micro')\n",
    "    roc_auc = roc_auc_score(y_true, y_pred, average = 'micro')\n",
    "    accuracy = accuracy_score(y_true, y_pred)\n",
    "    # return as dictionary\n",
    "    metrics = {'f1': f1_micro_average,\n",
    "               'roc_auc': roc_auc,\n",
    "               'accuracy': accuracy}\n",
    "    return metrics\n",
    "\n",
    "def compute_metrics(p: EvalPrediction):\n",
    "    preds = p.predictions[0] if isinstance(p.predictions, tuple) else p.predictions\n",
    "    result = multi_label_metrics(predictions=preds,labels=p.label_ids)\n",
    "    return result\n",
    "  \n",
    "   \n"
   ]
  },
  {
   "cell_type": "code",
   "execution_count": 40,
   "id": "771f6dc9",
   "metadata": {
    "execution": {
     "iopub.execute_input": "2024-06-05T05:39:26.869579Z",
     "iopub.status.busy": "2024-06-05T05:39:26.869116Z",
     "iopub.status.idle": "2024-06-05T05:39:26.883020Z",
     "shell.execute_reply": "2024-06-05T05:39:26.882178Z"
    },
    "papermill": {
     "duration": 0.037965,
     "end_time": "2024-06-05T05:39:26.884965",
     "exception": false,
     "start_time": "2024-06-05T05:39:26.847000",
     "status": "completed"
    },
    "tags": []
   },
   "outputs": [
    {
     "data": {
      "text/plain": [
       "'torch.FloatTensor'"
      ]
     },
     "execution_count": 40,
     "metadata": {},
     "output_type": "execute_result"
    }
   ],
   "source": [
    "encoded_dataset['train'][0]['labels'].type()"
   ]
  },
  {
   "cell_type": "code",
   "execution_count": 41,
   "id": "9ac426b8",
   "metadata": {
    "execution": {
     "iopub.execute_input": "2024-06-05T05:39:26.929215Z",
     "iopub.status.busy": "2024-06-05T05:39:26.928963Z",
     "iopub.status.idle": "2024-06-05T05:39:26.946725Z",
     "shell.execute_reply": "2024-06-05T05:39:26.945868Z"
    },
    "papermill": {
     "duration": 0.042232,
     "end_time": "2024-06-05T05:39:26.948731",
     "exception": false,
     "start_time": "2024-06-05T05:39:26.906499",
     "status": "completed"
    },
    "tags": []
   },
   "outputs": [
    {
     "data": {
      "text/plain": [
       "tensor([  101,  1037,  4618,  2025,  2011,  2993, 17552,  2008,  2711, 20090,\n",
       "         2000,  2151,  8268,  2030,  2060,  8931,  2021,  1999,  2151,  8931,\n",
       "         2104,  1996, 16420,  2080,  1998,  2953,  1996,  2572,  4135,  2077,\n",
       "         2151,  2457,  2122, 11594,  4618,  2022,  4748, 26770,  1999,  3350,\n",
       "         1998,  2065,  2151,  9347,  2275,  2041,  1999,  2122, 11594,  3544,\n",
       "         2000,  1996,  2457,  2000,  2022,  7882,  2000,  2151,  3160, 17707,\n",
       "         1999,  1996,  8931,  2009,  4618,  2022,  2579,  2046,  4070,  1999,\n",
       "        12515,  1996,  3160,  1998,   102,     0,     0,     0,     0,     0,\n",
       "            0,     0,     0,     0,     0,     0,     0,     0,     0,     0,\n",
       "            0,     0,     0,     0,     0,     0,     0,     0,     0,     0,\n",
       "            0,     0,     0,     0,     0,     0,     0,     0,     0,     0,\n",
       "            0,     0,     0,     0,     0,     0,     0,     0,     0,     0,\n",
       "            0,     0,     0,     0,     0,     0,     0,     0])"
      ]
     },
     "execution_count": 41,
     "metadata": {},
     "output_type": "execute_result"
    }
   ],
   "source": [
    "encoded_dataset['train']['input_ids'][0]"
   ]
  },
  {
   "cell_type": "code",
   "execution_count": 42,
   "id": "a1ce5733",
   "metadata": {
    "execution": {
     "iopub.execute_input": "2024-06-05T05:39:26.993160Z",
     "iopub.status.busy": "2024-06-05T05:39:26.992896Z",
     "iopub.status.idle": "2024-06-05T05:39:26.996450Z",
     "shell.execute_reply": "2024-06-05T05:39:26.995644Z"
    },
    "papermill": {
     "duration": 0.0274,
     "end_time": "2024-06-05T05:39:26.998273",
     "exception": false,
     "start_time": "2024-06-05T05:39:26.970873",
     "status": "completed"
    },
    "tags": []
   },
   "outputs": [],
   "source": [
    "# #forward pass\n",
    "# #, attention_mask=attention_mask\n",
    "# outputs = model(input_ids=encoded_dataset['train']['input_ids'][0].unsqueeze(0), labels=encoded_dataset['train'][0]['labels'].unsqueeze(0))\n",
    "# outputs"
   ]
  },
  {
   "cell_type": "code",
   "execution_count": 43,
   "id": "b833d076",
   "metadata": {
    "execution": {
     "iopub.execute_input": "2024-06-05T05:39:27.042462Z",
     "iopub.status.busy": "2024-06-05T05:39:27.042159Z",
     "iopub.status.idle": "2024-06-05T05:39:27.046271Z",
     "shell.execute_reply": "2024-06-05T05:39:27.045375Z"
    },
    "papermill": {
     "duration": 0.028521,
     "end_time": "2024-06-05T05:39:27.048297",
     "exception": false,
     "start_time": "2024-06-05T05:39:27.019776",
     "status": "completed"
    },
    "tags": []
   },
   "outputs": [],
   "source": [
    "from transformers import AutoModelForSequenceClassification, Trainer"
   ]
  },
  {
   "cell_type": "code",
   "execution_count": 44,
   "id": "f1ccf3f3",
   "metadata": {
    "execution": {
     "iopub.execute_input": "2024-06-05T05:39:27.091798Z",
     "iopub.status.busy": "2024-06-05T05:39:27.091524Z",
     "iopub.status.idle": "2024-06-05T05:39:27.254040Z",
     "shell.execute_reply": "2024-06-05T05:39:27.253180Z"
    },
    "papermill": {
     "duration": 0.186651,
     "end_time": "2024-06-05T05:39:27.256226",
     "exception": false,
     "start_time": "2024-06-05T05:39:27.069575",
     "status": "completed"
    },
    "tags": []
   },
   "outputs": [],
   "source": [
    "\n",
    "from kaggle_secrets import UserSecretsClient\n",
    "user_secrets = UserSecretsClient()\n",
    "secret_value_0 = user_secrets.get_secret(\"WANDB_API_KEY\")\n"
   ]
  },
  {
   "cell_type": "code",
   "execution_count": 45,
   "id": "2799d014",
   "metadata": {
    "execution": {
     "iopub.execute_input": "2024-06-05T05:39:27.300948Z",
     "iopub.status.busy": "2024-06-05T05:39:27.300660Z",
     "iopub.status.idle": "2024-06-05T05:39:27.304769Z",
     "shell.execute_reply": "2024-06-05T05:39:27.303970Z"
    },
    "papermill": {
     "duration": 0.028158,
     "end_time": "2024-06-05T05:39:27.306610",
     "exception": false,
     "start_time": "2024-06-05T05:39:27.278452",
     "status": "completed"
    },
    "tags": []
   },
   "outputs": [],
   "source": [
    "import os\n",
    "os.environ['WANDB_API_KEY'] =\"313a57558bcaee784e68d1654f7915a0b463a341\""
   ]
  },
  {
   "cell_type": "code",
   "execution_count": 46,
   "id": "fca7fc82",
   "metadata": {
    "execution": {
     "iopub.execute_input": "2024-06-05T05:39:27.351613Z",
     "iopub.status.busy": "2024-06-05T05:39:27.351344Z",
     "iopub.status.idle": "2024-06-05T05:39:28.236025Z",
     "shell.execute_reply": "2024-06-05T05:39:28.235236Z"
    },
    "papermill": {
     "duration": 0.909501,
     "end_time": "2024-06-05T05:39:28.238425",
     "exception": false,
     "start_time": "2024-06-05T05:39:27.328924",
     "status": "completed"
    },
    "tags": []
   },
   "outputs": [],
   "source": [
    "trainer = Trainer(\n",
    "    model,\n",
    "    args,\n",
    "    train_dataset=encoded_dataset[\"train\"],\n",
    "    eval_dataset=encoded_dataset[\"validation\"],\n",
    "    tokenizer=tokenizer,\n",
    "    compute_metrics=compute_metrics,\n",
    "\n",
    ")"
   ]
  },
  {
   "cell_type": "code",
   "execution_count": 47,
   "id": "662ca61f",
   "metadata": {
    "execution": {
     "iopub.execute_input": "2024-06-05T05:39:28.284007Z",
     "iopub.status.busy": "2024-06-05T05:39:28.283728Z",
     "iopub.status.idle": "2024-06-05T05:53:14.896711Z",
     "shell.execute_reply": "2024-06-05T05:53:14.895667Z"
    },
    "papermill": {
     "duration": 826.637482,
     "end_time": "2024-06-05T05:53:14.898855",
     "exception": false,
     "start_time": "2024-06-05T05:39:28.261373",
     "status": "completed"
    },
    "tags": []
   },
   "outputs": [
    {
     "name": "stderr",
     "output_type": "stream",
     "text": [
      "\u001b[34m\u001b[1mwandb\u001b[0m: \u001b[33mWARNING\u001b[0m The `run_name` is currently set to the same value as `TrainingArguments.output_dir`. If this was not intended, please specify a different run name by setting the `TrainingArguments.run_name` parameter.\n",
      "\u001b[34m\u001b[1mwandb\u001b[0m: Currently logged in as: \u001b[33manshtanwar007\u001b[0m (\u001b[33manshta\u001b[0m). Use \u001b[1m`wandb login --relogin`\u001b[0m to force relogin\n",
      "\u001b[34m\u001b[1mwandb\u001b[0m: Tracking run with wandb version 0.17.0\n",
      "\u001b[34m\u001b[1mwandb\u001b[0m: Run data is saved locally in \u001b[35m\u001b[1m/kaggle/working/wandb/run-20240605_053929-ip03pgn1\u001b[0m\n",
      "\u001b[34m\u001b[1mwandb\u001b[0m: Run \u001b[1m`wandb offline`\u001b[0m to turn off syncing.\n",
      "\u001b[34m\u001b[1mwandb\u001b[0m: Syncing run \u001b[33mbert-finetuned-sem_eval-english\u001b[0m\n",
      "\u001b[34m\u001b[1mwandb\u001b[0m: ⭐️ View project at \u001b[34m\u001b[4mhttps://wandb.ai/anshta/huggingface\u001b[0m\n",
      "\u001b[34m\u001b[1mwandb\u001b[0m: 🚀 View run at \u001b[34m\u001b[4mhttps://wandb.ai/anshta/huggingface/runs/ip03pgn1\u001b[0m\n"
     ]
    },
    {
     "data": {
      "text/html": [
       "\n",
       "    <div>\n",
       "      \n",
       "      <progress value='3540' max='3540' style='width:300px; height:20px; vertical-align: middle;'></progress>\n",
       "      [3540/3540 13:27, Epoch 15/15]\n",
       "    </div>\n",
       "    <table border=\"1\" class=\"dataframe\">\n",
       "  <thead>\n",
       " <tr style=\"text-align: left;\">\n",
       "      <th>Epoch</th>\n",
       "      <th>Training Loss</th>\n",
       "      <th>Validation Loss</th>\n",
       "      <th>F1</th>\n",
       "      <th>Roc Auc</th>\n",
       "      <th>Accuracy</th>\n",
       "    </tr>\n",
       "  </thead>\n",
       "  <tbody>\n",
       "    <tr>\n",
       "      <td>1</td>\n",
       "      <td>No log</td>\n",
       "      <td>0.169014</td>\n",
       "      <td>0.172363</td>\n",
       "      <td>0.547448</td>\n",
       "      <td>0.011236</td>\n",
       "    </tr>\n",
       "    <tr>\n",
       "      <td>2</td>\n",
       "      <td>No log</td>\n",
       "      <td>0.122438</td>\n",
       "      <td>0.629696</td>\n",
       "      <td>0.741422</td>\n",
       "      <td>0.228464</td>\n",
       "    </tr>\n",
       "    <tr>\n",
       "      <td>3</td>\n",
       "      <td>0.169200</td>\n",
       "      <td>0.098996</td>\n",
       "      <td>0.701307</td>\n",
       "      <td>0.786930</td>\n",
       "      <td>0.303371</td>\n",
       "    </tr>\n",
       "    <tr>\n",
       "      <td>4</td>\n",
       "      <td>0.169200</td>\n",
       "      <td>0.087973</td>\n",
       "      <td>0.748197</td>\n",
       "      <td>0.813710</td>\n",
       "      <td>0.359551</td>\n",
       "    </tr>\n",
       "    <tr>\n",
       "      <td>5</td>\n",
       "      <td>0.086600</td>\n",
       "      <td>0.078775</td>\n",
       "      <td>0.788013</td>\n",
       "      <td>0.843359</td>\n",
       "      <td>0.397004</td>\n",
       "    </tr>\n",
       "    <tr>\n",
       "      <td>6</td>\n",
       "      <td>0.086600</td>\n",
       "      <td>0.074047</td>\n",
       "      <td>0.808814</td>\n",
       "      <td>0.858329</td>\n",
       "      <td>0.441948</td>\n",
       "    </tr>\n",
       "    <tr>\n",
       "      <td>7</td>\n",
       "      <td>0.056000</td>\n",
       "      <td>0.071054</td>\n",
       "      <td>0.825000</td>\n",
       "      <td>0.872012</td>\n",
       "      <td>0.479401</td>\n",
       "    </tr>\n",
       "    <tr>\n",
       "      <td>8</td>\n",
       "      <td>0.056000</td>\n",
       "      <td>0.068157</td>\n",
       "      <td>0.835910</td>\n",
       "      <td>0.886106</td>\n",
       "      <td>0.492509</td>\n",
       "    </tr>\n",
       "    <tr>\n",
       "      <td>9</td>\n",
       "      <td>0.035900</td>\n",
       "      <td>0.066998</td>\n",
       "      <td>0.851101</td>\n",
       "      <td>0.903075</td>\n",
       "      <td>0.533708</td>\n",
       "    </tr>\n",
       "    <tr>\n",
       "      <td>10</td>\n",
       "      <td>0.035900</td>\n",
       "      <td>0.064836</td>\n",
       "      <td>0.851950</td>\n",
       "      <td>0.899104</td>\n",
       "      <td>0.529963</td>\n",
       "    </tr>\n",
       "    <tr>\n",
       "      <td>11</td>\n",
       "      <td>0.026000</td>\n",
       "      <td>0.064630</td>\n",
       "      <td>0.857651</td>\n",
       "      <td>0.897749</td>\n",
       "      <td>0.552434</td>\n",
       "    </tr>\n",
       "    <tr>\n",
       "      <td>12</td>\n",
       "      <td>0.026000</td>\n",
       "      <td>0.064262</td>\n",
       "      <td>0.858399</td>\n",
       "      <td>0.902346</td>\n",
       "      <td>0.561798</td>\n",
       "    </tr>\n",
       "    <tr>\n",
       "      <td>13</td>\n",
       "      <td>0.019700</td>\n",
       "      <td>0.064527</td>\n",
       "      <td>0.859163</td>\n",
       "      <td>0.900886</td>\n",
       "      <td>0.563670</td>\n",
       "    </tr>\n",
       "    <tr>\n",
       "      <td>14</td>\n",
       "      <td>0.019700</td>\n",
       "      <td>0.065048</td>\n",
       "      <td>0.859407</td>\n",
       "      <td>0.902418</td>\n",
       "      <td>0.563670</td>\n",
       "    </tr>\n",
       "    <tr>\n",
       "      <td>15</td>\n",
       "      <td>0.016800</td>\n",
       "      <td>0.064540</td>\n",
       "      <td>0.860574</td>\n",
       "      <td>0.903765</td>\n",
       "      <td>0.569288</td>\n",
       "    </tr>\n",
       "  </tbody>\n",
       "</table><p>"
      ],
      "text/plain": [
       "<IPython.core.display.HTML object>"
      ]
     },
     "metadata": {},
     "output_type": "display_data"
    },
    {
     "data": {
      "text/plain": [
       "TrainOutput(global_step=3540, training_loss=0.05812325790777045, metrics={'train_runtime': 826.3012, 'train_samples_per_second': 68.419, 'train_steps_per_second': 4.284, 'total_flos': 3720515501986560.0, 'train_loss': 0.05812325790777045, 'epoch': 15.0})"
      ]
     },
     "execution_count": 47,
     "metadata": {},
     "output_type": "execute_result"
    }
   ],
   "source": [
    "trainer.train()"
   ]
  },
  {
   "cell_type": "code",
   "execution_count": 48,
   "id": "19d0bd10",
   "metadata": {
    "execution": {
     "iopub.execute_input": "2024-06-05T05:53:14.949489Z",
     "iopub.status.busy": "2024-06-05T05:53:14.948821Z",
     "iopub.status.idle": "2024-06-05T05:53:17.071103Z",
     "shell.execute_reply": "2024-06-05T05:53:17.070130Z"
    },
    "papermill": {
     "duration": 2.150204,
     "end_time": "2024-06-05T05:53:17.073185",
     "exception": false,
     "start_time": "2024-06-05T05:53:14.922981",
     "status": "completed"
    },
    "tags": []
   },
   "outputs": [
    {
     "data": {
      "text/html": [
       "\n",
       "    <div>\n",
       "      \n",
       "      <progress value='34' max='34' style='width:300px; height:20px; vertical-align: middle;'></progress>\n",
       "      [34/34 00:02]\n",
       "    </div>\n",
       "    "
      ],
      "text/plain": [
       "<IPython.core.display.HTML object>"
      ]
     },
     "metadata": {},
     "output_type": "display_data"
    },
    {
     "data": {
      "text/plain": [
       "{'eval_loss': 0.0645396038889885,\n",
       " 'eval_f1': 0.8605741066198009,\n",
       " 'eval_roc_auc': 0.9037646941441114,\n",
       " 'eval_accuracy': 0.5692883895131086,\n",
       " 'eval_runtime': 2.1104,\n",
       " 'eval_samples_per_second': 253.035,\n",
       " 'eval_steps_per_second': 16.111,\n",
       " 'epoch': 15.0}"
      ]
     },
     "execution_count": 48,
     "metadata": {},
     "output_type": "execute_result"
    }
   ],
   "source": [
    "trainer.evaluate()"
   ]
  },
  {
   "cell_type": "markdown",
   "id": "829766d8",
   "metadata": {
    "papermill": {
     "duration": 0.023304,
     "end_time": "2024-06-05T05:53:17.124834",
     "exception": false,
     "start_time": "2024-06-05T05:53:17.101530",
     "status": "completed"
    },
    "tags": []
   },
   "source": [
    "# Inference\n",
    "add Codeadd Markdown\n",
    "The logits that come out of the model are of shape (batch_size, num_labels). As we are only forwarding a single sentence through the model, the batch_size equals 1.\n",
    "\n",
    "The logits is a tensor that contains the (unnormalized) scores for every individual label.\n",
    "\n",
    "The logits that come out of the model are of shape (batch_size, num_labels). As we are only forwarding a single sentence through the model, the batch_size equals 1.\n",
    "\n",
    "The logits is a tensor that contains the (unnormalized) scores for every individual label."
   ]
  },
  {
   "cell_type": "code",
   "execution_count": 49,
   "id": "add95f3d",
   "metadata": {
    "execution": {
     "iopub.execute_input": "2024-06-05T05:53:17.175961Z",
     "iopub.status.busy": "2024-06-05T05:53:17.175602Z",
     "iopub.status.idle": "2024-06-05T05:53:17.183144Z",
     "shell.execute_reply": "2024-06-05T05:53:17.182151Z"
    },
    "papermill": {
     "duration": 0.034874,
     "end_time": "2024-06-05T05:53:17.185426",
     "exception": false,
     "start_time": "2024-06-05T05:53:17.150552",
     "status": "completed"
    },
    "tags": []
   },
   "outputs": [],
   "source": [
    "def get_answer(text):\n",
    "    \n",
    "    encoding = tokenizer(text, return_tensors=\"pt\")\n",
    "    encoding = {k: v.to(trainer.model.device) for k,v in encoding.items()}\n",
    "    outputs = trainer.model(**encoding)\n",
    "    logits = outputs.logits\n",
    "    print(logits.shape)\n",
    "    \n",
    "    # apply sigmoid + threshold\n",
    "    sigmoid = torch.nn.Sigmoid()\n",
    "    probs = sigmoid(logits.squeeze().cpu())\n",
    "    print(probs)\n",
    "    predictions = np.zeros(probs.shape)\n",
    "    predictions[np.where(probs >= 0.5)] = 1\n",
    "    print(predictions)\n",
    "    predicted_labels = [id2label[idx] for idx, label in enumerate(predictions) if label == 1.0]\n",
    "    print()\n",
    "    return predicted_labels\n"
   ]
  },
  {
   "cell_type": "code",
   "execution_count": 50,
   "id": "a97bdcda",
   "metadata": {
    "execution": {
     "iopub.execute_input": "2024-06-05T05:53:17.235567Z",
     "iopub.status.busy": "2024-06-05T05:53:17.235191Z",
     "iopub.status.idle": "2024-06-05T05:53:17.297729Z",
     "shell.execute_reply": "2024-06-05T05:53:17.296611Z"
    },
    "papermill": {
     "duration": 0.088464,
     "end_time": "2024-06-05T05:53:17.299820",
     "exception": false,
     "start_time": "2024-06-05T05:53:17.211356",
     "status": "completed"
    },
    "tags": []
   },
   "outputs": [
    {
     "name": "stdout",
     "output_type": "stream",
     "text": [
      "torch.Size([1, 55])\n",
      "tensor([6.4288e-03, 3.9970e-03, 6.3824e-03, 9.3339e-01, 3.9785e-03, 1.3001e-03,\n",
      "        3.4246e-01, 9.0425e-03, 3.8360e-03, 9.7628e-03, 2.5928e-03, 5.5657e-01,\n",
      "        4.3792e-03, 4.6536e-03, 3.5831e-02, 1.3075e-03, 5.7187e-03, 6.3641e-03,\n",
      "        7.2965e-03, 2.6082e-02, 6.8132e-03, 9.8914e-01, 9.8985e-01, 3.9440e-03,\n",
      "        2.1915e-03, 1.2464e-02, 3.4085e-03, 2.9950e-03, 9.0383e-04, 8.6126e-03,\n",
      "        2.2203e-02, 1.0666e-02, 6.8021e-03, 2.1095e-02, 1.2509e-03, 8.9491e-03,\n",
      "        3.1452e-03, 4.1946e-03, 2.8408e-03, 1.0196e-02, 3.7646e-03, 2.1741e-03,\n",
      "        7.7762e-03, 2.0625e-03, 3.2808e-03, 1.2123e-03, 1.4360e-02, 2.0037e-03,\n",
      "        6.6296e-03, 2.0002e-03, 1.2033e-02, 9.9460e-01, 3.6762e-03, 7.1329e-03,\n",
      "        2.8005e-03], grad_fn=<SigmoidBackward0>)\n",
      "[0. 0. 0. 1. 0. 0. 0. 0. 0. 0. 0. 1. 0. 0. 0. 0. 0. 0. 0. 0. 0. 1. 1. 0.\n",
      " 0. 0. 0. 0. 0. 0. 0. 0. 0. 0. 0. 0. 0. 0. 0. 0. 0. 0. 0. 0. 0. 0. 0. 0.\n",
      " 0. 0. 0. 1. 0. 0. 0.]\n",
      "\n"
     ]
    },
    {
     "data": {
      "text/plain": [
       "['cft', 'compliance', 'aml', 'virtual assets', 'license']"
      ]
     },
     "execution_count": 50,
     "metadata": {},
     "output_type": "execute_result"
    }
   ],
   "source": [
    "text = \"The new licensing regime for centralised virtual asset trading platforms under the Anti-MoneyLaundering and Counter-Terrorist Financing Ordinance (Cap. 615) (AMLO) will come intoeffect on 1 June 2023. Under the new regime, centralised virtual asset trading platformsoperating in Hong Kong will need to apply to the Securities and Futures Commission (SFC)for a licence under the Securities and Futures Ordinance (Cap 571) (SFO) and/or the AMLO(Dual Licence Arrangement)\"\n",
    "get_answer(text)"
   ]
  },
  {
   "cell_type": "markdown",
   "id": "7eaf1f49",
   "metadata": {
    "papermill": {
     "duration": 0.026018,
     "end_time": "2024-06-05T05:53:17.351187",
     "exception": false,
     "start_time": "2024-06-05T05:53:17.325169",
     "status": "completed"
    },
    "tags": []
   },
   "source": [
    "# Probability"
   ]
  },
  {
   "cell_type": "code",
   "execution_count": 51,
   "id": "5f36dd3b",
   "metadata": {
    "execution": {
     "iopub.execute_input": "2024-06-05T05:53:17.399841Z",
     "iopub.status.busy": "2024-06-05T05:53:17.399444Z",
     "iopub.status.idle": "2024-06-05T05:53:17.403785Z",
     "shell.execute_reply": "2024-06-05T05:53:17.402807Z"
    },
    "papermill": {
     "duration": 0.031261,
     "end_time": "2024-06-05T05:53:17.405839",
     "exception": false,
     "start_time": "2024-06-05T05:53:17.374578",
     "status": "completed"
    },
    "tags": []
   },
   "outputs": [],
   "source": [
    "# outputs = trainer.model(**encoding)\n",
    "# logits = outputs.logits\n",
    "# logits.shape"
   ]
  },
  {
   "cell_type": "markdown",
   "id": "46dbcbb9",
   "metadata": {
    "papermill": {
     "duration": 0.023286,
     "end_time": "2024-06-05T05:53:17.453103",
     "exception": false,
     "start_time": "2024-06-05T05:53:17.429817",
     "status": "completed"
    },
    "tags": []
   },
   "source": [
    "The logits that come out of the model are of shape (batch_size, num_labels). As we are only forwarding a single sentence through the model, the batch_size equals 1.\n",
    "\n",
    "The logits is a tensor that contains the (unnormalized) scores for every individual label\n",
    "\n",
    "To turn them into actual predicted labels, we first apply a sigmoid function independently to every score, such that every score is turned into a number between 0 and 1, that can be interpreted as a \"probability\" for how certain the model is that a given class belongs to the input text.\n",
    "\n",
    "Next, we use a threshold (typically, 0.5) to turn every probability into either a 1 (which means, we predict the label for the given example) or a 0 (which means, we don't predict the label for the given example)"
   ]
  },
  {
   "cell_type": "code",
   "execution_count": 52,
   "id": "07a3e001",
   "metadata": {
    "execution": {
     "iopub.execute_input": "2024-06-05T05:53:17.501595Z",
     "iopub.status.busy": "2024-06-05T05:53:17.501207Z",
     "iopub.status.idle": "2024-06-05T05:53:17.505566Z",
     "shell.execute_reply": "2024-06-05T05:53:17.504606Z"
    },
    "papermill": {
     "duration": 0.031179,
     "end_time": "2024-06-05T05:53:17.507710",
     "exception": false,
     "start_time": "2024-06-05T05:53:17.476531",
     "status": "completed"
    },
    "tags": []
   },
   "outputs": [],
   "source": [
    "# # apply sigmoid + threshold\n",
    "# sigmoid = torch.nn.Sigmoid()\n",
    "# probs = sigmoid(logits.squeeze().cpu())\n",
    "# predictions = np.zeros(probs.shape)\n",
    "# predictions[np.where(probs >= 0.5)] = 1\n",
    "# # turn predicted id's into actual label names\n",
    "# predicted_labels = [id2label[idx] for idx, label in enumerate(predictions) if label == 1.0]\n",
    "# print(predicted_labels)"
   ]
  },
  {
   "cell_type": "code",
   "execution_count": null,
   "id": "41f09a29",
   "metadata": {
    "papermill": {
     "duration": 0.026066,
     "end_time": "2024-06-05T05:53:17.557049",
     "exception": false,
     "start_time": "2024-06-05T05:53:17.530983",
     "status": "completed"
    },
    "tags": []
   },
   "outputs": [],
   "source": []
  }
 ],
 "metadata": {
  "kaggle": {
   "accelerator": "gpu",
   "dataSources": [
    {
     "datasetId": 5092991,
     "sourceId": 8600001,
     "sourceType": "datasetVersion"
    }
   ],
   "dockerImageVersionId": 30715,
   "isGpuEnabled": true,
   "isInternetEnabled": true,
   "language": "python",
   "sourceType": "notebook"
  },
  "kernelspec": {
   "display_name": "Python 3",
   "language": "python",
   "name": "python3"
  },
  "language_info": {
   "codemirror_mode": {
    "name": "ipython",
    "version": 3
   },
   "file_extension": ".py",
   "mimetype": "text/x-python",
   "name": "python",
   "nbconvert_exporter": "python",
   "pygments_lexer": "ipython3",
   "version": "3.10.13"
  },
  "papermill": {
   "default_parameters": {},
   "duration": 872.100605,
   "end_time": "2024-06-05T05:53:20.304005",
   "environment_variables": {},
   "exception": null,
   "input_path": "__notebook__.ipynb",
   "output_path": "__notebook__.ipynb",
   "parameters": {},
   "start_time": "2024-06-05T05:38:48.203400",
   "version": "2.5.0"
  },
  "widgets": {
   "application/vnd.jupyter.widget-state+json": {
    "state": {
     "000b5533151047138f3d5e665b44aeba": {
      "model_module": "@jupyter-widgets/base",
      "model_module_version": "1.2.0",
      "model_name": "LayoutModel",
      "state": {
       "_model_module": "@jupyter-widgets/base",
       "_model_module_version": "1.2.0",
       "_model_name": "LayoutModel",
       "_view_count": null,
       "_view_module": "@jupyter-widgets/base",
       "_view_module_version": "1.2.0",
       "_view_name": "LayoutView",
       "align_content": null,
       "align_items": null,
       "align_self": null,
       "border": null,
       "bottom": null,
       "display": null,
       "flex": null,
       "flex_flow": null,
       "grid_area": null,
       "grid_auto_columns": null,
       "grid_auto_flow": null,
       "grid_auto_rows": null,
       "grid_column": null,
       "grid_gap": null,
       "grid_row": null,
       "grid_template_areas": null,
       "grid_template_columns": null,
       "grid_template_rows": null,
       "height": null,
       "justify_content": null,
       "justify_items": null,
       "left": null,
       "margin": null,
       "max_height": null,
       "max_width": null,
       "min_height": null,
       "min_width": null,
       "object_fit": null,
       "object_position": null,
       "order": null,
       "overflow": null,
       "overflow_x": null,
       "overflow_y": null,
       "padding": null,
       "right": null,
       "top": null,
       "visibility": null,
       "width": null
      }
     },
     "025d7bdd5e1840e1bd9056d98919d135": {
      "model_module": "@jupyter-widgets/controls",
      "model_module_version": "1.5.0",
      "model_name": "HTMLModel",
      "state": {
       "_dom_classes": [],
       "_model_module": "@jupyter-widgets/controls",
       "_model_module_version": "1.5.0",
       "_model_name": "HTMLModel",
       "_view_count": null,
       "_view_module": "@jupyter-widgets/controls",
       "_view_module_version": "1.5.0",
       "_view_name": "HTMLView",
       "description": "",
       "description_tooltip": null,
       "layout": "IPY_MODEL_092c3105cfeb41b496202fde2d02f831",
       "placeholder": "​",
       "style": "IPY_MODEL_e3cfcd66b2954ab683a2601a9835e1b2",
       "value": "tokenizer_config.json: 100%"
      }
     },
     "02667ec6c76d4c8f98c286e60dd74e97": {
      "model_module": "@jupyter-widgets/base",
      "model_module_version": "1.2.0",
      "model_name": "LayoutModel",
      "state": {
       "_model_module": "@jupyter-widgets/base",
       "_model_module_version": "1.2.0",
       "_model_name": "LayoutModel",
       "_view_count": null,
       "_view_module": "@jupyter-widgets/base",
       "_view_module_version": "1.2.0",
       "_view_name": "LayoutView",
       "align_content": null,
       "align_items": null,
       "align_self": null,
       "border": null,
       "bottom": null,
       "display": null,
       "flex": null,
       "flex_flow": null,
       "grid_area": null,
       "grid_auto_columns": null,
       "grid_auto_flow": null,
       "grid_auto_rows": null,
       "grid_column": null,
       "grid_gap": null,
       "grid_row": null,
       "grid_template_areas": null,
       "grid_template_columns": null,
       "grid_template_rows": null,
       "height": null,
       "justify_content": null,
       "justify_items": null,
       "left": null,
       "margin": null,
       "max_height": null,
       "max_width": null,
       "min_height": null,
       "min_width": null,
       "object_fit": null,
       "object_position": null,
       "order": null,
       "overflow": null,
       "overflow_x": null,
       "overflow_y": null,
       "padding": null,
       "right": null,
       "top": null,
       "visibility": null,
       "width": null
      }
     },
     "02c80c4a95e044f197331f96085459fe": {
      "model_module": "@jupyter-widgets/controls",
      "model_module_version": "1.5.0",
      "model_name": "DescriptionStyleModel",
      "state": {
       "_model_module": "@jupyter-widgets/controls",
       "_model_module_version": "1.5.0",
       "_model_name": "DescriptionStyleModel",
       "_view_count": null,
       "_view_module": "@jupyter-widgets/base",
       "_view_module_version": "1.2.0",
       "_view_name": "StyleView",
       "description_width": ""
      }
     },
     "04210e2992884ef0834755944b95aa8e": {
      "model_module": "@jupyter-widgets/controls",
      "model_module_version": "1.5.0",
      "model_name": "HTMLModel",
      "state": {
       "_dom_classes": [],
       "_model_module": "@jupyter-widgets/controls",
       "_model_module_version": "1.5.0",
       "_model_name": "HTMLModel",
       "_view_count": null,
       "_view_module": "@jupyter-widgets/controls",
       "_view_module_version": "1.5.0",
       "_view_name": "HTMLView",
       "description": "",
       "description_tooltip": null,
       "layout": "IPY_MODEL_f01220ec7096479983f37ba3b495ef1f",
       "placeholder": "​",
       "style": "IPY_MODEL_d72c94237bdf44fa9e54d0c41f17260c",
       "value": "Map: 100%"
      }
     },
     "049f817d8f6646faacfb25003f9a6899": {
      "model_module": "@jupyter-widgets/controls",
      "model_module_version": "1.5.0",
      "model_name": "HBoxModel",
      "state": {
       "_dom_classes": [],
       "_model_module": "@jupyter-widgets/controls",
       "_model_module_version": "1.5.0",
       "_model_name": "HBoxModel",
       "_view_count": null,
       "_view_module": "@jupyter-widgets/controls",
       "_view_module_version": "1.5.0",
       "_view_name": "HBoxView",
       "box_style": "",
       "children": [
        "IPY_MODEL_0e36fd8c4fdf4bc7988b58e91468d467",
        "IPY_MODEL_d2bdb9d12c2745fca5dfeb8f923ae3ac",
        "IPY_MODEL_2c118c64db374da5999474d6e9c3ad22"
       ],
       "layout": "IPY_MODEL_96afd323dcc546c6831bd4363fa1e21c"
      }
     },
     "04eef35e98be459b8841ca23ef42e71d": {
      "model_module": "@jupyter-widgets/controls",
      "model_module_version": "1.5.0",
      "model_name": "ProgressStyleModel",
      "state": {
       "_model_module": "@jupyter-widgets/controls",
       "_model_module_version": "1.5.0",
       "_model_name": "ProgressStyleModel",
       "_view_count": null,
       "_view_module": "@jupyter-widgets/base",
       "_view_module_version": "1.2.0",
       "_view_name": "StyleView",
       "bar_color": null,
       "description_width": ""
      }
     },
     "092c3105cfeb41b496202fde2d02f831": {
      "model_module": "@jupyter-widgets/base",
      "model_module_version": "1.2.0",
      "model_name": "LayoutModel",
      "state": {
       "_model_module": "@jupyter-widgets/base",
       "_model_module_version": "1.2.0",
       "_model_name": "LayoutModel",
       "_view_count": null,
       "_view_module": "@jupyter-widgets/base",
       "_view_module_version": "1.2.0",
       "_view_name": "LayoutView",
       "align_content": null,
       "align_items": null,
       "align_self": null,
       "border": null,
       "bottom": null,
       "display": null,
       "flex": null,
       "flex_flow": null,
       "grid_area": null,
       "grid_auto_columns": null,
       "grid_auto_flow": null,
       "grid_auto_rows": null,
       "grid_column": null,
       "grid_gap": null,
       "grid_row": null,
       "grid_template_areas": null,
       "grid_template_columns": null,
       "grid_template_rows": null,
       "height": null,
       "justify_content": null,
       "justify_items": null,
       "left": null,
       "margin": null,
       "max_height": null,
       "max_width": null,
       "min_height": null,
       "min_width": null,
       "object_fit": null,
       "object_position": null,
       "order": null,
       "overflow": null,
       "overflow_x": null,
       "overflow_y": null,
       "padding": null,
       "right": null,
       "top": null,
       "visibility": null,
       "width": null
      }
     },
     "0a8333539f784ed0a8bc8d3be6fd6bc0": {
      "model_module": "@jupyter-widgets/controls",
      "model_module_version": "1.5.0",
      "model_name": "FloatProgressModel",
      "state": {
       "_dom_classes": [],
       "_model_module": "@jupyter-widgets/controls",
       "_model_module_version": "1.5.0",
       "_model_name": "FloatProgressModel",
       "_view_count": null,
       "_view_module": "@jupyter-widgets/controls",
       "_view_module_version": "1.5.0",
       "_view_name": "ProgressView",
       "bar_style": "success",
       "description": "",
       "description_tooltip": null,
       "layout": "IPY_MODEL_02667ec6c76d4c8f98c286e60dd74e97",
       "max": 758.0,
       "min": 0.0,
       "orientation": "horizontal",
       "style": "IPY_MODEL_c1307fc6a631487bab9d8aa9c1262aee",
       "value": 758.0
      }
     },
     "0be1424fa1a6447ca4b3137ddc2498d9": {
      "model_module": "@jupyter-widgets/controls",
      "model_module_version": "1.5.0",
      "model_name": "FloatProgressModel",
      "state": {
       "_dom_classes": [],
       "_model_module": "@jupyter-widgets/controls",
       "_model_module_version": "1.5.0",
       "_model_name": "FloatProgressModel",
       "_view_count": null,
       "_view_module": "@jupyter-widgets/controls",
       "_view_module_version": "1.5.0",
       "_view_name": "ProgressView",
       "bar_style": "success",
       "description": "",
       "description_tooltip": null,
       "layout": "IPY_MODEL_b641a1c0718e46f8824a41bd9be91cd0",
       "max": 437992753.0,
       "min": 0.0,
       "orientation": "horizontal",
       "style": "IPY_MODEL_53a6a4a4ceae48e29e51b31afd7e01ce",
       "value": 437992753.0
      }
     },
     "0c5cc6088bca4ec0a04fea1905aded7c": {
      "model_module": "@jupyter-widgets/controls",
      "model_module_version": "1.5.0",
      "model_name": "HBoxModel",
      "state": {
       "_dom_classes": [],
       "_model_module": "@jupyter-widgets/controls",
       "_model_module_version": "1.5.0",
       "_model_name": "HBoxModel",
       "_view_count": null,
       "_view_module": "@jupyter-widgets/controls",
       "_view_module_version": "1.5.0",
       "_view_name": "HBoxView",
       "box_style": "",
       "children": [
        "IPY_MODEL_75fa0d1f0d1b453babc224ca0ccb3453",
        "IPY_MODEL_d20a2705741d4a28b9eb87611be4f4be",
        "IPY_MODEL_fa98bedac0ce4efc94363a27c575befd"
       ],
       "layout": "IPY_MODEL_14be0f12a86d4de1ac8c9c6a54dc1ba5"
      }
     },
     "0e36fd8c4fdf4bc7988b58e91468d467": {
      "model_module": "@jupyter-widgets/controls",
      "model_module_version": "1.5.0",
      "model_name": "HTMLModel",
      "state": {
       "_dom_classes": [],
       "_model_module": "@jupyter-widgets/controls",
       "_model_module_version": "1.5.0",
       "_model_name": "HTMLModel",
       "_view_count": null,
       "_view_module": "@jupyter-widgets/controls",
       "_view_module_version": "1.5.0",
       "_view_name": "HTMLView",
       "description": "",
       "description_tooltip": null,
       "layout": "IPY_MODEL_37cffa49af3b40eeaa30ecab7b55851f",
       "placeholder": "​",
       "style": "IPY_MODEL_af15bc869b0e47b295e7420b6695a83a",
       "value": "vocab.txt: 100%"
      }
     },
     "0fd58d3b863c4050993c61788d3855f0": {
      "model_module": "@jupyter-widgets/controls",
      "model_module_version": "1.5.0",
      "model_name": "HBoxModel",
      "state": {
       "_dom_classes": [],
       "_model_module": "@jupyter-widgets/controls",
       "_model_module_version": "1.5.0",
       "_model_name": "HBoxModel",
       "_view_count": null,
       "_view_module": "@jupyter-widgets/controls",
       "_view_module_version": "1.5.0",
       "_view_name": "HBoxView",
       "box_style": "",
       "children": [
        "IPY_MODEL_7c6e36a13bf14a1e98c05db077aaddaf",
        "IPY_MODEL_0be1424fa1a6447ca4b3137ddc2498d9",
        "IPY_MODEL_5c5784472bc94805bd236ae07c726e40"
       ],
       "layout": "IPY_MODEL_488a107b264549c3ad88aba80c492fb8"
      }
     },
     "11da63c8d61e4be7924171bf42b8fe8d": {
      "model_module": "@jupyter-widgets/controls",
      "model_module_version": "1.5.0",
      "model_name": "FloatProgressModel",
      "state": {
       "_dom_classes": [],
       "_model_module": "@jupyter-widgets/controls",
       "_model_module_version": "1.5.0",
       "_model_name": "FloatProgressModel",
       "_view_count": null,
       "_view_module": "@jupyter-widgets/controls",
       "_view_module_version": "1.5.0",
       "_view_name": "ProgressView",
       "bar_style": "success",
       "description": "",
       "description_tooltip": null,
       "layout": "IPY_MODEL_3154c73ca6ae4b2791e789c60422c92e",
       "max": 3769.0,
       "min": 0.0,
       "orientation": "horizontal",
       "style": "IPY_MODEL_04eef35e98be459b8841ca23ef42e71d",
       "value": 3769.0
      }
     },
     "131e7d6779244cba9ede19d542c4f5e8": {
      "model_module": "@jupyter-widgets/controls",
      "model_module_version": "1.5.0",
      "model_name": "HTMLModel",
      "state": {
       "_dom_classes": [],
       "_model_module": "@jupyter-widgets/controls",
       "_model_module_version": "1.5.0",
       "_model_name": "HTMLModel",
       "_view_count": null,
       "_view_module": "@jupyter-widgets/controls",
       "_view_module_version": "1.5.0",
       "_view_name": "HTMLView",
       "description": "",
       "description_tooltip": null,
       "layout": "IPY_MODEL_45d3632ba8d14824bfb0b598badd62a2",
       "placeholder": "​",
       "style": "IPY_MODEL_4d0297f9f55f4b5aa59b40fd122e6a50",
       "value": " 252/252 [00:00&lt;00:00, 21.1kB/s]"
      }
     },
     "14be0f12a86d4de1ac8c9c6a54dc1ba5": {
      "model_module": "@jupyter-widgets/base",
      "model_module_version": "1.2.0",
      "model_name": "LayoutModel",
      "state": {
       "_model_module": "@jupyter-widgets/base",
       "_model_module_version": "1.2.0",
       "_model_name": "LayoutModel",
       "_view_count": null,
       "_view_module": "@jupyter-widgets/base",
       "_view_module_version": "1.2.0",
       "_view_name": "LayoutView",
       "align_content": null,
       "align_items": null,
       "align_self": null,
       "border": null,
       "bottom": null,
       "display": null,
       "flex": null,
       "flex_flow": null,
       "grid_area": null,
       "grid_auto_columns": null,
       "grid_auto_flow": null,
       "grid_auto_rows": null,
       "grid_column": null,
       "grid_gap": null,
       "grid_row": null,
       "grid_template_areas": null,
       "grid_template_columns": null,
       "grid_template_rows": null,
       "height": null,
       "justify_content": null,
       "justify_items": null,
       "left": null,
       "margin": null,
       "max_height": null,
       "max_width": null,
       "min_height": null,
       "min_width": null,
       "object_fit": null,
       "object_position": null,
       "order": null,
       "overflow": null,
       "overflow_x": null,
       "overflow_y": null,
       "padding": null,
       "right": null,
       "top": null,
       "visibility": null,
       "width": null
      }
     },
     "14e13fa3801b47d1a675e26c861908be": {
      "model_module": "@jupyter-widgets/controls",
      "model_module_version": "1.5.0",
      "model_name": "FloatProgressModel",
      "state": {
       "_dom_classes": [],
       "_model_module": "@jupyter-widgets/controls",
       "_model_module_version": "1.5.0",
       "_model_name": "FloatProgressModel",
       "_view_count": null,
       "_view_module": "@jupyter-widgets/controls",
       "_view_module_version": "1.5.0",
       "_view_name": "ProgressView",
       "bar_style": "success",
       "description": "",
       "description_tooltip": null,
       "layout": "IPY_MODEL_d7244f90e077455db85979587ee6ca39",
       "max": 1082.0,
       "min": 0.0,
       "orientation": "horizontal",
       "style": "IPY_MODEL_3a921ad6a10a4a1baa83a7bf0387d6c0",
       "value": 1082.0
      }
     },
     "1d8dc3b766a142fb994cc415307dd93a": {
      "model_module": "@jupyter-widgets/controls",
      "model_module_version": "1.5.0",
      "model_name": "HTMLModel",
      "state": {
       "_dom_classes": [],
       "_model_module": "@jupyter-widgets/controls",
       "_model_module_version": "1.5.0",
       "_model_name": "HTMLModel",
       "_view_count": null,
       "_view_module": "@jupyter-widgets/controls",
       "_view_module_version": "1.5.0",
       "_view_name": "HTMLView",
       "description": "",
       "description_tooltip": null,
       "layout": "IPY_MODEL_30df642eef534eadb8c2b9b2f3995a0b",
       "placeholder": "​",
       "style": "IPY_MODEL_5b094bb4c0d24362b4a33035480dd561",
       "value": "Map: 100%"
      }
     },
     "237eb4a77d934eeaa12b2bd347c4b14d": {
      "model_module": "@jupyter-widgets/controls",
      "model_module_version": "1.5.0",
      "model_name": "DescriptionStyleModel",
      "state": {
       "_model_module": "@jupyter-widgets/controls",
       "_model_module_version": "1.5.0",
       "_model_name": "DescriptionStyleModel",
       "_view_count": null,
       "_view_module": "@jupyter-widgets/base",
       "_view_module_version": "1.2.0",
       "_view_name": "StyleView",
       "description_width": ""
      }
     },
     "239cf793b3bb4498b723418a21ad716a": {
      "model_module": "@jupyter-widgets/base",
      "model_module_version": "1.2.0",
      "model_name": "LayoutModel",
      "state": {
       "_model_module": "@jupyter-widgets/base",
       "_model_module_version": "1.2.0",
       "_model_name": "LayoutModel",
       "_view_count": null,
       "_view_module": "@jupyter-widgets/base",
       "_view_module_version": "1.2.0",
       "_view_name": "LayoutView",
       "align_content": null,
       "align_items": null,
       "align_self": null,
       "border": null,
       "bottom": null,
       "display": null,
       "flex": null,
       "flex_flow": null,
       "grid_area": null,
       "grid_auto_columns": null,
       "grid_auto_flow": null,
       "grid_auto_rows": null,
       "grid_column": null,
       "grid_gap": null,
       "grid_row": null,
       "grid_template_areas": null,
       "grid_template_columns": null,
       "grid_template_rows": null,
       "height": null,
       "justify_content": null,
       "justify_items": null,
       "left": null,
       "margin": null,
       "max_height": null,
       "max_width": null,
       "min_height": null,
       "min_width": null,
       "object_fit": null,
       "object_position": null,
       "order": null,
       "overflow": null,
       "overflow_x": null,
       "overflow_y": null,
       "padding": null,
       "right": null,
       "top": null,
       "visibility": null,
       "width": null
      }
     },
     "270249f533a14adc88130e32035c964f": {
      "model_module": "@jupyter-widgets/base",
      "model_module_version": "1.2.0",
      "model_name": "LayoutModel",
      "state": {
       "_model_module": "@jupyter-widgets/base",
       "_model_module_version": "1.2.0",
       "_model_name": "LayoutModel",
       "_view_count": null,
       "_view_module": "@jupyter-widgets/base",
       "_view_module_version": "1.2.0",
       "_view_name": "LayoutView",
       "align_content": null,
       "align_items": null,
       "align_self": null,
       "border": null,
       "bottom": null,
       "display": null,
       "flex": null,
       "flex_flow": null,
       "grid_area": null,
       "grid_auto_columns": null,
       "grid_auto_flow": null,
       "grid_auto_rows": null,
       "grid_column": null,
       "grid_gap": null,
       "grid_row": null,
       "grid_template_areas": null,
       "grid_template_columns": null,
       "grid_template_rows": null,
       "height": null,
       "justify_content": null,
       "justify_items": null,
       "left": null,
       "margin": null,
       "max_height": null,
       "max_width": null,
       "min_height": null,
       "min_width": null,
       "object_fit": null,
       "object_position": null,
       "order": null,
       "overflow": null,
       "overflow_x": null,
       "overflow_y": null,
       "padding": null,
       "right": null,
       "top": null,
       "visibility": null,
       "width": null
      }
     },
     "284b047f7f8940c0bd17bbab25a4ecb6": {
      "model_module": "@jupyter-widgets/controls",
      "model_module_version": "1.5.0",
      "model_name": "DescriptionStyleModel",
      "state": {
       "_model_module": "@jupyter-widgets/controls",
       "_model_module_version": "1.5.0",
       "_model_name": "DescriptionStyleModel",
       "_view_count": null,
       "_view_module": "@jupyter-widgets/base",
       "_view_module_version": "1.2.0",
       "_view_name": "StyleView",
       "description_width": ""
      }
     },
     "2c118c64db374da5999474d6e9c3ad22": {
      "model_module": "@jupyter-widgets/controls",
      "model_module_version": "1.5.0",
      "model_name": "HTMLModel",
      "state": {
       "_dom_classes": [],
       "_model_module": "@jupyter-widgets/controls",
       "_model_module_version": "1.5.0",
       "_model_name": "HTMLModel",
       "_view_count": null,
       "_view_module": "@jupyter-widgets/controls",
       "_view_module_version": "1.5.0",
       "_view_name": "HTMLView",
       "description": "",
       "description_tooltip": null,
       "layout": "IPY_MODEL_7bf2ddf47512483bb55573c6851e5e23",
       "placeholder": "​",
       "style": "IPY_MODEL_a08b197ac4c04f3b9e5a57632d913bd9",
       "value": " 232k/232k [00:00&lt;00:00, 1.71MB/s]"
      }
     },
     "2c2c16f5d23140b9a35a8c5ca5a3292f": {
      "model_module": "@jupyter-widgets/base",
      "model_module_version": "1.2.0",
      "model_name": "LayoutModel",
      "state": {
       "_model_module": "@jupyter-widgets/base",
       "_model_module_version": "1.2.0",
       "_model_name": "LayoutModel",
       "_view_count": null,
       "_view_module": "@jupyter-widgets/base",
       "_view_module_version": "1.2.0",
       "_view_name": "LayoutView",
       "align_content": null,
       "align_items": null,
       "align_self": null,
       "border": null,
       "bottom": null,
       "display": null,
       "flex": null,
       "flex_flow": null,
       "grid_area": null,
       "grid_auto_columns": null,
       "grid_auto_flow": null,
       "grid_auto_rows": null,
       "grid_column": null,
       "grid_gap": null,
       "grid_row": null,
       "grid_template_areas": null,
       "grid_template_columns": null,
       "grid_template_rows": null,
       "height": null,
       "justify_content": null,
       "justify_items": null,
       "left": null,
       "margin": null,
       "max_height": null,
       "max_width": null,
       "min_height": null,
       "min_width": null,
       "object_fit": null,
       "object_position": null,
       "order": null,
       "overflow": null,
       "overflow_x": null,
       "overflow_y": null,
       "padding": null,
       "right": null,
       "top": null,
       "visibility": null,
       "width": null
      }
     },
     "30df642eef534eadb8c2b9b2f3995a0b": {
      "model_module": "@jupyter-widgets/base",
      "model_module_version": "1.2.0",
      "model_name": "LayoutModel",
      "state": {
       "_model_module": "@jupyter-widgets/base",
       "_model_module_version": "1.2.0",
       "_model_name": "LayoutModel",
       "_view_count": null,
       "_view_module": "@jupyter-widgets/base",
       "_view_module_version": "1.2.0",
       "_view_name": "LayoutView",
       "align_content": null,
       "align_items": null,
       "align_self": null,
       "border": null,
       "bottom": null,
       "display": null,
       "flex": null,
       "flex_flow": null,
       "grid_area": null,
       "grid_auto_columns": null,
       "grid_auto_flow": null,
       "grid_auto_rows": null,
       "grid_column": null,
       "grid_gap": null,
       "grid_row": null,
       "grid_template_areas": null,
       "grid_template_columns": null,
       "grid_template_rows": null,
       "height": null,
       "justify_content": null,
       "justify_items": null,
       "left": null,
       "margin": null,
       "max_height": null,
       "max_width": null,
       "min_height": null,
       "min_width": null,
       "object_fit": null,
       "object_position": null,
       "order": null,
       "overflow": null,
       "overflow_x": null,
       "overflow_y": null,
       "padding": null,
       "right": null,
       "top": null,
       "visibility": null,
       "width": null
      }
     },
     "3154c73ca6ae4b2791e789c60422c92e": {
      "model_module": "@jupyter-widgets/base",
      "model_module_version": "1.2.0",
      "model_name": "LayoutModel",
      "state": {
       "_model_module": "@jupyter-widgets/base",
       "_model_module_version": "1.2.0",
       "_model_name": "LayoutModel",
       "_view_count": null,
       "_view_module": "@jupyter-widgets/base",
       "_view_module_version": "1.2.0",
       "_view_name": "LayoutView",
       "align_content": null,
       "align_items": null,
       "align_self": null,
       "border": null,
       "bottom": null,
       "display": null,
       "flex": null,
       "flex_flow": null,
       "grid_area": null,
       "grid_auto_columns": null,
       "grid_auto_flow": null,
       "grid_auto_rows": null,
       "grid_column": null,
       "grid_gap": null,
       "grid_row": null,
       "grid_template_areas": null,
       "grid_template_columns": null,
       "grid_template_rows": null,
       "height": null,
       "justify_content": null,
       "justify_items": null,
       "left": null,
       "margin": null,
       "max_height": null,
       "max_width": null,
       "min_height": null,
       "min_width": null,
       "object_fit": null,
       "object_position": null,
       "order": null,
       "overflow": null,
       "overflow_x": null,
       "overflow_y": null,
       "padding": null,
       "right": null,
       "top": null,
       "visibility": null,
       "width": null
      }
     },
     "33ab1c83493f4c1ab9a792f8baaf0c1d": {
      "model_module": "@jupyter-widgets/controls",
      "model_module_version": "1.5.0",
      "model_name": "DescriptionStyleModel",
      "state": {
       "_model_module": "@jupyter-widgets/controls",
       "_model_module_version": "1.5.0",
       "_model_name": "DescriptionStyleModel",
       "_view_count": null,
       "_view_module": "@jupyter-widgets/base",
       "_view_module_version": "1.2.0",
       "_view_name": "StyleView",
       "description_width": ""
      }
     },
     "37cffa49af3b40eeaa30ecab7b55851f": {
      "model_module": "@jupyter-widgets/base",
      "model_module_version": "1.2.0",
      "model_name": "LayoutModel",
      "state": {
       "_model_module": "@jupyter-widgets/base",
       "_model_module_version": "1.2.0",
       "_model_name": "LayoutModel",
       "_view_count": null,
       "_view_module": "@jupyter-widgets/base",
       "_view_module_version": "1.2.0",
       "_view_name": "LayoutView",
       "align_content": null,
       "align_items": null,
       "align_self": null,
       "border": null,
       "bottom": null,
       "display": null,
       "flex": null,
       "flex_flow": null,
       "grid_area": null,
       "grid_auto_columns": null,
       "grid_auto_flow": null,
       "grid_auto_rows": null,
       "grid_column": null,
       "grid_gap": null,
       "grid_row": null,
       "grid_template_areas": null,
       "grid_template_columns": null,
       "grid_template_rows": null,
       "height": null,
       "justify_content": null,
       "justify_items": null,
       "left": null,
       "margin": null,
       "max_height": null,
       "max_width": null,
       "min_height": null,
       "min_width": null,
       "object_fit": null,
       "object_position": null,
       "order": null,
       "overflow": null,
       "overflow_x": null,
       "overflow_y": null,
       "padding": null,
       "right": null,
       "top": null,
       "visibility": null,
       "width": null
      }
     },
     "39b0bb33bfda48b59db27f4a3f620cc5": {
      "model_module": "@jupyter-widgets/base",
      "model_module_version": "1.2.0",
      "model_name": "LayoutModel",
      "state": {
       "_model_module": "@jupyter-widgets/base",
       "_model_module_version": "1.2.0",
       "_model_name": "LayoutModel",
       "_view_count": null,
       "_view_module": "@jupyter-widgets/base",
       "_view_module_version": "1.2.0",
       "_view_name": "LayoutView",
       "align_content": null,
       "align_items": null,
       "align_self": null,
       "border": null,
       "bottom": null,
       "display": null,
       "flex": null,
       "flex_flow": null,
       "grid_area": null,
       "grid_auto_columns": null,
       "grid_auto_flow": null,
       "grid_auto_rows": null,
       "grid_column": null,
       "grid_gap": null,
       "grid_row": null,
       "grid_template_areas": null,
       "grid_template_columns": null,
       "grid_template_rows": null,
       "height": null,
       "justify_content": null,
       "justify_items": null,
       "left": null,
       "margin": null,
       "max_height": null,
       "max_width": null,
       "min_height": null,
       "min_width": null,
       "object_fit": null,
       "object_position": null,
       "order": null,
       "overflow": null,
       "overflow_x": null,
       "overflow_y": null,
       "padding": null,
       "right": null,
       "top": null,
       "visibility": null,
       "width": null
      }
     },
     "3a921ad6a10a4a1baa83a7bf0387d6c0": {
      "model_module": "@jupyter-widgets/controls",
      "model_module_version": "1.5.0",
      "model_name": "ProgressStyleModel",
      "state": {
       "_model_module": "@jupyter-widgets/controls",
       "_model_module_version": "1.5.0",
       "_model_name": "ProgressStyleModel",
       "_view_count": null,
       "_view_module": "@jupyter-widgets/base",
       "_view_module_version": "1.2.0",
       "_view_name": "StyleView",
       "bar_color": null,
       "description_width": ""
      }
     },
     "3e72daee970c453ca5b139d4e8e94a0a": {
      "model_module": "@jupyter-widgets/controls",
      "model_module_version": "1.5.0",
      "model_name": "DescriptionStyleModel",
      "state": {
       "_model_module": "@jupyter-widgets/controls",
       "_model_module_version": "1.5.0",
       "_model_name": "DescriptionStyleModel",
       "_view_count": null,
       "_view_module": "@jupyter-widgets/base",
       "_view_module_version": "1.2.0",
       "_view_name": "StyleView",
       "description_width": ""
      }
     },
     "3eb10c07b9d64f8092c31862714c88bf": {
      "model_module": "@jupyter-widgets/controls",
      "model_module_version": "1.5.0",
      "model_name": "ProgressStyleModel",
      "state": {
       "_model_module": "@jupyter-widgets/controls",
       "_model_module_version": "1.5.0",
       "_model_name": "ProgressStyleModel",
       "_view_count": null,
       "_view_module": "@jupyter-widgets/base",
       "_view_module_version": "1.2.0",
       "_view_name": "StyleView",
       "bar_color": null,
       "description_width": ""
      }
     },
     "45d3632ba8d14824bfb0b598badd62a2": {
      "model_module": "@jupyter-widgets/base",
      "model_module_version": "1.2.0",
      "model_name": "LayoutModel",
      "state": {
       "_model_module": "@jupyter-widgets/base",
       "_model_module_version": "1.2.0",
       "_model_name": "LayoutModel",
       "_view_count": null,
       "_view_module": "@jupyter-widgets/base",
       "_view_module_version": "1.2.0",
       "_view_name": "LayoutView",
       "align_content": null,
       "align_items": null,
       "align_self": null,
       "border": null,
       "bottom": null,
       "display": null,
       "flex": null,
       "flex_flow": null,
       "grid_area": null,
       "grid_auto_columns": null,
       "grid_auto_flow": null,
       "grid_auto_rows": null,
       "grid_column": null,
       "grid_gap": null,
       "grid_row": null,
       "grid_template_areas": null,
       "grid_template_columns": null,
       "grid_template_rows": null,
       "height": null,
       "justify_content": null,
       "justify_items": null,
       "left": null,
       "margin": null,
       "max_height": null,
       "max_width": null,
       "min_height": null,
       "min_width": null,
       "object_fit": null,
       "object_position": null,
       "order": null,
       "overflow": null,
       "overflow_x": null,
       "overflow_y": null,
       "padding": null,
       "right": null,
       "top": null,
       "visibility": null,
       "width": null
      }
     },
     "488a107b264549c3ad88aba80c492fb8": {
      "model_module": "@jupyter-widgets/base",
      "model_module_version": "1.2.0",
      "model_name": "LayoutModel",
      "state": {
       "_model_module": "@jupyter-widgets/base",
       "_model_module_version": "1.2.0",
       "_model_name": "LayoutModel",
       "_view_count": null,
       "_view_module": "@jupyter-widgets/base",
       "_view_module_version": "1.2.0",
       "_view_name": "LayoutView",
       "align_content": null,
       "align_items": null,
       "align_self": null,
       "border": null,
       "bottom": null,
       "display": null,
       "flex": null,
       "flex_flow": null,
       "grid_area": null,
       "grid_auto_columns": null,
       "grid_auto_flow": null,
       "grid_auto_rows": null,
       "grid_column": null,
       "grid_gap": null,
       "grid_row": null,
       "grid_template_areas": null,
       "grid_template_columns": null,
       "grid_template_rows": null,
       "height": null,
       "justify_content": null,
       "justify_items": null,
       "left": null,
       "margin": null,
       "max_height": null,
       "max_width": null,
       "min_height": null,
       "min_width": null,
       "object_fit": null,
       "object_position": null,
       "order": null,
       "overflow": null,
       "overflow_x": null,
       "overflow_y": null,
       "padding": null,
       "right": null,
       "top": null,
       "visibility": null,
       "width": null
      }
     },
     "4b136f0b8ee6409cafc47c8e922f4ba4": {
      "model_module": "@jupyter-widgets/base",
      "model_module_version": "1.2.0",
      "model_name": "LayoutModel",
      "state": {
       "_model_module": "@jupyter-widgets/base",
       "_model_module_version": "1.2.0",
       "_model_name": "LayoutModel",
       "_view_count": null,
       "_view_module": "@jupyter-widgets/base",
       "_view_module_version": "1.2.0",
       "_view_name": "LayoutView",
       "align_content": null,
       "align_items": null,
       "align_self": null,
       "border": null,
       "bottom": null,
       "display": null,
       "flex": null,
       "flex_flow": null,
       "grid_area": null,
       "grid_auto_columns": null,
       "grid_auto_flow": null,
       "grid_auto_rows": null,
       "grid_column": null,
       "grid_gap": null,
       "grid_row": null,
       "grid_template_areas": null,
       "grid_template_columns": null,
       "grid_template_rows": null,
       "height": null,
       "justify_content": null,
       "justify_items": null,
       "left": null,
       "margin": null,
       "max_height": null,
       "max_width": null,
       "min_height": null,
       "min_width": null,
       "object_fit": null,
       "object_position": null,
       "order": null,
       "overflow": null,
       "overflow_x": null,
       "overflow_y": null,
       "padding": null,
       "right": null,
       "top": null,
       "visibility": null,
       "width": null
      }
     },
     "4d0297f9f55f4b5aa59b40fd122e6a50": {
      "model_module": "@jupyter-widgets/controls",
      "model_module_version": "1.5.0",
      "model_name": "DescriptionStyleModel",
      "state": {
       "_model_module": "@jupyter-widgets/controls",
       "_model_module_version": "1.5.0",
       "_model_name": "DescriptionStyleModel",
       "_view_count": null,
       "_view_module": "@jupyter-widgets/base",
       "_view_module_version": "1.2.0",
       "_view_name": "StyleView",
       "description_width": ""
      }
     },
     "52ef035abfa84188b1f3879e17b66dfc": {
      "model_module": "@jupyter-widgets/controls",
      "model_module_version": "1.5.0",
      "model_name": "DescriptionStyleModel",
      "state": {
       "_model_module": "@jupyter-widgets/controls",
       "_model_module_version": "1.5.0",
       "_model_name": "DescriptionStyleModel",
       "_view_count": null,
       "_view_module": "@jupyter-widgets/base",
       "_view_module_version": "1.2.0",
       "_view_name": "StyleView",
       "description_width": ""
      }
     },
     "53a6a4a4ceae48e29e51b31afd7e01ce": {
      "model_module": "@jupyter-widgets/controls",
      "model_module_version": "1.5.0",
      "model_name": "ProgressStyleModel",
      "state": {
       "_model_module": "@jupyter-widgets/controls",
       "_model_module_version": "1.5.0",
       "_model_name": "ProgressStyleModel",
       "_view_count": null,
       "_view_module": "@jupyter-widgets/base",
       "_view_module_version": "1.2.0",
       "_view_name": "StyleView",
       "bar_color": null,
       "description_width": ""
      }
     },
     "57fe133b6cfd4c12aba90291a6340aa3": {
      "model_module": "@jupyter-widgets/controls",
      "model_module_version": "1.5.0",
      "model_name": "HTMLModel",
      "state": {
       "_dom_classes": [],
       "_model_module": "@jupyter-widgets/controls",
       "_model_module_version": "1.5.0",
       "_model_name": "HTMLModel",
       "_view_count": null,
       "_view_module": "@jupyter-widgets/controls",
       "_view_module_version": "1.5.0",
       "_view_name": "HTMLView",
       "description": "",
       "description_tooltip": null,
       "layout": "IPY_MODEL_c92e8a1af06c40b083dfcadbf78b9a49",
       "placeholder": "​",
       "style": "IPY_MODEL_237eb4a77d934eeaa12b2bd347c4b14d",
       "value": " 3769/3769 [00:00&lt;00:00, 4702.11 examples/s]"
      }
     },
     "5b094bb4c0d24362b4a33035480dd561": {
      "model_module": "@jupyter-widgets/controls",
      "model_module_version": "1.5.0",
      "model_name": "DescriptionStyleModel",
      "state": {
       "_model_module": "@jupyter-widgets/controls",
       "_model_module_version": "1.5.0",
       "_model_name": "DescriptionStyleModel",
       "_view_count": null,
       "_view_module": "@jupyter-widgets/base",
       "_view_module_version": "1.2.0",
       "_view_name": "StyleView",
       "description_width": ""
      }
     },
     "5c5784472bc94805bd236ae07c726e40": {
      "model_module": "@jupyter-widgets/controls",
      "model_module_version": "1.5.0",
      "model_name": "HTMLModel",
      "state": {
       "_dom_classes": [],
       "_model_module": "@jupyter-widgets/controls",
       "_model_module_version": "1.5.0",
       "_model_name": "HTMLModel",
       "_view_count": null,
       "_view_module": "@jupyter-widgets/controls",
       "_view_module_version": "1.5.0",
       "_view_name": "HTMLView",
       "description": "",
       "description_tooltip": null,
       "layout": "IPY_MODEL_be90aeb60dd54b668233d3be830ff160",
       "placeholder": "​",
       "style": "IPY_MODEL_284b047f7f8940c0bd17bbab25a4ecb6",
       "value": " 438M/438M [00:02&lt;00:00, 273MB/s]"
      }
     },
     "5c9d0648be9f4f788a4c0ef168086a23": {
      "model_module": "@jupyter-widgets/controls",
      "model_module_version": "1.5.0",
      "model_name": "HTMLModel",
      "state": {
       "_dom_classes": [],
       "_model_module": "@jupyter-widgets/controls",
       "_model_module_version": "1.5.0",
       "_model_name": "HTMLModel",
       "_view_count": null,
       "_view_module": "@jupyter-widgets/controls",
       "_view_module_version": "1.5.0",
       "_view_name": "HTMLView",
       "description": "",
       "description_tooltip": null,
       "layout": "IPY_MODEL_5f4a37d1fdb147d5a6263323733b3077",
       "placeholder": "​",
       "style": "IPY_MODEL_cdd37abc21f742e6bd85c79698e60574",
       "value": " 758/758 [00:00&lt;00:00, 67.5kB/s]"
      }
     },
     "5ca9fbc0bbe54ac08125e47908695ccf": {
      "model_module": "@jupyter-widgets/controls",
      "model_module_version": "1.5.0",
      "model_name": "HTMLModel",
      "state": {
       "_dom_classes": [],
       "_model_module": "@jupyter-widgets/controls",
       "_model_module_version": "1.5.0",
       "_model_name": "HTMLModel",
       "_view_count": null,
       "_view_module": "@jupyter-widgets/controls",
       "_view_module_version": "1.5.0",
       "_view_name": "HTMLView",
       "description": "",
       "description_tooltip": null,
       "layout": "IPY_MODEL_edf81eb5217945eba8f7556fee9f1a0f",
       "placeholder": "​",
       "style": "IPY_MODEL_02c80c4a95e044f197331f96085459fe",
       "value": " 534/534 [00:00&lt;00:00, 4250.88 examples/s]"
      }
     },
     "5f4a37d1fdb147d5a6263323733b3077": {
      "model_module": "@jupyter-widgets/base",
      "model_module_version": "1.2.0",
      "model_name": "LayoutModel",
      "state": {
       "_model_module": "@jupyter-widgets/base",
       "_model_module_version": "1.2.0",
       "_model_name": "LayoutModel",
       "_view_count": null,
       "_view_module": "@jupyter-widgets/base",
       "_view_module_version": "1.2.0",
       "_view_name": "LayoutView",
       "align_content": null,
       "align_items": null,
       "align_self": null,
       "border": null,
       "bottom": null,
       "display": null,
       "flex": null,
       "flex_flow": null,
       "grid_area": null,
       "grid_auto_columns": null,
       "grid_auto_flow": null,
       "grid_auto_rows": null,
       "grid_column": null,
       "grid_gap": null,
       "grid_row": null,
       "grid_template_areas": null,
       "grid_template_columns": null,
       "grid_template_rows": null,
       "height": null,
       "justify_content": null,
       "justify_items": null,
       "left": null,
       "margin": null,
       "max_height": null,
       "max_width": null,
       "min_height": null,
       "min_width": null,
       "object_fit": null,
       "object_position": null,
       "order": null,
       "overflow": null,
       "overflow_x": null,
       "overflow_y": null,
       "padding": null,
       "right": null,
       "top": null,
       "visibility": null,
       "width": null
      }
     },
     "652e360de43a463fa621d0da2b20f09e": {
      "model_module": "@jupyter-widgets/controls",
      "model_module_version": "1.5.0",
      "model_name": "HBoxModel",
      "state": {
       "_dom_classes": [],
       "_model_module": "@jupyter-widgets/controls",
       "_model_module_version": "1.5.0",
       "_model_name": "HBoxModel",
       "_view_count": null,
       "_view_module": "@jupyter-widgets/controls",
       "_view_module_version": "1.5.0",
       "_view_name": "HBoxView",
       "box_style": "",
       "children": [
        "IPY_MODEL_1d8dc3b766a142fb994cc415307dd93a",
        "IPY_MODEL_14e13fa3801b47d1a675e26c861908be",
        "IPY_MODEL_f3a7613ec790424588ed22945718a913"
       ],
       "layout": "IPY_MODEL_39b0bb33bfda48b59db27f4a3f620cc5"
      }
     },
     "65651bd6f8174b3e941a0ba02084a49d": {
      "model_module": "@jupyter-widgets/base",
      "model_module_version": "1.2.0",
      "model_name": "LayoutModel",
      "state": {
       "_model_module": "@jupyter-widgets/base",
       "_model_module_version": "1.2.0",
       "_model_name": "LayoutModel",
       "_view_count": null,
       "_view_module": "@jupyter-widgets/base",
       "_view_module_version": "1.2.0",
       "_view_name": "LayoutView",
       "align_content": null,
       "align_items": null,
       "align_self": null,
       "border": null,
       "bottom": null,
       "display": null,
       "flex": null,
       "flex_flow": null,
       "grid_area": null,
       "grid_auto_columns": null,
       "grid_auto_flow": null,
       "grid_auto_rows": null,
       "grid_column": null,
       "grid_gap": null,
       "grid_row": null,
       "grid_template_areas": null,
       "grid_template_columns": null,
       "grid_template_rows": null,
       "height": null,
       "justify_content": null,
       "justify_items": null,
       "left": null,
       "margin": null,
       "max_height": null,
       "max_width": null,
       "min_height": null,
       "min_width": null,
       "object_fit": null,
       "object_position": null,
       "order": null,
       "overflow": null,
       "overflow_x": null,
       "overflow_y": null,
       "padding": null,
       "right": null,
       "top": null,
       "visibility": null,
       "width": null
      }
     },
     "6f35ef286ef44c91a0443e054eafe594": {
      "model_module": "@jupyter-widgets/controls",
      "model_module_version": "1.5.0",
      "model_name": "HTMLModel",
      "state": {
       "_dom_classes": [],
       "_model_module": "@jupyter-widgets/controls",
       "_model_module_version": "1.5.0",
       "_model_name": "HTMLModel",
       "_view_count": null,
       "_view_module": "@jupyter-widgets/controls",
       "_view_module_version": "1.5.0",
       "_view_name": "HTMLView",
       "description": "",
       "description_tooltip": null,
       "layout": "IPY_MODEL_239cf793b3bb4498b723418a21ad716a",
       "placeholder": "​",
       "style": "IPY_MODEL_be07b5a192f04eeb9a00618d551ebab4",
       "value": "config.json: 100%"
      }
     },
     "72e10d2dc50f4e8391759fd65df7a385": {
      "model_module": "@jupyter-widgets/base",
      "model_module_version": "1.2.0",
      "model_name": "LayoutModel",
      "state": {
       "_model_module": "@jupyter-widgets/base",
       "_model_module_version": "1.2.0",
       "_model_name": "LayoutModel",
       "_view_count": null,
       "_view_module": "@jupyter-widgets/base",
       "_view_module_version": "1.2.0",
       "_view_name": "LayoutView",
       "align_content": null,
       "align_items": null,
       "align_self": null,
       "border": null,
       "bottom": null,
       "display": null,
       "flex": null,
       "flex_flow": null,
       "grid_area": null,
       "grid_auto_columns": null,
       "grid_auto_flow": null,
       "grid_auto_rows": null,
       "grid_column": null,
       "grid_gap": null,
       "grid_row": null,
       "grid_template_areas": null,
       "grid_template_columns": null,
       "grid_template_rows": null,
       "height": null,
       "justify_content": null,
       "justify_items": null,
       "left": null,
       "margin": null,
       "max_height": null,
       "max_width": null,
       "min_height": null,
       "min_width": null,
       "object_fit": null,
       "object_position": null,
       "order": null,
       "overflow": null,
       "overflow_x": null,
       "overflow_y": null,
       "padding": null,
       "right": null,
       "top": null,
       "visibility": null,
       "width": null
      }
     },
     "7415594b6376441a906ae502a1638fdd": {
      "model_module": "@jupyter-widgets/controls",
      "model_module_version": "1.5.0",
      "model_name": "HBoxModel",
      "state": {
       "_dom_classes": [],
       "_model_module": "@jupyter-widgets/controls",
       "_model_module_version": "1.5.0",
       "_model_name": "HBoxModel",
       "_view_count": null,
       "_view_module": "@jupyter-widgets/controls",
       "_view_module_version": "1.5.0",
       "_view_name": "HBoxView",
       "box_style": "",
       "children": [
        "IPY_MODEL_6f35ef286ef44c91a0443e054eafe594",
        "IPY_MODEL_0a8333539f784ed0a8bc8d3be6fd6bc0",
        "IPY_MODEL_5c9d0648be9f4f788a4c0ef168086a23"
       ],
       "layout": "IPY_MODEL_b8e1627cbb5d4fd68ead5d9c4ecd7bf3"
      }
     },
     "74c5e75e4cbf4d75be2ffb7d1ee056ae": {
      "model_module": "@jupyter-widgets/controls",
      "model_module_version": "1.5.0",
      "model_name": "ProgressStyleModel",
      "state": {
       "_model_module": "@jupyter-widgets/controls",
       "_model_module_version": "1.5.0",
       "_model_name": "ProgressStyleModel",
       "_view_count": null,
       "_view_module": "@jupyter-widgets/base",
       "_view_module_version": "1.2.0",
       "_view_name": "StyleView",
       "bar_color": null,
       "description_width": ""
      }
     },
     "75fa0d1f0d1b453babc224ca0ccb3453": {
      "model_module": "@jupyter-widgets/controls",
      "model_module_version": "1.5.0",
      "model_name": "HTMLModel",
      "state": {
       "_dom_classes": [],
       "_model_module": "@jupyter-widgets/controls",
       "_model_module_version": "1.5.0",
       "_model_name": "HTMLModel",
       "_view_count": null,
       "_view_module": "@jupyter-widgets/controls",
       "_view_module_version": "1.5.0",
       "_view_name": "HTMLView",
       "description": "",
       "description_tooltip": null,
       "layout": "IPY_MODEL_270249f533a14adc88130e32035c964f",
       "placeholder": "​",
       "style": "IPY_MODEL_52ef035abfa84188b1f3879e17b66dfc",
       "value": "special_tokens_map.json: 100%"
      }
     },
     "7bf2ddf47512483bb55573c6851e5e23": {
      "model_module": "@jupyter-widgets/base",
      "model_module_version": "1.2.0",
      "model_name": "LayoutModel",
      "state": {
       "_model_module": "@jupyter-widgets/base",
       "_model_module_version": "1.2.0",
       "_model_name": "LayoutModel",
       "_view_count": null,
       "_view_module": "@jupyter-widgets/base",
       "_view_module_version": "1.2.0",
       "_view_name": "LayoutView",
       "align_content": null,
       "align_items": null,
       "align_self": null,
       "border": null,
       "bottom": null,
       "display": null,
       "flex": null,
       "flex_flow": null,
       "grid_area": null,
       "grid_auto_columns": null,
       "grid_auto_flow": null,
       "grid_auto_rows": null,
       "grid_column": null,
       "grid_gap": null,
       "grid_row": null,
       "grid_template_areas": null,
       "grid_template_columns": null,
       "grid_template_rows": null,
       "height": null,
       "justify_content": null,
       "justify_items": null,
       "left": null,
       "margin": null,
       "max_height": null,
       "max_width": null,
       "min_height": null,
       "min_width": null,
       "object_fit": null,
       "object_position": null,
       "order": null,
       "overflow": null,
       "overflow_x": null,
       "overflow_y": null,
       "padding": null,
       "right": null,
       "top": null,
       "visibility": null,
       "width": null
      }
     },
     "7c6e36a13bf14a1e98c05db077aaddaf": {
      "model_module": "@jupyter-widgets/controls",
      "model_module_version": "1.5.0",
      "model_name": "HTMLModel",
      "state": {
       "_dom_classes": [],
       "_model_module": "@jupyter-widgets/controls",
       "_model_module_version": "1.5.0",
       "_model_name": "HTMLModel",
       "_view_count": null,
       "_view_module": "@jupyter-widgets/controls",
       "_view_module_version": "1.5.0",
       "_view_name": "HTMLView",
       "description": "",
       "description_tooltip": null,
       "layout": "IPY_MODEL_2c2c16f5d23140b9a35a8c5ca5a3292f",
       "placeholder": "​",
       "style": "IPY_MODEL_3e72daee970c453ca5b139d4e8e94a0a",
       "value": "pytorch_model.bin: 100%"
      }
     },
     "85f02c9ced1f40aea46c6be682c6e6f5": {
      "model_module": "@jupyter-widgets/controls",
      "model_module_version": "1.5.0",
      "model_name": "DescriptionStyleModel",
      "state": {
       "_model_module": "@jupyter-widgets/controls",
       "_model_module_version": "1.5.0",
       "_model_name": "DescriptionStyleModel",
       "_view_count": null,
       "_view_module": "@jupyter-widgets/base",
       "_view_module_version": "1.2.0",
       "_view_name": "StyleView",
       "description_width": ""
      }
     },
     "8ac3e742b2a640aaa4b998719c9c6a54": {
      "model_module": "@jupyter-widgets/controls",
      "model_module_version": "1.5.0",
      "model_name": "HBoxModel",
      "state": {
       "_dom_classes": [],
       "_model_module": "@jupyter-widgets/controls",
       "_model_module_version": "1.5.0",
       "_model_name": "HBoxModel",
       "_view_count": null,
       "_view_module": "@jupyter-widgets/controls",
       "_view_module_version": "1.5.0",
       "_view_name": "HBoxView",
       "box_style": "",
       "children": [
        "IPY_MODEL_025d7bdd5e1840e1bd9056d98919d135",
        "IPY_MODEL_bccffec54d5c442e94a4ac9c1a358e70",
        "IPY_MODEL_131e7d6779244cba9ede19d542c4f5e8"
       ],
       "layout": "IPY_MODEL_a2f511bf433147fea5026fc29986802b"
      }
     },
     "944dcf09a4654b678528257099714347": {
      "model_module": "@jupyter-widgets/base",
      "model_module_version": "1.2.0",
      "model_name": "LayoutModel",
      "state": {
       "_model_module": "@jupyter-widgets/base",
       "_model_module_version": "1.2.0",
       "_model_name": "LayoutModel",
       "_view_count": null,
       "_view_module": "@jupyter-widgets/base",
       "_view_module_version": "1.2.0",
       "_view_name": "LayoutView",
       "align_content": null,
       "align_items": null,
       "align_self": null,
       "border": null,
       "bottom": null,
       "display": null,
       "flex": null,
       "flex_flow": null,
       "grid_area": null,
       "grid_auto_columns": null,
       "grid_auto_flow": null,
       "grid_auto_rows": null,
       "grid_column": null,
       "grid_gap": null,
       "grid_row": null,
       "grid_template_areas": null,
       "grid_template_columns": null,
       "grid_template_rows": null,
       "height": null,
       "justify_content": null,
       "justify_items": null,
       "left": null,
       "margin": null,
       "max_height": null,
       "max_width": null,
       "min_height": null,
       "min_width": null,
       "object_fit": null,
       "object_position": null,
       "order": null,
       "overflow": null,
       "overflow_x": null,
       "overflow_y": null,
       "padding": null,
       "right": null,
       "top": null,
       "visibility": null,
       "width": null
      }
     },
     "96afd323dcc546c6831bd4363fa1e21c": {
      "model_module": "@jupyter-widgets/base",
      "model_module_version": "1.2.0",
      "model_name": "LayoutModel",
      "state": {
       "_model_module": "@jupyter-widgets/base",
       "_model_module_version": "1.2.0",
       "_model_name": "LayoutModel",
       "_view_count": null,
       "_view_module": "@jupyter-widgets/base",
       "_view_module_version": "1.2.0",
       "_view_name": "LayoutView",
       "align_content": null,
       "align_items": null,
       "align_self": null,
       "border": null,
       "bottom": null,
       "display": null,
       "flex": null,
       "flex_flow": null,
       "grid_area": null,
       "grid_auto_columns": null,
       "grid_auto_flow": null,
       "grid_auto_rows": null,
       "grid_column": null,
       "grid_gap": null,
       "grid_row": null,
       "grid_template_areas": null,
       "grid_template_columns": null,
       "grid_template_rows": null,
       "height": null,
       "justify_content": null,
       "justify_items": null,
       "left": null,
       "margin": null,
       "max_height": null,
       "max_width": null,
       "min_height": null,
       "min_width": null,
       "object_fit": null,
       "object_position": null,
       "order": null,
       "overflow": null,
       "overflow_x": null,
       "overflow_y": null,
       "padding": null,
       "right": null,
       "top": null,
       "visibility": null,
       "width": null
      }
     },
     "9939f7a812b1405595cd1aea61f45d3e": {
      "model_module": "@jupyter-widgets/base",
      "model_module_version": "1.2.0",
      "model_name": "LayoutModel",
      "state": {
       "_model_module": "@jupyter-widgets/base",
       "_model_module_version": "1.2.0",
       "_model_name": "LayoutModel",
       "_view_count": null,
       "_view_module": "@jupyter-widgets/base",
       "_view_module_version": "1.2.0",
       "_view_name": "LayoutView",
       "align_content": null,
       "align_items": null,
       "align_self": null,
       "border": null,
       "bottom": null,
       "display": null,
       "flex": null,
       "flex_flow": null,
       "grid_area": null,
       "grid_auto_columns": null,
       "grid_auto_flow": null,
       "grid_auto_rows": null,
       "grid_column": null,
       "grid_gap": null,
       "grid_row": null,
       "grid_template_areas": null,
       "grid_template_columns": null,
       "grid_template_rows": null,
       "height": null,
       "justify_content": null,
       "justify_items": null,
       "left": null,
       "margin": null,
       "max_height": null,
       "max_width": null,
       "min_height": null,
       "min_width": null,
       "object_fit": null,
       "object_position": null,
       "order": null,
       "overflow": null,
       "overflow_x": null,
       "overflow_y": null,
       "padding": null,
       "right": null,
       "top": null,
       "visibility": null,
       "width": null
      }
     },
     "a08b197ac4c04f3b9e5a57632d913bd9": {
      "model_module": "@jupyter-widgets/controls",
      "model_module_version": "1.5.0",
      "model_name": "DescriptionStyleModel",
      "state": {
       "_model_module": "@jupyter-widgets/controls",
       "_model_module_version": "1.5.0",
       "_model_name": "DescriptionStyleModel",
       "_view_count": null,
       "_view_module": "@jupyter-widgets/base",
       "_view_module_version": "1.2.0",
       "_view_name": "StyleView",
       "description_width": ""
      }
     },
     "a2f511bf433147fea5026fc29986802b": {
      "model_module": "@jupyter-widgets/base",
      "model_module_version": "1.2.0",
      "model_name": "LayoutModel",
      "state": {
       "_model_module": "@jupyter-widgets/base",
       "_model_module_version": "1.2.0",
       "_model_name": "LayoutModel",
       "_view_count": null,
       "_view_module": "@jupyter-widgets/base",
       "_view_module_version": "1.2.0",
       "_view_name": "LayoutView",
       "align_content": null,
       "align_items": null,
       "align_self": null,
       "border": null,
       "bottom": null,
       "display": null,
       "flex": null,
       "flex_flow": null,
       "grid_area": null,
       "grid_auto_columns": null,
       "grid_auto_flow": null,
       "grid_auto_rows": null,
       "grid_column": null,
       "grid_gap": null,
       "grid_row": null,
       "grid_template_areas": null,
       "grid_template_columns": null,
       "grid_template_rows": null,
       "height": null,
       "justify_content": null,
       "justify_items": null,
       "left": null,
       "margin": null,
       "max_height": null,
       "max_width": null,
       "min_height": null,
       "min_width": null,
       "object_fit": null,
       "object_position": null,
       "order": null,
       "overflow": null,
       "overflow_x": null,
       "overflow_y": null,
       "padding": null,
       "right": null,
       "top": null,
       "visibility": null,
       "width": null
      }
     },
     "ae69332507c446d8a723fbe307709970": {
      "model_module": "@jupyter-widgets/controls",
      "model_module_version": "1.5.0",
      "model_name": "HBoxModel",
      "state": {
       "_dom_classes": [],
       "_model_module": "@jupyter-widgets/controls",
       "_model_module_version": "1.5.0",
       "_model_name": "HBoxModel",
       "_view_count": null,
       "_view_module": "@jupyter-widgets/controls",
       "_view_module_version": "1.5.0",
       "_view_name": "HBoxView",
       "box_style": "",
       "children": [
        "IPY_MODEL_04210e2992884ef0834755944b95aa8e",
        "IPY_MODEL_11da63c8d61e4be7924171bf42b8fe8d",
        "IPY_MODEL_57fe133b6cfd4c12aba90291a6340aa3"
       ],
       "layout": "IPY_MODEL_65651bd6f8174b3e941a0ba02084a49d"
      }
     },
     "af15bc869b0e47b295e7420b6695a83a": {
      "model_module": "@jupyter-widgets/controls",
      "model_module_version": "1.5.0",
      "model_name": "DescriptionStyleModel",
      "state": {
       "_model_module": "@jupyter-widgets/controls",
       "_model_module_version": "1.5.0",
       "_model_name": "DescriptionStyleModel",
       "_view_count": null,
       "_view_module": "@jupyter-widgets/base",
       "_view_module_version": "1.2.0",
       "_view_name": "StyleView",
       "description_width": ""
      }
     },
     "b55964119b904431a5a24f79ba9ce152": {
      "model_module": "@jupyter-widgets/base",
      "model_module_version": "1.2.0",
      "model_name": "LayoutModel",
      "state": {
       "_model_module": "@jupyter-widgets/base",
       "_model_module_version": "1.2.0",
       "_model_name": "LayoutModel",
       "_view_count": null,
       "_view_module": "@jupyter-widgets/base",
       "_view_module_version": "1.2.0",
       "_view_name": "LayoutView",
       "align_content": null,
       "align_items": null,
       "align_self": null,
       "border": null,
       "bottom": null,
       "display": null,
       "flex": null,
       "flex_flow": null,
       "grid_area": null,
       "grid_auto_columns": null,
       "grid_auto_flow": null,
       "grid_auto_rows": null,
       "grid_column": null,
       "grid_gap": null,
       "grid_row": null,
       "grid_template_areas": null,
       "grid_template_columns": null,
       "grid_template_rows": null,
       "height": null,
       "justify_content": null,
       "justify_items": null,
       "left": null,
       "margin": null,
       "max_height": null,
       "max_width": null,
       "min_height": null,
       "min_width": null,
       "object_fit": null,
       "object_position": null,
       "order": null,
       "overflow": null,
       "overflow_x": null,
       "overflow_y": null,
       "padding": null,
       "right": null,
       "top": null,
       "visibility": null,
       "width": null
      }
     },
     "b641a1c0718e46f8824a41bd9be91cd0": {
      "model_module": "@jupyter-widgets/base",
      "model_module_version": "1.2.0",
      "model_name": "LayoutModel",
      "state": {
       "_model_module": "@jupyter-widgets/base",
       "_model_module_version": "1.2.0",
       "_model_name": "LayoutModel",
       "_view_count": null,
       "_view_module": "@jupyter-widgets/base",
       "_view_module_version": "1.2.0",
       "_view_name": "LayoutView",
       "align_content": null,
       "align_items": null,
       "align_self": null,
       "border": null,
       "bottom": null,
       "display": null,
       "flex": null,
       "flex_flow": null,
       "grid_area": null,
       "grid_auto_columns": null,
       "grid_auto_flow": null,
       "grid_auto_rows": null,
       "grid_column": null,
       "grid_gap": null,
       "grid_row": null,
       "grid_template_areas": null,
       "grid_template_columns": null,
       "grid_template_rows": null,
       "height": null,
       "justify_content": null,
       "justify_items": null,
       "left": null,
       "margin": null,
       "max_height": null,
       "max_width": null,
       "min_height": null,
       "min_width": null,
       "object_fit": null,
       "object_position": null,
       "order": null,
       "overflow": null,
       "overflow_x": null,
       "overflow_y": null,
       "padding": null,
       "right": null,
       "top": null,
       "visibility": null,
       "width": null
      }
     },
     "b8e1627cbb5d4fd68ead5d9c4ecd7bf3": {
      "model_module": "@jupyter-widgets/base",
      "model_module_version": "1.2.0",
      "model_name": "LayoutModel",
      "state": {
       "_model_module": "@jupyter-widgets/base",
       "_model_module_version": "1.2.0",
       "_model_name": "LayoutModel",
       "_view_count": null,
       "_view_module": "@jupyter-widgets/base",
       "_view_module_version": "1.2.0",
       "_view_name": "LayoutView",
       "align_content": null,
       "align_items": null,
       "align_self": null,
       "border": null,
       "bottom": null,
       "display": null,
       "flex": null,
       "flex_flow": null,
       "grid_area": null,
       "grid_auto_columns": null,
       "grid_auto_flow": null,
       "grid_auto_rows": null,
       "grid_column": null,
       "grid_gap": null,
       "grid_row": null,
       "grid_template_areas": null,
       "grid_template_columns": null,
       "grid_template_rows": null,
       "height": null,
       "justify_content": null,
       "justify_items": null,
       "left": null,
       "margin": null,
       "max_height": null,
       "max_width": null,
       "min_height": null,
       "min_width": null,
       "object_fit": null,
       "object_position": null,
       "order": null,
       "overflow": null,
       "overflow_x": null,
       "overflow_y": null,
       "padding": null,
       "right": null,
       "top": null,
       "visibility": null,
       "width": null
      }
     },
     "ba1e7204114847348928c6d3425ecec2": {
      "model_module": "@jupyter-widgets/controls",
      "model_module_version": "1.5.0",
      "model_name": "ProgressStyleModel",
      "state": {
       "_model_module": "@jupyter-widgets/controls",
       "_model_module_version": "1.5.0",
       "_model_name": "ProgressStyleModel",
       "_view_count": null,
       "_view_module": "@jupyter-widgets/base",
       "_view_module_version": "1.2.0",
       "_view_name": "StyleView",
       "bar_color": null,
       "description_width": ""
      }
     },
     "bccffec54d5c442e94a4ac9c1a358e70": {
      "model_module": "@jupyter-widgets/controls",
      "model_module_version": "1.5.0",
      "model_name": "FloatProgressModel",
      "state": {
       "_dom_classes": [],
       "_model_module": "@jupyter-widgets/controls",
       "_model_module_version": "1.5.0",
       "_model_name": "FloatProgressModel",
       "_view_count": null,
       "_view_module": "@jupyter-widgets/controls",
       "_view_module_version": "1.5.0",
       "_view_name": "ProgressView",
       "bar_style": "success",
       "description": "",
       "description_tooltip": null,
       "layout": "IPY_MODEL_944dcf09a4654b678528257099714347",
       "max": 252.0,
       "min": 0.0,
       "orientation": "horizontal",
       "style": "IPY_MODEL_ba1e7204114847348928c6d3425ecec2",
       "value": 252.0
      }
     },
     "be07b5a192f04eeb9a00618d551ebab4": {
      "model_module": "@jupyter-widgets/controls",
      "model_module_version": "1.5.0",
      "model_name": "DescriptionStyleModel",
      "state": {
       "_model_module": "@jupyter-widgets/controls",
       "_model_module_version": "1.5.0",
       "_model_name": "DescriptionStyleModel",
       "_view_count": null,
       "_view_module": "@jupyter-widgets/base",
       "_view_module_version": "1.2.0",
       "_view_name": "StyleView",
       "description_width": ""
      }
     },
     "be90aeb60dd54b668233d3be830ff160": {
      "model_module": "@jupyter-widgets/base",
      "model_module_version": "1.2.0",
      "model_name": "LayoutModel",
      "state": {
       "_model_module": "@jupyter-widgets/base",
       "_model_module_version": "1.2.0",
       "_model_name": "LayoutModel",
       "_view_count": null,
       "_view_module": "@jupyter-widgets/base",
       "_view_module_version": "1.2.0",
       "_view_name": "LayoutView",
       "align_content": null,
       "align_items": null,
       "align_self": null,
       "border": null,
       "bottom": null,
       "display": null,
       "flex": null,
       "flex_flow": null,
       "grid_area": null,
       "grid_auto_columns": null,
       "grid_auto_flow": null,
       "grid_auto_rows": null,
       "grid_column": null,
       "grid_gap": null,
       "grid_row": null,
       "grid_template_areas": null,
       "grid_template_columns": null,
       "grid_template_rows": null,
       "height": null,
       "justify_content": null,
       "justify_items": null,
       "left": null,
       "margin": null,
       "max_height": null,
       "max_width": null,
       "min_height": null,
       "min_width": null,
       "object_fit": null,
       "object_position": null,
       "order": null,
       "overflow": null,
       "overflow_x": null,
       "overflow_y": null,
       "padding": null,
       "right": null,
       "top": null,
       "visibility": null,
       "width": null
      }
     },
     "c1307fc6a631487bab9d8aa9c1262aee": {
      "model_module": "@jupyter-widgets/controls",
      "model_module_version": "1.5.0",
      "model_name": "ProgressStyleModel",
      "state": {
       "_model_module": "@jupyter-widgets/controls",
       "_model_module_version": "1.5.0",
       "_model_name": "ProgressStyleModel",
       "_view_count": null,
       "_view_module": "@jupyter-widgets/base",
       "_view_module_version": "1.2.0",
       "_view_name": "StyleView",
       "bar_color": null,
       "description_width": ""
      }
     },
     "c92e8a1af06c40b083dfcadbf78b9a49": {
      "model_module": "@jupyter-widgets/base",
      "model_module_version": "1.2.0",
      "model_name": "LayoutModel",
      "state": {
       "_model_module": "@jupyter-widgets/base",
       "_model_module_version": "1.2.0",
       "_model_name": "LayoutModel",
       "_view_count": null,
       "_view_module": "@jupyter-widgets/base",
       "_view_module_version": "1.2.0",
       "_view_name": "LayoutView",
       "align_content": null,
       "align_items": null,
       "align_self": null,
       "border": null,
       "bottom": null,
       "display": null,
       "flex": null,
       "flex_flow": null,
       "grid_area": null,
       "grid_auto_columns": null,
       "grid_auto_flow": null,
       "grid_auto_rows": null,
       "grid_column": null,
       "grid_gap": null,
       "grid_row": null,
       "grid_template_areas": null,
       "grid_template_columns": null,
       "grid_template_rows": null,
       "height": null,
       "justify_content": null,
       "justify_items": null,
       "left": null,
       "margin": null,
       "max_height": null,
       "max_width": null,
       "min_height": null,
       "min_width": null,
       "object_fit": null,
       "object_position": null,
       "order": null,
       "overflow": null,
       "overflow_x": null,
       "overflow_y": null,
       "padding": null,
       "right": null,
       "top": null,
       "visibility": null,
       "width": null
      }
     },
     "cba689d3b02a47158dcd5a8fcaa1eb46": {
      "model_module": "@jupyter-widgets/controls",
      "model_module_version": "1.5.0",
      "model_name": "ProgressStyleModel",
      "state": {
       "_model_module": "@jupyter-widgets/controls",
       "_model_module_version": "1.5.0",
       "_model_name": "ProgressStyleModel",
       "_view_count": null,
       "_view_module": "@jupyter-widgets/base",
       "_view_module_version": "1.2.0",
       "_view_name": "StyleView",
       "bar_color": null,
       "description_width": ""
      }
     },
     "cdd37abc21f742e6bd85c79698e60574": {
      "model_module": "@jupyter-widgets/controls",
      "model_module_version": "1.5.0",
      "model_name": "DescriptionStyleModel",
      "state": {
       "_model_module": "@jupyter-widgets/controls",
       "_model_module_version": "1.5.0",
       "_model_name": "DescriptionStyleModel",
       "_view_count": null,
       "_view_module": "@jupyter-widgets/base",
       "_view_module_version": "1.2.0",
       "_view_name": "StyleView",
       "description_width": ""
      }
     },
     "d20a2705741d4a28b9eb87611be4f4be": {
      "model_module": "@jupyter-widgets/controls",
      "model_module_version": "1.5.0",
      "model_name": "FloatProgressModel",
      "state": {
       "_dom_classes": [],
       "_model_module": "@jupyter-widgets/controls",
       "_model_module_version": "1.5.0",
       "_model_name": "FloatProgressModel",
       "_view_count": null,
       "_view_module": "@jupyter-widgets/controls",
       "_view_module_version": "1.5.0",
       "_view_name": "ProgressView",
       "bar_style": "success",
       "description": "",
       "description_tooltip": null,
       "layout": "IPY_MODEL_da049812b73a4c03b1fa5d8003614ccd",
       "max": 112.0,
       "min": 0.0,
       "orientation": "horizontal",
       "style": "IPY_MODEL_cba689d3b02a47158dcd5a8fcaa1eb46",
       "value": 112.0
      }
     },
     "d2bdb9d12c2745fca5dfeb8f923ae3ac": {
      "model_module": "@jupyter-widgets/controls",
      "model_module_version": "1.5.0",
      "model_name": "FloatProgressModel",
      "state": {
       "_dom_classes": [],
       "_model_module": "@jupyter-widgets/controls",
       "_model_module_version": "1.5.0",
       "_model_name": "FloatProgressModel",
       "_view_count": null,
       "_view_module": "@jupyter-widgets/controls",
       "_view_module_version": "1.5.0",
       "_view_name": "ProgressView",
       "bar_style": "success",
       "description": "",
       "description_tooltip": null,
       "layout": "IPY_MODEL_72e10d2dc50f4e8391759fd65df7a385",
       "max": 231508.0,
       "min": 0.0,
       "orientation": "horizontal",
       "style": "IPY_MODEL_3eb10c07b9d64f8092c31862714c88bf",
       "value": 231508.0
      }
     },
     "d2f09b21afba43baa70a92cdeba231fc": {
      "model_module": "@jupyter-widgets/controls",
      "model_module_version": "1.5.0",
      "model_name": "DescriptionStyleModel",
      "state": {
       "_model_module": "@jupyter-widgets/controls",
       "_model_module_version": "1.5.0",
       "_model_name": "DescriptionStyleModel",
       "_view_count": null,
       "_view_module": "@jupyter-widgets/base",
       "_view_module_version": "1.2.0",
       "_view_name": "StyleView",
       "description_width": ""
      }
     },
     "d7244f90e077455db85979587ee6ca39": {
      "model_module": "@jupyter-widgets/base",
      "model_module_version": "1.2.0",
      "model_name": "LayoutModel",
      "state": {
       "_model_module": "@jupyter-widgets/base",
       "_model_module_version": "1.2.0",
       "_model_name": "LayoutModel",
       "_view_count": null,
       "_view_module": "@jupyter-widgets/base",
       "_view_module_version": "1.2.0",
       "_view_name": "LayoutView",
       "align_content": null,
       "align_items": null,
       "align_self": null,
       "border": null,
       "bottom": null,
       "display": null,
       "flex": null,
       "flex_flow": null,
       "grid_area": null,
       "grid_auto_columns": null,
       "grid_auto_flow": null,
       "grid_auto_rows": null,
       "grid_column": null,
       "grid_gap": null,
       "grid_row": null,
       "grid_template_areas": null,
       "grid_template_columns": null,
       "grid_template_rows": null,
       "height": null,
       "justify_content": null,
       "justify_items": null,
       "left": null,
       "margin": null,
       "max_height": null,
       "max_width": null,
       "min_height": null,
       "min_width": null,
       "object_fit": null,
       "object_position": null,
       "order": null,
       "overflow": null,
       "overflow_x": null,
       "overflow_y": null,
       "padding": null,
       "right": null,
       "top": null,
       "visibility": null,
       "width": null
      }
     },
     "d72c94237bdf44fa9e54d0c41f17260c": {
      "model_module": "@jupyter-widgets/controls",
      "model_module_version": "1.5.0",
      "model_name": "DescriptionStyleModel",
      "state": {
       "_model_module": "@jupyter-widgets/controls",
       "_model_module_version": "1.5.0",
       "_model_name": "DescriptionStyleModel",
       "_view_count": null,
       "_view_module": "@jupyter-widgets/base",
       "_view_module_version": "1.2.0",
       "_view_name": "StyleView",
       "description_width": ""
      }
     },
     "da049812b73a4c03b1fa5d8003614ccd": {
      "model_module": "@jupyter-widgets/base",
      "model_module_version": "1.2.0",
      "model_name": "LayoutModel",
      "state": {
       "_model_module": "@jupyter-widgets/base",
       "_model_module_version": "1.2.0",
       "_model_name": "LayoutModel",
       "_view_count": null,
       "_view_module": "@jupyter-widgets/base",
       "_view_module_version": "1.2.0",
       "_view_name": "LayoutView",
       "align_content": null,
       "align_items": null,
       "align_self": null,
       "border": null,
       "bottom": null,
       "display": null,
       "flex": null,
       "flex_flow": null,
       "grid_area": null,
       "grid_auto_columns": null,
       "grid_auto_flow": null,
       "grid_auto_rows": null,
       "grid_column": null,
       "grid_gap": null,
       "grid_row": null,
       "grid_template_areas": null,
       "grid_template_columns": null,
       "grid_template_rows": null,
       "height": null,
       "justify_content": null,
       "justify_items": null,
       "left": null,
       "margin": null,
       "max_height": null,
       "max_width": null,
       "min_height": null,
       "min_width": null,
       "object_fit": null,
       "object_position": null,
       "order": null,
       "overflow": null,
       "overflow_x": null,
       "overflow_y": null,
       "padding": null,
       "right": null,
       "top": null,
       "visibility": null,
       "width": null
      }
     },
     "df4b042feaff448b96c6ccd282d6de34": {
      "model_module": "@jupyter-widgets/controls",
      "model_module_version": "1.5.0",
      "model_name": "HTMLModel",
      "state": {
       "_dom_classes": [],
       "_model_module": "@jupyter-widgets/controls",
       "_model_module_version": "1.5.0",
       "_model_name": "HTMLModel",
       "_view_count": null,
       "_view_module": "@jupyter-widgets/controls",
       "_view_module_version": "1.5.0",
       "_view_name": "HTMLView",
       "description": "",
       "description_tooltip": null,
       "layout": "IPY_MODEL_000b5533151047138f3d5e665b44aeba",
       "placeholder": "​",
       "style": "IPY_MODEL_d2f09b21afba43baa70a92cdeba231fc",
       "value": "Map: 100%"
      }
     },
     "e12b6402249d4e1685537687201fda98": {
      "model_module": "@jupyter-widgets/base",
      "model_module_version": "1.2.0",
      "model_name": "LayoutModel",
      "state": {
       "_model_module": "@jupyter-widgets/base",
       "_model_module_version": "1.2.0",
       "_model_name": "LayoutModel",
       "_view_count": null,
       "_view_module": "@jupyter-widgets/base",
       "_view_module_version": "1.2.0",
       "_view_name": "LayoutView",
       "align_content": null,
       "align_items": null,
       "align_self": null,
       "border": null,
       "bottom": null,
       "display": null,
       "flex": null,
       "flex_flow": null,
       "grid_area": null,
       "grid_auto_columns": null,
       "grid_auto_flow": null,
       "grid_auto_rows": null,
       "grid_column": null,
       "grid_gap": null,
       "grid_row": null,
       "grid_template_areas": null,
       "grid_template_columns": null,
       "grid_template_rows": null,
       "height": null,
       "justify_content": null,
       "justify_items": null,
       "left": null,
       "margin": null,
       "max_height": null,
       "max_width": null,
       "min_height": null,
       "min_width": null,
       "object_fit": null,
       "object_position": null,
       "order": null,
       "overflow": null,
       "overflow_x": null,
       "overflow_y": null,
       "padding": null,
       "right": null,
       "top": null,
       "visibility": null,
       "width": null
      }
     },
     "e3cfcd66b2954ab683a2601a9835e1b2": {
      "model_module": "@jupyter-widgets/controls",
      "model_module_version": "1.5.0",
      "model_name": "DescriptionStyleModel",
      "state": {
       "_model_module": "@jupyter-widgets/controls",
       "_model_module_version": "1.5.0",
       "_model_name": "DescriptionStyleModel",
       "_view_count": null,
       "_view_module": "@jupyter-widgets/base",
       "_view_module_version": "1.2.0",
       "_view_name": "StyleView",
       "description_width": ""
      }
     },
     "e8ab8ecdf04d4ea684251d5e92fcf707": {
      "model_module": "@jupyter-widgets/controls",
      "model_module_version": "1.5.0",
      "model_name": "FloatProgressModel",
      "state": {
       "_dom_classes": [],
       "_model_module": "@jupyter-widgets/controls",
       "_model_module_version": "1.5.0",
       "_model_name": "FloatProgressModel",
       "_view_count": null,
       "_view_module": "@jupyter-widgets/controls",
       "_view_module_version": "1.5.0",
       "_view_name": "ProgressView",
       "bar_style": "success",
       "description": "",
       "description_tooltip": null,
       "layout": "IPY_MODEL_e12b6402249d4e1685537687201fda98",
       "max": 534.0,
       "min": 0.0,
       "orientation": "horizontal",
       "style": "IPY_MODEL_74c5e75e4cbf4d75be2ffb7d1ee056ae",
       "value": 534.0
      }
     },
     "edf81eb5217945eba8f7556fee9f1a0f": {
      "model_module": "@jupyter-widgets/base",
      "model_module_version": "1.2.0",
      "model_name": "LayoutModel",
      "state": {
       "_model_module": "@jupyter-widgets/base",
       "_model_module_version": "1.2.0",
       "_model_name": "LayoutModel",
       "_view_count": null,
       "_view_module": "@jupyter-widgets/base",
       "_view_module_version": "1.2.0",
       "_view_name": "LayoutView",
       "align_content": null,
       "align_items": null,
       "align_self": null,
       "border": null,
       "bottom": null,
       "display": null,
       "flex": null,
       "flex_flow": null,
       "grid_area": null,
       "grid_auto_columns": null,
       "grid_auto_flow": null,
       "grid_auto_rows": null,
       "grid_column": null,
       "grid_gap": null,
       "grid_row": null,
       "grid_template_areas": null,
       "grid_template_columns": null,
       "grid_template_rows": null,
       "height": null,
       "justify_content": null,
       "justify_items": null,
       "left": null,
       "margin": null,
       "max_height": null,
       "max_width": null,
       "min_height": null,
       "min_width": null,
       "object_fit": null,
       "object_position": null,
       "order": null,
       "overflow": null,
       "overflow_x": null,
       "overflow_y": null,
       "padding": null,
       "right": null,
       "top": null,
       "visibility": null,
       "width": null
      }
     },
     "f01220ec7096479983f37ba3b495ef1f": {
      "model_module": "@jupyter-widgets/base",
      "model_module_version": "1.2.0",
      "model_name": "LayoutModel",
      "state": {
       "_model_module": "@jupyter-widgets/base",
       "_model_module_version": "1.2.0",
       "_model_name": "LayoutModel",
       "_view_count": null,
       "_view_module": "@jupyter-widgets/base",
       "_view_module_version": "1.2.0",
       "_view_name": "LayoutView",
       "align_content": null,
       "align_items": null,
       "align_self": null,
       "border": null,
       "bottom": null,
       "display": null,
       "flex": null,
       "flex_flow": null,
       "grid_area": null,
       "grid_auto_columns": null,
       "grid_auto_flow": null,
       "grid_auto_rows": null,
       "grid_column": null,
       "grid_gap": null,
       "grid_row": null,
       "grid_template_areas": null,
       "grid_template_columns": null,
       "grid_template_rows": null,
       "height": null,
       "justify_content": null,
       "justify_items": null,
       "left": null,
       "margin": null,
       "max_height": null,
       "max_width": null,
       "min_height": null,
       "min_width": null,
       "object_fit": null,
       "object_position": null,
       "order": null,
       "overflow": null,
       "overflow_x": null,
       "overflow_y": null,
       "padding": null,
       "right": null,
       "top": null,
       "visibility": null,
       "width": null
      }
     },
     "f3a7613ec790424588ed22945718a913": {
      "model_module": "@jupyter-widgets/controls",
      "model_module_version": "1.5.0",
      "model_name": "HTMLModel",
      "state": {
       "_dom_classes": [],
       "_model_module": "@jupyter-widgets/controls",
       "_model_module_version": "1.5.0",
       "_model_name": "HTMLModel",
       "_view_count": null,
       "_view_module": "@jupyter-widgets/controls",
       "_view_module_version": "1.5.0",
       "_view_name": "HTMLView",
       "description": "",
       "description_tooltip": null,
       "layout": "IPY_MODEL_9939f7a812b1405595cd1aea61f45d3e",
       "placeholder": "​",
       "style": "IPY_MODEL_33ab1c83493f4c1ab9a792f8baaf0c1d",
       "value": " 1082/1082 [00:00&lt;00:00, 4596.63 examples/s]"
      }
     },
     "f431360d16f14836adc4d2251824ff84": {
      "model_module": "@jupyter-widgets/controls",
      "model_module_version": "1.5.0",
      "model_name": "HBoxModel",
      "state": {
       "_dom_classes": [],
       "_model_module": "@jupyter-widgets/controls",
       "_model_module_version": "1.5.0",
       "_model_name": "HBoxModel",
       "_view_count": null,
       "_view_module": "@jupyter-widgets/controls",
       "_view_module_version": "1.5.0",
       "_view_name": "HBoxView",
       "box_style": "",
       "children": [
        "IPY_MODEL_df4b042feaff448b96c6ccd282d6de34",
        "IPY_MODEL_e8ab8ecdf04d4ea684251d5e92fcf707",
        "IPY_MODEL_5ca9fbc0bbe54ac08125e47908695ccf"
       ],
       "layout": "IPY_MODEL_b55964119b904431a5a24f79ba9ce152"
      }
     },
     "fa98bedac0ce4efc94363a27c575befd": {
      "model_module": "@jupyter-widgets/controls",
      "model_module_version": "1.5.0",
      "model_name": "HTMLModel",
      "state": {
       "_dom_classes": [],
       "_model_module": "@jupyter-widgets/controls",
       "_model_module_version": "1.5.0",
       "_model_name": "HTMLModel",
       "_view_count": null,
       "_view_module": "@jupyter-widgets/controls",
       "_view_module_version": "1.5.0",
       "_view_name": "HTMLView",
       "description": "",
       "description_tooltip": null,
       "layout": "IPY_MODEL_4b136f0b8ee6409cafc47c8e922f4ba4",
       "placeholder": "​",
       "style": "IPY_MODEL_85f02c9ced1f40aea46c6be682c6e6f5",
       "value": " 112/112 [00:00&lt;00:00, 9.65kB/s]"
      }
     }
    },
    "version_major": 2,
    "version_minor": 0
   }
  }
 },
 "nbformat": 4,
 "nbformat_minor": 5
}

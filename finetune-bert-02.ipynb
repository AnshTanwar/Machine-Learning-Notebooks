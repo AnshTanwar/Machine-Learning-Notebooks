{
 "cells": [
  {
   "cell_type": "code",
   "execution_count": 1,
   "id": "05e51c40",
   "metadata": {
    "_cell_guid": "b1076dfc-b9ad-4769-8c92-a6c4dae69d19",
    "_uuid": "8f2839f25d086af736a60e9eeb907d3b93b6e0e5",
    "execution": {
     "iopub.execute_input": "2024-06-05T18:34:10.244073Z",
     "iopub.status.busy": "2024-06-05T18:34:10.243773Z",
     "iopub.status.idle": "2024-06-05T18:34:11.035933Z",
     "shell.execute_reply": "2024-06-05T18:34:11.035020Z"
    },
    "papermill": {
     "duration": 0.815183,
     "end_time": "2024-06-05T18:34:11.038584",
     "exception": false,
     "start_time": "2024-06-05T18:34:10.223401",
     "status": "completed"
    },
    "tags": []
   },
   "outputs": [
    {
     "name": "stdout",
     "output_type": "stream",
     "text": [
      "/kaggle/input/crypto-regulations-yirifi/mappingtoBERT_6.csv\n",
      "/kaggle/input/crypto-regulations-yirifi/mappingtoBERT_5.csv\n",
      "/kaggle/input/crypto-regulations-yirifi/output_improved.csv\n",
      "/kaggle/input/crypto-regulations-yirifi/master_data_gpt4o_improved_latest.csv\n",
      "/kaggle/input/crypto-regulations-yirifi/CSV_data_gpt_4o/CSV_data_gpt_4o/18.csv\n",
      "/kaggle/input/crypto-regulations-yirifi/CSV_data_gpt_4o/CSV_data_gpt_4o/20.csv\n",
      "/kaggle/input/crypto-regulations-yirifi/CSV_data_gpt_4o/CSV_data_gpt_4o/1.csv\n",
      "/kaggle/input/crypto-regulations-yirifi/CSV_data_gpt_4o/CSV_data_gpt_4o/24.csv\n",
      "/kaggle/input/crypto-regulations-yirifi/CSV_data_gpt_4o/CSV_data_gpt_4o/11.csv\n",
      "/kaggle/input/crypto-regulations-yirifi/CSV_data_gpt_4o/CSV_data_gpt_4o/30.csv\n",
      "/kaggle/input/crypto-regulations-yirifi/CSV_data_gpt_4o/CSV_data_gpt_4o/17.csv\n",
      "/kaggle/input/crypto-regulations-yirifi/CSV_data_gpt_4o/CSV_data_gpt_4o/16.csv\n",
      "/kaggle/input/crypto-regulations-yirifi/CSV_data_gpt_4o/CSV_data_gpt_4o/3.csv\n",
      "/kaggle/input/crypto-regulations-yirifi/CSV_data_gpt_4o/CSV_data_gpt_4o/31.csv\n",
      "/kaggle/input/crypto-regulations-yirifi/CSV_data_gpt_4o/CSV_data_gpt_4o/19.csv\n",
      "/kaggle/input/crypto-regulations-yirifi/CSV_data_gpt_4o/CSV_data_gpt_4o/5.csv\n",
      "/kaggle/input/crypto-regulations-yirifi/CSV_data_gpt_4o/CSV_data_gpt_4o/2.csv\n",
      "/kaggle/input/crypto-regulations-yirifi/CSV_data_gpt_4o/CSV_data_gpt_4o/26.csv\n",
      "/kaggle/input/crypto-regulations-yirifi/CSV_data_gpt_4o/CSV_data_gpt_4o/28.csv\n",
      "/kaggle/input/crypto-regulations-yirifi/CSV_data_gpt_4o/CSV_data_gpt_4o/13.csv\n",
      "/kaggle/input/crypto-regulations-yirifi/CSV_data_gpt_4o/CSV_data_gpt_4o/23.csv\n",
      "/kaggle/input/crypto-regulations-yirifi/CSV_data_gpt_4o/CSV_data_gpt_4o/14.csv\n",
      "/kaggle/input/crypto-regulations-yirifi/CSV_data_gpt_4o/CSV_data_gpt_4o/4.csv\n",
      "/kaggle/input/crypto-regulations-yirifi/CSV_data_gpt_4o/CSV_data_gpt_4o/22.csv\n",
      "/kaggle/input/crypto-regulations-yirifi/CSV_data_gpt_4o/CSV_data_gpt_4o/8.csv\n",
      "/kaggle/input/crypto-regulations-yirifi/CSV_data_gpt_4o/CSV_data_gpt_4o/12.csv\n",
      "/kaggle/input/crypto-regulations-yirifi/CSV_data_gpt_4o/CSV_data_gpt_4o/9.csv\n",
      "/kaggle/input/crypto-regulations-yirifi/CSV_data_gpt_4o/CSV_data_gpt_4o/7.csv\n",
      "/kaggle/input/crypto-regulations-yirifi/CSV_data_gpt_4o/CSV_data_gpt_4o/15.csv\n",
      "/kaggle/input/crypto-regulations-yirifi/CSV_data_gpt_4o/CSV_data_gpt_4o/6.csv\n",
      "/kaggle/input/crypto-regulations-yirifi/CSV_data_gpt_4o/CSV_data_gpt_4o/10.csv\n",
      "/kaggle/input/crypto-regulations-yirifi/CSV_data_gpt_4o/CSV_data_gpt_4o/25.csv\n",
      "/kaggle/input/crypto-regulations-yirifi/CSV_data_gpt_4o/CSV_data_gpt_4o/29.csv\n",
      "/kaggle/input/crypto-regulations-yirifi/CSV_data_gpt_4o/CSV_data_gpt_4o/21.csv\n",
      "/kaggle/input/crypto-regulations-yirifi/CSV_data_gpt_4o/CSV_data_gpt_4o/32.csv\n",
      "/kaggle/input/crypto-regulations-yirifi/CSV_data_gpt_4o/CSV_data_gpt_4o/27.csv\n",
      "/kaggle/input/crypto-regulations-yirifi/csv_data/csv_data/18.csv\n",
      "/kaggle/input/crypto-regulations-yirifi/csv_data/csv_data/20.csv\n",
      "/kaggle/input/crypto-regulations-yirifi/csv_data/csv_data/1.csv\n",
      "/kaggle/input/crypto-regulations-yirifi/csv_data/csv_data/24.csv\n",
      "/kaggle/input/crypto-regulations-yirifi/csv_data/csv_data/11.csv\n",
      "/kaggle/input/crypto-regulations-yirifi/csv_data/csv_data/30.csv\n",
      "/kaggle/input/crypto-regulations-yirifi/csv_data/csv_data/17.csv\n",
      "/kaggle/input/crypto-regulations-yirifi/csv_data/csv_data/16.csv\n",
      "/kaggle/input/crypto-regulations-yirifi/csv_data/csv_data/3.csv\n",
      "/kaggle/input/crypto-regulations-yirifi/csv_data/csv_data/31.csv\n",
      "/kaggle/input/crypto-regulations-yirifi/csv_data/csv_data/19.csv\n",
      "/kaggle/input/crypto-regulations-yirifi/csv_data/csv_data/5.csv\n",
      "/kaggle/input/crypto-regulations-yirifi/csv_data/csv_data/2.csv\n",
      "/kaggle/input/crypto-regulations-yirifi/csv_data/csv_data/26.csv\n",
      "/kaggle/input/crypto-regulations-yirifi/csv_data/csv_data/28.csv\n",
      "/kaggle/input/crypto-regulations-yirifi/csv_data/csv_data/13.csv\n",
      "/kaggle/input/crypto-regulations-yirifi/csv_data/csv_data/23.csv\n",
      "/kaggle/input/crypto-regulations-yirifi/csv_data/csv_data/14.csv\n",
      "/kaggle/input/crypto-regulations-yirifi/csv_data/csv_data/4.csv\n",
      "/kaggle/input/crypto-regulations-yirifi/csv_data/csv_data/22.csv\n",
      "/kaggle/input/crypto-regulations-yirifi/csv_data/csv_data/8.csv\n",
      "/kaggle/input/crypto-regulations-yirifi/csv_data/csv_data/12.csv\n",
      "/kaggle/input/crypto-regulations-yirifi/csv_data/csv_data/9.csv\n",
      "/kaggle/input/crypto-regulations-yirifi/csv_data/csv_data/7.csv\n",
      "/kaggle/input/crypto-regulations-yirifi/csv_data/csv_data/15.csv\n",
      "/kaggle/input/crypto-regulations-yirifi/csv_data/csv_data/6.csv\n",
      "/kaggle/input/crypto-regulations-yirifi/csv_data/csv_data/10.csv\n",
      "/kaggle/input/crypto-regulations-yirifi/csv_data/csv_data/25.csv\n",
      "/kaggle/input/crypto-regulations-yirifi/csv_data/csv_data/29.csv\n",
      "/kaggle/input/crypto-regulations-yirifi/csv_data/csv_data/21.csv\n",
      "/kaggle/input/crypto-regulations-yirifi/csv_data/csv_data/32.csv\n",
      "/kaggle/input/crypto-regulations-yirifi/csv_data/csv_data/27.csv\n",
      "/kaggle/input/crypto-regulations-yirifi/CSV_data_improved/CSV_data_improved/18.csv\n",
      "/kaggle/input/crypto-regulations-yirifi/CSV_data_improved/CSV_data_improved/20.csv\n",
      "/kaggle/input/crypto-regulations-yirifi/CSV_data_improved/CSV_data_improved/1.csv\n",
      "/kaggle/input/crypto-regulations-yirifi/CSV_data_improved/CSV_data_improved/24.csv\n",
      "/kaggle/input/crypto-regulations-yirifi/CSV_data_improved/CSV_data_improved/11.csv\n",
      "/kaggle/input/crypto-regulations-yirifi/CSV_data_improved/CSV_data_improved/30.csv\n",
      "/kaggle/input/crypto-regulations-yirifi/CSV_data_improved/CSV_data_improved/17.csv\n",
      "/kaggle/input/crypto-regulations-yirifi/CSV_data_improved/CSV_data_improved/16.csv\n",
      "/kaggle/input/crypto-regulations-yirifi/CSV_data_improved/CSV_data_improved/3.csv\n",
      "/kaggle/input/crypto-regulations-yirifi/CSV_data_improved/CSV_data_improved/31.csv\n",
      "/kaggle/input/crypto-regulations-yirifi/CSV_data_improved/CSV_data_improved/19.csv\n",
      "/kaggle/input/crypto-regulations-yirifi/CSV_data_improved/CSV_data_improved/5.csv\n",
      "/kaggle/input/crypto-regulations-yirifi/CSV_data_improved/CSV_data_improved/2.csv\n",
      "/kaggle/input/crypto-regulations-yirifi/CSV_data_improved/CSV_data_improved/26.csv\n",
      "/kaggle/input/crypto-regulations-yirifi/CSV_data_improved/CSV_data_improved/28.csv\n",
      "/kaggle/input/crypto-regulations-yirifi/CSV_data_improved/CSV_data_improved/13.csv\n",
      "/kaggle/input/crypto-regulations-yirifi/CSV_data_improved/CSV_data_improved/23.csv\n",
      "/kaggle/input/crypto-regulations-yirifi/CSV_data_improved/CSV_data_improved/14.csv\n",
      "/kaggle/input/crypto-regulations-yirifi/CSV_data_improved/CSV_data_improved/4.csv\n",
      "/kaggle/input/crypto-regulations-yirifi/CSV_data_improved/CSV_data_improved/22.csv\n",
      "/kaggle/input/crypto-regulations-yirifi/CSV_data_improved/CSV_data_improved/8.csv\n",
      "/kaggle/input/crypto-regulations-yirifi/CSV_data_improved/CSV_data_improved/12.csv\n",
      "/kaggle/input/crypto-regulations-yirifi/CSV_data_improved/CSV_data_improved/9.csv\n",
      "/kaggle/input/crypto-regulations-yirifi/CSV_data_improved/CSV_data_improved/7.csv\n",
      "/kaggle/input/crypto-regulations-yirifi/CSV_data_improved/CSV_data_improved/15.csv\n",
      "/kaggle/input/crypto-regulations-yirifi/CSV_data_improved/CSV_data_improved/6.csv\n",
      "/kaggle/input/crypto-regulations-yirifi/CSV_data_improved/CSV_data_improved/10.csv\n",
      "/kaggle/input/crypto-regulations-yirifi/CSV_data_improved/CSV_data_improved/25.csv\n",
      "/kaggle/input/crypto-regulations-yirifi/CSV_data_improved/CSV_data_improved/29.csv\n",
      "/kaggle/input/crypto-regulations-yirifi/CSV_data_improved/CSV_data_improved/21.csv\n",
      "/kaggle/input/crypto-regulations-yirifi/CSV_data_improved/CSV_data_improved/32.csv\n",
      "/kaggle/input/crypto-regulations-yirifi/CSV_data_improved/CSV_data_improved/27.csv\n"
     ]
    }
   ],
   "source": [
    "# This Python 3 environment comes with many helpful analytics libraries installed\n",
    "# It is defined by the kaggle/python Docker image: https://github.com/kaggle/docker-python\n",
    "# For example, here's several helpful packages to load\n",
    "\n",
    "import numpy as np # linear algebra\n",
    "import pandas as pd # data processing, CSV file I/O (e.g. pd.read_csv)\n",
    "\n",
    "# Input data files are available in the read-only \"../input/\" directory\n",
    "# For example, running this (by clicking run or pressing Shift+Enter) will list all files under the input directory\n",
    "\n",
    "import os\n",
    "for dirname, _, filenames in os.walk('/kaggle/input'):\n",
    "    for filename in filenames:\n",
    "        print(os.path.join(dirname, filename))\n",
    "\n",
    "# You can write up to 20GB to the current directory (/kaggle/working/) that gets preserved as output when you create a version using \"Save & Run All\" \n",
    "# You can also write temporary files to /kaggle/temp/, but they won't be saved outside of the current session"
   ]
  },
  {
   "cell_type": "markdown",
   "id": "edc7008e",
   "metadata": {
    "papermill": {
     "duration": 0.02066,
     "end_time": "2024-06-05T18:34:11.078926",
     "exception": false,
     "start_time": "2024-06-05T18:34:11.058266",
     "status": "completed"
    },
    "tags": []
   },
   "source": [
    "# Data import and cleaning up the data"
   ]
  },
  {
   "cell_type": "code",
   "execution_count": 2,
   "id": "3d227996",
   "metadata": {
    "execution": {
     "iopub.execute_input": "2024-06-05T18:34:11.119633Z",
     "iopub.status.busy": "2024-06-05T18:34:11.118627Z",
     "iopub.status.idle": "2024-06-05T18:34:11.211063Z",
     "shell.execute_reply": "2024-06-05T18:34:11.210112Z"
    },
    "papermill": {
     "duration": 0.115338,
     "end_time": "2024-06-05T18:34:11.213245",
     "exception": false,
     "start_time": "2024-06-05T18:34:11.097907",
     "status": "completed"
    },
    "tags": []
   },
   "outputs": [],
   "source": [
    "df = pd.read_csv(\"/kaggle/input/crypto-regulations-yirifi/mappingtoBERT_6.csv\")"
   ]
  },
  {
   "cell_type": "code",
   "execution_count": 3,
   "id": "3bf34d02",
   "metadata": {
    "execution": {
     "iopub.execute_input": "2024-06-05T18:34:11.252221Z",
     "iopub.status.busy": "2024-06-05T18:34:11.251932Z",
     "iopub.status.idle": "2024-06-05T18:34:11.258357Z",
     "shell.execute_reply": "2024-06-05T18:34:11.257455Z"
    },
    "papermill": {
     "duration": 0.027926,
     "end_time": "2024-06-05T18:34:11.260260",
     "exception": false,
     "start_time": "2024-06-05T18:34:11.232334",
     "status": "completed"
    },
    "tags": []
   },
   "outputs": [
    {
     "data": {
      "text/plain": [
       "(5965, 4)"
      ]
     },
     "execution_count": 3,
     "metadata": {},
     "output_type": "execute_result"
    }
   ],
   "source": [
    "df.shape"
   ]
  },
  {
   "cell_type": "code",
   "execution_count": 4,
   "id": "8b15ef29",
   "metadata": {
    "execution": {
     "iopub.execute_input": "2024-06-05T18:34:11.299530Z",
     "iopub.status.busy": "2024-06-05T18:34:11.299238Z",
     "iopub.status.idle": "2024-06-05T18:34:11.316454Z",
     "shell.execute_reply": "2024-06-05T18:34:11.315650Z"
    },
    "papermill": {
     "duration": 0.039212,
     "end_time": "2024-06-05T18:34:11.318410",
     "exception": false,
     "start_time": "2024-06-05T18:34:11.279198",
     "status": "completed"
    },
    "tags": []
   },
   "outputs": [
    {
     "data": {
      "text/html": [
       "<div>\n",
       "<style scoped>\n",
       "    .dataframe tbody tr th:only-of-type {\n",
       "        vertical-align: middle;\n",
       "    }\n",
       "\n",
       "    .dataframe tbody tr th {\n",
       "        vertical-align: top;\n",
       "    }\n",
       "\n",
       "    .dataframe thead th {\n",
       "        text-align: right;\n",
       "    }\n",
       "</style>\n",
       "<table border=\"1\" class=\"dataframe\">\n",
       "  <thead>\n",
       "    <tr style=\"text-align: right;\">\n",
       "      <th></th>\n",
       "      <th>Unnamed: 0</th>\n",
       "      <th>Content</th>\n",
       "      <th>Concepts</th>\n",
       "      <th>bert_concepts</th>\n",
       "    </tr>\n",
       "  </thead>\n",
       "  <tbody>\n",
       "    <tr>\n",
       "      <th>5955</th>\n",
       "      <td>5955</td>\n",
       "      <td>Content|ÄúRegulationsÄù|means the Virtual As...</td>\n",
       "      <td>amended, related activities, 2023, supplemente...</td>\n",
       "      <td>regulations, virtual assets</td>\n",
       "    </tr>\n",
       "    <tr>\n",
       "      <th>5956</th>\n",
       "      <td>5956</td>\n",
       "      <td>Content|ÄúReserve AssetsÄù|has the meaning a...</td>\n",
       "      <td>frva rules, reserve assets, rule i.a.5</td>\n",
       "      <td>rules</td>\n",
       "    </tr>\n",
       "    <tr>\n",
       "      <th>5957</th>\n",
       "      <td>5957</td>\n",
       "      <td>Content|ÄúSenior ManagementÄù|has the meanin...</td>\n",
       "      <td>company rulebook, senior management</td>\n",
       "      <td>rulebook</td>\n",
       "    </tr>\n",
       "    <tr>\n",
       "      <th>5958</th>\n",
       "      <td>5958</td>\n",
       "      <td>Content|ÄúSignificant FRVA IssuerÄù|means a ...</td>\n",
       "      <td>rule i.c.1, vara, frva rules, vasp, significan...</td>\n",
       "      <td>rules, vasp</td>\n",
       "    </tr>\n",
       "    <tr>\n",
       "      <th>5959</th>\n",
       "      <td>5959</td>\n",
       "      <td>Content|ÄúTechnology and Information\\nRuleboo...</td>\n",
       "      <td>amended, information, vara, technology, regula...</td>\n",
       "      <td>regulations, rulebook</td>\n",
       "    </tr>\n",
       "    <tr>\n",
       "      <th>5960</th>\n",
       "      <td>5960</td>\n",
       "      <td>Content|ÄúVA Issuance RulebookÄù|means the V...</td>\n",
       "      <td>amended, supplemented, vara, virtual asset iss...</td>\n",
       "      <td>regulations, virtual assets, rulebook</td>\n",
       "    </tr>\n",
       "    <tr>\n",
       "      <th>5961</th>\n",
       "      <td>5961</td>\n",
       "      <td>Content|ÄúVARAÄù|means the Dubai Virtual Ass...</td>\n",
       "      <td>vara, dubai, regulatory authority, virtual assets</td>\n",
       "      <td>authority, virtual assets, regulator</td>\n",
       "    </tr>\n",
       "    <tr>\n",
       "      <th>5962</th>\n",
       "      <td>5962</td>\n",
       "      <td>Content|ÄúVirtual AssetÄù or ÄúVAÄù|has th...</td>\n",
       "      <td>dubai va law, va, regulatory, compliance, virt...</td>\n",
       "      <td>compliance, virtual assets, regulator</td>\n",
       "    </tr>\n",
       "    <tr>\n",
       "      <th>5963</th>\n",
       "      <td>5963</td>\n",
       "      <td>Content|ÄúWhitepaperÄù|has the meaning ascri...</td>\n",
       "      <td>bank, whitepaper, regulatory compliance, compl...</td>\n",
       "      <td>compliance, virtual assets, rulebook, regulator</td>\n",
       "    </tr>\n",
       "    <tr>\n",
       "      <th>5964</th>\n",
       "      <td>5964</td>\n",
       "      <td>Content|ÄúWorking DayÄù|means any day which ...</td>\n",
       "      <td>public holiday, weekend, bank, hong kong, regu...</td>\n",
       "      <td>compliance, virtual assets, regulator</td>\n",
       "    </tr>\n",
       "  </tbody>\n",
       "</table>\n",
       "</div>"
      ],
      "text/plain": [
       "      Unnamed: 0                                            Content  \\\n",
       "5955        5955  Content|ÄúRegulationsÄù|means the Virtual As...   \n",
       "5956        5956  Content|ÄúReserve AssetsÄù|has the meaning a...   \n",
       "5957        5957  Content|ÄúSenior ManagementÄù|has the meanin...   \n",
       "5958        5958  Content|ÄúSignificant FRVA IssuerÄù|means a ...   \n",
       "5959        5959  Content|ÄúTechnology and Information\\nRuleboo...   \n",
       "5960        5960  Content|ÄúVA Issuance RulebookÄù|means the V...   \n",
       "5961        5961  Content|ÄúVARAÄù|means the Dubai Virtual Ass...   \n",
       "5962        5962  Content|ÄúVirtual AssetÄù or ÄúVAÄù|has th...   \n",
       "5963        5963  Content|ÄúWhitepaperÄù|has the meaning ascri...   \n",
       "5964        5964  Content|ÄúWorking DayÄù|means any day which ...   \n",
       "\n",
       "                                               Concepts  \\\n",
       "5955  amended, related activities, 2023, supplemente...   \n",
       "5956             frva rules, reserve assets, rule i.a.5   \n",
       "5957                company rulebook, senior management   \n",
       "5958  rule i.c.1, vara, frva rules, vasp, significan...   \n",
       "5959  amended, information, vara, technology, regula...   \n",
       "5960  amended, supplemented, vara, virtual asset iss...   \n",
       "5961  vara, dubai, regulatory authority, virtual assets   \n",
       "5962  dubai va law, va, regulatory, compliance, virt...   \n",
       "5963  bank, whitepaper, regulatory compliance, compl...   \n",
       "5964  public holiday, weekend, bank, hong kong, regu...   \n",
       "\n",
       "                                        bert_concepts  \n",
       "5955                      regulations, virtual assets  \n",
       "5956                                            rules  \n",
       "5957                                         rulebook  \n",
       "5958                                      rules, vasp  \n",
       "5959                            regulations, rulebook  \n",
       "5960            regulations, virtual assets, rulebook  \n",
       "5961             authority, virtual assets, regulator  \n",
       "5962            compliance, virtual assets, regulator  \n",
       "5963  compliance, virtual assets, rulebook, regulator  \n",
       "5964            compliance, virtual assets, regulator  "
      ]
     },
     "execution_count": 4,
     "metadata": {},
     "output_type": "execute_result"
    }
   ],
   "source": [
    "df.tail(10)"
   ]
  },
  {
   "cell_type": "code",
   "execution_count": 5,
   "id": "a21415a2",
   "metadata": {
    "execution": {
     "iopub.execute_input": "2024-06-05T18:34:11.358451Z",
     "iopub.status.busy": "2024-06-05T18:34:11.357759Z",
     "iopub.status.idle": "2024-06-05T18:34:11.443714Z",
     "shell.execute_reply": "2024-06-05T18:34:11.442803Z"
    },
    "papermill": {
     "duration": 0.10774,
     "end_time": "2024-06-05T18:34:11.445534",
     "exception": false,
     "start_time": "2024-06-05T18:34:11.337794",
     "status": "completed"
    },
    "tags": []
   },
   "outputs": [
    {
     "name": "stdout",
     "output_type": "stream",
     "text": [
      "Number of rows with URLs: 22\n",
      "Number of rows with user references: 12\n",
      "Number of rows with hashtags: 0\n",
      "Number of rows with non-alphanumeric characters: 5913\n"
     ]
    }
   ],
   "source": [
    "import re\n",
    "# Function to check for URLs\n",
    "def contains_url(text):\n",
    "    text = str(text)\n",
    "    return bool(re.search(r'http\\S+|www\\S+|https\\S+', text))\n",
    "\n",
    "# Function to check for user references (@user)\n",
    "def contains_user_reference(text):\n",
    "    text = str(text)\n",
    "    return bool(re.search(r'\\@\\w+', text))\n",
    "\n",
    "# Function to check for hashtags\n",
    "def contains_hashtag(text):\n",
    "    text = str(text)\n",
    "    return bool(re.search(r'\\#\\w+', text))\n",
    "\n",
    "# Function to check for non-alphanumeric characters\n",
    "def contains_non_alphanumeric(text):\n",
    "    text = str(text)\n",
    "    return bool(re.search(r'[^a-zA-Z0-9\\s]', text))\n",
    "\n",
    "# Apply the functions to the DataFrame\n",
    "df['contains_url'] = df['Content'].apply(contains_url)\n",
    "df['contains_user_reference'] = df['Content'].apply(contains_user_reference)\n",
    "df['contains_hashtag'] = df['Content'].apply(contains_hashtag)\n",
    "df['contains_non_alphanumeric'] = df['Content'].apply(contains_non_alphanumeric)\n",
    "\n",
    "# Check rows that match each condition\n",
    "url_count = df['contains_url'].sum()\n",
    "user_reference_count = df['contains_user_reference'].sum()\n",
    "hashtag_count = df['contains_hashtag'].sum()\n",
    "non_alphanumeric_count = df['contains_non_alphanumeric'].sum()\n",
    "\n",
    "# Print results\n",
    "print(f\"Number of rows with URLs: {url_count}\")\n",
    "print(f\"Number of rows with user references: {user_reference_count}\")\n",
    "print(f\"Number of rows with hashtags: {hashtag_count}\")\n",
    "print(f\"Number of rows with non-alphanumeric characters: {non_alphanumeric_count}\")\n",
    "\n"
   ]
  },
  {
   "cell_type": "code",
   "execution_count": 6,
   "id": "a1edc423",
   "metadata": {
    "execution": {
     "iopub.execute_input": "2024-06-05T18:34:11.485100Z",
     "iopub.status.busy": "2024-06-05T18:34:11.484856Z",
     "iopub.status.idle": "2024-06-05T18:34:11.498056Z",
     "shell.execute_reply": "2024-06-05T18:34:11.497178Z"
    },
    "papermill": {
     "duration": 0.035064,
     "end_time": "2024-06-05T18:34:11.499879",
     "exception": false,
     "start_time": "2024-06-05T18:34:11.464815",
     "status": "completed"
    },
    "tags": []
   },
   "outputs": [
    {
     "data": {
      "text/html": [
       "<div>\n",
       "<style scoped>\n",
       "    .dataframe tbody tr th:only-of-type {\n",
       "        vertical-align: middle;\n",
       "    }\n",
       "\n",
       "    .dataframe tbody tr th {\n",
       "        vertical-align: top;\n",
       "    }\n",
       "\n",
       "    .dataframe thead th {\n",
       "        text-align: right;\n",
       "    }\n",
       "</style>\n",
       "<table border=\"1\" class=\"dataframe\">\n",
       "  <thead>\n",
       "    <tr style=\"text-align: right;\">\n",
       "      <th></th>\n",
       "      <th>Unnamed: 0</th>\n",
       "      <th>Content</th>\n",
       "      <th>Concepts</th>\n",
       "      <th>bert_concepts</th>\n",
       "      <th>contains_url</th>\n",
       "      <th>contains_user_reference</th>\n",
       "      <th>contains_hashtag</th>\n",
       "      <th>contains_non_alphanumeric</th>\n",
       "    </tr>\n",
       "  </thead>\n",
       "  <tbody>\n",
       "    <tr>\n",
       "      <th>5960</th>\n",
       "      <td>5960</td>\n",
       "      <td>Content|ÄúVA Issuance RulebookÄù|means the V...</td>\n",
       "      <td>amended, supplemented, vara, virtual asset iss...</td>\n",
       "      <td>regulations, virtual assets, rulebook</td>\n",
       "      <td>False</td>\n",
       "      <td>False</td>\n",
       "      <td>False</td>\n",
       "      <td>True</td>\n",
       "    </tr>\n",
       "    <tr>\n",
       "      <th>5961</th>\n",
       "      <td>5961</td>\n",
       "      <td>Content|ÄúVARAÄù|means the Dubai Virtual Ass...</td>\n",
       "      <td>vara, dubai, regulatory authority, virtual assets</td>\n",
       "      <td>authority, virtual assets, regulator</td>\n",
       "      <td>False</td>\n",
       "      <td>False</td>\n",
       "      <td>False</td>\n",
       "      <td>True</td>\n",
       "    </tr>\n",
       "    <tr>\n",
       "      <th>5962</th>\n",
       "      <td>5962</td>\n",
       "      <td>Content|ÄúVirtual AssetÄù or ÄúVAÄù|has th...</td>\n",
       "      <td>dubai va law, va, regulatory, compliance, virt...</td>\n",
       "      <td>compliance, virtual assets, regulator</td>\n",
       "      <td>False</td>\n",
       "      <td>False</td>\n",
       "      <td>False</td>\n",
       "      <td>True</td>\n",
       "    </tr>\n",
       "    <tr>\n",
       "      <th>5963</th>\n",
       "      <td>5963</td>\n",
       "      <td>Content|ÄúWhitepaperÄù|has the meaning ascri...</td>\n",
       "      <td>bank, whitepaper, regulatory compliance, compl...</td>\n",
       "      <td>compliance, virtual assets, rulebook, regulator</td>\n",
       "      <td>False</td>\n",
       "      <td>False</td>\n",
       "      <td>False</td>\n",
       "      <td>True</td>\n",
       "    </tr>\n",
       "    <tr>\n",
       "      <th>5964</th>\n",
       "      <td>5964</td>\n",
       "      <td>Content|ÄúWorking DayÄù|means any day which ...</td>\n",
       "      <td>public holiday, weekend, bank, hong kong, regu...</td>\n",
       "      <td>compliance, virtual assets, regulator</td>\n",
       "      <td>False</td>\n",
       "      <td>False</td>\n",
       "      <td>False</td>\n",
       "      <td>True</td>\n",
       "    </tr>\n",
       "  </tbody>\n",
       "</table>\n",
       "</div>"
      ],
      "text/plain": [
       "      Unnamed: 0                                            Content  \\\n",
       "5960        5960  Content|ÄúVA Issuance RulebookÄù|means the V...   \n",
       "5961        5961  Content|ÄúVARAÄù|means the Dubai Virtual Ass...   \n",
       "5962        5962  Content|ÄúVirtual AssetÄù or ÄúVAÄù|has th...   \n",
       "5963        5963  Content|ÄúWhitepaperÄù|has the meaning ascri...   \n",
       "5964        5964  Content|ÄúWorking DayÄù|means any day which ...   \n",
       "\n",
       "                                               Concepts  \\\n",
       "5960  amended, supplemented, vara, virtual asset iss...   \n",
       "5961  vara, dubai, regulatory authority, virtual assets   \n",
       "5962  dubai va law, va, regulatory, compliance, virt...   \n",
       "5963  bank, whitepaper, regulatory compliance, compl...   \n",
       "5964  public holiday, weekend, bank, hong kong, regu...   \n",
       "\n",
       "                                        bert_concepts  contains_url  \\\n",
       "5960            regulations, virtual assets, rulebook         False   \n",
       "5961             authority, virtual assets, regulator         False   \n",
       "5962            compliance, virtual assets, regulator         False   \n",
       "5963  compliance, virtual assets, rulebook, regulator         False   \n",
       "5964            compliance, virtual assets, regulator         False   \n",
       "\n",
       "      contains_user_reference  contains_hashtag  contains_non_alphanumeric  \n",
       "5960                    False             False                       True  \n",
       "5961                    False             False                       True  \n",
       "5962                    False             False                       True  \n",
       "5963                    False             False                       True  \n",
       "5964                    False             False                       True  "
      ]
     },
     "execution_count": 6,
     "metadata": {},
     "output_type": "execute_result"
    }
   ],
   "source": [
    "df.tail(5)"
   ]
  },
  {
   "cell_type": "code",
   "execution_count": 7,
   "id": "5bda0fa7",
   "metadata": {
    "execution": {
     "iopub.execute_input": "2024-06-05T18:34:11.539841Z",
     "iopub.status.busy": "2024-06-05T18:34:11.539370Z",
     "iopub.status.idle": "2024-06-05T18:34:11.546987Z",
     "shell.execute_reply": "2024-06-05T18:34:11.546157Z"
    },
    "papermill": {
     "duration": 0.029604,
     "end_time": "2024-06-05T18:34:11.548803",
     "exception": false,
     "start_time": "2024-06-05T18:34:11.519199",
     "status": "completed"
    },
    "tags": []
   },
   "outputs": [],
   "source": [
    "df = df[[\"Content\",\"bert_concepts\"]]"
   ]
  },
  {
   "cell_type": "code",
   "execution_count": 8,
   "id": "ef71b172",
   "metadata": {
    "execution": {
     "iopub.execute_input": "2024-06-05T18:34:11.588837Z",
     "iopub.status.busy": "2024-06-05T18:34:11.588563Z",
     "iopub.status.idle": "2024-06-05T18:34:11.930415Z",
     "shell.execute_reply": "2024-06-05T18:34:11.929707Z"
    },
    "papermill": {
     "duration": 0.364193,
     "end_time": "2024-06-05T18:34:11.932548",
     "exception": false,
     "start_time": "2024-06-05T18:34:11.568355",
     "status": "completed"
    },
    "tags": []
   },
   "outputs": [],
   "source": [
    "import re\n",
    "import string\n",
    "\n",
    "def preprocess_text(text):\n",
    "    text = str(text)    \n",
    "    text = re.sub(r'<[^>]+>', '', text) # Remove HTML tags\n",
    "    text = text.lower()\n",
    "    text = re.sub(r'http\\S+|www\\S+|https\\S+', '', text, flags=re.MULTILINE)# Remove URLs\n",
    "    text = re.sub(r'\\@\\w+|\\#','', text) # Remove user @ references and hashtags\n",
    "    text = text.translate(str.maketrans('', '', string.punctuation)) # Remove punctuation    \n",
    "    text = re.sub(r'[^a-zA-Z0-9\\s]', ' ', text) # Remove non-alphanumeric character    \n",
    "    text = re.sub(r'\\s+', ' ', text).strip() # Remove extra whitespace(only single white space is left)\n",
    "    \n",
    "    return text\n",
    "\n",
    "df['Content'] = df['Content'].apply(preprocess_text) # Applying the preprocess_text function\n"
   ]
  },
  {
   "cell_type": "code",
   "execution_count": 9,
   "id": "5f42de23",
   "metadata": {
    "execution": {
     "iopub.execute_input": "2024-06-05T18:34:11.972896Z",
     "iopub.status.busy": "2024-06-05T18:34:11.972620Z",
     "iopub.status.idle": "2024-06-05T18:34:11.981435Z",
     "shell.execute_reply": "2024-06-05T18:34:11.980497Z"
    },
    "papermill": {
     "duration": 0.030945,
     "end_time": "2024-06-05T18:34:11.983233",
     "exception": false,
     "start_time": "2024-06-05T18:34:11.952288",
     "status": "completed"
    },
    "tags": []
   },
   "outputs": [
    {
     "data": {
      "text/html": [
       "<div>\n",
       "<style scoped>\n",
       "    .dataframe tbody tr th:only-of-type {\n",
       "        vertical-align: middle;\n",
       "    }\n",
       "\n",
       "    .dataframe tbody tr th {\n",
       "        vertical-align: top;\n",
       "    }\n",
       "\n",
       "    .dataframe thead th {\n",
       "        text-align: right;\n",
       "    }\n",
       "</style>\n",
       "<table border=\"1\" class=\"dataframe\">\n",
       "  <thead>\n",
       "    <tr style=\"text-align: right;\">\n",
       "      <th></th>\n",
       "      <th>Content</th>\n",
       "      <th>bert_concepts</th>\n",
       "    </tr>\n",
       "  </thead>\n",
       "  <tbody>\n",
       "    <tr>\n",
       "      <th>5960</th>\n",
       "      <td>content va issuance rulebook means the virtual...</td>\n",
       "      <td>regulations, virtual assets, rulebook</td>\n",
       "    </tr>\n",
       "    <tr>\n",
       "      <th>5961</th>\n",
       "      <td>content vara means the dubai virtual assets re...</td>\n",
       "      <td>authority, virtual assets, regulator</td>\n",
       "    </tr>\n",
       "    <tr>\n",
       "      <th>5962</th>\n",
       "      <td>content virtual asset or va has the meaning as...</td>\n",
       "      <td>compliance, virtual assets, regulator</td>\n",
       "    </tr>\n",
       "    <tr>\n",
       "      <th>5963</th>\n",
       "      <td>content whitepaper has the meaning ascribed to...</td>\n",
       "      <td>compliance, virtual assets, rulebook, regulator</td>\n",
       "    </tr>\n",
       "    <tr>\n",
       "      <th>5964</th>\n",
       "      <td>content working day means any day which is not...</td>\n",
       "      <td>compliance, virtual assets, regulator</td>\n",
       "    </tr>\n",
       "  </tbody>\n",
       "</table>\n",
       "</div>"
      ],
      "text/plain": [
       "                                                Content  \\\n",
       "5960  content va issuance rulebook means the virtual...   \n",
       "5961  content vara means the dubai virtual assets re...   \n",
       "5962  content virtual asset or va has the meaning as...   \n",
       "5963  content whitepaper has the meaning ascribed to...   \n",
       "5964  content working day means any day which is not...   \n",
       "\n",
       "                                        bert_concepts  \n",
       "5960            regulations, virtual assets, rulebook  \n",
       "5961             authority, virtual assets, regulator  \n",
       "5962            compliance, virtual assets, regulator  \n",
       "5963  compliance, virtual assets, rulebook, regulator  \n",
       "5964            compliance, virtual assets, regulator  "
      ]
     },
     "execution_count": 9,
     "metadata": {},
     "output_type": "execute_result"
    }
   ],
   "source": [
    "df.tail(5)"
   ]
  },
  {
   "cell_type": "markdown",
   "id": "59a6790f",
   "metadata": {
    "papermill": {
     "duration": 0.019582,
     "end_time": "2024-06-05T18:34:12.022436",
     "exception": false,
     "start_time": "2024-06-05T18:34:12.002854",
     "status": "completed"
    },
    "tags": []
   },
   "source": [
    "# taking out 10 random samples for analysis"
   ]
  },
  {
   "cell_type": "code",
   "execution_count": 10,
   "id": "76c3e3ee",
   "metadata": {
    "execution": {
     "iopub.execute_input": "2024-06-05T18:34:12.062843Z",
     "iopub.status.busy": "2024-06-05T18:34:12.062540Z",
     "iopub.status.idle": "2024-06-05T18:34:12.070807Z",
     "shell.execute_reply": "2024-06-05T18:34:12.070113Z"
    },
    "papermill": {
     "duration": 0.030547,
     "end_time": "2024-06-05T18:34:12.072749",
     "exception": false,
     "start_time": "2024-06-05T18:34:12.042202",
     "status": "completed"
    },
    "tags": []
   },
   "outputs": [],
   "source": [
    "testing_df = df.sample(n=10, random_state=42)\n",
    "df = df.drop(testing_df.index)"
   ]
  },
  {
   "cell_type": "code",
   "execution_count": 11,
   "id": "96ae86a9",
   "metadata": {
    "execution": {
     "iopub.execute_input": "2024-06-05T18:34:12.113767Z",
     "iopub.status.busy": "2024-06-05T18:34:12.113497Z",
     "iopub.status.idle": "2024-06-05T18:34:12.118641Z",
     "shell.execute_reply": "2024-06-05T18:34:12.117840Z"
    },
    "papermill": {
     "duration": 0.027484,
     "end_time": "2024-06-05T18:34:12.120570",
     "exception": false,
     "start_time": "2024-06-05T18:34:12.093086",
     "status": "completed"
    },
    "tags": []
   },
   "outputs": [
    {
     "data": {
      "text/plain": [
       "(5955, 2)"
      ]
     },
     "execution_count": 11,
     "metadata": {},
     "output_type": "execute_result"
    }
   ],
   "source": [
    "df.shape"
   ]
  },
  {
   "cell_type": "code",
   "execution_count": 12,
   "id": "5caa35d0",
   "metadata": {
    "execution": {
     "iopub.execute_input": "2024-06-05T18:34:12.161334Z",
     "iopub.status.busy": "2024-06-05T18:34:12.161078Z",
     "iopub.status.idle": "2024-06-05T18:34:12.166672Z",
     "shell.execute_reply": "2024-06-05T18:34:12.165754Z"
    },
    "papermill": {
     "duration": 0.028693,
     "end_time": "2024-06-05T18:34:12.168841",
     "exception": false,
     "start_time": "2024-06-05T18:34:12.140148",
     "status": "completed"
    },
    "tags": []
   },
   "outputs": [
    {
     "name": "stdout",
     "output_type": "stream",
     "text": [
      "Number of rows with NaN in bert_concepts: 579\n"
     ]
    }
   ],
   "source": [
    "missing_values_count = df['bert_concepts'].isnull().sum()\n",
    "print(\"Number of rows with NaN in bert_concepts:\", missing_values_count)"
   ]
  },
  {
   "cell_type": "markdown",
   "id": "0a4fe9d1",
   "metadata": {
    "papermill": {
     "duration": 0.019539,
     "end_time": "2024-06-05T18:34:12.208346",
     "exception": false,
     "start_time": "2024-06-05T18:34:12.188807",
     "status": "completed"
    },
    "tags": []
   },
   "source": [
    "## Remove rows with no bert_concepts"
   ]
  },
  {
   "cell_type": "code",
   "execution_count": 13,
   "id": "9d8bf769",
   "metadata": {
    "execution": {
     "iopub.execute_input": "2024-06-05T18:34:12.249898Z",
     "iopub.status.busy": "2024-06-05T18:34:12.249626Z",
     "iopub.status.idle": "2024-06-05T18:34:12.257909Z",
     "shell.execute_reply": "2024-06-05T18:34:12.256991Z"
    },
    "papermill": {
     "duration": 0.031383,
     "end_time": "2024-06-05T18:34:12.259982",
     "exception": false,
     "start_time": "2024-06-05T18:34:12.228599",
     "status": "completed"
    },
    "tags": []
   },
   "outputs": [],
   "source": [
    "df = df.dropna(subset=['bert_concepts'])"
   ]
  },
  {
   "cell_type": "code",
   "execution_count": 14,
   "id": "0bf5eca0",
   "metadata": {
    "execution": {
     "iopub.execute_input": "2024-06-05T18:34:12.303365Z",
     "iopub.status.busy": "2024-06-05T18:34:12.302916Z",
     "iopub.status.idle": "2024-06-05T18:34:12.308301Z",
     "shell.execute_reply": "2024-06-05T18:34:12.307519Z"
    },
    "papermill": {
     "duration": 0.02843,
     "end_time": "2024-06-05T18:34:12.310254",
     "exception": false,
     "start_time": "2024-06-05T18:34:12.281824",
     "status": "completed"
    },
    "tags": []
   },
   "outputs": [
    {
     "data": {
      "text/plain": [
       "(5376, 2)"
      ]
     },
     "execution_count": 14,
     "metadata": {},
     "output_type": "execute_result"
    }
   ],
   "source": [
    "df.shape"
   ]
  },
  {
   "cell_type": "markdown",
   "id": "505fc594",
   "metadata": {
    "papermill": {
     "duration": 0.019987,
     "end_time": "2024-06-05T18:34:12.350327",
     "exception": false,
     "start_time": "2024-06-05T18:34:12.330340",
     "status": "completed"
    },
    "tags": []
   },
   "source": [
    "# Converting to Bert Data Format"
   ]
  },
  {
   "cell_type": "code",
   "execution_count": 15,
   "id": "23413485",
   "metadata": {
    "execution": {
     "iopub.execute_input": "2024-06-05T18:34:12.431445Z",
     "iopub.status.busy": "2024-06-05T18:34:12.431135Z",
     "iopub.status.idle": "2024-06-05T18:34:14.438622Z",
     "shell.execute_reply": "2024-06-05T18:34:14.437798Z"
    },
    "papermill": {
     "duration": 2.030899,
     "end_time": "2024-06-05T18:34:14.440874",
     "exception": false,
     "start_time": "2024-06-05T18:34:12.409975",
     "status": "completed"
    },
    "tags": []
   },
   "outputs": [],
   "source": [
    "import pandas as pd\n",
    "import re\n",
    "from sklearn.model_selection import train_test_split\n",
    "from datasets import Dataset, DatasetDict"
   ]
  },
  {
   "cell_type": "code",
   "execution_count": 16,
   "id": "beb144e5",
   "metadata": {
    "execution": {
     "iopub.execute_input": "2024-06-05T18:34:14.485167Z",
     "iopub.status.busy": "2024-06-05T18:34:14.484695Z",
     "iopub.status.idle": "2024-06-05T18:34:14.490700Z",
     "shell.execute_reply": "2024-06-05T18:34:14.489858Z"
    },
    "papermill": {
     "duration": 0.030296,
     "end_time": "2024-06-05T18:34:14.492788",
     "exception": false,
     "start_time": "2024-06-05T18:34:14.462492",
     "status": "completed"
    },
    "tags": []
   },
   "outputs": [
    {
     "data": {
      "text/plain": [
       "Index(['Content', 'bert_concepts'], dtype='object')"
      ]
     },
     "execution_count": 16,
     "metadata": {},
     "output_type": "execute_result"
    }
   ],
   "source": [
    "df.columns"
   ]
  },
  {
   "cell_type": "code",
   "execution_count": 17,
   "id": "af75aa6d",
   "metadata": {
    "execution": {
     "iopub.execute_input": "2024-06-05T18:34:14.536214Z",
     "iopub.status.busy": "2024-06-05T18:34:14.535927Z",
     "iopub.status.idle": "2024-06-05T18:34:14.548614Z",
     "shell.execute_reply": "2024-06-05T18:34:14.547810Z"
    },
    "papermill": {
     "duration": 0.03604,
     "end_time": "2024-06-05T18:34:14.550434",
     "exception": false,
     "start_time": "2024-06-05T18:34:14.514394",
     "status": "completed"
    },
    "tags": []
   },
   "outputs": [],
   "source": [
    "\n",
    "df['bert_concepts'] = df['bert_concepts'].apply(lambda x: x.split(', ')) # make list of words\n",
    "all_concepts = set(concept for row in df['bert_concepts'] for concept in row) # Create a list of all unique concepts\n"
   ]
  },
  {
   "cell_type": "code",
   "execution_count": 18,
   "id": "0353e80f",
   "metadata": {
    "execution": {
     "iopub.execute_input": "2024-06-05T18:34:14.593007Z",
     "iopub.status.busy": "2024-06-05T18:34:14.592521Z",
     "iopub.status.idle": "2024-06-05T18:34:14.596552Z",
     "shell.execute_reply": "2024-06-05T18:34:14.595753Z"
    },
    "papermill": {
     "duration": 0.027232,
     "end_time": "2024-06-05T18:34:14.598457",
     "exception": false,
     "start_time": "2024-06-05T18:34:14.571225",
     "status": "completed"
    },
    "tags": []
   },
   "outputs": [],
   "source": [
    "#all_concepts"
   ]
  },
  {
   "cell_type": "code",
   "execution_count": 19,
   "id": "563c35f1",
   "metadata": {
    "execution": {
     "iopub.execute_input": "2024-06-05T18:34:14.640261Z",
     "iopub.status.busy": "2024-06-05T18:34:14.639980Z",
     "iopub.status.idle": "2024-06-05T18:34:16.292712Z",
     "shell.execute_reply": "2024-06-05T18:34:16.291643Z"
    },
    "papermill": {
     "duration": 1.67698,
     "end_time": "2024-06-05T18:34:16.295836",
     "exception": false,
     "start_time": "2024-06-05T18:34:14.618856",
     "status": "completed"
    },
    "tags": []
   },
   "outputs": [],
   "source": [
    "# One-hot encode each concept for each row\n",
    "one_hot_encoded_rows = []\n",
    "for index, row in df.iterrows():\n",
    "    one_hot_row = {'Content': row['Content']}\n",
    "    for concept in all_concepts:\n",
    "        one_hot_row[concept] = 1 if concept in row['bert_concepts'] else 0\n",
    "    one_hot_encoded_rows.append(one_hot_row)\n"
   ]
  },
  {
   "cell_type": "code",
   "execution_count": 20,
   "id": "a838104b",
   "metadata": {
    "execution": {
     "iopub.execute_input": "2024-06-05T18:34:16.345116Z",
     "iopub.status.busy": "2024-06-05T18:34:16.344793Z",
     "iopub.status.idle": "2024-06-05T18:34:16.348991Z",
     "shell.execute_reply": "2024-06-05T18:34:16.348015Z"
    },
    "papermill": {
     "duration": 0.029624,
     "end_time": "2024-06-05T18:34:16.351064",
     "exception": false,
     "start_time": "2024-06-05T18:34:16.321440",
     "status": "completed"
    },
    "tags": []
   },
   "outputs": [],
   "source": [
    "#one_hot_encoded_rows[:2]"
   ]
  },
  {
   "cell_type": "code",
   "execution_count": 21,
   "id": "593ebf5f",
   "metadata": {
    "execution": {
     "iopub.execute_input": "2024-06-05T18:34:16.393155Z",
     "iopub.status.busy": "2024-06-05T18:34:16.392875Z",
     "iopub.status.idle": "2024-06-05T18:34:16.580884Z",
     "shell.execute_reply": "2024-06-05T18:34:16.579453Z"
    },
    "papermill": {
     "duration": 0.212176,
     "end_time": "2024-06-05T18:34:16.583900",
     "exception": false,
     "start_time": "2024-06-05T18:34:16.371724",
     "status": "completed"
    },
    "tags": []
   },
   "outputs": [],
   "source": [
    "df = pd.DataFrame(one_hot_encoded_rows)"
   ]
  },
  {
   "cell_type": "code",
   "execution_count": 22,
   "id": "7affaf6f",
   "metadata": {
    "execution": {
     "iopub.execute_input": "2024-06-05T18:34:16.642504Z",
     "iopub.status.busy": "2024-06-05T18:34:16.642043Z",
     "iopub.status.idle": "2024-06-05T18:34:16.666161Z",
     "shell.execute_reply": "2024-06-05T18:34:16.665103Z"
    },
    "papermill": {
     "duration": 0.057347,
     "end_time": "2024-06-05T18:34:16.668222",
     "exception": false,
     "start_time": "2024-06-05T18:34:16.610875",
     "status": "completed"
    },
    "tags": []
   },
   "outputs": [
    {
     "data": {
      "text/html": [
       "<div>\n",
       "<style scoped>\n",
       "    .dataframe tbody tr th:only-of-type {\n",
       "        vertical-align: middle;\n",
       "    }\n",
       "\n",
       "    .dataframe tbody tr th {\n",
       "        vertical-align: top;\n",
       "    }\n",
       "\n",
       "    .dataframe thead th {\n",
       "        text-align: right;\n",
       "    }\n",
       "</style>\n",
       "<table border=\"1\" class=\"dataframe\">\n",
       "  <thead>\n",
       "    <tr style=\"text-align: right;\">\n",
       "      <th></th>\n",
       "      <th>Content</th>\n",
       "      <th>audit</th>\n",
       "      <th>disclosure</th>\n",
       "      <th>monitoring</th>\n",
       "      <th>dlt</th>\n",
       "      <th>cft</th>\n",
       "      <th>code of conduct</th>\n",
       "      <th>rulebook</th>\n",
       "      <th>aml</th>\n",
       "      <th>regulations</th>\n",
       "      <th>...</th>\n",
       "      <th>insider dealing</th>\n",
       "      <th>record keeping</th>\n",
       "      <th>client</th>\n",
       "      <th>travel rule</th>\n",
       "      <th>identity</th>\n",
       "      <th>risk management</th>\n",
       "      <th>entities</th>\n",
       "      <th>criminal</th>\n",
       "      <th>cdd</th>\n",
       "      <th>sanctions</th>\n",
       "    </tr>\n",
       "  </thead>\n",
       "  <tbody>\n",
       "    <tr>\n",
       "      <th>0</th>\n",
       "      <td>the new licensing regime for centralised virtu...</td>\n",
       "      <td>0</td>\n",
       "      <td>0</td>\n",
       "      <td>0</td>\n",
       "      <td>0</td>\n",
       "      <td>1</td>\n",
       "      <td>0</td>\n",
       "      <td>0</td>\n",
       "      <td>1</td>\n",
       "      <td>0</td>\n",
       "      <td>...</td>\n",
       "      <td>0</td>\n",
       "      <td>0</td>\n",
       "      <td>0</td>\n",
       "      <td>0</td>\n",
       "      <td>0</td>\n",
       "      <td>0</td>\n",
       "      <td>0</td>\n",
       "      <td>0</td>\n",
       "      <td>0</td>\n",
       "      <td>0</td>\n",
       "    </tr>\n",
       "    <tr>\n",
       "      <th>1</th>\n",
       "      <td>the sfc is issuing this circular to highlight ...</td>\n",
       "      <td>0</td>\n",
       "      <td>0</td>\n",
       "      <td>0</td>\n",
       "      <td>0</td>\n",
       "      <td>0</td>\n",
       "      <td>0</td>\n",
       "      <td>0</td>\n",
       "      <td>0</td>\n",
       "      <td>0</td>\n",
       "      <td>...</td>\n",
       "      <td>0</td>\n",
       "      <td>0</td>\n",
       "      <td>0</td>\n",
       "      <td>0</td>\n",
       "      <td>0</td>\n",
       "      <td>0</td>\n",
       "      <td>0</td>\n",
       "      <td>0</td>\n",
       "      <td>0</td>\n",
       "      <td>0</td>\n",
       "    </tr>\n",
       "    <tr>\n",
       "      <th>2</th>\n",
       "      <td>the sfc has published the following guidelines...</td>\n",
       "      <td>0</td>\n",
       "      <td>0</td>\n",
       "      <td>0</td>\n",
       "      <td>0</td>\n",
       "      <td>0</td>\n",
       "      <td>0</td>\n",
       "      <td>0</td>\n",
       "      <td>0</td>\n",
       "      <td>0</td>\n",
       "      <td>...</td>\n",
       "      <td>0</td>\n",
       "      <td>0</td>\n",
       "      <td>0</td>\n",
       "      <td>0</td>\n",
       "      <td>0</td>\n",
       "      <td>0</td>\n",
       "      <td>0</td>\n",
       "      <td>0</td>\n",
       "      <td>0</td>\n",
       "      <td>0</td>\n",
       "    </tr>\n",
       "  </tbody>\n",
       "</table>\n",
       "<p>3 rows × 56 columns</p>\n",
       "</div>"
      ],
      "text/plain": [
       "                                             Content  audit  disclosure  \\\n",
       "0  the new licensing regime for centralised virtu...      0           0   \n",
       "1  the sfc is issuing this circular to highlight ...      0           0   \n",
       "2  the sfc has published the following guidelines...      0           0   \n",
       "\n",
       "   monitoring  dlt  cft  code of conduct  rulebook  aml  regulations  ...  \\\n",
       "0           0    0    1                0         0    1            0  ...   \n",
       "1           0    0    0                0         0    0            0  ...   \n",
       "2           0    0    0                0         0    0            0  ...   \n",
       "\n",
       "   insider dealing  record keeping  client  travel rule  identity  \\\n",
       "0                0               0       0            0         0   \n",
       "1                0               0       0            0         0   \n",
       "2                0               0       0            0         0   \n",
       "\n",
       "   risk management  entities  criminal  cdd  sanctions  \n",
       "0                0         0         0    0          0  \n",
       "1                0         0         0    0          0  \n",
       "2                0         0         0    0          0  \n",
       "\n",
       "[3 rows x 56 columns]"
      ]
     },
     "execution_count": 22,
     "metadata": {},
     "output_type": "execute_result"
    }
   ],
   "source": [
    "df.head(3)"
   ]
  },
  {
   "cell_type": "markdown",
   "id": "83a857e4",
   "metadata": {
    "papermill": {
     "duration": 0.020792,
     "end_time": "2024-06-05T18:34:16.710751",
     "exception": false,
     "start_time": "2024-06-05T18:34:16.689959",
     "status": "completed"
    },
    "tags": []
   },
   "source": [
    "# Class/Label Distribution"
   ]
  },
  {
   "cell_type": "code",
   "execution_count": 23,
   "id": "8da15f7d",
   "metadata": {
    "execution": {
     "iopub.execute_input": "2024-06-05T18:34:16.753464Z",
     "iopub.status.busy": "2024-06-05T18:34:16.753123Z",
     "iopub.status.idle": "2024-06-05T18:34:16.799467Z",
     "shell.execute_reply": "2024-06-05T18:34:16.798460Z"
    },
    "papermill": {
     "duration": 0.070074,
     "end_time": "2024-06-05T18:34:16.801579",
     "exception": false,
     "start_time": "2024-06-05T18:34:16.731505",
     "status": "completed"
    },
    "tags": []
   },
   "outputs": [
    {
     "data": {
      "text/html": [
       "<div>\n",
       "<style scoped>\n",
       "    .dataframe tbody tr th:only-of-type {\n",
       "        vertical-align: middle;\n",
       "    }\n",
       "\n",
       "    .dataframe tbody tr th {\n",
       "        vertical-align: top;\n",
       "    }\n",
       "\n",
       "    .dataframe thead th {\n",
       "        text-align: right;\n",
       "    }\n",
       "</style>\n",
       "<table border=\"1\" class=\"dataframe\">\n",
       "  <thead>\n",
       "    <tr style=\"text-align: right;\">\n",
       "      <th></th>\n",
       "      <th>Label</th>\n",
       "      <th>0s</th>\n",
       "      <th>1s</th>\n",
       "    </tr>\n",
       "  </thead>\n",
       "  <tbody>\n",
       "    <tr>\n",
       "      <th>41</th>\n",
       "      <td>virtual assets</td>\n",
       "      <td>3149</td>\n",
       "      <td>2227</td>\n",
       "    </tr>\n",
       "    <tr>\n",
       "      <th>16</th>\n",
       "      <td>compliance</td>\n",
       "      <td>3778</td>\n",
       "      <td>1598</td>\n",
       "    </tr>\n",
       "    <tr>\n",
       "      <th>30</th>\n",
       "      <td>regulator</td>\n",
       "      <td>3798</td>\n",
       "      <td>1578</td>\n",
       "    </tr>\n",
       "    <tr>\n",
       "      <th>47</th>\n",
       "      <td>client</td>\n",
       "      <td>4090</td>\n",
       "      <td>1286</td>\n",
       "    </tr>\n",
       "    <tr>\n",
       "      <th>17</th>\n",
       "      <td>risks</td>\n",
       "      <td>4555</td>\n",
       "      <td>821</td>\n",
       "    </tr>\n",
       "    <tr>\n",
       "      <th>7</th>\n",
       "      <td>aml</td>\n",
       "      <td>4650</td>\n",
       "      <td>726</td>\n",
       "    </tr>\n",
       "    <tr>\n",
       "      <th>27</th>\n",
       "      <td>vasp</td>\n",
       "      <td>4727</td>\n",
       "      <td>649</td>\n",
       "    </tr>\n",
       "    <tr>\n",
       "      <th>19</th>\n",
       "      <td>license</td>\n",
       "      <td>4741</td>\n",
       "      <td>635</td>\n",
       "    </tr>\n",
       "    <tr>\n",
       "      <th>24</th>\n",
       "      <td>operator</td>\n",
       "      <td>4787</td>\n",
       "      <td>589</td>\n",
       "    </tr>\n",
       "    <tr>\n",
       "      <th>29</th>\n",
       "      <td>requirements</td>\n",
       "      <td>4834</td>\n",
       "      <td>542</td>\n",
       "    </tr>\n",
       "    <tr>\n",
       "      <th>9</th>\n",
       "      <td>transaction</td>\n",
       "      <td>4854</td>\n",
       "      <td>522</td>\n",
       "    </tr>\n",
       "    <tr>\n",
       "      <th>37</th>\n",
       "      <td>person</td>\n",
       "      <td>4868</td>\n",
       "      <td>508</td>\n",
       "    </tr>\n",
       "    <tr>\n",
       "      <th>8</th>\n",
       "      <td>regulations</td>\n",
       "      <td>4952</td>\n",
       "      <td>424</td>\n",
       "    </tr>\n",
       "    <tr>\n",
       "      <th>4</th>\n",
       "      <td>cft</td>\n",
       "      <td>4989</td>\n",
       "      <td>387</td>\n",
       "    </tr>\n",
       "    <tr>\n",
       "      <th>6</th>\n",
       "      <td>rulebook</td>\n",
       "      <td>4992</td>\n",
       "      <td>384</td>\n",
       "    </tr>\n",
       "    <tr>\n",
       "      <th>18</th>\n",
       "      <td>vasps</td>\n",
       "      <td>5012</td>\n",
       "      <td>364</td>\n",
       "    </tr>\n",
       "    <tr>\n",
       "      <th>42</th>\n",
       "      <td>transactions</td>\n",
       "      <td>5058</td>\n",
       "      <td>318</td>\n",
       "    </tr>\n",
       "    <tr>\n",
       "      <th>43</th>\n",
       "      <td>transfer</td>\n",
       "      <td>5086</td>\n",
       "      <td>290</td>\n",
       "    </tr>\n",
       "    <tr>\n",
       "      <th>31</th>\n",
       "      <td>guideline</td>\n",
       "      <td>5123</td>\n",
       "      <td>253</td>\n",
       "    </tr>\n",
       "    <tr>\n",
       "      <th>26</th>\n",
       "      <td>reporting</td>\n",
       "      <td>5137</td>\n",
       "      <td>239</td>\n",
       "    </tr>\n",
       "    <tr>\n",
       "      <th>21</th>\n",
       "      <td>policies</td>\n",
       "      <td>5170</td>\n",
       "      <td>206</td>\n",
       "    </tr>\n",
       "    <tr>\n",
       "      <th>15</th>\n",
       "      <td>legal</td>\n",
       "      <td>5176</td>\n",
       "      <td>200</td>\n",
       "    </tr>\n",
       "    <tr>\n",
       "      <th>53</th>\n",
       "      <td>cdd</td>\n",
       "      <td>5181</td>\n",
       "      <td>195</td>\n",
       "    </tr>\n",
       "    <tr>\n",
       "      <th>12</th>\n",
       "      <td>rules</td>\n",
       "      <td>5182</td>\n",
       "      <td>194</td>\n",
       "    </tr>\n",
       "    <tr>\n",
       "      <th>34</th>\n",
       "      <td>controls</td>\n",
       "      <td>5184</td>\n",
       "      <td>192</td>\n",
       "    </tr>\n",
       "    <tr>\n",
       "      <th>10</th>\n",
       "      <td>conduct</td>\n",
       "      <td>5188</td>\n",
       "      <td>188</td>\n",
       "    </tr>\n",
       "    <tr>\n",
       "      <th>50</th>\n",
       "      <td>risk management</td>\n",
       "      <td>5214</td>\n",
       "      <td>162</td>\n",
       "    </tr>\n",
       "    <tr>\n",
       "      <th>11</th>\n",
       "      <td>investor</td>\n",
       "      <td>5233</td>\n",
       "      <td>143</td>\n",
       "    </tr>\n",
       "    <tr>\n",
       "      <th>0</th>\n",
       "      <td>audit</td>\n",
       "      <td>5234</td>\n",
       "      <td>142</td>\n",
       "    </tr>\n",
       "    <tr>\n",
       "      <th>2</th>\n",
       "      <td>monitoring</td>\n",
       "      <td>5235</td>\n",
       "      <td>141</td>\n",
       "    </tr>\n",
       "    <tr>\n",
       "      <th>32</th>\n",
       "      <td>authority</td>\n",
       "      <td>5239</td>\n",
       "      <td>137</td>\n",
       "    </tr>\n",
       "    <tr>\n",
       "      <th>35</th>\n",
       "      <td>due diligence</td>\n",
       "      <td>5250</td>\n",
       "      <td>126</td>\n",
       "    </tr>\n",
       "    <tr>\n",
       "      <th>49</th>\n",
       "      <td>identity</td>\n",
       "      <td>5259</td>\n",
       "      <td>117</td>\n",
       "    </tr>\n",
       "    <tr>\n",
       "      <th>39</th>\n",
       "      <td>beneficiary information</td>\n",
       "      <td>5266</td>\n",
       "      <td>110</td>\n",
       "    </tr>\n",
       "    <tr>\n",
       "      <th>1</th>\n",
       "      <td>disclosure</td>\n",
       "      <td>5282</td>\n",
       "      <td>94</td>\n",
       "    </tr>\n",
       "    <tr>\n",
       "      <th>51</th>\n",
       "      <td>entities</td>\n",
       "      <td>5284</td>\n",
       "      <td>92</td>\n",
       "    </tr>\n",
       "    <tr>\n",
       "      <th>23</th>\n",
       "      <td>risk assessment</td>\n",
       "      <td>5286</td>\n",
       "      <td>90</td>\n",
       "    </tr>\n",
       "    <tr>\n",
       "      <th>22</th>\n",
       "      <td>pep</td>\n",
       "      <td>5314</td>\n",
       "      <td>62</td>\n",
       "    </tr>\n",
       "    <tr>\n",
       "      <th>54</th>\n",
       "      <td>sanctions</td>\n",
       "      <td>5320</td>\n",
       "      <td>56</td>\n",
       "    </tr>\n",
       "    <tr>\n",
       "      <th>52</th>\n",
       "      <td>criminal</td>\n",
       "      <td>5322</td>\n",
       "      <td>54</td>\n",
       "    </tr>\n",
       "    <tr>\n",
       "      <th>25</th>\n",
       "      <td>suspicious transactions</td>\n",
       "      <td>5323</td>\n",
       "      <td>53</td>\n",
       "    </tr>\n",
       "    <tr>\n",
       "      <th>20</th>\n",
       "      <td>circular</td>\n",
       "      <td>5325</td>\n",
       "      <td>51</td>\n",
       "    </tr>\n",
       "    <tr>\n",
       "      <th>33</th>\n",
       "      <td>policy</td>\n",
       "      <td>5327</td>\n",
       "      <td>49</td>\n",
       "    </tr>\n",
       "    <tr>\n",
       "      <th>3</th>\n",
       "      <td>dlt</td>\n",
       "      <td>5331</td>\n",
       "      <td>45</td>\n",
       "    </tr>\n",
       "    <tr>\n",
       "      <th>36</th>\n",
       "      <td>screening</td>\n",
       "      <td>5335</td>\n",
       "      <td>41</td>\n",
       "    </tr>\n",
       "    <tr>\n",
       "      <th>14</th>\n",
       "      <td>safeguard</td>\n",
       "      <td>5337</td>\n",
       "      <td>39</td>\n",
       "    </tr>\n",
       "    <tr>\n",
       "      <th>38</th>\n",
       "      <td>legislation</td>\n",
       "      <td>5340</td>\n",
       "      <td>36</td>\n",
       "    </tr>\n",
       "    <tr>\n",
       "      <th>44</th>\n",
       "      <td>oversight</td>\n",
       "      <td>5353</td>\n",
       "      <td>23</td>\n",
       "    </tr>\n",
       "    <tr>\n",
       "      <th>40</th>\n",
       "      <td>investor protection</td>\n",
       "      <td>5356</td>\n",
       "      <td>20</td>\n",
       "    </tr>\n",
       "    <tr>\n",
       "      <th>48</th>\n",
       "      <td>travel rule</td>\n",
       "      <td>5360</td>\n",
       "      <td>16</td>\n",
       "    </tr>\n",
       "    <tr>\n",
       "      <th>46</th>\n",
       "      <td>record keeping</td>\n",
       "      <td>5360</td>\n",
       "      <td>16</td>\n",
       "    </tr>\n",
       "    <tr>\n",
       "      <th>28</th>\n",
       "      <td>anti-bribery</td>\n",
       "      <td>5361</td>\n",
       "      <td>15</td>\n",
       "    </tr>\n",
       "    <tr>\n",
       "      <th>13</th>\n",
       "      <td>kyc</td>\n",
       "      <td>5362</td>\n",
       "      <td>14</td>\n",
       "    </tr>\n",
       "    <tr>\n",
       "      <th>5</th>\n",
       "      <td>code of conduct</td>\n",
       "      <td>5363</td>\n",
       "      <td>13</td>\n",
       "    </tr>\n",
       "    <tr>\n",
       "      <th>45</th>\n",
       "      <td>insider dealing</td>\n",
       "      <td>5363</td>\n",
       "      <td>13</td>\n",
       "    </tr>\n",
       "  </tbody>\n",
       "</table>\n",
       "</div>"
      ],
      "text/plain": [
       "                      Label    0s    1s\n",
       "41           virtual assets  3149  2227\n",
       "16               compliance  3778  1598\n",
       "30                regulator  3798  1578\n",
       "47                   client  4090  1286\n",
       "17                    risks  4555   821\n",
       "7                       aml  4650   726\n",
       "27                     vasp  4727   649\n",
       "19                  license  4741   635\n",
       "24                 operator  4787   589\n",
       "29             requirements  4834   542\n",
       "9               transaction  4854   522\n",
       "37                   person  4868   508\n",
       "8               regulations  4952   424\n",
       "4                       cft  4989   387\n",
       "6                  rulebook  4992   384\n",
       "18                    vasps  5012   364\n",
       "42             transactions  5058   318\n",
       "43                 transfer  5086   290\n",
       "31                guideline  5123   253\n",
       "26                reporting  5137   239\n",
       "21                 policies  5170   206\n",
       "15                    legal  5176   200\n",
       "53                      cdd  5181   195\n",
       "12                    rules  5182   194\n",
       "34                 controls  5184   192\n",
       "10                  conduct  5188   188\n",
       "50          risk management  5214   162\n",
       "11                 investor  5233   143\n",
       "0                     audit  5234   142\n",
       "2                monitoring  5235   141\n",
       "32                authority  5239   137\n",
       "35            due diligence  5250   126\n",
       "49                 identity  5259   117\n",
       "39  beneficiary information  5266   110\n",
       "1                disclosure  5282    94\n",
       "51                 entities  5284    92\n",
       "23          risk assessment  5286    90\n",
       "22                      pep  5314    62\n",
       "54                sanctions  5320    56\n",
       "52                 criminal  5322    54\n",
       "25  suspicious transactions  5323    53\n",
       "20                 circular  5325    51\n",
       "33                   policy  5327    49\n",
       "3                       dlt  5331    45\n",
       "36                screening  5335    41\n",
       "14                safeguard  5337    39\n",
       "38              legislation  5340    36\n",
       "44                oversight  5353    23\n",
       "40      investor protection  5356    20\n",
       "48              travel rule  5360    16\n",
       "46           record keeping  5360    16\n",
       "28             anti-bribery  5361    15\n",
       "13                      kyc  5362    14\n",
       "5           code of conduct  5363    13\n",
       "45          insider dealing  5363    13"
      ]
     },
     "execution_count": 23,
     "metadata": {},
     "output_type": "execute_result"
    }
   ],
   "source": [
    "import pandas as pd\n",
    "l1 = list(df.columns)[1:]\n",
    "summary_list = []\n",
    "for i in l1:\n",
    "    label_counts = df[i].value_counts()\n",
    "    summary_list.append({\n",
    "        'Label': i,\n",
    "        '0s': label_counts.get(0, 0),\n",
    "        '1s': label_counts.get(1, 0)\n",
    "    })\n",
    "\n",
    "\n",
    "summary_df = pd.DataFrame(summary_list)\n",
    "summary_df_sorted = summary_df.sort_values(by='1s', ascending=False)\n",
    "summary_df_sorted\n"
   ]
  },
  {
   "cell_type": "markdown",
   "id": "2215665b",
   "metadata": {
    "papermill": {
     "duration": 0.021983,
     "end_time": "2024-06-05T18:34:16.845714",
     "exception": false,
     "start_time": "2024-06-05T18:34:16.823731",
     "status": "completed"
    },
    "tags": []
   },
   "source": [
    "# Apply oversmapling of Minorty classes\n"
   ]
  },
  {
   "cell_type": "code",
   "execution_count": null,
   "id": "c4427647",
   "metadata": {
    "papermill": {
     "duration": 0.020713,
     "end_time": "2024-06-05T18:34:16.887742",
     "exception": false,
     "start_time": "2024-06-05T18:34:16.867029",
     "status": "completed"
    },
    "tags": []
   },
   "outputs": [],
   "source": []
  },
  {
   "cell_type": "code",
   "execution_count": 24,
   "id": "c16423e9",
   "metadata": {
    "execution": {
     "iopub.execute_input": "2024-06-05T18:34:16.930984Z",
     "iopub.status.busy": "2024-06-05T18:34:16.930685Z",
     "iopub.status.idle": "2024-06-05T18:34:38.472704Z",
     "shell.execute_reply": "2024-06-05T18:34:38.471556Z"
    },
    "papermill": {
     "duration": 21.566591,
     "end_time": "2024-06-05T18:34:38.475242",
     "exception": false,
     "start_time": "2024-06-05T18:34:16.908651",
     "status": "completed"
    },
    "tags": []
   },
   "outputs": [
    {
     "name": "stdout",
     "output_type": "stream",
     "text": [
      "Collecting git+https://github.com/phiyodr/multilabel-oversampling\r\n",
      "  Cloning https://github.com/phiyodr/multilabel-oversampling to /tmp/pip-req-build-cpr0faca\r\n",
      "  Running command git clone --filter=blob:none --quiet https://github.com/phiyodr/multilabel-oversampling /tmp/pip-req-build-cpr0faca\r\n",
      "  Resolved https://github.com/phiyodr/multilabel-oversampling to commit 5fa066171b8df7ef369fe4f0c674f9576a106b0e\r\n",
      "  Preparing metadata (setup.py) ... \u001b[?25l-\b \bdone\r\n",
      "\u001b[?25hRequirement already satisfied: numpy in /opt/conda/lib/python3.10/site-packages (from multilabel-oversampling==0.1.3) (1.26.4)\r\n",
      "Requirement already satisfied: scikit-learn in /opt/conda/lib/python3.10/site-packages (from multilabel-oversampling==0.1.3) (1.2.2)\r\n",
      "Requirement already satisfied: pandas in /opt/conda/lib/python3.10/site-packages (from multilabel-oversampling==0.1.3) (2.2.1)\r\n",
      "Requirement already satisfied: seaborn in /opt/conda/lib/python3.10/site-packages (from multilabel-oversampling==0.1.3) (0.12.2)\r\n",
      "Requirement already satisfied: tqdm in /opt/conda/lib/python3.10/site-packages (from multilabel-oversampling==0.1.3) (4.66.4)\r\n",
      "Requirement already satisfied: matplotlib in /opt/conda/lib/python3.10/site-packages (from multilabel-oversampling==0.1.3) (3.7.5)\r\n",
      "Requirement already satisfied: contourpy>=1.0.1 in /opt/conda/lib/python3.10/site-packages (from matplotlib->multilabel-oversampling==0.1.3) (1.2.0)\r\n",
      "Requirement already satisfied: cycler>=0.10 in /opt/conda/lib/python3.10/site-packages (from matplotlib->multilabel-oversampling==0.1.3) (0.12.1)\r\n",
      "Requirement already satisfied: fonttools>=4.22.0 in /opt/conda/lib/python3.10/site-packages (from matplotlib->multilabel-oversampling==0.1.3) (4.47.0)\r\n",
      "Requirement already satisfied: kiwisolver>=1.0.1 in /opt/conda/lib/python3.10/site-packages (from matplotlib->multilabel-oversampling==0.1.3) (1.4.5)\r\n",
      "Requirement already satisfied: packaging>=20.0 in /opt/conda/lib/python3.10/site-packages (from matplotlib->multilabel-oversampling==0.1.3) (21.3)\r\n",
      "Requirement already satisfied: pillow>=6.2.0 in /opt/conda/lib/python3.10/site-packages (from matplotlib->multilabel-oversampling==0.1.3) (9.5.0)\r\n",
      "Requirement already satisfied: pyparsing>=2.3.1 in /opt/conda/lib/python3.10/site-packages (from matplotlib->multilabel-oversampling==0.1.3) (3.1.1)\r\n",
      "Requirement already satisfied: python-dateutil>=2.7 in /opt/conda/lib/python3.10/site-packages (from matplotlib->multilabel-oversampling==0.1.3) (2.9.0.post0)\r\n",
      "Requirement already satisfied: pytz>=2020.1 in /opt/conda/lib/python3.10/site-packages (from pandas->multilabel-oversampling==0.1.3) (2023.3.post1)\r\n",
      "Requirement already satisfied: tzdata>=2022.7 in /opt/conda/lib/python3.10/site-packages (from pandas->multilabel-oversampling==0.1.3) (2023.4)\r\n",
      "Requirement already satisfied: scipy>=1.3.2 in /opt/conda/lib/python3.10/site-packages (from scikit-learn->multilabel-oversampling==0.1.3) (1.11.4)\r\n",
      "Requirement already satisfied: joblib>=1.1.1 in /opt/conda/lib/python3.10/site-packages (from scikit-learn->multilabel-oversampling==0.1.3) (1.4.2)\r\n",
      "Requirement already satisfied: threadpoolctl>=2.0.0 in /opt/conda/lib/python3.10/site-packages (from scikit-learn->multilabel-oversampling==0.1.3) (3.2.0)\r\n",
      "Requirement already satisfied: six>=1.5 in /opt/conda/lib/python3.10/site-packages (from python-dateutil>=2.7->matplotlib->multilabel-oversampling==0.1.3) (1.16.0)\r\n",
      "Building wheels for collected packages: multilabel-oversampling\r\n",
      "  Building wheel for multilabel-oversampling (setup.py) ... \u001b[?25l-\b \b\\\b \bdone\r\n",
      "\u001b[?25h  Created wheel for multilabel-oversampling: filename=multilabel_oversampling-0.1.3-py3-none-any.whl size=6225 sha256=51b9ca1a56c57558e814ab74e24b8270baf6f10765b05e8b1726b246c0cb5cdc\r\n",
      "  Stored in directory: /tmp/pip-ephem-wheel-cache-78h8m9u8/wheels/2a/ba/2b/c3f093556ca8b37e8714e4748090daa11b45128ccb614665de\r\n",
      "Successfully built multilabel-oversampling\r\n",
      "\u001b[33mWARNING: Error parsing requirements for aiohttp: [Errno 2] No such file or directory: '/opt/conda/lib/python3.10/site-packages/aiohttp-3.9.1.dist-info/METADATA'\u001b[0m\u001b[33m\r\n",
      "\u001b[0mInstalling collected packages: multilabel-oversampling\r\n",
      "Successfully installed multilabel-oversampling-0.1.3\r\n"
     ]
    }
   ],
   "source": [
    "!pip install git+https://github.com/phiyodr/multilabel-oversampling"
   ]
  },
  {
   "cell_type": "code",
   "execution_count": 25,
   "id": "e18b9612",
   "metadata": {
    "execution": {
     "iopub.execute_input": "2024-06-05T18:34:38.522575Z",
     "iopub.status.busy": "2024-06-05T18:34:38.522237Z",
     "iopub.status.idle": "2024-06-05T18:35:50.493734Z",
     "shell.execute_reply": "2024-06-05T18:35:50.492745Z"
    },
    "papermill": {
     "duration": 71.997599,
     "end_time": "2024-06-05T18:35:50.496021",
     "exception": false,
     "start_time": "2024-06-05T18:34:38.498422",
     "status": "completed"
    },
    "tags": []
   },
   "outputs": [
    {
     "name": "stdout",
     "output_type": "stream",
     "text": [
      "Start the upsampling process.\n"
     ]
    },
    {
     "name": "stderr",
     "output_type": "stream",
     "text": [
      "Iteration: 100%|██████████| 2000/2000 [01:11<00:00, 27.81it/s]\n"
     ]
    }
   ],
   "source": [
    "import multilabel_oversampling as mo\n",
    "\n",
    "mo.seed_everything(20)\n",
    "df = df # difficult fake dataset with very high dependency of y1 and y2\n",
    "ml_oversampler = mo.MultilabelOversampler(number_of_adds = 2000, number_of_tries=200,details=False, plot=False)\n",
    "l1 = list(df.columns)[1:]\n",
    "df_new = ml_oversampler.fit(df,target_list=l1)\n",
    "#>Start the upsampling process.\n",
    "#>Iteration:  11%|████████████████                                        | 11/100 [00:00<00:01, 48.43it/s]\n",
    "#>Iter 11: No improvement after 100 tries.\n",
    "#>Sampling done.\n",
    "#>\n",
    "#>Dataset size original: 20; Upsampled dataset size: 31\n",
    "#>Original target distribution:  {'y1': 16, 'y2': 12, 'y3': 4, 'y4': 4}\n",
    "#>Upsampled target distribution: {'y1': 19, 'y2': 12, 'y3': 15, 'y4': 15}\n",
    "\n",
    "#ml_oversampler.plot_all_tries()"
   ]
  },
  {
   "cell_type": "code",
   "execution_count": 26,
   "id": "bfb384b6",
   "metadata": {
    "execution": {
     "iopub.execute_input": "2024-06-05T18:35:50.616806Z",
     "iopub.status.busy": "2024-06-05T18:35:50.616428Z",
     "iopub.status.idle": "2024-06-05T18:35:50.620417Z",
     "shell.execute_reply": "2024-06-05T18:35:50.619595Z"
    },
    "papermill": {
     "duration": 0.065455,
     "end_time": "2024-06-05T18:35:50.622424",
     "exception": false,
     "start_time": "2024-06-05T18:35:50.556969",
     "status": "completed"
    },
    "tags": []
   },
   "outputs": [],
   "source": [
    "#ml_oversampler.plot_results()"
   ]
  },
  {
   "cell_type": "code",
   "execution_count": 27,
   "id": "6501ef06",
   "metadata": {
    "execution": {
     "iopub.execute_input": "2024-06-05T18:35:50.741049Z",
     "iopub.status.busy": "2024-06-05T18:35:50.740765Z",
     "iopub.status.idle": "2024-06-05T18:35:50.744655Z",
     "shell.execute_reply": "2024-06-05T18:35:50.743858Z"
    },
    "papermill": {
     "duration": 0.065762,
     "end_time": "2024-06-05T18:35:50.746619",
     "exception": false,
     "start_time": "2024-06-05T18:35:50.680857",
     "status": "completed"
    },
    "tags": []
   },
   "outputs": [],
   "source": [
    "#change df to oversampled one\n",
    "df = df_new"
   ]
  },
  {
   "cell_type": "code",
   "execution_count": 28,
   "id": "9ab30c96",
   "metadata": {
    "execution": {
     "iopub.execute_input": "2024-06-05T18:35:50.874034Z",
     "iopub.status.busy": "2024-06-05T18:35:50.873592Z",
     "iopub.status.idle": "2024-06-05T18:35:50.879807Z",
     "shell.execute_reply": "2024-06-05T18:35:50.878196Z"
    },
    "papermill": {
     "duration": 0.080499,
     "end_time": "2024-06-05T18:35:50.885137",
     "exception": false,
     "start_time": "2024-06-05T18:35:50.804638",
     "status": "completed"
    },
    "tags": []
   },
   "outputs": [],
   "source": [
    "# from sklearn.feature_extraction.text import TfidfVectorizer\n",
    "# from imblearn.over_sampling import SMOTE\n",
    "# from sklearn.multiclass import OneVsRestClassifier\n",
    "# from sklearn.linear_model import LogisticRegression\n",
    "# from sklearn.metrics import classification_report\n",
    "\n",
    "# df = df_new[0]\n",
    "\n",
    "# X = df['Content']\n",
    "# y = df.drop(columns=['Content'])\n",
    "\n",
    "# # Split the data into training and testing sets\n",
    "# X_train, X_test, y_train, y_test = train_test_split(X, y, test_size=0.2, random_state=42)\n",
    "\n",
    "\n",
    "# vectorizer = TfidfVectorizer(max_features=5000)\n",
    "# X_train_vec = vectorizer.fit_transform(X_train)\n",
    "# X_test_vec = vectorizer.transform(X_test)\n",
    "\n",
    "\n"
   ]
  },
  {
   "cell_type": "code",
   "execution_count": 29,
   "id": "202e7f87",
   "metadata": {
    "execution": {
     "iopub.execute_input": "2024-06-05T18:35:51.017066Z",
     "iopub.status.busy": "2024-06-05T18:35:51.016634Z",
     "iopub.status.idle": "2024-06-05T18:35:51.021505Z",
     "shell.execute_reply": "2024-06-05T18:35:51.020425Z"
    },
    "papermill": {
     "duration": 0.070622,
     "end_time": "2024-06-05T18:35:51.023869",
     "exception": false,
     "start_time": "2024-06-05T18:35:50.953247",
     "status": "completed"
    },
    "tags": []
   },
   "outputs": [],
   "source": [
    "# from sklearn.multiclass import OneVsRestClassifier\n",
    "# from sklearn.linear_model import LogisticRegression\n",
    "# from sklearn.metrics import classification_report\n",
    "\n",
    "# # Train the classifier\n",
    "# classifier = OneVsRestClassifier(LogisticRegression(solver='liblinear'))\n",
    "# classifier.fit(X_train_vec, y_train)\n",
    "\n",
    "# # Predict on the test set\n",
    "# y_pred = classifier.predict(X_test_vec)\n",
    "\n",
    "# # Evaluate the classifier\n",
    "# print(classification_report(y_test, y_pred, target_names=y.columns))\n"
   ]
  },
  {
   "cell_type": "code",
   "execution_count": null,
   "id": "516f63bd",
   "metadata": {
    "papermill": {
     "duration": 0.059235,
     "end_time": "2024-06-05T18:35:51.157026",
     "exception": false,
     "start_time": "2024-06-05T18:35:51.097791",
     "status": "completed"
    },
    "tags": []
   },
   "outputs": [],
   "source": []
  },
  {
   "cell_type": "code",
   "execution_count": 30,
   "id": "19a58c30",
   "metadata": {
    "execution": {
     "iopub.execute_input": "2024-06-05T18:35:51.284132Z",
     "iopub.status.busy": "2024-06-05T18:35:51.283721Z",
     "iopub.status.idle": "2024-06-05T18:35:51.289216Z",
     "shell.execute_reply": "2024-06-05T18:35:51.287742Z"
    },
    "papermill": {
     "duration": 0.067711,
     "end_time": "2024-06-05T18:35:51.292062",
     "exception": false,
     "start_time": "2024-06-05T18:35:51.224351",
     "status": "completed"
    },
    "tags": []
   },
   "outputs": [],
   "source": [
    "import pandas as pd\n",
    "from datasets import Dataset"
   ]
  },
  {
   "cell_type": "code",
   "execution_count": 31,
   "id": "2070e894",
   "metadata": {
    "execution": {
     "iopub.execute_input": "2024-06-05T18:35:51.415986Z",
     "iopub.status.busy": "2024-06-05T18:35:51.415262Z",
     "iopub.status.idle": "2024-06-05T18:35:51.642545Z",
     "shell.execute_reply": "2024-06-05T18:35:51.641679Z"
    },
    "papermill": {
     "duration": 0.289263,
     "end_time": "2024-06-05T18:35:51.644676",
     "exception": false,
     "start_time": "2024-06-05T18:35:51.355413",
     "status": "completed"
    },
    "tags": []
   },
   "outputs": [],
   "source": [
    "#Splitting DataFrame into train, test, and validation sets\n",
    "train_df, test_valid_df = train_test_split(df, test_size=0.3, random_state=42)\n",
    "test_df, validation_df = train_test_split(test_valid_df, test_size=0.33, random_state=42)\n",
    "\n",
    "# Convert DataFrames to Hugging Face Datasets\n",
    "train_dataset = Dataset.from_pandas(train_df)\n",
    "test_dataset = Dataset.from_pandas(test_df)\n",
    "validation_dataset = Dataset.from_pandas(validation_df)\n",
    "\n",
    "# Create DatasetDict\n",
    "dataset = DatasetDict({\n",
    "    \"train\": train_dataset,\n",
    "    \"test\": test_dataset,\n",
    "    \"validation\": validation_dataset\n",
    "})\n",
    "\n",
    "\n"
   ]
  },
  {
   "cell_type": "code",
   "execution_count": 32,
   "id": "b8487a1d",
   "metadata": {
    "execution": {
     "iopub.execute_input": "2024-06-05T18:35:51.765160Z",
     "iopub.status.busy": "2024-06-05T18:35:51.764337Z",
     "iopub.status.idle": "2024-06-05T18:35:51.771217Z",
     "shell.execute_reply": "2024-06-05T18:35:51.770254Z"
    },
    "papermill": {
     "duration": 0.069146,
     "end_time": "2024-06-05T18:35:51.773145",
     "exception": false,
     "start_time": "2024-06-05T18:35:51.703999",
     "status": "completed"
    },
    "tags": []
   },
   "outputs": [
    {
     "data": {
      "text/plain": [
       "DatasetDict({\n",
       "    train: Dataset({\n",
       "        features: ['Content', 'audit', 'disclosure', 'monitoring', 'dlt', 'cft', 'code of conduct', 'rulebook', 'aml', 'regulations', 'transaction', 'conduct', 'investor', 'rules', 'kyc', 'safeguard', 'legal', 'compliance', 'risks', 'vasps', 'license', 'circular', 'policies', 'pep', 'risk assessment', 'operator', 'suspicious transactions', 'reporting', 'vasp', 'anti-bribery', 'requirements', 'regulator', 'guideline', 'authority', 'policy', 'controls', 'due diligence', 'screening', 'person', 'legislation', 'beneficiary information', 'investor protection', 'virtual assets', 'transactions', 'transfer', 'oversight', 'insider dealing', 'record keeping', 'client', 'travel rule', 'identity', 'risk management', 'entities', 'criminal', 'cdd', 'sanctions', '__index_level_0__'],\n",
       "        num_rows: 5163\n",
       "    })\n",
       "    test: Dataset({\n",
       "        features: ['Content', 'audit', 'disclosure', 'monitoring', 'dlt', 'cft', 'code of conduct', 'rulebook', 'aml', 'regulations', 'transaction', 'conduct', 'investor', 'rules', 'kyc', 'safeguard', 'legal', 'compliance', 'risks', 'vasps', 'license', 'circular', 'policies', 'pep', 'risk assessment', 'operator', 'suspicious transactions', 'reporting', 'vasp', 'anti-bribery', 'requirements', 'regulator', 'guideline', 'authority', 'policy', 'controls', 'due diligence', 'screening', 'person', 'legislation', 'beneficiary information', 'investor protection', 'virtual assets', 'transactions', 'transfer', 'oversight', 'insider dealing', 'record keeping', 'client', 'travel rule', 'identity', 'risk management', 'entities', 'criminal', 'cdd', 'sanctions', '__index_level_0__'],\n",
       "        num_rows: 1482\n",
       "    })\n",
       "    validation: Dataset({\n",
       "        features: ['Content', 'audit', 'disclosure', 'monitoring', 'dlt', 'cft', 'code of conduct', 'rulebook', 'aml', 'regulations', 'transaction', 'conduct', 'investor', 'rules', 'kyc', 'safeguard', 'legal', 'compliance', 'risks', 'vasps', 'license', 'circular', 'policies', 'pep', 'risk assessment', 'operator', 'suspicious transactions', 'reporting', 'vasp', 'anti-bribery', 'requirements', 'regulator', 'guideline', 'authority', 'policy', 'controls', 'due diligence', 'screening', 'person', 'legislation', 'beneficiary information', 'investor protection', 'virtual assets', 'transactions', 'transfer', 'oversight', 'insider dealing', 'record keeping', 'client', 'travel rule', 'identity', 'risk management', 'entities', 'criminal', 'cdd', 'sanctions', '__index_level_0__'],\n",
       "        num_rows: 731\n",
       "    })\n",
       "})"
      ]
     },
     "execution_count": 32,
     "metadata": {},
     "output_type": "execute_result"
    }
   ],
   "source": [
    "dataset"
   ]
  },
  {
   "cell_type": "code",
   "execution_count": 33,
   "id": "9d7cfd21",
   "metadata": {
    "execution": {
     "iopub.execute_input": "2024-06-05T18:35:51.893904Z",
     "iopub.status.busy": "2024-06-05T18:35:51.893189Z",
     "iopub.status.idle": "2024-06-05T18:35:54.977725Z",
     "shell.execute_reply": "2024-06-05T18:35:54.976733Z"
    },
    "papermill": {
     "duration": 3.147868,
     "end_time": "2024-06-05T18:35:54.979667",
     "exception": false,
     "start_time": "2024-06-05T18:35:51.831799",
     "status": "completed"
    },
    "tags": []
   },
   "outputs": [
    {
     "data": {
      "text/plain": [
       "[{'Content': 'an fi should monitor the va transfer counterparties on an ongoing basis including',\n",
       "  'audit': 0,\n",
       "  'disclosure': 0,\n",
       "  'monitoring': 1,\n",
       "  'dlt': 0,\n",
       "  'cft': 0,\n",
       "  'code of conduct': 0,\n",
       "  'rulebook': 0,\n",
       "  'aml': 0,\n",
       "  'regulations': 0,\n",
       "  'transaction': 0,\n",
       "  'conduct': 0,\n",
       "  'investor': 0,\n",
       "  'rules': 0,\n",
       "  'kyc': 0,\n",
       "  'safeguard': 0,\n",
       "  'legal': 0,\n",
       "  'compliance': 0,\n",
       "  'risks': 0,\n",
       "  'vasps': 0,\n",
       "  'license': 0,\n",
       "  'circular': 0,\n",
       "  'policies': 0,\n",
       "  'pep': 0,\n",
       "  'risk assessment': 0,\n",
       "  'operator': 0,\n",
       "  'suspicious transactions': 0,\n",
       "  'reporting': 0,\n",
       "  'vasp': 0,\n",
       "  'anti-bribery': 0,\n",
       "  'requirements': 0,\n",
       "  'regulator': 0,\n",
       "  'guideline': 0,\n",
       "  'authority': 0,\n",
       "  'policy': 0,\n",
       "  'controls': 0,\n",
       "  'due diligence': 0,\n",
       "  'screening': 0,\n",
       "  'person': 0,\n",
       "  'legislation': 0,\n",
       "  'beneficiary information': 0,\n",
       "  'investor protection': 0,\n",
       "  'virtual assets': 0,\n",
       "  'transactions': 0,\n",
       "  'transfer': 1,\n",
       "  'oversight': 0,\n",
       "  'insider dealing': 0,\n",
       "  'record keeping': 0,\n",
       "  'client': 0,\n",
       "  'travel rule': 0,\n",
       "  'identity': 0,\n",
       "  'risk management': 0,\n",
       "  'entities': 0,\n",
       "  'criminal': 0,\n",
       "  'cdd': 0,\n",
       "  'sanctions': 0,\n",
       "  '__index_level_0__': 2938},\n",
       " {'Content': 'the effectiveness of the system for recognising and reporting suspicious transactions',\n",
       "  'audit': 0,\n",
       "  'disclosure': 0,\n",
       "  'monitoring': 0,\n",
       "  'dlt': 0,\n",
       "  'cft': 0,\n",
       "  'code of conduct': 0,\n",
       "  'rulebook': 0,\n",
       "  'aml': 0,\n",
       "  'regulations': 0,\n",
       "  'transaction': 1,\n",
       "  'conduct': 0,\n",
       "  'investor': 0,\n",
       "  'rules': 0,\n",
       "  'kyc': 0,\n",
       "  'safeguard': 0,\n",
       "  'legal': 0,\n",
       "  'compliance': 0,\n",
       "  'risks': 0,\n",
       "  'vasps': 0,\n",
       "  'license': 0,\n",
       "  'circular': 0,\n",
       "  'policies': 0,\n",
       "  'pep': 0,\n",
       "  'risk assessment': 0,\n",
       "  'operator': 0,\n",
       "  'suspicious transactions': 1,\n",
       "  'reporting': 1,\n",
       "  'vasp': 0,\n",
       "  'anti-bribery': 0,\n",
       "  'requirements': 0,\n",
       "  'regulator': 0,\n",
       "  'guideline': 0,\n",
       "  'authority': 0,\n",
       "  'policy': 0,\n",
       "  'controls': 0,\n",
       "  'due diligence': 0,\n",
       "  'screening': 0,\n",
       "  'person': 0,\n",
       "  'legislation': 0,\n",
       "  'beneficiary information': 0,\n",
       "  'investor protection': 0,\n",
       "  'virtual assets': 0,\n",
       "  'transactions': 1,\n",
       "  'transfer': 0,\n",
       "  'oversight': 0,\n",
       "  'insider dealing': 0,\n",
       "  'record keeping': 0,\n",
       "  'client': 0,\n",
       "  'travel rule': 0,\n",
       "  'identity': 0,\n",
       "  'risk management': 0,\n",
       "  'entities': 0,\n",
       "  'criminal': 0,\n",
       "  'cdd': 0,\n",
       "  'sanctions': 0,\n",
       "  '__index_level_0__': 2155}]"
      ]
     },
     "execution_count": 33,
     "metadata": {},
     "output_type": "execute_result"
    }
   ],
   "source": [
    "[i for i in dataset['train']][:2]"
   ]
  },
  {
   "cell_type": "markdown",
   "id": "9ff631eb",
   "metadata": {
    "papermill": {
     "duration": 0.057964,
     "end_time": "2024-06-05T18:35:55.096881",
     "exception": false,
     "start_time": "2024-06-05T18:35:55.038917",
     "status": "completed"
    },
    "tags": []
   },
   "source": [
    "# Data Ready Now Training"
   ]
  },
  {
   "cell_type": "code",
   "execution_count": 34,
   "id": "210d4f63",
   "metadata": {
    "execution": {
     "iopub.execute_input": "2024-06-05T18:35:55.214854Z",
     "iopub.status.busy": "2024-06-05T18:35:55.214471Z",
     "iopub.status.idle": "2024-06-05T18:35:57.867675Z",
     "shell.execute_reply": "2024-06-05T18:35:57.866424Z"
    },
    "papermill": {
     "duration": 2.7153,
     "end_time": "2024-06-05T18:35:57.870194",
     "exception": false,
     "start_time": "2024-06-05T18:35:55.154894",
     "status": "completed"
    },
    "tags": []
   },
   "outputs": [
    {
     "name": "stdout",
     "output_type": "stream",
     "text": [
      "\u001b[31mERROR: Could not install packages due to an OSError: [Errno 2] No such file or directory: '/opt/conda/lib/python3.10/site-packages/aiohttp-3.9.1.dist-info/METADATA'\r\n",
      "\u001b[0m\u001b[31m\r\n",
      "\u001b[0m"
     ]
    }
   ],
   "source": [
    "!pip install -q transformers datasets"
   ]
  },
  {
   "cell_type": "markdown",
   "id": "3f823f51",
   "metadata": {
    "papermill": {
     "duration": 0.068382,
     "end_time": "2024-06-05T18:35:58.007151",
     "exception": false,
     "start_time": "2024-06-05T18:35:57.938769",
     "status": "completed"
    },
    "tags": []
   },
   "source": [
    "Add a linear layer on top of the base model, which is used to produce a tensor of shape (batch_size, num_labels), indicating the unnormalized scores for a number of labels for every example in the batch."
   ]
  },
  {
   "cell_type": "markdown",
   "id": "a0cb9729",
   "metadata": {
    "papermill": {
     "duration": 0.059232,
     "end_time": "2024-06-05T18:35:58.127650",
     "exception": false,
     "start_time": "2024-06-05T18:35:58.068418",
     "status": "completed"
    },
    "tags": []
   },
   "source": [
    "### List containing all the labels"
   ]
  },
  {
   "cell_type": "code",
   "execution_count": 35,
   "id": "fc5ba1a1",
   "metadata": {
    "execution": {
     "iopub.execute_input": "2024-06-05T18:35:58.260610Z",
     "iopub.status.busy": "2024-06-05T18:35:58.259836Z",
     "iopub.status.idle": "2024-06-05T18:35:58.271844Z",
     "shell.execute_reply": "2024-06-05T18:35:58.270822Z"
    },
    "papermill": {
     "duration": 0.082649,
     "end_time": "2024-06-05T18:35:58.273988",
     "exception": false,
     "start_time": "2024-06-05T18:35:58.191339",
     "status": "completed"
    },
    "tags": []
   },
   "outputs": [
    {
     "data": {
      "text/plain": [
       "['audit',\n",
       " 'disclosure',\n",
       " 'monitoring',\n",
       " 'dlt',\n",
       " 'cft',\n",
       " 'code of conduct',\n",
       " 'rulebook',\n",
       " 'aml',\n",
       " 'regulations',\n",
       " 'transaction',\n",
       " 'conduct',\n",
       " 'investor',\n",
       " 'rules',\n",
       " 'kyc',\n",
       " 'safeguard',\n",
       " 'legal',\n",
       " 'compliance',\n",
       " 'risks',\n",
       " 'vasps',\n",
       " 'license',\n",
       " 'circular',\n",
       " 'policies',\n",
       " 'pep',\n",
       " 'risk assessment',\n",
       " 'operator',\n",
       " 'suspicious transactions',\n",
       " 'reporting',\n",
       " 'vasp',\n",
       " 'anti-bribery',\n",
       " 'requirements',\n",
       " 'regulator',\n",
       " 'guideline',\n",
       " 'authority',\n",
       " 'policy',\n",
       " 'controls',\n",
       " 'due diligence',\n",
       " 'screening',\n",
       " 'person',\n",
       " 'legislation',\n",
       " 'beneficiary information',\n",
       " 'investor protection',\n",
       " 'virtual assets',\n",
       " 'transactions',\n",
       " 'transfer',\n",
       " 'oversight',\n",
       " 'insider dealing',\n",
       " 'record keeping',\n",
       " 'client',\n",
       " 'travel rule',\n",
       " 'identity',\n",
       " 'risk management',\n",
       " 'entities',\n",
       " 'criminal',\n",
       " 'cdd',\n",
       " 'sanctions']"
      ]
     },
     "execution_count": 35,
     "metadata": {},
     "output_type": "execute_result"
    }
   ],
   "source": [
    "labels = [label for label in dataset['train'].features.keys() if label not in ['Content','__index_level_0__']]\n",
    "#Create 2 dictionaries that map labels to integers and back.\n",
    "id2label = {idx:label for idx, label in enumerate(labels)}\n",
    "label2id = {label:idx for idx, label in enumerate(labels)}\n",
    "labels"
   ]
  },
  {
   "cell_type": "code",
   "execution_count": 36,
   "id": "993dd8b0",
   "metadata": {
    "execution": {
     "iopub.execute_input": "2024-06-05T18:35:58.396672Z",
     "iopub.status.busy": "2024-06-05T18:35:58.395916Z",
     "iopub.status.idle": "2024-06-05T18:35:58.403579Z",
     "shell.execute_reply": "2024-06-05T18:35:58.402729Z"
    },
    "papermill": {
     "duration": 0.0695,
     "end_time": "2024-06-05T18:35:58.405457",
     "exception": false,
     "start_time": "2024-06-05T18:35:58.335957",
     "status": "completed"
    },
    "tags": []
   },
   "outputs": [
    {
     "data": {
      "text/plain": [
       "{0: 'audit',\n",
       " 1: 'disclosure',\n",
       " 2: 'monitoring',\n",
       " 3: 'dlt',\n",
       " 4: 'cft',\n",
       " 5: 'code of conduct',\n",
       " 6: 'rulebook',\n",
       " 7: 'aml',\n",
       " 8: 'regulations',\n",
       " 9: 'transaction',\n",
       " 10: 'conduct',\n",
       " 11: 'investor',\n",
       " 12: 'rules',\n",
       " 13: 'kyc',\n",
       " 14: 'safeguard',\n",
       " 15: 'legal',\n",
       " 16: 'compliance',\n",
       " 17: 'risks',\n",
       " 18: 'vasps',\n",
       " 19: 'license',\n",
       " 20: 'circular',\n",
       " 21: 'policies',\n",
       " 22: 'pep',\n",
       " 23: 'risk assessment',\n",
       " 24: 'operator',\n",
       " 25: 'suspicious transactions',\n",
       " 26: 'reporting',\n",
       " 27: 'vasp',\n",
       " 28: 'anti-bribery',\n",
       " 29: 'requirements',\n",
       " 30: 'regulator',\n",
       " 31: 'guideline',\n",
       " 32: 'authority',\n",
       " 33: 'policy',\n",
       " 34: 'controls',\n",
       " 35: 'due diligence',\n",
       " 36: 'screening',\n",
       " 37: 'person',\n",
       " 38: 'legislation',\n",
       " 39: 'beneficiary information',\n",
       " 40: 'investor protection',\n",
       " 41: 'virtual assets',\n",
       " 42: 'transactions',\n",
       " 43: 'transfer',\n",
       " 44: 'oversight',\n",
       " 45: 'insider dealing',\n",
       " 46: 'record keeping',\n",
       " 47: 'client',\n",
       " 48: 'travel rule',\n",
       " 49: 'identity',\n",
       " 50: 'risk management',\n",
       " 51: 'entities',\n",
       " 52: 'criminal',\n",
       " 53: 'cdd',\n",
       " 54: 'sanctions'}"
      ]
     },
     "execution_count": 36,
     "metadata": {},
     "output_type": "execute_result"
    }
   ],
   "source": [
    "id2label"
   ]
  },
  {
   "cell_type": "code",
   "execution_count": null,
   "id": "c85c1d72",
   "metadata": {
    "papermill": {
     "duration": 0.05941,
     "end_time": "2024-06-05T18:35:58.523918",
     "exception": false,
     "start_time": "2024-06-05T18:35:58.464508",
     "status": "completed"
    },
    "tags": []
   },
   "outputs": [],
   "source": []
  },
  {
   "cell_type": "markdown",
   "id": "e023b16a",
   "metadata": {
    "papermill": {
     "duration": 0.059897,
     "end_time": "2024-06-05T18:35:58.644848",
     "exception": false,
     "start_time": "2024-06-05T18:35:58.584951",
     "status": "completed"
    },
    "tags": []
   },
   "source": [
    "# Tokenization"
   ]
  },
  {
   "cell_type": "markdown",
   "id": "a62a6971",
   "metadata": {
    "papermill": {
     "duration": 0.059532,
     "end_time": "2024-06-05T18:35:58.763837",
     "exception": false,
     "start_time": "2024-06-05T18:35:58.704305",
     "status": "completed"
    },
    "tags": []
   },
   "source": [
    "### As models like BERT don't expect text as direct input, but rather input_ids, etc., we tokenize the text using the tokenizer. We will use AutoTokenizer API, which will automatically load the appropriate tokenizer based on the checkpoint on the hub.\n",
    "\n",
    "### What's a bit tricky is that we also need to provide labels to the model. For multi-label text classification, this is a matrix of shape (batch_size, num_labels). Also important: this should be a tensor of floats rather than integers, otherwise PyTorch' BCEWithLogitsLoss (which the model will use) will complain"
   ]
  },
  {
   "cell_type": "code",
   "execution_count": 37,
   "id": "03271797",
   "metadata": {
    "execution": {
     "iopub.execute_input": "2024-06-05T18:35:58.885468Z",
     "iopub.status.busy": "2024-06-05T18:35:58.884719Z",
     "iopub.status.idle": "2024-06-05T18:36:05.197671Z",
     "shell.execute_reply": "2024-06-05T18:36:05.196806Z"
    },
    "papermill": {
     "duration": 6.376914,
     "end_time": "2024-06-05T18:36:05.199925",
     "exception": false,
     "start_time": "2024-06-05T18:35:58.823011",
     "status": "completed"
    },
    "tags": []
   },
   "outputs": [
    {
     "data": {
      "application/vnd.jupyter.widget-view+json": {
       "model_id": "cccd5dbd88a240f0bfe9b2d9cae8de8d",
       "version_major": 2,
       "version_minor": 0
      },
      "text/plain": [
       "tokenizer_config.json:   0%|          | 0.00/252 [00:00<?, ?B/s]"
      ]
     },
     "metadata": {},
     "output_type": "display_data"
    },
    {
     "name": "stderr",
     "output_type": "stream",
     "text": [
      "/opt/conda/lib/python3.10/site-packages/huggingface_hub/file_download.py:1132: FutureWarning: `resume_download` is deprecated and will be removed in version 1.0.0. Downloads always resume when possible. If you want to force a new download, use `force_download=True`.\n",
      "  warnings.warn(\n"
     ]
    },
    {
     "data": {
      "application/vnd.jupyter.widget-view+json": {
       "model_id": "930861749c514dd1a4b0815d899348e0",
       "version_major": 2,
       "version_minor": 0
      },
      "text/plain": [
       "config.json:   0%|          | 0.00/758 [00:00<?, ?B/s]"
      ]
     },
     "metadata": {},
     "output_type": "display_data"
    },
    {
     "data": {
      "application/vnd.jupyter.widget-view+json": {
       "model_id": "9e3d229953ac47d3ae30ea336c00e9ef",
       "version_major": 2,
       "version_minor": 0
      },
      "text/plain": [
       "vocab.txt:   0%|          | 0.00/232k [00:00<?, ?B/s]"
      ]
     },
     "metadata": {},
     "output_type": "display_data"
    },
    {
     "data": {
      "application/vnd.jupyter.widget-view+json": {
       "model_id": "959a843a49ef448f878899ebec8edd85",
       "version_major": 2,
       "version_minor": 0
      },
      "text/plain": [
       "special_tokens_map.json:   0%|          | 0.00/112 [00:00<?, ?B/s]"
      ]
     },
     "metadata": {},
     "output_type": "display_data"
    }
   ],
   "source": [
    "from transformers import AutoTokenizer\n",
    "import numpy as np\n",
    "\n",
    "tokenizer = AutoTokenizer.from_pretrained(\"ProsusAI/finbert\")\n",
    "\n",
    "def preprocess_data(examples, max_length=128):\n",
    "  # take a batch of texts\n",
    "  text = examples['Content']\n",
    "  batch_size = len(text)\n",
    "  # encode them\n",
    "  encoding = tokenizer(text, padding=\"max_length\", truncation=True, max_length=max_length)\n",
    "  # add labels\n",
    "  labels_batch = {k: examples[k] for k in examples.keys() if k in labels}\n",
    "  # create numpy array of shape (batch_size, num_labels)\n",
    "  labels_matrix = np.zeros((len(text), len(labels)))\n",
    "  # fill numpy array\n",
    "  for idx, label in enumerate(labels):\n",
    "    labels_matrix[:, idx] = labels_batch[label]\n",
    "\n",
    "  encoding[\"labels\"] = labels_matrix.tolist()\n",
    "  \n",
    "  return encoding"
   ]
  },
  {
   "cell_type": "code",
   "execution_count": 38,
   "id": "a3bcb495",
   "metadata": {
    "execution": {
     "iopub.execute_input": "2024-06-05T18:36:05.339765Z",
     "iopub.status.busy": "2024-06-05T18:36:05.339075Z",
     "iopub.status.idle": "2024-06-05T18:36:07.032803Z",
     "shell.execute_reply": "2024-06-05T18:36:07.031893Z"
    },
    "papermill": {
     "duration": 1.765359,
     "end_time": "2024-06-05T18:36:07.034774",
     "exception": false,
     "start_time": "2024-06-05T18:36:05.269415",
     "status": "completed"
    },
    "tags": []
   },
   "outputs": [
    {
     "data": {
      "application/vnd.jupyter.widget-view+json": {
       "model_id": "b54bd88ba4234e538ffc333a1a08de8f",
       "version_major": 2,
       "version_minor": 0
      },
      "text/plain": [
       "Map:   0%|          | 0/5163 [00:00<?, ? examples/s]"
      ]
     },
     "metadata": {},
     "output_type": "display_data"
    },
    {
     "data": {
      "application/vnd.jupyter.widget-view+json": {
       "model_id": "0b9a320b4caa42feb8a9faa93687e8d5",
       "version_major": 2,
       "version_minor": 0
      },
      "text/plain": [
       "Map:   0%|          | 0/1482 [00:00<?, ? examples/s]"
      ]
     },
     "metadata": {},
     "output_type": "display_data"
    },
    {
     "data": {
      "application/vnd.jupyter.widget-view+json": {
       "model_id": "6e6022bda3bd4dc4b0c04b65ac710f19",
       "version_major": 2,
       "version_minor": 0
      },
      "text/plain": [
       "Map:   0%|          | 0/731 [00:00<?, ? examples/s]"
      ]
     },
     "metadata": {},
     "output_type": "display_data"
    }
   ],
   "source": [
    "encoded_dataset = dataset.map(preprocess_data, batched=True, remove_columns=dataset['train'].column_names)"
   ]
  },
  {
   "cell_type": "code",
   "execution_count": 39,
   "id": "68b3cd27",
   "metadata": {
    "execution": {
     "iopub.execute_input": "2024-06-05T18:36:07.161715Z",
     "iopub.status.busy": "2024-06-05T18:36:07.161379Z",
     "iopub.status.idle": "2024-06-05T18:36:07.167155Z",
     "shell.execute_reply": "2024-06-05T18:36:07.166298Z"
    },
    "papermill": {
     "duration": 0.071375,
     "end_time": "2024-06-05T18:36:07.169227",
     "exception": false,
     "start_time": "2024-06-05T18:36:07.097852",
     "status": "completed"
    },
    "tags": []
   },
   "outputs": [
    {
     "data": {
      "text/plain": [
       "DatasetDict({\n",
       "    train: Dataset({\n",
       "        features: ['input_ids', 'token_type_ids', 'attention_mask', 'labels'],\n",
       "        num_rows: 5163\n",
       "    })\n",
       "    test: Dataset({\n",
       "        features: ['input_ids', 'token_type_ids', 'attention_mask', 'labels'],\n",
       "        num_rows: 1482\n",
       "    })\n",
       "    validation: Dataset({\n",
       "        features: ['input_ids', 'token_type_ids', 'attention_mask', 'labels'],\n",
       "        num_rows: 731\n",
       "    })\n",
       "})"
      ]
     },
     "execution_count": 39,
     "metadata": {},
     "output_type": "execute_result"
    }
   ],
   "source": [
    "encoded_dataset"
   ]
  },
  {
   "cell_type": "code",
   "execution_count": 40,
   "id": "ba74ea45",
   "metadata": {
    "execution": {
     "iopub.execute_input": "2024-06-05T18:36:07.294186Z",
     "iopub.status.busy": "2024-06-05T18:36:07.293908Z",
     "iopub.status.idle": "2024-06-05T18:36:07.299875Z",
     "shell.execute_reply": "2024-06-05T18:36:07.298999Z"
    },
    "papermill": {
     "duration": 0.069385,
     "end_time": "2024-06-05T18:36:07.301982",
     "exception": false,
     "start_time": "2024-06-05T18:36:07.232597",
     "status": "completed"
    },
    "tags": []
   },
   "outputs": [
    {
     "data": {
      "text/plain": [
       "Dataset({\n",
       "    features: ['input_ids', 'token_type_ids', 'attention_mask', 'labels'],\n",
       "    num_rows: 5163\n",
       "})"
      ]
     },
     "execution_count": 40,
     "metadata": {},
     "output_type": "execute_result"
    }
   ],
   "source": [
    "encoded_dataset['train']"
   ]
  },
  {
   "cell_type": "code",
   "execution_count": 41,
   "id": "4fc30d2b",
   "metadata": {
    "execution": {
     "iopub.execute_input": "2024-06-05T18:36:07.427186Z",
     "iopub.status.busy": "2024-06-05T18:36:07.426857Z",
     "iopub.status.idle": "2024-06-05T18:36:17.614768Z",
     "shell.execute_reply": "2024-06-05T18:36:17.613893Z"
    },
    "papermill": {
     "duration": 10.253653,
     "end_time": "2024-06-05T18:36:17.617535",
     "exception": false,
     "start_time": "2024-06-05T18:36:07.363882",
     "status": "completed"
    },
    "tags": []
   },
   "outputs": [
    {
     "name": "stderr",
     "output_type": "stream",
     "text": [
      "2024-06-05 18:36:08.894538: E external/local_xla/xla/stream_executor/cuda/cuda_dnn.cc:9261] Unable to register cuDNN factory: Attempting to register factory for plugin cuDNN when one has already been registered\n",
      "2024-06-05 18:36:08.894644: E external/local_xla/xla/stream_executor/cuda/cuda_fft.cc:607] Unable to register cuFFT factory: Attempting to register factory for plugin cuFFT when one has already been registered\n",
      "2024-06-05 18:36:08.998307: E external/local_xla/xla/stream_executor/cuda/cuda_blas.cc:1515] Unable to register cuBLAS factory: Attempting to register factory for plugin cuBLAS when one has already been registered\n"
     ]
    },
    {
     "data": {
      "text/plain": [
       "'[CLS] an fi should monitor the va transfer counterparties on an ongoing basis including [SEP] [PAD] [PAD] [PAD] [PAD] [PAD] [PAD] [PAD] [PAD] [PAD] [PAD] [PAD] [PAD] [PAD] [PAD] [PAD] [PAD] [PAD] [PAD] [PAD] [PAD] [PAD] [PAD] [PAD] [PAD] [PAD] [PAD] [PAD] [PAD] [PAD] [PAD] [PAD] [PAD] [PAD] [PAD] [PAD] [PAD] [PAD] [PAD] [PAD] [PAD] [PAD] [PAD] [PAD] [PAD] [PAD] [PAD] [PAD] [PAD] [PAD] [PAD] [PAD] [PAD] [PAD] [PAD] [PAD] [PAD] [PAD] [PAD] [PAD] [PAD] [PAD] [PAD] [PAD] [PAD] [PAD] [PAD] [PAD] [PAD] [PAD] [PAD] [PAD] [PAD] [PAD] [PAD] [PAD] [PAD] [PAD] [PAD] [PAD] [PAD] [PAD] [PAD] [PAD] [PAD] [PAD] [PAD] [PAD] [PAD] [PAD] [PAD] [PAD] [PAD] [PAD] [PAD] [PAD] [PAD] [PAD] [PAD] [PAD] [PAD] [PAD] [PAD] [PAD] [PAD] [PAD] [PAD] [PAD] [PAD] [PAD] [PAD] [PAD] [PAD]'"
      ]
     },
     "execution_count": 41,
     "metadata": {},
     "output_type": "execute_result"
    }
   ],
   "source": [
    "example = encoded_dataset['train'][0]\n",
    "tokenizer.decode(example['input_ids'])"
   ]
  },
  {
   "cell_type": "code",
   "execution_count": 42,
   "id": "494aba8a",
   "metadata": {
    "execution": {
     "iopub.execute_input": "2024-06-05T18:36:17.751473Z",
     "iopub.status.busy": "2024-06-05T18:36:17.750858Z",
     "iopub.status.idle": "2024-06-05T18:36:17.755112Z",
     "shell.execute_reply": "2024-06-05T18:36:17.754275Z"
    },
    "papermill": {
     "duration": 0.067608,
     "end_time": "2024-06-05T18:36:17.756920",
     "exception": false,
     "start_time": "2024-06-05T18:36:17.689312",
     "status": "completed"
    },
    "tags": []
   },
   "outputs": [],
   "source": [
    "#example['labels']"
   ]
  },
  {
   "cell_type": "code",
   "execution_count": 43,
   "id": "c30d2a86",
   "metadata": {
    "execution": {
     "iopub.execute_input": "2024-06-05T18:36:17.879975Z",
     "iopub.status.busy": "2024-06-05T18:36:17.879266Z",
     "iopub.status.idle": "2024-06-05T18:36:17.884594Z",
     "shell.execute_reply": "2024-06-05T18:36:17.883788Z"
    },
    "papermill": {
     "duration": 0.069251,
     "end_time": "2024-06-05T18:36:17.886430",
     "exception": false,
     "start_time": "2024-06-05T18:36:17.817179",
     "status": "completed"
    },
    "tags": []
   },
   "outputs": [],
   "source": [
    "#use id to label dictionary\n",
    "[id2label[idx] for idx, label in enumerate(example['labels']) if label == 1.0]\n",
    "encoded_dataset.set_format(\"torch\") "
   ]
  },
  {
   "cell_type": "markdown",
   "id": "732ed9ad",
   "metadata": {
    "papermill": {
     "duration": 0.060091,
     "end_time": "2024-06-05T18:36:18.007875",
     "exception": false,
     "start_time": "2024-06-05T18:36:17.947784",
     "status": "completed"
    },
    "tags": []
   },
   "source": [
    "### Here we define a model that includes a pre-trained base (i.e. the weights from bert-base-uncased) are loaded, with a random initialized classification head (linear layer) on top. One should fine-tune this head, together with the pre-trained base on a labeled dataset.\n",
    "\n",
    "### We set the problem_type to be \"multi_label_classification\", as this will make sure the appropriate loss function is used (namely BCEWithLogitsLoss). We also make sure the output layer has len(labels) output neurons, and we set the id2label and label2id mappings"
   ]
  },
  {
   "cell_type": "code",
   "execution_count": 44,
   "id": "43b59221",
   "metadata": {
    "execution": {
     "iopub.execute_input": "2024-06-05T18:36:18.129657Z",
     "iopub.status.busy": "2024-06-05T18:36:18.129055Z",
     "iopub.status.idle": "2024-06-05T18:36:33.324609Z",
     "shell.execute_reply": "2024-06-05T18:36:33.323813Z"
    },
    "papermill": {
     "duration": 15.25868,
     "end_time": "2024-06-05T18:36:33.326710",
     "exception": false,
     "start_time": "2024-06-05T18:36:18.068030",
     "status": "completed"
    },
    "tags": []
   },
   "outputs": [
    {
     "data": {
      "application/vnd.jupyter.widget-view+json": {
       "model_id": "531e61d1ae764409b97c3696904fe58c",
       "version_major": 2,
       "version_minor": 0
      },
      "text/plain": [
       "pytorch_model.bin:   0%|          | 0.00/438M [00:00<?, ?B/s]"
      ]
     },
     "metadata": {},
     "output_type": "display_data"
    },
    {
     "name": "stderr",
     "output_type": "stream",
     "text": [
      "/opt/conda/lib/python3.10/site-packages/torch/_utils.py:831: UserWarning: TypedStorage is deprecated. It will be removed in the future and UntypedStorage will be the only storage class. This should only matter to you if you are using storages directly.  To access UntypedStorage directly, use tensor.untyped_storage() instead of tensor.storage()\n",
      "  return self.fget.__get__(instance, owner)()\n",
      "Some weights of BertForSequenceClassification were not initialized from the model checkpoint at ProsusAI/finbert and are newly initialized because the shapes did not match:\n",
      "- classifier.weight: found shape torch.Size([3, 768]) in the checkpoint and torch.Size([55, 768]) in the model instantiated\n",
      "- classifier.bias: found shape torch.Size([3]) in the checkpoint and torch.Size([55]) in the model instantiated\n",
      "You should probably TRAIN this model on a down-stream task to be able to use it for predictions and inference.\n"
     ]
    }
   ],
   "source": [
    "from transformers import AutoModelForSequenceClassification\n",
    "\n",
    "model = AutoModelForSequenceClassification.from_pretrained(\"ProsusAI/finbert\", \n",
    "                                                           problem_type=\"multi_label_classification\", \n",
    "                                                           num_labels=len(labels),\n",
    "                                                           id2label=id2label,\n",
    "                                                           label2id=label2id,\n",
    "                                                          ignore_mismatched_sizes=True )"
   ]
  },
  {
   "cell_type": "code",
   "execution_count": 45,
   "id": "d033f354",
   "metadata": {
    "execution": {
     "iopub.execute_input": "2024-06-05T18:36:33.450603Z",
     "iopub.status.busy": "2024-06-05T18:36:33.450266Z",
     "iopub.status.idle": "2024-06-05T18:36:33.454365Z",
     "shell.execute_reply": "2024-06-05T18:36:33.453535Z"
    },
    "papermill": {
     "duration": 0.067639,
     "end_time": "2024-06-05T18:36:33.456219",
     "exception": false,
     "start_time": "2024-06-05T18:36:33.388580",
     "status": "completed"
    },
    "tags": []
   },
   "outputs": [],
   "source": [
    "batch_size = 16\n",
    "metric_name = \"f1\""
   ]
  },
  {
   "cell_type": "code",
   "execution_count": 46,
   "id": "64b96f76",
   "metadata": {
    "execution": {
     "iopub.execute_input": "2024-06-05T18:36:33.579637Z",
     "iopub.status.busy": "2024-06-05T18:36:33.579330Z",
     "iopub.status.idle": "2024-06-05T18:36:33.726587Z",
     "shell.execute_reply": "2024-06-05T18:36:33.725630Z"
    },
    "papermill": {
     "duration": 0.211348,
     "end_time": "2024-06-05T18:36:33.728723",
     "exception": false,
     "start_time": "2024-06-05T18:36:33.517375",
     "status": "completed"
    },
    "tags": []
   },
   "outputs": [
    {
     "name": "stderr",
     "output_type": "stream",
     "text": [
      "/opt/conda/lib/python3.10/site-packages/transformers/training_args.py:1474: FutureWarning: `evaluation_strategy` is deprecated and will be removed in version 4.46 of 🤗 Transformers. Use `eval_strategy` instead\n",
      "  warnings.warn(\n"
     ]
    }
   ],
   "source": [
    "from transformers import TrainingArguments, Trainer\n",
    "\n",
    "args = TrainingArguments(\n",
    "    f\"bert-finetuned-sem_eval-english\",\n",
    "    evaluation_strategy = \"epoch\",\n",
    "    save_strategy = \"epoch\",\n",
    "    learning_rate=1e-4,\n",
    "    per_device_train_batch_size=batch_size,\n",
    "    per_device_eval_batch_size=batch_size,\n",
    "    num_train_epochs=15,\n",
    "    weight_decay=0.01,\n",
    "    load_best_model_at_end=True,\n",
    "    metric_for_best_model=metric_name\n",
    ")"
   ]
  },
  {
   "cell_type": "markdown",
   "id": "17a36fa4",
   "metadata": {
    "papermill": {
     "duration": 0.061734,
     "end_time": "2024-06-05T18:36:33.853352",
     "exception": false,
     "start_time": "2024-06-05T18:36:33.791618",
     "status": "completed"
    },
    "tags": []
   },
   "source": [
    "we need to define a compute_metrics function, that returns a dictionary with the desired metric values.\n",
    "\n",
    "source: https://jesusleal.io/2021/04/21/Longformer-multilabel-classification/"
   ]
  },
  {
   "cell_type": "markdown",
   "id": "0ec48d08",
   "metadata": {
    "papermill": {
     "duration": 0.061036,
     "end_time": "2024-06-05T18:36:33.977180",
     "exception": false,
     "start_time": "2024-06-05T18:36:33.916144",
     "status": "completed"
    },
    "tags": []
   },
   "source": [
    "# 1. F1 Score\n",
    "The F1 score is the harmonic mean of precision and recall. It provides a single metric that balances both the precision and recall, making it useful for evaluating models where you need to balance the two, especially in the presence of imbalanced classes.\n",
    "\n",
    "Precision: The ratio of true positive predictions to the total number of positive predictions (true positives + false positives). It measures the accuracy of the positive predictions.\n",
    "Recall: The ratio of true positive predictions to the total number of actual positives (true positives + false negatives). It measures the ability to capture all relevant instances.\n",
    "The formula for the F1 score is:\n",
    "F1 score\n",
    "=\n",
    "2\n",
    "×\n",
    "(\n",
    "Precision\n",
    "×\n",
    "Recall\n",
    "Precision\n",
    "+\n",
    "Recall\n",
    ")\n",
    "F1 score=2×( \n",
    "Precision+Recall\n",
    "Precision×Recall\n",
    "​\n",
    " )\n",
    "\n",
    "# 2. ROC AUC Score\n",
    "The ROC AUC (Receiver Operating Characteristic Area Under Curve) score is a metric used to evaluate the performance of a binary classifier. It measures the ability of the classifier to distinguish between classes.\n",
    "\n",
    "ROC Curve: A plot of the true positive rate (recall) against the false positive rate (1-specificity) at various threshold settings.\n",
    "AUC: The area under the ROC curve. A higher AUC indicates better performance, with a score of 1 representing a perfect classifier and a score of 0.5 representing a random classifier.\n",
    "\n",
    "# 3. Accuracy Score\n",
    "Accuracy is the ratio of correctly predicted instances to the total instances. It is the most intuitive performance measure, but it can be misleading when dealing with imbalanced datasets.\n",
    "\n",
    "The formula for accuracy is:\n",
    "Accuracy\n",
    "=\n",
    "Number of Correct Predictions\n",
    "Total Number of Predictions\n",
    "Accuracy= \n",
    "Total Number of Predictions\n",
    "Number of Correct Predictions\n",
    "\n"
   ]
  },
  {
   "cell_type": "code",
   "execution_count": 47,
   "id": "e9f61c2e",
   "metadata": {
    "execution": {
     "iopub.execute_input": "2024-06-05T18:36:34.102795Z",
     "iopub.status.busy": "2024-06-05T18:36:34.102440Z",
     "iopub.status.idle": "2024-06-05T18:36:34.110736Z",
     "shell.execute_reply": "2024-06-05T18:36:34.109902Z"
    },
    "papermill": {
     "duration": 0.072157,
     "end_time": "2024-06-05T18:36:34.112587",
     "exception": false,
     "start_time": "2024-06-05T18:36:34.040430",
     "status": "completed"
    },
    "tags": []
   },
   "outputs": [],
   "source": [
    "from sklearn.metrics import f1_score, roc_auc_score, accuracy_score\n",
    "from transformers import EvalPrediction\n",
    "import torch\n",
    "    \n",
    "\n",
    "def multi_label_metrics(predictions, labels, threshold=0.5):\n",
    "    # first, apply sigmoid on predictions which are of shape (batch_size, num_labels)\n",
    "    sigmoid = torch.nn.Sigmoid()\n",
    "    probs = sigmoid(torch.Tensor(predictions))\n",
    "    # next, use threshold to turn them into integer predictions\n",
    "    y_pred = np.zeros(probs.shape)\n",
    "    y_pred[np.where(probs >= threshold)] = 1\n",
    "    # finally, compute metrics\n",
    "    y_true = labels\n",
    "    f1_micro_average = f1_score(y_true=y_true, y_pred=y_pred, average='micro')\n",
    "    roc_auc = roc_auc_score(y_true, y_pred, average = 'micro')\n",
    "    accuracy = accuracy_score(y_true, y_pred)\n",
    "    # return as dictionary\n",
    "    metrics = {'f1': f1_micro_average,\n",
    "               'roc_auc': roc_auc,\n",
    "               'accuracy': accuracy}\n",
    "    return metrics\n",
    "\n",
    "def compute_metrics(p: EvalPrediction):\n",
    "    preds = p.predictions[0] if isinstance(p.predictions, tuple) else p.predictions\n",
    "    result = multi_label_metrics(predictions=preds,labels=p.label_ids)\n",
    "    return result\n",
    "  \n",
    "   \n"
   ]
  },
  {
   "cell_type": "code",
   "execution_count": 48,
   "id": "450b01cb",
   "metadata": {
    "execution": {
     "iopub.execute_input": "2024-06-05T18:36:34.235770Z",
     "iopub.status.busy": "2024-06-05T18:36:34.235466Z",
     "iopub.status.idle": "2024-06-05T18:36:34.248282Z",
     "shell.execute_reply": "2024-06-05T18:36:34.247498Z"
    },
    "papermill": {
     "duration": 0.076383,
     "end_time": "2024-06-05T18:36:34.250330",
     "exception": false,
     "start_time": "2024-06-05T18:36:34.173947",
     "status": "completed"
    },
    "tags": []
   },
   "outputs": [
    {
     "data": {
      "text/plain": [
       "'torch.FloatTensor'"
      ]
     },
     "execution_count": 48,
     "metadata": {},
     "output_type": "execute_result"
    }
   ],
   "source": [
    "encoded_dataset['train'][0]['labels'].type()"
   ]
  },
  {
   "cell_type": "code",
   "execution_count": 49,
   "id": "c4d9b90c",
   "metadata": {
    "execution": {
     "iopub.execute_input": "2024-06-05T18:36:34.374505Z",
     "iopub.status.busy": "2024-06-05T18:36:34.374171Z",
     "iopub.status.idle": "2024-06-05T18:36:34.395121Z",
     "shell.execute_reply": "2024-06-05T18:36:34.394259Z"
    },
    "papermill": {
     "duration": 0.085306,
     "end_time": "2024-06-05T18:36:34.397090",
     "exception": false,
     "start_time": "2024-06-05T18:36:34.311784",
     "status": "completed"
    },
    "tags": []
   },
   "outputs": [
    {
     "data": {
      "text/plain": [
       "tensor([  101,  2019, 10882,  2323,  8080,  1996, 12436,  4651, 13637,  3111,\n",
       "         2006,  2019,  7552,  3978,  2164,   102,     0,     0,     0,     0,\n",
       "            0,     0,     0,     0,     0,     0,     0,     0,     0,     0,\n",
       "            0,     0,     0,     0,     0,     0,     0,     0,     0,     0,\n",
       "            0,     0,     0,     0,     0,     0,     0,     0,     0,     0,\n",
       "            0,     0,     0,     0,     0,     0,     0,     0,     0,     0,\n",
       "            0,     0,     0,     0,     0,     0,     0,     0,     0,     0,\n",
       "            0,     0,     0,     0,     0,     0,     0,     0,     0,     0,\n",
       "            0,     0,     0,     0,     0,     0,     0,     0,     0,     0,\n",
       "            0,     0,     0,     0,     0,     0,     0,     0,     0,     0,\n",
       "            0,     0,     0,     0,     0,     0,     0,     0,     0,     0,\n",
       "            0,     0,     0,     0,     0,     0,     0,     0,     0,     0,\n",
       "            0,     0,     0,     0,     0,     0,     0,     0])"
      ]
     },
     "execution_count": 49,
     "metadata": {},
     "output_type": "execute_result"
    }
   ],
   "source": [
    "encoded_dataset['train']['input_ids'][0]"
   ]
  },
  {
   "cell_type": "code",
   "execution_count": 50,
   "id": "af38357c",
   "metadata": {
    "execution": {
     "iopub.execute_input": "2024-06-05T18:36:34.520738Z",
     "iopub.status.busy": "2024-06-05T18:36:34.520389Z",
     "iopub.status.idle": "2024-06-05T18:36:34.524310Z",
     "shell.execute_reply": "2024-06-05T18:36:34.523459Z"
    },
    "papermill": {
     "duration": 0.067758,
     "end_time": "2024-06-05T18:36:34.526146",
     "exception": false,
     "start_time": "2024-06-05T18:36:34.458388",
     "status": "completed"
    },
    "tags": []
   },
   "outputs": [],
   "source": [
    "# #forward pass\n",
    "# #, attention_mask=attention_mask\n",
    "# outputs = model(input_ids=encoded_dataset['train']['input_ids'][0].unsqueeze(0), labels=encoded_dataset['train'][0]['labels'].unsqueeze(0))\n",
    "# outputs"
   ]
  },
  {
   "cell_type": "code",
   "execution_count": 51,
   "id": "39fc5138",
   "metadata": {
    "execution": {
     "iopub.execute_input": "2024-06-05T18:36:34.650348Z",
     "iopub.status.busy": "2024-06-05T18:36:34.650055Z",
     "iopub.status.idle": "2024-06-05T18:36:34.654067Z",
     "shell.execute_reply": "2024-06-05T18:36:34.653235Z"
    },
    "papermill": {
     "duration": 0.068064,
     "end_time": "2024-06-05T18:36:34.655880",
     "exception": false,
     "start_time": "2024-06-05T18:36:34.587816",
     "status": "completed"
    },
    "tags": []
   },
   "outputs": [],
   "source": [
    "from transformers import AutoModelForSequenceClassification, Trainer"
   ]
  },
  {
   "cell_type": "code",
   "execution_count": 52,
   "id": "51d536d1",
   "metadata": {
    "execution": {
     "iopub.execute_input": "2024-06-05T18:36:34.780570Z",
     "iopub.status.busy": "2024-06-05T18:36:34.780026Z",
     "iopub.status.idle": "2024-06-05T18:36:35.085834Z",
     "shell.execute_reply": "2024-06-05T18:36:35.084915Z"
    },
    "papermill": {
     "duration": 0.370842,
     "end_time": "2024-06-05T18:36:35.088287",
     "exception": false,
     "start_time": "2024-06-05T18:36:34.717445",
     "status": "completed"
    },
    "tags": []
   },
   "outputs": [],
   "source": [
    "\n",
    "from kaggle_secrets import UserSecretsClient\n",
    "user_secrets = UserSecretsClient()\n",
    "secret_value_0 = user_secrets.get_secret(\"WANDB_API_KEY\")\n"
   ]
  },
  {
   "cell_type": "code",
   "execution_count": 53,
   "id": "492411e4",
   "metadata": {
    "execution": {
     "iopub.execute_input": "2024-06-05T18:36:35.220167Z",
     "iopub.status.busy": "2024-06-05T18:36:35.219824Z",
     "iopub.status.idle": "2024-06-05T18:36:35.224344Z",
     "shell.execute_reply": "2024-06-05T18:36:35.223500Z"
    },
    "papermill": {
     "duration": 0.07351,
     "end_time": "2024-06-05T18:36:35.226384",
     "exception": false,
     "start_time": "2024-06-05T18:36:35.152874",
     "status": "completed"
    },
    "tags": []
   },
   "outputs": [],
   "source": [
    "import os\n",
    "os.environ['WANDB_API_KEY'] =\"313a57558bcaee784e68d1654f7915a0b463a341\""
   ]
  },
  {
   "cell_type": "code",
   "execution_count": 54,
   "id": "a3062e55",
   "metadata": {
    "execution": {
     "iopub.execute_input": "2024-06-05T18:36:35.351897Z",
     "iopub.status.busy": "2024-06-05T18:36:35.351157Z",
     "iopub.status.idle": "2024-06-05T18:36:36.174597Z",
     "shell.execute_reply": "2024-06-05T18:36:36.173837Z"
    },
    "papermill": {
     "duration": 0.888191,
     "end_time": "2024-06-05T18:36:36.176760",
     "exception": false,
     "start_time": "2024-06-05T18:36:35.288569",
     "status": "completed"
    },
    "tags": []
   },
   "outputs": [],
   "source": [
    "trainer = Trainer(\n",
    "    model,\n",
    "    args,\n",
    "    train_dataset=encoded_dataset[\"train\"],\n",
    "    eval_dataset=encoded_dataset[\"validation\"],\n",
    "    tokenizer=tokenizer,\n",
    "    compute_metrics=compute_metrics,\n",
    "\n",
    ")"
   ]
  },
  {
   "cell_type": "code",
   "execution_count": 55,
   "id": "d97f5e6f",
   "metadata": {
    "execution": {
     "iopub.execute_input": "2024-06-05T18:36:36.301941Z",
     "iopub.status.busy": "2024-06-05T18:36:36.301622Z",
     "iopub.status.idle": "2024-06-05T18:54:55.643878Z",
     "shell.execute_reply": "2024-06-05T18:54:55.642925Z"
    },
    "papermill": {
     "duration": 1099.406851,
     "end_time": "2024-06-05T18:54:55.645841",
     "exception": false,
     "start_time": "2024-06-05T18:36:36.238990",
     "status": "completed"
    },
    "tags": []
   },
   "outputs": [
    {
     "name": "stderr",
     "output_type": "stream",
     "text": [
      "\u001b[34m\u001b[1mwandb\u001b[0m: \u001b[33mWARNING\u001b[0m The `run_name` is currently set to the same value as `TrainingArguments.output_dir`. If this was not intended, please specify a different run name by setting the `TrainingArguments.run_name` parameter.\n",
      "\u001b[34m\u001b[1mwandb\u001b[0m: Currently logged in as: \u001b[33manshtanwar007\u001b[0m (\u001b[33manshta\u001b[0m). Use \u001b[1m`wandb login --relogin`\u001b[0m to force relogin\n",
      "\u001b[34m\u001b[1mwandb\u001b[0m: Tracking run with wandb version 0.17.0\n",
      "\u001b[34m\u001b[1mwandb\u001b[0m: Run data is saved locally in \u001b[35m\u001b[1m/kaggle/working/wandb/run-20240605_183637-vww2c1yf\u001b[0m\n",
      "\u001b[34m\u001b[1mwandb\u001b[0m: Run \u001b[1m`wandb offline`\u001b[0m to turn off syncing.\n",
      "\u001b[34m\u001b[1mwandb\u001b[0m: Syncing run \u001b[33mbert-finetuned-sem_eval-english\u001b[0m\n",
      "\u001b[34m\u001b[1mwandb\u001b[0m: ⭐️ View project at \u001b[34m\u001b[4mhttps://wandb.ai/anshta/huggingface\u001b[0m\n",
      "\u001b[34m\u001b[1mwandb\u001b[0m: 🚀 View run at \u001b[34m\u001b[4mhttps://wandb.ai/anshta/huggingface/runs/vww2c1yf\u001b[0m\n"
     ]
    },
    {
     "data": {
      "text/html": [
       "\n",
       "    <div>\n",
       "      \n",
       "      <progress value='4845' max='4845' style='width:300px; height:20px; vertical-align: middle;'></progress>\n",
       "      [4845/4845 18:00, Epoch 15/15]\n",
       "    </div>\n",
       "    <table border=\"1\" class=\"dataframe\">\n",
       "  <thead>\n",
       " <tr style=\"text-align: left;\">\n",
       "      <th>Epoch</th>\n",
       "      <th>Training Loss</th>\n",
       "      <th>Validation Loss</th>\n",
       "      <th>F1</th>\n",
       "      <th>Roc Auc</th>\n",
       "      <th>Accuracy</th>\n",
       "    </tr>\n",
       "  </thead>\n",
       "  <tbody>\n",
       "    <tr>\n",
       "      <td>1</td>\n",
       "      <td>No log</td>\n",
       "      <td>0.141093</td>\n",
       "      <td>0.365677</td>\n",
       "      <td>0.619255</td>\n",
       "      <td>0.031464</td>\n",
       "    </tr>\n",
       "    <tr>\n",
       "      <td>2</td>\n",
       "      <td>0.169400</td>\n",
       "      <td>0.093720</td>\n",
       "      <td>0.633914</td>\n",
       "      <td>0.739812</td>\n",
       "      <td>0.262654</td>\n",
       "    </tr>\n",
       "    <tr>\n",
       "      <td>3</td>\n",
       "      <td>0.169400</td>\n",
       "      <td>0.065285</td>\n",
       "      <td>0.797222</td>\n",
       "      <td>0.844449</td>\n",
       "      <td>0.476060</td>\n",
       "    </tr>\n",
       "    <tr>\n",
       "      <td>4</td>\n",
       "      <td>0.085900</td>\n",
       "      <td>0.054030</td>\n",
       "      <td>0.842544</td>\n",
       "      <td>0.887322</td>\n",
       "      <td>0.570451</td>\n",
       "    </tr>\n",
       "    <tr>\n",
       "      <td>5</td>\n",
       "      <td>0.051000</td>\n",
       "      <td>0.048798</td>\n",
       "      <td>0.871690</td>\n",
       "      <td>0.910496</td>\n",
       "      <td>0.642955</td>\n",
       "    </tr>\n",
       "    <tr>\n",
       "      <td>6</td>\n",
       "      <td>0.051000</td>\n",
       "      <td>0.044356</td>\n",
       "      <td>0.884430</td>\n",
       "      <td>0.917742</td>\n",
       "      <td>0.689466</td>\n",
       "    </tr>\n",
       "    <tr>\n",
       "      <td>7</td>\n",
       "      <td>0.034100</td>\n",
       "      <td>0.042357</td>\n",
       "      <td>0.891026</td>\n",
       "      <td>0.932943</td>\n",
       "      <td>0.696306</td>\n",
       "    </tr>\n",
       "    <tr>\n",
       "      <td>8</td>\n",
       "      <td>0.024200</td>\n",
       "      <td>0.042177</td>\n",
       "      <td>0.896153</td>\n",
       "      <td>0.927630</td>\n",
       "      <td>0.725034</td>\n",
       "    </tr>\n",
       "    <tr>\n",
       "      <td>9</td>\n",
       "      <td>0.024200</td>\n",
       "      <td>0.042711</td>\n",
       "      <td>0.900552</td>\n",
       "      <td>0.930358</td>\n",
       "      <td>0.733242</td>\n",
       "    </tr>\n",
       "    <tr>\n",
       "      <td>10</td>\n",
       "      <td>0.017100</td>\n",
       "      <td>0.042361</td>\n",
       "      <td>0.903972</td>\n",
       "      <td>0.931681</td>\n",
       "      <td>0.746922</td>\n",
       "    </tr>\n",
       "    <tr>\n",
       "      <td>11</td>\n",
       "      <td>0.013100</td>\n",
       "      <td>0.041563</td>\n",
       "      <td>0.901528</td>\n",
       "      <td>0.931764</td>\n",
       "      <td>0.733242</td>\n",
       "    </tr>\n",
       "    <tr>\n",
       "      <td>12</td>\n",
       "      <td>0.013100</td>\n",
       "      <td>0.041484</td>\n",
       "      <td>0.905070</td>\n",
       "      <td>0.936918</td>\n",
       "      <td>0.735978</td>\n",
       "    </tr>\n",
       "    <tr>\n",
       "      <td>13</td>\n",
       "      <td>0.010600</td>\n",
       "      <td>0.042287</td>\n",
       "      <td>0.904869</td>\n",
       "      <td>0.934882</td>\n",
       "      <td>0.742818</td>\n",
       "    </tr>\n",
       "    <tr>\n",
       "      <td>14</td>\n",
       "      <td>0.009400</td>\n",
       "      <td>0.042408</td>\n",
       "      <td>0.904952</td>\n",
       "      <td>0.934212</td>\n",
       "      <td>0.744186</td>\n",
       "    </tr>\n",
       "    <tr>\n",
       "      <td>15</td>\n",
       "      <td>0.009400</td>\n",
       "      <td>0.042276</td>\n",
       "      <td>0.904370</td>\n",
       "      <td>0.934628</td>\n",
       "      <td>0.744186</td>\n",
       "    </tr>\n",
       "  </tbody>\n",
       "</table><p>"
      ],
      "text/plain": [
       "<IPython.core.display.HTML object>"
      ]
     },
     "metadata": {},
     "output_type": "display_data"
    },
    {
     "data": {
      "text/plain": [
       "TrainOutput(global_step=4845, training_loss=0.04342353882804374, metrics={'train_runtime': 1099.0056, 'train_samples_per_second': 70.468, 'train_steps_per_second': 4.409, 'total_flos': 5096583055653120.0, 'train_loss': 0.04342353882804374, 'epoch': 15.0})"
      ]
     },
     "execution_count": 55,
     "metadata": {},
     "output_type": "execute_result"
    }
   ],
   "source": [
    "trainer.train()"
   ]
  },
  {
   "cell_type": "code",
   "execution_count": 56,
   "id": "59ab1a75",
   "metadata": {
    "execution": {
     "iopub.execute_input": "2024-06-05T18:54:55.780641Z",
     "iopub.status.busy": "2024-06-05T18:54:55.779881Z",
     "iopub.status.idle": "2024-06-05T18:54:58.635946Z",
     "shell.execute_reply": "2024-06-05T18:54:58.634814Z"
    },
    "papermill": {
     "duration": 2.92475,
     "end_time": "2024-06-05T18:54:58.638051",
     "exception": false,
     "start_time": "2024-06-05T18:54:55.713301",
     "status": "completed"
    },
    "tags": []
   },
   "outputs": [
    {
     "data": {
      "text/html": [
       "\n",
       "    <div>\n",
       "      \n",
       "      <progress value='46' max='46' style='width:300px; height:20px; vertical-align: middle;'></progress>\n",
       "      [46/46 00:02]\n",
       "    </div>\n",
       "    "
      ],
      "text/plain": [
       "<IPython.core.display.HTML object>"
      ]
     },
     "metadata": {},
     "output_type": "display_data"
    },
    {
     "data": {
      "text/plain": [
       "{'eval_loss': 0.04148435965180397,\n",
       " 'eval_f1': 0.9050695825049702,\n",
       " 'eval_roc_auc': 0.9369184159888011,\n",
       " 'eval_accuracy': 0.7359781121751026,\n",
       " 'eval_runtime': 2.8438,\n",
       " 'eval_samples_per_second': 257.054,\n",
       " 'eval_steps_per_second': 16.176,\n",
       " 'epoch': 15.0}"
      ]
     },
     "execution_count": 56,
     "metadata": {},
     "output_type": "execute_result"
    }
   ],
   "source": [
    "trainer.evaluate()"
   ]
  },
  {
   "cell_type": "markdown",
   "id": "8b8845af",
   "metadata": {
    "papermill": {
     "duration": 0.06487,
     "end_time": "2024-06-05T18:54:58.767673",
     "exception": false,
     "start_time": "2024-06-05T18:54:58.702803",
     "status": "completed"
    },
    "tags": []
   },
   "source": [
    "# Inference\n",
    "add Codeadd Markdown\n",
    "The logits that come out of the model are of shape (batch_size, num_labels). As we are only forwarding a single sentence through the model, the batch_size equals 1.\n",
    "\n",
    "The logits is a tensor that contains the (unnormalized) scores for every individual label.\n",
    "\n",
    "The logits that come out of the model are of shape (batch_size, num_labels). As we are only forwarding a single sentence through the model, the batch_size equals 1.\n",
    "\n",
    "The logits is a tensor that contains the (unnormalized) scores for every individual label."
   ]
  },
  {
   "cell_type": "code",
   "execution_count": 57,
   "id": "0022dabb",
   "metadata": {
    "execution": {
     "iopub.execute_input": "2024-06-05T18:54:58.898232Z",
     "iopub.status.busy": "2024-06-05T18:54:58.897872Z",
     "iopub.status.idle": "2024-06-05T18:54:58.905357Z",
     "shell.execute_reply": "2024-06-05T18:54:58.904511Z"
    },
    "papermill": {
     "duration": 0.075757,
     "end_time": "2024-06-05T18:54:58.907378",
     "exception": false,
     "start_time": "2024-06-05T18:54:58.831621",
     "status": "completed"
    },
    "tags": []
   },
   "outputs": [],
   "source": [
    "def get_answer(text):\n",
    "    \n",
    "    encoding = tokenizer(text, return_tensors=\"pt\")\n",
    "    encoding = {k: v.to(trainer.model.device) for k,v in encoding.items()}\n",
    "    outputs = trainer.model(**encoding)\n",
    "    logits = outputs.logits\n",
    "    #print(logits.shape)\n",
    "    \n",
    "    # apply sigmoid + threshold\n",
    "    sigmoid = torch.nn.Sigmoid()\n",
    "    probs = sigmoid(logits.squeeze().cpu())\n",
    "    #print(probs)\n",
    "    predictions = np.zeros(probs.shape)\n",
    "    predictions[np.where(probs >= 0.3)] = 1\n",
    "    #print(predictions)\n",
    "    #predicted_labels = [id2label[idx] for idx, label in enumerate(predictions) if label == 1.0]\n",
    "    predicted_labels = {id2label[idx]: prob.item() for idx, prob in enumerate(probs) if predictions[idx] == 1}\n",
    "    \n",
    "    print()\n",
    "    return predicted_labels\n"
   ]
  },
  {
   "cell_type": "code",
   "execution_count": 58,
   "id": "980ee138",
   "metadata": {
    "execution": {
     "iopub.execute_input": "2024-06-05T18:54:59.043034Z",
     "iopub.status.busy": "2024-06-05T18:54:59.042658Z",
     "iopub.status.idle": "2024-06-05T18:54:59.092004Z",
     "shell.execute_reply": "2024-06-05T18:54:59.091068Z"
    },
    "papermill": {
     "duration": 0.119178,
     "end_time": "2024-06-05T18:54:59.094226",
     "exception": false,
     "start_time": "2024-06-05T18:54:58.975048",
     "status": "completed"
    },
    "tags": []
   },
   "outputs": [
    {
     "name": "stdout",
     "output_type": "stream",
     "text": [
      "\n"
     ]
    },
    {
     "data": {
      "text/plain": [
       "{'cft': 0.9782270193099976,\n",
       " 'aml': 0.9949992895126343,\n",
       " 'license': 0.9803192019462585,\n",
       " 'virtual assets': 0.9688255786895752}"
      ]
     },
     "execution_count": 58,
     "metadata": {},
     "output_type": "execute_result"
    }
   ],
   "source": [
    "text = \"The new licensing regime for centralised virtual asset trading platforms under the Anti-MoneyLaundering and Counter-Terrorist Financing Ordinance (Cap. 615) (AMLO) will come intoeffect on 1 June 2023. Under the new regime, centralised virtual asset trading platformsoperating in Hong Kong will need to apply to the Securities and Futures Commission (SFC)for a licence under the Securities and Futures Ordinance (Cap 571) (SFO) and/or the AMLO(Dual Licence Arrangement)\"\n",
    "get_answer(text)"
   ]
  },
  {
   "cell_type": "code",
   "execution_count": 59,
   "id": "360b7035",
   "metadata": {
    "execution": {
     "iopub.execute_input": "2024-06-05T18:54:59.225397Z",
     "iopub.status.busy": "2024-06-05T18:54:59.225048Z",
     "iopub.status.idle": "2024-06-05T18:54:59.231507Z",
     "shell.execute_reply": "2024-06-05T18:54:59.230603Z"
    },
    "papermill": {
     "duration": 0.074055,
     "end_time": "2024-06-05T18:54:59.233427",
     "exception": false,
     "start_time": "2024-06-05T18:54:59.159372",
     "status": "completed"
    },
    "tags": []
   },
   "outputs": [
    {
     "data": {
      "text/plain": [
       "(10, 2)"
      ]
     },
     "execution_count": 59,
     "metadata": {},
     "output_type": "execute_result"
    }
   ],
   "source": [
    "testing_df.shape"
   ]
  },
  {
   "cell_type": "code",
   "execution_count": 60,
   "id": "7e8bbe1e",
   "metadata": {
    "execution": {
     "iopub.execute_input": "2024-06-05T18:54:59.368113Z",
     "iopub.status.busy": "2024-06-05T18:54:59.367774Z",
     "iopub.status.idle": "2024-06-05T18:54:59.508199Z",
     "shell.execute_reply": "2024-06-05T18:54:59.507211Z"
    },
    "papermill": {
     "duration": 0.210801,
     "end_time": "2024-06-05T18:54:59.510817",
     "exception": false,
     "start_time": "2024-06-05T18:54:59.300016",
     "status": "completed"
    },
    "tags": []
   },
   "outputs": [
    {
     "name": "stdout",
     "output_type": "stream",
     "text": [
      "\n",
      "for the purpose of matters reportable by auditors under sections 53zsd4ai and 53zsd4bi of the amlo such matters are \n",
      "\n",
      "Predicted Labels: {'audit': 0.9275513887405396, 'aml': 0.986729085445404, 'reporting': 0.8891215920448303}\n",
      "Actual Labels: []\n",
      "________________________________________________________________________________\n",
      "\n",
      "it may be used for storing the value of an amount of money that i is paid into the facility from time to time and ii may be stored on the facility under the rules of the facility and \n",
      "\n",
      "Predicted Labels: {'rules': 0.9838070869445801}\n",
      "Actual Labels: []\n",
      "________________________________________________________________________________\n",
      "\n",
      "while an fi usually can identify who the beneficial owner of a customer is in the course of understanding the ownership and control structure of the customer the fi may obtain an undertaking or declarationfn28 from the customer on the identity of and the information relating to its beneficial owner when identifying a beneficial owner the fi should \n",
      "\n",
      "Predicted Labels: {'beneficiary information': 0.953173816204071, 'client': 0.9826430082321167, 'identity': 0.9508659839630127}\n",
      "Actual Labels: []\n",
      "________________________________________________________________________________\n",
      "\n",
      "procedures to handle these requests in an effective and timely manner including allocation of sufficient resources an fi should appoint a staff member as the main point of contact with law enforcement agencies \n",
      "\n",
      "Predicted Labels: {'compliance': 0.8773600459098816, 'regulator': 0.9499173760414124, 'virtual assets': 0.3356863856315613}\n",
      "Actual Labels: []\n",
      "________________________________________________________________________________\n",
      "\n",
      "chapter 6 of the aml rules requires relevant persons to take appropriate steps to identify and assess the ml risks to which their businesses are exposed taking into consideration the nature size and complexity of their activities when identifying and assessing these risks several factors should be considered including an assessment of the use of new technologies importantly in the context of virtual assets fatf recommendation 15 states that countries and financial institutions should identify and assess the money laundering or terrorist financing risks that may arise in relation to a the development of new products and new business practices including new delivery mechanisms and b the use of new or developing technologies for both new and preexisting products in the case of financial institutions such a risk assessment should take place prior to the launch of the new products business practices or the use of new or developing technologies they should take appropriate measures to manage and mitigate those risks \n",
      "\n",
      "Predicted Labels: {'cft': 0.8627782464027405, 'aml': 0.973717451095581, 'rules': 0.3101891279220581, 'risks': 0.9997391104698181, 'risk assessment': 0.376020222902298, 'person': 0.9098803400993347, 'virtual assets': 0.9594011902809143}\n",
      "Actual Labels: []\n",
      "________________________________________________________________________________\n",
      "\n",
      "has measures in place to ensure compliance with requirements similar to those imposed under schedule 2 and \n",
      "\n",
      "Predicted Labels: {'compliance': 0.9944372177124023, 'requirements': 0.935801088809967}\n",
      "Actual Labels: []\n",
      "________________________________________________________________________________\n",
      "\n",
      "full name \n",
      "\n",
      "Predicted Labels: {'compliance': 0.9904679656028748, 'regulator': 0.9972288012504578, 'virtual assets': 0.9945465326309204}\n",
      "Actual Labels: []\n",
      "________________________________________________________________________________\n",
      "\n",
      "a reconcile the individual credit ledger balances client account cash book balances and the thirdparty bank client account balances \n",
      "\n",
      "Predicted Labels: {'client': 0.9983574748039246}\n",
      "Actual Labels: []\n",
      "________________________________________________________________________________\n",
      "\n",
      "c communicating the details of such interpretation waiver modification or adaptation specifically to any vasps or entities to which it applies \n",
      "\n",
      "Predicted Labels: {'vasps': 0.8260487914085388, 'vasp': 0.9908227920532227, 'entities': 0.9209962487220764}\n",
      "Actual Labels: []\n",
      "________________________________________________________________________________\n",
      "\n",
      "uptodate data encryption and secure transfer technology in accordance with industry best practices and international standards to protect the confidentiality and integrity and assure source authenticity of information stored on the platform and during transmission between internal and external networks in particular the platform operator should use a strong encryption algorithm to i encrypt sensitive information such as client login credentials ie user id and password and trade data during transmission between internal networks and client devices ii protect client login passwords stored on the platform iii protect critical data transferred between components of the platform operator s system infrastructure and iv protect the backup copies of the platform s critical data \n",
      "\n",
      "Predicted Labels: {'operator': 0.953073263168335, 'transfer': 0.9871202111244202, 'client': 0.9964388608932495}\n",
      "Actual Labels: []\n",
      "________________________________________________________________________________\n"
     ]
    }
   ],
   "source": [
    "for index, row in testing_df.iterrows():\n",
    "\n",
    "    text = row['Content']\n",
    "    predictions = get_answer(text)\n",
    "    actual_labels = testing_df.columns[1:][row[1:] == 1].tolist()\n",
    "    \n",
    "    print(text,'\\n')    \n",
    "    print(f\"Predicted Labels: {predictions}\")\n",
    "    print(f\"Actual Labels: {actual_labels}\")\n",
    "    print(\"________________________________________________________________________________\")"
   ]
  },
  {
   "cell_type": "markdown",
   "id": "36839dba",
   "metadata": {
    "papermill": {
     "duration": 0.066216,
     "end_time": "2024-06-05T18:54:59.643718",
     "exception": false,
     "start_time": "2024-06-05T18:54:59.577502",
     "status": "completed"
    },
    "tags": []
   },
   "source": [
    "# Probability"
   ]
  },
  {
   "cell_type": "code",
   "execution_count": 61,
   "id": "bd67bcb8",
   "metadata": {
    "execution": {
     "iopub.execute_input": "2024-06-05T18:54:59.778534Z",
     "iopub.status.busy": "2024-06-05T18:54:59.778148Z",
     "iopub.status.idle": "2024-06-05T18:54:59.782135Z",
     "shell.execute_reply": "2024-06-05T18:54:59.781307Z"
    },
    "papermill": {
     "duration": 0.073645,
     "end_time": "2024-06-05T18:54:59.784073",
     "exception": false,
     "start_time": "2024-06-05T18:54:59.710428",
     "status": "completed"
    },
    "tags": []
   },
   "outputs": [],
   "source": [
    "# outputs = trainer.model(**encoding)\n",
    "# logits = outputs.logits\n",
    "# logits.shape"
   ]
  },
  {
   "cell_type": "markdown",
   "id": "c89e94df",
   "metadata": {
    "papermill": {
     "duration": 0.065625,
     "end_time": "2024-06-05T18:54:59.915680",
     "exception": false,
     "start_time": "2024-06-05T18:54:59.850055",
     "status": "completed"
    },
    "tags": []
   },
   "source": [
    "The logits that come out of the model are of shape (batch_size, num_labels). As we are only forwarding a single sentence through the model, the batch_size equals 1.\n",
    "\n",
    "The logits is a tensor that contains the (unnormalized) scores for every individual label\n",
    "\n",
    "To turn them into actual predicted labels, we first apply a sigmoid function independently to every score, such that every score is turned into a number between 0 and 1, that can be interpreted as a \"probability\" for how certain the model is that a given class belongs to the input text.\n",
    "\n",
    "Next, we use a threshold (typically, 0.5) to turn every probability into either a 1 (which means, we predict the label for the given example) or a 0 (which means, we don't predict the label for the given example)"
   ]
  },
  {
   "cell_type": "code",
   "execution_count": 62,
   "id": "5197cd81",
   "metadata": {
    "execution": {
     "iopub.execute_input": "2024-06-05T18:55:00.048020Z",
     "iopub.status.busy": "2024-06-05T18:55:00.047578Z",
     "iopub.status.idle": "2024-06-05T18:55:00.051924Z",
     "shell.execute_reply": "2024-06-05T18:55:00.051055Z"
    },
    "papermill": {
     "duration": 0.072182,
     "end_time": "2024-06-05T18:55:00.053823",
     "exception": false,
     "start_time": "2024-06-05T18:54:59.981641",
     "status": "completed"
    },
    "tags": []
   },
   "outputs": [],
   "source": [
    "# # apply sigmoid + threshold\n",
    "# sigmoid = torch.nn.Sigmoid()\n",
    "# probs = sigmoid(logits.squeeze().cpu())\n",
    "# predictions = np.zeros(probs.shape)\n",
    "# predictions[np.where(probs >= 0.5)] = 1\n",
    "# # turn predicted id's into actual label names\n",
    "# predicted_labels = [id2label[idx] for idx, label in enumerate(predictions) if label == 1.0]\n",
    "# print(predicted_labels)"
   ]
  },
  {
   "cell_type": "code",
   "execution_count": null,
   "id": "ae220d6a",
   "metadata": {
    "papermill": {
     "duration": 0.064781,
     "end_time": "2024-06-05T18:55:00.183310",
     "exception": false,
     "start_time": "2024-06-05T18:55:00.118529",
     "status": "completed"
    },
    "tags": []
   },
   "outputs": [],
   "source": []
  }
 ],
 "metadata": {
  "kaggle": {
   "accelerator": "gpu",
   "dataSources": [
    {
     "datasetId": 5092991,
     "sourceId": 8600001,
     "sourceType": "datasetVersion"
    }
   ],
   "dockerImageVersionId": 30715,
   "isGpuEnabled": true,
   "isInternetEnabled": true,
   "language": "python",
   "sourceType": "notebook"
  },
  "kernelspec": {
   "display_name": "Python 3",
   "language": "python",
   "name": "python3"
  },
  "language_info": {
   "codemirror_mode": {
    "name": "ipython",
    "version": 3
   },
   "file_extension": ".py",
   "mimetype": "text/x-python",
   "name": "python",
   "nbconvert_exporter": "python",
   "pygments_lexer": "ipython3",
   "version": "3.10.13"
  },
  "papermill": {
   "default_parameters": {},
   "duration": 1255.450523,
   "end_time": "2024-06-05T18:55:02.974404",
   "environment_variables": {},
   "exception": null,
   "input_path": "__notebook__.ipynb",
   "output_path": "__notebook__.ipynb",
   "parameters": {},
   "start_time": "2024-06-05T18:34:07.523881",
   "version": "2.5.0"
  },
  "widgets": {
   "application/vnd.jupyter.widget-state+json": {
    "state": {
     "03b203aea1d74c5599f89e3754e6085a": {
      "model_module": "@jupyter-widgets/controls",
      "model_module_version": "1.5.0",
      "model_name": "DescriptionStyleModel",
      "state": {
       "_model_module": "@jupyter-widgets/controls",
       "_model_module_version": "1.5.0",
       "_model_name": "DescriptionStyleModel",
       "_view_count": null,
       "_view_module": "@jupyter-widgets/base",
       "_view_module_version": "1.2.0",
       "_view_name": "StyleView",
       "description_width": ""
      }
     },
     "0585a78a9ce34b61be2f2c8df79e64ac": {
      "model_module": "@jupyter-widgets/controls",
      "model_module_version": "1.5.0",
      "model_name": "HTMLModel",
      "state": {
       "_dom_classes": [],
       "_model_module": "@jupyter-widgets/controls",
       "_model_module_version": "1.5.0",
       "_model_name": "HTMLModel",
       "_view_count": null,
       "_view_module": "@jupyter-widgets/controls",
       "_view_module_version": "1.5.0",
       "_view_name": "HTMLView",
       "description": "",
       "description_tooltip": null,
       "layout": "IPY_MODEL_734db50424154c1ea01e2c9dfc2de725",
       "placeholder": "​",
       "style": "IPY_MODEL_77832f45b7554e588317b8c90cda1494",
       "value": "special_tokens_map.json: 100%"
      }
     },
     "097e9a28bab5494eac50512abdc8e765": {
      "model_module": "@jupyter-widgets/controls",
      "model_module_version": "1.5.0",
      "model_name": "HTMLModel",
      "state": {
       "_dom_classes": [],
       "_model_module": "@jupyter-widgets/controls",
       "_model_module_version": "1.5.0",
       "_model_name": "HTMLModel",
       "_view_count": null,
       "_view_module": "@jupyter-widgets/controls",
       "_view_module_version": "1.5.0",
       "_view_name": "HTMLView",
       "description": "",
       "description_tooltip": null,
       "layout": "IPY_MODEL_af5674ffa4ed4d8b9ac4cc4657d84787",
       "placeholder": "​",
       "style": "IPY_MODEL_9e52244464c440e2b018b7c1b3ec036d",
       "value": "vocab.txt: 100%"
      }
     },
     "0b9a320b4caa42feb8a9faa93687e8d5": {
      "model_module": "@jupyter-widgets/controls",
      "model_module_version": "1.5.0",
      "model_name": "HBoxModel",
      "state": {
       "_dom_classes": [],
       "_model_module": "@jupyter-widgets/controls",
       "_model_module_version": "1.5.0",
       "_model_name": "HBoxModel",
       "_view_count": null,
       "_view_module": "@jupyter-widgets/controls",
       "_view_module_version": "1.5.0",
       "_view_name": "HBoxView",
       "box_style": "",
       "children": [
        "IPY_MODEL_39b79c47791b41ac8b99c293d7ab41ba",
        "IPY_MODEL_4f7e7c33fe0a47adb76a5b132bb123d0",
        "IPY_MODEL_425230658afe401c82d3e0362b35ebb9"
       ],
       "layout": "IPY_MODEL_aca2de29104c432d8134776e002d56cf"
      }
     },
     "0c38897f7be444c0a7687d5e6dedb634": {
      "model_module": "@jupyter-widgets/controls",
      "model_module_version": "1.5.0",
      "model_name": "ProgressStyleModel",
      "state": {
       "_model_module": "@jupyter-widgets/controls",
       "_model_module_version": "1.5.0",
       "_model_name": "ProgressStyleModel",
       "_view_count": null,
       "_view_module": "@jupyter-widgets/base",
       "_view_module_version": "1.2.0",
       "_view_name": "StyleView",
       "bar_color": null,
       "description_width": ""
      }
     },
     "0c6e91f58c3b48c8b61d3f41cfc9d94c": {
      "model_module": "@jupyter-widgets/controls",
      "model_module_version": "1.5.0",
      "model_name": "HTMLModel",
      "state": {
       "_dom_classes": [],
       "_model_module": "@jupyter-widgets/controls",
       "_model_module_version": "1.5.0",
       "_model_name": "HTMLModel",
       "_view_count": null,
       "_view_module": "@jupyter-widgets/controls",
       "_view_module_version": "1.5.0",
       "_view_name": "HTMLView",
       "description": "",
       "description_tooltip": null,
       "layout": "IPY_MODEL_9691eee9365f4c0a94bcd201d684e49e",
       "placeholder": "​",
       "style": "IPY_MODEL_8d760d18ba3748e6a788253f7899473f",
       "value": " 252/252 [00:00&lt;00:00, 20.6kB/s]"
      }
     },
     "13427bcd970b4e4a8431619b61f363e0": {
      "model_module": "@jupyter-widgets/base",
      "model_module_version": "1.2.0",
      "model_name": "LayoutModel",
      "state": {
       "_model_module": "@jupyter-widgets/base",
       "_model_module_version": "1.2.0",
       "_model_name": "LayoutModel",
       "_view_count": null,
       "_view_module": "@jupyter-widgets/base",
       "_view_module_version": "1.2.0",
       "_view_name": "LayoutView",
       "align_content": null,
       "align_items": null,
       "align_self": null,
       "border": null,
       "bottom": null,
       "display": null,
       "flex": null,
       "flex_flow": null,
       "grid_area": null,
       "grid_auto_columns": null,
       "grid_auto_flow": null,
       "grid_auto_rows": null,
       "grid_column": null,
       "grid_gap": null,
       "grid_row": null,
       "grid_template_areas": null,
       "grid_template_columns": null,
       "grid_template_rows": null,
       "height": null,
       "justify_content": null,
       "justify_items": null,
       "left": null,
       "margin": null,
       "max_height": null,
       "max_width": null,
       "min_height": null,
       "min_width": null,
       "object_fit": null,
       "object_position": null,
       "order": null,
       "overflow": null,
       "overflow_x": null,
       "overflow_y": null,
       "padding": null,
       "right": null,
       "top": null,
       "visibility": null,
       "width": null
      }
     },
     "16b21fbd7ef44902988ac0ef44c04fe2": {
      "model_module": "@jupyter-widgets/base",
      "model_module_version": "1.2.0",
      "model_name": "LayoutModel",
      "state": {
       "_model_module": "@jupyter-widgets/base",
       "_model_module_version": "1.2.0",
       "_model_name": "LayoutModel",
       "_view_count": null,
       "_view_module": "@jupyter-widgets/base",
       "_view_module_version": "1.2.0",
       "_view_name": "LayoutView",
       "align_content": null,
       "align_items": null,
       "align_self": null,
       "border": null,
       "bottom": null,
       "display": null,
       "flex": null,
       "flex_flow": null,
       "grid_area": null,
       "grid_auto_columns": null,
       "grid_auto_flow": null,
       "grid_auto_rows": null,
       "grid_column": null,
       "grid_gap": null,
       "grid_row": null,
       "grid_template_areas": null,
       "grid_template_columns": null,
       "grid_template_rows": null,
       "height": null,
       "justify_content": null,
       "justify_items": null,
       "left": null,
       "margin": null,
       "max_height": null,
       "max_width": null,
       "min_height": null,
       "min_width": null,
       "object_fit": null,
       "object_position": null,
       "order": null,
       "overflow": null,
       "overflow_x": null,
       "overflow_y": null,
       "padding": null,
       "right": null,
       "top": null,
       "visibility": null,
       "width": null
      }
     },
     "172a4d7973924e7e90684411786fe43e": {
      "model_module": "@jupyter-widgets/controls",
      "model_module_version": "1.5.0",
      "model_name": "ProgressStyleModel",
      "state": {
       "_model_module": "@jupyter-widgets/controls",
       "_model_module_version": "1.5.0",
       "_model_name": "ProgressStyleModel",
       "_view_count": null,
       "_view_module": "@jupyter-widgets/base",
       "_view_module_version": "1.2.0",
       "_view_name": "StyleView",
       "bar_color": null,
       "description_width": ""
      }
     },
     "1834e6a9cab64964b776c55c5deaef88": {
      "model_module": "@jupyter-widgets/controls",
      "model_module_version": "1.5.0",
      "model_name": "FloatProgressModel",
      "state": {
       "_dom_classes": [],
       "_model_module": "@jupyter-widgets/controls",
       "_model_module_version": "1.5.0",
       "_model_name": "FloatProgressModel",
       "_view_count": null,
       "_view_module": "@jupyter-widgets/controls",
       "_view_module_version": "1.5.0",
       "_view_name": "ProgressView",
       "bar_style": "success",
       "description": "",
       "description_tooltip": null,
       "layout": "IPY_MODEL_936d6b91c47e4586addc824025158567",
       "max": 252.0,
       "min": 0.0,
       "orientation": "horizontal",
       "style": "IPY_MODEL_3813d523016c49029709630adf7507dc",
       "value": 252.0
      }
     },
     "1af2acd4980b49a1b272320cf725db66": {
      "model_module": "@jupyter-widgets/controls",
      "model_module_version": "1.5.0",
      "model_name": "HTMLModel",
      "state": {
       "_dom_classes": [],
       "_model_module": "@jupyter-widgets/controls",
       "_model_module_version": "1.5.0",
       "_model_name": "HTMLModel",
       "_view_count": null,
       "_view_module": "@jupyter-widgets/controls",
       "_view_module_version": "1.5.0",
       "_view_name": "HTMLView",
       "description": "",
       "description_tooltip": null,
       "layout": "IPY_MODEL_b9cda4b95f99460e84ebaf45b99cacdf",
       "placeholder": "​",
       "style": "IPY_MODEL_1c73052c90864899bd20f1cc20b3d1be",
       "value": "pytorch_model.bin: 100%"
      }
     },
     "1b2bc62370b149b381e089b0241be385": {
      "model_module": "@jupyter-widgets/base",
      "model_module_version": "1.2.0",
      "model_name": "LayoutModel",
      "state": {
       "_model_module": "@jupyter-widgets/base",
       "_model_module_version": "1.2.0",
       "_model_name": "LayoutModel",
       "_view_count": null,
       "_view_module": "@jupyter-widgets/base",
       "_view_module_version": "1.2.0",
       "_view_name": "LayoutView",
       "align_content": null,
       "align_items": null,
       "align_self": null,
       "border": null,
       "bottom": null,
       "display": null,
       "flex": null,
       "flex_flow": null,
       "grid_area": null,
       "grid_auto_columns": null,
       "grid_auto_flow": null,
       "grid_auto_rows": null,
       "grid_column": null,
       "grid_gap": null,
       "grid_row": null,
       "grid_template_areas": null,
       "grid_template_columns": null,
       "grid_template_rows": null,
       "height": null,
       "justify_content": null,
       "justify_items": null,
       "left": null,
       "margin": null,
       "max_height": null,
       "max_width": null,
       "min_height": null,
       "min_width": null,
       "object_fit": null,
       "object_position": null,
       "order": null,
       "overflow": null,
       "overflow_x": null,
       "overflow_y": null,
       "padding": null,
       "right": null,
       "top": null,
       "visibility": null,
       "width": null
      }
     },
     "1c73052c90864899bd20f1cc20b3d1be": {
      "model_module": "@jupyter-widgets/controls",
      "model_module_version": "1.5.0",
      "model_name": "DescriptionStyleModel",
      "state": {
       "_model_module": "@jupyter-widgets/controls",
       "_model_module_version": "1.5.0",
       "_model_name": "DescriptionStyleModel",
       "_view_count": null,
       "_view_module": "@jupyter-widgets/base",
       "_view_module_version": "1.2.0",
       "_view_name": "StyleView",
       "description_width": ""
      }
     },
     "251b6326084a43b5a2de95bb4a808d3a": {
      "model_module": "@jupyter-widgets/base",
      "model_module_version": "1.2.0",
      "model_name": "LayoutModel",
      "state": {
       "_model_module": "@jupyter-widgets/base",
       "_model_module_version": "1.2.0",
       "_model_name": "LayoutModel",
       "_view_count": null,
       "_view_module": "@jupyter-widgets/base",
       "_view_module_version": "1.2.0",
       "_view_name": "LayoutView",
       "align_content": null,
       "align_items": null,
       "align_self": null,
       "border": null,
       "bottom": null,
       "display": null,
       "flex": null,
       "flex_flow": null,
       "grid_area": null,
       "grid_auto_columns": null,
       "grid_auto_flow": null,
       "grid_auto_rows": null,
       "grid_column": null,
       "grid_gap": null,
       "grid_row": null,
       "grid_template_areas": null,
       "grid_template_columns": null,
       "grid_template_rows": null,
       "height": null,
       "justify_content": null,
       "justify_items": null,
       "left": null,
       "margin": null,
       "max_height": null,
       "max_width": null,
       "min_height": null,
       "min_width": null,
       "object_fit": null,
       "object_position": null,
       "order": null,
       "overflow": null,
       "overflow_x": null,
       "overflow_y": null,
       "padding": null,
       "right": null,
       "top": null,
       "visibility": null,
       "width": null
      }
     },
     "279a494d6aa846bcba5852632cf58a71": {
      "model_module": "@jupyter-widgets/base",
      "model_module_version": "1.2.0",
      "model_name": "LayoutModel",
      "state": {
       "_model_module": "@jupyter-widgets/base",
       "_model_module_version": "1.2.0",
       "_model_name": "LayoutModel",
       "_view_count": null,
       "_view_module": "@jupyter-widgets/base",
       "_view_module_version": "1.2.0",
       "_view_name": "LayoutView",
       "align_content": null,
       "align_items": null,
       "align_self": null,
       "border": null,
       "bottom": null,
       "display": null,
       "flex": null,
       "flex_flow": null,
       "grid_area": null,
       "grid_auto_columns": null,
       "grid_auto_flow": null,
       "grid_auto_rows": null,
       "grid_column": null,
       "grid_gap": null,
       "grid_row": null,
       "grid_template_areas": null,
       "grid_template_columns": null,
       "grid_template_rows": null,
       "height": null,
       "justify_content": null,
       "justify_items": null,
       "left": null,
       "margin": null,
       "max_height": null,
       "max_width": null,
       "min_height": null,
       "min_width": null,
       "object_fit": null,
       "object_position": null,
       "order": null,
       "overflow": null,
       "overflow_x": null,
       "overflow_y": null,
       "padding": null,
       "right": null,
       "top": null,
       "visibility": null,
       "width": null
      }
     },
     "28e9380ffe2b4cceb48d9ab28a9d5412": {
      "model_module": "@jupyter-widgets/controls",
      "model_module_version": "1.5.0",
      "model_name": "FloatProgressModel",
      "state": {
       "_dom_classes": [],
       "_model_module": "@jupyter-widgets/controls",
       "_model_module_version": "1.5.0",
       "_model_name": "FloatProgressModel",
       "_view_count": null,
       "_view_module": "@jupyter-widgets/controls",
       "_view_module_version": "1.5.0",
       "_view_name": "ProgressView",
       "bar_style": "success",
       "description": "",
       "description_tooltip": null,
       "layout": "IPY_MODEL_4b994af71f5042ab98f2c4deb537f7d7",
       "max": 231508.0,
       "min": 0.0,
       "orientation": "horizontal",
       "style": "IPY_MODEL_172a4d7973924e7e90684411786fe43e",
       "value": 231508.0
      }
     },
     "2cc958fbe7104de9af50a8de658a30b4": {
      "model_module": "@jupyter-widgets/controls",
      "model_module_version": "1.5.0",
      "model_name": "DescriptionStyleModel",
      "state": {
       "_model_module": "@jupyter-widgets/controls",
       "_model_module_version": "1.5.0",
       "_model_name": "DescriptionStyleModel",
       "_view_count": null,
       "_view_module": "@jupyter-widgets/base",
       "_view_module_version": "1.2.0",
       "_view_name": "StyleView",
       "description_width": ""
      }
     },
     "2d1d00b65f90419a9bcc5213cbf165d7": {
      "model_module": "@jupyter-widgets/controls",
      "model_module_version": "1.5.0",
      "model_name": "FloatProgressModel",
      "state": {
       "_dom_classes": [],
       "_model_module": "@jupyter-widgets/controls",
       "_model_module_version": "1.5.0",
       "_model_name": "FloatProgressModel",
       "_view_count": null,
       "_view_module": "@jupyter-widgets/controls",
       "_view_module_version": "1.5.0",
       "_view_name": "ProgressView",
       "bar_style": "success",
       "description": "",
       "description_tooltip": null,
       "layout": "IPY_MODEL_fd9647ba2596429ea4b80d465ba2ff45",
       "max": 731.0,
       "min": 0.0,
       "orientation": "horizontal",
       "style": "IPY_MODEL_0c38897f7be444c0a7687d5e6dedb634",
       "value": 731.0
      }
     },
     "3082d3e4e4b04cc586c1c279a417a0d8": {
      "model_module": "@jupyter-widgets/controls",
      "model_module_version": "1.5.0",
      "model_name": "HTMLModel",
      "state": {
       "_dom_classes": [],
       "_model_module": "@jupyter-widgets/controls",
       "_model_module_version": "1.5.0",
       "_model_name": "HTMLModel",
       "_view_count": null,
       "_view_module": "@jupyter-widgets/controls",
       "_view_module_version": "1.5.0",
       "_view_name": "HTMLView",
       "description": "",
       "description_tooltip": null,
       "layout": "IPY_MODEL_f9b448a6424e45d1950ea588795cf97f",
       "placeholder": "​",
       "style": "IPY_MODEL_e9d18d6b2e1f47cd8cbbafa2ff78e746",
       "value": "config.json: 100%"
      }
     },
     "3083f9a6218a47c5b29e8e7e675ec588": {
      "model_module": "@jupyter-widgets/controls",
      "model_module_version": "1.5.0",
      "model_name": "HTMLModel",
      "state": {
       "_dom_classes": [],
       "_model_module": "@jupyter-widgets/controls",
       "_model_module_version": "1.5.0",
       "_model_name": "HTMLModel",
       "_view_count": null,
       "_view_module": "@jupyter-widgets/controls",
       "_view_module_version": "1.5.0",
       "_view_name": "HTMLView",
       "description": "",
       "description_tooltip": null,
       "layout": "IPY_MODEL_e5efb23424684d7a9a5262e5e503d5dc",
       "placeholder": "​",
       "style": "IPY_MODEL_dca6e955a7fa411bb71fe5488a7d08b3",
       "value": "Map: 100%"
      }
     },
     "31a2c099f1fd4e7cb9994c06722f78e8": {
      "model_module": "@jupyter-widgets/controls",
      "model_module_version": "1.5.0",
      "model_name": "ProgressStyleModel",
      "state": {
       "_model_module": "@jupyter-widgets/controls",
       "_model_module_version": "1.5.0",
       "_model_name": "ProgressStyleModel",
       "_view_count": null,
       "_view_module": "@jupyter-widgets/base",
       "_view_module_version": "1.2.0",
       "_view_name": "StyleView",
       "bar_color": null,
       "description_width": ""
      }
     },
     "35aed58641274dc99864c3c42fef4eac": {
      "model_module": "@jupyter-widgets/base",
      "model_module_version": "1.2.0",
      "model_name": "LayoutModel",
      "state": {
       "_model_module": "@jupyter-widgets/base",
       "_model_module_version": "1.2.0",
       "_model_name": "LayoutModel",
       "_view_count": null,
       "_view_module": "@jupyter-widgets/base",
       "_view_module_version": "1.2.0",
       "_view_name": "LayoutView",
       "align_content": null,
       "align_items": null,
       "align_self": null,
       "border": null,
       "bottom": null,
       "display": null,
       "flex": null,
       "flex_flow": null,
       "grid_area": null,
       "grid_auto_columns": null,
       "grid_auto_flow": null,
       "grid_auto_rows": null,
       "grid_column": null,
       "grid_gap": null,
       "grid_row": null,
       "grid_template_areas": null,
       "grid_template_columns": null,
       "grid_template_rows": null,
       "height": null,
       "justify_content": null,
       "justify_items": null,
       "left": null,
       "margin": null,
       "max_height": null,
       "max_width": null,
       "min_height": null,
       "min_width": null,
       "object_fit": null,
       "object_position": null,
       "order": null,
       "overflow": null,
       "overflow_x": null,
       "overflow_y": null,
       "padding": null,
       "right": null,
       "top": null,
       "visibility": null,
       "width": null
      }
     },
     "3813d523016c49029709630adf7507dc": {
      "model_module": "@jupyter-widgets/controls",
      "model_module_version": "1.5.0",
      "model_name": "ProgressStyleModel",
      "state": {
       "_model_module": "@jupyter-widgets/controls",
       "_model_module_version": "1.5.0",
       "_model_name": "ProgressStyleModel",
       "_view_count": null,
       "_view_module": "@jupyter-widgets/base",
       "_view_module_version": "1.2.0",
       "_view_name": "StyleView",
       "bar_color": null,
       "description_width": ""
      }
     },
     "39b79c47791b41ac8b99c293d7ab41ba": {
      "model_module": "@jupyter-widgets/controls",
      "model_module_version": "1.5.0",
      "model_name": "HTMLModel",
      "state": {
       "_dom_classes": [],
       "_model_module": "@jupyter-widgets/controls",
       "_model_module_version": "1.5.0",
       "_model_name": "HTMLModel",
       "_view_count": null,
       "_view_module": "@jupyter-widgets/controls",
       "_view_module_version": "1.5.0",
       "_view_name": "HTMLView",
       "description": "",
       "description_tooltip": null,
       "layout": "IPY_MODEL_507ace334cb942228ecf7bcad5997ca8",
       "placeholder": "​",
       "style": "IPY_MODEL_4228b535d07a46aa8e7336c6355e393f",
       "value": "Map: 100%"
      }
     },
     "3e8fb44ae7b74ca68a73ea975fd7c466": {
      "model_module": "@jupyter-widgets/controls",
      "model_module_version": "1.5.0",
      "model_name": "ProgressStyleModel",
      "state": {
       "_model_module": "@jupyter-widgets/controls",
       "_model_module_version": "1.5.0",
       "_model_name": "ProgressStyleModel",
       "_view_count": null,
       "_view_module": "@jupyter-widgets/base",
       "_view_module_version": "1.2.0",
       "_view_name": "StyleView",
       "bar_color": null,
       "description_width": ""
      }
     },
     "4228b535d07a46aa8e7336c6355e393f": {
      "model_module": "@jupyter-widgets/controls",
      "model_module_version": "1.5.0",
      "model_name": "DescriptionStyleModel",
      "state": {
       "_model_module": "@jupyter-widgets/controls",
       "_model_module_version": "1.5.0",
       "_model_name": "DescriptionStyleModel",
       "_view_count": null,
       "_view_module": "@jupyter-widgets/base",
       "_view_module_version": "1.2.0",
       "_view_name": "StyleView",
       "description_width": ""
      }
     },
     "425230658afe401c82d3e0362b35ebb9": {
      "model_module": "@jupyter-widgets/controls",
      "model_module_version": "1.5.0",
      "model_name": "HTMLModel",
      "state": {
       "_dom_classes": [],
       "_model_module": "@jupyter-widgets/controls",
       "_model_module_version": "1.5.0",
       "_model_name": "HTMLModel",
       "_view_count": null,
       "_view_module": "@jupyter-widgets/controls",
       "_view_module_version": "1.5.0",
       "_view_name": "HTMLView",
       "description": "",
       "description_tooltip": null,
       "layout": "IPY_MODEL_486395b8680a47bda4d60e870fdc4f3d",
       "placeholder": "​",
       "style": "IPY_MODEL_caf815166a9449dd802f15d4321e3065",
       "value": " 1482/1482 [00:00&lt;00:00, 4350.51 examples/s]"
      }
     },
     "4583464de818487984b0cec43c16e735": {
      "model_module": "@jupyter-widgets/base",
      "model_module_version": "1.2.0",
      "model_name": "LayoutModel",
      "state": {
       "_model_module": "@jupyter-widgets/base",
       "_model_module_version": "1.2.0",
       "_model_name": "LayoutModel",
       "_view_count": null,
       "_view_module": "@jupyter-widgets/base",
       "_view_module_version": "1.2.0",
       "_view_name": "LayoutView",
       "align_content": null,
       "align_items": null,
       "align_self": null,
       "border": null,
       "bottom": null,
       "display": null,
       "flex": null,
       "flex_flow": null,
       "grid_area": null,
       "grid_auto_columns": null,
       "grid_auto_flow": null,
       "grid_auto_rows": null,
       "grid_column": null,
       "grid_gap": null,
       "grid_row": null,
       "grid_template_areas": null,
       "grid_template_columns": null,
       "grid_template_rows": null,
       "height": null,
       "justify_content": null,
       "justify_items": null,
       "left": null,
       "margin": null,
       "max_height": null,
       "max_width": null,
       "min_height": null,
       "min_width": null,
       "object_fit": null,
       "object_position": null,
       "order": null,
       "overflow": null,
       "overflow_x": null,
       "overflow_y": null,
       "padding": null,
       "right": null,
       "top": null,
       "visibility": null,
       "width": null
      }
     },
     "4690cdc11ee447f5ae399eaea5461c39": {
      "model_module": "@jupyter-widgets/controls",
      "model_module_version": "1.5.0",
      "model_name": "DescriptionStyleModel",
      "state": {
       "_model_module": "@jupyter-widgets/controls",
       "_model_module_version": "1.5.0",
       "_model_name": "DescriptionStyleModel",
       "_view_count": null,
       "_view_module": "@jupyter-widgets/base",
       "_view_module_version": "1.2.0",
       "_view_name": "StyleView",
       "description_width": ""
      }
     },
     "486395b8680a47bda4d60e870fdc4f3d": {
      "model_module": "@jupyter-widgets/base",
      "model_module_version": "1.2.0",
      "model_name": "LayoutModel",
      "state": {
       "_model_module": "@jupyter-widgets/base",
       "_model_module_version": "1.2.0",
       "_model_name": "LayoutModel",
       "_view_count": null,
       "_view_module": "@jupyter-widgets/base",
       "_view_module_version": "1.2.0",
       "_view_name": "LayoutView",
       "align_content": null,
       "align_items": null,
       "align_self": null,
       "border": null,
       "bottom": null,
       "display": null,
       "flex": null,
       "flex_flow": null,
       "grid_area": null,
       "grid_auto_columns": null,
       "grid_auto_flow": null,
       "grid_auto_rows": null,
       "grid_column": null,
       "grid_gap": null,
       "grid_row": null,
       "grid_template_areas": null,
       "grid_template_columns": null,
       "grid_template_rows": null,
       "height": null,
       "justify_content": null,
       "justify_items": null,
       "left": null,
       "margin": null,
       "max_height": null,
       "max_width": null,
       "min_height": null,
       "min_width": null,
       "object_fit": null,
       "object_position": null,
       "order": null,
       "overflow": null,
       "overflow_x": null,
       "overflow_y": null,
       "padding": null,
       "right": null,
       "top": null,
       "visibility": null,
       "width": null
      }
     },
     "49108b63af4b4ac0bc94bbc4a2c1ef05": {
      "model_module": "@jupyter-widgets/controls",
      "model_module_version": "1.5.0",
      "model_name": "ProgressStyleModel",
      "state": {
       "_model_module": "@jupyter-widgets/controls",
       "_model_module_version": "1.5.0",
       "_model_name": "ProgressStyleModel",
       "_view_count": null,
       "_view_module": "@jupyter-widgets/base",
       "_view_module_version": "1.2.0",
       "_view_name": "StyleView",
       "bar_color": null,
       "description_width": ""
      }
     },
     "4b6ab01bfc424194a37550d2189b84bf": {
      "model_module": "@jupyter-widgets/controls",
      "model_module_version": "1.5.0",
      "model_name": "HTMLModel",
      "state": {
       "_dom_classes": [],
       "_model_module": "@jupyter-widgets/controls",
       "_model_module_version": "1.5.0",
       "_model_name": "HTMLModel",
       "_view_count": null,
       "_view_module": "@jupyter-widgets/controls",
       "_view_module_version": "1.5.0",
       "_view_name": "HTMLView",
       "description": "",
       "description_tooltip": null,
       "layout": "IPY_MODEL_279a494d6aa846bcba5852632cf58a71",
       "placeholder": "​",
       "style": "IPY_MODEL_b3d4dc6bfbc04b659572e8dc0f0785ee",
       "value": "Map: 100%"
      }
     },
     "4b994af71f5042ab98f2c4deb537f7d7": {
      "model_module": "@jupyter-widgets/base",
      "model_module_version": "1.2.0",
      "model_name": "LayoutModel",
      "state": {
       "_model_module": "@jupyter-widgets/base",
       "_model_module_version": "1.2.0",
       "_model_name": "LayoutModel",
       "_view_count": null,
       "_view_module": "@jupyter-widgets/base",
       "_view_module_version": "1.2.0",
       "_view_name": "LayoutView",
       "align_content": null,
       "align_items": null,
       "align_self": null,
       "border": null,
       "bottom": null,
       "display": null,
       "flex": null,
       "flex_flow": null,
       "grid_area": null,
       "grid_auto_columns": null,
       "grid_auto_flow": null,
       "grid_auto_rows": null,
       "grid_column": null,
       "grid_gap": null,
       "grid_row": null,
       "grid_template_areas": null,
       "grid_template_columns": null,
       "grid_template_rows": null,
       "height": null,
       "justify_content": null,
       "justify_items": null,
       "left": null,
       "margin": null,
       "max_height": null,
       "max_width": null,
       "min_height": null,
       "min_width": null,
       "object_fit": null,
       "object_position": null,
       "order": null,
       "overflow": null,
       "overflow_x": null,
       "overflow_y": null,
       "padding": null,
       "right": null,
       "top": null,
       "visibility": null,
       "width": null
      }
     },
     "4db8026c25d34aa4b8bc312623a60df8": {
      "model_module": "@jupyter-widgets/controls",
      "model_module_version": "1.5.0",
      "model_name": "ProgressStyleModel",
      "state": {
       "_model_module": "@jupyter-widgets/controls",
       "_model_module_version": "1.5.0",
       "_model_name": "ProgressStyleModel",
       "_view_count": null,
       "_view_module": "@jupyter-widgets/base",
       "_view_module_version": "1.2.0",
       "_view_name": "StyleView",
       "bar_color": null,
       "description_width": ""
      }
     },
     "4f7e7c33fe0a47adb76a5b132bb123d0": {
      "model_module": "@jupyter-widgets/controls",
      "model_module_version": "1.5.0",
      "model_name": "FloatProgressModel",
      "state": {
       "_dom_classes": [],
       "_model_module": "@jupyter-widgets/controls",
       "_model_module_version": "1.5.0",
       "_model_name": "FloatProgressModel",
       "_view_count": null,
       "_view_module": "@jupyter-widgets/controls",
       "_view_module_version": "1.5.0",
       "_view_name": "ProgressView",
       "bar_style": "success",
       "description": "",
       "description_tooltip": null,
       "layout": "IPY_MODEL_51437d249f6547a5b703f95158a96a7c",
       "max": 1482.0,
       "min": 0.0,
       "orientation": "horizontal",
       "style": "IPY_MODEL_4db8026c25d34aa4b8bc312623a60df8",
       "value": 1482.0
      }
     },
     "507ace334cb942228ecf7bcad5997ca8": {
      "model_module": "@jupyter-widgets/base",
      "model_module_version": "1.2.0",
      "model_name": "LayoutModel",
      "state": {
       "_model_module": "@jupyter-widgets/base",
       "_model_module_version": "1.2.0",
       "_model_name": "LayoutModel",
       "_view_count": null,
       "_view_module": "@jupyter-widgets/base",
       "_view_module_version": "1.2.0",
       "_view_name": "LayoutView",
       "align_content": null,
       "align_items": null,
       "align_self": null,
       "border": null,
       "bottom": null,
       "display": null,
       "flex": null,
       "flex_flow": null,
       "grid_area": null,
       "grid_auto_columns": null,
       "grid_auto_flow": null,
       "grid_auto_rows": null,
       "grid_column": null,
       "grid_gap": null,
       "grid_row": null,
       "grid_template_areas": null,
       "grid_template_columns": null,
       "grid_template_rows": null,
       "height": null,
       "justify_content": null,
       "justify_items": null,
       "left": null,
       "margin": null,
       "max_height": null,
       "max_width": null,
       "min_height": null,
       "min_width": null,
       "object_fit": null,
       "object_position": null,
       "order": null,
       "overflow": null,
       "overflow_x": null,
       "overflow_y": null,
       "padding": null,
       "right": null,
       "top": null,
       "visibility": null,
       "width": null
      }
     },
     "51437d249f6547a5b703f95158a96a7c": {
      "model_module": "@jupyter-widgets/base",
      "model_module_version": "1.2.0",
      "model_name": "LayoutModel",
      "state": {
       "_model_module": "@jupyter-widgets/base",
       "_model_module_version": "1.2.0",
       "_model_name": "LayoutModel",
       "_view_count": null,
       "_view_module": "@jupyter-widgets/base",
       "_view_module_version": "1.2.0",
       "_view_name": "LayoutView",
       "align_content": null,
       "align_items": null,
       "align_self": null,
       "border": null,
       "bottom": null,
       "display": null,
       "flex": null,
       "flex_flow": null,
       "grid_area": null,
       "grid_auto_columns": null,
       "grid_auto_flow": null,
       "grid_auto_rows": null,
       "grid_column": null,
       "grid_gap": null,
       "grid_row": null,
       "grid_template_areas": null,
       "grid_template_columns": null,
       "grid_template_rows": null,
       "height": null,
       "justify_content": null,
       "justify_items": null,
       "left": null,
       "margin": null,
       "max_height": null,
       "max_width": null,
       "min_height": null,
       "min_width": null,
       "object_fit": null,
       "object_position": null,
       "order": null,
       "overflow": null,
       "overflow_x": null,
       "overflow_y": null,
       "padding": null,
       "right": null,
       "top": null,
       "visibility": null,
       "width": null
      }
     },
     "531e61d1ae764409b97c3696904fe58c": {
      "model_module": "@jupyter-widgets/controls",
      "model_module_version": "1.5.0",
      "model_name": "HBoxModel",
      "state": {
       "_dom_classes": [],
       "_model_module": "@jupyter-widgets/controls",
       "_model_module_version": "1.5.0",
       "_model_name": "HBoxModel",
       "_view_count": null,
       "_view_module": "@jupyter-widgets/controls",
       "_view_module_version": "1.5.0",
       "_view_name": "HBoxView",
       "box_style": "",
       "children": [
        "IPY_MODEL_1af2acd4980b49a1b272320cf725db66",
        "IPY_MODEL_7939a4bc2bb5480680f24ce0c0e6178f",
        "IPY_MODEL_d16c91cd755c446a8ba422bec7c60c77"
       ],
       "layout": "IPY_MODEL_5c09ab3433bd41a2a5aaf7d7afa0b795"
      }
     },
     "5c09ab3433bd41a2a5aaf7d7afa0b795": {
      "model_module": "@jupyter-widgets/base",
      "model_module_version": "1.2.0",
      "model_name": "LayoutModel",
      "state": {
       "_model_module": "@jupyter-widgets/base",
       "_model_module_version": "1.2.0",
       "_model_name": "LayoutModel",
       "_view_count": null,
       "_view_module": "@jupyter-widgets/base",
       "_view_module_version": "1.2.0",
       "_view_name": "LayoutView",
       "align_content": null,
       "align_items": null,
       "align_self": null,
       "border": null,
       "bottom": null,
       "display": null,
       "flex": null,
       "flex_flow": null,
       "grid_area": null,
       "grid_auto_columns": null,
       "grid_auto_flow": null,
       "grid_auto_rows": null,
       "grid_column": null,
       "grid_gap": null,
       "grid_row": null,
       "grid_template_areas": null,
       "grid_template_columns": null,
       "grid_template_rows": null,
       "height": null,
       "justify_content": null,
       "justify_items": null,
       "left": null,
       "margin": null,
       "max_height": null,
       "max_width": null,
       "min_height": null,
       "min_width": null,
       "object_fit": null,
       "object_position": null,
       "order": null,
       "overflow": null,
       "overflow_x": null,
       "overflow_y": null,
       "padding": null,
       "right": null,
       "top": null,
       "visibility": null,
       "width": null
      }
     },
     "5edb30954b7a47fc8b677337211d9509": {
      "model_module": "@jupyter-widgets/controls",
      "model_module_version": "1.5.0",
      "model_name": "ProgressStyleModel",
      "state": {
       "_model_module": "@jupyter-widgets/controls",
       "_model_module_version": "1.5.0",
       "_model_name": "ProgressStyleModel",
       "_view_count": null,
       "_view_module": "@jupyter-widgets/base",
       "_view_module_version": "1.2.0",
       "_view_name": "StyleView",
       "bar_color": null,
       "description_width": ""
      }
     },
     "608f84139ba5438183c481516f85149a": {
      "model_module": "@jupyter-widgets/base",
      "model_module_version": "1.2.0",
      "model_name": "LayoutModel",
      "state": {
       "_model_module": "@jupyter-widgets/base",
       "_model_module_version": "1.2.0",
       "_model_name": "LayoutModel",
       "_view_count": null,
       "_view_module": "@jupyter-widgets/base",
       "_view_module_version": "1.2.0",
       "_view_name": "LayoutView",
       "align_content": null,
       "align_items": null,
       "align_self": null,
       "border": null,
       "bottom": null,
       "display": null,
       "flex": null,
       "flex_flow": null,
       "grid_area": null,
       "grid_auto_columns": null,
       "grid_auto_flow": null,
       "grid_auto_rows": null,
       "grid_column": null,
       "grid_gap": null,
       "grid_row": null,
       "grid_template_areas": null,
       "grid_template_columns": null,
       "grid_template_rows": null,
       "height": null,
       "justify_content": null,
       "justify_items": null,
       "left": null,
       "margin": null,
       "max_height": null,
       "max_width": null,
       "min_height": null,
       "min_width": null,
       "object_fit": null,
       "object_position": null,
       "order": null,
       "overflow": null,
       "overflow_x": null,
       "overflow_y": null,
       "padding": null,
       "right": null,
       "top": null,
       "visibility": null,
       "width": null
      }
     },
     "659ed15525de4f638d47cc0b18b75cda": {
      "model_module": "@jupyter-widgets/controls",
      "model_module_version": "1.5.0",
      "model_name": "FloatProgressModel",
      "state": {
       "_dom_classes": [],
       "_model_module": "@jupyter-widgets/controls",
       "_model_module_version": "1.5.0",
       "_model_name": "FloatProgressModel",
       "_view_count": null,
       "_view_module": "@jupyter-widgets/controls",
       "_view_module_version": "1.5.0",
       "_view_name": "ProgressView",
       "bar_style": "success",
       "description": "",
       "description_tooltip": null,
       "layout": "IPY_MODEL_d5914e1d823640bebe06452bd19e97be",
       "max": 112.0,
       "min": 0.0,
       "orientation": "horizontal",
       "style": "IPY_MODEL_5edb30954b7a47fc8b677337211d9509",
       "value": 112.0
      }
     },
     "675694c467ab4515872c471e3d35287a": {
      "model_module": "@jupyter-widgets/controls",
      "model_module_version": "1.5.0",
      "model_name": "HTMLModel",
      "state": {
       "_dom_classes": [],
       "_model_module": "@jupyter-widgets/controls",
       "_model_module_version": "1.5.0",
       "_model_name": "HTMLModel",
       "_view_count": null,
       "_view_module": "@jupyter-widgets/controls",
       "_view_module_version": "1.5.0",
       "_view_name": "HTMLView",
       "description": "",
       "description_tooltip": null,
       "layout": "IPY_MODEL_eb739749d9234696adff01dff6363e6d",
       "placeholder": "​",
       "style": "IPY_MODEL_4690cdc11ee447f5ae399eaea5461c39",
       "value": " 112/112 [00:00&lt;00:00, 8.68kB/s]"
      }
     },
     "6964b8d1f053450495fe988574c48c5a": {
      "model_module": "@jupyter-widgets/controls",
      "model_module_version": "1.5.0",
      "model_name": "FloatProgressModel",
      "state": {
       "_dom_classes": [],
       "_model_module": "@jupyter-widgets/controls",
       "_model_module_version": "1.5.0",
       "_model_name": "FloatProgressModel",
       "_view_count": null,
       "_view_module": "@jupyter-widgets/controls",
       "_view_module_version": "1.5.0",
       "_view_name": "ProgressView",
       "bar_style": "success",
       "description": "",
       "description_tooltip": null,
       "layout": "IPY_MODEL_c23945109c114bac916fdcf29bfd0cfd",
       "max": 758.0,
       "min": 0.0,
       "orientation": "horizontal",
       "style": "IPY_MODEL_3e8fb44ae7b74ca68a73ea975fd7c466",
       "value": 758.0
      }
     },
     "6e6022bda3bd4dc4b0c04b65ac710f19": {
      "model_module": "@jupyter-widgets/controls",
      "model_module_version": "1.5.0",
      "model_name": "HBoxModel",
      "state": {
       "_dom_classes": [],
       "_model_module": "@jupyter-widgets/controls",
       "_model_module_version": "1.5.0",
       "_model_name": "HBoxModel",
       "_view_count": null,
       "_view_module": "@jupyter-widgets/controls",
       "_view_module_version": "1.5.0",
       "_view_name": "HBoxView",
       "box_style": "",
       "children": [
        "IPY_MODEL_4b6ab01bfc424194a37550d2189b84bf",
        "IPY_MODEL_2d1d00b65f90419a9bcc5213cbf165d7",
        "IPY_MODEL_b69c78c101fc4c84af7197f17a83fbe9"
       ],
       "layout": "IPY_MODEL_4583464de818487984b0cec43c16e735"
      }
     },
     "734db50424154c1ea01e2c9dfc2de725": {
      "model_module": "@jupyter-widgets/base",
      "model_module_version": "1.2.0",
      "model_name": "LayoutModel",
      "state": {
       "_model_module": "@jupyter-widgets/base",
       "_model_module_version": "1.2.0",
       "_model_name": "LayoutModel",
       "_view_count": null,
       "_view_module": "@jupyter-widgets/base",
       "_view_module_version": "1.2.0",
       "_view_name": "LayoutView",
       "align_content": null,
       "align_items": null,
       "align_self": null,
       "border": null,
       "bottom": null,
       "display": null,
       "flex": null,
       "flex_flow": null,
       "grid_area": null,
       "grid_auto_columns": null,
       "grid_auto_flow": null,
       "grid_auto_rows": null,
       "grid_column": null,
       "grid_gap": null,
       "grid_row": null,
       "grid_template_areas": null,
       "grid_template_columns": null,
       "grid_template_rows": null,
       "height": null,
       "justify_content": null,
       "justify_items": null,
       "left": null,
       "margin": null,
       "max_height": null,
       "max_width": null,
       "min_height": null,
       "min_width": null,
       "object_fit": null,
       "object_position": null,
       "order": null,
       "overflow": null,
       "overflow_x": null,
       "overflow_y": null,
       "padding": null,
       "right": null,
       "top": null,
       "visibility": null,
       "width": null
      }
     },
     "77832f45b7554e588317b8c90cda1494": {
      "model_module": "@jupyter-widgets/controls",
      "model_module_version": "1.5.0",
      "model_name": "DescriptionStyleModel",
      "state": {
       "_model_module": "@jupyter-widgets/controls",
       "_model_module_version": "1.5.0",
       "_model_name": "DescriptionStyleModel",
       "_view_count": null,
       "_view_module": "@jupyter-widgets/base",
       "_view_module_version": "1.2.0",
       "_view_name": "StyleView",
       "description_width": ""
      }
     },
     "7939a4bc2bb5480680f24ce0c0e6178f": {
      "model_module": "@jupyter-widgets/controls",
      "model_module_version": "1.5.0",
      "model_name": "FloatProgressModel",
      "state": {
       "_dom_classes": [],
       "_model_module": "@jupyter-widgets/controls",
       "_model_module_version": "1.5.0",
       "_model_name": "FloatProgressModel",
       "_view_count": null,
       "_view_module": "@jupyter-widgets/controls",
       "_view_module_version": "1.5.0",
       "_view_name": "ProgressView",
       "bar_style": "success",
       "description": "",
       "description_tooltip": null,
       "layout": "IPY_MODEL_a5de61de67d84aaabe2f1a211cc0aeae",
       "max": 437992753.0,
       "min": 0.0,
       "orientation": "horizontal",
       "style": "IPY_MODEL_31a2c099f1fd4e7cb9994c06722f78e8",
       "value": 437992753.0
      }
     },
     "7c2a44428e7644c3b06e36ed54ced38d": {
      "model_module": "@jupyter-widgets/base",
      "model_module_version": "1.2.0",
      "model_name": "LayoutModel",
      "state": {
       "_model_module": "@jupyter-widgets/base",
       "_model_module_version": "1.2.0",
       "_model_name": "LayoutModel",
       "_view_count": null,
       "_view_module": "@jupyter-widgets/base",
       "_view_module_version": "1.2.0",
       "_view_name": "LayoutView",
       "align_content": null,
       "align_items": null,
       "align_self": null,
       "border": null,
       "bottom": null,
       "display": null,
       "flex": null,
       "flex_flow": null,
       "grid_area": null,
       "grid_auto_columns": null,
       "grid_auto_flow": null,
       "grid_auto_rows": null,
       "grid_column": null,
       "grid_gap": null,
       "grid_row": null,
       "grid_template_areas": null,
       "grid_template_columns": null,
       "grid_template_rows": null,
       "height": null,
       "justify_content": null,
       "justify_items": null,
       "left": null,
       "margin": null,
       "max_height": null,
       "max_width": null,
       "min_height": null,
       "min_width": null,
       "object_fit": null,
       "object_position": null,
       "order": null,
       "overflow": null,
       "overflow_x": null,
       "overflow_y": null,
       "padding": null,
       "right": null,
       "top": null,
       "visibility": null,
       "width": null
      }
     },
     "83e7cc83b5114e72a0b0fa1e24f7abe3": {
      "model_module": "@jupyter-widgets/controls",
      "model_module_version": "1.5.0",
      "model_name": "HTMLModel",
      "state": {
       "_dom_classes": [],
       "_model_module": "@jupyter-widgets/controls",
       "_model_module_version": "1.5.0",
       "_model_name": "HTMLModel",
       "_view_count": null,
       "_view_module": "@jupyter-widgets/controls",
       "_view_module_version": "1.5.0",
       "_view_name": "HTMLView",
       "description": "",
       "description_tooltip": null,
       "layout": "IPY_MODEL_13427bcd970b4e4a8431619b61f363e0",
       "placeholder": "​",
       "style": "IPY_MODEL_a5381af71a2d4545a459ec0fafdea593",
       "value": " 5163/5163 [00:01&lt;00:00, 4767.61 examples/s]"
      }
     },
     "8d760d18ba3748e6a788253f7899473f": {
      "model_module": "@jupyter-widgets/controls",
      "model_module_version": "1.5.0",
      "model_name": "DescriptionStyleModel",
      "state": {
       "_model_module": "@jupyter-widgets/controls",
       "_model_module_version": "1.5.0",
       "_model_name": "DescriptionStyleModel",
       "_view_count": null,
       "_view_module": "@jupyter-widgets/base",
       "_view_module_version": "1.2.0",
       "_view_name": "StyleView",
       "description_width": ""
      }
     },
     "8fceb70a45d74686b66bbfe5abac98a4": {
      "model_module": "@jupyter-widgets/controls",
      "model_module_version": "1.5.0",
      "model_name": "DescriptionStyleModel",
      "state": {
       "_model_module": "@jupyter-widgets/controls",
       "_model_module_version": "1.5.0",
       "_model_name": "DescriptionStyleModel",
       "_view_count": null,
       "_view_module": "@jupyter-widgets/base",
       "_view_module_version": "1.2.0",
       "_view_name": "StyleView",
       "description_width": ""
      }
     },
     "92663bff4d664f129d88ffa413fc7c96": {
      "model_module": "@jupyter-widgets/controls",
      "model_module_version": "1.5.0",
      "model_name": "DescriptionStyleModel",
      "state": {
       "_model_module": "@jupyter-widgets/controls",
       "_model_module_version": "1.5.0",
       "_model_name": "DescriptionStyleModel",
       "_view_count": null,
       "_view_module": "@jupyter-widgets/base",
       "_view_module_version": "1.2.0",
       "_view_name": "StyleView",
       "description_width": ""
      }
     },
     "92e05bdb5ec44348be36a863e30447e1": {
      "model_module": "@jupyter-widgets/controls",
      "model_module_version": "1.5.0",
      "model_name": "FloatProgressModel",
      "state": {
       "_dom_classes": [],
       "_model_module": "@jupyter-widgets/controls",
       "_model_module_version": "1.5.0",
       "_model_name": "FloatProgressModel",
       "_view_count": null,
       "_view_module": "@jupyter-widgets/controls",
       "_view_module_version": "1.5.0",
       "_view_name": "ProgressView",
       "bar_style": "success",
       "description": "",
       "description_tooltip": null,
       "layout": "IPY_MODEL_93de835a0aae494cb7c91d9e011ea388",
       "max": 5163.0,
       "min": 0.0,
       "orientation": "horizontal",
       "style": "IPY_MODEL_49108b63af4b4ac0bc94bbc4a2c1ef05",
       "value": 5163.0
      }
     },
     "930861749c514dd1a4b0815d899348e0": {
      "model_module": "@jupyter-widgets/controls",
      "model_module_version": "1.5.0",
      "model_name": "HBoxModel",
      "state": {
       "_dom_classes": [],
       "_model_module": "@jupyter-widgets/controls",
       "_model_module_version": "1.5.0",
       "_model_name": "HBoxModel",
       "_view_count": null,
       "_view_module": "@jupyter-widgets/controls",
       "_view_module_version": "1.5.0",
       "_view_name": "HBoxView",
       "box_style": "",
       "children": [
        "IPY_MODEL_3082d3e4e4b04cc586c1c279a417a0d8",
        "IPY_MODEL_6964b8d1f053450495fe988574c48c5a",
        "IPY_MODEL_99dd801f9eb249a3bcfa9467b451da48"
       ],
       "layout": "IPY_MODEL_251b6326084a43b5a2de95bb4a808d3a"
      }
     },
     "936d6b91c47e4586addc824025158567": {
      "model_module": "@jupyter-widgets/base",
      "model_module_version": "1.2.0",
      "model_name": "LayoutModel",
      "state": {
       "_model_module": "@jupyter-widgets/base",
       "_model_module_version": "1.2.0",
       "_model_name": "LayoutModel",
       "_view_count": null,
       "_view_module": "@jupyter-widgets/base",
       "_view_module_version": "1.2.0",
       "_view_name": "LayoutView",
       "align_content": null,
       "align_items": null,
       "align_self": null,
       "border": null,
       "bottom": null,
       "display": null,
       "flex": null,
       "flex_flow": null,
       "grid_area": null,
       "grid_auto_columns": null,
       "grid_auto_flow": null,
       "grid_auto_rows": null,
       "grid_column": null,
       "grid_gap": null,
       "grid_row": null,
       "grid_template_areas": null,
       "grid_template_columns": null,
       "grid_template_rows": null,
       "height": null,
       "justify_content": null,
       "justify_items": null,
       "left": null,
       "margin": null,
       "max_height": null,
       "max_width": null,
       "min_height": null,
       "min_width": null,
       "object_fit": null,
       "object_position": null,
       "order": null,
       "overflow": null,
       "overflow_x": null,
       "overflow_y": null,
       "padding": null,
       "right": null,
       "top": null,
       "visibility": null,
       "width": null
      }
     },
     "93de835a0aae494cb7c91d9e011ea388": {
      "model_module": "@jupyter-widgets/base",
      "model_module_version": "1.2.0",
      "model_name": "LayoutModel",
      "state": {
       "_model_module": "@jupyter-widgets/base",
       "_model_module_version": "1.2.0",
       "_model_name": "LayoutModel",
       "_view_count": null,
       "_view_module": "@jupyter-widgets/base",
       "_view_module_version": "1.2.0",
       "_view_name": "LayoutView",
       "align_content": null,
       "align_items": null,
       "align_self": null,
       "border": null,
       "bottom": null,
       "display": null,
       "flex": null,
       "flex_flow": null,
       "grid_area": null,
       "grid_auto_columns": null,
       "grid_auto_flow": null,
       "grid_auto_rows": null,
       "grid_column": null,
       "grid_gap": null,
       "grid_row": null,
       "grid_template_areas": null,
       "grid_template_columns": null,
       "grid_template_rows": null,
       "height": null,
       "justify_content": null,
       "justify_items": null,
       "left": null,
       "margin": null,
       "max_height": null,
       "max_width": null,
       "min_height": null,
       "min_width": null,
       "object_fit": null,
       "object_position": null,
       "order": null,
       "overflow": null,
       "overflow_x": null,
       "overflow_y": null,
       "padding": null,
       "right": null,
       "top": null,
       "visibility": null,
       "width": null
      }
     },
     "959a843a49ef448f878899ebec8edd85": {
      "model_module": "@jupyter-widgets/controls",
      "model_module_version": "1.5.0",
      "model_name": "HBoxModel",
      "state": {
       "_dom_classes": [],
       "_model_module": "@jupyter-widgets/controls",
       "_model_module_version": "1.5.0",
       "_model_name": "HBoxModel",
       "_view_count": null,
       "_view_module": "@jupyter-widgets/controls",
       "_view_module_version": "1.5.0",
       "_view_name": "HBoxView",
       "box_style": "",
       "children": [
        "IPY_MODEL_0585a78a9ce34b61be2f2c8df79e64ac",
        "IPY_MODEL_659ed15525de4f638d47cc0b18b75cda",
        "IPY_MODEL_675694c467ab4515872c471e3d35287a"
       ],
       "layout": "IPY_MODEL_b58b69bbf21b4af6a81b1e7314f7d8d7"
      }
     },
     "9691eee9365f4c0a94bcd201d684e49e": {
      "model_module": "@jupyter-widgets/base",
      "model_module_version": "1.2.0",
      "model_name": "LayoutModel",
      "state": {
       "_model_module": "@jupyter-widgets/base",
       "_model_module_version": "1.2.0",
       "_model_name": "LayoutModel",
       "_view_count": null,
       "_view_module": "@jupyter-widgets/base",
       "_view_module_version": "1.2.0",
       "_view_name": "LayoutView",
       "align_content": null,
       "align_items": null,
       "align_self": null,
       "border": null,
       "bottom": null,
       "display": null,
       "flex": null,
       "flex_flow": null,
       "grid_area": null,
       "grid_auto_columns": null,
       "grid_auto_flow": null,
       "grid_auto_rows": null,
       "grid_column": null,
       "grid_gap": null,
       "grid_row": null,
       "grid_template_areas": null,
       "grid_template_columns": null,
       "grid_template_rows": null,
       "height": null,
       "justify_content": null,
       "justify_items": null,
       "left": null,
       "margin": null,
       "max_height": null,
       "max_width": null,
       "min_height": null,
       "min_width": null,
       "object_fit": null,
       "object_position": null,
       "order": null,
       "overflow": null,
       "overflow_x": null,
       "overflow_y": null,
       "padding": null,
       "right": null,
       "top": null,
       "visibility": null,
       "width": null
      }
     },
     "99dd801f9eb249a3bcfa9467b451da48": {
      "model_module": "@jupyter-widgets/controls",
      "model_module_version": "1.5.0",
      "model_name": "HTMLModel",
      "state": {
       "_dom_classes": [],
       "_model_module": "@jupyter-widgets/controls",
       "_model_module_version": "1.5.0",
       "_model_name": "HTMLModel",
       "_view_count": null,
       "_view_module": "@jupyter-widgets/controls",
       "_view_module_version": "1.5.0",
       "_view_name": "HTMLView",
       "description": "",
       "description_tooltip": null,
       "layout": "IPY_MODEL_a0a818e369094da58b68fec430e347bf",
       "placeholder": "​",
       "style": "IPY_MODEL_c1063785f7ae43cdbb948340160c9f27",
       "value": " 758/758 [00:00&lt;00:00, 74.2kB/s]"
      }
     },
     "9ac66bd19aa449c78075f2ef3cc16996": {
      "model_module": "@jupyter-widgets/controls",
      "model_module_version": "1.5.0",
      "model_name": "HTMLModel",
      "state": {
       "_dom_classes": [],
       "_model_module": "@jupyter-widgets/controls",
       "_model_module_version": "1.5.0",
       "_model_name": "HTMLModel",
       "_view_count": null,
       "_view_module": "@jupyter-widgets/controls",
       "_view_module_version": "1.5.0",
       "_view_name": "HTMLView",
       "description": "",
       "description_tooltip": null,
       "layout": "IPY_MODEL_608f84139ba5438183c481516f85149a",
       "placeholder": "​",
       "style": "IPY_MODEL_92663bff4d664f129d88ffa413fc7c96",
       "value": "tokenizer_config.json: 100%"
      }
     },
     "9e3d229953ac47d3ae30ea336c00e9ef": {
      "model_module": "@jupyter-widgets/controls",
      "model_module_version": "1.5.0",
      "model_name": "HBoxModel",
      "state": {
       "_dom_classes": [],
       "_model_module": "@jupyter-widgets/controls",
       "_model_module_version": "1.5.0",
       "_model_name": "HBoxModel",
       "_view_count": null,
       "_view_module": "@jupyter-widgets/controls",
       "_view_module_version": "1.5.0",
       "_view_name": "HBoxView",
       "box_style": "",
       "children": [
        "IPY_MODEL_097e9a28bab5494eac50512abdc8e765",
        "IPY_MODEL_28e9380ffe2b4cceb48d9ab28a9d5412",
        "IPY_MODEL_a03c4b5b5b8c46a6baf54b43f2a45532"
       ],
       "layout": "IPY_MODEL_7c2a44428e7644c3b06e36ed54ced38d"
      }
     },
     "9e52244464c440e2b018b7c1b3ec036d": {
      "model_module": "@jupyter-widgets/controls",
      "model_module_version": "1.5.0",
      "model_name": "DescriptionStyleModel",
      "state": {
       "_model_module": "@jupyter-widgets/controls",
       "_model_module_version": "1.5.0",
       "_model_name": "DescriptionStyleModel",
       "_view_count": null,
       "_view_module": "@jupyter-widgets/base",
       "_view_module_version": "1.2.0",
       "_view_name": "StyleView",
       "description_width": ""
      }
     },
     "a03c4b5b5b8c46a6baf54b43f2a45532": {
      "model_module": "@jupyter-widgets/controls",
      "model_module_version": "1.5.0",
      "model_name": "HTMLModel",
      "state": {
       "_dom_classes": [],
       "_model_module": "@jupyter-widgets/controls",
       "_model_module_version": "1.5.0",
       "_model_name": "HTMLModel",
       "_view_count": null,
       "_view_module": "@jupyter-widgets/controls",
       "_view_module_version": "1.5.0",
       "_view_name": "HTMLView",
       "description": "",
       "description_tooltip": null,
       "layout": "IPY_MODEL_35aed58641274dc99864c3c42fef4eac",
       "placeholder": "​",
       "style": "IPY_MODEL_2cc958fbe7104de9af50a8de658a30b4",
       "value": " 232k/232k [00:00&lt;00:00, 12.3MB/s]"
      }
     },
     "a0a818e369094da58b68fec430e347bf": {
      "model_module": "@jupyter-widgets/base",
      "model_module_version": "1.2.0",
      "model_name": "LayoutModel",
      "state": {
       "_model_module": "@jupyter-widgets/base",
       "_model_module_version": "1.2.0",
       "_model_name": "LayoutModel",
       "_view_count": null,
       "_view_module": "@jupyter-widgets/base",
       "_view_module_version": "1.2.0",
       "_view_name": "LayoutView",
       "align_content": null,
       "align_items": null,
       "align_self": null,
       "border": null,
       "bottom": null,
       "display": null,
       "flex": null,
       "flex_flow": null,
       "grid_area": null,
       "grid_auto_columns": null,
       "grid_auto_flow": null,
       "grid_auto_rows": null,
       "grid_column": null,
       "grid_gap": null,
       "grid_row": null,
       "grid_template_areas": null,
       "grid_template_columns": null,
       "grid_template_rows": null,
       "height": null,
       "justify_content": null,
       "justify_items": null,
       "left": null,
       "margin": null,
       "max_height": null,
       "max_width": null,
       "min_height": null,
       "min_width": null,
       "object_fit": null,
       "object_position": null,
       "order": null,
       "overflow": null,
       "overflow_x": null,
       "overflow_y": null,
       "padding": null,
       "right": null,
       "top": null,
       "visibility": null,
       "width": null
      }
     },
     "a5381af71a2d4545a459ec0fafdea593": {
      "model_module": "@jupyter-widgets/controls",
      "model_module_version": "1.5.0",
      "model_name": "DescriptionStyleModel",
      "state": {
       "_model_module": "@jupyter-widgets/controls",
       "_model_module_version": "1.5.0",
       "_model_name": "DescriptionStyleModel",
       "_view_count": null,
       "_view_module": "@jupyter-widgets/base",
       "_view_module_version": "1.2.0",
       "_view_name": "StyleView",
       "description_width": ""
      }
     },
     "a5de61de67d84aaabe2f1a211cc0aeae": {
      "model_module": "@jupyter-widgets/base",
      "model_module_version": "1.2.0",
      "model_name": "LayoutModel",
      "state": {
       "_model_module": "@jupyter-widgets/base",
       "_model_module_version": "1.2.0",
       "_model_name": "LayoutModel",
       "_view_count": null,
       "_view_module": "@jupyter-widgets/base",
       "_view_module_version": "1.2.0",
       "_view_name": "LayoutView",
       "align_content": null,
       "align_items": null,
       "align_self": null,
       "border": null,
       "bottom": null,
       "display": null,
       "flex": null,
       "flex_flow": null,
       "grid_area": null,
       "grid_auto_columns": null,
       "grid_auto_flow": null,
       "grid_auto_rows": null,
       "grid_column": null,
       "grid_gap": null,
       "grid_row": null,
       "grid_template_areas": null,
       "grid_template_columns": null,
       "grid_template_rows": null,
       "height": null,
       "justify_content": null,
       "justify_items": null,
       "left": null,
       "margin": null,
       "max_height": null,
       "max_width": null,
       "min_height": null,
       "min_width": null,
       "object_fit": null,
       "object_position": null,
       "order": null,
       "overflow": null,
       "overflow_x": null,
       "overflow_y": null,
       "padding": null,
       "right": null,
       "top": null,
       "visibility": null,
       "width": null
      }
     },
     "aca2de29104c432d8134776e002d56cf": {
      "model_module": "@jupyter-widgets/base",
      "model_module_version": "1.2.0",
      "model_name": "LayoutModel",
      "state": {
       "_model_module": "@jupyter-widgets/base",
       "_model_module_version": "1.2.0",
       "_model_name": "LayoutModel",
       "_view_count": null,
       "_view_module": "@jupyter-widgets/base",
       "_view_module_version": "1.2.0",
       "_view_name": "LayoutView",
       "align_content": null,
       "align_items": null,
       "align_self": null,
       "border": null,
       "bottom": null,
       "display": null,
       "flex": null,
       "flex_flow": null,
       "grid_area": null,
       "grid_auto_columns": null,
       "grid_auto_flow": null,
       "grid_auto_rows": null,
       "grid_column": null,
       "grid_gap": null,
       "grid_row": null,
       "grid_template_areas": null,
       "grid_template_columns": null,
       "grid_template_rows": null,
       "height": null,
       "justify_content": null,
       "justify_items": null,
       "left": null,
       "margin": null,
       "max_height": null,
       "max_width": null,
       "min_height": null,
       "min_width": null,
       "object_fit": null,
       "object_position": null,
       "order": null,
       "overflow": null,
       "overflow_x": null,
       "overflow_y": null,
       "padding": null,
       "right": null,
       "top": null,
       "visibility": null,
       "width": null
      }
     },
     "af5674ffa4ed4d8b9ac4cc4657d84787": {
      "model_module": "@jupyter-widgets/base",
      "model_module_version": "1.2.0",
      "model_name": "LayoutModel",
      "state": {
       "_model_module": "@jupyter-widgets/base",
       "_model_module_version": "1.2.0",
       "_model_name": "LayoutModel",
       "_view_count": null,
       "_view_module": "@jupyter-widgets/base",
       "_view_module_version": "1.2.0",
       "_view_name": "LayoutView",
       "align_content": null,
       "align_items": null,
       "align_self": null,
       "border": null,
       "bottom": null,
       "display": null,
       "flex": null,
       "flex_flow": null,
       "grid_area": null,
       "grid_auto_columns": null,
       "grid_auto_flow": null,
       "grid_auto_rows": null,
       "grid_column": null,
       "grid_gap": null,
       "grid_row": null,
       "grid_template_areas": null,
       "grid_template_columns": null,
       "grid_template_rows": null,
       "height": null,
       "justify_content": null,
       "justify_items": null,
       "left": null,
       "margin": null,
       "max_height": null,
       "max_width": null,
       "min_height": null,
       "min_width": null,
       "object_fit": null,
       "object_position": null,
       "order": null,
       "overflow": null,
       "overflow_x": null,
       "overflow_y": null,
       "padding": null,
       "right": null,
       "top": null,
       "visibility": null,
       "width": null
      }
     },
     "b3d4dc6bfbc04b659572e8dc0f0785ee": {
      "model_module": "@jupyter-widgets/controls",
      "model_module_version": "1.5.0",
      "model_name": "DescriptionStyleModel",
      "state": {
       "_model_module": "@jupyter-widgets/controls",
       "_model_module_version": "1.5.0",
       "_model_name": "DescriptionStyleModel",
       "_view_count": null,
       "_view_module": "@jupyter-widgets/base",
       "_view_module_version": "1.2.0",
       "_view_name": "StyleView",
       "description_width": ""
      }
     },
     "b54bd88ba4234e538ffc333a1a08de8f": {
      "model_module": "@jupyter-widgets/controls",
      "model_module_version": "1.5.0",
      "model_name": "HBoxModel",
      "state": {
       "_dom_classes": [],
       "_model_module": "@jupyter-widgets/controls",
       "_model_module_version": "1.5.0",
       "_model_name": "HBoxModel",
       "_view_count": null,
       "_view_module": "@jupyter-widgets/controls",
       "_view_module_version": "1.5.0",
       "_view_name": "HBoxView",
       "box_style": "",
       "children": [
        "IPY_MODEL_3083f9a6218a47c5b29e8e7e675ec588",
        "IPY_MODEL_92e05bdb5ec44348be36a863e30447e1",
        "IPY_MODEL_83e7cc83b5114e72a0b0fa1e24f7abe3"
       ],
       "layout": "IPY_MODEL_bde098ebe9b64ade88c5bf027d178093"
      }
     },
     "b58b69bbf21b4af6a81b1e7314f7d8d7": {
      "model_module": "@jupyter-widgets/base",
      "model_module_version": "1.2.0",
      "model_name": "LayoutModel",
      "state": {
       "_model_module": "@jupyter-widgets/base",
       "_model_module_version": "1.2.0",
       "_model_name": "LayoutModel",
       "_view_count": null,
       "_view_module": "@jupyter-widgets/base",
       "_view_module_version": "1.2.0",
       "_view_name": "LayoutView",
       "align_content": null,
       "align_items": null,
       "align_self": null,
       "border": null,
       "bottom": null,
       "display": null,
       "flex": null,
       "flex_flow": null,
       "grid_area": null,
       "grid_auto_columns": null,
       "grid_auto_flow": null,
       "grid_auto_rows": null,
       "grid_column": null,
       "grid_gap": null,
       "grid_row": null,
       "grid_template_areas": null,
       "grid_template_columns": null,
       "grid_template_rows": null,
       "height": null,
       "justify_content": null,
       "justify_items": null,
       "left": null,
       "margin": null,
       "max_height": null,
       "max_width": null,
       "min_height": null,
       "min_width": null,
       "object_fit": null,
       "object_position": null,
       "order": null,
       "overflow": null,
       "overflow_x": null,
       "overflow_y": null,
       "padding": null,
       "right": null,
       "top": null,
       "visibility": null,
       "width": null
      }
     },
     "b69c78c101fc4c84af7197f17a83fbe9": {
      "model_module": "@jupyter-widgets/controls",
      "model_module_version": "1.5.0",
      "model_name": "HTMLModel",
      "state": {
       "_dom_classes": [],
       "_model_module": "@jupyter-widgets/controls",
       "_model_module_version": "1.5.0",
       "_model_name": "HTMLModel",
       "_view_count": null,
       "_view_module": "@jupyter-widgets/controls",
       "_view_module_version": "1.5.0",
       "_view_name": "HTMLView",
       "description": "",
       "description_tooltip": null,
       "layout": "IPY_MODEL_16b21fbd7ef44902988ac0ef44c04fe2",
       "placeholder": "​",
       "style": "IPY_MODEL_8fceb70a45d74686b66bbfe5abac98a4",
       "value": " 731/731 [00:00&lt;00:00, 4339.26 examples/s]"
      }
     },
     "b9cda4b95f99460e84ebaf45b99cacdf": {
      "model_module": "@jupyter-widgets/base",
      "model_module_version": "1.2.0",
      "model_name": "LayoutModel",
      "state": {
       "_model_module": "@jupyter-widgets/base",
       "_model_module_version": "1.2.0",
       "_model_name": "LayoutModel",
       "_view_count": null,
       "_view_module": "@jupyter-widgets/base",
       "_view_module_version": "1.2.0",
       "_view_name": "LayoutView",
       "align_content": null,
       "align_items": null,
       "align_self": null,
       "border": null,
       "bottom": null,
       "display": null,
       "flex": null,
       "flex_flow": null,
       "grid_area": null,
       "grid_auto_columns": null,
       "grid_auto_flow": null,
       "grid_auto_rows": null,
       "grid_column": null,
       "grid_gap": null,
       "grid_row": null,
       "grid_template_areas": null,
       "grid_template_columns": null,
       "grid_template_rows": null,
       "height": null,
       "justify_content": null,
       "justify_items": null,
       "left": null,
       "margin": null,
       "max_height": null,
       "max_width": null,
       "min_height": null,
       "min_width": null,
       "object_fit": null,
       "object_position": null,
       "order": null,
       "overflow": null,
       "overflow_x": null,
       "overflow_y": null,
       "padding": null,
       "right": null,
       "top": null,
       "visibility": null,
       "width": null
      }
     },
     "bde098ebe9b64ade88c5bf027d178093": {
      "model_module": "@jupyter-widgets/base",
      "model_module_version": "1.2.0",
      "model_name": "LayoutModel",
      "state": {
       "_model_module": "@jupyter-widgets/base",
       "_model_module_version": "1.2.0",
       "_model_name": "LayoutModel",
       "_view_count": null,
       "_view_module": "@jupyter-widgets/base",
       "_view_module_version": "1.2.0",
       "_view_name": "LayoutView",
       "align_content": null,
       "align_items": null,
       "align_self": null,
       "border": null,
       "bottom": null,
       "display": null,
       "flex": null,
       "flex_flow": null,
       "grid_area": null,
       "grid_auto_columns": null,
       "grid_auto_flow": null,
       "grid_auto_rows": null,
       "grid_column": null,
       "grid_gap": null,
       "grid_row": null,
       "grid_template_areas": null,
       "grid_template_columns": null,
       "grid_template_rows": null,
       "height": null,
       "justify_content": null,
       "justify_items": null,
       "left": null,
       "margin": null,
       "max_height": null,
       "max_width": null,
       "min_height": null,
       "min_width": null,
       "object_fit": null,
       "object_position": null,
       "order": null,
       "overflow": null,
       "overflow_x": null,
       "overflow_y": null,
       "padding": null,
       "right": null,
       "top": null,
       "visibility": null,
       "width": null
      }
     },
     "c1063785f7ae43cdbb948340160c9f27": {
      "model_module": "@jupyter-widgets/controls",
      "model_module_version": "1.5.0",
      "model_name": "DescriptionStyleModel",
      "state": {
       "_model_module": "@jupyter-widgets/controls",
       "_model_module_version": "1.5.0",
       "_model_name": "DescriptionStyleModel",
       "_view_count": null,
       "_view_module": "@jupyter-widgets/base",
       "_view_module_version": "1.2.0",
       "_view_name": "StyleView",
       "description_width": ""
      }
     },
     "c23945109c114bac916fdcf29bfd0cfd": {
      "model_module": "@jupyter-widgets/base",
      "model_module_version": "1.2.0",
      "model_name": "LayoutModel",
      "state": {
       "_model_module": "@jupyter-widgets/base",
       "_model_module_version": "1.2.0",
       "_model_name": "LayoutModel",
       "_view_count": null,
       "_view_module": "@jupyter-widgets/base",
       "_view_module_version": "1.2.0",
       "_view_name": "LayoutView",
       "align_content": null,
       "align_items": null,
       "align_self": null,
       "border": null,
       "bottom": null,
       "display": null,
       "flex": null,
       "flex_flow": null,
       "grid_area": null,
       "grid_auto_columns": null,
       "grid_auto_flow": null,
       "grid_auto_rows": null,
       "grid_column": null,
       "grid_gap": null,
       "grid_row": null,
       "grid_template_areas": null,
       "grid_template_columns": null,
       "grid_template_rows": null,
       "height": null,
       "justify_content": null,
       "justify_items": null,
       "left": null,
       "margin": null,
       "max_height": null,
       "max_width": null,
       "min_height": null,
       "min_width": null,
       "object_fit": null,
       "object_position": null,
       "order": null,
       "overflow": null,
       "overflow_x": null,
       "overflow_y": null,
       "padding": null,
       "right": null,
       "top": null,
       "visibility": null,
       "width": null
      }
     },
     "caf815166a9449dd802f15d4321e3065": {
      "model_module": "@jupyter-widgets/controls",
      "model_module_version": "1.5.0",
      "model_name": "DescriptionStyleModel",
      "state": {
       "_model_module": "@jupyter-widgets/controls",
       "_model_module_version": "1.5.0",
       "_model_name": "DescriptionStyleModel",
       "_view_count": null,
       "_view_module": "@jupyter-widgets/base",
       "_view_module_version": "1.2.0",
       "_view_name": "StyleView",
       "description_width": ""
      }
     },
     "cccd5dbd88a240f0bfe9b2d9cae8de8d": {
      "model_module": "@jupyter-widgets/controls",
      "model_module_version": "1.5.0",
      "model_name": "HBoxModel",
      "state": {
       "_dom_classes": [],
       "_model_module": "@jupyter-widgets/controls",
       "_model_module_version": "1.5.0",
       "_model_name": "HBoxModel",
       "_view_count": null,
       "_view_module": "@jupyter-widgets/controls",
       "_view_module_version": "1.5.0",
       "_view_name": "HBoxView",
       "box_style": "",
       "children": [
        "IPY_MODEL_9ac66bd19aa449c78075f2ef3cc16996",
        "IPY_MODEL_1834e6a9cab64964b776c55c5deaef88",
        "IPY_MODEL_0c6e91f58c3b48c8b61d3f41cfc9d94c"
       ],
       "layout": "IPY_MODEL_1b2bc62370b149b381e089b0241be385"
      }
     },
     "d16c91cd755c446a8ba422bec7c60c77": {
      "model_module": "@jupyter-widgets/controls",
      "model_module_version": "1.5.0",
      "model_name": "HTMLModel",
      "state": {
       "_dom_classes": [],
       "_model_module": "@jupyter-widgets/controls",
       "_model_module_version": "1.5.0",
       "_model_name": "HTMLModel",
       "_view_count": null,
       "_view_module": "@jupyter-widgets/controls",
       "_view_module_version": "1.5.0",
       "_view_name": "HTMLView",
       "description": "",
       "description_tooltip": null,
       "layout": "IPY_MODEL_fbb9bbeec737442cac014bbc5bb29ffb",
       "placeholder": "​",
       "style": "IPY_MODEL_03b203aea1d74c5599f89e3754e6085a",
       "value": " 438M/438M [00:11&lt;00:00, 32.1MB/s]"
      }
     },
     "d5914e1d823640bebe06452bd19e97be": {
      "model_module": "@jupyter-widgets/base",
      "model_module_version": "1.2.0",
      "model_name": "LayoutModel",
      "state": {
       "_model_module": "@jupyter-widgets/base",
       "_model_module_version": "1.2.0",
       "_model_name": "LayoutModel",
       "_view_count": null,
       "_view_module": "@jupyter-widgets/base",
       "_view_module_version": "1.2.0",
       "_view_name": "LayoutView",
       "align_content": null,
       "align_items": null,
       "align_self": null,
       "border": null,
       "bottom": null,
       "display": null,
       "flex": null,
       "flex_flow": null,
       "grid_area": null,
       "grid_auto_columns": null,
       "grid_auto_flow": null,
       "grid_auto_rows": null,
       "grid_column": null,
       "grid_gap": null,
       "grid_row": null,
       "grid_template_areas": null,
       "grid_template_columns": null,
       "grid_template_rows": null,
       "height": null,
       "justify_content": null,
       "justify_items": null,
       "left": null,
       "margin": null,
       "max_height": null,
       "max_width": null,
       "min_height": null,
       "min_width": null,
       "object_fit": null,
       "object_position": null,
       "order": null,
       "overflow": null,
       "overflow_x": null,
       "overflow_y": null,
       "padding": null,
       "right": null,
       "top": null,
       "visibility": null,
       "width": null
      }
     },
     "dca6e955a7fa411bb71fe5488a7d08b3": {
      "model_module": "@jupyter-widgets/controls",
      "model_module_version": "1.5.0",
      "model_name": "DescriptionStyleModel",
      "state": {
       "_model_module": "@jupyter-widgets/controls",
       "_model_module_version": "1.5.0",
       "_model_name": "DescriptionStyleModel",
       "_view_count": null,
       "_view_module": "@jupyter-widgets/base",
       "_view_module_version": "1.2.0",
       "_view_name": "StyleView",
       "description_width": ""
      }
     },
     "e5efb23424684d7a9a5262e5e503d5dc": {
      "model_module": "@jupyter-widgets/base",
      "model_module_version": "1.2.0",
      "model_name": "LayoutModel",
      "state": {
       "_model_module": "@jupyter-widgets/base",
       "_model_module_version": "1.2.0",
       "_model_name": "LayoutModel",
       "_view_count": null,
       "_view_module": "@jupyter-widgets/base",
       "_view_module_version": "1.2.0",
       "_view_name": "LayoutView",
       "align_content": null,
       "align_items": null,
       "align_self": null,
       "border": null,
       "bottom": null,
       "display": null,
       "flex": null,
       "flex_flow": null,
       "grid_area": null,
       "grid_auto_columns": null,
       "grid_auto_flow": null,
       "grid_auto_rows": null,
       "grid_column": null,
       "grid_gap": null,
       "grid_row": null,
       "grid_template_areas": null,
       "grid_template_columns": null,
       "grid_template_rows": null,
       "height": null,
       "justify_content": null,
       "justify_items": null,
       "left": null,
       "margin": null,
       "max_height": null,
       "max_width": null,
       "min_height": null,
       "min_width": null,
       "object_fit": null,
       "object_position": null,
       "order": null,
       "overflow": null,
       "overflow_x": null,
       "overflow_y": null,
       "padding": null,
       "right": null,
       "top": null,
       "visibility": null,
       "width": null
      }
     },
     "e9d18d6b2e1f47cd8cbbafa2ff78e746": {
      "model_module": "@jupyter-widgets/controls",
      "model_module_version": "1.5.0",
      "model_name": "DescriptionStyleModel",
      "state": {
       "_model_module": "@jupyter-widgets/controls",
       "_model_module_version": "1.5.0",
       "_model_name": "DescriptionStyleModel",
       "_view_count": null,
       "_view_module": "@jupyter-widgets/base",
       "_view_module_version": "1.2.0",
       "_view_name": "StyleView",
       "description_width": ""
      }
     },
     "eb739749d9234696adff01dff6363e6d": {
      "model_module": "@jupyter-widgets/base",
      "model_module_version": "1.2.0",
      "model_name": "LayoutModel",
      "state": {
       "_model_module": "@jupyter-widgets/base",
       "_model_module_version": "1.2.0",
       "_model_name": "LayoutModel",
       "_view_count": null,
       "_view_module": "@jupyter-widgets/base",
       "_view_module_version": "1.2.0",
       "_view_name": "LayoutView",
       "align_content": null,
       "align_items": null,
       "align_self": null,
       "border": null,
       "bottom": null,
       "display": null,
       "flex": null,
       "flex_flow": null,
       "grid_area": null,
       "grid_auto_columns": null,
       "grid_auto_flow": null,
       "grid_auto_rows": null,
       "grid_column": null,
       "grid_gap": null,
       "grid_row": null,
       "grid_template_areas": null,
       "grid_template_columns": null,
       "grid_template_rows": null,
       "height": null,
       "justify_content": null,
       "justify_items": null,
       "left": null,
       "margin": null,
       "max_height": null,
       "max_width": null,
       "min_height": null,
       "min_width": null,
       "object_fit": null,
       "object_position": null,
       "order": null,
       "overflow": null,
       "overflow_x": null,
       "overflow_y": null,
       "padding": null,
       "right": null,
       "top": null,
       "visibility": null,
       "width": null
      }
     },
     "f9b448a6424e45d1950ea588795cf97f": {
      "model_module": "@jupyter-widgets/base",
      "model_module_version": "1.2.0",
      "model_name": "LayoutModel",
      "state": {
       "_model_module": "@jupyter-widgets/base",
       "_model_module_version": "1.2.0",
       "_model_name": "LayoutModel",
       "_view_count": null,
       "_view_module": "@jupyter-widgets/base",
       "_view_module_version": "1.2.0",
       "_view_name": "LayoutView",
       "align_content": null,
       "align_items": null,
       "align_self": null,
       "border": null,
       "bottom": null,
       "display": null,
       "flex": null,
       "flex_flow": null,
       "grid_area": null,
       "grid_auto_columns": null,
       "grid_auto_flow": null,
       "grid_auto_rows": null,
       "grid_column": null,
       "grid_gap": null,
       "grid_row": null,
       "grid_template_areas": null,
       "grid_template_columns": null,
       "grid_template_rows": null,
       "height": null,
       "justify_content": null,
       "justify_items": null,
       "left": null,
       "margin": null,
       "max_height": null,
       "max_width": null,
       "min_height": null,
       "min_width": null,
       "object_fit": null,
       "object_position": null,
       "order": null,
       "overflow": null,
       "overflow_x": null,
       "overflow_y": null,
       "padding": null,
       "right": null,
       "top": null,
       "visibility": null,
       "width": null
      }
     },
     "fbb9bbeec737442cac014bbc5bb29ffb": {
      "model_module": "@jupyter-widgets/base",
      "model_module_version": "1.2.0",
      "model_name": "LayoutModel",
      "state": {
       "_model_module": "@jupyter-widgets/base",
       "_model_module_version": "1.2.0",
       "_model_name": "LayoutModel",
       "_view_count": null,
       "_view_module": "@jupyter-widgets/base",
       "_view_module_version": "1.2.0",
       "_view_name": "LayoutView",
       "align_content": null,
       "align_items": null,
       "align_self": null,
       "border": null,
       "bottom": null,
       "display": null,
       "flex": null,
       "flex_flow": null,
       "grid_area": null,
       "grid_auto_columns": null,
       "grid_auto_flow": null,
       "grid_auto_rows": null,
       "grid_column": null,
       "grid_gap": null,
       "grid_row": null,
       "grid_template_areas": null,
       "grid_template_columns": null,
       "grid_template_rows": null,
       "height": null,
       "justify_content": null,
       "justify_items": null,
       "left": null,
       "margin": null,
       "max_height": null,
       "max_width": null,
       "min_height": null,
       "min_width": null,
       "object_fit": null,
       "object_position": null,
       "order": null,
       "overflow": null,
       "overflow_x": null,
       "overflow_y": null,
       "padding": null,
       "right": null,
       "top": null,
       "visibility": null,
       "width": null
      }
     },
     "fd9647ba2596429ea4b80d465ba2ff45": {
      "model_module": "@jupyter-widgets/base",
      "model_module_version": "1.2.0",
      "model_name": "LayoutModel",
      "state": {
       "_model_module": "@jupyter-widgets/base",
       "_model_module_version": "1.2.0",
       "_model_name": "LayoutModel",
       "_view_count": null,
       "_view_module": "@jupyter-widgets/base",
       "_view_module_version": "1.2.0",
       "_view_name": "LayoutView",
       "align_content": null,
       "align_items": null,
       "align_self": null,
       "border": null,
       "bottom": null,
       "display": null,
       "flex": null,
       "flex_flow": null,
       "grid_area": null,
       "grid_auto_columns": null,
       "grid_auto_flow": null,
       "grid_auto_rows": null,
       "grid_column": null,
       "grid_gap": null,
       "grid_row": null,
       "grid_template_areas": null,
       "grid_template_columns": null,
       "grid_template_rows": null,
       "height": null,
       "justify_content": null,
       "justify_items": null,
       "left": null,
       "margin": null,
       "max_height": null,
       "max_width": null,
       "min_height": null,
       "min_width": null,
       "object_fit": null,
       "object_position": null,
       "order": null,
       "overflow": null,
       "overflow_x": null,
       "overflow_y": null,
       "padding": null,
       "right": null,
       "top": null,
       "visibility": null,
       "width": null
      }
     }
    },
    "version_major": 2,
    "version_minor": 0
   }
  }
 },
 "nbformat": 4,
 "nbformat_minor": 5
}

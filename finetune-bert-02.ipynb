{
 "cells": [
  {
   "cell_type": "code",
   "execution_count": 1,
   "id": "c764707d",
   "metadata": {
    "_cell_guid": "b1076dfc-b9ad-4769-8c92-a6c4dae69d19",
    "_uuid": "8f2839f25d086af736a60e9eeb907d3b93b6e0e5",
    "execution": {
     "iopub.execute_input": "2024-06-05T19:05:24.756381Z",
     "iopub.status.busy": "2024-06-05T19:05:24.756018Z",
     "iopub.status.idle": "2024-06-05T19:05:25.606173Z",
     "shell.execute_reply": "2024-06-05T19:05:25.605179Z"
    },
    "papermill": {
     "duration": 0.875301,
     "end_time": "2024-06-05T19:05:25.608781",
     "exception": false,
     "start_time": "2024-06-05T19:05:24.733480",
     "status": "completed"
    },
    "tags": []
   },
   "outputs": [
    {
     "name": "stdout",
     "output_type": "stream",
     "text": [
      "/kaggle/input/crypto-regulations-yirifi/mappingtoBERT_6.csv\n",
      "/kaggle/input/crypto-regulations-yirifi/mappingtoBERT_5.csv\n",
      "/kaggle/input/crypto-regulations-yirifi/output_improved.csv\n",
      "/kaggle/input/crypto-regulations-yirifi/master_data_gpt4o_improved_latest.csv\n",
      "/kaggle/input/crypto-regulations-yirifi/CSV_data_gpt_4o/CSV_data_gpt_4o/18.csv\n",
      "/kaggle/input/crypto-regulations-yirifi/CSV_data_gpt_4o/CSV_data_gpt_4o/20.csv\n",
      "/kaggle/input/crypto-regulations-yirifi/CSV_data_gpt_4o/CSV_data_gpt_4o/1.csv\n",
      "/kaggle/input/crypto-regulations-yirifi/CSV_data_gpt_4o/CSV_data_gpt_4o/24.csv\n",
      "/kaggle/input/crypto-regulations-yirifi/CSV_data_gpt_4o/CSV_data_gpt_4o/11.csv\n",
      "/kaggle/input/crypto-regulations-yirifi/CSV_data_gpt_4o/CSV_data_gpt_4o/30.csv\n",
      "/kaggle/input/crypto-regulations-yirifi/CSV_data_gpt_4o/CSV_data_gpt_4o/17.csv\n",
      "/kaggle/input/crypto-regulations-yirifi/CSV_data_gpt_4o/CSV_data_gpt_4o/16.csv\n",
      "/kaggle/input/crypto-regulations-yirifi/CSV_data_gpt_4o/CSV_data_gpt_4o/3.csv\n",
      "/kaggle/input/crypto-regulations-yirifi/CSV_data_gpt_4o/CSV_data_gpt_4o/31.csv\n",
      "/kaggle/input/crypto-regulations-yirifi/CSV_data_gpt_4o/CSV_data_gpt_4o/19.csv\n",
      "/kaggle/input/crypto-regulations-yirifi/CSV_data_gpt_4o/CSV_data_gpt_4o/5.csv\n",
      "/kaggle/input/crypto-regulations-yirifi/CSV_data_gpt_4o/CSV_data_gpt_4o/2.csv\n",
      "/kaggle/input/crypto-regulations-yirifi/CSV_data_gpt_4o/CSV_data_gpt_4o/26.csv\n",
      "/kaggle/input/crypto-regulations-yirifi/CSV_data_gpt_4o/CSV_data_gpt_4o/28.csv\n",
      "/kaggle/input/crypto-regulations-yirifi/CSV_data_gpt_4o/CSV_data_gpt_4o/13.csv\n",
      "/kaggle/input/crypto-regulations-yirifi/CSV_data_gpt_4o/CSV_data_gpt_4o/23.csv\n",
      "/kaggle/input/crypto-regulations-yirifi/CSV_data_gpt_4o/CSV_data_gpt_4o/14.csv\n",
      "/kaggle/input/crypto-regulations-yirifi/CSV_data_gpt_4o/CSV_data_gpt_4o/4.csv\n",
      "/kaggle/input/crypto-regulations-yirifi/CSV_data_gpt_4o/CSV_data_gpt_4o/22.csv\n",
      "/kaggle/input/crypto-regulations-yirifi/CSV_data_gpt_4o/CSV_data_gpt_4o/8.csv\n",
      "/kaggle/input/crypto-regulations-yirifi/CSV_data_gpt_4o/CSV_data_gpt_4o/12.csv\n",
      "/kaggle/input/crypto-regulations-yirifi/CSV_data_gpt_4o/CSV_data_gpt_4o/9.csv\n",
      "/kaggle/input/crypto-regulations-yirifi/CSV_data_gpt_4o/CSV_data_gpt_4o/7.csv\n",
      "/kaggle/input/crypto-regulations-yirifi/CSV_data_gpt_4o/CSV_data_gpt_4o/15.csv\n",
      "/kaggle/input/crypto-regulations-yirifi/CSV_data_gpt_4o/CSV_data_gpt_4o/6.csv\n",
      "/kaggle/input/crypto-regulations-yirifi/CSV_data_gpt_4o/CSV_data_gpt_4o/10.csv\n",
      "/kaggle/input/crypto-regulations-yirifi/CSV_data_gpt_4o/CSV_data_gpt_4o/25.csv\n",
      "/kaggle/input/crypto-regulations-yirifi/CSV_data_gpt_4o/CSV_data_gpt_4o/29.csv\n",
      "/kaggle/input/crypto-regulations-yirifi/CSV_data_gpt_4o/CSV_data_gpt_4o/21.csv\n",
      "/kaggle/input/crypto-regulations-yirifi/CSV_data_gpt_4o/CSV_data_gpt_4o/32.csv\n",
      "/kaggle/input/crypto-regulations-yirifi/CSV_data_gpt_4o/CSV_data_gpt_4o/27.csv\n",
      "/kaggle/input/crypto-regulations-yirifi/csv_data/csv_data/18.csv\n",
      "/kaggle/input/crypto-regulations-yirifi/csv_data/csv_data/20.csv\n",
      "/kaggle/input/crypto-regulations-yirifi/csv_data/csv_data/1.csv\n",
      "/kaggle/input/crypto-regulations-yirifi/csv_data/csv_data/24.csv\n",
      "/kaggle/input/crypto-regulations-yirifi/csv_data/csv_data/11.csv\n",
      "/kaggle/input/crypto-regulations-yirifi/csv_data/csv_data/30.csv\n",
      "/kaggle/input/crypto-regulations-yirifi/csv_data/csv_data/17.csv\n",
      "/kaggle/input/crypto-regulations-yirifi/csv_data/csv_data/16.csv\n",
      "/kaggle/input/crypto-regulations-yirifi/csv_data/csv_data/3.csv\n",
      "/kaggle/input/crypto-regulations-yirifi/csv_data/csv_data/31.csv\n",
      "/kaggle/input/crypto-regulations-yirifi/csv_data/csv_data/19.csv\n",
      "/kaggle/input/crypto-regulations-yirifi/csv_data/csv_data/5.csv\n",
      "/kaggle/input/crypto-regulations-yirifi/csv_data/csv_data/2.csv\n",
      "/kaggle/input/crypto-regulations-yirifi/csv_data/csv_data/26.csv\n",
      "/kaggle/input/crypto-regulations-yirifi/csv_data/csv_data/28.csv\n",
      "/kaggle/input/crypto-regulations-yirifi/csv_data/csv_data/13.csv\n",
      "/kaggle/input/crypto-regulations-yirifi/csv_data/csv_data/23.csv\n",
      "/kaggle/input/crypto-regulations-yirifi/csv_data/csv_data/14.csv\n",
      "/kaggle/input/crypto-regulations-yirifi/csv_data/csv_data/4.csv\n",
      "/kaggle/input/crypto-regulations-yirifi/csv_data/csv_data/22.csv\n",
      "/kaggle/input/crypto-regulations-yirifi/csv_data/csv_data/8.csv\n",
      "/kaggle/input/crypto-regulations-yirifi/csv_data/csv_data/12.csv\n",
      "/kaggle/input/crypto-regulations-yirifi/csv_data/csv_data/9.csv\n",
      "/kaggle/input/crypto-regulations-yirifi/csv_data/csv_data/7.csv\n",
      "/kaggle/input/crypto-regulations-yirifi/csv_data/csv_data/15.csv\n",
      "/kaggle/input/crypto-regulations-yirifi/csv_data/csv_data/6.csv\n",
      "/kaggle/input/crypto-regulations-yirifi/csv_data/csv_data/10.csv\n",
      "/kaggle/input/crypto-regulations-yirifi/csv_data/csv_data/25.csv\n",
      "/kaggle/input/crypto-regulations-yirifi/csv_data/csv_data/29.csv\n",
      "/kaggle/input/crypto-regulations-yirifi/csv_data/csv_data/21.csv\n",
      "/kaggle/input/crypto-regulations-yirifi/csv_data/csv_data/32.csv\n",
      "/kaggle/input/crypto-regulations-yirifi/csv_data/csv_data/27.csv\n",
      "/kaggle/input/crypto-regulations-yirifi/CSV_data_improved/CSV_data_improved/18.csv\n",
      "/kaggle/input/crypto-regulations-yirifi/CSV_data_improved/CSV_data_improved/20.csv\n",
      "/kaggle/input/crypto-regulations-yirifi/CSV_data_improved/CSV_data_improved/1.csv\n",
      "/kaggle/input/crypto-regulations-yirifi/CSV_data_improved/CSV_data_improved/24.csv\n",
      "/kaggle/input/crypto-regulations-yirifi/CSV_data_improved/CSV_data_improved/11.csv\n",
      "/kaggle/input/crypto-regulations-yirifi/CSV_data_improved/CSV_data_improved/30.csv\n",
      "/kaggle/input/crypto-regulations-yirifi/CSV_data_improved/CSV_data_improved/17.csv\n",
      "/kaggle/input/crypto-regulations-yirifi/CSV_data_improved/CSV_data_improved/16.csv\n",
      "/kaggle/input/crypto-regulations-yirifi/CSV_data_improved/CSV_data_improved/3.csv\n",
      "/kaggle/input/crypto-regulations-yirifi/CSV_data_improved/CSV_data_improved/31.csv\n",
      "/kaggle/input/crypto-regulations-yirifi/CSV_data_improved/CSV_data_improved/19.csv\n",
      "/kaggle/input/crypto-regulations-yirifi/CSV_data_improved/CSV_data_improved/5.csv\n",
      "/kaggle/input/crypto-regulations-yirifi/CSV_data_improved/CSV_data_improved/2.csv\n",
      "/kaggle/input/crypto-regulations-yirifi/CSV_data_improved/CSV_data_improved/26.csv\n",
      "/kaggle/input/crypto-regulations-yirifi/CSV_data_improved/CSV_data_improved/28.csv\n",
      "/kaggle/input/crypto-regulations-yirifi/CSV_data_improved/CSV_data_improved/13.csv\n",
      "/kaggle/input/crypto-regulations-yirifi/CSV_data_improved/CSV_data_improved/23.csv\n",
      "/kaggle/input/crypto-regulations-yirifi/CSV_data_improved/CSV_data_improved/14.csv\n",
      "/kaggle/input/crypto-regulations-yirifi/CSV_data_improved/CSV_data_improved/4.csv\n",
      "/kaggle/input/crypto-regulations-yirifi/CSV_data_improved/CSV_data_improved/22.csv\n",
      "/kaggle/input/crypto-regulations-yirifi/CSV_data_improved/CSV_data_improved/8.csv\n",
      "/kaggle/input/crypto-regulations-yirifi/CSV_data_improved/CSV_data_improved/12.csv\n",
      "/kaggle/input/crypto-regulations-yirifi/CSV_data_improved/CSV_data_improved/9.csv\n",
      "/kaggle/input/crypto-regulations-yirifi/CSV_data_improved/CSV_data_improved/7.csv\n",
      "/kaggle/input/crypto-regulations-yirifi/CSV_data_improved/CSV_data_improved/15.csv\n",
      "/kaggle/input/crypto-regulations-yirifi/CSV_data_improved/CSV_data_improved/6.csv\n",
      "/kaggle/input/crypto-regulations-yirifi/CSV_data_improved/CSV_data_improved/10.csv\n",
      "/kaggle/input/crypto-regulations-yirifi/CSV_data_improved/CSV_data_improved/25.csv\n",
      "/kaggle/input/crypto-regulations-yirifi/CSV_data_improved/CSV_data_improved/29.csv\n",
      "/kaggle/input/crypto-regulations-yirifi/CSV_data_improved/CSV_data_improved/21.csv\n",
      "/kaggle/input/crypto-regulations-yirifi/CSV_data_improved/CSV_data_improved/32.csv\n",
      "/kaggle/input/crypto-regulations-yirifi/CSV_data_improved/CSV_data_improved/27.csv\n"
     ]
    }
   ],
   "source": [
    "# This Python 3 environment comes with many helpful analytics libraries installed\n",
    "# It is defined by the kaggle/python Docker image: https://github.com/kaggle/docker-python\n",
    "# For example, here's several helpful packages to load\n",
    "\n",
    "import numpy as np # linear algebra\n",
    "import pandas as pd # data processing, CSV file I/O (e.g. pd.read_csv)\n",
    "\n",
    "# Input data files are available in the read-only \"../input/\" directory\n",
    "# For example, running this (by clicking run or pressing Shift+Enter) will list all files under the input directory\n",
    "\n",
    "import os\n",
    "for dirname, _, filenames in os.walk('/kaggle/input'):\n",
    "    for filename in filenames:\n",
    "        print(os.path.join(dirname, filename))\n",
    "\n",
    "# You can write up to 20GB to the current directory (/kaggle/working/) that gets preserved as output when you create a version using \"Save & Run All\" \n",
    "# You can also write temporary files to /kaggle/temp/, but they won't be saved outside of the current session"
   ]
  },
  {
   "cell_type": "markdown",
   "id": "12c23c8a",
   "metadata": {
    "papermill": {
     "duration": 0.020731,
     "end_time": "2024-06-05T19:05:25.649657",
     "exception": false,
     "start_time": "2024-06-05T19:05:25.628926",
     "status": "completed"
    },
    "tags": []
   },
   "source": [
    "# Data import and cleaning up the data"
   ]
  },
  {
   "cell_type": "code",
   "execution_count": 2,
   "id": "acb8da19",
   "metadata": {
    "execution": {
     "iopub.execute_input": "2024-06-05T19:05:25.691831Z",
     "iopub.status.busy": "2024-06-05T19:05:25.691379Z",
     "iopub.status.idle": "2024-06-05T19:05:25.774799Z",
     "shell.execute_reply": "2024-06-05T19:05:25.773995Z"
    },
    "papermill": {
     "duration": 0.107301,
     "end_time": "2024-06-05T19:05:25.777170",
     "exception": false,
     "start_time": "2024-06-05T19:05:25.669869",
     "status": "completed"
    },
    "tags": []
   },
   "outputs": [],
   "source": [
    "df = pd.read_csv(\"/kaggle/input/crypto-regulations-yirifi/mappingtoBERT_6.csv\")"
   ]
  },
  {
   "cell_type": "code",
   "execution_count": 3,
   "id": "06a822e8",
   "metadata": {
    "execution": {
     "iopub.execute_input": "2024-06-05T19:05:25.818319Z",
     "iopub.status.busy": "2024-06-05T19:05:25.817443Z",
     "iopub.status.idle": "2024-06-05T19:05:25.824130Z",
     "shell.execute_reply": "2024-06-05T19:05:25.823337Z"
    },
    "papermill": {
     "duration": 0.028957,
     "end_time": "2024-06-05T19:05:25.825894",
     "exception": false,
     "start_time": "2024-06-05T19:05:25.796937",
     "status": "completed"
    },
    "tags": []
   },
   "outputs": [
    {
     "data": {
      "text/plain": [
       "(5965, 4)"
      ]
     },
     "execution_count": 3,
     "metadata": {},
     "output_type": "execute_result"
    }
   ],
   "source": [
    "df.shape"
   ]
  },
  {
   "cell_type": "code",
   "execution_count": 4,
   "id": "e8d8519a",
   "metadata": {
    "execution": {
     "iopub.execute_input": "2024-06-05T19:05:25.864312Z",
     "iopub.status.busy": "2024-06-05T19:05:25.864042Z",
     "iopub.status.idle": "2024-06-05T19:05:25.882805Z",
     "shell.execute_reply": "2024-06-05T19:05:25.881866Z"
    },
    "papermill": {
     "duration": 0.040255,
     "end_time": "2024-06-05T19:05:25.884777",
     "exception": false,
     "start_time": "2024-06-05T19:05:25.844522",
     "status": "completed"
    },
    "tags": []
   },
   "outputs": [
    {
     "data": {
      "text/html": [
       "<div>\n",
       "<style scoped>\n",
       "    .dataframe tbody tr th:only-of-type {\n",
       "        vertical-align: middle;\n",
       "    }\n",
       "\n",
       "    .dataframe tbody tr th {\n",
       "        vertical-align: top;\n",
       "    }\n",
       "\n",
       "    .dataframe thead th {\n",
       "        text-align: right;\n",
       "    }\n",
       "</style>\n",
       "<table border=\"1\" class=\"dataframe\">\n",
       "  <thead>\n",
       "    <tr style=\"text-align: right;\">\n",
       "      <th></th>\n",
       "      <th>Unnamed: 0</th>\n",
       "      <th>Content</th>\n",
       "      <th>Concepts</th>\n",
       "      <th>bert_concepts</th>\n",
       "    </tr>\n",
       "  </thead>\n",
       "  <tbody>\n",
       "    <tr>\n",
       "      <th>5955</th>\n",
       "      <td>5955</td>\n",
       "      <td>Content|ÄúRegulationsÄù|means the Virtual As...</td>\n",
       "      <td>amended, related activities, 2023, supplemente...</td>\n",
       "      <td>regulations, virtual assets</td>\n",
       "    </tr>\n",
       "    <tr>\n",
       "      <th>5956</th>\n",
       "      <td>5956</td>\n",
       "      <td>Content|ÄúReserve AssetsÄù|has the meaning a...</td>\n",
       "      <td>frva rules, reserve assets, rule i.a.5</td>\n",
       "      <td>rules</td>\n",
       "    </tr>\n",
       "    <tr>\n",
       "      <th>5957</th>\n",
       "      <td>5957</td>\n",
       "      <td>Content|ÄúSenior ManagementÄù|has the meanin...</td>\n",
       "      <td>company rulebook, senior management</td>\n",
       "      <td>rulebook</td>\n",
       "    </tr>\n",
       "    <tr>\n",
       "      <th>5958</th>\n",
       "      <td>5958</td>\n",
       "      <td>Content|ÄúSignificant FRVA IssuerÄù|means a ...</td>\n",
       "      <td>rule i.c.1, vara, frva rules, vasp, significan...</td>\n",
       "      <td>rules, vasp</td>\n",
       "    </tr>\n",
       "    <tr>\n",
       "      <th>5959</th>\n",
       "      <td>5959</td>\n",
       "      <td>Content|ÄúTechnology and Information\\nRuleboo...</td>\n",
       "      <td>amended, information, vara, technology, regula...</td>\n",
       "      <td>regulations, rulebook</td>\n",
       "    </tr>\n",
       "    <tr>\n",
       "      <th>5960</th>\n",
       "      <td>5960</td>\n",
       "      <td>Content|ÄúVA Issuance RulebookÄù|means the V...</td>\n",
       "      <td>amended, supplemented, vara, virtual asset iss...</td>\n",
       "      <td>regulations, virtual assets, rulebook</td>\n",
       "    </tr>\n",
       "    <tr>\n",
       "      <th>5961</th>\n",
       "      <td>5961</td>\n",
       "      <td>Content|ÄúVARAÄù|means the Dubai Virtual Ass...</td>\n",
       "      <td>vara, dubai, regulatory authority, virtual assets</td>\n",
       "      <td>authority, virtual assets, regulator</td>\n",
       "    </tr>\n",
       "    <tr>\n",
       "      <th>5962</th>\n",
       "      <td>5962</td>\n",
       "      <td>Content|ÄúVirtual AssetÄù or ÄúVAÄù|has th...</td>\n",
       "      <td>dubai va law, va, regulatory, compliance, virt...</td>\n",
       "      <td>compliance, virtual assets, regulator</td>\n",
       "    </tr>\n",
       "    <tr>\n",
       "      <th>5963</th>\n",
       "      <td>5963</td>\n",
       "      <td>Content|ÄúWhitepaperÄù|has the meaning ascri...</td>\n",
       "      <td>bank, whitepaper, regulatory compliance, compl...</td>\n",
       "      <td>compliance, virtual assets, rulebook, regulator</td>\n",
       "    </tr>\n",
       "    <tr>\n",
       "      <th>5964</th>\n",
       "      <td>5964</td>\n",
       "      <td>Content|ÄúWorking DayÄù|means any day which ...</td>\n",
       "      <td>public holiday, weekend, bank, hong kong, regu...</td>\n",
       "      <td>compliance, virtual assets, regulator</td>\n",
       "    </tr>\n",
       "  </tbody>\n",
       "</table>\n",
       "</div>"
      ],
      "text/plain": [
       "      Unnamed: 0                                            Content  \\\n",
       "5955        5955  Content|ÄúRegulationsÄù|means the Virtual As...   \n",
       "5956        5956  Content|ÄúReserve AssetsÄù|has the meaning a...   \n",
       "5957        5957  Content|ÄúSenior ManagementÄù|has the meanin...   \n",
       "5958        5958  Content|ÄúSignificant FRVA IssuerÄù|means a ...   \n",
       "5959        5959  Content|ÄúTechnology and Information\\nRuleboo...   \n",
       "5960        5960  Content|ÄúVA Issuance RulebookÄù|means the V...   \n",
       "5961        5961  Content|ÄúVARAÄù|means the Dubai Virtual Ass...   \n",
       "5962        5962  Content|ÄúVirtual AssetÄù or ÄúVAÄù|has th...   \n",
       "5963        5963  Content|ÄúWhitepaperÄù|has the meaning ascri...   \n",
       "5964        5964  Content|ÄúWorking DayÄù|means any day which ...   \n",
       "\n",
       "                                               Concepts  \\\n",
       "5955  amended, related activities, 2023, supplemente...   \n",
       "5956             frva rules, reserve assets, rule i.a.5   \n",
       "5957                company rulebook, senior management   \n",
       "5958  rule i.c.1, vara, frva rules, vasp, significan...   \n",
       "5959  amended, information, vara, technology, regula...   \n",
       "5960  amended, supplemented, vara, virtual asset iss...   \n",
       "5961  vara, dubai, regulatory authority, virtual assets   \n",
       "5962  dubai va law, va, regulatory, compliance, virt...   \n",
       "5963  bank, whitepaper, regulatory compliance, compl...   \n",
       "5964  public holiday, weekend, bank, hong kong, regu...   \n",
       "\n",
       "                                        bert_concepts  \n",
       "5955                      regulations, virtual assets  \n",
       "5956                                            rules  \n",
       "5957                                         rulebook  \n",
       "5958                                      rules, vasp  \n",
       "5959                            regulations, rulebook  \n",
       "5960            regulations, virtual assets, rulebook  \n",
       "5961             authority, virtual assets, regulator  \n",
       "5962            compliance, virtual assets, regulator  \n",
       "5963  compliance, virtual assets, rulebook, regulator  \n",
       "5964            compliance, virtual assets, regulator  "
      ]
     },
     "execution_count": 4,
     "metadata": {},
     "output_type": "execute_result"
    }
   ],
   "source": [
    "df.tail(10)"
   ]
  },
  {
   "cell_type": "code",
   "execution_count": 5,
   "id": "c3c6b6a6",
   "metadata": {
    "execution": {
     "iopub.execute_input": "2024-06-05T19:05:25.924482Z",
     "iopub.status.busy": "2024-06-05T19:05:25.923877Z",
     "iopub.status.idle": "2024-06-05T19:05:26.015796Z",
     "shell.execute_reply": "2024-06-05T19:05:26.014783Z"
    },
    "papermill": {
     "duration": 0.11414,
     "end_time": "2024-06-05T19:05:26.017867",
     "exception": false,
     "start_time": "2024-06-05T19:05:25.903727",
     "status": "completed"
    },
    "tags": []
   },
   "outputs": [
    {
     "name": "stdout",
     "output_type": "stream",
     "text": [
      "Number of rows with URLs: 22\n",
      "Number of rows with user references: 12\n",
      "Number of rows with hashtags: 0\n",
      "Number of rows with non-alphanumeric characters: 5913\n"
     ]
    }
   ],
   "source": [
    "import re\n",
    "# Function to check for URLs\n",
    "def contains_url(text):\n",
    "    text = str(text)\n",
    "    return bool(re.search(r'http\\S+|www\\S+|https\\S+', text))\n",
    "\n",
    "# Function to check for user references (@user)\n",
    "def contains_user_reference(text):\n",
    "    text = str(text)\n",
    "    return bool(re.search(r'\\@\\w+', text))\n",
    "\n",
    "# Function to check for hashtags\n",
    "def contains_hashtag(text):\n",
    "    text = str(text)\n",
    "    return bool(re.search(r'\\#\\w+', text))\n",
    "\n",
    "# Function to check for non-alphanumeric characters\n",
    "def contains_non_alphanumeric(text):\n",
    "    text = str(text)\n",
    "    return bool(re.search(r'[^a-zA-Z0-9\\s]', text))\n",
    "\n",
    "# Apply the functions to the DataFrame\n",
    "df['contains_url'] = df['Content'].apply(contains_url)\n",
    "df['contains_user_reference'] = df['Content'].apply(contains_user_reference)\n",
    "df['contains_hashtag'] = df['Content'].apply(contains_hashtag)\n",
    "df['contains_non_alphanumeric'] = df['Content'].apply(contains_non_alphanumeric)\n",
    "\n",
    "# Check rows that match each condition\n",
    "url_count = df['contains_url'].sum()\n",
    "user_reference_count = df['contains_user_reference'].sum()\n",
    "hashtag_count = df['contains_hashtag'].sum()\n",
    "non_alphanumeric_count = df['contains_non_alphanumeric'].sum()\n",
    "\n",
    "# Print results\n",
    "print(f\"Number of rows with URLs: {url_count}\")\n",
    "print(f\"Number of rows with user references: {user_reference_count}\")\n",
    "print(f\"Number of rows with hashtags: {hashtag_count}\")\n",
    "print(f\"Number of rows with non-alphanumeric characters: {non_alphanumeric_count}\")\n",
    "\n"
   ]
  },
  {
   "cell_type": "code",
   "execution_count": 6,
   "id": "dd19920c",
   "metadata": {
    "execution": {
     "iopub.execute_input": "2024-06-05T19:05:26.058095Z",
     "iopub.status.busy": "2024-06-05T19:05:26.057746Z",
     "iopub.status.idle": "2024-06-05T19:05:26.071388Z",
     "shell.execute_reply": "2024-06-05T19:05:26.070520Z"
    },
    "papermill": {
     "duration": 0.035912,
     "end_time": "2024-06-05T19:05:26.073373",
     "exception": false,
     "start_time": "2024-06-05T19:05:26.037461",
     "status": "completed"
    },
    "tags": []
   },
   "outputs": [
    {
     "data": {
      "text/html": [
       "<div>\n",
       "<style scoped>\n",
       "    .dataframe tbody tr th:only-of-type {\n",
       "        vertical-align: middle;\n",
       "    }\n",
       "\n",
       "    .dataframe tbody tr th {\n",
       "        vertical-align: top;\n",
       "    }\n",
       "\n",
       "    .dataframe thead th {\n",
       "        text-align: right;\n",
       "    }\n",
       "</style>\n",
       "<table border=\"1\" class=\"dataframe\">\n",
       "  <thead>\n",
       "    <tr style=\"text-align: right;\">\n",
       "      <th></th>\n",
       "      <th>Unnamed: 0</th>\n",
       "      <th>Content</th>\n",
       "      <th>Concepts</th>\n",
       "      <th>bert_concepts</th>\n",
       "      <th>contains_url</th>\n",
       "      <th>contains_user_reference</th>\n",
       "      <th>contains_hashtag</th>\n",
       "      <th>contains_non_alphanumeric</th>\n",
       "    </tr>\n",
       "  </thead>\n",
       "  <tbody>\n",
       "    <tr>\n",
       "      <th>5960</th>\n",
       "      <td>5960</td>\n",
       "      <td>Content|ÄúVA Issuance RulebookÄù|means the V...</td>\n",
       "      <td>amended, supplemented, vara, virtual asset iss...</td>\n",
       "      <td>regulations, virtual assets, rulebook</td>\n",
       "      <td>False</td>\n",
       "      <td>False</td>\n",
       "      <td>False</td>\n",
       "      <td>True</td>\n",
       "    </tr>\n",
       "    <tr>\n",
       "      <th>5961</th>\n",
       "      <td>5961</td>\n",
       "      <td>Content|ÄúVARAÄù|means the Dubai Virtual Ass...</td>\n",
       "      <td>vara, dubai, regulatory authority, virtual assets</td>\n",
       "      <td>authority, virtual assets, regulator</td>\n",
       "      <td>False</td>\n",
       "      <td>False</td>\n",
       "      <td>False</td>\n",
       "      <td>True</td>\n",
       "    </tr>\n",
       "    <tr>\n",
       "      <th>5962</th>\n",
       "      <td>5962</td>\n",
       "      <td>Content|ÄúVirtual AssetÄù or ÄúVAÄù|has th...</td>\n",
       "      <td>dubai va law, va, regulatory, compliance, virt...</td>\n",
       "      <td>compliance, virtual assets, regulator</td>\n",
       "      <td>False</td>\n",
       "      <td>False</td>\n",
       "      <td>False</td>\n",
       "      <td>True</td>\n",
       "    </tr>\n",
       "    <tr>\n",
       "      <th>5963</th>\n",
       "      <td>5963</td>\n",
       "      <td>Content|ÄúWhitepaperÄù|has the meaning ascri...</td>\n",
       "      <td>bank, whitepaper, regulatory compliance, compl...</td>\n",
       "      <td>compliance, virtual assets, rulebook, regulator</td>\n",
       "      <td>False</td>\n",
       "      <td>False</td>\n",
       "      <td>False</td>\n",
       "      <td>True</td>\n",
       "    </tr>\n",
       "    <tr>\n",
       "      <th>5964</th>\n",
       "      <td>5964</td>\n",
       "      <td>Content|ÄúWorking DayÄù|means any day which ...</td>\n",
       "      <td>public holiday, weekend, bank, hong kong, regu...</td>\n",
       "      <td>compliance, virtual assets, regulator</td>\n",
       "      <td>False</td>\n",
       "      <td>False</td>\n",
       "      <td>False</td>\n",
       "      <td>True</td>\n",
       "    </tr>\n",
       "  </tbody>\n",
       "</table>\n",
       "</div>"
      ],
      "text/plain": [
       "      Unnamed: 0                                            Content  \\\n",
       "5960        5960  Content|ÄúVA Issuance RulebookÄù|means the V...   \n",
       "5961        5961  Content|ÄúVARAÄù|means the Dubai Virtual Ass...   \n",
       "5962        5962  Content|ÄúVirtual AssetÄù or ÄúVAÄù|has th...   \n",
       "5963        5963  Content|ÄúWhitepaperÄù|has the meaning ascri...   \n",
       "5964        5964  Content|ÄúWorking DayÄù|means any day which ...   \n",
       "\n",
       "                                               Concepts  \\\n",
       "5960  amended, supplemented, vara, virtual asset iss...   \n",
       "5961  vara, dubai, regulatory authority, virtual assets   \n",
       "5962  dubai va law, va, regulatory, compliance, virt...   \n",
       "5963  bank, whitepaper, regulatory compliance, compl...   \n",
       "5964  public holiday, weekend, bank, hong kong, regu...   \n",
       "\n",
       "                                        bert_concepts  contains_url  \\\n",
       "5960            regulations, virtual assets, rulebook         False   \n",
       "5961             authority, virtual assets, regulator         False   \n",
       "5962            compliance, virtual assets, regulator         False   \n",
       "5963  compliance, virtual assets, rulebook, regulator         False   \n",
       "5964            compliance, virtual assets, regulator         False   \n",
       "\n",
       "      contains_user_reference  contains_hashtag  contains_non_alphanumeric  \n",
       "5960                    False             False                       True  \n",
       "5961                    False             False                       True  \n",
       "5962                    False             False                       True  \n",
       "5963                    False             False                       True  \n",
       "5964                    False             False                       True  "
      ]
     },
     "execution_count": 6,
     "metadata": {},
     "output_type": "execute_result"
    }
   ],
   "source": [
    "df.tail(5)"
   ]
  },
  {
   "cell_type": "code",
   "execution_count": 7,
   "id": "218967b2",
   "metadata": {
    "execution": {
     "iopub.execute_input": "2024-06-05T19:05:26.115910Z",
     "iopub.status.busy": "2024-06-05T19:05:26.115645Z",
     "iopub.status.idle": "2024-06-05T19:05:26.124469Z",
     "shell.execute_reply": "2024-06-05T19:05:26.123655Z"
    },
    "papermill": {
     "duration": 0.032219,
     "end_time": "2024-06-05T19:05:26.126337",
     "exception": false,
     "start_time": "2024-06-05T19:05:26.094118",
     "status": "completed"
    },
    "tags": []
   },
   "outputs": [],
   "source": [
    "df = df[[\"Content\",\"bert_concepts\"]]"
   ]
  },
  {
   "cell_type": "code",
   "execution_count": 8,
   "id": "93dba7cf",
   "metadata": {
    "execution": {
     "iopub.execute_input": "2024-06-05T19:05:26.167337Z",
     "iopub.status.busy": "2024-06-05T19:05:26.167068Z",
     "iopub.status.idle": "2024-06-05T19:05:26.527047Z",
     "shell.execute_reply": "2024-06-05T19:05:26.526270Z"
    },
    "papermill": {
     "duration": 0.382676,
     "end_time": "2024-06-05T19:05:26.529553",
     "exception": false,
     "start_time": "2024-06-05T19:05:26.146877",
     "status": "completed"
    },
    "tags": []
   },
   "outputs": [],
   "source": [
    "import re\n",
    "import string\n",
    "\n",
    "def preprocess_text(text):\n",
    "    text = str(text)    \n",
    "    text = re.sub(r'<[^>]+>', '', text) # Remove HTML tags\n",
    "    text = text.lower()\n",
    "    text = re.sub(r'http\\S+|www\\S+|https\\S+', '', text, flags=re.MULTILINE)# Remove URLs\n",
    "    text = re.sub(r'\\@\\w+|\\#','', text) # Remove user @ references and hashtags\n",
    "    text = text.translate(str.maketrans('', '', string.punctuation)) # Remove punctuation    \n",
    "    text = re.sub(r'[^a-zA-Z0-9\\s]', ' ', text) # Remove non-alphanumeric character    \n",
    "    text = re.sub(r'\\s+', ' ', text).strip() # Remove extra whitespace(only single white space is left)\n",
    "    \n",
    "    return text\n",
    "\n",
    "df['Content'] = df['Content'].apply(preprocess_text) # Applying the preprocess_text function\n"
   ]
  },
  {
   "cell_type": "code",
   "execution_count": 9,
   "id": "02343e84",
   "metadata": {
    "execution": {
     "iopub.execute_input": "2024-06-05T19:05:26.571458Z",
     "iopub.status.busy": "2024-06-05T19:05:26.571152Z",
     "iopub.status.idle": "2024-06-05T19:05:26.580689Z",
     "shell.execute_reply": "2024-06-05T19:05:26.579729Z"
    },
    "papermill": {
     "duration": 0.032385,
     "end_time": "2024-06-05T19:05:26.582787",
     "exception": false,
     "start_time": "2024-06-05T19:05:26.550402",
     "status": "completed"
    },
    "tags": []
   },
   "outputs": [
    {
     "data": {
      "text/html": [
       "<div>\n",
       "<style scoped>\n",
       "    .dataframe tbody tr th:only-of-type {\n",
       "        vertical-align: middle;\n",
       "    }\n",
       "\n",
       "    .dataframe tbody tr th {\n",
       "        vertical-align: top;\n",
       "    }\n",
       "\n",
       "    .dataframe thead th {\n",
       "        text-align: right;\n",
       "    }\n",
       "</style>\n",
       "<table border=\"1\" class=\"dataframe\">\n",
       "  <thead>\n",
       "    <tr style=\"text-align: right;\">\n",
       "      <th></th>\n",
       "      <th>Content</th>\n",
       "      <th>bert_concepts</th>\n",
       "    </tr>\n",
       "  </thead>\n",
       "  <tbody>\n",
       "    <tr>\n",
       "      <th>5960</th>\n",
       "      <td>content va issuance rulebook means the virtual...</td>\n",
       "      <td>regulations, virtual assets, rulebook</td>\n",
       "    </tr>\n",
       "    <tr>\n",
       "      <th>5961</th>\n",
       "      <td>content vara means the dubai virtual assets re...</td>\n",
       "      <td>authority, virtual assets, regulator</td>\n",
       "    </tr>\n",
       "    <tr>\n",
       "      <th>5962</th>\n",
       "      <td>content virtual asset or va has the meaning as...</td>\n",
       "      <td>compliance, virtual assets, regulator</td>\n",
       "    </tr>\n",
       "    <tr>\n",
       "      <th>5963</th>\n",
       "      <td>content whitepaper has the meaning ascribed to...</td>\n",
       "      <td>compliance, virtual assets, rulebook, regulator</td>\n",
       "    </tr>\n",
       "    <tr>\n",
       "      <th>5964</th>\n",
       "      <td>content working day means any day which is not...</td>\n",
       "      <td>compliance, virtual assets, regulator</td>\n",
       "    </tr>\n",
       "  </tbody>\n",
       "</table>\n",
       "</div>"
      ],
      "text/plain": [
       "                                                Content  \\\n",
       "5960  content va issuance rulebook means the virtual...   \n",
       "5961  content vara means the dubai virtual assets re...   \n",
       "5962  content virtual asset or va has the meaning as...   \n",
       "5963  content whitepaper has the meaning ascribed to...   \n",
       "5964  content working day means any day which is not...   \n",
       "\n",
       "                                        bert_concepts  \n",
       "5960            regulations, virtual assets, rulebook  \n",
       "5961             authority, virtual assets, regulator  \n",
       "5962            compliance, virtual assets, regulator  \n",
       "5963  compliance, virtual assets, rulebook, regulator  \n",
       "5964            compliance, virtual assets, regulator  "
      ]
     },
     "execution_count": 9,
     "metadata": {},
     "output_type": "execute_result"
    }
   ],
   "source": [
    "df.tail(5)"
   ]
  },
  {
   "cell_type": "markdown",
   "id": "3ab3043a",
   "metadata": {
    "papermill": {
     "duration": 0.020072,
     "end_time": "2024-06-05T19:05:26.622617",
     "exception": false,
     "start_time": "2024-06-05T19:05:26.602545",
     "status": "completed"
    },
    "tags": []
   },
   "source": [
    "# taking out 10 random samples for analysis"
   ]
  },
  {
   "cell_type": "code",
   "execution_count": null,
   "id": "bb89c7d2",
   "metadata": {
    "papermill": {
     "duration": 0.019763,
     "end_time": "2024-06-05T19:05:26.662255",
     "exception": false,
     "start_time": "2024-06-05T19:05:26.642492",
     "status": "completed"
    },
    "tags": []
   },
   "outputs": [],
   "source": []
  },
  {
   "cell_type": "code",
   "execution_count": 10,
   "id": "2d0a5550",
   "metadata": {
    "execution": {
     "iopub.execute_input": "2024-06-05T19:05:26.704786Z",
     "iopub.status.busy": "2024-06-05T19:05:26.704046Z",
     "iopub.status.idle": "2024-06-05T19:05:26.709857Z",
     "shell.execute_reply": "2024-06-05T19:05:26.709008Z"
    },
    "papermill": {
     "duration": 0.028897,
     "end_time": "2024-06-05T19:05:26.711805",
     "exception": false,
     "start_time": "2024-06-05T19:05:26.682908",
     "status": "completed"
    },
    "tags": []
   },
   "outputs": [
    {
     "data": {
      "text/plain": [
       "(5965, 2)"
      ]
     },
     "execution_count": 10,
     "metadata": {},
     "output_type": "execute_result"
    }
   ],
   "source": [
    "df.shape"
   ]
  },
  {
   "cell_type": "code",
   "execution_count": 11,
   "id": "e96f1272",
   "metadata": {
    "execution": {
     "iopub.execute_input": "2024-06-05T19:05:26.754560Z",
     "iopub.status.busy": "2024-06-05T19:05:26.754016Z",
     "iopub.status.idle": "2024-06-05T19:05:26.759938Z",
     "shell.execute_reply": "2024-06-05T19:05:26.759133Z"
    },
    "papermill": {
     "duration": 0.03028,
     "end_time": "2024-06-05T19:05:26.762056",
     "exception": false,
     "start_time": "2024-06-05T19:05:26.731776",
     "status": "completed"
    },
    "tags": []
   },
   "outputs": [
    {
     "name": "stdout",
     "output_type": "stream",
     "text": [
      "Number of rows with NaN in bert_concepts: 580\n"
     ]
    }
   ],
   "source": [
    "missing_values_count = df['bert_concepts'].isnull().sum()\n",
    "print(\"Number of rows with NaN in bert_concepts:\", missing_values_count)"
   ]
  },
  {
   "cell_type": "markdown",
   "id": "8920196c",
   "metadata": {
    "papermill": {
     "duration": 0.020599,
     "end_time": "2024-06-05T19:05:26.802880",
     "exception": false,
     "start_time": "2024-06-05T19:05:26.782281",
     "status": "completed"
    },
    "tags": []
   },
   "source": [
    "## Remove rows with no bert_concepts"
   ]
  },
  {
   "cell_type": "code",
   "execution_count": 12,
   "id": "8cfba299",
   "metadata": {
    "execution": {
     "iopub.execute_input": "2024-06-05T19:05:26.843927Z",
     "iopub.status.busy": "2024-06-05T19:05:26.843612Z",
     "iopub.status.idle": "2024-06-05T19:05:26.852811Z",
     "shell.execute_reply": "2024-06-05T19:05:26.852102Z"
    },
    "papermill": {
     "duration": 0.032061,
     "end_time": "2024-06-05T19:05:26.854769",
     "exception": false,
     "start_time": "2024-06-05T19:05:26.822708",
     "status": "completed"
    },
    "tags": []
   },
   "outputs": [],
   "source": [
    "df = df.dropna(subset=['bert_concepts'])"
   ]
  },
  {
   "cell_type": "code",
   "execution_count": 13,
   "id": "7b1873c2",
   "metadata": {
    "execution": {
     "iopub.execute_input": "2024-06-05T19:05:26.898180Z",
     "iopub.status.busy": "2024-06-05T19:05:26.897869Z",
     "iopub.status.idle": "2024-06-05T19:05:26.903581Z",
     "shell.execute_reply": "2024-06-05T19:05:26.902719Z"
    },
    "papermill": {
     "duration": 0.028551,
     "end_time": "2024-06-05T19:05:26.905601",
     "exception": false,
     "start_time": "2024-06-05T19:05:26.877050",
     "status": "completed"
    },
    "tags": []
   },
   "outputs": [
    {
     "data": {
      "text/plain": [
       "(5385, 2)"
      ]
     },
     "execution_count": 13,
     "metadata": {},
     "output_type": "execute_result"
    }
   ],
   "source": [
    "df.shape"
   ]
  },
  {
   "cell_type": "markdown",
   "id": "a865bb39",
   "metadata": {
    "papermill": {
     "duration": 0.020512,
     "end_time": "2024-06-05T19:05:26.946165",
     "exception": false,
     "start_time": "2024-06-05T19:05:26.925653",
     "status": "completed"
    },
    "tags": []
   },
   "source": [
    "# Converting to Bert Data Format"
   ]
  },
  {
   "cell_type": "code",
   "execution_count": 14,
   "id": "c5ffbb03",
   "metadata": {
    "execution": {
     "iopub.execute_input": "2024-06-05T19:05:27.029421Z",
     "iopub.status.busy": "2024-06-05T19:05:27.029056Z",
     "iopub.status.idle": "2024-06-05T19:05:29.327455Z",
     "shell.execute_reply": "2024-06-05T19:05:29.326218Z"
    },
    "papermill": {
     "duration": 2.322757,
     "end_time": "2024-06-05T19:05:29.330096",
     "exception": false,
     "start_time": "2024-06-05T19:05:27.007339",
     "status": "completed"
    },
    "tags": []
   },
   "outputs": [],
   "source": [
    "import pandas as pd\n",
    "import re\n",
    "from sklearn.model_selection import train_test_split\n",
    "from datasets import Dataset, DatasetDict"
   ]
  },
  {
   "cell_type": "code",
   "execution_count": 15,
   "id": "ad029f3b",
   "metadata": {
    "execution": {
     "iopub.execute_input": "2024-06-05T19:05:29.377442Z",
     "iopub.status.busy": "2024-06-05T19:05:29.376857Z",
     "iopub.status.idle": "2024-06-05T19:05:29.383812Z",
     "shell.execute_reply": "2024-06-05T19:05:29.382890Z"
    },
    "papermill": {
     "duration": 0.033723,
     "end_time": "2024-06-05T19:05:29.386050",
     "exception": false,
     "start_time": "2024-06-05T19:05:29.352327",
     "status": "completed"
    },
    "tags": []
   },
   "outputs": [
    {
     "data": {
      "text/plain": [
       "Index(['Content', 'bert_concepts'], dtype='object')"
      ]
     },
     "execution_count": 15,
     "metadata": {},
     "output_type": "execute_result"
    }
   ],
   "source": [
    "df.columns"
   ]
  },
  {
   "cell_type": "code",
   "execution_count": 16,
   "id": "8aab55b6",
   "metadata": {
    "execution": {
     "iopub.execute_input": "2024-06-05T19:05:29.434688Z",
     "iopub.status.busy": "2024-06-05T19:05:29.434342Z",
     "iopub.status.idle": "2024-06-05T19:05:29.448546Z",
     "shell.execute_reply": "2024-06-05T19:05:29.447581Z"
    },
    "papermill": {
     "duration": 0.040944,
     "end_time": "2024-06-05T19:05:29.450753",
     "exception": false,
     "start_time": "2024-06-05T19:05:29.409809",
     "status": "completed"
    },
    "tags": []
   },
   "outputs": [],
   "source": [
    "\n",
    "df['bert_concepts'] = df['bert_concepts'].apply(lambda x: x.split(', ')) # make list of words\n",
    "all_concepts = set(concept for row in df['bert_concepts'] for concept in row) # Create a list of all unique concepts\n"
   ]
  },
  {
   "cell_type": "code",
   "execution_count": 17,
   "id": "a8bb740a",
   "metadata": {
    "execution": {
     "iopub.execute_input": "2024-06-05T19:05:29.499160Z",
     "iopub.status.busy": "2024-06-05T19:05:29.498431Z",
     "iopub.status.idle": "2024-06-05T19:05:29.502756Z",
     "shell.execute_reply": "2024-06-05T19:05:29.501673Z"
    },
    "papermill": {
     "duration": 0.030223,
     "end_time": "2024-06-05T19:05:29.504669",
     "exception": false,
     "start_time": "2024-06-05T19:05:29.474446",
     "status": "completed"
    },
    "tags": []
   },
   "outputs": [],
   "source": [
    "#all_concepts"
   ]
  },
  {
   "cell_type": "code",
   "execution_count": 18,
   "id": "21dbef69",
   "metadata": {
    "execution": {
     "iopub.execute_input": "2024-06-05T19:05:29.547647Z",
     "iopub.status.busy": "2024-06-05T19:05:29.547315Z",
     "iopub.status.idle": "2024-06-05T19:05:31.352428Z",
     "shell.execute_reply": "2024-06-05T19:05:31.351383Z"
    },
    "papermill": {
     "duration": 1.830032,
     "end_time": "2024-06-05T19:05:31.355362",
     "exception": false,
     "start_time": "2024-06-05T19:05:29.525330",
     "status": "completed"
    },
    "tags": []
   },
   "outputs": [],
   "source": [
    "# One-hot encode each concept for each row\n",
    "one_hot_encoded_rows = []\n",
    "for index, row in df.iterrows():\n",
    "    one_hot_row = {'Content': row['Content']}\n",
    "    for concept in all_concepts:\n",
    "        one_hot_row[concept] = 1 if concept in row['bert_concepts'] else 0\n",
    "    one_hot_encoded_rows.append(one_hot_row)\n"
   ]
  },
  {
   "cell_type": "code",
   "execution_count": 19,
   "id": "5f899d09",
   "metadata": {
    "execution": {
     "iopub.execute_input": "2024-06-05T19:05:31.401878Z",
     "iopub.status.busy": "2024-06-05T19:05:31.401488Z",
     "iopub.status.idle": "2024-06-05T19:05:31.405754Z",
     "shell.execute_reply": "2024-06-05T19:05:31.404889Z"
    },
    "papermill": {
     "duration": 0.028579,
     "end_time": "2024-06-05T19:05:31.408208",
     "exception": false,
     "start_time": "2024-06-05T19:05:31.379629",
     "status": "completed"
    },
    "tags": []
   },
   "outputs": [],
   "source": [
    "#one_hot_encoded_rows[:2]"
   ]
  },
  {
   "cell_type": "code",
   "execution_count": 20,
   "id": "cd3c24b1",
   "metadata": {
    "execution": {
     "iopub.execute_input": "2024-06-05T19:05:31.454250Z",
     "iopub.status.busy": "2024-06-05T19:05:31.453890Z",
     "iopub.status.idle": "2024-06-05T19:05:31.635539Z",
     "shell.execute_reply": "2024-06-05T19:05:31.634725Z"
    },
    "papermill": {
     "duration": 0.20602,
     "end_time": "2024-06-05T19:05:31.637876",
     "exception": false,
     "start_time": "2024-06-05T19:05:31.431856",
     "status": "completed"
    },
    "tags": []
   },
   "outputs": [],
   "source": [
    "df = pd.DataFrame(one_hot_encoded_rows)"
   ]
  },
  {
   "cell_type": "code",
   "execution_count": 21,
   "id": "faf4d58d",
   "metadata": {
    "execution": {
     "iopub.execute_input": "2024-06-05T19:05:31.681175Z",
     "iopub.status.busy": "2024-06-05T19:05:31.680833Z",
     "iopub.status.idle": "2024-06-05T19:05:31.699127Z",
     "shell.execute_reply": "2024-06-05T19:05:31.698144Z"
    },
    "papermill": {
     "duration": 0.042516,
     "end_time": "2024-06-05T19:05:31.701310",
     "exception": false,
     "start_time": "2024-06-05T19:05:31.658794",
     "status": "completed"
    },
    "tags": []
   },
   "outputs": [
    {
     "data": {
      "text/html": [
       "<div>\n",
       "<style scoped>\n",
       "    .dataframe tbody tr th:only-of-type {\n",
       "        vertical-align: middle;\n",
       "    }\n",
       "\n",
       "    .dataframe tbody tr th {\n",
       "        vertical-align: top;\n",
       "    }\n",
       "\n",
       "    .dataframe thead th {\n",
       "        text-align: right;\n",
       "    }\n",
       "</style>\n",
       "<table border=\"1\" class=\"dataframe\">\n",
       "  <thead>\n",
       "    <tr style=\"text-align: right;\">\n",
       "      <th></th>\n",
       "      <th>Content</th>\n",
       "      <th>audit</th>\n",
       "      <th>investor protection</th>\n",
       "      <th>sanctions</th>\n",
       "      <th>insider dealing</th>\n",
       "      <th>rules</th>\n",
       "      <th>aml</th>\n",
       "      <th>legal</th>\n",
       "      <th>risks</th>\n",
       "      <th>disclosure</th>\n",
       "      <th>...</th>\n",
       "      <th>investor</th>\n",
       "      <th>code of conduct</th>\n",
       "      <th>person</th>\n",
       "      <th>suspicious transactions</th>\n",
       "      <th>risk management</th>\n",
       "      <th>policies</th>\n",
       "      <th>controls</th>\n",
       "      <th>beneficiary information</th>\n",
       "      <th>client</th>\n",
       "      <th>conduct</th>\n",
       "    </tr>\n",
       "  </thead>\n",
       "  <tbody>\n",
       "    <tr>\n",
       "      <th>0</th>\n",
       "      <td>the new licensing regime for centralised virtu...</td>\n",
       "      <td>0</td>\n",
       "      <td>0</td>\n",
       "      <td>0</td>\n",
       "      <td>0</td>\n",
       "      <td>0</td>\n",
       "      <td>1</td>\n",
       "      <td>0</td>\n",
       "      <td>0</td>\n",
       "      <td>0</td>\n",
       "      <td>...</td>\n",
       "      <td>0</td>\n",
       "      <td>0</td>\n",
       "      <td>0</td>\n",
       "      <td>0</td>\n",
       "      <td>0</td>\n",
       "      <td>0</td>\n",
       "      <td>0</td>\n",
       "      <td>0</td>\n",
       "      <td>0</td>\n",
       "      <td>0</td>\n",
       "    </tr>\n",
       "    <tr>\n",
       "      <th>1</th>\n",
       "      <td>the sfc is issuing this circular to highlight ...</td>\n",
       "      <td>0</td>\n",
       "      <td>0</td>\n",
       "      <td>0</td>\n",
       "      <td>0</td>\n",
       "      <td>0</td>\n",
       "      <td>0</td>\n",
       "      <td>0</td>\n",
       "      <td>0</td>\n",
       "      <td>0</td>\n",
       "      <td>...</td>\n",
       "      <td>0</td>\n",
       "      <td>0</td>\n",
       "      <td>0</td>\n",
       "      <td>0</td>\n",
       "      <td>0</td>\n",
       "      <td>0</td>\n",
       "      <td>0</td>\n",
       "      <td>0</td>\n",
       "      <td>0</td>\n",
       "      <td>0</td>\n",
       "    </tr>\n",
       "    <tr>\n",
       "      <th>2</th>\n",
       "      <td>the sfc has published the following guidelines...</td>\n",
       "      <td>0</td>\n",
       "      <td>0</td>\n",
       "      <td>0</td>\n",
       "      <td>0</td>\n",
       "      <td>0</td>\n",
       "      <td>0</td>\n",
       "      <td>0</td>\n",
       "      <td>0</td>\n",
       "      <td>0</td>\n",
       "      <td>...</td>\n",
       "      <td>0</td>\n",
       "      <td>0</td>\n",
       "      <td>0</td>\n",
       "      <td>0</td>\n",
       "      <td>0</td>\n",
       "      <td>0</td>\n",
       "      <td>0</td>\n",
       "      <td>0</td>\n",
       "      <td>0</td>\n",
       "      <td>0</td>\n",
       "    </tr>\n",
       "  </tbody>\n",
       "</table>\n",
       "<p>3 rows × 56 columns</p>\n",
       "</div>"
      ],
      "text/plain": [
       "                                             Content  audit  \\\n",
       "0  the new licensing regime for centralised virtu...      0   \n",
       "1  the sfc is issuing this circular to highlight ...      0   \n",
       "2  the sfc has published the following guidelines...      0   \n",
       "\n",
       "   investor protection  sanctions  insider dealing  rules  aml  legal  risks  \\\n",
       "0                    0          0                0      0    1      0      0   \n",
       "1                    0          0                0      0    0      0      0   \n",
       "2                    0          0                0      0    0      0      0   \n",
       "\n",
       "   disclosure  ...  investor  code of conduct  person  \\\n",
       "0           0  ...         0                0       0   \n",
       "1           0  ...         0                0       0   \n",
       "2           0  ...         0                0       0   \n",
       "\n",
       "   suspicious transactions  risk management  policies  controls  \\\n",
       "0                        0                0         0         0   \n",
       "1                        0                0         0         0   \n",
       "2                        0                0         0         0   \n",
       "\n",
       "   beneficiary information  client  conduct  \n",
       "0                        0       0        0  \n",
       "1                        0       0        0  \n",
       "2                        0       0        0  \n",
       "\n",
       "[3 rows x 56 columns]"
      ]
     },
     "execution_count": 21,
     "metadata": {},
     "output_type": "execute_result"
    }
   ],
   "source": [
    "df.head(3)"
   ]
  },
  {
   "cell_type": "code",
   "execution_count": 22,
   "id": "b15fe8af",
   "metadata": {
    "execution": {
     "iopub.execute_input": "2024-06-05T19:05:31.743894Z",
     "iopub.status.busy": "2024-06-05T19:05:31.743602Z",
     "iopub.status.idle": "2024-06-05T19:05:31.753281Z",
     "shell.execute_reply": "2024-06-05T19:05:31.752556Z"
    },
    "papermill": {
     "duration": 0.033584,
     "end_time": "2024-06-05T19:05:31.755420",
     "exception": false,
     "start_time": "2024-06-05T19:05:31.721836",
     "status": "completed"
    },
    "tags": []
   },
   "outputs": [],
   "source": [
    "testing_df = df.sample(n=10, random_state=42)\n",
    "df = df.drop(testing_df.index)"
   ]
  },
  {
   "cell_type": "markdown",
   "id": "51b46d4d",
   "metadata": {
    "papermill": {
     "duration": 0.020583,
     "end_time": "2024-06-05T19:05:31.801278",
     "exception": false,
     "start_time": "2024-06-05T19:05:31.780695",
     "status": "completed"
    },
    "tags": []
   },
   "source": [
    "# Class/Label Distribution"
   ]
  },
  {
   "cell_type": "code",
   "execution_count": 23,
   "id": "23bea13d",
   "metadata": {
    "execution": {
     "iopub.execute_input": "2024-06-05T19:05:31.843773Z",
     "iopub.status.busy": "2024-06-05T19:05:31.843461Z",
     "iopub.status.idle": "2024-06-05T19:05:31.885685Z",
     "shell.execute_reply": "2024-06-05T19:05:31.884884Z"
    },
    "papermill": {
     "duration": 0.065237,
     "end_time": "2024-06-05T19:05:31.887650",
     "exception": false,
     "start_time": "2024-06-05T19:05:31.822413",
     "status": "completed"
    },
    "tags": []
   },
   "outputs": [
    {
     "data": {
      "text/html": [
       "<div>\n",
       "<style scoped>\n",
       "    .dataframe tbody tr th:only-of-type {\n",
       "        vertical-align: middle;\n",
       "    }\n",
       "\n",
       "    .dataframe tbody tr th {\n",
       "        vertical-align: top;\n",
       "    }\n",
       "\n",
       "    .dataframe thead th {\n",
       "        text-align: right;\n",
       "    }\n",
       "</style>\n",
       "<table border=\"1\" class=\"dataframe\">\n",
       "  <thead>\n",
       "    <tr style=\"text-align: right;\">\n",
       "      <th></th>\n",
       "      <th>Label</th>\n",
       "      <th>0s</th>\n",
       "      <th>1s</th>\n",
       "    </tr>\n",
       "  </thead>\n",
       "  <tbody>\n",
       "    <tr>\n",
       "      <th>44</th>\n",
       "      <td>virtual assets</td>\n",
       "      <td>3148</td>\n",
       "      <td>2227</td>\n",
       "    </tr>\n",
       "    <tr>\n",
       "      <th>38</th>\n",
       "      <td>compliance</td>\n",
       "      <td>3778</td>\n",
       "      <td>1597</td>\n",
       "    </tr>\n",
       "    <tr>\n",
       "      <th>10</th>\n",
       "      <td>regulator</td>\n",
       "      <td>3799</td>\n",
       "      <td>1576</td>\n",
       "    </tr>\n",
       "    <tr>\n",
       "      <th>53</th>\n",
       "      <td>client</td>\n",
       "      <td>4087</td>\n",
       "      <td>1288</td>\n",
       "    </tr>\n",
       "    <tr>\n",
       "      <th>7</th>\n",
       "      <td>risks</td>\n",
       "      <td>4553</td>\n",
       "      <td>822</td>\n",
       "    </tr>\n",
       "    <tr>\n",
       "      <th>5</th>\n",
       "      <td>aml</td>\n",
       "      <td>4649</td>\n",
       "      <td>726</td>\n",
       "    </tr>\n",
       "    <tr>\n",
       "      <th>14</th>\n",
       "      <td>vasp</td>\n",
       "      <td>4727</td>\n",
       "      <td>648</td>\n",
       "    </tr>\n",
       "    <tr>\n",
       "      <th>11</th>\n",
       "      <td>license</td>\n",
       "      <td>4740</td>\n",
       "      <td>635</td>\n",
       "    </tr>\n",
       "    <tr>\n",
       "      <th>27</th>\n",
       "      <td>operator</td>\n",
       "      <td>4786</td>\n",
       "      <td>589</td>\n",
       "    </tr>\n",
       "    <tr>\n",
       "      <th>30</th>\n",
       "      <td>requirements</td>\n",
       "      <td>4832</td>\n",
       "      <td>543</td>\n",
       "    </tr>\n",
       "    <tr>\n",
       "      <th>42</th>\n",
       "      <td>transaction</td>\n",
       "      <td>4853</td>\n",
       "      <td>522</td>\n",
       "    </tr>\n",
       "    <tr>\n",
       "      <th>47</th>\n",
       "      <td>person</td>\n",
       "      <td>4868</td>\n",
       "      <td>507</td>\n",
       "    </tr>\n",
       "    <tr>\n",
       "      <th>29</th>\n",
       "      <td>regulations</td>\n",
       "      <td>4952</td>\n",
       "      <td>423</td>\n",
       "    </tr>\n",
       "    <tr>\n",
       "      <th>18</th>\n",
       "      <td>cft</td>\n",
       "      <td>4989</td>\n",
       "      <td>386</td>\n",
       "    </tr>\n",
       "    <tr>\n",
       "      <th>12</th>\n",
       "      <td>rulebook</td>\n",
       "      <td>4991</td>\n",
       "      <td>384</td>\n",
       "    </tr>\n",
       "    <tr>\n",
       "      <th>43</th>\n",
       "      <td>vasps</td>\n",
       "      <td>5012</td>\n",
       "      <td>363</td>\n",
       "    </tr>\n",
       "    <tr>\n",
       "      <th>13</th>\n",
       "      <td>transactions</td>\n",
       "      <td>5057</td>\n",
       "      <td>318</td>\n",
       "    </tr>\n",
       "    <tr>\n",
       "      <th>17</th>\n",
       "      <td>transfer</td>\n",
       "      <td>5085</td>\n",
       "      <td>290</td>\n",
       "    </tr>\n",
       "    <tr>\n",
       "      <th>9</th>\n",
       "      <td>guideline</td>\n",
       "      <td>5122</td>\n",
       "      <td>253</td>\n",
       "    </tr>\n",
       "    <tr>\n",
       "      <th>25</th>\n",
       "      <td>reporting</td>\n",
       "      <td>5136</td>\n",
       "      <td>239</td>\n",
       "    </tr>\n",
       "    <tr>\n",
       "      <th>50</th>\n",
       "      <td>policies</td>\n",
       "      <td>5169</td>\n",
       "      <td>206</td>\n",
       "    </tr>\n",
       "    <tr>\n",
       "      <th>6</th>\n",
       "      <td>legal</td>\n",
       "      <td>5175</td>\n",
       "      <td>200</td>\n",
       "    </tr>\n",
       "    <tr>\n",
       "      <th>4</th>\n",
       "      <td>rules</td>\n",
       "      <td>5180</td>\n",
       "      <td>195</td>\n",
       "    </tr>\n",
       "    <tr>\n",
       "      <th>15</th>\n",
       "      <td>cdd</td>\n",
       "      <td>5180</td>\n",
       "      <td>195</td>\n",
       "    </tr>\n",
       "    <tr>\n",
       "      <th>51</th>\n",
       "      <td>controls</td>\n",
       "      <td>5185</td>\n",
       "      <td>190</td>\n",
       "    </tr>\n",
       "    <tr>\n",
       "      <th>54</th>\n",
       "      <td>conduct</td>\n",
       "      <td>5187</td>\n",
       "      <td>188</td>\n",
       "    </tr>\n",
       "    <tr>\n",
       "      <th>49</th>\n",
       "      <td>risk management</td>\n",
       "      <td>5213</td>\n",
       "      <td>162</td>\n",
       "    </tr>\n",
       "    <tr>\n",
       "      <th>0</th>\n",
       "      <td>audit</td>\n",
       "      <td>5232</td>\n",
       "      <td>143</td>\n",
       "    </tr>\n",
       "    <tr>\n",
       "      <th>45</th>\n",
       "      <td>investor</td>\n",
       "      <td>5234</td>\n",
       "      <td>141</td>\n",
       "    </tr>\n",
       "    <tr>\n",
       "      <th>34</th>\n",
       "      <td>monitoring</td>\n",
       "      <td>5234</td>\n",
       "      <td>141</td>\n",
       "    </tr>\n",
       "    <tr>\n",
       "      <th>33</th>\n",
       "      <td>authority</td>\n",
       "      <td>5239</td>\n",
       "      <td>136</td>\n",
       "    </tr>\n",
       "    <tr>\n",
       "      <th>41</th>\n",
       "      <td>due diligence</td>\n",
       "      <td>5249</td>\n",
       "      <td>126</td>\n",
       "    </tr>\n",
       "    <tr>\n",
       "      <th>16</th>\n",
       "      <td>identity</td>\n",
       "      <td>5257</td>\n",
       "      <td>118</td>\n",
       "    </tr>\n",
       "    <tr>\n",
       "      <th>52</th>\n",
       "      <td>beneficiary information</td>\n",
       "      <td>5264</td>\n",
       "      <td>111</td>\n",
       "    </tr>\n",
       "    <tr>\n",
       "      <th>8</th>\n",
       "      <td>disclosure</td>\n",
       "      <td>5281</td>\n",
       "      <td>94</td>\n",
       "    </tr>\n",
       "    <tr>\n",
       "      <th>31</th>\n",
       "      <td>entities</td>\n",
       "      <td>5283</td>\n",
       "      <td>92</td>\n",
       "    </tr>\n",
       "    <tr>\n",
       "      <th>23</th>\n",
       "      <td>risk assessment</td>\n",
       "      <td>5284</td>\n",
       "      <td>91</td>\n",
       "    </tr>\n",
       "    <tr>\n",
       "      <th>21</th>\n",
       "      <td>pep</td>\n",
       "      <td>5313</td>\n",
       "      <td>62</td>\n",
       "    </tr>\n",
       "    <tr>\n",
       "      <th>2</th>\n",
       "      <td>sanctions</td>\n",
       "      <td>5320</td>\n",
       "      <td>55</td>\n",
       "    </tr>\n",
       "    <tr>\n",
       "      <th>19</th>\n",
       "      <td>criminal</td>\n",
       "      <td>5321</td>\n",
       "      <td>54</td>\n",
       "    </tr>\n",
       "    <tr>\n",
       "      <th>48</th>\n",
       "      <td>suspicious transactions</td>\n",
       "      <td>5322</td>\n",
       "      <td>53</td>\n",
       "    </tr>\n",
       "    <tr>\n",
       "      <th>35</th>\n",
       "      <td>circular</td>\n",
       "      <td>5324</td>\n",
       "      <td>51</td>\n",
       "    </tr>\n",
       "    <tr>\n",
       "      <th>32</th>\n",
       "      <td>policy</td>\n",
       "      <td>5327</td>\n",
       "      <td>48</td>\n",
       "    </tr>\n",
       "    <tr>\n",
       "      <th>20</th>\n",
       "      <td>dlt</td>\n",
       "      <td>5330</td>\n",
       "      <td>45</td>\n",
       "    </tr>\n",
       "    <tr>\n",
       "      <th>36</th>\n",
       "      <td>screening</td>\n",
       "      <td>5334</td>\n",
       "      <td>41</td>\n",
       "    </tr>\n",
       "    <tr>\n",
       "      <th>39</th>\n",
       "      <td>safeguard</td>\n",
       "      <td>5336</td>\n",
       "      <td>39</td>\n",
       "    </tr>\n",
       "    <tr>\n",
       "      <th>26</th>\n",
       "      <td>legislation</td>\n",
       "      <td>5339</td>\n",
       "      <td>36</td>\n",
       "    </tr>\n",
       "    <tr>\n",
       "      <th>37</th>\n",
       "      <td>oversight</td>\n",
       "      <td>5352</td>\n",
       "      <td>23</td>\n",
       "    </tr>\n",
       "    <tr>\n",
       "      <th>1</th>\n",
       "      <td>investor protection</td>\n",
       "      <td>5355</td>\n",
       "      <td>20</td>\n",
       "    </tr>\n",
       "    <tr>\n",
       "      <th>40</th>\n",
       "      <td>record keeping</td>\n",
       "      <td>5359</td>\n",
       "      <td>16</td>\n",
       "    </tr>\n",
       "    <tr>\n",
       "      <th>22</th>\n",
       "      <td>kyc</td>\n",
       "      <td>5361</td>\n",
       "      <td>14</td>\n",
       "    </tr>\n",
       "    <tr>\n",
       "      <th>24</th>\n",
       "      <td>anti-bribery</td>\n",
       "      <td>5361</td>\n",
       "      <td>14</td>\n",
       "    </tr>\n",
       "    <tr>\n",
       "      <th>28</th>\n",
       "      <td>travel rule</td>\n",
       "      <td>5361</td>\n",
       "      <td>14</td>\n",
       "    </tr>\n",
       "    <tr>\n",
       "      <th>3</th>\n",
       "      <td>insider dealing</td>\n",
       "      <td>5362</td>\n",
       "      <td>13</td>\n",
       "    </tr>\n",
       "    <tr>\n",
       "      <th>46</th>\n",
       "      <td>code of conduct</td>\n",
       "      <td>5362</td>\n",
       "      <td>13</td>\n",
       "    </tr>\n",
       "  </tbody>\n",
       "</table>\n",
       "</div>"
      ],
      "text/plain": [
       "                      Label    0s    1s\n",
       "44           virtual assets  3148  2227\n",
       "38               compliance  3778  1597\n",
       "10                regulator  3799  1576\n",
       "53                   client  4087  1288\n",
       "7                     risks  4553   822\n",
       "5                       aml  4649   726\n",
       "14                     vasp  4727   648\n",
       "11                  license  4740   635\n",
       "27                 operator  4786   589\n",
       "30             requirements  4832   543\n",
       "42              transaction  4853   522\n",
       "47                   person  4868   507\n",
       "29              regulations  4952   423\n",
       "18                      cft  4989   386\n",
       "12                 rulebook  4991   384\n",
       "43                    vasps  5012   363\n",
       "13             transactions  5057   318\n",
       "17                 transfer  5085   290\n",
       "9                 guideline  5122   253\n",
       "25                reporting  5136   239\n",
       "50                 policies  5169   206\n",
       "6                     legal  5175   200\n",
       "4                     rules  5180   195\n",
       "15                      cdd  5180   195\n",
       "51                 controls  5185   190\n",
       "54                  conduct  5187   188\n",
       "49          risk management  5213   162\n",
       "0                     audit  5232   143\n",
       "45                 investor  5234   141\n",
       "34               monitoring  5234   141\n",
       "33                authority  5239   136\n",
       "41            due diligence  5249   126\n",
       "16                 identity  5257   118\n",
       "52  beneficiary information  5264   111\n",
       "8                disclosure  5281    94\n",
       "31                 entities  5283    92\n",
       "23          risk assessment  5284    91\n",
       "21                      pep  5313    62\n",
       "2                 sanctions  5320    55\n",
       "19                 criminal  5321    54\n",
       "48  suspicious transactions  5322    53\n",
       "35                 circular  5324    51\n",
       "32                   policy  5327    48\n",
       "20                      dlt  5330    45\n",
       "36                screening  5334    41\n",
       "39                safeguard  5336    39\n",
       "26              legislation  5339    36\n",
       "37                oversight  5352    23\n",
       "1       investor protection  5355    20\n",
       "40           record keeping  5359    16\n",
       "22                      kyc  5361    14\n",
       "24             anti-bribery  5361    14\n",
       "28              travel rule  5361    14\n",
       "3           insider dealing  5362    13\n",
       "46          code of conduct  5362    13"
      ]
     },
     "execution_count": 23,
     "metadata": {},
     "output_type": "execute_result"
    }
   ],
   "source": [
    "import pandas as pd\n",
    "l1 = list(df.columns)[1:]\n",
    "summary_list = []\n",
    "for i in l1:\n",
    "    label_counts = df[i].value_counts()\n",
    "    summary_list.append({\n",
    "        'Label': i,\n",
    "        '0s': label_counts.get(0, 0),\n",
    "        '1s': label_counts.get(1, 0)\n",
    "    })\n",
    "\n",
    "\n",
    "summary_df = pd.DataFrame(summary_list)\n",
    "summary_df_sorted = summary_df.sort_values(by='1s', ascending=False)\n",
    "summary_df_sorted\n"
   ]
  },
  {
   "cell_type": "markdown",
   "id": "9eee7019",
   "metadata": {
    "papermill": {
     "duration": 0.02068,
     "end_time": "2024-06-05T19:05:31.929159",
     "exception": false,
     "start_time": "2024-06-05T19:05:31.908479",
     "status": "completed"
    },
    "tags": []
   },
   "source": [
    "# Apply oversmapling of Minorty classes\n"
   ]
  },
  {
   "cell_type": "code",
   "execution_count": null,
   "id": "dbbf884e",
   "metadata": {
    "papermill": {
     "duration": 0.021149,
     "end_time": "2024-06-05T19:05:31.971534",
     "exception": false,
     "start_time": "2024-06-05T19:05:31.950385",
     "status": "completed"
    },
    "tags": []
   },
   "outputs": [],
   "source": []
  },
  {
   "cell_type": "code",
   "execution_count": 24,
   "id": "285ffe21",
   "metadata": {
    "execution": {
     "iopub.execute_input": "2024-06-05T19:05:32.015741Z",
     "iopub.status.busy": "2024-06-05T19:05:32.015004Z",
     "iopub.status.idle": "2024-06-05T19:05:53.818235Z",
     "shell.execute_reply": "2024-06-05T19:05:53.817022Z"
    },
    "papermill": {
     "duration": 21.828251,
     "end_time": "2024-06-05T19:05:53.820767",
     "exception": false,
     "start_time": "2024-06-05T19:05:31.992516",
     "status": "completed"
    },
    "tags": []
   },
   "outputs": [
    {
     "name": "stdout",
     "output_type": "stream",
     "text": [
      "Collecting git+https://github.com/phiyodr/multilabel-oversampling\r\n",
      "  Cloning https://github.com/phiyodr/multilabel-oversampling to /tmp/pip-req-build-88qrv8ph\r\n",
      "  Running command git clone --filter=blob:none --quiet https://github.com/phiyodr/multilabel-oversampling /tmp/pip-req-build-88qrv8ph\r\n",
      "  Resolved https://github.com/phiyodr/multilabel-oversampling to commit 5fa066171b8df7ef369fe4f0c674f9576a106b0e\r\n",
      "  Preparing metadata (setup.py) ... \u001b[?25l-\b \bdone\r\n",
      "\u001b[?25hRequirement already satisfied: numpy in /opt/conda/lib/python3.10/site-packages (from multilabel-oversampling==0.1.3) (1.26.4)\r\n",
      "Requirement already satisfied: scikit-learn in /opt/conda/lib/python3.10/site-packages (from multilabel-oversampling==0.1.3) (1.2.2)\r\n",
      "Requirement already satisfied: pandas in /opt/conda/lib/python3.10/site-packages (from multilabel-oversampling==0.1.3) (2.2.1)\r\n",
      "Requirement already satisfied: seaborn in /opt/conda/lib/python3.10/site-packages (from multilabel-oversampling==0.1.3) (0.12.2)\r\n",
      "Requirement already satisfied: tqdm in /opt/conda/lib/python3.10/site-packages (from multilabel-oversampling==0.1.3) (4.66.4)\r\n",
      "Requirement already satisfied: matplotlib in /opt/conda/lib/python3.10/site-packages (from multilabel-oversampling==0.1.3) (3.7.5)\r\n",
      "Requirement already satisfied: contourpy>=1.0.1 in /opt/conda/lib/python3.10/site-packages (from matplotlib->multilabel-oversampling==0.1.3) (1.2.0)\r\n",
      "Requirement already satisfied: cycler>=0.10 in /opt/conda/lib/python3.10/site-packages (from matplotlib->multilabel-oversampling==0.1.3) (0.12.1)\r\n",
      "Requirement already satisfied: fonttools>=4.22.0 in /opt/conda/lib/python3.10/site-packages (from matplotlib->multilabel-oversampling==0.1.3) (4.47.0)\r\n",
      "Requirement already satisfied: kiwisolver>=1.0.1 in /opt/conda/lib/python3.10/site-packages (from matplotlib->multilabel-oversampling==0.1.3) (1.4.5)\r\n",
      "Requirement already satisfied: packaging>=20.0 in /opt/conda/lib/python3.10/site-packages (from matplotlib->multilabel-oversampling==0.1.3) (21.3)\r\n",
      "Requirement already satisfied: pillow>=6.2.0 in /opt/conda/lib/python3.10/site-packages (from matplotlib->multilabel-oversampling==0.1.3) (9.5.0)\r\n",
      "Requirement already satisfied: pyparsing>=2.3.1 in /opt/conda/lib/python3.10/site-packages (from matplotlib->multilabel-oversampling==0.1.3) (3.1.1)\r\n",
      "Requirement already satisfied: python-dateutil>=2.7 in /opt/conda/lib/python3.10/site-packages (from matplotlib->multilabel-oversampling==0.1.3) (2.9.0.post0)\r\n",
      "Requirement already satisfied: pytz>=2020.1 in /opt/conda/lib/python3.10/site-packages (from pandas->multilabel-oversampling==0.1.3) (2023.3.post1)\r\n",
      "Requirement already satisfied: tzdata>=2022.7 in /opt/conda/lib/python3.10/site-packages (from pandas->multilabel-oversampling==0.1.3) (2023.4)\r\n",
      "Requirement already satisfied: scipy>=1.3.2 in /opt/conda/lib/python3.10/site-packages (from scikit-learn->multilabel-oversampling==0.1.3) (1.11.4)\r\n",
      "Requirement already satisfied: joblib>=1.1.1 in /opt/conda/lib/python3.10/site-packages (from scikit-learn->multilabel-oversampling==0.1.3) (1.4.2)\r\n",
      "Requirement already satisfied: threadpoolctl>=2.0.0 in /opt/conda/lib/python3.10/site-packages (from scikit-learn->multilabel-oversampling==0.1.3) (3.2.0)\r\n",
      "Requirement already satisfied: six>=1.5 in /opt/conda/lib/python3.10/site-packages (from python-dateutil>=2.7->matplotlib->multilabel-oversampling==0.1.3) (1.16.0)\r\n",
      "Building wheels for collected packages: multilabel-oversampling\r\n",
      "  Building wheel for multilabel-oversampling (setup.py) ... \u001b[?25l-\b \b\\\b \bdone\r\n",
      "\u001b[?25h  Created wheel for multilabel-oversampling: filename=multilabel_oversampling-0.1.3-py3-none-any.whl size=6225 sha256=0b0148d160c9a56bf4288b69dfc66f8c1c88d4269ecc55c1d3db15ffdf5ec89a\r\n",
      "  Stored in directory: /tmp/pip-ephem-wheel-cache-16igwbjq/wheels/2a/ba/2b/c3f093556ca8b37e8714e4748090daa11b45128ccb614665de\r\n",
      "Successfully built multilabel-oversampling\r\n",
      "\u001b[33mWARNING: Error parsing requirements for aiohttp: [Errno 2] No such file or directory: '/opt/conda/lib/python3.10/site-packages/aiohttp-3.9.1.dist-info/METADATA'\u001b[0m\u001b[33m\r\n",
      "\u001b[0mInstalling collected packages: multilabel-oversampling\r\n",
      "Successfully installed multilabel-oversampling-0.1.3\r\n"
     ]
    }
   ],
   "source": [
    "!pip install git+https://github.com/phiyodr/multilabel-oversampling"
   ]
  },
  {
   "cell_type": "code",
   "execution_count": 25,
   "id": "a4fe0a39",
   "metadata": {
    "execution": {
     "iopub.execute_input": "2024-06-05T19:05:53.872038Z",
     "iopub.status.busy": "2024-06-05T19:05:53.871678Z",
     "iopub.status.idle": "2024-06-05T19:05:54.985419Z",
     "shell.execute_reply": "2024-06-05T19:05:54.984466Z"
    },
    "papermill": {
     "duration": 1.142151,
     "end_time": "2024-06-05T19:05:54.988953",
     "exception": false,
     "start_time": "2024-06-05T19:05:53.846802",
     "status": "completed"
    },
    "tags": []
   },
   "outputs": [
    {
     "name": "stdout",
     "output_type": "stream",
     "text": [
      "Start the upsampling process.\n"
     ]
    },
    {
     "name": "stderr",
     "output_type": "stream",
     "text": [
      "Iteration:   1%|▏         | 26/2000 [00:01<01:19, 24.82it/s]"
     ]
    },
    {
     "name": "stdout",
     "output_type": "stream",
     "text": [
      "Iter 26: No improvement after 100 tries.\n",
      "Sampling done.\n",
      "\n",
      "Dataset size original: 5375; Upsampled dataset size: 5401\n",
      "Original target distribution:  {'audit': 143, 'investor protection': 20, 'sanctions': 55, 'insider dealing': 13, 'rules': 195, 'aml': 726, 'legal': 200, 'risks': 822, 'disclosure': 94, 'guideline': 253, 'regulator': 1576, 'license': 635, 'rulebook': 384, 'transactions': 318, 'vasp': 648, 'cdd': 195, 'identity': 118, 'transfer': 290, 'cft': 386, 'criminal': 54, 'dlt': 45, 'pep': 62, 'kyc': 14, 'risk assessment': 91, 'anti-bribery': 14, 'reporting': 239, 'legislation': 36, 'operator': 589, 'travel rule': 14, 'regulations': 423, 'requirements': 543, 'entities': 92, 'policy': 48, 'authority': 136, 'monitoring': 141, 'circular': 51, 'screening': 41, 'oversight': 23, 'compliance': 1597, 'safeguard': 39, 'record keeping': 16, 'due diligence': 126, 'transaction': 522, 'vasps': 363, 'virtual assets': 2227, 'investor': 141, 'code of conduct': 13, 'person': 507, 'suspicious transactions': 53, 'risk management': 162, 'policies': 206, 'controls': 190, 'beneficiary information': 111, 'client': 1288, 'conduct': 188}\n",
      "Upsampled target distribution: {'audit': 144, 'investor protection': 21, 'sanctions': 55, 'insider dealing': 13, 'rules': 199, 'aml': 726, 'legal': 202, 'risks': 822, 'disclosure': 94, 'guideline': 258, 'regulator': 1576, 'license': 635, 'rulebook': 386, 'transactions': 318, 'vasp': 649, 'cdd': 197, 'identity': 119, 'transfer': 294, 'cft': 386, 'criminal': 54, 'dlt': 46, 'pep': 62, 'kyc': 14, 'risk assessment': 91, 'anti-bribery': 15, 'reporting': 241, 'legislation': 36, 'operator': 589, 'travel rule': 14, 'regulations': 427, 'requirements': 544, 'entities': 96, 'policy': 49, 'authority': 137, 'monitoring': 142, 'circular': 51, 'screening': 42, 'oversight': 23, 'compliance': 1597, 'safeguard': 39, 'record keeping': 17, 'due diligence': 126, 'transaction': 522, 'vasps': 364, 'virtual assets': 2227, 'investor': 144, 'code of conduct': 13, 'person': 507, 'suspicious transactions': 53, 'risk management': 162, 'policies': 206, 'controls': 190, 'beneficiary information': 111, 'client': 1288, 'conduct': 189}\n"
     ]
    },
    {
     "name": "stderr",
     "output_type": "stream",
     "text": [
      "\n"
     ]
    }
   ],
   "source": [
    "import multilabel_oversampling as mo\n",
    "\n",
    "mo.seed_everything(20)\n",
    "df = df # difficult fake dataset with very high dependency of y1 and y2\n",
    "ml_oversampler = mo.MultilabelOversampler(number_of_adds = 2000, number_of_tries=100,details=False, plot=False)\n",
    "l1 = list(df.columns)[1:]\n",
    "df_new = ml_oversampler.fit(df,target_list=l1)\n",
    "#>Start the upsampling process.\n",
    "#>Iteration:  11%|████████████████                                        | 11/100 [00:00<00:01, 48.43it/s]\n",
    "#>Iter 11: No improvement after 100 tries.\n",
    "#>Sampling done.\n",
    "#>\n",
    "#>Dataset size original: 20; Upsampled dataset size: 31\n",
    "#>Original target distribution:  {'y1': 16, 'y2': 12, 'y3': 4, 'y4': 4}\n",
    "#>Upsampled target distribution: {'y1': 19, 'y2': 12, 'y3': 15, 'y4': 15}\n",
    "\n",
    "#ml_oversampler.plot_all_tries()"
   ]
  },
  {
   "cell_type": "code",
   "execution_count": 26,
   "id": "9cd506c9",
   "metadata": {
    "execution": {
     "iopub.execute_input": "2024-06-05T19:05:55.041854Z",
     "iopub.status.busy": "2024-06-05T19:05:55.041163Z",
     "iopub.status.idle": "2024-06-05T19:05:55.045359Z",
     "shell.execute_reply": "2024-06-05T19:05:55.044519Z"
    },
    "papermill": {
     "duration": 0.031685,
     "end_time": "2024-06-05T19:05:55.047397",
     "exception": false,
     "start_time": "2024-06-05T19:05:55.015712",
     "status": "completed"
    },
    "tags": []
   },
   "outputs": [],
   "source": [
    "#ml_oversampler.plot_results()"
   ]
  },
  {
   "cell_type": "code",
   "execution_count": 27,
   "id": "b8d6652b",
   "metadata": {
    "execution": {
     "iopub.execute_input": "2024-06-05T19:05:55.096507Z",
     "iopub.status.busy": "2024-06-05T19:05:55.095799Z",
     "iopub.status.idle": "2024-06-05T19:05:55.099843Z",
     "shell.execute_reply": "2024-06-05T19:05:55.099032Z"
    },
    "papermill": {
     "duration": 0.03115,
     "end_time": "2024-06-05T19:05:55.102076",
     "exception": false,
     "start_time": "2024-06-05T19:05:55.070926",
     "status": "completed"
    },
    "tags": []
   },
   "outputs": [],
   "source": [
    "#change df to oversampled one\n",
    "df = df_new"
   ]
  },
  {
   "cell_type": "code",
   "execution_count": 28,
   "id": "7aebc934",
   "metadata": {
    "execution": {
     "iopub.execute_input": "2024-06-05T19:05:55.152454Z",
     "iopub.status.busy": "2024-06-05T19:05:55.151731Z",
     "iopub.status.idle": "2024-06-05T19:05:55.156416Z",
     "shell.execute_reply": "2024-06-05T19:05:55.155593Z"
    },
    "papermill": {
     "duration": 0.031741,
     "end_time": "2024-06-05T19:05:55.158237",
     "exception": false,
     "start_time": "2024-06-05T19:05:55.126496",
     "status": "completed"
    },
    "tags": []
   },
   "outputs": [],
   "source": [
    "# from sklearn.feature_extraction.text import TfidfVectorizer\n",
    "# from imblearn.over_sampling import SMOTE\n",
    "# from sklearn.multiclass import OneVsRestClassifier\n",
    "# from sklearn.linear_model import LogisticRegression\n",
    "# from sklearn.metrics import classification_report\n",
    "\n",
    "# df = df_new[0]\n",
    "\n",
    "# X = df['Content']\n",
    "# y = df.drop(columns=['Content'])\n",
    "\n",
    "# # Split the data into training and testing sets\n",
    "# X_train, X_test, y_train, y_test = train_test_split(X, y, test_size=0.2, random_state=42)\n",
    "\n",
    "\n",
    "# vectorizer = TfidfVectorizer(max_features=5000)\n",
    "# X_train_vec = vectorizer.fit_transform(X_train)\n",
    "# X_test_vec = vectorizer.transform(X_test)\n",
    "\n",
    "\n"
   ]
  },
  {
   "cell_type": "code",
   "execution_count": 29,
   "id": "2d702809",
   "metadata": {
    "execution": {
     "iopub.execute_input": "2024-06-05T19:05:55.209372Z",
     "iopub.status.busy": "2024-06-05T19:05:55.208518Z",
     "iopub.status.idle": "2024-06-05T19:05:55.213186Z",
     "shell.execute_reply": "2024-06-05T19:05:55.212230Z"
    },
    "papermill": {
     "duration": 0.033486,
     "end_time": "2024-06-05T19:05:55.215382",
     "exception": false,
     "start_time": "2024-06-05T19:05:55.181896",
     "status": "completed"
    },
    "tags": []
   },
   "outputs": [],
   "source": [
    "# from sklearn.multiclass import OneVsRestClassifier\n",
    "# from sklearn.linear_model import LogisticRegression\n",
    "# from sklearn.metrics import classification_report\n",
    "\n",
    "# # Train the classifier\n",
    "# classifier = OneVsRestClassifier(LogisticRegression(solver='liblinear'))\n",
    "# classifier.fit(X_train_vec, y_train)\n",
    "\n",
    "# # Predict on the test set\n",
    "# y_pred = classifier.predict(X_test_vec)\n",
    "\n",
    "# # Evaluate the classifier\n",
    "# print(classification_report(y_test, y_pred, target_names=y.columns))\n"
   ]
  },
  {
   "cell_type": "code",
   "execution_count": null,
   "id": "e694e2c2",
   "metadata": {
    "papermill": {
     "duration": 0.024993,
     "end_time": "2024-06-05T19:05:55.266177",
     "exception": false,
     "start_time": "2024-06-05T19:05:55.241184",
     "status": "completed"
    },
    "tags": []
   },
   "outputs": [],
   "source": []
  },
  {
   "cell_type": "code",
   "execution_count": 30,
   "id": "dd6d9fb8",
   "metadata": {
    "execution": {
     "iopub.execute_input": "2024-06-05T19:05:55.318504Z",
     "iopub.status.busy": "2024-06-05T19:05:55.318156Z",
     "iopub.status.idle": "2024-06-05T19:05:55.322860Z",
     "shell.execute_reply": "2024-06-05T19:05:55.321888Z"
    },
    "papermill": {
     "duration": 0.033304,
     "end_time": "2024-06-05T19:05:55.324834",
     "exception": false,
     "start_time": "2024-06-05T19:05:55.291530",
     "status": "completed"
    },
    "tags": []
   },
   "outputs": [],
   "source": [
    "import pandas as pd\n",
    "from datasets import Dataset"
   ]
  },
  {
   "cell_type": "code",
   "execution_count": 31,
   "id": "088b4483",
   "metadata": {
    "execution": {
     "iopub.execute_input": "2024-06-05T19:05:55.374669Z",
     "iopub.status.busy": "2024-06-05T19:05:55.374314Z",
     "iopub.status.idle": "2024-06-05T19:05:55.602249Z",
     "shell.execute_reply": "2024-06-05T19:05:55.601117Z"
    },
    "papermill": {
     "duration": 0.255993,
     "end_time": "2024-06-05T19:05:55.604825",
     "exception": false,
     "start_time": "2024-06-05T19:05:55.348832",
     "status": "completed"
    },
    "tags": []
   },
   "outputs": [],
   "source": [
    "#Splitting DataFrame into train, test, and validation sets\n",
    "train_df, test_valid_df = train_test_split(df, test_size=0.3, random_state=42)\n",
    "test_df, validation_df = train_test_split(test_valid_df, test_size=0.33, random_state=42)\n",
    "\n",
    "# Convert DataFrames to Hugging Face Datasets\n",
    "train_dataset = Dataset.from_pandas(train_df)\n",
    "test_dataset = Dataset.from_pandas(test_df)\n",
    "validation_dataset = Dataset.from_pandas(validation_df)\n",
    "\n",
    "# Create DatasetDict\n",
    "dataset = DatasetDict({\n",
    "    \"train\": train_dataset,\n",
    "    \"test\": test_dataset,\n",
    "    \"validation\": validation_dataset\n",
    "})\n",
    "\n",
    "\n"
   ]
  },
  {
   "cell_type": "code",
   "execution_count": 32,
   "id": "b081b05b",
   "metadata": {
    "execution": {
     "iopub.execute_input": "2024-06-05T19:05:55.660058Z",
     "iopub.status.busy": "2024-06-05T19:05:55.659652Z",
     "iopub.status.idle": "2024-06-05T19:05:55.666714Z",
     "shell.execute_reply": "2024-06-05T19:05:55.665728Z"
    },
    "papermill": {
     "duration": 0.037351,
     "end_time": "2024-06-05T19:05:55.668913",
     "exception": false,
     "start_time": "2024-06-05T19:05:55.631562",
     "status": "completed"
    },
    "tags": []
   },
   "outputs": [
    {
     "data": {
      "text/plain": [
       "DatasetDict({\n",
       "    train: Dataset({\n",
       "        features: ['Content', 'audit', 'investor protection', 'sanctions', 'insider dealing', 'rules', 'aml', 'legal', 'risks', 'disclosure', 'guideline', 'regulator', 'license', 'rulebook', 'transactions', 'vasp', 'cdd', 'identity', 'transfer', 'cft', 'criminal', 'dlt', 'pep', 'kyc', 'risk assessment', 'anti-bribery', 'reporting', 'legislation', 'operator', 'travel rule', 'regulations', 'requirements', 'entities', 'policy', 'authority', 'monitoring', 'circular', 'screening', 'oversight', 'compliance', 'safeguard', 'record keeping', 'due diligence', 'transaction', 'vasps', 'virtual assets', 'investor', 'code of conduct', 'person', 'suspicious transactions', 'risk management', 'policies', 'controls', 'beneficiary information', 'client', 'conduct', '__index_level_0__'],\n",
       "        num_rows: 3780\n",
       "    })\n",
       "    test: Dataset({\n",
       "        features: ['Content', 'audit', 'investor protection', 'sanctions', 'insider dealing', 'rules', 'aml', 'legal', 'risks', 'disclosure', 'guideline', 'regulator', 'license', 'rulebook', 'transactions', 'vasp', 'cdd', 'identity', 'transfer', 'cft', 'criminal', 'dlt', 'pep', 'kyc', 'risk assessment', 'anti-bribery', 'reporting', 'legislation', 'operator', 'travel rule', 'regulations', 'requirements', 'entities', 'policy', 'authority', 'monitoring', 'circular', 'screening', 'oversight', 'compliance', 'safeguard', 'record keeping', 'due diligence', 'transaction', 'vasps', 'virtual assets', 'investor', 'code of conduct', 'person', 'suspicious transactions', 'risk management', 'policies', 'controls', 'beneficiary information', 'client', 'conduct', '__index_level_0__'],\n",
       "        num_rows: 1086\n",
       "    })\n",
       "    validation: Dataset({\n",
       "        features: ['Content', 'audit', 'investor protection', 'sanctions', 'insider dealing', 'rules', 'aml', 'legal', 'risks', 'disclosure', 'guideline', 'regulator', 'license', 'rulebook', 'transactions', 'vasp', 'cdd', 'identity', 'transfer', 'cft', 'criminal', 'dlt', 'pep', 'kyc', 'risk assessment', 'anti-bribery', 'reporting', 'legislation', 'operator', 'travel rule', 'regulations', 'requirements', 'entities', 'policy', 'authority', 'monitoring', 'circular', 'screening', 'oversight', 'compliance', 'safeguard', 'record keeping', 'due diligence', 'transaction', 'vasps', 'virtual assets', 'investor', 'code of conduct', 'person', 'suspicious transactions', 'risk management', 'policies', 'controls', 'beneficiary information', 'client', 'conduct', '__index_level_0__'],\n",
       "        num_rows: 535\n",
       "    })\n",
       "})"
      ]
     },
     "execution_count": 32,
     "metadata": {},
     "output_type": "execute_result"
    }
   ],
   "source": [
    "dataset"
   ]
  },
  {
   "cell_type": "code",
   "execution_count": 33,
   "id": "6b9043c4",
   "metadata": {
    "execution": {
     "iopub.execute_input": "2024-06-05T19:05:55.723580Z",
     "iopub.status.busy": "2024-06-05T19:05:55.723242Z",
     "iopub.status.idle": "2024-06-05T19:05:58.129305Z",
     "shell.execute_reply": "2024-06-05T19:05:58.128349Z"
    },
    "papermill": {
     "duration": 2.435931,
     "end_time": "2024-06-05T19:05:58.131496",
     "exception": false,
     "start_time": "2024-06-05T19:05:55.695565",
     "status": "completed"
    },
    "tags": []
   },
   "outputs": [
    {
     "data": {
      "text/plain": [
       "[{'Content': '8 in implementing policies and controls to comply with the travel rule and amlcft rules vasps shall be guided by fatf interpretive note to recommendation 15 and all applicable laws regulatory requirements and guidelines as may be in force from time to time vasps must monitor for any transaction or series of transactions that seeks to circumvent any regulatory thresholds to bypass travel rule requirements',\n",
       "  'audit': 0,\n",
       "  'investor protection': 0,\n",
       "  'sanctions': 0,\n",
       "  'insider dealing': 0,\n",
       "  'rules': 1,\n",
       "  'aml': 1,\n",
       "  'legal': 0,\n",
       "  'risks': 0,\n",
       "  'disclosure': 0,\n",
       "  'guideline': 1,\n",
       "  'regulator': 1,\n",
       "  'license': 0,\n",
       "  'rulebook': 0,\n",
       "  'transactions': 1,\n",
       "  'vasp': 1,\n",
       "  'cdd': 0,\n",
       "  'identity': 0,\n",
       "  'transfer': 0,\n",
       "  'cft': 1,\n",
       "  'criminal': 0,\n",
       "  'dlt': 0,\n",
       "  'pep': 0,\n",
       "  'kyc': 0,\n",
       "  'risk assessment': 0,\n",
       "  'anti-bribery': 0,\n",
       "  'reporting': 0,\n",
       "  'legislation': 0,\n",
       "  'operator': 0,\n",
       "  'travel rule': 1,\n",
       "  'regulations': 0,\n",
       "  'requirements': 1,\n",
       "  'entities': 0,\n",
       "  'policy': 0,\n",
       "  'authority': 0,\n",
       "  'monitoring': 0,\n",
       "  'circular': 0,\n",
       "  'screening': 0,\n",
       "  'oversight': 0,\n",
       "  'compliance': 1,\n",
       "  'safeguard': 0,\n",
       "  'record keeping': 0,\n",
       "  'due diligence': 0,\n",
       "  'transaction': 1,\n",
       "  'vasps': 1,\n",
       "  'virtual assets': 1,\n",
       "  'investor': 0,\n",
       "  'code of conduct': 0,\n",
       "  'person': 0,\n",
       "  'suspicious transactions': 0,\n",
       "  'risk management': 0,\n",
       "  'policies': 0,\n",
       "  'controls': 0,\n",
       "  'beneficiary information': 0,\n",
       "  'client': 0,\n",
       "  'conduct': 0,\n",
       "  '__index_level_0__': 3877},\n",
       " {'Content': 'where a client does not possess such knowledge a platform operator may only provide services to the client if the platform operator has provided training to the client and enquired into the client s personal circumstances to ensure that the provision of its services is suitable for that client',\n",
       "  'audit': 0,\n",
       "  'investor protection': 0,\n",
       "  'sanctions': 0,\n",
       "  'insider dealing': 0,\n",
       "  'rules': 0,\n",
       "  'aml': 0,\n",
       "  'legal': 0,\n",
       "  'risks': 0,\n",
       "  'disclosure': 0,\n",
       "  'guideline': 0,\n",
       "  'regulator': 0,\n",
       "  'license': 0,\n",
       "  'rulebook': 0,\n",
       "  'transactions': 0,\n",
       "  'vasp': 0,\n",
       "  'cdd': 0,\n",
       "  'identity': 0,\n",
       "  'transfer': 0,\n",
       "  'cft': 0,\n",
       "  'criminal': 0,\n",
       "  'dlt': 0,\n",
       "  'pep': 0,\n",
       "  'kyc': 0,\n",
       "  'risk assessment': 0,\n",
       "  'anti-bribery': 0,\n",
       "  'reporting': 0,\n",
       "  'legislation': 0,\n",
       "  'operator': 1,\n",
       "  'travel rule': 0,\n",
       "  'regulations': 0,\n",
       "  'requirements': 0,\n",
       "  'entities': 0,\n",
       "  'policy': 0,\n",
       "  'authority': 0,\n",
       "  'monitoring': 0,\n",
       "  'circular': 0,\n",
       "  'screening': 0,\n",
       "  'oversight': 0,\n",
       "  'compliance': 0,\n",
       "  'safeguard': 0,\n",
       "  'record keeping': 0,\n",
       "  'due diligence': 0,\n",
       "  'transaction': 0,\n",
       "  'vasps': 0,\n",
       "  'virtual assets': 0,\n",
       "  'investor': 0,\n",
       "  'code of conduct': 0,\n",
       "  'person': 1,\n",
       "  'suspicious transactions': 0,\n",
       "  'risk management': 0,\n",
       "  'policies': 0,\n",
       "  'controls': 0,\n",
       "  'beneficiary information': 0,\n",
       "  'client': 1,\n",
       "  'conduct': 0,\n",
       "  '__index_level_0__': 4132}]"
      ]
     },
     "execution_count": 33,
     "metadata": {},
     "output_type": "execute_result"
    }
   ],
   "source": [
    "[i for i in dataset['train']][:2]"
   ]
  },
  {
   "cell_type": "markdown",
   "id": "c5efd101",
   "metadata": {
    "papermill": {
     "duration": 0.024017,
     "end_time": "2024-06-05T19:05:58.180306",
     "exception": false,
     "start_time": "2024-06-05T19:05:58.156289",
     "status": "completed"
    },
    "tags": []
   },
   "source": [
    "# Data Ready Now Training"
   ]
  },
  {
   "cell_type": "code",
   "execution_count": 34,
   "id": "f57f2bb1",
   "metadata": {
    "execution": {
     "iopub.execute_input": "2024-06-05T19:05:58.232772Z",
     "iopub.status.busy": "2024-06-05T19:05:58.232432Z",
     "iopub.status.idle": "2024-06-05T19:06:01.048144Z",
     "shell.execute_reply": "2024-06-05T19:06:01.047153Z"
    },
    "papermill": {
     "duration": 2.845434,
     "end_time": "2024-06-05T19:06:01.050624",
     "exception": false,
     "start_time": "2024-06-05T19:05:58.205190",
     "status": "completed"
    },
    "tags": []
   },
   "outputs": [
    {
     "name": "stdout",
     "output_type": "stream",
     "text": [
      "\u001b[31mERROR: Could not install packages due to an OSError: [Errno 2] No such file or directory: '/opt/conda/lib/python3.10/site-packages/aiohttp-3.9.1.dist-info/METADATA'\r\n",
      "\u001b[0m\u001b[31m\r\n",
      "\u001b[0m"
     ]
    }
   ],
   "source": [
    "!pip install -q transformers datasets"
   ]
  },
  {
   "cell_type": "markdown",
   "id": "eac7ce22",
   "metadata": {
    "papermill": {
     "duration": 0.024638,
     "end_time": "2024-06-05T19:06:01.099914",
     "exception": false,
     "start_time": "2024-06-05T19:06:01.075276",
     "status": "completed"
    },
    "tags": []
   },
   "source": [
    "Add a linear layer on top of the base model, which is used to produce a tensor of shape (batch_size, num_labels), indicating the unnormalized scores for a number of labels for every example in the batch."
   ]
  },
  {
   "cell_type": "markdown",
   "id": "6fdd8c96",
   "metadata": {
    "papermill": {
     "duration": 0.025525,
     "end_time": "2024-06-05T19:06:01.152974",
     "exception": false,
     "start_time": "2024-06-05T19:06:01.127449",
     "status": "completed"
    },
    "tags": []
   },
   "source": [
    "### List containing all the labels"
   ]
  },
  {
   "cell_type": "code",
   "execution_count": 35,
   "id": "557e6917",
   "metadata": {
    "execution": {
     "iopub.execute_input": "2024-06-05T19:06:01.206117Z",
     "iopub.status.busy": "2024-06-05T19:06:01.205713Z",
     "iopub.status.idle": "2024-06-05T19:06:01.216968Z",
     "shell.execute_reply": "2024-06-05T19:06:01.216012Z"
    },
    "papermill": {
     "duration": 0.040658,
     "end_time": "2024-06-05T19:06:01.219109",
     "exception": false,
     "start_time": "2024-06-05T19:06:01.178451",
     "status": "completed"
    },
    "tags": []
   },
   "outputs": [
    {
     "data": {
      "text/plain": [
       "['audit',\n",
       " 'investor protection',\n",
       " 'sanctions',\n",
       " 'insider dealing',\n",
       " 'rules',\n",
       " 'aml',\n",
       " 'legal',\n",
       " 'risks',\n",
       " 'disclosure',\n",
       " 'guideline',\n",
       " 'regulator',\n",
       " 'license',\n",
       " 'rulebook',\n",
       " 'transactions',\n",
       " 'vasp',\n",
       " 'cdd',\n",
       " 'identity',\n",
       " 'transfer',\n",
       " 'cft',\n",
       " 'criminal',\n",
       " 'dlt',\n",
       " 'pep',\n",
       " 'kyc',\n",
       " 'risk assessment',\n",
       " 'anti-bribery',\n",
       " 'reporting',\n",
       " 'legislation',\n",
       " 'operator',\n",
       " 'travel rule',\n",
       " 'regulations',\n",
       " 'requirements',\n",
       " 'entities',\n",
       " 'policy',\n",
       " 'authority',\n",
       " 'monitoring',\n",
       " 'circular',\n",
       " 'screening',\n",
       " 'oversight',\n",
       " 'compliance',\n",
       " 'safeguard',\n",
       " 'record keeping',\n",
       " 'due diligence',\n",
       " 'transaction',\n",
       " 'vasps',\n",
       " 'virtual assets',\n",
       " 'investor',\n",
       " 'code of conduct',\n",
       " 'person',\n",
       " 'suspicious transactions',\n",
       " 'risk management',\n",
       " 'policies',\n",
       " 'controls',\n",
       " 'beneficiary information',\n",
       " 'client',\n",
       " 'conduct']"
      ]
     },
     "execution_count": 35,
     "metadata": {},
     "output_type": "execute_result"
    }
   ],
   "source": [
    "labels = [label for label in dataset['train'].features.keys() if label not in ['Content','__index_level_0__']]\n",
    "#Create 2 dictionaries that map labels to integers and back.\n",
    "id2label = {idx:label for idx, label in enumerate(labels)}\n",
    "label2id = {label:idx for idx, label in enumerate(labels)}\n",
    "labels"
   ]
  },
  {
   "cell_type": "code",
   "execution_count": 36,
   "id": "09b89911",
   "metadata": {
    "execution": {
     "iopub.execute_input": "2024-06-05T19:06:01.270502Z",
     "iopub.status.busy": "2024-06-05T19:06:01.270219Z",
     "iopub.status.idle": "2024-06-05T19:06:01.278637Z",
     "shell.execute_reply": "2024-06-05T19:06:01.277616Z"
    },
    "papermill": {
     "duration": 0.036495,
     "end_time": "2024-06-05T19:06:01.280772",
     "exception": false,
     "start_time": "2024-06-05T19:06:01.244277",
     "status": "completed"
    },
    "tags": []
   },
   "outputs": [
    {
     "data": {
      "text/plain": [
       "{0: 'audit',\n",
       " 1: 'investor protection',\n",
       " 2: 'sanctions',\n",
       " 3: 'insider dealing',\n",
       " 4: 'rules',\n",
       " 5: 'aml',\n",
       " 6: 'legal',\n",
       " 7: 'risks',\n",
       " 8: 'disclosure',\n",
       " 9: 'guideline',\n",
       " 10: 'regulator',\n",
       " 11: 'license',\n",
       " 12: 'rulebook',\n",
       " 13: 'transactions',\n",
       " 14: 'vasp',\n",
       " 15: 'cdd',\n",
       " 16: 'identity',\n",
       " 17: 'transfer',\n",
       " 18: 'cft',\n",
       " 19: 'criminal',\n",
       " 20: 'dlt',\n",
       " 21: 'pep',\n",
       " 22: 'kyc',\n",
       " 23: 'risk assessment',\n",
       " 24: 'anti-bribery',\n",
       " 25: 'reporting',\n",
       " 26: 'legislation',\n",
       " 27: 'operator',\n",
       " 28: 'travel rule',\n",
       " 29: 'regulations',\n",
       " 30: 'requirements',\n",
       " 31: 'entities',\n",
       " 32: 'policy',\n",
       " 33: 'authority',\n",
       " 34: 'monitoring',\n",
       " 35: 'circular',\n",
       " 36: 'screening',\n",
       " 37: 'oversight',\n",
       " 38: 'compliance',\n",
       " 39: 'safeguard',\n",
       " 40: 'record keeping',\n",
       " 41: 'due diligence',\n",
       " 42: 'transaction',\n",
       " 43: 'vasps',\n",
       " 44: 'virtual assets',\n",
       " 45: 'investor',\n",
       " 46: 'code of conduct',\n",
       " 47: 'person',\n",
       " 48: 'suspicious transactions',\n",
       " 49: 'risk management',\n",
       " 50: 'policies',\n",
       " 51: 'controls',\n",
       " 52: 'beneficiary information',\n",
       " 53: 'client',\n",
       " 54: 'conduct'}"
      ]
     },
     "execution_count": 36,
     "metadata": {},
     "output_type": "execute_result"
    }
   ],
   "source": [
    "id2label"
   ]
  },
  {
   "cell_type": "code",
   "execution_count": null,
   "id": "3e60be90",
   "metadata": {
    "papermill": {
     "duration": 0.025942,
     "end_time": "2024-06-05T19:06:01.332688",
     "exception": false,
     "start_time": "2024-06-05T19:06:01.306746",
     "status": "completed"
    },
    "tags": []
   },
   "outputs": [],
   "source": []
  },
  {
   "cell_type": "markdown",
   "id": "989eb709",
   "metadata": {
    "papermill": {
     "duration": 0.024837,
     "end_time": "2024-06-05T19:06:01.382642",
     "exception": false,
     "start_time": "2024-06-05T19:06:01.357805",
     "status": "completed"
    },
    "tags": []
   },
   "source": [
    "# Tokenization"
   ]
  },
  {
   "cell_type": "markdown",
   "id": "f09b0035",
   "metadata": {
    "papermill": {
     "duration": 0.025531,
     "end_time": "2024-06-05T19:06:01.433515",
     "exception": false,
     "start_time": "2024-06-05T19:06:01.407984",
     "status": "completed"
    },
    "tags": []
   },
   "source": [
    "### As models like BERT don't expect text as direct input, but rather input_ids, etc., we tokenize the text using the tokenizer. We will use AutoTokenizer API, which will automatically load the appropriate tokenizer based on the checkpoint on the hub.\n",
    "\n",
    "### What's a bit tricky is that we also need to provide labels to the model. For multi-label text classification, this is a matrix of shape (batch_size, num_labels). Also important: this should be a tensor of floats rather than integers, otherwise PyTorch' BCEWithLogitsLoss (which the model will use) will complain"
   ]
  },
  {
   "cell_type": "code",
   "execution_count": 37,
   "id": "8561ee10",
   "metadata": {
    "execution": {
     "iopub.execute_input": "2024-06-05T19:06:01.486868Z",
     "iopub.status.busy": "2024-06-05T19:06:01.486518Z",
     "iopub.status.idle": "2024-06-05T19:06:07.193488Z",
     "shell.execute_reply": "2024-06-05T19:06:07.192560Z"
    },
    "papermill": {
     "duration": 5.736775,
     "end_time": "2024-06-05T19:06:07.195887",
     "exception": false,
     "start_time": "2024-06-05T19:06:01.459112",
     "status": "completed"
    },
    "tags": []
   },
   "outputs": [
    {
     "data": {
      "application/vnd.jupyter.widget-view+json": {
       "model_id": "16e934915b4e4958b6f52dc53bf3b105",
       "version_major": 2,
       "version_minor": 0
      },
      "text/plain": [
       "tokenizer_config.json:   0%|          | 0.00/252 [00:00<?, ?B/s]"
      ]
     },
     "metadata": {},
     "output_type": "display_data"
    },
    {
     "name": "stderr",
     "output_type": "stream",
     "text": [
      "/opt/conda/lib/python3.10/site-packages/huggingface_hub/file_download.py:1132: FutureWarning: `resume_download` is deprecated and will be removed in version 1.0.0. Downloads always resume when possible. If you want to force a new download, use `force_download=True`.\n",
      "  warnings.warn(\n"
     ]
    },
    {
     "data": {
      "application/vnd.jupyter.widget-view+json": {
       "model_id": "b5410ea40131429ab4cc70559f16aa49",
       "version_major": 2,
       "version_minor": 0
      },
      "text/plain": [
       "config.json:   0%|          | 0.00/758 [00:00<?, ?B/s]"
      ]
     },
     "metadata": {},
     "output_type": "display_data"
    },
    {
     "data": {
      "application/vnd.jupyter.widget-view+json": {
       "model_id": "e63c5b1e38564d36af0356cabf258376",
       "version_major": 2,
       "version_minor": 0
      },
      "text/plain": [
       "vocab.txt:   0%|          | 0.00/232k [00:00<?, ?B/s]"
      ]
     },
     "metadata": {},
     "output_type": "display_data"
    },
    {
     "data": {
      "application/vnd.jupyter.widget-view+json": {
       "model_id": "828fdc300c7f4913a190391374f6cd65",
       "version_major": 2,
       "version_minor": 0
      },
      "text/plain": [
       "special_tokens_map.json:   0%|          | 0.00/112 [00:00<?, ?B/s]"
      ]
     },
     "metadata": {},
     "output_type": "display_data"
    }
   ],
   "source": [
    "from transformers import AutoTokenizer\n",
    "import numpy as np\n",
    "\n",
    "tokenizer = AutoTokenizer.from_pretrained(\"ProsusAI/finbert\")\n",
    "\n",
    "def preprocess_data(examples, max_length=128):\n",
    "  # take a batch of texts\n",
    "  text = examples['Content']\n",
    "  batch_size = len(text)\n",
    "  # encode them\n",
    "  encoding = tokenizer(text, padding=\"max_length\", truncation=True, max_length=max_length)\n",
    "  # add labels\n",
    "  labels_batch = {k: examples[k] for k in examples.keys() if k in labels}\n",
    "  # create numpy array of shape (batch_size, num_labels)\n",
    "  labels_matrix = np.zeros((len(text), len(labels)))\n",
    "  # fill numpy array\n",
    "  for idx, label in enumerate(labels):\n",
    "    labels_matrix[:, idx] = labels_batch[label]\n",
    "\n",
    "  encoding[\"labels\"] = labels_matrix.tolist()\n",
    "  \n",
    "  return encoding"
   ]
  },
  {
   "cell_type": "code",
   "execution_count": 38,
   "id": "e9dfc22b",
   "metadata": {
    "execution": {
     "iopub.execute_input": "2024-06-05T19:06:07.254051Z",
     "iopub.status.busy": "2024-06-05T19:06:07.253465Z",
     "iopub.status.idle": "2024-06-05T19:06:08.602856Z",
     "shell.execute_reply": "2024-06-05T19:06:08.601963Z"
    },
    "papermill": {
     "duration": 1.380422,
     "end_time": "2024-06-05T19:06:08.604841",
     "exception": false,
     "start_time": "2024-06-05T19:06:07.224419",
     "status": "completed"
    },
    "tags": []
   },
   "outputs": [
    {
     "data": {
      "application/vnd.jupyter.widget-view+json": {
       "model_id": "e208f27fd09e4e878067d0a41f236cf7",
       "version_major": 2,
       "version_minor": 0
      },
      "text/plain": [
       "Map:   0%|          | 0/3780 [00:00<?, ? examples/s]"
      ]
     },
     "metadata": {},
     "output_type": "display_data"
    },
    {
     "data": {
      "application/vnd.jupyter.widget-view+json": {
       "model_id": "68671b9019ca4b38b2ba551fc82931db",
       "version_major": 2,
       "version_minor": 0
      },
      "text/plain": [
       "Map:   0%|          | 0/1086 [00:00<?, ? examples/s]"
      ]
     },
     "metadata": {},
     "output_type": "display_data"
    },
    {
     "data": {
      "application/vnd.jupyter.widget-view+json": {
       "model_id": "ac470b1c82794633a7d3f95e5c7a93df",
       "version_major": 2,
       "version_minor": 0
      },
      "text/plain": [
       "Map:   0%|          | 0/535 [00:00<?, ? examples/s]"
      ]
     },
     "metadata": {},
     "output_type": "display_data"
    }
   ],
   "source": [
    "encoded_dataset = dataset.map(preprocess_data, batched=True, remove_columns=dataset['train'].column_names)"
   ]
  },
  {
   "cell_type": "code",
   "execution_count": 39,
   "id": "017c3e25",
   "metadata": {
    "execution": {
     "iopub.execute_input": "2024-06-05T19:06:08.658403Z",
     "iopub.status.busy": "2024-06-05T19:06:08.658076Z",
     "iopub.status.idle": "2024-06-05T19:06:08.664669Z",
     "shell.execute_reply": "2024-06-05T19:06:08.663651Z"
    },
    "papermill": {
     "duration": 0.036212,
     "end_time": "2024-06-05T19:06:08.666751",
     "exception": false,
     "start_time": "2024-06-05T19:06:08.630539",
     "status": "completed"
    },
    "tags": []
   },
   "outputs": [
    {
     "data": {
      "text/plain": [
       "DatasetDict({\n",
       "    train: Dataset({\n",
       "        features: ['input_ids', 'token_type_ids', 'attention_mask', 'labels'],\n",
       "        num_rows: 3780\n",
       "    })\n",
       "    test: Dataset({\n",
       "        features: ['input_ids', 'token_type_ids', 'attention_mask', 'labels'],\n",
       "        num_rows: 1086\n",
       "    })\n",
       "    validation: Dataset({\n",
       "        features: ['input_ids', 'token_type_ids', 'attention_mask', 'labels'],\n",
       "        num_rows: 535\n",
       "    })\n",
       "})"
      ]
     },
     "execution_count": 39,
     "metadata": {},
     "output_type": "execute_result"
    }
   ],
   "source": [
    "encoded_dataset"
   ]
  },
  {
   "cell_type": "code",
   "execution_count": 40,
   "id": "20dc7948",
   "metadata": {
    "execution": {
     "iopub.execute_input": "2024-06-05T19:06:08.724433Z",
     "iopub.status.busy": "2024-06-05T19:06:08.724089Z",
     "iopub.status.idle": "2024-06-05T19:06:08.730356Z",
     "shell.execute_reply": "2024-06-05T19:06:08.729376Z"
    },
    "papermill": {
     "duration": 0.039311,
     "end_time": "2024-06-05T19:06:08.732524",
     "exception": false,
     "start_time": "2024-06-05T19:06:08.693213",
     "status": "completed"
    },
    "tags": []
   },
   "outputs": [
    {
     "data": {
      "text/plain": [
       "Dataset({\n",
       "    features: ['input_ids', 'token_type_ids', 'attention_mask', 'labels'],\n",
       "    num_rows: 3780\n",
       "})"
      ]
     },
     "execution_count": 40,
     "metadata": {},
     "output_type": "execute_result"
    }
   ],
   "source": [
    "encoded_dataset['train']"
   ]
  },
  {
   "cell_type": "code",
   "execution_count": 41,
   "id": "f3f3e4ae",
   "metadata": {
    "execution": {
     "iopub.execute_input": "2024-06-05T19:06:08.786544Z",
     "iopub.status.busy": "2024-06-05T19:06:08.786227Z",
     "iopub.status.idle": "2024-06-05T19:06:20.165068Z",
     "shell.execute_reply": "2024-06-05T19:06:20.164113Z"
    },
    "papermill": {
     "duration": 11.407936,
     "end_time": "2024-06-05T19:06:20.167119",
     "exception": false,
     "start_time": "2024-06-05T19:06:08.759183",
     "status": "completed"
    },
    "tags": []
   },
   "outputs": [
    {
     "name": "stderr",
     "output_type": "stream",
     "text": [
      "2024-06-05 19:06:10.574296: E external/local_xla/xla/stream_executor/cuda/cuda_dnn.cc:9261] Unable to register cuDNN factory: Attempting to register factory for plugin cuDNN when one has already been registered\n",
      "2024-06-05 19:06:10.574397: E external/local_xla/xla/stream_executor/cuda/cuda_fft.cc:607] Unable to register cuFFT factory: Attempting to register factory for plugin cuFFT when one has already been registered\n",
      "2024-06-05 19:06:10.709289: E external/local_xla/xla/stream_executor/cuda/cuda_blas.cc:1515] Unable to register cuBLAS factory: Attempting to register factory for plugin cuBLAS when one has already been registered\n"
     ]
    },
    {
     "data": {
      "text/plain": [
       "'[CLS] 8 in implementing policies and controls to comply with the travel rule and amlcft rules vasps shall be guided by fatf interpretive note to recommendation 15 and all applicable laws regulatory requirements and guidelines as may be in force from time to time vasps must monitor for any transaction or series of transactions that seeks to circumvent any regulatory thresholds to bypass travel rule requirements [SEP] [PAD] [PAD] [PAD] [PAD] [PAD] [PAD] [PAD] [PAD] [PAD] [PAD] [PAD] [PAD] [PAD] [PAD] [PAD] [PAD] [PAD] [PAD] [PAD] [PAD] [PAD] [PAD] [PAD] [PAD] [PAD] [PAD] [PAD] [PAD] [PAD] [PAD] [PAD] [PAD] [PAD] [PAD] [PAD] [PAD] [PAD] [PAD] [PAD] [PAD] [PAD] [PAD] [PAD] [PAD] [PAD] [PAD] [PAD] [PAD] [PAD]'"
      ]
     },
     "execution_count": 41,
     "metadata": {},
     "output_type": "execute_result"
    }
   ],
   "source": [
    "example = encoded_dataset['train'][0]\n",
    "tokenizer.decode(example['input_ids'])"
   ]
  },
  {
   "cell_type": "code",
   "execution_count": 42,
   "id": "493fdc08",
   "metadata": {
    "execution": {
     "iopub.execute_input": "2024-06-05T19:06:20.222380Z",
     "iopub.status.busy": "2024-06-05T19:06:20.221626Z",
     "iopub.status.idle": "2024-06-05T19:06:20.226530Z",
     "shell.execute_reply": "2024-06-05T19:06:20.225587Z"
    },
    "papermill": {
     "duration": 0.034436,
     "end_time": "2024-06-05T19:06:20.228621",
     "exception": false,
     "start_time": "2024-06-05T19:06:20.194185",
     "status": "completed"
    },
    "tags": []
   },
   "outputs": [],
   "source": [
    "#example['labels']"
   ]
  },
  {
   "cell_type": "code",
   "execution_count": 43,
   "id": "17b7dee6",
   "metadata": {
    "execution": {
     "iopub.execute_input": "2024-06-05T19:06:20.285055Z",
     "iopub.status.busy": "2024-06-05T19:06:20.284129Z",
     "iopub.status.idle": "2024-06-05T19:06:20.290252Z",
     "shell.execute_reply": "2024-06-05T19:06:20.289267Z"
    },
    "papermill": {
     "duration": 0.037276,
     "end_time": "2024-06-05T19:06:20.292238",
     "exception": false,
     "start_time": "2024-06-05T19:06:20.254962",
     "status": "completed"
    },
    "tags": []
   },
   "outputs": [],
   "source": [
    "#use id to label dictionary\n",
    "[id2label[idx] for idx, label in enumerate(example['labels']) if label == 1.0]\n",
    "encoded_dataset.set_format(\"torch\") "
   ]
  },
  {
   "cell_type": "markdown",
   "id": "a811e685",
   "metadata": {
    "papermill": {
     "duration": 0.027073,
     "end_time": "2024-06-05T19:06:20.345575",
     "exception": false,
     "start_time": "2024-06-05T19:06:20.318502",
     "status": "completed"
    },
    "tags": []
   },
   "source": [
    "### Here we define a model that includes a pre-trained base (i.e. the weights from bert-base-uncased) are loaded, with a random initialized classification head (linear layer) on top. One should fine-tune this head, together with the pre-trained base on a labeled dataset.\n",
    "\n",
    "### We set the problem_type to be \"multi_label_classification\", as this will make sure the appropriate loss function is used (namely BCEWithLogitsLoss). We also make sure the output layer has len(labels) output neurons, and we set the id2label and label2id mappings"
   ]
  },
  {
   "cell_type": "code",
   "execution_count": 44,
   "id": "1410c0aa",
   "metadata": {
    "execution": {
     "iopub.execute_input": "2024-06-05T19:06:20.402136Z",
     "iopub.status.busy": "2024-06-05T19:06:20.401719Z",
     "iopub.status.idle": "2024-06-05T19:06:30.751418Z",
     "shell.execute_reply": "2024-06-05T19:06:30.750234Z"
    },
    "papermill": {
     "duration": 10.381815,
     "end_time": "2024-06-05T19:06:30.754327",
     "exception": false,
     "start_time": "2024-06-05T19:06:20.372512",
     "status": "completed"
    },
    "tags": []
   },
   "outputs": [
    {
     "data": {
      "application/vnd.jupyter.widget-view+json": {
       "model_id": "8a19b5e2c5b740678cccaee6efaf17ab",
       "version_major": 2,
       "version_minor": 0
      },
      "text/plain": [
       "pytorch_model.bin:   0%|          | 0.00/438M [00:00<?, ?B/s]"
      ]
     },
     "metadata": {},
     "output_type": "display_data"
    },
    {
     "name": "stderr",
     "output_type": "stream",
     "text": [
      "/opt/conda/lib/python3.10/site-packages/torch/_utils.py:831: UserWarning: TypedStorage is deprecated. It will be removed in the future and UntypedStorage will be the only storage class. This should only matter to you if you are using storages directly.  To access UntypedStorage directly, use tensor.untyped_storage() instead of tensor.storage()\n",
      "  return self.fget.__get__(instance, owner)()\n",
      "Some weights of BertForSequenceClassification were not initialized from the model checkpoint at ProsusAI/finbert and are newly initialized because the shapes did not match:\n",
      "- classifier.weight: found shape torch.Size([3, 768]) in the checkpoint and torch.Size([55, 768]) in the model instantiated\n",
      "- classifier.bias: found shape torch.Size([3]) in the checkpoint and torch.Size([55]) in the model instantiated\n",
      "You should probably TRAIN this model on a down-stream task to be able to use it for predictions and inference.\n"
     ]
    }
   ],
   "source": [
    "from transformers import AutoModelForSequenceClassification\n",
    "\n",
    "model = AutoModelForSequenceClassification.from_pretrained(\"ProsusAI/finbert\", \n",
    "                                                           problem_type=\"multi_label_classification\", \n",
    "                                                           num_labels=len(labels),\n",
    "                                                           id2label=id2label,\n",
    "                                                           label2id=label2id,\n",
    "                                                          ignore_mismatched_sizes=True )"
   ]
  },
  {
   "cell_type": "code",
   "execution_count": 45,
   "id": "d637e64b",
   "metadata": {
    "execution": {
     "iopub.execute_input": "2024-06-05T19:06:30.842028Z",
     "iopub.status.busy": "2024-06-05T19:06:30.840726Z",
     "iopub.status.idle": "2024-06-05T19:06:30.847126Z",
     "shell.execute_reply": "2024-06-05T19:06:30.845817Z"
    },
    "papermill": {
     "duration": 0.05393,
     "end_time": "2024-06-05T19:06:30.849408",
     "exception": false,
     "start_time": "2024-06-05T19:06:30.795478",
     "status": "completed"
    },
    "tags": []
   },
   "outputs": [],
   "source": [
    "batch_size = 24\n",
    "metric_name = \"f1\""
   ]
  },
  {
   "cell_type": "code",
   "execution_count": 46,
   "id": "d54a45f7",
   "metadata": {
    "execution": {
     "iopub.execute_input": "2024-06-05T19:06:30.913009Z",
     "iopub.status.busy": "2024-06-05T19:06:30.912584Z",
     "iopub.status.idle": "2024-06-05T19:06:31.105064Z",
     "shell.execute_reply": "2024-06-05T19:06:31.103882Z"
    },
    "papermill": {
     "duration": 0.228005,
     "end_time": "2024-06-05T19:06:31.108699",
     "exception": false,
     "start_time": "2024-06-05T19:06:30.880694",
     "status": "completed"
    },
    "tags": []
   },
   "outputs": [
    {
     "name": "stderr",
     "output_type": "stream",
     "text": [
      "/opt/conda/lib/python3.10/site-packages/transformers/training_args.py:1474: FutureWarning: `evaluation_strategy` is deprecated and will be removed in version 4.46 of 🤗 Transformers. Use `eval_strategy` instead\n",
      "  warnings.warn(\n"
     ]
    }
   ],
   "source": [
    "from transformers import TrainingArguments, Trainer\n",
    "\n",
    "args = TrainingArguments(\n",
    "    f\"bert-finetuned-sem_eval-english\",\n",
    "    evaluation_strategy = \"epoch\",\n",
    "    save_strategy = \"epoch\",\n",
    "    learning_rate=5e-4,\n",
    "    per_device_train_batch_size=batch_size,\n",
    "    per_device_eval_batch_size=batch_size,\n",
    "    num_train_epochs=15,\n",
    "    weight_decay=0.02,\n",
    "    load_best_model_at_end=True,\n",
    "    metric_for_best_model=metric_name\n",
    ")"
   ]
  },
  {
   "cell_type": "markdown",
   "id": "1e282c16",
   "metadata": {
    "papermill": {
     "duration": 0.034967,
     "end_time": "2024-06-05T19:06:31.177189",
     "exception": false,
     "start_time": "2024-06-05T19:06:31.142222",
     "status": "completed"
    },
    "tags": []
   },
   "source": [
    "we need to define a compute_metrics function, that returns a dictionary with the desired metric values.\n",
    "\n",
    "source: https://jesusleal.io/2021/04/21/Longformer-multilabel-classification/"
   ]
  },
  {
   "cell_type": "markdown",
   "id": "c3748a48",
   "metadata": {
    "papermill": {
     "duration": 0.032924,
     "end_time": "2024-06-05T19:06:31.242443",
     "exception": false,
     "start_time": "2024-06-05T19:06:31.209519",
     "status": "completed"
    },
    "tags": []
   },
   "source": [
    "# 1. F1 Score\n",
    "The F1 score is the harmonic mean of precision and recall. It provides a single metric that balances both the precision and recall, making it useful for evaluating models where you need to balance the two, especially in the presence of imbalanced classes.\n",
    "\n",
    "Precision: The ratio of true positive predictions to the total number of positive predictions (true positives + false positives). It measures the accuracy of the positive predictions.\n",
    "Recall: The ratio of true positive predictions to the total number of actual positives (true positives + false negatives). It measures the ability to capture all relevant instances.\n",
    "The formula for the F1 score is:\n",
    "F1 score\n",
    "=\n",
    "2\n",
    "×\n",
    "(\n",
    "Precision\n",
    "×\n",
    "Recall\n",
    "Precision\n",
    "+\n",
    "Recall\n",
    ")\n",
    "F1 score=2×( \n",
    "Precision+Recall\n",
    "Precision×Recall\n",
    "​\n",
    " )\n",
    "\n",
    "# 2. ROC AUC Score\n",
    "The ROC AUC (Receiver Operating Characteristic Area Under Curve) score is a metric used to evaluate the performance of a binary classifier. It measures the ability of the classifier to distinguish between classes.\n",
    "\n",
    "ROC Curve: A plot of the true positive rate (recall) against the false positive rate (1-specificity) at various threshold settings.\n",
    "AUC: The area under the ROC curve. A higher AUC indicates better performance, with a score of 1 representing a perfect classifier and a score of 0.5 representing a random classifier.\n",
    "\n",
    "# 3. Accuracy Score\n",
    "Accuracy is the ratio of correctly predicted instances to the total instances. It is the most intuitive performance measure, but it can be misleading when dealing with imbalanced datasets.\n",
    "\n",
    "The formula for accuracy is:\n",
    "Accuracy\n",
    "=\n",
    "Number of Correct Predictions\n",
    "Total Number of Predictions\n",
    "Accuracy= \n",
    "Total Number of Predictions\n",
    "Number of Correct Predictions\n",
    "\n"
   ]
  },
  {
   "cell_type": "code",
   "execution_count": 47,
   "id": "f196e664",
   "metadata": {
    "execution": {
     "iopub.execute_input": "2024-06-05T19:06:31.308967Z",
     "iopub.status.busy": "2024-06-05T19:06:31.308527Z",
     "iopub.status.idle": "2024-06-05T19:06:31.319705Z",
     "shell.execute_reply": "2024-06-05T19:06:31.318448Z"
    },
    "papermill": {
     "duration": 0.046852,
     "end_time": "2024-06-05T19:06:31.322173",
     "exception": false,
     "start_time": "2024-06-05T19:06:31.275321",
     "status": "completed"
    },
    "tags": []
   },
   "outputs": [],
   "source": [
    "from sklearn.metrics import f1_score, roc_auc_score, accuracy_score\n",
    "from transformers import EvalPrediction\n",
    "import torch\n",
    "    \n",
    "\n",
    "def multi_label_metrics(predictions, labels, threshold=0.5):\n",
    "    # first, apply sigmoid on predictions which are of shape (batch_size, num_labels)\n",
    "    sigmoid = torch.nn.Sigmoid()\n",
    "    probs = sigmoid(torch.Tensor(predictions))\n",
    "    # next, use threshold to turn them into integer predictions\n",
    "    y_pred = np.zeros(probs.shape)\n",
    "    y_pred[np.where(probs >= threshold)] = 1\n",
    "    # finally, compute metrics\n",
    "    y_true = labels\n",
    "    f1_micro_average = f1_score(y_true=y_true, y_pred=y_pred, average='micro')\n",
    "    roc_auc = roc_auc_score(y_true, y_pred, average = 'micro')\n",
    "    accuracy = accuracy_score(y_true, y_pred)\n",
    "    # return as dictionary\n",
    "    metrics = {'f1': f1_micro_average,\n",
    "               'roc_auc': roc_auc,\n",
    "               'accuracy': accuracy}\n",
    "    return metrics\n",
    "\n",
    "def compute_metrics(p: EvalPrediction):\n",
    "    preds = p.predictions[0] if isinstance(p.predictions, tuple) else p.predictions\n",
    "    result = multi_label_metrics(predictions=preds,labels=p.label_ids)\n",
    "    return result\n",
    "  \n",
    "   \n"
   ]
  },
  {
   "cell_type": "code",
   "execution_count": 48,
   "id": "31f8d4c7",
   "metadata": {
    "execution": {
     "iopub.execute_input": "2024-06-05T19:06:31.396030Z",
     "iopub.status.busy": "2024-06-05T19:06:31.395617Z",
     "iopub.status.idle": "2024-06-05T19:06:31.411186Z",
     "shell.execute_reply": "2024-06-05T19:06:31.410228Z"
    },
    "papermill": {
     "duration": 0.055633,
     "end_time": "2024-06-05T19:06:31.414182",
     "exception": false,
     "start_time": "2024-06-05T19:06:31.358549",
     "status": "completed"
    },
    "tags": []
   },
   "outputs": [
    {
     "data": {
      "text/plain": [
       "'torch.FloatTensor'"
      ]
     },
     "execution_count": 48,
     "metadata": {},
     "output_type": "execute_result"
    }
   ],
   "source": [
    "encoded_dataset['train'][0]['labels'].type()"
   ]
  },
  {
   "cell_type": "code",
   "execution_count": 49,
   "id": "ed574a73",
   "metadata": {
    "execution": {
     "iopub.execute_input": "2024-06-05T19:06:31.480085Z",
     "iopub.status.busy": "2024-06-05T19:06:31.479766Z",
     "iopub.status.idle": "2024-06-05T19:06:31.498667Z",
     "shell.execute_reply": "2024-06-05T19:06:31.497831Z"
    },
    "papermill": {
     "duration": 0.05,
     "end_time": "2024-06-05T19:06:31.500591",
     "exception": false,
     "start_time": "2024-06-05T19:06:31.450591",
     "status": "completed"
    },
    "tags": []
   },
   "outputs": [
    {
     "data": {
      "text/plain": [
       "tensor([  101,  1022,  1999, 14972,  6043,  1998,  7711,  2000, 14037,  2007,\n",
       "         1996,  3604,  3627,  1998,  2572, 15472,  6199,  3513, 12436, 13102,\n",
       "         2015,  4618,  2022,  8546,  2011,  6638,  2546, 17841,  3512,  3602,\n",
       "         2000, 12832,  2321,  1998,  2035, 12711,  4277, 10738,  5918,  1998,\n",
       "        11594,  2004,  2089,  2022,  1999,  2486,  2013,  2051,  2000,  2051,\n",
       "        12436, 13102,  2015,  2442,  8080,  2005,  2151, 12598,  2030,  2186,\n",
       "         1997, 11817,  2008, 11014,  2000, 25022, 11890,  2819, 15338,  2151,\n",
       "        10738, 11207,  2015,  2000, 11826,  3604,  3627,  5918,   102,     0,\n",
       "            0,     0,     0,     0,     0,     0,     0,     0,     0,     0,\n",
       "            0,     0,     0,     0,     0,     0,     0,     0,     0,     0,\n",
       "            0,     0,     0,     0,     0,     0,     0,     0,     0,     0,\n",
       "            0,     0,     0,     0,     0,     0,     0,     0,     0,     0,\n",
       "            0,     0,     0,     0,     0,     0,     0,     0])"
      ]
     },
     "execution_count": 49,
     "metadata": {},
     "output_type": "execute_result"
    }
   ],
   "source": [
    "encoded_dataset['train']['input_ids'][0]"
   ]
  },
  {
   "cell_type": "code",
   "execution_count": 50,
   "id": "76c6edbf",
   "metadata": {
    "execution": {
     "iopub.execute_input": "2024-06-05T19:06:31.557015Z",
     "iopub.status.busy": "2024-06-05T19:06:31.556668Z",
     "iopub.status.idle": "2024-06-05T19:06:31.560817Z",
     "shell.execute_reply": "2024-06-05T19:06:31.559845Z"
    },
    "papermill": {
     "duration": 0.034933,
     "end_time": "2024-06-05T19:06:31.562831",
     "exception": false,
     "start_time": "2024-06-05T19:06:31.527898",
     "status": "completed"
    },
    "tags": []
   },
   "outputs": [],
   "source": [
    "# #forward pass\n",
    "# #, attention_mask=attention_mask\n",
    "# outputs = model(input_ids=encoded_dataset['train']['input_ids'][0].unsqueeze(0), labels=encoded_dataset['train'][0]['labels'].unsqueeze(0))\n",
    "# outputs"
   ]
  },
  {
   "cell_type": "code",
   "execution_count": 51,
   "id": "768b57e3",
   "metadata": {
    "execution": {
     "iopub.execute_input": "2024-06-05T19:06:31.620672Z",
     "iopub.status.busy": "2024-06-05T19:06:31.620080Z",
     "iopub.status.idle": "2024-06-05T19:06:31.624385Z",
     "shell.execute_reply": "2024-06-05T19:06:31.623442Z"
    },
    "papermill": {
     "duration": 0.035254,
     "end_time": "2024-06-05T19:06:31.626450",
     "exception": false,
     "start_time": "2024-06-05T19:06:31.591196",
     "status": "completed"
    },
    "tags": []
   },
   "outputs": [],
   "source": [
    "from transformers import AutoModelForSequenceClassification, Trainer"
   ]
  },
  {
   "cell_type": "code",
   "execution_count": 52,
   "id": "24004048",
   "metadata": {
    "execution": {
     "iopub.execute_input": "2024-06-05T19:06:31.685871Z",
     "iopub.status.busy": "2024-06-05T19:06:31.685554Z",
     "iopub.status.idle": "2024-06-05T19:06:31.776684Z",
     "shell.execute_reply": "2024-06-05T19:06:31.775792Z"
    },
    "papermill": {
     "duration": 0.123728,
     "end_time": "2024-06-05T19:06:31.778978",
     "exception": false,
     "start_time": "2024-06-05T19:06:31.655250",
     "status": "completed"
    },
    "tags": []
   },
   "outputs": [],
   "source": [
    "\n",
    "from kaggle_secrets import UserSecretsClient\n",
    "user_secrets = UserSecretsClient()\n",
    "secret_value_0 = user_secrets.get_secret(\"WANDB_API_KEY\")\n"
   ]
  },
  {
   "cell_type": "code",
   "execution_count": 53,
   "id": "9dca1d56",
   "metadata": {
    "execution": {
     "iopub.execute_input": "2024-06-05T19:06:31.835965Z",
     "iopub.status.busy": "2024-06-05T19:06:31.835635Z",
     "iopub.status.idle": "2024-06-05T19:06:31.840219Z",
     "shell.execute_reply": "2024-06-05T19:06:31.839244Z"
    },
    "papermill": {
     "duration": 0.035472,
     "end_time": "2024-06-05T19:06:31.842244",
     "exception": false,
     "start_time": "2024-06-05T19:06:31.806772",
     "status": "completed"
    },
    "tags": []
   },
   "outputs": [],
   "source": [
    "import os\n",
    "os.environ['WANDB_API_KEY'] =\"313a57558bcaee784e68d1654f7915a0b463a341\""
   ]
  },
  {
   "cell_type": "code",
   "execution_count": 54,
   "id": "51580e15",
   "metadata": {
    "execution": {
     "iopub.execute_input": "2024-06-05T19:06:31.906910Z",
     "iopub.status.busy": "2024-06-05T19:06:31.906591Z",
     "iopub.status.idle": "2024-06-05T19:06:33.235195Z",
     "shell.execute_reply": "2024-06-05T19:06:33.234207Z"
    },
    "papermill": {
     "duration": 1.361542,
     "end_time": "2024-06-05T19:06:33.237773",
     "exception": false,
     "start_time": "2024-06-05T19:06:31.876231",
     "status": "completed"
    },
    "tags": []
   },
   "outputs": [],
   "source": [
    "trainer = Trainer(\n",
    "    model,\n",
    "    args,\n",
    "    train_dataset=encoded_dataset[\"train\"],\n",
    "    eval_dataset=encoded_dataset[\"validation\"],\n",
    "    tokenizer=tokenizer,\n",
    "    compute_metrics=compute_metrics,\n",
    "\n",
    ")"
   ]
  },
  {
   "cell_type": "code",
   "execution_count": 55,
   "id": "274445a4",
   "metadata": {
    "execution": {
     "iopub.execute_input": "2024-06-05T19:06:33.309249Z",
     "iopub.status.busy": "2024-06-05T19:06:33.308856Z",
     "iopub.status.idle": "2024-06-05T19:20:23.341352Z",
     "shell.execute_reply": "2024-06-05T19:20:23.340301Z"
    },
    "papermill": {
     "duration": 830.065771,
     "end_time": "2024-06-05T19:20:23.343656",
     "exception": false,
     "start_time": "2024-06-05T19:06:33.277885",
     "status": "completed"
    },
    "tags": []
   },
   "outputs": [
    {
     "name": "stderr",
     "output_type": "stream",
     "text": [
      "\u001b[34m\u001b[1mwandb\u001b[0m: \u001b[33mWARNING\u001b[0m The `run_name` is currently set to the same value as `TrainingArguments.output_dir`. If this was not intended, please specify a different run name by setting the `TrainingArguments.run_name` parameter.\n",
      "\u001b[34m\u001b[1mwandb\u001b[0m: Currently logged in as: \u001b[33manshtanwar007\u001b[0m (\u001b[33manshta\u001b[0m). Use \u001b[1m`wandb login --relogin`\u001b[0m to force relogin\n",
      "\u001b[34m\u001b[1mwandb\u001b[0m: Tracking run with wandb version 0.17.0\n",
      "\u001b[34m\u001b[1mwandb\u001b[0m: Run data is saved locally in \u001b[35m\u001b[1m/kaggle/working/wandb/run-20240605_190634-1k4ulm3z\u001b[0m\n",
      "\u001b[34m\u001b[1mwandb\u001b[0m: Run \u001b[1m`wandb offline`\u001b[0m to turn off syncing.\n",
      "\u001b[34m\u001b[1mwandb\u001b[0m: Syncing run \u001b[33mbert-finetuned-sem_eval-english\u001b[0m\n",
      "\u001b[34m\u001b[1mwandb\u001b[0m: ⭐️ View project at \u001b[34m\u001b[4mhttps://wandb.ai/anshta/huggingface\u001b[0m\n",
      "\u001b[34m\u001b[1mwandb\u001b[0m: 🚀 View run at \u001b[34m\u001b[4mhttps://wandb.ai/anshta/huggingface/runs/1k4ulm3z\u001b[0m\n"
     ]
    },
    {
     "data": {
      "text/html": [
       "\n",
       "    <div>\n",
       "      \n",
       "      <progress value='2370' max='2370' style='width:300px; height:20px; vertical-align: middle;'></progress>\n",
       "      [2370/2370 13:30, Epoch 15/15]\n",
       "    </div>\n",
       "    <table border=\"1\" class=\"dataframe\">\n",
       "  <thead>\n",
       " <tr style=\"text-align: left;\">\n",
       "      <th>Epoch</th>\n",
       "      <th>Training Loss</th>\n",
       "      <th>Validation Loss</th>\n",
       "      <th>F1</th>\n",
       "      <th>Roc Auc</th>\n",
       "      <th>Accuracy</th>\n",
       "    </tr>\n",
       "  </thead>\n",
       "  <tbody>\n",
       "    <tr>\n",
       "      <td>1</td>\n",
       "      <td>No log</td>\n",
       "      <td>0.181364</td>\n",
       "      <td>0.000000</td>\n",
       "      <td>0.500000</td>\n",
       "      <td>0.000000</td>\n",
       "    </tr>\n",
       "    <tr>\n",
       "      <td>2</td>\n",
       "      <td>No log</td>\n",
       "      <td>0.183081</td>\n",
       "      <td>0.000000</td>\n",
       "      <td>0.500000</td>\n",
       "      <td>0.000000</td>\n",
       "    </tr>\n",
       "    <tr>\n",
       "      <td>3</td>\n",
       "      <td>No log</td>\n",
       "      <td>0.182040</td>\n",
       "      <td>0.000000</td>\n",
       "      <td>0.500000</td>\n",
       "      <td>0.000000</td>\n",
       "    </tr>\n",
       "    <tr>\n",
       "      <td>4</td>\n",
       "      <td>0.191100</td>\n",
       "      <td>0.182415</td>\n",
       "      <td>0.000000</td>\n",
       "      <td>0.500000</td>\n",
       "      <td>0.000000</td>\n",
       "    </tr>\n",
       "    <tr>\n",
       "      <td>5</td>\n",
       "      <td>0.191100</td>\n",
       "      <td>0.182242</td>\n",
       "      <td>0.000000</td>\n",
       "      <td>0.500000</td>\n",
       "      <td>0.000000</td>\n",
       "    </tr>\n",
       "    <tr>\n",
       "      <td>6</td>\n",
       "      <td>0.191100</td>\n",
       "      <td>0.181574</td>\n",
       "      <td>0.000000</td>\n",
       "      <td>0.500000</td>\n",
       "      <td>0.000000</td>\n",
       "    </tr>\n",
       "    <tr>\n",
       "      <td>7</td>\n",
       "      <td>0.183900</td>\n",
       "      <td>0.181649</td>\n",
       "      <td>0.000000</td>\n",
       "      <td>0.500000</td>\n",
       "      <td>0.000000</td>\n",
       "    </tr>\n",
       "    <tr>\n",
       "      <td>8</td>\n",
       "      <td>0.183900</td>\n",
       "      <td>0.182205</td>\n",
       "      <td>0.000000</td>\n",
       "      <td>0.500000</td>\n",
       "      <td>0.000000</td>\n",
       "    </tr>\n",
       "    <tr>\n",
       "      <td>9</td>\n",
       "      <td>0.183900</td>\n",
       "      <td>0.181407</td>\n",
       "      <td>0.000000</td>\n",
       "      <td>0.500000</td>\n",
       "      <td>0.000000</td>\n",
       "    </tr>\n",
       "    <tr>\n",
       "      <td>10</td>\n",
       "      <td>0.183700</td>\n",
       "      <td>0.181522</td>\n",
       "      <td>0.000000</td>\n",
       "      <td>0.500000</td>\n",
       "      <td>0.000000</td>\n",
       "    </tr>\n",
       "    <tr>\n",
       "      <td>11</td>\n",
       "      <td>0.183700</td>\n",
       "      <td>0.182308</td>\n",
       "      <td>0.000000</td>\n",
       "      <td>0.500000</td>\n",
       "      <td>0.000000</td>\n",
       "    </tr>\n",
       "    <tr>\n",
       "      <td>12</td>\n",
       "      <td>0.183700</td>\n",
       "      <td>0.180705</td>\n",
       "      <td>0.000000</td>\n",
       "      <td>0.500000</td>\n",
       "      <td>0.000000</td>\n",
       "    </tr>\n",
       "    <tr>\n",
       "      <td>13</td>\n",
       "      <td>0.181900</td>\n",
       "      <td>0.180892</td>\n",
       "      <td>0.000000</td>\n",
       "      <td>0.500000</td>\n",
       "      <td>0.000000</td>\n",
       "    </tr>\n",
       "    <tr>\n",
       "      <td>14</td>\n",
       "      <td>0.181900</td>\n",
       "      <td>0.180739</td>\n",
       "      <td>0.000000</td>\n",
       "      <td>0.500000</td>\n",
       "      <td>0.000000</td>\n",
       "    </tr>\n",
       "    <tr>\n",
       "      <td>15</td>\n",
       "      <td>0.181900</td>\n",
       "      <td>0.180472</td>\n",
       "      <td>0.000000</td>\n",
       "      <td>0.500000</td>\n",
       "      <td>0.000000</td>\n",
       "    </tr>\n",
       "  </tbody>\n",
       "</table><p>"
      ],
      "text/plain": [
       "<IPython.core.display.HTML object>"
      ]
     },
     "metadata": {},
     "output_type": "display_data"
    },
    {
     "data": {
      "text/plain": [
       "TrainOutput(global_step=2370, training_loss=0.184614244292054, metrics={'train_runtime': 829.686, 'train_samples_per_second': 68.339, 'train_steps_per_second': 2.857, 'total_flos': 3731373997747200.0, 'train_loss': 0.184614244292054, 'epoch': 15.0})"
      ]
     },
     "execution_count": 55,
     "metadata": {},
     "output_type": "execute_result"
    }
   ],
   "source": [
    "trainer.train()"
   ]
  },
  {
   "cell_type": "code",
   "execution_count": 56,
   "id": "3d95403f",
   "metadata": {
    "execution": {
     "iopub.execute_input": "2024-06-05T19:20:23.407441Z",
     "iopub.status.busy": "2024-06-05T19:20:23.407047Z",
     "iopub.status.idle": "2024-06-05T19:20:25.664276Z",
     "shell.execute_reply": "2024-06-05T19:20:25.663194Z"
    },
    "papermill": {
     "duration": 2.291844,
     "end_time": "2024-06-05T19:20:25.666589",
     "exception": false,
     "start_time": "2024-06-05T19:20:23.374745",
     "status": "completed"
    },
    "tags": []
   },
   "outputs": [
    {
     "data": {
      "text/html": [
       "\n",
       "    <div>\n",
       "      \n",
       "      <progress value='23' max='23' style='width:300px; height:20px; vertical-align: middle;'></progress>\n",
       "      [23/23 00:02]\n",
       "    </div>\n",
       "    "
      ],
      "text/plain": [
       "<IPython.core.display.HTML object>"
      ]
     },
     "metadata": {},
     "output_type": "display_data"
    },
    {
     "data": {
      "text/plain": [
       "{'eval_loss': 0.18136443197727203,\n",
       " 'eval_f1': 0.0,\n",
       " 'eval_roc_auc': 0.5,\n",
       " 'eval_accuracy': 0.0,\n",
       " 'eval_runtime': 2.245,\n",
       " 'eval_samples_per_second': 238.306,\n",
       " 'eval_steps_per_second': 10.245,\n",
       " 'epoch': 15.0}"
      ]
     },
     "execution_count": 56,
     "metadata": {},
     "output_type": "execute_result"
    }
   ],
   "source": [
    "trainer.evaluate()"
   ]
  },
  {
   "cell_type": "markdown",
   "id": "b02c09ad",
   "metadata": {
    "papermill": {
     "duration": 0.029959,
     "end_time": "2024-06-05T19:20:25.729117",
     "exception": false,
     "start_time": "2024-06-05T19:20:25.699158",
     "status": "completed"
    },
    "tags": []
   },
   "source": [
    "# Inference\n",
    "add Codeadd Markdown\n",
    "The logits that come out of the model are of shape (batch_size, num_labels). As we are only forwarding a single sentence through the model, the batch_size equals 1.\n",
    "\n",
    "The logits is a tensor that contains the (unnormalized) scores for every individual label.\n",
    "\n",
    "The logits that come out of the model are of shape (batch_size, num_labels). As we are only forwarding a single sentence through the model, the batch_size equals 1.\n",
    "\n",
    "The logits is a tensor that contains the (unnormalized) scores for every individual label."
   ]
  },
  {
   "cell_type": "code",
   "execution_count": 57,
   "id": "2d4dd9ee",
   "metadata": {
    "execution": {
     "iopub.execute_input": "2024-06-05T19:20:25.791369Z",
     "iopub.status.busy": "2024-06-05T19:20:25.790996Z",
     "iopub.status.idle": "2024-06-05T19:20:25.798661Z",
     "shell.execute_reply": "2024-06-05T19:20:25.797816Z"
    },
    "papermill": {
     "duration": 0.040923,
     "end_time": "2024-06-05T19:20:25.800723",
     "exception": false,
     "start_time": "2024-06-05T19:20:25.759800",
     "status": "completed"
    },
    "tags": []
   },
   "outputs": [],
   "source": [
    "def get_answer(text):\n",
    "    \n",
    "    encoding = tokenizer(text, return_tensors=\"pt\")\n",
    "    encoding = {k: v.to(trainer.model.device) for k,v in encoding.items()}\n",
    "    outputs = trainer.model(**encoding)\n",
    "    logits = outputs.logits\n",
    "    #print(logits.shape)\n",
    "    \n",
    "    # apply sigmoid + threshold\n",
    "    sigmoid = torch.nn.Sigmoid()\n",
    "    probs = sigmoid(logits.squeeze().cpu())\n",
    "    #print(probs)\n",
    "    predictions = np.zeros(probs.shape)\n",
    "    predictions[np.where(probs >= 0.3)] = 1\n",
    "    #print(predictions)\n",
    "    #predicted_labels = [id2label[idx] for idx, label in enumerate(predictions) if label == 1.0]\n",
    "    predicted_labels = {id2label[idx]: prob.item() for idx, prob in enumerate(probs) if predictions[idx] == 1}\n",
    "    \n",
    "    print()\n",
    "    return predicted_labels\n"
   ]
  },
  {
   "cell_type": "code",
   "execution_count": 58,
   "id": "2f53a1eb",
   "metadata": {
    "execution": {
     "iopub.execute_input": "2024-06-05T19:20:25.862812Z",
     "iopub.status.busy": "2024-06-05T19:20:25.862450Z",
     "iopub.status.idle": "2024-06-05T19:20:25.920335Z",
     "shell.execute_reply": "2024-06-05T19:20:25.919303Z"
    },
    "papermill": {
     "duration": 0.091662,
     "end_time": "2024-06-05T19:20:25.922832",
     "exception": false,
     "start_time": "2024-06-05T19:20:25.831170",
     "status": "completed"
    },
    "tags": []
   },
   "outputs": [
    {
     "name": "stdout",
     "output_type": "stream",
     "text": [
      "\n"
     ]
    },
    {
     "data": {
      "text/plain": [
       "{'virtual assets': 0.43111345171928406}"
      ]
     },
     "execution_count": 58,
     "metadata": {},
     "output_type": "execute_result"
    }
   ],
   "source": [
    "text = \"The new licensing regime for centralised virtual asset trading platforms under the Anti-MoneyLaundering and Counter-Terrorist Financing Ordinance (Cap. 615) (AMLO) will come intoeffect on 1 June 2023. Under the new regime, centralised virtual asset trading platformsoperating in Hong Kong will need to apply to the Securities and Futures Commission (SFC)for a licence under the Securities and Futures Ordinance (Cap 571) (SFO) and/or the AMLO(Dual Licence Arrangement)\"\n",
    "get_answer(text)"
   ]
  },
  {
   "cell_type": "code",
   "execution_count": 59,
   "id": "8b247f4e",
   "metadata": {
    "execution": {
     "iopub.execute_input": "2024-06-05T19:20:25.991673Z",
     "iopub.status.busy": "2024-06-05T19:20:25.991263Z",
     "iopub.status.idle": "2024-06-05T19:20:26.015818Z",
     "shell.execute_reply": "2024-06-05T19:20:26.014990Z"
    },
    "papermill": {
     "duration": 0.062356,
     "end_time": "2024-06-05T19:20:26.018418",
     "exception": false,
     "start_time": "2024-06-05T19:20:25.956062",
     "status": "completed"
    },
    "tags": []
   },
   "outputs": [
    {
     "data": {
      "text/html": [
       "<div>\n",
       "<style scoped>\n",
       "    .dataframe tbody tr th:only-of-type {\n",
       "        vertical-align: middle;\n",
       "    }\n",
       "\n",
       "    .dataframe tbody tr th {\n",
       "        vertical-align: top;\n",
       "    }\n",
       "\n",
       "    .dataframe thead th {\n",
       "        text-align: right;\n",
       "    }\n",
       "</style>\n",
       "<table border=\"1\" class=\"dataframe\">\n",
       "  <thead>\n",
       "    <tr style=\"text-align: right;\">\n",
       "      <th></th>\n",
       "      <th>Content</th>\n",
       "      <th>audit</th>\n",
       "      <th>investor protection</th>\n",
       "      <th>sanctions</th>\n",
       "      <th>insider dealing</th>\n",
       "      <th>rules</th>\n",
       "      <th>aml</th>\n",
       "      <th>legal</th>\n",
       "      <th>risks</th>\n",
       "      <th>disclosure</th>\n",
       "      <th>...</th>\n",
       "      <th>investor</th>\n",
       "      <th>code of conduct</th>\n",
       "      <th>person</th>\n",
       "      <th>suspicious transactions</th>\n",
       "      <th>risk management</th>\n",
       "      <th>policies</th>\n",
       "      <th>controls</th>\n",
       "      <th>beneficiary information</th>\n",
       "      <th>client</th>\n",
       "      <th>conduct</th>\n",
       "    </tr>\n",
       "  </thead>\n",
       "  <tbody>\n",
       "    <tr>\n",
       "      <th>3999</th>\n",
       "      <td>2 vasps shall ensure that all members of the b...</td>\n",
       "      <td>0</td>\n",
       "      <td>0</td>\n",
       "      <td>0</td>\n",
       "      <td>0</td>\n",
       "      <td>0</td>\n",
       "      <td>0</td>\n",
       "      <td>0</td>\n",
       "      <td>0</td>\n",
       "      <td>0</td>\n",
       "      <td>...</td>\n",
       "      <td>0</td>\n",
       "      <td>0</td>\n",
       "      <td>0</td>\n",
       "      <td>0</td>\n",
       "      <td>0</td>\n",
       "      <td>0</td>\n",
       "      <td>0</td>\n",
       "      <td>0</td>\n",
       "      <td>0</td>\n",
       "      <td>0</td>\n",
       "    </tr>\n",
       "    <tr>\n",
       "      <th>1718</th>\n",
       "      <td>b experience in the virtual assets sector incl...</td>\n",
       "      <td>0</td>\n",
       "      <td>0</td>\n",
       "      <td>0</td>\n",
       "      <td>0</td>\n",
       "      <td>1</td>\n",
       "      <td>0</td>\n",
       "      <td>0</td>\n",
       "      <td>0</td>\n",
       "      <td>0</td>\n",
       "      <td>...</td>\n",
       "      <td>0</td>\n",
       "      <td>0</td>\n",
       "      <td>0</td>\n",
       "      <td>0</td>\n",
       "      <td>0</td>\n",
       "      <td>0</td>\n",
       "      <td>0</td>\n",
       "      <td>0</td>\n",
       "      <td>0</td>\n",
       "      <td>0</td>\n",
       "    </tr>\n",
       "    <tr>\n",
       "      <th>1907</th>\n",
       "      <td>3 prior to agreeing a sale to any client or in...</td>\n",
       "      <td>0</td>\n",
       "      <td>0</td>\n",
       "      <td>0</td>\n",
       "      <td>0</td>\n",
       "      <td>0</td>\n",
       "      <td>0</td>\n",
       "      <td>0</td>\n",
       "      <td>0</td>\n",
       "      <td>0</td>\n",
       "      <td>...</td>\n",
       "      <td>1</td>\n",
       "      <td>0</td>\n",
       "      <td>0</td>\n",
       "      <td>0</td>\n",
       "      <td>0</td>\n",
       "      <td>0</td>\n",
       "      <td>0</td>\n",
       "      <td>0</td>\n",
       "      <td>1</td>\n",
       "      <td>0</td>\n",
       "    </tr>\n",
       "    <tr>\n",
       "      <th>3129</th>\n",
       "      <td>d obtaining a similar or comparable document t...</td>\n",
       "      <td>0</td>\n",
       "      <td>0</td>\n",
       "      <td>0</td>\n",
       "      <td>0</td>\n",
       "      <td>0</td>\n",
       "      <td>0</td>\n",
       "      <td>0</td>\n",
       "      <td>0</td>\n",
       "      <td>0</td>\n",
       "      <td>...</td>\n",
       "      <td>0</td>\n",
       "      <td>0</td>\n",
       "      <td>1</td>\n",
       "      <td>0</td>\n",
       "      <td>0</td>\n",
       "      <td>0</td>\n",
       "      <td>0</td>\n",
       "      <td>0</td>\n",
       "      <td>0</td>\n",
       "      <td>0</td>\n",
       "    </tr>\n",
       "    <tr>\n",
       "      <th>248</th>\n",
       "      <td>content dwtca means the dubai world trade cent...</td>\n",
       "      <td>0</td>\n",
       "      <td>0</td>\n",
       "      <td>0</td>\n",
       "      <td>0</td>\n",
       "      <td>0</td>\n",
       "      <td>0</td>\n",
       "      <td>0</td>\n",
       "      <td>0</td>\n",
       "      <td>0</td>\n",
       "      <td>...</td>\n",
       "      <td>0</td>\n",
       "      <td>0</td>\n",
       "      <td>0</td>\n",
       "      <td>0</td>\n",
       "      <td>0</td>\n",
       "      <td>0</td>\n",
       "      <td>0</td>\n",
       "      <td>0</td>\n",
       "      <td>0</td>\n",
       "      <td>0</td>\n",
       "    </tr>\n",
       "    <tr>\n",
       "      <th>2932</th>\n",
       "      <td>diligence measures in relation to its amlcft c...</td>\n",
       "      <td>0</td>\n",
       "      <td>0</td>\n",
       "      <td>0</td>\n",
       "      <td>0</td>\n",
       "      <td>0</td>\n",
       "      <td>1</td>\n",
       "      <td>0</td>\n",
       "      <td>0</td>\n",
       "      <td>0</td>\n",
       "      <td>...</td>\n",
       "      <td>0</td>\n",
       "      <td>0</td>\n",
       "      <td>0</td>\n",
       "      <td>0</td>\n",
       "      <td>0</td>\n",
       "      <td>0</td>\n",
       "      <td>1</td>\n",
       "      <td>0</td>\n",
       "      <td>0</td>\n",
       "      <td>0</td>\n",
       "    </tr>\n",
       "    <tr>\n",
       "      <th>2521</th>\n",
       "      <td>b at least one fulltime employee of the corpor...</td>\n",
       "      <td>0</td>\n",
       "      <td>0</td>\n",
       "      <td>0</td>\n",
       "      <td>0</td>\n",
       "      <td>0</td>\n",
       "      <td>0</td>\n",
       "      <td>0</td>\n",
       "      <td>0</td>\n",
       "      <td>0</td>\n",
       "      <td>...</td>\n",
       "      <td>0</td>\n",
       "      <td>0</td>\n",
       "      <td>0</td>\n",
       "      <td>0</td>\n",
       "      <td>0</td>\n",
       "      <td>0</td>\n",
       "      <td>0</td>\n",
       "      <td>0</td>\n",
       "      <td>0</td>\n",
       "      <td>0</td>\n",
       "    </tr>\n",
       "    <tr>\n",
       "      <th>3123</th>\n",
       "      <td>the types of funds it transacts for these fund...</td>\n",
       "      <td>0</td>\n",
       "      <td>0</td>\n",
       "      <td>1</td>\n",
       "      <td>0</td>\n",
       "      <td>0</td>\n",
       "      <td>1</td>\n",
       "      <td>0</td>\n",
       "      <td>0</td>\n",
       "      <td>0</td>\n",
       "      <td>...</td>\n",
       "      <td>1</td>\n",
       "      <td>0</td>\n",
       "      <td>0</td>\n",
       "      <td>0</td>\n",
       "      <td>0</td>\n",
       "      <td>0</td>\n",
       "      <td>1</td>\n",
       "      <td>0</td>\n",
       "      <td>0</td>\n",
       "      <td>0</td>\n",
       "    </tr>\n",
       "    <tr>\n",
       "      <th>3626</th>\n",
       "      <td>if within the 21day period the regulated perso...</td>\n",
       "      <td>0</td>\n",
       "      <td>0</td>\n",
       "      <td>0</td>\n",
       "      <td>0</td>\n",
       "      <td>0</td>\n",
       "      <td>0</td>\n",
       "      <td>0</td>\n",
       "      <td>0</td>\n",
       "      <td>0</td>\n",
       "      <td>...</td>\n",
       "      <td>0</td>\n",
       "      <td>0</td>\n",
       "      <td>1</td>\n",
       "      <td>0</td>\n",
       "      <td>0</td>\n",
       "      <td>0</td>\n",
       "      <td>0</td>\n",
       "      <td>0</td>\n",
       "      <td>0</td>\n",
       "      <td>0</td>\n",
       "    </tr>\n",
       "    <tr>\n",
       "      <th>3873</th>\n",
       "      <td>a deposits or withdrawals including those whic...</td>\n",
       "      <td>0</td>\n",
       "      <td>0</td>\n",
       "      <td>0</td>\n",
       "      <td>0</td>\n",
       "      <td>0</td>\n",
       "      <td>0</td>\n",
       "      <td>0</td>\n",
       "      <td>0</td>\n",
       "      <td>0</td>\n",
       "      <td>...</td>\n",
       "      <td>0</td>\n",
       "      <td>0</td>\n",
       "      <td>0</td>\n",
       "      <td>0</td>\n",
       "      <td>0</td>\n",
       "      <td>0</td>\n",
       "      <td>0</td>\n",
       "      <td>0</td>\n",
       "      <td>0</td>\n",
       "      <td>0</td>\n",
       "    </tr>\n",
       "  </tbody>\n",
       "</table>\n",
       "<p>10 rows × 56 columns</p>\n",
       "</div>"
      ],
      "text/plain": [
       "                                                Content  audit  \\\n",
       "3999  2 vasps shall ensure that all members of the b...      0   \n",
       "1718  b experience in the virtual assets sector incl...      0   \n",
       "1907  3 prior to agreeing a sale to any client or in...      0   \n",
       "3129  d obtaining a similar or comparable document t...      0   \n",
       "248   content dwtca means the dubai world trade cent...      0   \n",
       "2932  diligence measures in relation to its amlcft c...      0   \n",
       "2521  b at least one fulltime employee of the corpor...      0   \n",
       "3123  the types of funds it transacts for these fund...      0   \n",
       "3626  if within the 21day period the regulated perso...      0   \n",
       "3873  a deposits or withdrawals including those whic...      0   \n",
       "\n",
       "      investor protection  sanctions  insider dealing  rules  aml  legal  \\\n",
       "3999                    0          0                0      0    0      0   \n",
       "1718                    0          0                0      1    0      0   \n",
       "1907                    0          0                0      0    0      0   \n",
       "3129                    0          0                0      0    0      0   \n",
       "248                     0          0                0      0    0      0   \n",
       "2932                    0          0                0      0    1      0   \n",
       "2521                    0          0                0      0    0      0   \n",
       "3123                    0          1                0      0    1      0   \n",
       "3626                    0          0                0      0    0      0   \n",
       "3873                    0          0                0      0    0      0   \n",
       "\n",
       "      risks  disclosure  ...  investor  code of conduct  person  \\\n",
       "3999      0           0  ...         0                0       0   \n",
       "1718      0           0  ...         0                0       0   \n",
       "1907      0           0  ...         1                0       0   \n",
       "3129      0           0  ...         0                0       1   \n",
       "248       0           0  ...         0                0       0   \n",
       "2932      0           0  ...         0                0       0   \n",
       "2521      0           0  ...         0                0       0   \n",
       "3123      0           0  ...         1                0       0   \n",
       "3626      0           0  ...         0                0       1   \n",
       "3873      0           0  ...         0                0       0   \n",
       "\n",
       "      suspicious transactions  risk management  policies  controls  \\\n",
       "3999                        0                0         0         0   \n",
       "1718                        0                0         0         0   \n",
       "1907                        0                0         0         0   \n",
       "3129                        0                0         0         0   \n",
       "248                         0                0         0         0   \n",
       "2932                        0                0         0         1   \n",
       "2521                        0                0         0         0   \n",
       "3123                        0                0         0         1   \n",
       "3626                        0                0         0         0   \n",
       "3873                        0                0         0         0   \n",
       "\n",
       "      beneficiary information  client  conduct  \n",
       "3999                        0       0        0  \n",
       "1718                        0       0        0  \n",
       "1907                        0       1        0  \n",
       "3129                        0       0        0  \n",
       "248                         0       0        0  \n",
       "2932                        0       0        0  \n",
       "2521                        0       0        0  \n",
       "3123                        0       0        0  \n",
       "3626                        0       0        0  \n",
       "3873                        0       0        0  \n",
       "\n",
       "[10 rows x 56 columns]"
      ]
     },
     "execution_count": 59,
     "metadata": {},
     "output_type": "execute_result"
    }
   ],
   "source": [
    "testing_df"
   ]
  },
  {
   "cell_type": "code",
   "execution_count": 60,
   "id": "720d2cba",
   "metadata": {
    "execution": {
     "iopub.execute_input": "2024-06-05T19:20:26.100747Z",
     "iopub.status.busy": "2024-06-05T19:20:26.099827Z",
     "iopub.status.idle": "2024-06-05T19:20:26.262041Z",
     "shell.execute_reply": "2024-06-05T19:20:26.261024Z"
    },
    "papermill": {
     "duration": 0.205829,
     "end_time": "2024-06-05T19:20:26.264478",
     "exception": false,
     "start_time": "2024-06-05T19:20:26.058649",
     "status": "completed"
    },
    "tags": []
   },
   "outputs": [
    {
     "name": "stdout",
     "output_type": "stream",
     "text": [
      "\n",
      "2 vasps shall ensure that all members of the board and staff to have full access at all times to the most uptodate antibribery and corruption policy and will be informed of any changes to such policy \n",
      "\n",
      "Predicted Labels: {'virtual assets': 0.43111345171928406}\n",
      "Actual Labels: ['vasp', 'anti-bribery', 'policy', 'vasps']\n",
      "________________________________________________________________________________\n",
      "\n",
      "b experience in the virtual assets sector including but not limited to handson working experience acquired through their employment by entities carrying out activities similar to va activities outside of the emirate c whether they have a good understanding of the vara regulatory framework including but not limited to the regulations rules and directives governing the provision of va management and investment services and d industry standards as may be applicable to the virtual assets sector from time to time \n",
      "\n",
      "Predicted Labels: {'virtual assets': 0.43111345171928406}\n",
      "Actual Labels: ['rules', 'regulator', 'regulations', 'entities', 'virtual assets']\n",
      "________________________________________________________________________________\n",
      "\n",
      "3 prior to agreeing a sale to any client or investor of newly issued virtual assets vasps shall disclose to that counterparty and obtain consent from the issuer allowing the vasp to disclose to the counterparty \n",
      "\n",
      "Predicted Labels: {'virtual assets': 0.43111345171928406}\n",
      "Actual Labels: ['regulator', 'vasp', 'compliance', 'vasps', 'virtual assets', 'investor', 'client']\n",
      "________________________________________________________________________________\n",
      "\n",
      "d obtaining a similar or comparable document to a company search report or a certificate of incumbency certified by a professional person in the relevant jurisdiction \n",
      "\n",
      "Predicted Labels: {'virtual assets': 0.43111345171928406}\n",
      "Actual Labels: ['reporting', 'person']\n",
      "________________________________________________________________________________\n",
      "\n",
      "content dwtca means the dubai world trade centre authority \n",
      "\n",
      "Predicted Labels: {'virtual assets': 0.43111345171928406}\n",
      "Actual Labels: ['regulator', 'authority', 'compliance', 'virtual assets']\n",
      "________________________________________________________________________________\n",
      "\n",
      "diligence measures in relation to its amlcft controls an fi should assess whether the va transfer counterparty can comply with the travel rule taking into account relevant factors such as \n",
      "\n",
      "Predicted Labels: {'virtual assets': 0.43111345171928406}\n",
      "Actual Labels: ['aml', 'transfer', 'cft', 'travel rule', 'controls']\n",
      "________________________________________________________________________________\n",
      "\n",
      "b at least one fulltime employee of the corporation performs duties related to financial services businesses at those premises \n",
      "\n",
      "Predicted Labels: {'virtual assets': 0.43111345171928406}\n",
      "Actual Labels: ['regulator', 'compliance', 'virtual assets']\n",
      "________________________________________________________________________________\n",
      "\n",
      "the types of funds it transacts for these funds investor bases in their entirety and the jurisdictions where these funds are offered the reputation of the delegating asset management company eg whether it has or had been subject to any targeted sanctions mltf investigations or regulatory actions and its amlcft controls obtaining senior management approval and understanding respective amlcft responsibilities clearly \n",
      "\n",
      "Predicted Labels: {'virtual assets': 0.43111345171928406}\n",
      "Actual Labels: ['sanctions', 'aml', 'regulator', 'cft', 'investor', 'controls']\n",
      "________________________________________________________________________________\n",
      "\n",
      "if within the 21day period the regulated person applies for a review of the decision the decision will not take effect until the review tribunal makes a determination however the sfc s decision will take immediate effect if the regulated person withdraws the application \n",
      "\n",
      "Predicted Labels: {'virtual assets': 0.43111345171928406}\n",
      "Actual Labels: ['person']\n",
      "________________________________________________________________________________\n",
      "\n",
      "a deposits or withdrawals including those which are compliant with the travel rule and those which are not \n",
      "\n",
      "Predicted Labels: {'virtual assets': 0.4311133921146393}\n",
      "Actual Labels: ['travel rule', 'compliance']\n",
      "________________________________________________________________________________\n"
     ]
    }
   ],
   "source": [
    "for index, row in testing_df.iterrows():\n",
    "\n",
    "    text = row['Content']\n",
    "    predictions = get_answer(text)\n",
    "    actual_labels = testing_df.columns[1:][row[1:] == 1].tolist()\n",
    "    \n",
    "    print(text,'\\n')    \n",
    "    print(f\"Predicted Labels: {predictions}\")\n",
    "    print(f\"Actual Labels: {actual_labels}\")\n",
    "    print(\"________________________________________________________________________________\")"
   ]
  },
  {
   "cell_type": "markdown",
   "id": "73567539",
   "metadata": {
    "papermill": {
     "duration": 0.032507,
     "end_time": "2024-06-05T19:20:26.330904",
     "exception": false,
     "start_time": "2024-06-05T19:20:26.298397",
     "status": "completed"
    },
    "tags": []
   },
   "source": [
    "# Probability"
   ]
  },
  {
   "cell_type": "code",
   "execution_count": 61,
   "id": "392da2a4",
   "metadata": {
    "execution": {
     "iopub.execute_input": "2024-06-05T19:20:26.397264Z",
     "iopub.status.busy": "2024-06-05T19:20:26.396281Z",
     "iopub.status.idle": "2024-06-05T19:20:26.400594Z",
     "shell.execute_reply": "2024-06-05T19:20:26.399731Z"
    },
    "papermill": {
     "duration": 0.039945,
     "end_time": "2024-06-05T19:20:26.402750",
     "exception": false,
     "start_time": "2024-06-05T19:20:26.362805",
     "status": "completed"
    },
    "tags": []
   },
   "outputs": [],
   "source": [
    "# outputs = trainer.model(**encoding)\n",
    "# logits = outputs.logits\n",
    "# logits.shape"
   ]
  },
  {
   "cell_type": "markdown",
   "id": "8dccc9a3",
   "metadata": {
    "papermill": {
     "duration": 0.033213,
     "end_time": "2024-06-05T19:20:26.468773",
     "exception": false,
     "start_time": "2024-06-05T19:20:26.435560",
     "status": "completed"
    },
    "tags": []
   },
   "source": [
    "The logits that come out of the model are of shape (batch_size, num_labels). As we are only forwarding a single sentence through the model, the batch_size equals 1.\n",
    "\n",
    "The logits is a tensor that contains the (unnormalized) scores for every individual label\n",
    "\n",
    "To turn them into actual predicted labels, we first apply a sigmoid function independently to every score, such that every score is turned into a number between 0 and 1, that can be interpreted as a \"probability\" for how certain the model is that a given class belongs to the input text.\n",
    "\n",
    "Next, we use a threshold (typically, 0.5) to turn every probability into either a 1 (which means, we predict the label for the given example) or a 0 (which means, we don't predict the label for the given example)"
   ]
  },
  {
   "cell_type": "code",
   "execution_count": 62,
   "id": "218cbe97",
   "metadata": {
    "execution": {
     "iopub.execute_input": "2024-06-05T19:20:26.534661Z",
     "iopub.status.busy": "2024-06-05T19:20:26.534280Z",
     "iopub.status.idle": "2024-06-05T19:20:26.538972Z",
     "shell.execute_reply": "2024-06-05T19:20:26.537993Z"
    },
    "papermill": {
     "duration": 0.03967,
     "end_time": "2024-06-05T19:20:26.541007",
     "exception": false,
     "start_time": "2024-06-05T19:20:26.501337",
     "status": "completed"
    },
    "tags": []
   },
   "outputs": [],
   "source": [
    "# # apply sigmoid + threshold\n",
    "# sigmoid = torch.nn.Sigmoid()\n",
    "# probs = sigmoid(logits.squeeze().cpu())\n",
    "# predictions = np.zeros(probs.shape)\n",
    "# predictions[np.where(probs >= 0.5)] = 1\n",
    "# # turn predicted id's into actual label names\n",
    "# predicted_labels = [id2label[idx] for idx, label in enumerate(predictions) if label == 1.0]\n",
    "# print(predicted_labels)"
   ]
  },
  {
   "cell_type": "code",
   "execution_count": null,
   "id": "6a43ff67",
   "metadata": {
    "papermill": {
     "duration": 0.034638,
     "end_time": "2024-06-05T19:20:26.608695",
     "exception": false,
     "start_time": "2024-06-05T19:20:26.574057",
     "status": "completed"
    },
    "tags": []
   },
   "outputs": [],
   "source": []
  }
 ],
 "metadata": {
  "kaggle": {
   "accelerator": "gpu",
   "dataSources": [
    {
     "datasetId": 5092991,
     "sourceId": 8600001,
     "sourceType": "datasetVersion"
    }
   ],
   "dockerImageVersionId": 30715,
   "isGpuEnabled": true,
   "isInternetEnabled": true,
   "language": "python",
   "sourceType": "notebook"
  },
  "kernelspec": {
   "display_name": "Python 3",
   "language": "python",
   "name": "python3"
  },
  "language_info": {
   "codemirror_mode": {
    "name": "ipython",
    "version": 3
   },
   "file_extension": ".py",
   "mimetype": "text/x-python",
   "name": "python",
   "nbconvert_exporter": "python",
   "pygments_lexer": "ipython3",
   "version": "3.10.13"
  },
  "papermill": {
   "default_parameters": {},
   "duration": 907.511695,
   "end_time": "2024-06-05T19:20:29.366882",
   "environment_variables": {},
   "exception": null,
   "input_path": "__notebook__.ipynb",
   "output_path": "__notebook__.ipynb",
   "parameters": {},
   "start_time": "2024-06-05T19:05:21.855187",
   "version": "2.5.0"
  },
  "widgets": {
   "application/vnd.jupyter.widget-state+json": {
    "state": {
     "01ccebf1246047869925bc2adf07c4f7": {
      "model_module": "@jupyter-widgets/base",
      "model_module_version": "1.2.0",
      "model_name": "LayoutModel",
      "state": {
       "_model_module": "@jupyter-widgets/base",
       "_model_module_version": "1.2.0",
       "_model_name": "LayoutModel",
       "_view_count": null,
       "_view_module": "@jupyter-widgets/base",
       "_view_module_version": "1.2.0",
       "_view_name": "LayoutView",
       "align_content": null,
       "align_items": null,
       "align_self": null,
       "border": null,
       "bottom": null,
       "display": null,
       "flex": null,
       "flex_flow": null,
       "grid_area": null,
       "grid_auto_columns": null,
       "grid_auto_flow": null,
       "grid_auto_rows": null,
       "grid_column": null,
       "grid_gap": null,
       "grid_row": null,
       "grid_template_areas": null,
       "grid_template_columns": null,
       "grid_template_rows": null,
       "height": null,
       "justify_content": null,
       "justify_items": null,
       "left": null,
       "margin": null,
       "max_height": null,
       "max_width": null,
       "min_height": null,
       "min_width": null,
       "object_fit": null,
       "object_position": null,
       "order": null,
       "overflow": null,
       "overflow_x": null,
       "overflow_y": null,
       "padding": null,
       "right": null,
       "top": null,
       "visibility": null,
       "width": null
      }
     },
     "024baa4cc9e24783ad268c51c75acd40": {
      "model_module": "@jupyter-widgets/controls",
      "model_module_version": "1.5.0",
      "model_name": "ProgressStyleModel",
      "state": {
       "_model_module": "@jupyter-widgets/controls",
       "_model_module_version": "1.5.0",
       "_model_name": "ProgressStyleModel",
       "_view_count": null,
       "_view_module": "@jupyter-widgets/base",
       "_view_module_version": "1.2.0",
       "_view_name": "StyleView",
       "bar_color": null,
       "description_width": ""
      }
     },
     "03d621509793449596974ef5362c8439": {
      "model_module": "@jupyter-widgets/base",
      "model_module_version": "1.2.0",
      "model_name": "LayoutModel",
      "state": {
       "_model_module": "@jupyter-widgets/base",
       "_model_module_version": "1.2.0",
       "_model_name": "LayoutModel",
       "_view_count": null,
       "_view_module": "@jupyter-widgets/base",
       "_view_module_version": "1.2.0",
       "_view_name": "LayoutView",
       "align_content": null,
       "align_items": null,
       "align_self": null,
       "border": null,
       "bottom": null,
       "display": null,
       "flex": null,
       "flex_flow": null,
       "grid_area": null,
       "grid_auto_columns": null,
       "grid_auto_flow": null,
       "grid_auto_rows": null,
       "grid_column": null,
       "grid_gap": null,
       "grid_row": null,
       "grid_template_areas": null,
       "grid_template_columns": null,
       "grid_template_rows": null,
       "height": null,
       "justify_content": null,
       "justify_items": null,
       "left": null,
       "margin": null,
       "max_height": null,
       "max_width": null,
       "min_height": null,
       "min_width": null,
       "object_fit": null,
       "object_position": null,
       "order": null,
       "overflow": null,
       "overflow_x": null,
       "overflow_y": null,
       "padding": null,
       "right": null,
       "top": null,
       "visibility": null,
       "width": null
      }
     },
     "0524a0d50445491e84d6269be5b1a17e": {
      "model_module": "@jupyter-widgets/base",
      "model_module_version": "1.2.0",
      "model_name": "LayoutModel",
      "state": {
       "_model_module": "@jupyter-widgets/base",
       "_model_module_version": "1.2.0",
       "_model_name": "LayoutModel",
       "_view_count": null,
       "_view_module": "@jupyter-widgets/base",
       "_view_module_version": "1.2.0",
       "_view_name": "LayoutView",
       "align_content": null,
       "align_items": null,
       "align_self": null,
       "border": null,
       "bottom": null,
       "display": null,
       "flex": null,
       "flex_flow": null,
       "grid_area": null,
       "grid_auto_columns": null,
       "grid_auto_flow": null,
       "grid_auto_rows": null,
       "grid_column": null,
       "grid_gap": null,
       "grid_row": null,
       "grid_template_areas": null,
       "grid_template_columns": null,
       "grid_template_rows": null,
       "height": null,
       "justify_content": null,
       "justify_items": null,
       "left": null,
       "margin": null,
       "max_height": null,
       "max_width": null,
       "min_height": null,
       "min_width": null,
       "object_fit": null,
       "object_position": null,
       "order": null,
       "overflow": null,
       "overflow_x": null,
       "overflow_y": null,
       "padding": null,
       "right": null,
       "top": null,
       "visibility": null,
       "width": null
      }
     },
     "0863b58db9e44db9a593360be80d0eb4": {
      "model_module": "@jupyter-widgets/base",
      "model_module_version": "1.2.0",
      "model_name": "LayoutModel",
      "state": {
       "_model_module": "@jupyter-widgets/base",
       "_model_module_version": "1.2.0",
       "_model_name": "LayoutModel",
       "_view_count": null,
       "_view_module": "@jupyter-widgets/base",
       "_view_module_version": "1.2.0",
       "_view_name": "LayoutView",
       "align_content": null,
       "align_items": null,
       "align_self": null,
       "border": null,
       "bottom": null,
       "display": null,
       "flex": null,
       "flex_flow": null,
       "grid_area": null,
       "grid_auto_columns": null,
       "grid_auto_flow": null,
       "grid_auto_rows": null,
       "grid_column": null,
       "grid_gap": null,
       "grid_row": null,
       "grid_template_areas": null,
       "grid_template_columns": null,
       "grid_template_rows": null,
       "height": null,
       "justify_content": null,
       "justify_items": null,
       "left": null,
       "margin": null,
       "max_height": null,
       "max_width": null,
       "min_height": null,
       "min_width": null,
       "object_fit": null,
       "object_position": null,
       "order": null,
       "overflow": null,
       "overflow_x": null,
       "overflow_y": null,
       "padding": null,
       "right": null,
       "top": null,
       "visibility": null,
       "width": null
      }
     },
     "0f2ed979f4484344998858a43ee885de": {
      "model_module": "@jupyter-widgets/base",
      "model_module_version": "1.2.0",
      "model_name": "LayoutModel",
      "state": {
       "_model_module": "@jupyter-widgets/base",
       "_model_module_version": "1.2.0",
       "_model_name": "LayoutModel",
       "_view_count": null,
       "_view_module": "@jupyter-widgets/base",
       "_view_module_version": "1.2.0",
       "_view_name": "LayoutView",
       "align_content": null,
       "align_items": null,
       "align_self": null,
       "border": null,
       "bottom": null,
       "display": null,
       "flex": null,
       "flex_flow": null,
       "grid_area": null,
       "grid_auto_columns": null,
       "grid_auto_flow": null,
       "grid_auto_rows": null,
       "grid_column": null,
       "grid_gap": null,
       "grid_row": null,
       "grid_template_areas": null,
       "grid_template_columns": null,
       "grid_template_rows": null,
       "height": null,
       "justify_content": null,
       "justify_items": null,
       "left": null,
       "margin": null,
       "max_height": null,
       "max_width": null,
       "min_height": null,
       "min_width": null,
       "object_fit": null,
       "object_position": null,
       "order": null,
       "overflow": null,
       "overflow_x": null,
       "overflow_y": null,
       "padding": null,
       "right": null,
       "top": null,
       "visibility": null,
       "width": null
      }
     },
     "13c8974a3ef9401fa8765d2855e465c2": {
      "model_module": "@jupyter-widgets/controls",
      "model_module_version": "1.5.0",
      "model_name": "HTMLModel",
      "state": {
       "_dom_classes": [],
       "_model_module": "@jupyter-widgets/controls",
       "_model_module_version": "1.5.0",
       "_model_name": "HTMLModel",
       "_view_count": null,
       "_view_module": "@jupyter-widgets/controls",
       "_view_module_version": "1.5.0",
       "_view_name": "HTMLView",
       "description": "",
       "description_tooltip": null,
       "layout": "IPY_MODEL_0524a0d50445491e84d6269be5b1a17e",
       "placeholder": "​",
       "style": "IPY_MODEL_a87d7e99aea14b3ba224de8d0a1686cb",
       "value": "Map: 100%"
      }
     },
     "15d08dddfa0d47beb08f0721b4f8f045": {
      "model_module": "@jupyter-widgets/controls",
      "model_module_version": "1.5.0",
      "model_name": "DescriptionStyleModel",
      "state": {
       "_model_module": "@jupyter-widgets/controls",
       "_model_module_version": "1.5.0",
       "_model_name": "DescriptionStyleModel",
       "_view_count": null,
       "_view_module": "@jupyter-widgets/base",
       "_view_module_version": "1.2.0",
       "_view_name": "StyleView",
       "description_width": ""
      }
     },
     "16905e189a044ccaa8ce0b91044de9c1": {
      "model_module": "@jupyter-widgets/base",
      "model_module_version": "1.2.0",
      "model_name": "LayoutModel",
      "state": {
       "_model_module": "@jupyter-widgets/base",
       "_model_module_version": "1.2.0",
       "_model_name": "LayoutModel",
       "_view_count": null,
       "_view_module": "@jupyter-widgets/base",
       "_view_module_version": "1.2.0",
       "_view_name": "LayoutView",
       "align_content": null,
       "align_items": null,
       "align_self": null,
       "border": null,
       "bottom": null,
       "display": null,
       "flex": null,
       "flex_flow": null,
       "grid_area": null,
       "grid_auto_columns": null,
       "grid_auto_flow": null,
       "grid_auto_rows": null,
       "grid_column": null,
       "grid_gap": null,
       "grid_row": null,
       "grid_template_areas": null,
       "grid_template_columns": null,
       "grid_template_rows": null,
       "height": null,
       "justify_content": null,
       "justify_items": null,
       "left": null,
       "margin": null,
       "max_height": null,
       "max_width": null,
       "min_height": null,
       "min_width": null,
       "object_fit": null,
       "object_position": null,
       "order": null,
       "overflow": null,
       "overflow_x": null,
       "overflow_y": null,
       "padding": null,
       "right": null,
       "top": null,
       "visibility": null,
       "width": null
      }
     },
     "16e934915b4e4958b6f52dc53bf3b105": {
      "model_module": "@jupyter-widgets/controls",
      "model_module_version": "1.5.0",
      "model_name": "HBoxModel",
      "state": {
       "_dom_classes": [],
       "_model_module": "@jupyter-widgets/controls",
       "_model_module_version": "1.5.0",
       "_model_name": "HBoxModel",
       "_view_count": null,
       "_view_module": "@jupyter-widgets/controls",
       "_view_module_version": "1.5.0",
       "_view_name": "HBoxView",
       "box_style": "",
       "children": [
        "IPY_MODEL_3311d39d4ebb4b599cd6230f89a88c39",
        "IPY_MODEL_9246474dfdcd41839a6304089d4bdf11",
        "IPY_MODEL_56a48e939fb8479f8db940f5066d3af2"
       ],
       "layout": "IPY_MODEL_4d08647769e34731bce68b155676555c"
      }
     },
     "19636662251f4ffa805ca71b800196fe": {
      "model_module": "@jupyter-widgets/controls",
      "model_module_version": "1.5.0",
      "model_name": "ProgressStyleModel",
      "state": {
       "_model_module": "@jupyter-widgets/controls",
       "_model_module_version": "1.5.0",
       "_model_name": "ProgressStyleModel",
       "_view_count": null,
       "_view_module": "@jupyter-widgets/base",
       "_view_module_version": "1.2.0",
       "_view_name": "StyleView",
       "bar_color": null,
       "description_width": ""
      }
     },
     "1d10a2b1fc8b403ca6a5e8c4709b960e": {
      "model_module": "@jupyter-widgets/base",
      "model_module_version": "1.2.0",
      "model_name": "LayoutModel",
      "state": {
       "_model_module": "@jupyter-widgets/base",
       "_model_module_version": "1.2.0",
       "_model_name": "LayoutModel",
       "_view_count": null,
       "_view_module": "@jupyter-widgets/base",
       "_view_module_version": "1.2.0",
       "_view_name": "LayoutView",
       "align_content": null,
       "align_items": null,
       "align_self": null,
       "border": null,
       "bottom": null,
       "display": null,
       "flex": null,
       "flex_flow": null,
       "grid_area": null,
       "grid_auto_columns": null,
       "grid_auto_flow": null,
       "grid_auto_rows": null,
       "grid_column": null,
       "grid_gap": null,
       "grid_row": null,
       "grid_template_areas": null,
       "grid_template_columns": null,
       "grid_template_rows": null,
       "height": null,
       "justify_content": null,
       "justify_items": null,
       "left": null,
       "margin": null,
       "max_height": null,
       "max_width": null,
       "min_height": null,
       "min_width": null,
       "object_fit": null,
       "object_position": null,
       "order": null,
       "overflow": null,
       "overflow_x": null,
       "overflow_y": null,
       "padding": null,
       "right": null,
       "top": null,
       "visibility": null,
       "width": null
      }
     },
     "1d676fe9711444cab8ed7944c9f51d7a": {
      "model_module": "@jupyter-widgets/controls",
      "model_module_version": "1.5.0",
      "model_name": "ProgressStyleModel",
      "state": {
       "_model_module": "@jupyter-widgets/controls",
       "_model_module_version": "1.5.0",
       "_model_name": "ProgressStyleModel",
       "_view_count": null,
       "_view_module": "@jupyter-widgets/base",
       "_view_module_version": "1.2.0",
       "_view_name": "StyleView",
       "bar_color": null,
       "description_width": ""
      }
     },
     "20af21cdabc74047b79a8a115c52e407": {
      "model_module": "@jupyter-widgets/controls",
      "model_module_version": "1.5.0",
      "model_name": "FloatProgressModel",
      "state": {
       "_dom_classes": [],
       "_model_module": "@jupyter-widgets/controls",
       "_model_module_version": "1.5.0",
       "_model_name": "FloatProgressModel",
       "_view_count": null,
       "_view_module": "@jupyter-widgets/controls",
       "_view_module_version": "1.5.0",
       "_view_name": "ProgressView",
       "bar_style": "success",
       "description": "",
       "description_tooltip": null,
       "layout": "IPY_MODEL_8b21057e75e8461ba1d7c08e23e6d0b7",
       "max": 758.0,
       "min": 0.0,
       "orientation": "horizontal",
       "style": "IPY_MODEL_ca7c80c8d35e4f8085eb343ab61138ad",
       "value": 758.0
      }
     },
     "216d4b6a2ac7452ab62bb8ef643c3fad": {
      "model_module": "@jupyter-widgets/base",
      "model_module_version": "1.2.0",
      "model_name": "LayoutModel",
      "state": {
       "_model_module": "@jupyter-widgets/base",
       "_model_module_version": "1.2.0",
       "_model_name": "LayoutModel",
       "_view_count": null,
       "_view_module": "@jupyter-widgets/base",
       "_view_module_version": "1.2.0",
       "_view_name": "LayoutView",
       "align_content": null,
       "align_items": null,
       "align_self": null,
       "border": null,
       "bottom": null,
       "display": null,
       "flex": null,
       "flex_flow": null,
       "grid_area": null,
       "grid_auto_columns": null,
       "grid_auto_flow": null,
       "grid_auto_rows": null,
       "grid_column": null,
       "grid_gap": null,
       "grid_row": null,
       "grid_template_areas": null,
       "grid_template_columns": null,
       "grid_template_rows": null,
       "height": null,
       "justify_content": null,
       "justify_items": null,
       "left": null,
       "margin": null,
       "max_height": null,
       "max_width": null,
       "min_height": null,
       "min_width": null,
       "object_fit": null,
       "object_position": null,
       "order": null,
       "overflow": null,
       "overflow_x": null,
       "overflow_y": null,
       "padding": null,
       "right": null,
       "top": null,
       "visibility": null,
       "width": null
      }
     },
     "248d252cd60541bfaf5e07bc1840fafa": {
      "model_module": "@jupyter-widgets/base",
      "model_module_version": "1.2.0",
      "model_name": "LayoutModel",
      "state": {
       "_model_module": "@jupyter-widgets/base",
       "_model_module_version": "1.2.0",
       "_model_name": "LayoutModel",
       "_view_count": null,
       "_view_module": "@jupyter-widgets/base",
       "_view_module_version": "1.2.0",
       "_view_name": "LayoutView",
       "align_content": null,
       "align_items": null,
       "align_self": null,
       "border": null,
       "bottom": null,
       "display": null,
       "flex": null,
       "flex_flow": null,
       "grid_area": null,
       "grid_auto_columns": null,
       "grid_auto_flow": null,
       "grid_auto_rows": null,
       "grid_column": null,
       "grid_gap": null,
       "grid_row": null,
       "grid_template_areas": null,
       "grid_template_columns": null,
       "grid_template_rows": null,
       "height": null,
       "justify_content": null,
       "justify_items": null,
       "left": null,
       "margin": null,
       "max_height": null,
       "max_width": null,
       "min_height": null,
       "min_width": null,
       "object_fit": null,
       "object_position": null,
       "order": null,
       "overflow": null,
       "overflow_x": null,
       "overflow_y": null,
       "padding": null,
       "right": null,
       "top": null,
       "visibility": null,
       "width": null
      }
     },
     "24e3f342bea44527a895e73860a2dd7c": {
      "model_module": "@jupyter-widgets/controls",
      "model_module_version": "1.5.0",
      "model_name": "HTMLModel",
      "state": {
       "_dom_classes": [],
       "_model_module": "@jupyter-widgets/controls",
       "_model_module_version": "1.5.0",
       "_model_name": "HTMLModel",
       "_view_count": null,
       "_view_module": "@jupyter-widgets/controls",
       "_view_module_version": "1.5.0",
       "_view_name": "HTMLView",
       "description": "",
       "description_tooltip": null,
       "layout": "IPY_MODEL_df38bbcce31343159642226713736e3b",
       "placeholder": "​",
       "style": "IPY_MODEL_a5c21a15c5ff4e059b696f494f9d413b",
       "value": "vocab.txt: 100%"
      }
     },
     "29e94b512ad34d6dac5cfab0cb7cd53b": {
      "model_module": "@jupyter-widgets/base",
      "model_module_version": "1.2.0",
      "model_name": "LayoutModel",
      "state": {
       "_model_module": "@jupyter-widgets/base",
       "_model_module_version": "1.2.0",
       "_model_name": "LayoutModel",
       "_view_count": null,
       "_view_module": "@jupyter-widgets/base",
       "_view_module_version": "1.2.0",
       "_view_name": "LayoutView",
       "align_content": null,
       "align_items": null,
       "align_self": null,
       "border": null,
       "bottom": null,
       "display": null,
       "flex": null,
       "flex_flow": null,
       "grid_area": null,
       "grid_auto_columns": null,
       "grid_auto_flow": null,
       "grid_auto_rows": null,
       "grid_column": null,
       "grid_gap": null,
       "grid_row": null,
       "grid_template_areas": null,
       "grid_template_columns": null,
       "grid_template_rows": null,
       "height": null,
       "justify_content": null,
       "justify_items": null,
       "left": null,
       "margin": null,
       "max_height": null,
       "max_width": null,
       "min_height": null,
       "min_width": null,
       "object_fit": null,
       "object_position": null,
       "order": null,
       "overflow": null,
       "overflow_x": null,
       "overflow_y": null,
       "padding": null,
       "right": null,
       "top": null,
       "visibility": null,
       "width": null
      }
     },
     "2cd2113874804f37b8da173046c0cac9": {
      "model_module": "@jupyter-widgets/controls",
      "model_module_version": "1.5.0",
      "model_name": "DescriptionStyleModel",
      "state": {
       "_model_module": "@jupyter-widgets/controls",
       "_model_module_version": "1.5.0",
       "_model_name": "DescriptionStyleModel",
       "_view_count": null,
       "_view_module": "@jupyter-widgets/base",
       "_view_module_version": "1.2.0",
       "_view_name": "StyleView",
       "description_width": ""
      }
     },
     "3311d39d4ebb4b599cd6230f89a88c39": {
      "model_module": "@jupyter-widgets/controls",
      "model_module_version": "1.5.0",
      "model_name": "HTMLModel",
      "state": {
       "_dom_classes": [],
       "_model_module": "@jupyter-widgets/controls",
       "_model_module_version": "1.5.0",
       "_model_name": "HTMLModel",
       "_view_count": null,
       "_view_module": "@jupyter-widgets/controls",
       "_view_module_version": "1.5.0",
       "_view_name": "HTMLView",
       "description": "",
       "description_tooltip": null,
       "layout": "IPY_MODEL_79feaf56d2d645eda6b07c719e3aa557",
       "placeholder": "​",
       "style": "IPY_MODEL_eedbf0a425e848ff8fd01cf1b5da6315",
       "value": "tokenizer_config.json: 100%"
      }
     },
     "36553fb536b54fbaafdb3b957c567c57": {
      "model_module": "@jupyter-widgets/controls",
      "model_module_version": "1.5.0",
      "model_name": "HTMLModel",
      "state": {
       "_dom_classes": [],
       "_model_module": "@jupyter-widgets/controls",
       "_model_module_version": "1.5.0",
       "_model_name": "HTMLModel",
       "_view_count": null,
       "_view_module": "@jupyter-widgets/controls",
       "_view_module_version": "1.5.0",
       "_view_name": "HTMLView",
       "description": "",
       "description_tooltip": null,
       "layout": "IPY_MODEL_d67b0f27d4044cf9b92d5d029a5a5070",
       "placeholder": "​",
       "style": "IPY_MODEL_58c143bcc795416da17063892c6cf00f",
       "value": " 1086/1086 [00:00&lt;00:00, 4315.05 examples/s]"
      }
     },
     "3a768b9cefce49899f378babe8c692bb": {
      "model_module": "@jupyter-widgets/controls",
      "model_module_version": "1.5.0",
      "model_name": "HTMLModel",
      "state": {
       "_dom_classes": [],
       "_model_module": "@jupyter-widgets/controls",
       "_model_module_version": "1.5.0",
       "_model_name": "HTMLModel",
       "_view_count": null,
       "_view_module": "@jupyter-widgets/controls",
       "_view_module_version": "1.5.0",
       "_view_name": "HTMLView",
       "description": "",
       "description_tooltip": null,
       "layout": "IPY_MODEL_71cb9bf226104be5a22a3d0dc15178a3",
       "placeholder": "​",
       "style": "IPY_MODEL_e411795727bc4a17b925d9c967e86ea2",
       "value": "Map: 100%"
      }
     },
     "42a0bbc5f2354fec97249d6bfa52436a": {
      "model_module": "@jupyter-widgets/controls",
      "model_module_version": "1.5.0",
      "model_name": "ProgressStyleModel",
      "state": {
       "_model_module": "@jupyter-widgets/controls",
       "_model_module_version": "1.5.0",
       "_model_name": "ProgressStyleModel",
       "_view_count": null,
       "_view_module": "@jupyter-widgets/base",
       "_view_module_version": "1.2.0",
       "_view_name": "StyleView",
       "bar_color": null,
       "description_width": ""
      }
     },
     "4d08647769e34731bce68b155676555c": {
      "model_module": "@jupyter-widgets/base",
      "model_module_version": "1.2.0",
      "model_name": "LayoutModel",
      "state": {
       "_model_module": "@jupyter-widgets/base",
       "_model_module_version": "1.2.0",
       "_model_name": "LayoutModel",
       "_view_count": null,
       "_view_module": "@jupyter-widgets/base",
       "_view_module_version": "1.2.0",
       "_view_name": "LayoutView",
       "align_content": null,
       "align_items": null,
       "align_self": null,
       "border": null,
       "bottom": null,
       "display": null,
       "flex": null,
       "flex_flow": null,
       "grid_area": null,
       "grid_auto_columns": null,
       "grid_auto_flow": null,
       "grid_auto_rows": null,
       "grid_column": null,
       "grid_gap": null,
       "grid_row": null,
       "grid_template_areas": null,
       "grid_template_columns": null,
       "grid_template_rows": null,
       "height": null,
       "justify_content": null,
       "justify_items": null,
       "left": null,
       "margin": null,
       "max_height": null,
       "max_width": null,
       "min_height": null,
       "min_width": null,
       "object_fit": null,
       "object_position": null,
       "order": null,
       "overflow": null,
       "overflow_x": null,
       "overflow_y": null,
       "padding": null,
       "right": null,
       "top": null,
       "visibility": null,
       "width": null
      }
     },
     "56a48e939fb8479f8db940f5066d3af2": {
      "model_module": "@jupyter-widgets/controls",
      "model_module_version": "1.5.0",
      "model_name": "HTMLModel",
      "state": {
       "_dom_classes": [],
       "_model_module": "@jupyter-widgets/controls",
       "_model_module_version": "1.5.0",
       "_model_name": "HTMLModel",
       "_view_count": null,
       "_view_module": "@jupyter-widgets/controls",
       "_view_module_version": "1.5.0",
       "_view_name": "HTMLView",
       "description": "",
       "description_tooltip": null,
       "layout": "IPY_MODEL_03d621509793449596974ef5362c8439",
       "placeholder": "​",
       "style": "IPY_MODEL_f498aac2baf647e2ac1abda6d7ea6d32",
       "value": " 252/252 [00:00&lt;00:00, 19.9kB/s]"
      }
     },
     "58c143bcc795416da17063892c6cf00f": {
      "model_module": "@jupyter-widgets/controls",
      "model_module_version": "1.5.0",
      "model_name": "DescriptionStyleModel",
      "state": {
       "_model_module": "@jupyter-widgets/controls",
       "_model_module_version": "1.5.0",
       "_model_name": "DescriptionStyleModel",
       "_view_count": null,
       "_view_module": "@jupyter-widgets/base",
       "_view_module_version": "1.2.0",
       "_view_name": "StyleView",
       "description_width": ""
      }
     },
     "5d653174599c4f50858f4150b8cbacd7": {
      "model_module": "@jupyter-widgets/base",
      "model_module_version": "1.2.0",
      "model_name": "LayoutModel",
      "state": {
       "_model_module": "@jupyter-widgets/base",
       "_model_module_version": "1.2.0",
       "_model_name": "LayoutModel",
       "_view_count": null,
       "_view_module": "@jupyter-widgets/base",
       "_view_module_version": "1.2.0",
       "_view_name": "LayoutView",
       "align_content": null,
       "align_items": null,
       "align_self": null,
       "border": null,
       "bottom": null,
       "display": null,
       "flex": null,
       "flex_flow": null,
       "grid_area": null,
       "grid_auto_columns": null,
       "grid_auto_flow": null,
       "grid_auto_rows": null,
       "grid_column": null,
       "grid_gap": null,
       "grid_row": null,
       "grid_template_areas": null,
       "grid_template_columns": null,
       "grid_template_rows": null,
       "height": null,
       "justify_content": null,
       "justify_items": null,
       "left": null,
       "margin": null,
       "max_height": null,
       "max_width": null,
       "min_height": null,
       "min_width": null,
       "object_fit": null,
       "object_position": null,
       "order": null,
       "overflow": null,
       "overflow_x": null,
       "overflow_y": null,
       "padding": null,
       "right": null,
       "top": null,
       "visibility": null,
       "width": null
      }
     },
     "5ef45f34f79d414ba5b66716cba6e0f1": {
      "model_module": "@jupyter-widgets/base",
      "model_module_version": "1.2.0",
      "model_name": "LayoutModel",
      "state": {
       "_model_module": "@jupyter-widgets/base",
       "_model_module_version": "1.2.0",
       "_model_name": "LayoutModel",
       "_view_count": null,
       "_view_module": "@jupyter-widgets/base",
       "_view_module_version": "1.2.0",
       "_view_name": "LayoutView",
       "align_content": null,
       "align_items": null,
       "align_self": null,
       "border": null,
       "bottom": null,
       "display": null,
       "flex": null,
       "flex_flow": null,
       "grid_area": null,
       "grid_auto_columns": null,
       "grid_auto_flow": null,
       "grid_auto_rows": null,
       "grid_column": null,
       "grid_gap": null,
       "grid_row": null,
       "grid_template_areas": null,
       "grid_template_columns": null,
       "grid_template_rows": null,
       "height": null,
       "justify_content": null,
       "justify_items": null,
       "left": null,
       "margin": null,
       "max_height": null,
       "max_width": null,
       "min_height": null,
       "min_width": null,
       "object_fit": null,
       "object_position": null,
       "order": null,
       "overflow": null,
       "overflow_x": null,
       "overflow_y": null,
       "padding": null,
       "right": null,
       "top": null,
       "visibility": null,
       "width": null
      }
     },
     "601c592032034cabb835d7cd4a1fd1e8": {
      "model_module": "@jupyter-widgets/base",
      "model_module_version": "1.2.0",
      "model_name": "LayoutModel",
      "state": {
       "_model_module": "@jupyter-widgets/base",
       "_model_module_version": "1.2.0",
       "_model_name": "LayoutModel",
       "_view_count": null,
       "_view_module": "@jupyter-widgets/base",
       "_view_module_version": "1.2.0",
       "_view_name": "LayoutView",
       "align_content": null,
       "align_items": null,
       "align_self": null,
       "border": null,
       "bottom": null,
       "display": null,
       "flex": null,
       "flex_flow": null,
       "grid_area": null,
       "grid_auto_columns": null,
       "grid_auto_flow": null,
       "grid_auto_rows": null,
       "grid_column": null,
       "grid_gap": null,
       "grid_row": null,
       "grid_template_areas": null,
       "grid_template_columns": null,
       "grid_template_rows": null,
       "height": null,
       "justify_content": null,
       "justify_items": null,
       "left": null,
       "margin": null,
       "max_height": null,
       "max_width": null,
       "min_height": null,
       "min_width": null,
       "object_fit": null,
       "object_position": null,
       "order": null,
       "overflow": null,
       "overflow_x": null,
       "overflow_y": null,
       "padding": null,
       "right": null,
       "top": null,
       "visibility": null,
       "width": null
      }
     },
     "60f27c0d3003444aa42caf023b0cc57c": {
      "model_module": "@jupyter-widgets/controls",
      "model_module_version": "1.5.0",
      "model_name": "HTMLModel",
      "state": {
       "_dom_classes": [],
       "_model_module": "@jupyter-widgets/controls",
       "_model_module_version": "1.5.0",
       "_model_name": "HTMLModel",
       "_view_count": null,
       "_view_module": "@jupyter-widgets/controls",
       "_view_module_version": "1.5.0",
       "_view_name": "HTMLView",
       "description": "",
       "description_tooltip": null,
       "layout": "IPY_MODEL_0863b58db9e44db9a593360be80d0eb4",
       "placeholder": "​",
       "style": "IPY_MODEL_7dbcc3ca5dd543128ed673ee2299e3dc",
       "value": " 438M/438M [00:06&lt;00:00, 69.8MB/s]"
      }
     },
     "62128c4b11044ea496f85012e5ac3c0c": {
      "model_module": "@jupyter-widgets/controls",
      "model_module_version": "1.5.0",
      "model_name": "HTMLModel",
      "state": {
       "_dom_classes": [],
       "_model_module": "@jupyter-widgets/controls",
       "_model_module_version": "1.5.0",
       "_model_name": "HTMLModel",
       "_view_count": null,
       "_view_module": "@jupyter-widgets/controls",
       "_view_module_version": "1.5.0",
       "_view_name": "HTMLView",
       "description": "",
       "description_tooltip": null,
       "layout": "IPY_MODEL_b5ace40a164a4034977efb668a4c5922",
       "placeholder": "​",
       "style": "IPY_MODEL_8dc7a59d329f428d9e706296b68dad0a",
       "value": "special_tokens_map.json: 100%"
      }
     },
     "6231dd87341c408b84a9c48c5d4c42bc": {
      "model_module": "@jupyter-widgets/controls",
      "model_module_version": "1.5.0",
      "model_name": "FloatProgressModel",
      "state": {
       "_dom_classes": [],
       "_model_module": "@jupyter-widgets/controls",
       "_model_module_version": "1.5.0",
       "_model_name": "FloatProgressModel",
       "_view_count": null,
       "_view_module": "@jupyter-widgets/controls",
       "_view_module_version": "1.5.0",
       "_view_name": "ProgressView",
       "bar_style": "success",
       "description": "",
       "description_tooltip": null,
       "layout": "IPY_MODEL_bf7bc649a4d4487f806171eebc9245bb",
       "max": 437992753.0,
       "min": 0.0,
       "orientation": "horizontal",
       "style": "IPY_MODEL_42a0bbc5f2354fec97249d6bfa52436a",
       "value": 437992753.0
      }
     },
     "65537c3533974951852266f8b5082173": {
      "model_module": "@jupyter-widgets/base",
      "model_module_version": "1.2.0",
      "model_name": "LayoutModel",
      "state": {
       "_model_module": "@jupyter-widgets/base",
       "_model_module_version": "1.2.0",
       "_model_name": "LayoutModel",
       "_view_count": null,
       "_view_module": "@jupyter-widgets/base",
       "_view_module_version": "1.2.0",
       "_view_name": "LayoutView",
       "align_content": null,
       "align_items": null,
       "align_self": null,
       "border": null,
       "bottom": null,
       "display": null,
       "flex": null,
       "flex_flow": null,
       "grid_area": null,
       "grid_auto_columns": null,
       "grid_auto_flow": null,
       "grid_auto_rows": null,
       "grid_column": null,
       "grid_gap": null,
       "grid_row": null,
       "grid_template_areas": null,
       "grid_template_columns": null,
       "grid_template_rows": null,
       "height": null,
       "justify_content": null,
       "justify_items": null,
       "left": null,
       "margin": null,
       "max_height": null,
       "max_width": null,
       "min_height": null,
       "min_width": null,
       "object_fit": null,
       "object_position": null,
       "order": null,
       "overflow": null,
       "overflow_x": null,
       "overflow_y": null,
       "padding": null,
       "right": null,
       "top": null,
       "visibility": null,
       "width": null
      }
     },
     "68671b9019ca4b38b2ba551fc82931db": {
      "model_module": "@jupyter-widgets/controls",
      "model_module_version": "1.5.0",
      "model_name": "HBoxModel",
      "state": {
       "_dom_classes": [],
       "_model_module": "@jupyter-widgets/controls",
       "_model_module_version": "1.5.0",
       "_model_name": "HBoxModel",
       "_view_count": null,
       "_view_module": "@jupyter-widgets/controls",
       "_view_module_version": "1.5.0",
       "_view_name": "HBoxView",
       "box_style": "",
       "children": [
        "IPY_MODEL_ff96144cf5d24c289829f872a5515e7b",
        "IPY_MODEL_f6219ae580e243c09759a3137eb4713c",
        "IPY_MODEL_36553fb536b54fbaafdb3b957c567c57"
       ],
       "layout": "IPY_MODEL_29e94b512ad34d6dac5cfab0cb7cd53b"
      }
     },
     "6e158a10a76640c383846b9d234ad7a8": {
      "model_module": "@jupyter-widgets/controls",
      "model_module_version": "1.5.0",
      "model_name": "FloatProgressModel",
      "state": {
       "_dom_classes": [],
       "_model_module": "@jupyter-widgets/controls",
       "_model_module_version": "1.5.0",
       "_model_name": "FloatProgressModel",
       "_view_count": null,
       "_view_module": "@jupyter-widgets/controls",
       "_view_module_version": "1.5.0",
       "_view_name": "ProgressView",
       "bar_style": "success",
       "description": "",
       "description_tooltip": null,
       "layout": "IPY_MODEL_5d653174599c4f50858f4150b8cbacd7",
       "max": 112.0,
       "min": 0.0,
       "orientation": "horizontal",
       "style": "IPY_MODEL_1d676fe9711444cab8ed7944c9f51d7a",
       "value": 112.0
      }
     },
     "71cb9bf226104be5a22a3d0dc15178a3": {
      "model_module": "@jupyter-widgets/base",
      "model_module_version": "1.2.0",
      "model_name": "LayoutModel",
      "state": {
       "_model_module": "@jupyter-widgets/base",
       "_model_module_version": "1.2.0",
       "_model_name": "LayoutModel",
       "_view_count": null,
       "_view_module": "@jupyter-widgets/base",
       "_view_module_version": "1.2.0",
       "_view_name": "LayoutView",
       "align_content": null,
       "align_items": null,
       "align_self": null,
       "border": null,
       "bottom": null,
       "display": null,
       "flex": null,
       "flex_flow": null,
       "grid_area": null,
       "grid_auto_columns": null,
       "grid_auto_flow": null,
       "grid_auto_rows": null,
       "grid_column": null,
       "grid_gap": null,
       "grid_row": null,
       "grid_template_areas": null,
       "grid_template_columns": null,
       "grid_template_rows": null,
       "height": null,
       "justify_content": null,
       "justify_items": null,
       "left": null,
       "margin": null,
       "max_height": null,
       "max_width": null,
       "min_height": null,
       "min_width": null,
       "object_fit": null,
       "object_position": null,
       "order": null,
       "overflow": null,
       "overflow_x": null,
       "overflow_y": null,
       "padding": null,
       "right": null,
       "top": null,
       "visibility": null,
       "width": null
      }
     },
     "74ef08e788524471912923bcb3985d9c": {
      "model_module": "@jupyter-widgets/controls",
      "model_module_version": "1.5.0",
      "model_name": "ProgressStyleModel",
      "state": {
       "_model_module": "@jupyter-widgets/controls",
       "_model_module_version": "1.5.0",
       "_model_name": "ProgressStyleModel",
       "_view_count": null,
       "_view_module": "@jupyter-widgets/base",
       "_view_module_version": "1.2.0",
       "_view_name": "StyleView",
       "bar_color": null,
       "description_width": ""
      }
     },
     "76c3e72b6b6b4bc9b4675b0b5452597c": {
      "model_module": "@jupyter-widgets/controls",
      "model_module_version": "1.5.0",
      "model_name": "HTMLModel",
      "state": {
       "_dom_classes": [],
       "_model_module": "@jupyter-widgets/controls",
       "_model_module_version": "1.5.0",
       "_model_name": "HTMLModel",
       "_view_count": null,
       "_view_module": "@jupyter-widgets/controls",
       "_view_module_version": "1.5.0",
       "_view_name": "HTMLView",
       "description": "",
       "description_tooltip": null,
       "layout": "IPY_MODEL_601c592032034cabb835d7cd4a1fd1e8",
       "placeholder": "​",
       "style": "IPY_MODEL_c300756ea38142feb6233b51c3187795",
       "value": " 112/112 [00:00&lt;00:00, 8.94kB/s]"
      }
     },
     "79feaf56d2d645eda6b07c719e3aa557": {
      "model_module": "@jupyter-widgets/base",
      "model_module_version": "1.2.0",
      "model_name": "LayoutModel",
      "state": {
       "_model_module": "@jupyter-widgets/base",
       "_model_module_version": "1.2.0",
       "_model_name": "LayoutModel",
       "_view_count": null,
       "_view_module": "@jupyter-widgets/base",
       "_view_module_version": "1.2.0",
       "_view_name": "LayoutView",
       "align_content": null,
       "align_items": null,
       "align_self": null,
       "border": null,
       "bottom": null,
       "display": null,
       "flex": null,
       "flex_flow": null,
       "grid_area": null,
       "grid_auto_columns": null,
       "grid_auto_flow": null,
       "grid_auto_rows": null,
       "grid_column": null,
       "grid_gap": null,
       "grid_row": null,
       "grid_template_areas": null,
       "grid_template_columns": null,
       "grid_template_rows": null,
       "height": null,
       "justify_content": null,
       "justify_items": null,
       "left": null,
       "margin": null,
       "max_height": null,
       "max_width": null,
       "min_height": null,
       "min_width": null,
       "object_fit": null,
       "object_position": null,
       "order": null,
       "overflow": null,
       "overflow_x": null,
       "overflow_y": null,
       "padding": null,
       "right": null,
       "top": null,
       "visibility": null,
       "width": null
      }
     },
     "7cb15af953fc489187dde999e09f8e4e": {
      "model_module": "@jupyter-widgets/controls",
      "model_module_version": "1.5.0",
      "model_name": "HTMLModel",
      "state": {
       "_dom_classes": [],
       "_model_module": "@jupyter-widgets/controls",
       "_model_module_version": "1.5.0",
       "_model_name": "HTMLModel",
       "_view_count": null,
       "_view_module": "@jupyter-widgets/controls",
       "_view_module_version": "1.5.0",
       "_view_name": "HTMLView",
       "description": "",
       "description_tooltip": null,
       "layout": "IPY_MODEL_d3b82d6730d44f14a2fddc6456bad864",
       "placeholder": "​",
       "style": "IPY_MODEL_f25b079bca604d5e8ed2d4ef0139d7e1",
       "value": " 758/758 [00:00&lt;00:00, 65.2kB/s]"
      }
     },
     "7dbcc3ca5dd543128ed673ee2299e3dc": {
      "model_module": "@jupyter-widgets/controls",
      "model_module_version": "1.5.0",
      "model_name": "DescriptionStyleModel",
      "state": {
       "_model_module": "@jupyter-widgets/controls",
       "_model_module_version": "1.5.0",
       "_model_name": "DescriptionStyleModel",
       "_view_count": null,
       "_view_module": "@jupyter-widgets/base",
       "_view_module_version": "1.2.0",
       "_view_name": "StyleView",
       "description_width": ""
      }
     },
     "804b195ce82e49adb282b18cbdff9cd9": {
      "model_module": "@jupyter-widgets/base",
      "model_module_version": "1.2.0",
      "model_name": "LayoutModel",
      "state": {
       "_model_module": "@jupyter-widgets/base",
       "_model_module_version": "1.2.0",
       "_model_name": "LayoutModel",
       "_view_count": null,
       "_view_module": "@jupyter-widgets/base",
       "_view_module_version": "1.2.0",
       "_view_name": "LayoutView",
       "align_content": null,
       "align_items": null,
       "align_self": null,
       "border": null,
       "bottom": null,
       "display": null,
       "flex": null,
       "flex_flow": null,
       "grid_area": null,
       "grid_auto_columns": null,
       "grid_auto_flow": null,
       "grid_auto_rows": null,
       "grid_column": null,
       "grid_gap": null,
       "grid_row": null,
       "grid_template_areas": null,
       "grid_template_columns": null,
       "grid_template_rows": null,
       "height": null,
       "justify_content": null,
       "justify_items": null,
       "left": null,
       "margin": null,
       "max_height": null,
       "max_width": null,
       "min_height": null,
       "min_width": null,
       "object_fit": null,
       "object_position": null,
       "order": null,
       "overflow": null,
       "overflow_x": null,
       "overflow_y": null,
       "padding": null,
       "right": null,
       "top": null,
       "visibility": null,
       "width": null
      }
     },
     "828fdc300c7f4913a190391374f6cd65": {
      "model_module": "@jupyter-widgets/controls",
      "model_module_version": "1.5.0",
      "model_name": "HBoxModel",
      "state": {
       "_dom_classes": [],
       "_model_module": "@jupyter-widgets/controls",
       "_model_module_version": "1.5.0",
       "_model_name": "HBoxModel",
       "_view_count": null,
       "_view_module": "@jupyter-widgets/controls",
       "_view_module_version": "1.5.0",
       "_view_name": "HBoxView",
       "box_style": "",
       "children": [
        "IPY_MODEL_62128c4b11044ea496f85012e5ac3c0c",
        "IPY_MODEL_6e158a10a76640c383846b9d234ad7a8",
        "IPY_MODEL_76c3e72b6b6b4bc9b4675b0b5452597c"
       ],
       "layout": "IPY_MODEL_1d10a2b1fc8b403ca6a5e8c4709b960e"
      }
     },
     "8a19b5e2c5b740678cccaee6efaf17ab": {
      "model_module": "@jupyter-widgets/controls",
      "model_module_version": "1.5.0",
      "model_name": "HBoxModel",
      "state": {
       "_dom_classes": [],
       "_model_module": "@jupyter-widgets/controls",
       "_model_module_version": "1.5.0",
       "_model_name": "HBoxModel",
       "_view_count": null,
       "_view_module": "@jupyter-widgets/controls",
       "_view_module_version": "1.5.0",
       "_view_name": "HBoxView",
       "box_style": "",
       "children": [
        "IPY_MODEL_b252e99081084743bef9b007e0371b77",
        "IPY_MODEL_6231dd87341c408b84a9c48c5d4c42bc",
        "IPY_MODEL_60f27c0d3003444aa42caf023b0cc57c"
       ],
       "layout": "IPY_MODEL_c6394541ff1d4220a7a1b9779dd51609"
      }
     },
     "8b21057e75e8461ba1d7c08e23e6d0b7": {
      "model_module": "@jupyter-widgets/base",
      "model_module_version": "1.2.0",
      "model_name": "LayoutModel",
      "state": {
       "_model_module": "@jupyter-widgets/base",
       "_model_module_version": "1.2.0",
       "_model_name": "LayoutModel",
       "_view_count": null,
       "_view_module": "@jupyter-widgets/base",
       "_view_module_version": "1.2.0",
       "_view_name": "LayoutView",
       "align_content": null,
       "align_items": null,
       "align_self": null,
       "border": null,
       "bottom": null,
       "display": null,
       "flex": null,
       "flex_flow": null,
       "grid_area": null,
       "grid_auto_columns": null,
       "grid_auto_flow": null,
       "grid_auto_rows": null,
       "grid_column": null,
       "grid_gap": null,
       "grid_row": null,
       "grid_template_areas": null,
       "grid_template_columns": null,
       "grid_template_rows": null,
       "height": null,
       "justify_content": null,
       "justify_items": null,
       "left": null,
       "margin": null,
       "max_height": null,
       "max_width": null,
       "min_height": null,
       "min_width": null,
       "object_fit": null,
       "object_position": null,
       "order": null,
       "overflow": null,
       "overflow_x": null,
       "overflow_y": null,
       "padding": null,
       "right": null,
       "top": null,
       "visibility": null,
       "width": null
      }
     },
     "8c20551540584bd2bc7da6b7c24bd80f": {
      "model_module": "@jupyter-widgets/controls",
      "model_module_version": "1.5.0",
      "model_name": "HTMLModel",
      "state": {
       "_dom_classes": [],
       "_model_module": "@jupyter-widgets/controls",
       "_model_module_version": "1.5.0",
       "_model_name": "HTMLModel",
       "_view_count": null,
       "_view_module": "@jupyter-widgets/controls",
       "_view_module_version": "1.5.0",
       "_view_name": "HTMLView",
       "description": "",
       "description_tooltip": null,
       "layout": "IPY_MODEL_bdcd1d807b5e4d75aad98cea680cf7e1",
       "placeholder": "​",
       "style": "IPY_MODEL_d02dbe2efb3b46eab7debed3fb01ad62",
       "value": " 535/535 [00:00&lt;00:00, 3979.18 examples/s]"
      }
     },
     "8dc7a59d329f428d9e706296b68dad0a": {
      "model_module": "@jupyter-widgets/controls",
      "model_module_version": "1.5.0",
      "model_name": "DescriptionStyleModel",
      "state": {
       "_model_module": "@jupyter-widgets/controls",
       "_model_module_version": "1.5.0",
       "_model_name": "DescriptionStyleModel",
       "_view_count": null,
       "_view_module": "@jupyter-widgets/base",
       "_view_module_version": "1.2.0",
       "_view_name": "StyleView",
       "description_width": ""
      }
     },
     "9246474dfdcd41839a6304089d4bdf11": {
      "model_module": "@jupyter-widgets/controls",
      "model_module_version": "1.5.0",
      "model_name": "FloatProgressModel",
      "state": {
       "_dom_classes": [],
       "_model_module": "@jupyter-widgets/controls",
       "_model_module_version": "1.5.0",
       "_model_name": "FloatProgressModel",
       "_view_count": null,
       "_view_module": "@jupyter-widgets/controls",
       "_view_module_version": "1.5.0",
       "_view_name": "ProgressView",
       "bar_style": "success",
       "description": "",
       "description_tooltip": null,
       "layout": "IPY_MODEL_fb9598498bea475b902ef9ceeb58bac1",
       "max": 252.0,
       "min": 0.0,
       "orientation": "horizontal",
       "style": "IPY_MODEL_19636662251f4ffa805ca71b800196fe",
       "value": 252.0
      }
     },
     "988cc734eaac4cd0a56e7ca4b570cf46": {
      "model_module": "@jupyter-widgets/controls",
      "model_module_version": "1.5.0",
      "model_name": "HTMLModel",
      "state": {
       "_dom_classes": [],
       "_model_module": "@jupyter-widgets/controls",
       "_model_module_version": "1.5.0",
       "_model_name": "HTMLModel",
       "_view_count": null,
       "_view_module": "@jupyter-widgets/controls",
       "_view_module_version": "1.5.0",
       "_view_name": "HTMLView",
       "description": "",
       "description_tooltip": null,
       "layout": "IPY_MODEL_d30ef36fdbb146c19e2e9e271aec6d48",
       "placeholder": "​",
       "style": "IPY_MODEL_eae8648f820b4cf3bffaa9d0397f8e1b",
       "value": " 232k/232k [00:00&lt;00:00, 5.17MB/s]"
      }
     },
     "a380ea095d024b0db9fc355885faafdc": {
      "model_module": "@jupyter-widgets/base",
      "model_module_version": "1.2.0",
      "model_name": "LayoutModel",
      "state": {
       "_model_module": "@jupyter-widgets/base",
       "_model_module_version": "1.2.0",
       "_model_name": "LayoutModel",
       "_view_count": null,
       "_view_module": "@jupyter-widgets/base",
       "_view_module_version": "1.2.0",
       "_view_name": "LayoutView",
       "align_content": null,
       "align_items": null,
       "align_self": null,
       "border": null,
       "bottom": null,
       "display": null,
       "flex": null,
       "flex_flow": null,
       "grid_area": null,
       "grid_auto_columns": null,
       "grid_auto_flow": null,
       "grid_auto_rows": null,
       "grid_column": null,
       "grid_gap": null,
       "grid_row": null,
       "grid_template_areas": null,
       "grid_template_columns": null,
       "grid_template_rows": null,
       "height": null,
       "justify_content": null,
       "justify_items": null,
       "left": null,
       "margin": null,
       "max_height": null,
       "max_width": null,
       "min_height": null,
       "min_width": null,
       "object_fit": null,
       "object_position": null,
       "order": null,
       "overflow": null,
       "overflow_x": null,
       "overflow_y": null,
       "padding": null,
       "right": null,
       "top": null,
       "visibility": null,
       "width": null
      }
     },
     "a5c21a15c5ff4e059b696f494f9d413b": {
      "model_module": "@jupyter-widgets/controls",
      "model_module_version": "1.5.0",
      "model_name": "DescriptionStyleModel",
      "state": {
       "_model_module": "@jupyter-widgets/controls",
       "_model_module_version": "1.5.0",
       "_model_name": "DescriptionStyleModel",
       "_view_count": null,
       "_view_module": "@jupyter-widgets/base",
       "_view_module_version": "1.2.0",
       "_view_name": "StyleView",
       "description_width": ""
      }
     },
     "a87d7e99aea14b3ba224de8d0a1686cb": {
      "model_module": "@jupyter-widgets/controls",
      "model_module_version": "1.5.0",
      "model_name": "DescriptionStyleModel",
      "state": {
       "_model_module": "@jupyter-widgets/controls",
       "_model_module_version": "1.5.0",
       "_model_name": "DescriptionStyleModel",
       "_view_count": null,
       "_view_module": "@jupyter-widgets/base",
       "_view_module_version": "1.2.0",
       "_view_name": "StyleView",
       "description_width": ""
      }
     },
     "ac470b1c82794633a7d3f95e5c7a93df": {
      "model_module": "@jupyter-widgets/controls",
      "model_module_version": "1.5.0",
      "model_name": "HBoxModel",
      "state": {
       "_dom_classes": [],
       "_model_module": "@jupyter-widgets/controls",
       "_model_module_version": "1.5.0",
       "_model_name": "HBoxModel",
       "_view_count": null,
       "_view_module": "@jupyter-widgets/controls",
       "_view_module_version": "1.5.0",
       "_view_name": "HBoxView",
       "box_style": "",
       "children": [
        "IPY_MODEL_3a768b9cefce49899f378babe8c692bb",
        "IPY_MODEL_f569721c4d234b5e869131f586f618ed",
        "IPY_MODEL_8c20551540584bd2bc7da6b7c24bd80f"
       ],
       "layout": "IPY_MODEL_01ccebf1246047869925bc2adf07c4f7"
      }
     },
     "b1d68a1a6ef7406195dc688995f3b2d4": {
      "model_module": "@jupyter-widgets/controls",
      "model_module_version": "1.5.0",
      "model_name": "HTMLModel",
      "state": {
       "_dom_classes": [],
       "_model_module": "@jupyter-widgets/controls",
       "_model_module_version": "1.5.0",
       "_model_name": "HTMLModel",
       "_view_count": null,
       "_view_module": "@jupyter-widgets/controls",
       "_view_module_version": "1.5.0",
       "_view_name": "HTMLView",
       "description": "",
       "description_tooltip": null,
       "layout": "IPY_MODEL_216d4b6a2ac7452ab62bb8ef643c3fad",
       "placeholder": "​",
       "style": "IPY_MODEL_15d08dddfa0d47beb08f0721b4f8f045",
       "value": "config.json: 100%"
      }
     },
     "b252e99081084743bef9b007e0371b77": {
      "model_module": "@jupyter-widgets/controls",
      "model_module_version": "1.5.0",
      "model_name": "HTMLModel",
      "state": {
       "_dom_classes": [],
       "_model_module": "@jupyter-widgets/controls",
       "_model_module_version": "1.5.0",
       "_model_name": "HTMLModel",
       "_view_count": null,
       "_view_module": "@jupyter-widgets/controls",
       "_view_module_version": "1.5.0",
       "_view_name": "HTMLView",
       "description": "",
       "description_tooltip": null,
       "layout": "IPY_MODEL_5ef45f34f79d414ba5b66716cba6e0f1",
       "placeholder": "​",
       "style": "IPY_MODEL_f158b96dc3844c02a8eae17d2474a388",
       "value": "pytorch_model.bin: 100%"
      }
     },
     "b5410ea40131429ab4cc70559f16aa49": {
      "model_module": "@jupyter-widgets/controls",
      "model_module_version": "1.5.0",
      "model_name": "HBoxModel",
      "state": {
       "_dom_classes": [],
       "_model_module": "@jupyter-widgets/controls",
       "_model_module_version": "1.5.0",
       "_model_name": "HBoxModel",
       "_view_count": null,
       "_view_module": "@jupyter-widgets/controls",
       "_view_module_version": "1.5.0",
       "_view_name": "HBoxView",
       "box_style": "",
       "children": [
        "IPY_MODEL_b1d68a1a6ef7406195dc688995f3b2d4",
        "IPY_MODEL_20af21cdabc74047b79a8a115c52e407",
        "IPY_MODEL_7cb15af953fc489187dde999e09f8e4e"
       ],
       "layout": "IPY_MODEL_65537c3533974951852266f8b5082173"
      }
     },
     "b5ace40a164a4034977efb668a4c5922": {
      "model_module": "@jupyter-widgets/base",
      "model_module_version": "1.2.0",
      "model_name": "LayoutModel",
      "state": {
       "_model_module": "@jupyter-widgets/base",
       "_model_module_version": "1.2.0",
       "_model_name": "LayoutModel",
       "_view_count": null,
       "_view_module": "@jupyter-widgets/base",
       "_view_module_version": "1.2.0",
       "_view_name": "LayoutView",
       "align_content": null,
       "align_items": null,
       "align_self": null,
       "border": null,
       "bottom": null,
       "display": null,
       "flex": null,
       "flex_flow": null,
       "grid_area": null,
       "grid_auto_columns": null,
       "grid_auto_flow": null,
       "grid_auto_rows": null,
       "grid_column": null,
       "grid_gap": null,
       "grid_row": null,
       "grid_template_areas": null,
       "grid_template_columns": null,
       "grid_template_rows": null,
       "height": null,
       "justify_content": null,
       "justify_items": null,
       "left": null,
       "margin": null,
       "max_height": null,
       "max_width": null,
       "min_height": null,
       "min_width": null,
       "object_fit": null,
       "object_position": null,
       "order": null,
       "overflow": null,
       "overflow_x": null,
       "overflow_y": null,
       "padding": null,
       "right": null,
       "top": null,
       "visibility": null,
       "width": null
      }
     },
     "b6d9a9abfec74707a21fff6d496e6e72": {
      "model_module": "@jupyter-widgets/controls",
      "model_module_version": "1.5.0",
      "model_name": "ProgressStyleModel",
      "state": {
       "_model_module": "@jupyter-widgets/controls",
       "_model_module_version": "1.5.0",
       "_model_name": "ProgressStyleModel",
       "_view_count": null,
       "_view_module": "@jupyter-widgets/base",
       "_view_module_version": "1.2.0",
       "_view_name": "StyleView",
       "bar_color": null,
       "description_width": ""
      }
     },
     "ba8170f9adc341a4b4529f02acb13c8d": {
      "model_module": "@jupyter-widgets/base",
      "model_module_version": "1.2.0",
      "model_name": "LayoutModel",
      "state": {
       "_model_module": "@jupyter-widgets/base",
       "_model_module_version": "1.2.0",
       "_model_name": "LayoutModel",
       "_view_count": null,
       "_view_module": "@jupyter-widgets/base",
       "_view_module_version": "1.2.0",
       "_view_name": "LayoutView",
       "align_content": null,
       "align_items": null,
       "align_self": null,
       "border": null,
       "bottom": null,
       "display": null,
       "flex": null,
       "flex_flow": null,
       "grid_area": null,
       "grid_auto_columns": null,
       "grid_auto_flow": null,
       "grid_auto_rows": null,
       "grid_column": null,
       "grid_gap": null,
       "grid_row": null,
       "grid_template_areas": null,
       "grid_template_columns": null,
       "grid_template_rows": null,
       "height": null,
       "justify_content": null,
       "justify_items": null,
       "left": null,
       "margin": null,
       "max_height": null,
       "max_width": null,
       "min_height": null,
       "min_width": null,
       "object_fit": null,
       "object_position": null,
       "order": null,
       "overflow": null,
       "overflow_x": null,
       "overflow_y": null,
       "padding": null,
       "right": null,
       "top": null,
       "visibility": null,
       "width": null
      }
     },
     "bbb43d1890164e60a8656d69f4b1adfe": {
      "model_module": "@jupyter-widgets/controls",
      "model_module_version": "1.5.0",
      "model_name": "FloatProgressModel",
      "state": {
       "_dom_classes": [],
       "_model_module": "@jupyter-widgets/controls",
       "_model_module_version": "1.5.0",
       "_model_name": "FloatProgressModel",
       "_view_count": null,
       "_view_module": "@jupyter-widgets/controls",
       "_view_module_version": "1.5.0",
       "_view_name": "ProgressView",
       "bar_style": "success",
       "description": "",
       "description_tooltip": null,
       "layout": "IPY_MODEL_248d252cd60541bfaf5e07bc1840fafa",
       "max": 231508.0,
       "min": 0.0,
       "orientation": "horizontal",
       "style": "IPY_MODEL_74ef08e788524471912923bcb3985d9c",
       "value": 231508.0
      }
     },
     "bdcd1d807b5e4d75aad98cea680cf7e1": {
      "model_module": "@jupyter-widgets/base",
      "model_module_version": "1.2.0",
      "model_name": "LayoutModel",
      "state": {
       "_model_module": "@jupyter-widgets/base",
       "_model_module_version": "1.2.0",
       "_model_name": "LayoutModel",
       "_view_count": null,
       "_view_module": "@jupyter-widgets/base",
       "_view_module_version": "1.2.0",
       "_view_name": "LayoutView",
       "align_content": null,
       "align_items": null,
       "align_self": null,
       "border": null,
       "bottom": null,
       "display": null,
       "flex": null,
       "flex_flow": null,
       "grid_area": null,
       "grid_auto_columns": null,
       "grid_auto_flow": null,
       "grid_auto_rows": null,
       "grid_column": null,
       "grid_gap": null,
       "grid_row": null,
       "grid_template_areas": null,
       "grid_template_columns": null,
       "grid_template_rows": null,
       "height": null,
       "justify_content": null,
       "justify_items": null,
       "left": null,
       "margin": null,
       "max_height": null,
       "max_width": null,
       "min_height": null,
       "min_width": null,
       "object_fit": null,
       "object_position": null,
       "order": null,
       "overflow": null,
       "overflow_x": null,
       "overflow_y": null,
       "padding": null,
       "right": null,
       "top": null,
       "visibility": null,
       "width": null
      }
     },
     "bf7bc649a4d4487f806171eebc9245bb": {
      "model_module": "@jupyter-widgets/base",
      "model_module_version": "1.2.0",
      "model_name": "LayoutModel",
      "state": {
       "_model_module": "@jupyter-widgets/base",
       "_model_module_version": "1.2.0",
       "_model_name": "LayoutModel",
       "_view_count": null,
       "_view_module": "@jupyter-widgets/base",
       "_view_module_version": "1.2.0",
       "_view_name": "LayoutView",
       "align_content": null,
       "align_items": null,
       "align_self": null,
       "border": null,
       "bottom": null,
       "display": null,
       "flex": null,
       "flex_flow": null,
       "grid_area": null,
       "grid_auto_columns": null,
       "grid_auto_flow": null,
       "grid_auto_rows": null,
       "grid_column": null,
       "grid_gap": null,
       "grid_row": null,
       "grid_template_areas": null,
       "grid_template_columns": null,
       "grid_template_rows": null,
       "height": null,
       "justify_content": null,
       "justify_items": null,
       "left": null,
       "margin": null,
       "max_height": null,
       "max_width": null,
       "min_height": null,
       "min_width": null,
       "object_fit": null,
       "object_position": null,
       "order": null,
       "overflow": null,
       "overflow_x": null,
       "overflow_y": null,
       "padding": null,
       "right": null,
       "top": null,
       "visibility": null,
       "width": null
      }
     },
     "c300756ea38142feb6233b51c3187795": {
      "model_module": "@jupyter-widgets/controls",
      "model_module_version": "1.5.0",
      "model_name": "DescriptionStyleModel",
      "state": {
       "_model_module": "@jupyter-widgets/controls",
       "_model_module_version": "1.5.0",
       "_model_name": "DescriptionStyleModel",
       "_view_count": null,
       "_view_module": "@jupyter-widgets/base",
       "_view_module_version": "1.2.0",
       "_view_name": "StyleView",
       "description_width": ""
      }
     },
     "c6394541ff1d4220a7a1b9779dd51609": {
      "model_module": "@jupyter-widgets/base",
      "model_module_version": "1.2.0",
      "model_name": "LayoutModel",
      "state": {
       "_model_module": "@jupyter-widgets/base",
       "_model_module_version": "1.2.0",
       "_model_name": "LayoutModel",
       "_view_count": null,
       "_view_module": "@jupyter-widgets/base",
       "_view_module_version": "1.2.0",
       "_view_name": "LayoutView",
       "align_content": null,
       "align_items": null,
       "align_self": null,
       "border": null,
       "bottom": null,
       "display": null,
       "flex": null,
       "flex_flow": null,
       "grid_area": null,
       "grid_auto_columns": null,
       "grid_auto_flow": null,
       "grid_auto_rows": null,
       "grid_column": null,
       "grid_gap": null,
       "grid_row": null,
       "grid_template_areas": null,
       "grid_template_columns": null,
       "grid_template_rows": null,
       "height": null,
       "justify_content": null,
       "justify_items": null,
       "left": null,
       "margin": null,
       "max_height": null,
       "max_width": null,
       "min_height": null,
       "min_width": null,
       "object_fit": null,
       "object_position": null,
       "order": null,
       "overflow": null,
       "overflow_x": null,
       "overflow_y": null,
       "padding": null,
       "right": null,
       "top": null,
       "visibility": null,
       "width": null
      }
     },
     "ca7c80c8d35e4f8085eb343ab61138ad": {
      "model_module": "@jupyter-widgets/controls",
      "model_module_version": "1.5.0",
      "model_name": "ProgressStyleModel",
      "state": {
       "_model_module": "@jupyter-widgets/controls",
       "_model_module_version": "1.5.0",
       "_model_name": "ProgressStyleModel",
       "_view_count": null,
       "_view_module": "@jupyter-widgets/base",
       "_view_module_version": "1.2.0",
       "_view_name": "StyleView",
       "bar_color": null,
       "description_width": ""
      }
     },
     "cd3eceb9dcce4be29c4827ca1d9b425a": {
      "model_module": "@jupyter-widgets/controls",
      "model_module_version": "1.5.0",
      "model_name": "HTMLModel",
      "state": {
       "_dom_classes": [],
       "_model_module": "@jupyter-widgets/controls",
       "_model_module_version": "1.5.0",
       "_model_name": "HTMLModel",
       "_view_count": null,
       "_view_module": "@jupyter-widgets/controls",
       "_view_module_version": "1.5.0",
       "_view_name": "HTMLView",
       "description": "",
       "description_tooltip": null,
       "layout": "IPY_MODEL_a380ea095d024b0db9fc355885faafdc",
       "placeholder": "​",
       "style": "IPY_MODEL_f79a5b0ebe274072b2db833b025de194",
       "value": " 3780/3780 [00:00&lt;00:00, 4306.26 examples/s]"
      }
     },
     "d02dbe2efb3b46eab7debed3fb01ad62": {
      "model_module": "@jupyter-widgets/controls",
      "model_module_version": "1.5.0",
      "model_name": "DescriptionStyleModel",
      "state": {
       "_model_module": "@jupyter-widgets/controls",
       "_model_module_version": "1.5.0",
       "_model_name": "DescriptionStyleModel",
       "_view_count": null,
       "_view_module": "@jupyter-widgets/base",
       "_view_module_version": "1.2.0",
       "_view_name": "StyleView",
       "description_width": ""
      }
     },
     "d30ef36fdbb146c19e2e9e271aec6d48": {
      "model_module": "@jupyter-widgets/base",
      "model_module_version": "1.2.0",
      "model_name": "LayoutModel",
      "state": {
       "_model_module": "@jupyter-widgets/base",
       "_model_module_version": "1.2.0",
       "_model_name": "LayoutModel",
       "_view_count": null,
       "_view_module": "@jupyter-widgets/base",
       "_view_module_version": "1.2.0",
       "_view_name": "LayoutView",
       "align_content": null,
       "align_items": null,
       "align_self": null,
       "border": null,
       "bottom": null,
       "display": null,
       "flex": null,
       "flex_flow": null,
       "grid_area": null,
       "grid_auto_columns": null,
       "grid_auto_flow": null,
       "grid_auto_rows": null,
       "grid_column": null,
       "grid_gap": null,
       "grid_row": null,
       "grid_template_areas": null,
       "grid_template_columns": null,
       "grid_template_rows": null,
       "height": null,
       "justify_content": null,
       "justify_items": null,
       "left": null,
       "margin": null,
       "max_height": null,
       "max_width": null,
       "min_height": null,
       "min_width": null,
       "object_fit": null,
       "object_position": null,
       "order": null,
       "overflow": null,
       "overflow_x": null,
       "overflow_y": null,
       "padding": null,
       "right": null,
       "top": null,
       "visibility": null,
       "width": null
      }
     },
     "d3b82d6730d44f14a2fddc6456bad864": {
      "model_module": "@jupyter-widgets/base",
      "model_module_version": "1.2.0",
      "model_name": "LayoutModel",
      "state": {
       "_model_module": "@jupyter-widgets/base",
       "_model_module_version": "1.2.0",
       "_model_name": "LayoutModel",
       "_view_count": null,
       "_view_module": "@jupyter-widgets/base",
       "_view_module_version": "1.2.0",
       "_view_name": "LayoutView",
       "align_content": null,
       "align_items": null,
       "align_self": null,
       "border": null,
       "bottom": null,
       "display": null,
       "flex": null,
       "flex_flow": null,
       "grid_area": null,
       "grid_auto_columns": null,
       "grid_auto_flow": null,
       "grid_auto_rows": null,
       "grid_column": null,
       "grid_gap": null,
       "grid_row": null,
       "grid_template_areas": null,
       "grid_template_columns": null,
       "grid_template_rows": null,
       "height": null,
       "justify_content": null,
       "justify_items": null,
       "left": null,
       "margin": null,
       "max_height": null,
       "max_width": null,
       "min_height": null,
       "min_width": null,
       "object_fit": null,
       "object_position": null,
       "order": null,
       "overflow": null,
       "overflow_x": null,
       "overflow_y": null,
       "padding": null,
       "right": null,
       "top": null,
       "visibility": null,
       "width": null
      }
     },
     "d67b0f27d4044cf9b92d5d029a5a5070": {
      "model_module": "@jupyter-widgets/base",
      "model_module_version": "1.2.0",
      "model_name": "LayoutModel",
      "state": {
       "_model_module": "@jupyter-widgets/base",
       "_model_module_version": "1.2.0",
       "_model_name": "LayoutModel",
       "_view_count": null,
       "_view_module": "@jupyter-widgets/base",
       "_view_module_version": "1.2.0",
       "_view_name": "LayoutView",
       "align_content": null,
       "align_items": null,
       "align_self": null,
       "border": null,
       "bottom": null,
       "display": null,
       "flex": null,
       "flex_flow": null,
       "grid_area": null,
       "grid_auto_columns": null,
       "grid_auto_flow": null,
       "grid_auto_rows": null,
       "grid_column": null,
       "grid_gap": null,
       "grid_row": null,
       "grid_template_areas": null,
       "grid_template_columns": null,
       "grid_template_rows": null,
       "height": null,
       "justify_content": null,
       "justify_items": null,
       "left": null,
       "margin": null,
       "max_height": null,
       "max_width": null,
       "min_height": null,
       "min_width": null,
       "object_fit": null,
       "object_position": null,
       "order": null,
       "overflow": null,
       "overflow_x": null,
       "overflow_y": null,
       "padding": null,
       "right": null,
       "top": null,
       "visibility": null,
       "width": null
      }
     },
     "df38bbcce31343159642226713736e3b": {
      "model_module": "@jupyter-widgets/base",
      "model_module_version": "1.2.0",
      "model_name": "LayoutModel",
      "state": {
       "_model_module": "@jupyter-widgets/base",
       "_model_module_version": "1.2.0",
       "_model_name": "LayoutModel",
       "_view_count": null,
       "_view_module": "@jupyter-widgets/base",
       "_view_module_version": "1.2.0",
       "_view_name": "LayoutView",
       "align_content": null,
       "align_items": null,
       "align_self": null,
       "border": null,
       "bottom": null,
       "display": null,
       "flex": null,
       "flex_flow": null,
       "grid_area": null,
       "grid_auto_columns": null,
       "grid_auto_flow": null,
       "grid_auto_rows": null,
       "grid_column": null,
       "grid_gap": null,
       "grid_row": null,
       "grid_template_areas": null,
       "grid_template_columns": null,
       "grid_template_rows": null,
       "height": null,
       "justify_content": null,
       "justify_items": null,
       "left": null,
       "margin": null,
       "max_height": null,
       "max_width": null,
       "min_height": null,
       "min_width": null,
       "object_fit": null,
       "object_position": null,
       "order": null,
       "overflow": null,
       "overflow_x": null,
       "overflow_y": null,
       "padding": null,
       "right": null,
       "top": null,
       "visibility": null,
       "width": null
      }
     },
     "e208f27fd09e4e878067d0a41f236cf7": {
      "model_module": "@jupyter-widgets/controls",
      "model_module_version": "1.5.0",
      "model_name": "HBoxModel",
      "state": {
       "_dom_classes": [],
       "_model_module": "@jupyter-widgets/controls",
       "_model_module_version": "1.5.0",
       "_model_name": "HBoxModel",
       "_view_count": null,
       "_view_module": "@jupyter-widgets/controls",
       "_view_module_version": "1.5.0",
       "_view_name": "HBoxView",
       "box_style": "",
       "children": [
        "IPY_MODEL_13c8974a3ef9401fa8765d2855e465c2",
        "IPY_MODEL_e7ab17f486554b82b2e875447bb76fb8",
        "IPY_MODEL_cd3eceb9dcce4be29c4827ca1d9b425a"
       ],
       "layout": "IPY_MODEL_ba8170f9adc341a4b4529f02acb13c8d"
      }
     },
     "e411795727bc4a17b925d9c967e86ea2": {
      "model_module": "@jupyter-widgets/controls",
      "model_module_version": "1.5.0",
      "model_name": "DescriptionStyleModel",
      "state": {
       "_model_module": "@jupyter-widgets/controls",
       "_model_module_version": "1.5.0",
       "_model_name": "DescriptionStyleModel",
       "_view_count": null,
       "_view_module": "@jupyter-widgets/base",
       "_view_module_version": "1.2.0",
       "_view_name": "StyleView",
       "description_width": ""
      }
     },
     "e63c5b1e38564d36af0356cabf258376": {
      "model_module": "@jupyter-widgets/controls",
      "model_module_version": "1.5.0",
      "model_name": "HBoxModel",
      "state": {
       "_dom_classes": [],
       "_model_module": "@jupyter-widgets/controls",
       "_model_module_version": "1.5.0",
       "_model_name": "HBoxModel",
       "_view_count": null,
       "_view_module": "@jupyter-widgets/controls",
       "_view_module_version": "1.5.0",
       "_view_name": "HBoxView",
       "box_style": "",
       "children": [
        "IPY_MODEL_24e3f342bea44527a895e73860a2dd7c",
        "IPY_MODEL_bbb43d1890164e60a8656d69f4b1adfe",
        "IPY_MODEL_988cc734eaac4cd0a56e7ca4b570cf46"
       ],
       "layout": "IPY_MODEL_fd9043421cc84d28b8b077a0e30ab663"
      }
     },
     "e7ab17f486554b82b2e875447bb76fb8": {
      "model_module": "@jupyter-widgets/controls",
      "model_module_version": "1.5.0",
      "model_name": "FloatProgressModel",
      "state": {
       "_dom_classes": [],
       "_model_module": "@jupyter-widgets/controls",
       "_model_module_version": "1.5.0",
       "_model_name": "FloatProgressModel",
       "_view_count": null,
       "_view_module": "@jupyter-widgets/controls",
       "_view_module_version": "1.5.0",
       "_view_name": "ProgressView",
       "bar_style": "success",
       "description": "",
       "description_tooltip": null,
       "layout": "IPY_MODEL_16905e189a044ccaa8ce0b91044de9c1",
       "max": 3780.0,
       "min": 0.0,
       "orientation": "horizontal",
       "style": "IPY_MODEL_edb7d2809b7d4743abec3b86e81894ec",
       "value": 3780.0
      }
     },
     "e923f6c0854b4e0caa2a0f35e8c510c1": {
      "model_module": "@jupyter-widgets/base",
      "model_module_version": "1.2.0",
      "model_name": "LayoutModel",
      "state": {
       "_model_module": "@jupyter-widgets/base",
       "_model_module_version": "1.2.0",
       "_model_name": "LayoutModel",
       "_view_count": null,
       "_view_module": "@jupyter-widgets/base",
       "_view_module_version": "1.2.0",
       "_view_name": "LayoutView",
       "align_content": null,
       "align_items": null,
       "align_self": null,
       "border": null,
       "bottom": null,
       "display": null,
       "flex": null,
       "flex_flow": null,
       "grid_area": null,
       "grid_auto_columns": null,
       "grid_auto_flow": null,
       "grid_auto_rows": null,
       "grid_column": null,
       "grid_gap": null,
       "grid_row": null,
       "grid_template_areas": null,
       "grid_template_columns": null,
       "grid_template_rows": null,
       "height": null,
       "justify_content": null,
       "justify_items": null,
       "left": null,
       "margin": null,
       "max_height": null,
       "max_width": null,
       "min_height": null,
       "min_width": null,
       "object_fit": null,
       "object_position": null,
       "order": null,
       "overflow": null,
       "overflow_x": null,
       "overflow_y": null,
       "padding": null,
       "right": null,
       "top": null,
       "visibility": null,
       "width": null
      }
     },
     "eae8648f820b4cf3bffaa9d0397f8e1b": {
      "model_module": "@jupyter-widgets/controls",
      "model_module_version": "1.5.0",
      "model_name": "DescriptionStyleModel",
      "state": {
       "_model_module": "@jupyter-widgets/controls",
       "_model_module_version": "1.5.0",
       "_model_name": "DescriptionStyleModel",
       "_view_count": null,
       "_view_module": "@jupyter-widgets/base",
       "_view_module_version": "1.2.0",
       "_view_name": "StyleView",
       "description_width": ""
      }
     },
     "edb7d2809b7d4743abec3b86e81894ec": {
      "model_module": "@jupyter-widgets/controls",
      "model_module_version": "1.5.0",
      "model_name": "ProgressStyleModel",
      "state": {
       "_model_module": "@jupyter-widgets/controls",
       "_model_module_version": "1.5.0",
       "_model_name": "ProgressStyleModel",
       "_view_count": null,
       "_view_module": "@jupyter-widgets/base",
       "_view_module_version": "1.2.0",
       "_view_name": "StyleView",
       "bar_color": null,
       "description_width": ""
      }
     },
     "eedbf0a425e848ff8fd01cf1b5da6315": {
      "model_module": "@jupyter-widgets/controls",
      "model_module_version": "1.5.0",
      "model_name": "DescriptionStyleModel",
      "state": {
       "_model_module": "@jupyter-widgets/controls",
       "_model_module_version": "1.5.0",
       "_model_name": "DescriptionStyleModel",
       "_view_count": null,
       "_view_module": "@jupyter-widgets/base",
       "_view_module_version": "1.2.0",
       "_view_name": "StyleView",
       "description_width": ""
      }
     },
     "f158b96dc3844c02a8eae17d2474a388": {
      "model_module": "@jupyter-widgets/controls",
      "model_module_version": "1.5.0",
      "model_name": "DescriptionStyleModel",
      "state": {
       "_model_module": "@jupyter-widgets/controls",
       "_model_module_version": "1.5.0",
       "_model_name": "DescriptionStyleModel",
       "_view_count": null,
       "_view_module": "@jupyter-widgets/base",
       "_view_module_version": "1.2.0",
       "_view_name": "StyleView",
       "description_width": ""
      }
     },
     "f25b079bca604d5e8ed2d4ef0139d7e1": {
      "model_module": "@jupyter-widgets/controls",
      "model_module_version": "1.5.0",
      "model_name": "DescriptionStyleModel",
      "state": {
       "_model_module": "@jupyter-widgets/controls",
       "_model_module_version": "1.5.0",
       "_model_name": "DescriptionStyleModel",
       "_view_count": null,
       "_view_module": "@jupyter-widgets/base",
       "_view_module_version": "1.2.0",
       "_view_name": "StyleView",
       "description_width": ""
      }
     },
     "f498aac2baf647e2ac1abda6d7ea6d32": {
      "model_module": "@jupyter-widgets/controls",
      "model_module_version": "1.5.0",
      "model_name": "DescriptionStyleModel",
      "state": {
       "_model_module": "@jupyter-widgets/controls",
       "_model_module_version": "1.5.0",
       "_model_name": "DescriptionStyleModel",
       "_view_count": null,
       "_view_module": "@jupyter-widgets/base",
       "_view_module_version": "1.2.0",
       "_view_name": "StyleView",
       "description_width": ""
      }
     },
     "f569721c4d234b5e869131f586f618ed": {
      "model_module": "@jupyter-widgets/controls",
      "model_module_version": "1.5.0",
      "model_name": "FloatProgressModel",
      "state": {
       "_dom_classes": [],
       "_model_module": "@jupyter-widgets/controls",
       "_model_module_version": "1.5.0",
       "_model_name": "FloatProgressModel",
       "_view_count": null,
       "_view_module": "@jupyter-widgets/controls",
       "_view_module_version": "1.5.0",
       "_view_name": "ProgressView",
       "bar_style": "success",
       "description": "",
       "description_tooltip": null,
       "layout": "IPY_MODEL_0f2ed979f4484344998858a43ee885de",
       "max": 535.0,
       "min": 0.0,
       "orientation": "horizontal",
       "style": "IPY_MODEL_b6d9a9abfec74707a21fff6d496e6e72",
       "value": 535.0
      }
     },
     "f6219ae580e243c09759a3137eb4713c": {
      "model_module": "@jupyter-widgets/controls",
      "model_module_version": "1.5.0",
      "model_name": "FloatProgressModel",
      "state": {
       "_dom_classes": [],
       "_model_module": "@jupyter-widgets/controls",
       "_model_module_version": "1.5.0",
       "_model_name": "FloatProgressModel",
       "_view_count": null,
       "_view_module": "@jupyter-widgets/controls",
       "_view_module_version": "1.5.0",
       "_view_name": "ProgressView",
       "bar_style": "success",
       "description": "",
       "description_tooltip": null,
       "layout": "IPY_MODEL_e923f6c0854b4e0caa2a0f35e8c510c1",
       "max": 1086.0,
       "min": 0.0,
       "orientation": "horizontal",
       "style": "IPY_MODEL_024baa4cc9e24783ad268c51c75acd40",
       "value": 1086.0
      }
     },
     "f79a5b0ebe274072b2db833b025de194": {
      "model_module": "@jupyter-widgets/controls",
      "model_module_version": "1.5.0",
      "model_name": "DescriptionStyleModel",
      "state": {
       "_model_module": "@jupyter-widgets/controls",
       "_model_module_version": "1.5.0",
       "_model_name": "DescriptionStyleModel",
       "_view_count": null,
       "_view_module": "@jupyter-widgets/base",
       "_view_module_version": "1.2.0",
       "_view_name": "StyleView",
       "description_width": ""
      }
     },
     "fb9598498bea475b902ef9ceeb58bac1": {
      "model_module": "@jupyter-widgets/base",
      "model_module_version": "1.2.0",
      "model_name": "LayoutModel",
      "state": {
       "_model_module": "@jupyter-widgets/base",
       "_model_module_version": "1.2.0",
       "_model_name": "LayoutModel",
       "_view_count": null,
       "_view_module": "@jupyter-widgets/base",
       "_view_module_version": "1.2.0",
       "_view_name": "LayoutView",
       "align_content": null,
       "align_items": null,
       "align_self": null,
       "border": null,
       "bottom": null,
       "display": null,
       "flex": null,
       "flex_flow": null,
       "grid_area": null,
       "grid_auto_columns": null,
       "grid_auto_flow": null,
       "grid_auto_rows": null,
       "grid_column": null,
       "grid_gap": null,
       "grid_row": null,
       "grid_template_areas": null,
       "grid_template_columns": null,
       "grid_template_rows": null,
       "height": null,
       "justify_content": null,
       "justify_items": null,
       "left": null,
       "margin": null,
       "max_height": null,
       "max_width": null,
       "min_height": null,
       "min_width": null,
       "object_fit": null,
       "object_position": null,
       "order": null,
       "overflow": null,
       "overflow_x": null,
       "overflow_y": null,
       "padding": null,
       "right": null,
       "top": null,
       "visibility": null,
       "width": null
      }
     },
     "fd9043421cc84d28b8b077a0e30ab663": {
      "model_module": "@jupyter-widgets/base",
      "model_module_version": "1.2.0",
      "model_name": "LayoutModel",
      "state": {
       "_model_module": "@jupyter-widgets/base",
       "_model_module_version": "1.2.0",
       "_model_name": "LayoutModel",
       "_view_count": null,
       "_view_module": "@jupyter-widgets/base",
       "_view_module_version": "1.2.0",
       "_view_name": "LayoutView",
       "align_content": null,
       "align_items": null,
       "align_self": null,
       "border": null,
       "bottom": null,
       "display": null,
       "flex": null,
       "flex_flow": null,
       "grid_area": null,
       "grid_auto_columns": null,
       "grid_auto_flow": null,
       "grid_auto_rows": null,
       "grid_column": null,
       "grid_gap": null,
       "grid_row": null,
       "grid_template_areas": null,
       "grid_template_columns": null,
       "grid_template_rows": null,
       "height": null,
       "justify_content": null,
       "justify_items": null,
       "left": null,
       "margin": null,
       "max_height": null,
       "max_width": null,
       "min_height": null,
       "min_width": null,
       "object_fit": null,
       "object_position": null,
       "order": null,
       "overflow": null,
       "overflow_x": null,
       "overflow_y": null,
       "padding": null,
       "right": null,
       "top": null,
       "visibility": null,
       "width": null
      }
     },
     "ff96144cf5d24c289829f872a5515e7b": {
      "model_module": "@jupyter-widgets/controls",
      "model_module_version": "1.5.0",
      "model_name": "HTMLModel",
      "state": {
       "_dom_classes": [],
       "_model_module": "@jupyter-widgets/controls",
       "_model_module_version": "1.5.0",
       "_model_name": "HTMLModel",
       "_view_count": null,
       "_view_module": "@jupyter-widgets/controls",
       "_view_module_version": "1.5.0",
       "_view_name": "HTMLView",
       "description": "",
       "description_tooltip": null,
       "layout": "IPY_MODEL_804b195ce82e49adb282b18cbdff9cd9",
       "placeholder": "​",
       "style": "IPY_MODEL_2cd2113874804f37b8da173046c0cac9",
       "value": "Map: 100%"
      }
     }
    },
    "version_major": 2,
    "version_minor": 0
   }
  }
 },
 "nbformat": 4,
 "nbformat_minor": 5
}

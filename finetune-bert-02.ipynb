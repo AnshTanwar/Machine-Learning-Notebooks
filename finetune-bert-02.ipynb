{
 "cells": [
  {
   "cell_type": "code",
   "execution_count": 1,
   "id": "4e7a92c3",
   "metadata": {
    "_cell_guid": "b1076dfc-b9ad-4769-8c92-a6c4dae69d19",
    "_uuid": "8f2839f25d086af736a60e9eeb907d3b93b6e0e5",
    "execution": {
     "iopub.execute_input": "2024-06-04T07:10:20.016792Z",
     "iopub.status.busy": "2024-06-04T07:10:20.016342Z",
     "iopub.status.idle": "2024-06-04T07:10:21.128525Z",
     "shell.execute_reply": "2024-06-04T07:10:21.126914Z"
    },
    "papermill": {
     "duration": 1.128845,
     "end_time": "2024-06-04T07:10:21.131606",
     "exception": false,
     "start_time": "2024-06-04T07:10:20.002761",
     "status": "completed"
    },
    "tags": []
   },
   "outputs": [
    {
     "name": "stdout",
     "output_type": "stream",
     "text": [
      "/kaggle/input/crypto-regulations-yirifi/mappingtoBERT_6.csv\n",
      "/kaggle/input/crypto-regulations-yirifi/mappingtoBERT_5.csv\n",
      "/kaggle/input/crypto-regulations-yirifi/output_improved.csv\n",
      "/kaggle/input/crypto-regulations-yirifi/master_data_gpt4o_improved_latest.csv\n",
      "/kaggle/input/crypto-regulations-yirifi/CSV_data_gpt_4o/CSV_data_gpt_4o/18.csv\n",
      "/kaggle/input/crypto-regulations-yirifi/CSV_data_gpt_4o/CSV_data_gpt_4o/20.csv\n",
      "/kaggle/input/crypto-regulations-yirifi/CSV_data_gpt_4o/CSV_data_gpt_4o/1.csv\n",
      "/kaggle/input/crypto-regulations-yirifi/CSV_data_gpt_4o/CSV_data_gpt_4o/24.csv\n",
      "/kaggle/input/crypto-regulations-yirifi/CSV_data_gpt_4o/CSV_data_gpt_4o/11.csv\n",
      "/kaggle/input/crypto-regulations-yirifi/CSV_data_gpt_4o/CSV_data_gpt_4o/30.csv\n",
      "/kaggle/input/crypto-regulations-yirifi/CSV_data_gpt_4o/CSV_data_gpt_4o/17.csv\n",
      "/kaggle/input/crypto-regulations-yirifi/CSV_data_gpt_4o/CSV_data_gpt_4o/16.csv\n",
      "/kaggle/input/crypto-regulations-yirifi/CSV_data_gpt_4o/CSV_data_gpt_4o/3.csv\n",
      "/kaggle/input/crypto-regulations-yirifi/CSV_data_gpt_4o/CSV_data_gpt_4o/31.csv\n",
      "/kaggle/input/crypto-regulations-yirifi/CSV_data_gpt_4o/CSV_data_gpt_4o/19.csv\n",
      "/kaggle/input/crypto-regulations-yirifi/CSV_data_gpt_4o/CSV_data_gpt_4o/5.csv\n",
      "/kaggle/input/crypto-regulations-yirifi/CSV_data_gpt_4o/CSV_data_gpt_4o/2.csv\n",
      "/kaggle/input/crypto-regulations-yirifi/CSV_data_gpt_4o/CSV_data_gpt_4o/26.csv\n",
      "/kaggle/input/crypto-regulations-yirifi/CSV_data_gpt_4o/CSV_data_gpt_4o/28.csv\n",
      "/kaggle/input/crypto-regulations-yirifi/CSV_data_gpt_4o/CSV_data_gpt_4o/13.csv\n",
      "/kaggle/input/crypto-regulations-yirifi/CSV_data_gpt_4o/CSV_data_gpt_4o/23.csv\n",
      "/kaggle/input/crypto-regulations-yirifi/CSV_data_gpt_4o/CSV_data_gpt_4o/14.csv\n",
      "/kaggle/input/crypto-regulations-yirifi/CSV_data_gpt_4o/CSV_data_gpt_4o/4.csv\n",
      "/kaggle/input/crypto-regulations-yirifi/CSV_data_gpt_4o/CSV_data_gpt_4o/22.csv\n",
      "/kaggle/input/crypto-regulations-yirifi/CSV_data_gpt_4o/CSV_data_gpt_4o/8.csv\n",
      "/kaggle/input/crypto-regulations-yirifi/CSV_data_gpt_4o/CSV_data_gpt_4o/12.csv\n",
      "/kaggle/input/crypto-regulations-yirifi/CSV_data_gpt_4o/CSV_data_gpt_4o/9.csv\n",
      "/kaggle/input/crypto-regulations-yirifi/CSV_data_gpt_4o/CSV_data_gpt_4o/7.csv\n",
      "/kaggle/input/crypto-regulations-yirifi/CSV_data_gpt_4o/CSV_data_gpt_4o/15.csv\n",
      "/kaggle/input/crypto-regulations-yirifi/CSV_data_gpt_4o/CSV_data_gpt_4o/6.csv\n",
      "/kaggle/input/crypto-regulations-yirifi/CSV_data_gpt_4o/CSV_data_gpt_4o/10.csv\n",
      "/kaggle/input/crypto-regulations-yirifi/CSV_data_gpt_4o/CSV_data_gpt_4o/25.csv\n",
      "/kaggle/input/crypto-regulations-yirifi/CSV_data_gpt_4o/CSV_data_gpt_4o/29.csv\n",
      "/kaggle/input/crypto-regulations-yirifi/CSV_data_gpt_4o/CSV_data_gpt_4o/21.csv\n",
      "/kaggle/input/crypto-regulations-yirifi/CSV_data_gpt_4o/CSV_data_gpt_4o/32.csv\n",
      "/kaggle/input/crypto-regulations-yirifi/CSV_data_gpt_4o/CSV_data_gpt_4o/27.csv\n",
      "/kaggle/input/crypto-regulations-yirifi/csv_data/csv_data/18.csv\n",
      "/kaggle/input/crypto-regulations-yirifi/csv_data/csv_data/20.csv\n",
      "/kaggle/input/crypto-regulations-yirifi/csv_data/csv_data/1.csv\n",
      "/kaggle/input/crypto-regulations-yirifi/csv_data/csv_data/24.csv\n",
      "/kaggle/input/crypto-regulations-yirifi/csv_data/csv_data/11.csv\n",
      "/kaggle/input/crypto-regulations-yirifi/csv_data/csv_data/30.csv\n",
      "/kaggle/input/crypto-regulations-yirifi/csv_data/csv_data/17.csv\n",
      "/kaggle/input/crypto-regulations-yirifi/csv_data/csv_data/16.csv\n",
      "/kaggle/input/crypto-regulations-yirifi/csv_data/csv_data/3.csv\n",
      "/kaggle/input/crypto-regulations-yirifi/csv_data/csv_data/31.csv\n",
      "/kaggle/input/crypto-regulations-yirifi/csv_data/csv_data/19.csv\n",
      "/kaggle/input/crypto-regulations-yirifi/csv_data/csv_data/5.csv\n",
      "/kaggle/input/crypto-regulations-yirifi/csv_data/csv_data/2.csv\n",
      "/kaggle/input/crypto-regulations-yirifi/csv_data/csv_data/26.csv\n",
      "/kaggle/input/crypto-regulations-yirifi/csv_data/csv_data/28.csv\n",
      "/kaggle/input/crypto-regulations-yirifi/csv_data/csv_data/13.csv\n",
      "/kaggle/input/crypto-regulations-yirifi/csv_data/csv_data/23.csv\n",
      "/kaggle/input/crypto-regulations-yirifi/csv_data/csv_data/14.csv\n",
      "/kaggle/input/crypto-regulations-yirifi/csv_data/csv_data/4.csv\n",
      "/kaggle/input/crypto-regulations-yirifi/csv_data/csv_data/22.csv\n",
      "/kaggle/input/crypto-regulations-yirifi/csv_data/csv_data/8.csv\n",
      "/kaggle/input/crypto-regulations-yirifi/csv_data/csv_data/12.csv\n",
      "/kaggle/input/crypto-regulations-yirifi/csv_data/csv_data/9.csv\n",
      "/kaggle/input/crypto-regulations-yirifi/csv_data/csv_data/7.csv\n",
      "/kaggle/input/crypto-regulations-yirifi/csv_data/csv_data/15.csv\n",
      "/kaggle/input/crypto-regulations-yirifi/csv_data/csv_data/6.csv\n",
      "/kaggle/input/crypto-regulations-yirifi/csv_data/csv_data/10.csv\n",
      "/kaggle/input/crypto-regulations-yirifi/csv_data/csv_data/25.csv\n",
      "/kaggle/input/crypto-regulations-yirifi/csv_data/csv_data/29.csv\n",
      "/kaggle/input/crypto-regulations-yirifi/csv_data/csv_data/21.csv\n",
      "/kaggle/input/crypto-regulations-yirifi/csv_data/csv_data/32.csv\n",
      "/kaggle/input/crypto-regulations-yirifi/csv_data/csv_data/27.csv\n",
      "/kaggle/input/crypto-regulations-yirifi/CSV_data_improved/CSV_data_improved/18.csv\n",
      "/kaggle/input/crypto-regulations-yirifi/CSV_data_improved/CSV_data_improved/20.csv\n",
      "/kaggle/input/crypto-regulations-yirifi/CSV_data_improved/CSV_data_improved/1.csv\n",
      "/kaggle/input/crypto-regulations-yirifi/CSV_data_improved/CSV_data_improved/24.csv\n",
      "/kaggle/input/crypto-regulations-yirifi/CSV_data_improved/CSV_data_improved/11.csv\n",
      "/kaggle/input/crypto-regulations-yirifi/CSV_data_improved/CSV_data_improved/30.csv\n",
      "/kaggle/input/crypto-regulations-yirifi/CSV_data_improved/CSV_data_improved/17.csv\n",
      "/kaggle/input/crypto-regulations-yirifi/CSV_data_improved/CSV_data_improved/16.csv\n",
      "/kaggle/input/crypto-regulations-yirifi/CSV_data_improved/CSV_data_improved/3.csv\n",
      "/kaggle/input/crypto-regulations-yirifi/CSV_data_improved/CSV_data_improved/31.csv\n",
      "/kaggle/input/crypto-regulations-yirifi/CSV_data_improved/CSV_data_improved/19.csv\n",
      "/kaggle/input/crypto-regulations-yirifi/CSV_data_improved/CSV_data_improved/5.csv\n",
      "/kaggle/input/crypto-regulations-yirifi/CSV_data_improved/CSV_data_improved/2.csv\n",
      "/kaggle/input/crypto-regulations-yirifi/CSV_data_improved/CSV_data_improved/26.csv\n",
      "/kaggle/input/crypto-regulations-yirifi/CSV_data_improved/CSV_data_improved/28.csv\n",
      "/kaggle/input/crypto-regulations-yirifi/CSV_data_improved/CSV_data_improved/13.csv\n",
      "/kaggle/input/crypto-regulations-yirifi/CSV_data_improved/CSV_data_improved/23.csv\n",
      "/kaggle/input/crypto-regulations-yirifi/CSV_data_improved/CSV_data_improved/14.csv\n",
      "/kaggle/input/crypto-regulations-yirifi/CSV_data_improved/CSV_data_improved/4.csv\n",
      "/kaggle/input/crypto-regulations-yirifi/CSV_data_improved/CSV_data_improved/22.csv\n",
      "/kaggle/input/crypto-regulations-yirifi/CSV_data_improved/CSV_data_improved/8.csv\n",
      "/kaggle/input/crypto-regulations-yirifi/CSV_data_improved/CSV_data_improved/12.csv\n",
      "/kaggle/input/crypto-regulations-yirifi/CSV_data_improved/CSV_data_improved/9.csv\n",
      "/kaggle/input/crypto-regulations-yirifi/CSV_data_improved/CSV_data_improved/7.csv\n",
      "/kaggle/input/crypto-regulations-yirifi/CSV_data_improved/CSV_data_improved/15.csv\n",
      "/kaggle/input/crypto-regulations-yirifi/CSV_data_improved/CSV_data_improved/6.csv\n",
      "/kaggle/input/crypto-regulations-yirifi/CSV_data_improved/CSV_data_improved/10.csv\n",
      "/kaggle/input/crypto-regulations-yirifi/CSV_data_improved/CSV_data_improved/25.csv\n",
      "/kaggle/input/crypto-regulations-yirifi/CSV_data_improved/CSV_data_improved/29.csv\n",
      "/kaggle/input/crypto-regulations-yirifi/CSV_data_improved/CSV_data_improved/21.csv\n",
      "/kaggle/input/crypto-regulations-yirifi/CSV_data_improved/CSV_data_improved/32.csv\n",
      "/kaggle/input/crypto-regulations-yirifi/CSV_data_improved/CSV_data_improved/27.csv\n"
     ]
    }
   ],
   "source": [
    "# This Python 3 environment comes with many helpful analytics libraries installed\n",
    "# It is defined by the kaggle/python Docker image: https://github.com/kaggle/docker-python\n",
    "# For example, here's several helpful packages to load\n",
    "\n",
    "import numpy as np # linear algebra\n",
    "import pandas as pd # data processing, CSV file I/O (e.g. pd.read_csv)\n",
    "\n",
    "# Input data files are available in the read-only \"../input/\" directory\n",
    "# For example, running this (by clicking run or pressing Shift+Enter) will list all files under the input directory\n",
    "\n",
    "import os\n",
    "for dirname, _, filenames in os.walk('/kaggle/input'):\n",
    "    for filename in filenames:\n",
    "        print(os.path.join(dirname, filename))\n",
    "\n",
    "# You can write up to 20GB to the current directory (/kaggle/working/) that gets preserved as output when you create a version using \"Save & Run All\" \n",
    "# You can also write temporary files to /kaggle/temp/, but they won't be saved outside of the current session"
   ]
  },
  {
   "cell_type": "markdown",
   "id": "52271a95",
   "metadata": {
    "papermill": {
     "duration": 0.010888,
     "end_time": "2024-06-04T07:10:21.153879",
     "exception": false,
     "start_time": "2024-06-04T07:10:21.142991",
     "status": "completed"
    },
    "tags": []
   },
   "source": [
    "# Data import and cleaning up the data"
   ]
  },
  {
   "cell_type": "code",
   "execution_count": 2,
   "id": "2d1e89db",
   "metadata": {
    "execution": {
     "iopub.execute_input": "2024-06-04T07:10:21.178873Z",
     "iopub.status.busy": "2024-06-04T07:10:21.178064Z",
     "iopub.status.idle": "2024-06-04T07:10:21.280797Z",
     "shell.execute_reply": "2024-06-04T07:10:21.279249Z"
    },
    "papermill": {
     "duration": 0.119041,
     "end_time": "2024-06-04T07:10:21.284067",
     "exception": false,
     "start_time": "2024-06-04T07:10:21.165026",
     "status": "completed"
    },
    "tags": []
   },
   "outputs": [],
   "source": [
    "df = pd.read_csv(\"/kaggle/input/crypto-regulations-yirifi/mappingtoBERT_6.csv\")"
   ]
  },
  {
   "cell_type": "code",
   "execution_count": 3,
   "id": "afeedd0b",
   "metadata": {
    "execution": {
     "iopub.execute_input": "2024-06-04T07:10:21.310583Z",
     "iopub.status.busy": "2024-06-04T07:10:21.309043Z",
     "iopub.status.idle": "2024-06-04T07:10:21.319628Z",
     "shell.execute_reply": "2024-06-04T07:10:21.318218Z"
    },
    "papermill": {
     "duration": 0.027487,
     "end_time": "2024-06-04T07:10:21.322803",
     "exception": false,
     "start_time": "2024-06-04T07:10:21.295316",
     "status": "completed"
    },
    "tags": []
   },
   "outputs": [
    {
     "data": {
      "text/plain": [
       "(5965, 4)"
      ]
     },
     "execution_count": 3,
     "metadata": {},
     "output_type": "execute_result"
    }
   ],
   "source": [
    "df.shape"
   ]
  },
  {
   "cell_type": "code",
   "execution_count": 4,
   "id": "37284c9e",
   "metadata": {
    "execution": {
     "iopub.execute_input": "2024-06-04T07:10:21.347228Z",
     "iopub.status.busy": "2024-06-04T07:10:21.346759Z",
     "iopub.status.idle": "2024-06-04T07:10:21.371454Z",
     "shell.execute_reply": "2024-06-04T07:10:21.370261Z"
    },
    "papermill": {
     "duration": 0.040057,
     "end_time": "2024-06-04T07:10:21.374270",
     "exception": false,
     "start_time": "2024-06-04T07:10:21.334213",
     "status": "completed"
    },
    "tags": []
   },
   "outputs": [
    {
     "data": {
      "text/html": [
       "<div>\n",
       "<style scoped>\n",
       "    .dataframe tbody tr th:only-of-type {\n",
       "        vertical-align: middle;\n",
       "    }\n",
       "\n",
       "    .dataframe tbody tr th {\n",
       "        vertical-align: top;\n",
       "    }\n",
       "\n",
       "    .dataframe thead th {\n",
       "        text-align: right;\n",
       "    }\n",
       "</style>\n",
       "<table border=\"1\" class=\"dataframe\">\n",
       "  <thead>\n",
       "    <tr style=\"text-align: right;\">\n",
       "      <th></th>\n",
       "      <th>Unnamed: 0</th>\n",
       "      <th>Content</th>\n",
       "      <th>Concepts</th>\n",
       "      <th>bert_concepts</th>\n",
       "    </tr>\n",
       "  </thead>\n",
       "  <tbody>\n",
       "    <tr>\n",
       "      <th>5955</th>\n",
       "      <td>5955</td>\n",
       "      <td>Content|ÄúRegulationsÄù|means the Virtual As...</td>\n",
       "      <td>amended, related activities, 2023, supplemente...</td>\n",
       "      <td>regulations, virtual assets</td>\n",
       "    </tr>\n",
       "    <tr>\n",
       "      <th>5956</th>\n",
       "      <td>5956</td>\n",
       "      <td>Content|ÄúReserve AssetsÄù|has the meaning a...</td>\n",
       "      <td>frva rules, reserve assets, rule i.a.5</td>\n",
       "      <td>rules</td>\n",
       "    </tr>\n",
       "    <tr>\n",
       "      <th>5957</th>\n",
       "      <td>5957</td>\n",
       "      <td>Content|ÄúSenior ManagementÄù|has the meanin...</td>\n",
       "      <td>company rulebook, senior management</td>\n",
       "      <td>rulebook</td>\n",
       "    </tr>\n",
       "    <tr>\n",
       "      <th>5958</th>\n",
       "      <td>5958</td>\n",
       "      <td>Content|ÄúSignificant FRVA IssuerÄù|means a ...</td>\n",
       "      <td>rule i.c.1, vara, frva rules, vasp, significan...</td>\n",
       "      <td>rules, vasp</td>\n",
       "    </tr>\n",
       "    <tr>\n",
       "      <th>5959</th>\n",
       "      <td>5959</td>\n",
       "      <td>Content|ÄúTechnology and Information\\nRuleboo...</td>\n",
       "      <td>amended, information, vara, technology, regula...</td>\n",
       "      <td>regulations, rulebook</td>\n",
       "    </tr>\n",
       "    <tr>\n",
       "      <th>5960</th>\n",
       "      <td>5960</td>\n",
       "      <td>Content|ÄúVA Issuance RulebookÄù|means the V...</td>\n",
       "      <td>amended, supplemented, vara, virtual asset iss...</td>\n",
       "      <td>regulations, virtual assets, rulebook</td>\n",
       "    </tr>\n",
       "    <tr>\n",
       "      <th>5961</th>\n",
       "      <td>5961</td>\n",
       "      <td>Content|ÄúVARAÄù|means the Dubai Virtual Ass...</td>\n",
       "      <td>vara, dubai, regulatory authority, virtual assets</td>\n",
       "      <td>authority, virtual assets, regulator</td>\n",
       "    </tr>\n",
       "    <tr>\n",
       "      <th>5962</th>\n",
       "      <td>5962</td>\n",
       "      <td>Content|ÄúVirtual AssetÄù or ÄúVAÄù|has th...</td>\n",
       "      <td>dubai va law, va, regulatory, compliance, virt...</td>\n",
       "      <td>compliance, virtual assets, regulator</td>\n",
       "    </tr>\n",
       "    <tr>\n",
       "      <th>5963</th>\n",
       "      <td>5963</td>\n",
       "      <td>Content|ÄúWhitepaperÄù|has the meaning ascri...</td>\n",
       "      <td>bank, whitepaper, regulatory compliance, compl...</td>\n",
       "      <td>compliance, virtual assets, rulebook, regulator</td>\n",
       "    </tr>\n",
       "    <tr>\n",
       "      <th>5964</th>\n",
       "      <td>5964</td>\n",
       "      <td>Content|ÄúWorking DayÄù|means any day which ...</td>\n",
       "      <td>public holiday, weekend, bank, hong kong, regu...</td>\n",
       "      <td>compliance, virtual assets, regulator</td>\n",
       "    </tr>\n",
       "  </tbody>\n",
       "</table>\n",
       "</div>"
      ],
      "text/plain": [
       "      Unnamed: 0                                            Content  \\\n",
       "5955        5955  Content|ÄúRegulationsÄù|means the Virtual As...   \n",
       "5956        5956  Content|ÄúReserve AssetsÄù|has the meaning a...   \n",
       "5957        5957  Content|ÄúSenior ManagementÄù|has the meanin...   \n",
       "5958        5958  Content|ÄúSignificant FRVA IssuerÄù|means a ...   \n",
       "5959        5959  Content|ÄúTechnology and Information\\nRuleboo...   \n",
       "5960        5960  Content|ÄúVA Issuance RulebookÄù|means the V...   \n",
       "5961        5961  Content|ÄúVARAÄù|means the Dubai Virtual Ass...   \n",
       "5962        5962  Content|ÄúVirtual AssetÄù or ÄúVAÄù|has th...   \n",
       "5963        5963  Content|ÄúWhitepaperÄù|has the meaning ascri...   \n",
       "5964        5964  Content|ÄúWorking DayÄù|means any day which ...   \n",
       "\n",
       "                                               Concepts  \\\n",
       "5955  amended, related activities, 2023, supplemente...   \n",
       "5956             frva rules, reserve assets, rule i.a.5   \n",
       "5957                company rulebook, senior management   \n",
       "5958  rule i.c.1, vara, frva rules, vasp, significan...   \n",
       "5959  amended, information, vara, technology, regula...   \n",
       "5960  amended, supplemented, vara, virtual asset iss...   \n",
       "5961  vara, dubai, regulatory authority, virtual assets   \n",
       "5962  dubai va law, va, regulatory, compliance, virt...   \n",
       "5963  bank, whitepaper, regulatory compliance, compl...   \n",
       "5964  public holiday, weekend, bank, hong kong, regu...   \n",
       "\n",
       "                                        bert_concepts  \n",
       "5955                      regulations, virtual assets  \n",
       "5956                                            rules  \n",
       "5957                                         rulebook  \n",
       "5958                                      rules, vasp  \n",
       "5959                            regulations, rulebook  \n",
       "5960            regulations, virtual assets, rulebook  \n",
       "5961             authority, virtual assets, regulator  \n",
       "5962            compliance, virtual assets, regulator  \n",
       "5963  compliance, virtual assets, rulebook, regulator  \n",
       "5964            compliance, virtual assets, regulator  "
      ]
     },
     "execution_count": 4,
     "metadata": {},
     "output_type": "execute_result"
    }
   ],
   "source": [
    "df.tail(10)"
   ]
  },
  {
   "cell_type": "code",
   "execution_count": 5,
   "id": "2baad163",
   "metadata": {
    "execution": {
     "iopub.execute_input": "2024-06-04T07:10:21.401079Z",
     "iopub.status.busy": "2024-06-04T07:10:21.400687Z",
     "iopub.status.idle": "2024-06-04T07:10:21.515374Z",
     "shell.execute_reply": "2024-06-04T07:10:21.513910Z"
    },
    "papermill": {
     "duration": 0.130756,
     "end_time": "2024-06-04T07:10:21.518360",
     "exception": false,
     "start_time": "2024-06-04T07:10:21.387604",
     "status": "completed"
    },
    "tags": []
   },
   "outputs": [
    {
     "name": "stdout",
     "output_type": "stream",
     "text": [
      "Number of rows with URLs: 22\n",
      "Number of rows with user references: 12\n",
      "Number of rows with hashtags: 0\n",
      "Number of rows with non-alphanumeric characters: 5913\n"
     ]
    }
   ],
   "source": [
    "import re\n",
    "# Function to check for URLs\n",
    "def contains_url(text):\n",
    "    text = str(text)\n",
    "    return bool(re.search(r'http\\S+|www\\S+|https\\S+', text))\n",
    "\n",
    "# Function to check for user references (@user)\n",
    "def contains_user_reference(text):\n",
    "    text = str(text)\n",
    "    return bool(re.search(r'\\@\\w+', text))\n",
    "\n",
    "# Function to check for hashtags\n",
    "def contains_hashtag(text):\n",
    "    text = str(text)\n",
    "    return bool(re.search(r'\\#\\w+', text))\n",
    "\n",
    "# Function to check for non-alphanumeric characters\n",
    "def contains_non_alphanumeric(text):\n",
    "    text = str(text)\n",
    "    return bool(re.search(r'[^a-zA-Z0-9\\s]', text))\n",
    "\n",
    "# Apply the functions to the DataFrame\n",
    "df['contains_url'] = df['Content'].apply(contains_url)\n",
    "df['contains_user_reference'] = df['Content'].apply(contains_user_reference)\n",
    "df['contains_hashtag'] = df['Content'].apply(contains_hashtag)\n",
    "df['contains_non_alphanumeric'] = df['Content'].apply(contains_non_alphanumeric)\n",
    "\n",
    "# Check rows that match each condition\n",
    "url_count = df['contains_url'].sum()\n",
    "user_reference_count = df['contains_user_reference'].sum()\n",
    "hashtag_count = df['contains_hashtag'].sum()\n",
    "non_alphanumeric_count = df['contains_non_alphanumeric'].sum()\n",
    "\n",
    "# Print results\n",
    "print(f\"Number of rows with URLs: {url_count}\")\n",
    "print(f\"Number of rows with user references: {user_reference_count}\")\n",
    "print(f\"Number of rows with hashtags: {hashtag_count}\")\n",
    "print(f\"Number of rows with non-alphanumeric characters: {non_alphanumeric_count}\")\n",
    "\n"
   ]
  },
  {
   "cell_type": "code",
   "execution_count": 6,
   "id": "a6322197",
   "metadata": {
    "execution": {
     "iopub.execute_input": "2024-06-04T07:10:21.543793Z",
     "iopub.status.busy": "2024-06-04T07:10:21.543372Z",
     "iopub.status.idle": "2024-06-04T07:10:21.559813Z",
     "shell.execute_reply": "2024-06-04T07:10:21.558701Z"
    },
    "papermill": {
     "duration": 0.032115,
     "end_time": "2024-06-04T07:10:21.562427",
     "exception": false,
     "start_time": "2024-06-04T07:10:21.530312",
     "status": "completed"
    },
    "tags": []
   },
   "outputs": [
    {
     "data": {
      "text/html": [
       "<div>\n",
       "<style scoped>\n",
       "    .dataframe tbody tr th:only-of-type {\n",
       "        vertical-align: middle;\n",
       "    }\n",
       "\n",
       "    .dataframe tbody tr th {\n",
       "        vertical-align: top;\n",
       "    }\n",
       "\n",
       "    .dataframe thead th {\n",
       "        text-align: right;\n",
       "    }\n",
       "</style>\n",
       "<table border=\"1\" class=\"dataframe\">\n",
       "  <thead>\n",
       "    <tr style=\"text-align: right;\">\n",
       "      <th></th>\n",
       "      <th>Unnamed: 0</th>\n",
       "      <th>Content</th>\n",
       "      <th>Concepts</th>\n",
       "      <th>bert_concepts</th>\n",
       "      <th>contains_url</th>\n",
       "      <th>contains_user_reference</th>\n",
       "      <th>contains_hashtag</th>\n",
       "      <th>contains_non_alphanumeric</th>\n",
       "    </tr>\n",
       "  </thead>\n",
       "  <tbody>\n",
       "    <tr>\n",
       "      <th>5960</th>\n",
       "      <td>5960</td>\n",
       "      <td>Content|ÄúVA Issuance RulebookÄù|means the V...</td>\n",
       "      <td>amended, supplemented, vara, virtual asset iss...</td>\n",
       "      <td>regulations, virtual assets, rulebook</td>\n",
       "      <td>False</td>\n",
       "      <td>False</td>\n",
       "      <td>False</td>\n",
       "      <td>True</td>\n",
       "    </tr>\n",
       "    <tr>\n",
       "      <th>5961</th>\n",
       "      <td>5961</td>\n",
       "      <td>Content|ÄúVARAÄù|means the Dubai Virtual Ass...</td>\n",
       "      <td>vara, dubai, regulatory authority, virtual assets</td>\n",
       "      <td>authority, virtual assets, regulator</td>\n",
       "      <td>False</td>\n",
       "      <td>False</td>\n",
       "      <td>False</td>\n",
       "      <td>True</td>\n",
       "    </tr>\n",
       "    <tr>\n",
       "      <th>5962</th>\n",
       "      <td>5962</td>\n",
       "      <td>Content|ÄúVirtual AssetÄù or ÄúVAÄù|has th...</td>\n",
       "      <td>dubai va law, va, regulatory, compliance, virt...</td>\n",
       "      <td>compliance, virtual assets, regulator</td>\n",
       "      <td>False</td>\n",
       "      <td>False</td>\n",
       "      <td>False</td>\n",
       "      <td>True</td>\n",
       "    </tr>\n",
       "    <tr>\n",
       "      <th>5963</th>\n",
       "      <td>5963</td>\n",
       "      <td>Content|ÄúWhitepaperÄù|has the meaning ascri...</td>\n",
       "      <td>bank, whitepaper, regulatory compliance, compl...</td>\n",
       "      <td>compliance, virtual assets, rulebook, regulator</td>\n",
       "      <td>False</td>\n",
       "      <td>False</td>\n",
       "      <td>False</td>\n",
       "      <td>True</td>\n",
       "    </tr>\n",
       "    <tr>\n",
       "      <th>5964</th>\n",
       "      <td>5964</td>\n",
       "      <td>Content|ÄúWorking DayÄù|means any day which ...</td>\n",
       "      <td>public holiday, weekend, bank, hong kong, regu...</td>\n",
       "      <td>compliance, virtual assets, regulator</td>\n",
       "      <td>False</td>\n",
       "      <td>False</td>\n",
       "      <td>False</td>\n",
       "      <td>True</td>\n",
       "    </tr>\n",
       "  </tbody>\n",
       "</table>\n",
       "</div>"
      ],
      "text/plain": [
       "      Unnamed: 0                                            Content  \\\n",
       "5960        5960  Content|ÄúVA Issuance RulebookÄù|means the V...   \n",
       "5961        5961  Content|ÄúVARAÄù|means the Dubai Virtual Ass...   \n",
       "5962        5962  Content|ÄúVirtual AssetÄù or ÄúVAÄù|has th...   \n",
       "5963        5963  Content|ÄúWhitepaperÄù|has the meaning ascri...   \n",
       "5964        5964  Content|ÄúWorking DayÄù|means any day which ...   \n",
       "\n",
       "                                               Concepts  \\\n",
       "5960  amended, supplemented, vara, virtual asset iss...   \n",
       "5961  vara, dubai, regulatory authority, virtual assets   \n",
       "5962  dubai va law, va, regulatory, compliance, virt...   \n",
       "5963  bank, whitepaper, regulatory compliance, compl...   \n",
       "5964  public holiday, weekend, bank, hong kong, regu...   \n",
       "\n",
       "                                        bert_concepts  contains_url  \\\n",
       "5960            regulations, virtual assets, rulebook         False   \n",
       "5961             authority, virtual assets, regulator         False   \n",
       "5962            compliance, virtual assets, regulator         False   \n",
       "5963  compliance, virtual assets, rulebook, regulator         False   \n",
       "5964            compliance, virtual assets, regulator         False   \n",
       "\n",
       "      contains_user_reference  contains_hashtag  contains_non_alphanumeric  \n",
       "5960                    False             False                       True  \n",
       "5961                    False             False                       True  \n",
       "5962                    False             False                       True  \n",
       "5963                    False             False                       True  \n",
       "5964                    False             False                       True  "
      ]
     },
     "execution_count": 6,
     "metadata": {},
     "output_type": "execute_result"
    }
   ],
   "source": [
    "df.tail(5)"
   ]
  },
  {
   "cell_type": "code",
   "execution_count": 7,
   "id": "31b899ea",
   "metadata": {
    "execution": {
     "iopub.execute_input": "2024-06-04T07:10:21.590749Z",
     "iopub.status.busy": "2024-06-04T07:10:21.590295Z",
     "iopub.status.idle": "2024-06-04T07:10:21.602203Z",
     "shell.execute_reply": "2024-06-04T07:10:21.600897Z"
    },
    "papermill": {
     "duration": 0.029367,
     "end_time": "2024-06-04T07:10:21.605320",
     "exception": false,
     "start_time": "2024-06-04T07:10:21.575953",
     "status": "completed"
    },
    "tags": []
   },
   "outputs": [],
   "source": [
    "df = df[[\"Content\",\"bert_concepts\"]]"
   ]
  },
  {
   "cell_type": "code",
   "execution_count": 8,
   "id": "5dbec871",
   "metadata": {
    "execution": {
     "iopub.execute_input": "2024-06-04T07:10:21.632852Z",
     "iopub.status.busy": "2024-06-04T07:10:21.632436Z",
     "iopub.status.idle": "2024-06-04T07:10:22.060818Z",
     "shell.execute_reply": "2024-06-04T07:10:22.059472Z"
    },
    "papermill": {
     "duration": 0.446166,
     "end_time": "2024-06-04T07:10:22.063864",
     "exception": false,
     "start_time": "2024-06-04T07:10:21.617698",
     "status": "completed"
    },
    "tags": []
   },
   "outputs": [],
   "source": [
    "import re\n",
    "import string\n",
    "\n",
    "def preprocess_text(text):\n",
    "    text = str(text)    \n",
    "    text = re.sub(r'<[^>]+>', '', text) # Remove HTML tags\n",
    "    text = text.lower()\n",
    "    text = re.sub(r'http\\S+|www\\S+|https\\S+', '', text, flags=re.MULTILINE)# Remove URLs\n",
    "    text = re.sub(r'\\@\\w+|\\#','', text) # Remove user @ references and hashtags\n",
    "    text = text.translate(str.maketrans('', '', string.punctuation)) # Remove punctuation    \n",
    "    text = re.sub(r'[^a-zA-Z0-9\\s]', ' ', text) # Remove non-alphanumeric character    \n",
    "    text = re.sub(r'\\s+', ' ', text).strip() # Remove extra whitespace(only single white space is left)\n",
    "    \n",
    "    return text\n",
    "\n",
    "df['Content'] = df['Content'].apply(preprocess_text) # Applying the preprocess_text function\n"
   ]
  },
  {
   "cell_type": "code",
   "execution_count": 9,
   "id": "8c5a966b",
   "metadata": {
    "execution": {
     "iopub.execute_input": "2024-06-04T07:10:22.091340Z",
     "iopub.status.busy": "2024-06-04T07:10:22.090071Z",
     "iopub.status.idle": "2024-06-04T07:10:22.101957Z",
     "shell.execute_reply": "2024-06-04T07:10:22.100589Z"
    },
    "papermill": {
     "duration": 0.028161,
     "end_time": "2024-06-04T07:10:22.104749",
     "exception": false,
     "start_time": "2024-06-04T07:10:22.076588",
     "status": "completed"
    },
    "tags": []
   },
   "outputs": [
    {
     "data": {
      "text/html": [
       "<div>\n",
       "<style scoped>\n",
       "    .dataframe tbody tr th:only-of-type {\n",
       "        vertical-align: middle;\n",
       "    }\n",
       "\n",
       "    .dataframe tbody tr th {\n",
       "        vertical-align: top;\n",
       "    }\n",
       "\n",
       "    .dataframe thead th {\n",
       "        text-align: right;\n",
       "    }\n",
       "</style>\n",
       "<table border=\"1\" class=\"dataframe\">\n",
       "  <thead>\n",
       "    <tr style=\"text-align: right;\">\n",
       "      <th></th>\n",
       "      <th>Content</th>\n",
       "      <th>bert_concepts</th>\n",
       "    </tr>\n",
       "  </thead>\n",
       "  <tbody>\n",
       "    <tr>\n",
       "      <th>5960</th>\n",
       "      <td>content va issuance rulebook means the virtual...</td>\n",
       "      <td>regulations, virtual assets, rulebook</td>\n",
       "    </tr>\n",
       "    <tr>\n",
       "      <th>5961</th>\n",
       "      <td>content vara means the dubai virtual assets re...</td>\n",
       "      <td>authority, virtual assets, regulator</td>\n",
       "    </tr>\n",
       "    <tr>\n",
       "      <th>5962</th>\n",
       "      <td>content virtual asset or va has the meaning as...</td>\n",
       "      <td>compliance, virtual assets, regulator</td>\n",
       "    </tr>\n",
       "    <tr>\n",
       "      <th>5963</th>\n",
       "      <td>content whitepaper has the meaning ascribed to...</td>\n",
       "      <td>compliance, virtual assets, rulebook, regulator</td>\n",
       "    </tr>\n",
       "    <tr>\n",
       "      <th>5964</th>\n",
       "      <td>content working day means any day which is not...</td>\n",
       "      <td>compliance, virtual assets, regulator</td>\n",
       "    </tr>\n",
       "  </tbody>\n",
       "</table>\n",
       "</div>"
      ],
      "text/plain": [
       "                                                Content  \\\n",
       "5960  content va issuance rulebook means the virtual...   \n",
       "5961  content vara means the dubai virtual assets re...   \n",
       "5962  content virtual asset or va has the meaning as...   \n",
       "5963  content whitepaper has the meaning ascribed to...   \n",
       "5964  content working day means any day which is not...   \n",
       "\n",
       "                                        bert_concepts  \n",
       "5960            regulations, virtual assets, rulebook  \n",
       "5961             authority, virtual assets, regulator  \n",
       "5962            compliance, virtual assets, regulator  \n",
       "5963  compliance, virtual assets, rulebook, regulator  \n",
       "5964            compliance, virtual assets, regulator  "
      ]
     },
     "execution_count": 9,
     "metadata": {},
     "output_type": "execute_result"
    }
   ],
   "source": [
    "df.tail(5)"
   ]
  },
  {
   "cell_type": "code",
   "execution_count": null,
   "id": "38b07072",
   "metadata": {
    "papermill": {
     "duration": 0.012399,
     "end_time": "2024-06-04T07:10:22.130802",
     "exception": false,
     "start_time": "2024-06-04T07:10:22.118403",
     "status": "completed"
    },
    "tags": []
   },
   "outputs": [],
   "source": []
  },
  {
   "cell_type": "code",
   "execution_count": 10,
   "id": "75dca4d7",
   "metadata": {
    "execution": {
     "iopub.execute_input": "2024-06-04T07:10:22.157783Z",
     "iopub.status.busy": "2024-06-04T07:10:22.157358Z",
     "iopub.status.idle": "2024-06-04T07:10:22.164989Z",
     "shell.execute_reply": "2024-06-04T07:10:22.163833Z"
    },
    "papermill": {
     "duration": 0.02477,
     "end_time": "2024-06-04T07:10:22.167776",
     "exception": false,
     "start_time": "2024-06-04T07:10:22.143006",
     "status": "completed"
    },
    "tags": []
   },
   "outputs": [
    {
     "data": {
      "text/plain": [
       "(5965, 2)"
      ]
     },
     "execution_count": 10,
     "metadata": {},
     "output_type": "execute_result"
    }
   ],
   "source": [
    "df.shape"
   ]
  },
  {
   "cell_type": "code",
   "execution_count": 11,
   "id": "53dde62e",
   "metadata": {
    "execution": {
     "iopub.execute_input": "2024-06-04T07:10:22.195036Z",
     "iopub.status.busy": "2024-06-04T07:10:22.194627Z",
     "iopub.status.idle": "2024-06-04T07:10:22.201995Z",
     "shell.execute_reply": "2024-06-04T07:10:22.200860Z"
    },
    "papermill": {
     "duration": 0.024232,
     "end_time": "2024-06-04T07:10:22.204986",
     "exception": false,
     "start_time": "2024-06-04T07:10:22.180754",
     "status": "completed"
    },
    "tags": []
   },
   "outputs": [
    {
     "name": "stdout",
     "output_type": "stream",
     "text": [
      "Number of rows with NaN in bert_concepts: 580\n"
     ]
    }
   ],
   "source": [
    "missing_values_count = df['bert_concepts'].isnull().sum()\n",
    "print(\"Number of rows with NaN in bert_concepts:\", missing_values_count)"
   ]
  },
  {
   "cell_type": "markdown",
   "id": "a66b5441",
   "metadata": {
    "papermill": {
     "duration": 0.01222,
     "end_time": "2024-06-04T07:10:22.230176",
     "exception": false,
     "start_time": "2024-06-04T07:10:22.217956",
     "status": "completed"
    },
    "tags": []
   },
   "source": [
    "## Remove rows with no bert_concepts"
   ]
  },
  {
   "cell_type": "code",
   "execution_count": 12,
   "id": "b6ea363e",
   "metadata": {
    "execution": {
     "iopub.execute_input": "2024-06-04T07:10:22.257573Z",
     "iopub.status.busy": "2024-06-04T07:10:22.257101Z",
     "iopub.status.idle": "2024-06-04T07:10:22.269963Z",
     "shell.execute_reply": "2024-06-04T07:10:22.268648Z"
    },
    "papermill": {
     "duration": 0.030257,
     "end_time": "2024-06-04T07:10:22.272752",
     "exception": false,
     "start_time": "2024-06-04T07:10:22.242495",
     "status": "completed"
    },
    "tags": []
   },
   "outputs": [],
   "source": [
    "df = df.dropna(subset=['bert_concepts'])"
   ]
  },
  {
   "cell_type": "code",
   "execution_count": 13,
   "id": "349508d2",
   "metadata": {
    "execution": {
     "iopub.execute_input": "2024-06-04T07:10:22.299412Z",
     "iopub.status.busy": "2024-06-04T07:10:22.298995Z",
     "iopub.status.idle": "2024-06-04T07:10:22.306844Z",
     "shell.execute_reply": "2024-06-04T07:10:22.305448Z"
    },
    "papermill": {
     "duration": 0.024682,
     "end_time": "2024-06-04T07:10:22.310029",
     "exception": false,
     "start_time": "2024-06-04T07:10:22.285347",
     "status": "completed"
    },
    "tags": []
   },
   "outputs": [
    {
     "data": {
      "text/plain": [
       "(5385, 2)"
      ]
     },
     "execution_count": 13,
     "metadata": {},
     "output_type": "execute_result"
    }
   ],
   "source": [
    "df.shape"
   ]
  },
  {
   "cell_type": "markdown",
   "id": "0bbecf9f",
   "metadata": {
    "papermill": {
     "duration": 0.012303,
     "end_time": "2024-06-04T07:10:22.335427",
     "exception": false,
     "start_time": "2024-06-04T07:10:22.323124",
     "status": "completed"
    },
    "tags": []
   },
   "source": [
    "# Converting to Bert Data Format"
   ]
  },
  {
   "cell_type": "code",
   "execution_count": 14,
   "id": "c27422c8",
   "metadata": {
    "execution": {
     "iopub.execute_input": "2024-06-04T07:10:22.363430Z",
     "iopub.status.busy": "2024-06-04T07:10:22.362993Z",
     "iopub.status.idle": "2024-06-04T07:10:25.518651Z",
     "shell.execute_reply": "2024-06-04T07:10:25.516901Z"
    },
    "papermill": {
     "duration": 3.174295,
     "end_time": "2024-06-04T07:10:25.522357",
     "exception": false,
     "start_time": "2024-06-04T07:10:22.348062",
     "status": "completed"
    },
    "tags": []
   },
   "outputs": [],
   "source": [
    "import pandas as pd\n",
    "import re\n",
    "from sklearn.model_selection import train_test_split\n",
    "from datasets import Dataset, DatasetDict"
   ]
  },
  {
   "cell_type": "code",
   "execution_count": 15,
   "id": "152ffb3b",
   "metadata": {
    "execution": {
     "iopub.execute_input": "2024-06-04T07:10:25.552031Z",
     "iopub.status.busy": "2024-06-04T07:10:25.551389Z",
     "iopub.status.idle": "2024-06-04T07:10:25.559328Z",
     "shell.execute_reply": "2024-06-04T07:10:25.558003Z"
    },
    "papermill": {
     "duration": 0.025638,
     "end_time": "2024-06-04T07:10:25.561912",
     "exception": false,
     "start_time": "2024-06-04T07:10:25.536274",
     "status": "completed"
    },
    "tags": []
   },
   "outputs": [
    {
     "data": {
      "text/plain": [
       "Index(['Content', 'bert_concepts'], dtype='object')"
      ]
     },
     "execution_count": 15,
     "metadata": {},
     "output_type": "execute_result"
    }
   ],
   "source": [
    "df.columns"
   ]
  },
  {
   "cell_type": "code",
   "execution_count": 16,
   "id": "764bf50f",
   "metadata": {
    "execution": {
     "iopub.execute_input": "2024-06-04T07:10:25.597676Z",
     "iopub.status.busy": "2024-06-04T07:10:25.596275Z",
     "iopub.status.idle": "2024-06-04T07:10:25.731869Z",
     "shell.execute_reply": "2024-06-04T07:10:25.730525Z"
    },
    "papermill": {
     "duration": 0.156848,
     "end_time": "2024-06-04T07:10:25.734974",
     "exception": false,
     "start_time": "2024-06-04T07:10:25.578126",
     "status": "completed"
    },
    "tags": []
   },
   "outputs": [],
   "source": [
    "\n",
    "df['bert_concepts'] = df['bert_concepts'].apply(lambda x: x.split(', ')) # make list of words\n",
    "all_concepts = set(concept for row in df['bert_concepts'] for concept in row) # Create a list of all unique concepts\n"
   ]
  },
  {
   "cell_type": "code",
   "execution_count": 17,
   "id": "a2e7c948",
   "metadata": {
    "execution": {
     "iopub.execute_input": "2024-06-04T07:10:25.765857Z",
     "iopub.status.busy": "2024-06-04T07:10:25.765364Z",
     "iopub.status.idle": "2024-06-04T07:10:25.775972Z",
     "shell.execute_reply": "2024-06-04T07:10:25.774347Z"
    },
    "papermill": {
     "duration": 0.030612,
     "end_time": "2024-06-04T07:10:25.779443",
     "exception": false,
     "start_time": "2024-06-04T07:10:25.748831",
     "status": "completed"
    },
    "tags": []
   },
   "outputs": [
    {
     "data": {
      "text/plain": [
       "{'aml',\n",
       " 'anti-bribery',\n",
       " 'audit',\n",
       " 'authority',\n",
       " 'beneficiary information',\n",
       " 'cdd',\n",
       " 'cft',\n",
       " 'circular',\n",
       " 'client',\n",
       " 'code of conduct',\n",
       " 'compliance',\n",
       " 'conduct',\n",
       " 'controls',\n",
       " 'criminal',\n",
       " 'disclosure',\n",
       " 'dlt',\n",
       " 'due diligence',\n",
       " 'entities',\n",
       " 'guideline',\n",
       " 'identity',\n",
       " 'insider dealing',\n",
       " 'investor',\n",
       " 'investor protection',\n",
       " 'kyc',\n",
       " 'legal',\n",
       " 'legislation',\n",
       " 'license',\n",
       " 'monitoring',\n",
       " 'operator',\n",
       " 'oversight',\n",
       " 'pep',\n",
       " 'person',\n",
       " 'policies',\n",
       " 'policy',\n",
       " 'record keeping',\n",
       " 'regulations',\n",
       " 'regulator',\n",
       " 'reporting',\n",
       " 'requirements',\n",
       " 'risk assessment',\n",
       " 'risk management',\n",
       " 'risks',\n",
       " 'rulebook',\n",
       " 'rules',\n",
       " 'safeguard',\n",
       " 'sanctions',\n",
       " 'screening',\n",
       " 'suspicious transactions',\n",
       " 'transaction',\n",
       " 'transactions',\n",
       " 'transfer',\n",
       " 'travel rule',\n",
       " 'vasp',\n",
       " 'vasps',\n",
       " 'virtual assets'}"
      ]
     },
     "execution_count": 17,
     "metadata": {},
     "output_type": "execute_result"
    }
   ],
   "source": [
    "all_concepts"
   ]
  },
  {
   "cell_type": "code",
   "execution_count": 18,
   "id": "caf3ddcc",
   "metadata": {
    "execution": {
     "iopub.execute_input": "2024-06-04T07:10:25.813779Z",
     "iopub.status.busy": "2024-06-04T07:10:25.813352Z",
     "iopub.status.idle": "2024-06-04T07:10:27.880029Z",
     "shell.execute_reply": "2024-06-04T07:10:27.878736Z"
    },
    "papermill": {
     "duration": 2.08622,
     "end_time": "2024-06-04T07:10:27.882947",
     "exception": false,
     "start_time": "2024-06-04T07:10:25.796727",
     "status": "completed"
    },
    "tags": []
   },
   "outputs": [],
   "source": [
    "# One-hot encode each concept for each row\n",
    "one_hot_encoded_rows = []\n",
    "for index, row in df.iterrows():\n",
    "    one_hot_row = {'Content': row['Content']}\n",
    "    for concept in all_concepts:\n",
    "        one_hot_row[concept] = True if concept in row['bert_concepts'] else False\n",
    "    one_hot_encoded_rows.append(one_hot_row)\n"
   ]
  },
  {
   "cell_type": "code",
   "execution_count": 19,
   "id": "a88ddcf0",
   "metadata": {
    "execution": {
     "iopub.execute_input": "2024-06-04T07:10:27.912078Z",
     "iopub.status.busy": "2024-06-04T07:10:27.911045Z",
     "iopub.status.idle": "2024-06-04T07:10:27.925454Z",
     "shell.execute_reply": "2024-06-04T07:10:27.923902Z"
    },
    "papermill": {
     "duration": 0.032071,
     "end_time": "2024-06-04T07:10:27.928249",
     "exception": false,
     "start_time": "2024-06-04T07:10:27.896178",
     "status": "completed"
    },
    "tags": []
   },
   "outputs": [
    {
     "data": {
      "text/plain": [
       "[{'Content': 'the new licensing regime for centralised virtual asset trading platforms under the antimoney laundering and counterterrorist financing ordinance cap 615 amlo will come into effect on 1 june 2023 under the new regime centralised virtual asset trading platforms operating in hong kong will need to apply to the securities and futures commission sfc for a licence under the securities and futures ordinance cap 571 sfo andor the amlo dual licence arrangement',\n",
       "  'transfer': False,\n",
       "  'policy': False,\n",
       "  'legislation': False,\n",
       "  'criminal': False,\n",
       "  'vasps': False,\n",
       "  'travel rule': False,\n",
       "  'transaction': False,\n",
       "  'transactions': False,\n",
       "  'rulebook': False,\n",
       "  'controls': False,\n",
       "  'insider dealing': False,\n",
       "  'dlt': False,\n",
       "  'requirements': False,\n",
       "  'guideline': False,\n",
       "  'virtual assets': True,\n",
       "  'investor protection': False,\n",
       "  'risk management': False,\n",
       "  'investor': False,\n",
       "  'rules': False,\n",
       "  'client': False,\n",
       "  'regulator': True,\n",
       "  'audit': False,\n",
       "  'vasp': False,\n",
       "  'screening': False,\n",
       "  'record keeping': False,\n",
       "  'code of conduct': False,\n",
       "  'person': False,\n",
       "  'regulations': False,\n",
       "  'license': True,\n",
       "  'disclosure': False,\n",
       "  'policies': False,\n",
       "  'risk assessment': False,\n",
       "  'compliance': True,\n",
       "  'reporting': False,\n",
       "  'conduct': False,\n",
       "  'entities': False,\n",
       "  'monitoring': False,\n",
       "  'pep': False,\n",
       "  'safeguard': False,\n",
       "  'anti-bribery': False,\n",
       "  'authority': False,\n",
       "  'sanctions': False,\n",
       "  'due diligence': False,\n",
       "  'kyc': False,\n",
       "  'risks': False,\n",
       "  'suspicious transactions': False,\n",
       "  'cdd': False,\n",
       "  'aml': True,\n",
       "  'cft': True,\n",
       "  'beneficiary information': False,\n",
       "  'identity': False,\n",
       "  'operator': False,\n",
       "  'legal': False,\n",
       "  'circular': False,\n",
       "  'oversight': False},\n",
       " {'Content': 'the sfc is issuing this circular to highlight the following documents and information which assist licence applicants and provide guidance on the new regulatory requirements they also set out the ongoing notification requirements for licensed virtual asset trading platforms',\n",
       "  'transfer': False,\n",
       "  'policy': False,\n",
       "  'legislation': False,\n",
       "  'criminal': False,\n",
       "  'vasps': False,\n",
       "  'travel rule': False,\n",
       "  'transaction': False,\n",
       "  'transactions': False,\n",
       "  'rulebook': False,\n",
       "  'controls': False,\n",
       "  'insider dealing': False,\n",
       "  'dlt': False,\n",
       "  'requirements': True,\n",
       "  'guideline': False,\n",
       "  'virtual assets': True,\n",
       "  'investor protection': False,\n",
       "  'risk management': False,\n",
       "  'investor': False,\n",
       "  'rules': False,\n",
       "  'client': False,\n",
       "  'regulator': True,\n",
       "  'audit': False,\n",
       "  'vasp': False,\n",
       "  'screening': False,\n",
       "  'record keeping': False,\n",
       "  'code of conduct': False,\n",
       "  'person': False,\n",
       "  'regulations': False,\n",
       "  'license': True,\n",
       "  'disclosure': False,\n",
       "  'policies': False,\n",
       "  'risk assessment': False,\n",
       "  'compliance': False,\n",
       "  'reporting': False,\n",
       "  'conduct': False,\n",
       "  'entities': False,\n",
       "  'monitoring': False,\n",
       "  'pep': False,\n",
       "  'safeguard': False,\n",
       "  'anti-bribery': False,\n",
       "  'authority': False,\n",
       "  'sanctions': False,\n",
       "  'due diligence': False,\n",
       "  'kyc': False,\n",
       "  'risks': False,\n",
       "  'suspicious transactions': False,\n",
       "  'cdd': False,\n",
       "  'aml': False,\n",
       "  'cft': False,\n",
       "  'beneficiary information': False,\n",
       "  'identity': False,\n",
       "  'operator': False,\n",
       "  'legal': False,\n",
       "  'circular': True,\n",
       "  'oversight': False}]"
      ]
     },
     "execution_count": 19,
     "metadata": {},
     "output_type": "execute_result"
    }
   ],
   "source": [
    "one_hot_encoded_rows[:2]"
   ]
  },
  {
   "cell_type": "code",
   "execution_count": 20,
   "id": "f736ed45",
   "metadata": {
    "execution": {
     "iopub.execute_input": "2024-06-04T07:10:27.957074Z",
     "iopub.status.busy": "2024-06-04T07:10:27.956660Z",
     "iopub.status.idle": "2024-06-04T07:10:28.035711Z",
     "shell.execute_reply": "2024-06-04T07:10:28.034270Z"
    },
    "papermill": {
     "duration": 0.096749,
     "end_time": "2024-06-04T07:10:28.038614",
     "exception": false,
     "start_time": "2024-06-04T07:10:27.941865",
     "status": "completed"
    },
    "tags": []
   },
   "outputs": [],
   "source": [
    "df = pd.DataFrame(one_hot_encoded_rows)"
   ]
  },
  {
   "cell_type": "code",
   "execution_count": 21,
   "id": "532f7d6d",
   "metadata": {
    "execution": {
     "iopub.execute_input": "2024-06-04T07:10:28.067737Z",
     "iopub.status.busy": "2024-06-04T07:10:28.067301Z",
     "iopub.status.idle": "2024-06-04T07:10:28.093914Z",
     "shell.execute_reply": "2024-06-04T07:10:28.092649Z"
    },
    "papermill": {
     "duration": 0.044764,
     "end_time": "2024-06-04T07:10:28.096710",
     "exception": false,
     "start_time": "2024-06-04T07:10:28.051946",
     "status": "completed"
    },
    "tags": []
   },
   "outputs": [
    {
     "data": {
      "text/html": [
       "<div>\n",
       "<style scoped>\n",
       "    .dataframe tbody tr th:only-of-type {\n",
       "        vertical-align: middle;\n",
       "    }\n",
       "\n",
       "    .dataframe tbody tr th {\n",
       "        vertical-align: top;\n",
       "    }\n",
       "\n",
       "    .dataframe thead th {\n",
       "        text-align: right;\n",
       "    }\n",
       "</style>\n",
       "<table border=\"1\" class=\"dataframe\">\n",
       "  <thead>\n",
       "    <tr style=\"text-align: right;\">\n",
       "      <th></th>\n",
       "      <th>Content</th>\n",
       "      <th>transfer</th>\n",
       "      <th>policy</th>\n",
       "      <th>legislation</th>\n",
       "      <th>criminal</th>\n",
       "      <th>vasps</th>\n",
       "      <th>travel rule</th>\n",
       "      <th>transaction</th>\n",
       "      <th>transactions</th>\n",
       "      <th>rulebook</th>\n",
       "      <th>...</th>\n",
       "      <th>suspicious transactions</th>\n",
       "      <th>cdd</th>\n",
       "      <th>aml</th>\n",
       "      <th>cft</th>\n",
       "      <th>beneficiary information</th>\n",
       "      <th>identity</th>\n",
       "      <th>operator</th>\n",
       "      <th>legal</th>\n",
       "      <th>circular</th>\n",
       "      <th>oversight</th>\n",
       "    </tr>\n",
       "  </thead>\n",
       "  <tbody>\n",
       "    <tr>\n",
       "      <th>0</th>\n",
       "      <td>the new licensing regime for centralised virtu...</td>\n",
       "      <td>False</td>\n",
       "      <td>False</td>\n",
       "      <td>False</td>\n",
       "      <td>False</td>\n",
       "      <td>False</td>\n",
       "      <td>False</td>\n",
       "      <td>False</td>\n",
       "      <td>False</td>\n",
       "      <td>False</td>\n",
       "      <td>...</td>\n",
       "      <td>False</td>\n",
       "      <td>False</td>\n",
       "      <td>True</td>\n",
       "      <td>True</td>\n",
       "      <td>False</td>\n",
       "      <td>False</td>\n",
       "      <td>False</td>\n",
       "      <td>False</td>\n",
       "      <td>False</td>\n",
       "      <td>False</td>\n",
       "    </tr>\n",
       "    <tr>\n",
       "      <th>1</th>\n",
       "      <td>the sfc is issuing this circular to highlight ...</td>\n",
       "      <td>False</td>\n",
       "      <td>False</td>\n",
       "      <td>False</td>\n",
       "      <td>False</td>\n",
       "      <td>False</td>\n",
       "      <td>False</td>\n",
       "      <td>False</td>\n",
       "      <td>False</td>\n",
       "      <td>False</td>\n",
       "      <td>...</td>\n",
       "      <td>False</td>\n",
       "      <td>False</td>\n",
       "      <td>False</td>\n",
       "      <td>False</td>\n",
       "      <td>False</td>\n",
       "      <td>False</td>\n",
       "      <td>False</td>\n",
       "      <td>False</td>\n",
       "      <td>True</td>\n",
       "      <td>False</td>\n",
       "    </tr>\n",
       "    <tr>\n",
       "      <th>2</th>\n",
       "      <td>the sfc has published the following guidelines...</td>\n",
       "      <td>False</td>\n",
       "      <td>False</td>\n",
       "      <td>False</td>\n",
       "      <td>False</td>\n",
       "      <td>False</td>\n",
       "      <td>False</td>\n",
       "      <td>False</td>\n",
       "      <td>False</td>\n",
       "      <td>False</td>\n",
       "      <td>...</td>\n",
       "      <td>False</td>\n",
       "      <td>False</td>\n",
       "      <td>False</td>\n",
       "      <td>False</td>\n",
       "      <td>False</td>\n",
       "      <td>False</td>\n",
       "      <td>False</td>\n",
       "      <td>False</td>\n",
       "      <td>False</td>\n",
       "      <td>False</td>\n",
       "    </tr>\n",
       "  </tbody>\n",
       "</table>\n",
       "<p>3 rows × 56 columns</p>\n",
       "</div>"
      ],
      "text/plain": [
       "                                             Content  transfer  policy  \\\n",
       "0  the new licensing regime for centralised virtu...     False   False   \n",
       "1  the sfc is issuing this circular to highlight ...     False   False   \n",
       "2  the sfc has published the following guidelines...     False   False   \n",
       "\n",
       "   legislation  criminal  vasps  travel rule  transaction  transactions  \\\n",
       "0        False     False  False        False        False         False   \n",
       "1        False     False  False        False        False         False   \n",
       "2        False     False  False        False        False         False   \n",
       "\n",
       "   rulebook  ...  suspicious transactions    cdd    aml    cft  \\\n",
       "0     False  ...                    False  False   True   True   \n",
       "1     False  ...                    False  False  False  False   \n",
       "2     False  ...                    False  False  False  False   \n",
       "\n",
       "   beneficiary information  identity  operator  legal  circular  oversight  \n",
       "0                    False     False     False  False     False      False  \n",
       "1                    False     False     False  False      True      False  \n",
       "2                    False     False     False  False     False      False  \n",
       "\n",
       "[3 rows x 56 columns]"
      ]
     },
     "execution_count": 21,
     "metadata": {},
     "output_type": "execute_result"
    }
   ],
   "source": [
    "df.head(3)"
   ]
  },
  {
   "cell_type": "code",
   "execution_count": 22,
   "id": "eb9ec958",
   "metadata": {
    "execution": {
     "iopub.execute_input": "2024-06-04T07:10:28.126948Z",
     "iopub.status.busy": "2024-06-04T07:10:28.125989Z",
     "iopub.status.idle": "2024-06-04T07:10:28.131339Z",
     "shell.execute_reply": "2024-06-04T07:10:28.130038Z"
    },
    "papermill": {
     "duration": 0.023463,
     "end_time": "2024-06-04T07:10:28.133765",
     "exception": false,
     "start_time": "2024-06-04T07:10:28.110302",
     "status": "completed"
    },
    "tags": []
   },
   "outputs": [],
   "source": [
    "import pandas as pd\n",
    "from datasets import Dataset"
   ]
  },
  {
   "cell_type": "code",
   "execution_count": 23,
   "id": "5b1e8a16",
   "metadata": {
    "execution": {
     "iopub.execute_input": "2024-06-04T07:10:28.165419Z",
     "iopub.status.busy": "2024-06-04T07:10:28.164218Z",
     "iopub.status.idle": "2024-06-04T07:10:28.424448Z",
     "shell.execute_reply": "2024-06-04T07:10:28.423004Z"
    },
    "papermill": {
     "duration": 0.278583,
     "end_time": "2024-06-04T07:10:28.427293",
     "exception": false,
     "start_time": "2024-06-04T07:10:28.148710",
     "status": "completed"
    },
    "tags": []
   },
   "outputs": [],
   "source": [
    "#Splitting DataFrame into train, test, and validation sets\n",
    "train_df, test_valid_df = train_test_split(df, test_size=0.3, random_state=42)\n",
    "test_df, validation_df = train_test_split(test_valid_df, test_size=0.33, random_state=42)\n",
    "\n",
    "# Convert DataFrames to Hugging Face Datasets\n",
    "train_dataset = Dataset.from_pandas(train_df)\n",
    "test_dataset = Dataset.from_pandas(test_df)\n",
    "validation_dataset = Dataset.from_pandas(validation_df)\n",
    "\n",
    "# Create DatasetDict\n",
    "dataset = DatasetDict({\n",
    "    \"train\": train_dataset,\n",
    "    \"test\": test_dataset,\n",
    "    \"validation\": validation_dataset\n",
    "})\n",
    "\n",
    "\n"
   ]
  },
  {
   "cell_type": "code",
   "execution_count": 24,
   "id": "065ad790",
   "metadata": {
    "execution": {
     "iopub.execute_input": "2024-06-04T07:10:28.456184Z",
     "iopub.status.busy": "2024-06-04T07:10:28.455755Z",
     "iopub.status.idle": "2024-06-04T07:10:28.463423Z",
     "shell.execute_reply": "2024-06-04T07:10:28.462051Z"
    },
    "papermill": {
     "duration": 0.025488,
     "end_time": "2024-06-04T07:10:28.466227",
     "exception": false,
     "start_time": "2024-06-04T07:10:28.440739",
     "status": "completed"
    },
    "tags": []
   },
   "outputs": [
    {
     "data": {
      "text/plain": [
       "DatasetDict({\n",
       "    train: Dataset({\n",
       "        features: ['Content', 'transfer', 'policy', 'legislation', 'criminal', 'vasps', 'travel rule', 'transaction', 'transactions', 'rulebook', 'controls', 'insider dealing', 'dlt', 'requirements', 'guideline', 'virtual assets', 'investor protection', 'risk management', 'investor', 'rules', 'client', 'regulator', 'audit', 'vasp', 'screening', 'record keeping', 'code of conduct', 'person', 'regulations', 'license', 'disclosure', 'policies', 'risk assessment', 'compliance', 'reporting', 'conduct', 'entities', 'monitoring', 'pep', 'safeguard', 'anti-bribery', 'authority', 'sanctions', 'due diligence', 'kyc', 'risks', 'suspicious transactions', 'cdd', 'aml', 'cft', 'beneficiary information', 'identity', 'operator', 'legal', 'circular', 'oversight', '__index_level_0__'],\n",
       "        num_rows: 3769\n",
       "    })\n",
       "    test: Dataset({\n",
       "        features: ['Content', 'transfer', 'policy', 'legislation', 'criminal', 'vasps', 'travel rule', 'transaction', 'transactions', 'rulebook', 'controls', 'insider dealing', 'dlt', 'requirements', 'guideline', 'virtual assets', 'investor protection', 'risk management', 'investor', 'rules', 'client', 'regulator', 'audit', 'vasp', 'screening', 'record keeping', 'code of conduct', 'person', 'regulations', 'license', 'disclosure', 'policies', 'risk assessment', 'compliance', 'reporting', 'conduct', 'entities', 'monitoring', 'pep', 'safeguard', 'anti-bribery', 'authority', 'sanctions', 'due diligence', 'kyc', 'risks', 'suspicious transactions', 'cdd', 'aml', 'cft', 'beneficiary information', 'identity', 'operator', 'legal', 'circular', 'oversight', '__index_level_0__'],\n",
       "        num_rows: 1082\n",
       "    })\n",
       "    validation: Dataset({\n",
       "        features: ['Content', 'transfer', 'policy', 'legislation', 'criminal', 'vasps', 'travel rule', 'transaction', 'transactions', 'rulebook', 'controls', 'insider dealing', 'dlt', 'requirements', 'guideline', 'virtual assets', 'investor protection', 'risk management', 'investor', 'rules', 'client', 'regulator', 'audit', 'vasp', 'screening', 'record keeping', 'code of conduct', 'person', 'regulations', 'license', 'disclosure', 'policies', 'risk assessment', 'compliance', 'reporting', 'conduct', 'entities', 'monitoring', 'pep', 'safeguard', 'anti-bribery', 'authority', 'sanctions', 'due diligence', 'kyc', 'risks', 'suspicious transactions', 'cdd', 'aml', 'cft', 'beneficiary information', 'identity', 'operator', 'legal', 'circular', 'oversight', '__index_level_0__'],\n",
       "        num_rows: 534\n",
       "    })\n",
       "})"
      ]
     },
     "execution_count": 24,
     "metadata": {},
     "output_type": "execute_result"
    }
   ],
   "source": [
    "dataset"
   ]
  },
  {
   "cell_type": "code",
   "execution_count": 25,
   "id": "bc96aef0",
   "metadata": {
    "execution": {
     "iopub.execute_input": "2024-06-04T07:10:28.496922Z",
     "iopub.status.busy": "2024-06-04T07:10:28.495998Z",
     "iopub.status.idle": "2024-06-04T07:10:31.430855Z",
     "shell.execute_reply": "2024-06-04T07:10:31.429316Z"
    },
    "papermill": {
     "duration": 2.954153,
     "end_time": "2024-06-04T07:10:31.434411",
     "exception": false,
     "start_time": "2024-06-04T07:10:28.480258",
     "status": "completed"
    },
    "tags": []
   },
   "outputs": [
    {
     "data": {
      "text/plain": [
       "[{'Content': 'a shall not by itself render that person liable to any judicial or other proceedings but in any proceedings under the sfo andor the amlo before any court these guidelines shall be admissible in evidence and if any provision set out in these guidelines appears to the court to be relevant to any question arising in the proceedings it shall be taken into account in determining the question and',\n",
       "  'transfer': False,\n",
       "  'policy': False,\n",
       "  'legislation': False,\n",
       "  'criminal': False,\n",
       "  'vasps': False,\n",
       "  'travel rule': False,\n",
       "  'transaction': False,\n",
       "  'transactions': False,\n",
       "  'rulebook': False,\n",
       "  'controls': False,\n",
       "  'insider dealing': False,\n",
       "  'dlt': False,\n",
       "  'requirements': False,\n",
       "  'guideline': True,\n",
       "  'virtual assets': False,\n",
       "  'investor protection': False,\n",
       "  'risk management': False,\n",
       "  'investor': False,\n",
       "  'rules': False,\n",
       "  'client': False,\n",
       "  'regulator': False,\n",
       "  'audit': False,\n",
       "  'vasp': False,\n",
       "  'screening': False,\n",
       "  'record keeping': False,\n",
       "  'code of conduct': False,\n",
       "  'person': False,\n",
       "  'regulations': False,\n",
       "  'license': False,\n",
       "  'disclosure': False,\n",
       "  'policies': False,\n",
       "  'risk assessment': False,\n",
       "  'compliance': False,\n",
       "  'reporting': False,\n",
       "  'conduct': False,\n",
       "  'entities': False,\n",
       "  'monitoring': False,\n",
       "  'pep': False,\n",
       "  'safeguard': False,\n",
       "  'anti-bribery': False,\n",
       "  'authority': False,\n",
       "  'sanctions': False,\n",
       "  'due diligence': False,\n",
       "  'kyc': False,\n",
       "  'risks': False,\n",
       "  'suspicious transactions': False,\n",
       "  'cdd': False,\n",
       "  'aml': True,\n",
       "  'cft': False,\n",
       "  'beneficiary information': False,\n",
       "  'identity': False,\n",
       "  'operator': False,\n",
       "  'legal': False,\n",
       "  'circular': False,\n",
       "  'oversight': False,\n",
       "  '__index_level_0__': 4768},\n",
       " {'Content': 'as mentioned transactions in the securities sector may prove attractive to money launderers due to the liquidity of the reference markets the combination of the ability to readily liquidate investment portfolios procured with both licit and illicit proceeds the ability to conceal the source of the illicit proceeds the availability of a vast array of possible investment mediums and the ease with which transfers can be effected between them offers money launderers attractive ways to effectively integrate criminal proceeds into the general economy',\n",
       "  'transfer': True,\n",
       "  'policy': False,\n",
       "  'legislation': False,\n",
       "  'criminal': True,\n",
       "  'vasps': False,\n",
       "  'travel rule': False,\n",
       "  'transaction': False,\n",
       "  'transactions': False,\n",
       "  'rulebook': False,\n",
       "  'controls': False,\n",
       "  'insider dealing': False,\n",
       "  'dlt': False,\n",
       "  'requirements': False,\n",
       "  'guideline': False,\n",
       "  'virtual assets': True,\n",
       "  'investor protection': False,\n",
       "  'risk management': False,\n",
       "  'investor': False,\n",
       "  'rules': False,\n",
       "  'client': False,\n",
       "  'regulator': False,\n",
       "  'audit': False,\n",
       "  'vasp': False,\n",
       "  'screening': False,\n",
       "  'record keeping': False,\n",
       "  'code of conduct': False,\n",
       "  'person': False,\n",
       "  'regulations': False,\n",
       "  'license': False,\n",
       "  'disclosure': False,\n",
       "  'policies': False,\n",
       "  'risk assessment': False,\n",
       "  'compliance': False,\n",
       "  'reporting': False,\n",
       "  'conduct': False,\n",
       "  'entities': False,\n",
       "  'monitoring': False,\n",
       "  'pep': False,\n",
       "  'safeguard': False,\n",
       "  'anti-bribery': False,\n",
       "  'authority': False,\n",
       "  'sanctions': False,\n",
       "  'due diligence': False,\n",
       "  'kyc': False,\n",
       "  'risks': False,\n",
       "  'suspicious transactions': False,\n",
       "  'cdd': False,\n",
       "  'aml': True,\n",
       "  'cft': False,\n",
       "  'beneficiary information': False,\n",
       "  'identity': False,\n",
       "  'operator': False,\n",
       "  'legal': False,\n",
       "  'circular': False,\n",
       "  'oversight': False,\n",
       "  '__index_level_0__': 2053}]"
      ]
     },
     "execution_count": 25,
     "metadata": {},
     "output_type": "execute_result"
    }
   ],
   "source": [
    "[i for i in dataset['train']][:2]"
   ]
  },
  {
   "cell_type": "markdown",
   "id": "079da3c8",
   "metadata": {
    "papermill": {
     "duration": 0.018132,
     "end_time": "2024-06-04T07:10:31.468321",
     "exception": false,
     "start_time": "2024-06-04T07:10:31.450189",
     "status": "completed"
    },
    "tags": []
   },
   "source": [
    "# Data Ready Now Training"
   ]
  },
  {
   "cell_type": "code",
   "execution_count": 26,
   "id": "0b4d56e5",
   "metadata": {
    "execution": {
     "iopub.execute_input": "2024-06-04T07:10:31.503127Z",
     "iopub.status.busy": "2024-06-04T07:10:31.502296Z",
     "iopub.status.idle": "2024-06-04T07:10:35.296886Z",
     "shell.execute_reply": "2024-06-04T07:10:35.295390Z"
    },
    "papermill": {
     "duration": 3.814918,
     "end_time": "2024-06-04T07:10:35.299709",
     "exception": false,
     "start_time": "2024-06-04T07:10:31.484791",
     "status": "completed"
    },
    "tags": []
   },
   "outputs": [
    {
     "name": "stdout",
     "output_type": "stream",
     "text": [
      "\u001b[31mERROR: Could not install packages due to an OSError: [Errno 2] No such file or directory: '/opt/conda/lib/python3.10/site-packages/aiohttp-3.9.1.dist-info/METADATA'\r\n",
      "\u001b[0m\u001b[31m\r\n",
      "\u001b[0m"
     ]
    }
   ],
   "source": [
    "!pip install -q transformers datasets"
   ]
  },
  {
   "cell_type": "markdown",
   "id": "bd30a7fc",
   "metadata": {
    "papermill": {
     "duration": 0.013954,
     "end_time": "2024-06-04T07:10:35.328552",
     "exception": false,
     "start_time": "2024-06-04T07:10:35.314598",
     "status": "completed"
    },
    "tags": []
   },
   "source": [
    "Add a linear layer on top of the base model, which is used to produce a tensor of shape (batch_size, num_labels), indicating the unnormalized scores for a number of labels for every example in the batch."
   ]
  },
  {
   "cell_type": "markdown",
   "id": "2ee8264d",
   "metadata": {
    "papermill": {
     "duration": 0.013854,
     "end_time": "2024-06-04T07:10:35.356646",
     "exception": false,
     "start_time": "2024-06-04T07:10:35.342792",
     "status": "completed"
    },
    "tags": []
   },
   "source": [
    "### List containing all the labels"
   ]
  },
  {
   "cell_type": "code",
   "execution_count": 27,
   "id": "97e5de89",
   "metadata": {
    "execution": {
     "iopub.execute_input": "2024-06-04T07:10:35.387281Z",
     "iopub.status.busy": "2024-06-04T07:10:35.386827Z",
     "iopub.status.idle": "2024-06-04T07:10:35.400707Z",
     "shell.execute_reply": "2024-06-04T07:10:35.399544Z"
    },
    "papermill": {
     "duration": 0.032614,
     "end_time": "2024-06-04T07:10:35.403411",
     "exception": false,
     "start_time": "2024-06-04T07:10:35.370797",
     "status": "completed"
    },
    "tags": []
   },
   "outputs": [
    {
     "data": {
      "text/plain": [
       "['transfer',\n",
       " 'policy',\n",
       " 'legislation',\n",
       " 'criminal',\n",
       " 'vasps',\n",
       " 'travel rule',\n",
       " 'transaction',\n",
       " 'transactions',\n",
       " 'rulebook',\n",
       " 'controls',\n",
       " 'insider dealing',\n",
       " 'dlt',\n",
       " 'requirements',\n",
       " 'guideline',\n",
       " 'virtual assets',\n",
       " 'investor protection',\n",
       " 'risk management',\n",
       " 'investor',\n",
       " 'rules',\n",
       " 'client',\n",
       " 'regulator',\n",
       " 'audit',\n",
       " 'vasp',\n",
       " 'screening',\n",
       " 'record keeping',\n",
       " 'code of conduct',\n",
       " 'person',\n",
       " 'regulations',\n",
       " 'license',\n",
       " 'disclosure',\n",
       " 'policies',\n",
       " 'risk assessment',\n",
       " 'compliance',\n",
       " 'reporting',\n",
       " 'conduct',\n",
       " 'entities',\n",
       " 'monitoring',\n",
       " 'pep',\n",
       " 'safeguard',\n",
       " 'anti-bribery',\n",
       " 'authority',\n",
       " 'sanctions',\n",
       " 'due diligence',\n",
       " 'kyc',\n",
       " 'risks',\n",
       " 'suspicious transactions',\n",
       " 'cdd',\n",
       " 'aml',\n",
       " 'cft',\n",
       " 'beneficiary information',\n",
       " 'identity',\n",
       " 'operator',\n",
       " 'legal',\n",
       " 'circular',\n",
       " 'oversight',\n",
       " '__index_level_0__']"
      ]
     },
     "execution_count": 27,
     "metadata": {},
     "output_type": "execute_result"
    }
   ],
   "source": [
    "labels = [label for label in dataset['train'].features.keys() if label not in ['Content']]\n",
    "#Create 2 dictionaries that map labels to integers and back.\n",
    "id2label = {idx:label for idx, label in enumerate(labels)}\n",
    "label2id = {label:idx for idx, label in enumerate(labels)}\n",
    "labels"
   ]
  },
  {
   "cell_type": "code",
   "execution_count": null,
   "id": "2e17e319",
   "metadata": {
    "papermill": {
     "duration": 0.014726,
     "end_time": "2024-06-04T07:10:35.432617",
     "exception": false,
     "start_time": "2024-06-04T07:10:35.417891",
     "status": "completed"
    },
    "tags": []
   },
   "outputs": [],
   "source": []
  }
 ],
 "metadata": {
  "kaggle": {
   "accelerator": "none",
   "dataSources": [
    {
     "datasetId": 5092991,
     "sourceId": 8600001,
     "sourceType": "datasetVersion"
    }
   ],
   "dockerImageVersionId": 30715,
   "isGpuEnabled": false,
   "isInternetEnabled": true,
   "language": "python",
   "sourceType": "notebook"
  },
  "kernelspec": {
   "display_name": "Python 3",
   "language": "python",
   "name": "python3"
  },
  "language_info": {
   "codemirror_mode": {
    "name": "ipython",
    "version": 3
   },
   "file_extension": ".py",
   "mimetype": "text/x-python",
   "name": "python",
   "nbconvert_exporter": "python",
   "pygments_lexer": "ipython3",
   "version": "3.10.13"
  },
  "papermill": {
   "default_parameters": {},
   "duration": 19.741567,
   "end_time": "2024-06-04T07:10:36.371108",
   "environment_variables": {},
   "exception": null,
   "input_path": "__notebook__.ipynb",
   "output_path": "__notebook__.ipynb",
   "parameters": {},
   "start_time": "2024-06-04T07:10:16.629541",
   "version": "2.5.0"
  }
 },
 "nbformat": 4,
 "nbformat_minor": 5
}

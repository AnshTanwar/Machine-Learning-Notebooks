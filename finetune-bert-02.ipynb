{
 "cells": [
  {
   "cell_type": "code",
   "execution_count": 1,
   "id": "f57e56b2",
   "metadata": {
    "_cell_guid": "b1076dfc-b9ad-4769-8c92-a6c4dae69d19",
    "_uuid": "8f2839f25d086af736a60e9eeb907d3b93b6e0e5",
    "execution": {
     "iopub.execute_input": "2024-06-05T05:04:43.711760Z",
     "iopub.status.busy": "2024-06-05T05:04:43.711048Z",
     "iopub.status.idle": "2024-06-05T05:04:44.506244Z",
     "shell.execute_reply": "2024-06-05T05:04:44.505316Z"
    },
    "papermill": {
     "duration": 0.815684,
     "end_time": "2024-06-05T05:04:44.508763",
     "exception": false,
     "start_time": "2024-06-05T05:04:43.693079",
     "status": "completed"
    },
    "tags": []
   },
   "outputs": [
    {
     "name": "stdout",
     "output_type": "stream",
     "text": [
      "/kaggle/input/crypto-regulations-yirifi/mappingtoBERT_6.csv\n",
      "/kaggle/input/crypto-regulations-yirifi/mappingtoBERT_5.csv\n",
      "/kaggle/input/crypto-regulations-yirifi/output_improved.csv\n",
      "/kaggle/input/crypto-regulations-yirifi/master_data_gpt4o_improved_latest.csv\n",
      "/kaggle/input/crypto-regulations-yirifi/CSV_data_gpt_4o/CSV_data_gpt_4o/18.csv\n",
      "/kaggle/input/crypto-regulations-yirifi/CSV_data_gpt_4o/CSV_data_gpt_4o/20.csv\n",
      "/kaggle/input/crypto-regulations-yirifi/CSV_data_gpt_4o/CSV_data_gpt_4o/1.csv\n",
      "/kaggle/input/crypto-regulations-yirifi/CSV_data_gpt_4o/CSV_data_gpt_4o/24.csv\n",
      "/kaggle/input/crypto-regulations-yirifi/CSV_data_gpt_4o/CSV_data_gpt_4o/11.csv\n",
      "/kaggle/input/crypto-regulations-yirifi/CSV_data_gpt_4o/CSV_data_gpt_4o/30.csv\n",
      "/kaggle/input/crypto-regulations-yirifi/CSV_data_gpt_4o/CSV_data_gpt_4o/17.csv\n",
      "/kaggle/input/crypto-regulations-yirifi/CSV_data_gpt_4o/CSV_data_gpt_4o/16.csv\n",
      "/kaggle/input/crypto-regulations-yirifi/CSV_data_gpt_4o/CSV_data_gpt_4o/3.csv\n",
      "/kaggle/input/crypto-regulations-yirifi/CSV_data_gpt_4o/CSV_data_gpt_4o/31.csv\n",
      "/kaggle/input/crypto-regulations-yirifi/CSV_data_gpt_4o/CSV_data_gpt_4o/19.csv\n",
      "/kaggle/input/crypto-regulations-yirifi/CSV_data_gpt_4o/CSV_data_gpt_4o/5.csv\n",
      "/kaggle/input/crypto-regulations-yirifi/CSV_data_gpt_4o/CSV_data_gpt_4o/2.csv\n",
      "/kaggle/input/crypto-regulations-yirifi/CSV_data_gpt_4o/CSV_data_gpt_4o/26.csv\n",
      "/kaggle/input/crypto-regulations-yirifi/CSV_data_gpt_4o/CSV_data_gpt_4o/28.csv\n",
      "/kaggle/input/crypto-regulations-yirifi/CSV_data_gpt_4o/CSV_data_gpt_4o/13.csv\n",
      "/kaggle/input/crypto-regulations-yirifi/CSV_data_gpt_4o/CSV_data_gpt_4o/23.csv\n",
      "/kaggle/input/crypto-regulations-yirifi/CSV_data_gpt_4o/CSV_data_gpt_4o/14.csv\n",
      "/kaggle/input/crypto-regulations-yirifi/CSV_data_gpt_4o/CSV_data_gpt_4o/4.csv\n",
      "/kaggle/input/crypto-regulations-yirifi/CSV_data_gpt_4o/CSV_data_gpt_4o/22.csv\n",
      "/kaggle/input/crypto-regulations-yirifi/CSV_data_gpt_4o/CSV_data_gpt_4o/8.csv\n",
      "/kaggle/input/crypto-regulations-yirifi/CSV_data_gpt_4o/CSV_data_gpt_4o/12.csv\n",
      "/kaggle/input/crypto-regulations-yirifi/CSV_data_gpt_4o/CSV_data_gpt_4o/9.csv\n",
      "/kaggle/input/crypto-regulations-yirifi/CSV_data_gpt_4o/CSV_data_gpt_4o/7.csv\n",
      "/kaggle/input/crypto-regulations-yirifi/CSV_data_gpt_4o/CSV_data_gpt_4o/15.csv\n",
      "/kaggle/input/crypto-regulations-yirifi/CSV_data_gpt_4o/CSV_data_gpt_4o/6.csv\n",
      "/kaggle/input/crypto-regulations-yirifi/CSV_data_gpt_4o/CSV_data_gpt_4o/10.csv\n",
      "/kaggle/input/crypto-regulations-yirifi/CSV_data_gpt_4o/CSV_data_gpt_4o/25.csv\n",
      "/kaggle/input/crypto-regulations-yirifi/CSV_data_gpt_4o/CSV_data_gpt_4o/29.csv\n",
      "/kaggle/input/crypto-regulations-yirifi/CSV_data_gpt_4o/CSV_data_gpt_4o/21.csv\n",
      "/kaggle/input/crypto-regulations-yirifi/CSV_data_gpt_4o/CSV_data_gpt_4o/32.csv\n",
      "/kaggle/input/crypto-regulations-yirifi/CSV_data_gpt_4o/CSV_data_gpt_4o/27.csv\n",
      "/kaggle/input/crypto-regulations-yirifi/csv_data/csv_data/18.csv\n",
      "/kaggle/input/crypto-regulations-yirifi/csv_data/csv_data/20.csv\n",
      "/kaggle/input/crypto-regulations-yirifi/csv_data/csv_data/1.csv\n",
      "/kaggle/input/crypto-regulations-yirifi/csv_data/csv_data/24.csv\n",
      "/kaggle/input/crypto-regulations-yirifi/csv_data/csv_data/11.csv\n",
      "/kaggle/input/crypto-regulations-yirifi/csv_data/csv_data/30.csv\n",
      "/kaggle/input/crypto-regulations-yirifi/csv_data/csv_data/17.csv\n",
      "/kaggle/input/crypto-regulations-yirifi/csv_data/csv_data/16.csv\n",
      "/kaggle/input/crypto-regulations-yirifi/csv_data/csv_data/3.csv\n",
      "/kaggle/input/crypto-regulations-yirifi/csv_data/csv_data/31.csv\n",
      "/kaggle/input/crypto-regulations-yirifi/csv_data/csv_data/19.csv\n",
      "/kaggle/input/crypto-regulations-yirifi/csv_data/csv_data/5.csv\n",
      "/kaggle/input/crypto-regulations-yirifi/csv_data/csv_data/2.csv\n",
      "/kaggle/input/crypto-regulations-yirifi/csv_data/csv_data/26.csv\n",
      "/kaggle/input/crypto-regulations-yirifi/csv_data/csv_data/28.csv\n",
      "/kaggle/input/crypto-regulations-yirifi/csv_data/csv_data/13.csv\n",
      "/kaggle/input/crypto-regulations-yirifi/csv_data/csv_data/23.csv\n",
      "/kaggle/input/crypto-regulations-yirifi/csv_data/csv_data/14.csv\n",
      "/kaggle/input/crypto-regulations-yirifi/csv_data/csv_data/4.csv\n",
      "/kaggle/input/crypto-regulations-yirifi/csv_data/csv_data/22.csv\n",
      "/kaggle/input/crypto-regulations-yirifi/csv_data/csv_data/8.csv\n",
      "/kaggle/input/crypto-regulations-yirifi/csv_data/csv_data/12.csv\n",
      "/kaggle/input/crypto-regulations-yirifi/csv_data/csv_data/9.csv\n",
      "/kaggle/input/crypto-regulations-yirifi/csv_data/csv_data/7.csv\n",
      "/kaggle/input/crypto-regulations-yirifi/csv_data/csv_data/15.csv\n",
      "/kaggle/input/crypto-regulations-yirifi/csv_data/csv_data/6.csv\n",
      "/kaggle/input/crypto-regulations-yirifi/csv_data/csv_data/10.csv\n",
      "/kaggle/input/crypto-regulations-yirifi/csv_data/csv_data/25.csv\n",
      "/kaggle/input/crypto-regulations-yirifi/csv_data/csv_data/29.csv\n",
      "/kaggle/input/crypto-regulations-yirifi/csv_data/csv_data/21.csv\n",
      "/kaggle/input/crypto-regulations-yirifi/csv_data/csv_data/32.csv\n",
      "/kaggle/input/crypto-regulations-yirifi/csv_data/csv_data/27.csv\n",
      "/kaggle/input/crypto-regulations-yirifi/CSV_data_improved/CSV_data_improved/18.csv\n",
      "/kaggle/input/crypto-regulations-yirifi/CSV_data_improved/CSV_data_improved/20.csv\n",
      "/kaggle/input/crypto-regulations-yirifi/CSV_data_improved/CSV_data_improved/1.csv\n",
      "/kaggle/input/crypto-regulations-yirifi/CSV_data_improved/CSV_data_improved/24.csv\n",
      "/kaggle/input/crypto-regulations-yirifi/CSV_data_improved/CSV_data_improved/11.csv\n",
      "/kaggle/input/crypto-regulations-yirifi/CSV_data_improved/CSV_data_improved/30.csv\n",
      "/kaggle/input/crypto-regulations-yirifi/CSV_data_improved/CSV_data_improved/17.csv\n",
      "/kaggle/input/crypto-regulations-yirifi/CSV_data_improved/CSV_data_improved/16.csv\n",
      "/kaggle/input/crypto-regulations-yirifi/CSV_data_improved/CSV_data_improved/3.csv\n",
      "/kaggle/input/crypto-regulations-yirifi/CSV_data_improved/CSV_data_improved/31.csv\n",
      "/kaggle/input/crypto-regulations-yirifi/CSV_data_improved/CSV_data_improved/19.csv\n",
      "/kaggle/input/crypto-regulations-yirifi/CSV_data_improved/CSV_data_improved/5.csv\n",
      "/kaggle/input/crypto-regulations-yirifi/CSV_data_improved/CSV_data_improved/2.csv\n",
      "/kaggle/input/crypto-regulations-yirifi/CSV_data_improved/CSV_data_improved/26.csv\n",
      "/kaggle/input/crypto-regulations-yirifi/CSV_data_improved/CSV_data_improved/28.csv\n",
      "/kaggle/input/crypto-regulations-yirifi/CSV_data_improved/CSV_data_improved/13.csv\n",
      "/kaggle/input/crypto-regulations-yirifi/CSV_data_improved/CSV_data_improved/23.csv\n",
      "/kaggle/input/crypto-regulations-yirifi/CSV_data_improved/CSV_data_improved/14.csv\n",
      "/kaggle/input/crypto-regulations-yirifi/CSV_data_improved/CSV_data_improved/4.csv\n",
      "/kaggle/input/crypto-regulations-yirifi/CSV_data_improved/CSV_data_improved/22.csv\n",
      "/kaggle/input/crypto-regulations-yirifi/CSV_data_improved/CSV_data_improved/8.csv\n",
      "/kaggle/input/crypto-regulations-yirifi/CSV_data_improved/CSV_data_improved/12.csv\n",
      "/kaggle/input/crypto-regulations-yirifi/CSV_data_improved/CSV_data_improved/9.csv\n",
      "/kaggle/input/crypto-regulations-yirifi/CSV_data_improved/CSV_data_improved/7.csv\n",
      "/kaggle/input/crypto-regulations-yirifi/CSV_data_improved/CSV_data_improved/15.csv\n",
      "/kaggle/input/crypto-regulations-yirifi/CSV_data_improved/CSV_data_improved/6.csv\n",
      "/kaggle/input/crypto-regulations-yirifi/CSV_data_improved/CSV_data_improved/10.csv\n",
      "/kaggle/input/crypto-regulations-yirifi/CSV_data_improved/CSV_data_improved/25.csv\n",
      "/kaggle/input/crypto-regulations-yirifi/CSV_data_improved/CSV_data_improved/29.csv\n",
      "/kaggle/input/crypto-regulations-yirifi/CSV_data_improved/CSV_data_improved/21.csv\n",
      "/kaggle/input/crypto-regulations-yirifi/CSV_data_improved/CSV_data_improved/32.csv\n",
      "/kaggle/input/crypto-regulations-yirifi/CSV_data_improved/CSV_data_improved/27.csv\n"
     ]
    }
   ],
   "source": [
    "# This Python 3 environment comes with many helpful analytics libraries installed\n",
    "# It is defined by the kaggle/python Docker image: https://github.com/kaggle/docker-python\n",
    "# For example, here's several helpful packages to load\n",
    "\n",
    "import numpy as np # linear algebra\n",
    "import pandas as pd # data processing, CSV file I/O (e.g. pd.read_csv)\n",
    "\n",
    "# Input data files are available in the read-only \"../input/\" directory\n",
    "# For example, running this (by clicking run or pressing Shift+Enter) will list all files under the input directory\n",
    "\n",
    "import os\n",
    "for dirname, _, filenames in os.walk('/kaggle/input'):\n",
    "    for filename in filenames:\n",
    "        print(os.path.join(dirname, filename))\n",
    "\n",
    "# You can write up to 20GB to the current directory (/kaggle/working/) that gets preserved as output when you create a version using \"Save & Run All\" \n",
    "# You can also write temporary files to /kaggle/temp/, but they won't be saved outside of the current session"
   ]
  },
  {
   "cell_type": "markdown",
   "id": "49ea4c48",
   "metadata": {
    "papermill": {
     "duration": 0.015701,
     "end_time": "2024-06-05T05:04:44.540847",
     "exception": false,
     "start_time": "2024-06-05T05:04:44.525146",
     "status": "completed"
    },
    "tags": []
   },
   "source": [
    "# Data import and cleaning up the data"
   ]
  },
  {
   "cell_type": "code",
   "execution_count": 2,
   "id": "458a93f9",
   "metadata": {
    "execution": {
     "iopub.execute_input": "2024-06-05T05:04:44.574695Z",
     "iopub.status.busy": "2024-06-05T05:04:44.574307Z",
     "iopub.status.idle": "2024-06-05T05:04:44.653541Z",
     "shell.execute_reply": "2024-06-05T05:04:44.652753Z"
    },
    "papermill": {
     "duration": 0.098054,
     "end_time": "2024-06-05T05:04:44.655653",
     "exception": false,
     "start_time": "2024-06-05T05:04:44.557599",
     "status": "completed"
    },
    "tags": []
   },
   "outputs": [],
   "source": [
    "df = pd.read_csv(\"/kaggle/input/crypto-regulations-yirifi/mappingtoBERT_6.csv\")"
   ]
  },
  {
   "cell_type": "code",
   "execution_count": 3,
   "id": "e418f626",
   "metadata": {
    "execution": {
     "iopub.execute_input": "2024-06-05T05:04:44.688903Z",
     "iopub.status.busy": "2024-06-05T05:04:44.688536Z",
     "iopub.status.idle": "2024-06-05T05:04:44.694920Z",
     "shell.execute_reply": "2024-06-05T05:04:44.694084Z"
    },
    "papermill": {
     "duration": 0.025004,
     "end_time": "2024-06-05T05:04:44.696805",
     "exception": false,
     "start_time": "2024-06-05T05:04:44.671801",
     "status": "completed"
    },
    "tags": []
   },
   "outputs": [
    {
     "data": {
      "text/plain": [
       "(5965, 4)"
      ]
     },
     "execution_count": 3,
     "metadata": {},
     "output_type": "execute_result"
    }
   ],
   "source": [
    "df.shape"
   ]
  },
  {
   "cell_type": "code",
   "execution_count": 4,
   "id": "24116b55",
   "metadata": {
    "execution": {
     "iopub.execute_input": "2024-06-05T05:04:44.730133Z",
     "iopub.status.busy": "2024-06-05T05:04:44.729865Z",
     "iopub.status.idle": "2024-06-05T05:04:44.746940Z",
     "shell.execute_reply": "2024-06-05T05:04:44.745910Z"
    },
    "papermill": {
     "duration": 0.036251,
     "end_time": "2024-06-05T05:04:44.749010",
     "exception": false,
     "start_time": "2024-06-05T05:04:44.712759",
     "status": "completed"
    },
    "tags": []
   },
   "outputs": [
    {
     "data": {
      "text/html": [
       "<div>\n",
       "<style scoped>\n",
       "    .dataframe tbody tr th:only-of-type {\n",
       "        vertical-align: middle;\n",
       "    }\n",
       "\n",
       "    .dataframe tbody tr th {\n",
       "        vertical-align: top;\n",
       "    }\n",
       "\n",
       "    .dataframe thead th {\n",
       "        text-align: right;\n",
       "    }\n",
       "</style>\n",
       "<table border=\"1\" class=\"dataframe\">\n",
       "  <thead>\n",
       "    <tr style=\"text-align: right;\">\n",
       "      <th></th>\n",
       "      <th>Unnamed: 0</th>\n",
       "      <th>Content</th>\n",
       "      <th>Concepts</th>\n",
       "      <th>bert_concepts</th>\n",
       "    </tr>\n",
       "  </thead>\n",
       "  <tbody>\n",
       "    <tr>\n",
       "      <th>5955</th>\n",
       "      <td>5955</td>\n",
       "      <td>Content|ÄúRegulationsÄù|means the Virtual As...</td>\n",
       "      <td>amended, related activities, 2023, supplemente...</td>\n",
       "      <td>regulations, virtual assets</td>\n",
       "    </tr>\n",
       "    <tr>\n",
       "      <th>5956</th>\n",
       "      <td>5956</td>\n",
       "      <td>Content|ÄúReserve AssetsÄù|has the meaning a...</td>\n",
       "      <td>frva rules, reserve assets, rule i.a.5</td>\n",
       "      <td>rules</td>\n",
       "    </tr>\n",
       "    <tr>\n",
       "      <th>5957</th>\n",
       "      <td>5957</td>\n",
       "      <td>Content|ÄúSenior ManagementÄù|has the meanin...</td>\n",
       "      <td>company rulebook, senior management</td>\n",
       "      <td>rulebook</td>\n",
       "    </tr>\n",
       "    <tr>\n",
       "      <th>5958</th>\n",
       "      <td>5958</td>\n",
       "      <td>Content|ÄúSignificant FRVA IssuerÄù|means a ...</td>\n",
       "      <td>rule i.c.1, vara, frva rules, vasp, significan...</td>\n",
       "      <td>rules, vasp</td>\n",
       "    </tr>\n",
       "    <tr>\n",
       "      <th>5959</th>\n",
       "      <td>5959</td>\n",
       "      <td>Content|ÄúTechnology and Information\\nRuleboo...</td>\n",
       "      <td>amended, information, vara, technology, regula...</td>\n",
       "      <td>regulations, rulebook</td>\n",
       "    </tr>\n",
       "    <tr>\n",
       "      <th>5960</th>\n",
       "      <td>5960</td>\n",
       "      <td>Content|ÄúVA Issuance RulebookÄù|means the V...</td>\n",
       "      <td>amended, supplemented, vara, virtual asset iss...</td>\n",
       "      <td>regulations, virtual assets, rulebook</td>\n",
       "    </tr>\n",
       "    <tr>\n",
       "      <th>5961</th>\n",
       "      <td>5961</td>\n",
       "      <td>Content|ÄúVARAÄù|means the Dubai Virtual Ass...</td>\n",
       "      <td>vara, dubai, regulatory authority, virtual assets</td>\n",
       "      <td>authority, virtual assets, regulator</td>\n",
       "    </tr>\n",
       "    <tr>\n",
       "      <th>5962</th>\n",
       "      <td>5962</td>\n",
       "      <td>Content|ÄúVirtual AssetÄù or ÄúVAÄù|has th...</td>\n",
       "      <td>dubai va law, va, regulatory, compliance, virt...</td>\n",
       "      <td>compliance, virtual assets, regulator</td>\n",
       "    </tr>\n",
       "    <tr>\n",
       "      <th>5963</th>\n",
       "      <td>5963</td>\n",
       "      <td>Content|ÄúWhitepaperÄù|has the meaning ascri...</td>\n",
       "      <td>bank, whitepaper, regulatory compliance, compl...</td>\n",
       "      <td>compliance, virtual assets, rulebook, regulator</td>\n",
       "    </tr>\n",
       "    <tr>\n",
       "      <th>5964</th>\n",
       "      <td>5964</td>\n",
       "      <td>Content|ÄúWorking DayÄù|means any day which ...</td>\n",
       "      <td>public holiday, weekend, bank, hong kong, regu...</td>\n",
       "      <td>compliance, virtual assets, regulator</td>\n",
       "    </tr>\n",
       "  </tbody>\n",
       "</table>\n",
       "</div>"
      ],
      "text/plain": [
       "      Unnamed: 0                                            Content  \\\n",
       "5955        5955  Content|ÄúRegulationsÄù|means the Virtual As...   \n",
       "5956        5956  Content|ÄúReserve AssetsÄù|has the meaning a...   \n",
       "5957        5957  Content|ÄúSenior ManagementÄù|has the meanin...   \n",
       "5958        5958  Content|ÄúSignificant FRVA IssuerÄù|means a ...   \n",
       "5959        5959  Content|ÄúTechnology and Information\\nRuleboo...   \n",
       "5960        5960  Content|ÄúVA Issuance RulebookÄù|means the V...   \n",
       "5961        5961  Content|ÄúVARAÄù|means the Dubai Virtual Ass...   \n",
       "5962        5962  Content|ÄúVirtual AssetÄù or ÄúVAÄù|has th...   \n",
       "5963        5963  Content|ÄúWhitepaperÄù|has the meaning ascri...   \n",
       "5964        5964  Content|ÄúWorking DayÄù|means any day which ...   \n",
       "\n",
       "                                               Concepts  \\\n",
       "5955  amended, related activities, 2023, supplemente...   \n",
       "5956             frva rules, reserve assets, rule i.a.5   \n",
       "5957                company rulebook, senior management   \n",
       "5958  rule i.c.1, vara, frva rules, vasp, significan...   \n",
       "5959  amended, information, vara, technology, regula...   \n",
       "5960  amended, supplemented, vara, virtual asset iss...   \n",
       "5961  vara, dubai, regulatory authority, virtual assets   \n",
       "5962  dubai va law, va, regulatory, compliance, virt...   \n",
       "5963  bank, whitepaper, regulatory compliance, compl...   \n",
       "5964  public holiday, weekend, bank, hong kong, regu...   \n",
       "\n",
       "                                        bert_concepts  \n",
       "5955                      regulations, virtual assets  \n",
       "5956                                            rules  \n",
       "5957                                         rulebook  \n",
       "5958                                      rules, vasp  \n",
       "5959                            regulations, rulebook  \n",
       "5960            regulations, virtual assets, rulebook  \n",
       "5961             authority, virtual assets, regulator  \n",
       "5962            compliance, virtual assets, regulator  \n",
       "5963  compliance, virtual assets, rulebook, regulator  \n",
       "5964            compliance, virtual assets, regulator  "
      ]
     },
     "execution_count": 4,
     "metadata": {},
     "output_type": "execute_result"
    }
   ],
   "source": [
    "df.tail(10)"
   ]
  },
  {
   "cell_type": "code",
   "execution_count": 5,
   "id": "b7006e07",
   "metadata": {
    "execution": {
     "iopub.execute_input": "2024-06-05T05:04:44.782864Z",
     "iopub.status.busy": "2024-06-05T05:04:44.782593Z",
     "iopub.status.idle": "2024-06-05T05:04:44.870117Z",
     "shell.execute_reply": "2024-06-05T05:04:44.869083Z"
    },
    "papermill": {
     "duration": 0.106713,
     "end_time": "2024-06-05T05:04:44.872071",
     "exception": false,
     "start_time": "2024-06-05T05:04:44.765358",
     "status": "completed"
    },
    "tags": []
   },
   "outputs": [
    {
     "name": "stdout",
     "output_type": "stream",
     "text": [
      "Number of rows with URLs: 22\n",
      "Number of rows with user references: 12\n",
      "Number of rows with hashtags: 0\n",
      "Number of rows with non-alphanumeric characters: 5913\n"
     ]
    }
   ],
   "source": [
    "import re\n",
    "# Function to check for URLs\n",
    "def contains_url(text):\n",
    "    text = str(text)\n",
    "    return bool(re.search(r'http\\S+|www\\S+|https\\S+', text))\n",
    "\n",
    "# Function to check for user references (@user)\n",
    "def contains_user_reference(text):\n",
    "    text = str(text)\n",
    "    return bool(re.search(r'\\@\\w+', text))\n",
    "\n",
    "# Function to check for hashtags\n",
    "def contains_hashtag(text):\n",
    "    text = str(text)\n",
    "    return bool(re.search(r'\\#\\w+', text))\n",
    "\n",
    "# Function to check for non-alphanumeric characters\n",
    "def contains_non_alphanumeric(text):\n",
    "    text = str(text)\n",
    "    return bool(re.search(r'[^a-zA-Z0-9\\s]', text))\n",
    "\n",
    "# Apply the functions to the DataFrame\n",
    "df['contains_url'] = df['Content'].apply(contains_url)\n",
    "df['contains_user_reference'] = df['Content'].apply(contains_user_reference)\n",
    "df['contains_hashtag'] = df['Content'].apply(contains_hashtag)\n",
    "df['contains_non_alphanumeric'] = df['Content'].apply(contains_non_alphanumeric)\n",
    "\n",
    "# Check rows that match each condition\n",
    "url_count = df['contains_url'].sum()\n",
    "user_reference_count = df['contains_user_reference'].sum()\n",
    "hashtag_count = df['contains_hashtag'].sum()\n",
    "non_alphanumeric_count = df['contains_non_alphanumeric'].sum()\n",
    "\n",
    "# Print results\n",
    "print(f\"Number of rows with URLs: {url_count}\")\n",
    "print(f\"Number of rows with user references: {user_reference_count}\")\n",
    "print(f\"Number of rows with hashtags: {hashtag_count}\")\n",
    "print(f\"Number of rows with non-alphanumeric characters: {non_alphanumeric_count}\")\n",
    "\n"
   ]
  },
  {
   "cell_type": "code",
   "execution_count": 6,
   "id": "5f976302",
   "metadata": {
    "execution": {
     "iopub.execute_input": "2024-06-05T05:04:44.905868Z",
     "iopub.status.busy": "2024-06-05T05:04:44.905587Z",
     "iopub.status.idle": "2024-06-05T05:04:44.917569Z",
     "shell.execute_reply": "2024-06-05T05:04:44.916553Z"
    },
    "papermill": {
     "duration": 0.031124,
     "end_time": "2024-06-05T05:04:44.919545",
     "exception": false,
     "start_time": "2024-06-05T05:04:44.888421",
     "status": "completed"
    },
    "tags": []
   },
   "outputs": [
    {
     "data": {
      "text/html": [
       "<div>\n",
       "<style scoped>\n",
       "    .dataframe tbody tr th:only-of-type {\n",
       "        vertical-align: middle;\n",
       "    }\n",
       "\n",
       "    .dataframe tbody tr th {\n",
       "        vertical-align: top;\n",
       "    }\n",
       "\n",
       "    .dataframe thead th {\n",
       "        text-align: right;\n",
       "    }\n",
       "</style>\n",
       "<table border=\"1\" class=\"dataframe\">\n",
       "  <thead>\n",
       "    <tr style=\"text-align: right;\">\n",
       "      <th></th>\n",
       "      <th>Unnamed: 0</th>\n",
       "      <th>Content</th>\n",
       "      <th>Concepts</th>\n",
       "      <th>bert_concepts</th>\n",
       "      <th>contains_url</th>\n",
       "      <th>contains_user_reference</th>\n",
       "      <th>contains_hashtag</th>\n",
       "      <th>contains_non_alphanumeric</th>\n",
       "    </tr>\n",
       "  </thead>\n",
       "  <tbody>\n",
       "    <tr>\n",
       "      <th>5960</th>\n",
       "      <td>5960</td>\n",
       "      <td>Content|ÄúVA Issuance RulebookÄù|means the V...</td>\n",
       "      <td>amended, supplemented, vara, virtual asset iss...</td>\n",
       "      <td>regulations, virtual assets, rulebook</td>\n",
       "      <td>False</td>\n",
       "      <td>False</td>\n",
       "      <td>False</td>\n",
       "      <td>True</td>\n",
       "    </tr>\n",
       "    <tr>\n",
       "      <th>5961</th>\n",
       "      <td>5961</td>\n",
       "      <td>Content|ÄúVARAÄù|means the Dubai Virtual Ass...</td>\n",
       "      <td>vara, dubai, regulatory authority, virtual assets</td>\n",
       "      <td>authority, virtual assets, regulator</td>\n",
       "      <td>False</td>\n",
       "      <td>False</td>\n",
       "      <td>False</td>\n",
       "      <td>True</td>\n",
       "    </tr>\n",
       "    <tr>\n",
       "      <th>5962</th>\n",
       "      <td>5962</td>\n",
       "      <td>Content|ÄúVirtual AssetÄù or ÄúVAÄù|has th...</td>\n",
       "      <td>dubai va law, va, regulatory, compliance, virt...</td>\n",
       "      <td>compliance, virtual assets, regulator</td>\n",
       "      <td>False</td>\n",
       "      <td>False</td>\n",
       "      <td>False</td>\n",
       "      <td>True</td>\n",
       "    </tr>\n",
       "    <tr>\n",
       "      <th>5963</th>\n",
       "      <td>5963</td>\n",
       "      <td>Content|ÄúWhitepaperÄù|has the meaning ascri...</td>\n",
       "      <td>bank, whitepaper, regulatory compliance, compl...</td>\n",
       "      <td>compliance, virtual assets, rulebook, regulator</td>\n",
       "      <td>False</td>\n",
       "      <td>False</td>\n",
       "      <td>False</td>\n",
       "      <td>True</td>\n",
       "    </tr>\n",
       "    <tr>\n",
       "      <th>5964</th>\n",
       "      <td>5964</td>\n",
       "      <td>Content|ÄúWorking DayÄù|means any day which ...</td>\n",
       "      <td>public holiday, weekend, bank, hong kong, regu...</td>\n",
       "      <td>compliance, virtual assets, regulator</td>\n",
       "      <td>False</td>\n",
       "      <td>False</td>\n",
       "      <td>False</td>\n",
       "      <td>True</td>\n",
       "    </tr>\n",
       "  </tbody>\n",
       "</table>\n",
       "</div>"
      ],
      "text/plain": [
       "      Unnamed: 0                                            Content  \\\n",
       "5960        5960  Content|ÄúVA Issuance RulebookÄù|means the V...   \n",
       "5961        5961  Content|ÄúVARAÄù|means the Dubai Virtual Ass...   \n",
       "5962        5962  Content|ÄúVirtual AssetÄù or ÄúVAÄù|has th...   \n",
       "5963        5963  Content|ÄúWhitepaperÄù|has the meaning ascri...   \n",
       "5964        5964  Content|ÄúWorking DayÄù|means any day which ...   \n",
       "\n",
       "                                               Concepts  \\\n",
       "5960  amended, supplemented, vara, virtual asset iss...   \n",
       "5961  vara, dubai, regulatory authority, virtual assets   \n",
       "5962  dubai va law, va, regulatory, compliance, virt...   \n",
       "5963  bank, whitepaper, regulatory compliance, compl...   \n",
       "5964  public holiday, weekend, bank, hong kong, regu...   \n",
       "\n",
       "                                        bert_concepts  contains_url  \\\n",
       "5960            regulations, virtual assets, rulebook         False   \n",
       "5961             authority, virtual assets, regulator         False   \n",
       "5962            compliance, virtual assets, regulator         False   \n",
       "5963  compliance, virtual assets, rulebook, regulator         False   \n",
       "5964            compliance, virtual assets, regulator         False   \n",
       "\n",
       "      contains_user_reference  contains_hashtag  contains_non_alphanumeric  \n",
       "5960                    False             False                       True  \n",
       "5961                    False             False                       True  \n",
       "5962                    False             False                       True  \n",
       "5963                    False             False                       True  \n",
       "5964                    False             False                       True  "
      ]
     },
     "execution_count": 6,
     "metadata": {},
     "output_type": "execute_result"
    }
   ],
   "source": [
    "df.tail(5)"
   ]
  },
  {
   "cell_type": "code",
   "execution_count": 7,
   "id": "a20ba126",
   "metadata": {
    "execution": {
     "iopub.execute_input": "2024-06-05T05:04:44.954558Z",
     "iopub.status.busy": "2024-06-05T05:04:44.954007Z",
     "iopub.status.idle": "2024-06-05T05:04:44.962292Z",
     "shell.execute_reply": "2024-06-05T05:04:44.961478Z"
    },
    "papermill": {
     "duration": 0.02785,
     "end_time": "2024-06-05T05:04:44.964169",
     "exception": false,
     "start_time": "2024-06-05T05:04:44.936319",
     "status": "completed"
    },
    "tags": []
   },
   "outputs": [],
   "source": [
    "df = df[[\"Content\",\"bert_concepts\"]]"
   ]
  },
  {
   "cell_type": "code",
   "execution_count": 8,
   "id": "e5d45f2b",
   "metadata": {
    "execution": {
     "iopub.execute_input": "2024-06-05T05:04:44.998700Z",
     "iopub.status.busy": "2024-06-05T05:04:44.998448Z",
     "iopub.status.idle": "2024-06-05T05:04:45.350366Z",
     "shell.execute_reply": "2024-06-05T05:04:45.349607Z"
    },
    "papermill": {
     "duration": 0.371731,
     "end_time": "2024-06-05T05:04:45.352828",
     "exception": false,
     "start_time": "2024-06-05T05:04:44.981097",
     "status": "completed"
    },
    "tags": []
   },
   "outputs": [],
   "source": [
    "import re\n",
    "import string\n",
    "\n",
    "def preprocess_text(text):\n",
    "    text = str(text)    \n",
    "    text = re.sub(r'<[^>]+>', '', text) # Remove HTML tags\n",
    "    text = text.lower()\n",
    "    text = re.sub(r'http\\S+|www\\S+|https\\S+', '', text, flags=re.MULTILINE)# Remove URLs\n",
    "    text = re.sub(r'\\@\\w+|\\#','', text) # Remove user @ references and hashtags\n",
    "    text = text.translate(str.maketrans('', '', string.punctuation)) # Remove punctuation    \n",
    "    text = re.sub(r'[^a-zA-Z0-9\\s]', ' ', text) # Remove non-alphanumeric character    \n",
    "    text = re.sub(r'\\s+', ' ', text).strip() # Remove extra whitespace(only single white space is left)\n",
    "    \n",
    "    return text\n",
    "\n",
    "df['Content'] = df['Content'].apply(preprocess_text) # Applying the preprocess_text function\n"
   ]
  },
  {
   "cell_type": "code",
   "execution_count": 9,
   "id": "f96bbefc",
   "metadata": {
    "execution": {
     "iopub.execute_input": "2024-06-05T05:04:45.389905Z",
     "iopub.status.busy": "2024-06-05T05:04:45.389226Z",
     "iopub.status.idle": "2024-06-05T05:04:45.398445Z",
     "shell.execute_reply": "2024-06-05T05:04:45.397542Z"
    },
    "papermill": {
     "duration": 0.02951,
     "end_time": "2024-06-05T05:04:45.400279",
     "exception": false,
     "start_time": "2024-06-05T05:04:45.370769",
     "status": "completed"
    },
    "tags": []
   },
   "outputs": [
    {
     "data": {
      "text/html": [
       "<div>\n",
       "<style scoped>\n",
       "    .dataframe tbody tr th:only-of-type {\n",
       "        vertical-align: middle;\n",
       "    }\n",
       "\n",
       "    .dataframe tbody tr th {\n",
       "        vertical-align: top;\n",
       "    }\n",
       "\n",
       "    .dataframe thead th {\n",
       "        text-align: right;\n",
       "    }\n",
       "</style>\n",
       "<table border=\"1\" class=\"dataframe\">\n",
       "  <thead>\n",
       "    <tr style=\"text-align: right;\">\n",
       "      <th></th>\n",
       "      <th>Content</th>\n",
       "      <th>bert_concepts</th>\n",
       "    </tr>\n",
       "  </thead>\n",
       "  <tbody>\n",
       "    <tr>\n",
       "      <th>5960</th>\n",
       "      <td>content va issuance rulebook means the virtual...</td>\n",
       "      <td>regulations, virtual assets, rulebook</td>\n",
       "    </tr>\n",
       "    <tr>\n",
       "      <th>5961</th>\n",
       "      <td>content vara means the dubai virtual assets re...</td>\n",
       "      <td>authority, virtual assets, regulator</td>\n",
       "    </tr>\n",
       "    <tr>\n",
       "      <th>5962</th>\n",
       "      <td>content virtual asset or va has the meaning as...</td>\n",
       "      <td>compliance, virtual assets, regulator</td>\n",
       "    </tr>\n",
       "    <tr>\n",
       "      <th>5963</th>\n",
       "      <td>content whitepaper has the meaning ascribed to...</td>\n",
       "      <td>compliance, virtual assets, rulebook, regulator</td>\n",
       "    </tr>\n",
       "    <tr>\n",
       "      <th>5964</th>\n",
       "      <td>content working day means any day which is not...</td>\n",
       "      <td>compliance, virtual assets, regulator</td>\n",
       "    </tr>\n",
       "  </tbody>\n",
       "</table>\n",
       "</div>"
      ],
      "text/plain": [
       "                                                Content  \\\n",
       "5960  content va issuance rulebook means the virtual...   \n",
       "5961  content vara means the dubai virtual assets re...   \n",
       "5962  content virtual asset or va has the meaning as...   \n",
       "5963  content whitepaper has the meaning ascribed to...   \n",
       "5964  content working day means any day which is not...   \n",
       "\n",
       "                                        bert_concepts  \n",
       "5960            regulations, virtual assets, rulebook  \n",
       "5961             authority, virtual assets, regulator  \n",
       "5962            compliance, virtual assets, regulator  \n",
       "5963  compliance, virtual assets, rulebook, regulator  \n",
       "5964            compliance, virtual assets, regulator  "
      ]
     },
     "execution_count": 9,
     "metadata": {},
     "output_type": "execute_result"
    }
   ],
   "source": [
    "df.tail(5)"
   ]
  },
  {
   "cell_type": "code",
   "execution_count": null,
   "id": "5663e174",
   "metadata": {
    "papermill": {
     "duration": 0.017306,
     "end_time": "2024-06-05T05:04:45.435201",
     "exception": false,
     "start_time": "2024-06-05T05:04:45.417895",
     "status": "completed"
    },
    "tags": []
   },
   "outputs": [],
   "source": []
  },
  {
   "cell_type": "code",
   "execution_count": 10,
   "id": "b146f0c7",
   "metadata": {
    "execution": {
     "iopub.execute_input": "2024-06-05T05:04:45.471434Z",
     "iopub.status.busy": "2024-06-05T05:04:45.471183Z",
     "iopub.status.idle": "2024-06-05T05:04:45.476783Z",
     "shell.execute_reply": "2024-06-05T05:04:45.475872Z"
    },
    "papermill": {
     "duration": 0.025753,
     "end_time": "2024-06-05T05:04:45.478619",
     "exception": false,
     "start_time": "2024-06-05T05:04:45.452866",
     "status": "completed"
    },
    "tags": []
   },
   "outputs": [
    {
     "data": {
      "text/plain": [
       "(5965, 2)"
      ]
     },
     "execution_count": 10,
     "metadata": {},
     "output_type": "execute_result"
    }
   ],
   "source": [
    "df.shape"
   ]
  },
  {
   "cell_type": "code",
   "execution_count": 11,
   "id": "656de4ef",
   "metadata": {
    "execution": {
     "iopub.execute_input": "2024-06-05T05:04:45.514431Z",
     "iopub.status.busy": "2024-06-05T05:04:45.514194Z",
     "iopub.status.idle": "2024-06-05T05:04:45.519643Z",
     "shell.execute_reply": "2024-06-05T05:04:45.518790Z"
    },
    "papermill": {
     "duration": 0.026104,
     "end_time": "2024-06-05T05:04:45.521718",
     "exception": false,
     "start_time": "2024-06-05T05:04:45.495614",
     "status": "completed"
    },
    "tags": []
   },
   "outputs": [
    {
     "name": "stdout",
     "output_type": "stream",
     "text": [
      "Number of rows with NaN in bert_concepts: 580\n"
     ]
    }
   ],
   "source": [
    "missing_values_count = df['bert_concepts'].isnull().sum()\n",
    "print(\"Number of rows with NaN in bert_concepts:\", missing_values_count)"
   ]
  },
  {
   "cell_type": "markdown",
   "id": "e015af70",
   "metadata": {
    "papermill": {
     "duration": 0.017138,
     "end_time": "2024-06-05T05:04:45.556489",
     "exception": false,
     "start_time": "2024-06-05T05:04:45.539351",
     "status": "completed"
    },
    "tags": []
   },
   "source": [
    "## Remove rows with no bert_concepts"
   ]
  },
  {
   "cell_type": "code",
   "execution_count": 12,
   "id": "bb1e0679",
   "metadata": {
    "execution": {
     "iopub.execute_input": "2024-06-05T05:04:45.591611Z",
     "iopub.status.busy": "2024-06-05T05:04:45.591360Z",
     "iopub.status.idle": "2024-06-05T05:04:45.599462Z",
     "shell.execute_reply": "2024-06-05T05:04:45.598776Z"
    },
    "papermill": {
     "duration": 0.027797,
     "end_time": "2024-06-05T05:04:45.601360",
     "exception": false,
     "start_time": "2024-06-05T05:04:45.573563",
     "status": "completed"
    },
    "tags": []
   },
   "outputs": [],
   "source": [
    "df = df.dropna(subset=['bert_concepts'])"
   ]
  },
  {
   "cell_type": "code",
   "execution_count": 13,
   "id": "510b651c",
   "metadata": {
    "execution": {
     "iopub.execute_input": "2024-06-05T05:04:45.636175Z",
     "iopub.status.busy": "2024-06-05T05:04:45.635936Z",
     "iopub.status.idle": "2024-06-05T05:04:45.641099Z",
     "shell.execute_reply": "2024-06-05T05:04:45.640262Z"
    },
    "papermill": {
     "duration": 0.024545,
     "end_time": "2024-06-05T05:04:45.642907",
     "exception": false,
     "start_time": "2024-06-05T05:04:45.618362",
     "status": "completed"
    },
    "tags": []
   },
   "outputs": [
    {
     "data": {
      "text/plain": [
       "(5385, 2)"
      ]
     },
     "execution_count": 13,
     "metadata": {},
     "output_type": "execute_result"
    }
   ],
   "source": [
    "df.shape"
   ]
  },
  {
   "cell_type": "markdown",
   "id": "684a7ff0",
   "metadata": {
    "papermill": {
     "duration": 0.017063,
     "end_time": "2024-06-05T05:04:45.677072",
     "exception": false,
     "start_time": "2024-06-05T05:04:45.660009",
     "status": "completed"
    },
    "tags": []
   },
   "source": [
    "# Converting to Bert Data Format"
   ]
  },
  {
   "cell_type": "code",
   "execution_count": 14,
   "id": "05e7853d",
   "metadata": {
    "execution": {
     "iopub.execute_input": "2024-06-05T05:04:45.712482Z",
     "iopub.status.busy": "2024-06-05T05:04:45.712241Z",
     "iopub.status.idle": "2024-06-05T05:04:47.866829Z",
     "shell.execute_reply": "2024-06-05T05:04:47.865807Z"
    },
    "papermill": {
     "duration": 2.175147,
     "end_time": "2024-06-05T05:04:47.869233",
     "exception": false,
     "start_time": "2024-06-05T05:04:45.694086",
     "status": "completed"
    },
    "tags": []
   },
   "outputs": [],
   "source": [
    "import pandas as pd\n",
    "import re\n",
    "from sklearn.model_selection import train_test_split\n",
    "from datasets import Dataset, DatasetDict"
   ]
  },
  {
   "cell_type": "code",
   "execution_count": 15,
   "id": "30464a0a",
   "metadata": {
    "execution": {
     "iopub.execute_input": "2024-06-05T05:04:47.910554Z",
     "iopub.status.busy": "2024-06-05T05:04:47.910124Z",
     "iopub.status.idle": "2024-06-05T05:04:47.916146Z",
     "shell.execute_reply": "2024-06-05T05:04:47.915186Z"
    },
    "papermill": {
     "duration": 0.026567,
     "end_time": "2024-06-05T05:04:47.918266",
     "exception": false,
     "start_time": "2024-06-05T05:04:47.891699",
     "status": "completed"
    },
    "tags": []
   },
   "outputs": [
    {
     "data": {
      "text/plain": [
       "Index(['Content', 'bert_concepts'], dtype='object')"
      ]
     },
     "execution_count": 15,
     "metadata": {},
     "output_type": "execute_result"
    }
   ],
   "source": [
    "df.columns"
   ]
  },
  {
   "cell_type": "code",
   "execution_count": 16,
   "id": "f67a3f53",
   "metadata": {
    "execution": {
     "iopub.execute_input": "2024-06-05T05:04:47.955231Z",
     "iopub.status.busy": "2024-06-05T05:04:47.954956Z",
     "iopub.status.idle": "2024-06-05T05:04:47.968846Z",
     "shell.execute_reply": "2024-06-05T05:04:47.967486Z"
    },
    "papermill": {
     "duration": 0.035332,
     "end_time": "2024-06-05T05:04:47.971241",
     "exception": false,
     "start_time": "2024-06-05T05:04:47.935909",
     "status": "completed"
    },
    "tags": []
   },
   "outputs": [],
   "source": [
    "\n",
    "df['bert_concepts'] = df['bert_concepts'].apply(lambda x: x.split(', ')) # make list of words\n",
    "all_concepts = set(concept for row in df['bert_concepts'] for concept in row) # Create a list of all unique concepts\n"
   ]
  },
  {
   "cell_type": "code",
   "execution_count": 17,
   "id": "6b085649",
   "metadata": {
    "execution": {
     "iopub.execute_input": "2024-06-05T05:04:48.072044Z",
     "iopub.status.busy": "2024-06-05T05:04:48.071280Z",
     "iopub.status.idle": "2024-06-05T05:04:48.078285Z",
     "shell.execute_reply": "2024-06-05T05:04:48.077262Z"
    },
    "papermill": {
     "duration": 0.087475,
     "end_time": "2024-06-05T05:04:48.080187",
     "exception": false,
     "start_time": "2024-06-05T05:04:47.992712",
     "status": "completed"
    },
    "tags": []
   },
   "outputs": [
    {
     "data": {
      "text/plain": [
       "{'aml',\n",
       " 'anti-bribery',\n",
       " 'audit',\n",
       " 'authority',\n",
       " 'beneficiary information',\n",
       " 'cdd',\n",
       " 'cft',\n",
       " 'circular',\n",
       " 'client',\n",
       " 'code of conduct',\n",
       " 'compliance',\n",
       " 'conduct',\n",
       " 'controls',\n",
       " 'criminal',\n",
       " 'disclosure',\n",
       " 'dlt',\n",
       " 'due diligence',\n",
       " 'entities',\n",
       " 'guideline',\n",
       " 'identity',\n",
       " 'insider dealing',\n",
       " 'investor',\n",
       " 'investor protection',\n",
       " 'kyc',\n",
       " 'legal',\n",
       " 'legislation',\n",
       " 'license',\n",
       " 'monitoring',\n",
       " 'operator',\n",
       " 'oversight',\n",
       " 'pep',\n",
       " 'person',\n",
       " 'policies',\n",
       " 'policy',\n",
       " 'record keeping',\n",
       " 'regulations',\n",
       " 'regulator',\n",
       " 'reporting',\n",
       " 'requirements',\n",
       " 'risk assessment',\n",
       " 'risk management',\n",
       " 'risks',\n",
       " 'rulebook',\n",
       " 'rules',\n",
       " 'safeguard',\n",
       " 'sanctions',\n",
       " 'screening',\n",
       " 'suspicious transactions',\n",
       " 'transaction',\n",
       " 'transactions',\n",
       " 'transfer',\n",
       " 'travel rule',\n",
       " 'vasp',\n",
       " 'vasps',\n",
       " 'virtual assets'}"
      ]
     },
     "execution_count": 17,
     "metadata": {},
     "output_type": "execute_result"
    }
   ],
   "source": [
    "all_concepts"
   ]
  },
  {
   "cell_type": "code",
   "execution_count": 18,
   "id": "97d28040",
   "metadata": {
    "execution": {
     "iopub.execute_input": "2024-06-05T05:04:48.117778Z",
     "iopub.status.busy": "2024-06-05T05:04:48.117478Z",
     "iopub.status.idle": "2024-06-05T05:04:49.772249Z",
     "shell.execute_reply": "2024-06-05T05:04:49.771253Z"
    },
    "papermill": {
     "duration": 1.675869,
     "end_time": "2024-06-05T05:04:49.774573",
     "exception": false,
     "start_time": "2024-06-05T05:04:48.098704",
     "status": "completed"
    },
    "tags": []
   },
   "outputs": [],
   "source": [
    "# One-hot encode each concept for each row\n",
    "one_hot_encoded_rows = []\n",
    "for index, row in df.iterrows():\n",
    "    one_hot_row = {'Content': row['Content']}\n",
    "    for concept in all_concepts:\n",
    "        one_hot_row[concept] = True if concept in row['bert_concepts'] else False\n",
    "    one_hot_encoded_rows.append(one_hot_row)\n"
   ]
  },
  {
   "cell_type": "code",
   "execution_count": 19,
   "id": "bce6c109",
   "metadata": {
    "execution": {
     "iopub.execute_input": "2024-06-05T05:04:49.811527Z",
     "iopub.status.busy": "2024-06-05T05:04:49.811227Z",
     "iopub.status.idle": "2024-06-05T05:04:49.820131Z",
     "shell.execute_reply": "2024-06-05T05:04:49.819298Z"
    },
    "papermill": {
     "duration": 0.029487,
     "end_time": "2024-06-05T05:04:49.822092",
     "exception": false,
     "start_time": "2024-06-05T05:04:49.792605",
     "status": "completed"
    },
    "tags": []
   },
   "outputs": [
    {
     "data": {
      "text/plain": [
       "[{'Content': 'the new licensing regime for centralised virtual asset trading platforms under the antimoney laundering and counterterrorist financing ordinance cap 615 amlo will come into effect on 1 june 2023 under the new regime centralised virtual asset trading platforms operating in hong kong will need to apply to the securities and futures commission sfc for a licence under the securities and futures ordinance cap 571 sfo andor the amlo dual licence arrangement',\n",
       "  'controls': False,\n",
       "  'regulations': False,\n",
       "  'rules': False,\n",
       "  'risks': False,\n",
       "  'policies': False,\n",
       "  'safeguard': False,\n",
       "  'anti-bribery': False,\n",
       "  'compliance': True,\n",
       "  'guideline': False,\n",
       "  'investor protection': False,\n",
       "  'transfer': False,\n",
       "  'rulebook': False,\n",
       "  'policy': False,\n",
       "  'insider dealing': False,\n",
       "  'identity': False,\n",
       "  'investor': False,\n",
       "  'travel rule': False,\n",
       "  'person': False,\n",
       "  'client': False,\n",
       "  'sanctions': False,\n",
       "  'screening': False,\n",
       "  'suspicious transactions': False,\n",
       "  'risk management': False,\n",
       "  'beneficiary information': False,\n",
       "  'vasp': False,\n",
       "  'entities': False,\n",
       "  'virtual assets': True,\n",
       "  'vasps': False,\n",
       "  'audit': False,\n",
       "  'regulator': True,\n",
       "  'authority': False,\n",
       "  'cdd': False,\n",
       "  'operator': False,\n",
       "  'kyc': False,\n",
       "  'legislation': False,\n",
       "  'conduct': False,\n",
       "  'pep': False,\n",
       "  'circular': False,\n",
       "  'risk assessment': False,\n",
       "  'code of conduct': False,\n",
       "  'cft': True,\n",
       "  'legal': False,\n",
       "  'requirements': False,\n",
       "  'disclosure': False,\n",
       "  'aml': True,\n",
       "  'reporting': False,\n",
       "  'license': True,\n",
       "  'oversight': False,\n",
       "  'due diligence': False,\n",
       "  'record keeping': False,\n",
       "  'monitoring': False,\n",
       "  'dlt': False,\n",
       "  'criminal': False,\n",
       "  'transaction': False,\n",
       "  'transactions': False},\n",
       " {'Content': 'the sfc is issuing this circular to highlight the following documents and information which assist licence applicants and provide guidance on the new regulatory requirements they also set out the ongoing notification requirements for licensed virtual asset trading platforms',\n",
       "  'controls': False,\n",
       "  'regulations': False,\n",
       "  'rules': False,\n",
       "  'risks': False,\n",
       "  'policies': False,\n",
       "  'safeguard': False,\n",
       "  'anti-bribery': False,\n",
       "  'compliance': False,\n",
       "  'guideline': False,\n",
       "  'investor protection': False,\n",
       "  'transfer': False,\n",
       "  'rulebook': False,\n",
       "  'policy': False,\n",
       "  'insider dealing': False,\n",
       "  'identity': False,\n",
       "  'investor': False,\n",
       "  'travel rule': False,\n",
       "  'person': False,\n",
       "  'client': False,\n",
       "  'sanctions': False,\n",
       "  'screening': False,\n",
       "  'suspicious transactions': False,\n",
       "  'risk management': False,\n",
       "  'beneficiary information': False,\n",
       "  'vasp': False,\n",
       "  'entities': False,\n",
       "  'virtual assets': True,\n",
       "  'vasps': False,\n",
       "  'audit': False,\n",
       "  'regulator': True,\n",
       "  'authority': False,\n",
       "  'cdd': False,\n",
       "  'operator': False,\n",
       "  'kyc': False,\n",
       "  'legislation': False,\n",
       "  'conduct': False,\n",
       "  'pep': False,\n",
       "  'circular': True,\n",
       "  'risk assessment': False,\n",
       "  'code of conduct': False,\n",
       "  'cft': False,\n",
       "  'legal': False,\n",
       "  'requirements': True,\n",
       "  'disclosure': False,\n",
       "  'aml': False,\n",
       "  'reporting': False,\n",
       "  'license': True,\n",
       "  'oversight': False,\n",
       "  'due diligence': False,\n",
       "  'record keeping': False,\n",
       "  'monitoring': False,\n",
       "  'dlt': False,\n",
       "  'criminal': False,\n",
       "  'transaction': False,\n",
       "  'transactions': False}]"
      ]
     },
     "execution_count": 19,
     "metadata": {},
     "output_type": "execute_result"
    }
   ],
   "source": [
    "one_hot_encoded_rows[:2]"
   ]
  },
  {
   "cell_type": "code",
   "execution_count": 20,
   "id": "9d8023c9",
   "metadata": {
    "execution": {
     "iopub.execute_input": "2024-06-05T05:04:49.858332Z",
     "iopub.status.busy": "2024-06-05T05:04:49.858080Z",
     "iopub.status.idle": "2024-06-05T05:04:49.922712Z",
     "shell.execute_reply": "2024-06-05T05:04:49.921862Z"
    },
    "papermill": {
     "duration": 0.084876,
     "end_time": "2024-06-05T05:04:49.924696",
     "exception": false,
     "start_time": "2024-06-05T05:04:49.839820",
     "status": "completed"
    },
    "tags": []
   },
   "outputs": [],
   "source": [
    "df = pd.DataFrame(one_hot_encoded_rows)"
   ]
  },
  {
   "cell_type": "code",
   "execution_count": 21,
   "id": "fcf99271",
   "metadata": {
    "execution": {
     "iopub.execute_input": "2024-06-05T05:04:49.961286Z",
     "iopub.status.busy": "2024-06-05T05:04:49.961018Z",
     "iopub.status.idle": "2024-06-05T05:04:49.980724Z",
     "shell.execute_reply": "2024-06-05T05:04:49.979920Z"
    },
    "papermill": {
     "duration": 0.04028,
     "end_time": "2024-06-05T05:04:49.982704",
     "exception": false,
     "start_time": "2024-06-05T05:04:49.942424",
     "status": "completed"
    },
    "tags": []
   },
   "outputs": [
    {
     "data": {
      "text/html": [
       "<div>\n",
       "<style scoped>\n",
       "    .dataframe tbody tr th:only-of-type {\n",
       "        vertical-align: middle;\n",
       "    }\n",
       "\n",
       "    .dataframe tbody tr th {\n",
       "        vertical-align: top;\n",
       "    }\n",
       "\n",
       "    .dataframe thead th {\n",
       "        text-align: right;\n",
       "    }\n",
       "</style>\n",
       "<table border=\"1\" class=\"dataframe\">\n",
       "  <thead>\n",
       "    <tr style=\"text-align: right;\">\n",
       "      <th></th>\n",
       "      <th>Content</th>\n",
       "      <th>controls</th>\n",
       "      <th>regulations</th>\n",
       "      <th>rules</th>\n",
       "      <th>risks</th>\n",
       "      <th>policies</th>\n",
       "      <th>safeguard</th>\n",
       "      <th>anti-bribery</th>\n",
       "      <th>compliance</th>\n",
       "      <th>guideline</th>\n",
       "      <th>...</th>\n",
       "      <th>reporting</th>\n",
       "      <th>license</th>\n",
       "      <th>oversight</th>\n",
       "      <th>due diligence</th>\n",
       "      <th>record keeping</th>\n",
       "      <th>monitoring</th>\n",
       "      <th>dlt</th>\n",
       "      <th>criminal</th>\n",
       "      <th>transaction</th>\n",
       "      <th>transactions</th>\n",
       "    </tr>\n",
       "  </thead>\n",
       "  <tbody>\n",
       "    <tr>\n",
       "      <th>0</th>\n",
       "      <td>the new licensing regime for centralised virtu...</td>\n",
       "      <td>False</td>\n",
       "      <td>False</td>\n",
       "      <td>False</td>\n",
       "      <td>False</td>\n",
       "      <td>False</td>\n",
       "      <td>False</td>\n",
       "      <td>False</td>\n",
       "      <td>True</td>\n",
       "      <td>False</td>\n",
       "      <td>...</td>\n",
       "      <td>False</td>\n",
       "      <td>True</td>\n",
       "      <td>False</td>\n",
       "      <td>False</td>\n",
       "      <td>False</td>\n",
       "      <td>False</td>\n",
       "      <td>False</td>\n",
       "      <td>False</td>\n",
       "      <td>False</td>\n",
       "      <td>False</td>\n",
       "    </tr>\n",
       "    <tr>\n",
       "      <th>1</th>\n",
       "      <td>the sfc is issuing this circular to highlight ...</td>\n",
       "      <td>False</td>\n",
       "      <td>False</td>\n",
       "      <td>False</td>\n",
       "      <td>False</td>\n",
       "      <td>False</td>\n",
       "      <td>False</td>\n",
       "      <td>False</td>\n",
       "      <td>False</td>\n",
       "      <td>False</td>\n",
       "      <td>...</td>\n",
       "      <td>False</td>\n",
       "      <td>True</td>\n",
       "      <td>False</td>\n",
       "      <td>False</td>\n",
       "      <td>False</td>\n",
       "      <td>False</td>\n",
       "      <td>False</td>\n",
       "      <td>False</td>\n",
       "      <td>False</td>\n",
       "      <td>False</td>\n",
       "    </tr>\n",
       "    <tr>\n",
       "      <th>2</th>\n",
       "      <td>the sfc has published the following guidelines...</td>\n",
       "      <td>False</td>\n",
       "      <td>False</td>\n",
       "      <td>False</td>\n",
       "      <td>False</td>\n",
       "      <td>False</td>\n",
       "      <td>False</td>\n",
       "      <td>False</td>\n",
       "      <td>False</td>\n",
       "      <td>True</td>\n",
       "      <td>...</td>\n",
       "      <td>False</td>\n",
       "      <td>True</td>\n",
       "      <td>False</td>\n",
       "      <td>False</td>\n",
       "      <td>False</td>\n",
       "      <td>False</td>\n",
       "      <td>False</td>\n",
       "      <td>False</td>\n",
       "      <td>False</td>\n",
       "      <td>False</td>\n",
       "    </tr>\n",
       "  </tbody>\n",
       "</table>\n",
       "<p>3 rows × 56 columns</p>\n",
       "</div>"
      ],
      "text/plain": [
       "                                             Content  controls  regulations  \\\n",
       "0  the new licensing regime for centralised virtu...     False        False   \n",
       "1  the sfc is issuing this circular to highlight ...     False        False   \n",
       "2  the sfc has published the following guidelines...     False        False   \n",
       "\n",
       "   rules  risks  policies  safeguard  anti-bribery  compliance  guideline  \\\n",
       "0  False  False     False      False         False        True      False   \n",
       "1  False  False     False      False         False       False      False   \n",
       "2  False  False     False      False         False       False       True   \n",
       "\n",
       "   ...  reporting  license  oversight  due diligence  record keeping  \\\n",
       "0  ...      False     True      False          False           False   \n",
       "1  ...      False     True      False          False           False   \n",
       "2  ...      False     True      False          False           False   \n",
       "\n",
       "   monitoring    dlt  criminal  transaction  transactions  \n",
       "0       False  False     False        False         False  \n",
       "1       False  False     False        False         False  \n",
       "2       False  False     False        False         False  \n",
       "\n",
       "[3 rows x 56 columns]"
      ]
     },
     "execution_count": 21,
     "metadata": {},
     "output_type": "execute_result"
    }
   ],
   "source": [
    "df.head(3)"
   ]
  },
  {
   "cell_type": "code",
   "execution_count": 22,
   "id": "525fba1f",
   "metadata": {
    "execution": {
     "iopub.execute_input": "2024-06-05T05:04:50.019664Z",
     "iopub.status.busy": "2024-06-05T05:04:50.019412Z",
     "iopub.status.idle": "2024-06-05T05:04:50.023115Z",
     "shell.execute_reply": "2024-06-05T05:04:50.022261Z"
    },
    "papermill": {
     "duration": 0.024262,
     "end_time": "2024-06-05T05:04:50.025056",
     "exception": false,
     "start_time": "2024-06-05T05:04:50.000794",
     "status": "completed"
    },
    "tags": []
   },
   "outputs": [],
   "source": [
    "import pandas as pd\n",
    "from datasets import Dataset"
   ]
  },
  {
   "cell_type": "code",
   "execution_count": 23,
   "id": "3debfd0c",
   "metadata": {
    "execution": {
     "iopub.execute_input": "2024-06-05T05:04:50.062102Z",
     "iopub.status.busy": "2024-06-05T05:04:50.061858Z",
     "iopub.status.idle": "2024-06-05T05:04:50.255987Z",
     "shell.execute_reply": "2024-06-05T05:04:50.255249Z"
    },
    "papermill": {
     "duration": 0.21504,
     "end_time": "2024-06-05T05:04:50.258048",
     "exception": false,
     "start_time": "2024-06-05T05:04:50.043008",
     "status": "completed"
    },
    "tags": []
   },
   "outputs": [],
   "source": [
    "#Splitting DataFrame into train, test, and validation sets\n",
    "train_df, test_valid_df = train_test_split(df, test_size=0.3, random_state=42)\n",
    "test_df, validation_df = train_test_split(test_valid_df, test_size=0.33, random_state=42)\n",
    "\n",
    "# Convert DataFrames to Hugging Face Datasets\n",
    "train_dataset = Dataset.from_pandas(train_df)\n",
    "test_dataset = Dataset.from_pandas(test_df)\n",
    "validation_dataset = Dataset.from_pandas(validation_df)\n",
    "\n",
    "# Create DatasetDict\n",
    "dataset = DatasetDict({\n",
    "    \"train\": train_dataset,\n",
    "    \"test\": test_dataset,\n",
    "    \"validation\": validation_dataset\n",
    "})\n",
    "\n",
    "\n"
   ]
  },
  {
   "cell_type": "code",
   "execution_count": 24,
   "id": "8dee0a42",
   "metadata": {
    "execution": {
     "iopub.execute_input": "2024-06-05T05:04:50.297061Z",
     "iopub.status.busy": "2024-06-05T05:04:50.296289Z",
     "iopub.status.idle": "2024-06-05T05:04:50.302136Z",
     "shell.execute_reply": "2024-06-05T05:04:50.301296Z"
    },
    "papermill": {
     "duration": 0.027106,
     "end_time": "2024-06-05T05:04:50.304125",
     "exception": false,
     "start_time": "2024-06-05T05:04:50.277019",
     "status": "completed"
    },
    "tags": []
   },
   "outputs": [
    {
     "data": {
      "text/plain": [
       "DatasetDict({\n",
       "    train: Dataset({\n",
       "        features: ['Content', 'controls', 'regulations', 'rules', 'risks', 'policies', 'safeguard', 'anti-bribery', 'compliance', 'guideline', 'investor protection', 'transfer', 'rulebook', 'policy', 'insider dealing', 'identity', 'investor', 'travel rule', 'person', 'client', 'sanctions', 'screening', 'suspicious transactions', 'risk management', 'beneficiary information', 'vasp', 'entities', 'virtual assets', 'vasps', 'audit', 'regulator', 'authority', 'cdd', 'operator', 'kyc', 'legislation', 'conduct', 'pep', 'circular', 'risk assessment', 'code of conduct', 'cft', 'legal', 'requirements', 'disclosure', 'aml', 'reporting', 'license', 'oversight', 'due diligence', 'record keeping', 'monitoring', 'dlt', 'criminal', 'transaction', 'transactions', '__index_level_0__'],\n",
       "        num_rows: 3769\n",
       "    })\n",
       "    test: Dataset({\n",
       "        features: ['Content', 'controls', 'regulations', 'rules', 'risks', 'policies', 'safeguard', 'anti-bribery', 'compliance', 'guideline', 'investor protection', 'transfer', 'rulebook', 'policy', 'insider dealing', 'identity', 'investor', 'travel rule', 'person', 'client', 'sanctions', 'screening', 'suspicious transactions', 'risk management', 'beneficiary information', 'vasp', 'entities', 'virtual assets', 'vasps', 'audit', 'regulator', 'authority', 'cdd', 'operator', 'kyc', 'legislation', 'conduct', 'pep', 'circular', 'risk assessment', 'code of conduct', 'cft', 'legal', 'requirements', 'disclosure', 'aml', 'reporting', 'license', 'oversight', 'due diligence', 'record keeping', 'monitoring', 'dlt', 'criminal', 'transaction', 'transactions', '__index_level_0__'],\n",
       "        num_rows: 1082\n",
       "    })\n",
       "    validation: Dataset({\n",
       "        features: ['Content', 'controls', 'regulations', 'rules', 'risks', 'policies', 'safeguard', 'anti-bribery', 'compliance', 'guideline', 'investor protection', 'transfer', 'rulebook', 'policy', 'insider dealing', 'identity', 'investor', 'travel rule', 'person', 'client', 'sanctions', 'screening', 'suspicious transactions', 'risk management', 'beneficiary information', 'vasp', 'entities', 'virtual assets', 'vasps', 'audit', 'regulator', 'authority', 'cdd', 'operator', 'kyc', 'legislation', 'conduct', 'pep', 'circular', 'risk assessment', 'code of conduct', 'cft', 'legal', 'requirements', 'disclosure', 'aml', 'reporting', 'license', 'oversight', 'due diligence', 'record keeping', 'monitoring', 'dlt', 'criminal', 'transaction', 'transactions', '__index_level_0__'],\n",
       "        num_rows: 534\n",
       "    })\n",
       "})"
      ]
     },
     "execution_count": 24,
     "metadata": {},
     "output_type": "execute_result"
    }
   ],
   "source": [
    "dataset"
   ]
  },
  {
   "cell_type": "code",
   "execution_count": 25,
   "id": "2581613b",
   "metadata": {
    "execution": {
     "iopub.execute_input": "2024-06-05T05:04:50.342371Z",
     "iopub.status.busy": "2024-06-05T05:04:50.341833Z",
     "iopub.status.idle": "2024-06-05T05:04:52.554483Z",
     "shell.execute_reply": "2024-06-05T05:04:52.553526Z"
    },
    "papermill": {
     "duration": 2.233716,
     "end_time": "2024-06-05T05:04:52.556455",
     "exception": false,
     "start_time": "2024-06-05T05:04:50.322739",
     "status": "completed"
    },
    "tags": []
   },
   "outputs": [
    {
     "data": {
      "text/plain": [
       "[{'Content': 'a shall not by itself render that person liable to any judicial or other proceedings but in any proceedings under the sfo andor the amlo before any court these guidelines shall be admissible in evidence and if any provision set out in these guidelines appears to the court to be relevant to any question arising in the proceedings it shall be taken into account in determining the question and',\n",
       "  'controls': False,\n",
       "  'regulations': False,\n",
       "  'rules': False,\n",
       "  'risks': False,\n",
       "  'policies': False,\n",
       "  'safeguard': False,\n",
       "  'anti-bribery': False,\n",
       "  'compliance': False,\n",
       "  'guideline': True,\n",
       "  'investor protection': False,\n",
       "  'transfer': False,\n",
       "  'rulebook': False,\n",
       "  'policy': False,\n",
       "  'insider dealing': False,\n",
       "  'identity': False,\n",
       "  'investor': False,\n",
       "  'travel rule': False,\n",
       "  'person': False,\n",
       "  'client': False,\n",
       "  'sanctions': False,\n",
       "  'screening': False,\n",
       "  'suspicious transactions': False,\n",
       "  'risk management': False,\n",
       "  'beneficiary information': False,\n",
       "  'vasp': False,\n",
       "  'entities': False,\n",
       "  'virtual assets': False,\n",
       "  'vasps': False,\n",
       "  'audit': False,\n",
       "  'regulator': False,\n",
       "  'authority': False,\n",
       "  'cdd': False,\n",
       "  'operator': False,\n",
       "  'kyc': False,\n",
       "  'legislation': False,\n",
       "  'conduct': False,\n",
       "  'pep': False,\n",
       "  'circular': False,\n",
       "  'risk assessment': False,\n",
       "  'code of conduct': False,\n",
       "  'cft': False,\n",
       "  'legal': False,\n",
       "  'requirements': False,\n",
       "  'disclosure': False,\n",
       "  'aml': True,\n",
       "  'reporting': False,\n",
       "  'license': False,\n",
       "  'oversight': False,\n",
       "  'due diligence': False,\n",
       "  'record keeping': False,\n",
       "  'monitoring': False,\n",
       "  'dlt': False,\n",
       "  'criminal': False,\n",
       "  'transaction': False,\n",
       "  'transactions': False,\n",
       "  '__index_level_0__': 4768},\n",
       " {'Content': 'as mentioned transactions in the securities sector may prove attractive to money launderers due to the liquidity of the reference markets the combination of the ability to readily liquidate investment portfolios procured with both licit and illicit proceeds the ability to conceal the source of the illicit proceeds the availability of a vast array of possible investment mediums and the ease with which transfers can be effected between them offers money launderers attractive ways to effectively integrate criminal proceeds into the general economy',\n",
       "  'controls': False,\n",
       "  'regulations': False,\n",
       "  'rules': False,\n",
       "  'risks': False,\n",
       "  'policies': False,\n",
       "  'safeguard': False,\n",
       "  'anti-bribery': False,\n",
       "  'compliance': False,\n",
       "  'guideline': False,\n",
       "  'investor protection': False,\n",
       "  'transfer': True,\n",
       "  'rulebook': False,\n",
       "  'policy': False,\n",
       "  'insider dealing': False,\n",
       "  'identity': False,\n",
       "  'investor': False,\n",
       "  'travel rule': False,\n",
       "  'person': False,\n",
       "  'client': False,\n",
       "  'sanctions': False,\n",
       "  'screening': False,\n",
       "  'suspicious transactions': False,\n",
       "  'risk management': False,\n",
       "  'beneficiary information': False,\n",
       "  'vasp': False,\n",
       "  'entities': False,\n",
       "  'virtual assets': True,\n",
       "  'vasps': False,\n",
       "  'audit': False,\n",
       "  'regulator': False,\n",
       "  'authority': False,\n",
       "  'cdd': False,\n",
       "  'operator': False,\n",
       "  'kyc': False,\n",
       "  'legislation': False,\n",
       "  'conduct': False,\n",
       "  'pep': False,\n",
       "  'circular': False,\n",
       "  'risk assessment': False,\n",
       "  'code of conduct': False,\n",
       "  'cft': False,\n",
       "  'legal': False,\n",
       "  'requirements': False,\n",
       "  'disclosure': False,\n",
       "  'aml': True,\n",
       "  'reporting': False,\n",
       "  'license': False,\n",
       "  'oversight': False,\n",
       "  'due diligence': False,\n",
       "  'record keeping': False,\n",
       "  'monitoring': False,\n",
       "  'dlt': False,\n",
       "  'criminal': True,\n",
       "  'transaction': False,\n",
       "  'transactions': False,\n",
       "  '__index_level_0__': 2053}]"
      ]
     },
     "execution_count": 25,
     "metadata": {},
     "output_type": "execute_result"
    }
   ],
   "source": [
    "[i for i in dataset['train']][:2]"
   ]
  },
  {
   "cell_type": "markdown",
   "id": "a2c40c46",
   "metadata": {
    "papermill": {
     "duration": 0.018277,
     "end_time": "2024-06-05T05:04:52.593507",
     "exception": false,
     "start_time": "2024-06-05T05:04:52.575230",
     "status": "completed"
    },
    "tags": []
   },
   "source": [
    "# Data Ready Now Training"
   ]
  },
  {
   "cell_type": "code",
   "execution_count": 26,
   "id": "f829e746",
   "metadata": {
    "execution": {
     "iopub.execute_input": "2024-06-05T05:04:52.631372Z",
     "iopub.status.busy": "2024-06-05T05:04:52.631066Z",
     "iopub.status.idle": "2024-06-05T05:04:55.629090Z",
     "shell.execute_reply": "2024-06-05T05:04:55.627947Z"
    },
    "papermill": {
     "duration": 3.019582,
     "end_time": "2024-06-05T05:04:55.631446",
     "exception": false,
     "start_time": "2024-06-05T05:04:52.611864",
     "status": "completed"
    },
    "tags": []
   },
   "outputs": [
    {
     "name": "stdout",
     "output_type": "stream",
     "text": [
      "\u001b[31mERROR: Could not install packages due to an OSError: [Errno 2] No such file or directory: '/opt/conda/lib/python3.10/site-packages/aiohttp-3.9.1.dist-info/METADATA'\r\n",
      "\u001b[0m\u001b[31m\r\n",
      "\u001b[0m"
     ]
    }
   ],
   "source": [
    "!pip install -q transformers datasets"
   ]
  },
  {
   "cell_type": "markdown",
   "id": "644dddb0",
   "metadata": {
    "papermill": {
     "duration": 0.018423,
     "end_time": "2024-06-05T05:04:55.668857",
     "exception": false,
     "start_time": "2024-06-05T05:04:55.650434",
     "status": "completed"
    },
    "tags": []
   },
   "source": [
    "Add a linear layer on top of the base model, which is used to produce a tensor of shape (batch_size, num_labels), indicating the unnormalized scores for a number of labels for every example in the batch."
   ]
  },
  {
   "cell_type": "markdown",
   "id": "aca74809",
   "metadata": {
    "papermill": {
     "duration": 0.018171,
     "end_time": "2024-06-05T05:04:55.705367",
     "exception": false,
     "start_time": "2024-06-05T05:04:55.687196",
     "status": "completed"
    },
    "tags": []
   },
   "source": [
    "### List containing all the labels"
   ]
  },
  {
   "cell_type": "code",
   "execution_count": 27,
   "id": "1fdc1fe4",
   "metadata": {
    "execution": {
     "iopub.execute_input": "2024-06-05T05:04:55.744115Z",
     "iopub.status.busy": "2024-06-05T05:04:55.743716Z",
     "iopub.status.idle": "2024-06-05T05:04:55.754429Z",
     "shell.execute_reply": "2024-06-05T05:04:55.753490Z"
    },
    "papermill": {
     "duration": 0.032636,
     "end_time": "2024-06-05T05:04:55.756354",
     "exception": false,
     "start_time": "2024-06-05T05:04:55.723718",
     "status": "completed"
    },
    "tags": []
   },
   "outputs": [
    {
     "data": {
      "text/plain": [
       "['controls',\n",
       " 'regulations',\n",
       " 'rules',\n",
       " 'risks',\n",
       " 'policies',\n",
       " 'safeguard',\n",
       " 'anti-bribery',\n",
       " 'compliance',\n",
       " 'guideline',\n",
       " 'investor protection',\n",
       " 'transfer',\n",
       " 'rulebook',\n",
       " 'policy',\n",
       " 'insider dealing',\n",
       " 'identity',\n",
       " 'investor',\n",
       " 'travel rule',\n",
       " 'person',\n",
       " 'client',\n",
       " 'sanctions',\n",
       " 'screening',\n",
       " 'suspicious transactions',\n",
       " 'risk management',\n",
       " 'beneficiary information',\n",
       " 'vasp',\n",
       " 'entities',\n",
       " 'virtual assets',\n",
       " 'vasps',\n",
       " 'audit',\n",
       " 'regulator',\n",
       " 'authority',\n",
       " 'cdd',\n",
       " 'operator',\n",
       " 'kyc',\n",
       " 'legislation',\n",
       " 'conduct',\n",
       " 'pep',\n",
       " 'circular',\n",
       " 'risk assessment',\n",
       " 'code of conduct',\n",
       " 'cft',\n",
       " 'legal',\n",
       " 'requirements',\n",
       " 'disclosure',\n",
       " 'aml',\n",
       " 'reporting',\n",
       " 'license',\n",
       " 'oversight',\n",
       " 'due diligence',\n",
       " 'record keeping',\n",
       " 'monitoring',\n",
       " 'dlt',\n",
       " 'criminal',\n",
       " 'transaction',\n",
       " 'transactions']"
      ]
     },
     "execution_count": 27,
     "metadata": {},
     "output_type": "execute_result"
    }
   ],
   "source": [
    "labels = [label for label in dataset['train'].features.keys() if label not in ['Content','__index_level_0__']]\n",
    "#Create 2 dictionaries that map labels to integers and back.\n",
    "id2label = {idx:label for idx, label in enumerate(labels)}\n",
    "label2id = {label:idx for idx, label in enumerate(labels)}\n",
    "labels"
   ]
  },
  {
   "cell_type": "code",
   "execution_count": 28,
   "id": "9fafd366",
   "metadata": {
    "execution": {
     "iopub.execute_input": "2024-06-05T05:04:55.795171Z",
     "iopub.status.busy": "2024-06-05T05:04:55.794876Z",
     "iopub.status.idle": "2024-06-05T05:04:55.802151Z",
     "shell.execute_reply": "2024-06-05T05:04:55.801345Z"
    },
    "papermill": {
     "duration": 0.028975,
     "end_time": "2024-06-05T05:04:55.804062",
     "exception": false,
     "start_time": "2024-06-05T05:04:55.775087",
     "status": "completed"
    },
    "tags": []
   },
   "outputs": [
    {
     "data": {
      "text/plain": [
       "{0: 'controls',\n",
       " 1: 'regulations',\n",
       " 2: 'rules',\n",
       " 3: 'risks',\n",
       " 4: 'policies',\n",
       " 5: 'safeguard',\n",
       " 6: 'anti-bribery',\n",
       " 7: 'compliance',\n",
       " 8: 'guideline',\n",
       " 9: 'investor protection',\n",
       " 10: 'transfer',\n",
       " 11: 'rulebook',\n",
       " 12: 'policy',\n",
       " 13: 'insider dealing',\n",
       " 14: 'identity',\n",
       " 15: 'investor',\n",
       " 16: 'travel rule',\n",
       " 17: 'person',\n",
       " 18: 'client',\n",
       " 19: 'sanctions',\n",
       " 20: 'screening',\n",
       " 21: 'suspicious transactions',\n",
       " 22: 'risk management',\n",
       " 23: 'beneficiary information',\n",
       " 24: 'vasp',\n",
       " 25: 'entities',\n",
       " 26: 'virtual assets',\n",
       " 27: 'vasps',\n",
       " 28: 'audit',\n",
       " 29: 'regulator',\n",
       " 30: 'authority',\n",
       " 31: 'cdd',\n",
       " 32: 'operator',\n",
       " 33: 'kyc',\n",
       " 34: 'legislation',\n",
       " 35: 'conduct',\n",
       " 36: 'pep',\n",
       " 37: 'circular',\n",
       " 38: 'risk assessment',\n",
       " 39: 'code of conduct',\n",
       " 40: 'cft',\n",
       " 41: 'legal',\n",
       " 42: 'requirements',\n",
       " 43: 'disclosure',\n",
       " 44: 'aml',\n",
       " 45: 'reporting',\n",
       " 46: 'license',\n",
       " 47: 'oversight',\n",
       " 48: 'due diligence',\n",
       " 49: 'record keeping',\n",
       " 50: 'monitoring',\n",
       " 51: 'dlt',\n",
       " 52: 'criminal',\n",
       " 53: 'transaction',\n",
       " 54: 'transactions'}"
      ]
     },
     "execution_count": 28,
     "metadata": {},
     "output_type": "execute_result"
    }
   ],
   "source": [
    "id2label"
   ]
  },
  {
   "cell_type": "code",
   "execution_count": null,
   "id": "977ab579",
   "metadata": {
    "papermill": {
     "duration": 0.01871,
     "end_time": "2024-06-05T05:04:55.841754",
     "exception": false,
     "start_time": "2024-06-05T05:04:55.823044",
     "status": "completed"
    },
    "tags": []
   },
   "outputs": [],
   "source": []
  },
  {
   "cell_type": "markdown",
   "id": "ca654776",
   "metadata": {
    "papermill": {
     "duration": 0.018723,
     "end_time": "2024-06-05T05:04:55.879393",
     "exception": false,
     "start_time": "2024-06-05T05:04:55.860670",
     "status": "completed"
    },
    "tags": []
   },
   "source": [
    "# Tokenization"
   ]
  },
  {
   "cell_type": "markdown",
   "id": "e35f4e45",
   "metadata": {
    "papermill": {
     "duration": 0.019867,
     "end_time": "2024-06-05T05:04:55.917939",
     "exception": false,
     "start_time": "2024-06-05T05:04:55.898072",
     "status": "completed"
    },
    "tags": []
   },
   "source": [
    "### As models like BERT don't expect text as direct input, but rather input_ids, etc., we tokenize the text using the tokenizer. We will use AutoTokenizer API, which will automatically load the appropriate tokenizer based on the checkpoint on the hub.\n",
    "\n",
    "### What's a bit tricky is that we also need to provide labels to the model. For multi-label text classification, this is a matrix of shape (batch_size, num_labels). Also important: this should be a tensor of floats rather than integers, otherwise PyTorch' BCEWithLogitsLoss (which the model will use) will complain"
   ]
  },
  {
   "cell_type": "code",
   "execution_count": 29,
   "id": "5f2776f9",
   "metadata": {
    "execution": {
     "iopub.execute_input": "2024-06-05T05:04:55.957287Z",
     "iopub.status.busy": "2024-06-05T05:04:55.956900Z",
     "iopub.status.idle": "2024-06-05T05:05:01.705505Z",
     "shell.execute_reply": "2024-06-05T05:05:01.704614Z"
    },
    "papermill": {
     "duration": 5.771124,
     "end_time": "2024-06-05T05:05:01.707940",
     "exception": false,
     "start_time": "2024-06-05T05:04:55.936816",
     "status": "completed"
    },
    "tags": []
   },
   "outputs": [
    {
     "data": {
      "application/vnd.jupyter.widget-view+json": {
       "model_id": "9c4d3e84b3b04c4895bbbf9ce5568cfd",
       "version_major": 2,
       "version_minor": 0
      },
      "text/plain": [
       "tokenizer_config.json:   0%|          | 0.00/252 [00:00<?, ?B/s]"
      ]
     },
     "metadata": {},
     "output_type": "display_data"
    },
    {
     "name": "stderr",
     "output_type": "stream",
     "text": [
      "/opt/conda/lib/python3.10/site-packages/huggingface_hub/file_download.py:1132: FutureWarning: `resume_download` is deprecated and will be removed in version 1.0.0. Downloads always resume when possible. If you want to force a new download, use `force_download=True`.\n",
      "  warnings.warn(\n"
     ]
    },
    {
     "data": {
      "application/vnd.jupyter.widget-view+json": {
       "model_id": "fa368ba42d9c425d836d2c52997e3686",
       "version_major": 2,
       "version_minor": 0
      },
      "text/plain": [
       "config.json:   0%|          | 0.00/758 [00:00<?, ?B/s]"
      ]
     },
     "metadata": {},
     "output_type": "display_data"
    },
    {
     "data": {
      "application/vnd.jupyter.widget-view+json": {
       "model_id": "e351c889c3004d7ea9fba9d43e127969",
       "version_major": 2,
       "version_minor": 0
      },
      "text/plain": [
       "vocab.txt:   0%|          | 0.00/232k [00:00<?, ?B/s]"
      ]
     },
     "metadata": {},
     "output_type": "display_data"
    },
    {
     "data": {
      "application/vnd.jupyter.widget-view+json": {
       "model_id": "8fdc35a097cc47b3a717560ed95325b9",
       "version_major": 2,
       "version_minor": 0
      },
      "text/plain": [
       "special_tokens_map.json:   0%|          | 0.00/112 [00:00<?, ?B/s]"
      ]
     },
     "metadata": {},
     "output_type": "display_data"
    }
   ],
   "source": [
    "from transformers import AutoTokenizer\n",
    "import numpy as np\n",
    "\n",
    "tokenizer = AutoTokenizer.from_pretrained(\"ProsusAI/finbert\")\n",
    "\n",
    "def preprocess_data(examples, max_length=128):\n",
    "  # take a batch of texts\n",
    "  text = examples['Content']\n",
    "  batch_size = len(text)\n",
    "  # encode them\n",
    "  encoding = tokenizer(text, padding=\"max_length\", truncation=True, max_length=max_length)\n",
    "  # add labels\n",
    "  labels_batch = {k: examples[k] for k in examples.keys() if k in labels}\n",
    "  # create numpy array of shape (batch_size, num_labels)\n",
    "  labels_matrix = np.zeros((len(text), len(labels)))\n",
    "  # fill numpy array\n",
    "  for idx, label in enumerate(labels):\n",
    "    labels_matrix[:, idx] = labels_batch[label]\n",
    "\n",
    "  encoding[\"labels\"] = labels_matrix.tolist()\n",
    "  \n",
    "  return encoding"
   ]
  },
  {
   "cell_type": "code",
   "execution_count": 30,
   "id": "4e4bf14b",
   "metadata": {
    "execution": {
     "iopub.execute_input": "2024-06-05T05:05:01.750432Z",
     "iopub.status.busy": "2024-06-05T05:05:01.749917Z",
     "iopub.status.idle": "2024-06-05T05:05:02.979846Z",
     "shell.execute_reply": "2024-06-05T05:05:02.979039Z"
    },
    "papermill": {
     "duration": 1.253199,
     "end_time": "2024-06-05T05:05:02.981818",
     "exception": false,
     "start_time": "2024-06-05T05:05:01.728619",
     "status": "completed"
    },
    "tags": []
   },
   "outputs": [
    {
     "data": {
      "application/vnd.jupyter.widget-view+json": {
       "model_id": "39f194fc869b4c79a7b1999cc8ea62e3",
       "version_major": 2,
       "version_minor": 0
      },
      "text/plain": [
       "Map:   0%|          | 0/3769 [00:00<?, ? examples/s]"
      ]
     },
     "metadata": {},
     "output_type": "display_data"
    },
    {
     "data": {
      "application/vnd.jupyter.widget-view+json": {
       "model_id": "0a7fe994b8be435b8da6db1fbc72ce3d",
       "version_major": 2,
       "version_minor": 0
      },
      "text/plain": [
       "Map:   0%|          | 0/1082 [00:00<?, ? examples/s]"
      ]
     },
     "metadata": {},
     "output_type": "display_data"
    },
    {
     "data": {
      "application/vnd.jupyter.widget-view+json": {
       "model_id": "abbd662d5faa461aa83dd6b5c78f17cb",
       "version_major": 2,
       "version_minor": 0
      },
      "text/plain": [
       "Map:   0%|          | 0/534 [00:00<?, ? examples/s]"
      ]
     },
     "metadata": {},
     "output_type": "display_data"
    }
   ],
   "source": [
    "encoded_dataset = dataset.map(preprocess_data, batched=True, remove_columns=dataset['train'].column_names)"
   ]
  },
  {
   "cell_type": "code",
   "execution_count": 31,
   "id": "1e7f3fb1",
   "metadata": {
    "execution": {
     "iopub.execute_input": "2024-06-05T05:05:03.024068Z",
     "iopub.status.busy": "2024-06-05T05:05:03.023778Z",
     "iopub.status.idle": "2024-06-05T05:05:03.029539Z",
     "shell.execute_reply": "2024-06-05T05:05:03.028713Z"
    },
    "papermill": {
     "duration": 0.028771,
     "end_time": "2024-06-05T05:05:03.031443",
     "exception": false,
     "start_time": "2024-06-05T05:05:03.002672",
     "status": "completed"
    },
    "tags": []
   },
   "outputs": [
    {
     "data": {
      "text/plain": [
       "DatasetDict({\n",
       "    train: Dataset({\n",
       "        features: ['input_ids', 'token_type_ids', 'attention_mask', 'labels'],\n",
       "        num_rows: 3769\n",
       "    })\n",
       "    test: Dataset({\n",
       "        features: ['input_ids', 'token_type_ids', 'attention_mask', 'labels'],\n",
       "        num_rows: 1082\n",
       "    })\n",
       "    validation: Dataset({\n",
       "        features: ['input_ids', 'token_type_ids', 'attention_mask', 'labels'],\n",
       "        num_rows: 534\n",
       "    })\n",
       "})"
      ]
     },
     "execution_count": 31,
     "metadata": {},
     "output_type": "execute_result"
    }
   ],
   "source": [
    "encoded_dataset"
   ]
  },
  {
   "cell_type": "code",
   "execution_count": 32,
   "id": "5049e020",
   "metadata": {
    "execution": {
     "iopub.execute_input": "2024-06-05T05:05:03.073425Z",
     "iopub.status.busy": "2024-06-05T05:05:03.073159Z",
     "iopub.status.idle": "2024-06-05T05:05:03.078529Z",
     "shell.execute_reply": "2024-06-05T05:05:03.077677Z"
    },
    "papermill": {
     "duration": 0.028701,
     "end_time": "2024-06-05T05:05:03.080529",
     "exception": false,
     "start_time": "2024-06-05T05:05:03.051828",
     "status": "completed"
    },
    "tags": []
   },
   "outputs": [
    {
     "data": {
      "text/plain": [
       "Dataset({\n",
       "    features: ['input_ids', 'token_type_ids', 'attention_mask', 'labels'],\n",
       "    num_rows: 3769\n",
       "})"
      ]
     },
     "execution_count": 32,
     "metadata": {},
     "output_type": "execute_result"
    }
   ],
   "source": [
    "encoded_dataset['train']"
   ]
  },
  {
   "cell_type": "code",
   "execution_count": 33,
   "id": "d84bd3fd",
   "metadata": {
    "execution": {
     "iopub.execute_input": "2024-06-05T05:05:03.123466Z",
     "iopub.status.busy": "2024-06-05T05:05:03.123185Z",
     "iopub.status.idle": "2024-06-05T05:05:13.911472Z",
     "shell.execute_reply": "2024-06-05T05:05:13.910473Z"
    },
    "papermill": {
     "duration": 10.812554,
     "end_time": "2024-06-05T05:05:13.913708",
     "exception": false,
     "start_time": "2024-06-05T05:05:03.101154",
     "status": "completed"
    },
    "tags": []
   },
   "outputs": [
    {
     "name": "stderr",
     "output_type": "stream",
     "text": [
      "2024-06-05 05:05:04.894769: E external/local_xla/xla/stream_executor/cuda/cuda_dnn.cc:9261] Unable to register cuDNN factory: Attempting to register factory for plugin cuDNN when one has already been registered\n",
      "2024-06-05 05:05:04.894892: E external/local_xla/xla/stream_executor/cuda/cuda_fft.cc:607] Unable to register cuFFT factory: Attempting to register factory for plugin cuFFT when one has already been registered\n",
      "2024-06-05 05:05:05.033788: E external/local_xla/xla/stream_executor/cuda/cuda_blas.cc:1515] Unable to register cuBLAS factory: Attempting to register factory for plugin cuBLAS when one has already been registered\n"
     ]
    },
    {
     "data": {
      "text/plain": [
       "'[CLS] a shall not by itself render that person liable to any judicial or other proceedings but in any proceedings under the sfo andor the amlo before any court these guidelines shall be admissible in evidence and if any provision set out in these guidelines appears to the court to be relevant to any question arising in the proceedings it shall be taken into account in determining the question and [SEP] [PAD] [PAD] [PAD] [PAD] [PAD] [PAD] [PAD] [PAD] [PAD] [PAD] [PAD] [PAD] [PAD] [PAD] [PAD] [PAD] [PAD] [PAD] [PAD] [PAD] [PAD] [PAD] [PAD] [PAD] [PAD] [PAD] [PAD] [PAD] [PAD] [PAD] [PAD] [PAD] [PAD] [PAD] [PAD] [PAD] [PAD] [PAD] [PAD] [PAD] [PAD] [PAD] [PAD] [PAD] [PAD] [PAD] [PAD] [PAD] [PAD] [PAD] [PAD] [PAD] [PAD]'"
      ]
     },
     "execution_count": 33,
     "metadata": {},
     "output_type": "execute_result"
    }
   ],
   "source": [
    "example = encoded_dataset['train'][0]\n",
    "tokenizer.decode(example['input_ids'])"
   ]
  },
  {
   "cell_type": "code",
   "execution_count": 34,
   "id": "a741094c",
   "metadata": {
    "execution": {
     "iopub.execute_input": "2024-06-05T05:05:13.958454Z",
     "iopub.status.busy": "2024-06-05T05:05:13.957888Z",
     "iopub.status.idle": "2024-06-05T05:05:13.962097Z",
     "shell.execute_reply": "2024-06-05T05:05:13.961264Z"
    },
    "papermill": {
     "duration": 0.028317,
     "end_time": "2024-06-05T05:05:13.964071",
     "exception": false,
     "start_time": "2024-06-05T05:05:13.935754",
     "status": "completed"
    },
    "tags": []
   },
   "outputs": [],
   "source": [
    "#example['labels']"
   ]
  },
  {
   "cell_type": "code",
   "execution_count": 35,
   "id": "fec8a284",
   "metadata": {
    "execution": {
     "iopub.execute_input": "2024-06-05T05:05:14.008783Z",
     "iopub.status.busy": "2024-06-05T05:05:14.008467Z",
     "iopub.status.idle": "2024-06-05T05:05:14.014461Z",
     "shell.execute_reply": "2024-06-05T05:05:14.013799Z"
    },
    "papermill": {
     "duration": 0.03002,
     "end_time": "2024-06-05T05:05:14.016419",
     "exception": false,
     "start_time": "2024-06-05T05:05:13.986399",
     "status": "completed"
    },
    "tags": []
   },
   "outputs": [],
   "source": [
    "#use id to label dictionary\n",
    "[id2label[idx] for idx, label in enumerate(example['labels']) if label == 1.0]\n",
    "encoded_dataset.set_format(\"torch\") "
   ]
  },
  {
   "cell_type": "markdown",
   "id": "a38a8afc",
   "metadata": {
    "papermill": {
     "duration": 0.020203,
     "end_time": "2024-06-05T05:05:14.057261",
     "exception": false,
     "start_time": "2024-06-05T05:05:14.037058",
     "status": "completed"
    },
    "tags": []
   },
   "source": [
    "### Here we define a model that includes a pre-trained base (i.e. the weights from bert-base-uncased) are loaded, with a random initialized classification head (linear layer) on top. One should fine-tune this head, together with the pre-trained base on a labeled dataset.\n",
    "\n",
    "### We set the problem_type to be \"multi_label_classification\", as this will make sure the appropriate loss function is used (namely BCEWithLogitsLoss). We also make sure the output layer has len(labels) output neurons, and we set the id2label and label2id mappings"
   ]
  },
  {
   "cell_type": "code",
   "execution_count": 36,
   "id": "5e3ce5e0",
   "metadata": {
    "execution": {
     "iopub.execute_input": "2024-06-05T05:05:14.099400Z",
     "iopub.status.busy": "2024-06-05T05:05:14.099133Z",
     "iopub.status.idle": "2024-06-05T05:05:19.615683Z",
     "shell.execute_reply": "2024-06-05T05:05:19.614694Z"
    },
    "papermill": {
     "duration": 5.540068,
     "end_time": "2024-06-05T05:05:19.617914",
     "exception": false,
     "start_time": "2024-06-05T05:05:14.077846",
     "status": "completed"
    },
    "tags": []
   },
   "outputs": [
    {
     "data": {
      "application/vnd.jupyter.widget-view+json": {
       "model_id": "f5a38ff3b92d4b6cbaa90d4c9905625c",
       "version_major": 2,
       "version_minor": 0
      },
      "text/plain": [
       "pytorch_model.bin:   0%|          | 0.00/438M [00:00<?, ?B/s]"
      ]
     },
     "metadata": {},
     "output_type": "display_data"
    },
    {
     "name": "stderr",
     "output_type": "stream",
     "text": [
      "/opt/conda/lib/python3.10/site-packages/torch/_utils.py:831: UserWarning: TypedStorage is deprecated. It will be removed in the future and UntypedStorage will be the only storage class. This should only matter to you if you are using storages directly.  To access UntypedStorage directly, use tensor.untyped_storage() instead of tensor.storage()\n",
      "  return self.fget.__get__(instance, owner)()\n",
      "Some weights of BertForSequenceClassification were not initialized from the model checkpoint at ProsusAI/finbert and are newly initialized because the shapes did not match:\n",
      "- classifier.weight: found shape torch.Size([3, 768]) in the checkpoint and torch.Size([55, 768]) in the model instantiated\n",
      "- classifier.bias: found shape torch.Size([3]) in the checkpoint and torch.Size([55]) in the model instantiated\n",
      "You should probably TRAIN this model on a down-stream task to be able to use it for predictions and inference.\n"
     ]
    }
   ],
   "source": [
    "from transformers import AutoModelForSequenceClassification\n",
    "\n",
    "model = AutoModelForSequenceClassification.from_pretrained(\"ProsusAI/finbert\", \n",
    "                                                           problem_type=\"multi_label_classification\", \n",
    "                                                           num_labels=len(labels),\n",
    "                                                           id2label=id2label,\n",
    "                                                           label2id=label2id,\n",
    "                                                          ignore_mismatched_sizes=True )"
   ]
  },
  {
   "cell_type": "code",
   "execution_count": 37,
   "id": "1931a208",
   "metadata": {
    "execution": {
     "iopub.execute_input": "2024-06-05T05:05:19.661820Z",
     "iopub.status.busy": "2024-06-05T05:05:19.661492Z",
     "iopub.status.idle": "2024-06-05T05:05:19.665522Z",
     "shell.execute_reply": "2024-06-05T05:05:19.664749Z"
    },
    "papermill": {
     "duration": 0.027783,
     "end_time": "2024-06-05T05:05:19.667443",
     "exception": false,
     "start_time": "2024-06-05T05:05:19.639660",
     "status": "completed"
    },
    "tags": []
   },
   "outputs": [],
   "source": [
    "batch_size = 64\n",
    "metric_name = \"f1\""
   ]
  },
  {
   "cell_type": "code",
   "execution_count": 38,
   "id": "2fb9ff48",
   "metadata": {
    "execution": {
     "iopub.execute_input": "2024-06-05T05:05:19.709998Z",
     "iopub.status.busy": "2024-06-05T05:05:19.709700Z",
     "iopub.status.idle": "2024-06-05T05:05:19.861177Z",
     "shell.execute_reply": "2024-06-05T05:05:19.860304Z"
    },
    "papermill": {
     "duration": 0.175115,
     "end_time": "2024-06-05T05:05:19.863267",
     "exception": false,
     "start_time": "2024-06-05T05:05:19.688152",
     "status": "completed"
    },
    "tags": []
   },
   "outputs": [
    {
     "name": "stderr",
     "output_type": "stream",
     "text": [
      "/opt/conda/lib/python3.10/site-packages/transformers/training_args.py:1474: FutureWarning: `evaluation_strategy` is deprecated and will be removed in version 4.46 of 🤗 Transformers. Use `eval_strategy` instead\n",
      "  warnings.warn(\n"
     ]
    }
   ],
   "source": [
    "from transformers import TrainingArguments, Trainer\n",
    "\n",
    "args = TrainingArguments(\n",
    "    f\"bert-finetuned-sem_eval-english\",\n",
    "    evaluation_strategy = \"epoch\",\n",
    "    save_strategy = \"epoch\",\n",
    "    learning_rate=2e-5,\n",
    "    per_device_train_batch_size=batch_size,\n",
    "    per_device_eval_batch_size=batch_size,\n",
    "    num_train_epochs=10,\n",
    "    weight_decay=0.01,\n",
    "    load_best_model_at_end=True,\n",
    "    metric_for_best_model=metric_name\n",
    ")"
   ]
  },
  {
   "cell_type": "markdown",
   "id": "176bec13",
   "metadata": {
    "papermill": {
     "duration": 0.02084,
     "end_time": "2024-06-05T05:05:19.905659",
     "exception": false,
     "start_time": "2024-06-05T05:05:19.884819",
     "status": "completed"
    },
    "tags": []
   },
   "source": [
    "we need to define a compute_metrics function, that returns a dictionary with the desired metric values.\n",
    "\n",
    "source: https://jesusleal.io/2021/04/21/Longformer-multilabel-classification/"
   ]
  },
  {
   "cell_type": "code",
   "execution_count": 39,
   "id": "b8182ba9",
   "metadata": {
    "execution": {
     "iopub.execute_input": "2024-06-05T05:05:19.948899Z",
     "iopub.status.busy": "2024-06-05T05:05:19.948589Z",
     "iopub.status.idle": "2024-06-05T05:05:19.956612Z",
     "shell.execute_reply": "2024-06-05T05:05:19.955779Z"
    },
    "papermill": {
     "duration": 0.031799,
     "end_time": "2024-06-05T05:05:19.958395",
     "exception": false,
     "start_time": "2024-06-05T05:05:19.926596",
     "status": "completed"
    },
    "tags": []
   },
   "outputs": [],
   "source": [
    "from sklearn.metrics import f1_score, roc_auc_score, accuracy_score\n",
    "from transformers import EvalPrediction\n",
    "import torch\n",
    "    \n",
    "\n",
    "def multi_label_metrics(predictions, labels, threshold=0.5):\n",
    "    # first, apply sigmoid on predictions which are of shape (batch_size, num_labels)\n",
    "    sigmoid = torch.nn.Sigmoid()\n",
    "    probs = sigmoid(torch.Tensor(predictions))\n",
    "    # next, use threshold to turn them into integer predictions\n",
    "    y_pred = np.zeros(probs.shape)\n",
    "    y_pred[np.where(probs >= threshold)] = 1\n",
    "    # finally, compute metrics\n",
    "    y_true = labels\n",
    "    f1_micro_average = f1_score(y_true=y_true, y_pred=y_pred, average='micro')\n",
    "    roc_auc = roc_auc_score(y_true, y_pred, average = 'micro')\n",
    "    accuracy = accuracy_score(y_true, y_pred)\n",
    "    # return as dictionary\n",
    "    metrics = {'f1': f1_micro_average,\n",
    "               'roc_auc': roc_auc,\n",
    "               'accuracy': accuracy}\n",
    "    return metrics\n",
    "\n",
    "def compute_metrics(p: EvalPrediction):\n",
    "    preds = p.predictions[0] if isinstance(p.predictions, tuple) else p.predictions\n",
    "    result = multi_label_metrics(predictions=preds,labels=p.label_ids)\n",
    "    return result\n",
    "  \n",
    "   \n"
   ]
  },
  {
   "cell_type": "code",
   "execution_count": 40,
   "id": "2c9e44f4",
   "metadata": {
    "execution": {
     "iopub.execute_input": "2024-06-05T05:05:20.002420Z",
     "iopub.status.busy": "2024-06-05T05:05:20.002151Z",
     "iopub.status.idle": "2024-06-05T05:05:20.014268Z",
     "shell.execute_reply": "2024-06-05T05:05:20.013473Z"
    },
    "papermill": {
     "duration": 0.036813,
     "end_time": "2024-06-05T05:05:20.016152",
     "exception": false,
     "start_time": "2024-06-05T05:05:19.979339",
     "status": "completed"
    },
    "tags": []
   },
   "outputs": [
    {
     "data": {
      "text/plain": [
       "'torch.FloatTensor'"
      ]
     },
     "execution_count": 40,
     "metadata": {},
     "output_type": "execute_result"
    }
   ],
   "source": [
    "encoded_dataset['train'][0]['labels'].type()"
   ]
  },
  {
   "cell_type": "code",
   "execution_count": 41,
   "id": "3ba43879",
   "metadata": {
    "execution": {
     "iopub.execute_input": "2024-06-05T05:05:20.059552Z",
     "iopub.status.busy": "2024-06-05T05:05:20.059310Z",
     "iopub.status.idle": "2024-06-05T05:05:20.076925Z",
     "shell.execute_reply": "2024-06-05T05:05:20.076054Z"
    },
    "papermill": {
     "duration": 0.041576,
     "end_time": "2024-06-05T05:05:20.078841",
     "exception": false,
     "start_time": "2024-06-05T05:05:20.037265",
     "status": "completed"
    },
    "tags": []
   },
   "outputs": [
    {
     "data": {
      "text/plain": [
       "tensor([  101,  1037,  4618,  2025,  2011,  2993, 17552,  2008,  2711, 20090,\n",
       "         2000,  2151,  8268,  2030,  2060,  8931,  2021,  1999,  2151,  8931,\n",
       "         2104,  1996, 16420,  2080,  1998,  2953,  1996,  2572,  4135,  2077,\n",
       "         2151,  2457,  2122, 11594,  4618,  2022,  4748, 26770,  1999,  3350,\n",
       "         1998,  2065,  2151,  9347,  2275,  2041,  1999,  2122, 11594,  3544,\n",
       "         2000,  1996,  2457,  2000,  2022,  7882,  2000,  2151,  3160, 17707,\n",
       "         1999,  1996,  8931,  2009,  4618,  2022,  2579,  2046,  4070,  1999,\n",
       "        12515,  1996,  3160,  1998,   102,     0,     0,     0,     0,     0,\n",
       "            0,     0,     0,     0,     0,     0,     0,     0,     0,     0,\n",
       "            0,     0,     0,     0,     0,     0,     0,     0,     0,     0,\n",
       "            0,     0,     0,     0,     0,     0,     0,     0,     0,     0,\n",
       "            0,     0,     0,     0,     0,     0,     0,     0,     0,     0,\n",
       "            0,     0,     0,     0,     0,     0,     0,     0])"
      ]
     },
     "execution_count": 41,
     "metadata": {},
     "output_type": "execute_result"
    }
   ],
   "source": [
    "encoded_dataset['train']['input_ids'][0]"
   ]
  },
  {
   "cell_type": "code",
   "execution_count": 42,
   "id": "e9e41fd8",
   "metadata": {
    "execution": {
     "iopub.execute_input": "2024-06-05T05:05:20.123037Z",
     "iopub.status.busy": "2024-06-05T05:05:20.122781Z",
     "iopub.status.idle": "2024-06-05T05:05:20.126399Z",
     "shell.execute_reply": "2024-06-05T05:05:20.125556Z"
    },
    "papermill": {
     "duration": 0.027586,
     "end_time": "2024-06-05T05:05:20.128331",
     "exception": false,
     "start_time": "2024-06-05T05:05:20.100745",
     "status": "completed"
    },
    "tags": []
   },
   "outputs": [],
   "source": [
    "# #forward pass\n",
    "# #, attention_mask=attention_mask\n",
    "# outputs = model(input_ids=encoded_dataset['train']['input_ids'][0].unsqueeze(0), labels=encoded_dataset['train'][0]['labels'].unsqueeze(0))\n",
    "# outputs"
   ]
  },
  {
   "cell_type": "code",
   "execution_count": 43,
   "id": "cf26254c",
   "metadata": {
    "execution": {
     "iopub.execute_input": "2024-06-05T05:05:20.174656Z",
     "iopub.status.busy": "2024-06-05T05:05:20.174212Z",
     "iopub.status.idle": "2024-06-05T05:05:20.180155Z",
     "shell.execute_reply": "2024-06-05T05:05:20.177943Z"
    },
    "papermill": {
     "duration": 0.032916,
     "end_time": "2024-06-05T05:05:20.182494",
     "exception": false,
     "start_time": "2024-06-05T05:05:20.149578",
     "status": "completed"
    },
    "tags": []
   },
   "outputs": [],
   "source": [
    "from transformers import AutoModelForSequenceClassification, Trainer"
   ]
  },
  {
   "cell_type": "code",
   "execution_count": 44,
   "id": "43b7cbd7",
   "metadata": {
    "execution": {
     "iopub.execute_input": "2024-06-05T05:05:20.245334Z",
     "iopub.status.busy": "2024-06-05T05:05:20.244963Z",
     "iopub.status.idle": "2024-06-05T05:05:20.418936Z",
     "shell.execute_reply": "2024-06-05T05:05:20.417818Z"
    },
    "papermill": {
     "duration": 0.209117,
     "end_time": "2024-06-05T05:05:20.421221",
     "exception": false,
     "start_time": "2024-06-05T05:05:20.212104",
     "status": "completed"
    },
    "tags": []
   },
   "outputs": [],
   "source": [
    "\n",
    "from kaggle_secrets import UserSecretsClient\n",
    "user_secrets = UserSecretsClient()\n",
    "secret_value_0 = user_secrets.get_secret(\"WANDB_API_KEY\")\n"
   ]
  },
  {
   "cell_type": "code",
   "execution_count": 45,
   "id": "6cfc1910",
   "metadata": {
    "execution": {
     "iopub.execute_input": "2024-06-05T05:05:20.466351Z",
     "iopub.status.busy": "2024-06-05T05:05:20.466036Z",
     "iopub.status.idle": "2024-06-05T05:05:20.470445Z",
     "shell.execute_reply": "2024-06-05T05:05:20.469598Z"
    },
    "papermill": {
     "duration": 0.028847,
     "end_time": "2024-06-05T05:05:20.472258",
     "exception": false,
     "start_time": "2024-06-05T05:05:20.443411",
     "status": "completed"
    },
    "tags": []
   },
   "outputs": [],
   "source": [
    "import os\n",
    "os.environ['WANDB_API_KEY'] =\"313a57558bcaee784e68d1654f7915a0b463a341\""
   ]
  },
  {
   "cell_type": "code",
   "execution_count": 46,
   "id": "88e01d78",
   "metadata": {
    "execution": {
     "iopub.execute_input": "2024-06-05T05:05:20.516767Z",
     "iopub.status.busy": "2024-06-05T05:05:20.516479Z",
     "iopub.status.idle": "2024-06-05T05:05:21.417673Z",
     "shell.execute_reply": "2024-06-05T05:05:21.416910Z"
    },
    "papermill": {
     "duration": 0.925717,
     "end_time": "2024-06-05T05:05:21.419971",
     "exception": false,
     "start_time": "2024-06-05T05:05:20.494254",
     "status": "completed"
    },
    "tags": []
   },
   "outputs": [],
   "source": [
    "trainer = Trainer(\n",
    "    model,\n",
    "    args,\n",
    "    train_dataset=encoded_dataset[\"train\"],\n",
    "    eval_dataset=encoded_dataset[\"validation\"],\n",
    "    tokenizer=tokenizer,\n",
    "    compute_metrics=compute_metrics,\n",
    "\n",
    ")"
   ]
  },
  {
   "cell_type": "code",
   "execution_count": 47,
   "id": "4ae4ac50",
   "metadata": {
    "execution": {
     "iopub.execute_input": "2024-06-05T05:05:21.465250Z",
     "iopub.status.busy": "2024-06-05T05:05:21.464623Z",
     "iopub.status.idle": "2024-06-05T05:13:27.491664Z",
     "shell.execute_reply": "2024-06-05T05:13:27.490601Z"
    },
    "papermill": {
     "duration": 486.054346,
     "end_time": "2024-06-05T05:13:27.496727",
     "exception": false,
     "start_time": "2024-06-05T05:05:21.442381",
     "status": "completed"
    },
    "tags": []
   },
   "outputs": [
    {
     "name": "stderr",
     "output_type": "stream",
     "text": [
      "\u001b[34m\u001b[1mwandb\u001b[0m: \u001b[33mWARNING\u001b[0m The `run_name` is currently set to the same value as `TrainingArguments.output_dir`. If this was not intended, please specify a different run name by setting the `TrainingArguments.run_name` parameter.\n",
      "\u001b[34m\u001b[1mwandb\u001b[0m: Currently logged in as: \u001b[33manshtanwar007\u001b[0m (\u001b[33manshta\u001b[0m). Use \u001b[1m`wandb login --relogin`\u001b[0m to force relogin\n",
      "\u001b[34m\u001b[1mwandb\u001b[0m: Tracking run with wandb version 0.17.0\n",
      "\u001b[34m\u001b[1mwandb\u001b[0m: Run data is saved locally in \u001b[35m\u001b[1m/kaggle/working/wandb/run-20240605_050522-r2k9pnmv\u001b[0m\n",
      "\u001b[34m\u001b[1mwandb\u001b[0m: Run \u001b[1m`wandb offline`\u001b[0m to turn off syncing.\n",
      "\u001b[34m\u001b[1mwandb\u001b[0m: Syncing run \u001b[33mbert-finetuned-sem_eval-english\u001b[0m\n",
      "\u001b[34m\u001b[1mwandb\u001b[0m: ⭐️ View project at \u001b[34m\u001b[4mhttps://wandb.ai/anshta/huggingface\u001b[0m\n",
      "\u001b[34m\u001b[1mwandb\u001b[0m: 🚀 View run at \u001b[34m\u001b[4mhttps://wandb.ai/anshta/huggingface/runs/r2k9pnmv\u001b[0m\n"
     ]
    },
    {
     "data": {
      "text/html": [
       "\n",
       "    <div>\n",
       "      \n",
       "      <progress value='590' max='590' style='width:300px; height:20px; vertical-align: middle;'></progress>\n",
       "      [590/590 07:46, Epoch 10/10]\n",
       "    </div>\n",
       "    <table border=\"1\" class=\"dataframe\">\n",
       "  <thead>\n",
       " <tr style=\"text-align: left;\">\n",
       "      <th>Epoch</th>\n",
       "      <th>Training Loss</th>\n",
       "      <th>Validation Loss</th>\n",
       "      <th>F1</th>\n",
       "      <th>Roc Auc</th>\n",
       "      <th>Accuracy</th>\n",
       "    </tr>\n",
       "  </thead>\n",
       "  <tbody>\n",
       "    <tr>\n",
       "      <td>1</td>\n",
       "      <td>No log</td>\n",
       "      <td>0.358017</td>\n",
       "      <td>0.000000</td>\n",
       "      <td>0.500000</td>\n",
       "      <td>0.000000</td>\n",
       "    </tr>\n",
       "    <tr>\n",
       "      <td>2</td>\n",
       "      <td>No log</td>\n",
       "      <td>0.258970</td>\n",
       "      <td>0.000000</td>\n",
       "      <td>0.500000</td>\n",
       "      <td>0.000000</td>\n",
       "    </tr>\n",
       "    <tr>\n",
       "      <td>3</td>\n",
       "      <td>No log</td>\n",
       "      <td>0.223754</td>\n",
       "      <td>0.000000</td>\n",
       "      <td>0.500000</td>\n",
       "      <td>0.000000</td>\n",
       "    </tr>\n",
       "    <tr>\n",
       "      <td>4</td>\n",
       "      <td>No log</td>\n",
       "      <td>0.209370</td>\n",
       "      <td>0.000000</td>\n",
       "      <td>0.500000</td>\n",
       "      <td>0.000000</td>\n",
       "    </tr>\n",
       "    <tr>\n",
       "      <td>5</td>\n",
       "      <td>No log</td>\n",
       "      <td>0.201838</td>\n",
       "      <td>0.000000</td>\n",
       "      <td>0.500000</td>\n",
       "      <td>0.000000</td>\n",
       "    </tr>\n",
       "    <tr>\n",
       "      <td>6</td>\n",
       "      <td>No log</td>\n",
       "      <td>0.196498</td>\n",
       "      <td>0.000000</td>\n",
       "      <td>0.499946</td>\n",
       "      <td>0.000000</td>\n",
       "    </tr>\n",
       "    <tr>\n",
       "      <td>7</td>\n",
       "      <td>No log</td>\n",
       "      <td>0.192087</td>\n",
       "      <td>0.010941</td>\n",
       "      <td>0.502584</td>\n",
       "      <td>0.000000</td>\n",
       "    </tr>\n",
       "    <tr>\n",
       "      <td>8</td>\n",
       "      <td>No log</td>\n",
       "      <td>0.188755</td>\n",
       "      <td>0.016313</td>\n",
       "      <td>0.503858</td>\n",
       "      <td>0.000000</td>\n",
       "    </tr>\n",
       "    <tr>\n",
       "      <td>9</td>\n",
       "      <td>0.249100</td>\n",
       "      <td>0.186634</td>\n",
       "      <td>0.042918</td>\n",
       "      <td>0.510772</td>\n",
       "      <td>0.001873</td>\n",
       "    </tr>\n",
       "    <tr>\n",
       "      <td>10</td>\n",
       "      <td>0.249100</td>\n",
       "      <td>0.185599</td>\n",
       "      <td>0.056323</td>\n",
       "      <td>0.514276</td>\n",
       "      <td>0.003745</td>\n",
       "    </tr>\n",
       "  </tbody>\n",
       "</table><p>"
      ],
      "text/plain": [
       "<IPython.core.display.HTML object>"
      ]
     },
     "metadata": {},
     "output_type": "display_data"
    },
    {
     "data": {
      "text/plain": [
       "TrainOutput(global_step=590, training_loss=0.23902571080094676, metrics={'train_runtime': 485.7045, 'train_samples_per_second': 77.599, 'train_steps_per_second': 1.215, 'total_flos': 2480343667991040.0, 'train_loss': 0.23902571080094676, 'epoch': 10.0})"
      ]
     },
     "execution_count": 47,
     "metadata": {},
     "output_type": "execute_result"
    }
   ],
   "source": [
    "trainer.train()"
   ]
  },
  {
   "cell_type": "code",
   "execution_count": 48,
   "id": "56bcfdd1",
   "metadata": {
    "execution": {
     "iopub.execute_input": "2024-06-05T05:13:27.544002Z",
     "iopub.status.busy": "2024-06-05T05:13:27.543661Z",
     "iopub.status.idle": "2024-06-05T05:13:29.625218Z",
     "shell.execute_reply": "2024-06-05T05:13:29.624247Z"
    },
    "papermill": {
     "duration": 2.107113,
     "end_time": "2024-06-05T05:13:29.627410",
     "exception": false,
     "start_time": "2024-06-05T05:13:27.520297",
     "status": "completed"
    },
    "tags": []
   },
   "outputs": [
    {
     "data": {
      "text/html": [
       "\n",
       "    <div>\n",
       "      \n",
       "      <progress value='9' max='9' style='width:300px; height:20px; vertical-align: middle;'></progress>\n",
       "      [9/9 00:01]\n",
       "    </div>\n",
       "    "
      ],
      "text/plain": [
       "<IPython.core.display.HTML object>"
      ]
     },
     "metadata": {},
     "output_type": "display_data"
    },
    {
     "data": {
      "text/plain": [
       "{'eval_loss': 0.18559889495372772,\n",
       " 'eval_f1': 0.056323060573857595,\n",
       " 'eval_roc_auc': 0.5142761203542392,\n",
       " 'eval_accuracy': 0.003745318352059925,\n",
       " 'eval_runtime': 2.0702,\n",
       " 'eval_samples_per_second': 257.947,\n",
       " 'eval_steps_per_second': 4.347,\n",
       " 'epoch': 10.0}"
      ]
     },
     "execution_count": 48,
     "metadata": {},
     "output_type": "execute_result"
    }
   ],
   "source": [
    "trainer.evaluate()"
   ]
  },
  {
   "cell_type": "markdown",
   "id": "9b6e5312",
   "metadata": {
    "papermill": {
     "duration": 0.02281,
     "end_time": "2024-06-05T05:13:29.675666",
     "exception": false,
     "start_time": "2024-06-05T05:13:29.652856",
     "status": "completed"
    },
    "tags": []
   },
   "source": [
    "# Inference\n",
    "add Codeadd Markdown\n",
    "The logits that come out of the model are of shape (batch_size, num_labels). As we are only forwarding a single sentence through the model, the batch_size equals 1.\n",
    "\n",
    "The logits is a tensor that contains the (unnormalized) scores for every individual label.\n",
    "\n",
    "The logits that come out of the model are of shape (batch_size, num_labels). As we are only forwarding a single sentence through the model, the batch_size equals 1.\n",
    "\n",
    "The logits is a tensor that contains the (unnormalized) scores for every individual label."
   ]
  },
  {
   "cell_type": "code",
   "execution_count": 49,
   "id": "6c1087e2",
   "metadata": {
    "execution": {
     "iopub.execute_input": "2024-06-05T05:13:29.723399Z",
     "iopub.status.busy": "2024-06-05T05:13:29.723082Z",
     "iopub.status.idle": "2024-06-05T05:13:29.730283Z",
     "shell.execute_reply": "2024-06-05T05:13:29.729408Z"
    },
    "papermill": {
     "duration": 0.032717,
     "end_time": "2024-06-05T05:13:29.732245",
     "exception": false,
     "start_time": "2024-06-05T05:13:29.699528",
     "status": "completed"
    },
    "tags": []
   },
   "outputs": [],
   "source": [
    "def get_answer(text):\n",
    "    \n",
    "    encoding = tokenizer(text, return_tensors=\"pt\")\n",
    "    encoding = {k: v.to(trainer.model.device) for k,v in encoding.items()}\n",
    "    outputs = trainer.model(**encoding)\n",
    "    logits = outputs.logits\n",
    "    print(logits.shape)\n",
    "    \n",
    "    # apply sigmoid + threshold\n",
    "    sigmoid = torch.nn.Sigmoid()\n",
    "    probs = sigmoid(logits.squeeze().cpu())\n",
    "    print(probs)\n",
    "    predictions = np.zeros(probs.shape)\n",
    "    predictions[np.where(probs >= 0.5)] = 1\n",
    "    print(predictions)\n",
    "    predicted_labels = [id2label[idx] for idx, label in enumerate(predictions) if label == 1.0]\n",
    "    print()\n",
    "    return predicted_labels\n"
   ]
  },
  {
   "cell_type": "code",
   "execution_count": 50,
   "id": "039088df",
   "metadata": {
    "execution": {
     "iopub.execute_input": "2024-06-05T05:13:29.778610Z",
     "iopub.status.busy": "2024-06-05T05:13:29.777934Z",
     "iopub.status.idle": "2024-06-05T05:13:29.827510Z",
     "shell.execute_reply": "2024-06-05T05:13:29.826600Z"
    },
    "papermill": {
     "duration": 0.074965,
     "end_time": "2024-06-05T05:13:29.829719",
     "exception": false,
     "start_time": "2024-06-05T05:13:29.754754",
     "status": "completed"
    },
    "tags": []
   },
   "outputs": [
    {
     "name": "stdout",
     "output_type": "stream",
     "text": [
      "torch.Size([1, 55])\n",
      "tensor([0.0574, 0.0749, 0.0600, 0.1320, 0.0481, 0.0345, 0.0379, 0.3181, 0.0694,\n",
      "        0.0348, 0.0767, 0.0793, 0.0440, 0.0378, 0.0382, 0.0473, 0.0409, 0.0940,\n",
      "        0.1637, 0.0338, 0.0471, 0.0498, 0.0411, 0.0361, 0.1182, 0.0495, 0.4745,\n",
      "        0.0697, 0.0438, 0.3284, 0.0406, 0.0553, 0.0866, 0.0312, 0.0396, 0.0436,\n",
      "        0.0349, 0.0412, 0.0463, 0.0242, 0.0867, 0.0601, 0.1173, 0.0310, 0.1484,\n",
      "        0.0613, 0.1151, 0.0274, 0.0438, 0.0436, 0.0516, 0.0428, 0.0458, 0.1001,\n",
      "        0.0674], grad_fn=<SigmoidBackward0>)\n",
      "[0. 0. 0. 0. 0. 0. 0. 0. 0. 0. 0. 0. 0. 0. 0. 0. 0. 0. 0. 0. 0. 0. 0. 0.\n",
      " 0. 0. 0. 0. 0. 0. 0. 0. 0. 0. 0. 0. 0. 0. 0. 0. 0. 0. 0. 0. 0. 0. 0. 0.\n",
      " 0. 0. 0. 0. 0. 0. 0.]\n",
      "\n"
     ]
    },
    {
     "data": {
      "text/plain": [
       "[]"
      ]
     },
     "execution_count": 50,
     "metadata": {},
     "output_type": "execute_result"
    }
   ],
   "source": [
    "text = \"The new licensing regime for centralised virtual asset trading platforms under the Anti-MoneyLaundering and Counter-Terrorist Financing Ordinance (Cap. 615) (AMLO) will come intoeffect on 1 June 2023. Under the new regime, centralised virtual asset trading platformsoperating in Hong Kong will need to apply to the Securities and Futures Commission (SFC)for a licence under the Securities and Futures Ordinance (Cap 571) (SFO) and/or the AMLO(Dual Licence Arrangement)\"\n",
    "get_answer(text)"
   ]
  },
  {
   "cell_type": "markdown",
   "id": "64ca420d",
   "metadata": {
    "papermill": {
     "duration": 0.023003,
     "end_time": "2024-06-05T05:13:29.877650",
     "exception": false,
     "start_time": "2024-06-05T05:13:29.854647",
     "status": "completed"
    },
    "tags": []
   },
   "source": [
    "# Probability"
   ]
  },
  {
   "cell_type": "code",
   "execution_count": 51,
   "id": "957b7328",
   "metadata": {
    "execution": {
     "iopub.execute_input": "2024-06-05T05:13:29.925176Z",
     "iopub.status.busy": "2024-06-05T05:13:29.924506Z",
     "iopub.status.idle": "2024-06-05T05:13:29.928348Z",
     "shell.execute_reply": "2024-06-05T05:13:29.927489Z"
    },
    "papermill": {
     "duration": 0.029837,
     "end_time": "2024-06-05T05:13:29.930336",
     "exception": false,
     "start_time": "2024-06-05T05:13:29.900499",
     "status": "completed"
    },
    "tags": []
   },
   "outputs": [],
   "source": [
    "# outputs = trainer.model(**encoding)\n",
    "# logits = outputs.logits\n",
    "# logits.shape"
   ]
  },
  {
   "cell_type": "markdown",
   "id": "ef4a75d5",
   "metadata": {
    "papermill": {
     "duration": 0.022604,
     "end_time": "2024-06-05T05:13:29.975906",
     "exception": false,
     "start_time": "2024-06-05T05:13:29.953302",
     "status": "completed"
    },
    "tags": []
   },
   "source": [
    "The logits that come out of the model are of shape (batch_size, num_labels). As we are only forwarding a single sentence through the model, the batch_size equals 1.\n",
    "\n",
    "The logits is a tensor that contains the (unnormalized) scores for every individual label\n",
    "\n",
    "To turn them into actual predicted labels, we first apply a sigmoid function independently to every score, such that every score is turned into a number between 0 and 1, that can be interpreted as a \"probability\" for how certain the model is that a given class belongs to the input text.\n",
    "\n",
    "Next, we use a threshold (typically, 0.5) to turn every probability into either a 1 (which means, we predict the label for the given example) or a 0 (which means, we don't predict the label for the given example)"
   ]
  },
  {
   "cell_type": "code",
   "execution_count": 52,
   "id": "f4758b6b",
   "metadata": {
    "execution": {
     "iopub.execute_input": "2024-06-05T05:13:30.022514Z",
     "iopub.status.busy": "2024-06-05T05:13:30.022252Z",
     "iopub.status.idle": "2024-06-05T05:13:30.026088Z",
     "shell.execute_reply": "2024-06-05T05:13:30.025238Z"
    },
    "papermill": {
     "duration": 0.029428,
     "end_time": "2024-06-05T05:13:30.027993",
     "exception": false,
     "start_time": "2024-06-05T05:13:29.998565",
     "status": "completed"
    },
    "tags": []
   },
   "outputs": [],
   "source": [
    "# # apply sigmoid + threshold\n",
    "# sigmoid = torch.nn.Sigmoid()\n",
    "# probs = sigmoid(logits.squeeze().cpu())\n",
    "# predictions = np.zeros(probs.shape)\n",
    "# predictions[np.where(probs >= 0.5)] = 1\n",
    "# # turn predicted id's into actual label names\n",
    "# predicted_labels = [id2label[idx] for idx, label in enumerate(predictions) if label == 1.0]\n",
    "# print(predicted_labels)"
   ]
  },
  {
   "cell_type": "code",
   "execution_count": null,
   "id": "8aa39e81",
   "metadata": {
    "papermill": {
     "duration": 0.022344,
     "end_time": "2024-06-05T05:13:30.072966",
     "exception": false,
     "start_time": "2024-06-05T05:13:30.050622",
     "status": "completed"
    },
    "tags": []
   },
   "outputs": [],
   "source": []
  }
 ],
 "metadata": {
  "kaggle": {
   "accelerator": "gpu",
   "dataSources": [
    {
     "datasetId": 5092991,
     "sourceId": 8600001,
     "sourceType": "datasetVersion"
    }
   ],
   "dockerImageVersionId": 30715,
   "isGpuEnabled": true,
   "isInternetEnabled": true,
   "language": "python",
   "sourceType": "notebook"
  },
  "kernelspec": {
   "display_name": "Python 3",
   "language": "python",
   "name": "python3"
  },
  "language_info": {
   "codemirror_mode": {
    "name": "ipython",
    "version": 3
   },
   "file_extension": ".py",
   "mimetype": "text/x-python",
   "name": "python",
   "nbconvert_exporter": "python",
   "pygments_lexer": "ipython3",
   "version": "3.10.13"
  },
  "papermill": {
   "default_parameters": {},
   "duration": 531.952612,
   "end_time": "2024-06-05T05:13:32.818520",
   "environment_variables": {},
   "exception": null,
   "input_path": "__notebook__.ipynb",
   "output_path": "__notebook__.ipynb",
   "parameters": {},
   "start_time": "2024-06-05T05:04:40.865908",
   "version": "2.5.0"
  },
  "widgets": {
   "application/vnd.jupyter.widget-state+json": {
    "state": {
     "0239158687884c38b0b66245a2415d73": {
      "model_module": "@jupyter-widgets/base",
      "model_module_version": "1.2.0",
      "model_name": "LayoutModel",
      "state": {
       "_model_module": "@jupyter-widgets/base",
       "_model_module_version": "1.2.0",
       "_model_name": "LayoutModel",
       "_view_count": null,
       "_view_module": "@jupyter-widgets/base",
       "_view_module_version": "1.2.0",
       "_view_name": "LayoutView",
       "align_content": null,
       "align_items": null,
       "align_self": null,
       "border": null,
       "bottom": null,
       "display": null,
       "flex": null,
       "flex_flow": null,
       "grid_area": null,
       "grid_auto_columns": null,
       "grid_auto_flow": null,
       "grid_auto_rows": null,
       "grid_column": null,
       "grid_gap": null,
       "grid_row": null,
       "grid_template_areas": null,
       "grid_template_columns": null,
       "grid_template_rows": null,
       "height": null,
       "justify_content": null,
       "justify_items": null,
       "left": null,
       "margin": null,
       "max_height": null,
       "max_width": null,
       "min_height": null,
       "min_width": null,
       "object_fit": null,
       "object_position": null,
       "order": null,
       "overflow": null,
       "overflow_x": null,
       "overflow_y": null,
       "padding": null,
       "right": null,
       "top": null,
       "visibility": null,
       "width": null
      }
     },
     "0a7fe994b8be435b8da6db1fbc72ce3d": {
      "model_module": "@jupyter-widgets/controls",
      "model_module_version": "1.5.0",
      "model_name": "HBoxModel",
      "state": {
       "_dom_classes": [],
       "_model_module": "@jupyter-widgets/controls",
       "_model_module_version": "1.5.0",
       "_model_name": "HBoxModel",
       "_view_count": null,
       "_view_module": "@jupyter-widgets/controls",
       "_view_module_version": "1.5.0",
       "_view_name": "HBoxView",
       "box_style": "",
       "children": [
        "IPY_MODEL_e47004d6f246409a85cdac496b6a3ed2",
        "IPY_MODEL_cdba3c78543e4e7f9804072c6d7c5568",
        "IPY_MODEL_759cde92bd5e4d71bf0f232d50e6efda"
       ],
       "layout": "IPY_MODEL_29383365e54d48018c9c501e326d29d2"
      }
     },
     "0b45ff4ef1994222ac945a5789c211d6": {
      "model_module": "@jupyter-widgets/base",
      "model_module_version": "1.2.0",
      "model_name": "LayoutModel",
      "state": {
       "_model_module": "@jupyter-widgets/base",
       "_model_module_version": "1.2.0",
       "_model_name": "LayoutModel",
       "_view_count": null,
       "_view_module": "@jupyter-widgets/base",
       "_view_module_version": "1.2.0",
       "_view_name": "LayoutView",
       "align_content": null,
       "align_items": null,
       "align_self": null,
       "border": null,
       "bottom": null,
       "display": null,
       "flex": null,
       "flex_flow": null,
       "grid_area": null,
       "grid_auto_columns": null,
       "grid_auto_flow": null,
       "grid_auto_rows": null,
       "grid_column": null,
       "grid_gap": null,
       "grid_row": null,
       "grid_template_areas": null,
       "grid_template_columns": null,
       "grid_template_rows": null,
       "height": null,
       "justify_content": null,
       "justify_items": null,
       "left": null,
       "margin": null,
       "max_height": null,
       "max_width": null,
       "min_height": null,
       "min_width": null,
       "object_fit": null,
       "object_position": null,
       "order": null,
       "overflow": null,
       "overflow_x": null,
       "overflow_y": null,
       "padding": null,
       "right": null,
       "top": null,
       "visibility": null,
       "width": null
      }
     },
     "0efc94395ad24f19a065a4d1ee38acec": {
      "model_module": "@jupyter-widgets/controls",
      "model_module_version": "1.5.0",
      "model_name": "DescriptionStyleModel",
      "state": {
       "_model_module": "@jupyter-widgets/controls",
       "_model_module_version": "1.5.0",
       "_model_name": "DescriptionStyleModel",
       "_view_count": null,
       "_view_module": "@jupyter-widgets/base",
       "_view_module_version": "1.2.0",
       "_view_name": "StyleView",
       "description_width": ""
      }
     },
     "103f2dbed1a646188b340375420e8ea0": {
      "model_module": "@jupyter-widgets/controls",
      "model_module_version": "1.5.0",
      "model_name": "DescriptionStyleModel",
      "state": {
       "_model_module": "@jupyter-widgets/controls",
       "_model_module_version": "1.5.0",
       "_model_name": "DescriptionStyleModel",
       "_view_count": null,
       "_view_module": "@jupyter-widgets/base",
       "_view_module_version": "1.2.0",
       "_view_name": "StyleView",
       "description_width": ""
      }
     },
     "152a6f24f0614797bc658344890d9508": {
      "model_module": "@jupyter-widgets/controls",
      "model_module_version": "1.5.0",
      "model_name": "DescriptionStyleModel",
      "state": {
       "_model_module": "@jupyter-widgets/controls",
       "_model_module_version": "1.5.0",
       "_model_name": "DescriptionStyleModel",
       "_view_count": null,
       "_view_module": "@jupyter-widgets/base",
       "_view_module_version": "1.2.0",
       "_view_name": "StyleView",
       "description_width": ""
      }
     },
     "17d2de5de3744c188a098ddcb857e460": {
      "model_module": "@jupyter-widgets/controls",
      "model_module_version": "1.5.0",
      "model_name": "DescriptionStyleModel",
      "state": {
       "_model_module": "@jupyter-widgets/controls",
       "_model_module_version": "1.5.0",
       "_model_name": "DescriptionStyleModel",
       "_view_count": null,
       "_view_module": "@jupyter-widgets/base",
       "_view_module_version": "1.2.0",
       "_view_name": "StyleView",
       "description_width": ""
      }
     },
     "2101d53c3c134bf2bde66b7253fe4698": {
      "model_module": "@jupyter-widgets/base",
      "model_module_version": "1.2.0",
      "model_name": "LayoutModel",
      "state": {
       "_model_module": "@jupyter-widgets/base",
       "_model_module_version": "1.2.0",
       "_model_name": "LayoutModel",
       "_view_count": null,
       "_view_module": "@jupyter-widgets/base",
       "_view_module_version": "1.2.0",
       "_view_name": "LayoutView",
       "align_content": null,
       "align_items": null,
       "align_self": null,
       "border": null,
       "bottom": null,
       "display": null,
       "flex": null,
       "flex_flow": null,
       "grid_area": null,
       "grid_auto_columns": null,
       "grid_auto_flow": null,
       "grid_auto_rows": null,
       "grid_column": null,
       "grid_gap": null,
       "grid_row": null,
       "grid_template_areas": null,
       "grid_template_columns": null,
       "grid_template_rows": null,
       "height": null,
       "justify_content": null,
       "justify_items": null,
       "left": null,
       "margin": null,
       "max_height": null,
       "max_width": null,
       "min_height": null,
       "min_width": null,
       "object_fit": null,
       "object_position": null,
       "order": null,
       "overflow": null,
       "overflow_x": null,
       "overflow_y": null,
       "padding": null,
       "right": null,
       "top": null,
       "visibility": null,
       "width": null
      }
     },
     "27fe08b503a84f349e4f4f7695cf0743": {
      "model_module": "@jupyter-widgets/controls",
      "model_module_version": "1.5.0",
      "model_name": "DescriptionStyleModel",
      "state": {
       "_model_module": "@jupyter-widgets/controls",
       "_model_module_version": "1.5.0",
       "_model_name": "DescriptionStyleModel",
       "_view_count": null,
       "_view_module": "@jupyter-widgets/base",
       "_view_module_version": "1.2.0",
       "_view_name": "StyleView",
       "description_width": ""
      }
     },
     "29383365e54d48018c9c501e326d29d2": {
      "model_module": "@jupyter-widgets/base",
      "model_module_version": "1.2.0",
      "model_name": "LayoutModel",
      "state": {
       "_model_module": "@jupyter-widgets/base",
       "_model_module_version": "1.2.0",
       "_model_name": "LayoutModel",
       "_view_count": null,
       "_view_module": "@jupyter-widgets/base",
       "_view_module_version": "1.2.0",
       "_view_name": "LayoutView",
       "align_content": null,
       "align_items": null,
       "align_self": null,
       "border": null,
       "bottom": null,
       "display": null,
       "flex": null,
       "flex_flow": null,
       "grid_area": null,
       "grid_auto_columns": null,
       "grid_auto_flow": null,
       "grid_auto_rows": null,
       "grid_column": null,
       "grid_gap": null,
       "grid_row": null,
       "grid_template_areas": null,
       "grid_template_columns": null,
       "grid_template_rows": null,
       "height": null,
       "justify_content": null,
       "justify_items": null,
       "left": null,
       "margin": null,
       "max_height": null,
       "max_width": null,
       "min_height": null,
       "min_width": null,
       "object_fit": null,
       "object_position": null,
       "order": null,
       "overflow": null,
       "overflow_x": null,
       "overflow_y": null,
       "padding": null,
       "right": null,
       "top": null,
       "visibility": null,
       "width": null
      }
     },
     "29ab7ea478e94b128cf0d04909e537c3": {
      "model_module": "@jupyter-widgets/base",
      "model_module_version": "1.2.0",
      "model_name": "LayoutModel",
      "state": {
       "_model_module": "@jupyter-widgets/base",
       "_model_module_version": "1.2.0",
       "_model_name": "LayoutModel",
       "_view_count": null,
       "_view_module": "@jupyter-widgets/base",
       "_view_module_version": "1.2.0",
       "_view_name": "LayoutView",
       "align_content": null,
       "align_items": null,
       "align_self": null,
       "border": null,
       "bottom": null,
       "display": null,
       "flex": null,
       "flex_flow": null,
       "grid_area": null,
       "grid_auto_columns": null,
       "grid_auto_flow": null,
       "grid_auto_rows": null,
       "grid_column": null,
       "grid_gap": null,
       "grid_row": null,
       "grid_template_areas": null,
       "grid_template_columns": null,
       "grid_template_rows": null,
       "height": null,
       "justify_content": null,
       "justify_items": null,
       "left": null,
       "margin": null,
       "max_height": null,
       "max_width": null,
       "min_height": null,
       "min_width": null,
       "object_fit": null,
       "object_position": null,
       "order": null,
       "overflow": null,
       "overflow_x": null,
       "overflow_y": null,
       "padding": null,
       "right": null,
       "top": null,
       "visibility": null,
       "width": null
      }
     },
     "309d9c2eb511490eb1235e47f140825c": {
      "model_module": "@jupyter-widgets/controls",
      "model_module_version": "1.5.0",
      "model_name": "DescriptionStyleModel",
      "state": {
       "_model_module": "@jupyter-widgets/controls",
       "_model_module_version": "1.5.0",
       "_model_name": "DescriptionStyleModel",
       "_view_count": null,
       "_view_module": "@jupyter-widgets/base",
       "_view_module_version": "1.2.0",
       "_view_name": "StyleView",
       "description_width": ""
      }
     },
     "34f98f098d5e4573af041de1a71b5876": {
      "model_module": "@jupyter-widgets/base",
      "model_module_version": "1.2.0",
      "model_name": "LayoutModel",
      "state": {
       "_model_module": "@jupyter-widgets/base",
       "_model_module_version": "1.2.0",
       "_model_name": "LayoutModel",
       "_view_count": null,
       "_view_module": "@jupyter-widgets/base",
       "_view_module_version": "1.2.0",
       "_view_name": "LayoutView",
       "align_content": null,
       "align_items": null,
       "align_self": null,
       "border": null,
       "bottom": null,
       "display": null,
       "flex": null,
       "flex_flow": null,
       "grid_area": null,
       "grid_auto_columns": null,
       "grid_auto_flow": null,
       "grid_auto_rows": null,
       "grid_column": null,
       "grid_gap": null,
       "grid_row": null,
       "grid_template_areas": null,
       "grid_template_columns": null,
       "grid_template_rows": null,
       "height": null,
       "justify_content": null,
       "justify_items": null,
       "left": null,
       "margin": null,
       "max_height": null,
       "max_width": null,
       "min_height": null,
       "min_width": null,
       "object_fit": null,
       "object_position": null,
       "order": null,
       "overflow": null,
       "overflow_x": null,
       "overflow_y": null,
       "padding": null,
       "right": null,
       "top": null,
       "visibility": null,
       "width": null
      }
     },
     "36191931ae0b45cc98158af8cd85a7ab": {
      "model_module": "@jupyter-widgets/controls",
      "model_module_version": "1.5.0",
      "model_name": "ProgressStyleModel",
      "state": {
       "_model_module": "@jupyter-widgets/controls",
       "_model_module_version": "1.5.0",
       "_model_name": "ProgressStyleModel",
       "_view_count": null,
       "_view_module": "@jupyter-widgets/base",
       "_view_module_version": "1.2.0",
       "_view_name": "StyleView",
       "bar_color": null,
       "description_width": ""
      }
     },
     "3796a90f45324a998e6e386141cbf95b": {
      "model_module": "@jupyter-widgets/controls",
      "model_module_version": "1.5.0",
      "model_name": "ProgressStyleModel",
      "state": {
       "_model_module": "@jupyter-widgets/controls",
       "_model_module_version": "1.5.0",
       "_model_name": "ProgressStyleModel",
       "_view_count": null,
       "_view_module": "@jupyter-widgets/base",
       "_view_module_version": "1.2.0",
       "_view_name": "StyleView",
       "bar_color": null,
       "description_width": ""
      }
     },
     "39f194fc869b4c79a7b1999cc8ea62e3": {
      "model_module": "@jupyter-widgets/controls",
      "model_module_version": "1.5.0",
      "model_name": "HBoxModel",
      "state": {
       "_dom_classes": [],
       "_model_module": "@jupyter-widgets/controls",
       "_model_module_version": "1.5.0",
       "_model_name": "HBoxModel",
       "_view_count": null,
       "_view_module": "@jupyter-widgets/controls",
       "_view_module_version": "1.5.0",
       "_view_name": "HBoxView",
       "box_style": "",
       "children": [
        "IPY_MODEL_50e6de42bb7e47ee936f7331f0934336",
        "IPY_MODEL_55e1641f9ef44118b8a931c7976fc88f",
        "IPY_MODEL_de3b1a061ec0447d85d36c764f086a00"
       ],
       "layout": "IPY_MODEL_9b4584d9d0844d46a1147748d6f228f6"
      }
     },
     "3caf0bb2f0794029a3e09a415bb29d56": {
      "model_module": "@jupyter-widgets/controls",
      "model_module_version": "1.5.0",
      "model_name": "ProgressStyleModel",
      "state": {
       "_model_module": "@jupyter-widgets/controls",
       "_model_module_version": "1.5.0",
       "_model_name": "ProgressStyleModel",
       "_view_count": null,
       "_view_module": "@jupyter-widgets/base",
       "_view_module_version": "1.2.0",
       "_view_name": "StyleView",
       "bar_color": null,
       "description_width": ""
      }
     },
     "48e28926b6d741f4b2a0f9f27a4f08dd": {
      "model_module": "@jupyter-widgets/controls",
      "model_module_version": "1.5.0",
      "model_name": "FloatProgressModel",
      "state": {
       "_dom_classes": [],
       "_model_module": "@jupyter-widgets/controls",
       "_model_module_version": "1.5.0",
       "_model_name": "FloatProgressModel",
       "_view_count": null,
       "_view_module": "@jupyter-widgets/controls",
       "_view_module_version": "1.5.0",
       "_view_name": "ProgressView",
       "bar_style": "success",
       "description": "",
       "description_tooltip": null,
       "layout": "IPY_MODEL_b10a3c1006764a558ccb74e9e659070a",
       "max": 112.0,
       "min": 0.0,
       "orientation": "horizontal",
       "style": "IPY_MODEL_62fff8a9a4d94feba75c66d0f24a3f3c",
       "value": 112.0
      }
     },
     "4f353d42a8414b21a41196d161423d65": {
      "model_module": "@jupyter-widgets/base",
      "model_module_version": "1.2.0",
      "model_name": "LayoutModel",
      "state": {
       "_model_module": "@jupyter-widgets/base",
       "_model_module_version": "1.2.0",
       "_model_name": "LayoutModel",
       "_view_count": null,
       "_view_module": "@jupyter-widgets/base",
       "_view_module_version": "1.2.0",
       "_view_name": "LayoutView",
       "align_content": null,
       "align_items": null,
       "align_self": null,
       "border": null,
       "bottom": null,
       "display": null,
       "flex": null,
       "flex_flow": null,
       "grid_area": null,
       "grid_auto_columns": null,
       "grid_auto_flow": null,
       "grid_auto_rows": null,
       "grid_column": null,
       "grid_gap": null,
       "grid_row": null,
       "grid_template_areas": null,
       "grid_template_columns": null,
       "grid_template_rows": null,
       "height": null,
       "justify_content": null,
       "justify_items": null,
       "left": null,
       "margin": null,
       "max_height": null,
       "max_width": null,
       "min_height": null,
       "min_width": null,
       "object_fit": null,
       "object_position": null,
       "order": null,
       "overflow": null,
       "overflow_x": null,
       "overflow_y": null,
       "padding": null,
       "right": null,
       "top": null,
       "visibility": null,
       "width": null
      }
     },
     "50649823640c435d9a87b3d67e4441ed": {
      "model_module": "@jupyter-widgets/base",
      "model_module_version": "1.2.0",
      "model_name": "LayoutModel",
      "state": {
       "_model_module": "@jupyter-widgets/base",
       "_model_module_version": "1.2.0",
       "_model_name": "LayoutModel",
       "_view_count": null,
       "_view_module": "@jupyter-widgets/base",
       "_view_module_version": "1.2.0",
       "_view_name": "LayoutView",
       "align_content": null,
       "align_items": null,
       "align_self": null,
       "border": null,
       "bottom": null,
       "display": null,
       "flex": null,
       "flex_flow": null,
       "grid_area": null,
       "grid_auto_columns": null,
       "grid_auto_flow": null,
       "grid_auto_rows": null,
       "grid_column": null,
       "grid_gap": null,
       "grid_row": null,
       "grid_template_areas": null,
       "grid_template_columns": null,
       "grid_template_rows": null,
       "height": null,
       "justify_content": null,
       "justify_items": null,
       "left": null,
       "margin": null,
       "max_height": null,
       "max_width": null,
       "min_height": null,
       "min_width": null,
       "object_fit": null,
       "object_position": null,
       "order": null,
       "overflow": null,
       "overflow_x": null,
       "overflow_y": null,
       "padding": null,
       "right": null,
       "top": null,
       "visibility": null,
       "width": null
      }
     },
     "50e6de42bb7e47ee936f7331f0934336": {
      "model_module": "@jupyter-widgets/controls",
      "model_module_version": "1.5.0",
      "model_name": "HTMLModel",
      "state": {
       "_dom_classes": [],
       "_model_module": "@jupyter-widgets/controls",
       "_model_module_version": "1.5.0",
       "_model_name": "HTMLModel",
       "_view_count": null,
       "_view_module": "@jupyter-widgets/controls",
       "_view_module_version": "1.5.0",
       "_view_name": "HTMLView",
       "description": "",
       "description_tooltip": null,
       "layout": "IPY_MODEL_f8021d39488141e0b5affbf87ff19b71",
       "placeholder": "​",
       "style": "IPY_MODEL_c6aeeae6a6f44d8692cf5ef7d4a866f4",
       "value": "Map: 100%"
      }
     },
     "55e1641f9ef44118b8a931c7976fc88f": {
      "model_module": "@jupyter-widgets/controls",
      "model_module_version": "1.5.0",
      "model_name": "FloatProgressModel",
      "state": {
       "_dom_classes": [],
       "_model_module": "@jupyter-widgets/controls",
       "_model_module_version": "1.5.0",
       "_model_name": "FloatProgressModel",
       "_view_count": null,
       "_view_module": "@jupyter-widgets/controls",
       "_view_module_version": "1.5.0",
       "_view_name": "ProgressView",
       "bar_style": "success",
       "description": "",
       "description_tooltip": null,
       "layout": "IPY_MODEL_0b45ff4ef1994222ac945a5789c211d6",
       "max": 3769.0,
       "min": 0.0,
       "orientation": "horizontal",
       "style": "IPY_MODEL_6ff0c18974b644c7abd5a61166b291dd",
       "value": 3769.0
      }
     },
     "58a654e5d3624723a95698b19f4cec16": {
      "model_module": "@jupyter-widgets/base",
      "model_module_version": "1.2.0",
      "model_name": "LayoutModel",
      "state": {
       "_model_module": "@jupyter-widgets/base",
       "_model_module_version": "1.2.0",
       "_model_name": "LayoutModel",
       "_view_count": null,
       "_view_module": "@jupyter-widgets/base",
       "_view_module_version": "1.2.0",
       "_view_name": "LayoutView",
       "align_content": null,
       "align_items": null,
       "align_self": null,
       "border": null,
       "bottom": null,
       "display": null,
       "flex": null,
       "flex_flow": null,
       "grid_area": null,
       "grid_auto_columns": null,
       "grid_auto_flow": null,
       "grid_auto_rows": null,
       "grid_column": null,
       "grid_gap": null,
       "grid_row": null,
       "grid_template_areas": null,
       "grid_template_columns": null,
       "grid_template_rows": null,
       "height": null,
       "justify_content": null,
       "justify_items": null,
       "left": null,
       "margin": null,
       "max_height": null,
       "max_width": null,
       "min_height": null,
       "min_width": null,
       "object_fit": null,
       "object_position": null,
       "order": null,
       "overflow": null,
       "overflow_x": null,
       "overflow_y": null,
       "padding": null,
       "right": null,
       "top": null,
       "visibility": null,
       "width": null
      }
     },
     "6075127acd8f444ca27f43dc89600614": {
      "model_module": "@jupyter-widgets/controls",
      "model_module_version": "1.5.0",
      "model_name": "DescriptionStyleModel",
      "state": {
       "_model_module": "@jupyter-widgets/controls",
       "_model_module_version": "1.5.0",
       "_model_name": "DescriptionStyleModel",
       "_view_count": null,
       "_view_module": "@jupyter-widgets/base",
       "_view_module_version": "1.2.0",
       "_view_name": "StyleView",
       "description_width": ""
      }
     },
     "6288074e082b43d4b45522a7b3cd2ab5": {
      "model_module": "@jupyter-widgets/controls",
      "model_module_version": "1.5.0",
      "model_name": "FloatProgressModel",
      "state": {
       "_dom_classes": [],
       "_model_module": "@jupyter-widgets/controls",
       "_model_module_version": "1.5.0",
       "_model_name": "FloatProgressModel",
       "_view_count": null,
       "_view_module": "@jupyter-widgets/controls",
       "_view_module_version": "1.5.0",
       "_view_name": "ProgressView",
       "bar_style": "success",
       "description": "",
       "description_tooltip": null,
       "layout": "IPY_MODEL_79ae7ad0b60f4b99b9c3871970d1046a",
       "max": 231508.0,
       "min": 0.0,
       "orientation": "horizontal",
       "style": "IPY_MODEL_3796a90f45324a998e6e386141cbf95b",
       "value": 231508.0
      }
     },
     "62fff8a9a4d94feba75c66d0f24a3f3c": {
      "model_module": "@jupyter-widgets/controls",
      "model_module_version": "1.5.0",
      "model_name": "ProgressStyleModel",
      "state": {
       "_model_module": "@jupyter-widgets/controls",
       "_model_module_version": "1.5.0",
       "_model_name": "ProgressStyleModel",
       "_view_count": null,
       "_view_module": "@jupyter-widgets/base",
       "_view_module_version": "1.2.0",
       "_view_name": "StyleView",
       "bar_color": null,
       "description_width": ""
      }
     },
     "6951ca68d9374ef0bea454d9ba7055b9": {
      "model_module": "@jupyter-widgets/controls",
      "model_module_version": "1.5.0",
      "model_name": "DescriptionStyleModel",
      "state": {
       "_model_module": "@jupyter-widgets/controls",
       "_model_module_version": "1.5.0",
       "_model_name": "DescriptionStyleModel",
       "_view_count": null,
       "_view_module": "@jupyter-widgets/base",
       "_view_module_version": "1.2.0",
       "_view_name": "StyleView",
       "description_width": ""
      }
     },
     "6b2e1a21302f49ebbded4e3fbbe36c57": {
      "model_module": "@jupyter-widgets/controls",
      "model_module_version": "1.5.0",
      "model_name": "ProgressStyleModel",
      "state": {
       "_model_module": "@jupyter-widgets/controls",
       "_model_module_version": "1.5.0",
       "_model_name": "ProgressStyleModel",
       "_view_count": null,
       "_view_module": "@jupyter-widgets/base",
       "_view_module_version": "1.2.0",
       "_view_name": "StyleView",
       "bar_color": null,
       "description_width": ""
      }
     },
     "6c6d7265577042abaf361e206472076e": {
      "model_module": "@jupyter-widgets/controls",
      "model_module_version": "1.5.0",
      "model_name": "FloatProgressModel",
      "state": {
       "_dom_classes": [],
       "_model_module": "@jupyter-widgets/controls",
       "_model_module_version": "1.5.0",
       "_model_name": "FloatProgressModel",
       "_view_count": null,
       "_view_module": "@jupyter-widgets/controls",
       "_view_module_version": "1.5.0",
       "_view_name": "ProgressView",
       "bar_style": "success",
       "description": "",
       "description_tooltip": null,
       "layout": "IPY_MODEL_ad8a4c9863664311b597a144b8f606b3",
       "max": 758.0,
       "min": 0.0,
       "orientation": "horizontal",
       "style": "IPY_MODEL_de91558145464e6bad821fa64641744f",
       "value": 758.0
      }
     },
     "6f9fa9abb9204516931786cab615fcf2": {
      "model_module": "@jupyter-widgets/controls",
      "model_module_version": "1.5.0",
      "model_name": "HTMLModel",
      "state": {
       "_dom_classes": [],
       "_model_module": "@jupyter-widgets/controls",
       "_model_module_version": "1.5.0",
       "_model_name": "HTMLModel",
       "_view_count": null,
       "_view_module": "@jupyter-widgets/controls",
       "_view_module_version": "1.5.0",
       "_view_name": "HTMLView",
       "description": "",
       "description_tooltip": null,
       "layout": "IPY_MODEL_85a73848ed534afc88f0a916395eae5c",
       "placeholder": "​",
       "style": "IPY_MODEL_6075127acd8f444ca27f43dc89600614",
       "value": "special_tokens_map.json: 100%"
      }
     },
     "6ff0c18974b644c7abd5a61166b291dd": {
      "model_module": "@jupyter-widgets/controls",
      "model_module_version": "1.5.0",
      "model_name": "ProgressStyleModel",
      "state": {
       "_model_module": "@jupyter-widgets/controls",
       "_model_module_version": "1.5.0",
       "_model_name": "ProgressStyleModel",
       "_view_count": null,
       "_view_module": "@jupyter-widgets/base",
       "_view_module_version": "1.2.0",
       "_view_name": "StyleView",
       "bar_color": null,
       "description_width": ""
      }
     },
     "707d0068676f40d39445d7a7b872eed2": {
      "model_module": "@jupyter-widgets/controls",
      "model_module_version": "1.5.0",
      "model_name": "FloatProgressModel",
      "state": {
       "_dom_classes": [],
       "_model_module": "@jupyter-widgets/controls",
       "_model_module_version": "1.5.0",
       "_model_name": "FloatProgressModel",
       "_view_count": null,
       "_view_module": "@jupyter-widgets/controls",
       "_view_module_version": "1.5.0",
       "_view_name": "ProgressView",
       "bar_style": "success",
       "description": "",
       "description_tooltip": null,
       "layout": "IPY_MODEL_c51e11512d814aff855ad1dc5a788879",
       "max": 534.0,
       "min": 0.0,
       "orientation": "horizontal",
       "style": "IPY_MODEL_36191931ae0b45cc98158af8cd85a7ab",
       "value": 534.0
      }
     },
     "7117c9fa83fd44ed9155ebbecc0b78f6": {
      "model_module": "@jupyter-widgets/controls",
      "model_module_version": "1.5.0",
      "model_name": "HTMLModel",
      "state": {
       "_dom_classes": [],
       "_model_module": "@jupyter-widgets/controls",
       "_model_module_version": "1.5.0",
       "_model_name": "HTMLModel",
       "_view_count": null,
       "_view_module": "@jupyter-widgets/controls",
       "_view_module_version": "1.5.0",
       "_view_name": "HTMLView",
       "description": "",
       "description_tooltip": null,
       "layout": "IPY_MODEL_d7e3419e4d194473b5cd8abe4025ce00",
       "placeholder": "​",
       "style": "IPY_MODEL_81c97652fa5e45ab9b234f4b499c9ccd",
       "value": "config.json: 100%"
      }
     },
     "751304fe847649deaa0556bf5461fc93": {
      "model_module": "@jupyter-widgets/controls",
      "model_module_version": "1.5.0",
      "model_name": "ProgressStyleModel",
      "state": {
       "_model_module": "@jupyter-widgets/controls",
       "_model_module_version": "1.5.0",
       "_model_name": "ProgressStyleModel",
       "_view_count": null,
       "_view_module": "@jupyter-widgets/base",
       "_view_module_version": "1.2.0",
       "_view_name": "StyleView",
       "bar_color": null,
       "description_width": ""
      }
     },
     "759cde92bd5e4d71bf0f232d50e6efda": {
      "model_module": "@jupyter-widgets/controls",
      "model_module_version": "1.5.0",
      "model_name": "HTMLModel",
      "state": {
       "_dom_classes": [],
       "_model_module": "@jupyter-widgets/controls",
       "_model_module_version": "1.5.0",
       "_model_name": "HTMLModel",
       "_view_count": null,
       "_view_module": "@jupyter-widgets/controls",
       "_view_module_version": "1.5.0",
       "_view_name": "HTMLView",
       "description": "",
       "description_tooltip": null,
       "layout": "IPY_MODEL_34f98f098d5e4573af041de1a71b5876",
       "placeholder": "​",
       "style": "IPY_MODEL_a747ac78b95e4b299e610a00b66ed8ee",
       "value": " 1082/1082 [00:00&lt;00:00, 4613.46 examples/s]"
      }
     },
     "76997152287f420ab0b381d167aac6f2": {
      "model_module": "@jupyter-widgets/base",
      "model_module_version": "1.2.0",
      "model_name": "LayoutModel",
      "state": {
       "_model_module": "@jupyter-widgets/base",
       "_model_module_version": "1.2.0",
       "_model_name": "LayoutModel",
       "_view_count": null,
       "_view_module": "@jupyter-widgets/base",
       "_view_module_version": "1.2.0",
       "_view_name": "LayoutView",
       "align_content": null,
       "align_items": null,
       "align_self": null,
       "border": null,
       "bottom": null,
       "display": null,
       "flex": null,
       "flex_flow": null,
       "grid_area": null,
       "grid_auto_columns": null,
       "grid_auto_flow": null,
       "grid_auto_rows": null,
       "grid_column": null,
       "grid_gap": null,
       "grid_row": null,
       "grid_template_areas": null,
       "grid_template_columns": null,
       "grid_template_rows": null,
       "height": null,
       "justify_content": null,
       "justify_items": null,
       "left": null,
       "margin": null,
       "max_height": null,
       "max_width": null,
       "min_height": null,
       "min_width": null,
       "object_fit": null,
       "object_position": null,
       "order": null,
       "overflow": null,
       "overflow_x": null,
       "overflow_y": null,
       "padding": null,
       "right": null,
       "top": null,
       "visibility": null,
       "width": null
      }
     },
     "79ae7ad0b60f4b99b9c3871970d1046a": {
      "model_module": "@jupyter-widgets/base",
      "model_module_version": "1.2.0",
      "model_name": "LayoutModel",
      "state": {
       "_model_module": "@jupyter-widgets/base",
       "_model_module_version": "1.2.0",
       "_model_name": "LayoutModel",
       "_view_count": null,
       "_view_module": "@jupyter-widgets/base",
       "_view_module_version": "1.2.0",
       "_view_name": "LayoutView",
       "align_content": null,
       "align_items": null,
       "align_self": null,
       "border": null,
       "bottom": null,
       "display": null,
       "flex": null,
       "flex_flow": null,
       "grid_area": null,
       "grid_auto_columns": null,
       "grid_auto_flow": null,
       "grid_auto_rows": null,
       "grid_column": null,
       "grid_gap": null,
       "grid_row": null,
       "grid_template_areas": null,
       "grid_template_columns": null,
       "grid_template_rows": null,
       "height": null,
       "justify_content": null,
       "justify_items": null,
       "left": null,
       "margin": null,
       "max_height": null,
       "max_width": null,
       "min_height": null,
       "min_width": null,
       "object_fit": null,
       "object_position": null,
       "order": null,
       "overflow": null,
       "overflow_x": null,
       "overflow_y": null,
       "padding": null,
       "right": null,
       "top": null,
       "visibility": null,
       "width": null
      }
     },
     "7b95b50a9a8f457f8df83f2e92c16efb": {
      "model_module": "@jupyter-widgets/base",
      "model_module_version": "1.2.0",
      "model_name": "LayoutModel",
      "state": {
       "_model_module": "@jupyter-widgets/base",
       "_model_module_version": "1.2.0",
       "_model_name": "LayoutModel",
       "_view_count": null,
       "_view_module": "@jupyter-widgets/base",
       "_view_module_version": "1.2.0",
       "_view_name": "LayoutView",
       "align_content": null,
       "align_items": null,
       "align_self": null,
       "border": null,
       "bottom": null,
       "display": null,
       "flex": null,
       "flex_flow": null,
       "grid_area": null,
       "grid_auto_columns": null,
       "grid_auto_flow": null,
       "grid_auto_rows": null,
       "grid_column": null,
       "grid_gap": null,
       "grid_row": null,
       "grid_template_areas": null,
       "grid_template_columns": null,
       "grid_template_rows": null,
       "height": null,
       "justify_content": null,
       "justify_items": null,
       "left": null,
       "margin": null,
       "max_height": null,
       "max_width": null,
       "min_height": null,
       "min_width": null,
       "object_fit": null,
       "object_position": null,
       "order": null,
       "overflow": null,
       "overflow_x": null,
       "overflow_y": null,
       "padding": null,
       "right": null,
       "top": null,
       "visibility": null,
       "width": null
      }
     },
     "81c97652fa5e45ab9b234f4b499c9ccd": {
      "model_module": "@jupyter-widgets/controls",
      "model_module_version": "1.5.0",
      "model_name": "DescriptionStyleModel",
      "state": {
       "_model_module": "@jupyter-widgets/controls",
       "_model_module_version": "1.5.0",
       "_model_name": "DescriptionStyleModel",
       "_view_count": null,
       "_view_module": "@jupyter-widgets/base",
       "_view_module_version": "1.2.0",
       "_view_name": "StyleView",
       "description_width": ""
      }
     },
     "82a44977d0d8422fa5980bfbaeb1dd8c": {
      "model_module": "@jupyter-widgets/controls",
      "model_module_version": "1.5.0",
      "model_name": "HTMLModel",
      "state": {
       "_dom_classes": [],
       "_model_module": "@jupyter-widgets/controls",
       "_model_module_version": "1.5.0",
       "_model_name": "HTMLModel",
       "_view_count": null,
       "_view_module": "@jupyter-widgets/controls",
       "_view_module_version": "1.5.0",
       "_view_name": "HTMLView",
       "description": "",
       "description_tooltip": null,
       "layout": "IPY_MODEL_50649823640c435d9a87b3d67e4441ed",
       "placeholder": "​",
       "style": "IPY_MODEL_17d2de5de3744c188a098ddcb857e460",
       "value": "Map: 100%"
      }
     },
     "85a73848ed534afc88f0a916395eae5c": {
      "model_module": "@jupyter-widgets/base",
      "model_module_version": "1.2.0",
      "model_name": "LayoutModel",
      "state": {
       "_model_module": "@jupyter-widgets/base",
       "_model_module_version": "1.2.0",
       "_model_name": "LayoutModel",
       "_view_count": null,
       "_view_module": "@jupyter-widgets/base",
       "_view_module_version": "1.2.0",
       "_view_name": "LayoutView",
       "align_content": null,
       "align_items": null,
       "align_self": null,
       "border": null,
       "bottom": null,
       "display": null,
       "flex": null,
       "flex_flow": null,
       "grid_area": null,
       "grid_auto_columns": null,
       "grid_auto_flow": null,
       "grid_auto_rows": null,
       "grid_column": null,
       "grid_gap": null,
       "grid_row": null,
       "grid_template_areas": null,
       "grid_template_columns": null,
       "grid_template_rows": null,
       "height": null,
       "justify_content": null,
       "justify_items": null,
       "left": null,
       "margin": null,
       "max_height": null,
       "max_width": null,
       "min_height": null,
       "min_width": null,
       "object_fit": null,
       "object_position": null,
       "order": null,
       "overflow": null,
       "overflow_x": null,
       "overflow_y": null,
       "padding": null,
       "right": null,
       "top": null,
       "visibility": null,
       "width": null
      }
     },
     "86c0f557ab244ce2a56846b755e80406": {
      "model_module": "@jupyter-widgets/base",
      "model_module_version": "1.2.0",
      "model_name": "LayoutModel",
      "state": {
       "_model_module": "@jupyter-widgets/base",
       "_model_module_version": "1.2.0",
       "_model_name": "LayoutModel",
       "_view_count": null,
       "_view_module": "@jupyter-widgets/base",
       "_view_module_version": "1.2.0",
       "_view_name": "LayoutView",
       "align_content": null,
       "align_items": null,
       "align_self": null,
       "border": null,
       "bottom": null,
       "display": null,
       "flex": null,
       "flex_flow": null,
       "grid_area": null,
       "grid_auto_columns": null,
       "grid_auto_flow": null,
       "grid_auto_rows": null,
       "grid_column": null,
       "grid_gap": null,
       "grid_row": null,
       "grid_template_areas": null,
       "grid_template_columns": null,
       "grid_template_rows": null,
       "height": null,
       "justify_content": null,
       "justify_items": null,
       "left": null,
       "margin": null,
       "max_height": null,
       "max_width": null,
       "min_height": null,
       "min_width": null,
       "object_fit": null,
       "object_position": null,
       "order": null,
       "overflow": null,
       "overflow_x": null,
       "overflow_y": null,
       "padding": null,
       "right": null,
       "top": null,
       "visibility": null,
       "width": null
      }
     },
     "86effc6f825c4a9b9d374eb68a1efdd6": {
      "model_module": "@jupyter-widgets/controls",
      "model_module_version": "1.5.0",
      "model_name": "FloatProgressModel",
      "state": {
       "_dom_classes": [],
       "_model_module": "@jupyter-widgets/controls",
       "_model_module_version": "1.5.0",
       "_model_name": "FloatProgressModel",
       "_view_count": null,
       "_view_module": "@jupyter-widgets/controls",
       "_view_module_version": "1.5.0",
       "_view_name": "ProgressView",
       "bar_style": "success",
       "description": "",
       "description_tooltip": null,
       "layout": "IPY_MODEL_86c0f557ab244ce2a56846b755e80406",
       "max": 437992753.0,
       "min": 0.0,
       "orientation": "horizontal",
       "style": "IPY_MODEL_751304fe847649deaa0556bf5461fc93",
       "value": 437992753.0
      }
     },
     "876b1b2b50ec486dbff7a872842d63f4": {
      "model_module": "@jupyter-widgets/controls",
      "model_module_version": "1.5.0",
      "model_name": "DescriptionStyleModel",
      "state": {
       "_model_module": "@jupyter-widgets/controls",
       "_model_module_version": "1.5.0",
       "_model_name": "DescriptionStyleModel",
       "_view_count": null,
       "_view_module": "@jupyter-widgets/base",
       "_view_module_version": "1.2.0",
       "_view_name": "StyleView",
       "description_width": ""
      }
     },
     "87d0fea120fb42d287181dd88bdf42db": {
      "model_module": "@jupyter-widgets/base",
      "model_module_version": "1.2.0",
      "model_name": "LayoutModel",
      "state": {
       "_model_module": "@jupyter-widgets/base",
       "_model_module_version": "1.2.0",
       "_model_name": "LayoutModel",
       "_view_count": null,
       "_view_module": "@jupyter-widgets/base",
       "_view_module_version": "1.2.0",
       "_view_name": "LayoutView",
       "align_content": null,
       "align_items": null,
       "align_self": null,
       "border": null,
       "bottom": null,
       "display": null,
       "flex": null,
       "flex_flow": null,
       "grid_area": null,
       "grid_auto_columns": null,
       "grid_auto_flow": null,
       "grid_auto_rows": null,
       "grid_column": null,
       "grid_gap": null,
       "grid_row": null,
       "grid_template_areas": null,
       "grid_template_columns": null,
       "grid_template_rows": null,
       "height": null,
       "justify_content": null,
       "justify_items": null,
       "left": null,
       "margin": null,
       "max_height": null,
       "max_width": null,
       "min_height": null,
       "min_width": null,
       "object_fit": null,
       "object_position": null,
       "order": null,
       "overflow": null,
       "overflow_x": null,
       "overflow_y": null,
       "padding": null,
       "right": null,
       "top": null,
       "visibility": null,
       "width": null
      }
     },
     "8e751307f6a54bf6874dccfeabb70ded": {
      "model_module": "@jupyter-widgets/controls",
      "model_module_version": "1.5.0",
      "model_name": "HTMLModel",
      "state": {
       "_dom_classes": [],
       "_model_module": "@jupyter-widgets/controls",
       "_model_module_version": "1.5.0",
       "_model_name": "HTMLModel",
       "_view_count": null,
       "_view_module": "@jupyter-widgets/controls",
       "_view_module_version": "1.5.0",
       "_view_name": "HTMLView",
       "description": "",
       "description_tooltip": null,
       "layout": "IPY_MODEL_2101d53c3c134bf2bde66b7253fe4698",
       "placeholder": "​",
       "style": "IPY_MODEL_27fe08b503a84f349e4f4f7695cf0743",
       "value": "pytorch_model.bin: 100%"
      }
     },
     "8fdc35a097cc47b3a717560ed95325b9": {
      "model_module": "@jupyter-widgets/controls",
      "model_module_version": "1.5.0",
      "model_name": "HBoxModel",
      "state": {
       "_dom_classes": [],
       "_model_module": "@jupyter-widgets/controls",
       "_model_module_version": "1.5.0",
       "_model_name": "HBoxModel",
       "_view_count": null,
       "_view_module": "@jupyter-widgets/controls",
       "_view_module_version": "1.5.0",
       "_view_name": "HBoxView",
       "box_style": "",
       "children": [
        "IPY_MODEL_6f9fa9abb9204516931786cab615fcf2",
        "IPY_MODEL_48e28926b6d741f4b2a0f9f27a4f08dd",
        "IPY_MODEL_bd91a4cf42bc43dc841a687fd41235e9"
       ],
       "layout": "IPY_MODEL_a403de1af6aa455e943e9844bd749234"
      }
     },
     "9227a80a5cfc494d8c83aa5092c8c35a": {
      "model_module": "@jupyter-widgets/base",
      "model_module_version": "1.2.0",
      "model_name": "LayoutModel",
      "state": {
       "_model_module": "@jupyter-widgets/base",
       "_model_module_version": "1.2.0",
       "_model_name": "LayoutModel",
       "_view_count": null,
       "_view_module": "@jupyter-widgets/base",
       "_view_module_version": "1.2.0",
       "_view_name": "LayoutView",
       "align_content": null,
       "align_items": null,
       "align_self": null,
       "border": null,
       "bottom": null,
       "display": null,
       "flex": null,
       "flex_flow": null,
       "grid_area": null,
       "grid_auto_columns": null,
       "grid_auto_flow": null,
       "grid_auto_rows": null,
       "grid_column": null,
       "grid_gap": null,
       "grid_row": null,
       "grid_template_areas": null,
       "grid_template_columns": null,
       "grid_template_rows": null,
       "height": null,
       "justify_content": null,
       "justify_items": null,
       "left": null,
       "margin": null,
       "max_height": null,
       "max_width": null,
       "min_height": null,
       "min_width": null,
       "object_fit": null,
       "object_position": null,
       "order": null,
       "overflow": null,
       "overflow_x": null,
       "overflow_y": null,
       "padding": null,
       "right": null,
       "top": null,
       "visibility": null,
       "width": null
      }
     },
     "948b2d4dd92c4931a9e4e734069ab6e7": {
      "model_module": "@jupyter-widgets/controls",
      "model_module_version": "1.5.0",
      "model_name": "DescriptionStyleModel",
      "state": {
       "_model_module": "@jupyter-widgets/controls",
       "_model_module_version": "1.5.0",
       "_model_name": "DescriptionStyleModel",
       "_view_count": null,
       "_view_module": "@jupyter-widgets/base",
       "_view_module_version": "1.2.0",
       "_view_name": "StyleView",
       "description_width": ""
      }
     },
     "9a12e2d9c058411e9a9468749669a8ce": {
      "model_module": "@jupyter-widgets/base",
      "model_module_version": "1.2.0",
      "model_name": "LayoutModel",
      "state": {
       "_model_module": "@jupyter-widgets/base",
       "_model_module_version": "1.2.0",
       "_model_name": "LayoutModel",
       "_view_count": null,
       "_view_module": "@jupyter-widgets/base",
       "_view_module_version": "1.2.0",
       "_view_name": "LayoutView",
       "align_content": null,
       "align_items": null,
       "align_self": null,
       "border": null,
       "bottom": null,
       "display": null,
       "flex": null,
       "flex_flow": null,
       "grid_area": null,
       "grid_auto_columns": null,
       "grid_auto_flow": null,
       "grid_auto_rows": null,
       "grid_column": null,
       "grid_gap": null,
       "grid_row": null,
       "grid_template_areas": null,
       "grid_template_columns": null,
       "grid_template_rows": null,
       "height": null,
       "justify_content": null,
       "justify_items": null,
       "left": null,
       "margin": null,
       "max_height": null,
       "max_width": null,
       "min_height": null,
       "min_width": null,
       "object_fit": null,
       "object_position": null,
       "order": null,
       "overflow": null,
       "overflow_x": null,
       "overflow_y": null,
       "padding": null,
       "right": null,
       "top": null,
       "visibility": null,
       "width": null
      }
     },
     "9b4466d6895d4e1588d252f95402e38d": {
      "model_module": "@jupyter-widgets/base",
      "model_module_version": "1.2.0",
      "model_name": "LayoutModel",
      "state": {
       "_model_module": "@jupyter-widgets/base",
       "_model_module_version": "1.2.0",
       "_model_name": "LayoutModel",
       "_view_count": null,
       "_view_module": "@jupyter-widgets/base",
       "_view_module_version": "1.2.0",
       "_view_name": "LayoutView",
       "align_content": null,
       "align_items": null,
       "align_self": null,
       "border": null,
       "bottom": null,
       "display": null,
       "flex": null,
       "flex_flow": null,
       "grid_area": null,
       "grid_auto_columns": null,
       "grid_auto_flow": null,
       "grid_auto_rows": null,
       "grid_column": null,
       "grid_gap": null,
       "grid_row": null,
       "grid_template_areas": null,
       "grid_template_columns": null,
       "grid_template_rows": null,
       "height": null,
       "justify_content": null,
       "justify_items": null,
       "left": null,
       "margin": null,
       "max_height": null,
       "max_width": null,
       "min_height": null,
       "min_width": null,
       "object_fit": null,
       "object_position": null,
       "order": null,
       "overflow": null,
       "overflow_x": null,
       "overflow_y": null,
       "padding": null,
       "right": null,
       "top": null,
       "visibility": null,
       "width": null
      }
     },
     "9b4584d9d0844d46a1147748d6f228f6": {
      "model_module": "@jupyter-widgets/base",
      "model_module_version": "1.2.0",
      "model_name": "LayoutModel",
      "state": {
       "_model_module": "@jupyter-widgets/base",
       "_model_module_version": "1.2.0",
       "_model_name": "LayoutModel",
       "_view_count": null,
       "_view_module": "@jupyter-widgets/base",
       "_view_module_version": "1.2.0",
       "_view_name": "LayoutView",
       "align_content": null,
       "align_items": null,
       "align_self": null,
       "border": null,
       "bottom": null,
       "display": null,
       "flex": null,
       "flex_flow": null,
       "grid_area": null,
       "grid_auto_columns": null,
       "grid_auto_flow": null,
       "grid_auto_rows": null,
       "grid_column": null,
       "grid_gap": null,
       "grid_row": null,
       "grid_template_areas": null,
       "grid_template_columns": null,
       "grid_template_rows": null,
       "height": null,
       "justify_content": null,
       "justify_items": null,
       "left": null,
       "margin": null,
       "max_height": null,
       "max_width": null,
       "min_height": null,
       "min_width": null,
       "object_fit": null,
       "object_position": null,
       "order": null,
       "overflow": null,
       "overflow_x": null,
       "overflow_y": null,
       "padding": null,
       "right": null,
       "top": null,
       "visibility": null,
       "width": null
      }
     },
     "9b56617c20d246498c8f60929f25b512": {
      "model_module": "@jupyter-widgets/base",
      "model_module_version": "1.2.0",
      "model_name": "LayoutModel",
      "state": {
       "_model_module": "@jupyter-widgets/base",
       "_model_module_version": "1.2.0",
       "_model_name": "LayoutModel",
       "_view_count": null,
       "_view_module": "@jupyter-widgets/base",
       "_view_module_version": "1.2.0",
       "_view_name": "LayoutView",
       "align_content": null,
       "align_items": null,
       "align_self": null,
       "border": null,
       "bottom": null,
       "display": null,
       "flex": null,
       "flex_flow": null,
       "grid_area": null,
       "grid_auto_columns": null,
       "grid_auto_flow": null,
       "grid_auto_rows": null,
       "grid_column": null,
       "grid_gap": null,
       "grid_row": null,
       "grid_template_areas": null,
       "grid_template_columns": null,
       "grid_template_rows": null,
       "height": null,
       "justify_content": null,
       "justify_items": null,
       "left": null,
       "margin": null,
       "max_height": null,
       "max_width": null,
       "min_height": null,
       "min_width": null,
       "object_fit": null,
       "object_position": null,
       "order": null,
       "overflow": null,
       "overflow_x": null,
       "overflow_y": null,
       "padding": null,
       "right": null,
       "top": null,
       "visibility": null,
       "width": null
      }
     },
     "9c4d3e84b3b04c4895bbbf9ce5568cfd": {
      "model_module": "@jupyter-widgets/controls",
      "model_module_version": "1.5.0",
      "model_name": "HBoxModel",
      "state": {
       "_dom_classes": [],
       "_model_module": "@jupyter-widgets/controls",
       "_model_module_version": "1.5.0",
       "_model_name": "HBoxModel",
       "_view_count": null,
       "_view_module": "@jupyter-widgets/controls",
       "_view_module_version": "1.5.0",
       "_view_name": "HBoxView",
       "box_style": "",
       "children": [
        "IPY_MODEL_c52ab4c45f564d138c32778126189fea",
        "IPY_MODEL_d3696a4c132340dfb5f061efa0ae1d4c",
        "IPY_MODEL_ebe49bc7288e49f595a23d37e782d1b1"
       ],
       "layout": "IPY_MODEL_76997152287f420ab0b381d167aac6f2"
      }
     },
     "a01b52f7993f445b95310b8985b992d9": {
      "model_module": "@jupyter-widgets/base",
      "model_module_version": "1.2.0",
      "model_name": "LayoutModel",
      "state": {
       "_model_module": "@jupyter-widgets/base",
       "_model_module_version": "1.2.0",
       "_model_name": "LayoutModel",
       "_view_count": null,
       "_view_module": "@jupyter-widgets/base",
       "_view_module_version": "1.2.0",
       "_view_name": "LayoutView",
       "align_content": null,
       "align_items": null,
       "align_self": null,
       "border": null,
       "bottom": null,
       "display": null,
       "flex": null,
       "flex_flow": null,
       "grid_area": null,
       "grid_auto_columns": null,
       "grid_auto_flow": null,
       "grid_auto_rows": null,
       "grid_column": null,
       "grid_gap": null,
       "grid_row": null,
       "grid_template_areas": null,
       "grid_template_columns": null,
       "grid_template_rows": null,
       "height": null,
       "justify_content": null,
       "justify_items": null,
       "left": null,
       "margin": null,
       "max_height": null,
       "max_width": null,
       "min_height": null,
       "min_width": null,
       "object_fit": null,
       "object_position": null,
       "order": null,
       "overflow": null,
       "overflow_x": null,
       "overflow_y": null,
       "padding": null,
       "right": null,
       "top": null,
       "visibility": null,
       "width": null
      }
     },
     "a403de1af6aa455e943e9844bd749234": {
      "model_module": "@jupyter-widgets/base",
      "model_module_version": "1.2.0",
      "model_name": "LayoutModel",
      "state": {
       "_model_module": "@jupyter-widgets/base",
       "_model_module_version": "1.2.0",
       "_model_name": "LayoutModel",
       "_view_count": null,
       "_view_module": "@jupyter-widgets/base",
       "_view_module_version": "1.2.0",
       "_view_name": "LayoutView",
       "align_content": null,
       "align_items": null,
       "align_self": null,
       "border": null,
       "bottom": null,
       "display": null,
       "flex": null,
       "flex_flow": null,
       "grid_area": null,
       "grid_auto_columns": null,
       "grid_auto_flow": null,
       "grid_auto_rows": null,
       "grid_column": null,
       "grid_gap": null,
       "grid_row": null,
       "grid_template_areas": null,
       "grid_template_columns": null,
       "grid_template_rows": null,
       "height": null,
       "justify_content": null,
       "justify_items": null,
       "left": null,
       "margin": null,
       "max_height": null,
       "max_width": null,
       "min_height": null,
       "min_width": null,
       "object_fit": null,
       "object_position": null,
       "order": null,
       "overflow": null,
       "overflow_x": null,
       "overflow_y": null,
       "padding": null,
       "right": null,
       "top": null,
       "visibility": null,
       "width": null
      }
     },
     "a747ac78b95e4b299e610a00b66ed8ee": {
      "model_module": "@jupyter-widgets/controls",
      "model_module_version": "1.5.0",
      "model_name": "DescriptionStyleModel",
      "state": {
       "_model_module": "@jupyter-widgets/controls",
       "_model_module_version": "1.5.0",
       "_model_name": "DescriptionStyleModel",
       "_view_count": null,
       "_view_module": "@jupyter-widgets/base",
       "_view_module_version": "1.2.0",
       "_view_name": "StyleView",
       "description_width": ""
      }
     },
     "abbd662d5faa461aa83dd6b5c78f17cb": {
      "model_module": "@jupyter-widgets/controls",
      "model_module_version": "1.5.0",
      "model_name": "HBoxModel",
      "state": {
       "_dom_classes": [],
       "_model_module": "@jupyter-widgets/controls",
       "_model_module_version": "1.5.0",
       "_model_name": "HBoxModel",
       "_view_count": null,
       "_view_module": "@jupyter-widgets/controls",
       "_view_module_version": "1.5.0",
       "_view_name": "HBoxView",
       "box_style": "",
       "children": [
        "IPY_MODEL_82a44977d0d8422fa5980bfbaeb1dd8c",
        "IPY_MODEL_707d0068676f40d39445d7a7b872eed2",
        "IPY_MODEL_bd5969d2756448e5990b09f188066869"
       ],
       "layout": "IPY_MODEL_0239158687884c38b0b66245a2415d73"
      }
     },
     "ad8a4c9863664311b597a144b8f606b3": {
      "model_module": "@jupyter-widgets/base",
      "model_module_version": "1.2.0",
      "model_name": "LayoutModel",
      "state": {
       "_model_module": "@jupyter-widgets/base",
       "_model_module_version": "1.2.0",
       "_model_name": "LayoutModel",
       "_view_count": null,
       "_view_module": "@jupyter-widgets/base",
       "_view_module_version": "1.2.0",
       "_view_name": "LayoutView",
       "align_content": null,
       "align_items": null,
       "align_self": null,
       "border": null,
       "bottom": null,
       "display": null,
       "flex": null,
       "flex_flow": null,
       "grid_area": null,
       "grid_auto_columns": null,
       "grid_auto_flow": null,
       "grid_auto_rows": null,
       "grid_column": null,
       "grid_gap": null,
       "grid_row": null,
       "grid_template_areas": null,
       "grid_template_columns": null,
       "grid_template_rows": null,
       "height": null,
       "justify_content": null,
       "justify_items": null,
       "left": null,
       "margin": null,
       "max_height": null,
       "max_width": null,
       "min_height": null,
       "min_width": null,
       "object_fit": null,
       "object_position": null,
       "order": null,
       "overflow": null,
       "overflow_x": null,
       "overflow_y": null,
       "padding": null,
       "right": null,
       "top": null,
       "visibility": null,
       "width": null
      }
     },
     "b10a3c1006764a558ccb74e9e659070a": {
      "model_module": "@jupyter-widgets/base",
      "model_module_version": "1.2.0",
      "model_name": "LayoutModel",
      "state": {
       "_model_module": "@jupyter-widgets/base",
       "_model_module_version": "1.2.0",
       "_model_name": "LayoutModel",
       "_view_count": null,
       "_view_module": "@jupyter-widgets/base",
       "_view_module_version": "1.2.0",
       "_view_name": "LayoutView",
       "align_content": null,
       "align_items": null,
       "align_self": null,
       "border": null,
       "bottom": null,
       "display": null,
       "flex": null,
       "flex_flow": null,
       "grid_area": null,
       "grid_auto_columns": null,
       "grid_auto_flow": null,
       "grid_auto_rows": null,
       "grid_column": null,
       "grid_gap": null,
       "grid_row": null,
       "grid_template_areas": null,
       "grid_template_columns": null,
       "grid_template_rows": null,
       "height": null,
       "justify_content": null,
       "justify_items": null,
       "left": null,
       "margin": null,
       "max_height": null,
       "max_width": null,
       "min_height": null,
       "min_width": null,
       "object_fit": null,
       "object_position": null,
       "order": null,
       "overflow": null,
       "overflow_x": null,
       "overflow_y": null,
       "padding": null,
       "right": null,
       "top": null,
       "visibility": null,
       "width": null
      }
     },
     "b1f73f8d648a4aad9460c8f2662e261f": {
      "model_module": "@jupyter-widgets/base",
      "model_module_version": "1.2.0",
      "model_name": "LayoutModel",
      "state": {
       "_model_module": "@jupyter-widgets/base",
       "_model_module_version": "1.2.0",
       "_model_name": "LayoutModel",
       "_view_count": null,
       "_view_module": "@jupyter-widgets/base",
       "_view_module_version": "1.2.0",
       "_view_name": "LayoutView",
       "align_content": null,
       "align_items": null,
       "align_self": null,
       "border": null,
       "bottom": null,
       "display": null,
       "flex": null,
       "flex_flow": null,
       "grid_area": null,
       "grid_auto_columns": null,
       "grid_auto_flow": null,
       "grid_auto_rows": null,
       "grid_column": null,
       "grid_gap": null,
       "grid_row": null,
       "grid_template_areas": null,
       "grid_template_columns": null,
       "grid_template_rows": null,
       "height": null,
       "justify_content": null,
       "justify_items": null,
       "left": null,
       "margin": null,
       "max_height": null,
       "max_width": null,
       "min_height": null,
       "min_width": null,
       "object_fit": null,
       "object_position": null,
       "order": null,
       "overflow": null,
       "overflow_x": null,
       "overflow_y": null,
       "padding": null,
       "right": null,
       "top": null,
       "visibility": null,
       "width": null
      }
     },
     "bd5969d2756448e5990b09f188066869": {
      "model_module": "@jupyter-widgets/controls",
      "model_module_version": "1.5.0",
      "model_name": "HTMLModel",
      "state": {
       "_dom_classes": [],
       "_model_module": "@jupyter-widgets/controls",
       "_model_module_version": "1.5.0",
       "_model_name": "HTMLModel",
       "_view_count": null,
       "_view_module": "@jupyter-widgets/controls",
       "_view_module_version": "1.5.0",
       "_view_name": "HTMLView",
       "description": "",
       "description_tooltip": null,
       "layout": "IPY_MODEL_7b95b50a9a8f457f8df83f2e92c16efb",
       "placeholder": "​",
       "style": "IPY_MODEL_103f2dbed1a646188b340375420e8ea0",
       "value": " 534/534 [00:00&lt;00:00, 4159.26 examples/s]"
      }
     },
     "bd91a4cf42bc43dc841a687fd41235e9": {
      "model_module": "@jupyter-widgets/controls",
      "model_module_version": "1.5.0",
      "model_name": "HTMLModel",
      "state": {
       "_dom_classes": [],
       "_model_module": "@jupyter-widgets/controls",
       "_model_module_version": "1.5.0",
       "_model_name": "HTMLModel",
       "_view_count": null,
       "_view_module": "@jupyter-widgets/controls",
       "_view_module_version": "1.5.0",
       "_view_name": "HTMLView",
       "description": "",
       "description_tooltip": null,
       "layout": "IPY_MODEL_87d0fea120fb42d287181dd88bdf42db",
       "placeholder": "​",
       "style": "IPY_MODEL_876b1b2b50ec486dbff7a872842d63f4",
       "value": " 112/112 [00:00&lt;00:00, 10.2kB/s]"
      }
     },
     "beca3379b51c4fd0a90b5b8b90fc42ab": {
      "model_module": "@jupyter-widgets/controls",
      "model_module_version": "1.5.0",
      "model_name": "HTMLModel",
      "state": {
       "_dom_classes": [],
       "_model_module": "@jupyter-widgets/controls",
       "_model_module_version": "1.5.0",
       "_model_name": "HTMLModel",
       "_view_count": null,
       "_view_module": "@jupyter-widgets/controls",
       "_view_module_version": "1.5.0",
       "_view_name": "HTMLView",
       "description": "",
       "description_tooltip": null,
       "layout": "IPY_MODEL_b1f73f8d648a4aad9460c8f2662e261f",
       "placeholder": "​",
       "style": "IPY_MODEL_309d9c2eb511490eb1235e47f140825c",
       "value": "vocab.txt: 100%"
      }
     },
     "c139a48f51624a86b682103986272a41": {
      "model_module": "@jupyter-widgets/controls",
      "model_module_version": "1.5.0",
      "model_name": "DescriptionStyleModel",
      "state": {
       "_model_module": "@jupyter-widgets/controls",
       "_model_module_version": "1.5.0",
       "_model_name": "DescriptionStyleModel",
       "_view_count": null,
       "_view_module": "@jupyter-widgets/base",
       "_view_module_version": "1.2.0",
       "_view_name": "StyleView",
       "description_width": ""
      }
     },
     "c41e7d8f98da498390d43c08c79144fa": {
      "model_module": "@jupyter-widgets/controls",
      "model_module_version": "1.5.0",
      "model_name": "DescriptionStyleModel",
      "state": {
       "_model_module": "@jupyter-widgets/controls",
       "_model_module_version": "1.5.0",
       "_model_name": "DescriptionStyleModel",
       "_view_count": null,
       "_view_module": "@jupyter-widgets/base",
       "_view_module_version": "1.2.0",
       "_view_name": "StyleView",
       "description_width": ""
      }
     },
     "c51e11512d814aff855ad1dc5a788879": {
      "model_module": "@jupyter-widgets/base",
      "model_module_version": "1.2.0",
      "model_name": "LayoutModel",
      "state": {
       "_model_module": "@jupyter-widgets/base",
       "_model_module_version": "1.2.0",
       "_model_name": "LayoutModel",
       "_view_count": null,
       "_view_module": "@jupyter-widgets/base",
       "_view_module_version": "1.2.0",
       "_view_name": "LayoutView",
       "align_content": null,
       "align_items": null,
       "align_self": null,
       "border": null,
       "bottom": null,
       "display": null,
       "flex": null,
       "flex_flow": null,
       "grid_area": null,
       "grid_auto_columns": null,
       "grid_auto_flow": null,
       "grid_auto_rows": null,
       "grid_column": null,
       "grid_gap": null,
       "grid_row": null,
       "grid_template_areas": null,
       "grid_template_columns": null,
       "grid_template_rows": null,
       "height": null,
       "justify_content": null,
       "justify_items": null,
       "left": null,
       "margin": null,
       "max_height": null,
       "max_width": null,
       "min_height": null,
       "min_width": null,
       "object_fit": null,
       "object_position": null,
       "order": null,
       "overflow": null,
       "overflow_x": null,
       "overflow_y": null,
       "padding": null,
       "right": null,
       "top": null,
       "visibility": null,
       "width": null
      }
     },
     "c52ab4c45f564d138c32778126189fea": {
      "model_module": "@jupyter-widgets/controls",
      "model_module_version": "1.5.0",
      "model_name": "HTMLModel",
      "state": {
       "_dom_classes": [],
       "_model_module": "@jupyter-widgets/controls",
       "_model_module_version": "1.5.0",
       "_model_name": "HTMLModel",
       "_view_count": null,
       "_view_module": "@jupyter-widgets/controls",
       "_view_module_version": "1.5.0",
       "_view_name": "HTMLView",
       "description": "",
       "description_tooltip": null,
       "layout": "IPY_MODEL_29ab7ea478e94b128cf0d04909e537c3",
       "placeholder": "​",
       "style": "IPY_MODEL_dc56a3edf65945c88f2e1baea5a69d92",
       "value": "tokenizer_config.json: 100%"
      }
     },
     "c6aeeae6a6f44d8692cf5ef7d4a866f4": {
      "model_module": "@jupyter-widgets/controls",
      "model_module_version": "1.5.0",
      "model_name": "DescriptionStyleModel",
      "state": {
       "_model_module": "@jupyter-widgets/controls",
       "_model_module_version": "1.5.0",
       "_model_name": "DescriptionStyleModel",
       "_view_count": null,
       "_view_module": "@jupyter-widgets/base",
       "_view_module_version": "1.2.0",
       "_view_name": "StyleView",
       "description_width": ""
      }
     },
     "cdba3c78543e4e7f9804072c6d7c5568": {
      "model_module": "@jupyter-widgets/controls",
      "model_module_version": "1.5.0",
      "model_name": "FloatProgressModel",
      "state": {
       "_dom_classes": [],
       "_model_module": "@jupyter-widgets/controls",
       "_model_module_version": "1.5.0",
       "_model_name": "FloatProgressModel",
       "_view_count": null,
       "_view_module": "@jupyter-widgets/controls",
       "_view_module_version": "1.5.0",
       "_view_name": "ProgressView",
       "bar_style": "success",
       "description": "",
       "description_tooltip": null,
       "layout": "IPY_MODEL_fefe98237f4c428a89214a517d977bdb",
       "max": 1082.0,
       "min": 0.0,
       "orientation": "horizontal",
       "style": "IPY_MODEL_6b2e1a21302f49ebbded4e3fbbe36c57",
       "value": 1082.0
      }
     },
     "ce3dd3077bd8478d9d65af2c9449bd7b": {
      "model_module": "@jupyter-widgets/controls",
      "model_module_version": "1.5.0",
      "model_name": "HTMLModel",
      "state": {
       "_dom_classes": [],
       "_model_module": "@jupyter-widgets/controls",
       "_model_module_version": "1.5.0",
       "_model_name": "HTMLModel",
       "_view_count": null,
       "_view_module": "@jupyter-widgets/controls",
       "_view_module_version": "1.5.0",
       "_view_name": "HTMLView",
       "description": "",
       "description_tooltip": null,
       "layout": "IPY_MODEL_9a12e2d9c058411e9a9468749669a8ce",
       "placeholder": "​",
       "style": "IPY_MODEL_6951ca68d9374ef0bea454d9ba7055b9",
       "value": " 438M/438M [00:02&lt;00:00, 212MB/s]"
      }
     },
     "d3696a4c132340dfb5f061efa0ae1d4c": {
      "model_module": "@jupyter-widgets/controls",
      "model_module_version": "1.5.0",
      "model_name": "FloatProgressModel",
      "state": {
       "_dom_classes": [],
       "_model_module": "@jupyter-widgets/controls",
       "_model_module_version": "1.5.0",
       "_model_name": "FloatProgressModel",
       "_view_count": null,
       "_view_module": "@jupyter-widgets/controls",
       "_view_module_version": "1.5.0",
       "_view_name": "ProgressView",
       "bar_style": "success",
       "description": "",
       "description_tooltip": null,
       "layout": "IPY_MODEL_9b4466d6895d4e1588d252f95402e38d",
       "max": 252.0,
       "min": 0.0,
       "orientation": "horizontal",
       "style": "IPY_MODEL_3caf0bb2f0794029a3e09a415bb29d56",
       "value": 252.0
      }
     },
     "d5362eafde38487c9d4399e28ee2ca3e": {
      "model_module": "@jupyter-widgets/base",
      "model_module_version": "1.2.0",
      "model_name": "LayoutModel",
      "state": {
       "_model_module": "@jupyter-widgets/base",
       "_model_module_version": "1.2.0",
       "_model_name": "LayoutModel",
       "_view_count": null,
       "_view_module": "@jupyter-widgets/base",
       "_view_module_version": "1.2.0",
       "_view_name": "LayoutView",
       "align_content": null,
       "align_items": null,
       "align_self": null,
       "border": null,
       "bottom": null,
       "display": null,
       "flex": null,
       "flex_flow": null,
       "grid_area": null,
       "grid_auto_columns": null,
       "grid_auto_flow": null,
       "grid_auto_rows": null,
       "grid_column": null,
       "grid_gap": null,
       "grid_row": null,
       "grid_template_areas": null,
       "grid_template_columns": null,
       "grid_template_rows": null,
       "height": null,
       "justify_content": null,
       "justify_items": null,
       "left": null,
       "margin": null,
       "max_height": null,
       "max_width": null,
       "min_height": null,
       "min_width": null,
       "object_fit": null,
       "object_position": null,
       "order": null,
       "overflow": null,
       "overflow_x": null,
       "overflow_y": null,
       "padding": null,
       "right": null,
       "top": null,
       "visibility": null,
       "width": null
      }
     },
     "d7e3419e4d194473b5cd8abe4025ce00": {
      "model_module": "@jupyter-widgets/base",
      "model_module_version": "1.2.0",
      "model_name": "LayoutModel",
      "state": {
       "_model_module": "@jupyter-widgets/base",
       "_model_module_version": "1.2.0",
       "_model_name": "LayoutModel",
       "_view_count": null,
       "_view_module": "@jupyter-widgets/base",
       "_view_module_version": "1.2.0",
       "_view_name": "LayoutView",
       "align_content": null,
       "align_items": null,
       "align_self": null,
       "border": null,
       "bottom": null,
       "display": null,
       "flex": null,
       "flex_flow": null,
       "grid_area": null,
       "grid_auto_columns": null,
       "grid_auto_flow": null,
       "grid_auto_rows": null,
       "grid_column": null,
       "grid_gap": null,
       "grid_row": null,
       "grid_template_areas": null,
       "grid_template_columns": null,
       "grid_template_rows": null,
       "height": null,
       "justify_content": null,
       "justify_items": null,
       "left": null,
       "margin": null,
       "max_height": null,
       "max_width": null,
       "min_height": null,
       "min_width": null,
       "object_fit": null,
       "object_position": null,
       "order": null,
       "overflow": null,
       "overflow_x": null,
       "overflow_y": null,
       "padding": null,
       "right": null,
       "top": null,
       "visibility": null,
       "width": null
      }
     },
     "d93dae77c700449db5a4d8cee1e54dff": {
      "model_module": "@jupyter-widgets/base",
      "model_module_version": "1.2.0",
      "model_name": "LayoutModel",
      "state": {
       "_model_module": "@jupyter-widgets/base",
       "_model_module_version": "1.2.0",
       "_model_name": "LayoutModel",
       "_view_count": null,
       "_view_module": "@jupyter-widgets/base",
       "_view_module_version": "1.2.0",
       "_view_name": "LayoutView",
       "align_content": null,
       "align_items": null,
       "align_self": null,
       "border": null,
       "bottom": null,
       "display": null,
       "flex": null,
       "flex_flow": null,
       "grid_area": null,
       "grid_auto_columns": null,
       "grid_auto_flow": null,
       "grid_auto_rows": null,
       "grid_column": null,
       "grid_gap": null,
       "grid_row": null,
       "grid_template_areas": null,
       "grid_template_columns": null,
       "grid_template_rows": null,
       "height": null,
       "justify_content": null,
       "justify_items": null,
       "left": null,
       "margin": null,
       "max_height": null,
       "max_width": null,
       "min_height": null,
       "min_width": null,
       "object_fit": null,
       "object_position": null,
       "order": null,
       "overflow": null,
       "overflow_x": null,
       "overflow_y": null,
       "padding": null,
       "right": null,
       "top": null,
       "visibility": null,
       "width": null
      }
     },
     "dc56a3edf65945c88f2e1baea5a69d92": {
      "model_module": "@jupyter-widgets/controls",
      "model_module_version": "1.5.0",
      "model_name": "DescriptionStyleModel",
      "state": {
       "_model_module": "@jupyter-widgets/controls",
       "_model_module_version": "1.5.0",
       "_model_name": "DescriptionStyleModel",
       "_view_count": null,
       "_view_module": "@jupyter-widgets/base",
       "_view_module_version": "1.2.0",
       "_view_name": "StyleView",
       "description_width": ""
      }
     },
     "dccb60ae3e1b4934b775031575e4fb0d": {
      "model_module": "@jupyter-widgets/controls",
      "model_module_version": "1.5.0",
      "model_name": "HTMLModel",
      "state": {
       "_dom_classes": [],
       "_model_module": "@jupyter-widgets/controls",
       "_model_module_version": "1.5.0",
       "_model_name": "HTMLModel",
       "_view_count": null,
       "_view_module": "@jupyter-widgets/controls",
       "_view_module_version": "1.5.0",
       "_view_name": "HTMLView",
       "description": "",
       "description_tooltip": null,
       "layout": "IPY_MODEL_4f353d42a8414b21a41196d161423d65",
       "placeholder": "​",
       "style": "IPY_MODEL_152a6f24f0614797bc658344890d9508",
       "value": " 758/758 [00:00&lt;00:00, 66.1kB/s]"
      }
     },
     "de3b1a061ec0447d85d36c764f086a00": {
      "model_module": "@jupyter-widgets/controls",
      "model_module_version": "1.5.0",
      "model_name": "HTMLModel",
      "state": {
       "_dom_classes": [],
       "_model_module": "@jupyter-widgets/controls",
       "_model_module_version": "1.5.0",
       "_model_name": "HTMLModel",
       "_view_count": null,
       "_view_module": "@jupyter-widgets/controls",
       "_view_module_version": "1.5.0",
       "_view_name": "HTMLView",
       "description": "",
       "description_tooltip": null,
       "layout": "IPY_MODEL_d93dae77c700449db5a4d8cee1e54dff",
       "placeholder": "​",
       "style": "IPY_MODEL_948b2d4dd92c4931a9e4e734069ab6e7",
       "value": " 3769/3769 [00:00&lt;00:00, 4750.58 examples/s]"
      }
     },
     "de91558145464e6bad821fa64641744f": {
      "model_module": "@jupyter-widgets/controls",
      "model_module_version": "1.5.0",
      "model_name": "ProgressStyleModel",
      "state": {
       "_model_module": "@jupyter-widgets/controls",
       "_model_module_version": "1.5.0",
       "_model_name": "ProgressStyleModel",
       "_view_count": null,
       "_view_module": "@jupyter-widgets/base",
       "_view_module_version": "1.2.0",
       "_view_name": "StyleView",
       "bar_color": null,
       "description_width": ""
      }
     },
     "e351c889c3004d7ea9fba9d43e127969": {
      "model_module": "@jupyter-widgets/controls",
      "model_module_version": "1.5.0",
      "model_name": "HBoxModel",
      "state": {
       "_dom_classes": [],
       "_model_module": "@jupyter-widgets/controls",
       "_model_module_version": "1.5.0",
       "_model_name": "HBoxModel",
       "_view_count": null,
       "_view_module": "@jupyter-widgets/controls",
       "_view_module_version": "1.5.0",
       "_view_name": "HBoxView",
       "box_style": "",
       "children": [
        "IPY_MODEL_beca3379b51c4fd0a90b5b8b90fc42ab",
        "IPY_MODEL_6288074e082b43d4b45522a7b3cd2ab5",
        "IPY_MODEL_f198bf0c5ae64a87923195db62cbae23"
       ],
       "layout": "IPY_MODEL_a01b52f7993f445b95310b8985b992d9"
      }
     },
     "e47004d6f246409a85cdac496b6a3ed2": {
      "model_module": "@jupyter-widgets/controls",
      "model_module_version": "1.5.0",
      "model_name": "HTMLModel",
      "state": {
       "_dom_classes": [],
       "_model_module": "@jupyter-widgets/controls",
       "_model_module_version": "1.5.0",
       "_model_name": "HTMLModel",
       "_view_count": null,
       "_view_module": "@jupyter-widgets/controls",
       "_view_module_version": "1.5.0",
       "_view_name": "HTMLView",
       "description": "",
       "description_tooltip": null,
       "layout": "IPY_MODEL_9227a80a5cfc494d8c83aa5092c8c35a",
       "placeholder": "​",
       "style": "IPY_MODEL_c139a48f51624a86b682103986272a41",
       "value": "Map: 100%"
      }
     },
     "ebe49bc7288e49f595a23d37e782d1b1": {
      "model_module": "@jupyter-widgets/controls",
      "model_module_version": "1.5.0",
      "model_name": "HTMLModel",
      "state": {
       "_dom_classes": [],
       "_model_module": "@jupyter-widgets/controls",
       "_model_module_version": "1.5.0",
       "_model_name": "HTMLModel",
       "_view_count": null,
       "_view_module": "@jupyter-widgets/controls",
       "_view_module_version": "1.5.0",
       "_view_name": "HTMLView",
       "description": "",
       "description_tooltip": null,
       "layout": "IPY_MODEL_d5362eafde38487c9d4399e28ee2ca3e",
       "placeholder": "​",
       "style": "IPY_MODEL_c41e7d8f98da498390d43c08c79144fa",
       "value": " 252/252 [00:00&lt;00:00, 19.9kB/s]"
      }
     },
     "f198bf0c5ae64a87923195db62cbae23": {
      "model_module": "@jupyter-widgets/controls",
      "model_module_version": "1.5.0",
      "model_name": "HTMLModel",
      "state": {
       "_dom_classes": [],
       "_model_module": "@jupyter-widgets/controls",
       "_model_module_version": "1.5.0",
       "_model_name": "HTMLModel",
       "_view_count": null,
       "_view_module": "@jupyter-widgets/controls",
       "_view_module_version": "1.5.0",
       "_view_name": "HTMLView",
       "description": "",
       "description_tooltip": null,
       "layout": "IPY_MODEL_f9318cfb95fc464886355db3eb30e8ba",
       "placeholder": "​",
       "style": "IPY_MODEL_0efc94395ad24f19a065a4d1ee38acec",
       "value": " 232k/232k [00:00&lt;00:00, 1.80MB/s]"
      }
     },
     "f5a38ff3b92d4b6cbaa90d4c9905625c": {
      "model_module": "@jupyter-widgets/controls",
      "model_module_version": "1.5.0",
      "model_name": "HBoxModel",
      "state": {
       "_dom_classes": [],
       "_model_module": "@jupyter-widgets/controls",
       "_model_module_version": "1.5.0",
       "_model_name": "HBoxModel",
       "_view_count": null,
       "_view_module": "@jupyter-widgets/controls",
       "_view_module_version": "1.5.0",
       "_view_name": "HBoxView",
       "box_style": "",
       "children": [
        "IPY_MODEL_8e751307f6a54bf6874dccfeabb70ded",
        "IPY_MODEL_86effc6f825c4a9b9d374eb68a1efdd6",
        "IPY_MODEL_ce3dd3077bd8478d9d65af2c9449bd7b"
       ],
       "layout": "IPY_MODEL_9b56617c20d246498c8f60929f25b512"
      }
     },
     "f8021d39488141e0b5affbf87ff19b71": {
      "model_module": "@jupyter-widgets/base",
      "model_module_version": "1.2.0",
      "model_name": "LayoutModel",
      "state": {
       "_model_module": "@jupyter-widgets/base",
       "_model_module_version": "1.2.0",
       "_model_name": "LayoutModel",
       "_view_count": null,
       "_view_module": "@jupyter-widgets/base",
       "_view_module_version": "1.2.0",
       "_view_name": "LayoutView",
       "align_content": null,
       "align_items": null,
       "align_self": null,
       "border": null,
       "bottom": null,
       "display": null,
       "flex": null,
       "flex_flow": null,
       "grid_area": null,
       "grid_auto_columns": null,
       "grid_auto_flow": null,
       "grid_auto_rows": null,
       "grid_column": null,
       "grid_gap": null,
       "grid_row": null,
       "grid_template_areas": null,
       "grid_template_columns": null,
       "grid_template_rows": null,
       "height": null,
       "justify_content": null,
       "justify_items": null,
       "left": null,
       "margin": null,
       "max_height": null,
       "max_width": null,
       "min_height": null,
       "min_width": null,
       "object_fit": null,
       "object_position": null,
       "order": null,
       "overflow": null,
       "overflow_x": null,
       "overflow_y": null,
       "padding": null,
       "right": null,
       "top": null,
       "visibility": null,
       "width": null
      }
     },
     "f9318cfb95fc464886355db3eb30e8ba": {
      "model_module": "@jupyter-widgets/base",
      "model_module_version": "1.2.0",
      "model_name": "LayoutModel",
      "state": {
       "_model_module": "@jupyter-widgets/base",
       "_model_module_version": "1.2.0",
       "_model_name": "LayoutModel",
       "_view_count": null,
       "_view_module": "@jupyter-widgets/base",
       "_view_module_version": "1.2.0",
       "_view_name": "LayoutView",
       "align_content": null,
       "align_items": null,
       "align_self": null,
       "border": null,
       "bottom": null,
       "display": null,
       "flex": null,
       "flex_flow": null,
       "grid_area": null,
       "grid_auto_columns": null,
       "grid_auto_flow": null,
       "grid_auto_rows": null,
       "grid_column": null,
       "grid_gap": null,
       "grid_row": null,
       "grid_template_areas": null,
       "grid_template_columns": null,
       "grid_template_rows": null,
       "height": null,
       "justify_content": null,
       "justify_items": null,
       "left": null,
       "margin": null,
       "max_height": null,
       "max_width": null,
       "min_height": null,
       "min_width": null,
       "object_fit": null,
       "object_position": null,
       "order": null,
       "overflow": null,
       "overflow_x": null,
       "overflow_y": null,
       "padding": null,
       "right": null,
       "top": null,
       "visibility": null,
       "width": null
      }
     },
     "fa368ba42d9c425d836d2c52997e3686": {
      "model_module": "@jupyter-widgets/controls",
      "model_module_version": "1.5.0",
      "model_name": "HBoxModel",
      "state": {
       "_dom_classes": [],
       "_model_module": "@jupyter-widgets/controls",
       "_model_module_version": "1.5.0",
       "_model_name": "HBoxModel",
       "_view_count": null,
       "_view_module": "@jupyter-widgets/controls",
       "_view_module_version": "1.5.0",
       "_view_name": "HBoxView",
       "box_style": "",
       "children": [
        "IPY_MODEL_7117c9fa83fd44ed9155ebbecc0b78f6",
        "IPY_MODEL_6c6d7265577042abaf361e206472076e",
        "IPY_MODEL_dccb60ae3e1b4934b775031575e4fb0d"
       ],
       "layout": "IPY_MODEL_58a654e5d3624723a95698b19f4cec16"
      }
     },
     "fefe98237f4c428a89214a517d977bdb": {
      "model_module": "@jupyter-widgets/base",
      "model_module_version": "1.2.0",
      "model_name": "LayoutModel",
      "state": {
       "_model_module": "@jupyter-widgets/base",
       "_model_module_version": "1.2.0",
       "_model_name": "LayoutModel",
       "_view_count": null,
       "_view_module": "@jupyter-widgets/base",
       "_view_module_version": "1.2.0",
       "_view_name": "LayoutView",
       "align_content": null,
       "align_items": null,
       "align_self": null,
       "border": null,
       "bottom": null,
       "display": null,
       "flex": null,
       "flex_flow": null,
       "grid_area": null,
       "grid_auto_columns": null,
       "grid_auto_flow": null,
       "grid_auto_rows": null,
       "grid_column": null,
       "grid_gap": null,
       "grid_row": null,
       "grid_template_areas": null,
       "grid_template_columns": null,
       "grid_template_rows": null,
       "height": null,
       "justify_content": null,
       "justify_items": null,
       "left": null,
       "margin": null,
       "max_height": null,
       "max_width": null,
       "min_height": null,
       "min_width": null,
       "object_fit": null,
       "object_position": null,
       "order": null,
       "overflow": null,
       "overflow_x": null,
       "overflow_y": null,
       "padding": null,
       "right": null,
       "top": null,
       "visibility": null,
       "width": null
      }
     }
    },
    "version_major": 2,
    "version_minor": 0
   }
  }
 },
 "nbformat": 4,
 "nbformat_minor": 5
}

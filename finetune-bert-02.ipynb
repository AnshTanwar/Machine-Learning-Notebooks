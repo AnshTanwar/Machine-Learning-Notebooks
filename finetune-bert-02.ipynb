{
 "cells": [
  {
   "cell_type": "code",
   "execution_count": 1,
   "id": "0a17ab14",
   "metadata": {
    "_cell_guid": "b1076dfc-b9ad-4769-8c92-a6c4dae69d19",
    "_uuid": "8f2839f25d086af736a60e9eeb907d3b93b6e0e5",
    "execution": {
     "iopub.execute_input": "2024-06-05T18:34:20.795449Z",
     "iopub.status.busy": "2024-06-05T18:34:20.794659Z",
     "iopub.status.idle": "2024-06-05T18:34:21.574622Z",
     "shell.execute_reply": "2024-06-05T18:34:21.573620Z"
    },
    "papermill": {
     "duration": 0.804317,
     "end_time": "2024-06-05T18:34:21.577679",
     "exception": false,
     "start_time": "2024-06-05T18:34:20.773362",
     "status": "completed"
    },
    "tags": []
   },
   "outputs": [
    {
     "name": "stdout",
     "output_type": "stream",
     "text": [
      "/kaggle/input/crypto-regulations-yirifi/mappingtoBERT_6.csv\n",
      "/kaggle/input/crypto-regulations-yirifi/mappingtoBERT_5.csv\n",
      "/kaggle/input/crypto-regulations-yirifi/output_improved.csv\n",
      "/kaggle/input/crypto-regulations-yirifi/master_data_gpt4o_improved_latest.csv\n",
      "/kaggle/input/crypto-regulations-yirifi/CSV_data_gpt_4o/CSV_data_gpt_4o/18.csv\n",
      "/kaggle/input/crypto-regulations-yirifi/CSV_data_gpt_4o/CSV_data_gpt_4o/20.csv\n",
      "/kaggle/input/crypto-regulations-yirifi/CSV_data_gpt_4o/CSV_data_gpt_4o/1.csv\n",
      "/kaggle/input/crypto-regulations-yirifi/CSV_data_gpt_4o/CSV_data_gpt_4o/24.csv\n",
      "/kaggle/input/crypto-regulations-yirifi/CSV_data_gpt_4o/CSV_data_gpt_4o/11.csv\n",
      "/kaggle/input/crypto-regulations-yirifi/CSV_data_gpt_4o/CSV_data_gpt_4o/30.csv\n",
      "/kaggle/input/crypto-regulations-yirifi/CSV_data_gpt_4o/CSV_data_gpt_4o/17.csv\n",
      "/kaggle/input/crypto-regulations-yirifi/CSV_data_gpt_4o/CSV_data_gpt_4o/16.csv\n",
      "/kaggle/input/crypto-regulations-yirifi/CSV_data_gpt_4o/CSV_data_gpt_4o/3.csv\n",
      "/kaggle/input/crypto-regulations-yirifi/CSV_data_gpt_4o/CSV_data_gpt_4o/31.csv\n",
      "/kaggle/input/crypto-regulations-yirifi/CSV_data_gpt_4o/CSV_data_gpt_4o/19.csv\n",
      "/kaggle/input/crypto-regulations-yirifi/CSV_data_gpt_4o/CSV_data_gpt_4o/5.csv\n",
      "/kaggle/input/crypto-regulations-yirifi/CSV_data_gpt_4o/CSV_data_gpt_4o/2.csv\n",
      "/kaggle/input/crypto-regulations-yirifi/CSV_data_gpt_4o/CSV_data_gpt_4o/26.csv\n",
      "/kaggle/input/crypto-regulations-yirifi/CSV_data_gpt_4o/CSV_data_gpt_4o/28.csv\n",
      "/kaggle/input/crypto-regulations-yirifi/CSV_data_gpt_4o/CSV_data_gpt_4o/13.csv\n",
      "/kaggle/input/crypto-regulations-yirifi/CSV_data_gpt_4o/CSV_data_gpt_4o/23.csv\n",
      "/kaggle/input/crypto-regulations-yirifi/CSV_data_gpt_4o/CSV_data_gpt_4o/14.csv\n",
      "/kaggle/input/crypto-regulations-yirifi/CSV_data_gpt_4o/CSV_data_gpt_4o/4.csv\n",
      "/kaggle/input/crypto-regulations-yirifi/CSV_data_gpt_4o/CSV_data_gpt_4o/22.csv\n",
      "/kaggle/input/crypto-regulations-yirifi/CSV_data_gpt_4o/CSV_data_gpt_4o/8.csv\n",
      "/kaggle/input/crypto-regulations-yirifi/CSV_data_gpt_4o/CSV_data_gpt_4o/12.csv\n",
      "/kaggle/input/crypto-regulations-yirifi/CSV_data_gpt_4o/CSV_data_gpt_4o/9.csv\n",
      "/kaggle/input/crypto-regulations-yirifi/CSV_data_gpt_4o/CSV_data_gpt_4o/7.csv\n",
      "/kaggle/input/crypto-regulations-yirifi/CSV_data_gpt_4o/CSV_data_gpt_4o/15.csv\n",
      "/kaggle/input/crypto-regulations-yirifi/CSV_data_gpt_4o/CSV_data_gpt_4o/6.csv\n",
      "/kaggle/input/crypto-regulations-yirifi/CSV_data_gpt_4o/CSV_data_gpt_4o/10.csv\n",
      "/kaggle/input/crypto-regulations-yirifi/CSV_data_gpt_4o/CSV_data_gpt_4o/25.csv\n",
      "/kaggle/input/crypto-regulations-yirifi/CSV_data_gpt_4o/CSV_data_gpt_4o/29.csv\n",
      "/kaggle/input/crypto-regulations-yirifi/CSV_data_gpt_4o/CSV_data_gpt_4o/21.csv\n",
      "/kaggle/input/crypto-regulations-yirifi/CSV_data_gpt_4o/CSV_data_gpt_4o/32.csv\n",
      "/kaggle/input/crypto-regulations-yirifi/CSV_data_gpt_4o/CSV_data_gpt_4o/27.csv\n",
      "/kaggle/input/crypto-regulations-yirifi/csv_data/csv_data/18.csv\n",
      "/kaggle/input/crypto-regulations-yirifi/csv_data/csv_data/20.csv\n",
      "/kaggle/input/crypto-regulations-yirifi/csv_data/csv_data/1.csv\n",
      "/kaggle/input/crypto-regulations-yirifi/csv_data/csv_data/24.csv\n",
      "/kaggle/input/crypto-regulations-yirifi/csv_data/csv_data/11.csv\n",
      "/kaggle/input/crypto-regulations-yirifi/csv_data/csv_data/30.csv\n",
      "/kaggle/input/crypto-regulations-yirifi/csv_data/csv_data/17.csv\n",
      "/kaggle/input/crypto-regulations-yirifi/csv_data/csv_data/16.csv\n",
      "/kaggle/input/crypto-regulations-yirifi/csv_data/csv_data/3.csv\n",
      "/kaggle/input/crypto-regulations-yirifi/csv_data/csv_data/31.csv\n",
      "/kaggle/input/crypto-regulations-yirifi/csv_data/csv_data/19.csv\n",
      "/kaggle/input/crypto-regulations-yirifi/csv_data/csv_data/5.csv\n",
      "/kaggle/input/crypto-regulations-yirifi/csv_data/csv_data/2.csv\n",
      "/kaggle/input/crypto-regulations-yirifi/csv_data/csv_data/26.csv\n",
      "/kaggle/input/crypto-regulations-yirifi/csv_data/csv_data/28.csv\n",
      "/kaggle/input/crypto-regulations-yirifi/csv_data/csv_data/13.csv\n",
      "/kaggle/input/crypto-regulations-yirifi/csv_data/csv_data/23.csv\n",
      "/kaggle/input/crypto-regulations-yirifi/csv_data/csv_data/14.csv\n",
      "/kaggle/input/crypto-regulations-yirifi/csv_data/csv_data/4.csv\n",
      "/kaggle/input/crypto-regulations-yirifi/csv_data/csv_data/22.csv\n",
      "/kaggle/input/crypto-regulations-yirifi/csv_data/csv_data/8.csv\n",
      "/kaggle/input/crypto-regulations-yirifi/csv_data/csv_data/12.csv\n",
      "/kaggle/input/crypto-regulations-yirifi/csv_data/csv_data/9.csv\n",
      "/kaggle/input/crypto-regulations-yirifi/csv_data/csv_data/7.csv\n",
      "/kaggle/input/crypto-regulations-yirifi/csv_data/csv_data/15.csv\n",
      "/kaggle/input/crypto-regulations-yirifi/csv_data/csv_data/6.csv\n",
      "/kaggle/input/crypto-regulations-yirifi/csv_data/csv_data/10.csv\n",
      "/kaggle/input/crypto-regulations-yirifi/csv_data/csv_data/25.csv\n",
      "/kaggle/input/crypto-regulations-yirifi/csv_data/csv_data/29.csv\n",
      "/kaggle/input/crypto-regulations-yirifi/csv_data/csv_data/21.csv\n",
      "/kaggle/input/crypto-regulations-yirifi/csv_data/csv_data/32.csv\n",
      "/kaggle/input/crypto-regulations-yirifi/csv_data/csv_data/27.csv\n",
      "/kaggle/input/crypto-regulations-yirifi/CSV_data_improved/CSV_data_improved/18.csv\n",
      "/kaggle/input/crypto-regulations-yirifi/CSV_data_improved/CSV_data_improved/20.csv\n",
      "/kaggle/input/crypto-regulations-yirifi/CSV_data_improved/CSV_data_improved/1.csv\n",
      "/kaggle/input/crypto-regulations-yirifi/CSV_data_improved/CSV_data_improved/24.csv\n",
      "/kaggle/input/crypto-regulations-yirifi/CSV_data_improved/CSV_data_improved/11.csv\n",
      "/kaggle/input/crypto-regulations-yirifi/CSV_data_improved/CSV_data_improved/30.csv\n",
      "/kaggle/input/crypto-regulations-yirifi/CSV_data_improved/CSV_data_improved/17.csv\n",
      "/kaggle/input/crypto-regulations-yirifi/CSV_data_improved/CSV_data_improved/16.csv\n",
      "/kaggle/input/crypto-regulations-yirifi/CSV_data_improved/CSV_data_improved/3.csv\n",
      "/kaggle/input/crypto-regulations-yirifi/CSV_data_improved/CSV_data_improved/31.csv\n",
      "/kaggle/input/crypto-regulations-yirifi/CSV_data_improved/CSV_data_improved/19.csv\n",
      "/kaggle/input/crypto-regulations-yirifi/CSV_data_improved/CSV_data_improved/5.csv\n",
      "/kaggle/input/crypto-regulations-yirifi/CSV_data_improved/CSV_data_improved/2.csv\n",
      "/kaggle/input/crypto-regulations-yirifi/CSV_data_improved/CSV_data_improved/26.csv\n",
      "/kaggle/input/crypto-regulations-yirifi/CSV_data_improved/CSV_data_improved/28.csv\n",
      "/kaggle/input/crypto-regulations-yirifi/CSV_data_improved/CSV_data_improved/13.csv\n",
      "/kaggle/input/crypto-regulations-yirifi/CSV_data_improved/CSV_data_improved/23.csv\n",
      "/kaggle/input/crypto-regulations-yirifi/CSV_data_improved/CSV_data_improved/14.csv\n",
      "/kaggle/input/crypto-regulations-yirifi/CSV_data_improved/CSV_data_improved/4.csv\n",
      "/kaggle/input/crypto-regulations-yirifi/CSV_data_improved/CSV_data_improved/22.csv\n",
      "/kaggle/input/crypto-regulations-yirifi/CSV_data_improved/CSV_data_improved/8.csv\n",
      "/kaggle/input/crypto-regulations-yirifi/CSV_data_improved/CSV_data_improved/12.csv\n",
      "/kaggle/input/crypto-regulations-yirifi/CSV_data_improved/CSV_data_improved/9.csv\n",
      "/kaggle/input/crypto-regulations-yirifi/CSV_data_improved/CSV_data_improved/7.csv\n",
      "/kaggle/input/crypto-regulations-yirifi/CSV_data_improved/CSV_data_improved/15.csv\n",
      "/kaggle/input/crypto-regulations-yirifi/CSV_data_improved/CSV_data_improved/6.csv\n",
      "/kaggle/input/crypto-regulations-yirifi/CSV_data_improved/CSV_data_improved/10.csv\n",
      "/kaggle/input/crypto-regulations-yirifi/CSV_data_improved/CSV_data_improved/25.csv\n",
      "/kaggle/input/crypto-regulations-yirifi/CSV_data_improved/CSV_data_improved/29.csv\n",
      "/kaggle/input/crypto-regulations-yirifi/CSV_data_improved/CSV_data_improved/21.csv\n",
      "/kaggle/input/crypto-regulations-yirifi/CSV_data_improved/CSV_data_improved/32.csv\n",
      "/kaggle/input/crypto-regulations-yirifi/CSV_data_improved/CSV_data_improved/27.csv\n"
     ]
    }
   ],
   "source": [
    "# This Python 3 environment comes with many helpful analytics libraries installed\n",
    "# It is defined by the kaggle/python Docker image: https://github.com/kaggle/docker-python\n",
    "# For example, here's several helpful packages to load\n",
    "\n",
    "import numpy as np # linear algebra\n",
    "import pandas as pd # data processing, CSV file I/O (e.g. pd.read_csv)\n",
    "\n",
    "# Input data files are available in the read-only \"../input/\" directory\n",
    "# For example, running this (by clicking run or pressing Shift+Enter) will list all files under the input directory\n",
    "\n",
    "import os\n",
    "for dirname, _, filenames in os.walk('/kaggle/input'):\n",
    "    for filename in filenames:\n",
    "        print(os.path.join(dirname, filename))\n",
    "\n",
    "# You can write up to 20GB to the current directory (/kaggle/working/) that gets preserved as output when you create a version using \"Save & Run All\" \n",
    "# You can also write temporary files to /kaggle/temp/, but they won't be saved outside of the current session"
   ]
  },
  {
   "cell_type": "markdown",
   "id": "2d5f7d69",
   "metadata": {
    "papermill": {
     "duration": 0.020378,
     "end_time": "2024-06-05T18:34:21.617191",
     "exception": false,
     "start_time": "2024-06-05T18:34:21.596813",
     "status": "completed"
    },
    "tags": []
   },
   "source": [
    "# Data import and cleaning up the data"
   ]
  },
  {
   "cell_type": "code",
   "execution_count": 2,
   "id": "4808f693",
   "metadata": {
    "execution": {
     "iopub.execute_input": "2024-06-05T18:34:21.658416Z",
     "iopub.status.busy": "2024-06-05T18:34:21.657946Z",
     "iopub.status.idle": "2024-06-05T18:34:21.758641Z",
     "shell.execute_reply": "2024-06-05T18:34:21.757619Z"
    },
    "papermill": {
     "duration": 0.124024,
     "end_time": "2024-06-05T18:34:21.760982",
     "exception": false,
     "start_time": "2024-06-05T18:34:21.636958",
     "status": "completed"
    },
    "tags": []
   },
   "outputs": [],
   "source": [
    "df = pd.read_csv(\"/kaggle/input/crypto-regulations-yirifi/mappingtoBERT_6.csv\")"
   ]
  },
  {
   "cell_type": "code",
   "execution_count": 3,
   "id": "ec7df6d1",
   "metadata": {
    "execution": {
     "iopub.execute_input": "2024-06-05T18:34:21.801000Z",
     "iopub.status.busy": "2024-06-05T18:34:21.800219Z",
     "iopub.status.idle": "2024-06-05T18:34:21.807054Z",
     "shell.execute_reply": "2024-06-05T18:34:21.806191Z"
    },
    "papermill": {
     "duration": 0.028785,
     "end_time": "2024-06-05T18:34:21.809157",
     "exception": false,
     "start_time": "2024-06-05T18:34:21.780372",
     "status": "completed"
    },
    "tags": []
   },
   "outputs": [
    {
     "data": {
      "text/plain": [
       "(5965, 4)"
      ]
     },
     "execution_count": 3,
     "metadata": {},
     "output_type": "execute_result"
    }
   ],
   "source": [
    "df.shape"
   ]
  },
  {
   "cell_type": "code",
   "execution_count": 4,
   "id": "56691837",
   "metadata": {
    "execution": {
     "iopub.execute_input": "2024-06-05T18:34:21.849391Z",
     "iopub.status.busy": "2024-06-05T18:34:21.849074Z",
     "iopub.status.idle": "2024-06-05T18:34:21.867970Z",
     "shell.execute_reply": "2024-06-05T18:34:21.867076Z"
    },
    "papermill": {
     "duration": 0.041048,
     "end_time": "2024-06-05T18:34:21.870015",
     "exception": false,
     "start_time": "2024-06-05T18:34:21.828967",
     "status": "completed"
    },
    "tags": []
   },
   "outputs": [
    {
     "data": {
      "text/html": [
       "<div>\n",
       "<style scoped>\n",
       "    .dataframe tbody tr th:only-of-type {\n",
       "        vertical-align: middle;\n",
       "    }\n",
       "\n",
       "    .dataframe tbody tr th {\n",
       "        vertical-align: top;\n",
       "    }\n",
       "\n",
       "    .dataframe thead th {\n",
       "        text-align: right;\n",
       "    }\n",
       "</style>\n",
       "<table border=\"1\" class=\"dataframe\">\n",
       "  <thead>\n",
       "    <tr style=\"text-align: right;\">\n",
       "      <th></th>\n",
       "      <th>Unnamed: 0</th>\n",
       "      <th>Content</th>\n",
       "      <th>Concepts</th>\n",
       "      <th>bert_concepts</th>\n",
       "    </tr>\n",
       "  </thead>\n",
       "  <tbody>\n",
       "    <tr>\n",
       "      <th>5955</th>\n",
       "      <td>5955</td>\n",
       "      <td>Content|ÄúRegulationsÄù|means the Virtual As...</td>\n",
       "      <td>amended, related activities, 2023, supplemente...</td>\n",
       "      <td>regulations, virtual assets</td>\n",
       "    </tr>\n",
       "    <tr>\n",
       "      <th>5956</th>\n",
       "      <td>5956</td>\n",
       "      <td>Content|ÄúReserve AssetsÄù|has the meaning a...</td>\n",
       "      <td>frva rules, reserve assets, rule i.a.5</td>\n",
       "      <td>rules</td>\n",
       "    </tr>\n",
       "    <tr>\n",
       "      <th>5957</th>\n",
       "      <td>5957</td>\n",
       "      <td>Content|ÄúSenior ManagementÄù|has the meanin...</td>\n",
       "      <td>company rulebook, senior management</td>\n",
       "      <td>rulebook</td>\n",
       "    </tr>\n",
       "    <tr>\n",
       "      <th>5958</th>\n",
       "      <td>5958</td>\n",
       "      <td>Content|ÄúSignificant FRVA IssuerÄù|means a ...</td>\n",
       "      <td>rule i.c.1, vara, frva rules, vasp, significan...</td>\n",
       "      <td>rules, vasp</td>\n",
       "    </tr>\n",
       "    <tr>\n",
       "      <th>5959</th>\n",
       "      <td>5959</td>\n",
       "      <td>Content|ÄúTechnology and Information\\nRuleboo...</td>\n",
       "      <td>amended, information, vara, technology, regula...</td>\n",
       "      <td>regulations, rulebook</td>\n",
       "    </tr>\n",
       "    <tr>\n",
       "      <th>5960</th>\n",
       "      <td>5960</td>\n",
       "      <td>Content|ÄúVA Issuance RulebookÄù|means the V...</td>\n",
       "      <td>amended, supplemented, vara, virtual asset iss...</td>\n",
       "      <td>regulations, virtual assets, rulebook</td>\n",
       "    </tr>\n",
       "    <tr>\n",
       "      <th>5961</th>\n",
       "      <td>5961</td>\n",
       "      <td>Content|ÄúVARAÄù|means the Dubai Virtual Ass...</td>\n",
       "      <td>vara, dubai, regulatory authority, virtual assets</td>\n",
       "      <td>authority, virtual assets, regulator</td>\n",
       "    </tr>\n",
       "    <tr>\n",
       "      <th>5962</th>\n",
       "      <td>5962</td>\n",
       "      <td>Content|ÄúVirtual AssetÄù or ÄúVAÄù|has th...</td>\n",
       "      <td>dubai va law, va, regulatory, compliance, virt...</td>\n",
       "      <td>compliance, virtual assets, regulator</td>\n",
       "    </tr>\n",
       "    <tr>\n",
       "      <th>5963</th>\n",
       "      <td>5963</td>\n",
       "      <td>Content|ÄúWhitepaperÄù|has the meaning ascri...</td>\n",
       "      <td>bank, whitepaper, regulatory compliance, compl...</td>\n",
       "      <td>compliance, virtual assets, rulebook, regulator</td>\n",
       "    </tr>\n",
       "    <tr>\n",
       "      <th>5964</th>\n",
       "      <td>5964</td>\n",
       "      <td>Content|ÄúWorking DayÄù|means any day which ...</td>\n",
       "      <td>public holiday, weekend, bank, hong kong, regu...</td>\n",
       "      <td>compliance, virtual assets, regulator</td>\n",
       "    </tr>\n",
       "  </tbody>\n",
       "</table>\n",
       "</div>"
      ],
      "text/plain": [
       "      Unnamed: 0                                            Content  \\\n",
       "5955        5955  Content|ÄúRegulationsÄù|means the Virtual As...   \n",
       "5956        5956  Content|ÄúReserve AssetsÄù|has the meaning a...   \n",
       "5957        5957  Content|ÄúSenior ManagementÄù|has the meanin...   \n",
       "5958        5958  Content|ÄúSignificant FRVA IssuerÄù|means a ...   \n",
       "5959        5959  Content|ÄúTechnology and Information\\nRuleboo...   \n",
       "5960        5960  Content|ÄúVA Issuance RulebookÄù|means the V...   \n",
       "5961        5961  Content|ÄúVARAÄù|means the Dubai Virtual Ass...   \n",
       "5962        5962  Content|ÄúVirtual AssetÄù or ÄúVAÄù|has th...   \n",
       "5963        5963  Content|ÄúWhitepaperÄù|has the meaning ascri...   \n",
       "5964        5964  Content|ÄúWorking DayÄù|means any day which ...   \n",
       "\n",
       "                                               Concepts  \\\n",
       "5955  amended, related activities, 2023, supplemente...   \n",
       "5956             frva rules, reserve assets, rule i.a.5   \n",
       "5957                company rulebook, senior management   \n",
       "5958  rule i.c.1, vara, frva rules, vasp, significan...   \n",
       "5959  amended, information, vara, technology, regula...   \n",
       "5960  amended, supplemented, vara, virtual asset iss...   \n",
       "5961  vara, dubai, regulatory authority, virtual assets   \n",
       "5962  dubai va law, va, regulatory, compliance, virt...   \n",
       "5963  bank, whitepaper, regulatory compliance, compl...   \n",
       "5964  public holiday, weekend, bank, hong kong, regu...   \n",
       "\n",
       "                                        bert_concepts  \n",
       "5955                      regulations, virtual assets  \n",
       "5956                                            rules  \n",
       "5957                                         rulebook  \n",
       "5958                                      rules, vasp  \n",
       "5959                            regulations, rulebook  \n",
       "5960            regulations, virtual assets, rulebook  \n",
       "5961             authority, virtual assets, regulator  \n",
       "5962            compliance, virtual assets, regulator  \n",
       "5963  compliance, virtual assets, rulebook, regulator  \n",
       "5964            compliance, virtual assets, regulator  "
      ]
     },
     "execution_count": 4,
     "metadata": {},
     "output_type": "execute_result"
    }
   ],
   "source": [
    "df.tail(10)"
   ]
  },
  {
   "cell_type": "code",
   "execution_count": 5,
   "id": "8158f526",
   "metadata": {
    "execution": {
     "iopub.execute_input": "2024-06-05T18:34:21.910200Z",
     "iopub.status.busy": "2024-06-05T18:34:21.909887Z",
     "iopub.status.idle": "2024-06-05T18:34:21.999911Z",
     "shell.execute_reply": "2024-06-05T18:34:21.998873Z"
    },
    "papermill": {
     "duration": 0.112487,
     "end_time": "2024-06-05T18:34:22.001907",
     "exception": false,
     "start_time": "2024-06-05T18:34:21.889420",
     "status": "completed"
    },
    "tags": []
   },
   "outputs": [
    {
     "name": "stdout",
     "output_type": "stream",
     "text": [
      "Number of rows with URLs: 22\n",
      "Number of rows with user references: 12\n",
      "Number of rows with hashtags: 0\n",
      "Number of rows with non-alphanumeric characters: 5913\n"
     ]
    }
   ],
   "source": [
    "import re\n",
    "# Function to check for URLs\n",
    "def contains_url(text):\n",
    "    text = str(text)\n",
    "    return bool(re.search(r'http\\S+|www\\S+|https\\S+', text))\n",
    "\n",
    "# Function to check for user references (@user)\n",
    "def contains_user_reference(text):\n",
    "    text = str(text)\n",
    "    return bool(re.search(r'\\@\\w+', text))\n",
    "\n",
    "# Function to check for hashtags\n",
    "def contains_hashtag(text):\n",
    "    text = str(text)\n",
    "    return bool(re.search(r'\\#\\w+', text))\n",
    "\n",
    "# Function to check for non-alphanumeric characters\n",
    "def contains_non_alphanumeric(text):\n",
    "    text = str(text)\n",
    "    return bool(re.search(r'[^a-zA-Z0-9\\s]', text))\n",
    "\n",
    "# Apply the functions to the DataFrame\n",
    "df['contains_url'] = df['Content'].apply(contains_url)\n",
    "df['contains_user_reference'] = df['Content'].apply(contains_user_reference)\n",
    "df['contains_hashtag'] = df['Content'].apply(contains_hashtag)\n",
    "df['contains_non_alphanumeric'] = df['Content'].apply(contains_non_alphanumeric)\n",
    "\n",
    "# Check rows that match each condition\n",
    "url_count = df['contains_url'].sum()\n",
    "user_reference_count = df['contains_user_reference'].sum()\n",
    "hashtag_count = df['contains_hashtag'].sum()\n",
    "non_alphanumeric_count = df['contains_non_alphanumeric'].sum()\n",
    "\n",
    "# Print results\n",
    "print(f\"Number of rows with URLs: {url_count}\")\n",
    "print(f\"Number of rows with user references: {user_reference_count}\")\n",
    "print(f\"Number of rows with hashtags: {hashtag_count}\")\n",
    "print(f\"Number of rows with non-alphanumeric characters: {non_alphanumeric_count}\")\n",
    "\n"
   ]
  },
  {
   "cell_type": "code",
   "execution_count": 6,
   "id": "df666311",
   "metadata": {
    "execution": {
     "iopub.execute_input": "2024-06-05T18:34:22.043628Z",
     "iopub.status.busy": "2024-06-05T18:34:22.043278Z",
     "iopub.status.idle": "2024-06-05T18:34:22.056395Z",
     "shell.execute_reply": "2024-06-05T18:34:22.055510Z"
    },
    "papermill": {
     "duration": 0.036658,
     "end_time": "2024-06-05T18:34:22.058385",
     "exception": false,
     "start_time": "2024-06-05T18:34:22.021727",
     "status": "completed"
    },
    "tags": []
   },
   "outputs": [
    {
     "data": {
      "text/html": [
       "<div>\n",
       "<style scoped>\n",
       "    .dataframe tbody tr th:only-of-type {\n",
       "        vertical-align: middle;\n",
       "    }\n",
       "\n",
       "    .dataframe tbody tr th {\n",
       "        vertical-align: top;\n",
       "    }\n",
       "\n",
       "    .dataframe thead th {\n",
       "        text-align: right;\n",
       "    }\n",
       "</style>\n",
       "<table border=\"1\" class=\"dataframe\">\n",
       "  <thead>\n",
       "    <tr style=\"text-align: right;\">\n",
       "      <th></th>\n",
       "      <th>Unnamed: 0</th>\n",
       "      <th>Content</th>\n",
       "      <th>Concepts</th>\n",
       "      <th>bert_concepts</th>\n",
       "      <th>contains_url</th>\n",
       "      <th>contains_user_reference</th>\n",
       "      <th>contains_hashtag</th>\n",
       "      <th>contains_non_alphanumeric</th>\n",
       "    </tr>\n",
       "  </thead>\n",
       "  <tbody>\n",
       "    <tr>\n",
       "      <th>5960</th>\n",
       "      <td>5960</td>\n",
       "      <td>Content|ÄúVA Issuance RulebookÄù|means the V...</td>\n",
       "      <td>amended, supplemented, vara, virtual asset iss...</td>\n",
       "      <td>regulations, virtual assets, rulebook</td>\n",
       "      <td>False</td>\n",
       "      <td>False</td>\n",
       "      <td>False</td>\n",
       "      <td>True</td>\n",
       "    </tr>\n",
       "    <tr>\n",
       "      <th>5961</th>\n",
       "      <td>5961</td>\n",
       "      <td>Content|ÄúVARAÄù|means the Dubai Virtual Ass...</td>\n",
       "      <td>vara, dubai, regulatory authority, virtual assets</td>\n",
       "      <td>authority, virtual assets, regulator</td>\n",
       "      <td>False</td>\n",
       "      <td>False</td>\n",
       "      <td>False</td>\n",
       "      <td>True</td>\n",
       "    </tr>\n",
       "    <tr>\n",
       "      <th>5962</th>\n",
       "      <td>5962</td>\n",
       "      <td>Content|ÄúVirtual AssetÄù or ÄúVAÄù|has th...</td>\n",
       "      <td>dubai va law, va, regulatory, compliance, virt...</td>\n",
       "      <td>compliance, virtual assets, regulator</td>\n",
       "      <td>False</td>\n",
       "      <td>False</td>\n",
       "      <td>False</td>\n",
       "      <td>True</td>\n",
       "    </tr>\n",
       "    <tr>\n",
       "      <th>5963</th>\n",
       "      <td>5963</td>\n",
       "      <td>Content|ÄúWhitepaperÄù|has the meaning ascri...</td>\n",
       "      <td>bank, whitepaper, regulatory compliance, compl...</td>\n",
       "      <td>compliance, virtual assets, rulebook, regulator</td>\n",
       "      <td>False</td>\n",
       "      <td>False</td>\n",
       "      <td>False</td>\n",
       "      <td>True</td>\n",
       "    </tr>\n",
       "    <tr>\n",
       "      <th>5964</th>\n",
       "      <td>5964</td>\n",
       "      <td>Content|ÄúWorking DayÄù|means any day which ...</td>\n",
       "      <td>public holiday, weekend, bank, hong kong, regu...</td>\n",
       "      <td>compliance, virtual assets, regulator</td>\n",
       "      <td>False</td>\n",
       "      <td>False</td>\n",
       "      <td>False</td>\n",
       "      <td>True</td>\n",
       "    </tr>\n",
       "  </tbody>\n",
       "</table>\n",
       "</div>"
      ],
      "text/plain": [
       "      Unnamed: 0                                            Content  \\\n",
       "5960        5960  Content|ÄúVA Issuance RulebookÄù|means the V...   \n",
       "5961        5961  Content|ÄúVARAÄù|means the Dubai Virtual Ass...   \n",
       "5962        5962  Content|ÄúVirtual AssetÄù or ÄúVAÄù|has th...   \n",
       "5963        5963  Content|ÄúWhitepaperÄù|has the meaning ascri...   \n",
       "5964        5964  Content|ÄúWorking DayÄù|means any day which ...   \n",
       "\n",
       "                                               Concepts  \\\n",
       "5960  amended, supplemented, vara, virtual asset iss...   \n",
       "5961  vara, dubai, regulatory authority, virtual assets   \n",
       "5962  dubai va law, va, regulatory, compliance, virt...   \n",
       "5963  bank, whitepaper, regulatory compliance, compl...   \n",
       "5964  public holiday, weekend, bank, hong kong, regu...   \n",
       "\n",
       "                                        bert_concepts  contains_url  \\\n",
       "5960            regulations, virtual assets, rulebook         False   \n",
       "5961             authority, virtual assets, regulator         False   \n",
       "5962            compliance, virtual assets, regulator         False   \n",
       "5963  compliance, virtual assets, rulebook, regulator         False   \n",
       "5964            compliance, virtual assets, regulator         False   \n",
       "\n",
       "      contains_user_reference  contains_hashtag  contains_non_alphanumeric  \n",
       "5960                    False             False                       True  \n",
       "5961                    False             False                       True  \n",
       "5962                    False             False                       True  \n",
       "5963                    False             False                       True  \n",
       "5964                    False             False                       True  "
      ]
     },
     "execution_count": 6,
     "metadata": {},
     "output_type": "execute_result"
    }
   ],
   "source": [
    "df.tail(5)"
   ]
  },
  {
   "cell_type": "code",
   "execution_count": 7,
   "id": "693c5919",
   "metadata": {
    "execution": {
     "iopub.execute_input": "2024-06-05T18:34:22.100771Z",
     "iopub.status.busy": "2024-06-05T18:34:22.100406Z",
     "iopub.status.idle": "2024-06-05T18:34:22.109186Z",
     "shell.execute_reply": "2024-06-05T18:34:22.108217Z"
    },
    "papermill": {
     "duration": 0.031734,
     "end_time": "2024-06-05T18:34:22.111253",
     "exception": false,
     "start_time": "2024-06-05T18:34:22.079519",
     "status": "completed"
    },
    "tags": []
   },
   "outputs": [],
   "source": [
    "df = df[[\"Content\",\"bert_concepts\"]]"
   ]
  },
  {
   "cell_type": "code",
   "execution_count": 8,
   "id": "787d1f1f",
   "metadata": {
    "execution": {
     "iopub.execute_input": "2024-06-05T18:34:22.152663Z",
     "iopub.status.busy": "2024-06-05T18:34:22.152319Z",
     "iopub.status.idle": "2024-06-05T18:34:22.504484Z",
     "shell.execute_reply": "2024-06-05T18:34:22.503738Z"
    },
    "papermill": {
     "duration": 0.375535,
     "end_time": "2024-06-05T18:34:22.506748",
     "exception": false,
     "start_time": "2024-06-05T18:34:22.131213",
     "status": "completed"
    },
    "tags": []
   },
   "outputs": [],
   "source": [
    "import re\n",
    "import string\n",
    "\n",
    "def preprocess_text(text):\n",
    "    text = str(text)    \n",
    "    text = re.sub(r'<[^>]+>', '', text) # Remove HTML tags\n",
    "    text = text.lower()\n",
    "    text = re.sub(r'http\\S+|www\\S+|https\\S+', '', text, flags=re.MULTILINE)# Remove URLs\n",
    "    text = re.sub(r'\\@\\w+|\\#','', text) # Remove user @ references and hashtags\n",
    "    text = text.translate(str.maketrans('', '', string.punctuation)) # Remove punctuation    \n",
    "    text = re.sub(r'[^a-zA-Z0-9\\s]', ' ', text) # Remove non-alphanumeric character    \n",
    "    text = re.sub(r'\\s+', ' ', text).strip() # Remove extra whitespace(only single white space is left)\n",
    "    \n",
    "    return text\n",
    "\n",
    "df['Content'] = df['Content'].apply(preprocess_text) # Applying the preprocess_text function\n"
   ]
  },
  {
   "cell_type": "code",
   "execution_count": 9,
   "id": "6150f265",
   "metadata": {
    "execution": {
     "iopub.execute_input": "2024-06-05T18:34:22.547720Z",
     "iopub.status.busy": "2024-06-05T18:34:22.546920Z",
     "iopub.status.idle": "2024-06-05T18:34:22.556310Z",
     "shell.execute_reply": "2024-06-05T18:34:22.555381Z"
    },
    "papermill": {
     "duration": 0.031584,
     "end_time": "2024-06-05T18:34:22.558227",
     "exception": false,
     "start_time": "2024-06-05T18:34:22.526643",
     "status": "completed"
    },
    "tags": []
   },
   "outputs": [
    {
     "data": {
      "text/html": [
       "<div>\n",
       "<style scoped>\n",
       "    .dataframe tbody tr th:only-of-type {\n",
       "        vertical-align: middle;\n",
       "    }\n",
       "\n",
       "    .dataframe tbody tr th {\n",
       "        vertical-align: top;\n",
       "    }\n",
       "\n",
       "    .dataframe thead th {\n",
       "        text-align: right;\n",
       "    }\n",
       "</style>\n",
       "<table border=\"1\" class=\"dataframe\">\n",
       "  <thead>\n",
       "    <tr style=\"text-align: right;\">\n",
       "      <th></th>\n",
       "      <th>Content</th>\n",
       "      <th>bert_concepts</th>\n",
       "    </tr>\n",
       "  </thead>\n",
       "  <tbody>\n",
       "    <tr>\n",
       "      <th>5960</th>\n",
       "      <td>content va issuance rulebook means the virtual...</td>\n",
       "      <td>regulations, virtual assets, rulebook</td>\n",
       "    </tr>\n",
       "    <tr>\n",
       "      <th>5961</th>\n",
       "      <td>content vara means the dubai virtual assets re...</td>\n",
       "      <td>authority, virtual assets, regulator</td>\n",
       "    </tr>\n",
       "    <tr>\n",
       "      <th>5962</th>\n",
       "      <td>content virtual asset or va has the meaning as...</td>\n",
       "      <td>compliance, virtual assets, regulator</td>\n",
       "    </tr>\n",
       "    <tr>\n",
       "      <th>5963</th>\n",
       "      <td>content whitepaper has the meaning ascribed to...</td>\n",
       "      <td>compliance, virtual assets, rulebook, regulator</td>\n",
       "    </tr>\n",
       "    <tr>\n",
       "      <th>5964</th>\n",
       "      <td>content working day means any day which is not...</td>\n",
       "      <td>compliance, virtual assets, regulator</td>\n",
       "    </tr>\n",
       "  </tbody>\n",
       "</table>\n",
       "</div>"
      ],
      "text/plain": [
       "                                                Content  \\\n",
       "5960  content va issuance rulebook means the virtual...   \n",
       "5961  content vara means the dubai virtual assets re...   \n",
       "5962  content virtual asset or va has the meaning as...   \n",
       "5963  content whitepaper has the meaning ascribed to...   \n",
       "5964  content working day means any day which is not...   \n",
       "\n",
       "                                        bert_concepts  \n",
       "5960            regulations, virtual assets, rulebook  \n",
       "5961             authority, virtual assets, regulator  \n",
       "5962            compliance, virtual assets, regulator  \n",
       "5963  compliance, virtual assets, rulebook, regulator  \n",
       "5964            compliance, virtual assets, regulator  "
      ]
     },
     "execution_count": 9,
     "metadata": {},
     "output_type": "execute_result"
    }
   ],
   "source": [
    "df.tail(5)"
   ]
  },
  {
   "cell_type": "markdown",
   "id": "13294568",
   "metadata": {
    "papermill": {
     "duration": 0.019712,
     "end_time": "2024-06-05T18:34:22.597690",
     "exception": false,
     "start_time": "2024-06-05T18:34:22.577978",
     "status": "completed"
    },
    "tags": []
   },
   "source": [
    "# taking out 10 random samples for analysis"
   ]
  },
  {
   "cell_type": "code",
   "execution_count": 10,
   "id": "a2c71d69",
   "metadata": {
    "execution": {
     "iopub.execute_input": "2024-06-05T18:34:22.639335Z",
     "iopub.status.busy": "2024-06-05T18:34:22.638462Z",
     "iopub.status.idle": "2024-06-05T18:34:22.647112Z",
     "shell.execute_reply": "2024-06-05T18:34:22.646376Z"
    },
    "papermill": {
     "duration": 0.031941,
     "end_time": "2024-06-05T18:34:22.649292",
     "exception": false,
     "start_time": "2024-06-05T18:34:22.617351",
     "status": "completed"
    },
    "tags": []
   },
   "outputs": [],
   "source": [
    "testing_df = df.sample(n=10, random_state=42)\n",
    "df = df.drop(testing_df.index)"
   ]
  },
  {
   "cell_type": "code",
   "execution_count": 11,
   "id": "7a8d0e5f",
   "metadata": {
    "execution": {
     "iopub.execute_input": "2024-06-05T18:34:22.692052Z",
     "iopub.status.busy": "2024-06-05T18:34:22.691369Z",
     "iopub.status.idle": "2024-06-05T18:34:22.697331Z",
     "shell.execute_reply": "2024-06-05T18:34:22.696450Z"
    },
    "papermill": {
     "duration": 0.029375,
     "end_time": "2024-06-05T18:34:22.699223",
     "exception": false,
     "start_time": "2024-06-05T18:34:22.669848",
     "status": "completed"
    },
    "tags": []
   },
   "outputs": [
    {
     "data": {
      "text/plain": [
       "(5955, 2)"
      ]
     },
     "execution_count": 11,
     "metadata": {},
     "output_type": "execute_result"
    }
   ],
   "source": [
    "df.shape"
   ]
  },
  {
   "cell_type": "code",
   "execution_count": 12,
   "id": "669798e3",
   "metadata": {
    "execution": {
     "iopub.execute_input": "2024-06-05T18:34:22.740144Z",
     "iopub.status.busy": "2024-06-05T18:34:22.739595Z",
     "iopub.status.idle": "2024-06-05T18:34:22.745731Z",
     "shell.execute_reply": "2024-06-05T18:34:22.744597Z"
    },
    "papermill": {
     "duration": 0.028745,
     "end_time": "2024-06-05T18:34:22.747711",
     "exception": false,
     "start_time": "2024-06-05T18:34:22.718966",
     "status": "completed"
    },
    "tags": []
   },
   "outputs": [
    {
     "name": "stdout",
     "output_type": "stream",
     "text": [
      "Number of rows with NaN in bert_concepts: 579\n"
     ]
    }
   ],
   "source": [
    "missing_values_count = df['bert_concepts'].isnull().sum()\n",
    "print(\"Number of rows with NaN in bert_concepts:\", missing_values_count)"
   ]
  },
  {
   "cell_type": "markdown",
   "id": "b74cd24c",
   "metadata": {
    "papermill": {
     "duration": 0.019663,
     "end_time": "2024-06-05T18:34:22.787021",
     "exception": false,
     "start_time": "2024-06-05T18:34:22.767358",
     "status": "completed"
    },
    "tags": []
   },
   "source": [
    "## Remove rows with no bert_concepts"
   ]
  },
  {
   "cell_type": "code",
   "execution_count": 13,
   "id": "07f786a3",
   "metadata": {
    "execution": {
     "iopub.execute_input": "2024-06-05T18:34:22.842416Z",
     "iopub.status.busy": "2024-06-05T18:34:22.841682Z",
     "iopub.status.idle": "2024-06-05T18:34:22.853651Z",
     "shell.execute_reply": "2024-06-05T18:34:22.852262Z"
    },
    "papermill": {
     "duration": 0.04414,
     "end_time": "2024-06-05T18:34:22.856489",
     "exception": false,
     "start_time": "2024-06-05T18:34:22.812349",
     "status": "completed"
    },
    "tags": []
   },
   "outputs": [],
   "source": [
    "df = df.dropna(subset=['bert_concepts'])"
   ]
  },
  {
   "cell_type": "code",
   "execution_count": 14,
   "id": "b7b750c3",
   "metadata": {
    "execution": {
     "iopub.execute_input": "2024-06-05T18:34:22.904120Z",
     "iopub.status.busy": "2024-06-05T18:34:22.903242Z",
     "iopub.status.idle": "2024-06-05T18:34:22.909901Z",
     "shell.execute_reply": "2024-06-05T18:34:22.908892Z"
    },
    "papermill": {
     "duration": 0.030103,
     "end_time": "2024-06-05T18:34:22.911882",
     "exception": false,
     "start_time": "2024-06-05T18:34:22.881779",
     "status": "completed"
    },
    "tags": []
   },
   "outputs": [
    {
     "data": {
      "text/plain": [
       "(5376, 2)"
      ]
     },
     "execution_count": 14,
     "metadata": {},
     "output_type": "execute_result"
    }
   ],
   "source": [
    "df.shape"
   ]
  },
  {
   "cell_type": "markdown",
   "id": "db6ea835",
   "metadata": {
    "papermill": {
     "duration": 0.021821,
     "end_time": "2024-06-05T18:34:22.954406",
     "exception": false,
     "start_time": "2024-06-05T18:34:22.932585",
     "status": "completed"
    },
    "tags": []
   },
   "source": [
    "# Converting to Bert Data Format"
   ]
  },
  {
   "cell_type": "code",
   "execution_count": 15,
   "id": "f66dd0d5",
   "metadata": {
    "execution": {
     "iopub.execute_input": "2024-06-05T18:34:23.046363Z",
     "iopub.status.busy": "2024-06-05T18:34:23.045933Z",
     "iopub.status.idle": "2024-06-05T18:34:25.232216Z",
     "shell.execute_reply": "2024-06-05T18:34:25.231089Z"
    },
    "papermill": {
     "duration": 2.212587,
     "end_time": "2024-06-05T18:34:25.234927",
     "exception": false,
     "start_time": "2024-06-05T18:34:23.022340",
     "status": "completed"
    },
    "tags": []
   },
   "outputs": [],
   "source": [
    "import pandas as pd\n",
    "import re\n",
    "from sklearn.model_selection import train_test_split\n",
    "from datasets import Dataset, DatasetDict"
   ]
  },
  {
   "cell_type": "code",
   "execution_count": 16,
   "id": "2b162b2b",
   "metadata": {
    "execution": {
     "iopub.execute_input": "2024-06-05T18:34:25.296542Z",
     "iopub.status.busy": "2024-06-05T18:34:25.295737Z",
     "iopub.status.idle": "2024-06-05T18:34:25.302140Z",
     "shell.execute_reply": "2024-06-05T18:34:25.301262Z"
    },
    "papermill": {
     "duration": 0.030204,
     "end_time": "2024-06-05T18:34:25.304166",
     "exception": false,
     "start_time": "2024-06-05T18:34:25.273962",
     "status": "completed"
    },
    "tags": []
   },
   "outputs": [
    {
     "data": {
      "text/plain": [
       "Index(['Content', 'bert_concepts'], dtype='object')"
      ]
     },
     "execution_count": 16,
     "metadata": {},
     "output_type": "execute_result"
    }
   ],
   "source": [
    "df.columns"
   ]
  },
  {
   "cell_type": "code",
   "execution_count": 17,
   "id": "fbe239a9",
   "metadata": {
    "execution": {
     "iopub.execute_input": "2024-06-05T18:34:25.354692Z",
     "iopub.status.busy": "2024-06-05T18:34:25.353892Z",
     "iopub.status.idle": "2024-06-05T18:34:25.366993Z",
     "shell.execute_reply": "2024-06-05T18:34:25.366004Z"
    },
    "papermill": {
     "duration": 0.04157,
     "end_time": "2024-06-05T18:34:25.369011",
     "exception": false,
     "start_time": "2024-06-05T18:34:25.327441",
     "status": "completed"
    },
    "tags": []
   },
   "outputs": [],
   "source": [
    "\n",
    "df['bert_concepts'] = df['bert_concepts'].apply(lambda x: x.split(', ')) # make list of words\n",
    "all_concepts = set(concept for row in df['bert_concepts'] for concept in row) # Create a list of all unique concepts\n"
   ]
  },
  {
   "cell_type": "code",
   "execution_count": 18,
   "id": "6449fbfc",
   "metadata": {
    "execution": {
     "iopub.execute_input": "2024-06-05T18:34:25.412314Z",
     "iopub.status.busy": "2024-06-05T18:34:25.412002Z",
     "iopub.status.idle": "2024-06-05T18:34:25.415936Z",
     "shell.execute_reply": "2024-06-05T18:34:25.415133Z"
    },
    "papermill": {
     "duration": 0.028098,
     "end_time": "2024-06-05T18:34:25.417979",
     "exception": false,
     "start_time": "2024-06-05T18:34:25.389881",
     "status": "completed"
    },
    "tags": []
   },
   "outputs": [],
   "source": [
    "#all_concepts"
   ]
  },
  {
   "cell_type": "code",
   "execution_count": 19,
   "id": "9c36d46b",
   "metadata": {
    "execution": {
     "iopub.execute_input": "2024-06-05T18:34:25.467457Z",
     "iopub.status.busy": "2024-06-05T18:34:25.466580Z",
     "iopub.status.idle": "2024-06-05T18:34:27.138459Z",
     "shell.execute_reply": "2024-06-05T18:34:27.137437Z"
    },
    "papermill": {
     "duration": 1.6968,
     "end_time": "2024-06-05T18:34:27.140864",
     "exception": false,
     "start_time": "2024-06-05T18:34:25.444064",
     "status": "completed"
    },
    "tags": []
   },
   "outputs": [],
   "source": [
    "# One-hot encode each concept for each row\n",
    "one_hot_encoded_rows = []\n",
    "for index, row in df.iterrows():\n",
    "    one_hot_row = {'Content': row['Content']}\n",
    "    for concept in all_concepts:\n",
    "        one_hot_row[concept] = 1 if concept in row['bert_concepts'] else 0\n",
    "    one_hot_encoded_rows.append(one_hot_row)\n"
   ]
  },
  {
   "cell_type": "code",
   "execution_count": 20,
   "id": "6d871922",
   "metadata": {
    "execution": {
     "iopub.execute_input": "2024-06-05T18:34:27.185253Z",
     "iopub.status.busy": "2024-06-05T18:34:27.184490Z",
     "iopub.status.idle": "2024-06-05T18:34:27.188484Z",
     "shell.execute_reply": "2024-06-05T18:34:27.187608Z"
    },
    "papermill": {
     "duration": 0.028578,
     "end_time": "2024-06-05T18:34:27.190401",
     "exception": false,
     "start_time": "2024-06-05T18:34:27.161823",
     "status": "completed"
    },
    "tags": []
   },
   "outputs": [],
   "source": [
    "#one_hot_encoded_rows[:2]"
   ]
  },
  {
   "cell_type": "code",
   "execution_count": 21,
   "id": "c0262801",
   "metadata": {
    "execution": {
     "iopub.execute_input": "2024-06-05T18:34:27.232212Z",
     "iopub.status.busy": "2024-06-05T18:34:27.231937Z",
     "iopub.status.idle": "2024-06-05T18:34:27.396669Z",
     "shell.execute_reply": "2024-06-05T18:34:27.395589Z"
    },
    "papermill": {
     "duration": 0.188431,
     "end_time": "2024-06-05T18:34:27.399053",
     "exception": false,
     "start_time": "2024-06-05T18:34:27.210622",
     "status": "completed"
    },
    "tags": []
   },
   "outputs": [],
   "source": [
    "df = pd.DataFrame(one_hot_encoded_rows)"
   ]
  },
  {
   "cell_type": "code",
   "execution_count": 22,
   "id": "168a4d37",
   "metadata": {
    "execution": {
     "iopub.execute_input": "2024-06-05T18:34:27.442989Z",
     "iopub.status.busy": "2024-06-05T18:34:27.442670Z",
     "iopub.status.idle": "2024-06-05T18:34:27.459504Z",
     "shell.execute_reply": "2024-06-05T18:34:27.458598Z"
    },
    "papermill": {
     "duration": 0.04094,
     "end_time": "2024-06-05T18:34:27.461640",
     "exception": false,
     "start_time": "2024-06-05T18:34:27.420700",
     "status": "completed"
    },
    "tags": []
   },
   "outputs": [
    {
     "data": {
      "text/html": [
       "<div>\n",
       "<style scoped>\n",
       "    .dataframe tbody tr th:only-of-type {\n",
       "        vertical-align: middle;\n",
       "    }\n",
       "\n",
       "    .dataframe tbody tr th {\n",
       "        vertical-align: top;\n",
       "    }\n",
       "\n",
       "    .dataframe thead th {\n",
       "        text-align: right;\n",
       "    }\n",
       "</style>\n",
       "<table border=\"1\" class=\"dataframe\">\n",
       "  <thead>\n",
       "    <tr style=\"text-align: right;\">\n",
       "      <th></th>\n",
       "      <th>Content</th>\n",
       "      <th>policy</th>\n",
       "      <th>investor protection</th>\n",
       "      <th>rulebook</th>\n",
       "      <th>circular</th>\n",
       "      <th>oversight</th>\n",
       "      <th>guideline</th>\n",
       "      <th>conduct</th>\n",
       "      <th>regulations</th>\n",
       "      <th>client</th>\n",
       "      <th>...</th>\n",
       "      <th>investor</th>\n",
       "      <th>sanctions</th>\n",
       "      <th>transactions</th>\n",
       "      <th>travel rule</th>\n",
       "      <th>screening</th>\n",
       "      <th>risks</th>\n",
       "      <th>monitoring</th>\n",
       "      <th>safeguard</th>\n",
       "      <th>cft</th>\n",
       "      <th>policies</th>\n",
       "    </tr>\n",
       "  </thead>\n",
       "  <tbody>\n",
       "    <tr>\n",
       "      <th>0</th>\n",
       "      <td>the new licensing regime for centralised virtu...</td>\n",
       "      <td>0</td>\n",
       "      <td>0</td>\n",
       "      <td>0</td>\n",
       "      <td>0</td>\n",
       "      <td>0</td>\n",
       "      <td>0</td>\n",
       "      <td>0</td>\n",
       "      <td>0</td>\n",
       "      <td>0</td>\n",
       "      <td>...</td>\n",
       "      <td>0</td>\n",
       "      <td>0</td>\n",
       "      <td>0</td>\n",
       "      <td>0</td>\n",
       "      <td>0</td>\n",
       "      <td>0</td>\n",
       "      <td>0</td>\n",
       "      <td>0</td>\n",
       "      <td>1</td>\n",
       "      <td>0</td>\n",
       "    </tr>\n",
       "    <tr>\n",
       "      <th>1</th>\n",
       "      <td>the sfc is issuing this circular to highlight ...</td>\n",
       "      <td>0</td>\n",
       "      <td>0</td>\n",
       "      <td>0</td>\n",
       "      <td>1</td>\n",
       "      <td>0</td>\n",
       "      <td>0</td>\n",
       "      <td>0</td>\n",
       "      <td>0</td>\n",
       "      <td>0</td>\n",
       "      <td>...</td>\n",
       "      <td>0</td>\n",
       "      <td>0</td>\n",
       "      <td>0</td>\n",
       "      <td>0</td>\n",
       "      <td>0</td>\n",
       "      <td>0</td>\n",
       "      <td>0</td>\n",
       "      <td>0</td>\n",
       "      <td>0</td>\n",
       "      <td>0</td>\n",
       "    </tr>\n",
       "    <tr>\n",
       "      <th>2</th>\n",
       "      <td>the sfc has published the following guidelines...</td>\n",
       "      <td>0</td>\n",
       "      <td>0</td>\n",
       "      <td>0</td>\n",
       "      <td>0</td>\n",
       "      <td>0</td>\n",
       "      <td>1</td>\n",
       "      <td>0</td>\n",
       "      <td>0</td>\n",
       "      <td>0</td>\n",
       "      <td>...</td>\n",
       "      <td>0</td>\n",
       "      <td>0</td>\n",
       "      <td>0</td>\n",
       "      <td>0</td>\n",
       "      <td>0</td>\n",
       "      <td>0</td>\n",
       "      <td>0</td>\n",
       "      <td>0</td>\n",
       "      <td>0</td>\n",
       "      <td>0</td>\n",
       "    </tr>\n",
       "  </tbody>\n",
       "</table>\n",
       "<p>3 rows × 56 columns</p>\n",
       "</div>"
      ],
      "text/plain": [
       "                                             Content  policy  \\\n",
       "0  the new licensing regime for centralised virtu...       0   \n",
       "1  the sfc is issuing this circular to highlight ...       0   \n",
       "2  the sfc has published the following guidelines...       0   \n",
       "\n",
       "   investor protection  rulebook  circular  oversight  guideline  conduct  \\\n",
       "0                    0         0         0          0          0        0   \n",
       "1                    0         0         1          0          0        0   \n",
       "2                    0         0         0          0          1        0   \n",
       "\n",
       "   regulations  client  ...  investor  sanctions  transactions  travel rule  \\\n",
       "0            0       0  ...         0          0             0            0   \n",
       "1            0       0  ...         0          0             0            0   \n",
       "2            0       0  ...         0          0             0            0   \n",
       "\n",
       "   screening  risks  monitoring  safeguard  cft  policies  \n",
       "0          0      0           0          0    1         0  \n",
       "1          0      0           0          0    0         0  \n",
       "2          0      0           0          0    0         0  \n",
       "\n",
       "[3 rows x 56 columns]"
      ]
     },
     "execution_count": 22,
     "metadata": {},
     "output_type": "execute_result"
    }
   ],
   "source": [
    "df.head(3)"
   ]
  },
  {
   "cell_type": "markdown",
   "id": "cd8c4a9b",
   "metadata": {
    "papermill": {
     "duration": 0.021025,
     "end_time": "2024-06-05T18:34:27.503974",
     "exception": false,
     "start_time": "2024-06-05T18:34:27.482949",
     "status": "completed"
    },
    "tags": []
   },
   "source": [
    "# Class/Label Distribution"
   ]
  },
  {
   "cell_type": "code",
   "execution_count": 23,
   "id": "3a382bc8",
   "metadata": {
    "execution": {
     "iopub.execute_input": "2024-06-05T18:34:27.547044Z",
     "iopub.status.busy": "2024-06-05T18:34:27.546329Z",
     "iopub.status.idle": "2024-06-05T18:34:27.590413Z",
     "shell.execute_reply": "2024-06-05T18:34:27.589515Z"
    },
    "papermill": {
     "duration": 0.067997,
     "end_time": "2024-06-05T18:34:27.592522",
     "exception": false,
     "start_time": "2024-06-05T18:34:27.524525",
     "status": "completed"
    },
    "tags": []
   },
   "outputs": [
    {
     "data": {
      "text/html": [
       "<div>\n",
       "<style scoped>\n",
       "    .dataframe tbody tr th:only-of-type {\n",
       "        vertical-align: middle;\n",
       "    }\n",
       "\n",
       "    .dataframe tbody tr th {\n",
       "        vertical-align: top;\n",
       "    }\n",
       "\n",
       "    .dataframe thead th {\n",
       "        text-align: right;\n",
       "    }\n",
       "</style>\n",
       "<table border=\"1\" class=\"dataframe\">\n",
       "  <thead>\n",
       "    <tr style=\"text-align: right;\">\n",
       "      <th></th>\n",
       "      <th>Label</th>\n",
       "      <th>0s</th>\n",
       "      <th>1s</th>\n",
       "    </tr>\n",
       "  </thead>\n",
       "  <tbody>\n",
       "    <tr>\n",
       "      <th>32</th>\n",
       "      <td>virtual assets</td>\n",
       "      <td>3149</td>\n",
       "      <td>2227</td>\n",
       "    </tr>\n",
       "    <tr>\n",
       "      <th>34</th>\n",
       "      <td>compliance</td>\n",
       "      <td>3778</td>\n",
       "      <td>1598</td>\n",
       "    </tr>\n",
       "    <tr>\n",
       "      <th>24</th>\n",
       "      <td>regulator</td>\n",
       "      <td>3798</td>\n",
       "      <td>1578</td>\n",
       "    </tr>\n",
       "    <tr>\n",
       "      <th>8</th>\n",
       "      <td>client</td>\n",
       "      <td>4090</td>\n",
       "      <td>1286</td>\n",
       "    </tr>\n",
       "    <tr>\n",
       "      <th>50</th>\n",
       "      <td>risks</td>\n",
       "      <td>4555</td>\n",
       "      <td>821</td>\n",
       "    </tr>\n",
       "    <tr>\n",
       "      <th>18</th>\n",
       "      <td>aml</td>\n",
       "      <td>4650</td>\n",
       "      <td>726</td>\n",
       "    </tr>\n",
       "    <tr>\n",
       "      <th>37</th>\n",
       "      <td>vasp</td>\n",
       "      <td>4727</td>\n",
       "      <td>649</td>\n",
       "    </tr>\n",
       "    <tr>\n",
       "      <th>16</th>\n",
       "      <td>license</td>\n",
       "      <td>4741</td>\n",
       "      <td>635</td>\n",
       "    </tr>\n",
       "    <tr>\n",
       "      <th>25</th>\n",
       "      <td>operator</td>\n",
       "      <td>4787</td>\n",
       "      <td>589</td>\n",
       "    </tr>\n",
       "    <tr>\n",
       "      <th>36</th>\n",
       "      <td>requirements</td>\n",
       "      <td>4834</td>\n",
       "      <td>542</td>\n",
       "    </tr>\n",
       "    <tr>\n",
       "      <th>23</th>\n",
       "      <td>transaction</td>\n",
       "      <td>4854</td>\n",
       "      <td>522</td>\n",
       "    </tr>\n",
       "    <tr>\n",
       "      <th>41</th>\n",
       "      <td>person</td>\n",
       "      <td>4868</td>\n",
       "      <td>508</td>\n",
       "    </tr>\n",
       "    <tr>\n",
       "      <th>7</th>\n",
       "      <td>regulations</td>\n",
       "      <td>4952</td>\n",
       "      <td>424</td>\n",
       "    </tr>\n",
       "    <tr>\n",
       "      <th>53</th>\n",
       "      <td>cft</td>\n",
       "      <td>4989</td>\n",
       "      <td>387</td>\n",
       "    </tr>\n",
       "    <tr>\n",
       "      <th>2</th>\n",
       "      <td>rulebook</td>\n",
       "      <td>4992</td>\n",
       "      <td>384</td>\n",
       "    </tr>\n",
       "    <tr>\n",
       "      <th>21</th>\n",
       "      <td>vasps</td>\n",
       "      <td>5012</td>\n",
       "      <td>364</td>\n",
       "    </tr>\n",
       "    <tr>\n",
       "      <th>47</th>\n",
       "      <td>transactions</td>\n",
       "      <td>5058</td>\n",
       "      <td>318</td>\n",
       "    </tr>\n",
       "    <tr>\n",
       "      <th>31</th>\n",
       "      <td>transfer</td>\n",
       "      <td>5086</td>\n",
       "      <td>290</td>\n",
       "    </tr>\n",
       "    <tr>\n",
       "      <th>5</th>\n",
       "      <td>guideline</td>\n",
       "      <td>5123</td>\n",
       "      <td>253</td>\n",
       "    </tr>\n",
       "    <tr>\n",
       "      <th>19</th>\n",
       "      <td>reporting</td>\n",
       "      <td>5137</td>\n",
       "      <td>239</td>\n",
       "    </tr>\n",
       "    <tr>\n",
       "      <th>54</th>\n",
       "      <td>policies</td>\n",
       "      <td>5170</td>\n",
       "      <td>206</td>\n",
       "    </tr>\n",
       "    <tr>\n",
       "      <th>40</th>\n",
       "      <td>legal</td>\n",
       "      <td>5176</td>\n",
       "      <td>200</td>\n",
       "    </tr>\n",
       "    <tr>\n",
       "      <th>9</th>\n",
       "      <td>cdd</td>\n",
       "      <td>5181</td>\n",
       "      <td>195</td>\n",
       "    </tr>\n",
       "    <tr>\n",
       "      <th>17</th>\n",
       "      <td>rules</td>\n",
       "      <td>5182</td>\n",
       "      <td>194</td>\n",
       "    </tr>\n",
       "    <tr>\n",
       "      <th>27</th>\n",
       "      <td>controls</td>\n",
       "      <td>5184</td>\n",
       "      <td>192</td>\n",
       "    </tr>\n",
       "    <tr>\n",
       "      <th>6</th>\n",
       "      <td>conduct</td>\n",
       "      <td>5188</td>\n",
       "      <td>188</td>\n",
       "    </tr>\n",
       "    <tr>\n",
       "      <th>15</th>\n",
       "      <td>risk management</td>\n",
       "      <td>5214</td>\n",
       "      <td>162</td>\n",
       "    </tr>\n",
       "    <tr>\n",
       "      <th>45</th>\n",
       "      <td>investor</td>\n",
       "      <td>5233</td>\n",
       "      <td>143</td>\n",
       "    </tr>\n",
       "    <tr>\n",
       "      <th>22</th>\n",
       "      <td>audit</td>\n",
       "      <td>5234</td>\n",
       "      <td>142</td>\n",
       "    </tr>\n",
       "    <tr>\n",
       "      <th>51</th>\n",
       "      <td>monitoring</td>\n",
       "      <td>5235</td>\n",
       "      <td>141</td>\n",
       "    </tr>\n",
       "    <tr>\n",
       "      <th>26</th>\n",
       "      <td>authority</td>\n",
       "      <td>5239</td>\n",
       "      <td>137</td>\n",
       "    </tr>\n",
       "    <tr>\n",
       "      <th>11</th>\n",
       "      <td>due diligence</td>\n",
       "      <td>5250</td>\n",
       "      <td>126</td>\n",
       "    </tr>\n",
       "    <tr>\n",
       "      <th>10</th>\n",
       "      <td>identity</td>\n",
       "      <td>5259</td>\n",
       "      <td>117</td>\n",
       "    </tr>\n",
       "    <tr>\n",
       "      <th>20</th>\n",
       "      <td>beneficiary information</td>\n",
       "      <td>5266</td>\n",
       "      <td>110</td>\n",
       "    </tr>\n",
       "    <tr>\n",
       "      <th>33</th>\n",
       "      <td>disclosure</td>\n",
       "      <td>5282</td>\n",
       "      <td>94</td>\n",
       "    </tr>\n",
       "    <tr>\n",
       "      <th>39</th>\n",
       "      <td>entities</td>\n",
       "      <td>5284</td>\n",
       "      <td>92</td>\n",
       "    </tr>\n",
       "    <tr>\n",
       "      <th>13</th>\n",
       "      <td>risk assessment</td>\n",
       "      <td>5286</td>\n",
       "      <td>90</td>\n",
       "    </tr>\n",
       "    <tr>\n",
       "      <th>14</th>\n",
       "      <td>pep</td>\n",
       "      <td>5314</td>\n",
       "      <td>62</td>\n",
       "    </tr>\n",
       "    <tr>\n",
       "      <th>46</th>\n",
       "      <td>sanctions</td>\n",
       "      <td>5320</td>\n",
       "      <td>56</td>\n",
       "    </tr>\n",
       "    <tr>\n",
       "      <th>30</th>\n",
       "      <td>criminal</td>\n",
       "      <td>5322</td>\n",
       "      <td>54</td>\n",
       "    </tr>\n",
       "    <tr>\n",
       "      <th>43</th>\n",
       "      <td>suspicious transactions</td>\n",
       "      <td>5323</td>\n",
       "      <td>53</td>\n",
       "    </tr>\n",
       "    <tr>\n",
       "      <th>3</th>\n",
       "      <td>circular</td>\n",
       "      <td>5325</td>\n",
       "      <td>51</td>\n",
       "    </tr>\n",
       "    <tr>\n",
       "      <th>0</th>\n",
       "      <td>policy</td>\n",
       "      <td>5327</td>\n",
       "      <td>49</td>\n",
       "    </tr>\n",
       "    <tr>\n",
       "      <th>38</th>\n",
       "      <td>dlt</td>\n",
       "      <td>5331</td>\n",
       "      <td>45</td>\n",
       "    </tr>\n",
       "    <tr>\n",
       "      <th>49</th>\n",
       "      <td>screening</td>\n",
       "      <td>5335</td>\n",
       "      <td>41</td>\n",
       "    </tr>\n",
       "    <tr>\n",
       "      <th>52</th>\n",
       "      <td>safeguard</td>\n",
       "      <td>5337</td>\n",
       "      <td>39</td>\n",
       "    </tr>\n",
       "    <tr>\n",
       "      <th>35</th>\n",
       "      <td>legislation</td>\n",
       "      <td>5340</td>\n",
       "      <td>36</td>\n",
       "    </tr>\n",
       "    <tr>\n",
       "      <th>4</th>\n",
       "      <td>oversight</td>\n",
       "      <td>5353</td>\n",
       "      <td>23</td>\n",
       "    </tr>\n",
       "    <tr>\n",
       "      <th>1</th>\n",
       "      <td>investor protection</td>\n",
       "      <td>5356</td>\n",
       "      <td>20</td>\n",
       "    </tr>\n",
       "    <tr>\n",
       "      <th>48</th>\n",
       "      <td>travel rule</td>\n",
       "      <td>5360</td>\n",
       "      <td>16</td>\n",
       "    </tr>\n",
       "    <tr>\n",
       "      <th>29</th>\n",
       "      <td>record keeping</td>\n",
       "      <td>5360</td>\n",
       "      <td>16</td>\n",
       "    </tr>\n",
       "    <tr>\n",
       "      <th>44</th>\n",
       "      <td>anti-bribery</td>\n",
       "      <td>5361</td>\n",
       "      <td>15</td>\n",
       "    </tr>\n",
       "    <tr>\n",
       "      <th>28</th>\n",
       "      <td>kyc</td>\n",
       "      <td>5362</td>\n",
       "      <td>14</td>\n",
       "    </tr>\n",
       "    <tr>\n",
       "      <th>12</th>\n",
       "      <td>code of conduct</td>\n",
       "      <td>5363</td>\n",
       "      <td>13</td>\n",
       "    </tr>\n",
       "    <tr>\n",
       "      <th>42</th>\n",
       "      <td>insider dealing</td>\n",
       "      <td>5363</td>\n",
       "      <td>13</td>\n",
       "    </tr>\n",
       "  </tbody>\n",
       "</table>\n",
       "</div>"
      ],
      "text/plain": [
       "                      Label    0s    1s\n",
       "32           virtual assets  3149  2227\n",
       "34               compliance  3778  1598\n",
       "24                regulator  3798  1578\n",
       "8                    client  4090  1286\n",
       "50                    risks  4555   821\n",
       "18                      aml  4650   726\n",
       "37                     vasp  4727   649\n",
       "16                  license  4741   635\n",
       "25                 operator  4787   589\n",
       "36             requirements  4834   542\n",
       "23              transaction  4854   522\n",
       "41                   person  4868   508\n",
       "7               regulations  4952   424\n",
       "53                      cft  4989   387\n",
       "2                  rulebook  4992   384\n",
       "21                    vasps  5012   364\n",
       "47             transactions  5058   318\n",
       "31                 transfer  5086   290\n",
       "5                 guideline  5123   253\n",
       "19                reporting  5137   239\n",
       "54                 policies  5170   206\n",
       "40                    legal  5176   200\n",
       "9                       cdd  5181   195\n",
       "17                    rules  5182   194\n",
       "27                 controls  5184   192\n",
       "6                   conduct  5188   188\n",
       "15          risk management  5214   162\n",
       "45                 investor  5233   143\n",
       "22                    audit  5234   142\n",
       "51               monitoring  5235   141\n",
       "26                authority  5239   137\n",
       "11            due diligence  5250   126\n",
       "10                 identity  5259   117\n",
       "20  beneficiary information  5266   110\n",
       "33               disclosure  5282    94\n",
       "39                 entities  5284    92\n",
       "13          risk assessment  5286    90\n",
       "14                      pep  5314    62\n",
       "46                sanctions  5320    56\n",
       "30                 criminal  5322    54\n",
       "43  suspicious transactions  5323    53\n",
       "3                  circular  5325    51\n",
       "0                    policy  5327    49\n",
       "38                      dlt  5331    45\n",
       "49                screening  5335    41\n",
       "52                safeguard  5337    39\n",
       "35              legislation  5340    36\n",
       "4                 oversight  5353    23\n",
       "1       investor protection  5356    20\n",
       "48              travel rule  5360    16\n",
       "29           record keeping  5360    16\n",
       "44             anti-bribery  5361    15\n",
       "28                      kyc  5362    14\n",
       "12          code of conduct  5363    13\n",
       "42          insider dealing  5363    13"
      ]
     },
     "execution_count": 23,
     "metadata": {},
     "output_type": "execute_result"
    }
   ],
   "source": [
    "import pandas as pd\n",
    "l1 = list(df.columns)[1:]\n",
    "summary_list = []\n",
    "for i in l1:\n",
    "    label_counts = df[i].value_counts()\n",
    "    summary_list.append({\n",
    "        'Label': i,\n",
    "        '0s': label_counts.get(0, 0),\n",
    "        '1s': label_counts.get(1, 0)\n",
    "    })\n",
    "\n",
    "\n",
    "summary_df = pd.DataFrame(summary_list)\n",
    "summary_df_sorted = summary_df.sort_values(by='1s', ascending=False)\n",
    "summary_df_sorted\n"
   ]
  },
  {
   "cell_type": "markdown",
   "id": "6f183d2a",
   "metadata": {
    "papermill": {
     "duration": 0.0208,
     "end_time": "2024-06-05T18:34:27.635160",
     "exception": false,
     "start_time": "2024-06-05T18:34:27.614360",
     "status": "completed"
    },
    "tags": []
   },
   "source": [
    "# Apply oversmapling of Minorty classes\n"
   ]
  },
  {
   "cell_type": "code",
   "execution_count": null,
   "id": "2e6ec0f7",
   "metadata": {
    "papermill": {
     "duration": 0.020872,
     "end_time": "2024-06-05T18:34:27.676808",
     "exception": false,
     "start_time": "2024-06-05T18:34:27.655936",
     "status": "completed"
    },
    "tags": []
   },
   "outputs": [],
   "source": []
  },
  {
   "cell_type": "code",
   "execution_count": 24,
   "id": "dc130dd8",
   "metadata": {
    "execution": {
     "iopub.execute_input": "2024-06-05T18:34:27.721253Z",
     "iopub.status.busy": "2024-06-05T18:34:27.720418Z",
     "iopub.status.idle": "2024-06-05T18:34:48.856653Z",
     "shell.execute_reply": "2024-06-05T18:34:48.855190Z"
    },
    "papermill": {
     "duration": 21.160771,
     "end_time": "2024-06-05T18:34:48.859069",
     "exception": false,
     "start_time": "2024-06-05T18:34:27.698298",
     "status": "completed"
    },
    "tags": []
   },
   "outputs": [
    {
     "name": "stdout",
     "output_type": "stream",
     "text": [
      "Collecting git+https://github.com/phiyodr/multilabel-oversampling\r\n",
      "  Cloning https://github.com/phiyodr/multilabel-oversampling to /tmp/pip-req-build-s5d2lx3t\r\n",
      "  Running command git clone --filter=blob:none --quiet https://github.com/phiyodr/multilabel-oversampling /tmp/pip-req-build-s5d2lx3t\r\n",
      "  Resolved https://github.com/phiyodr/multilabel-oversampling to commit 5fa066171b8df7ef369fe4f0c674f9576a106b0e\r\n",
      "  Preparing metadata (setup.py) ... \u001b[?25l-\b \bdone\r\n",
      "\u001b[?25hRequirement already satisfied: numpy in /opt/conda/lib/python3.10/site-packages (from multilabel-oversampling==0.1.3) (1.26.4)\r\n",
      "Requirement already satisfied: scikit-learn in /opt/conda/lib/python3.10/site-packages (from multilabel-oversampling==0.1.3) (1.2.2)\r\n",
      "Requirement already satisfied: pandas in /opt/conda/lib/python3.10/site-packages (from multilabel-oversampling==0.1.3) (2.2.1)\r\n",
      "Requirement already satisfied: seaborn in /opt/conda/lib/python3.10/site-packages (from multilabel-oversampling==0.1.3) (0.12.2)\r\n",
      "Requirement already satisfied: tqdm in /opt/conda/lib/python3.10/site-packages (from multilabel-oversampling==0.1.3) (4.66.4)\r\n",
      "Requirement already satisfied: matplotlib in /opt/conda/lib/python3.10/site-packages (from multilabel-oversampling==0.1.3) (3.7.5)\r\n",
      "Requirement already satisfied: contourpy>=1.0.1 in /opt/conda/lib/python3.10/site-packages (from matplotlib->multilabel-oversampling==0.1.3) (1.2.0)\r\n",
      "Requirement already satisfied: cycler>=0.10 in /opt/conda/lib/python3.10/site-packages (from matplotlib->multilabel-oversampling==0.1.3) (0.12.1)\r\n",
      "Requirement already satisfied: fonttools>=4.22.0 in /opt/conda/lib/python3.10/site-packages (from matplotlib->multilabel-oversampling==0.1.3) (4.47.0)\r\n",
      "Requirement already satisfied: kiwisolver>=1.0.1 in /opt/conda/lib/python3.10/site-packages (from matplotlib->multilabel-oversampling==0.1.3) (1.4.5)\r\n",
      "Requirement already satisfied: packaging>=20.0 in /opt/conda/lib/python3.10/site-packages (from matplotlib->multilabel-oversampling==0.1.3) (21.3)\r\n",
      "Requirement already satisfied: pillow>=6.2.0 in /opt/conda/lib/python3.10/site-packages (from matplotlib->multilabel-oversampling==0.1.3) (9.5.0)\r\n",
      "Requirement already satisfied: pyparsing>=2.3.1 in /opt/conda/lib/python3.10/site-packages (from matplotlib->multilabel-oversampling==0.1.3) (3.1.1)\r\n",
      "Requirement already satisfied: python-dateutil>=2.7 in /opt/conda/lib/python3.10/site-packages (from matplotlib->multilabel-oversampling==0.1.3) (2.9.0.post0)\r\n",
      "Requirement already satisfied: pytz>=2020.1 in /opt/conda/lib/python3.10/site-packages (from pandas->multilabel-oversampling==0.1.3) (2023.3.post1)\r\n",
      "Requirement already satisfied: tzdata>=2022.7 in /opt/conda/lib/python3.10/site-packages (from pandas->multilabel-oversampling==0.1.3) (2023.4)\r\n",
      "Requirement already satisfied: scipy>=1.3.2 in /opt/conda/lib/python3.10/site-packages (from scikit-learn->multilabel-oversampling==0.1.3) (1.11.4)\r\n",
      "Requirement already satisfied: joblib>=1.1.1 in /opt/conda/lib/python3.10/site-packages (from scikit-learn->multilabel-oversampling==0.1.3) (1.4.2)\r\n",
      "Requirement already satisfied: threadpoolctl>=2.0.0 in /opt/conda/lib/python3.10/site-packages (from scikit-learn->multilabel-oversampling==0.1.3) (3.2.0)\r\n",
      "Requirement already satisfied: six>=1.5 in /opt/conda/lib/python3.10/site-packages (from python-dateutil>=2.7->matplotlib->multilabel-oversampling==0.1.3) (1.16.0)\r\n",
      "Building wheels for collected packages: multilabel-oversampling\r\n",
      "  Building wheel for multilabel-oversampling (setup.py) ... \u001b[?25l-\b \b\\\b \bdone\r\n",
      "\u001b[?25h  Created wheel for multilabel-oversampling: filename=multilabel_oversampling-0.1.3-py3-none-any.whl size=6225 sha256=f9a92334a209c055c984feab6755b15ed1ac564c3b079822d0906d77c0c604da\r\n",
      "  Stored in directory: /tmp/pip-ephem-wheel-cache-5af8bahi/wheels/2a/ba/2b/c3f093556ca8b37e8714e4748090daa11b45128ccb614665de\r\n",
      "Successfully built multilabel-oversampling\r\n",
      "\u001b[33mWARNING: Error parsing requirements for aiohttp: [Errno 2] No such file or directory: '/opt/conda/lib/python3.10/site-packages/aiohttp-3.9.1.dist-info/METADATA'\u001b[0m\u001b[33m\r\n",
      "\u001b[0mInstalling collected packages: multilabel-oversampling\r\n",
      "Successfully installed multilabel-oversampling-0.1.3\r\n"
     ]
    }
   ],
   "source": [
    "!pip install git+https://github.com/phiyodr/multilabel-oversampling"
   ]
  },
  {
   "cell_type": "code",
   "execution_count": 25,
   "id": "006b65df",
   "metadata": {
    "execution": {
     "iopub.execute_input": "2024-06-05T18:34:48.907230Z",
     "iopub.status.busy": "2024-06-05T18:34:48.906850Z",
     "iopub.status.idle": "2024-06-05T18:35:21.146644Z",
     "shell.execute_reply": "2024-06-05T18:35:21.145620Z"
    },
    "papermill": {
     "duration": 32.266828,
     "end_time": "2024-06-05T18:35:21.149179",
     "exception": false,
     "start_time": "2024-06-05T18:34:48.882351",
     "status": "completed"
    },
    "tags": []
   },
   "outputs": [
    {
     "name": "stdout",
     "output_type": "stream",
     "text": [
      "Start the upsampling process.\n"
     ]
    },
    {
     "name": "stderr",
     "output_type": "stream",
     "text": [
      "Iteration: 100%|██████████| 1000/1000 [00:32<00:00, 31.08it/s]\n"
     ]
    }
   ],
   "source": [
    "import multilabel_oversampling as mo\n",
    "\n",
    "mo.seed_everything(20)\n",
    "df = df # difficult fake dataset with very high dependency of y1 and y2\n",
    "ml_oversampler = mo.MultilabelOversampler(number_of_adds = 1000, number_of_tries=200,details=False, plot=False)\n",
    "l1 = list(df.columns)[1:]\n",
    "df_new = ml_oversampler.fit(df,target_list=l1)\n",
    "#>Start the upsampling process.\n",
    "#>Iteration:  11%|████████████████                                        | 11/100 [00:00<00:01, 48.43it/s]\n",
    "#>Iter 11: No improvement after 100 tries.\n",
    "#>Sampling done.\n",
    "#>\n",
    "#>Dataset size original: 20; Upsampled dataset size: 31\n",
    "#>Original target distribution:  {'y1': 16, 'y2': 12, 'y3': 4, 'y4': 4}\n",
    "#>Upsampled target distribution: {'y1': 19, 'y2': 12, 'y3': 15, 'y4': 15}\n",
    "\n",
    "#ml_oversampler.plot_all_tries()"
   ]
  },
  {
   "cell_type": "code",
   "execution_count": 26,
   "id": "ae1b75f6",
   "metadata": {
    "execution": {
     "iopub.execute_input": "2024-06-05T18:35:21.234763Z",
     "iopub.status.busy": "2024-06-05T18:35:21.234058Z",
     "iopub.status.idle": "2024-06-05T18:35:21.238250Z",
     "shell.execute_reply": "2024-06-05T18:35:21.237394Z"
    },
    "papermill": {
     "duration": 0.048108,
     "end_time": "2024-06-05T18:35:21.240198",
     "exception": false,
     "start_time": "2024-06-05T18:35:21.192090",
     "status": "completed"
    },
    "tags": []
   },
   "outputs": [],
   "source": [
    "#ml_oversampler.plot_results()"
   ]
  },
  {
   "cell_type": "code",
   "execution_count": 27,
   "id": "bfe64c9f",
   "metadata": {
    "execution": {
     "iopub.execute_input": "2024-06-05T18:35:21.323448Z",
     "iopub.status.busy": "2024-06-05T18:35:21.323083Z",
     "iopub.status.idle": "2024-06-05T18:35:21.327409Z",
     "shell.execute_reply": "2024-06-05T18:35:21.326446Z"
    },
    "papermill": {
     "duration": 0.047162,
     "end_time": "2024-06-05T18:35:21.329448",
     "exception": false,
     "start_time": "2024-06-05T18:35:21.282286",
     "status": "completed"
    },
    "tags": []
   },
   "outputs": [],
   "source": [
    "#change df to oversampled one\n",
    "df = df_new"
   ]
  },
  {
   "cell_type": "code",
   "execution_count": 28,
   "id": "01472c78",
   "metadata": {
    "execution": {
     "iopub.execute_input": "2024-06-05T18:35:21.411769Z",
     "iopub.status.busy": "2024-06-05T18:35:21.411154Z",
     "iopub.status.idle": "2024-06-05T18:35:21.415778Z",
     "shell.execute_reply": "2024-06-05T18:35:21.414907Z"
    },
    "papermill": {
     "duration": 0.047886,
     "end_time": "2024-06-05T18:35:21.417770",
     "exception": false,
     "start_time": "2024-06-05T18:35:21.369884",
     "status": "completed"
    },
    "tags": []
   },
   "outputs": [],
   "source": [
    "# from sklearn.feature_extraction.text import TfidfVectorizer\n",
    "# from imblearn.over_sampling import SMOTE\n",
    "# from sklearn.multiclass import OneVsRestClassifier\n",
    "# from sklearn.linear_model import LogisticRegression\n",
    "# from sklearn.metrics import classification_report\n",
    "\n",
    "# df = df_new[0]\n",
    "\n",
    "# X = df['Content']\n",
    "# y = df.drop(columns=['Content'])\n",
    "\n",
    "# # Split the data into training and testing sets\n",
    "# X_train, X_test, y_train, y_test = train_test_split(X, y, test_size=0.2, random_state=42)\n",
    "\n",
    "\n",
    "# vectorizer = TfidfVectorizer(max_features=5000)\n",
    "# X_train_vec = vectorizer.fit_transform(X_train)\n",
    "# X_test_vec = vectorizer.transform(X_test)\n",
    "\n",
    "\n"
   ]
  },
  {
   "cell_type": "code",
   "execution_count": 29,
   "id": "9fd9ec1e",
   "metadata": {
    "execution": {
     "iopub.execute_input": "2024-06-05T18:35:21.498766Z",
     "iopub.status.busy": "2024-06-05T18:35:21.498068Z",
     "iopub.status.idle": "2024-06-05T18:35:21.502636Z",
     "shell.execute_reply": "2024-06-05T18:35:21.501752Z"
    },
    "papermill": {
     "duration": 0.047222,
     "end_time": "2024-06-05T18:35:21.504583",
     "exception": false,
     "start_time": "2024-06-05T18:35:21.457361",
     "status": "completed"
    },
    "tags": []
   },
   "outputs": [],
   "source": [
    "# from sklearn.multiclass import OneVsRestClassifier\n",
    "# from sklearn.linear_model import LogisticRegression\n",
    "# from sklearn.metrics import classification_report\n",
    "\n",
    "# # Train the classifier\n",
    "# classifier = OneVsRestClassifier(LogisticRegression(solver='liblinear'))\n",
    "# classifier.fit(X_train_vec, y_train)\n",
    "\n",
    "# # Predict on the test set\n",
    "# y_pred = classifier.predict(X_test_vec)\n",
    "\n",
    "# # Evaluate the classifier\n",
    "# print(classification_report(y_test, y_pred, target_names=y.columns))\n"
   ]
  },
  {
   "cell_type": "code",
   "execution_count": null,
   "id": "6b30e093",
   "metadata": {
    "papermill": {
     "duration": 0.039393,
     "end_time": "2024-06-05T18:35:21.583724",
     "exception": false,
     "start_time": "2024-06-05T18:35:21.544331",
     "status": "completed"
    },
    "tags": []
   },
   "outputs": [],
   "source": []
  },
  {
   "cell_type": "code",
   "execution_count": 30,
   "id": "631cfe32",
   "metadata": {
    "execution": {
     "iopub.execute_input": "2024-06-05T18:35:21.665145Z",
     "iopub.status.busy": "2024-06-05T18:35:21.664810Z",
     "iopub.status.idle": "2024-06-05T18:35:21.668949Z",
     "shell.execute_reply": "2024-06-05T18:35:21.668070Z"
    },
    "papermill": {
     "duration": 0.047127,
     "end_time": "2024-06-05T18:35:21.670829",
     "exception": false,
     "start_time": "2024-06-05T18:35:21.623702",
     "status": "completed"
    },
    "tags": []
   },
   "outputs": [],
   "source": [
    "import pandas as pd\n",
    "from datasets import Dataset"
   ]
  },
  {
   "cell_type": "code",
   "execution_count": 31,
   "id": "feb0c66d",
   "metadata": {
    "execution": {
     "iopub.execute_input": "2024-06-05T18:35:21.752097Z",
     "iopub.status.busy": "2024-06-05T18:35:21.751762Z",
     "iopub.status.idle": "2024-06-05T18:35:21.970744Z",
     "shell.execute_reply": "2024-06-05T18:35:21.969997Z"
    },
    "papermill": {
     "duration": 0.262832,
     "end_time": "2024-06-05T18:35:21.973058",
     "exception": false,
     "start_time": "2024-06-05T18:35:21.710226",
     "status": "completed"
    },
    "tags": []
   },
   "outputs": [],
   "source": [
    "#Splitting DataFrame into train, test, and validation sets\n",
    "train_df, test_valid_df = train_test_split(df, test_size=0.3, random_state=42)\n",
    "test_df, validation_df = train_test_split(test_valid_df, test_size=0.33, random_state=42)\n",
    "\n",
    "# Convert DataFrames to Hugging Face Datasets\n",
    "train_dataset = Dataset.from_pandas(train_df)\n",
    "test_dataset = Dataset.from_pandas(test_df)\n",
    "validation_dataset = Dataset.from_pandas(validation_df)\n",
    "\n",
    "# Create DatasetDict\n",
    "dataset = DatasetDict({\n",
    "    \"train\": train_dataset,\n",
    "    \"test\": test_dataset,\n",
    "    \"validation\": validation_dataset\n",
    "})\n",
    "\n",
    "\n"
   ]
  },
  {
   "cell_type": "code",
   "execution_count": 32,
   "id": "66baf02d",
   "metadata": {
    "execution": {
     "iopub.execute_input": "2024-06-05T18:35:22.057418Z",
     "iopub.status.busy": "2024-06-05T18:35:22.057059Z",
     "iopub.status.idle": "2024-06-05T18:35:22.063337Z",
     "shell.execute_reply": "2024-06-05T18:35:22.062392Z"
    },
    "papermill": {
     "duration": 0.05069,
     "end_time": "2024-06-05T18:35:22.065343",
     "exception": false,
     "start_time": "2024-06-05T18:35:22.014653",
     "status": "completed"
    },
    "tags": []
   },
   "outputs": [
    {
     "data": {
      "text/plain": [
       "DatasetDict({\n",
       "    train: Dataset({\n",
       "        features: ['Content', 'policy', 'investor protection', 'rulebook', 'circular', 'oversight', 'guideline', 'conduct', 'regulations', 'client', 'cdd', 'identity', 'due diligence', 'code of conduct', 'risk assessment', 'pep', 'risk management', 'license', 'rules', 'aml', 'reporting', 'beneficiary information', 'vasps', 'audit', 'transaction', 'regulator', 'operator', 'authority', 'controls', 'kyc', 'record keeping', 'criminal', 'transfer', 'virtual assets', 'disclosure', 'compliance', 'legislation', 'requirements', 'vasp', 'dlt', 'entities', 'legal', 'person', 'insider dealing', 'suspicious transactions', 'anti-bribery', 'investor', 'sanctions', 'transactions', 'travel rule', 'screening', 'risks', 'monitoring', 'safeguard', 'cft', 'policies', '__index_level_0__'],\n",
       "        num_rows: 4463\n",
       "    })\n",
       "    test: Dataset({\n",
       "        features: ['Content', 'policy', 'investor protection', 'rulebook', 'circular', 'oversight', 'guideline', 'conduct', 'regulations', 'client', 'cdd', 'identity', 'due diligence', 'code of conduct', 'risk assessment', 'pep', 'risk management', 'license', 'rules', 'aml', 'reporting', 'beneficiary information', 'vasps', 'audit', 'transaction', 'regulator', 'operator', 'authority', 'controls', 'kyc', 'record keeping', 'criminal', 'transfer', 'virtual assets', 'disclosure', 'compliance', 'legislation', 'requirements', 'vasp', 'dlt', 'entities', 'legal', 'person', 'insider dealing', 'suspicious transactions', 'anti-bribery', 'investor', 'sanctions', 'transactions', 'travel rule', 'screening', 'risks', 'monitoring', 'safeguard', 'cft', 'policies', '__index_level_0__'],\n",
       "        num_rows: 1281\n",
       "    })\n",
       "    validation: Dataset({\n",
       "        features: ['Content', 'policy', 'investor protection', 'rulebook', 'circular', 'oversight', 'guideline', 'conduct', 'regulations', 'client', 'cdd', 'identity', 'due diligence', 'code of conduct', 'risk assessment', 'pep', 'risk management', 'license', 'rules', 'aml', 'reporting', 'beneficiary information', 'vasps', 'audit', 'transaction', 'regulator', 'operator', 'authority', 'controls', 'kyc', 'record keeping', 'criminal', 'transfer', 'virtual assets', 'disclosure', 'compliance', 'legislation', 'requirements', 'vasp', 'dlt', 'entities', 'legal', 'person', 'insider dealing', 'suspicious transactions', 'anti-bribery', 'investor', 'sanctions', 'transactions', 'travel rule', 'screening', 'risks', 'monitoring', 'safeguard', 'cft', 'policies', '__index_level_0__'],\n",
       "        num_rows: 632\n",
       "    })\n",
       "})"
      ]
     },
     "execution_count": 32,
     "metadata": {},
     "output_type": "execute_result"
    }
   ],
   "source": [
    "dataset"
   ]
  },
  {
   "cell_type": "code",
   "execution_count": 33,
   "id": "9d81c54f",
   "metadata": {
    "execution": {
     "iopub.execute_input": "2024-06-05T18:35:22.146363Z",
     "iopub.status.busy": "2024-06-05T18:35:22.146019Z",
     "iopub.status.idle": "2024-06-05T18:35:24.848020Z",
     "shell.execute_reply": "2024-06-05T18:35:24.847130Z"
    },
    "papermill": {
     "duration": 2.74487,
     "end_time": "2024-06-05T18:35:24.850126",
     "exception": false,
     "start_time": "2024-06-05T18:35:22.105256",
     "status": "completed"
    },
    "tags": []
   },
   "outputs": [
    {
     "data": {
      "text/plain": [
       "[{'Content': 'c the amount of interest accrued from and credited to the client s account for lending transactions both total and during the reporting period and',\n",
       "  'policy': 0,\n",
       "  'investor protection': 0,\n",
       "  'rulebook': 0,\n",
       "  'circular': 0,\n",
       "  'oversight': 0,\n",
       "  'guideline': 0,\n",
       "  'conduct': 0,\n",
       "  'regulations': 0,\n",
       "  'client': 1,\n",
       "  'cdd': 0,\n",
       "  'identity': 0,\n",
       "  'due diligence': 0,\n",
       "  'code of conduct': 0,\n",
       "  'risk assessment': 0,\n",
       "  'pep': 0,\n",
       "  'risk management': 0,\n",
       "  'license': 0,\n",
       "  'rules': 0,\n",
       "  'aml': 0,\n",
       "  'reporting': 1,\n",
       "  'beneficiary information': 0,\n",
       "  'vasps': 0,\n",
       "  'audit': 0,\n",
       "  'transaction': 1,\n",
       "  'regulator': 0,\n",
       "  'operator': 0,\n",
       "  'authority': 0,\n",
       "  'controls': 0,\n",
       "  'kyc': 0,\n",
       "  'record keeping': 0,\n",
       "  'criminal': 0,\n",
       "  'transfer': 0,\n",
       "  'virtual assets': 0,\n",
       "  'disclosure': 0,\n",
       "  'compliance': 0,\n",
       "  'legislation': 0,\n",
       "  'requirements': 0,\n",
       "  'vasp': 0,\n",
       "  'dlt': 0,\n",
       "  'entities': 0,\n",
       "  'legal': 0,\n",
       "  'person': 0,\n",
       "  'insider dealing': 0,\n",
       "  'suspicious transactions': 0,\n",
       "  'anti-bribery': 0,\n",
       "  'investor': 0,\n",
       "  'sanctions': 0,\n",
       "  'transactions': 1,\n",
       "  'travel rule': 0,\n",
       "  'screening': 0,\n",
       "  'risks': 0,\n",
       "  'monitoring': 0,\n",
       "  'safeguard': 0,\n",
       "  'cft': 0,\n",
       "  'policies': 0,\n",
       "  '__index_level_0__': 3535},\n",
       " {'Content': 'for the avoidance of doubt lcs should also comply with the relevant provisions presently paragraph 51 in the code of conduct for persons licensed by or registered with the securities and futures commission having regard to the acceptable non facetoface account opening approaches as well as relevant circulars and frequently asked questions published by the sfc from time to time',\n",
       "  'policy': 0,\n",
       "  'investor protection': 0,\n",
       "  'rulebook': 0,\n",
       "  'circular': 1,\n",
       "  'oversight': 0,\n",
       "  'guideline': 0,\n",
       "  'conduct': 1,\n",
       "  'regulations': 0,\n",
       "  'client': 0,\n",
       "  'cdd': 0,\n",
       "  'identity': 0,\n",
       "  'due diligence': 0,\n",
       "  'code of conduct': 1,\n",
       "  'risk assessment': 0,\n",
       "  'pep': 0,\n",
       "  'risk management': 0,\n",
       "  'license': 1,\n",
       "  'rules': 0,\n",
       "  'aml': 0,\n",
       "  'reporting': 0,\n",
       "  'beneficiary information': 0,\n",
       "  'vasps': 0,\n",
       "  'audit': 0,\n",
       "  'transaction': 0,\n",
       "  'regulator': 1,\n",
       "  'operator': 0,\n",
       "  'authority': 0,\n",
       "  'controls': 0,\n",
       "  'kyc': 0,\n",
       "  'record keeping': 0,\n",
       "  'criminal': 0,\n",
       "  'transfer': 0,\n",
       "  'virtual assets': 1,\n",
       "  'disclosure': 0,\n",
       "  'compliance': 1,\n",
       "  'legislation': 0,\n",
       "  'requirements': 0,\n",
       "  'vasp': 0,\n",
       "  'dlt': 0,\n",
       "  'entities': 0,\n",
       "  'legal': 0,\n",
       "  'person': 1,\n",
       "  'insider dealing': 0,\n",
       "  'suspicious transactions': 0,\n",
       "  'anti-bribery': 0,\n",
       "  'investor': 0,\n",
       "  'sanctions': 0,\n",
       "  'transactions': 0,\n",
       "  'travel rule': 0,\n",
       "  'screening': 0,\n",
       "  'risks': 0,\n",
       "  'monitoring': 0,\n",
       "  'safeguard': 0,\n",
       "  'cft': 0,\n",
       "  'policies': 0,\n",
       "  '__index_level_0__': 2344}]"
      ]
     },
     "execution_count": 33,
     "metadata": {},
     "output_type": "execute_result"
    }
   ],
   "source": [
    "[i for i in dataset['train']][:2]"
   ]
  },
  {
   "cell_type": "markdown",
   "id": "7a18b711",
   "metadata": {
    "papermill": {
     "duration": 0.039861,
     "end_time": "2024-06-05T18:35:24.930734",
     "exception": false,
     "start_time": "2024-06-05T18:35:24.890873",
     "status": "completed"
    },
    "tags": []
   },
   "source": [
    "# Data Ready Now Training"
   ]
  },
  {
   "cell_type": "code",
   "execution_count": 34,
   "id": "488efe24",
   "metadata": {
    "execution": {
     "iopub.execute_input": "2024-06-05T18:35:25.016152Z",
     "iopub.status.busy": "2024-06-05T18:35:25.015741Z",
     "iopub.status.idle": "2024-06-05T18:35:27.732025Z",
     "shell.execute_reply": "2024-06-05T18:35:27.731052Z"
    },
    "papermill": {
     "duration": 2.763872,
     "end_time": "2024-06-05T18:35:27.734376",
     "exception": false,
     "start_time": "2024-06-05T18:35:24.970504",
     "status": "completed"
    },
    "tags": []
   },
   "outputs": [
    {
     "name": "stdout",
     "output_type": "stream",
     "text": [
      "\u001b[31mERROR: Could not install packages due to an OSError: [Errno 2] No such file or directory: '/opt/conda/lib/python3.10/site-packages/aiohttp-3.9.1.dist-info/METADATA'\r\n",
      "\u001b[0m\u001b[31m\r\n",
      "\u001b[0m"
     ]
    }
   ],
   "source": [
    "!pip install -q transformers datasets"
   ]
  },
  {
   "cell_type": "markdown",
   "id": "19bf8599",
   "metadata": {
    "papermill": {
     "duration": 0.039672,
     "end_time": "2024-06-05T18:35:27.814614",
     "exception": false,
     "start_time": "2024-06-05T18:35:27.774942",
     "status": "completed"
    },
    "tags": []
   },
   "source": [
    "Add a linear layer on top of the base model, which is used to produce a tensor of shape (batch_size, num_labels), indicating the unnormalized scores for a number of labels for every example in the batch."
   ]
  },
  {
   "cell_type": "markdown",
   "id": "ae9bf623",
   "metadata": {
    "papermill": {
     "duration": 0.040207,
     "end_time": "2024-06-05T18:35:27.895055",
     "exception": false,
     "start_time": "2024-06-05T18:35:27.854848",
     "status": "completed"
    },
    "tags": []
   },
   "source": [
    "### List containing all the labels"
   ]
  },
  {
   "cell_type": "code",
   "execution_count": 35,
   "id": "25ce5a96",
   "metadata": {
    "execution": {
     "iopub.execute_input": "2024-06-05T18:35:27.977051Z",
     "iopub.status.busy": "2024-06-05T18:35:27.976193Z",
     "iopub.status.idle": "2024-06-05T18:35:27.987089Z",
     "shell.execute_reply": "2024-06-05T18:35:27.986181Z"
    },
    "papermill": {
     "duration": 0.054032,
     "end_time": "2024-06-05T18:35:27.988997",
     "exception": false,
     "start_time": "2024-06-05T18:35:27.934965",
     "status": "completed"
    },
    "tags": []
   },
   "outputs": [
    {
     "data": {
      "text/plain": [
       "['policy',\n",
       " 'investor protection',\n",
       " 'rulebook',\n",
       " 'circular',\n",
       " 'oversight',\n",
       " 'guideline',\n",
       " 'conduct',\n",
       " 'regulations',\n",
       " 'client',\n",
       " 'cdd',\n",
       " 'identity',\n",
       " 'due diligence',\n",
       " 'code of conduct',\n",
       " 'risk assessment',\n",
       " 'pep',\n",
       " 'risk management',\n",
       " 'license',\n",
       " 'rules',\n",
       " 'aml',\n",
       " 'reporting',\n",
       " 'beneficiary information',\n",
       " 'vasps',\n",
       " 'audit',\n",
       " 'transaction',\n",
       " 'regulator',\n",
       " 'operator',\n",
       " 'authority',\n",
       " 'controls',\n",
       " 'kyc',\n",
       " 'record keeping',\n",
       " 'criminal',\n",
       " 'transfer',\n",
       " 'virtual assets',\n",
       " 'disclosure',\n",
       " 'compliance',\n",
       " 'legislation',\n",
       " 'requirements',\n",
       " 'vasp',\n",
       " 'dlt',\n",
       " 'entities',\n",
       " 'legal',\n",
       " 'person',\n",
       " 'insider dealing',\n",
       " 'suspicious transactions',\n",
       " 'anti-bribery',\n",
       " 'investor',\n",
       " 'sanctions',\n",
       " 'transactions',\n",
       " 'travel rule',\n",
       " 'screening',\n",
       " 'risks',\n",
       " 'monitoring',\n",
       " 'safeguard',\n",
       " 'cft',\n",
       " 'policies']"
      ]
     },
     "execution_count": 35,
     "metadata": {},
     "output_type": "execute_result"
    }
   ],
   "source": [
    "labels = [label for label in dataset['train'].features.keys() if label not in ['Content','__index_level_0__']]\n",
    "#Create 2 dictionaries that map labels to integers and back.\n",
    "id2label = {idx:label for idx, label in enumerate(labels)}\n",
    "label2id = {label:idx for idx, label in enumerate(labels)}\n",
    "labels"
   ]
  },
  {
   "cell_type": "code",
   "execution_count": 36,
   "id": "13913769",
   "metadata": {
    "execution": {
     "iopub.execute_input": "2024-06-05T18:35:28.074244Z",
     "iopub.status.busy": "2024-06-05T18:35:28.073549Z",
     "iopub.status.idle": "2024-06-05T18:35:28.081457Z",
     "shell.execute_reply": "2024-06-05T18:35:28.080598Z"
    },
    "papermill": {
     "duration": 0.053,
     "end_time": "2024-06-05T18:35:28.083477",
     "exception": false,
     "start_time": "2024-06-05T18:35:28.030477",
     "status": "completed"
    },
    "tags": []
   },
   "outputs": [
    {
     "data": {
      "text/plain": [
       "{0: 'policy',\n",
       " 1: 'investor protection',\n",
       " 2: 'rulebook',\n",
       " 3: 'circular',\n",
       " 4: 'oversight',\n",
       " 5: 'guideline',\n",
       " 6: 'conduct',\n",
       " 7: 'regulations',\n",
       " 8: 'client',\n",
       " 9: 'cdd',\n",
       " 10: 'identity',\n",
       " 11: 'due diligence',\n",
       " 12: 'code of conduct',\n",
       " 13: 'risk assessment',\n",
       " 14: 'pep',\n",
       " 15: 'risk management',\n",
       " 16: 'license',\n",
       " 17: 'rules',\n",
       " 18: 'aml',\n",
       " 19: 'reporting',\n",
       " 20: 'beneficiary information',\n",
       " 21: 'vasps',\n",
       " 22: 'audit',\n",
       " 23: 'transaction',\n",
       " 24: 'regulator',\n",
       " 25: 'operator',\n",
       " 26: 'authority',\n",
       " 27: 'controls',\n",
       " 28: 'kyc',\n",
       " 29: 'record keeping',\n",
       " 30: 'criminal',\n",
       " 31: 'transfer',\n",
       " 32: 'virtual assets',\n",
       " 33: 'disclosure',\n",
       " 34: 'compliance',\n",
       " 35: 'legislation',\n",
       " 36: 'requirements',\n",
       " 37: 'vasp',\n",
       " 38: 'dlt',\n",
       " 39: 'entities',\n",
       " 40: 'legal',\n",
       " 41: 'person',\n",
       " 42: 'insider dealing',\n",
       " 43: 'suspicious transactions',\n",
       " 44: 'anti-bribery',\n",
       " 45: 'investor',\n",
       " 46: 'sanctions',\n",
       " 47: 'transactions',\n",
       " 48: 'travel rule',\n",
       " 49: 'screening',\n",
       " 50: 'risks',\n",
       " 51: 'monitoring',\n",
       " 52: 'safeguard',\n",
       " 53: 'cft',\n",
       " 54: 'policies'}"
      ]
     },
     "execution_count": 36,
     "metadata": {},
     "output_type": "execute_result"
    }
   ],
   "source": [
    "id2label"
   ]
  },
  {
   "cell_type": "code",
   "execution_count": null,
   "id": "1ae8947d",
   "metadata": {
    "papermill": {
     "duration": 0.040621,
     "end_time": "2024-06-05T18:35:28.165546",
     "exception": false,
     "start_time": "2024-06-05T18:35:28.124925",
     "status": "completed"
    },
    "tags": []
   },
   "outputs": [],
   "source": []
  },
  {
   "cell_type": "markdown",
   "id": "de6d0ee2",
   "metadata": {
    "papermill": {
     "duration": 0.040942,
     "end_time": "2024-06-05T18:35:28.248426",
     "exception": false,
     "start_time": "2024-06-05T18:35:28.207484",
     "status": "completed"
    },
    "tags": []
   },
   "source": [
    "# Tokenization"
   ]
  },
  {
   "cell_type": "markdown",
   "id": "7673e924",
   "metadata": {
    "papermill": {
     "duration": 0.040379,
     "end_time": "2024-06-05T18:35:28.331387",
     "exception": false,
     "start_time": "2024-06-05T18:35:28.291008",
     "status": "completed"
    },
    "tags": []
   },
   "source": [
    "### As models like BERT don't expect text as direct input, but rather input_ids, etc., we tokenize the text using the tokenizer. We will use AutoTokenizer API, which will automatically load the appropriate tokenizer based on the checkpoint on the hub.\n",
    "\n",
    "### What's a bit tricky is that we also need to provide labels to the model. For multi-label text classification, this is a matrix of shape (batch_size, num_labels). Also important: this should be a tensor of floats rather than integers, otherwise PyTorch' BCEWithLogitsLoss (which the model will use) will complain"
   ]
  },
  {
   "cell_type": "code",
   "execution_count": 37,
   "id": "a1e70c48",
   "metadata": {
    "execution": {
     "iopub.execute_input": "2024-06-05T18:35:28.414643Z",
     "iopub.status.busy": "2024-06-05T18:35:28.414303Z",
     "iopub.status.idle": "2024-06-05T18:35:34.295606Z",
     "shell.execute_reply": "2024-06-05T18:35:34.294214Z"
    },
    "papermill": {
     "duration": 5.926568,
     "end_time": "2024-06-05T18:35:34.298492",
     "exception": false,
     "start_time": "2024-06-05T18:35:28.371924",
     "status": "completed"
    },
    "tags": []
   },
   "outputs": [
    {
     "data": {
      "application/vnd.jupyter.widget-view+json": {
       "model_id": "d268d02bdd944fccbaf51774bc25e30f",
       "version_major": 2,
       "version_minor": 0
      },
      "text/plain": [
       "tokenizer_config.json:   0%|          | 0.00/252 [00:00<?, ?B/s]"
      ]
     },
     "metadata": {},
     "output_type": "display_data"
    },
    {
     "name": "stderr",
     "output_type": "stream",
     "text": [
      "/opt/conda/lib/python3.10/site-packages/huggingface_hub/file_download.py:1132: FutureWarning: `resume_download` is deprecated and will be removed in version 1.0.0. Downloads always resume when possible. If you want to force a new download, use `force_download=True`.\n",
      "  warnings.warn(\n"
     ]
    },
    {
     "data": {
      "application/vnd.jupyter.widget-view+json": {
       "model_id": "4309ba0287a84bacab7db15a8e329060",
       "version_major": 2,
       "version_minor": 0
      },
      "text/plain": [
       "config.json:   0%|          | 0.00/758 [00:00<?, ?B/s]"
      ]
     },
     "metadata": {},
     "output_type": "display_data"
    },
    {
     "data": {
      "application/vnd.jupyter.widget-view+json": {
       "model_id": "8f94401843444abcbf7add3103708133",
       "version_major": 2,
       "version_minor": 0
      },
      "text/plain": [
       "vocab.txt:   0%|          | 0.00/232k [00:00<?, ?B/s]"
      ]
     },
     "metadata": {},
     "output_type": "display_data"
    },
    {
     "data": {
      "application/vnd.jupyter.widget-view+json": {
       "model_id": "e7e22324fbbe4bb585e92cd0b7c68f97",
       "version_major": 2,
       "version_minor": 0
      },
      "text/plain": [
       "special_tokens_map.json:   0%|          | 0.00/112 [00:00<?, ?B/s]"
      ]
     },
     "metadata": {},
     "output_type": "display_data"
    }
   ],
   "source": [
    "from transformers import AutoTokenizer\n",
    "import numpy as np\n",
    "\n",
    "tokenizer = AutoTokenizer.from_pretrained(\"ProsusAI/finbert\")\n",
    "\n",
    "def preprocess_data(examples, max_length=128):\n",
    "  # take a batch of texts\n",
    "  text = examples['Content']\n",
    "  batch_size = len(text)\n",
    "  # encode them\n",
    "  encoding = tokenizer(text, padding=\"max_length\", truncation=True, max_length=max_length)\n",
    "  # add labels\n",
    "  labels_batch = {k: examples[k] for k in examples.keys() if k in labels}\n",
    "  # create numpy array of shape (batch_size, num_labels)\n",
    "  labels_matrix = np.zeros((len(text), len(labels)))\n",
    "  # fill numpy array\n",
    "  for idx, label in enumerate(labels):\n",
    "    labels_matrix[:, idx] = labels_batch[label]\n",
    "\n",
    "  encoding[\"labels\"] = labels_matrix.tolist()\n",
    "  \n",
    "  return encoding"
   ]
  },
  {
   "cell_type": "code",
   "execution_count": 38,
   "id": "5abb8033",
   "metadata": {
    "execution": {
     "iopub.execute_input": "2024-06-05T18:35:34.384624Z",
     "iopub.status.busy": "2024-06-05T18:35:34.383492Z",
     "iopub.status.idle": "2024-06-05T18:35:35.932313Z",
     "shell.execute_reply": "2024-06-05T18:35:35.931319Z"
    },
    "papermill": {
     "duration": 1.59322,
     "end_time": "2024-06-05T18:35:35.934262",
     "exception": false,
     "start_time": "2024-06-05T18:35:34.341042",
     "status": "completed"
    },
    "tags": []
   },
   "outputs": [
    {
     "data": {
      "application/vnd.jupyter.widget-view+json": {
       "model_id": "4486257f0c5841b6855591a3b780bf0f",
       "version_major": 2,
       "version_minor": 0
      },
      "text/plain": [
       "Map:   0%|          | 0/4463 [00:00<?, ? examples/s]"
      ]
     },
     "metadata": {},
     "output_type": "display_data"
    },
    {
     "data": {
      "application/vnd.jupyter.widget-view+json": {
       "model_id": "706589751aa64dfba5f429335295d2fd",
       "version_major": 2,
       "version_minor": 0
      },
      "text/plain": [
       "Map:   0%|          | 0/1281 [00:00<?, ? examples/s]"
      ]
     },
     "metadata": {},
     "output_type": "display_data"
    },
    {
     "data": {
      "application/vnd.jupyter.widget-view+json": {
       "model_id": "af375121d3054574b55db708e011964b",
       "version_major": 2,
       "version_minor": 0
      },
      "text/plain": [
       "Map:   0%|          | 0/632 [00:00<?, ? examples/s]"
      ]
     },
     "metadata": {},
     "output_type": "display_data"
    }
   ],
   "source": [
    "encoded_dataset = dataset.map(preprocess_data, batched=True, remove_columns=dataset['train'].column_names)"
   ]
  },
  {
   "cell_type": "code",
   "execution_count": 39,
   "id": "1fdd5ecb",
   "metadata": {
    "execution": {
     "iopub.execute_input": "2024-06-05T18:35:36.022176Z",
     "iopub.status.busy": "2024-06-05T18:35:36.021273Z",
     "iopub.status.idle": "2024-06-05T18:35:36.027744Z",
     "shell.execute_reply": "2024-06-05T18:35:36.026847Z"
    },
    "papermill": {
     "duration": 0.052381,
     "end_time": "2024-06-05T18:35:36.029522",
     "exception": false,
     "start_time": "2024-06-05T18:35:35.977141",
     "status": "completed"
    },
    "tags": []
   },
   "outputs": [
    {
     "data": {
      "text/plain": [
       "DatasetDict({\n",
       "    train: Dataset({\n",
       "        features: ['input_ids', 'token_type_ids', 'attention_mask', 'labels'],\n",
       "        num_rows: 4463\n",
       "    })\n",
       "    test: Dataset({\n",
       "        features: ['input_ids', 'token_type_ids', 'attention_mask', 'labels'],\n",
       "        num_rows: 1281\n",
       "    })\n",
       "    validation: Dataset({\n",
       "        features: ['input_ids', 'token_type_ids', 'attention_mask', 'labels'],\n",
       "        num_rows: 632\n",
       "    })\n",
       "})"
      ]
     },
     "execution_count": 39,
     "metadata": {},
     "output_type": "execute_result"
    }
   ],
   "source": [
    "encoded_dataset"
   ]
  },
  {
   "cell_type": "code",
   "execution_count": 40,
   "id": "a6879dd0",
   "metadata": {
    "execution": {
     "iopub.execute_input": "2024-06-05T18:35:36.116690Z",
     "iopub.status.busy": "2024-06-05T18:35:36.116322Z",
     "iopub.status.idle": "2024-06-05T18:35:36.122532Z",
     "shell.execute_reply": "2024-06-05T18:35:36.121618Z"
    },
    "papermill": {
     "duration": 0.052271,
     "end_time": "2024-06-05T18:35:36.124509",
     "exception": false,
     "start_time": "2024-06-05T18:35:36.072238",
     "status": "completed"
    },
    "tags": []
   },
   "outputs": [
    {
     "data": {
      "text/plain": [
       "Dataset({\n",
       "    features: ['input_ids', 'token_type_ids', 'attention_mask', 'labels'],\n",
       "    num_rows: 4463\n",
       "})"
      ]
     },
     "execution_count": 40,
     "metadata": {},
     "output_type": "execute_result"
    }
   ],
   "source": [
    "encoded_dataset['train']"
   ]
  },
  {
   "cell_type": "code",
   "execution_count": 41,
   "id": "a1ddbb53",
   "metadata": {
    "execution": {
     "iopub.execute_input": "2024-06-05T18:35:36.212963Z",
     "iopub.status.busy": "2024-06-05T18:35:36.212598Z",
     "iopub.status.idle": "2024-06-05T18:35:47.357863Z",
     "shell.execute_reply": "2024-06-05T18:35:47.356920Z"
    },
    "papermill": {
     "duration": 11.190814,
     "end_time": "2024-06-05T18:35:47.359850",
     "exception": false,
     "start_time": "2024-06-05T18:35:36.169036",
     "status": "completed"
    },
    "tags": []
   },
   "outputs": [
    {
     "name": "stderr",
     "output_type": "stream",
     "text": [
      "2024-06-05 18:35:37.907181: E external/local_xla/xla/stream_executor/cuda/cuda_dnn.cc:9261] Unable to register cuDNN factory: Attempting to register factory for plugin cuDNN when one has already been registered\n",
      "2024-06-05 18:35:37.907282: E external/local_xla/xla/stream_executor/cuda/cuda_fft.cc:607] Unable to register cuFFT factory: Attempting to register factory for plugin cuFFT when one has already been registered\n",
      "2024-06-05 18:35:38.027075: E external/local_xla/xla/stream_executor/cuda/cuda_blas.cc:1515] Unable to register cuBLAS factory: Attempting to register factory for plugin cuBLAS when one has already been registered\n"
     ]
    },
    {
     "data": {
      "text/plain": [
       "'[CLS] c the amount of interest accrued from and credited to the client s account for lending transactions both total and during the reporting period and [SEP] [PAD] [PAD] [PAD] [PAD] [PAD] [PAD] [PAD] [PAD] [PAD] [PAD] [PAD] [PAD] [PAD] [PAD] [PAD] [PAD] [PAD] [PAD] [PAD] [PAD] [PAD] [PAD] [PAD] [PAD] [PAD] [PAD] [PAD] [PAD] [PAD] [PAD] [PAD] [PAD] [PAD] [PAD] [PAD] [PAD] [PAD] [PAD] [PAD] [PAD] [PAD] [PAD] [PAD] [PAD] [PAD] [PAD] [PAD] [PAD] [PAD] [PAD] [PAD] [PAD] [PAD] [PAD] [PAD] [PAD] [PAD] [PAD] [PAD] [PAD] [PAD] [PAD] [PAD] [PAD] [PAD] [PAD] [PAD] [PAD] [PAD] [PAD] [PAD] [PAD] [PAD] [PAD] [PAD] [PAD] [PAD] [PAD] [PAD] [PAD] [PAD] [PAD] [PAD] [PAD] [PAD] [PAD] [PAD] [PAD] [PAD] [PAD] [PAD] [PAD] [PAD] [PAD] [PAD] [PAD] [PAD] [PAD] [PAD] [PAD]'"
      ]
     },
     "execution_count": 41,
     "metadata": {},
     "output_type": "execute_result"
    }
   ],
   "source": [
    "example = encoded_dataset['train'][0]\n",
    "tokenizer.decode(example['input_ids'])"
   ]
  },
  {
   "cell_type": "code",
   "execution_count": 42,
   "id": "d9a5d898",
   "metadata": {
    "execution": {
     "iopub.execute_input": "2024-06-05T18:35:47.454236Z",
     "iopub.status.busy": "2024-06-05T18:35:47.453219Z",
     "iopub.status.idle": "2024-06-05T18:35:47.457683Z",
     "shell.execute_reply": "2024-06-05T18:35:47.456742Z"
    },
    "papermill": {
     "duration": 0.050352,
     "end_time": "2024-06-05T18:35:47.459705",
     "exception": false,
     "start_time": "2024-06-05T18:35:47.409353",
     "status": "completed"
    },
    "tags": []
   },
   "outputs": [],
   "source": [
    "#example['labels']"
   ]
  },
  {
   "cell_type": "code",
   "execution_count": 43,
   "id": "1848fad9",
   "metadata": {
    "execution": {
     "iopub.execute_input": "2024-06-05T18:35:47.547405Z",
     "iopub.status.busy": "2024-06-05T18:35:47.546699Z",
     "iopub.status.idle": "2024-06-05T18:35:47.553134Z",
     "shell.execute_reply": "2024-06-05T18:35:47.552101Z"
    },
    "papermill": {
     "duration": 0.052219,
     "end_time": "2024-06-05T18:35:47.555239",
     "exception": false,
     "start_time": "2024-06-05T18:35:47.503020",
     "status": "completed"
    },
    "tags": []
   },
   "outputs": [],
   "source": [
    "#use id to label dictionary\n",
    "[id2label[idx] for idx, label in enumerate(example['labels']) if label == 1.0]\n",
    "encoded_dataset.set_format(\"torch\") "
   ]
  },
  {
   "cell_type": "markdown",
   "id": "f79444ea",
   "metadata": {
    "papermill": {
     "duration": 0.04227,
     "end_time": "2024-06-05T18:35:47.640250",
     "exception": false,
     "start_time": "2024-06-05T18:35:47.597980",
     "status": "completed"
    },
    "tags": []
   },
   "source": [
    "### Here we define a model that includes a pre-trained base (i.e. the weights from bert-base-uncased) are loaded, with a random initialized classification head (linear layer) on top. One should fine-tune this head, together with the pre-trained base on a labeled dataset.\n",
    "\n",
    "### We set the problem_type to be \"multi_label_classification\", as this will make sure the appropriate loss function is used (namely BCEWithLogitsLoss). We also make sure the output layer has len(labels) output neurons, and we set the id2label and label2id mappings"
   ]
  },
  {
   "cell_type": "code",
   "execution_count": 44,
   "id": "b1e73176",
   "metadata": {
    "execution": {
     "iopub.execute_input": "2024-06-05T18:35:47.726983Z",
     "iopub.status.busy": "2024-06-05T18:35:47.726239Z",
     "iopub.status.idle": "2024-06-05T18:35:52.662344Z",
     "shell.execute_reply": "2024-06-05T18:35:52.661333Z"
    },
    "papermill": {
     "duration": 4.981787,
     "end_time": "2024-06-05T18:35:52.664692",
     "exception": false,
     "start_time": "2024-06-05T18:35:47.682905",
     "status": "completed"
    },
    "tags": []
   },
   "outputs": [
    {
     "data": {
      "application/vnd.jupyter.widget-view+json": {
       "model_id": "bd82b285d2b94c099f4f235a3d950700",
       "version_major": 2,
       "version_minor": 0
      },
      "text/plain": [
       "pytorch_model.bin:   0%|          | 0.00/438M [00:00<?, ?B/s]"
      ]
     },
     "metadata": {},
     "output_type": "display_data"
    },
    {
     "name": "stderr",
     "output_type": "stream",
     "text": [
      "/opt/conda/lib/python3.10/site-packages/torch/_utils.py:831: UserWarning: TypedStorage is deprecated. It will be removed in the future and UntypedStorage will be the only storage class. This should only matter to you if you are using storages directly.  To access UntypedStorage directly, use tensor.untyped_storage() instead of tensor.storage()\n",
      "  return self.fget.__get__(instance, owner)()\n",
      "Some weights of BertForSequenceClassification were not initialized from the model checkpoint at ProsusAI/finbert and are newly initialized because the shapes did not match:\n",
      "- classifier.weight: found shape torch.Size([3, 768]) in the checkpoint and torch.Size([55, 768]) in the model instantiated\n",
      "- classifier.bias: found shape torch.Size([3]) in the checkpoint and torch.Size([55]) in the model instantiated\n",
      "You should probably TRAIN this model on a down-stream task to be able to use it for predictions and inference.\n"
     ]
    }
   ],
   "source": [
    "from transformers import AutoModelForSequenceClassification\n",
    "\n",
    "model = AutoModelForSequenceClassification.from_pretrained(\"ProsusAI/finbert\", \n",
    "                                                           problem_type=\"multi_label_classification\", \n",
    "                                                           num_labels=len(labels),\n",
    "                                                           id2label=id2label,\n",
    "                                                           label2id=label2id,\n",
    "                                                          ignore_mismatched_sizes=True )"
   ]
  },
  {
   "cell_type": "code",
   "execution_count": 45,
   "id": "41d2b8f7",
   "metadata": {
    "execution": {
     "iopub.execute_input": "2024-06-05T18:35:52.754740Z",
     "iopub.status.busy": "2024-06-05T18:35:52.753885Z",
     "iopub.status.idle": "2024-06-05T18:35:52.758261Z",
     "shell.execute_reply": "2024-06-05T18:35:52.757375Z"
    },
    "papermill": {
     "duration": 0.051937,
     "end_time": "2024-06-05T18:35:52.760192",
     "exception": false,
     "start_time": "2024-06-05T18:35:52.708255",
     "status": "completed"
    },
    "tags": []
   },
   "outputs": [],
   "source": [
    "batch_size = 16\n",
    "metric_name = \"f1\""
   ]
  },
  {
   "cell_type": "code",
   "execution_count": 46,
   "id": "a32904ff",
   "metadata": {
    "execution": {
     "iopub.execute_input": "2024-06-05T18:35:52.848432Z",
     "iopub.status.busy": "2024-06-05T18:35:52.848098Z",
     "iopub.status.idle": "2024-06-05T18:35:53.019923Z",
     "shell.execute_reply": "2024-06-05T18:35:53.018948Z"
    },
    "papermill": {
     "duration": 0.218417,
     "end_time": "2024-06-05T18:35:53.022081",
     "exception": false,
     "start_time": "2024-06-05T18:35:52.803664",
     "status": "completed"
    },
    "tags": []
   },
   "outputs": [
    {
     "name": "stderr",
     "output_type": "stream",
     "text": [
      "/opt/conda/lib/python3.10/site-packages/transformers/training_args.py:1474: FutureWarning: `evaluation_strategy` is deprecated and will be removed in version 4.46 of 🤗 Transformers. Use `eval_strategy` instead\n",
      "  warnings.warn(\n"
     ]
    }
   ],
   "source": [
    "from transformers import TrainingArguments, Trainer\n",
    "\n",
    "args = TrainingArguments(\n",
    "    f\"bert-finetuned-sem_eval-english\",\n",
    "    evaluation_strategy = \"epoch\",\n",
    "    save_strategy = \"epoch\",\n",
    "    learning_rate=1e-4,\n",
    "    per_device_train_batch_size=batch_size,\n",
    "    per_device_eval_batch_size=batch_size,\n",
    "    num_train_epochs=15,\n",
    "    weight_decay=0.01,\n",
    "    load_best_model_at_end=True,\n",
    "    metric_for_best_model=metric_name\n",
    ")"
   ]
  },
  {
   "cell_type": "markdown",
   "id": "8b61cf50",
   "metadata": {
    "papermill": {
     "duration": 0.043108,
     "end_time": "2024-06-05T18:35:53.109114",
     "exception": false,
     "start_time": "2024-06-05T18:35:53.066006",
     "status": "completed"
    },
    "tags": []
   },
   "source": [
    "we need to define a compute_metrics function, that returns a dictionary with the desired metric values.\n",
    "\n",
    "source: https://jesusleal.io/2021/04/21/Longformer-multilabel-classification/"
   ]
  },
  {
   "cell_type": "markdown",
   "id": "3bd2b7ce",
   "metadata": {
    "papermill": {
     "duration": 0.043833,
     "end_time": "2024-06-05T18:35:53.196955",
     "exception": false,
     "start_time": "2024-06-05T18:35:53.153122",
     "status": "completed"
    },
    "tags": []
   },
   "source": [
    "# 1. F1 Score\n",
    "The F1 score is the harmonic mean of precision and recall. It provides a single metric that balances both the precision and recall, making it useful for evaluating models where you need to balance the two, especially in the presence of imbalanced classes.\n",
    "\n",
    "Precision: The ratio of true positive predictions to the total number of positive predictions (true positives + false positives). It measures the accuracy of the positive predictions.\n",
    "Recall: The ratio of true positive predictions to the total number of actual positives (true positives + false negatives). It measures the ability to capture all relevant instances.\n",
    "The formula for the F1 score is:\n",
    "F1 score\n",
    "=\n",
    "2\n",
    "×\n",
    "(\n",
    "Precision\n",
    "×\n",
    "Recall\n",
    "Precision\n",
    "+\n",
    "Recall\n",
    ")\n",
    "F1 score=2×( \n",
    "Precision+Recall\n",
    "Precision×Recall\n",
    "​\n",
    " )\n",
    "\n",
    "# 2. ROC AUC Score\n",
    "The ROC AUC (Receiver Operating Characteristic Area Under Curve) score is a metric used to evaluate the performance of a binary classifier. It measures the ability of the classifier to distinguish between classes.\n",
    "\n",
    "ROC Curve: A plot of the true positive rate (recall) against the false positive rate (1-specificity) at various threshold settings.\n",
    "AUC: The area under the ROC curve. A higher AUC indicates better performance, with a score of 1 representing a perfect classifier and a score of 0.5 representing a random classifier.\n",
    "\n",
    "# 3. Accuracy Score\n",
    "Accuracy is the ratio of correctly predicted instances to the total instances. It is the most intuitive performance measure, but it can be misleading when dealing with imbalanced datasets.\n",
    "\n",
    "The formula for accuracy is:\n",
    "Accuracy\n",
    "=\n",
    "Number of Correct Predictions\n",
    "Total Number of Predictions\n",
    "Accuracy= \n",
    "Total Number of Predictions\n",
    "Number of Correct Predictions\n",
    "\n"
   ]
  },
  {
   "cell_type": "code",
   "execution_count": 47,
   "id": "3932d4c6",
   "metadata": {
    "execution": {
     "iopub.execute_input": "2024-06-05T18:35:53.286000Z",
     "iopub.status.busy": "2024-06-05T18:35:53.285219Z",
     "iopub.status.idle": "2024-06-05T18:35:53.293486Z",
     "shell.execute_reply": "2024-06-05T18:35:53.292636Z"
    },
    "papermill": {
     "duration": 0.055091,
     "end_time": "2024-06-05T18:35:53.295516",
     "exception": false,
     "start_time": "2024-06-05T18:35:53.240425",
     "status": "completed"
    },
    "tags": []
   },
   "outputs": [],
   "source": [
    "from sklearn.metrics import f1_score, roc_auc_score, accuracy_score\n",
    "from transformers import EvalPrediction\n",
    "import torch\n",
    "    \n",
    "\n",
    "def multi_label_metrics(predictions, labels, threshold=0.5):\n",
    "    # first, apply sigmoid on predictions which are of shape (batch_size, num_labels)\n",
    "    sigmoid = torch.nn.Sigmoid()\n",
    "    probs = sigmoid(torch.Tensor(predictions))\n",
    "    # next, use threshold to turn them into integer predictions\n",
    "    y_pred = np.zeros(probs.shape)\n",
    "    y_pred[np.where(probs >= threshold)] = 1\n",
    "    # finally, compute metrics\n",
    "    y_true = labels\n",
    "    f1_micro_average = f1_score(y_true=y_true, y_pred=y_pred, average='micro')\n",
    "    roc_auc = roc_auc_score(y_true, y_pred, average = 'micro')\n",
    "    accuracy = accuracy_score(y_true, y_pred)\n",
    "    # return as dictionary\n",
    "    metrics = {'f1': f1_micro_average,\n",
    "               'roc_auc': roc_auc,\n",
    "               'accuracy': accuracy}\n",
    "    return metrics\n",
    "\n",
    "def compute_metrics(p: EvalPrediction):\n",
    "    preds = p.predictions[0] if isinstance(p.predictions, tuple) else p.predictions\n",
    "    result = multi_label_metrics(predictions=preds,labels=p.label_ids)\n",
    "    return result\n",
    "  \n",
    "   \n"
   ]
  },
  {
   "cell_type": "code",
   "execution_count": 48,
   "id": "e11d4111",
   "metadata": {
    "execution": {
     "iopub.execute_input": "2024-06-05T18:35:53.386693Z",
     "iopub.status.busy": "2024-06-05T18:35:53.386009Z",
     "iopub.status.idle": "2024-06-05T18:35:53.399184Z",
     "shell.execute_reply": "2024-06-05T18:35:53.398292Z"
    },
    "papermill": {
     "duration": 0.062228,
     "end_time": "2024-06-05T18:35:53.401068",
     "exception": false,
     "start_time": "2024-06-05T18:35:53.338840",
     "status": "completed"
    },
    "tags": []
   },
   "outputs": [
    {
     "data": {
      "text/plain": [
       "'torch.FloatTensor'"
      ]
     },
     "execution_count": 48,
     "metadata": {},
     "output_type": "execute_result"
    }
   ],
   "source": [
    "encoded_dataset['train'][0]['labels'].type()"
   ]
  },
  {
   "cell_type": "code",
   "execution_count": 49,
   "id": "4eba50c3",
   "metadata": {
    "execution": {
     "iopub.execute_input": "2024-06-05T18:35:53.491246Z",
     "iopub.status.busy": "2024-06-05T18:35:53.490866Z",
     "iopub.status.idle": "2024-06-05T18:35:53.511110Z",
     "shell.execute_reply": "2024-06-05T18:35:53.510201Z"
    },
    "papermill": {
     "duration": 0.067719,
     "end_time": "2024-06-05T18:35:53.513427",
     "exception": false,
     "start_time": "2024-06-05T18:35:53.445708",
     "status": "completed"
    },
    "tags": []
   },
   "outputs": [
    {
     "data": {
      "text/plain": [
       "tensor([  101,  1039,  1996,  3815,  1997,  3037, 16222, 28551,  2013,  1998,\n",
       "         5827,  2000,  1996,  7396,  1055,  4070,  2005, 18435, 11817,  2119,\n",
       "         2561,  1998,  2076,  1996,  7316,  2558,  1998,   102,     0,     0,\n",
       "            0,     0,     0,     0,     0,     0,     0,     0,     0,     0,\n",
       "            0,     0,     0,     0,     0,     0,     0,     0,     0,     0,\n",
       "            0,     0,     0,     0,     0,     0,     0,     0,     0,     0,\n",
       "            0,     0,     0,     0,     0,     0,     0,     0,     0,     0,\n",
       "            0,     0,     0,     0,     0,     0,     0,     0,     0,     0,\n",
       "            0,     0,     0,     0,     0,     0,     0,     0,     0,     0,\n",
       "            0,     0,     0,     0,     0,     0,     0,     0,     0,     0,\n",
       "            0,     0,     0,     0,     0,     0,     0,     0,     0,     0,\n",
       "            0,     0,     0,     0,     0,     0,     0,     0,     0,     0,\n",
       "            0,     0,     0,     0,     0,     0,     0,     0])"
      ]
     },
     "execution_count": 49,
     "metadata": {},
     "output_type": "execute_result"
    }
   ],
   "source": [
    "encoded_dataset['train']['input_ids'][0]"
   ]
  },
  {
   "cell_type": "code",
   "execution_count": 50,
   "id": "9726b1b2",
   "metadata": {
    "execution": {
     "iopub.execute_input": "2024-06-05T18:35:53.603168Z",
     "iopub.status.busy": "2024-06-05T18:35:53.602800Z",
     "iopub.status.idle": "2024-06-05T18:35:53.606967Z",
     "shell.execute_reply": "2024-06-05T18:35:53.606165Z"
    },
    "papermill": {
     "duration": 0.050789,
     "end_time": "2024-06-05T18:35:53.608879",
     "exception": false,
     "start_time": "2024-06-05T18:35:53.558090",
     "status": "completed"
    },
    "tags": []
   },
   "outputs": [],
   "source": [
    "# #forward pass\n",
    "# #, attention_mask=attention_mask\n",
    "# outputs = model(input_ids=encoded_dataset['train']['input_ids'][0].unsqueeze(0), labels=encoded_dataset['train'][0]['labels'].unsqueeze(0))\n",
    "# outputs"
   ]
  },
  {
   "cell_type": "code",
   "execution_count": 51,
   "id": "0e809b03",
   "metadata": {
    "execution": {
     "iopub.execute_input": "2024-06-05T18:35:53.697881Z",
     "iopub.status.busy": "2024-06-05T18:35:53.697185Z",
     "iopub.status.idle": "2024-06-05T18:35:53.701444Z",
     "shell.execute_reply": "2024-06-05T18:35:53.700625Z"
    },
    "papermill": {
     "duration": 0.050962,
     "end_time": "2024-06-05T18:35:53.703483",
     "exception": false,
     "start_time": "2024-06-05T18:35:53.652521",
     "status": "completed"
    },
    "tags": []
   },
   "outputs": [],
   "source": [
    "from transformers import AutoModelForSequenceClassification, Trainer"
   ]
  },
  {
   "cell_type": "code",
   "execution_count": 52,
   "id": "c00ce794",
   "metadata": {
    "execution": {
     "iopub.execute_input": "2024-06-05T18:35:53.792382Z",
     "iopub.status.busy": "2024-06-05T18:35:53.791536Z",
     "iopub.status.idle": "2024-06-05T18:35:54.021213Z",
     "shell.execute_reply": "2024-06-05T18:35:54.020419Z"
    },
    "papermill": {
     "duration": 0.276241,
     "end_time": "2024-06-05T18:35:54.023511",
     "exception": false,
     "start_time": "2024-06-05T18:35:53.747270",
     "status": "completed"
    },
    "tags": []
   },
   "outputs": [],
   "source": [
    "\n",
    "from kaggle_secrets import UserSecretsClient\n",
    "user_secrets = UserSecretsClient()\n",
    "secret_value_0 = user_secrets.get_secret(\"WANDB_API_KEY\")\n"
   ]
  },
  {
   "cell_type": "code",
   "execution_count": 53,
   "id": "9ee225c5",
   "metadata": {
    "execution": {
     "iopub.execute_input": "2024-06-05T18:35:54.113447Z",
     "iopub.status.busy": "2024-06-05T18:35:54.112427Z",
     "iopub.status.idle": "2024-06-05T18:35:54.117128Z",
     "shell.execute_reply": "2024-06-05T18:35:54.116226Z"
    },
    "papermill": {
     "duration": 0.05108,
     "end_time": "2024-06-05T18:35:54.118990",
     "exception": false,
     "start_time": "2024-06-05T18:35:54.067910",
     "status": "completed"
    },
    "tags": []
   },
   "outputs": [],
   "source": [
    "import os\n",
    "os.environ['WANDB_API_KEY'] =\"313a57558bcaee784e68d1654f7915a0b463a341\""
   ]
  },
  {
   "cell_type": "code",
   "execution_count": 54,
   "id": "5d15c64b",
   "metadata": {
    "execution": {
     "iopub.execute_input": "2024-06-05T18:35:54.207444Z",
     "iopub.status.busy": "2024-06-05T18:35:54.207087Z",
     "iopub.status.idle": "2024-06-05T18:35:55.129774Z",
     "shell.execute_reply": "2024-06-05T18:35:55.128869Z"
    },
    "papermill": {
     "duration": 0.969436,
     "end_time": "2024-06-05T18:35:55.132074",
     "exception": false,
     "start_time": "2024-06-05T18:35:54.162638",
     "status": "completed"
    },
    "tags": []
   },
   "outputs": [],
   "source": [
    "trainer = Trainer(\n",
    "    model,\n",
    "    args,\n",
    "    train_dataset=encoded_dataset[\"train\"],\n",
    "    eval_dataset=encoded_dataset[\"validation\"],\n",
    "    tokenizer=tokenizer,\n",
    "    compute_metrics=compute_metrics,\n",
    "\n",
    ")"
   ]
  },
  {
   "cell_type": "code",
   "execution_count": 55,
   "id": "a712e6b6",
   "metadata": {
    "execution": {
     "iopub.execute_input": "2024-06-05T18:35:55.242235Z",
     "iopub.status.busy": "2024-06-05T18:35:55.241308Z",
     "iopub.status.idle": "2024-06-05T18:52:18.081267Z",
     "shell.execute_reply": "2024-06-05T18:52:18.080135Z"
    },
    "papermill": {
     "duration": 982.908211,
     "end_time": "2024-06-05T18:52:18.090884",
     "exception": false,
     "start_time": "2024-06-05T18:35:55.182673",
     "status": "completed"
    },
    "tags": []
   },
   "outputs": [
    {
     "name": "stderr",
     "output_type": "stream",
     "text": [
      "\u001b[34m\u001b[1mwandb\u001b[0m: \u001b[33mWARNING\u001b[0m The `run_name` is currently set to the same value as `TrainingArguments.output_dir`. If this was not intended, please specify a different run name by setting the `TrainingArguments.run_name` parameter.\n",
      "\u001b[34m\u001b[1mwandb\u001b[0m: Currently logged in as: \u001b[33manshtanwar007\u001b[0m (\u001b[33manshta\u001b[0m). Use \u001b[1m`wandb login --relogin`\u001b[0m to force relogin\n",
      "\u001b[34m\u001b[1mwandb\u001b[0m: Tracking run with wandb version 0.17.0\n",
      "\u001b[34m\u001b[1mwandb\u001b[0m: Run data is saved locally in \u001b[35m\u001b[1m/kaggle/working/wandb/run-20240605_183556-lq50x67t\u001b[0m\n",
      "\u001b[34m\u001b[1mwandb\u001b[0m: Run \u001b[1m`wandb offline`\u001b[0m to turn off syncing.\n",
      "\u001b[34m\u001b[1mwandb\u001b[0m: Syncing run \u001b[33mbert-finetuned-sem_eval-english\u001b[0m\n",
      "\u001b[34m\u001b[1mwandb\u001b[0m: ⭐️ View project at \u001b[34m\u001b[4mhttps://wandb.ai/anshta/huggingface\u001b[0m\n",
      "\u001b[34m\u001b[1mwandb\u001b[0m: 🚀 View run at \u001b[34m\u001b[4mhttps://wandb.ai/anshta/huggingface/runs/lq50x67t\u001b[0m\n"
     ]
    },
    {
     "data": {
      "text/html": [
       "\n",
       "    <div>\n",
       "      \n",
       "      <progress value='4185' max='4185' style='width:300px; height:20px; vertical-align: middle;'></progress>\n",
       "      [4185/4185 16:03, Epoch 15/15]\n",
       "    </div>\n",
       "    <table border=\"1\" class=\"dataframe\">\n",
       "  <thead>\n",
       " <tr style=\"text-align: left;\">\n",
       "      <th>Epoch</th>\n",
       "      <th>Training Loss</th>\n",
       "      <th>Validation Loss</th>\n",
       "      <th>F1</th>\n",
       "      <th>Roc Auc</th>\n",
       "      <th>Accuracy</th>\n",
       "    </tr>\n",
       "  </thead>\n",
       "  <tbody>\n",
       "    <tr>\n",
       "      <td>1</td>\n",
       "      <td>No log</td>\n",
       "      <td>0.152169</td>\n",
       "      <td>0.307380</td>\n",
       "      <td>0.596594</td>\n",
       "      <td>0.014241</td>\n",
       "    </tr>\n",
       "    <tr>\n",
       "      <td>2</td>\n",
       "      <td>0.173000</td>\n",
       "      <td>0.104969</td>\n",
       "      <td>0.609391</td>\n",
       "      <td>0.728175</td>\n",
       "      <td>0.204114</td>\n",
       "    </tr>\n",
       "    <tr>\n",
       "      <td>3</td>\n",
       "      <td>0.173000</td>\n",
       "      <td>0.076729</td>\n",
       "      <td>0.749615</td>\n",
       "      <td>0.817064</td>\n",
       "      <td>0.368671</td>\n",
       "    </tr>\n",
       "    <tr>\n",
       "      <td>4</td>\n",
       "      <td>0.084600</td>\n",
       "      <td>0.065295</td>\n",
       "      <td>0.814751</td>\n",
       "      <td>0.868277</td>\n",
       "      <td>0.501582</td>\n",
       "    </tr>\n",
       "    <tr>\n",
       "      <td>5</td>\n",
       "      <td>0.084600</td>\n",
       "      <td>0.059849</td>\n",
       "      <td>0.854007</td>\n",
       "      <td>0.905017</td>\n",
       "      <td>0.588608</td>\n",
       "    </tr>\n",
       "    <tr>\n",
       "      <td>6</td>\n",
       "      <td>0.049500</td>\n",
       "      <td>0.055630</td>\n",
       "      <td>0.834768</td>\n",
       "      <td>0.890976</td>\n",
       "      <td>0.526899</td>\n",
       "    </tr>\n",
       "    <tr>\n",
       "      <td>7</td>\n",
       "      <td>0.049500</td>\n",
       "      <td>0.051750</td>\n",
       "      <td>0.865844</td>\n",
       "      <td>0.911102</td>\n",
       "      <td>0.609177</td>\n",
       "    </tr>\n",
       "    <tr>\n",
       "      <td>8</td>\n",
       "      <td>0.032000</td>\n",
       "      <td>0.048912</td>\n",
       "      <td>0.880585</td>\n",
       "      <td>0.923681</td>\n",
       "      <td>0.653481</td>\n",
       "    </tr>\n",
       "    <tr>\n",
       "      <td>9</td>\n",
       "      <td>0.021700</td>\n",
       "      <td>0.049871</td>\n",
       "      <td>0.878115</td>\n",
       "      <td>0.922310</td>\n",
       "      <td>0.651899</td>\n",
       "    </tr>\n",
       "    <tr>\n",
       "      <td>10</td>\n",
       "      <td>0.021700</td>\n",
       "      <td>0.050741</td>\n",
       "      <td>0.879026</td>\n",
       "      <td>0.923096</td>\n",
       "      <td>0.658228</td>\n",
       "    </tr>\n",
       "    <tr>\n",
       "      <td>11</td>\n",
       "      <td>0.015700</td>\n",
       "      <td>0.050888</td>\n",
       "      <td>0.881457</td>\n",
       "      <td>0.922523</td>\n",
       "      <td>0.656646</td>\n",
       "    </tr>\n",
       "    <tr>\n",
       "      <td>12</td>\n",
       "      <td>0.015700</td>\n",
       "      <td>0.049973</td>\n",
       "      <td>0.882464</td>\n",
       "      <td>0.925500</td>\n",
       "      <td>0.655063</td>\n",
       "    </tr>\n",
       "    <tr>\n",
       "      <td>13</td>\n",
       "      <td>0.012700</td>\n",
       "      <td>0.050229</td>\n",
       "      <td>0.885335</td>\n",
       "      <td>0.925682</td>\n",
       "      <td>0.674051</td>\n",
       "    </tr>\n",
       "    <tr>\n",
       "      <td>14</td>\n",
       "      <td>0.012700</td>\n",
       "      <td>0.050522</td>\n",
       "      <td>0.882512</td>\n",
       "      <td>0.924775</td>\n",
       "      <td>0.664557</td>\n",
       "    </tr>\n",
       "    <tr>\n",
       "      <td>15</td>\n",
       "      <td>0.011000</td>\n",
       "      <td>0.050693</td>\n",
       "      <td>0.883039</td>\n",
       "      <td>0.924080</td>\n",
       "      <td>0.666139</td>\n",
       "    </tr>\n",
       "  </tbody>\n",
       "</table><p>"
      ],
      "text/plain": [
       "<IPython.core.display.HTML object>"
      ]
     },
     "metadata": {},
     "output_type": "display_data"
    },
    {
     "data": {
      "text/plain": [
       "TrainOutput(global_step=4185, training_loss=0.04827052176782022, metrics={'train_runtime': 982.4923, 'train_samples_per_second': 68.138, 'train_steps_per_second': 4.26, 'total_flos': 4405587870885120.0, 'train_loss': 0.04827052176782022, 'epoch': 15.0})"
      ]
     },
     "execution_count": 55,
     "metadata": {},
     "output_type": "execute_result"
    }
   ],
   "source": [
    "trainer.train()"
   ]
  },
  {
   "cell_type": "code",
   "execution_count": 56,
   "id": "965cc44e",
   "metadata": {
    "execution": {
     "iopub.execute_input": "2024-06-05T18:52:18.181728Z",
     "iopub.status.busy": "2024-06-05T18:52:18.180975Z",
     "iopub.status.idle": "2024-06-05T18:52:20.690740Z",
     "shell.execute_reply": "2024-06-05T18:52:20.689802Z"
    },
    "papermill": {
     "duration": 2.55748,
     "end_time": "2024-06-05T18:52:20.693136",
     "exception": false,
     "start_time": "2024-06-05T18:52:18.135656",
     "status": "completed"
    },
    "tags": []
   },
   "outputs": [
    {
     "data": {
      "text/html": [
       "\n",
       "    <div>\n",
       "      \n",
       "      <progress value='40' max='40' style='width:300px; height:20px; vertical-align: middle;'></progress>\n",
       "      [40/40 00:02]\n",
       "    </div>\n",
       "    "
      ],
      "text/plain": [
       "<IPython.core.display.HTML object>"
      ]
     },
     "metadata": {},
     "output_type": "display_data"
    },
    {
     "data": {
      "text/plain": [
       "{'eval_loss': 0.050228655338287354,\n",
       " 'eval_f1': 0.8853347790729195,\n",
       " 'eval_roc_auc': 0.9256824839997744,\n",
       " 'eval_accuracy': 0.6740506329113924,\n",
       " 'eval_runtime': 2.4972,\n",
       " 'eval_samples_per_second': 253.086,\n",
       " 'eval_steps_per_second': 16.018,\n",
       " 'epoch': 15.0}"
      ]
     },
     "execution_count": 56,
     "metadata": {},
     "output_type": "execute_result"
    }
   ],
   "source": [
    "trainer.evaluate()"
   ]
  },
  {
   "cell_type": "markdown",
   "id": "5fcc93e6",
   "metadata": {
    "papermill": {
     "duration": 0.04806,
     "end_time": "2024-06-05T18:52:20.787710",
     "exception": false,
     "start_time": "2024-06-05T18:52:20.739650",
     "status": "completed"
    },
    "tags": []
   },
   "source": [
    "# Inference\n",
    "add Codeadd Markdown\n",
    "The logits that come out of the model are of shape (batch_size, num_labels). As we are only forwarding a single sentence through the model, the batch_size equals 1.\n",
    "\n",
    "The logits is a tensor that contains the (unnormalized) scores for every individual label.\n",
    "\n",
    "The logits that come out of the model are of shape (batch_size, num_labels). As we are only forwarding a single sentence through the model, the batch_size equals 1.\n",
    "\n",
    "The logits is a tensor that contains the (unnormalized) scores for every individual label."
   ]
  },
  {
   "cell_type": "code",
   "execution_count": 57,
   "id": "8ba35994",
   "metadata": {
    "execution": {
     "iopub.execute_input": "2024-06-05T18:52:20.881377Z",
     "iopub.status.busy": "2024-06-05T18:52:20.880640Z",
     "iopub.status.idle": "2024-06-05T18:52:20.887992Z",
     "shell.execute_reply": "2024-06-05T18:52:20.887084Z"
    },
    "papermill": {
     "duration": 0.056713,
     "end_time": "2024-06-05T18:52:20.889977",
     "exception": false,
     "start_time": "2024-06-05T18:52:20.833264",
     "status": "completed"
    },
    "tags": []
   },
   "outputs": [],
   "source": [
    "def get_answer(text):\n",
    "    \n",
    "    encoding = tokenizer(text, return_tensors=\"pt\")\n",
    "    encoding = {k: v.to(trainer.model.device) for k,v in encoding.items()}\n",
    "    outputs = trainer.model(**encoding)\n",
    "    logits = outputs.logits\n",
    "    #print(logits.shape)\n",
    "    \n",
    "    # apply sigmoid + threshold\n",
    "    sigmoid = torch.nn.Sigmoid()\n",
    "    probs = sigmoid(logits.squeeze().cpu())\n",
    "    #print(probs)\n",
    "    predictions = np.zeros(probs.shape)\n",
    "    predictions[np.where(probs >= 0.3)] = 1\n",
    "    #print(predictions)\n",
    "    #predicted_labels = [id2label[idx] for idx, label in enumerate(predictions) if label == 1.0]\n",
    "    predicted_labels = {id2label[idx]: prob.item() for idx, prob in enumerate(probs) if predictions[idx] == 1}\n",
    "    \n",
    "    print()\n",
    "    return predicted_labels\n"
   ]
  },
  {
   "cell_type": "code",
   "execution_count": 58,
   "id": "0e8942e8",
   "metadata": {
    "execution": {
     "iopub.execute_input": "2024-06-05T18:52:20.983003Z",
     "iopub.status.busy": "2024-06-05T18:52:20.982330Z",
     "iopub.status.idle": "2024-06-05T18:52:21.041428Z",
     "shell.execute_reply": "2024-06-05T18:52:21.040497Z"
    },
    "papermill": {
     "duration": 0.108421,
     "end_time": "2024-06-05T18:52:21.043427",
     "exception": false,
     "start_time": "2024-06-05T18:52:20.935006",
     "status": "completed"
    },
    "tags": []
   },
   "outputs": [
    {
     "name": "stdout",
     "output_type": "stream",
     "text": [
      "\n"
     ]
    },
    {
     "data": {
      "text/plain": [
       "{'license': 0.9844382405281067,\n",
       " 'aml': 0.988938570022583,\n",
       " 'regulator': 0.5525399446487427,\n",
       " 'virtual assets': 0.9842027425765991,\n",
       " 'compliance': 0.4846854507923126,\n",
       " 'cft': 0.9842115044593811}"
      ]
     },
     "execution_count": 58,
     "metadata": {},
     "output_type": "execute_result"
    }
   ],
   "source": [
    "text = \"The new licensing regime for centralised virtual asset trading platforms under the Anti-MoneyLaundering and Counter-Terrorist Financing Ordinance (Cap. 615) (AMLO) will come intoeffect on 1 June 2023. Under the new regime, centralised virtual asset trading platformsoperating in Hong Kong will need to apply to the Securities and Futures Commission (SFC)for a licence under the Securities and Futures Ordinance (Cap 571) (SFO) and/or the AMLO(Dual Licence Arrangement)\"\n",
    "get_answer(text)"
   ]
  },
  {
   "cell_type": "code",
   "execution_count": 59,
   "id": "751e739e",
   "metadata": {
    "execution": {
     "iopub.execute_input": "2024-06-05T18:52:21.136285Z",
     "iopub.status.busy": "2024-06-05T18:52:21.135935Z",
     "iopub.status.idle": "2024-06-05T18:52:21.141548Z",
     "shell.execute_reply": "2024-06-05T18:52:21.140722Z"
    },
    "papermill": {
     "duration": 0.05332,
     "end_time": "2024-06-05T18:52:21.143310",
     "exception": false,
     "start_time": "2024-06-05T18:52:21.089990",
     "status": "completed"
    },
    "tags": []
   },
   "outputs": [
    {
     "data": {
      "text/plain": [
       "(10, 2)"
      ]
     },
     "execution_count": 59,
     "metadata": {},
     "output_type": "execute_result"
    }
   ],
   "source": [
    "testing_df.shape"
   ]
  },
  {
   "cell_type": "code",
   "execution_count": 60,
   "id": "29c34e21",
   "metadata": {
    "execution": {
     "iopub.execute_input": "2024-06-05T18:52:21.233665Z",
     "iopub.status.busy": "2024-06-05T18:52:21.233088Z",
     "iopub.status.idle": "2024-06-05T18:52:21.371258Z",
     "shell.execute_reply": "2024-06-05T18:52:21.369283Z"
    },
    "papermill": {
     "duration": 0.185296,
     "end_time": "2024-06-05T18:52:21.373274",
     "exception": false,
     "start_time": "2024-06-05T18:52:21.187978",
     "status": "completed"
    },
    "tags": []
   },
   "outputs": [
    {
     "name": "stdout",
     "output_type": "stream",
     "text": [
      "\n",
      "for the purpose of matters reportable by auditors under sections 53zsd4ai and 53zsd4bi of the amlo such matters are \n",
      "\n",
      "Predicted Labels: {'aml': 0.9713087677955627, 'reporting': 0.740779459476471, 'audit': 0.8654091954231262}\n",
      "Actual Labels: []\n",
      "________________________________________________________________________________\n",
      "\n",
      "it may be used for storing the value of an amount of money that i is paid into the facility from time to time and ii may be stored on the facility under the rules of the facility and \n",
      "\n",
      "Predicted Labels: {'rules': 0.9895932674407959}\n",
      "Actual Labels: []\n",
      "________________________________________________________________________________\n",
      "\n",
      "while an fi usually can identify who the beneficial owner of a customer is in the course of understanding the ownership and control structure of the customer the fi may obtain an undertaking or declarationfn28 from the customer on the identity of and the information relating to its beneficial owner when identifying a beneficial owner the fi should \n",
      "\n",
      "Predicted Labels: {'client': 0.9928897619247437, 'identity': 0.8935776948928833, 'beneficiary information': 0.973251223564148}\n",
      "Actual Labels: []\n",
      "________________________________________________________________________________\n",
      "\n",
      "procedures to handle these requests in an effective and timely manner including allocation of sufficient resources an fi should appoint a staff member as the main point of contact with law enforcement agencies \n",
      "\n",
      "Predicted Labels: {'regulator': 0.8469353318214417, 'compliance': 0.9768060445785522}\n",
      "Actual Labels: []\n",
      "________________________________________________________________________________\n",
      "\n",
      "chapter 6 of the aml rules requires relevant persons to take appropriate steps to identify and assess the ml risks to which their businesses are exposed taking into consideration the nature size and complexity of their activities when identifying and assessing these risks several factors should be considered including an assessment of the use of new technologies importantly in the context of virtual assets fatf recommendation 15 states that countries and financial institutions should identify and assess the money laundering or terrorist financing risks that may arise in relation to a the development of new products and new business practices including new delivery mechanisms and b the use of new or developing technologies for both new and preexisting products in the case of financial institutions such a risk assessment should take place prior to the launch of the new products business practices or the use of new or developing technologies they should take appropriate measures to manage and mitigate those risks \n",
      "\n",
      "Predicted Labels: {'risk assessment': 0.568876326084137, 'rules': 0.3022181987762451, 'aml': 0.98780757188797, 'virtual assets': 0.9707188606262207, 'person': 0.9716432094573975, 'risks': 0.9994567036628723, 'cft': 0.9227198958396912}\n",
      "Actual Labels: []\n",
      "________________________________________________________________________________\n",
      "\n",
      "has measures in place to ensure compliance with requirements similar to those imposed under schedule 2 and \n",
      "\n",
      "Predicted Labels: {'compliance': 0.9937862157821655, 'requirements': 0.9850773215293884}\n",
      "Actual Labels: []\n",
      "________________________________________________________________________________\n",
      "\n",
      "full name \n",
      "\n",
      "Predicted Labels: {'regulator': 0.9949923157691956, 'virtual assets': 0.9986428618431091, 'compliance': 0.9904249310493469}\n",
      "Actual Labels: []\n",
      "________________________________________________________________________________\n",
      "\n",
      "a reconcile the individual credit ledger balances client account cash book balances and the thirdparty bank client account balances \n",
      "\n",
      "Predicted Labels: {'client': 0.995091438293457}\n",
      "Actual Labels: []\n",
      "________________________________________________________________________________\n",
      "\n",
      "c communicating the details of such interpretation waiver modification or adaptation specifically to any vasps or entities to which it applies \n",
      "\n",
      "Predicted Labels: {'vasps': 0.8968265652656555, 'vasp': 0.9867870807647705, 'entities': 0.9664570093154907}\n",
      "Actual Labels: []\n",
      "________________________________________________________________________________\n",
      "\n",
      "uptodate data encryption and secure transfer technology in accordance with industry best practices and international standards to protect the confidentiality and integrity and assure source authenticity of information stored on the platform and during transmission between internal and external networks in particular the platform operator should use a strong encryption algorithm to i encrypt sensitive information such as client login credentials ie user id and password and trade data during transmission between internal networks and client devices ii protect client login passwords stored on the platform iii protect critical data transferred between components of the platform operator s system infrastructure and iv protect the backup copies of the platform s critical data \n",
      "\n",
      "Predicted Labels: {'client': 0.995088517665863, 'operator': 0.9543126821517944, 'transfer': 0.9599587321281433}\n",
      "Actual Labels: []\n",
      "________________________________________________________________________________\n"
     ]
    }
   ],
   "source": [
    "for index, row in testing_df.iterrows():\n",
    "\n",
    "    text = row['Content']\n",
    "    predictions = get_answer(text)\n",
    "    actual_labels = testing_df.columns[1:][row[1:] == 1].tolist()\n",
    "    \n",
    "    print(text,'\\n')    \n",
    "    print(f\"Predicted Labels: {predictions}\")\n",
    "    print(f\"Actual Labels: {actual_labels}\")\n",
    "    print(\"________________________________________________________________________________\")"
   ]
  },
  {
   "cell_type": "markdown",
   "id": "ae8fb232",
   "metadata": {
    "papermill": {
     "duration": 0.044941,
     "end_time": "2024-06-05T18:52:21.464431",
     "exception": false,
     "start_time": "2024-06-05T18:52:21.419490",
     "status": "completed"
    },
    "tags": []
   },
   "source": [
    "# Probability"
   ]
  },
  {
   "cell_type": "code",
   "execution_count": 61,
   "id": "8c5176a4",
   "metadata": {
    "execution": {
     "iopub.execute_input": "2024-06-05T18:52:21.561681Z",
     "iopub.status.busy": "2024-06-05T18:52:21.560839Z",
     "iopub.status.idle": "2024-06-05T18:52:21.565501Z",
     "shell.execute_reply": "2024-06-05T18:52:21.564588Z"
    },
    "papermill": {
     "duration": 0.057232,
     "end_time": "2024-06-05T18:52:21.567489",
     "exception": false,
     "start_time": "2024-06-05T18:52:21.510257",
     "status": "completed"
    },
    "tags": []
   },
   "outputs": [],
   "source": [
    "# outputs = trainer.model(**encoding)\n",
    "# logits = outputs.logits\n",
    "# logits.shape"
   ]
  },
  {
   "cell_type": "markdown",
   "id": "5569733b",
   "metadata": {
    "papermill": {
     "duration": 0.04628,
     "end_time": "2024-06-05T18:52:21.658874",
     "exception": false,
     "start_time": "2024-06-05T18:52:21.612594",
     "status": "completed"
    },
    "tags": []
   },
   "source": [
    "The logits that come out of the model are of shape (batch_size, num_labels). As we are only forwarding a single sentence through the model, the batch_size equals 1.\n",
    "\n",
    "The logits is a tensor that contains the (unnormalized) scores for every individual label\n",
    "\n",
    "To turn them into actual predicted labels, we first apply a sigmoid function independently to every score, such that every score is turned into a number between 0 and 1, that can be interpreted as a \"probability\" for how certain the model is that a given class belongs to the input text.\n",
    "\n",
    "Next, we use a threshold (typically, 0.5) to turn every probability into either a 1 (which means, we predict the label for the given example) or a 0 (which means, we don't predict the label for the given example)"
   ]
  },
  {
   "cell_type": "code",
   "execution_count": 62,
   "id": "091e2ff2",
   "metadata": {
    "execution": {
     "iopub.execute_input": "2024-06-05T18:52:21.751412Z",
     "iopub.status.busy": "2024-06-05T18:52:21.750427Z",
     "iopub.status.idle": "2024-06-05T18:52:21.754903Z",
     "shell.execute_reply": "2024-06-05T18:52:21.754079Z"
    },
    "papermill": {
     "duration": 0.05231,
     "end_time": "2024-06-05T18:52:21.756947",
     "exception": false,
     "start_time": "2024-06-05T18:52:21.704637",
     "status": "completed"
    },
    "tags": []
   },
   "outputs": [],
   "source": [
    "# # apply sigmoid + threshold\n",
    "# sigmoid = torch.nn.Sigmoid()\n",
    "# probs = sigmoid(logits.squeeze().cpu())\n",
    "# predictions = np.zeros(probs.shape)\n",
    "# predictions[np.where(probs >= 0.5)] = 1\n",
    "# # turn predicted id's into actual label names\n",
    "# predicted_labels = [id2label[idx] for idx, label in enumerate(predictions) if label == 1.0]\n",
    "# print(predicted_labels)"
   ]
  },
  {
   "cell_type": "code",
   "execution_count": null,
   "id": "5d70ff19",
   "metadata": {
    "papermill": {
     "duration": 0.044549,
     "end_time": "2024-06-05T18:52:21.846051",
     "exception": false,
     "start_time": "2024-06-05T18:52:21.801502",
     "status": "completed"
    },
    "tags": []
   },
   "outputs": [],
   "source": []
  }
 ],
 "metadata": {
  "kaggle": {
   "accelerator": "gpu",
   "dataSources": [
    {
     "datasetId": 5092991,
     "sourceId": 8600001,
     "sourceType": "datasetVersion"
    }
   ],
   "dockerImageVersionId": 30715,
   "isGpuEnabled": true,
   "isInternetEnabled": true,
   "language": "python",
   "sourceType": "notebook"
  },
  "kernelspec": {
   "display_name": "Python 3",
   "language": "python",
   "name": "python3"
  },
  "language_info": {
   "codemirror_mode": {
    "name": "ipython",
    "version": 3
   },
   "file_extension": ".py",
   "mimetype": "text/x-python",
   "name": "python",
   "nbconvert_exporter": "python",
   "pygments_lexer": "ipython3",
   "version": "3.10.13"
  },
  "papermill": {
   "default_parameters": {},
   "duration": 1086.633281,
   "end_time": "2024-06-05T18:52:24.618017",
   "environment_variables": {},
   "exception": null,
   "input_path": "__notebook__.ipynb",
   "output_path": "__notebook__.ipynb",
   "parameters": {},
   "start_time": "2024-06-05T18:34:17.984736",
   "version": "2.5.0"
  },
  "widgets": {
   "application/vnd.jupyter.widget-state+json": {
    "state": {
     "01980f4052044d21bd720355a7057127": {
      "model_module": "@jupyter-widgets/base",
      "model_module_version": "1.2.0",
      "model_name": "LayoutModel",
      "state": {
       "_model_module": "@jupyter-widgets/base",
       "_model_module_version": "1.2.0",
       "_model_name": "LayoutModel",
       "_view_count": null,
       "_view_module": "@jupyter-widgets/base",
       "_view_module_version": "1.2.0",
       "_view_name": "LayoutView",
       "align_content": null,
       "align_items": null,
       "align_self": null,
       "border": null,
       "bottom": null,
       "display": null,
       "flex": null,
       "flex_flow": null,
       "grid_area": null,
       "grid_auto_columns": null,
       "grid_auto_flow": null,
       "grid_auto_rows": null,
       "grid_column": null,
       "grid_gap": null,
       "grid_row": null,
       "grid_template_areas": null,
       "grid_template_columns": null,
       "grid_template_rows": null,
       "height": null,
       "justify_content": null,
       "justify_items": null,
       "left": null,
       "margin": null,
       "max_height": null,
       "max_width": null,
       "min_height": null,
       "min_width": null,
       "object_fit": null,
       "object_position": null,
       "order": null,
       "overflow": null,
       "overflow_x": null,
       "overflow_y": null,
       "padding": null,
       "right": null,
       "top": null,
       "visibility": null,
       "width": null
      }
     },
     "03d64d4797004ff490a4c2305cd54c2f": {
      "model_module": "@jupyter-widgets/controls",
      "model_module_version": "1.5.0",
      "model_name": "HTMLModel",
      "state": {
       "_dom_classes": [],
       "_model_module": "@jupyter-widgets/controls",
       "_model_module_version": "1.5.0",
       "_model_name": "HTMLModel",
       "_view_count": null,
       "_view_module": "@jupyter-widgets/controls",
       "_view_module_version": "1.5.0",
       "_view_name": "HTMLView",
       "description": "",
       "description_tooltip": null,
       "layout": "IPY_MODEL_9e6638d476f545b88c24b5e5c0aa5cec",
       "placeholder": "​",
       "style": "IPY_MODEL_513c038810874c36a220b07fa50a909c",
       "value": " 1281/1281 [00:00&lt;00:00, 4206.27 examples/s]"
      }
     },
     "05a31db8ed974df5a5580c82f43d99cd": {
      "model_module": "@jupyter-widgets/base",
      "model_module_version": "1.2.0",
      "model_name": "LayoutModel",
      "state": {
       "_model_module": "@jupyter-widgets/base",
       "_model_module_version": "1.2.0",
       "_model_name": "LayoutModel",
       "_view_count": null,
       "_view_module": "@jupyter-widgets/base",
       "_view_module_version": "1.2.0",
       "_view_name": "LayoutView",
       "align_content": null,
       "align_items": null,
       "align_self": null,
       "border": null,
       "bottom": null,
       "display": null,
       "flex": null,
       "flex_flow": null,
       "grid_area": null,
       "grid_auto_columns": null,
       "grid_auto_flow": null,
       "grid_auto_rows": null,
       "grid_column": null,
       "grid_gap": null,
       "grid_row": null,
       "grid_template_areas": null,
       "grid_template_columns": null,
       "grid_template_rows": null,
       "height": null,
       "justify_content": null,
       "justify_items": null,
       "left": null,
       "margin": null,
       "max_height": null,
       "max_width": null,
       "min_height": null,
       "min_width": null,
       "object_fit": null,
       "object_position": null,
       "order": null,
       "overflow": null,
       "overflow_x": null,
       "overflow_y": null,
       "padding": null,
       "right": null,
       "top": null,
       "visibility": null,
       "width": null
      }
     },
     "0952cda8088f4e9bafab2e0de128ae94": {
      "model_module": "@jupyter-widgets/controls",
      "model_module_version": "1.5.0",
      "model_name": "DescriptionStyleModel",
      "state": {
       "_model_module": "@jupyter-widgets/controls",
       "_model_module_version": "1.5.0",
       "_model_name": "DescriptionStyleModel",
       "_view_count": null,
       "_view_module": "@jupyter-widgets/base",
       "_view_module_version": "1.2.0",
       "_view_name": "StyleView",
       "description_width": ""
      }
     },
     "0a67c5d73afd49009a95a9643277d152": {
      "model_module": "@jupyter-widgets/base",
      "model_module_version": "1.2.0",
      "model_name": "LayoutModel",
      "state": {
       "_model_module": "@jupyter-widgets/base",
       "_model_module_version": "1.2.0",
       "_model_name": "LayoutModel",
       "_view_count": null,
       "_view_module": "@jupyter-widgets/base",
       "_view_module_version": "1.2.0",
       "_view_name": "LayoutView",
       "align_content": null,
       "align_items": null,
       "align_self": null,
       "border": null,
       "bottom": null,
       "display": null,
       "flex": null,
       "flex_flow": null,
       "grid_area": null,
       "grid_auto_columns": null,
       "grid_auto_flow": null,
       "grid_auto_rows": null,
       "grid_column": null,
       "grid_gap": null,
       "grid_row": null,
       "grid_template_areas": null,
       "grid_template_columns": null,
       "grid_template_rows": null,
       "height": null,
       "justify_content": null,
       "justify_items": null,
       "left": null,
       "margin": null,
       "max_height": null,
       "max_width": null,
       "min_height": null,
       "min_width": null,
       "object_fit": null,
       "object_position": null,
       "order": null,
       "overflow": null,
       "overflow_x": null,
       "overflow_y": null,
       "padding": null,
       "right": null,
       "top": null,
       "visibility": null,
       "width": null
      }
     },
     "0ee0b4cf366c4c64b6b979324e21aed8": {
      "model_module": "@jupyter-widgets/base",
      "model_module_version": "1.2.0",
      "model_name": "LayoutModel",
      "state": {
       "_model_module": "@jupyter-widgets/base",
       "_model_module_version": "1.2.0",
       "_model_name": "LayoutModel",
       "_view_count": null,
       "_view_module": "@jupyter-widgets/base",
       "_view_module_version": "1.2.0",
       "_view_name": "LayoutView",
       "align_content": null,
       "align_items": null,
       "align_self": null,
       "border": null,
       "bottom": null,
       "display": null,
       "flex": null,
       "flex_flow": null,
       "grid_area": null,
       "grid_auto_columns": null,
       "grid_auto_flow": null,
       "grid_auto_rows": null,
       "grid_column": null,
       "grid_gap": null,
       "grid_row": null,
       "grid_template_areas": null,
       "grid_template_columns": null,
       "grid_template_rows": null,
       "height": null,
       "justify_content": null,
       "justify_items": null,
       "left": null,
       "margin": null,
       "max_height": null,
       "max_width": null,
       "min_height": null,
       "min_width": null,
       "object_fit": null,
       "object_position": null,
       "order": null,
       "overflow": null,
       "overflow_x": null,
       "overflow_y": null,
       "padding": null,
       "right": null,
       "top": null,
       "visibility": null,
       "width": null
      }
     },
     "12aca72fce744e0180866bbb8ba5cfb5": {
      "model_module": "@jupyter-widgets/base",
      "model_module_version": "1.2.0",
      "model_name": "LayoutModel",
      "state": {
       "_model_module": "@jupyter-widgets/base",
       "_model_module_version": "1.2.0",
       "_model_name": "LayoutModel",
       "_view_count": null,
       "_view_module": "@jupyter-widgets/base",
       "_view_module_version": "1.2.0",
       "_view_name": "LayoutView",
       "align_content": null,
       "align_items": null,
       "align_self": null,
       "border": null,
       "bottom": null,
       "display": null,
       "flex": null,
       "flex_flow": null,
       "grid_area": null,
       "grid_auto_columns": null,
       "grid_auto_flow": null,
       "grid_auto_rows": null,
       "grid_column": null,
       "grid_gap": null,
       "grid_row": null,
       "grid_template_areas": null,
       "grid_template_columns": null,
       "grid_template_rows": null,
       "height": null,
       "justify_content": null,
       "justify_items": null,
       "left": null,
       "margin": null,
       "max_height": null,
       "max_width": null,
       "min_height": null,
       "min_width": null,
       "object_fit": null,
       "object_position": null,
       "order": null,
       "overflow": null,
       "overflow_x": null,
       "overflow_y": null,
       "padding": null,
       "right": null,
       "top": null,
       "visibility": null,
       "width": null
      }
     },
     "157b372cc8c84f84bbc11cf6d5ce49c0": {
      "model_module": "@jupyter-widgets/controls",
      "model_module_version": "1.5.0",
      "model_name": "FloatProgressModel",
      "state": {
       "_dom_classes": [],
       "_model_module": "@jupyter-widgets/controls",
       "_model_module_version": "1.5.0",
       "_model_name": "FloatProgressModel",
       "_view_count": null,
       "_view_module": "@jupyter-widgets/controls",
       "_view_module_version": "1.5.0",
       "_view_name": "ProgressView",
       "bar_style": "success",
       "description": "",
       "description_tooltip": null,
       "layout": "IPY_MODEL_3e924296d02641bc9309bcd4556207ce",
       "max": 437992753.0,
       "min": 0.0,
       "orientation": "horizontal",
       "style": "IPY_MODEL_b35eb8bd3b0d496985b5421b4c2189d9",
       "value": 437992753.0
      }
     },
     "1a3745efbf3740f6bbe2435bbf8e9ac9": {
      "model_module": "@jupyter-widgets/controls",
      "model_module_version": "1.5.0",
      "model_name": "DescriptionStyleModel",
      "state": {
       "_model_module": "@jupyter-widgets/controls",
       "_model_module_version": "1.5.0",
       "_model_name": "DescriptionStyleModel",
       "_view_count": null,
       "_view_module": "@jupyter-widgets/base",
       "_view_module_version": "1.2.0",
       "_view_name": "StyleView",
       "description_width": ""
      }
     },
     "1e19470691be4aad8fe80e70f5c566c8": {
      "model_module": "@jupyter-widgets/controls",
      "model_module_version": "1.5.0",
      "model_name": "HTMLModel",
      "state": {
       "_dom_classes": [],
       "_model_module": "@jupyter-widgets/controls",
       "_model_module_version": "1.5.0",
       "_model_name": "HTMLModel",
       "_view_count": null,
       "_view_module": "@jupyter-widgets/controls",
       "_view_module_version": "1.5.0",
       "_view_name": "HTMLView",
       "description": "",
       "description_tooltip": null,
       "layout": "IPY_MODEL_3826d4596fea4a16abd45814f825815a",
       "placeholder": "​",
       "style": "IPY_MODEL_4835be150437481aa554faa0608cf053",
       "value": "vocab.txt: 100%"
      }
     },
     "256294659af446eab24e2b9bc7bcf7db": {
      "model_module": "@jupyter-widgets/base",
      "model_module_version": "1.2.0",
      "model_name": "LayoutModel",
      "state": {
       "_model_module": "@jupyter-widgets/base",
       "_model_module_version": "1.2.0",
       "_model_name": "LayoutModel",
       "_view_count": null,
       "_view_module": "@jupyter-widgets/base",
       "_view_module_version": "1.2.0",
       "_view_name": "LayoutView",
       "align_content": null,
       "align_items": null,
       "align_self": null,
       "border": null,
       "bottom": null,
       "display": null,
       "flex": null,
       "flex_flow": null,
       "grid_area": null,
       "grid_auto_columns": null,
       "grid_auto_flow": null,
       "grid_auto_rows": null,
       "grid_column": null,
       "grid_gap": null,
       "grid_row": null,
       "grid_template_areas": null,
       "grid_template_columns": null,
       "grid_template_rows": null,
       "height": null,
       "justify_content": null,
       "justify_items": null,
       "left": null,
       "margin": null,
       "max_height": null,
       "max_width": null,
       "min_height": null,
       "min_width": null,
       "object_fit": null,
       "object_position": null,
       "order": null,
       "overflow": null,
       "overflow_x": null,
       "overflow_y": null,
       "padding": null,
       "right": null,
       "top": null,
       "visibility": null,
       "width": null
      }
     },
     "29112357bdd14494a7a394eb446d8309": {
      "model_module": "@jupyter-widgets/base",
      "model_module_version": "1.2.0",
      "model_name": "LayoutModel",
      "state": {
       "_model_module": "@jupyter-widgets/base",
       "_model_module_version": "1.2.0",
       "_model_name": "LayoutModel",
       "_view_count": null,
       "_view_module": "@jupyter-widgets/base",
       "_view_module_version": "1.2.0",
       "_view_name": "LayoutView",
       "align_content": null,
       "align_items": null,
       "align_self": null,
       "border": null,
       "bottom": null,
       "display": null,
       "flex": null,
       "flex_flow": null,
       "grid_area": null,
       "grid_auto_columns": null,
       "grid_auto_flow": null,
       "grid_auto_rows": null,
       "grid_column": null,
       "grid_gap": null,
       "grid_row": null,
       "grid_template_areas": null,
       "grid_template_columns": null,
       "grid_template_rows": null,
       "height": null,
       "justify_content": null,
       "justify_items": null,
       "left": null,
       "margin": null,
       "max_height": null,
       "max_width": null,
       "min_height": null,
       "min_width": null,
       "object_fit": null,
       "object_position": null,
       "order": null,
       "overflow": null,
       "overflow_x": null,
       "overflow_y": null,
       "padding": null,
       "right": null,
       "top": null,
       "visibility": null,
       "width": null
      }
     },
     "2b21f1dd449d4b29a032961461f4c2d9": {
      "model_module": "@jupyter-widgets/controls",
      "model_module_version": "1.5.0",
      "model_name": "DescriptionStyleModel",
      "state": {
       "_model_module": "@jupyter-widgets/controls",
       "_model_module_version": "1.5.0",
       "_model_name": "DescriptionStyleModel",
       "_view_count": null,
       "_view_module": "@jupyter-widgets/base",
       "_view_module_version": "1.2.0",
       "_view_name": "StyleView",
       "description_width": ""
      }
     },
     "2c0c0959026a430490807dea647cd938": {
      "model_module": "@jupyter-widgets/controls",
      "model_module_version": "1.5.0",
      "model_name": "HTMLModel",
      "state": {
       "_dom_classes": [],
       "_model_module": "@jupyter-widgets/controls",
       "_model_module_version": "1.5.0",
       "_model_name": "HTMLModel",
       "_view_count": null,
       "_view_module": "@jupyter-widgets/controls",
       "_view_module_version": "1.5.0",
       "_view_name": "HTMLView",
       "description": "",
       "description_tooltip": null,
       "layout": "IPY_MODEL_df00b6f82f144d06ac768a8575d81ec4",
       "placeholder": "​",
       "style": "IPY_MODEL_aa0ca4b8f72148e09e954fb61fae0f3d",
       "value": "config.json: 100%"
      }
     },
     "2c7f6a02222a4d0f845036c3bdd6b7ec": {
      "model_module": "@jupyter-widgets/controls",
      "model_module_version": "1.5.0",
      "model_name": "ProgressStyleModel",
      "state": {
       "_model_module": "@jupyter-widgets/controls",
       "_model_module_version": "1.5.0",
       "_model_name": "ProgressStyleModel",
       "_view_count": null,
       "_view_module": "@jupyter-widgets/base",
       "_view_module_version": "1.2.0",
       "_view_name": "StyleView",
       "bar_color": null,
       "description_width": ""
      }
     },
     "2cdee9f5626b4d75b4c586ee0c58dffb": {
      "model_module": "@jupyter-widgets/controls",
      "model_module_version": "1.5.0",
      "model_name": "HTMLModel",
      "state": {
       "_dom_classes": [],
       "_model_module": "@jupyter-widgets/controls",
       "_model_module_version": "1.5.0",
       "_model_name": "HTMLModel",
       "_view_count": null,
       "_view_module": "@jupyter-widgets/controls",
       "_view_module_version": "1.5.0",
       "_view_name": "HTMLView",
       "description": "",
       "description_tooltip": null,
       "layout": "IPY_MODEL_ae2becc1722643e29b0d44106b3fbcdd",
       "placeholder": "​",
       "style": "IPY_MODEL_ee60e31af12a4b4185aaecbcb87ba106",
       "value": " 438M/438M [00:01&lt;00:00, 273MB/s]"
      }
     },
     "2ef8f0326e8543479d93454ee2f444ff": {
      "model_module": "@jupyter-widgets/base",
      "model_module_version": "1.2.0",
      "model_name": "LayoutModel",
      "state": {
       "_model_module": "@jupyter-widgets/base",
       "_model_module_version": "1.2.0",
       "_model_name": "LayoutModel",
       "_view_count": null,
       "_view_module": "@jupyter-widgets/base",
       "_view_module_version": "1.2.0",
       "_view_name": "LayoutView",
       "align_content": null,
       "align_items": null,
       "align_self": null,
       "border": null,
       "bottom": null,
       "display": null,
       "flex": null,
       "flex_flow": null,
       "grid_area": null,
       "grid_auto_columns": null,
       "grid_auto_flow": null,
       "grid_auto_rows": null,
       "grid_column": null,
       "grid_gap": null,
       "grid_row": null,
       "grid_template_areas": null,
       "grid_template_columns": null,
       "grid_template_rows": null,
       "height": null,
       "justify_content": null,
       "justify_items": null,
       "left": null,
       "margin": null,
       "max_height": null,
       "max_width": null,
       "min_height": null,
       "min_width": null,
       "object_fit": null,
       "object_position": null,
       "order": null,
       "overflow": null,
       "overflow_x": null,
       "overflow_y": null,
       "padding": null,
       "right": null,
       "top": null,
       "visibility": null,
       "width": null
      }
     },
     "312e5310238e46b88613f07cd87835a0": {
      "model_module": "@jupyter-widgets/controls",
      "model_module_version": "1.5.0",
      "model_name": "DescriptionStyleModel",
      "state": {
       "_model_module": "@jupyter-widgets/controls",
       "_model_module_version": "1.5.0",
       "_model_name": "DescriptionStyleModel",
       "_view_count": null,
       "_view_module": "@jupyter-widgets/base",
       "_view_module_version": "1.2.0",
       "_view_name": "StyleView",
       "description_width": ""
      }
     },
     "33bfc1ee54d94bc087d5c38abb3cb7e6": {
      "model_module": "@jupyter-widgets/base",
      "model_module_version": "1.2.0",
      "model_name": "LayoutModel",
      "state": {
       "_model_module": "@jupyter-widgets/base",
       "_model_module_version": "1.2.0",
       "_model_name": "LayoutModel",
       "_view_count": null,
       "_view_module": "@jupyter-widgets/base",
       "_view_module_version": "1.2.0",
       "_view_name": "LayoutView",
       "align_content": null,
       "align_items": null,
       "align_self": null,
       "border": null,
       "bottom": null,
       "display": null,
       "flex": null,
       "flex_flow": null,
       "grid_area": null,
       "grid_auto_columns": null,
       "grid_auto_flow": null,
       "grid_auto_rows": null,
       "grid_column": null,
       "grid_gap": null,
       "grid_row": null,
       "grid_template_areas": null,
       "grid_template_columns": null,
       "grid_template_rows": null,
       "height": null,
       "justify_content": null,
       "justify_items": null,
       "left": null,
       "margin": null,
       "max_height": null,
       "max_width": null,
       "min_height": null,
       "min_width": null,
       "object_fit": null,
       "object_position": null,
       "order": null,
       "overflow": null,
       "overflow_x": null,
       "overflow_y": null,
       "padding": null,
       "right": null,
       "top": null,
       "visibility": null,
       "width": null
      }
     },
     "3826d4596fea4a16abd45814f825815a": {
      "model_module": "@jupyter-widgets/base",
      "model_module_version": "1.2.0",
      "model_name": "LayoutModel",
      "state": {
       "_model_module": "@jupyter-widgets/base",
       "_model_module_version": "1.2.0",
       "_model_name": "LayoutModel",
       "_view_count": null,
       "_view_module": "@jupyter-widgets/base",
       "_view_module_version": "1.2.0",
       "_view_name": "LayoutView",
       "align_content": null,
       "align_items": null,
       "align_self": null,
       "border": null,
       "bottom": null,
       "display": null,
       "flex": null,
       "flex_flow": null,
       "grid_area": null,
       "grid_auto_columns": null,
       "grid_auto_flow": null,
       "grid_auto_rows": null,
       "grid_column": null,
       "grid_gap": null,
       "grid_row": null,
       "grid_template_areas": null,
       "grid_template_columns": null,
       "grid_template_rows": null,
       "height": null,
       "justify_content": null,
       "justify_items": null,
       "left": null,
       "margin": null,
       "max_height": null,
       "max_width": null,
       "min_height": null,
       "min_width": null,
       "object_fit": null,
       "object_position": null,
       "order": null,
       "overflow": null,
       "overflow_x": null,
       "overflow_y": null,
       "padding": null,
       "right": null,
       "top": null,
       "visibility": null,
       "width": null
      }
     },
     "39d2d05f2c334833bea42d3f3ecc7b1f": {
      "model_module": "@jupyter-widgets/controls",
      "model_module_version": "1.5.0",
      "model_name": "HTMLModel",
      "state": {
       "_dom_classes": [],
       "_model_module": "@jupyter-widgets/controls",
       "_model_module_version": "1.5.0",
       "_model_name": "HTMLModel",
       "_view_count": null,
       "_view_module": "@jupyter-widgets/controls",
       "_view_module_version": "1.5.0",
       "_view_name": "HTMLView",
       "description": "",
       "description_tooltip": null,
       "layout": "IPY_MODEL_accfd5586bf44803b8e328f99259bfff",
       "placeholder": "​",
       "style": "IPY_MODEL_60d0e0c4ece549fa94f2cf36eee89b0b",
       "value": " 112/112 [00:00&lt;00:00, 10.5kB/s]"
      }
     },
     "3c98708e21b045d8a2078d18bd23c5c0": {
      "model_module": "@jupyter-widgets/controls",
      "model_module_version": "1.5.0",
      "model_name": "HTMLModel",
      "state": {
       "_dom_classes": [],
       "_model_module": "@jupyter-widgets/controls",
       "_model_module_version": "1.5.0",
       "_model_name": "HTMLModel",
       "_view_count": null,
       "_view_module": "@jupyter-widgets/controls",
       "_view_module_version": "1.5.0",
       "_view_name": "HTMLView",
       "description": "",
       "description_tooltip": null,
       "layout": "IPY_MODEL_d2b7fca2cedc4fb0a7bceff336c0d0ec",
       "placeholder": "​",
       "style": "IPY_MODEL_2b21f1dd449d4b29a032961461f4c2d9",
       "value": "Map: 100%"
      }
     },
     "3e924296d02641bc9309bcd4556207ce": {
      "model_module": "@jupyter-widgets/base",
      "model_module_version": "1.2.0",
      "model_name": "LayoutModel",
      "state": {
       "_model_module": "@jupyter-widgets/base",
       "_model_module_version": "1.2.0",
       "_model_name": "LayoutModel",
       "_view_count": null,
       "_view_module": "@jupyter-widgets/base",
       "_view_module_version": "1.2.0",
       "_view_name": "LayoutView",
       "align_content": null,
       "align_items": null,
       "align_self": null,
       "border": null,
       "bottom": null,
       "display": null,
       "flex": null,
       "flex_flow": null,
       "grid_area": null,
       "grid_auto_columns": null,
       "grid_auto_flow": null,
       "grid_auto_rows": null,
       "grid_column": null,
       "grid_gap": null,
       "grid_row": null,
       "grid_template_areas": null,
       "grid_template_columns": null,
       "grid_template_rows": null,
       "height": null,
       "justify_content": null,
       "justify_items": null,
       "left": null,
       "margin": null,
       "max_height": null,
       "max_width": null,
       "min_height": null,
       "min_width": null,
       "object_fit": null,
       "object_position": null,
       "order": null,
       "overflow": null,
       "overflow_x": null,
       "overflow_y": null,
       "padding": null,
       "right": null,
       "top": null,
       "visibility": null,
       "width": null
      }
     },
     "4309ba0287a84bacab7db15a8e329060": {
      "model_module": "@jupyter-widgets/controls",
      "model_module_version": "1.5.0",
      "model_name": "HBoxModel",
      "state": {
       "_dom_classes": [],
       "_model_module": "@jupyter-widgets/controls",
       "_model_module_version": "1.5.0",
       "_model_name": "HBoxModel",
       "_view_count": null,
       "_view_module": "@jupyter-widgets/controls",
       "_view_module_version": "1.5.0",
       "_view_name": "HBoxView",
       "box_style": "",
       "children": [
        "IPY_MODEL_2c0c0959026a430490807dea647cd938",
        "IPY_MODEL_e0b7b84c58d94e9ebb0e84190004bb1b",
        "IPY_MODEL_ee510fc7edda403bb0ec4eaa9d191f61"
       ],
       "layout": "IPY_MODEL_75d109142aee40cdbba2961dd8e28fe0"
      }
     },
     "4486257f0c5841b6855591a3b780bf0f": {
      "model_module": "@jupyter-widgets/controls",
      "model_module_version": "1.5.0",
      "model_name": "HBoxModel",
      "state": {
       "_dom_classes": [],
       "_model_module": "@jupyter-widgets/controls",
       "_model_module_version": "1.5.0",
       "_model_name": "HBoxModel",
       "_view_count": null,
       "_view_module": "@jupyter-widgets/controls",
       "_view_module_version": "1.5.0",
       "_view_name": "HBoxView",
       "box_style": "",
       "children": [
        "IPY_MODEL_e0679fc753ed4d86aa537d27892c829e",
        "IPY_MODEL_d27aafe1f69c4678b7c5466f986521ee",
        "IPY_MODEL_df97313fd9f443be95b7533a9384eda8"
       ],
       "layout": "IPY_MODEL_dcafe5e8c9c74008b04cf2c88acf129b"
      }
     },
     "4835be150437481aa554faa0608cf053": {
      "model_module": "@jupyter-widgets/controls",
      "model_module_version": "1.5.0",
      "model_name": "DescriptionStyleModel",
      "state": {
       "_model_module": "@jupyter-widgets/controls",
       "_model_module_version": "1.5.0",
       "_model_name": "DescriptionStyleModel",
       "_view_count": null,
       "_view_module": "@jupyter-widgets/base",
       "_view_module_version": "1.2.0",
       "_view_name": "StyleView",
       "description_width": ""
      }
     },
     "513c038810874c36a220b07fa50a909c": {
      "model_module": "@jupyter-widgets/controls",
      "model_module_version": "1.5.0",
      "model_name": "DescriptionStyleModel",
      "state": {
       "_model_module": "@jupyter-widgets/controls",
       "_model_module_version": "1.5.0",
       "_model_name": "DescriptionStyleModel",
       "_view_count": null,
       "_view_module": "@jupyter-widgets/base",
       "_view_module_version": "1.2.0",
       "_view_name": "StyleView",
       "description_width": ""
      }
     },
     "54accca75c1743c1b4632754025d263f": {
      "model_module": "@jupyter-widgets/controls",
      "model_module_version": "1.5.0",
      "model_name": "DescriptionStyleModel",
      "state": {
       "_model_module": "@jupyter-widgets/controls",
       "_model_module_version": "1.5.0",
       "_model_name": "DescriptionStyleModel",
       "_view_count": null,
       "_view_module": "@jupyter-widgets/base",
       "_view_module_version": "1.2.0",
       "_view_name": "StyleView",
       "description_width": ""
      }
     },
     "55ef5990d1f84d8ca05f4abb1fd145d9": {
      "model_module": "@jupyter-widgets/controls",
      "model_module_version": "1.5.0",
      "model_name": "DescriptionStyleModel",
      "state": {
       "_model_module": "@jupyter-widgets/controls",
       "_model_module_version": "1.5.0",
       "_model_name": "DescriptionStyleModel",
       "_view_count": null,
       "_view_module": "@jupyter-widgets/base",
       "_view_module_version": "1.2.0",
       "_view_name": "StyleView",
       "description_width": ""
      }
     },
     "5a0116b04606416193f2747941c826a6": {
      "model_module": "@jupyter-widgets/controls",
      "model_module_version": "1.5.0",
      "model_name": "HTMLModel",
      "state": {
       "_dom_classes": [],
       "_model_module": "@jupyter-widgets/controls",
       "_model_module_version": "1.5.0",
       "_model_name": "HTMLModel",
       "_view_count": null,
       "_view_module": "@jupyter-widgets/controls",
       "_view_module_version": "1.5.0",
       "_view_name": "HTMLView",
       "description": "",
       "description_tooltip": null,
       "layout": "IPY_MODEL_05a31db8ed974df5a5580c82f43d99cd",
       "placeholder": "​",
       "style": "IPY_MODEL_e0f802d30d9d4bb884d1c2923cc79bb4",
       "value": "pytorch_model.bin: 100%"
      }
     },
     "607dff9871944475bb49df85f5ce8e04": {
      "model_module": "@jupyter-widgets/controls",
      "model_module_version": "1.5.0",
      "model_name": "ProgressStyleModel",
      "state": {
       "_model_module": "@jupyter-widgets/controls",
       "_model_module_version": "1.5.0",
       "_model_name": "ProgressStyleModel",
       "_view_count": null,
       "_view_module": "@jupyter-widgets/base",
       "_view_module_version": "1.2.0",
       "_view_name": "StyleView",
       "bar_color": null,
       "description_width": ""
      }
     },
     "60d0e0c4ece549fa94f2cf36eee89b0b": {
      "model_module": "@jupyter-widgets/controls",
      "model_module_version": "1.5.0",
      "model_name": "DescriptionStyleModel",
      "state": {
       "_model_module": "@jupyter-widgets/controls",
       "_model_module_version": "1.5.0",
       "_model_name": "DescriptionStyleModel",
       "_view_count": null,
       "_view_module": "@jupyter-widgets/base",
       "_view_module_version": "1.2.0",
       "_view_name": "StyleView",
       "description_width": ""
      }
     },
     "63f53625f74d4787ac573baca6d3589a": {
      "model_module": "@jupyter-widgets/controls",
      "model_module_version": "1.5.0",
      "model_name": "FloatProgressModel",
      "state": {
       "_dom_classes": [],
       "_model_module": "@jupyter-widgets/controls",
       "_model_module_version": "1.5.0",
       "_model_name": "FloatProgressModel",
       "_view_count": null,
       "_view_module": "@jupyter-widgets/controls",
       "_view_module_version": "1.5.0",
       "_view_name": "ProgressView",
       "bar_style": "success",
       "description": "",
       "description_tooltip": null,
       "layout": "IPY_MODEL_256294659af446eab24e2b9bc7bcf7db",
       "max": 1281.0,
       "min": 0.0,
       "orientation": "horizontal",
       "style": "IPY_MODEL_e447807b98cc48be973a0d1b0d21361d",
       "value": 1281.0
      }
     },
     "6543239c8a36464b94c71d6a09ab2227": {
      "model_module": "@jupyter-widgets/base",
      "model_module_version": "1.2.0",
      "model_name": "LayoutModel",
      "state": {
       "_model_module": "@jupyter-widgets/base",
       "_model_module_version": "1.2.0",
       "_model_name": "LayoutModel",
       "_view_count": null,
       "_view_module": "@jupyter-widgets/base",
       "_view_module_version": "1.2.0",
       "_view_name": "LayoutView",
       "align_content": null,
       "align_items": null,
       "align_self": null,
       "border": null,
       "bottom": null,
       "display": null,
       "flex": null,
       "flex_flow": null,
       "grid_area": null,
       "grid_auto_columns": null,
       "grid_auto_flow": null,
       "grid_auto_rows": null,
       "grid_column": null,
       "grid_gap": null,
       "grid_row": null,
       "grid_template_areas": null,
       "grid_template_columns": null,
       "grid_template_rows": null,
       "height": null,
       "justify_content": null,
       "justify_items": null,
       "left": null,
       "margin": null,
       "max_height": null,
       "max_width": null,
       "min_height": null,
       "min_width": null,
       "object_fit": null,
       "object_position": null,
       "order": null,
       "overflow": null,
       "overflow_x": null,
       "overflow_y": null,
       "padding": null,
       "right": null,
       "top": null,
       "visibility": null,
       "width": null
      }
     },
     "66d195b1cb7d4616ba0e1d49e5bc991d": {
      "model_module": "@jupyter-widgets/base",
      "model_module_version": "1.2.0",
      "model_name": "LayoutModel",
      "state": {
       "_model_module": "@jupyter-widgets/base",
       "_model_module_version": "1.2.0",
       "_model_name": "LayoutModel",
       "_view_count": null,
       "_view_module": "@jupyter-widgets/base",
       "_view_module_version": "1.2.0",
       "_view_name": "LayoutView",
       "align_content": null,
       "align_items": null,
       "align_self": null,
       "border": null,
       "bottom": null,
       "display": null,
       "flex": null,
       "flex_flow": null,
       "grid_area": null,
       "grid_auto_columns": null,
       "grid_auto_flow": null,
       "grid_auto_rows": null,
       "grid_column": null,
       "grid_gap": null,
       "grid_row": null,
       "grid_template_areas": null,
       "grid_template_columns": null,
       "grid_template_rows": null,
       "height": null,
       "justify_content": null,
       "justify_items": null,
       "left": null,
       "margin": null,
       "max_height": null,
       "max_width": null,
       "min_height": null,
       "min_width": null,
       "object_fit": null,
       "object_position": null,
       "order": null,
       "overflow": null,
       "overflow_x": null,
       "overflow_y": null,
       "padding": null,
       "right": null,
       "top": null,
       "visibility": null,
       "width": null
      }
     },
     "68292d69a09e4167a201509bed8a5d0e": {
      "model_module": "@jupyter-widgets/base",
      "model_module_version": "1.2.0",
      "model_name": "LayoutModel",
      "state": {
       "_model_module": "@jupyter-widgets/base",
       "_model_module_version": "1.2.0",
       "_model_name": "LayoutModel",
       "_view_count": null,
       "_view_module": "@jupyter-widgets/base",
       "_view_module_version": "1.2.0",
       "_view_name": "LayoutView",
       "align_content": null,
       "align_items": null,
       "align_self": null,
       "border": null,
       "bottom": null,
       "display": null,
       "flex": null,
       "flex_flow": null,
       "grid_area": null,
       "grid_auto_columns": null,
       "grid_auto_flow": null,
       "grid_auto_rows": null,
       "grid_column": null,
       "grid_gap": null,
       "grid_row": null,
       "grid_template_areas": null,
       "grid_template_columns": null,
       "grid_template_rows": null,
       "height": null,
       "justify_content": null,
       "justify_items": null,
       "left": null,
       "margin": null,
       "max_height": null,
       "max_width": null,
       "min_height": null,
       "min_width": null,
       "object_fit": null,
       "object_position": null,
       "order": null,
       "overflow": null,
       "overflow_x": null,
       "overflow_y": null,
       "padding": null,
       "right": null,
       "top": null,
       "visibility": null,
       "width": null
      }
     },
     "706589751aa64dfba5f429335295d2fd": {
      "model_module": "@jupyter-widgets/controls",
      "model_module_version": "1.5.0",
      "model_name": "HBoxModel",
      "state": {
       "_dom_classes": [],
       "_model_module": "@jupyter-widgets/controls",
       "_model_module_version": "1.5.0",
       "_model_name": "HBoxModel",
       "_view_count": null,
       "_view_module": "@jupyter-widgets/controls",
       "_view_module_version": "1.5.0",
       "_view_name": "HBoxView",
       "box_style": "",
       "children": [
        "IPY_MODEL_3c98708e21b045d8a2078d18bd23c5c0",
        "IPY_MODEL_63f53625f74d4787ac573baca6d3589a",
        "IPY_MODEL_03d64d4797004ff490a4c2305cd54c2f"
       ],
       "layout": "IPY_MODEL_6543239c8a36464b94c71d6a09ab2227"
      }
     },
     "72ad3aeed9f04dbeb943a3a5fde0689e": {
      "model_module": "@jupyter-widgets/controls",
      "model_module_version": "1.5.0",
      "model_name": "HTMLModel",
      "state": {
       "_dom_classes": [],
       "_model_module": "@jupyter-widgets/controls",
       "_model_module_version": "1.5.0",
       "_model_name": "HTMLModel",
       "_view_count": null,
       "_view_module": "@jupyter-widgets/controls",
       "_view_module_version": "1.5.0",
       "_view_name": "HTMLView",
       "description": "",
       "description_tooltip": null,
       "layout": "IPY_MODEL_68292d69a09e4167a201509bed8a5d0e",
       "placeholder": "​",
       "style": "IPY_MODEL_85030224531b4459b5ca6d20f92d111f",
       "value": "Map: 100%"
      }
     },
     "752b021cb2dc419cbfe050f68c3523b8": {
      "model_module": "@jupyter-widgets/controls",
      "model_module_version": "1.5.0",
      "model_name": "FloatProgressModel",
      "state": {
       "_dom_classes": [],
       "_model_module": "@jupyter-widgets/controls",
       "_model_module_version": "1.5.0",
       "_model_name": "FloatProgressModel",
       "_view_count": null,
       "_view_module": "@jupyter-widgets/controls",
       "_view_module_version": "1.5.0",
       "_view_name": "ProgressView",
       "bar_style": "success",
       "description": "",
       "description_tooltip": null,
       "layout": "IPY_MODEL_fcc4f9b19ba444679c807b2681e3d9ff",
       "max": 632.0,
       "min": 0.0,
       "orientation": "horizontal",
       "style": "IPY_MODEL_ff43ff786e7f4ddd9de9e7558dfdc787",
       "value": 632.0
      }
     },
     "75d109142aee40cdbba2961dd8e28fe0": {
      "model_module": "@jupyter-widgets/base",
      "model_module_version": "1.2.0",
      "model_name": "LayoutModel",
      "state": {
       "_model_module": "@jupyter-widgets/base",
       "_model_module_version": "1.2.0",
       "_model_name": "LayoutModel",
       "_view_count": null,
       "_view_module": "@jupyter-widgets/base",
       "_view_module_version": "1.2.0",
       "_view_name": "LayoutView",
       "align_content": null,
       "align_items": null,
       "align_self": null,
       "border": null,
       "bottom": null,
       "display": null,
       "flex": null,
       "flex_flow": null,
       "grid_area": null,
       "grid_auto_columns": null,
       "grid_auto_flow": null,
       "grid_auto_rows": null,
       "grid_column": null,
       "grid_gap": null,
       "grid_row": null,
       "grid_template_areas": null,
       "grid_template_columns": null,
       "grid_template_rows": null,
       "height": null,
       "justify_content": null,
       "justify_items": null,
       "left": null,
       "margin": null,
       "max_height": null,
       "max_width": null,
       "min_height": null,
       "min_width": null,
       "object_fit": null,
       "object_position": null,
       "order": null,
       "overflow": null,
       "overflow_x": null,
       "overflow_y": null,
       "padding": null,
       "right": null,
       "top": null,
       "visibility": null,
       "width": null
      }
     },
     "8453d476a802406e9985c96e43e2603e": {
      "model_module": "@jupyter-widgets/controls",
      "model_module_version": "1.5.0",
      "model_name": "ProgressStyleModel",
      "state": {
       "_model_module": "@jupyter-widgets/controls",
       "_model_module_version": "1.5.0",
       "_model_name": "ProgressStyleModel",
       "_view_count": null,
       "_view_module": "@jupyter-widgets/base",
       "_view_module_version": "1.2.0",
       "_view_name": "StyleView",
       "bar_color": null,
       "description_width": ""
      }
     },
     "85030224531b4459b5ca6d20f92d111f": {
      "model_module": "@jupyter-widgets/controls",
      "model_module_version": "1.5.0",
      "model_name": "DescriptionStyleModel",
      "state": {
       "_model_module": "@jupyter-widgets/controls",
       "_model_module_version": "1.5.0",
       "_model_name": "DescriptionStyleModel",
       "_view_count": null,
       "_view_module": "@jupyter-widgets/base",
       "_view_module_version": "1.2.0",
       "_view_name": "StyleView",
       "description_width": ""
      }
     },
     "8f94401843444abcbf7add3103708133": {
      "model_module": "@jupyter-widgets/controls",
      "model_module_version": "1.5.0",
      "model_name": "HBoxModel",
      "state": {
       "_dom_classes": [],
       "_model_module": "@jupyter-widgets/controls",
       "_model_module_version": "1.5.0",
       "_model_name": "HBoxModel",
       "_view_count": null,
       "_view_module": "@jupyter-widgets/controls",
       "_view_module_version": "1.5.0",
       "_view_name": "HBoxView",
       "box_style": "",
       "children": [
        "IPY_MODEL_1e19470691be4aad8fe80e70f5c566c8",
        "IPY_MODEL_d3ff5f641486477a83446f22e51ecf45",
        "IPY_MODEL_d94181d09009415f9ca2e5ecfd260a9d"
       ],
       "layout": "IPY_MODEL_12aca72fce744e0180866bbb8ba5cfb5"
      }
     },
     "9c594927a7754ab98dd6596b981293a7": {
      "model_module": "@jupyter-widgets/controls",
      "model_module_version": "1.5.0",
      "model_name": "FloatProgressModel",
      "state": {
       "_dom_classes": [],
       "_model_module": "@jupyter-widgets/controls",
       "_model_module_version": "1.5.0",
       "_model_name": "FloatProgressModel",
       "_view_count": null,
       "_view_module": "@jupyter-widgets/controls",
       "_view_module_version": "1.5.0",
       "_view_name": "ProgressView",
       "bar_style": "success",
       "description": "",
       "description_tooltip": null,
       "layout": "IPY_MODEL_b6f1b944024c4ac79dea4eeacaafb5a2",
       "max": 112.0,
       "min": 0.0,
       "orientation": "horizontal",
       "style": "IPY_MODEL_cc7df72db6fb48599ad8ee32f2ab6800",
       "value": 112.0
      }
     },
     "9e6638d476f545b88c24b5e5c0aa5cec": {
      "model_module": "@jupyter-widgets/base",
      "model_module_version": "1.2.0",
      "model_name": "LayoutModel",
      "state": {
       "_model_module": "@jupyter-widgets/base",
       "_model_module_version": "1.2.0",
       "_model_name": "LayoutModel",
       "_view_count": null,
       "_view_module": "@jupyter-widgets/base",
       "_view_module_version": "1.2.0",
       "_view_name": "LayoutView",
       "align_content": null,
       "align_items": null,
       "align_self": null,
       "border": null,
       "bottom": null,
       "display": null,
       "flex": null,
       "flex_flow": null,
       "grid_area": null,
       "grid_auto_columns": null,
       "grid_auto_flow": null,
       "grid_auto_rows": null,
       "grid_column": null,
       "grid_gap": null,
       "grid_row": null,
       "grid_template_areas": null,
       "grid_template_columns": null,
       "grid_template_rows": null,
       "height": null,
       "justify_content": null,
       "justify_items": null,
       "left": null,
       "margin": null,
       "max_height": null,
       "max_width": null,
       "min_height": null,
       "min_width": null,
       "object_fit": null,
       "object_position": null,
       "order": null,
       "overflow": null,
       "overflow_x": null,
       "overflow_y": null,
       "padding": null,
       "right": null,
       "top": null,
       "visibility": null,
       "width": null
      }
     },
     "a045097a77c444cda45c964d0ad39f02": {
      "model_module": "@jupyter-widgets/base",
      "model_module_version": "1.2.0",
      "model_name": "LayoutModel",
      "state": {
       "_model_module": "@jupyter-widgets/base",
       "_model_module_version": "1.2.0",
       "_model_name": "LayoutModel",
       "_view_count": null,
       "_view_module": "@jupyter-widgets/base",
       "_view_module_version": "1.2.0",
       "_view_name": "LayoutView",
       "align_content": null,
       "align_items": null,
       "align_self": null,
       "border": null,
       "bottom": null,
       "display": null,
       "flex": null,
       "flex_flow": null,
       "grid_area": null,
       "grid_auto_columns": null,
       "grid_auto_flow": null,
       "grid_auto_rows": null,
       "grid_column": null,
       "grid_gap": null,
       "grid_row": null,
       "grid_template_areas": null,
       "grid_template_columns": null,
       "grid_template_rows": null,
       "height": null,
       "justify_content": null,
       "justify_items": null,
       "left": null,
       "margin": null,
       "max_height": null,
       "max_width": null,
       "min_height": null,
       "min_width": null,
       "object_fit": null,
       "object_position": null,
       "order": null,
       "overflow": null,
       "overflow_x": null,
       "overflow_y": null,
       "padding": null,
       "right": null,
       "top": null,
       "visibility": null,
       "width": null
      }
     },
     "a572b4354c734e11890346856266fc51": {
      "model_module": "@jupyter-widgets/controls",
      "model_module_version": "1.5.0",
      "model_name": "FloatProgressModel",
      "state": {
       "_dom_classes": [],
       "_model_module": "@jupyter-widgets/controls",
       "_model_module_version": "1.5.0",
       "_model_name": "FloatProgressModel",
       "_view_count": null,
       "_view_module": "@jupyter-widgets/controls",
       "_view_module_version": "1.5.0",
       "_view_name": "ProgressView",
       "bar_style": "success",
       "description": "",
       "description_tooltip": null,
       "layout": "IPY_MODEL_33bfc1ee54d94bc087d5c38abb3cb7e6",
       "max": 252.0,
       "min": 0.0,
       "orientation": "horizontal",
       "style": "IPY_MODEL_607dff9871944475bb49df85f5ce8e04",
       "value": 252.0
      }
     },
     "aa0ca4b8f72148e09e954fb61fae0f3d": {
      "model_module": "@jupyter-widgets/controls",
      "model_module_version": "1.5.0",
      "model_name": "DescriptionStyleModel",
      "state": {
       "_model_module": "@jupyter-widgets/controls",
       "_model_module_version": "1.5.0",
       "_model_name": "DescriptionStyleModel",
       "_view_count": null,
       "_view_module": "@jupyter-widgets/base",
       "_view_module_version": "1.2.0",
       "_view_name": "StyleView",
       "description_width": ""
      }
     },
     "accfd5586bf44803b8e328f99259bfff": {
      "model_module": "@jupyter-widgets/base",
      "model_module_version": "1.2.0",
      "model_name": "LayoutModel",
      "state": {
       "_model_module": "@jupyter-widgets/base",
       "_model_module_version": "1.2.0",
       "_model_name": "LayoutModel",
       "_view_count": null,
       "_view_module": "@jupyter-widgets/base",
       "_view_module_version": "1.2.0",
       "_view_name": "LayoutView",
       "align_content": null,
       "align_items": null,
       "align_self": null,
       "border": null,
       "bottom": null,
       "display": null,
       "flex": null,
       "flex_flow": null,
       "grid_area": null,
       "grid_auto_columns": null,
       "grid_auto_flow": null,
       "grid_auto_rows": null,
       "grid_column": null,
       "grid_gap": null,
       "grid_row": null,
       "grid_template_areas": null,
       "grid_template_columns": null,
       "grid_template_rows": null,
       "height": null,
       "justify_content": null,
       "justify_items": null,
       "left": null,
       "margin": null,
       "max_height": null,
       "max_width": null,
       "min_height": null,
       "min_width": null,
       "object_fit": null,
       "object_position": null,
       "order": null,
       "overflow": null,
       "overflow_x": null,
       "overflow_y": null,
       "padding": null,
       "right": null,
       "top": null,
       "visibility": null,
       "width": null
      }
     },
     "acfd6448be2041a4ac78e4f9b4d61b6e": {
      "model_module": "@jupyter-widgets/base",
      "model_module_version": "1.2.0",
      "model_name": "LayoutModel",
      "state": {
       "_model_module": "@jupyter-widgets/base",
       "_model_module_version": "1.2.0",
       "_model_name": "LayoutModel",
       "_view_count": null,
       "_view_module": "@jupyter-widgets/base",
       "_view_module_version": "1.2.0",
       "_view_name": "LayoutView",
       "align_content": null,
       "align_items": null,
       "align_self": null,
       "border": null,
       "bottom": null,
       "display": null,
       "flex": null,
       "flex_flow": null,
       "grid_area": null,
       "grid_auto_columns": null,
       "grid_auto_flow": null,
       "grid_auto_rows": null,
       "grid_column": null,
       "grid_gap": null,
       "grid_row": null,
       "grid_template_areas": null,
       "grid_template_columns": null,
       "grid_template_rows": null,
       "height": null,
       "justify_content": null,
       "justify_items": null,
       "left": null,
       "margin": null,
       "max_height": null,
       "max_width": null,
       "min_height": null,
       "min_width": null,
       "object_fit": null,
       "object_position": null,
       "order": null,
       "overflow": null,
       "overflow_x": null,
       "overflow_y": null,
       "padding": null,
       "right": null,
       "top": null,
       "visibility": null,
       "width": null
      }
     },
     "ae2becc1722643e29b0d44106b3fbcdd": {
      "model_module": "@jupyter-widgets/base",
      "model_module_version": "1.2.0",
      "model_name": "LayoutModel",
      "state": {
       "_model_module": "@jupyter-widgets/base",
       "_model_module_version": "1.2.0",
       "_model_name": "LayoutModel",
       "_view_count": null,
       "_view_module": "@jupyter-widgets/base",
       "_view_module_version": "1.2.0",
       "_view_name": "LayoutView",
       "align_content": null,
       "align_items": null,
       "align_self": null,
       "border": null,
       "bottom": null,
       "display": null,
       "flex": null,
       "flex_flow": null,
       "grid_area": null,
       "grid_auto_columns": null,
       "grid_auto_flow": null,
       "grid_auto_rows": null,
       "grid_column": null,
       "grid_gap": null,
       "grid_row": null,
       "grid_template_areas": null,
       "grid_template_columns": null,
       "grid_template_rows": null,
       "height": null,
       "justify_content": null,
       "justify_items": null,
       "left": null,
       "margin": null,
       "max_height": null,
       "max_width": null,
       "min_height": null,
       "min_width": null,
       "object_fit": null,
       "object_position": null,
       "order": null,
       "overflow": null,
       "overflow_x": null,
       "overflow_y": null,
       "padding": null,
       "right": null,
       "top": null,
       "visibility": null,
       "width": null
      }
     },
     "af375121d3054574b55db708e011964b": {
      "model_module": "@jupyter-widgets/controls",
      "model_module_version": "1.5.0",
      "model_name": "HBoxModel",
      "state": {
       "_dom_classes": [],
       "_model_module": "@jupyter-widgets/controls",
       "_model_module_version": "1.5.0",
       "_model_name": "HBoxModel",
       "_view_count": null,
       "_view_module": "@jupyter-widgets/controls",
       "_view_module_version": "1.5.0",
       "_view_name": "HBoxView",
       "box_style": "",
       "children": [
        "IPY_MODEL_72ad3aeed9f04dbeb943a3a5fde0689e",
        "IPY_MODEL_752b021cb2dc419cbfe050f68c3523b8",
        "IPY_MODEL_ea37b929104b4bad907e947619be16bb"
       ],
       "layout": "IPY_MODEL_d233bc0a061141ac9d1532c140e49d81"
      }
     },
     "b35eb8bd3b0d496985b5421b4c2189d9": {
      "model_module": "@jupyter-widgets/controls",
      "model_module_version": "1.5.0",
      "model_name": "ProgressStyleModel",
      "state": {
       "_model_module": "@jupyter-widgets/controls",
       "_model_module_version": "1.5.0",
       "_model_name": "ProgressStyleModel",
       "_view_count": null,
       "_view_module": "@jupyter-widgets/base",
       "_view_module_version": "1.2.0",
       "_view_name": "StyleView",
       "bar_color": null,
       "description_width": ""
      }
     },
     "b6f1b944024c4ac79dea4eeacaafb5a2": {
      "model_module": "@jupyter-widgets/base",
      "model_module_version": "1.2.0",
      "model_name": "LayoutModel",
      "state": {
       "_model_module": "@jupyter-widgets/base",
       "_model_module_version": "1.2.0",
       "_model_name": "LayoutModel",
       "_view_count": null,
       "_view_module": "@jupyter-widgets/base",
       "_view_module_version": "1.2.0",
       "_view_name": "LayoutView",
       "align_content": null,
       "align_items": null,
       "align_self": null,
       "border": null,
       "bottom": null,
       "display": null,
       "flex": null,
       "flex_flow": null,
       "grid_area": null,
       "grid_auto_columns": null,
       "grid_auto_flow": null,
       "grid_auto_rows": null,
       "grid_column": null,
       "grid_gap": null,
       "grid_row": null,
       "grid_template_areas": null,
       "grid_template_columns": null,
       "grid_template_rows": null,
       "height": null,
       "justify_content": null,
       "justify_items": null,
       "left": null,
       "margin": null,
       "max_height": null,
       "max_width": null,
       "min_height": null,
       "min_width": null,
       "object_fit": null,
       "object_position": null,
       "order": null,
       "overflow": null,
       "overflow_x": null,
       "overflow_y": null,
       "padding": null,
       "right": null,
       "top": null,
       "visibility": null,
       "width": null
      }
     },
     "bb3df75d627a4b2c93cdda2198481790": {
      "model_module": "@jupyter-widgets/base",
      "model_module_version": "1.2.0",
      "model_name": "LayoutModel",
      "state": {
       "_model_module": "@jupyter-widgets/base",
       "_model_module_version": "1.2.0",
       "_model_name": "LayoutModel",
       "_view_count": null,
       "_view_module": "@jupyter-widgets/base",
       "_view_module_version": "1.2.0",
       "_view_name": "LayoutView",
       "align_content": null,
       "align_items": null,
       "align_self": null,
       "border": null,
       "bottom": null,
       "display": null,
       "flex": null,
       "flex_flow": null,
       "grid_area": null,
       "grid_auto_columns": null,
       "grid_auto_flow": null,
       "grid_auto_rows": null,
       "grid_column": null,
       "grid_gap": null,
       "grid_row": null,
       "grid_template_areas": null,
       "grid_template_columns": null,
       "grid_template_rows": null,
       "height": null,
       "justify_content": null,
       "justify_items": null,
       "left": null,
       "margin": null,
       "max_height": null,
       "max_width": null,
       "min_height": null,
       "min_width": null,
       "object_fit": null,
       "object_position": null,
       "order": null,
       "overflow": null,
       "overflow_x": null,
       "overflow_y": null,
       "padding": null,
       "right": null,
       "top": null,
       "visibility": null,
       "width": null
      }
     },
     "bba48e8b2d4e43f8b9369a52589b7f63": {
      "model_module": "@jupyter-widgets/base",
      "model_module_version": "1.2.0",
      "model_name": "LayoutModel",
      "state": {
       "_model_module": "@jupyter-widgets/base",
       "_model_module_version": "1.2.0",
       "_model_name": "LayoutModel",
       "_view_count": null,
       "_view_module": "@jupyter-widgets/base",
       "_view_module_version": "1.2.0",
       "_view_name": "LayoutView",
       "align_content": null,
       "align_items": null,
       "align_self": null,
       "border": null,
       "bottom": null,
       "display": null,
       "flex": null,
       "flex_flow": null,
       "grid_area": null,
       "grid_auto_columns": null,
       "grid_auto_flow": null,
       "grid_auto_rows": null,
       "grid_column": null,
       "grid_gap": null,
       "grid_row": null,
       "grid_template_areas": null,
       "grid_template_columns": null,
       "grid_template_rows": null,
       "height": null,
       "justify_content": null,
       "justify_items": null,
       "left": null,
       "margin": null,
       "max_height": null,
       "max_width": null,
       "min_height": null,
       "min_width": null,
       "object_fit": null,
       "object_position": null,
       "order": null,
       "overflow": null,
       "overflow_x": null,
       "overflow_y": null,
       "padding": null,
       "right": null,
       "top": null,
       "visibility": null,
       "width": null
      }
     },
     "bc01e995cbf64a81b68664d5cf81c6de": {
      "model_module": "@jupyter-widgets/base",
      "model_module_version": "1.2.0",
      "model_name": "LayoutModel",
      "state": {
       "_model_module": "@jupyter-widgets/base",
       "_model_module_version": "1.2.0",
       "_model_name": "LayoutModel",
       "_view_count": null,
       "_view_module": "@jupyter-widgets/base",
       "_view_module_version": "1.2.0",
       "_view_name": "LayoutView",
       "align_content": null,
       "align_items": null,
       "align_self": null,
       "border": null,
       "bottom": null,
       "display": null,
       "flex": null,
       "flex_flow": null,
       "grid_area": null,
       "grid_auto_columns": null,
       "grid_auto_flow": null,
       "grid_auto_rows": null,
       "grid_column": null,
       "grid_gap": null,
       "grid_row": null,
       "grid_template_areas": null,
       "grid_template_columns": null,
       "grid_template_rows": null,
       "height": null,
       "justify_content": null,
       "justify_items": null,
       "left": null,
       "margin": null,
       "max_height": null,
       "max_width": null,
       "min_height": null,
       "min_width": null,
       "object_fit": null,
       "object_position": null,
       "order": null,
       "overflow": null,
       "overflow_x": null,
       "overflow_y": null,
       "padding": null,
       "right": null,
       "top": null,
       "visibility": null,
       "width": null
      }
     },
     "bd82b285d2b94c099f4f235a3d950700": {
      "model_module": "@jupyter-widgets/controls",
      "model_module_version": "1.5.0",
      "model_name": "HBoxModel",
      "state": {
       "_dom_classes": [],
       "_model_module": "@jupyter-widgets/controls",
       "_model_module_version": "1.5.0",
       "_model_name": "HBoxModel",
       "_view_count": null,
       "_view_module": "@jupyter-widgets/controls",
       "_view_module_version": "1.5.0",
       "_view_name": "HBoxView",
       "box_style": "",
       "children": [
        "IPY_MODEL_5a0116b04606416193f2747941c826a6",
        "IPY_MODEL_157b372cc8c84f84bbc11cf6d5ce49c0",
        "IPY_MODEL_2cdee9f5626b4d75b4c586ee0c58dffb"
       ],
       "layout": "IPY_MODEL_0a67c5d73afd49009a95a9643277d152"
      }
     },
     "bd862f10c66444dcbf11c8568791df1a": {
      "model_module": "@jupyter-widgets/controls",
      "model_module_version": "1.5.0",
      "model_name": "HTMLModel",
      "state": {
       "_dom_classes": [],
       "_model_module": "@jupyter-widgets/controls",
       "_model_module_version": "1.5.0",
       "_model_name": "HTMLModel",
       "_view_count": null,
       "_view_module": "@jupyter-widgets/controls",
       "_view_module_version": "1.5.0",
       "_view_name": "HTMLView",
       "description": "",
       "description_tooltip": null,
       "layout": "IPY_MODEL_a045097a77c444cda45c964d0ad39f02",
       "placeholder": "​",
       "style": "IPY_MODEL_1a3745efbf3740f6bbe2435bbf8e9ac9",
       "value": "special_tokens_map.json: 100%"
      }
     },
     "cc7df72db6fb48599ad8ee32f2ab6800": {
      "model_module": "@jupyter-widgets/controls",
      "model_module_version": "1.5.0",
      "model_name": "ProgressStyleModel",
      "state": {
       "_model_module": "@jupyter-widgets/controls",
       "_model_module_version": "1.5.0",
       "_model_name": "ProgressStyleModel",
       "_view_count": null,
       "_view_module": "@jupyter-widgets/base",
       "_view_module_version": "1.2.0",
       "_view_name": "StyleView",
       "bar_color": null,
       "description_width": ""
      }
     },
     "d0d380750402497aa5acbd2160eced35": {
      "model_module": "@jupyter-widgets/controls",
      "model_module_version": "1.5.0",
      "model_name": "DescriptionStyleModel",
      "state": {
       "_model_module": "@jupyter-widgets/controls",
       "_model_module_version": "1.5.0",
       "_model_name": "DescriptionStyleModel",
       "_view_count": null,
       "_view_module": "@jupyter-widgets/base",
       "_view_module_version": "1.2.0",
       "_view_name": "StyleView",
       "description_width": ""
      }
     },
     "d233bc0a061141ac9d1532c140e49d81": {
      "model_module": "@jupyter-widgets/base",
      "model_module_version": "1.2.0",
      "model_name": "LayoutModel",
      "state": {
       "_model_module": "@jupyter-widgets/base",
       "_model_module_version": "1.2.0",
       "_model_name": "LayoutModel",
       "_view_count": null,
       "_view_module": "@jupyter-widgets/base",
       "_view_module_version": "1.2.0",
       "_view_name": "LayoutView",
       "align_content": null,
       "align_items": null,
       "align_self": null,
       "border": null,
       "bottom": null,
       "display": null,
       "flex": null,
       "flex_flow": null,
       "grid_area": null,
       "grid_auto_columns": null,
       "grid_auto_flow": null,
       "grid_auto_rows": null,
       "grid_column": null,
       "grid_gap": null,
       "grid_row": null,
       "grid_template_areas": null,
       "grid_template_columns": null,
       "grid_template_rows": null,
       "height": null,
       "justify_content": null,
       "justify_items": null,
       "left": null,
       "margin": null,
       "max_height": null,
       "max_width": null,
       "min_height": null,
       "min_width": null,
       "object_fit": null,
       "object_position": null,
       "order": null,
       "overflow": null,
       "overflow_x": null,
       "overflow_y": null,
       "padding": null,
       "right": null,
       "top": null,
       "visibility": null,
       "width": null
      }
     },
     "d268d02bdd944fccbaf51774bc25e30f": {
      "model_module": "@jupyter-widgets/controls",
      "model_module_version": "1.5.0",
      "model_name": "HBoxModel",
      "state": {
       "_dom_classes": [],
       "_model_module": "@jupyter-widgets/controls",
       "_model_module_version": "1.5.0",
       "_model_name": "HBoxModel",
       "_view_count": null,
       "_view_module": "@jupyter-widgets/controls",
       "_view_module_version": "1.5.0",
       "_view_name": "HBoxView",
       "box_style": "",
       "children": [
        "IPY_MODEL_fd9b6cd0febf42b3b875fd5b2ff2a59e",
        "IPY_MODEL_a572b4354c734e11890346856266fc51",
        "IPY_MODEL_d667ed9a9d874cf0b39029e6ada3643f"
       ],
       "layout": "IPY_MODEL_bb3df75d627a4b2c93cdda2198481790"
      }
     },
     "d27aafe1f69c4678b7c5466f986521ee": {
      "model_module": "@jupyter-widgets/controls",
      "model_module_version": "1.5.0",
      "model_name": "FloatProgressModel",
      "state": {
       "_dom_classes": [],
       "_model_module": "@jupyter-widgets/controls",
       "_model_module_version": "1.5.0",
       "_model_name": "FloatProgressModel",
       "_view_count": null,
       "_view_module": "@jupyter-widgets/controls",
       "_view_module_version": "1.5.0",
       "_view_name": "ProgressView",
       "bar_style": "success",
       "description": "",
       "description_tooltip": null,
       "layout": "IPY_MODEL_acfd6448be2041a4ac78e4f9b4d61b6e",
       "max": 4463.0,
       "min": 0.0,
       "orientation": "horizontal",
       "style": "IPY_MODEL_ed4737bd454e486699bf431ea973e631",
       "value": 4463.0
      }
     },
     "d2b7fca2cedc4fb0a7bceff336c0d0ec": {
      "model_module": "@jupyter-widgets/base",
      "model_module_version": "1.2.0",
      "model_name": "LayoutModel",
      "state": {
       "_model_module": "@jupyter-widgets/base",
       "_model_module_version": "1.2.0",
       "_model_name": "LayoutModel",
       "_view_count": null,
       "_view_module": "@jupyter-widgets/base",
       "_view_module_version": "1.2.0",
       "_view_name": "LayoutView",
       "align_content": null,
       "align_items": null,
       "align_self": null,
       "border": null,
       "bottom": null,
       "display": null,
       "flex": null,
       "flex_flow": null,
       "grid_area": null,
       "grid_auto_columns": null,
       "grid_auto_flow": null,
       "grid_auto_rows": null,
       "grid_column": null,
       "grid_gap": null,
       "grid_row": null,
       "grid_template_areas": null,
       "grid_template_columns": null,
       "grid_template_rows": null,
       "height": null,
       "justify_content": null,
       "justify_items": null,
       "left": null,
       "margin": null,
       "max_height": null,
       "max_width": null,
       "min_height": null,
       "min_width": null,
       "object_fit": null,
       "object_position": null,
       "order": null,
       "overflow": null,
       "overflow_x": null,
       "overflow_y": null,
       "padding": null,
       "right": null,
       "top": null,
       "visibility": null,
       "width": null
      }
     },
     "d3ff5f641486477a83446f22e51ecf45": {
      "model_module": "@jupyter-widgets/controls",
      "model_module_version": "1.5.0",
      "model_name": "FloatProgressModel",
      "state": {
       "_dom_classes": [],
       "_model_module": "@jupyter-widgets/controls",
       "_model_module_version": "1.5.0",
       "_model_name": "FloatProgressModel",
       "_view_count": null,
       "_view_module": "@jupyter-widgets/controls",
       "_view_module_version": "1.5.0",
       "_view_name": "ProgressView",
       "bar_style": "success",
       "description": "",
       "description_tooltip": null,
       "layout": "IPY_MODEL_29112357bdd14494a7a394eb446d8309",
       "max": 231508.0,
       "min": 0.0,
       "orientation": "horizontal",
       "style": "IPY_MODEL_2c7f6a02222a4d0f845036c3bdd6b7ec",
       "value": 231508.0
      }
     },
     "d667ed9a9d874cf0b39029e6ada3643f": {
      "model_module": "@jupyter-widgets/controls",
      "model_module_version": "1.5.0",
      "model_name": "HTMLModel",
      "state": {
       "_dom_classes": [],
       "_model_module": "@jupyter-widgets/controls",
       "_model_module_version": "1.5.0",
       "_model_name": "HTMLModel",
       "_view_count": null,
       "_view_module": "@jupyter-widgets/controls",
       "_view_module_version": "1.5.0",
       "_view_name": "HTMLView",
       "description": "",
       "description_tooltip": null,
       "layout": "IPY_MODEL_bba48e8b2d4e43f8b9369a52589b7f63",
       "placeholder": "​",
       "style": "IPY_MODEL_d0d380750402497aa5acbd2160eced35",
       "value": " 252/252 [00:00&lt;00:00, 19.6kB/s]"
      }
     },
     "d828dfb09c6b493aa8723250ae7d6120": {
      "model_module": "@jupyter-widgets/base",
      "model_module_version": "1.2.0",
      "model_name": "LayoutModel",
      "state": {
       "_model_module": "@jupyter-widgets/base",
       "_model_module_version": "1.2.0",
       "_model_name": "LayoutModel",
       "_view_count": null,
       "_view_module": "@jupyter-widgets/base",
       "_view_module_version": "1.2.0",
       "_view_name": "LayoutView",
       "align_content": null,
       "align_items": null,
       "align_self": null,
       "border": null,
       "bottom": null,
       "display": null,
       "flex": null,
       "flex_flow": null,
       "grid_area": null,
       "grid_auto_columns": null,
       "grid_auto_flow": null,
       "grid_auto_rows": null,
       "grid_column": null,
       "grid_gap": null,
       "grid_row": null,
       "grid_template_areas": null,
       "grid_template_columns": null,
       "grid_template_rows": null,
       "height": null,
       "justify_content": null,
       "justify_items": null,
       "left": null,
       "margin": null,
       "max_height": null,
       "max_width": null,
       "min_height": null,
       "min_width": null,
       "object_fit": null,
       "object_position": null,
       "order": null,
       "overflow": null,
       "overflow_x": null,
       "overflow_y": null,
       "padding": null,
       "right": null,
       "top": null,
       "visibility": null,
       "width": null
      }
     },
     "d94181d09009415f9ca2e5ecfd260a9d": {
      "model_module": "@jupyter-widgets/controls",
      "model_module_version": "1.5.0",
      "model_name": "HTMLModel",
      "state": {
       "_dom_classes": [],
       "_model_module": "@jupyter-widgets/controls",
       "_model_module_version": "1.5.0",
       "_model_name": "HTMLModel",
       "_view_count": null,
       "_view_module": "@jupyter-widgets/controls",
       "_view_module_version": "1.5.0",
       "_view_name": "HTMLView",
       "description": "",
       "description_tooltip": null,
       "layout": "IPY_MODEL_0ee0b4cf366c4c64b6b979324e21aed8",
       "placeholder": "​",
       "style": "IPY_MODEL_f8f0cdef9fa94bf9b3494175b20a86ed",
       "value": " 232k/232k [00:00&lt;00:00, 7.57MB/s]"
      }
     },
     "dcafe5e8c9c74008b04cf2c88acf129b": {
      "model_module": "@jupyter-widgets/base",
      "model_module_version": "1.2.0",
      "model_name": "LayoutModel",
      "state": {
       "_model_module": "@jupyter-widgets/base",
       "_model_module_version": "1.2.0",
       "_model_name": "LayoutModel",
       "_view_count": null,
       "_view_module": "@jupyter-widgets/base",
       "_view_module_version": "1.2.0",
       "_view_name": "LayoutView",
       "align_content": null,
       "align_items": null,
       "align_self": null,
       "border": null,
       "bottom": null,
       "display": null,
       "flex": null,
       "flex_flow": null,
       "grid_area": null,
       "grid_auto_columns": null,
       "grid_auto_flow": null,
       "grid_auto_rows": null,
       "grid_column": null,
       "grid_gap": null,
       "grid_row": null,
       "grid_template_areas": null,
       "grid_template_columns": null,
       "grid_template_rows": null,
       "height": null,
       "justify_content": null,
       "justify_items": null,
       "left": null,
       "margin": null,
       "max_height": null,
       "max_width": null,
       "min_height": null,
       "min_width": null,
       "object_fit": null,
       "object_position": null,
       "order": null,
       "overflow": null,
       "overflow_x": null,
       "overflow_y": null,
       "padding": null,
       "right": null,
       "top": null,
       "visibility": null,
       "width": null
      }
     },
     "df00b6f82f144d06ac768a8575d81ec4": {
      "model_module": "@jupyter-widgets/base",
      "model_module_version": "1.2.0",
      "model_name": "LayoutModel",
      "state": {
       "_model_module": "@jupyter-widgets/base",
       "_model_module_version": "1.2.0",
       "_model_name": "LayoutModel",
       "_view_count": null,
       "_view_module": "@jupyter-widgets/base",
       "_view_module_version": "1.2.0",
       "_view_name": "LayoutView",
       "align_content": null,
       "align_items": null,
       "align_self": null,
       "border": null,
       "bottom": null,
       "display": null,
       "flex": null,
       "flex_flow": null,
       "grid_area": null,
       "grid_auto_columns": null,
       "grid_auto_flow": null,
       "grid_auto_rows": null,
       "grid_column": null,
       "grid_gap": null,
       "grid_row": null,
       "grid_template_areas": null,
       "grid_template_columns": null,
       "grid_template_rows": null,
       "height": null,
       "justify_content": null,
       "justify_items": null,
       "left": null,
       "margin": null,
       "max_height": null,
       "max_width": null,
       "min_height": null,
       "min_width": null,
       "object_fit": null,
       "object_position": null,
       "order": null,
       "overflow": null,
       "overflow_x": null,
       "overflow_y": null,
       "padding": null,
       "right": null,
       "top": null,
       "visibility": null,
       "width": null
      }
     },
     "df97313fd9f443be95b7533a9384eda8": {
      "model_module": "@jupyter-widgets/controls",
      "model_module_version": "1.5.0",
      "model_name": "HTMLModel",
      "state": {
       "_dom_classes": [],
       "_model_module": "@jupyter-widgets/controls",
       "_model_module_version": "1.5.0",
       "_model_name": "HTMLModel",
       "_view_count": null,
       "_view_module": "@jupyter-widgets/controls",
       "_view_module_version": "1.5.0",
       "_view_name": "HTMLView",
       "description": "",
       "description_tooltip": null,
       "layout": "IPY_MODEL_66d195b1cb7d4616ba0e1d49e5bc991d",
       "placeholder": "​",
       "style": "IPY_MODEL_0952cda8088f4e9bafab2e0de128ae94",
       "value": " 4463/4463 [00:01&lt;00:00, 4329.47 examples/s]"
      }
     },
     "e0679fc753ed4d86aa537d27892c829e": {
      "model_module": "@jupyter-widgets/controls",
      "model_module_version": "1.5.0",
      "model_name": "HTMLModel",
      "state": {
       "_dom_classes": [],
       "_model_module": "@jupyter-widgets/controls",
       "_model_module_version": "1.5.0",
       "_model_name": "HTMLModel",
       "_view_count": null,
       "_view_module": "@jupyter-widgets/controls",
       "_view_module_version": "1.5.0",
       "_view_name": "HTMLView",
       "description": "",
       "description_tooltip": null,
       "layout": "IPY_MODEL_01980f4052044d21bd720355a7057127",
       "placeholder": "​",
       "style": "IPY_MODEL_312e5310238e46b88613f07cd87835a0",
       "value": "Map: 100%"
      }
     },
     "e0b7b84c58d94e9ebb0e84190004bb1b": {
      "model_module": "@jupyter-widgets/controls",
      "model_module_version": "1.5.0",
      "model_name": "FloatProgressModel",
      "state": {
       "_dom_classes": [],
       "_model_module": "@jupyter-widgets/controls",
       "_model_module_version": "1.5.0",
       "_model_name": "FloatProgressModel",
       "_view_count": null,
       "_view_module": "@jupyter-widgets/controls",
       "_view_module_version": "1.5.0",
       "_view_name": "ProgressView",
       "bar_style": "success",
       "description": "",
       "description_tooltip": null,
       "layout": "IPY_MODEL_fdbfb266539e48b6b03e89a8b84f91c4",
       "max": 758.0,
       "min": 0.0,
       "orientation": "horizontal",
       "style": "IPY_MODEL_8453d476a802406e9985c96e43e2603e",
       "value": 758.0
      }
     },
     "e0f802d30d9d4bb884d1c2923cc79bb4": {
      "model_module": "@jupyter-widgets/controls",
      "model_module_version": "1.5.0",
      "model_name": "DescriptionStyleModel",
      "state": {
       "_model_module": "@jupyter-widgets/controls",
       "_model_module_version": "1.5.0",
       "_model_name": "DescriptionStyleModel",
       "_view_count": null,
       "_view_module": "@jupyter-widgets/base",
       "_view_module_version": "1.2.0",
       "_view_name": "StyleView",
       "description_width": ""
      }
     },
     "e447807b98cc48be973a0d1b0d21361d": {
      "model_module": "@jupyter-widgets/controls",
      "model_module_version": "1.5.0",
      "model_name": "ProgressStyleModel",
      "state": {
       "_model_module": "@jupyter-widgets/controls",
       "_model_module_version": "1.5.0",
       "_model_name": "ProgressStyleModel",
       "_view_count": null,
       "_view_module": "@jupyter-widgets/base",
       "_view_module_version": "1.2.0",
       "_view_name": "StyleView",
       "bar_color": null,
       "description_width": ""
      }
     },
     "e7e22324fbbe4bb585e92cd0b7c68f97": {
      "model_module": "@jupyter-widgets/controls",
      "model_module_version": "1.5.0",
      "model_name": "HBoxModel",
      "state": {
       "_dom_classes": [],
       "_model_module": "@jupyter-widgets/controls",
       "_model_module_version": "1.5.0",
       "_model_name": "HBoxModel",
       "_view_count": null,
       "_view_module": "@jupyter-widgets/controls",
       "_view_module_version": "1.5.0",
       "_view_name": "HBoxView",
       "box_style": "",
       "children": [
        "IPY_MODEL_bd862f10c66444dcbf11c8568791df1a",
        "IPY_MODEL_9c594927a7754ab98dd6596b981293a7",
        "IPY_MODEL_39d2d05f2c334833bea42d3f3ecc7b1f"
       ],
       "layout": "IPY_MODEL_d828dfb09c6b493aa8723250ae7d6120"
      }
     },
     "e85c922f99df419f96074e556063acfa": {
      "model_module": "@jupyter-widgets/controls",
      "model_module_version": "1.5.0",
      "model_name": "DescriptionStyleModel",
      "state": {
       "_model_module": "@jupyter-widgets/controls",
       "_model_module_version": "1.5.0",
       "_model_name": "DescriptionStyleModel",
       "_view_count": null,
       "_view_module": "@jupyter-widgets/base",
       "_view_module_version": "1.2.0",
       "_view_name": "StyleView",
       "description_width": ""
      }
     },
     "ea37b929104b4bad907e947619be16bb": {
      "model_module": "@jupyter-widgets/controls",
      "model_module_version": "1.5.0",
      "model_name": "HTMLModel",
      "state": {
       "_dom_classes": [],
       "_model_module": "@jupyter-widgets/controls",
       "_model_module_version": "1.5.0",
       "_model_name": "HTMLModel",
       "_view_count": null,
       "_view_module": "@jupyter-widgets/controls",
       "_view_module_version": "1.5.0",
       "_view_name": "HTMLView",
       "description": "",
       "description_tooltip": null,
       "layout": "IPY_MODEL_f1aef0fed7af47afb0bbbb65f74b84cf",
       "placeholder": "​",
       "style": "IPY_MODEL_55ef5990d1f84d8ca05f4abb1fd145d9",
       "value": " 632/632 [00:00&lt;00:00, 4122.71 examples/s]"
      }
     },
     "ed4737bd454e486699bf431ea973e631": {
      "model_module": "@jupyter-widgets/controls",
      "model_module_version": "1.5.0",
      "model_name": "ProgressStyleModel",
      "state": {
       "_model_module": "@jupyter-widgets/controls",
       "_model_module_version": "1.5.0",
       "_model_name": "ProgressStyleModel",
       "_view_count": null,
       "_view_module": "@jupyter-widgets/base",
       "_view_module_version": "1.2.0",
       "_view_name": "StyleView",
       "bar_color": null,
       "description_width": ""
      }
     },
     "ee510fc7edda403bb0ec4eaa9d191f61": {
      "model_module": "@jupyter-widgets/controls",
      "model_module_version": "1.5.0",
      "model_name": "HTMLModel",
      "state": {
       "_dom_classes": [],
       "_model_module": "@jupyter-widgets/controls",
       "_model_module_version": "1.5.0",
       "_model_name": "HTMLModel",
       "_view_count": null,
       "_view_module": "@jupyter-widgets/controls",
       "_view_module_version": "1.5.0",
       "_view_name": "HTMLView",
       "description": "",
       "description_tooltip": null,
       "layout": "IPY_MODEL_bc01e995cbf64a81b68664d5cf81c6de",
       "placeholder": "​",
       "style": "IPY_MODEL_e85c922f99df419f96074e556063acfa",
       "value": " 758/758 [00:00&lt;00:00, 61.7kB/s]"
      }
     },
     "ee60e31af12a4b4185aaecbcb87ba106": {
      "model_module": "@jupyter-widgets/controls",
      "model_module_version": "1.5.0",
      "model_name": "DescriptionStyleModel",
      "state": {
       "_model_module": "@jupyter-widgets/controls",
       "_model_module_version": "1.5.0",
       "_model_name": "DescriptionStyleModel",
       "_view_count": null,
       "_view_module": "@jupyter-widgets/base",
       "_view_module_version": "1.2.0",
       "_view_name": "StyleView",
       "description_width": ""
      }
     },
     "f1aef0fed7af47afb0bbbb65f74b84cf": {
      "model_module": "@jupyter-widgets/base",
      "model_module_version": "1.2.0",
      "model_name": "LayoutModel",
      "state": {
       "_model_module": "@jupyter-widgets/base",
       "_model_module_version": "1.2.0",
       "_model_name": "LayoutModel",
       "_view_count": null,
       "_view_module": "@jupyter-widgets/base",
       "_view_module_version": "1.2.0",
       "_view_name": "LayoutView",
       "align_content": null,
       "align_items": null,
       "align_self": null,
       "border": null,
       "bottom": null,
       "display": null,
       "flex": null,
       "flex_flow": null,
       "grid_area": null,
       "grid_auto_columns": null,
       "grid_auto_flow": null,
       "grid_auto_rows": null,
       "grid_column": null,
       "grid_gap": null,
       "grid_row": null,
       "grid_template_areas": null,
       "grid_template_columns": null,
       "grid_template_rows": null,
       "height": null,
       "justify_content": null,
       "justify_items": null,
       "left": null,
       "margin": null,
       "max_height": null,
       "max_width": null,
       "min_height": null,
       "min_width": null,
       "object_fit": null,
       "object_position": null,
       "order": null,
       "overflow": null,
       "overflow_x": null,
       "overflow_y": null,
       "padding": null,
       "right": null,
       "top": null,
       "visibility": null,
       "width": null
      }
     },
     "f8f0cdef9fa94bf9b3494175b20a86ed": {
      "model_module": "@jupyter-widgets/controls",
      "model_module_version": "1.5.0",
      "model_name": "DescriptionStyleModel",
      "state": {
       "_model_module": "@jupyter-widgets/controls",
       "_model_module_version": "1.5.0",
       "_model_name": "DescriptionStyleModel",
       "_view_count": null,
       "_view_module": "@jupyter-widgets/base",
       "_view_module_version": "1.2.0",
       "_view_name": "StyleView",
       "description_width": ""
      }
     },
     "fcc4f9b19ba444679c807b2681e3d9ff": {
      "model_module": "@jupyter-widgets/base",
      "model_module_version": "1.2.0",
      "model_name": "LayoutModel",
      "state": {
       "_model_module": "@jupyter-widgets/base",
       "_model_module_version": "1.2.0",
       "_model_name": "LayoutModel",
       "_view_count": null,
       "_view_module": "@jupyter-widgets/base",
       "_view_module_version": "1.2.0",
       "_view_name": "LayoutView",
       "align_content": null,
       "align_items": null,
       "align_self": null,
       "border": null,
       "bottom": null,
       "display": null,
       "flex": null,
       "flex_flow": null,
       "grid_area": null,
       "grid_auto_columns": null,
       "grid_auto_flow": null,
       "grid_auto_rows": null,
       "grid_column": null,
       "grid_gap": null,
       "grid_row": null,
       "grid_template_areas": null,
       "grid_template_columns": null,
       "grid_template_rows": null,
       "height": null,
       "justify_content": null,
       "justify_items": null,
       "left": null,
       "margin": null,
       "max_height": null,
       "max_width": null,
       "min_height": null,
       "min_width": null,
       "object_fit": null,
       "object_position": null,
       "order": null,
       "overflow": null,
       "overflow_x": null,
       "overflow_y": null,
       "padding": null,
       "right": null,
       "top": null,
       "visibility": null,
       "width": null
      }
     },
     "fd9b6cd0febf42b3b875fd5b2ff2a59e": {
      "model_module": "@jupyter-widgets/controls",
      "model_module_version": "1.5.0",
      "model_name": "HTMLModel",
      "state": {
       "_dom_classes": [],
       "_model_module": "@jupyter-widgets/controls",
       "_model_module_version": "1.5.0",
       "_model_name": "HTMLModel",
       "_view_count": null,
       "_view_module": "@jupyter-widgets/controls",
       "_view_module_version": "1.5.0",
       "_view_name": "HTMLView",
       "description": "",
       "description_tooltip": null,
       "layout": "IPY_MODEL_2ef8f0326e8543479d93454ee2f444ff",
       "placeholder": "​",
       "style": "IPY_MODEL_54accca75c1743c1b4632754025d263f",
       "value": "tokenizer_config.json: 100%"
      }
     },
     "fdbfb266539e48b6b03e89a8b84f91c4": {
      "model_module": "@jupyter-widgets/base",
      "model_module_version": "1.2.0",
      "model_name": "LayoutModel",
      "state": {
       "_model_module": "@jupyter-widgets/base",
       "_model_module_version": "1.2.0",
       "_model_name": "LayoutModel",
       "_view_count": null,
       "_view_module": "@jupyter-widgets/base",
       "_view_module_version": "1.2.0",
       "_view_name": "LayoutView",
       "align_content": null,
       "align_items": null,
       "align_self": null,
       "border": null,
       "bottom": null,
       "display": null,
       "flex": null,
       "flex_flow": null,
       "grid_area": null,
       "grid_auto_columns": null,
       "grid_auto_flow": null,
       "grid_auto_rows": null,
       "grid_column": null,
       "grid_gap": null,
       "grid_row": null,
       "grid_template_areas": null,
       "grid_template_columns": null,
       "grid_template_rows": null,
       "height": null,
       "justify_content": null,
       "justify_items": null,
       "left": null,
       "margin": null,
       "max_height": null,
       "max_width": null,
       "min_height": null,
       "min_width": null,
       "object_fit": null,
       "object_position": null,
       "order": null,
       "overflow": null,
       "overflow_x": null,
       "overflow_y": null,
       "padding": null,
       "right": null,
       "top": null,
       "visibility": null,
       "width": null
      }
     },
     "ff43ff786e7f4ddd9de9e7558dfdc787": {
      "model_module": "@jupyter-widgets/controls",
      "model_module_version": "1.5.0",
      "model_name": "ProgressStyleModel",
      "state": {
       "_model_module": "@jupyter-widgets/controls",
       "_model_module_version": "1.5.0",
       "_model_name": "ProgressStyleModel",
       "_view_count": null,
       "_view_module": "@jupyter-widgets/base",
       "_view_module_version": "1.2.0",
       "_view_name": "StyleView",
       "bar_color": null,
       "description_width": ""
      }
     }
    },
    "version_major": 2,
    "version_minor": 0
   }
  }
 },
 "nbformat": 4,
 "nbformat_minor": 5
}

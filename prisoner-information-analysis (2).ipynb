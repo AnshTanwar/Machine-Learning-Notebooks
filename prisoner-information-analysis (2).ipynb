{
 "cells": [
  {
   "attachments": {
    "926c31e8-be0e-4853-b17e-04290caa05d9.jpg": {
     "image/jpeg": "[encoded data removed]"
    }
   },
   "cell_type": "markdown",
   "id": "96c8a162",
   "metadata": {
    "papermill": {
     "duration": 0.009237,
     "end_time": "2023-07-11T05:18:03.292033",
     "exception": false,
     "start_time": "2023-07-11T05:18:03.282796",
     "status": "completed"
    },
    "tags": []
   },
   "source": [
    "# <div style=\"background-color:#fff1cc; padding: 60px;\"><center> Prisoner Information Analysis</center></div> \n",
    "![](https://media.giphy.com/media/RmBY6h4kKy7JK/giphy.gif)"
   ]
  },
  {
   "cell_type": "markdown",
   "id": "0854f817",
   "metadata": {
    "papermill": {
     "duration": 0.008748,
     "end_time": "2023-07-11T05:18:03.310071",
     "exception": false,
     "start_time": "2023-07-11T05:18:03.301323",
     "status": "completed"
    },
    "tags": []
   },
   "source": [
    "# Thanks for Visting this notebook and Dataset\n",
    "<div class=\"alert alert-block alert-info\" style=\"font-size:20px; font-family:verdana;\">\n",
    "    In this notebook I have done EDA of majorly all the features available and also generated a detailed report of the dataset using SweetViz. Feel free to fork or edit the notebook and Downloading the Dataset. If you liked the notebook and Dataset consider upvoting it. It helps other people discover them.\n",
    "</div>\n"
   ]
  },
  {
   "cell_type": "code",
   "execution_count": 1,
   "id": "735c1409",
   "metadata": {
    "execution": {
     "iopub.execute_input": "2023-07-11T05:18:03.329140Z",
     "iopub.status.busy": "2023-07-11T05:18:03.328715Z",
     "iopub.status.idle": "2023-07-11T05:18:04.871635Z",
     "shell.execute_reply": "2023-07-11T05:18:04.870446Z"
    },
    "papermill": {
     "duration": 1.555707,
     "end_time": "2023-07-11T05:18:04.874481",
     "exception": false,
     "start_time": "2023-07-11T05:18:03.318774",
     "status": "completed"
    },
    "tags": []
   },
   "outputs": [],
   "source": [
    "import numpy as np \n",
    "import pandas as pd \n",
    "import matplotlib.pyplot as plt\n",
    "\n",
    "%matplotlib inline\n",
    "import seaborn as sns"
   ]
  },
  {
   "cell_type": "markdown",
   "id": "d4f67e9e",
   "metadata": {
    "papermill": {
     "duration": 0.008229,
     "end_time": "2023-07-11T05:18:04.891708",
     "exception": false,
     "start_time": "2023-07-11T05:18:04.883479",
     "status": "completed"
    },
    "tags": []
   },
   "source": [
    "# <div style=\"background-color:#fff1cc; padding: 20px;\"><center>Loading the Dataset</center></div> "
   ]
  },
  {
   "cell_type": "code",
   "execution_count": 2,
   "id": "334da234",
   "metadata": {
    "_cell_guid": "79c7e3d0-c299-4dcb-8224-4455121ee9b0",
    "_kg_hide-input": true,
    "_kg_hide-output": true,
    "_uuid": "d629ff2d2480ee46fbb7e2d37f6b5fab8052498a",
    "execution": {
     "iopub.execute_input": "2023-07-11T05:18:04.912208Z",
     "iopub.status.busy": "2023-07-11T05:18:04.911764Z",
     "iopub.status.idle": "2023-07-11T05:18:04.978911Z",
     "shell.execute_reply": "2023-07-11T05:18:04.977811Z"
    },
    "papermill": {
     "duration": 0.081625,
     "end_time": "2023-07-11T05:18:04.981848",
     "exception": false,
     "start_time": "2023-07-11T05:18:04.900223",
     "status": "completed"
    },
    "tags": []
   },
   "outputs": [
    {
     "data": {
      "text/html": [
       "<div>\n",
       "<style scoped>\n",
       "    .dataframe tbody tr th:only-of-type {\n",
       "        vertical-align: middle;\n",
       "    }\n",
       "\n",
       "    .dataframe tbody tr th {\n",
       "        vertical-align: top;\n",
       "    }\n",
       "\n",
       "    .dataframe thead th {\n",
       "        text-align: right;\n",
       "    }\n",
       "</style>\n",
       "<table border=\"1\" class=\"dataframe\">\n",
       "  <thead>\n",
       "    <tr style=\"text-align: right;\">\n",
       "      <th></th>\n",
       "      <th>Sl. No.</th>\n",
       "      <th>State/UT</th>\n",
       "      <th>Educational Standard - Illiterate</th>\n",
       "      <th>Educational Standard - Below Class X</th>\n",
       "      <th>Educational Standard - Class X &amp; above but below Graduation</th>\n",
       "      <th>Educational Standard - Graduate</th>\n",
       "      <th>Educational Standard - Holding Tech. Degree/ Diploma</th>\n",
       "      <th>Educational Standard - Post Graduate</th>\n",
       "      <th>Educational Standard - Total</th>\n",
       "      <th>Domicile - Belongs to State</th>\n",
       "      <th>...</th>\n",
       "      <th>Offences against Property - Arson - (Col. 19)</th>\n",
       "      <th>Offences against Property - Burglary - (Col. 20)</th>\n",
       "      <th>Total Offences against Property - (Col. 21)</th>\n",
       "      <th>Offences relating to Documents &amp; Property Marks - Counterfeiting - (Col. 22)</th>\n",
       "      <th>Other Crime Against Women - Cruelty by Husband or Relatives of Husband - (Col. 23)</th>\n",
       "      <th>Other Crime Against Women - Insult to the Modesty of Women - (Col. 24)</th>\n",
       "      <th>Total Other Crime Against Women - Col (23) + Col (24) - (Col. 25)</th>\n",
       "      <th>Undertrials of offences against women (Total of Col. 5 + Col. 8 + Col. 9 + Col.23 + Col.24) - (Col. 26)</th>\n",
       "      <th>Other IPC Crimes - (Col. 27)</th>\n",
       "      <th>Total Undertrials (IPC Crimes) - (Col. 28)</th>\n",
       "    </tr>\n",
       "  </thead>\n",
       "  <tbody>\n",
       "    <tr>\n",
       "      <th>0</th>\n",
       "      <td>1</td>\n",
       "      <td>Andhra Pradesh</td>\n",
       "      <td>1882</td>\n",
       "      <td>1847</td>\n",
       "      <td>883</td>\n",
       "      <td>277</td>\n",
       "      <td>49</td>\n",
       "      <td>63</td>\n",
       "      <td>5001</td>\n",
       "      <td>2243</td>\n",
       "      <td>...</td>\n",
       "      <td>1</td>\n",
       "      <td>97</td>\n",
       "      <td>1044</td>\n",
       "      <td>34</td>\n",
       "      <td>102</td>\n",
       "      <td>8</td>\n",
       "      <td>110</td>\n",
       "      <td>406</td>\n",
       "      <td>345</td>\n",
       "      <td>2747</td>\n",
       "    </tr>\n",
       "    <tr>\n",
       "      <th>1</th>\n",
       "      <td>2</td>\n",
       "      <td>Arunachal Pradesh</td>\n",
       "      <td>31</td>\n",
       "      <td>54</td>\n",
       "      <td>38</td>\n",
       "      <td>4</td>\n",
       "      <td>0</td>\n",
       "      <td>0</td>\n",
       "      <td>127</td>\n",
       "      <td>92</td>\n",
       "      <td>...</td>\n",
       "      <td>19</td>\n",
       "      <td>10</td>\n",
       "      <td>69</td>\n",
       "      <td>0</td>\n",
       "      <td>0</td>\n",
       "      <td>0</td>\n",
       "      <td>0</td>\n",
       "      <td>9</td>\n",
       "      <td>4</td>\n",
       "      <td>126</td>\n",
       "    </tr>\n",
       "    <tr>\n",
       "      <th>2</th>\n",
       "      <td>3</td>\n",
       "      <td>Assam</td>\n",
       "      <td>3097</td>\n",
       "      <td>2232</td>\n",
       "      <td>930</td>\n",
       "      <td>224</td>\n",
       "      <td>4</td>\n",
       "      <td>8</td>\n",
       "      <td>6495</td>\n",
       "      <td>2687</td>\n",
       "      <td>...</td>\n",
       "      <td>39</td>\n",
       "      <td>270</td>\n",
       "      <td>1820</td>\n",
       "      <td>29</td>\n",
       "      <td>159</td>\n",
       "      <td>1</td>\n",
       "      <td>160</td>\n",
       "      <td>601</td>\n",
       "      <td>197</td>\n",
       "      <td>5616</td>\n",
       "    </tr>\n",
       "    <tr>\n",
       "      <th>3</th>\n",
       "      <td>4</td>\n",
       "      <td>Bihar</td>\n",
       "      <td>11675</td>\n",
       "      <td>17502</td>\n",
       "      <td>11623</td>\n",
       "      <td>2606</td>\n",
       "      <td>387</td>\n",
       "      <td>394</td>\n",
       "      <td>44187</td>\n",
       "      <td>7605</td>\n",
       "      <td>...</td>\n",
       "      <td>58</td>\n",
       "      <td>290</td>\n",
       "      <td>7532</td>\n",
       "      <td>74</td>\n",
       "      <td>642</td>\n",
       "      <td>27</td>\n",
       "      <td>669</td>\n",
       "      <td>4160</td>\n",
       "      <td>503</td>\n",
       "      <td>25890</td>\n",
       "    </tr>\n",
       "    <tr>\n",
       "      <th>4</th>\n",
       "      <td>5</td>\n",
       "      <td>Chhattisgarh</td>\n",
       "      <td>3268</td>\n",
       "      <td>5997</td>\n",
       "      <td>1940</td>\n",
       "      <td>541</td>\n",
       "      <td>67</td>\n",
       "      <td>150</td>\n",
       "      <td>11963</td>\n",
       "      <td>5785</td>\n",
       "      <td>...</td>\n",
       "      <td>13</td>\n",
       "      <td>373</td>\n",
       "      <td>1753</td>\n",
       "      <td>44</td>\n",
       "      <td>32</td>\n",
       "      <td>14</td>\n",
       "      <td>46</td>\n",
       "      <td>3024</td>\n",
       "      <td>732</td>\n",
       "      <td>10336</td>\n",
       "    </tr>\n",
       "  </tbody>\n",
       "</table>\n",
       "<p>5 rows × 87 columns</p>\n",
       "</div>"
      ],
      "text/plain": [
       "  Sl. No.           State/UT  Educational Standard - Illiterate  \\\n",
       "0       1     Andhra Pradesh                               1882   \n",
       "1       2  Arunachal Pradesh                                 31   \n",
       "2       3              Assam                               3097   \n",
       "3       4              Bihar                              11675   \n",
       "4       5       Chhattisgarh                               3268   \n",
       "\n",
       "   Educational Standard - Below Class X  \\\n",
       "0                                  1847   \n",
       "1                                    54   \n",
       "2                                  2232   \n",
       "3                                 17502   \n",
       "4                                  5997   \n",
       "\n",
       "   Educational Standard - Class X & above but below Graduation  \\\n",
       "0                                                883             \n",
       "1                                                 38             \n",
       "2                                                930             \n",
       "3                                              11623             \n",
       "4                                               1940             \n",
       "\n",
       "   Educational Standard - Graduate  \\\n",
       "0                              277   \n",
       "1                                4   \n",
       "2                              224   \n",
       "3                             2606   \n",
       "4                              541   \n",
       "\n",
       "   Educational Standard - Holding Tech. Degree/ Diploma  \\\n",
       "0                                                 49      \n",
       "1                                                  0      \n",
       "2                                                  4      \n",
       "3                                                387      \n",
       "4                                                 67      \n",
       "\n",
       "   Educational Standard - Post Graduate  Educational Standard - Total  \\\n",
       "0                                    63                          5001   \n",
       "1                                     0                           127   \n",
       "2                                     8                          6495   \n",
       "3                                   394                         44187   \n",
       "4                                   150                         11963   \n",
       "\n",
       "   Domicile - Belongs to State  ...  \\\n",
       "0                         2243  ...   \n",
       "1                           92  ...   \n",
       "2                         2687  ...   \n",
       "3                         7605  ...   \n",
       "4                         5785  ...   \n",
       "\n",
       "   Offences against Property - Arson - (Col. 19)  \\\n",
       "0                                              1   \n",
       "1                                             19   \n",
       "2                                             39   \n",
       "3                                             58   \n",
       "4                                             13   \n",
       "\n",
       "   Offences against Property - Burglary - (Col. 20)  \\\n",
       "0                                                97   \n",
       "1                                                10   \n",
       "2                                               270   \n",
       "3                                               290   \n",
       "4                                               373   \n",
       "\n",
       "   Total Offences against Property - (Col. 21)  \\\n",
       "0                                         1044   \n",
       "1                                           69   \n",
       "2                                         1820   \n",
       "3                                         7532   \n",
       "4                                         1753   \n",
       "\n",
       "   Offences relating to Documents & Property Marks - Counterfeiting - (Col. 22)  \\\n",
       "0                                                 34                              \n",
       "1                                                  0                              \n",
       "2                                                 29                              \n",
       "3                                                 74                              \n",
       "4                                                 44                              \n",
       "\n",
       "   Other Crime Against Women - Cruelty by Husband or Relatives of Husband - (Col. 23)  \\\n",
       "0                                                102                                    \n",
       "1                                                  0                                    \n",
       "2                                                159                                    \n",
       "3                                                642                                    \n",
       "4                                                 32                                    \n",
       "\n",
       "   Other Crime Against Women - Insult to the Modesty of Women - (Col. 24)  \\\n",
       "0                                                  8                        \n",
       "1                                                  0                        \n",
       "2                                                  1                        \n",
       "3                                                 27                        \n",
       "4                                                 14                        \n",
       "\n",
       "   Total Other Crime Against Women - Col (23) + Col (24) - (Col. 25)  \\\n",
       "0                                                110                   \n",
       "1                                                  0                   \n",
       "2                                                160                   \n",
       "3                                                669                   \n",
       "4                                                 46                   \n",
       "\n",
       "   Undertrials of offences against women (Total of Col. 5 + Col. 8 + Col. 9 + Col.23 + Col.24) - (Col. 26)  \\\n",
       "0                                                406                                                         \n",
       "1                                                  9                                                         \n",
       "2                                                601                                                         \n",
       "3                                               4160                                                         \n",
       "4                                               3024                                                         \n",
       "\n",
       "   Other IPC Crimes - (Col. 27)  Total Undertrials (IPC Crimes) - (Col. 28)  \n",
       "0                           345                                        2747  \n",
       "1                             4                                         126  \n",
       "2                           197                                        5616  \n",
       "3                           503                                       25890  \n",
       "4                           732                                       10336  \n",
       "\n",
       "[5 rows x 87 columns]"
      ]
     },
     "execution_count": 2,
     "metadata": {},
     "output_type": "execute_result"
    }
   ],
   "source": [
    "data = pd.read_csv(\"/kaggle/input/prisoners-dataset/Prisoners_data.csv\")\n",
    "data.head()\n"
   ]
  },
  {
   "cell_type": "code",
   "execution_count": 3,
   "id": "a4841678",
   "metadata": {
    "execution": {
     "iopub.execute_input": "2023-07-11T05:18:05.003052Z",
     "iopub.status.busy": "2023-07-11T05:18:05.002106Z",
     "iopub.status.idle": "2023-07-11T05:18:05.224798Z",
     "shell.execute_reply": "2023-07-11T05:18:05.223469Z"
    },
    "papermill": {
     "duration": 0.236856,
     "end_time": "2023-07-11T05:18:05.228161",
     "exception": false,
     "start_time": "2023-07-11T05:18:04.991305",
     "status": "completed"
    },
    "tags": []
   },
   "outputs": [
    {
     "data": {
      "text/html": [
       "<div>\n",
       "<style scoped>\n",
       "    .dataframe tbody tr th:only-of-type {\n",
       "        vertical-align: middle;\n",
       "    }\n",
       "\n",
       "    .dataframe tbody tr th {\n",
       "        vertical-align: top;\n",
       "    }\n",
       "\n",
       "    .dataframe thead th {\n",
       "        text-align: right;\n",
       "    }\n",
       "</style>\n",
       "<table border=\"1\" class=\"dataframe\">\n",
       "  <thead>\n",
       "    <tr style=\"text-align: right;\">\n",
       "      <th></th>\n",
       "      <th>Educational Standard - Illiterate</th>\n",
       "      <th>Educational Standard - Below Class X</th>\n",
       "      <th>Educational Standard - Class X &amp; above but below Graduation</th>\n",
       "      <th>Educational Standard - Graduate</th>\n",
       "      <th>Educational Standard - Holding Tech. Degree/ Diploma</th>\n",
       "      <th>Educational Standard - Post Graduate</th>\n",
       "      <th>Educational Standard - Total</th>\n",
       "      <th>Domicile - Belongs to State</th>\n",
       "      <th>Domicile - Belongs to other State</th>\n",
       "      <th>Domicile - Belongs to other Country</th>\n",
       "      <th>...</th>\n",
       "      <th>Offences against Property - Arson - (Col. 19)</th>\n",
       "      <th>Offences against Property - Burglary - (Col. 20)</th>\n",
       "      <th>Total Offences against Property - (Col. 21)</th>\n",
       "      <th>Offences relating to Documents &amp; Property Marks - Counterfeiting - (Col. 22)</th>\n",
       "      <th>Other Crime Against Women - Cruelty by Husband or Relatives of Husband - (Col. 23)</th>\n",
       "      <th>Other Crime Against Women - Insult to the Modesty of Women - (Col. 24)</th>\n",
       "      <th>Total Other Crime Against Women - Col (23) + Col (24) - (Col. 25)</th>\n",
       "      <th>Undertrials of offences against women (Total of Col. 5 + Col. 8 + Col. 9 + Col.23 + Col.24) - (Col. 26)</th>\n",
       "      <th>Other IPC Crimes - (Col. 27)</th>\n",
       "      <th>Total Undertrials (IPC Crimes) - (Col. 28)</th>\n",
       "    </tr>\n",
       "  </thead>\n",
       "  <tbody>\n",
       "    <tr>\n",
       "      <th>count</th>\n",
       "      <td>39.000000</td>\n",
       "      <td>39.000000</td>\n",
       "      <td>39.000000</td>\n",
       "      <td>39.000000</td>\n",
       "      <td>39.000000</td>\n",
       "      <td>39.000000</td>\n",
       "      <td>39.000000</td>\n",
       "      <td>39.000000</td>\n",
       "      <td>39.000000</td>\n",
       "      <td>39.000000</td>\n",
       "      <td>...</td>\n",
       "      <td>39.000000</td>\n",
       "      <td>39.000000</td>\n",
       "      <td>39.000000</td>\n",
       "      <td>39.000000</td>\n",
       "      <td>39.000000</td>\n",
       "      <td>39.000000</td>\n",
       "      <td>39.000000</td>\n",
       "      <td>39.000000</td>\n",
       "      <td>39.000000</td>\n",
       "      <td>39.000000</td>\n",
       "    </tr>\n",
       "    <tr>\n",
       "      <th>mean</th>\n",
       "      <td>7715.153846</td>\n",
       "      <td>11645.076923</td>\n",
       "      <td>6543.923077</td>\n",
       "      <td>1828.538462</td>\n",
       "      <td>375.923077</td>\n",
       "      <td>495.076923</td>\n",
       "      <td>28603.692308</td>\n",
       "      <td>8049.692308</td>\n",
       "      <td>523.307692</td>\n",
       "      <td>87.692308</td>\n",
       "      <td>...</td>\n",
       "      <td>53.307692</td>\n",
       "      <td>437.923077</td>\n",
       "      <td>5963.923077</td>\n",
       "      <td>108.538462</td>\n",
       "      <td>320.307692</td>\n",
       "      <td>35.461538</td>\n",
       "      <td>355.769231</td>\n",
       "      <td>4963.076923</td>\n",
       "      <td>896.769231</td>\n",
       "      <td>21812.000000</td>\n",
       "    </tr>\n",
       "    <tr>\n",
       "      <th>std</th>\n",
       "      <td>21796.316049</td>\n",
       "      <td>32532.639345</td>\n",
       "      <td>18146.010568</td>\n",
       "      <td>5189.484529</td>\n",
       "      <td>1065.486308</td>\n",
       "      <td>1421.156097</td>\n",
       "      <td>80064.731536</td>\n",
       "      <td>23057.717742</td>\n",
       "      <td>1422.993660</td>\n",
       "      <td>242.932431</td>\n",
       "      <td>...</td>\n",
       "      <td>155.903842</td>\n",
       "      <td>1254.172875</td>\n",
       "      <td>16496.774111</td>\n",
       "      <td>310.364119</td>\n",
       "      <td>927.045623</td>\n",
       "      <td>95.342553</td>\n",
       "      <td>1019.991240</td>\n",
       "      <td>14081.743665</td>\n",
       "      <td>2559.522575</td>\n",
       "      <td>61091.629359</td>\n",
       "    </tr>\n",
       "    <tr>\n",
       "      <th>min</th>\n",
       "      <td>0.000000</td>\n",
       "      <td>2.000000</td>\n",
       "      <td>0.000000</td>\n",
       "      <td>0.000000</td>\n",
       "      <td>0.000000</td>\n",
       "      <td>0.000000</td>\n",
       "      <td>2.000000</td>\n",
       "      <td>1.000000</td>\n",
       "      <td>0.000000</td>\n",
       "      <td>0.000000</td>\n",
       "      <td>...</td>\n",
       "      <td>0.000000</td>\n",
       "      <td>0.000000</td>\n",
       "      <td>0.000000</td>\n",
       "      <td>0.000000</td>\n",
       "      <td>0.000000</td>\n",
       "      <td>0.000000</td>\n",
       "      <td>0.000000</td>\n",
       "      <td>0.000000</td>\n",
       "      <td>0.000000</td>\n",
       "      <td>0.000000</td>\n",
       "    </tr>\n",
       "    <tr>\n",
       "      <th>25%</th>\n",
       "      <td>51.500000</td>\n",
       "      <td>306.000000</td>\n",
       "      <td>99.000000</td>\n",
       "      <td>16.500000</td>\n",
       "      <td>2.000000</td>\n",
       "      <td>2.500000</td>\n",
       "      <td>489.000000</td>\n",
       "      <td>114.000000</td>\n",
       "      <td>13.500000</td>\n",
       "      <td>2.500000</td>\n",
       "      <td>...</td>\n",
       "      <td>0.000000</td>\n",
       "      <td>6.500000</td>\n",
       "      <td>76.500000</td>\n",
       "      <td>0.000000</td>\n",
       "      <td>0.000000</td>\n",
       "      <td>0.000000</td>\n",
       "      <td>0.000000</td>\n",
       "      <td>76.500000</td>\n",
       "      <td>25.500000</td>\n",
       "      <td>344.500000</td>\n",
       "    </tr>\n",
       "    <tr>\n",
       "      <th>50%</th>\n",
       "      <td>1882.000000</td>\n",
       "      <td>1847.000000</td>\n",
       "      <td>1243.000000</td>\n",
       "      <td>277.000000</td>\n",
       "      <td>67.000000</td>\n",
       "      <td>91.000000</td>\n",
       "      <td>5001.000000</td>\n",
       "      <td>1698.000000</td>\n",
       "      <td>145.000000</td>\n",
       "      <td>8.000000</td>\n",
       "      <td>...</td>\n",
       "      <td>4.000000</td>\n",
       "      <td>94.000000</td>\n",
       "      <td>1215.000000</td>\n",
       "      <td>10.000000</td>\n",
       "      <td>25.000000</td>\n",
       "      <td>5.000000</td>\n",
       "      <td>57.000000</td>\n",
       "      <td>601.000000</td>\n",
       "      <td>134.000000</td>\n",
       "      <td>3039.000000</td>\n",
       "    </tr>\n",
       "    <tr>\n",
       "      <th>75%</th>\n",
       "      <td>3972.500000</td>\n",
       "      <td>6847.500000</td>\n",
       "      <td>4133.500000</td>\n",
       "      <td>895.500000</td>\n",
       "      <td>232.000000</td>\n",
       "      <td>192.500000</td>\n",
       "      <td>16286.500000</td>\n",
       "      <td>4385.000000</td>\n",
       "      <td>328.500000</td>\n",
       "      <td>41.500000</td>\n",
       "      <td>...</td>\n",
       "      <td>23.500000</td>\n",
       "      <td>261.500000</td>\n",
       "      <td>3502.500000</td>\n",
       "      <td>71.500000</td>\n",
       "      <td>148.500000</td>\n",
       "      <td>16.000000</td>\n",
       "      <td>149.000000</td>\n",
       "      <td>3073.500000</td>\n",
       "      <td>554.000000</td>\n",
       "      <td>12455.000000</td>\n",
       "    </tr>\n",
       "    <tr>\n",
       "      <th>max</th>\n",
       "      <td>100297.000000</td>\n",
       "      <td>151386.000000</td>\n",
       "      <td>85071.000000</td>\n",
       "      <td>23771.000000</td>\n",
       "      <td>4887.000000</td>\n",
       "      <td>6436.000000</td>\n",
       "      <td>371848.000000</td>\n",
       "      <td>104646.000000</td>\n",
       "      <td>6803.000000</td>\n",
       "      <td>1140.000000</td>\n",
       "      <td>...</td>\n",
       "      <td>693.000000</td>\n",
       "      <td>5693.000000</td>\n",
       "      <td>77531.000000</td>\n",
       "      <td>1411.000000</td>\n",
       "      <td>4164.000000</td>\n",
       "      <td>461.000000</td>\n",
       "      <td>4625.000000</td>\n",
       "      <td>64520.000000</td>\n",
       "      <td>11658.000000</td>\n",
       "      <td>283556.000000</td>\n",
       "    </tr>\n",
       "  </tbody>\n",
       "</table>\n",
       "<p>8 rows × 85 columns</p>\n",
       "</div>"
      ],
      "text/plain": [
       "       Educational Standard - Illiterate  \\\n",
       "count                          39.000000   \n",
       "mean                         7715.153846   \n",
       "std                         21796.316049   \n",
       "min                             0.000000   \n",
       "25%                            51.500000   \n",
       "50%                          1882.000000   \n",
       "75%                          3972.500000   \n",
       "max                        100297.000000   \n",
       "\n",
       "       Educational Standard - Below Class X  \\\n",
       "count                             39.000000   \n",
       "mean                           11645.076923   \n",
       "std                            32532.639345   \n",
       "min                                2.000000   \n",
       "25%                              306.000000   \n",
       "50%                             1847.000000   \n",
       "75%                             6847.500000   \n",
       "max                           151386.000000   \n",
       "\n",
       "       Educational Standard - Class X & above but below Graduation  \\\n",
       "count                                          39.000000             \n",
       "mean                                         6543.923077             \n",
       "std                                         18146.010568             \n",
       "min                                             0.000000             \n",
       "25%                                            99.000000             \n",
       "50%                                          1243.000000             \n",
       "75%                                          4133.500000             \n",
       "max                                         85071.000000             \n",
       "\n",
       "       Educational Standard - Graduate  \\\n",
       "count                        39.000000   \n",
       "mean                       1828.538462   \n",
       "std                        5189.484529   \n",
       "min                           0.000000   \n",
       "25%                          16.500000   \n",
       "50%                         277.000000   \n",
       "75%                         895.500000   \n",
       "max                       23771.000000   \n",
       "\n",
       "       Educational Standard - Holding Tech. Degree/ Diploma  \\\n",
       "count                                          39.000000      \n",
       "mean                                          375.923077      \n",
       "std                                          1065.486308      \n",
       "min                                             0.000000      \n",
       "25%                                             2.000000      \n",
       "50%                                            67.000000      \n",
       "75%                                           232.000000      \n",
       "max                                          4887.000000      \n",
       "\n",
       "       Educational Standard - Post Graduate  Educational Standard - Total  \\\n",
       "count                             39.000000                     39.000000   \n",
       "mean                             495.076923                  28603.692308   \n",
       "std                             1421.156097                  80064.731536   \n",
       "min                                0.000000                      2.000000   \n",
       "25%                                2.500000                    489.000000   \n",
       "50%                               91.000000                   5001.000000   \n",
       "75%                              192.500000                  16286.500000   \n",
       "max                             6436.000000                 371848.000000   \n",
       "\n",
       "       Domicile - Belongs to State  Domicile - Belongs to other State  \\\n",
       "count                    39.000000                          39.000000   \n",
       "mean                   8049.692308                         523.307692   \n",
       "std                   23057.717742                        1422.993660   \n",
       "min                       1.000000                           0.000000   \n",
       "25%                     114.000000                          13.500000   \n",
       "50%                    1698.000000                         145.000000   \n",
       "75%                    4385.000000                         328.500000   \n",
       "max                  104646.000000                        6803.000000   \n",
       "\n",
       "       Domicile - Belongs to other Country  ...  \\\n",
       "count                            39.000000  ...   \n",
       "mean                             87.692308  ...   \n",
       "std                             242.932431  ...   \n",
       "min                               0.000000  ...   \n",
       "25%                               2.500000  ...   \n",
       "50%                               8.000000  ...   \n",
       "75%                              41.500000  ...   \n",
       "max                            1140.000000  ...   \n",
       "\n",
       "       Offences against Property - Arson - (Col. 19)  \\\n",
       "count                                      39.000000   \n",
       "mean                                       53.307692   \n",
       "std                                       155.903842   \n",
       "min                                         0.000000   \n",
       "25%                                         0.000000   \n",
       "50%                                         4.000000   \n",
       "75%                                        23.500000   \n",
       "max                                       693.000000   \n",
       "\n",
       "       Offences against Property - Burglary - (Col. 20)  \\\n",
       "count                                         39.000000   \n",
       "mean                                         437.923077   \n",
       "std                                         1254.172875   \n",
       "min                                            0.000000   \n",
       "25%                                            6.500000   \n",
       "50%                                           94.000000   \n",
       "75%                                          261.500000   \n",
       "max                                         5693.000000   \n",
       "\n",
       "       Total Offences against Property - (Col. 21)  \\\n",
       "count                                    39.000000   \n",
       "mean                                   5963.923077   \n",
       "std                                   16496.774111   \n",
       "min                                       0.000000   \n",
       "25%                                      76.500000   \n",
       "50%                                    1215.000000   \n",
       "75%                                    3502.500000   \n",
       "max                                   77531.000000   \n",
       "\n",
       "       Offences relating to Documents & Property Marks - Counterfeiting - (Col. 22)  \\\n",
       "count                                          39.000000                              \n",
       "mean                                          108.538462                              \n",
       "std                                           310.364119                              \n",
       "min                                             0.000000                              \n",
       "25%                                             0.000000                              \n",
       "50%                                            10.000000                              \n",
       "75%                                            71.500000                              \n",
       "max                                          1411.000000                              \n",
       "\n",
       "       Other Crime Against Women - Cruelty by Husband or Relatives of Husband - (Col. 23)  \\\n",
       "count                                          39.000000                                    \n",
       "mean                                          320.307692                                    \n",
       "std                                           927.045623                                    \n",
       "min                                             0.000000                                    \n",
       "25%                                             0.000000                                    \n",
       "50%                                            25.000000                                    \n",
       "75%                                           148.500000                                    \n",
       "max                                          4164.000000                                    \n",
       "\n",
       "       Other Crime Against Women - Insult to the Modesty of Women - (Col. 24)  \\\n",
       "count                                          39.000000                        \n",
       "mean                                           35.461538                        \n",
       "std                                            95.342553                        \n",
       "min                                             0.000000                        \n",
       "25%                                             0.000000                        \n",
       "50%                                             5.000000                        \n",
       "75%                                            16.000000                        \n",
       "max                                           461.000000                        \n",
       "\n",
       "       Total Other Crime Against Women - Col (23) + Col (24) - (Col. 25)  \\\n",
       "count                                          39.000000                   \n",
       "mean                                          355.769231                   \n",
       "std                                          1019.991240                   \n",
       "min                                             0.000000                   \n",
       "25%                                             0.000000                   \n",
       "50%                                            57.000000                   \n",
       "75%                                           149.000000                   \n",
       "max                                          4625.000000                   \n",
       "\n",
       "       Undertrials of offences against women (Total of Col. 5 + Col. 8 + Col. 9 + Col.23 + Col.24) - (Col. 26)  \\\n",
       "count                                          39.000000                                                         \n",
       "mean                                         4963.076923                                                         \n",
       "std                                         14081.743665                                                         \n",
       "min                                             0.000000                                                         \n",
       "25%                                            76.500000                                                         \n",
       "50%                                           601.000000                                                         \n",
       "75%                                          3073.500000                                                         \n",
       "max                                         64520.000000                                                         \n",
       "\n",
       "       Other IPC Crimes - (Col. 27)  \\\n",
       "count                     39.000000   \n",
       "mean                     896.769231   \n",
       "std                     2559.522575   \n",
       "min                        0.000000   \n",
       "25%                       25.500000   \n",
       "50%                      134.000000   \n",
       "75%                      554.000000   \n",
       "max                    11658.000000   \n",
       "\n",
       "       Total Undertrials (IPC Crimes) - (Col. 28)  \n",
       "count                                   39.000000  \n",
       "mean                                 21812.000000  \n",
       "std                                  61091.629359  \n",
       "min                                      0.000000  \n",
       "25%                                    344.500000  \n",
       "50%                                   3039.000000  \n",
       "75%                                  12455.000000  \n",
       "max                                 283556.000000  \n",
       "\n",
       "[8 rows x 85 columns]"
      ]
     },
     "execution_count": 3,
     "metadata": {},
     "output_type": "execute_result"
    }
   ],
   "source": [
    "data.describe()"
   ]
  },
  {
   "cell_type": "markdown",
   "id": "2e5f9e5d",
   "metadata": {
    "papermill": {
     "duration": 0.009916,
     "end_time": "2023-07-11T05:18:05.248203",
     "exception": false,
     "start_time": "2023-07-11T05:18:05.238287",
     "status": "completed"
    },
    "tags": []
   },
   "source": [
    "# <div style=\"background-color:#fff1cc; padding: 20px;\"><center>Number of Convicts and Under Trial people</center></div> "
   ]
  },
  {
   "cell_type": "code",
   "execution_count": 4,
   "id": "ca66bd28",
   "metadata": {
    "execution": {
     "iopub.execute_input": "2023-07-11T05:18:05.271968Z",
     "iopub.status.busy": "2023-07-11T05:18:05.271233Z",
     "iopub.status.idle": "2023-07-11T05:18:20.064946Z",
     "shell.execute_reply": "2023-07-11T05:18:20.063585Z"
    },
    "papermill": {
     "duration": 14.808179,
     "end_time": "2023-07-11T05:18:20.067889",
     "exception": false,
     "start_time": "2023-07-11T05:18:05.259710",
     "status": "completed"
    },
    "scrolled": true,
    "tags": []
   },
   "outputs": [
    {
     "name": "stdout",
     "output_type": "stream",
     "text": [
      "Requirement already satisfied: plotly in /opt/conda/lib/python3.10/site-packages (5.14.1)\r\n",
      "Requirement already satisfied: tenacity>=6.2.0 in /opt/conda/lib/python3.10/site-packages (from plotly) (8.2.2)\r\n",
      "Requirement already satisfied: packaging in /opt/conda/lib/python3.10/site-packages (from plotly) (21.3)\r\n",
      "Requirement already satisfied: pyparsing!=3.0.5,>=2.0.2 in /opt/conda/lib/python3.10/site-packages (from packaging->plotly) (3.0.9)\r\n",
      "\u001b[33mWARNING: Running pip as the 'root' user can result in broken permissions and conflicting behaviour with the system package manager. It is recommended to use a virtual environment instead: https://pip.pypa.io/warnings/venv\u001b[0m\u001b[33m\r\n",
      "\u001b[0m"
     ]
    }
   ],
   "source": [
    "!python -m pip install plotly"
   ]
  },
  {
   "cell_type": "code",
   "execution_count": 5,
   "id": "ffe131a5",
   "metadata": {
    "_kg_hide-input": true,
    "execution": {
     "iopub.execute_input": "2023-07-11T05:18:20.091313Z",
     "iopub.status.busy": "2023-07-11T05:18:20.090862Z",
     "iopub.status.idle": "2023-07-11T05:18:20.887904Z",
     "shell.execute_reply": "2023-07-11T05:18:20.886677Z"
    },
    "papermill": {
     "duration": 0.812155,
     "end_time": "2023-07-11T05:18:20.890514",
     "exception": false,
     "start_time": "2023-07-11T05:18:20.078359",
     "status": "completed"
    },
    "tags": []
   },
   "outputs": [
    {
     "data": {
      "text/plain": [
       "Text(0.5, 1.0, 'Number of Under Trial People in Top 10 States')"
      ]
     },
     "execution_count": 5,
     "metadata": {},
     "output_type": "execute_result"
    },
    {
     "data": {
      "image/png": "[encoded data removed]",
      "text/plain": [
       "<Figure size 1000x1000 with 2 Axes>"
      ]
     },
     "metadata": {},
     "output_type": "display_data"
    }
   ],
   "source": [
    "import seaborn as sns\n",
    "\n",
    "state = data.groupby(['State/UT'])['Convicts - Total'].sum().sort_values(ascending= True)\n",
    "state = state.tail(10)\n",
    "\n",
    "state2 = data.groupby(['State/UT'])['Undertrials - Total'].sum().sort_values(ascending=True)\n",
    "state2 = state2.tail(10)\n",
    "\n",
    "fig, axarr = plt.subplots(2, 1, figsize=(10, 10))\n",
    "\n",
    "state.plot.barh(\n",
    "    ax=axarr[0] , fontsize=12, color='orange'\n",
    ")\n",
    "axarr[0].set_title(\"Number of Convicts in Top 10 States\", fontsize=18)\n",
    "state2.plot.barh(\n",
    "    ax=axarr[1], fontsize=12, color='green'\n",
    ")\n",
    "axarr[1].set_title(\"Number of Under Trial People in Top 10 States\", fontsize=18)\n",
    "#plt.subplots_adjust(hspace=.4)\n"
   ]
  },
  {
   "cell_type": "markdown",
   "id": "5a504810",
   "metadata": {
    "papermill": {
     "duration": 0.011461,
     "end_time": "2023-07-11T05:18:20.913842",
     "exception": false,
     "start_time": "2023-07-11T05:18:20.902381",
     "status": "completed"
    },
    "tags": []
   },
   "source": [
    "# <div style=\"background-color:#fff1cc; padding: 20px;\"><center>Pie chart for Male vs Female</center></div> "
   ]
  },
  {
   "cell_type": "code",
   "execution_count": 6,
   "id": "7b1c3f7b",
   "metadata": {
    "_kg_hide-input": true,
    "execution": {
     "iopub.execute_input": "2023-07-11T05:18:20.939891Z",
     "iopub.status.busy": "2023-07-11T05:18:20.939456Z",
     "iopub.status.idle": "2023-07-11T05:18:21.538311Z",
     "shell.execute_reply": "2023-07-11T05:18:21.537061Z"
    },
    "papermill": {
     "duration": 0.614575,
     "end_time": "2023-07-11T05:18:21.540716",
     "exception": false,
     "start_time": "2023-07-11T05:18:20.926141",
     "status": "completed"
    },
    "tags": []
   },
   "outputs": [
    {
     "data": {
      "text/html": [
       "        <script type=\"text/javascript\">\n",
       "        window.PlotlyConfig = {MathJaxConfig: 'local'};\n",
       "        if (window.MathJax && window.MathJax.Hub && window.MathJax.Hub.Config) {window.MathJax.Hub.Config({SVG: {font: \"STIX-Web\"}});}\n",
       "        if (typeof require !== 'undefined') {\n",
       "        require.undef(\"plotly\");\n",
       "        requirejs.config({\n",
       "            paths: {\n",
       "                'plotly': ['https://cdn.plot.ly/plotly-2.20.0.min']\n",
       "            }\n",
       "        });\n",
       "        require(['plotly'], function(Plotly) {\n",
       "            window._Plotly = Plotly;\n",
       "        });\n",
       "        }\n",
       "        </script>\n",
       "        "
      ]
     },
     "metadata": {},
     "output_type": "display_data"
    },
    {
     "data": {
      "text/html": [
       "<div>                            <div id=\"95b78b88-bb51-467c-97b2-49d0a2ebccc9\" class=\"plotly-graph-div\" style=\"height:525px; width:100%;\"></div>            <script type=\"text/javascript\">                require([\"plotly\"], function(Plotly) {                    window.PLOTLYENV=window.PLOTLYENV || {};                                    if (document.getElementById(\"95b78b88-bb51-467c-97b2-49d0a2ebccc9\")) {                    Plotly.newPlot(                        \"95b78b88-bb51-467c-97b2-49d0a2ebccc9\",                        [{\"labels\":[\"Male\",\"Female\"],\"marker\":{\"colors\":[\"purple\",\"pink\"]},\"name\":\"Undertrials\",\"values\":[1061097,43884],\"type\":\"pie\",\"domain\":{\"x\":[0.0,0.2888888888888889],\"y\":[0.0,1.0]},\"hole\":0.3,\"hoverinfo\":\"label+percent+name\"},{\"labels\":[\"Male\",\"Female\"],\"marker\":{\"colors\":[\"orange\",\"pink\"]},\"name\":\"Convicts\",\"values\":[320622,13686],\"type\":\"pie\",\"domain\":{\"x\":[0.35555555555555557,0.6444444444444445],\"y\":[0.0,1.0]},\"hole\":0.3,\"hoverinfo\":\"label+percent+name\"},{\"labels\":[\"Male\",\"Female\"],\"marker\":{\"colors\":[\"purple\",\"pink\"]},\"name\":\"Detenues\",\"values\":[10452,186],\"type\":\"pie\",\"domain\":{\"x\":[0.7111111111111111,1.0],\"y\":[0.0,1.0]},\"hole\":0.3,\"hoverinfo\":\"label+percent+name\"}],                        {\"template\":{\"data\":{\"histogram2dcontour\":[{\"type\":\"histogram2dcontour\",\"colorbar\":{\"outlinewidth\":0,\"ticks\":\"\"},\"colorscale\":[[0.0,\"#0d0887\"],[0.1111111111111111,\"#46039f\"],[0.2222222222222222,\"#7201a8\"],[0.3333333333333333,\"#9c179e\"],[0.4444444444444444,\"#bd3786\"],[0.5555555555555556,\"#d8576b\"],[0.6666666666666666,\"#ed7953\"],[0.7777777777777778,\"#fb9f3a\"],[0.8888888888888888,\"#fdca26\"],[1.0,\"#f0f921\"]]}],\"choropleth\":[{\"type\":\"choropleth\",\"colorbar\":{\"outlinewidth\":0,\"ticks\":\"\"}}],\"histogram2d\":[{\"type\":\"histogram2d\",\"colorbar\":{\"outlinewidth\":0,\"ticks\":\"\"},\"colorscale\":[[0.0,\"#0d0887\"],[0.1111111111111111,\"#46039f\"],[0.2222222222222222,\"#7201a8\"],[0.3333333333333333,\"#9c179e\"],[0.4444444444444444,\"#bd3786\"],[0.5555555555555556,\"#d8576b\"],[0.6666666666666666,\"#ed7953\"],[0.7777777777777778,\"#fb9f3a\"],[0.8888888888888888,\"#fdca26\"],[1.0,\"#f0f921\"]]}],\"heatmap\":[{\"type\":\"heatmap\",\"colorbar\":{\"outlinewidth\":0,\"ticks\":\"\"},\"colorscale\":[[0.0,\"#0d0887\"],[0.1111111111111111,\"#46039f\"],[0.2222222222222222,\"#7201a8\"],[0.3333333333333333,\"#9c179e\"],[0.4444444444444444,\"#bd3786\"],[0.5555555555555556,\"#d8576b\"],[0.6666666666666666,\"#ed7953\"],[0.7777777777777778,\"#fb9f3a\"],[0.8888888888888888,\"#fdca26\"],[1.0,\"#f0f921\"]]}],\"heatmapgl\":[{\"type\":\"heatmapgl\",\"colorbar\":{\"outlinewidth\":0,\"ticks\":\"\"},\"colorscale\":[[0.0,\"#0d0887\"],[0.1111111111111111,\"#46039f\"],[0.2222222222222222,\"#7201a8\"],[0.3333333333333333,\"#9c179e\"],[0.4444444444444444,\"#bd3786\"],[0.5555555555555556,\"#d8576b\"],[0.6666666666666666,\"#ed7953\"],[0.7777777777777778,\"#fb9f3a\"],[0.8888888888888888,\"#fdca26\"],[1.0,\"#f0f921\"]]}],\"contourcarpet\":[{\"type\":\"contourcarpet\",\"colorbar\":{\"outlinewidth\":0,\"ticks\":\"\"}}],\"contour\":[{\"type\":\"contour\",\"colorbar\":{\"outlinewidth\":0,\"ticks\":\"\"},\"colorscale\":[[0.0,\"#0d0887\"],[0.1111111111111111,\"#46039f\"],[0.2222222222222222,\"#7201a8\"],[0.3333333333333333,\"#9c179e\"],[0.4444444444444444,\"#bd3786\"],[0.5555555555555556,\"#d8576b\"],[0.6666666666666666,\"#ed7953\"],[0.7777777777777778,\"#fb9f3a\"],[0.8888888888888888,\"#fdca26\"],[1.0,\"#f0f921\"]]}],\"surface\":[{\"type\":\"surface\",\"colorbar\":{\"outlinewidth\":0,\"ticks\":\"\"},\"colorscale\":[[0.0,\"#0d0887\"],[0.1111111111111111,\"#46039f\"],[0.2222222222222222,\"#7201a8\"],[0.3333333333333333,\"#9c179e\"],[0.4444444444444444,\"#bd3786\"],[0.5555555555555556,\"#d8576b\"],[0.6666666666666666,\"#ed7953\"],[0.7777777777777778,\"#fb9f3a\"],[0.8888888888888888,\"#fdca26\"],[1.0,\"#f0f921\"]]}],\"mesh3d\":[{\"type\":\"mesh3d\",\"colorbar\":{\"outlinewidth\":0,\"ticks\":\"\"}}],\"scatter\":[{\"fillpattern\":{\"fillmode\":\"overlay\",\"size\":10,\"solidity\":0.2},\"type\":\"scatter\"}],\"parcoords\":[{\"type\":\"parcoords\",\"line\":{\"colorbar\":{\"outlinewidth\":0,\"ticks\":\"\"}}}],\"scatterpolargl\":[{\"type\":\"scatterpolargl\",\"marker\":{\"colorbar\":{\"outlinewidth\":0,\"ticks\":\"\"}}}],\"bar\":[{\"error_x\":{\"color\":\"#2a3f5f\"},\"error_y\":{\"color\":\"#2a3f5f\"},\"marker\":{\"line\":{\"color\":\"#E5ECF6\",\"width\":0.5},\"pattern\":{\"fillmode\":\"overlay\",\"size\":10,\"solidity\":0.2}},\"type\":\"bar\"}],\"scattergeo\":[{\"type\":\"scattergeo\",\"marker\":{\"colorbar\":{\"outlinewidth\":0,\"ticks\":\"\"}}}],\"scatterpolar\":[{\"type\":\"scatterpolar\",\"marker\":{\"colorbar\":{\"outlinewidth\":0,\"ticks\":\"\"}}}],\"histogram\":[{\"marker\":{\"pattern\":{\"fillmode\":\"overlay\",\"size\":10,\"solidity\":0.2}},\"type\":\"histogram\"}],\"scattergl\":[{\"type\":\"scattergl\",\"marker\":{\"colorbar\":{\"outlinewidth\":0,\"ticks\":\"\"}}}],\"scatter3d\":[{\"type\":\"scatter3d\",\"line\":{\"colorbar\":{\"outlinewidth\":0,\"ticks\":\"\"}},\"marker\":{\"colorbar\":{\"outlinewidth\":0,\"ticks\":\"\"}}}],\"scattermapbox\":[{\"type\":\"scattermapbox\",\"marker\":{\"colorbar\":{\"outlinewidth\":0,\"ticks\":\"\"}}}],\"scatterternary\":[{\"type\":\"scatterternary\",\"marker\":{\"colorbar\":{\"outlinewidth\":0,\"ticks\":\"\"}}}],\"scattercarpet\":[{\"type\":\"scattercarpet\",\"marker\":{\"colorbar\":{\"outlinewidth\":0,\"ticks\":\"\"}}}],\"carpet\":[{\"aaxis\":{\"endlinecolor\":\"#2a3f5f\",\"gridcolor\":\"white\",\"linecolor\":\"white\",\"minorgridcolor\":\"white\",\"startlinecolor\":\"#2a3f5f\"},\"baxis\":{\"endlinecolor\":\"#2a3f5f\",\"gridcolor\":\"white\",\"linecolor\":\"white\",\"minorgridcolor\":\"white\",\"startlinecolor\":\"#2a3f5f\"},\"type\":\"carpet\"}],\"table\":[{\"cells\":{\"fill\":{\"color\":\"#EBF0F8\"},\"line\":{\"color\":\"white\"}},\"header\":{\"fill\":{\"color\":\"#C8D4E3\"},\"line\":{\"color\":\"white\"}},\"type\":\"table\"}],\"barpolar\":[{\"marker\":{\"line\":{\"color\":\"#E5ECF6\",\"width\":0.5},\"pattern\":{\"fillmode\":\"overlay\",\"size\":10,\"solidity\":0.2}},\"type\":\"barpolar\"}],\"pie\":[{\"automargin\":true,\"type\":\"pie\"}]},\"layout\":{\"autotypenumbers\":\"strict\",\"colorway\":[\"#636efa\",\"#EF553B\",\"#00cc96\",\"#ab63fa\",\"#FFA15A\",\"#19d3f3\",\"#FF6692\",\"#B6E880\",\"#FF97FF\",\"#FECB52\"],\"font\":{\"color\":\"#2a3f5f\"},\"hovermode\":\"closest\",\"hoverlabel\":{\"align\":\"left\"},\"paper_bgcolor\":\"white\",\"plot_bgcolor\":\"#E5ECF6\",\"polar\":{\"bgcolor\":\"#E5ECF6\",\"angularaxis\":{\"gridcolor\":\"white\",\"linecolor\":\"white\",\"ticks\":\"\"},\"radialaxis\":{\"gridcolor\":\"white\",\"linecolor\":\"white\",\"ticks\":\"\"}},\"ternary\":{\"bgcolor\":\"#E5ECF6\",\"aaxis\":{\"gridcolor\":\"white\",\"linecolor\":\"white\",\"ticks\":\"\"},\"baxis\":{\"gridcolor\":\"white\",\"linecolor\":\"white\",\"ticks\":\"\"},\"caxis\":{\"gridcolor\":\"white\",\"linecolor\":\"white\",\"ticks\":\"\"}},\"coloraxis\":{\"colorbar\":{\"outlinewidth\":0,\"ticks\":\"\"}},\"colorscale\":{\"sequential\":[[0.0,\"#0d0887\"],[0.1111111111111111,\"#46039f\"],[0.2222222222222222,\"#7201a8\"],[0.3333333333333333,\"#9c179e\"],[0.4444444444444444,\"#bd3786\"],[0.5555555555555556,\"#d8576b\"],[0.6666666666666666,\"#ed7953\"],[0.7777777777777778,\"#fb9f3a\"],[0.8888888888888888,\"#fdca26\"],[1.0,\"#f0f921\"]],\"sequentialminus\":[[0.0,\"#0d0887\"],[0.1111111111111111,\"#46039f\"],[0.2222222222222222,\"#7201a8\"],[0.3333333333333333,\"#9c179e\"],[0.4444444444444444,\"#bd3786\"],[0.5555555555555556,\"#d8576b\"],[0.6666666666666666,\"#ed7953\"],[0.7777777777777778,\"#fb9f3a\"],[0.8888888888888888,\"#fdca26\"],[1.0,\"#f0f921\"]],\"diverging\":[[0,\"#8e0152\"],[0.1,\"#c51b7d\"],[0.2,\"#de77ae\"],[0.3,\"#f1b6da\"],[0.4,\"#fde0ef\"],[0.5,\"#f7f7f7\"],[0.6,\"#e6f5d0\"],[0.7,\"#b8e186\"],[0.8,\"#7fbc41\"],[0.9,\"#4d9221\"],[1,\"#276419\"]]},\"xaxis\":{\"gridcolor\":\"white\",\"linecolor\":\"white\",\"ticks\":\"\",\"title\":{\"standoff\":15},\"zerolinecolor\":\"white\",\"automargin\":true,\"zerolinewidth\":2},\"yaxis\":{\"gridcolor\":\"white\",\"linecolor\":\"white\",\"ticks\":\"\",\"title\":{\"standoff\":15},\"zerolinecolor\":\"white\",\"automargin\":true,\"zerolinewidth\":2},\"scene\":{\"xaxis\":{\"backgroundcolor\":\"#E5ECF6\",\"gridcolor\":\"white\",\"linecolor\":\"white\",\"showbackground\":true,\"ticks\":\"\",\"zerolinecolor\":\"white\",\"gridwidth\":2},\"yaxis\":{\"backgroundcolor\":\"#E5ECF6\",\"gridcolor\":\"white\",\"linecolor\":\"white\",\"showbackground\":true,\"ticks\":\"\",\"zerolinecolor\":\"white\",\"gridwidth\":2},\"zaxis\":{\"backgroundcolor\":\"#E5ECF6\",\"gridcolor\":\"white\",\"linecolor\":\"white\",\"showbackground\":true,\"ticks\":\"\",\"zerolinecolor\":\"white\",\"gridwidth\":2}},\"shapedefaults\":{\"line\":{\"color\":\"#2a3f5f\"}},\"annotationdefaults\":{\"arrowcolor\":\"#2a3f5f\",\"arrowhead\":0,\"arrowwidth\":1},\"geo\":{\"bgcolor\":\"white\",\"landcolor\":\"#E5ECF6\",\"subunitcolor\":\"white\",\"showland\":true,\"showlakes\":true,\"lakecolor\":\"white\"},\"title\":{\"x\":0.05},\"mapbox\":{\"style\":\"light\"}}},\"title\":{\"text\":\"Undertrials, Convicts and Detenues\"}},                        {\"responsive\": true}                    ).then(function(){\n",
       "                            \n",
       "var gd = document.getElementById('95b78b88-bb51-467c-97b2-49d0a2ebccc9');\n",
       "var x = new MutationObserver(function (mutations, observer) {{\n",
       "        var display = window.getComputedStyle(gd).display;\n",
       "        if (!display || display === 'none') {{\n",
       "            console.log([gd, 'removed!']);\n",
       "            Plotly.purge(gd);\n",
       "            observer.disconnect();\n",
       "        }}\n",
       "}});\n",
       "\n",
       "// Listen for the removal of the full notebook cells\n",
       "var notebookContainer = gd.closest('#notebook-container');\n",
       "if (notebookContainer) {{\n",
       "    x.observe(notebookContainer, {childList: true});\n",
       "}}\n",
       "\n",
       "// Listen for the clearing of the current output cell\n",
       "var outputEl = gd.closest('.output');\n",
       "if (outputEl) {{\n",
       "    x.observe(outputEl, {childList: true});\n",
       "}}\n",
       "\n",
       "                        })                };                });            </script>        </div>"
      ]
     },
     "metadata": {},
     "output_type": "display_data"
    }
   ],
   "source": [
    "import plotly.graph_objs as go\n",
    "from plotly.subplots import make_subplots\n",
    "df = data\n",
    "labels = ['Male', 'Female']\n",
    "\n",
    "# Data for Undertrials\n",
    "ut_sizes = [df['Undertrials - Male'].sum(), df['Undertrials - Female'].sum()]\n",
    "ut_colors = ['purple', 'pink']\n",
    "\n",
    "# Data for Convicts\n",
    "c_sizes = [df['Convicts - Male'].sum(), df['Convicts - Female'].sum()]\n",
    "c_colors = ['orange', 'pink']\n",
    "\n",
    "# Data for Detenues\n",
    "d_sizes = [df['Detenues - Male'].sum(), df['Detenues - Female'].sum()]\n",
    "d_colors = ['purple', 'pink']\n",
    "\n",
    "# Create subplots\n",
    "fig = make_subplots(rows=1, cols=3, specs=[[{'type':'domain'}, {'type':'domain'}, {'type':'domain'}]])\n",
    "\n",
    "# Add traces\n",
    "fig.add_trace(go.Pie(labels=labels, values=ut_sizes, marker=dict(colors=ut_colors), name='Undertrials'), 1, 1)\n",
    "fig.add_trace(go.Pie(labels=labels, values=c_sizes, marker=dict(colors=c_colors), name='Convicts'), 1, 2)\n",
    "fig.add_trace(go.Pie(labels=labels, values=d_sizes, marker=dict(colors=d_colors), name='Detenues'), 1, 3)\n",
    "\n",
    "# Update layout\n",
    "fig.update_layout(title_text='Undertrials, Convicts and Detenues')\n",
    "fig.update_traces(hole=.3, hoverinfo=\"label+percent+name\")\n",
    "\n",
    "fig.show()\n"
   ]
  },
  {
   "cell_type": "code",
   "execution_count": 7,
   "id": "dbfc3c8a",
   "metadata": {
    "execution": {
     "iopub.execute_input": "2023-07-11T05:18:21.567059Z",
     "iopub.status.busy": "2023-07-11T05:18:21.566665Z",
     "iopub.status.idle": "2023-07-11T05:18:21.573999Z",
     "shell.execute_reply": "2023-07-11T05:18:21.572887Z"
    },
    "papermill": {
     "duration": 0.023747,
     "end_time": "2023-07-11T05:18:21.576699",
     "exception": false,
     "start_time": "2023-07-11T05:18:21.552952",
     "status": "completed"
    },
    "tags": []
   },
   "outputs": [
    {
     "name": "stdout",
     "output_type": "stream",
     "text": [
      "Convicts - Transgender:  39\n",
      "Undertrials - Transgender:  162\n",
      "Detenues - Transgender:  9\n"
     ]
    }
   ],
   "source": [
    "print('Convicts - Transgender: ', df['Convicts - Transgender'].sum())\n",
    "\n",
    "print('Undertrials - Transgender: ',df['Undertrials - Transgender'].sum())\n",
    "\n",
    "print('Detenues - Transgender: ', df['Detenues - Transgender'].sum())"
   ]
  },
  {
   "cell_type": "markdown",
   "id": "209db72f",
   "metadata": {
    "papermill": {
     "duration": 0.012228,
     "end_time": "2023-07-11T05:18:21.601129",
     "exception": false,
     "start_time": "2023-07-11T05:18:21.588901",
     "status": "completed"
    },
    "tags": []
   },
   "source": [
    "# <div style=\"background-color:#fff1cc; padding: 20px;\"><center>Pie chart for age group of convicts</center></div> "
   ]
  },
  {
   "cell_type": "code",
   "execution_count": 8,
   "id": "00d1b73b",
   "metadata": {
    "_kg_hide-input": true,
    "execution": {
     "iopub.execute_input": "2023-07-11T05:18:21.627949Z",
     "iopub.status.busy": "2023-07-11T05:18:21.627213Z",
     "iopub.status.idle": "2023-07-11T05:18:23.008492Z",
     "shell.execute_reply": "2023-07-11T05:18:23.006837Z"
    },
    "papermill": {
     "duration": 1.398295,
     "end_time": "2023-07-11T05:18:23.011875",
     "exception": false,
     "start_time": "2023-07-11T05:18:21.613580",
     "status": "completed"
    },
    "tags": []
   },
   "outputs": [
    {
     "data": {
      "text/html": [
       "<div>                            <div id=\"81bbedab-eb9e-4f3a-b2fb-b5432bd527e3\" class=\"plotly-graph-div\" style=\"height:525px; width:100%;\"></div>            <script type=\"text/javascript\">                require([\"plotly\"], function(Plotly) {                    window.PLOTLYENV=window.PLOTLYENV || {};                                    if (document.getElementById(\"81bbedab-eb9e-4f3a-b2fb-b5432bd527e3\")) {                    Plotly.newPlot(                        \"81bbedab-eb9e-4f3a-b2fb-b5432bd527e3\",                        [{\"labels\":[\"16 - 18 Years\",\"18 - 30 Years\",\"30 - 50 Years\",\"50 Years & Above\"],\"pull\":[0,0.2,0,0],\"values\":[15,97002,168819,71931],\"type\":\"pie\"}],                        {\"template\":{\"data\":{\"barpolar\":[{\"marker\":{\"line\":{\"color\":\"rgb(234,234,242)\",\"width\":0.5},\"pattern\":{\"fillmode\":\"overlay\",\"size\":10,\"solidity\":0.2}},\"type\":\"barpolar\"}],\"bar\":[{\"error_x\":{\"color\":\"rgb(36,36,36)\"},\"error_y\":{\"color\":\"rgb(36,36,36)\"},\"marker\":{\"line\":{\"color\":\"rgb(234,234,242)\",\"width\":0.5},\"pattern\":{\"fillmode\":\"overlay\",\"size\":10,\"solidity\":0.2}},\"type\":\"bar\"}],\"carpet\":[{\"aaxis\":{\"endlinecolor\":\"rgb(36,36,36)\",\"gridcolor\":\"white\",\"linecolor\":\"white\",\"minorgridcolor\":\"white\",\"startlinecolor\":\"rgb(36,36,36)\"},\"baxis\":{\"endlinecolor\":\"rgb(36,36,36)\",\"gridcolor\":\"white\",\"linecolor\":\"white\",\"minorgridcolor\":\"white\",\"startlinecolor\":\"rgb(36,36,36)\"},\"type\":\"carpet\"}],\"choropleth\":[{\"colorbar\":{\"outlinewidth\":0,\"tickcolor\":\"rgb(36,36,36)\",\"ticklen\":8,\"ticks\":\"outside\",\"tickwidth\":2},\"type\":\"choropleth\"}],\"contourcarpet\":[{\"colorbar\":{\"outlinewidth\":0,\"tickcolor\":\"rgb(36,36,36)\",\"ticklen\":8,\"ticks\":\"outside\",\"tickwidth\":2},\"type\":\"contourcarpet\"}],\"contour\":[{\"colorbar\":{\"outlinewidth\":0,\"tickcolor\":\"rgb(36,36,36)\",\"ticklen\":8,\"ticks\":\"outside\",\"tickwidth\":2},\"colorscale\":[[0.0,\"rgb(2,4,25)\"],[0.06274509803921569,\"rgb(24,15,41)\"],[0.12549019607843137,\"rgb(47,23,57)\"],[0.18823529411764706,\"rgb(71,28,72)\"],[0.25098039215686274,\"rgb(97,30,82)\"],[0.3137254901960784,\"rgb(123,30,89)\"],[0.3764705882352941,\"rgb(150,27,91)\"],[0.4392156862745098,\"rgb(177,22,88)\"],[0.5019607843137255,\"rgb(203,26,79)\"],[0.5647058823529412,\"rgb(223,47,67)\"],[0.6274509803921569,\"rgb(236,76,61)\"],[0.6901960784313725,\"rgb(242,107,73)\"],[0.7529411764705882,\"rgb(244,135,95)\"],[0.8156862745098039,\"rgb(245,162,122)\"],[0.8784313725490196,\"rgb(246,188,153)\"],[0.9411764705882353,\"rgb(247,212,187)\"],[1.0,\"rgb(250,234,220)\"]],\"type\":\"contour\"}],\"heatmapgl\":[{\"colorbar\":{\"outlinewidth\":0,\"tickcolor\":\"rgb(36,36,36)\",\"ticklen\":8,\"ticks\":\"outside\",\"tickwidth\":2},\"colorscale\":[[0.0,\"rgb(2,4,25)\"],[0.06274509803921569,\"rgb(24,15,41)\"],[0.12549019607843137,\"rgb(47,23,57)\"],[0.18823529411764706,\"rgb(71,28,72)\"],[0.25098039215686274,\"rgb(97,30,82)\"],[0.3137254901960784,\"rgb(123,30,89)\"],[0.3764705882352941,\"rgb(150,27,91)\"],[0.4392156862745098,\"rgb(177,22,88)\"],[0.5019607843137255,\"rgb(203,26,79)\"],[0.5647058823529412,\"rgb(223,47,67)\"],[0.6274509803921569,\"rgb(236,76,61)\"],[0.6901960784313725,\"rgb(242,107,73)\"],[0.7529411764705882,\"rgb(244,135,95)\"],[0.8156862745098039,\"rgb(245,162,122)\"],[0.8784313725490196,\"rgb(246,188,153)\"],[0.9411764705882353,\"rgb(247,212,187)\"],[1.0,\"rgb(250,234,220)\"]],\"type\":\"heatmapgl\"}],\"heatmap\":[{\"colorbar\":{\"outlinewidth\":0,\"tickcolor\":\"rgb(36,36,36)\",\"ticklen\":8,\"ticks\":\"outside\",\"tickwidth\":2},\"colorscale\":[[0.0,\"rgb(2,4,25)\"],[0.06274509803921569,\"rgb(24,15,41)\"],[0.12549019607843137,\"rgb(47,23,57)\"],[0.18823529411764706,\"rgb(71,28,72)\"],[0.25098039215686274,\"rgb(97,30,82)\"],[0.3137254901960784,\"rgb(123,30,89)\"],[0.3764705882352941,\"rgb(150,27,91)\"],[0.4392156862745098,\"rgb(177,22,88)\"],[0.5019607843137255,\"rgb(203,26,79)\"],[0.5647058823529412,\"rgb(223,47,67)\"],[0.6274509803921569,\"rgb(236,76,61)\"],[0.6901960784313725,\"rgb(242,107,73)\"],[0.7529411764705882,\"rgb(244,135,95)\"],[0.8156862745098039,\"rgb(245,162,122)\"],[0.8784313725490196,\"rgb(246,188,153)\"],[0.9411764705882353,\"rgb(247,212,187)\"],[1.0,\"rgb(250,234,220)\"]],\"type\":\"heatmap\"}],\"histogram2dcontour\":[{\"colorbar\":{\"outlinewidth\":0,\"tickcolor\":\"rgb(36,36,36)\",\"ticklen\":8,\"ticks\":\"outside\",\"tickwidth\":2},\"colorscale\":[[0.0,\"rgb(2,4,25)\"],[0.06274509803921569,\"rgb(24,15,41)\"],[0.12549019607843137,\"rgb(47,23,57)\"],[0.18823529411764706,\"rgb(71,28,72)\"],[0.25098039215686274,\"rgb(97,30,82)\"],[0.3137254901960784,\"rgb(123,30,89)\"],[0.3764705882352941,\"rgb(150,27,91)\"],[0.4392156862745098,\"rgb(177,22,88)\"],[0.5019607843137255,\"rgb(203,26,79)\"],[0.5647058823529412,\"rgb(223,47,67)\"],[0.6274509803921569,\"rgb(236,76,61)\"],[0.6901960784313725,\"rgb(242,107,73)\"],[0.7529411764705882,\"rgb(244,135,95)\"],[0.8156862745098039,\"rgb(245,162,122)\"],[0.8784313725490196,\"rgb(246,188,153)\"],[0.9411764705882353,\"rgb(247,212,187)\"],[1.0,\"rgb(250,234,220)\"]],\"type\":\"histogram2dcontour\"}],\"histogram2d\":[{\"colorbar\":{\"outlinewidth\":0,\"tickcolor\":\"rgb(36,36,36)\",\"ticklen\":8,\"ticks\":\"outside\",\"tickwidth\":2},\"colorscale\":[[0.0,\"rgb(2,4,25)\"],[0.06274509803921569,\"rgb(24,15,41)\"],[0.12549019607843137,\"rgb(47,23,57)\"],[0.18823529411764706,\"rgb(71,28,72)\"],[0.25098039215686274,\"rgb(97,30,82)\"],[0.3137254901960784,\"rgb(123,30,89)\"],[0.3764705882352941,\"rgb(150,27,91)\"],[0.4392156862745098,\"rgb(177,22,88)\"],[0.5019607843137255,\"rgb(203,26,79)\"],[0.5647058823529412,\"rgb(223,47,67)\"],[0.6274509803921569,\"rgb(236,76,61)\"],[0.6901960784313725,\"rgb(242,107,73)\"],[0.7529411764705882,\"rgb(244,135,95)\"],[0.8156862745098039,\"rgb(245,162,122)\"],[0.8784313725490196,\"rgb(246,188,153)\"],[0.9411764705882353,\"rgb(247,212,187)\"],[1.0,\"rgb(250,234,220)\"]],\"type\":\"histogram2d\"}],\"histogram\":[{\"marker\":{\"pattern\":{\"fillmode\":\"overlay\",\"size\":10,\"solidity\":0.2}},\"type\":\"histogram\"}],\"mesh3d\":[{\"colorbar\":{\"outlinewidth\":0,\"tickcolor\":\"rgb(36,36,36)\",\"ticklen\":8,\"ticks\":\"outside\",\"tickwidth\":2},\"type\":\"mesh3d\"}],\"parcoords\":[{\"line\":{\"colorbar\":{\"outlinewidth\":0,\"tickcolor\":\"rgb(36,36,36)\",\"ticklen\":8,\"ticks\":\"outside\",\"tickwidth\":2}},\"type\":\"parcoords\"}],\"pie\":[{\"automargin\":true,\"type\":\"pie\"}],\"scatter3d\":[{\"line\":{\"colorbar\":{\"outlinewidth\":0,\"tickcolor\":\"rgb(36,36,36)\",\"ticklen\":8,\"ticks\":\"outside\",\"tickwidth\":2}},\"marker\":{\"colorbar\":{\"outlinewidth\":0,\"tickcolor\":\"rgb(36,36,36)\",\"ticklen\":8,\"ticks\":\"outside\",\"tickwidth\":2}},\"type\":\"scatter3d\"}],\"scattercarpet\":[{\"marker\":{\"colorbar\":{\"outlinewidth\":0,\"tickcolor\":\"rgb(36,36,36)\",\"ticklen\":8,\"ticks\":\"outside\",\"tickwidth\":2}},\"type\":\"scattercarpet\"}],\"scattergeo\":[{\"marker\":{\"colorbar\":{\"outlinewidth\":0,\"tickcolor\":\"rgb(36,36,36)\",\"ticklen\":8,\"ticks\":\"outside\",\"tickwidth\":2}},\"type\":\"scattergeo\"}],\"scattergl\":[{\"marker\":{\"colorbar\":{\"outlinewidth\":0,\"tickcolor\":\"rgb(36,36,36)\",\"ticklen\":8,\"ticks\":\"outside\",\"tickwidth\":2}},\"type\":\"scattergl\"}],\"scattermapbox\":[{\"marker\":{\"colorbar\":{\"outlinewidth\":0,\"tickcolor\":\"rgb(36,36,36)\",\"ticklen\":8,\"ticks\":\"outside\",\"tickwidth\":2}},\"type\":\"scattermapbox\"}],\"scatterpolargl\":[{\"marker\":{\"colorbar\":{\"outlinewidth\":0,\"tickcolor\":\"rgb(36,36,36)\",\"ticklen\":8,\"ticks\":\"outside\",\"tickwidth\":2}},\"type\":\"scatterpolargl\"}],\"scatterpolar\":[{\"marker\":{\"colorbar\":{\"outlinewidth\":0,\"tickcolor\":\"rgb(36,36,36)\",\"ticklen\":8,\"ticks\":\"outside\",\"tickwidth\":2}},\"type\":\"scatterpolar\"}],\"scatter\":[{\"fillpattern\":{\"fillmode\":\"overlay\",\"size\":10,\"solidity\":0.2},\"type\":\"scatter\"}],\"scatterternary\":[{\"marker\":{\"colorbar\":{\"outlinewidth\":0,\"tickcolor\":\"rgb(36,36,36)\",\"ticklen\":8,\"ticks\":\"outside\",\"tickwidth\":2}},\"type\":\"scatterternary\"}],\"surface\":[{\"colorbar\":{\"outlinewidth\":0,\"tickcolor\":\"rgb(36,36,36)\",\"ticklen\":8,\"ticks\":\"outside\",\"tickwidth\":2},\"colorscale\":[[0.0,\"rgb(2,4,25)\"],[0.06274509803921569,\"rgb(24,15,41)\"],[0.12549019607843137,\"rgb(47,23,57)\"],[0.18823529411764706,\"rgb(71,28,72)\"],[0.25098039215686274,\"rgb(97,30,82)\"],[0.3137254901960784,\"rgb(123,30,89)\"],[0.3764705882352941,\"rgb(150,27,91)\"],[0.4392156862745098,\"rgb(177,22,88)\"],[0.5019607843137255,\"rgb(203,26,79)\"],[0.5647058823529412,\"rgb(223,47,67)\"],[0.6274509803921569,\"rgb(236,76,61)\"],[0.6901960784313725,\"rgb(242,107,73)\"],[0.7529411764705882,\"rgb(244,135,95)\"],[0.8156862745098039,\"rgb(245,162,122)\"],[0.8784313725490196,\"rgb(246,188,153)\"],[0.9411764705882353,\"rgb(247,212,187)\"],[1.0,\"rgb(250,234,220)\"]],\"type\":\"surface\"}],\"table\":[{\"cells\":{\"fill\":{\"color\":\"rgb(231,231,240)\"},\"line\":{\"color\":\"white\"}},\"header\":{\"fill\":{\"color\":\"rgb(183,183,191)\"},\"line\":{\"color\":\"white\"}},\"type\":\"table\"}]},\"layout\":{\"annotationdefaults\":{\"arrowcolor\":\"rgb(67,103,167)\"},\"autotypenumbers\":\"strict\",\"coloraxis\":{\"colorbar\":{\"outlinewidth\":0,\"tickcolor\":\"rgb(36,36,36)\",\"ticklen\":8,\"ticks\":\"outside\",\"tickwidth\":2}},\"colorscale\":{\"sequential\":[[0.0,\"rgb(2,4,25)\"],[0.06274509803921569,\"rgb(24,15,41)\"],[0.12549019607843137,\"rgb(47,23,57)\"],[0.18823529411764706,\"rgb(71,28,72)\"],[0.25098039215686274,\"rgb(97,30,82)\"],[0.3137254901960784,\"rgb(123,30,89)\"],[0.3764705882352941,\"rgb(150,27,91)\"],[0.4392156862745098,\"rgb(177,22,88)\"],[0.5019607843137255,\"rgb(203,26,79)\"],[0.5647058823529412,\"rgb(223,47,67)\"],[0.6274509803921569,\"rgb(236,76,61)\"],[0.6901960784313725,\"rgb(242,107,73)\"],[0.7529411764705882,\"rgb(244,135,95)\"],[0.8156862745098039,\"rgb(245,162,122)\"],[0.8784313725490196,\"rgb(246,188,153)\"],[0.9411764705882353,\"rgb(247,212,187)\"],[1.0,\"rgb(250,234,220)\"]],\"sequentialminus\":[[0.0,\"rgb(2,4,25)\"],[0.06274509803921569,\"rgb(24,15,41)\"],[0.12549019607843137,\"rgb(47,23,57)\"],[0.18823529411764706,\"rgb(71,28,72)\"],[0.25098039215686274,\"rgb(97,30,82)\"],[0.3137254901960784,\"rgb(123,30,89)\"],[0.3764705882352941,\"rgb(150,27,91)\"],[0.4392156862745098,\"rgb(177,22,88)\"],[0.5019607843137255,\"rgb(203,26,79)\"],[0.5647058823529412,\"rgb(223,47,67)\"],[0.6274509803921569,\"rgb(236,76,61)\"],[0.6901960784313725,\"rgb(242,107,73)\"],[0.7529411764705882,\"rgb(244,135,95)\"],[0.8156862745098039,\"rgb(245,162,122)\"],[0.8784313725490196,\"rgb(246,188,153)\"],[0.9411764705882353,\"rgb(247,212,187)\"],[1.0,\"rgb(250,234,220)\"]]},\"colorway\":[\"rgb(76,114,176)\",\"rgb(221,132,82)\",\"rgb(85,168,104)\",\"rgb(196,78,82)\",\"rgb(129,114,179)\",\"rgb(147,120,96)\",\"rgb(218,139,195)\",\"rgb(140,140,140)\",\"rgb(204,185,116)\",\"rgb(100,181,205)\"],\"font\":{\"color\":\"rgb(36,36,36)\"},\"geo\":{\"bgcolor\":\"white\",\"lakecolor\":\"white\",\"landcolor\":\"rgb(234,234,242)\",\"showlakes\":true,\"showland\":true,\"subunitcolor\":\"white\"},\"hoverlabel\":{\"align\":\"left\"},\"hovermode\":\"closest\",\"paper_bgcolor\":\"white\",\"plot_bgcolor\":\"rgb(234,234,242)\",\"polar\":{\"angularaxis\":{\"gridcolor\":\"white\",\"linecolor\":\"white\",\"showgrid\":true,\"ticks\":\"\"},\"bgcolor\":\"rgb(234,234,242)\",\"radialaxis\":{\"gridcolor\":\"white\",\"linecolor\":\"white\",\"showgrid\":true,\"ticks\":\"\"}},\"scene\":{\"xaxis\":{\"backgroundcolor\":\"rgb(234,234,242)\",\"gridcolor\":\"white\",\"gridwidth\":2,\"linecolor\":\"white\",\"showbackground\":true,\"showgrid\":true,\"ticks\":\"\",\"zerolinecolor\":\"white\"},\"yaxis\":{\"backgroundcolor\":\"rgb(234,234,242)\",\"gridcolor\":\"white\",\"gridwidth\":2,\"linecolor\":\"white\",\"showbackground\":true,\"showgrid\":true,\"ticks\":\"\",\"zerolinecolor\":\"white\"},\"zaxis\":{\"backgroundcolor\":\"rgb(234,234,242)\",\"gridcolor\":\"white\",\"gridwidth\":2,\"linecolor\":\"white\",\"showbackground\":true,\"showgrid\":true,\"ticks\":\"\",\"zerolinecolor\":\"white\"}},\"shapedefaults\":{\"fillcolor\":\"rgb(67,103,167)\",\"line\":{\"width\":0},\"opacity\":0.5},\"ternary\":{\"aaxis\":{\"gridcolor\":\"white\",\"linecolor\":\"white\",\"showgrid\":true,\"ticks\":\"\"},\"baxis\":{\"gridcolor\":\"white\",\"linecolor\":\"white\",\"showgrid\":true,\"ticks\":\"\"},\"bgcolor\":\"rgb(234,234,242)\",\"caxis\":{\"gridcolor\":\"white\",\"linecolor\":\"white\",\"showgrid\":true,\"ticks\":\"\"}},\"xaxis\":{\"automargin\":true,\"gridcolor\":\"white\",\"linecolor\":\"white\",\"showgrid\":true,\"ticks\":\"\",\"title\":{\"standoff\":15},\"zerolinecolor\":\"white\"},\"yaxis\":{\"automargin\":true,\"gridcolor\":\"white\",\"linecolor\":\"white\",\"showgrid\":true,\"ticks\":\"\",\"title\":{\"standoff\":15},\"zerolinecolor\":\"white\"}}},\"title\":{\"text\":\"AGE GROUP OF CONVICTS\"}},                        {\"responsive\": true}                    ).then(function(){\n",
       "                            \n",
       "var gd = document.getElementById('81bbedab-eb9e-4f3a-b2fb-b5432bd527e3');\n",
       "var x = new MutationObserver(function (mutations, observer) {{\n",
       "        var display = window.getComputedStyle(gd).display;\n",
       "        if (!display || display === 'none') {{\n",
       "            console.log([gd, 'removed!']);\n",
       "            Plotly.purge(gd);\n",
       "            observer.disconnect();\n",
       "        }}\n",
       "}});\n",
       "\n",
       "// Listen for the removal of the full notebook cells\n",
       "var notebookContainer = gd.closest('#notebook-container');\n",
       "if (notebookContainer) {{\n",
       "    x.observe(notebookContainer, {childList: true});\n",
       "}}\n",
       "\n",
       "// Listen for the clearing of the current output cell\n",
       "var outputEl = gd.closest('.output');\n",
       "if (outputEl) {{\n",
       "    x.observe(outputEl, {childList: true});\n",
       "}}\n",
       "\n",
       "                        })                };                });            </script>        </div>"
      ]
     },
     "metadata": {},
     "output_type": "display_data"
    }
   ],
   "source": [
    "import plotly.graph_objs as go\n",
    "\n",
    "labels = ['16 - 18 Years', '18 - 30 Years','30 - 50 Years','50 Years & Above']\n",
    "values = [df['16 - 18 Years - No. of Convicts'].sum(), df['18 - 30 Years - No. of Convicts'].sum(),df['30 - 50 Years - No. of Convicts'].sum(),df['50 Years & Above - No. of Convicts'].sum()]\n",
    "\n",
    "# Pull out the '18 - 30 Years' slice\n",
    "pull = [0, 0.2, 0, 0]\n",
    "\n",
    "fig = go.Figure(data=[go.Pie(labels=labels, values=values, pull=pull)])\n",
    "fig.update_layout(title='AGE GROUP OF CONVICTS', template='seaborn')\n",
    "fig.show()\n"
   ]
  },
  {
   "cell_type": "code",
   "execution_count": 9,
   "id": "1f3fa6a8",
   "metadata": {
    "execution": {
     "iopub.execute_input": "2023-07-11T05:18:23.039250Z",
     "iopub.status.busy": "2023-07-11T05:18:23.038796Z",
     "iopub.status.idle": "2023-07-11T05:18:23.046138Z",
     "shell.execute_reply": "2023-07-11T05:18:23.044955Z"
    },
    "papermill": {
     "duration": 0.024266,
     "end_time": "2023-07-11T05:18:23.048946",
     "exception": false,
     "start_time": "2023-07-11T05:18:23.024680",
     "status": "completed"
    },
    "tags": []
   },
   "outputs": [
    {
     "name": "stdout",
     "output_type": "stream",
     "text": [
      "16 - 18 Years Convicts:  15\n"
     ]
    }
   ],
   "source": [
    "print ('16 - 18 Years Convicts: ',df['16 - 18 Years - No. of Convicts'].sum())"
   ]
  },
  {
   "cell_type": "markdown",
   "id": "650f75ec",
   "metadata": {
    "papermill": {
     "duration": 0.0123,
     "end_time": "2023-07-11T05:18:23.073965",
     "exception": false,
     "start_time": "2023-07-11T05:18:23.061665",
     "status": "completed"
    },
    "tags": []
   },
   "source": [
    "# <div style=\"background-color:#fff1cc; padding: 20px;\"><center>Pie chart type of Education Level</center></div> "
   ]
  },
  {
   "cell_type": "code",
   "execution_count": 10,
   "id": "81b10e28",
   "metadata": {
    "_kg_hide-input": true,
    "execution": {
     "iopub.execute_input": "2023-07-11T05:18:23.101656Z",
     "iopub.status.busy": "2023-07-11T05:18:23.100861Z",
     "iopub.status.idle": "2023-07-11T05:18:23.891686Z",
     "shell.execute_reply": "2023-07-11T05:18:23.890661Z"
    },
    "papermill": {
     "duration": 0.807179,
     "end_time": "2023-07-11T05:18:23.894160",
     "exception": false,
     "start_time": "2023-07-11T05:18:23.086981",
     "status": "completed"
    },
    "tags": []
   },
   "outputs": [
    {
     "data": {
      "text/html": [
       "<div>                            <div id=\"a81a6494-230d-4600-9d20-c537fa3955cc\" class=\"plotly-graph-div\" style=\"height:525px; width:100%;\"></div>            <script type=\"text/javascript\">                require([\"plotly\"], function(Plotly) {                    window.PLOTLYENV=window.PLOTLYENV || {};                                    if (document.getElementById(\"a81a6494-230d-4600-9d20-c537fa3955cc\")) {                    Plotly.newPlot(                        \"a81a6494-230d-4600-9d20-c537fa3955cc\",                        [{\"labels\":[\"Illiterate\",\"Below Class X\",\"Class X\",\"Graduate\",\"Tech\",\"PostGraduate\"],\"marker\":{\"colors\":[\"purple\",\"orange\",\"pink\",\"green\",\"blue\",\"red\"]},\"pull\":[0.1,0,0,0,0,0],\"values\":[300891,454158,255213,71313,14661,19308],\"type\":\"pie\",\"textinfo\":\"percent+label\",\"textposition\":\"outside\"}],                        {\"template\":{\"data\":{\"histogram2dcontour\":[{\"type\":\"histogram2dcontour\",\"colorbar\":{\"outlinewidth\":0,\"ticks\":\"\"},\"colorscale\":[[0.0,\"#0d0887\"],[0.1111111111111111,\"#46039f\"],[0.2222222222222222,\"#7201a8\"],[0.3333333333333333,\"#9c179e\"],[0.4444444444444444,\"#bd3786\"],[0.5555555555555556,\"#d8576b\"],[0.6666666666666666,\"#ed7953\"],[0.7777777777777778,\"#fb9f3a\"],[0.8888888888888888,\"#fdca26\"],[1.0,\"#f0f921\"]]}],\"choropleth\":[{\"type\":\"choropleth\",\"colorbar\":{\"outlinewidth\":0,\"ticks\":\"\"}}],\"histogram2d\":[{\"type\":\"histogram2d\",\"colorbar\":{\"outlinewidth\":0,\"ticks\":\"\"},\"colorscale\":[[0.0,\"#0d0887\"],[0.1111111111111111,\"#46039f\"],[0.2222222222222222,\"#7201a8\"],[0.3333333333333333,\"#9c179e\"],[0.4444444444444444,\"#bd3786\"],[0.5555555555555556,\"#d8576b\"],[0.6666666666666666,\"#ed7953\"],[0.7777777777777778,\"#fb9f3a\"],[0.8888888888888888,\"#fdca26\"],[1.0,\"#f0f921\"]]}],\"heatmap\":[{\"type\":\"heatmap\",\"colorbar\":{\"outlinewidth\":0,\"ticks\":\"\"},\"colorscale\":[[0.0,\"#0d0887\"],[0.1111111111111111,\"#46039f\"],[0.2222222222222222,\"#7201a8\"],[0.3333333333333333,\"#9c179e\"],[0.4444444444444444,\"#bd3786\"],[0.5555555555555556,\"#d8576b\"],[0.6666666666666666,\"#ed7953\"],[0.7777777777777778,\"#fb9f3a\"],[0.8888888888888888,\"#fdca26\"],[1.0,\"#f0f921\"]]}],\"heatmapgl\":[{\"type\":\"heatmapgl\",\"colorbar\":{\"outlinewidth\":0,\"ticks\":\"\"},\"colorscale\":[[0.0,\"#0d0887\"],[0.1111111111111111,\"#46039f\"],[0.2222222222222222,\"#7201a8\"],[0.3333333333333333,\"#9c179e\"],[0.4444444444444444,\"#bd3786\"],[0.5555555555555556,\"#d8576b\"],[0.6666666666666666,\"#ed7953\"],[0.7777777777777778,\"#fb9f3a\"],[0.8888888888888888,\"#fdca26\"],[1.0,\"#f0f921\"]]}],\"contourcarpet\":[{\"type\":\"contourcarpet\",\"colorbar\":{\"outlinewidth\":0,\"ticks\":\"\"}}],\"contour\":[{\"type\":\"contour\",\"colorbar\":{\"outlinewidth\":0,\"ticks\":\"\"},\"colorscale\":[[0.0,\"#0d0887\"],[0.1111111111111111,\"#46039f\"],[0.2222222222222222,\"#7201a8\"],[0.3333333333333333,\"#9c179e\"],[0.4444444444444444,\"#bd3786\"],[0.5555555555555556,\"#d8576b\"],[0.6666666666666666,\"#ed7953\"],[0.7777777777777778,\"#fb9f3a\"],[0.8888888888888888,\"#fdca26\"],[1.0,\"#f0f921\"]]}],\"surface\":[{\"type\":\"surface\",\"colorbar\":{\"outlinewidth\":0,\"ticks\":\"\"},\"colorscale\":[[0.0,\"#0d0887\"],[0.1111111111111111,\"#46039f\"],[0.2222222222222222,\"#7201a8\"],[0.3333333333333333,\"#9c179e\"],[0.4444444444444444,\"#bd3786\"],[0.5555555555555556,\"#d8576b\"],[0.6666666666666666,\"#ed7953\"],[0.7777777777777778,\"#fb9f3a\"],[0.8888888888888888,\"#fdca26\"],[1.0,\"#f0f921\"]]}],\"mesh3d\":[{\"type\":\"mesh3d\",\"colorbar\":{\"outlinewidth\":0,\"ticks\":\"\"}}],\"scatter\":[{\"fillpattern\":{\"fillmode\":\"overlay\",\"size\":10,\"solidity\":0.2},\"type\":\"scatter\"}],\"parcoords\":[{\"type\":\"parcoords\",\"line\":{\"colorbar\":{\"outlinewidth\":0,\"ticks\":\"\"}}}],\"scatterpolargl\":[{\"type\":\"scatterpolargl\",\"marker\":{\"colorbar\":{\"outlinewidth\":0,\"ticks\":\"\"}}}],\"bar\":[{\"error_x\":{\"color\":\"#2a3f5f\"},\"error_y\":{\"color\":\"#2a3f5f\"},\"marker\":{\"line\":{\"color\":\"#E5ECF6\",\"width\":0.5},\"pattern\":{\"fillmode\":\"overlay\",\"size\":10,\"solidity\":0.2}},\"type\":\"bar\"}],\"scattergeo\":[{\"type\":\"scattergeo\",\"marker\":{\"colorbar\":{\"outlinewidth\":0,\"ticks\":\"\"}}}],\"scatterpolar\":[{\"type\":\"scatterpolar\",\"marker\":{\"colorbar\":{\"outlinewidth\":0,\"ticks\":\"\"}}}],\"histogram\":[{\"marker\":{\"pattern\":{\"fillmode\":\"overlay\",\"size\":10,\"solidity\":0.2}},\"type\":\"histogram\"}],\"scattergl\":[{\"type\":\"scattergl\",\"marker\":{\"colorbar\":{\"outlinewidth\":0,\"ticks\":\"\"}}}],\"scatter3d\":[{\"type\":\"scatter3d\",\"line\":{\"colorbar\":{\"outlinewidth\":0,\"ticks\":\"\"}},\"marker\":{\"colorbar\":{\"outlinewidth\":0,\"ticks\":\"\"}}}],\"scattermapbox\":[{\"type\":\"scattermapbox\",\"marker\":{\"colorbar\":{\"outlinewidth\":0,\"ticks\":\"\"}}}],\"scatterternary\":[{\"type\":\"scatterternary\",\"marker\":{\"colorbar\":{\"outlinewidth\":0,\"ticks\":\"\"}}}],\"scattercarpet\":[{\"type\":\"scattercarpet\",\"marker\":{\"colorbar\":{\"outlinewidth\":0,\"ticks\":\"\"}}}],\"carpet\":[{\"aaxis\":{\"endlinecolor\":\"#2a3f5f\",\"gridcolor\":\"white\",\"linecolor\":\"white\",\"minorgridcolor\":\"white\",\"startlinecolor\":\"#2a3f5f\"},\"baxis\":{\"endlinecolor\":\"#2a3f5f\",\"gridcolor\":\"white\",\"linecolor\":\"white\",\"minorgridcolor\":\"white\",\"startlinecolor\":\"#2a3f5f\"},\"type\":\"carpet\"}],\"table\":[{\"cells\":{\"fill\":{\"color\":\"#EBF0F8\"},\"line\":{\"color\":\"white\"}},\"header\":{\"fill\":{\"color\":\"#C8D4E3\"},\"line\":{\"color\":\"white\"}},\"type\":\"table\"}],\"barpolar\":[{\"marker\":{\"line\":{\"color\":\"#E5ECF6\",\"width\":0.5},\"pattern\":{\"fillmode\":\"overlay\",\"size\":10,\"solidity\":0.2}},\"type\":\"barpolar\"}],\"pie\":[{\"automargin\":true,\"type\":\"pie\"}]},\"layout\":{\"autotypenumbers\":\"strict\",\"colorway\":[\"#636efa\",\"#EF553B\",\"#00cc96\",\"#ab63fa\",\"#FFA15A\",\"#19d3f3\",\"#FF6692\",\"#B6E880\",\"#FF97FF\",\"#FECB52\"],\"font\":{\"color\":\"#2a3f5f\"},\"hovermode\":\"closest\",\"hoverlabel\":{\"align\":\"left\"},\"paper_bgcolor\":\"white\",\"plot_bgcolor\":\"#E5ECF6\",\"polar\":{\"bgcolor\":\"#E5ECF6\",\"angularaxis\":{\"gridcolor\":\"white\",\"linecolor\":\"white\",\"ticks\":\"\"},\"radialaxis\":{\"gridcolor\":\"white\",\"linecolor\":\"white\",\"ticks\":\"\"}},\"ternary\":{\"bgcolor\":\"#E5ECF6\",\"aaxis\":{\"gridcolor\":\"white\",\"linecolor\":\"white\",\"ticks\":\"\"},\"baxis\":{\"gridcolor\":\"white\",\"linecolor\":\"white\",\"ticks\":\"\"},\"caxis\":{\"gridcolor\":\"white\",\"linecolor\":\"white\",\"ticks\":\"\"}},\"coloraxis\":{\"colorbar\":{\"outlinewidth\":0,\"ticks\":\"\"}},\"colorscale\":{\"sequential\":[[0.0,\"#0d0887\"],[0.1111111111111111,\"#46039f\"],[0.2222222222222222,\"#7201a8\"],[0.3333333333333333,\"#9c179e\"],[0.4444444444444444,\"#bd3786\"],[0.5555555555555556,\"#d8576b\"],[0.6666666666666666,\"#ed7953\"],[0.7777777777777778,\"#fb9f3a\"],[0.8888888888888888,\"#fdca26\"],[1.0,\"#f0f921\"]],\"sequentialminus\":[[0.0,\"#0d0887\"],[0.1111111111111111,\"#46039f\"],[0.2222222222222222,\"#7201a8\"],[0.3333333333333333,\"#9c179e\"],[0.4444444444444444,\"#bd3786\"],[0.5555555555555556,\"#d8576b\"],[0.6666666666666666,\"#ed7953\"],[0.7777777777777778,\"#fb9f3a\"],[0.8888888888888888,\"#fdca26\"],[1.0,\"#f0f921\"]],\"diverging\":[[0,\"#8e0152\"],[0.1,\"#c51b7d\"],[0.2,\"#de77ae\"],[0.3,\"#f1b6da\"],[0.4,\"#fde0ef\"],[0.5,\"#f7f7f7\"],[0.6,\"#e6f5d0\"],[0.7,\"#b8e186\"],[0.8,\"#7fbc41\"],[0.9,\"#4d9221\"],[1,\"#276419\"]]},\"xaxis\":{\"gridcolor\":\"white\",\"linecolor\":\"white\",\"ticks\":\"\",\"title\":{\"standoff\":15},\"zerolinecolor\":\"white\",\"automargin\":true,\"zerolinewidth\":2},\"yaxis\":{\"gridcolor\":\"white\",\"linecolor\":\"white\",\"ticks\":\"\",\"title\":{\"standoff\":15},\"zerolinecolor\":\"white\",\"automargin\":true,\"zerolinewidth\":2},\"scene\":{\"xaxis\":{\"backgroundcolor\":\"#E5ECF6\",\"gridcolor\":\"white\",\"linecolor\":\"white\",\"showbackground\":true,\"ticks\":\"\",\"zerolinecolor\":\"white\",\"gridwidth\":2},\"yaxis\":{\"backgroundcolor\":\"#E5ECF6\",\"gridcolor\":\"white\",\"linecolor\":\"white\",\"showbackground\":true,\"ticks\":\"\",\"zerolinecolor\":\"white\",\"gridwidth\":2},\"zaxis\":{\"backgroundcolor\":\"#E5ECF6\",\"gridcolor\":\"white\",\"linecolor\":\"white\",\"showbackground\":true,\"ticks\":\"\",\"zerolinecolor\":\"white\",\"gridwidth\":2}},\"shapedefaults\":{\"line\":{\"color\":\"#2a3f5f\"}},\"annotationdefaults\":{\"arrowcolor\":\"#2a3f5f\",\"arrowhead\":0,\"arrowwidth\":1},\"geo\":{\"bgcolor\":\"white\",\"landcolor\":\"#E5ECF6\",\"subunitcolor\":\"white\",\"showland\":true,\"showlakes\":true,\"lakecolor\":\"white\"},\"title\":{\"x\":0.05},\"mapbox\":{\"style\":\"light\"}}},\"title\":{\"text\":\"Education Level\"}},                        {\"responsive\": true}                    ).then(function(){\n",
       "                            \n",
       "var gd = document.getElementById('a81a6494-230d-4600-9d20-c537fa3955cc');\n",
       "var x = new MutationObserver(function (mutations, observer) {{\n",
       "        var display = window.getComputedStyle(gd).display;\n",
       "        if (!display || display === 'none') {{\n",
       "            console.log([gd, 'removed!']);\n",
       "            Plotly.purge(gd);\n",
       "            observer.disconnect();\n",
       "        }}\n",
       "}});\n",
       "\n",
       "// Listen for the removal of the full notebook cells\n",
       "var notebookContainer = gd.closest('#notebook-container');\n",
       "if (notebookContainer) {{\n",
       "    x.observe(notebookContainer, {childList: true});\n",
       "}}\n",
       "\n",
       "// Listen for the clearing of the current output cell\n",
       "var outputEl = gd.closest('.output');\n",
       "if (outputEl) {{\n",
       "    x.observe(outputEl, {childList: true});\n",
       "}}\n",
       "\n",
       "                        })                };                });            </script>        </div>"
      ]
     },
     "metadata": {},
     "output_type": "display_data"
    }
   ],
   "source": [
    "import plotly.express as px\n",
    "\n",
    "labels = ['Illiterate', 'Below Class X', 'Class X', 'Graduate', 'Tech', 'PostGraduate']\n",
    "values = [df['Educational Standard - Illiterate'].sum(), df['Educational Standard - Below Class X'].sum(), df['Educational Standard - Class X & above but below Graduation'].sum(), df['Educational Standard - Graduate'].sum(), df['Educational Standard - Holding Tech. Degree/ Diploma'].sum(), df['Educational Standard - Post Graduate'].sum()]\n",
    "colors = ['purple', 'orange', 'pink', 'green', 'blue', 'red']\n",
    "\n",
    "pull = [0.1, 0, 0, 0, 0, 0]\n",
    "fig = go.Figure(data=[go.Pie(labels=labels, values=values, marker=dict(colors=colors), pull=pull)])\n",
    "fig.update_layout(title='Education Level')\n",
    "fig.update_traces(textposition='outside', textinfo='percent+label')\n",
    "fig.show()\n"
   ]
  },
  {
   "cell_type": "markdown",
   "id": "feccb252",
   "metadata": {
    "papermill": {
     "duration": 0.012684,
     "end_time": "2023-07-11T05:18:23.919963",
     "exception": false,
     "start_time": "2023-07-11T05:18:23.907279",
     "status": "completed"
    },
    "tags": []
   },
   "source": [
    "# <div style=\"background-color:#fff1cc; padding: 20px;\"><center>Bar Graph for type of Crimes</center></div> "
   ]
  },
  {
   "cell_type": "code",
   "execution_count": 11,
   "id": "aa4a5e66",
   "metadata": {
    "_kg_hide-input": true,
    "execution": {
     "iopub.execute_input": "2023-07-11T05:18:23.947651Z",
     "iopub.status.busy": "2023-07-11T05:18:23.946857Z",
     "iopub.status.idle": "2023-07-11T05:18:23.995675Z",
     "shell.execute_reply": "2023-07-11T05:18:23.994410Z"
    },
    "papermill": {
     "duration": 0.065805,
     "end_time": "2023-07-11T05:18:23.998383",
     "exception": false,
     "start_time": "2023-07-11T05:18:23.932578",
     "status": "completed"
    },
    "tags": []
   },
   "outputs": [
    {
     "data": {
      "text/html": [
       "<div>                            <div id=\"6d1b2425-c0c8-4c4b-b25f-6017d7a1dbc3\" class=\"plotly-graph-div\" style=\"height:525px; width:100%;\"></div>            <script type=\"text/javascript\">                require([\"plotly\"], function(Plotly) {                    window.PLOTLYENV=window.PLOTLYENV || {};                                    if (document.getElementById(\"6d1b2425-c0c8-4c4b-b25f-6017d7a1dbc3\")) {                    Plotly.newPlot(                        \"6d1b2425-c0c8-4c4b-b25f-6017d7a1dbc3\",                        [{\"marker\":{\"color\":[\"pink\",\"orange\",\"yellow\",\"green\",\"blue\",\"purple\",\"red\",\"violet\"]},\"x\":[\"Murder\",\"C.H. not amounting to Murder\",\"Dowry Deaths\",\"Attempt to Murder\",\"Kidnapping & Abduction\",\"Rape\",\"Assault on Women\",\"Total Offences affecting the Human Body\"],\"y\":[218418,25955,43395,87981,46305,121635,14655,558342],\"type\":\"bar\",\"xaxis\":\"x\",\"yaxis\":\"y\"}],                        {\"template\":{\"data\":{\"histogram2dcontour\":[{\"type\":\"histogram2dcontour\",\"colorbar\":{\"outlinewidth\":0,\"ticks\":\"\"},\"colorscale\":[[0.0,\"#0d0887\"],[0.1111111111111111,\"#46039f\"],[0.2222222222222222,\"#7201a8\"],[0.3333333333333333,\"#9c179e\"],[0.4444444444444444,\"#bd3786\"],[0.5555555555555556,\"#d8576b\"],[0.6666666666666666,\"#ed7953\"],[0.7777777777777778,\"#fb9f3a\"],[0.8888888888888888,\"#fdca26\"],[1.0,\"#f0f921\"]]}],\"choropleth\":[{\"type\":\"choropleth\",\"colorbar\":{\"outlinewidth\":0,\"ticks\":\"\"}}],\"histogram2d\":[{\"type\":\"histogram2d\",\"colorbar\":{\"outlinewidth\":0,\"ticks\":\"\"},\"colorscale\":[[0.0,\"#0d0887\"],[0.1111111111111111,\"#46039f\"],[0.2222222222222222,\"#7201a8\"],[0.3333333333333333,\"#9c179e\"],[0.4444444444444444,\"#bd3786\"],[0.5555555555555556,\"#d8576b\"],[0.6666666666666666,\"#ed7953\"],[0.7777777777777778,\"#fb9f3a\"],[0.8888888888888888,\"#fdca26\"],[1.0,\"#f0f921\"]]}],\"heatmap\":[{\"type\":\"heatmap\",\"colorbar\":{\"outlinewidth\":0,\"ticks\":\"\"},\"colorscale\":[[0.0,\"#0d0887\"],[0.1111111111111111,\"#46039f\"],[0.2222222222222222,\"#7201a8\"],[0.3333333333333333,\"#9c179e\"],[0.4444444444444444,\"#bd3786\"],[0.5555555555555556,\"#d8576b\"],[0.6666666666666666,\"#ed7953\"],[0.7777777777777778,\"#fb9f3a\"],[0.8888888888888888,\"#fdca26\"],[1.0,\"#f0f921\"]]}],\"heatmapgl\":[{\"type\":\"heatmapgl\",\"colorbar\":{\"outlinewidth\":0,\"ticks\":\"\"},\"colorscale\":[[0.0,\"#0d0887\"],[0.1111111111111111,\"#46039f\"],[0.2222222222222222,\"#7201a8\"],[0.3333333333333333,\"#9c179e\"],[0.4444444444444444,\"#bd3786\"],[0.5555555555555556,\"#d8576b\"],[0.6666666666666666,\"#ed7953\"],[0.7777777777777778,\"#fb9f3a\"],[0.8888888888888888,\"#fdca26\"],[1.0,\"#f0f921\"]]}],\"contourcarpet\":[{\"type\":\"contourcarpet\",\"colorbar\":{\"outlinewidth\":0,\"ticks\":\"\"}}],\"contour\":[{\"type\":\"contour\",\"colorbar\":{\"outlinewidth\":0,\"ticks\":\"\"},\"colorscale\":[[0.0,\"#0d0887\"],[0.1111111111111111,\"#46039f\"],[0.2222222222222222,\"#7201a8\"],[0.3333333333333333,\"#9c179e\"],[0.4444444444444444,\"#bd3786\"],[0.5555555555555556,\"#d8576b\"],[0.6666666666666666,\"#ed7953\"],[0.7777777777777778,\"#fb9f3a\"],[0.8888888888888888,\"#fdca26\"],[1.0,\"#f0f921\"]]}],\"surface\":[{\"type\":\"surface\",\"colorbar\":{\"outlinewidth\":0,\"ticks\":\"\"},\"colorscale\":[[0.0,\"#0d0887\"],[0.1111111111111111,\"#46039f\"],[0.2222222222222222,\"#7201a8\"],[0.3333333333333333,\"#9c179e\"],[0.4444444444444444,\"#bd3786\"],[0.5555555555555556,\"#d8576b\"],[0.6666666666666666,\"#ed7953\"],[0.7777777777777778,\"#fb9f3a\"],[0.8888888888888888,\"#fdca26\"],[1.0,\"#f0f921\"]]}],\"mesh3d\":[{\"type\":\"mesh3d\",\"colorbar\":{\"outlinewidth\":0,\"ticks\":\"\"}}],\"scatter\":[{\"fillpattern\":{\"fillmode\":\"overlay\",\"size\":10,\"solidity\":0.2},\"type\":\"scatter\"}],\"parcoords\":[{\"type\":\"parcoords\",\"line\":{\"colorbar\":{\"outlinewidth\":0,\"ticks\":\"\"}}}],\"scatterpolargl\":[{\"type\":\"scatterpolargl\",\"marker\":{\"colorbar\":{\"outlinewidth\":0,\"ticks\":\"\"}}}],\"bar\":[{\"error_x\":{\"color\":\"#2a3f5f\"},\"error_y\":{\"color\":\"#2a3f5f\"},\"marker\":{\"line\":{\"color\":\"#E5ECF6\",\"width\":0.5},\"pattern\":{\"fillmode\":\"overlay\",\"size\":10,\"solidity\":0.2}},\"type\":\"bar\"}],\"scattergeo\":[{\"type\":\"scattergeo\",\"marker\":{\"colorbar\":{\"outlinewidth\":0,\"ticks\":\"\"}}}],\"scatterpolar\":[{\"type\":\"scatterpolar\",\"marker\":{\"colorbar\":{\"outlinewidth\":0,\"ticks\":\"\"}}}],\"histogram\":[{\"marker\":{\"pattern\":{\"fillmode\":\"overlay\",\"size\":10,\"solidity\":0.2}},\"type\":\"histogram\"}],\"scattergl\":[{\"type\":\"scattergl\",\"marker\":{\"colorbar\":{\"outlinewidth\":0,\"ticks\":\"\"}}}],\"scatter3d\":[{\"type\":\"scatter3d\",\"line\":{\"colorbar\":{\"outlinewidth\":0,\"ticks\":\"\"}},\"marker\":{\"colorbar\":{\"outlinewidth\":0,\"ticks\":\"\"}}}],\"scattermapbox\":[{\"type\":\"scattermapbox\",\"marker\":{\"colorbar\":{\"outlinewidth\":0,\"ticks\":\"\"}}}],\"scatterternary\":[{\"type\":\"scatterternary\",\"marker\":{\"colorbar\":{\"outlinewidth\":0,\"ticks\":\"\"}}}],\"scattercarpet\":[{\"type\":\"scattercarpet\",\"marker\":{\"colorbar\":{\"outlinewidth\":0,\"ticks\":\"\"}}}],\"carpet\":[{\"aaxis\":{\"endlinecolor\":\"#2a3f5f\",\"gridcolor\":\"white\",\"linecolor\":\"white\",\"minorgridcolor\":\"white\",\"startlinecolor\":\"#2a3f5f\"},\"baxis\":{\"endlinecolor\":\"#2a3f5f\",\"gridcolor\":\"white\",\"linecolor\":\"white\",\"minorgridcolor\":\"white\",\"startlinecolor\":\"#2a3f5f\"},\"type\":\"carpet\"}],\"table\":[{\"cells\":{\"fill\":{\"color\":\"#EBF0F8\"},\"line\":{\"color\":\"white\"}},\"header\":{\"fill\":{\"color\":\"#C8D4E3\"},\"line\":{\"color\":\"white\"}},\"type\":\"table\"}],\"barpolar\":[{\"marker\":{\"line\":{\"color\":\"#E5ECF6\",\"width\":0.5},\"pattern\":{\"fillmode\":\"overlay\",\"size\":10,\"solidity\":0.2}},\"type\":\"barpolar\"}],\"pie\":[{\"automargin\":true,\"type\":\"pie\"}]},\"layout\":{\"autotypenumbers\":\"strict\",\"colorway\":[\"#636efa\",\"#EF553B\",\"#00cc96\",\"#ab63fa\",\"#FFA15A\",\"#19d3f3\",\"#FF6692\",\"#B6E880\",\"#FF97FF\",\"#FECB52\"],\"font\":{\"color\":\"#2a3f5f\"},\"hovermode\":\"closest\",\"hoverlabel\":{\"align\":\"left\"},\"paper_bgcolor\":\"white\",\"plot_bgcolor\":\"#E5ECF6\",\"polar\":{\"bgcolor\":\"#E5ECF6\",\"angularaxis\":{\"gridcolor\":\"white\",\"linecolor\":\"white\",\"ticks\":\"\"},\"radialaxis\":{\"gridcolor\":\"white\",\"linecolor\":\"white\",\"ticks\":\"\"}},\"ternary\":{\"bgcolor\":\"#E5ECF6\",\"aaxis\":{\"gridcolor\":\"white\",\"linecolor\":\"white\",\"ticks\":\"\"},\"baxis\":{\"gridcolor\":\"white\",\"linecolor\":\"white\",\"ticks\":\"\"},\"caxis\":{\"gridcolor\":\"white\",\"linecolor\":\"white\",\"ticks\":\"\"}},\"coloraxis\":{\"colorbar\":{\"outlinewidth\":0,\"ticks\":\"\"}},\"colorscale\":{\"sequential\":[[0.0,\"#0d0887\"],[0.1111111111111111,\"#46039f\"],[0.2222222222222222,\"#7201a8\"],[0.3333333333333333,\"#9c179e\"],[0.4444444444444444,\"#bd3786\"],[0.5555555555555556,\"#d8576b\"],[0.6666666666666666,\"#ed7953\"],[0.7777777777777778,\"#fb9f3a\"],[0.8888888888888888,\"#fdca26\"],[1.0,\"#f0f921\"]],\"sequentialminus\":[[0.0,\"#0d0887\"],[0.1111111111111111,\"#46039f\"],[0.2222222222222222,\"#7201a8\"],[0.3333333333333333,\"#9c179e\"],[0.4444444444444444,\"#bd3786\"],[0.5555555555555556,\"#d8576b\"],[0.6666666666666666,\"#ed7953\"],[0.7777777777777778,\"#fb9f3a\"],[0.8888888888888888,\"#fdca26\"],[1.0,\"#f0f921\"]],\"diverging\":[[0,\"#8e0152\"],[0.1,\"#c51b7d\"],[0.2,\"#de77ae\"],[0.3,\"#f1b6da\"],[0.4,\"#fde0ef\"],[0.5,\"#f7f7f7\"],[0.6,\"#e6f5d0\"],[0.7,\"#b8e186\"],[0.8,\"#7fbc41\"],[0.9,\"#4d9221\"],[1,\"#276419\"]]},\"xaxis\":{\"gridcolor\":\"white\",\"linecolor\":\"white\",\"ticks\":\"\",\"title\":{\"standoff\":15},\"zerolinecolor\":\"white\",\"automargin\":true,\"zerolinewidth\":2},\"yaxis\":{\"gridcolor\":\"white\",\"linecolor\":\"white\",\"ticks\":\"\",\"title\":{\"standoff\":15},\"zerolinecolor\":\"white\",\"automargin\":true,\"zerolinewidth\":2},\"scene\":{\"xaxis\":{\"backgroundcolor\":\"#E5ECF6\",\"gridcolor\":\"white\",\"linecolor\":\"white\",\"showbackground\":true,\"ticks\":\"\",\"zerolinecolor\":\"white\",\"gridwidth\":2},\"yaxis\":{\"backgroundcolor\":\"#E5ECF6\",\"gridcolor\":\"white\",\"linecolor\":\"white\",\"showbackground\":true,\"ticks\":\"\",\"zerolinecolor\":\"white\",\"gridwidth\":2},\"zaxis\":{\"backgroundcolor\":\"#E5ECF6\",\"gridcolor\":\"white\",\"linecolor\":\"white\",\"showbackground\":true,\"ticks\":\"\",\"zerolinecolor\":\"white\",\"gridwidth\":2}},\"shapedefaults\":{\"line\":{\"color\":\"#2a3f5f\"}},\"annotationdefaults\":{\"arrowcolor\":\"#2a3f5f\",\"arrowhead\":0,\"arrowwidth\":1},\"geo\":{\"bgcolor\":\"white\",\"landcolor\":\"#E5ECF6\",\"subunitcolor\":\"white\",\"showland\":true,\"showlakes\":true,\"lakecolor\":\"white\"},\"title\":{\"x\":0.05},\"mapbox\":{\"style\":\"light\"}}},\"xaxis\":{\"anchor\":\"y\",\"domain\":[0.0,1.0]},\"yaxis\":{\"anchor\":\"x\",\"domain\":[0.0,1.0]},\"title\":{\"text\":\"Bar Chart of Offences\"}},                        {\"responsive\": true}                    ).then(function(){\n",
       "                            \n",
       "var gd = document.getElementById('6d1b2425-c0c8-4c4b-b25f-6017d7a1dbc3');\n",
       "var x = new MutationObserver(function (mutations, observer) {{\n",
       "        var display = window.getComputedStyle(gd).display;\n",
       "        if (!display || display === 'none') {{\n",
       "            console.log([gd, 'removed!']);\n",
       "            Plotly.purge(gd);\n",
       "            observer.disconnect();\n",
       "        }}\n",
       "}});\n",
       "\n",
       "// Listen for the removal of the full notebook cells\n",
       "var notebookContainer = gd.closest('#notebook-container');\n",
       "if (notebookContainer) {{\n",
       "    x.observe(notebookContainer, {childList: true});\n",
       "}}\n",
       "\n",
       "// Listen for the clearing of the current output cell\n",
       "var outputEl = gd.closest('.output');\n",
       "if (outputEl) {{\n",
       "    x.observe(outputEl, {childList: true});\n",
       "}}\n",
       "\n",
       "                        })                };                });            </script>        </div>"
      ]
     },
     "metadata": {},
     "output_type": "display_data"
    }
   ],
   "source": [
    "import matplotlib.pyplot as plt\n",
    "import pandas as pd\n",
    "import plotly.graph_objs as go\n",
    "from plotly.subplots import make_subplots\n",
    "\n",
    "df = data\n",
    "\n",
    "labels = ['Murder', 'C.H. not amounting to Murder', 'Dowry Deaths', 'Attempt to Murder', 'Kidnapping & Abduction', 'Rape', 'Assault on Women', 'Total Offences affecting the Human Body']\n",
    "sizes = [df['Offences affecting the Human Body - Murder - (Col. 3)'].sum(), df['Offences affecting the Human Body - C.H. not amounting to Murder - (Col. 4)'].sum(), df['Offences affecting the Human Body - Dowry Deaths - (Col. 5)'].sum(), df['Offences affecting the Human Body - Attempt to Murder - (Col. 6)'].sum(), df['Offences affecting the Human Body - Kidnapping & Abduction - (Col. 7)'].sum(), df['Offences affecting the Human Body - Rape - (Col. 8)'].sum(), df['Offences affecting the Human Body - Assault on Women with Intent to Outrage her Modesty - (Col. 9)'].sum(), df['Total Offences affecting the Human Body - (Col. 10)'].sum()]\n",
    "colors = ['pink', 'orange', 'yellow', 'green', 'blue', 'purple','red','violet']\n",
    "\n",
    "fig = make_subplots(rows=1, cols=1)\n",
    "fig.add_trace(go.Bar(x=labels, y=sizes, marker_color=colors), row=1, col=1)\n",
    "\n",
    "fig.update_layout(title='Bar Chart of Offences')\n",
    "fig.show()\n"
   ]
  },
  {
   "cell_type": "code",
   "execution_count": 12,
   "id": "759a822b",
   "metadata": {
    "_kg_hide-input": true,
    "execution": {
     "iopub.execute_input": "2023-07-11T05:18:24.027424Z",
     "iopub.status.busy": "2023-07-11T05:18:24.026643Z",
     "iopub.status.idle": "2023-07-11T05:18:24.061994Z",
     "shell.execute_reply": "2023-07-11T05:18:24.060798Z"
    },
    "papermill": {
     "duration": 0.052511,
     "end_time": "2023-07-11T05:18:24.064492",
     "exception": false,
     "start_time": "2023-07-11T05:18:24.011981",
     "status": "completed"
    },
    "tags": []
   },
   "outputs": [
    {
     "data": {
      "text/html": [
       "<div>                            <div id=\"932d4c7c-a2dd-4068-b744-29578106c4df\" class=\"plotly-graph-div\" style=\"height:525px; width:100%;\"></div>            <script type=\"text/javascript\">                require([\"plotly\"], function(Plotly) {                    window.PLOTLYENV=window.PLOTLYENV || {};                                    if (document.getElementById(\"932d4c7c-a2dd-4068-b744-29578106c4df\")) {                    Plotly.newPlot(                        \"932d4c7c-a2dd-4068-b744-29578106c4df\",                        [{\"marker\":{\"color\":[\"red\",\"orange\",\"yellow\",\"green\",\"pink\",\"purple\",\"red\",\"orange\",\"yellow\",\"green\",\"pink\"]},\"x\":[\"Riots\",\"Thefts\",\"Extortion\",\"Robbery\",\"Dacoity\",\"Prep. and Assembly for Dacoity\",\"Criminal Breach of Trust\",\"Cheating\",\"Arson\",\"Burglary\",\"Against Property\"],\"y\":[6651,89634,7446,38130,33153,15930,8652,20490,2079,17079,232593],\"type\":\"bar\",\"xaxis\":\"x\",\"yaxis\":\"y\"}],                        {\"template\":{\"data\":{\"histogram2dcontour\":[{\"type\":\"histogram2dcontour\",\"colorbar\":{\"outlinewidth\":0,\"ticks\":\"\"},\"colorscale\":[[0.0,\"#0d0887\"],[0.1111111111111111,\"#46039f\"],[0.2222222222222222,\"#7201a8\"],[0.3333333333333333,\"#9c179e\"],[0.4444444444444444,\"#bd3786\"],[0.5555555555555556,\"#d8576b\"],[0.6666666666666666,\"#ed7953\"],[0.7777777777777778,\"#fb9f3a\"],[0.8888888888888888,\"#fdca26\"],[1.0,\"#f0f921\"]]}],\"choropleth\":[{\"type\":\"choropleth\",\"colorbar\":{\"outlinewidth\":0,\"ticks\":\"\"}}],\"histogram2d\":[{\"type\":\"histogram2d\",\"colorbar\":{\"outlinewidth\":0,\"ticks\":\"\"},\"colorscale\":[[0.0,\"#0d0887\"],[0.1111111111111111,\"#46039f\"],[0.2222222222222222,\"#7201a8\"],[0.3333333333333333,\"#9c179e\"],[0.4444444444444444,\"#bd3786\"],[0.5555555555555556,\"#d8576b\"],[0.6666666666666666,\"#ed7953\"],[0.7777777777777778,\"#fb9f3a\"],[0.8888888888888888,\"#fdca26\"],[1.0,\"#f0f921\"]]}],\"heatmap\":[{\"type\":\"heatmap\",\"colorbar\":{\"outlinewidth\":0,\"ticks\":\"\"},\"colorscale\":[[0.0,\"#0d0887\"],[0.1111111111111111,\"#46039f\"],[0.2222222222222222,\"#7201a8\"],[0.3333333333333333,\"#9c179e\"],[0.4444444444444444,\"#bd3786\"],[0.5555555555555556,\"#d8576b\"],[0.6666666666666666,\"#ed7953\"],[0.7777777777777778,\"#fb9f3a\"],[0.8888888888888888,\"#fdca26\"],[1.0,\"#f0f921\"]]}],\"heatmapgl\":[{\"type\":\"heatmapgl\",\"colorbar\":{\"outlinewidth\":0,\"ticks\":\"\"},\"colorscale\":[[0.0,\"#0d0887\"],[0.1111111111111111,\"#46039f\"],[0.2222222222222222,\"#7201a8\"],[0.3333333333333333,\"#9c179e\"],[0.4444444444444444,\"#bd3786\"],[0.5555555555555556,\"#d8576b\"],[0.6666666666666666,\"#ed7953\"],[0.7777777777777778,\"#fb9f3a\"],[0.8888888888888888,\"#fdca26\"],[1.0,\"#f0f921\"]]}],\"contourcarpet\":[{\"type\":\"contourcarpet\",\"colorbar\":{\"outlinewidth\":0,\"ticks\":\"\"}}],\"contour\":[{\"type\":\"contour\",\"colorbar\":{\"outlinewidth\":0,\"ticks\":\"\"},\"colorscale\":[[0.0,\"#0d0887\"],[0.1111111111111111,\"#46039f\"],[0.2222222222222222,\"#7201a8\"],[0.3333333333333333,\"#9c179e\"],[0.4444444444444444,\"#bd3786\"],[0.5555555555555556,\"#d8576b\"],[0.6666666666666666,\"#ed7953\"],[0.7777777777777778,\"#fb9f3a\"],[0.8888888888888888,\"#fdca26\"],[1.0,\"#f0f921\"]]}],\"surface\":[{\"type\":\"surface\",\"colorbar\":{\"outlinewidth\":0,\"ticks\":\"\"},\"colorscale\":[[0.0,\"#0d0887\"],[0.1111111111111111,\"#46039f\"],[0.2222222222222222,\"#7201a8\"],[0.3333333333333333,\"#9c179e\"],[0.4444444444444444,\"#bd3786\"],[0.5555555555555556,\"#d8576b\"],[0.6666666666666666,\"#ed7953\"],[0.7777777777777778,\"#fb9f3a\"],[0.8888888888888888,\"#fdca26\"],[1.0,\"#f0f921\"]]}],\"mesh3d\":[{\"type\":\"mesh3d\",\"colorbar\":{\"outlinewidth\":0,\"ticks\":\"\"}}],\"scatter\":[{\"fillpattern\":{\"fillmode\":\"overlay\",\"size\":10,\"solidity\":0.2},\"type\":\"scatter\"}],\"parcoords\":[{\"type\":\"parcoords\",\"line\":{\"colorbar\":{\"outlinewidth\":0,\"ticks\":\"\"}}}],\"scatterpolargl\":[{\"type\":\"scatterpolargl\",\"marker\":{\"colorbar\":{\"outlinewidth\":0,\"ticks\":\"\"}}}],\"bar\":[{\"error_x\":{\"color\":\"#2a3f5f\"},\"error_y\":{\"color\":\"#2a3f5f\"},\"marker\":{\"line\":{\"color\":\"#E5ECF6\",\"width\":0.5},\"pattern\":{\"fillmode\":\"overlay\",\"size\":10,\"solidity\":0.2}},\"type\":\"bar\"}],\"scattergeo\":[{\"type\":\"scattergeo\",\"marker\":{\"colorbar\":{\"outlinewidth\":0,\"ticks\":\"\"}}}],\"scatterpolar\":[{\"type\":\"scatterpolar\",\"marker\":{\"colorbar\":{\"outlinewidth\":0,\"ticks\":\"\"}}}],\"histogram\":[{\"marker\":{\"pattern\":{\"fillmode\":\"overlay\",\"size\":10,\"solidity\":0.2}},\"type\":\"histogram\"}],\"scattergl\":[{\"type\":\"scattergl\",\"marker\":{\"colorbar\":{\"outlinewidth\":0,\"ticks\":\"\"}}}],\"scatter3d\":[{\"type\":\"scatter3d\",\"line\":{\"colorbar\":{\"outlinewidth\":0,\"ticks\":\"\"}},\"marker\":{\"colorbar\":{\"outlinewidth\":0,\"ticks\":\"\"}}}],\"scattermapbox\":[{\"type\":\"scattermapbox\",\"marker\":{\"colorbar\":{\"outlinewidth\":0,\"ticks\":\"\"}}}],\"scatterternary\":[{\"type\":\"scatterternary\",\"marker\":{\"colorbar\":{\"outlinewidth\":0,\"ticks\":\"\"}}}],\"scattercarpet\":[{\"type\":\"scattercarpet\",\"marker\":{\"colorbar\":{\"outlinewidth\":0,\"ticks\":\"\"}}}],\"carpet\":[{\"aaxis\":{\"endlinecolor\":\"#2a3f5f\",\"gridcolor\":\"white\",\"linecolor\":\"white\",\"minorgridcolor\":\"white\",\"startlinecolor\":\"#2a3f5f\"},\"baxis\":{\"endlinecolor\":\"#2a3f5f\",\"gridcolor\":\"white\",\"linecolor\":\"white\",\"minorgridcolor\":\"white\",\"startlinecolor\":\"#2a3f5f\"},\"type\":\"carpet\"}],\"table\":[{\"cells\":{\"fill\":{\"color\":\"#EBF0F8\"},\"line\":{\"color\":\"white\"}},\"header\":{\"fill\":{\"color\":\"#C8D4E3\"},\"line\":{\"color\":\"white\"}},\"type\":\"table\"}],\"barpolar\":[{\"marker\":{\"line\":{\"color\":\"#E5ECF6\",\"width\":0.5},\"pattern\":{\"fillmode\":\"overlay\",\"size\":10,\"solidity\":0.2}},\"type\":\"barpolar\"}],\"pie\":[{\"automargin\":true,\"type\":\"pie\"}]},\"layout\":{\"autotypenumbers\":\"strict\",\"colorway\":[\"#636efa\",\"#EF553B\",\"#00cc96\",\"#ab63fa\",\"#FFA15A\",\"#19d3f3\",\"#FF6692\",\"#B6E880\",\"#FF97FF\",\"#FECB52\"],\"font\":{\"color\":\"#2a3f5f\"},\"hovermode\":\"closest\",\"hoverlabel\":{\"align\":\"left\"},\"paper_bgcolor\":\"white\",\"plot_bgcolor\":\"#E5ECF6\",\"polar\":{\"bgcolor\":\"#E5ECF6\",\"angularaxis\":{\"gridcolor\":\"white\",\"linecolor\":\"white\",\"ticks\":\"\"},\"radialaxis\":{\"gridcolor\":\"white\",\"linecolor\":\"white\",\"ticks\":\"\"}},\"ternary\":{\"bgcolor\":\"#E5ECF6\",\"aaxis\":{\"gridcolor\":\"white\",\"linecolor\":\"white\",\"ticks\":\"\"},\"baxis\":{\"gridcolor\":\"white\",\"linecolor\":\"white\",\"ticks\":\"\"},\"caxis\":{\"gridcolor\":\"white\",\"linecolor\":\"white\",\"ticks\":\"\"}},\"coloraxis\":{\"colorbar\":{\"outlinewidth\":0,\"ticks\":\"\"}},\"colorscale\":{\"sequential\":[[0.0,\"#0d0887\"],[0.1111111111111111,\"#46039f\"],[0.2222222222222222,\"#7201a8\"],[0.3333333333333333,\"#9c179e\"],[0.4444444444444444,\"#bd3786\"],[0.5555555555555556,\"#d8576b\"],[0.6666666666666666,\"#ed7953\"],[0.7777777777777778,\"#fb9f3a\"],[0.8888888888888888,\"#fdca26\"],[1.0,\"#f0f921\"]],\"sequentialminus\":[[0.0,\"#0d0887\"],[0.1111111111111111,\"#46039f\"],[0.2222222222222222,\"#7201a8\"],[0.3333333333333333,\"#9c179e\"],[0.4444444444444444,\"#bd3786\"],[0.5555555555555556,\"#d8576b\"],[0.6666666666666666,\"#ed7953\"],[0.7777777777777778,\"#fb9f3a\"],[0.8888888888888888,\"#fdca26\"],[1.0,\"#f0f921\"]],\"diverging\":[[0,\"#8e0152\"],[0.1,\"#c51b7d\"],[0.2,\"#de77ae\"],[0.3,\"#f1b6da\"],[0.4,\"#fde0ef\"],[0.5,\"#f7f7f7\"],[0.6,\"#e6f5d0\"],[0.7,\"#b8e186\"],[0.8,\"#7fbc41\"],[0.9,\"#4d9221\"],[1,\"#276419\"]]},\"xaxis\":{\"gridcolor\":\"white\",\"linecolor\":\"white\",\"ticks\":\"\",\"title\":{\"standoff\":15},\"zerolinecolor\":\"white\",\"automargin\":true,\"zerolinewidth\":2},\"yaxis\":{\"gridcolor\":\"white\",\"linecolor\":\"white\",\"ticks\":\"\",\"title\":{\"standoff\":15},\"zerolinecolor\":\"white\",\"automargin\":true,\"zerolinewidth\":2},\"scene\":{\"xaxis\":{\"backgroundcolor\":\"#E5ECF6\",\"gridcolor\":\"white\",\"linecolor\":\"white\",\"showbackground\":true,\"ticks\":\"\",\"zerolinecolor\":\"white\",\"gridwidth\":2},\"yaxis\":{\"backgroundcolor\":\"#E5ECF6\",\"gridcolor\":\"white\",\"linecolor\":\"white\",\"showbackground\":true,\"ticks\":\"\",\"zerolinecolor\":\"white\",\"gridwidth\":2},\"zaxis\":{\"backgroundcolor\":\"#E5ECF6\",\"gridcolor\":\"white\",\"linecolor\":\"white\",\"showbackground\":true,\"ticks\":\"\",\"zerolinecolor\":\"white\",\"gridwidth\":2}},\"shapedefaults\":{\"line\":{\"color\":\"#2a3f5f\"}},\"annotationdefaults\":{\"arrowcolor\":\"#2a3f5f\",\"arrowhead\":0,\"arrowwidth\":1},\"geo\":{\"bgcolor\":\"white\",\"landcolor\":\"#E5ECF6\",\"subunitcolor\":\"white\",\"showland\":true,\"showlakes\":true,\"lakecolor\":\"white\"},\"title\":{\"x\":0.05},\"mapbox\":{\"style\":\"light\"}}},\"xaxis\":{\"anchor\":\"y\",\"domain\":[0.0,1.0]},\"yaxis\":{\"anchor\":\"x\",\"domain\":[0.0,1.0]},\"title\":{\"text\":\"Bar Chart of Offences\"}},                        {\"responsive\": true}                    ).then(function(){\n",
       "                            \n",
       "var gd = document.getElementById('932d4c7c-a2dd-4068-b744-29578106c4df');\n",
       "var x = new MutationObserver(function (mutations, observer) {{\n",
       "        var display = window.getComputedStyle(gd).display;\n",
       "        if (!display || display === 'none') {{\n",
       "            console.log([gd, 'removed!']);\n",
       "            Plotly.purge(gd);\n",
       "            observer.disconnect();\n",
       "        }}\n",
       "}});\n",
       "\n",
       "// Listen for the removal of the full notebook cells\n",
       "var notebookContainer = gd.closest('#notebook-container');\n",
       "if (notebookContainer) {{\n",
       "    x.observe(notebookContainer, {childList: true});\n",
       "}}\n",
       "\n",
       "// Listen for the clearing of the current output cell\n",
       "var outputEl = gd.closest('.output');\n",
       "if (outputEl) {{\n",
       "    x.observe(outputEl, {childList: true});\n",
       "}}\n",
       "\n",
       "                        })                };                });            </script>        </div>"
      ]
     },
     "metadata": {},
     "output_type": "display_data"
    }
   ],
   "source": [
    "import matplotlib.pyplot as plt\n",
    "import pandas as pd\n",
    "import plotly.graph_objs as go\n",
    "from plotly.subplots import make_subplots\n",
    "\n",
    "df = data\n",
    "\n",
    "labels = ['Riots', 'Thefts', 'Extortion', 'Robbery', 'Dacoity', 'Prep. and Assembly for Dacoity', 'Criminal Breach of Trust', 'Cheating', 'Arson', 'Burglary', 'Against Property']\n",
    "sizes = [df['Offences against Public Tranquility - Riots - (Col. 11)'].sum(), df['Offences against Property - Thefts - (Col. 12)'].sum(), df['Offences against Property - Extortion - (Col. 13)'].sum(), df['Offences against Property - Robbery - (Col. 14'].sum(), df['Offences against Property - Dacoity - (Col. 15)'].sum(), df['Offences against Property - Prep. and Assembly for Dacoity - (Col. 16)'].sum(), df['Offences against Property - Criminal Breach of Trust - (Col. 17)'].sum(), df['Offences against Property - Cheating - (Col. 18)'].sum(), df['Offences against Property - Arson - (Col. 19)'].sum(), df['Offences against Property - Burglary - (Col. 20)'].sum(), df['Total Offences against Property - (Col. 21)'].sum()]\n",
    "colors = ['red', 'orange', 'yellow', 'green', 'pink', 'purple','red', 'orange', 'yellow', 'green','pink']\n",
    "\n",
    "fig = make_subplots(rows=1, cols=1)\n",
    "fig.add_trace(go.Bar(x=labels, y=sizes, marker_color=colors), row=1, col=1)\n",
    "\n",
    "fig.update_layout(title='Bar Chart of Offences')\n",
    "fig.show()\n"
   ]
  },
  {
   "cell_type": "markdown",
   "id": "cb265501",
   "metadata": {
    "papermill": {
     "duration": 0.013221,
     "end_time": "2023-07-11T05:18:24.091159",
     "exception": false,
     "start_time": "2023-07-11T05:18:24.077938",
     "status": "completed"
    },
    "tags": []
   },
   "source": [
    "# <div style=\"background-color:#fff1cc; padding: 20px;\"><center>PIE chart type of crimes</center></div> "
   ]
  },
  {
   "cell_type": "code",
   "execution_count": 13,
   "id": "95e6b490",
   "metadata": {
    "_kg_hide-input": true,
    "execution": {
     "iopub.execute_input": "2023-07-11T05:18:24.119742Z",
     "iopub.status.busy": "2023-07-11T05:18:24.119305Z",
     "iopub.status.idle": "2023-07-11T05:18:24.145440Z",
     "shell.execute_reply": "2023-07-11T05:18:24.144331Z"
    },
    "papermill": {
     "duration": 0.043253,
     "end_time": "2023-07-11T05:18:24.147759",
     "exception": false,
     "start_time": "2023-07-11T05:18:24.104506",
     "status": "completed"
    },
    "tags": []
   },
   "outputs": [
    {
     "data": {
      "text/html": [
       "<div>                            <div id=\"d97dd6b7-bf4d-4dd4-9171-a8e7aac923de\" class=\"plotly-graph-div\" style=\"height:525px; width:100%;\"></div>            <script type=\"text/javascript\">                require([\"plotly\"], function(Plotly) {                    window.PLOTLYENV=window.PLOTLYENV || {};                                    if (document.getElementById(\"d97dd6b7-bf4d-4dd4-9171-a8e7aac923de\")) {                    Plotly.newPlot(                        \"d97dd6b7-bf4d-4dd4-9171-a8e7aac923de\",                        [{\"labels\":[\"Affecting the Human Body\",\"Property\",\"Documents & Property\",\"Against Women\"],\"values\":[558342,232593,4233,13875],\"type\":\"pie\",\"textfont\":{\"size\":10},\"marker\":{\"colors\":[\"pink\",\"orange\",\"yellow\",\"green\",\"purple\"]},\"hoverinfo\":\"label+percent\",\"textinfo\":\"value\"}],                        {\"template\":{\"data\":{\"histogram2dcontour\":[{\"type\":\"histogram2dcontour\",\"colorbar\":{\"outlinewidth\":0,\"ticks\":\"\"},\"colorscale\":[[0.0,\"#0d0887\"],[0.1111111111111111,\"#46039f\"],[0.2222222222222222,\"#7201a8\"],[0.3333333333333333,\"#9c179e\"],[0.4444444444444444,\"#bd3786\"],[0.5555555555555556,\"#d8576b\"],[0.6666666666666666,\"#ed7953\"],[0.7777777777777778,\"#fb9f3a\"],[0.8888888888888888,\"#fdca26\"],[1.0,\"#f0f921\"]]}],\"choropleth\":[{\"type\":\"choropleth\",\"colorbar\":{\"outlinewidth\":0,\"ticks\":\"\"}}],\"histogram2d\":[{\"type\":\"histogram2d\",\"colorbar\":{\"outlinewidth\":0,\"ticks\":\"\"},\"colorscale\":[[0.0,\"#0d0887\"],[0.1111111111111111,\"#46039f\"],[0.2222222222222222,\"#7201a8\"],[0.3333333333333333,\"#9c179e\"],[0.4444444444444444,\"#bd3786\"],[0.5555555555555556,\"#d8576b\"],[0.6666666666666666,\"#ed7953\"],[0.7777777777777778,\"#fb9f3a\"],[0.8888888888888888,\"#fdca26\"],[1.0,\"#f0f921\"]]}],\"heatmap\":[{\"type\":\"heatmap\",\"colorbar\":{\"outlinewidth\":0,\"ticks\":\"\"},\"colorscale\":[[0.0,\"#0d0887\"],[0.1111111111111111,\"#46039f\"],[0.2222222222222222,\"#7201a8\"],[0.3333333333333333,\"#9c179e\"],[0.4444444444444444,\"#bd3786\"],[0.5555555555555556,\"#d8576b\"],[0.6666666666666666,\"#ed7953\"],[0.7777777777777778,\"#fb9f3a\"],[0.8888888888888888,\"#fdca26\"],[1.0,\"#f0f921\"]]}],\"heatmapgl\":[{\"type\":\"heatmapgl\",\"colorbar\":{\"outlinewidth\":0,\"ticks\":\"\"},\"colorscale\":[[0.0,\"#0d0887\"],[0.1111111111111111,\"#46039f\"],[0.2222222222222222,\"#7201a8\"],[0.3333333333333333,\"#9c179e\"],[0.4444444444444444,\"#bd3786\"],[0.5555555555555556,\"#d8576b\"],[0.6666666666666666,\"#ed7953\"],[0.7777777777777778,\"#fb9f3a\"],[0.8888888888888888,\"#fdca26\"],[1.0,\"#f0f921\"]]}],\"contourcarpet\":[{\"type\":\"contourcarpet\",\"colorbar\":{\"outlinewidth\":0,\"ticks\":\"\"}}],\"contour\":[{\"type\":\"contour\",\"colorbar\":{\"outlinewidth\":0,\"ticks\":\"\"},\"colorscale\":[[0.0,\"#0d0887\"],[0.1111111111111111,\"#46039f\"],[0.2222222222222222,\"#7201a8\"],[0.3333333333333333,\"#9c179e\"],[0.4444444444444444,\"#bd3786\"],[0.5555555555555556,\"#d8576b\"],[0.6666666666666666,\"#ed7953\"],[0.7777777777777778,\"#fb9f3a\"],[0.8888888888888888,\"#fdca26\"],[1.0,\"#f0f921\"]]}],\"surface\":[{\"type\":\"surface\",\"colorbar\":{\"outlinewidth\":0,\"ticks\":\"\"},\"colorscale\":[[0.0,\"#0d0887\"],[0.1111111111111111,\"#46039f\"],[0.2222222222222222,\"#7201a8\"],[0.3333333333333333,\"#9c179e\"],[0.4444444444444444,\"#bd3786\"],[0.5555555555555556,\"#d8576b\"],[0.6666666666666666,\"#ed7953\"],[0.7777777777777778,\"#fb9f3a\"],[0.8888888888888888,\"#fdca26\"],[1.0,\"#f0f921\"]]}],\"mesh3d\":[{\"type\":\"mesh3d\",\"colorbar\":{\"outlinewidth\":0,\"ticks\":\"\"}}],\"scatter\":[{\"fillpattern\":{\"fillmode\":\"overlay\",\"size\":10,\"solidity\":0.2},\"type\":\"scatter\"}],\"parcoords\":[{\"type\":\"parcoords\",\"line\":{\"colorbar\":{\"outlinewidth\":0,\"ticks\":\"\"}}}],\"scatterpolargl\":[{\"type\":\"scatterpolargl\",\"marker\":{\"colorbar\":{\"outlinewidth\":0,\"ticks\":\"\"}}}],\"bar\":[{\"error_x\":{\"color\":\"#2a3f5f\"},\"error_y\":{\"color\":\"#2a3f5f\"},\"marker\":{\"line\":{\"color\":\"#E5ECF6\",\"width\":0.5},\"pattern\":{\"fillmode\":\"overlay\",\"size\":10,\"solidity\":0.2}},\"type\":\"bar\"}],\"scattergeo\":[{\"type\":\"scattergeo\",\"marker\":{\"colorbar\":{\"outlinewidth\":0,\"ticks\":\"\"}}}],\"scatterpolar\":[{\"type\":\"scatterpolar\",\"marker\":{\"colorbar\":{\"outlinewidth\":0,\"ticks\":\"\"}}}],\"histogram\":[{\"marker\":{\"pattern\":{\"fillmode\":\"overlay\",\"size\":10,\"solidity\":0.2}},\"type\":\"histogram\"}],\"scattergl\":[{\"type\":\"scattergl\",\"marker\":{\"colorbar\":{\"outlinewidth\":0,\"ticks\":\"\"}}}],\"scatter3d\":[{\"type\":\"scatter3d\",\"line\":{\"colorbar\":{\"outlinewidth\":0,\"ticks\":\"\"}},\"marker\":{\"colorbar\":{\"outlinewidth\":0,\"ticks\":\"\"}}}],\"scattermapbox\":[{\"type\":\"scattermapbox\",\"marker\":{\"colorbar\":{\"outlinewidth\":0,\"ticks\":\"\"}}}],\"scatterternary\":[{\"type\":\"scatterternary\",\"marker\":{\"colorbar\":{\"outlinewidth\":0,\"ticks\":\"\"}}}],\"scattercarpet\":[{\"type\":\"scattercarpet\",\"marker\":{\"colorbar\":{\"outlinewidth\":0,\"ticks\":\"\"}}}],\"carpet\":[{\"aaxis\":{\"endlinecolor\":\"#2a3f5f\",\"gridcolor\":\"white\",\"linecolor\":\"white\",\"minorgridcolor\":\"white\",\"startlinecolor\":\"#2a3f5f\"},\"baxis\":{\"endlinecolor\":\"#2a3f5f\",\"gridcolor\":\"white\",\"linecolor\":\"white\",\"minorgridcolor\":\"white\",\"startlinecolor\":\"#2a3f5f\"},\"type\":\"carpet\"}],\"table\":[{\"cells\":{\"fill\":{\"color\":\"#EBF0F8\"},\"line\":{\"color\":\"white\"}},\"header\":{\"fill\":{\"color\":\"#C8D4E3\"},\"line\":{\"color\":\"white\"}},\"type\":\"table\"}],\"barpolar\":[{\"marker\":{\"line\":{\"color\":\"#E5ECF6\",\"width\":0.5},\"pattern\":{\"fillmode\":\"overlay\",\"size\":10,\"solidity\":0.2}},\"type\":\"barpolar\"}],\"pie\":[{\"automargin\":true,\"type\":\"pie\"}]},\"layout\":{\"autotypenumbers\":\"strict\",\"colorway\":[\"#636efa\",\"#EF553B\",\"#00cc96\",\"#ab63fa\",\"#FFA15A\",\"#19d3f3\",\"#FF6692\",\"#B6E880\",\"#FF97FF\",\"#FECB52\"],\"font\":{\"color\":\"#2a3f5f\"},\"hovermode\":\"closest\",\"hoverlabel\":{\"align\":\"left\"},\"paper_bgcolor\":\"white\",\"plot_bgcolor\":\"#E5ECF6\",\"polar\":{\"bgcolor\":\"#E5ECF6\",\"angularaxis\":{\"gridcolor\":\"white\",\"linecolor\":\"white\",\"ticks\":\"\"},\"radialaxis\":{\"gridcolor\":\"white\",\"linecolor\":\"white\",\"ticks\":\"\"}},\"ternary\":{\"bgcolor\":\"#E5ECF6\",\"aaxis\":{\"gridcolor\":\"white\",\"linecolor\":\"white\",\"ticks\":\"\"},\"baxis\":{\"gridcolor\":\"white\",\"linecolor\":\"white\",\"ticks\":\"\"},\"caxis\":{\"gridcolor\":\"white\",\"linecolor\":\"white\",\"ticks\":\"\"}},\"coloraxis\":{\"colorbar\":{\"outlinewidth\":0,\"ticks\":\"\"}},\"colorscale\":{\"sequential\":[[0.0,\"#0d0887\"],[0.1111111111111111,\"#46039f\"],[0.2222222222222222,\"#7201a8\"],[0.3333333333333333,\"#9c179e\"],[0.4444444444444444,\"#bd3786\"],[0.5555555555555556,\"#d8576b\"],[0.6666666666666666,\"#ed7953\"],[0.7777777777777778,\"#fb9f3a\"],[0.8888888888888888,\"#fdca26\"],[1.0,\"#f0f921\"]],\"sequentialminus\":[[0.0,\"#0d0887\"],[0.1111111111111111,\"#46039f\"],[0.2222222222222222,\"#7201a8\"],[0.3333333333333333,\"#9c179e\"],[0.4444444444444444,\"#bd3786\"],[0.5555555555555556,\"#d8576b\"],[0.6666666666666666,\"#ed7953\"],[0.7777777777777778,\"#fb9f3a\"],[0.8888888888888888,\"#fdca26\"],[1.0,\"#f0f921\"]],\"diverging\":[[0,\"#8e0152\"],[0.1,\"#c51b7d\"],[0.2,\"#de77ae\"],[0.3,\"#f1b6da\"],[0.4,\"#fde0ef\"],[0.5,\"#f7f7f7\"],[0.6,\"#e6f5d0\"],[0.7,\"#b8e186\"],[0.8,\"#7fbc41\"],[0.9,\"#4d9221\"],[1,\"#276419\"]]},\"xaxis\":{\"gridcolor\":\"white\",\"linecolor\":\"white\",\"ticks\":\"\",\"title\":{\"standoff\":15},\"zerolinecolor\":\"white\",\"automargin\":true,\"zerolinewidth\":2},\"yaxis\":{\"gridcolor\":\"white\",\"linecolor\":\"white\",\"ticks\":\"\",\"title\":{\"standoff\":15},\"zerolinecolor\":\"white\",\"automargin\":true,\"zerolinewidth\":2},\"scene\":{\"xaxis\":{\"backgroundcolor\":\"#E5ECF6\",\"gridcolor\":\"white\",\"linecolor\":\"white\",\"showbackground\":true,\"ticks\":\"\",\"zerolinecolor\":\"white\",\"gridwidth\":2},\"yaxis\":{\"backgroundcolor\":\"#E5ECF6\",\"gridcolor\":\"white\",\"linecolor\":\"white\",\"showbackground\":true,\"ticks\":\"\",\"zerolinecolor\":\"white\",\"gridwidth\":2},\"zaxis\":{\"backgroundcolor\":\"#E5ECF6\",\"gridcolor\":\"white\",\"linecolor\":\"white\",\"showbackground\":true,\"ticks\":\"\",\"zerolinecolor\":\"white\",\"gridwidth\":2}},\"shapedefaults\":{\"line\":{\"color\":\"#2a3f5f\"}},\"annotationdefaults\":{\"arrowcolor\":\"#2a3f5f\",\"arrowhead\":0,\"arrowwidth\":1},\"geo\":{\"bgcolor\":\"white\",\"landcolor\":\"#E5ECF6\",\"subunitcolor\":\"white\",\"showland\":true,\"showlakes\":true,\"lakecolor\":\"white\"},\"title\":{\"x\":0.05},\"mapbox\":{\"style\":\"light\"}}},\"title\":{\"text\":\"Crime Type\"}},                        {\"responsive\": true}                    ).then(function(){\n",
       "                            \n",
       "var gd = document.getElementById('d97dd6b7-bf4d-4dd4-9171-a8e7aac923de');\n",
       "var x = new MutationObserver(function (mutations, observer) {{\n",
       "        var display = window.getComputedStyle(gd).display;\n",
       "        if (!display || display === 'none') {{\n",
       "            console.log([gd, 'removed!']);\n",
       "            Plotly.purge(gd);\n",
       "            observer.disconnect();\n",
       "        }}\n",
       "}});\n",
       "\n",
       "// Listen for the removal of the full notebook cells\n",
       "var notebookContainer = gd.closest('#notebook-container');\n",
       "if (notebookContainer) {{\n",
       "    x.observe(notebookContainer, {childList: true});\n",
       "}}\n",
       "\n",
       "// Listen for the clearing of the current output cell\n",
       "var outputEl = gd.closest('.output');\n",
       "if (outputEl) {{\n",
       "    x.observe(outputEl, {childList: true});\n",
       "}}\n",
       "\n",
       "                        })                };                });            </script>        </div>"
      ]
     },
     "metadata": {},
     "output_type": "display_data"
    }
   ],
   "source": [
    "import matplotlib.pyplot as plt\n",
    "import pandas as pd\n",
    "import plotly.graph_objs as go\n",
    "\n",
    "df = data\n",
    "\n",
    "labels = ['Affecting the Human Body', 'Property','Documents & Property','Against Women']\n",
    "sizes = [df['Total Offences affecting the Human Body - (Col. 10)'].sum(), df['Total Offences against Property - (Col. 21)'].sum(), df['Offences relating to Documents & Property Marks - Counterfeiting - (Col. 22)'].sum(), df['Total Other Crime Against Women - Col (23) + Col (24) - (Col. 25)'].sum()]\n",
    "colors = ['pink', 'orange', 'yellow', 'green', 'purple']\n",
    "\n",
    "fig = go.Figure(data=[go.Pie(labels=labels, values=sizes)])\n",
    "fig.update_traces(hoverinfo='label+percent', textinfo='value', textfont_size=10,\n",
    "                  marker=dict(colors=colors))\n",
    "fig.update_layout(title='Crime Type')\n",
    "fig.show()\n"
   ]
  },
  {
   "cell_type": "markdown",
   "id": "f6287afd",
   "metadata": {
    "papermill": {
     "duration": 0.013332,
     "end_time": "2023-07-11T05:18:24.175141",
     "exception": false,
     "start_time": "2023-07-11T05:18:24.161809",
     "status": "completed"
    },
    "tags": []
   },
   "source": [
    "# <div style=\"background-color:#fff1cc; padding: 40px;\"><center>Using SweetViz for generating Auto EDA Document Report for the dataset</center></div> "
   ]
  },
  {
   "cell_type": "code",
   "execution_count": 14,
   "id": "814e786f",
   "metadata": {
    "execution": {
     "iopub.execute_input": "2023-07-11T05:18:24.204818Z",
     "iopub.status.busy": "2023-07-11T05:18:24.203850Z",
     "iopub.status.idle": "2023-07-11T05:18:38.298287Z",
     "shell.execute_reply": "2023-07-11T05:18:38.297010Z"
    },
    "papermill": {
     "duration": 14.112245,
     "end_time": "2023-07-11T05:18:38.300970",
     "exception": false,
     "start_time": "2023-07-11T05:18:24.188725",
     "status": "completed"
    },
    "scrolled": true,
    "tags": []
   },
   "outputs": [
    {
     "name": "stdout",
     "output_type": "stream",
     "text": [
      "Collecting sweetviz\r\n",
      "  Downloading sweetviz-2.1.4-py3-none-any.whl (15.1 MB)\r\n",
      "\u001b[2K     \u001b[90m━━━━━━━━━━━━━━━━━━━━━━━━━━━━━━━━━━━━━━━━\u001b[0m \u001b[32m15.1/15.1 MB\u001b[0m \u001b[31m58.6 MB/s\u001b[0m eta \u001b[36m0:00:00\u001b[0m\r\n",
      "\u001b[?25hRequirement already satisfied: pandas!=1.0.0,!=1.0.1,!=1.0.2,>=0.25.3 in /opt/conda/lib/python3.10/site-packages (from sweetviz) (1.5.3)\r\n",
      "Requirement already satisfied: numpy>=1.16.0 in /opt/conda/lib/python3.10/site-packages (from sweetviz) (1.23.5)\r\n",
      "Requirement already satisfied: matplotlib>=3.1.3 in /opt/conda/lib/python3.10/site-packages (from sweetviz) (3.6.3)\r\n",
      "Requirement already satisfied: tqdm>=4.43.0 in /opt/conda/lib/python3.10/site-packages (from sweetviz) (4.64.1)\r\n",
      "Requirement already satisfied: scipy>=1.3.2 in /opt/conda/lib/python3.10/site-packages (from sweetviz) (1.10.1)\r\n",
      "Requirement already satisfied: jinja2>=2.11.1 in /opt/conda/lib/python3.10/site-packages (from sweetviz) (3.1.2)\r\n",
      "Requirement already satisfied: importlib-resources>=1.2.0 in /opt/conda/lib/python3.10/site-packages (from sweetviz) (5.12.0)\r\n",
      "Requirement already satisfied: MarkupSafe>=2.0 in /opt/conda/lib/python3.10/site-packages (from jinja2>=2.11.1->sweetviz) (2.1.2)\r\n",
      "Requirement already satisfied: contourpy>=1.0.1 in /opt/conda/lib/python3.10/site-packages (from matplotlib>=3.1.3->sweetviz) (1.0.7)\r\n",
      "Requirement already satisfied: cycler>=0.10 in /opt/conda/lib/python3.10/site-packages (from matplotlib>=3.1.3->sweetviz) (0.11.0)\r\n",
      "Requirement already satisfied: fonttools>=4.22.0 in /opt/conda/lib/python3.10/site-packages (from matplotlib>=3.1.3->sweetviz) (4.39.3)\r\n",
      "Requirement already satisfied: kiwisolver>=1.0.1 in /opt/conda/lib/python3.10/site-packages (from matplotlib>=3.1.3->sweetviz) (1.4.4)\r\n",
      "Requirement already satisfied: packaging>=20.0 in /opt/conda/lib/python3.10/site-packages (from matplotlib>=3.1.3->sweetviz) (21.3)\r\n",
      "Requirement already satisfied: pillow>=6.2.0 in /opt/conda/lib/python3.10/site-packages (from matplotlib>=3.1.3->sweetviz) (9.5.0)\r\n",
      "Requirement already satisfied: pyparsing>=2.2.1 in /opt/conda/lib/python3.10/site-packages (from matplotlib>=3.1.3->sweetviz) (3.0.9)\r\n",
      "Requirement already satisfied: python-dateutil>=2.7 in /opt/conda/lib/python3.10/site-packages (from matplotlib>=3.1.3->sweetviz) (2.8.2)\r\n",
      "Requirement already satisfied: pytz>=2020.1 in /opt/conda/lib/python3.10/site-packages (from pandas!=1.0.0,!=1.0.1,!=1.0.2,>=0.25.3->sweetviz) (2023.3)\r\n",
      "Requirement already satisfied: six>=1.5 in /opt/conda/lib/python3.10/site-packages (from python-dateutil>=2.7->matplotlib>=3.1.3->sweetviz) (1.16.0)\r\n",
      "Installing collected packages: sweetviz\r\n",
      "Successfully installed sweetviz-2.1.4\r\n",
      "\u001b[33mWARNING: Running pip as the 'root' user can result in broken permissions and conflicting behaviour with the system package manager. It is recommended to use a virtual environment instead: https://pip.pypa.io/warnings/venv\u001b[0m\u001b[33m\r\n",
      "\u001b[0m"
     ]
    }
   ],
   "source": [
    "!pip install sweetviz"
   ]
  },
  {
   "cell_type": "code",
   "execution_count": 15,
   "id": "c40aee07",
   "metadata": {
    "execution": {
     "iopub.execute_input": "2023-07-11T05:18:38.333587Z",
     "iopub.status.busy": "2023-07-11T05:18:38.333084Z",
     "iopub.status.idle": "2023-07-11T05:20:17.221784Z",
     "shell.execute_reply": "2023-07-11T05:20:17.220681Z"
    },
    "papermill": {
     "duration": 98.92261,
     "end_time": "2023-07-11T05:20:17.239026",
     "exception": false,
     "start_time": "2023-07-11T05:18:38.316416",
     "status": "completed"
    },
    "tags": []
   },
   "outputs": [
    {
     "data": {
      "application/vnd.jupyter.widget-view+json": {
       "model_id": "acb12cf63bd6447d93bbd24c8f23e994",
       "version_major": 2,
       "version_minor": 0
      },
      "text/plain": [
       "                                             |          | [  0%]   00:00 -> (? left)"
      ]
     },
     "metadata": {},
     "output_type": "display_data"
    },
    {
     "name": "stdout",
     "output_type": "stream",
     "text": [
      "Download Html file from output and Run in your Browser\n"
     ]
    }
   ],
   "source": [
    "import sweetviz as sv\n",
    "import warnings\n",
    "\n",
    "# Ignore all warnings\n",
    "warnings.filterwarnings('ignore')\n",
    "\n",
    "# Load data\n",
    "df = data\n",
    "# Analyze data\n",
    "my_report = sv.analyze(df)\n",
    "print(\"Download Html file from output and Run in your Browser\")"
   ]
  },
  {
   "cell_type": "code",
   "execution_count": 16,
   "id": "7bdd73a9",
   "metadata": {
    "execution": {
     "iopub.execute_input": "2023-07-11T05:20:17.271869Z",
     "iopub.status.busy": "2023-07-11T05:20:17.271440Z",
     "iopub.status.idle": "2023-07-11T05:20:17.781572Z",
     "shell.execute_reply": "2023-07-11T05:20:17.780433Z"
    },
    "papermill": {
     "duration": 0.529763,
     "end_time": "2023-07-11T05:20:17.784059",
     "exception": false,
     "start_time": "2023-07-11T05:20:17.254296",
     "status": "completed"
    },
    "tags": []
   },
   "outputs": [
    {
     "name": "stdout",
     "output_type": "stream",
     "text": [
      "Report /kaggle/working/SWEETVIZ_REPORT.html was generated! NOTEBOOK/COLAB USERS: the web browser MAY not pop up, regardless, the report IS saved in your notebook/colab files.\n"
     ]
    }
   ],
   "source": [
    "my_report.show_html(filepath='/kaggle/working/SWEETVIZ_REPORT.html', open_browser=True)"
   ]
  },
  {
   "cell_type": "code",
   "execution_count": 17,
   "id": "253a7644",
   "metadata": {
    "execution": {
     "iopub.execute_input": "2023-07-11T05:20:17.817564Z",
     "iopub.status.busy": "2023-07-11T05:20:17.817108Z",
     "iopub.status.idle": "2023-07-11T05:20:17.825161Z",
     "shell.execute_reply": "2023-07-11T05:20:17.824060Z"
    },
    "papermill": {
     "duration": 0.027722,
     "end_time": "2023-07-11T05:20:17.827764",
     "exception": false,
     "start_time": "2023-07-11T05:20:17.800042",
     "status": "completed"
    },
    "tags": []
   },
   "outputs": [
    {
     "data": {
      "text/html": [
       "<iframe src=\"SWEETVIZ_REPORT.html\" width=1400 height=800></iframe>"
      ],
      "text/plain": [
       "<IPython.core.display.HTML object>"
      ]
     },
     "execution_count": 17,
     "metadata": {},
     "output_type": "execute_result"
    }
   ],
   "source": [
    "from IPython.display import HTML\n",
    "HTML('<iframe src=\"SWEETVIZ_REPORT.html\" width=1400 height=800></iframe>')\n"
   ]
  },
  {
   "cell_type": "markdown",
   "id": "5d654054",
   "metadata": {
    "papermill": {
     "duration": 0.015885,
     "end_time": "2023-07-11T05:20:17.859438",
     "exception": false,
     "start_time": "2023-07-11T05:20:17.843553",
     "status": "completed"
    },
    "tags": []
   },
   "source": [
    "# <div style=\"background-color:#fda454; padding: 60px;\">I Thank you for viewing my work.If you like it, consider sharing it to others or give feedback to improve the notebook \n",
    "\n",
    " </div>"
   ]
  },
  {
   "cell_type": "code",
   "execution_count": null,
   "id": "e45e5069",
   "metadata": {
    "papermill": {
     "duration": 0.015323,
     "end_time": "2023-07-11T05:20:17.890765",
     "exception": false,
     "start_time": "2023-07-11T05:20:17.875442",
     "status": "completed"
    },
    "tags": []
   },
   "outputs": [],
   "source": []
  }
 ],
 "metadata": {
  "kernelspec": {
   "display_name": "Python 3",
   "language": "python",
   "name": "python3"
  },
  "language_info": {
   "codemirror_mode": {
    "name": "ipython",
    "version": 3
   },
   "file_extension": ".py",
   "mimetype": "text/x-python",
   "name": "python",
   "nbconvert_exporter": "python",
   "pygments_lexer": "ipython3",
   "version": "3.10.10"
  },
  "papermill": {
   "default_parameters": {},
   "duration": 151.023729,
   "end_time": "2023-07-11T05:20:20.528472",
   "environment_variables": {},
   "exception": null,
   "input_path": "__notebook__.ipynb",
   "output_path": "__notebook__.ipynb",
   "parameters": {},
   "start_time": "2023-07-11T05:17:49.504743",
   "version": "2.4.0"
  },
  "widgets": {
   "application/vnd.jupyter.widget-state+json": {
    "state": {
     "053ee99c596446c8bc861658b97961ff": {
      "model_module": "@jupyter-widgets/controls",
      "model_module_version": "1.5.0",
      "model_name": "DescriptionStyleModel",
      "state": {
       "_model_module": "@jupyter-widgets/controls",
       "_model_module_version": "1.5.0",
       "_model_name": "DescriptionStyleModel",
       "_view_count": null,
       "_view_module": "@jupyter-widgets/base",
       "_view_module_version": "1.2.0",
       "_view_name": "StyleView",
       "description_width": ""
      }
     },
     "1a36bf88f5414aae8e3aea03968874c3": {
      "model_module": "@jupyter-widgets/base",
      "model_module_version": "1.2.0",
      "model_name": "LayoutModel",
      "state": {
       "_model_module": "@jupyter-widgets/base",
       "_model_module_version": "1.2.0",
       "_model_name": "LayoutModel",
       "_view_count": null,
       "_view_module": "@jupyter-widgets/base",
       "_view_module_version": "1.2.0",
       "_view_name": "LayoutView",
       "align_content": null,
       "align_items": null,
       "align_self": null,
       "border": null,
       "bottom": null,
       "display": null,
       "flex": null,
       "flex_flow": null,
       "grid_area": null,
       "grid_auto_columns": null,
       "grid_auto_flow": null,
       "grid_auto_rows": null,
       "grid_column": null,
       "grid_gap": null,
       "grid_row": null,
       "grid_template_areas": null,
       "grid_template_columns": null,
       "grid_template_rows": null,
       "height": null,
       "justify_content": null,
       "justify_items": null,
       "left": null,
       "margin": null,
       "max_height": null,
       "max_width": null,
       "min_height": null,
       "min_width": null,
       "object_fit": null,
       "object_position": null,
       "order": null,
       "overflow": null,
       "overflow_x": null,
       "overflow_y": null,
       "padding": null,
       "right": null,
       "top": null,
       "visibility": null,
       "width": null
      }
     },
     "1dbecb9619944acdb92153020d51122d": {
      "model_module": "@jupyter-widgets/controls",
      "model_module_version": "1.5.0",
      "model_name": "DescriptionStyleModel",
      "state": {
       "_model_module": "@jupyter-widgets/controls",
       "_model_module_version": "1.5.0",
       "_model_name": "DescriptionStyleModel",
       "_view_count": null,
       "_view_module": "@jupyter-widgets/base",
       "_view_module_version": "1.2.0",
       "_view_name": "StyleView",
       "description_width": ""
      }
     },
     "37a0b50d3f7943a5bb0d26e239902ab1": {
      "model_module": "@jupyter-widgets/base",
      "model_module_version": "1.2.0",
      "model_name": "LayoutModel",
      "state": {
       "_model_module": "@jupyter-widgets/base",
       "_model_module_version": "1.2.0",
       "_model_name": "LayoutModel",
       "_view_count": null,
       "_view_module": "@jupyter-widgets/base",
       "_view_module_version": "1.2.0",
       "_view_name": "LayoutView",
       "align_content": null,
       "align_items": null,
       "align_self": null,
       "border": null,
       "bottom": null,
       "display": null,
       "flex": "2",
       "flex_flow": null,
       "grid_area": null,
       "grid_auto_columns": null,
       "grid_auto_flow": null,
       "grid_auto_rows": null,
       "grid_column": null,
       "grid_gap": null,
       "grid_row": null,
       "grid_template_areas": null,
       "grid_template_columns": null,
       "grid_template_rows": null,
       "height": null,
       "justify_content": null,
       "justify_items": null,
       "left": null,
       "margin": null,
       "max_height": null,
       "max_width": null,
       "min_height": null,
       "min_width": null,
       "object_fit": null,
       "object_position": null,
       "order": null,
       "overflow": null,
       "overflow_x": null,
       "overflow_y": null,
       "padding": null,
       "right": null,
       "top": null,
       "visibility": null,
       "width": null
      }
     },
     "55c33b4e4f3c47f9879dddcccc58f0fc": {
      "model_module": "@jupyter-widgets/controls",
      "model_module_version": "1.5.0",
      "model_name": "FloatProgressModel",
      "state": {
       "_dom_classes": [],
       "_model_module": "@jupyter-widgets/controls",
       "_model_module_version": "1.5.0",
       "_model_name": "FloatProgressModel",
       "_view_count": null,
       "_view_module": "@jupyter-widgets/controls",
       "_view_module_version": "1.5.0",
       "_view_name": "ProgressView",
       "bar_style": "success",
       "description": "",
       "description_tooltip": null,
       "layout": "IPY_MODEL_37a0b50d3f7943a5bb0d26e239902ab1",
       "max": 1.0,
       "min": 0.0,
       "orientation": "horizontal",
       "style": "IPY_MODEL_9d41fcfb6616491d8b7d404f39ef24ba",
       "value": 1.0
      }
     },
     "6575aecbfeac434399aa875d673c6a04": {
      "model_module": "@jupyter-widgets/base",
      "model_module_version": "1.2.0",
      "model_name": "LayoutModel",
      "state": {
       "_model_module": "@jupyter-widgets/base",
       "_model_module_version": "1.2.0",
       "_model_name": "LayoutModel",
       "_view_count": null,
       "_view_module": "@jupyter-widgets/base",
       "_view_module_version": "1.2.0",
       "_view_name": "LayoutView",
       "align_content": null,
       "align_items": null,
       "align_self": null,
       "border": null,
       "bottom": null,
       "display": "inline-flex",
       "flex": null,
       "flex_flow": "row wrap",
       "grid_area": null,
       "grid_auto_columns": null,
       "grid_auto_flow": null,
       "grid_auto_rows": null,
       "grid_column": null,
       "grid_gap": null,
       "grid_row": null,
       "grid_template_areas": null,
       "grid_template_columns": null,
       "grid_template_rows": null,
       "height": null,
       "justify_content": null,
       "justify_items": null,
       "left": null,
       "margin": null,
       "max_height": null,
       "max_width": null,
       "min_height": null,
       "min_width": null,
       "object_fit": null,
       "object_position": null,
       "order": null,
       "overflow": null,
       "overflow_x": null,
       "overflow_y": null,
       "padding": null,
       "right": null,
       "top": null,
       "visibility": null,
       "width": "100%"
      }
     },
     "9d41fcfb6616491d8b7d404f39ef24ba": {
      "model_module": "@jupyter-widgets/controls",
      "model_module_version": "1.5.0",
      "model_name": "ProgressStyleModel",
      "state": {
       "_model_module": "@jupyter-widgets/controls",
       "_model_module_version": "1.5.0",
       "_model_name": "ProgressStyleModel",
       "_view_count": null,
       "_view_module": "@jupyter-widgets/base",
       "_view_module_version": "1.2.0",
       "_view_name": "StyleView",
       "bar_color": null,
       "description_width": ""
      }
     },
     "a258c63acb0d40d8ae58abb30d86dd12": {
      "model_module": "@jupyter-widgets/controls",
      "model_module_version": "1.5.0",
      "model_name": "HTMLModel",
      "state": {
       "_dom_classes": [],
       "_model_module": "@jupyter-widgets/controls",
       "_model_module_version": "1.5.0",
       "_model_name": "HTMLModel",
       "_view_count": null,
       "_view_module": "@jupyter-widgets/controls",
       "_view_module_version": "1.5.0",
       "_view_name": "HTMLView",
       "description": "",
       "description_tooltip": null,
       "layout": "IPY_MODEL_e8b264fa180d49cfa7d44f3675792a5f",
       "placeholder": "​",
       "style": "IPY_MODEL_1dbecb9619944acdb92153020d51122d",
       "value": " [100%]   00:26 -&gt; (00:00 left)"
      }
     },
     "acb12cf63bd6447d93bbd24c8f23e994": {
      "model_module": "@jupyter-widgets/controls",
      "model_module_version": "1.5.0",
      "model_name": "HBoxModel",
      "state": {
       "_dom_classes": [],
       "_model_module": "@jupyter-widgets/controls",
       "_model_module_version": "1.5.0",
       "_model_name": "HBoxModel",
       "_view_count": null,
       "_view_module": "@jupyter-widgets/controls",
       "_view_module_version": "1.5.0",
       "_view_name": "HBoxView",
       "box_style": "",
       "children": [
        "IPY_MODEL_b0e56ae29118406cb0519000203bb89a",
        "IPY_MODEL_55c33b4e4f3c47f9879dddcccc58f0fc",
        "IPY_MODEL_a258c63acb0d40d8ae58abb30d86dd12"
       ],
       "layout": "IPY_MODEL_6575aecbfeac434399aa875d673c6a04"
      }
     },
     "b0e56ae29118406cb0519000203bb89a": {
      "model_module": "@jupyter-widgets/controls",
      "model_module_version": "1.5.0",
      "model_name": "HTMLModel",
      "state": {
       "_dom_classes": [],
       "_model_module": "@jupyter-widgets/controls",
       "_model_module_version": "1.5.0",
       "_model_name": "HTMLModel",
       "_view_count": null,
       "_view_module": "@jupyter-widgets/controls",
       "_view_module_version": "1.5.0",
       "_view_name": "HTMLView",
       "description": "",
       "description_tooltip": null,
       "layout": "IPY_MODEL_1a36bf88f5414aae8e3aea03968874c3",
       "placeholder": "​",
       "style": "IPY_MODEL_053ee99c596446c8bc861658b97961ff",
       "value": "Done! Use &#x27;show&#x27; commands to display/save.   "
      }
     },
     "e8b264fa180d49cfa7d44f3675792a5f": {
      "model_module": "@jupyter-widgets/base",
      "model_module_version": "1.2.0",
      "model_name": "LayoutModel",
      "state": {
       "_model_module": "@jupyter-widgets/base",
       "_model_module_version": "1.2.0",
       "_model_name": "LayoutModel",
       "_view_count": null,
       "_view_module": "@jupyter-widgets/base",
       "_view_module_version": "1.2.0",
       "_view_name": "LayoutView",
       "align_content": null,
       "align_items": null,
       "align_self": null,
       "border": null,
       "bottom": null,
       "display": null,
       "flex": null,
       "flex_flow": null,
       "grid_area": null,
       "grid_auto_columns": null,
       "grid_auto_flow": null,
       "grid_auto_rows": null,
       "grid_column": null,
       "grid_gap": null,
       "grid_row": null,
       "grid_template_areas": null,
       "grid_template_columns": null,
       "grid_template_rows": null,
       "height": null,
       "justify_content": null,
       "justify_items": null,
       "left": null,
       "margin": null,
       "max_height": null,
       "max_width": null,
       "min_height": null,
       "min_width": null,
       "object_fit": null,
       "object_position": null,
       "order": null,
       "overflow": null,
       "overflow_x": null,
       "overflow_y": null,
       "padding": null,
       "right": null,
       "top": null,
       "visibility": null,
       "width": null
      }
     }
    },
    "version_major": 2,
    "version_minor": 0
   }
  }
 },
 "nbformat": 4,
 "nbformat_minor": 5
}
